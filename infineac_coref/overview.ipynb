{
 "cells": [
  {
   "cell_type": "code",
   "execution_count": 5,
   "metadata": {},
   "outputs": [],
   "source": [
    "import spacy\n",
    "import neuralcoref\n",
    "\n",
    "nlp = spacy.load('en_core_web_sm')\n",
    "neuralcoref.add_to_pipe(nlp)\n",
    "doc1 = nlp(\"Our thoughts are with all those poor people affected. We, as a group, have a very limited exposure to Russia. There, we do have some minor activities on the civil helicopter side, which are suspended in current circumstances. In the bigger picture, there are clearly changing dynamics in defense spending in our key markets, which we are following closely. But it is clearly too early to assess fully the impact we'll have.\")"
   ]
  },
  {
   "cell_type": "code",
   "execution_count": 9,
   "metadata": {},
   "outputs": [
    {
     "data": {
      "text/plain": [
       "PosixPath('/Users/Foal/miniconda3/envs/infineac_coref/lib/python3.7/site-packages/en_core_web_sm/en_core_web_sm-2.3.1')"
      ]
     },
     "execution_count": 9,
     "metadata": {},
     "output_type": "execute_result"
    }
   ],
   "source": [
    "nlp._path"
   ]
  },
  {
   "cell_type": "code",
   "execution_count": 8,
   "metadata": {},
   "outputs": [
    {
     "data": {
      "text/plain": [
       "\"Our thoughts are with all those poor people affected. Our, as a group, have a very limited exposure to Russia. There, Our do have some minor activities on the civil helicopter side, which are suspended in current circumstances. In the bigger picture, there are clearly changing dynamics in defense spending in our key markets, which we are following closely. But it is clearly too early to assess fully the impact Our'll have.\""
      ]
     },
     "execution_count": 8,
     "metadata": {},
     "output_type": "execute_result"
    }
   ],
   "source": [
    "doc1._.coref_resolved"
   ]
  }
 ],
 "metadata": {
  "kernelspec": {
   "display_name": "infineac_coref",
   "language": "python",
   "name": "infineac_coref"
  },
  "language_info": {
   "codemirror_mode": {
    "name": "ipython",
    "version": 3
   },
   "file_extension": ".py",
   "mimetype": "text/x-python",
   "name": "python",
   "nbconvert_exporter": "python",
   "pygments_lexer": "ipython3",
   "version": "3.7.16"
  },
  "orig_nbformat": 4
 },
 "nbformat": 4,
 "nbformat_minor": 2
}
