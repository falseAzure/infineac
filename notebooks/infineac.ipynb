{
 "cells": [
  {
   "cell_type": "code",
   "execution_count": 1,
   "metadata": {},
   "outputs": [
    {
     "name": "stderr",
     "output_type": "stream",
     "text": [
      "/Users/Foal/miniconda3/envs/infineac/lib/python3.10/site-packages/umap/distances.py:1063: NumbaDeprecationWarning: The 'nopython' keyword argument was not supplied to the 'numba.jit' decorator. The implicit default value for this argument is currently False, but it will be changed to True in Numba 0.59.0. See https://numba.readthedocs.io/en/stable/reference/deprecation.html#deprecation-of-object-mode-fall-back-behaviour-when-using-jit for details.\n",
      "  @numba.jit()\n",
      "/Users/Foal/miniconda3/envs/infineac/lib/python3.10/site-packages/umap/distances.py:1071: NumbaDeprecationWarning: The 'nopython' keyword argument was not supplied to the 'numba.jit' decorator. The implicit default value for this argument is currently False, but it will be changed to True in Numba 0.59.0. See https://numba.readthedocs.io/en/stable/reference/deprecation.html#deprecation-of-object-mode-fall-back-behaviour-when-using-jit for details.\n",
      "  @numba.jit()\n",
      "/Users/Foal/miniconda3/envs/infineac/lib/python3.10/site-packages/umap/distances.py:1086: NumbaDeprecationWarning: The 'nopython' keyword argument was not supplied to the 'numba.jit' decorator. The implicit default value for this argument is currently False, but it will be changed to True in Numba 0.59.0. See https://numba.readthedocs.io/en/stable/reference/deprecation.html#deprecation-of-object-mode-fall-back-behaviour-when-using-jit for details.\n",
      "  @numba.jit()\n",
      "/Users/Foal/miniconda3/envs/infineac/lib/python3.10/site-packages/umap/umap_.py:660: NumbaDeprecationWarning: The 'nopython' keyword argument was not supplied to the 'numba.jit' decorator. The implicit default value for this argument is currently False, but it will be changed to True in Numba 0.59.0. See https://numba.readthedocs.io/en/stable/reference/deprecation.html#deprecation-of-object-mode-fall-back-behaviour-when-using-jit for details.\n",
      "  @numba.jit()\n"
     ]
    }
   ],
   "source": [
    "import os\n",
    "import glob\n",
    "from pathlib import Path\n",
    "import polars as pl\n",
    "import re\n",
    "import gzip\n",
    "import sys\n",
    "import random\n",
    "import shutil\n",
    "import numpy as np\n",
    "import pandas as pd\n",
    "import seaborn as sns\n",
    "import matplotlib.pyplot as plt\n",
    "import matplotlib.dates as mdates\n",
    "from lxml import etree, objectify\n",
    "from rapidfuzz import fuzz\n",
    "from spacy import displacy\n",
    "\n",
    "import infineac.file_loader as file_loader\n",
    "import infineac.helper as helper\n",
    "import infineac.process_event as process_event\n",
    "import infineac.topic_extractor as topic_extractor\n",
    "import infineac.process_text as process_text\n",
    "\n",
    "%load_ext autoreload\n",
    "%autoreload 2\n",
    "\n",
    "PATH_DIR = \"../data/transcripts/\"\n",
    "random.seed(111)"
   ]
  },
  {
   "cell_type": "markdown",
   "metadata": {},
   "source": [
    "## Load NLP model"
   ]
  },
  {
   "cell_type": "code",
   "execution_count": 2,
   "metadata": {},
   "outputs": [
    {
     "name": "stderr",
     "output_type": "stream",
     "text": [
      "2023-08-31 09:50:32 INFO: Checking for updates to resources.json in case models have been updated.  Note: this behavior can be turned off with download_method=None or download_method=DownloadMethod.REUSE_RESOURCES\n"
     ]
    },
    {
     "data": {
      "application/vnd.jupyter.widget-view+json": {
       "model_id": "decce37630344b548c9267665d4f87ba",
       "version_major": 2,
       "version_minor": 0
      },
      "text/plain": [
       "Downloading https://raw.githubusercontent.com/stanfordnlp/stanza-resources/main/resources_1.5.0.json:   0%|   …"
      ]
     },
     "metadata": {},
     "output_type": "display_data"
    },
    {
     "name": "stderr",
     "output_type": "stream",
     "text": [
      "2023-08-31 09:50:35 INFO: Loading these models for language: en (English):\n",
      "========================\n",
      "| Processor | Package  |\n",
      "------------------------\n",
      "| tokenize  | combined |\n",
      "| lemma     | combined |\n",
      "========================\n",
      "\n",
      "2023-08-31 09:50:35 WARNING: GPU requested, but is not available!\n",
      "2023-08-31 09:50:35 INFO: Using device: cpu\n",
      "2023-08-31 09:50:35 INFO: Loading: tokenize\n",
      "2023-08-31 09:50:35 INFO: Loading: lemma\n",
      "2023-08-31 09:50:35 INFO: Done loading processors!\n"
     ]
    },
    {
     "data": {
      "text/plain": [
       "<spacy.pipeline.sentencizer.Sentencizer at 0x166a44c80>"
      ]
     },
     "execution_count": 2,
     "metadata": {},
     "output_type": "execute_result"
    }
   ],
   "source": [
    "import spacy_stanza\n",
    "nlp_stanza = spacy_stanza.load_pipeline(\"en\", processors=\"tokenize, lemma\")\n",
    "nlp_stanza.add_pipe('sentencizer')"
   ]
  },
  {
   "attachments": {},
   "cell_type": "markdown",
   "metadata": {},
   "source": [
    "## Load Files"
   ]
  },
  {
   "attachments": {},
   "cell_type": "markdown",
   "metadata": {},
   "source": [
    "Load all xml files from the given directory and return a list of corresponding events."
   ]
  },
  {
   "cell_type": "code",
   "execution_count": 3,
   "metadata": {},
   "outputs": [
    {
     "name": "stderr",
     "output_type": "stream",
     "text": [
      "Files: 100%|██████████| 58613/58613 [02:30<00:00, 389.22it/s]\n"
     ]
    }
   ],
   "source": [
    "# files = [Path(\"../data/transcripts/2022/15203138_T.xml\")]\n",
    "files = list(Path(PATH_DIR).rglob(\"*.xml\"))\n",
    "events = file_loader.load_files_from_xml(files)"
   ]
  },
  {
   "cell_type": "markdown",
   "metadata": {},
   "source": [
    "Check if all positions are valid"
   ]
  },
  {
   "cell_type": "code",
   "execution_count": 4,
   "metadata": {},
   "outputs": [],
   "source": [
    "process_event.test_positions(events)"
   ]
  },
  {
   "cell_type": "markdown",
   "metadata": {},
   "source": [
    "## Filter data"
   ]
  },
  {
   "attachments": {},
   "cell_type": "markdown",
   "metadata": {},
   "source": [
    "Filter out all events that are not in the given time range and do not include the given keywords."
   ]
  },
  {
   "cell_type": "code",
   "execution_count": 5,
   "metadata": {},
   "outputs": [
    {
     "name": "stdout",
     "output_type": "stream",
     "text": [
      "Filtering events\n"
     ]
    },
    {
     "name": "stderr",
     "output_type": "stream",
     "text": [
      "Events: 100%|██████████| 58613/58613 [00:24<00:00, 2438.82it/s]\n"
     ]
    },
    {
     "name": "stdout",
     "output_type": "stream",
     "text": [
      "Filtering events\n"
     ]
    },
    {
     "name": "stderr",
     "output_type": "stream",
     "text": [
      "Events: 100%|██████████| 58613/58613 [04:07<00:00, 236.38it/s]\n"
     ]
    },
    {
     "data": {
      "text/plain": [
       "11865"
      ]
     },
     "execution_count": 5,
     "metadata": {},
     "output_type": "execute_result"
    }
   ],
   "source": [
    "events_filt_all = process_event.filter_events(events, year = 2022, keywords = {\"russia\":1, \"ukraine\":1}, modifier_words=[])\n",
    "events_filt = process_event.filter_events(events, year = 2022, keywords = {\"russia\":1, \"ukraine\":1})\n",
    "len(events_filt)"
   ]
  },
  {
   "cell_type": "code",
   "execution_count": 6,
   "metadata": {},
   "outputs": [],
   "source": [
    "helper.save_data(events_filt, \"events_filt\", compression=\"lz4\")"
   ]
  },
  {
   "cell_type": "markdown",
   "metadata": {},
   "source": [
    "List all events, that are filtered out due to modifier words preceding the keywords."
   ]
  },
  {
   "cell_type": "code",
   "execution_count": 8,
   "metadata": {},
   "outputs": [
    {
     "name": "stdout",
     "output_type": "stream",
     "text": [
      "6\n",
      "Extracting paragraphs from events\n"
     ]
    },
    {
     "name": "stderr",
     "output_type": "stream",
     "text": [
      "Events: 100%|██████████| 6/6 [00:04<00:00,  1.46it/s]\n"
     ]
    },
    {
     "data": {
      "text/plain": [
       "[[[[[' In addition, there will still be significant opportunity for expansion beyond this as these 70-plus countries represent less than 60% of broadband homes globally, excluding Russia and China.']]],\n",
       "  []],\n",
       " [[],\n",
       "  [[[' Now we finally have begun that journey with the Finaro acquisition, and there will be others in order to support what I think is one of the best justifications for international expansion possible, which is the subscription billing sexy tech platform that has opportunities literally in every part of the world, except Russia and China.']]]],\n",
       " [[],\n",
       "  [[['So you see that there is no change on our guidance either for H1, 6% to 8%, excluding Russia, of full year. We confirm the 6% to 8% growth, excluding Russia.']],\n",
       "   [['And the performance of the division was 7% like-for-like, excluding Russia.']]]],\n",
       " [[[['European growth would have been 7% on a year-to-date basis in local currency, excluding Russia.']]],\n",
       "  []],\n",
       " [[[['International revenues were up 11% or 14% excluding Russia. Europe saw 6% growth, excluding Russia, with most markets growing including our largest markets of France, the U.K. and Germany returning to growth.']],\n",
       "   [['Europe returned to growth with net revenues up 6%, excluding Russia, on top of 21% growth in the prior year, driven by our DTC business.']]],\n",
       "  [[[\"I think we said this in the prepared remarks, that's up 6% excluding Russia, sequentially improving versus last quarter, again, driven by the strength of DTC, which was up 16%, excluding Russia.\"]]]],\n",
       " [[[[' The market demand in Europe continued to decline throughout the first quarter and was down 10%, excluding Russia.']]],\n",
       "  []]]"
      ]
     },
     "execution_count": 8,
     "metadata": {},
     "output_type": "execute_result"
    }
   ],
   "source": [
    "events_filtered_filter_words = []\n",
    "ids_filtered_events = []\n",
    "for i, event in enumerate(events_filt):\n",
    "    ids_filtered_events.append(event['id'])\n",
    "for event in events_filt_all:\n",
    "    if event['id'] not in ids_filtered_events:\n",
    "        events_filtered_filter_words.append(event)\n",
    "print(len(events_filtered_filter_words))\n",
    "process_event.extract_passages_from_events(events_filtered_filter_words, keywords=[\"russia\", \"ukraine\"], modifier_words=[], nlp_model=nlp_stanza)"
   ]
  },
  {
   "cell_type": "markdown",
   "metadata": {},
   "source": [
    "## Exploration"
   ]
  },
  {
   "cell_type": "code",
   "execution_count": 9,
   "metadata": {},
   "outputs": [],
   "source": [
    "file = [event['file'] for event in events_filt]\n",
    "id = [event['id'] for event in events_filt]\n",
    "year_upload = [event['year_upload'] for event in events_filt]\n",
    "company = [event['company_name'] for event in events_filt]\n",
    "ticker = [event['company_ticker'] for event in events_filt]\n",
    "ticker_new = [re.sub('\\\\..*', '', t) for t in ticker]\n",
    "dates = [event['date'] for event in events_filt if \"date\" in event.keys()]\n",
    "numeric_values = mdates.date2num(dates)\n",
    "\n",
    "russia_and_sanction = [process_text.get_russia_and_sanction(event['qa_collapsed'] + event['presentation_collapsed']) for event in events_filt]\n",
    "election = [process_text.get_elections(event['qa_collapsed'] + event['presentation_collapsed']) for event in events_filt]\n",
    "russia_count = [str(event['qa_collapsed'] + event['presentation_collapsed']).lower().count('russia') for event in events_filt]\n",
    "sanction_count = [str(event['qa_collapsed'] + event['presentation_collapsed']).lower().count('sanction') for event in events_filt]"
   ]
  },
  {
   "cell_type": "markdown",
   "metadata": {},
   "source": [
    "Create a DataFrame with the following columns:"
   ]
  },
  {
   "cell_type": "code",
   "execution_count": 10,
   "metadata": {},
   "outputs": [],
   "source": [
    "df = pd.DataFrame({'file': file,\n",
    "                   'year_upload': year_upload,\n",
    "                   'company': company,\n",
    "                   'ticker':ticker,\n",
    "                   'ticker_new': ticker_new,\n",
    "                   'date': dates,\n",
    "                   'dates_num' : numeric_values,\n",
    "                   'russia': russia_and_sanction,\n",
    "                   'russia_count': russia_count,\n",
    "                   'sanction_count': sanction_count,\n",
    "                   'election': election})"
   ]
  },
  {
   "cell_type": "markdown",
   "metadata": {},
   "source": [
    "Count the number of occasions where the word \"russia\" (and \"sanction\") appears in the earnings call."
   ]
  },
  {
   "cell_type": "code",
   "execution_count": 11,
   "metadata": {},
   "outputs": [
    {
     "data": {
      "image/png": "[encoded data removed]",
      "text/plain": [
       "<Figure size 640x480 with 1 Axes>"
      ]
     },
     "metadata": {},
     "output_type": "display_data"
    }
   ],
   "source": [
    "sns.histplot(df[df['russia_count']>=1], x='russia_count', hue=\"russia\", bins=50, stat=\"percent\", common_norm=True, multiple=\"stack\")\n",
    "plt.xlabel('Count of corresponding terms in the earnings calls')\n",
    "plt.ylabel('Percent')\n",
    "plt.title('Term count')\n",
    "plt.show()"
   ]
  },
  {
   "cell_type": "markdown",
   "metadata": {},
   "source": [
    "Average mentions of \"russia\" per earnings call."
   ]
  },
  {
   "cell_type": "code",
   "execution_count": 12,
   "metadata": {},
   "outputs": [
    {
     "data": {
      "text/plain": [
       "2.7451327433628316"
      ]
     },
     "execution_count": 12,
     "metadata": {},
     "output_type": "execute_result"
    }
   ],
   "source": [
    "np.array(russia_count).mean()"
   ]
  },
  {
   "cell_type": "markdown",
   "metadata": {},
   "source": [
    "Average mentions of \"russia\" per earnings call if \"russia\" is mentioned at\n",
    "least once."
   ]
  },
  {
   "cell_type": "code",
   "execution_count": 13,
   "metadata": {},
   "outputs": [
    {
     "data": {
      "text/plain": [
       "3.8724289620734753"
      ]
     },
     "execution_count": 13,
     "metadata": {},
     "output_type": "execute_result"
    }
   ],
   "source": [
    "np.array([el for el in russia_count if el > 0]).mean()"
   ]
  },
  {
   "cell_type": "markdown",
   "metadata": {},
   "source": [
    "Average mentions of \"sanction\" per earnings call."
   ]
  },
  {
   "cell_type": "code",
   "execution_count": 14,
   "metadata": {},
   "outputs": [
    {
     "data": {
      "text/plain": [
       "2.4227877385772123"
      ]
     },
     "execution_count": 14,
     "metadata": {},
     "output_type": "execute_result"
    }
   ],
   "source": [
    "np.array([el for el in sanction_count if el > 0]).mean()"
   ]
  },
  {
   "cell_type": "markdown",
   "metadata": {},
   "source": [
    "Event distribution over time highlighting the different categories."
   ]
  },
  {
   "cell_type": "code",
   "execution_count": 15,
   "metadata": {},
   "outputs": [
    {
     "data": {
      "image/png": "[encoded data removed]",
      "text/plain": [
       "<Figure size 669.5x500 with 1 Axes>"
      ]
     },
     "metadata": {},
     "output_type": "display_data"
    }
   ],
   "source": [
    "# plt.hist(numeric_values, bins=50)\n",
    "# sns.histplot(numeric_values, bins=50)\n",
    "sns.displot(df, x=\"dates_num\", hue=\"russia\", bins=50, stat=\"percent\", common_norm=True, multiple=\"stack\")\n",
    "# plt.plot_date(dates, numeric_values, '-o')  # '-o' adds markers on the data points\n",
    "plt.xlabel('Dates')\n",
    "plt.ylabel('Probability')\n",
    "plt.title('Event Distribution')\n",
    "\n",
    "# Add x-axis ticks and labels\n",
    "plt.gca().xaxis.set_major_locator(mdates.AutoDateLocator())\n",
    "plt.gca().xaxis.set_major_formatter(mdates.DateFormatter('%Y-%m-%d'))  # Customize date format as needed\n",
    "\n",
    "plt.gcf().autofmt_xdate()  # Adjusts the date labels rotation for better visibility\n",
    "\n",
    "plt.show()"
   ]
  },
  {
   "cell_type": "markdown",
   "metadata": {},
   "source": [
    "Event proportion over time highlighting the different categories."
   ]
  },
  {
   "cell_type": "code",
   "execution_count": 16,
   "metadata": {},
   "outputs": [
    {
     "data": {
      "image/png": "[encoded data removed]",
      "text/plain": [
       "<Figure size 669.5x500 with 1 Axes>"
      ]
     },
     "metadata": {},
     "output_type": "display_data"
    }
   ],
   "source": [
    "# plt.hist(numeric_values, bins=50)\n",
    "# sns.histplot(numeric_values, bins=50)\n",
    "sns.displot(df, x=\"dates_num\", hue=\"russia\", bins=50, stat=\"proportion\", common_norm=True, multiple=\"fill\")\n",
    "# plt.plot_date(dates, numeric_values, '-o')  # '-o' adds markers on the data points\n",
    "plt.xlabel('Dates')\n",
    "plt.ylabel('Propotion')\n",
    "plt.title('Event Propotion')\n",
    "\n",
    "# Add x-axis ticks and labels\n",
    "plt.gca().xaxis.set_major_locator(mdates.AutoDateLocator())\n",
    "plt.gca().xaxis.set_major_formatter(mdates.DateFormatter('%Y-%m-%d'))  # Customize date format as needed\n",
    "\n",
    "plt.gcf().autofmt_xdate()  # Adjusts the date labels rotation for better visibility\n",
    "\n",
    "plt.show()"
   ]
  },
  {
   "cell_type": "markdown",
   "metadata": {},
   "source": [
    "## Preprocess and extract corpus"
   ]
  },
  {
   "cell_type": "code",
   "execution_count": 4,
   "metadata": {},
   "outputs": [],
   "source": [
    "events_filt = helper.load_data(\"events_filt.lz4\")"
   ]
  },
  {
   "cell_type": "markdown",
   "metadata": {},
   "source": [
    "Create different types of corpora:\n",
    "1. Corpus with a window of 1 sentence and not joining adjacent sentences.\n",
    "2. Corpus with a window of 1 sentence and joining adjacent sentences.\n",
    "3. Corpus with a window of 3 sentences and joining adjacent sentences.\n",
    "4. Corpus with a window of 5 sentences and joining adjacent sentences.\n",
    "5. Corpus with a window that includes the whole paragraph from the keywords on."
   ]
  },
  {
   "cell_type": "code",
   "execution_count": 5,
   "metadata": {},
   "outputs": [
    {
     "name": "stdout",
     "output_type": "stream",
     "text": [
      "Extracting passages from events\n"
     ]
    },
    {
     "name": "stderr",
     "output_type": "stream",
     "text": [
      "Events: 100%|██████████| 11865/11865 [20:36<00:00,  9.59it/s] \n"
     ]
    },
    {
     "name": "stdout",
     "output_type": "stream",
     "text": [
      "Processing corpus with spaCy-pipeline\n"
     ]
    },
    {
     "name": "stderr",
     "output_type": "stream",
     "text": [
      "Documents: 100%|██████████| 45646/45646 [24:10<00:00, 31.47it/s]  \n"
     ]
    },
    {
     "data": {
      "text/plain": [
       "45646"
      ]
     },
     "execution_count": 5,
     "metadata": {},
     "output_type": "execute_result"
    }
   ],
   "source": [
    "corpus_window_0_df = process_event.events_to_corpus(\n",
    "    events=events_filt,\n",
    "    keywords={\"russia\": 1, \"ukraine\": 1},\n",
    "    context_window_sentence=0,\n",
    "    subsequent_paragraphs=0,\n",
    "    join_adjacent_sentences=False,\n",
    "    extract_answers=True,\n",
    "    nlp_model=nlp_stanza,\n",
    "    remove_additional_words=True,\n",
    ")\n",
    "len(corpus_window_0_df)"
   ]
  },
  {
   "cell_type": "code",
   "execution_count": 6,
   "metadata": {},
   "outputs": [
    {
     "name": "stdout",
     "output_type": "stream",
     "text": [
      "Extracting passages from events\n"
     ]
    },
    {
     "name": "stderr",
     "output_type": "stream",
     "text": [
      "Events: 100%|██████████| 11865/11865 [24:24<00:00,  8.10it/s] \n"
     ]
    },
    {
     "name": "stdout",
     "output_type": "stream",
     "text": [
      "Processing corpus with spaCy-pipeline\n"
     ]
    },
    {
     "name": "stderr",
     "output_type": "stream",
     "text": [
      "Documents: 100%|██████████| 40946/40946 [19:54<00:00, 34.28it/s] \n"
     ]
    },
    {
     "data": {
      "text/plain": [
       "40946"
      ]
     },
     "execution_count": 6,
     "metadata": {},
     "output_type": "execute_result"
    }
   ],
   "source": [
    "corpus_window_0_join_df = process_event.events_to_corpus(\n",
    "    events=events_filt,\n",
    "    keywords={\"russia\": 1, \"ukraine\": 1},\n",
    "    context_window_sentence=0,\n",
    "    subsequent_paragraphs=0,\n",
    "    join_adjacent_sentences=True,\n",
    "    extract_answers=True,\n",
    "    nlp_model=nlp_stanza,\n",
    "    remove_additional_words=True,\n",
    ")\n",
    "len(corpus_window_0_join_df)"
   ]
  },
  {
   "cell_type": "code",
   "execution_count": 7,
   "metadata": {},
   "outputs": [
    {
     "name": "stdout",
     "output_type": "stream",
     "text": [
      "Extracting passages from events\n"
     ]
    },
    {
     "name": "stderr",
     "output_type": "stream",
     "text": [
      "Events: 100%|██████████| 11865/11865 [22:48<00:00,  8.67it/s] \n"
     ]
    },
    {
     "name": "stdout",
     "output_type": "stream",
     "text": [
      "Processing corpus with spaCy-pipeline\n"
     ]
    },
    {
     "name": "stderr",
     "output_type": "stream",
     "text": [
      "Documents: 100%|██████████| 38933/38933 [26:35<00:00, 24.40it/s]  \n"
     ]
    },
    {
     "data": {
      "text/plain": [
       "38933"
      ]
     },
     "execution_count": 7,
     "metadata": {},
     "output_type": "execute_result"
    }
   ],
   "source": [
    "corpus_window_3_join_df = process_event.events_to_corpus(\n",
    "    events=events_filt,\n",
    "    keywords={\"russia\": 1, \"ukraine\": 1},\n",
    "    context_window_sentence=[0,3],\n",
    "    subsequent_paragraphs=0,\n",
    "    join_adjacent_sentences=True,\n",
    "    extract_answers=True,\n",
    "    nlp_model=nlp_stanza,\n",
    "    remove_additional_words=True,\n",
    ")\n",
    "len(corpus_window_3_join_df)"
   ]
  },
  {
   "cell_type": "code",
   "execution_count": 8,
   "metadata": {},
   "outputs": [
    {
     "name": "stdout",
     "output_type": "stream",
     "text": [
      "Extracting passages from events\n"
     ]
    },
    {
     "name": "stderr",
     "output_type": "stream",
     "text": [
      "Events: 100%|██████████| 11865/11865 [25:47<00:00,  7.67it/s] \n"
     ]
    },
    {
     "name": "stdout",
     "output_type": "stream",
     "text": [
      "Processing corpus with spaCy-pipeline\n"
     ]
    },
    {
     "name": "stderr",
     "output_type": "stream",
     "text": [
      "Documents: 100%|██████████| 38646/38646 [26:22<00:00, 24.41it/s] \n"
     ]
    },
    {
     "data": {
      "text/plain": [
       "38646"
      ]
     },
     "execution_count": 8,
     "metadata": {},
     "output_type": "execute_result"
    }
   ],
   "source": [
    "corpus_window_5_join_df = process_event.events_to_corpus(\n",
    "    events=events_filt,\n",
    "    keywords={\"russia\": 1, \"ukraine\": 1},\n",
    "    context_window_sentence=[0,5],\n",
    "    subsequent_paragraphs=0,\n",
    "    join_adjacent_sentences=True,\n",
    "    extract_answers=True,\n",
    "    nlp_model=nlp_stanza,\n",
    "    remove_additional_words=True,\n",
    ")\n",
    "len(corpus_window_5_join_df)"
   ]
  },
  {
   "cell_type": "code",
   "execution_count": 9,
   "metadata": {},
   "outputs": [
    {
     "name": "stdout",
     "output_type": "stream",
     "text": [
      "Extracting passages from events\n"
     ]
    },
    {
     "name": "stderr",
     "output_type": "stream",
     "text": [
      "Events: 100%|██████████| 11865/11865 [29:50<00:00,  6.63it/s] \n"
     ]
    },
    {
     "name": "stdout",
     "output_type": "stream",
     "text": [
      "Processing corpus with spaCy-pipeline\n"
     ]
    },
    {
     "name": "stderr",
     "output_type": "stream",
     "text": [
      "Documents: 100%|██████████| 38868/38868 [28:44<00:00, 22.53it/s] \n"
     ]
    },
    {
     "data": {
      "text/plain": [
       "38868"
      ]
     },
     "execution_count": 9,
     "metadata": {},
     "output_type": "execute_result"
    }
   ],
   "source": [
    "corpus_window_whole_join_df = process_event.events_to_corpus(\n",
    "    events=events_filt,\n",
    "    keywords={\"russia\": 1, \"ukraine\": 1},\n",
    "    context_window_sentence=[0,-1],\n",
    "    subsequent_paragraphs=0,\n",
    "    join_adjacent_sentences=True,\n",
    "    extract_answers=True,\n",
    "    nlp_model=nlp_stanza,\n",
    "    remove_additional_words=True,\n",
    ")\n",
    "len(corpus_window_whole_join_df)"
   ]
  },
  {
   "cell_type": "code",
   "execution_count": 10,
   "metadata": {},
   "outputs": [],
   "source": [
    "helper.save_data(corpus_window_0_df, \"corpus_window_0_df\", compression=\"lz4\")\n",
    "helper.save_data(corpus_window_0_join_df, \"corpus_window_0_join_df\", compression=\"lz4\")\n",
    "helper.save_data(corpus_window_3_join_df, \"corpus_window_3_join_df\", compression=\"lz4\")\n",
    "helper.save_data(corpus_window_5_join_df, \"corpus_window_5_join_df\", compression=\"lz4\")\n",
    "helper.save_data(corpus_window_whole_join_df, \"corpus_window_whole_join_df\", compression=\"lz4\")"
   ]
  },
  {
   "cell_type": "code",
   "execution_count": null,
   "metadata": {},
   "outputs": [],
   "source": [
    "corpus_window_0_df = helper.load_data(\"corpus_window_0_df.lz4\")\n",
    "corpus_window_0_join_df = helper.load_data(\"corpus_window_0_join_df.lz4\")\n",
    "corpus_window_3_join_df = helper.load_data(\"corpus_window_3_join_df.lz4\")\n",
    "corpus_window_5_join_df = helper.load_data(\"corpus_window_5_join_df.lz4\")\n",
    "corpus_window_whole_join_df = helper.load_data(\"corpus_window_whole_join_df.lz4\")"
   ]
  },
  {
   "cell_type": "code",
   "execution_count": 31,
   "metadata": {},
   "outputs": [
    {
     "data": {
      "text/plain": [
       "4893"
      ]
     },
     "execution_count": 31,
     "metadata": {},
     "output_type": "execute_result"
    }
   ],
   "source": [
    "lengths = [len(doc) for doc in corpus_window_0_df['processed_text'].to_list()]\n",
    "np.argmax(np.array(lengths))"
   ]
  },
  {
   "cell_type": "markdown",
   "metadata": {},
   "source": [
    "### Analyse corpus"
   ]
  },
  {
   "cell_type": "code",
   "execution_count": 32,
   "metadata": {},
   "outputs": [
    {
     "data": {
      "text/plain": [
       "<seaborn.axisgrid.FacetGrid at 0x202e44df0>"
      ]
     },
     "execution_count": 32,
     "metadata": {},
     "output_type": "execute_result"
    },
    {
     "data": {
      "image/png": "[encoded data removed]",
      "text/plain": [
       "<Figure size 500x500 with 1 Axes>"
      ]
     },
     "metadata": {},
     "output_type": "display_data"
    }
   ],
   "source": [
    "sns.displot(np.array(lengths))"
   ]
  },
  {
   "cell_type": "markdown",
   "metadata": {},
   "source": [
    "## Extract topics"
   ]
  },
  {
   "cell_type": "markdown",
   "metadata": {},
   "source": [
    "1.\n",
    "* Sentence window: 0\n",
    "* No join"
   ]
  },
  {
   "cell_type": "code",
   "execution_count": 11,
   "metadata": {},
   "outputs": [
    {
     "data": {
      "application/vnd.jupyter.widget-view+json": {
       "model_id": "909c7ba01f194540b4fa6cfebda9e8df",
       "version_major": 2,
       "version_minor": 0
      },
      "text/plain": [
       "Batches:   0%|          | 0/1427 [00:00<?, ?it/s]"
      ]
     },
     "metadata": {},
     "output_type": "display_data"
    },
    {
     "name": "stderr",
     "output_type": "stream",
     "text": [
      "2023-08-31 14:38:14,090 - BERTopic - Transformed documents to Embeddings\n",
      "2023-08-31 14:39:05,833 - BERTopic - Reduced dimensionality\n"
     ]
    },
    {
     "name": "stdout",
     "output_type": "stream",
     "text": [
      "huggingface/tokenizers: The current process just got forked, after parallelism has already been used. Disabling parallelism to avoid deadlocks...\n",
      "To disable this warning, you can either:\n",
      "\t- Avoid using `tokenizers` before the fork if possible\n",
      "\t- Explicitly set the environment variable TOKENIZERS_PARALLELISM=(true | false)\n",
      "huggingface/tokenizers: The current process just got forked, after parallelism has already been used. Disabling parallelism to avoid deadlocks...\n",
      "To disable this warning, you can either:\n",
      "\t- Avoid using `tokenizers` before the fork if possible\n",
      "\t- Explicitly set the environment variable TOKENIZERS_PARALLELISM=(true | false)\n",
      "huggingface/tokenizers: The current process just got forked, after parallelism has already been used. Disabling parallelism to avoid deadlocks...\n",
      "To disable this warning, you can either:\n",
      "\t- Avoid using `tokenizers` before the fork if possible\n",
      "\t- Explicitly set the environment variable TOKENIZERS_PARALLELISM=(true | false)\n",
      "huggingface/tokenizers: The current process just got forked, after parallelism has already been used. Disabling parallelism to avoid deadlocks...\n",
      "To disable this warning, you can either:\n",
      "\t- Avoid using `tokenizers` before the fork if possible\n",
      "\t- Explicitly set the environment variable TOKENIZERS_PARALLELISM=(true | false)\n",
      "huggingface/tokenizers: The current process just got forked, after parallelism has already been used. Disabling parallelism to avoid deadlocks...\n",
      "To disable this warning, you can either:\n",
      "\t- Avoid using `tokenizers` before the fork if possible\n",
      "\t- Explicitly set the environment variable TOKENIZERS_PARALLELISM=(true | false)\n"
     ]
    },
    {
     "name": "stderr",
     "output_type": "stream",
     "text": [
      "2023-08-31 14:44:21,784 - BERTopic - Clustered reduced embeddings\n"
     ]
    }
   ],
   "source": [
    "topic_model_0, topics_0, probs_0 = topic_extractor.bert_inspired(corpus_window_0_df['processed_text'].to_list())"
   ]
  },
  {
   "cell_type": "code",
   "execution_count": 22,
   "metadata": {},
   "outputs": [],
   "source": [
    "topic_model_0.get_topic_info().to_csv(\"topic_model_0.csv\")"
   ]
  },
  {
   "cell_type": "markdown",
   "metadata": {},
   "source": [
    "2.\n",
    "* Sentence window: 0\n",
    "* Join sentences"
   ]
  },
  {
   "cell_type": "code",
   "execution_count": 12,
   "metadata": {},
   "outputs": [
    {
     "data": {
      "application/vnd.jupyter.widget-view+json": {
       "model_id": "70d690a40d80438598af2c1036619893",
       "version_major": 2,
       "version_minor": 0
      },
      "text/plain": [
       "Batches:   0%|          | 0/1280 [00:00<?, ?it/s]"
      ]
     },
     "metadata": {},
     "output_type": "display_data"
    },
    {
     "name": "stderr",
     "output_type": "stream",
     "text": [
      "2023-08-31 14:48:55,084 - BERTopic - Transformed documents to Embeddings\n",
      "2023-08-31 14:49:19,987 - BERTopic - Reduced dimensionality\n"
     ]
    },
    {
     "name": "stdout",
     "output_type": "stream",
     "text": [
      "huggingface/tokenizers: The current process just got forked, after parallelism has already been used. Disabling parallelism to avoid deadlocks...\n",
      "To disable this warning, you can either:\n",
      "\t- Avoid using `tokenizers` before the fork if possible\n",
      "\t- Explicitly set the environment variable TOKENIZERS_PARALLELISM=(true | false)\n",
      "huggingface/tokenizers: The current process just got forked, after parallelism has already been used. Disabling parallelism to avoid deadlocks...\n",
      "To disable this warning, you can either:\n",
      "\t- Avoid using `tokenizers` before the fork if possible\n",
      "\t- Explicitly set the environment variable TOKENIZERS_PARALLELISM=(true | false)\n",
      "huggingface/tokenizers: The current process just got forked, after parallelism has already been used. Disabling parallelism to avoid deadlocks...\n",
      "To disable this warning, you can either:\n",
      "\t- Avoid using `tokenizers` before the fork if possible\n",
      "\t- Explicitly set the environment variable TOKENIZERS_PARALLELISM=(true | false)\n",
      "huggingface/tokenizers: The current process just got forked, after parallelism has already been used. Disabling parallelism to avoid deadlocks...\n",
      "To disable this warning, you can either:\n",
      "\t- Avoid using `tokenizers` before the fork if possible\n",
      "\t- Explicitly set the environment variable TOKENIZERS_PARALLELISM=(true | false)\n"
     ]
    },
    {
     "name": "stderr",
     "output_type": "stream",
     "text": [
      "2023-08-31 14:52:08,108 - BERTopic - Clustered reduced embeddings\n"
     ]
    }
   ],
   "source": [
    "topic_model_0_join, topics_0_join, probs_0_join = topic_extractor.bert_inspired(corpus_window_0_join_df['processed_text'].to_list())"
   ]
  },
  {
   "cell_type": "code",
   "execution_count": 23,
   "metadata": {},
   "outputs": [],
   "source": [
    "topic_model_0_join.get_topic_info().to_csv(\"topic_model_0_join.csv\")"
   ]
  },
  {
   "cell_type": "markdown",
   "metadata": {},
   "source": [
    "3.\n",
    "* Sentence window: 3\n",
    "* Join sentences  "
   ]
  },
  {
   "cell_type": "code",
   "execution_count": 13,
   "metadata": {},
   "outputs": [
    {
     "data": {
      "application/vnd.jupyter.widget-view+json": {
       "model_id": "7f3e240a33024096bc36bc744e31661e",
       "version_major": 2,
       "version_minor": 0
      },
      "text/plain": [
       "Batches:   0%|          | 0/1217 [00:00<?, ?it/s]"
      ]
     },
     "metadata": {},
     "output_type": "display_data"
    },
    {
     "name": "stderr",
     "output_type": "stream",
     "text": [
      "2023-08-31 14:57:49,883 - BERTopic - Transformed documents to Embeddings\n",
      "2023-08-31 14:58:12,559 - BERTopic - Reduced dimensionality\n"
     ]
    },
    {
     "name": "stdout",
     "output_type": "stream",
     "text": [
      "huggingface/tokenizers: The current process just got forked, after parallelism has already been used. Disabling parallelism to avoid deadlocks...\n",
      "To disable this warning, you can either:\n",
      "\t- Avoid using `tokenizers` before the fork if possible\n",
      "\t- Explicitly set the environment variable TOKENIZERS_PARALLELISM=(true | false)\n",
      "huggingface/tokenizers: The current process just got forked, after parallelism has already been used. Disabling parallelism to avoid deadlocks...\n",
      "To disable this warning, you can either:\n",
      "\t- Avoid using `tokenizers` before the fork if possible\n",
      "\t- Explicitly set the environment variable TOKENIZERS_PARALLELISM=(true | false)\n",
      "huggingface/tokenizers: The current process just got forked, after parallelism has already been used. Disabling parallelism to avoid deadlocks...\n",
      "To disable this warning, you can either:\n",
      "\t- Avoid using `tokenizers` before the fork if possible\n",
      "\t- Explicitly set the environment variable TOKENIZERS_PARALLELISM=(true | false)\n",
      "huggingface/tokenizers: The current process just got forked, after parallelism has already been used. Disabling parallelism to avoid deadlocks...\n",
      "To disable this warning, you can either:\n",
      "\t- Avoid using `tokenizers` before the fork if possible\n",
      "\t- Explicitly set the environment variable TOKENIZERS_PARALLELISM=(true | false)\n"
     ]
    },
    {
     "name": "stderr",
     "output_type": "stream",
     "text": [
      "2023-08-31 15:00:00,899 - BERTopic - Clustered reduced embeddings\n"
     ]
    }
   ],
   "source": [
    "topic_model_3_join, topics_3_join, probs_3_join = topic_extractor.bert_inspired(corpus_window_3_join_df['processed_text'].to_list())"
   ]
  },
  {
   "cell_type": "code",
   "execution_count": 21,
   "metadata": {},
   "outputs": [],
   "source": [
    "topic_model_3_join.get_topic_info().to_csv(\"topic_model_3_join.csv\")"
   ]
  },
  {
   "cell_type": "markdown",
   "metadata": {},
   "source": [
    "4.\n",
    "* Sentence window: 5\n",
    "* Join sentences\n"
   ]
  },
  {
   "cell_type": "code",
   "execution_count": 14,
   "metadata": {},
   "outputs": [
    {
     "data": {
      "application/vnd.jupyter.widget-view+json": {
       "model_id": "7cf5a45b15944aeab67a3eb3ede865cd",
       "version_major": 2,
       "version_minor": 0
      },
      "text/plain": [
       "Batches:   0%|          | 0/1208 [00:00<?, ?it/s]"
      ]
     },
     "metadata": {},
     "output_type": "display_data"
    },
    {
     "name": "stderr",
     "output_type": "stream",
     "text": [
      "2023-08-31 15:06:31,375 - BERTopic - Transformed documents to Embeddings\n",
      "2023-08-31 15:06:51,024 - BERTopic - Reduced dimensionality\n"
     ]
    },
    {
     "name": "stdout",
     "output_type": "stream",
     "text": [
      "huggingface/tokenizers: The current process just got forked, after parallelism has already been used. Disabling parallelism to avoid deadlocks...\n",
      "To disable this warning, you can either:\n",
      "\t- Avoid using `tokenizers` before the fork if possible\n",
      "\t- Explicitly set the environment variable TOKENIZERS_PARALLELISM=(true | false)\n",
      "huggingface/tokenizers: The current process just got forked, after parallelism has already been used. Disabling parallelism to avoid deadlocks...\n",
      "To disable this warning, you can either:\n",
      "\t- Avoid using `tokenizers` before the fork if possible\n",
      "\t- Explicitly set the environment variable TOKENIZERS_PARALLELISM=(true | false)\n",
      "huggingface/tokenizers: The current process just got forked, after parallelism has already been used. Disabling parallelism to avoid deadlocks...\n",
      "To disable this warning, you can either:\n",
      "\t- Avoid using `tokenizers` before the fork if possible\n",
      "\t- Explicitly set the environment variable TOKENIZERS_PARALLELISM=(true | false)\n",
      "huggingface/tokenizers: The current process just got forked, after parallelism has already been used. Disabling parallelism to avoid deadlocks...\n",
      "To disable this warning, you can either:\n",
      "\t- Avoid using `tokenizers` before the fork if possible\n",
      "\t- Explicitly set the environment variable TOKENIZERS_PARALLELISM=(true | false)\n"
     ]
    },
    {
     "name": "stderr",
     "output_type": "stream",
     "text": [
      "2023-08-31 15:09:00,223 - BERTopic - Clustered reduced embeddings\n"
     ]
    }
   ],
   "source": [
    "topic_model_5_join, topics_5_join, probs_5_join = topic_extractor.bert_inspired(corpus_window_5_join_df['processed_text'].to_list())"
   ]
  },
  {
   "cell_type": "code",
   "execution_count": 24,
   "metadata": {},
   "outputs": [],
   "source": [
    "topic_model_5_join.get_topic_info().to_csv(\"topic_model_5_join.csv\")"
   ]
  },
  {
   "cell_type": "markdown",
   "metadata": {},
   "source": [
    "5.\n",
    "* Sentence window: whole paragraph\n",
    "* Join sentences"
   ]
  },
  {
   "cell_type": "code",
   "execution_count": 15,
   "metadata": {},
   "outputs": [
    {
     "data": {
      "application/vnd.jupyter.widget-view+json": {
       "model_id": "4586b57c4ef8437ba48b516379f0f964",
       "version_major": 2,
       "version_minor": 0
      },
      "text/plain": [
       "Batches:   0%|          | 0/1215 [00:00<?, ?it/s]"
      ]
     },
     "metadata": {},
     "output_type": "display_data"
    },
    {
     "name": "stderr",
     "output_type": "stream",
     "text": [
      "2023-08-31 15:15:23,146 - BERTopic - Transformed documents to Embeddings\n",
      "2023-08-31 15:15:42,651 - BERTopic - Reduced dimensionality\n"
     ]
    },
    {
     "name": "stdout",
     "output_type": "stream",
     "text": [
      "huggingface/tokenizers: The current process just got forked, after parallelism has already been used. Disabling parallelism to avoid deadlocks...\n",
      "To disable this warning, you can either:\n",
      "\t- Avoid using `tokenizers` before the fork if possible\n",
      "\t- Explicitly set the environment variable TOKENIZERS_PARALLELISM=(true | false)\n",
      "huggingface/tokenizers: The current process just got forked, after parallelism has already been used. Disabling parallelism to avoid deadlocks...\n",
      "To disable this warning, you can either:\n",
      "\t- Avoid using `tokenizers` before the fork if possible\n",
      "\t- Explicitly set the environment variable TOKENIZERS_PARALLELISM=(true | false)\n",
      "huggingface/tokenizers: The current process just got forked, after parallelism has already been used. Disabling parallelism to avoid deadlocks...\n",
      "To disable this warning, you can either:\n",
      "\t- Avoid using `tokenizers` before the fork if possible\n",
      "\t- Explicitly set the environment variable TOKENIZERS_PARALLELISM=(true | false)\n",
      "huggingface/tokenizers: The current process just got forked, after parallelism has already been used. Disabling parallelism to avoid deadlocks...\n",
      "To disable this warning, you can either:\n",
      "\t- Avoid using `tokenizers` before the fork if possible\n",
      "\t- Explicitly set the environment variable TOKENIZERS_PARALLELISM=(true | false)\n"
     ]
    },
    {
     "name": "stderr",
     "output_type": "stream",
     "text": [
      "2023-08-31 15:17:37,673 - BERTopic - Clustered reduced embeddings\n"
     ]
    }
   ],
   "source": [
    "topic_model_whole_join, topics_whole_join, probs_whole_join = topic_extractor.bert_inspired(corpus_window_whole_join_df['processed_text'].to_list())"
   ]
  },
  {
   "cell_type": "code",
   "execution_count": 25,
   "metadata": {},
   "outputs": [],
   "source": [
    "topic_model_whole_join.get_topic_info().to_csv(\"topic_model_whole_join.csv\")"
   ]
  },
  {
   "cell_type": "code",
   "execution_count": 31,
   "metadata": {},
   "outputs": [
    {
     "data": {
      "text/plain": [
       "38868"
      ]
     },
     "execution_count": 31,
     "metadata": {},
     "output_type": "execute_result"
    }
   ],
   "source": []
  },
  {
   "cell_type": "code",
   "execution_count": null,
   "metadata": {},
   "outputs": [],
   "source": []
  },
  {
   "cell_type": "code",
   "execution_count": 356,
   "metadata": {},
   "outputs": [
    {
     "data": {
      "text/plain": [
       "array([0.02466603, 0.032443  , 0.0426969 , 0.02744634, 0.02321597,\n",
       "       0.0192848 , 0.0492035 , 0.01937474, 0.04401463, 0.04043768,\n",
       "       0.04437236, 0.02610516, 0.02285282, 0.02287447, 0.0305101 ])"
      ]
     },
     "execution_count": 356,
     "metadata": {},
     "output_type": "execute_result"
    }
   ],
   "source": [
    "probs[1]"
   ]
  },
  {
   "cell_type": "code",
   "execution_count": 49,
   "metadata": {},
   "outputs": [
    {
     "data": {
      "text/html": [
       "<div>\n",
       "<style scoped>\n",
       "    .dataframe tbody tr th:only-of-type {\n",
       "        vertical-align: middle;\n",
       "    }\n",
       "\n",
       "    .dataframe tbody tr th {\n",
       "        vertical-align: top;\n",
       "    }\n",
       "\n",
       "    .dataframe thead th {\n",
       "        text-align: right;\n",
       "    }\n",
       "</style>\n",
       "<table border=\"1\" class=\"dataframe\">\n",
       "  <thead>\n",
       "    <tr style=\"text-align: right;\">\n",
       "      <th></th>\n",
       "      <th>Topic</th>\n",
       "      <th>Count</th>\n",
       "      <th>Name</th>\n",
       "      <th>Representation</th>\n",
       "      <th>Representative_Docs</th>\n",
       "    </tr>\n",
       "  </thead>\n",
       "  <tbody>\n",
       "    <tr>\n",
       "      <th>0</th>\n",
       "      <td>-1</td>\n",
       "      <td>19059</td>\n",
       "      <td>-1_inflation_crisis_pandemic_economic</td>\n",
       "      <td>[inflation, crisis, pandemic, economic, demand...</td>\n",
       "      <td>[market forecast market base current visibilit...</td>\n",
       "    </tr>\n",
       "    <tr>\n",
       "      <th>1</th>\n",
       "      <td>0</td>\n",
       "      <td>4650</td>\n",
       "      <td>0_demand_market_business_guidance</td>\n",
       "      <td>[demand, market, business, guidance, portfolio...</td>\n",
       "      <td>[yes typically provide update midway quarter o...</td>\n",
       "    </tr>\n",
       "    <tr>\n",
       "      <th>2</th>\n",
       "      <td>1</td>\n",
       "      <td>820</td>\n",
       "      <td>1_refugee_humanitarian_charity_donation</td>\n",
       "      <td>[refugee, humanitarian, charity, donation, uni...</td>\n",
       "      <td>[support people refugee, support refugee emplo...</td>\n",
       "    </tr>\n",
       "    <tr>\n",
       "      <th>3</th>\n",
       "      <td>2</td>\n",
       "      <td>660</td>\n",
       "      <td>2_belarus_belarusian_kazakhstan_russian</td>\n",
       "      <td>[belarus, belarusian, kazakhstan, russian, cou...</td>\n",
       "      <td>[sale belarus, year go belarus, belarus]</td>\n",
       "    </tr>\n",
       "    <tr>\n",
       "      <th>4</th>\n",
       "      <td>3</td>\n",
       "      <td>535</td>\n",
       "      <td>3_wheat_corn_agriculture_agricultural</td>\n",
       "      <td>[wheat, corn, agriculture, agricultural, grain...</td>\n",
       "      <td>[corn wheat come big way, know difficulty asso...</td>\n",
       "    </tr>\n",
       "    <tr>\n",
       "      <th>...</th>\n",
       "      <td>...</td>\n",
       "      <td>...</td>\n",
       "      <td>...</td>\n",
       "      <td>...</td>\n",
       "      <td>...</td>\n",
       "    </tr>\n",
       "    <tr>\n",
       "      <th>301</th>\n",
       "      <td>300</td>\n",
       "      <td>10</td>\n",
       "      <td>300_revenue_growth_year_offset</td>\n",
       "      <td>[revenue, growth, year, offset, contractual, t...</td>\n",
       "      <td>[emea year year growth quarter negatively affe...</td>\n",
       "    </tr>\n",
       "    <tr>\n",
       "      <th>302</th>\n",
       "      <td>301</td>\n",
       "      <td>10</td>\n",
       "      <td>301_freight_turnover_rail_railway</td>\n",
       "      <td>[freight, turnover, rail, railway, railroad, t...</td>\n",
       "      <td>[look month year freight rail turnover overall...</td>\n",
       "    </tr>\n",
       "    <tr>\n",
       "      <th>303</th>\n",
       "      <td>302</td>\n",
       "      <td>10</td>\n",
       "      <td>302_expect_expectation_demand_profitability</td>\n",
       "      <td>[expect, expectation, demand, profitability, f...</td>\n",
       "      <td>[yes start contract manufacturing know get gen...</td>\n",
       "    </tr>\n",
       "    <tr>\n",
       "      <th>304</th>\n",
       "      <td>303</td>\n",
       "      <td>10</td>\n",
       "      <td>303_decline_maintenance_service_growth</td>\n",
       "      <td>[decline, maintenance, service, growth, offsho...</td>\n",
       "      <td>[service growth america menac strong oil gas o...</td>\n",
       "    </tr>\n",
       "    <tr>\n",
       "      <th>305</th>\n",
       "      <td>304</td>\n",
       "      <td>10</td>\n",
       "      <td>304_business_retail_sourcing_sell</td>\n",
       "      <td>[business, retail, sourcing, sell, consumer, c...</td>\n",
       "      <td>[sure sale small portion portfolio small team ...</td>\n",
       "    </tr>\n",
       "  </tbody>\n",
       "</table>\n",
       "<p>306 rows × 5 columns</p>\n",
       "</div>"
      ],
      "text/plain": [
       "     Topic  Count                                         Name  \\\n",
       "0       -1  19059        -1_inflation_crisis_pandemic_economic   \n",
       "1        0   4650            0_demand_market_business_guidance   \n",
       "2        1    820      1_refugee_humanitarian_charity_donation   \n",
       "3        2    660      2_belarus_belarusian_kazakhstan_russian   \n",
       "4        3    535        3_wheat_corn_agriculture_agricultural   \n",
       "..     ...    ...                                          ...   \n",
       "301    300     10               300_revenue_growth_year_offset   \n",
       "302    301     10            301_freight_turnover_rail_railway   \n",
       "303    302     10  302_expect_expectation_demand_profitability   \n",
       "304    303     10       303_decline_maintenance_service_growth   \n",
       "305    304     10            304_business_retail_sourcing_sell   \n",
       "\n",
       "                                        Representation  \\\n",
       "0    [inflation, crisis, pandemic, economic, demand...   \n",
       "1    [demand, market, business, guidance, portfolio...   \n",
       "2    [refugee, humanitarian, charity, donation, uni...   \n",
       "3    [belarus, belarusian, kazakhstan, russian, cou...   \n",
       "4    [wheat, corn, agriculture, agricultural, grain...   \n",
       "..                                                 ...   \n",
       "301  [revenue, growth, year, offset, contractual, t...   \n",
       "302  [freight, turnover, rail, railway, railroad, t...   \n",
       "303  [expect, expectation, demand, profitability, f...   \n",
       "304  [decline, maintenance, service, growth, offsho...   \n",
       "305  [business, retail, sourcing, sell, consumer, c...   \n",
       "\n",
       "                                   Representative_Docs  \n",
       "0    [market forecast market base current visibilit...  \n",
       "1    [yes typically provide update midway quarter o...  \n",
       "2    [support people refugee, support refugee emplo...  \n",
       "3             [sale belarus, year go belarus, belarus]  \n",
       "4    [corn wheat come big way, know difficulty asso...  \n",
       "..                                                 ...  \n",
       "301  [emea year year growth quarter negatively affe...  \n",
       "302  [look month year freight rail turnover overall...  \n",
       "303  [yes start contract manufacturing know get gen...  \n",
       "304  [service growth america menac strong oil gas o...  \n",
       "305  [sure sale small portion portfolio small team ...  \n",
       "\n",
       "[306 rows x 5 columns]"
      ]
     },
     "execution_count": 49,
     "metadata": {},
     "output_type": "execute_result"
    }
   ],
   "source": [
    "topic_model.get_topic_info()"
   ]
  },
  {
   "cell_type": "code",
   "execution_count": 358,
   "metadata": {},
   "outputs": [
    {
     "name": "stderr",
     "output_type": "stream",
     "text": [
      "100%|██████████| 1/1 [00:00<00:00,  3.15it/s]\n"
     ]
    }
   ],
   "source": [
    "# Calculate the topic distributions on a token-level\n",
    "topic_distr, topic_token_distr = topic_model.approximate_distribution(corpus_window_0_join_df['processed_text'].to_list(), calculate_tokens=True)"
   ]
  },
  {
   "cell_type": "code",
   "execution_count": 359,
   "metadata": {},
   "outputs": [
    {
     "data": {
      "text/plain": [
       "933"
      ]
     },
     "execution_count": 359,
     "metadata": {},
     "output_type": "execute_result"
    }
   ],
   "source": [
    "len(topic_distr)"
   ]
  },
  {
   "cell_type": "code",
   "execution_count": 363,
   "metadata": {},
   "outputs": [
    {
     "data": {
      "text/plain": [
       "array([0.27688306, 0.        , 0.        , 0.        , 0.15484435,\n",
       "       0.15860631, 0.32902648, 0.        , 0.        , 0.08063981,\n",
       "       0.        , 0.        , 0.        , 0.        , 0.        ])"
      ]
     },
     "execution_count": 363,
     "metadata": {},
     "output_type": "execute_result"
    }
   ],
   "source": [
    "topic_distr[1]"
   ]
  },
  {
   "cell_type": "code",
   "execution_count": 361,
   "metadata": {},
   "outputs": [
    {
     "data": {
      "application/vnd.plotly.v1+json": {
       "config": {
        "plotlyServerURL": "https://plot.ly"
       },
       "data": [
        {
         "marker": {
          "color": "#C8D2D7",
          "line": {
           "color": "#6E8484",
           "width": 1
          }
         },
         "orientation": "h",
         "type": "bar",
         "x": [
          0.2768830561375222,
          0.1548443494398415,
          0.15860630731574105,
          0.3290264810161918,
          0.08063980609070347
         ],
         "y": [
          "<b>Topic 0</b>: demand_production_indust...",
          "<b>Topic 4</b>: macroeconomic_inflation_...",
          "<b>Topic 5</b>: revenue_business_profit_...",
          "<b>Topic 6</b>: energy_demand_heating_wa...",
          "<b>Topic 9</b>: grain_foodtech_harvest_s..."
         ]
        }
       ],
       "layout": {
        "height": 600,
        "hoverlabel": {
         "bgcolor": "white",
         "font": {
          "family": "Rockwell",
          "size": 16
         }
        },
        "template": {
         "data": {
          "bar": [
           {
            "error_x": {
             "color": "rgb(36,36,36)"
            },
            "error_y": {
             "color": "rgb(36,36,36)"
            },
            "marker": {
             "line": {
              "color": "white",
              "width": 0.5
             },
             "pattern": {
              "fillmode": "overlay",
              "size": 10,
              "solidity": 0.2
             }
            },
            "type": "bar"
           }
          ],
          "barpolar": [
           {
            "marker": {
             "line": {
              "color": "white",
              "width": 0.5
             },
             "pattern": {
              "fillmode": "overlay",
              "size": 10,
              "solidity": 0.2
             }
            },
            "type": "barpolar"
           }
          ],
          "carpet": [
           {
            "aaxis": {
             "endlinecolor": "rgb(36,36,36)",
             "gridcolor": "white",
             "linecolor": "white",
             "minorgridcolor": "white",
             "startlinecolor": "rgb(36,36,36)"
            },
            "baxis": {
             "endlinecolor": "rgb(36,36,36)",
             "gridcolor": "white",
             "linecolor": "white",
             "minorgridcolor": "white",
             "startlinecolor": "rgb(36,36,36)"
            },
            "type": "carpet"
           }
          ],
          "choropleth": [
           {
            "colorbar": {
             "outlinewidth": 1,
             "tickcolor": "rgb(36,36,36)",
             "ticks": "outside"
            },
            "type": "choropleth"
           }
          ],
          "contour": [
           {
            "colorbar": {
             "outlinewidth": 1,
             "tickcolor": "rgb(36,36,36)",
             "ticks": "outside"
            },
            "colorscale": [
             [
              0,
              "#440154"
             ],
             [
              0.1111111111111111,
              "#482878"
             ],
             [
              0.2222222222222222,
              "#3e4989"
             ],
             [
              0.3333333333333333,
              "#31688e"
             ],
             [
              0.4444444444444444,
              "#26828e"
             ],
             [
              0.5555555555555556,
              "#1f9e89"
             ],
             [
              0.6666666666666666,
              "#35b779"
             ],
             [
              0.7777777777777778,
              "#6ece58"
             ],
             [
              0.8888888888888888,
              "#b5de2b"
             ],
             [
              1,
              "#fde725"
             ]
            ],
            "type": "contour"
           }
          ],
          "contourcarpet": [
           {
            "colorbar": {
             "outlinewidth": 1,
             "tickcolor": "rgb(36,36,36)",
             "ticks": "outside"
            },
            "type": "contourcarpet"
           }
          ],
          "heatmap": [
           {
            "colorbar": {
             "outlinewidth": 1,
             "tickcolor": "rgb(36,36,36)",
             "ticks": "outside"
            },
            "colorscale": [
             [
              0,
              "#440154"
             ],
             [
              0.1111111111111111,
              "#482878"
             ],
             [
              0.2222222222222222,
              "#3e4989"
             ],
             [
              0.3333333333333333,
              "#31688e"
             ],
             [
              0.4444444444444444,
              "#26828e"
             ],
             [
              0.5555555555555556,
              "#1f9e89"
             ],
             [
              0.6666666666666666,
              "#35b779"
             ],
             [
              0.7777777777777778,
              "#6ece58"
             ],
             [
              0.8888888888888888,
              "#b5de2b"
             ],
             [
              1,
              "#fde725"
             ]
            ],
            "type": "heatmap"
           }
          ],
          "heatmapgl": [
           {
            "colorbar": {
             "outlinewidth": 1,
             "tickcolor": "rgb(36,36,36)",
             "ticks": "outside"
            },
            "colorscale": [
             [
              0,
              "#440154"
             ],
             [
              0.1111111111111111,
              "#482878"
             ],
             [
              0.2222222222222222,
              "#3e4989"
             ],
             [
              0.3333333333333333,
              "#31688e"
             ],
             [
              0.4444444444444444,
              "#26828e"
             ],
             [
              0.5555555555555556,
              "#1f9e89"
             ],
             [
              0.6666666666666666,
              "#35b779"
             ],
             [
              0.7777777777777778,
              "#6ece58"
             ],
             [
              0.8888888888888888,
              "#b5de2b"
             ],
             [
              1,
              "#fde725"
             ]
            ],
            "type": "heatmapgl"
           }
          ],
          "histogram": [
           {
            "marker": {
             "line": {
              "color": "white",
              "width": 0.6
             }
            },
            "type": "histogram"
           }
          ],
          "histogram2d": [
           {
            "colorbar": {
             "outlinewidth": 1,
             "tickcolor": "rgb(36,36,36)",
             "ticks": "outside"
            },
            "colorscale": [
             [
              0,
              "#440154"
             ],
             [
              0.1111111111111111,
              "#482878"
             ],
             [
              0.2222222222222222,
              "#3e4989"
             ],
             [
              0.3333333333333333,
              "#31688e"
             ],
             [
              0.4444444444444444,
              "#26828e"
             ],
             [
              0.5555555555555556,
              "#1f9e89"
             ],
             [
              0.6666666666666666,
              "#35b779"
             ],
             [
              0.7777777777777778,
              "#6ece58"
             ],
             [
              0.8888888888888888,
              "#b5de2b"
             ],
             [
              1,
              "#fde725"
             ]
            ],
            "type": "histogram2d"
           }
          ],
          "histogram2dcontour": [
           {
            "colorbar": {
             "outlinewidth": 1,
             "tickcolor": "rgb(36,36,36)",
             "ticks": "outside"
            },
            "colorscale": [
             [
              0,
              "#440154"
             ],
             [
              0.1111111111111111,
              "#482878"
             ],
             [
              0.2222222222222222,
              "#3e4989"
             ],
             [
              0.3333333333333333,
              "#31688e"
             ],
             [
              0.4444444444444444,
              "#26828e"
             ],
             [
              0.5555555555555556,
              "#1f9e89"
             ],
             [
              0.6666666666666666,
              "#35b779"
             ],
             [
              0.7777777777777778,
              "#6ece58"
             ],
             [
              0.8888888888888888,
              "#b5de2b"
             ],
             [
              1,
              "#fde725"
             ]
            ],
            "type": "histogram2dcontour"
           }
          ],
          "mesh3d": [
           {
            "colorbar": {
             "outlinewidth": 1,
             "tickcolor": "rgb(36,36,36)",
             "ticks": "outside"
            },
            "type": "mesh3d"
           }
          ],
          "parcoords": [
           {
            "line": {
             "colorbar": {
              "outlinewidth": 1,
              "tickcolor": "rgb(36,36,36)",
              "ticks": "outside"
             }
            },
            "type": "parcoords"
           }
          ],
          "pie": [
           {
            "automargin": true,
            "type": "pie"
           }
          ],
          "scatter": [
           {
            "fillpattern": {
             "fillmode": "overlay",
             "size": 10,
             "solidity": 0.2
            },
            "type": "scatter"
           }
          ],
          "scatter3d": [
           {
            "line": {
             "colorbar": {
              "outlinewidth": 1,
              "tickcolor": "rgb(36,36,36)",
              "ticks": "outside"
             }
            },
            "marker": {
             "colorbar": {
              "outlinewidth": 1,
              "tickcolor": "rgb(36,36,36)",
              "ticks": "outside"
             }
            },
            "type": "scatter3d"
           }
          ],
          "scattercarpet": [
           {
            "marker": {
             "colorbar": {
              "outlinewidth": 1,
              "tickcolor": "rgb(36,36,36)",
              "ticks": "outside"
             }
            },
            "type": "scattercarpet"
           }
          ],
          "scattergeo": [
           {
            "marker": {
             "colorbar": {
              "outlinewidth": 1,
              "tickcolor": "rgb(36,36,36)",
              "ticks": "outside"
             }
            },
            "type": "scattergeo"
           }
          ],
          "scattergl": [
           {
            "marker": {
             "colorbar": {
              "outlinewidth": 1,
              "tickcolor": "rgb(36,36,36)",
              "ticks": "outside"
             }
            },
            "type": "scattergl"
           }
          ],
          "scattermapbox": [
           {
            "marker": {
             "colorbar": {
              "outlinewidth": 1,
              "tickcolor": "rgb(36,36,36)",
              "ticks": "outside"
             }
            },
            "type": "scattermapbox"
           }
          ],
          "scatterpolar": [
           {
            "marker": {
             "colorbar": {
              "outlinewidth": 1,
              "tickcolor": "rgb(36,36,36)",
              "ticks": "outside"
             }
            },
            "type": "scatterpolar"
           }
          ],
          "scatterpolargl": [
           {
            "marker": {
             "colorbar": {
              "outlinewidth": 1,
              "tickcolor": "rgb(36,36,36)",
              "ticks": "outside"
             }
            },
            "type": "scatterpolargl"
           }
          ],
          "scatterternary": [
           {
            "marker": {
             "colorbar": {
              "outlinewidth": 1,
              "tickcolor": "rgb(36,36,36)",
              "ticks": "outside"
             }
            },
            "type": "scatterternary"
           }
          ],
          "surface": [
           {
            "colorbar": {
             "outlinewidth": 1,
             "tickcolor": "rgb(36,36,36)",
             "ticks": "outside"
            },
            "colorscale": [
             [
              0,
              "#440154"
             ],
             [
              0.1111111111111111,
              "#482878"
             ],
             [
              0.2222222222222222,
              "#3e4989"
             ],
             [
              0.3333333333333333,
              "#31688e"
             ],
             [
              0.4444444444444444,
              "#26828e"
             ],
             [
              0.5555555555555556,
              "#1f9e89"
             ],
             [
              0.6666666666666666,
              "#35b779"
             ],
             [
              0.7777777777777778,
              "#6ece58"
             ],
             [
              0.8888888888888888,
              "#b5de2b"
             ],
             [
              1,
              "#fde725"
             ]
            ],
            "type": "surface"
           }
          ],
          "table": [
           {
            "cells": {
             "fill": {
              "color": "rgb(237,237,237)"
             },
             "line": {
              "color": "white"
             }
            },
            "header": {
             "fill": {
              "color": "rgb(217,217,217)"
             },
             "line": {
              "color": "white"
             }
            },
            "type": "table"
           }
          ]
         },
         "layout": {
          "annotationdefaults": {
           "arrowhead": 0,
           "arrowwidth": 1
          },
          "autotypenumbers": "strict",
          "coloraxis": {
           "colorbar": {
            "outlinewidth": 1,
            "tickcolor": "rgb(36,36,36)",
            "ticks": "outside"
           }
          },
          "colorscale": {
           "diverging": [
            [
             0,
             "rgb(103,0,31)"
            ],
            [
             0.1,
             "rgb(178,24,43)"
            ],
            [
             0.2,
             "rgb(214,96,77)"
            ],
            [
             0.3,
             "rgb(244,165,130)"
            ],
            [
             0.4,
             "rgb(253,219,199)"
            ],
            [
             0.5,
             "rgb(247,247,247)"
            ],
            [
             0.6,
             "rgb(209,229,240)"
            ],
            [
             0.7,
             "rgb(146,197,222)"
            ],
            [
             0.8,
             "rgb(67,147,195)"
            ],
            [
             0.9,
             "rgb(33,102,172)"
            ],
            [
             1,
             "rgb(5,48,97)"
            ]
           ],
           "sequential": [
            [
             0,
             "#440154"
            ],
            [
             0.1111111111111111,
             "#482878"
            ],
            [
             0.2222222222222222,
             "#3e4989"
            ],
            [
             0.3333333333333333,
             "#31688e"
            ],
            [
             0.4444444444444444,
             "#26828e"
            ],
            [
             0.5555555555555556,
             "#1f9e89"
            ],
            [
             0.6666666666666666,
             "#35b779"
            ],
            [
             0.7777777777777778,
             "#6ece58"
            ],
            [
             0.8888888888888888,
             "#b5de2b"
            ],
            [
             1,
             "#fde725"
            ]
           ],
           "sequentialminus": [
            [
             0,
             "#440154"
            ],
            [
             0.1111111111111111,
             "#482878"
            ],
            [
             0.2222222222222222,
             "#3e4989"
            ],
            [
             0.3333333333333333,
             "#31688e"
            ],
            [
             0.4444444444444444,
             "#26828e"
            ],
            [
             0.5555555555555556,
             "#1f9e89"
            ],
            [
             0.6666666666666666,
             "#35b779"
            ],
            [
             0.7777777777777778,
             "#6ece58"
            ],
            [
             0.8888888888888888,
             "#b5de2b"
            ],
            [
             1,
             "#fde725"
            ]
           ]
          },
          "colorway": [
           "#1F77B4",
           "#FF7F0E",
           "#2CA02C",
           "#D62728",
           "#9467BD",
           "#8C564B",
           "#E377C2",
           "#7F7F7F",
           "#BCBD22",
           "#17BECF"
          ],
          "font": {
           "color": "rgb(36,36,36)"
          },
          "geo": {
           "bgcolor": "white",
           "lakecolor": "white",
           "landcolor": "white",
           "showlakes": true,
           "showland": true,
           "subunitcolor": "white"
          },
          "hoverlabel": {
           "align": "left"
          },
          "hovermode": "closest",
          "mapbox": {
           "style": "light"
          },
          "paper_bgcolor": "white",
          "plot_bgcolor": "white",
          "polar": {
           "angularaxis": {
            "gridcolor": "rgb(232,232,232)",
            "linecolor": "rgb(36,36,36)",
            "showgrid": false,
            "showline": true,
            "ticks": "outside"
           },
           "bgcolor": "white",
           "radialaxis": {
            "gridcolor": "rgb(232,232,232)",
            "linecolor": "rgb(36,36,36)",
            "showgrid": false,
            "showline": true,
            "ticks": "outside"
           }
          },
          "scene": {
           "xaxis": {
            "backgroundcolor": "white",
            "gridcolor": "rgb(232,232,232)",
            "gridwidth": 2,
            "linecolor": "rgb(36,36,36)",
            "showbackground": true,
            "showgrid": false,
            "showline": true,
            "ticks": "outside",
            "zeroline": false,
            "zerolinecolor": "rgb(36,36,36)"
           },
           "yaxis": {
            "backgroundcolor": "white",
            "gridcolor": "rgb(232,232,232)",
            "gridwidth": 2,
            "linecolor": "rgb(36,36,36)",
            "showbackground": true,
            "showgrid": false,
            "showline": true,
            "ticks": "outside",
            "zeroline": false,
            "zerolinecolor": "rgb(36,36,36)"
           },
           "zaxis": {
            "backgroundcolor": "white",
            "gridcolor": "rgb(232,232,232)",
            "gridwidth": 2,
            "linecolor": "rgb(36,36,36)",
            "showbackground": true,
            "showgrid": false,
            "showline": true,
            "ticks": "outside",
            "zeroline": false,
            "zerolinecolor": "rgb(36,36,36)"
           }
          },
          "shapedefaults": {
           "fillcolor": "black",
           "line": {
            "width": 0
           },
           "opacity": 0.3
          },
          "ternary": {
           "aaxis": {
            "gridcolor": "rgb(232,232,232)",
            "linecolor": "rgb(36,36,36)",
            "showgrid": false,
            "showline": true,
            "ticks": "outside"
           },
           "baxis": {
            "gridcolor": "rgb(232,232,232)",
            "linecolor": "rgb(36,36,36)",
            "showgrid": false,
            "showline": true,
            "ticks": "outside"
           },
           "bgcolor": "white",
           "caxis": {
            "gridcolor": "rgb(232,232,232)",
            "linecolor": "rgb(36,36,36)",
            "showgrid": false,
            "showline": true,
            "ticks": "outside"
           }
          },
          "title": {
           "x": 0.05
          },
          "xaxis": {
           "automargin": true,
           "gridcolor": "rgb(232,232,232)",
           "linecolor": "rgb(36,36,36)",
           "showgrid": false,
           "showline": true,
           "ticks": "outside",
           "title": {
            "standoff": 15
           },
           "zeroline": false,
           "zerolinecolor": "rgb(36,36,36)"
          },
          "yaxis": {
           "automargin": true,
           "gridcolor": "rgb(232,232,232)",
           "linecolor": "rgb(36,36,36)",
           "showgrid": false,
           "showline": true,
           "ticks": "outside",
           "title": {
            "standoff": 15
           },
           "zeroline": false,
           "zerolinecolor": "rgb(36,36,36)"
          }
         }
        },
        "title": {
         "font": {
          "color": "Black",
          "size": 22
         },
         "text": "<b>Topic Probability Distribution</b>",
         "x": 0.5,
         "xanchor": "center",
         "y": 0.95,
         "yanchor": "top"
        },
        "width": 800,
        "xaxis": {
         "title": {
          "text": "Probability"
         }
        }
       }
      }
     },
     "metadata": {},
     "output_type": "display_data"
    }
   ],
   "source": [
    "# topic distribution of a certain document\n",
    "topic_model.visualize_distribution(topic_distr[1])"
   ]
  },
  {
   "cell_type": "code",
   "execution_count": 365,
   "metadata": {},
   "outputs": [
    {
     "data": {
      "text/html": [
       "<style type=\"text/css\">\n",
       "#T_9baa2_row0_col0, #T_9baa2_row0_col1, #T_9baa2_row0_col2, #T_9baa2_row0_col3, #T_9baa2_row0_col4, #T_9baa2_row0_col5, #T_9baa2_row0_col6, #T_9baa2_row0_col7, #T_9baa2_row0_col14, #T_9baa2_row0_col15, #T_9baa2_row0_col16, #T_9baa2_row0_col17, #T_9baa2_row0_col18, #T_9baa2_row0_col19, #T_9baa2_row0_col20, #T_9baa2_row0_col21, #T_9baa2_row1_col0, #T_9baa2_row1_col1, #T_9baa2_row1_col2, #T_9baa2_row1_col3, #T_9baa2_row1_col4, #T_9baa2_row1_col5, #T_9baa2_row1_col6, #T_9baa2_row1_col7, #T_9baa2_row1_col8, #T_9baa2_row1_col9, #T_9baa2_row1_col10, #T_9baa2_row1_col18, #T_9baa2_row1_col19, #T_9baa2_row1_col20, #T_9baa2_row1_col21, #T_9baa2_row2_col0, #T_9baa2_row2_col1, #T_9baa2_row2_col2, #T_9baa2_row2_col3, #T_9baa2_row2_col4, #T_9baa2_row2_col5, #T_9baa2_row2_col11, #T_9baa2_row2_col12, #T_9baa2_row2_col13, #T_9baa2_row2_col14, #T_9baa2_row2_col15, #T_9baa2_row2_col16, #T_9baa2_row2_col17, #T_9baa2_row2_col18, #T_9baa2_row2_col19, #T_9baa2_row2_col20, #T_9baa2_row2_col21, #T_9baa2_row3_col0, #T_9baa2_row3_col6, #T_9baa2_row3_col7, #T_9baa2_row3_col8, #T_9baa2_row3_col9, #T_9baa2_row3_col10, #T_9baa2_row3_col11, #T_9baa2_row3_col12, #T_9baa2_row3_col13, #T_9baa2_row3_col14, #T_9baa2_row3_col20, #T_9baa2_row3_col21, #T_9baa2_row4_col0, #T_9baa2_row4_col1, #T_9baa2_row4_col2, #T_9baa2_row4_col3, #T_9baa2_row4_col4, #T_9baa2_row4_col5, #T_9baa2_row4_col6, #T_9baa2_row4_col7, #T_9baa2_row4_col8, #T_9baa2_row4_col9, #T_9baa2_row4_col10, #T_9baa2_row4_col11, #T_9baa2_row4_col12, #T_9baa2_row4_col13, #T_9baa2_row4_col14, #T_9baa2_row4_col15, #T_9baa2_row4_col20, #T_9baa2_row4_col21 {\n",
       "  background-color: #f7fbff;\n",
       "  color: #000000;\n",
       "  color: white;\n",
       "  background-color: white;\n",
       "}\n",
       "#T_9baa2_row0_col8, #T_9baa2_row3_col19, #T_9baa2_row4_col16, #T_9baa2_row4_col17, #T_9baa2_row4_col18, #T_9baa2_row4_col19 {\n",
       "  background-color: #b9d6ea;\n",
       "  color: #000000;\n",
       "  color: black;\n",
       "}\n",
       "#T_9baa2_row0_col9 {\n",
       "  background-color: #3d8dc4;\n",
       "  color: #f1f1f1;\n",
       "  color: black;\n",
       "}\n",
       "#T_9baa2_row0_col10, #T_9baa2_row0_col11 {\n",
       "  background-color: #08306b;\n",
       "  color: #f1f1f1;\n",
       "  color: black;\n",
       "}\n",
       "#T_9baa2_row0_col12 {\n",
       "  background-color: #2c7cba;\n",
       "  color: #f1f1f1;\n",
       "  color: black;\n",
       "}\n",
       "#T_9baa2_row0_col13 {\n",
       "  background-color: #a4cce3;\n",
       "  color: #000000;\n",
       "  color: black;\n",
       "}\n",
       "#T_9baa2_row1_col11, #T_9baa2_row1_col12, #T_9baa2_row1_col13, #T_9baa2_row1_col15, #T_9baa2_row1_col16, #T_9baa2_row1_col17 {\n",
       "  background-color: #bdd7ec;\n",
       "  color: #000000;\n",
       "  color: black;\n",
       "}\n",
       "#T_9baa2_row1_col14 {\n",
       "  background-color: #57a0ce;\n",
       "  color: #f1f1f1;\n",
       "  color: black;\n",
       "}\n",
       "#T_9baa2_row2_col6 {\n",
       "  background-color: #bed8ec;\n",
       "  color: #000000;\n",
       "  color: black;\n",
       "}\n",
       "#T_9baa2_row2_col7, #T_9baa2_row2_col8, #T_9baa2_row2_col9 {\n",
       "  background-color: #539ecd;\n",
       "  color: #f1f1f1;\n",
       "  color: black;\n",
       "}\n",
       "#T_9baa2_row2_col10, #T_9baa2_row3_col5 {\n",
       "  background-color: #b8d5ea;\n",
       "  color: #000000;\n",
       "  color: black;\n",
       "}\n",
       "#T_9baa2_row3_col1 {\n",
       "  background-color: #b2d2e8;\n",
       "  color: #000000;\n",
       "  color: black;\n",
       "}\n",
       "#T_9baa2_row3_col2, #T_9baa2_row3_col3, #T_9baa2_row3_col4 {\n",
       "  background-color: #4695c8;\n",
       "  color: #f1f1f1;\n",
       "  color: black;\n",
       "}\n",
       "#T_9baa2_row3_col15 {\n",
       "  background-color: #bad6eb;\n",
       "  color: #000000;\n",
       "  color: black;\n",
       "}\n",
       "#T_9baa2_row3_col16, #T_9baa2_row3_col17, #T_9baa2_row3_col18 {\n",
       "  background-color: #529dcc;\n",
       "  color: #f1f1f1;\n",
       "  color: black;\n",
       "}\n",
       "</style>\n",
       "<table id=\"T_9baa2\">\n",
       "  <thead>\n",
       "    <tr>\n",
       "      <th class=\"blank level0\" >&nbsp;</th>\n",
       "      <th id=\"T_9baa2_level0_col0\" class=\"col_heading level0 col0\" >conversely</th>\n",
       "      <th id=\"T_9baa2_level0_col1\" class=\"col_heading level0 col1\" >get </th>\n",
       "      <th id=\"T_9baa2_level0_col2\" class=\"col_heading level0 col2\" >europe  </th>\n",
       "      <th id=\"T_9baa2_level0_col3\" class=\"col_heading level0 col3\" >north   </th>\n",
       "      <th id=\"T_9baa2_level0_col4\" class=\"col_heading level0 col4\" >america    </th>\n",
       "      <th id=\"T_9baa2_level0_col5\" class=\"col_heading level0 col5\" >look     </th>\n",
       "      <th id=\"T_9baa2_level0_col6\" class=\"col_heading level0 col6\" >geopolitical      </th>\n",
       "      <th id=\"T_9baa2_level0_col7\" class=\"col_heading level0 col7\" >risk       </th>\n",
       "      <th id=\"T_9baa2_level0_col8\" class=\"col_heading level0 col8\" >particularly        </th>\n",
       "      <th id=\"T_9baa2_level0_col9\" class=\"col_heading level0 col9\" >associate         </th>\n",
       "      <th id=\"T_9baa2_level0_col10\" class=\"col_heading level0 col10\" >go          </th>\n",
       "      <th id=\"T_9baa2_level0_col11\" class=\"col_heading level0 col11\" >look           </th>\n",
       "      <th id=\"T_9baa2_level0_col12\" class=\"col_heading level0 col12\" >maybe            </th>\n",
       "      <th id=\"T_9baa2_level0_col13\" class=\"col_heading level0 col13\" >derisk             </th>\n",
       "      <th id=\"T_9baa2_level0_col14\" class=\"col_heading level0 col14\" >global              </th>\n",
       "      <th id=\"T_9baa2_level0_col15\" class=\"col_heading level0 col15\" >basis               </th>\n",
       "      <th id=\"T_9baa2_level0_col16\" class=\"col_heading level0 col16\" >move                </th>\n",
       "      <th id=\"T_9baa2_level0_col17\" class=\"col_heading level0 col17\" >little                 </th>\n",
       "      <th id=\"T_9baa2_level0_col18\" class=\"col_heading level0 col18\" >bit                  </th>\n",
       "      <th id=\"T_9baa2_level0_col19\" class=\"col_heading level0 col19\" >close                   </th>\n",
       "      <th id=\"T_9baa2_level0_col20\" class=\"col_heading level0 col20\" >headquarters                    </th>\n",
       "      <th id=\"T_9baa2_level0_col21\" class=\"col_heading level0 col21\" >operation                     </th>\n",
       "    </tr>\n",
       "  </thead>\n",
       "  <tbody>\n",
       "    <tr>\n",
       "      <th id=\"T_9baa2_level0_row0\" class=\"row_heading level0 row0\" >0_demand_production_industry_market</th>\n",
       "      <td id=\"T_9baa2_row0_col0\" class=\"data row0 col0\" >0.000</td>\n",
       "      <td id=\"T_9baa2_row0_col1\" class=\"data row0 col1\" >0.000</td>\n",
       "      <td id=\"T_9baa2_row0_col2\" class=\"data row0 col2\" >0.000</td>\n",
       "      <td id=\"T_9baa2_row0_col3\" class=\"data row0 col3\" >0.000</td>\n",
       "      <td id=\"T_9baa2_row0_col4\" class=\"data row0 col4\" >0.000</td>\n",
       "      <td id=\"T_9baa2_row0_col5\" class=\"data row0 col5\" >0.000</td>\n",
       "      <td id=\"T_9baa2_row0_col6\" class=\"data row0 col6\" >0.000</td>\n",
       "      <td id=\"T_9baa2_row0_col7\" class=\"data row0 col7\" >0.000</td>\n",
       "      <td id=\"T_9baa2_row0_col8\" class=\"data row0 col8\" >0.106</td>\n",
       "      <td id=\"T_9baa2_row0_col9\" class=\"data row0 col9\" >0.235</td>\n",
       "      <td id=\"T_9baa2_row0_col10\" class=\"data row0 col10\" >0.365</td>\n",
       "      <td id=\"T_9baa2_row0_col11\" class=\"data row0 col11\" >0.365</td>\n",
       "      <td id=\"T_9baa2_row0_col12\" class=\"data row0 col12\" >0.259</td>\n",
       "      <td id=\"T_9baa2_row0_col13\" class=\"data row0 col13\" >0.130</td>\n",
       "      <td id=\"T_9baa2_row0_col14\" class=\"data row0 col14\" >0.000</td>\n",
       "      <td id=\"T_9baa2_row0_col15\" class=\"data row0 col15\" >0.000</td>\n",
       "      <td id=\"T_9baa2_row0_col16\" class=\"data row0 col16\" >0.000</td>\n",
       "      <td id=\"T_9baa2_row0_col17\" class=\"data row0 col17\" >0.000</td>\n",
       "      <td id=\"T_9baa2_row0_col18\" class=\"data row0 col18\" >0.000</td>\n",
       "      <td id=\"T_9baa2_row0_col19\" class=\"data row0 col19\" >0.000</td>\n",
       "      <td id=\"T_9baa2_row0_col20\" class=\"data row0 col20\" >0.000</td>\n",
       "      <td id=\"T_9baa2_row0_col21\" class=\"data row0 col21\" >0.000</td>\n",
       "    </tr>\n",
       "    <tr>\n",
       "      <th id=\"T_9baa2_level0_row1\" class=\"row_heading level0 row1\" >4_macroeconomic_inflation_inflationary_economy</th>\n",
       "      <td id=\"T_9baa2_row1_col0\" class=\"data row1 col0\" >0.000</td>\n",
       "      <td id=\"T_9baa2_row1_col1\" class=\"data row1 col1\" >0.000</td>\n",
       "      <td id=\"T_9baa2_row1_col2\" class=\"data row1 col2\" >0.000</td>\n",
       "      <td id=\"T_9baa2_row1_col3\" class=\"data row1 col3\" >0.000</td>\n",
       "      <td id=\"T_9baa2_row1_col4\" class=\"data row1 col4\" >0.000</td>\n",
       "      <td id=\"T_9baa2_row1_col5\" class=\"data row1 col5\" >0.000</td>\n",
       "      <td id=\"T_9baa2_row1_col6\" class=\"data row1 col6\" >0.000</td>\n",
       "      <td id=\"T_9baa2_row1_col7\" class=\"data row1 col7\" >0.000</td>\n",
       "      <td id=\"T_9baa2_row1_col8\" class=\"data row1 col8\" >0.000</td>\n",
       "      <td id=\"T_9baa2_row1_col9\" class=\"data row1 col9\" >0.000</td>\n",
       "      <td id=\"T_9baa2_row1_col10\" class=\"data row1 col10\" >0.000</td>\n",
       "      <td id=\"T_9baa2_row1_col11\" class=\"data row1 col11\" >0.102</td>\n",
       "      <td id=\"T_9baa2_row1_col12\" class=\"data row1 col12\" >0.102</td>\n",
       "      <td id=\"T_9baa2_row1_col13\" class=\"data row1 col13\" >0.102</td>\n",
       "      <td id=\"T_9baa2_row1_col14\" class=\"data row1 col14\" >0.204</td>\n",
       "      <td id=\"T_9baa2_row1_col15\" class=\"data row1 col15\" >0.102</td>\n",
       "      <td id=\"T_9baa2_row1_col16\" class=\"data row1 col16\" >0.102</td>\n",
       "      <td id=\"T_9baa2_row1_col17\" class=\"data row1 col17\" >0.102</td>\n",
       "      <td id=\"T_9baa2_row1_col18\" class=\"data row1 col18\" >0.000</td>\n",
       "      <td id=\"T_9baa2_row1_col19\" class=\"data row1 col19\" >0.000</td>\n",
       "      <td id=\"T_9baa2_row1_col20\" class=\"data row1 col20\" >0.000</td>\n",
       "      <td id=\"T_9baa2_row1_col21\" class=\"data row1 col21\" >0.000</td>\n",
       "    </tr>\n",
       "    <tr>\n",
       "      <th id=\"T_9baa2_level0_row2\" class=\"row_heading level0 row2\" >5_revenue_business_profit_investment</th>\n",
       "      <td id=\"T_9baa2_row2_col0\" class=\"data row2 col0\" >0.000</td>\n",
       "      <td id=\"T_9baa2_row2_col1\" class=\"data row2 col1\" >0.000</td>\n",
       "      <td id=\"T_9baa2_row2_col2\" class=\"data row2 col2\" >0.000</td>\n",
       "      <td id=\"T_9baa2_row2_col3\" class=\"data row2 col3\" >0.000</td>\n",
       "      <td id=\"T_9baa2_row2_col4\" class=\"data row2 col4\" >0.000</td>\n",
       "      <td id=\"T_9baa2_row2_col5\" class=\"data row2 col5\" >0.000</td>\n",
       "      <td id=\"T_9baa2_row2_col6\" class=\"data row2 col6\" >0.101</td>\n",
       "      <td id=\"T_9baa2_row2_col7\" class=\"data row2 col7\" >0.209</td>\n",
       "      <td id=\"T_9baa2_row2_col8\" class=\"data row2 col8\" >0.209</td>\n",
       "      <td id=\"T_9baa2_row2_col9\" class=\"data row2 col9\" >0.209</td>\n",
       "      <td id=\"T_9baa2_row2_col10\" class=\"data row2 col10\" >0.108</td>\n",
       "      <td id=\"T_9baa2_row2_col11\" class=\"data row2 col11\" >0.000</td>\n",
       "      <td id=\"T_9baa2_row2_col12\" class=\"data row2 col12\" >0.000</td>\n",
       "      <td id=\"T_9baa2_row2_col13\" class=\"data row2 col13\" >0.000</td>\n",
       "      <td id=\"T_9baa2_row2_col14\" class=\"data row2 col14\" >0.000</td>\n",
       "      <td id=\"T_9baa2_row2_col15\" class=\"data row2 col15\" >0.000</td>\n",
       "      <td id=\"T_9baa2_row2_col16\" class=\"data row2 col16\" >0.000</td>\n",
       "      <td id=\"T_9baa2_row2_col17\" class=\"data row2 col17\" >0.000</td>\n",
       "      <td id=\"T_9baa2_row2_col18\" class=\"data row2 col18\" >0.000</td>\n",
       "      <td id=\"T_9baa2_row2_col19\" class=\"data row2 col19\" >0.000</td>\n",
       "      <td id=\"T_9baa2_row2_col20\" class=\"data row2 col20\" >0.000</td>\n",
       "      <td id=\"T_9baa2_row2_col21\" class=\"data row2 col21\" >0.000</td>\n",
       "    </tr>\n",
       "    <tr>\n",
       "      <th id=\"T_9baa2_level0_row3\" class=\"row_heading level0 row3\" >6_energy_demand_heating_war</th>\n",
       "      <td id=\"T_9baa2_row3_col0\" class=\"data row3 col0\" >0.000</td>\n",
       "      <td id=\"T_9baa2_row3_col1\" class=\"data row3 col1\" >0.115</td>\n",
       "      <td id=\"T_9baa2_row3_col2\" class=\"data row3 col2\" >0.223</td>\n",
       "      <td id=\"T_9baa2_row3_col3\" class=\"data row3 col3\" >0.223</td>\n",
       "      <td id=\"T_9baa2_row3_col4\" class=\"data row3 col4\" >0.223</td>\n",
       "      <td id=\"T_9baa2_row3_col5\" class=\"data row3 col5\" >0.108</td>\n",
       "      <td id=\"T_9baa2_row3_col6\" class=\"data row3 col6\" >0.000</td>\n",
       "      <td id=\"T_9baa2_row3_col7\" class=\"data row3 col7\" >0.000</td>\n",
       "      <td id=\"T_9baa2_row3_col8\" class=\"data row3 col8\" >0.000</td>\n",
       "      <td id=\"T_9baa2_row3_col9\" class=\"data row3 col9\" >0.000</td>\n",
       "      <td id=\"T_9baa2_row3_col10\" class=\"data row3 col10\" >0.000</td>\n",
       "      <td id=\"T_9baa2_row3_col11\" class=\"data row3 col11\" >0.000</td>\n",
       "      <td id=\"T_9baa2_row3_col12\" class=\"data row3 col12\" >0.000</td>\n",
       "      <td id=\"T_9baa2_row3_col13\" class=\"data row3 col13\" >0.000</td>\n",
       "      <td id=\"T_9baa2_row3_col14\" class=\"data row3 col14\" >0.000</td>\n",
       "      <td id=\"T_9baa2_row3_col15\" class=\"data row3 col15\" >0.105</td>\n",
       "      <td id=\"T_9baa2_row3_col16\" class=\"data row3 col16\" >0.211</td>\n",
       "      <td id=\"T_9baa2_row3_col17\" class=\"data row3 col17\" >0.211</td>\n",
       "      <td id=\"T_9baa2_row3_col18\" class=\"data row3 col18\" >0.211</td>\n",
       "      <td id=\"T_9baa2_row3_col19\" class=\"data row3 col19\" >0.106</td>\n",
       "      <td id=\"T_9baa2_row3_col20\" class=\"data row3 col20\" >0.000</td>\n",
       "      <td id=\"T_9baa2_row3_col21\" class=\"data row3 col21\" >0.000</td>\n",
       "    </tr>\n",
       "    <tr>\n",
       "      <th id=\"T_9baa2_level0_row4\" class=\"row_heading level0 row4\" >9_grain_foodtech_harvest_soybean</th>\n",
       "      <td id=\"T_9baa2_row4_col0\" class=\"data row4 col0\" >0.000</td>\n",
       "      <td id=\"T_9baa2_row4_col1\" class=\"data row4 col1\" >0.000</td>\n",
       "      <td id=\"T_9baa2_row4_col2\" class=\"data row4 col2\" >0.000</td>\n",
       "      <td id=\"T_9baa2_row4_col3\" class=\"data row4 col3\" >0.000</td>\n",
       "      <td id=\"T_9baa2_row4_col4\" class=\"data row4 col4\" >0.000</td>\n",
       "      <td id=\"T_9baa2_row4_col5\" class=\"data row4 col5\" >0.000</td>\n",
       "      <td id=\"T_9baa2_row4_col6\" class=\"data row4 col6\" >0.000</td>\n",
       "      <td id=\"T_9baa2_row4_col7\" class=\"data row4 col7\" >0.000</td>\n",
       "      <td id=\"T_9baa2_row4_col8\" class=\"data row4 col8\" >0.000</td>\n",
       "      <td id=\"T_9baa2_row4_col9\" class=\"data row4 col9\" >0.000</td>\n",
       "      <td id=\"T_9baa2_row4_col10\" class=\"data row4 col10\" >0.000</td>\n",
       "      <td id=\"T_9baa2_row4_col11\" class=\"data row4 col11\" >0.000</td>\n",
       "      <td id=\"T_9baa2_row4_col12\" class=\"data row4 col12\" >0.000</td>\n",
       "      <td id=\"T_9baa2_row4_col13\" class=\"data row4 col13\" >0.000</td>\n",
       "      <td id=\"T_9baa2_row4_col14\" class=\"data row4 col14\" >0.000</td>\n",
       "      <td id=\"T_9baa2_row4_col15\" class=\"data row4 col15\" >0.000</td>\n",
       "      <td id=\"T_9baa2_row4_col16\" class=\"data row4 col16\" >0.106</td>\n",
       "      <td id=\"T_9baa2_row4_col17\" class=\"data row4 col17\" >0.106</td>\n",
       "      <td id=\"T_9baa2_row4_col18\" class=\"data row4 col18\" >0.106</td>\n",
       "      <td id=\"T_9baa2_row4_col19\" class=\"data row4 col19\" >0.106</td>\n",
       "      <td id=\"T_9baa2_row4_col20\" class=\"data row4 col20\" >0.000</td>\n",
       "      <td id=\"T_9baa2_row4_col21\" class=\"data row4 col21\" >0.000</td>\n",
       "    </tr>\n",
       "  </tbody>\n",
       "</table>\n"
      ],
      "text/plain": [
       "<pandas.io.formats.style.Styler at 0x19166dc00>"
      ]
     },
     "execution_count": 365,
     "metadata": {},
     "output_type": "execute_result"
    }
   ],
   "source": [
    "# Visualize the token-level distributions\n",
    "df = topic_model.visualize_approximate_distribution(corpus_window_0_join_df['processed_text'].to_list()[1], topic_token_distr[1])\n",
    "df"
   ]
  },
  {
   "cell_type": "code",
   "execution_count": 372,
   "metadata": {},
   "outputs": [
    {
     "data": {
      "text/plain": [
       "[('refinery', 0.48095948),\n",
       " ('refiner', 0.4155772),\n",
       " ('import', 0.4111076),\n",
       " ('oil', 0.3860207),\n",
       " ('europe', 0.3736658),\n",
       " ('diesel', 0.36351082),\n",
       " ('fuel', 0.35027352),\n",
       " ('eu', 0.3479474),\n",
       " ('supply', 0.34047055),\n",
       " ('russian', 0.33826613)]"
      ]
     },
     "execution_count": 372,
     "metadata": {},
     "output_type": "execute_result"
    }
   ],
   "source": [
    "# values for individual topics\n",
    "topic_model.get_topic(1)"
   ]
  },
  {
   "cell_type": "code",
   "execution_count": null,
   "metadata": {},
   "outputs": [],
   "source": [
    "from sentence_transformers.cross_encoder import CrossEncoder"
   ]
  },
  {
   "cell_type": "code",
   "execution_count": null,
   "metadata": {},
   "outputs": [],
   "source": [
    "from sentence_transformers import SentenceTransformer, util\n",
    "model = SentenceTransformer('paraphrase-distilroberta-base-v1')\n",
    "sentence1 = \"Now this slide talks more about the immediate impact where the combination of sanctions and also business destruction in Ukraine leads or may lead to supply chain disruptions.\"\n",
    "sentence2 = \"We obviously intensively evaluate all the potential impacts, created a task force that meets almost daily to follow on these topics and basically do preventive measures as to limit the potential impact on CEZ.\"\n",
    "\n",
    "doc1 = nlp(sentence1)\n",
    "doc2 = nlp(sentence2)\n",
    "similarity = doc1.similarity(doc2)\n",
    "\n",
    "sentences_ = [sentence1, sentence2]\n",
    "sentence_embeddings = model.encode(sentences_)\n",
    "\n",
    "print(\"Cosine Similarity: \" + str(util.pytorch_cos_sim(sentence_embeddings[0], sentence_embeddings[1]).item()))\n",
    "print(\"similiarity: \" + str(similarity))"
   ]
  },
  {
   "cell_type": "code",
   "execution_count": null,
   "metadata": {},
   "outputs": [],
   "source": [
    "# import dill as pickle\n",
    "# pickle.dump(events_russia, open('../output/pickled/events_russia.pkl', 'wb'))\n",
    "# pickle.dump(events, open('../output/pickled/events.pkl', 'wb'))"
   ]
  },
  {
   "cell_type": "code",
   "execution_count": null,
   "metadata": {},
   "outputs": [],
   "source": [
    "docs = [event['presentation_collapsed'] + \"\\n\" + event['qa_collapsed'] for event in events_russia]"
   ]
  },
  {
   "cell_type": "code",
   "execution_count": null,
   "metadata": {},
   "outputs": [],
   "source": [
    "df.to_csv('../output/data/overview.csv', index=False)"
   ]
  },
  {
   "cell_type": "code",
   "execution_count": null,
   "metadata": {},
   "outputs": [],
   "source": [
    "#  df[['company', 'ticker', 'ticker_new', 'date', 'russia', 'russia_count', 'sanction_count']].to_csv('../output/data/overview_jakob.csv', index=False)\n",
    "# with open('../output/data/overview_jakob.csv', 'rb') as f_in:\n",
    "#     with gzip.open('../output/data/overview_jakob.csv.gz', 'wb') as f_out:\n",
    "#         shutil.copyfileobj(f_in, f_out)"
   ]
  },
  {
   "attachments": {},
   "cell_type": "markdown",
   "metadata": {},
   "source": [
    "Create 15 samples for each category: russia and election and save it in the\n",
    "corresponding directory."
   ]
  },
  {
   "cell_type": "code",
   "execution_count": null,
   "metadata": {},
   "outputs": [],
   "source": [
    "if len(df[df['russia'] == 'russia & sanctions']) >0:sample_files_russia = df[df['russia'] == 'russia'].sample(8)['file'].tolist() + df[df['russia'] == 'russia & sanctions'].sample(7)['file'].tolist()\n",
    "if len(df[df['election'] == 'presidential election']) >0: sample_files_election = df[df['election'] == 'presidential election'].sample(15)['file'].tolist()"
   ]
  },
  {
   "cell_type": "code",
   "execution_count": null,
   "metadata": {},
   "outputs": [],
   "source": [
    "# delete all files in folder\n",
    "if 'sample_files_russia' in locals() or 'sample_files_russia' in globals():\n",
    "    folder = '../output/sample transcripts/russia/'\n",
    "    files = os.listdir(folder)\n",
    "    for f in files:\n",
    "        os.remove(folder + f)\n",
    "    # copy sample files to folder\n",
    "    for file in sample_files_russia:\n",
    "        shutil.copy(file, folder)"
   ]
  },
  {
   "cell_type": "code",
   "execution_count": null,
   "metadata": {},
   "outputs": [],
   "source": [
    "# delete all files in folder\n",
    "if 'sample_files_election' in locals() or sample_files_election in globals():\n",
    "    folder = '../output/sample transcripts/election/'\n",
    "    files = os.listdir(folder)\n",
    "    for f in files:\n",
    "        os.remove(folder + f)\n",
    "    # copy sample files to folder\n",
    "    for file in sample_files_election:\n",
    "        shutil.copy(file, folder)"
   ]
  },
  {
   "attachments": {},
   "cell_type": "markdown",
   "metadata": {},
   "source": [
    "Polars"
   ]
  },
  {
   "cell_type": "code",
   "execution_count": null,
   "metadata": {},
   "outputs": [],
   "source": [
    "keys_to_keep = ['file', 'body_orig']"
   ]
  },
  {
   "cell_type": "code",
   "execution_count": null,
   "metadata": {},
   "outputs": [],
   "source": [
    "events_new_trimmed = [{key: event[key] for key in keys_to_keep} for event in events_new]"
   ]
  },
  {
   "cell_type": "code",
   "execution_count": null,
   "metadata": {},
   "outputs": [],
   "source": [
    "eventsDF = pl.from_dicts(events_new_trimmed)"
   ]
  },
  {
   "cell_type": "code",
   "execution_count": null,
   "metadata": {},
   "outputs": [],
   "source": [
    "eventsDF = eventsDF.with_columns(pl.col(\"body_orig\").str.count_match('(E|e)lections').alias(\"elections_count\"))\n",
    "eventsDF = eventsDF.with_columns(pl.col(\"body_orig\").str.count_match('(S|s)anctions').alias(\"sanctions_count\"))\n",
    "eventsDF = eventsDF.with_columns(pl.col(\"body_orig\").str.count_match('(R|r)ussia').alias(\"russia_count\"))"
   ]
  },
  {
   "cell_type": "code",
   "execution_count": null,
   "metadata": {},
   "outputs": [],
   "source": [
    "len(eventsDF.filter(pl.col(\"elections_count\") > 0))"
   ]
  },
  {
   "cell_type": "code",
   "execution_count": null,
   "metadata": {},
   "outputs": [],
   "source": [
    "len(eventsDF.filter((pl.col(\"sanctions_count\") > 0) & (pl.col(\"russia_count\") > 0)))"
   ]
  }
 ],
 "metadata": {
  "kernelspec": {
   "display_name": "infineac",
   "language": "python",
   "name": "infineac"
  },
  "language_info": {
   "codemirror_mode": {
    "name": "ipython",
    "version": 3
   },
   "file_extension": ".py",
   "mimetype": "text/x-python",
   "name": "python",
   "nbconvert_exporter": "python",
   "pygments_lexer": "ipython3",
   "version": "3.10.12"
  },
  "orig_nbformat": 4
 },
 "nbformat": 4,
 "nbformat_minor": 2
}
