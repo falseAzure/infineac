{
 "cells": [
  {
   "cell_type": "code",
   "execution_count": 51,
   "metadata": {},
   "outputs": [
    {
     "name": "stdout",
     "output_type": "stream",
     "text": [
      "The autoreload extension is already loaded. To reload it, use:\n",
      "  %reload_ext autoreload\n"
     ]
    }
   ],
   "source": [
    "import os\n",
    "import glob\n",
    "from pathlib import Path\n",
    "import polars as pl\n",
    "import re\n",
    "import gzip\n",
    "import sys\n",
    "import random\n",
    "import shutil\n",
    "import numpy as np\n",
    "import pandas as pd\n",
    "import seaborn as sns\n",
    "import matplotlib.pyplot as plt\n",
    "import matplotlib.dates as mdates\n",
    "from lxml import etree, objectify\n",
    "from rapidfuzz import fuzz\n",
    "from spacy import displacy\n",
    "\n",
    "import infineac.file_loader as file_loader\n",
    "import infineac.helper as helper\n",
    "import infineac.process_event as process_event\n",
    "import infineac.topic_extractor as topic_extractor\n",
    "import infineac.process_text as process_text\n",
    "\n",
    "%load_ext autoreload\n",
    "%autoreload 2\n",
    "\n",
    "PATH_DIR = \"../data/transcripts/\"\n",
    "random.seed(111)"
   ]
  },
  {
   "cell_type": "markdown",
   "metadata": {},
   "source": [
    "## Load NLP model"
   ]
  },
  {
   "cell_type": "code",
   "execution_count": 2,
   "metadata": {},
   "outputs": [
    {
     "name": "stderr",
     "output_type": "stream",
     "text": [
      "2023-09-11 14:50:56 INFO: Checking for updates to resources.json in case models have been updated.  Note: this behavior can be turned off with download_method=None or download_method=DownloadMethod.REUSE_RESOURCES\n"
     ]
    },
    {
     "data": {
      "application/vnd.jupyter.widget-view+json": {
       "model_id": "2d036ef0336248bfb0d950e9d9f58de3",
       "version_major": 2,
       "version_minor": 0
      },
      "text/plain": [
       "Downloading https://raw.githubusercontent.com/stanfordnlp/stanza-resources/main/resources_1.5.0.json:   0%|   …"
      ]
     },
     "metadata": {},
     "output_type": "display_data"
    },
    {
     "name": "stderr",
     "output_type": "stream",
     "text": [
      "2023-09-11 14:50:58 INFO: Loading these models for language: en (English):\n",
      "========================\n",
      "| Processor | Package  |\n",
      "------------------------\n",
      "| tokenize  | combined |\n",
      "| lemma     | combined |\n",
      "========================\n",
      "\n",
      "2023-09-11 14:50:58 WARNING: GPU requested, but is not available!\n",
      "2023-09-11 14:50:58 INFO: Using device: cpu\n",
      "2023-09-11 14:50:58 INFO: Loading: tokenize\n",
      "2023-09-11 14:50:58 INFO: Loading: lemma\n",
      "2023-09-11 14:50:58 INFO: Done loading processors!\n"
     ]
    },
    {
     "data": {
      "text/plain": [
       "<spacy.pipeline.sentencizer.Sentencizer at 0x161a35cc0>"
      ]
     },
     "execution_count": 2,
     "metadata": {},
     "output_type": "execute_result"
    }
   ],
   "source": [
    "import spacy_stanza\n",
    "nlp_stanza = spacy_stanza.load_pipeline(\"en\", processors=\"tokenize, lemma\")\n",
    "nlp_stanza.add_pipe('sentencizer')"
   ]
  },
  {
   "attachments": {},
   "cell_type": "markdown",
   "metadata": {},
   "source": [
    "## Load Files"
   ]
  },
  {
   "attachments": {},
   "cell_type": "markdown",
   "metadata": {},
   "source": [
    "Load all xml files from the given directory and return a list of corresponding events."
   ]
  },
  {
   "cell_type": "code",
   "execution_count": 20,
   "metadata": {},
   "outputs": [
    {
     "name": "stderr",
     "output_type": "stream",
     "text": [
      "Files: 100%|██████████| 500/500 [00:01<00:00, 387.04it/s]\n"
     ]
    }
   ],
   "source": [
    "# files = [Path(\"../data/transcripts/2022/15203138_T.xml\")]\n",
    "files = list(Path(PATH_DIR).rglob(\"*.xml\"))[0:500]\n",
    "events = file_loader.load_files_from_xml(files)"
   ]
  },
  {
   "cell_type": "markdown",
   "metadata": {},
   "source": [
    "Check if all positions are valid"
   ]
  },
  {
   "cell_type": "code",
   "execution_count": 23,
   "metadata": {},
   "outputs": [],
   "source": [
    "process_event.test_positions(events)"
   ]
  },
  {
   "cell_type": "markdown",
   "metadata": {},
   "source": [
    "## Filter data"
   ]
  },
  {
   "attachments": {},
   "cell_type": "markdown",
   "metadata": {},
   "source": [
    "Filter out all events that are not in the given time range and do not include the given keywords."
   ]
  },
  {
   "cell_type": "code",
   "execution_count": 78,
   "metadata": {},
   "outputs": [
    {
     "name": "stdout",
     "output_type": "stream",
     "text": [
      "Filtering events\n"
     ]
    },
    {
     "name": "stderr",
     "output_type": "stream",
     "text": [
      "Events: 100%|██████████| 500/500 [00:00<00:00, 2840.61it/s]\n"
     ]
    },
    {
     "name": "stdout",
     "output_type": "stream",
     "text": [
      "Filtering events\n"
     ]
    },
    {
     "name": "stderr",
     "output_type": "stream",
     "text": [
      "Events: 100%|██████████| 500/500 [00:01<00:00, 262.76it/s]\n"
     ]
    },
    {
     "data": {
      "text/plain": [
       "118"
      ]
     },
     "execution_count": 78,
     "metadata": {},
     "output_type": "execute_result"
    }
   ],
   "source": [
    "events_filt_all = process_event.filter_events(events, year = 2022, keywords = {\"russia\":1, \"ukraine\":1}, modifier_words=[])\n",
    "events_filt = process_event.filter_events(events, year = 2022, keywords = {\"russia\":1, \"ukraine\":1})\n",
    "len(events_filt)"
   ]
  },
  {
   "cell_type": "code",
   "execution_count": 6,
   "metadata": {},
   "outputs": [],
   "source": [
    "helper.save_data(events_filt, \"events_filt\", compression=\"lz4\")"
   ]
  },
  {
   "cell_type": "markdown",
   "metadata": {},
   "source": [
    "List all events, that are filtered out due to modifier words preceding the keywords."
   ]
  },
  {
   "cell_type": "code",
   "execution_count": 33,
   "metadata": {},
   "outputs": [
    {
     "name": "stdout",
     "output_type": "stream",
     "text": [
      "0\n",
      "Extracting passages from events\n"
     ]
    },
    {
     "name": "stderr",
     "output_type": "stream",
     "text": [
      "Events: 0it [00:00, ?it/s]\n"
     ]
    },
    {
     "data": {
      "text/plain": [
       "[]"
      ]
     },
     "execution_count": 33,
     "metadata": {},
     "output_type": "execute_result"
    }
   ],
   "source": [
    "events_filtered_filter_words = []\n",
    "ids_filtered_events = []\n",
    "for i, event in enumerate(events_filt):\n",
    "    ids_filtered_events.append(event['id'])\n",
    "for event in events_filt_all:\n",
    "    if event['id'] not in ids_filtered_events:\n",
    "        events_filtered_filter_words.append(event)\n",
    "print(len(events_filtered_filter_words))\n",
    "process_event.extract_passages_from_events(events_filtered_filter_words, keywords=[\"russia\", \"ukraine\"], modifier_words=[], nlp_model=nlp_stanza)"
   ]
  },
  {
   "cell_type": "markdown",
   "metadata": {},
   "source": [
    "## Exploration"
   ]
  },
  {
   "cell_type": "code",
   "execution_count": 34,
   "metadata": {},
   "outputs": [],
   "source": [
    "file = [event['file'] for event in events_filt]\n",
    "id = [event['id'] for event in events_filt]\n",
    "year_upload = [event['year_upload'] for event in events_filt]\n",
    "company = [event['company_name'] for event in events_filt]\n",
    "ticker = [event['company_ticker'] for event in events_filt]\n",
    "ticker_new = [re.sub('\\\\..*', '', t) for t in ticker]\n",
    "dates = [event['date'] for event in events_filt if \"date\" in event.keys()]\n",
    "numeric_values = mdates.date2num(dates)\n",
    "\n",
    "russia_and_sanction = [process_text.get_russia_and_sanction(event['qa_collapsed'] + event['presentation_collapsed']) for event in events_filt]\n",
    "election = [process_text.get_elections(event['qa_collapsed'] + event['presentation_collapsed']) for event in events_filt]\n",
    "russia_count = [str(event['qa_collapsed'] + event['presentation_collapsed']).lower().count('russia') for event in events_filt]\n",
    "sanction_count = [str(event['qa_collapsed'] + event['presentation_collapsed']).lower().count('sanction') for event in events_filt]"
   ]
  },
  {
   "cell_type": "markdown",
   "metadata": {},
   "source": [
    "Create a DataFrame with the following columns:"
   ]
  },
  {
   "cell_type": "code",
   "execution_count": 35,
   "metadata": {},
   "outputs": [],
   "source": [
    "df = pd.DataFrame({'file': file,\n",
    "                   'year_upload': year_upload,\n",
    "                   'company': company,\n",
    "                   'ticker':ticker,\n",
    "                   'ticker_new': ticker_new,\n",
    "                   'date': dates,\n",
    "                   'dates_num' : numeric_values,\n",
    "                   'russia': russia_and_sanction,\n",
    "                   'russia_count': russia_count,\n",
    "                   'sanction_count': sanction_count,\n",
    "                   'election': election})"
   ]
  },
  {
   "cell_type": "markdown",
   "metadata": {},
   "source": [
    "Count the number of occasions where the word \"russia\" (and \"sanction\") appears in the earnings call."
   ]
  },
  {
   "cell_type": "code",
   "execution_count": 36,
   "metadata": {},
   "outputs": [
    {
     "data": {
      "image/png": "[encoded data removed]",
      "text/plain": [
       "<Figure size 640x480 with 1 Axes>"
      ]
     },
     "metadata": {},
     "output_type": "display_data"
    }
   ],
   "source": [
    "sns.histplot(df[df['russia_count']>=1], x='russia_count', hue=\"russia\", bins=50, stat=\"percent\", common_norm=True, multiple=\"stack\")\n",
    "plt.xlabel('Count of corresponding terms in the earnings calls')\n",
    "plt.ylabel('Percent')\n",
    "plt.title('Term count')\n",
    "plt.show()"
   ]
  },
  {
   "cell_type": "markdown",
   "metadata": {},
   "source": [
    "Average mentions of \"russia\" per earnings call."
   ]
  },
  {
   "cell_type": "code",
   "execution_count": 37,
   "metadata": {},
   "outputs": [
    {
     "data": {
      "text/plain": [
       "3.288135593220339"
      ]
     },
     "execution_count": 37,
     "metadata": {},
     "output_type": "execute_result"
    }
   ],
   "source": [
    "np.array(russia_count).mean()"
   ]
  },
  {
   "cell_type": "markdown",
   "metadata": {},
   "source": [
    "Average mentions of \"russia\" per earnings call if \"russia\" is mentioned at\n",
    "least once."
   ]
  },
  {
   "cell_type": "code",
   "execution_count": 38,
   "metadata": {},
   "outputs": [
    {
     "data": {
      "text/plain": [
       "4.564705882352941"
      ]
     },
     "execution_count": 38,
     "metadata": {},
     "output_type": "execute_result"
    }
   ],
   "source": [
    "np.array([el for el in russia_count if el > 0]).mean()"
   ]
  },
  {
   "cell_type": "markdown",
   "metadata": {},
   "source": [
    "Average mentions of \"sanction\" per earnings call."
   ]
  },
  {
   "cell_type": "code",
   "execution_count": 39,
   "metadata": {},
   "outputs": [
    {
     "data": {
      "text/plain": [
       "2.4347826086956523"
      ]
     },
     "execution_count": 39,
     "metadata": {},
     "output_type": "execute_result"
    }
   ],
   "source": [
    "np.array([el for el in sanction_count if el > 0]).mean()"
   ]
  },
  {
   "cell_type": "markdown",
   "metadata": {},
   "source": [
    "Event distribution over time highlighting the different categories."
   ]
  },
  {
   "cell_type": "code",
   "execution_count": 40,
   "metadata": {},
   "outputs": [
    {
     "data": {
      "image/png": "[encoded data removed]",
      "text/plain": [
       "<Figure size 669.5x500 with 1 Axes>"
      ]
     },
     "metadata": {},
     "output_type": "display_data"
    }
   ],
   "source": [
    "# plt.hist(numeric_values, bins=50)\n",
    "# sns.histplot(numeric_values, bins=50)\n",
    "sns.displot(df, x=\"dates_num\", hue=\"russia\", bins=50, stat=\"percent\", common_norm=True, multiple=\"stack\")\n",
    "# plt.plot_date(dates, numeric_values, '-o')  # '-o' adds markers on the data points\n",
    "plt.xlabel('Dates')\n",
    "plt.ylabel('Probability')\n",
    "plt.title('Event Distribution')\n",
    "\n",
    "# Add x-axis ticks and labels\n",
    "plt.gca().xaxis.set_major_locator(mdates.AutoDateLocator())\n",
    "plt.gca().xaxis.set_major_formatter(mdates.DateFormatter('%Y-%m-%d'))  # Customize date format as needed\n",
    "\n",
    "plt.gcf().autofmt_xdate()  # Adjusts the date labels rotation for better visibility\n",
    "\n",
    "plt.show()"
   ]
  },
  {
   "cell_type": "markdown",
   "metadata": {},
   "source": [
    "Event proportion over time highlighting the different categories."
   ]
  },
  {
   "cell_type": "code",
   "execution_count": 41,
   "metadata": {},
   "outputs": [
    {
     "data": {
      "image/png": "[encoded data removed]",
      "text/plain": [
       "<Figure size 669.5x500 with 1 Axes>"
      ]
     },
     "metadata": {},
     "output_type": "display_data"
    }
   ],
   "source": [
    "# plt.hist(numeric_values, bins=50)\n",
    "# sns.histplot(numeric_values, bins=50)\n",
    "sns.displot(df, x=\"dates_num\", hue=\"russia\", bins=50, stat=\"proportion\", common_norm=True, multiple=\"fill\")\n",
    "# plt.plot_date(dates, numeric_values, '-o')  # '-o' adds markers on the data points\n",
    "plt.xlabel('Dates')\n",
    "plt.ylabel('Propotion')\n",
    "plt.title('Event Propotion')\n",
    "\n",
    "# Add x-axis ticks and labels\n",
    "plt.gca().xaxis.set_major_locator(mdates.AutoDateLocator())\n",
    "plt.gca().xaxis.set_major_formatter(mdates.DateFormatter('%Y-%m-%d'))  # Customize date format as needed\n",
    "\n",
    "plt.gcf().autofmt_xdate()  # Adjusts the date labels rotation for better visibility\n",
    "\n",
    "plt.show()"
   ]
  },
  {
   "cell_type": "markdown",
   "metadata": {},
   "source": [
    "## Preprocess and extract corpus"
   ]
  },
  {
   "cell_type": "code",
   "execution_count": 42,
   "metadata": {},
   "outputs": [
    {
     "ename": "FileNotFoundError",
     "evalue": "[Errno 2] No such file or directory: 'events_filt.lz4'",
     "output_type": "error",
     "traceback": [
      "\u001b[0;31m---------------------------------------------------------------------------\u001b[0m",
      "\u001b[0;31mFileNotFoundError\u001b[0m                         Traceback (most recent call last)",
      "\u001b[1;32m/Users/Foal/Documents/Universität/Data Science/Interdisciplinary Project/infineac/notebooks/infineac.ipynb Cell 32\u001b[0m line \u001b[0;36m1\n\u001b[0;32m----> <a href='vscode-notebook-cell:/Users/Foal/Documents/Universit%C3%A4t/Data%20Science/Interdisciplinary%20Project/infineac/notebooks/infineac.ipynb#X43sZmlsZQ%3D%3D?line=0'>1</a>\u001b[0m events_filt \u001b[39m=\u001b[39m helper\u001b[39m.\u001b[39;49mload_data(\u001b[39m\"\u001b[39;49m\u001b[39mevents_filt.lz4\u001b[39;49m\u001b[39m\"\u001b[39;49m)\n",
      "File \u001b[0;32m~/Documents/Universität/Data Science/Interdisciplinary Project/infineac/infineac/helper.py:147\u001b[0m, in \u001b[0;36mload_data\u001b[0;34m(name)\u001b[0m\n\u001b[1;32m    145\u001b[0m         data \u001b[39m=\u001b[39m pickle\u001b[39m.\u001b[39mload(f)\n\u001b[1;32m    146\u001b[0m \u001b[39mif\u001b[39;00m compression \u001b[39m==\u001b[39m \u001b[39m\"\u001b[39m\u001b[39mlz4\u001b[39m\u001b[39m\"\u001b[39m \u001b[39mor\u001b[39;00m compression:\n\u001b[0;32m--> 147\u001b[0m     \u001b[39mwith\u001b[39;00m lz4\u001b[39m.\u001b[39;49mframe\u001b[39m.\u001b[39;49mopen(name, \u001b[39m\"\u001b[39;49m\u001b[39mrb\u001b[39;49m\u001b[39m\"\u001b[39;49m) \u001b[39mas\u001b[39;00m f:\n\u001b[1;32m    148\u001b[0m         data \u001b[39m=\u001b[39m pickle\u001b[39m.\u001b[39mload(f)\n\u001b[1;32m    149\u001b[0m \u001b[39mif\u001b[39;00m compression \u001b[39m==\u001b[39m \u001b[39m\"\u001b[39m\u001b[39mpickle\u001b[39m\u001b[39m\"\u001b[39m \u001b[39mor\u001b[39;00m \u001b[39mnot\u001b[39;00m compression:\n",
      "File \u001b[0;32m~/miniconda3/envs/infineac/lib/python3.10/site-packages/lz4/frame/__init__.py:878\u001b[0m, in \u001b[0;36mopen\u001b[0;34m(filename, mode, encoding, errors, newline, block_size, block_linked, compression_level, content_checksum, block_checksum, auto_flush, return_bytearray, source_size)\u001b[0m\n\u001b[1;32m    874\u001b[0m         \u001b[39mraise\u001b[39;00m \u001b[39mValueError\u001b[39;00m(\u001b[39m\"\u001b[39m\u001b[39mArgument \u001b[39m\u001b[39m'\u001b[39m\u001b[39mnewline\u001b[39m\u001b[39m'\u001b[39m\u001b[39m not supported in binary mode\u001b[39m\u001b[39m\"\u001b[39m)\n\u001b[1;32m    876\u001b[0m _mode \u001b[39m=\u001b[39m mode\u001b[39m.\u001b[39mreplace(\u001b[39m'\u001b[39m\u001b[39mt\u001b[39m\u001b[39m'\u001b[39m, \u001b[39m'\u001b[39m\u001b[39m'\u001b[39m)\n\u001b[0;32m--> 878\u001b[0m binary_file \u001b[39m=\u001b[39m LZ4FrameFile(\n\u001b[1;32m    879\u001b[0m     filename,\n\u001b[1;32m    880\u001b[0m     mode\u001b[39m=\u001b[39;49m_mode,\n\u001b[1;32m    881\u001b[0m     block_size\u001b[39m=\u001b[39;49mblock_size,\n\u001b[1;32m    882\u001b[0m     block_linked\u001b[39m=\u001b[39;49mblock_linked,\n\u001b[1;32m    883\u001b[0m     compression_level\u001b[39m=\u001b[39;49mcompression_level,\n\u001b[1;32m    884\u001b[0m     content_checksum\u001b[39m=\u001b[39;49mcontent_checksum,\n\u001b[1;32m    885\u001b[0m     block_checksum\u001b[39m=\u001b[39;49mblock_checksum,\n\u001b[1;32m    886\u001b[0m     auto_flush\u001b[39m=\u001b[39;49mauto_flush,\n\u001b[1;32m    887\u001b[0m     return_bytearray\u001b[39m=\u001b[39;49mreturn_bytearray,\n\u001b[1;32m    888\u001b[0m     source_size\u001b[39m=\u001b[39;49msource_size,\n\u001b[1;32m    889\u001b[0m )\n\u001b[1;32m    891\u001b[0m \u001b[39mif\u001b[39;00m \u001b[39m'\u001b[39m\u001b[39mt\u001b[39m\u001b[39m'\u001b[39m \u001b[39min\u001b[39;00m mode:\n\u001b[1;32m    892\u001b[0m     \u001b[39mreturn\u001b[39;00m io\u001b[39m.\u001b[39mTextIOWrapper(binary_file, encoding, errors, newline)\n",
      "File \u001b[0;32m~/miniconda3/envs/infineac/lib/python3.10/site-packages/lz4/frame/__init__.py:530\u001b[0m, in \u001b[0;36mLZ4FrameFile.__init__\u001b[0;34m(self, filename, mode, block_size, block_linked, compression_level, content_checksum, block_checksum, auto_flush, return_bytearray, source_size)\u001b[0m\n\u001b[1;32m    528\u001b[0m \u001b[39mif\u001b[39;00m \u001b[39m'\u001b[39m\u001b[39mb\u001b[39m\u001b[39m'\u001b[39m \u001b[39mnot\u001b[39;00m \u001b[39min\u001b[39;00m mode:\n\u001b[1;32m    529\u001b[0m     mode \u001b[39m+\u001b[39m\u001b[39m=\u001b[39m \u001b[39m'\u001b[39m\u001b[39mb\u001b[39m\u001b[39m'\u001b[39m\n\u001b[0;32m--> 530\u001b[0m \u001b[39mself\u001b[39m\u001b[39m.\u001b[39m_fp \u001b[39m=\u001b[39m builtins\u001b[39m.\u001b[39;49mopen(filename, mode)\n\u001b[1;32m    531\u001b[0m \u001b[39mself\u001b[39m\u001b[39m.\u001b[39m_closefp \u001b[39m=\u001b[39m \u001b[39mTrue\u001b[39;00m\n\u001b[1;32m    532\u001b[0m \u001b[39mself\u001b[39m\u001b[39m.\u001b[39m_mode \u001b[39m=\u001b[39m mode_code\n",
      "\u001b[0;31mFileNotFoundError\u001b[0m: [Errno 2] No such file or directory: 'events_filt.lz4'"
     ]
    }
   ],
   "source": [
    "events_filt = helper.load_data(\"events_filt.lz4\")"
   ]
  },
  {
   "cell_type": "markdown",
   "metadata": {},
   "source": [
    "Create different types of corpora:\n",
    "1. Corpus with a window of 1 sentence and not joining adjacent sentences.\n",
    "2. Corpus with a window of 1 sentence and joining adjacent sentences.\n",
    "3. Corpus with a window of 3 sentences and joining adjacent sentences.\n",
    "4. Corpus with a window of 5 sentences and joining adjacent sentences.\n",
    "5. Corpus with a window that includes the whole paragraph from the keywords on."
   ]
  },
  {
   "cell_type": "code",
   "execution_count": 103,
   "metadata": {},
   "outputs": [
    {
     "name": "stdout",
     "output_type": "stream",
     "text": [
      "Extracting passages from events\n"
     ]
    },
    {
     "name": "stderr",
     "output_type": "stream",
     "text": [
      "Events: 100%|██████████| 118/118 [00:20<00:00,  5.88it/s]\n"
     ]
    },
    {
     "name": "stdout",
     "output_type": "stream",
     "text": [
      "Processing corpus with spaCy-pipeline\n"
     ]
    },
    {
     "name": "stderr",
     "output_type": "stream",
     "text": [
      "Documents: 100%|██████████| 532/532 [00:11<00:00, 46.41it/s]\n"
     ]
    },
    {
     "data": {
      "text/plain": [
       "532"
      ]
     },
     "execution_count": 103,
     "metadata": {},
     "output_type": "execute_result"
    }
   ],
   "source": [
    "corpus_window_0_df = process_event.events_to_corpus(\n",
    "    events=events_filt,\n",
    "    keywords={\"russia\": 1, \"ukraine\": 1},\n",
    "    context_window_sentence=0,\n",
    "    subsequent_paragraphs=0,\n",
    "    join_adjacent_sentences=False,\n",
    "    extract_answers=False,\n",
    "    nlp_model=nlp_stanza,\n",
    ")\n",
    "len(corpus_window_0_df)"
   ]
  },
  {
   "cell_type": "code",
   "execution_count": 156,
   "metadata": {},
   "outputs": [
    {
     "name": "stdout",
     "output_type": "stream",
     "text": [
      "Extracting passages from events\n"
     ]
    },
    {
     "name": "stderr",
     "output_type": "stream",
     "text": [
      "Events: 100%|██████████| 11865/11865 [26:53<00:00,  7.35it/s] \n"
     ]
    },
    {
     "name": "stdout",
     "output_type": "stream",
     "text": [
      "Processing corpus with spaCy-pipeline\n"
     ]
    },
    {
     "name": "stderr",
     "output_type": "stream",
     "text": [
      "Documents: 100%|██████████| 39217/39217 [12:27<00:00, 52.45it/s] \n"
     ]
    },
    {
     "data": {
      "text/plain": [
       "39217"
      ]
     },
     "execution_count": 156,
     "metadata": {},
     "output_type": "execute_result"
    }
   ],
   "source": [
    "corpus_window_0_join_df = process_event.events_to_corpus(\n",
    "    events=events_filt,\n",
    "    keywords={\"russia\": 1, \"ukraine\": 1},\n",
    "    context_window_sentence=0,\n",
    "    subsequent_paragraphs=0,\n",
    "    join_adjacent_sentences=True,\n",
    "    extract_answers=False,\n",
    "    nlp_model=nlp_stanza,\n",
    "    remove_additional_words=True,\n",
    ")\n",
    "len(corpus_window_0_join_df)"
   ]
  },
  {
   "cell_type": "code",
   "execution_count": 173,
   "metadata": {},
   "outputs": [
    {
     "name": "stdout",
     "output_type": "stream",
     "text": [
      "Extracting passages from events\n"
     ]
    },
    {
     "name": "stderr",
     "output_type": "stream",
     "text": [
      "Events: 100%|██████████| 11865/11865 [25:40<00:00,  7.70it/s] \n"
     ]
    },
    {
     "name": "stdout",
     "output_type": "stream",
     "text": [
      "Processing corpus with spaCy-pipeline\n"
     ]
    },
    {
     "name": "stderr",
     "output_type": "stream",
     "text": [
      "Documents: 100%|██████████| 36099/36099 [17:48<00:00, 33.80it/s] \n"
     ]
    },
    {
     "data": {
      "text/plain": [
       "36099"
      ]
     },
     "execution_count": 173,
     "metadata": {},
     "output_type": "execute_result"
    }
   ],
   "source": [
    "corpus_window_3_join_df = process_event.events_to_corpus(\n",
    "    events=events_filt,\n",
    "    keywords={\"russia\": 1, \"ukraine\": 1},\n",
    "    context_window_sentence=[0,3],\n",
    "    subsequent_paragraphs=0,\n",
    "    join_adjacent_sentences=True,\n",
    "    extract_answers=False,\n",
    "    nlp_model=nlp_stanza,\n",
    "    remove_additional_words=True,\n",
    ")\n",
    "len(corpus_window_3_join_df)"
   ]
  },
  {
   "cell_type": "code",
   "execution_count": 174,
   "metadata": {},
   "outputs": [
    {
     "name": "stdout",
     "output_type": "stream",
     "text": [
      "Extracting passages from events\n"
     ]
    },
    {
     "name": "stderr",
     "output_type": "stream",
     "text": [
      "Events: 100%|██████████| 11865/11865 [26:31<00:00,  7.46it/s] \n"
     ]
    },
    {
     "name": "stdout",
     "output_type": "stream",
     "text": [
      "Processing corpus with spaCy-pipeline\n"
     ]
    },
    {
     "name": "stderr",
     "output_type": "stream",
     "text": [
      "Documents: 100%|██████████| 35752/35752 [17:56<00:00, 33.20it/s]\n"
     ]
    },
    {
     "data": {
      "text/plain": [
       "35752"
      ]
     },
     "execution_count": 174,
     "metadata": {},
     "output_type": "execute_result"
    }
   ],
   "source": [
    "corpus_window_5_join_df = process_event.events_to_corpus(\n",
    "    events=events_filt,\n",
    "    keywords={\"russia\": 1, \"ukraine\": 1},\n",
    "    context_window_sentence=[0,5],\n",
    "    subsequent_paragraphs=0,\n",
    "    join_adjacent_sentences=True,\n",
    "    extract_answers=False,\n",
    "    nlp_model=nlp_stanza,\n",
    "    remove_additional_words=True,\n",
    ")\n",
    "len(corpus_window_5_join_df)"
   ]
  },
  {
   "cell_type": "code",
   "execution_count": 175,
   "metadata": {},
   "outputs": [
    {
     "name": "stdout",
     "output_type": "stream",
     "text": [
      "Extracting passages from events\n"
     ]
    },
    {
     "name": "stderr",
     "output_type": "stream",
     "text": [
      "Events: 100%|██████████| 11865/11865 [26:06<00:00,  7.57it/s] \n"
     ]
    },
    {
     "name": "stdout",
     "output_type": "stream",
     "text": [
      "Processing corpus with spaCy-pipeline\n"
     ]
    },
    {
     "name": "stderr",
     "output_type": "stream",
     "text": [
      "Documents: 100%|██████████| 35848/35848 [21:00<00:00, 28.45it/s] \n"
     ]
    },
    {
     "data": {
      "text/plain": [
       "35848"
      ]
     },
     "execution_count": 175,
     "metadata": {},
     "output_type": "execute_result"
    }
   ],
   "source": [
    "corpus_window_whole_join_df = process_event.events_to_corpus(\n",
    "    events=events_filt,\n",
    "    keywords={\"russia\": 1, \"ukraine\": 1},\n",
    "    context_window_sentence=[0,-1],\n",
    "    subsequent_paragraphs=0,\n",
    "    join_adjacent_sentences=True,\n",
    "    extract_answers=False,\n",
    "    nlp_model=nlp_stanza,\n",
    "    remove_additional_words=True,\n",
    ")\n",
    "len(corpus_window_whole_join_df)"
   ]
  },
  {
   "cell_type": "markdown",
   "metadata": {},
   "source": [
    "Save and load data"
   ]
  },
  {
   "cell_type": "code",
   "execution_count": 176,
   "metadata": {},
   "outputs": [],
   "source": [
    "helper.save_data(corpus_window_0_df, \"corpus_window_0_df_no_answer\", compression=\"lz4\")\n",
    "helper.save_data(corpus_window_0_join_df, \"corpus_window_0_join_df_no_answer\", compression=\"lz4\")\n",
    "helper.save_data(corpus_window_3_join_df, \"corpus_window_3_join_df_no_answer\", compression=\"lz4\")\n",
    "helper.save_data(corpus_window_5_join_df, \"corpus_window_5_join_df_no_answer\", compression=\"lz4\")\n",
    "helper.save_data(corpus_window_whole_join_df, \"corpus_window_whole_join_df_no_answer\", compression=\"lz4\")"
   ]
  },
  {
   "cell_type": "code",
   "execution_count": 3,
   "metadata": {},
   "outputs": [],
   "source": [
    "corpus_window_0_df = helper.load_data(\"corpus_window_0_df_no_answer.lz4\")\n",
    "corpus_window_0_join_df = helper.load_data(\"corpus_window_0_join_df_no_answer.lz4\")\n",
    "corpus_window_3_join_df = helper.load_data(\"corpus_window_3_join_df_no_answer.lz4\")\n",
    "corpus_window_5_join_df = helper.load_data(\"corpus_window_5_join_df_no_answer.lz4\")\n",
    "corpus_window_whole_join_df = helper.load_data(\"corpus_window_whole_join_df_no_answer.lz4\")"
   ]
  },
  {
   "cell_type": "markdown",
   "metadata": {},
   "source": [
    "## Extract Strategies"
   ]
  },
  {
   "cell_type": "code",
   "execution_count": 7,
   "metadata": {},
   "outputs": [
    {
     "data": {
      "text/html": [
       "<div><style>\n",
       ".dataframe > thead > tr > th,\n",
       ".dataframe > tbody > tr > td {\n",
       "  text-align: right;\n",
       "}\n",
       "</style>\n",
       "<small>shape: (11_731, 6)</small><table border=\"1\" class=\"dataframe\"><thead><tr><th>id</th><th>exit_strategy</th><th>stay_strategy</th><th>adaptation_strategy</th><th>text</th><th>processed_text</th></tr><tr><td>i64</td><td>u32</td><td>u32</td><td>u32</td><td>list[str]</td><td>list[str]</td></tr></thead><tbody><tr><td>5402278</td><td>0</td><td>0</td><td>0</td><td>[&quot;Thank you to our teams who have selected, who have looked for talent, thank you to those teams because thanks to them, we have hired over 500 refugees coming from the Ukraine in 22 countries, and they are now part of the Inditex family.&quot;, &quot;And this despite the fact that we took the decision to provision EUR 216 million in order to cover those expenses, which would result, we believe, that&#x27;s a consequence of our activities in Russia and Ukraine.&quot;, … &quot;We are ofcoarse in ongoing touch with our teams in Russia and in Ukraine, it&#x27;s over 10,000 employees between the 2 countries. We continue to support them. We continue to reach out to them. Of course, there are different interest groups that are affected by the situation.&quot;]</td><td>[&quot;thank team select look talent thank team thanks hire refugee come country inditex family&quot;, &quot;despite fact take decision provision eur million order cover expense result believe consequence activity&quot;, … &quot;ofcoarse ongoing touch team 10000 employee country continue support continue reach course different interest group affect situation&quot;]</td></tr><tr><td>5413503</td><td>0</td><td>0</td><td>0</td><td>[&quot;Poland has done really very well when you think that it sits next door to Ukraine and given what&#x27;s been happening in Ukraine. It&#x27;s taken an influx of 2.4 million refugees from Ukraine.&quot;, &quot;They&#x27;ve become part of the Polish working force these refugees ought really almost seamlessly and trading companies from Ukraine have also relocated to Poland. And naturally, there&#x27;s been an influx of capital into Poland on the back of NATO extra NATO spend in the region as well as to help Poland with the effects of the Ukrainian war. So the war, if you like, for Poland has not been an adverse economic event. And part of the buoyancy of the Polish economy stems back to that.&quot;]</td><td>[&quot;poland think sit door give happen take influx 2.4 million refugee&quot;, &quot;polish work force refugee ought seamlessly trading company relocate poland naturally influx capital poland nato extra nato spend region help poland effect ukrainian war war like poland adverse economic event buoyancy polish economy stem&quot;]</td></tr><tr><td>5489134</td><td>0</td><td>0</td><td>0</td><td>[&quot;This, combined with the geopolitics around us not relying on China and Russia for our metals, will bode well for the future of the mining industry.&quot;]</td><td>[&quot;combine geopolitics rely china metal bode future mining industry&quot;]</td></tr><tr><td>5565265</td><td>0</td><td>0</td><td>0</td><td>[&quot;How this will ultimately impact longer-term demand for North American oil is uncertain.&quot;, &quot;The circumstances surrounding the current military conflict in the Ukraine are both troubling and unpredictable. The situation has caused governments to reconsider the geographic sources of their oil and gas supplies.&quot;]</td><td>[&quot;ultimately impact long term demand north american oil uncertain&quot;, &quot;circumstance surround current military conflict troubling unpredictable situation cause government reconsider geographic source oil gas supplies&quot;]</td></tr><tr><td>5654917</td><td>0</td><td>0</td><td>0</td><td>[&quot;In addition to the climate crisis, the main challenge of our time, the pandemic, the progressive deglobalization, increasing poverty, the democratic -- demographic challenge, complex polarization of society&#x27;s disinformation and digital security, we now face the terrible consequences of the war in Ukraine.&quot;, &quot;During this time, the union has worked hard with one main objective, that is to armor itself against the Russian&#x27;s energy dictatorship. This effort has materialized in the REPowerEU plan, which is a firm commitment to a massive and much more accelerated deployment of renewable energies on energy efficiency and diversification of suppliers. With this plan, the European Union will say goodbye to dependence on fossil fuels, consequences of which the exorbitant prices are being felt by households and businesses across Europe.&quot;, &quot;Globally, 2021 has been a year marked by increasing volatility and complexity, compounded by a series of events that have added further uncertainty and instability in the market, such as geopolitical tensions, especially arising from the situation in Ukraine, the effects of the latest COVID variants worldwide as well as the rise in the prices of raw materials and fuels, especially gas, the key element in the escalation of prices in the wholesale electricity market. These events are, to some extent, slowing down the growth and economic recovery that we had begun after the crisis generated by the COVID effect. And it is at this juncture that Redeia is making a solid progress to redouble its commitment to green and digital transformation. As the only way to relaunch a sustainable, fair and inclusive economic recovery, overcoming not without effort the current circumstances.&quot;]</td><td>[&quot;addition climate crisis main challenge time pandemic progressive deglobalization increase poverty democratic demographic challenge complex polarization society disinformation digital security face terrible consequence war&quot;, &quot;time union work hard main objective armor energy dictatorship effort materialized repowereu plan firm commitment massive accelerate deployment renewable energy energy efficiency diversification supplier plan european union goodbye dependence fossil fuel consequence exorbitant price feel household business europe&quot;, &quot;globally year mark increase volatility complexity compound series event add uncertainty instability market geopolitical tension especially arise situation effect late covid variant worldwide rise price raw material fuel especially gas key element escalation price wholesale electricity market event extent slowing growth economic recovery begin crisis generate covid effect juncture redeia make solid progress redouble commitment green digital transformation way relaunch sustainable fair inclusive economic recovery overcome effort current circumstance&quot;]</td></tr><tr><td>5682672</td><td>0</td><td>0</td><td>0</td><td>[&quot;And even recently, one of the world&#x27;s biggest producers was Ukraine, which has now completely disappear.&quot;, &quot;And a lot of that comes from not just Ukraine, but major supplies out of Russia and Belarus as well.&quot;]</td><td>[&quot;recently world big producer completely disappear&quot;, &quot;lot come major supplies belarus&quot;]</td></tr><tr><td>5958223</td><td>0</td><td>0</td><td>0</td><td>[&quot;There&#x27;s a second question, Chairman, on the impact on Iberdrola of the Ukraine war.&quot;, &quot;Well, firstly, I would like to start off by saying on my behalf and on behalf of all the people that form part of the Board of Directors and all of its workers, I would like to send a message of solidarity to the people of Ukraine.&quot;, &quot;But as regards to your question, the impact for us is minimal, because we are neither present in Russia and we&#x27;re not present in Ukraine, nor do we import gas from those countries. But apart from that, this war is proving that we have to be more self-sufficient from the energy perspective, I said so before, and I would like to stress that. And that means that we need to make more investment, so that we can electrify the economy, and we have to invest more money in networks, in renewables, and also in storage facilities for electricity.&quot;]</td><td>[&quot;second question chairman impact iberdrola war&quot;, &quot;firstly like start say behalf behalf people form board director worker like send message solidarity people&quot;, &quot;regards question impact minimal present present import gas country apart war prove self sufficient energy perspective say like stress mean need investment electrify economy invest money network renewable storage facility electricity&quot;]</td></tr><tr><td>7773722</td><td>0</td><td>0</td><td>0</td><td>[&quot;I would also draw your attention to the fact that, as everyone is aware, the Ukraine crisis is having a substantial impact on Department of State and obviously, the Department of Defense.&quot;]</td><td>[&quot;draw attention fact aware crisis have substantial impact department state obviously department defense&quot;]</td></tr><tr><td>12934983</td><td>0</td><td>0</td><td>0</td><td>[&quot;[Interpreted] Then a question from several journalists exposure in Russia and the Ukraine. What about it, please give us some facts and figures and then [Jorg Philipp Lacoa from AP] the pandemic, opened our eyes to see the respective cyber risks, have complaints increased, how many complaints? and do you see an upward trend over the next few years? Another question from [Mr. Lacoa].&quot;, &quot;Exposure against the backdrop of Russia and Ukraine. Please bear with me. I do not want to politicize this is what many others are doing in all different channels. I really going to make a contribution in this respect.&quot;, &quot;In Ukraine, we have some insurance risks, but our business, our operations are there are kind of negligible. This relates to Russia as well. So directly affected, not a big issue for us, you may say. Indirectly affected, well this is then through the secondary through the capital market. There is always some unrest in the capital markets, but this is within limits.&quot;]</td><td>[&quot;interpreted question journalist exposure fact figure jorg philipp lacoa ap pandemic open eye respective cyber risk complaint increase complaint upward trend year question mr. lacoa&quot;, &quot;exposure backdrop bear want politicize different channel go contribution respect&quot;, &quot;insurance risk business operation kind negligible relate directly affect big issue indirectly affect secondary capital market unrest capital market limit&quot;]</td></tr><tr><td>13130071</td><td>0</td><td>0</td><td>1</td><td>[&quot;These range from significant changes in the U.S. patents law to global pandemic and now a war in Ukraine, all of which are well beyond Quarterhill&#x27;s control. The statement also indicates that to date, there has been inadequate renewal of the Board.&quot;]</td><td>[&quot;range significant change u.s. patent law global pandemic war quarterhill control statement indicate date inadequate renewal board&quot;]</td></tr><tr><td>13221307</td><td>0</td><td>0</td><td>0</td><td>[&quot;Even so before we get into the great things that are happening at Novozymes, I&#x27;d like to and reflect on the war in Ukraine. Citizens in Ukraine have our deepest empathy. It&#x27;s a human strategy that&#x27;s unfolding right now. Naturally, we hope to see this will end as soon as possible.&quot;, &quot;We have a program called Inspire, one of our long-term initiatives, and employees are being mobilized globally to help via Inspire to brainstorm, plan and act on ways that can further support refugees from Ukraine.&quot;, … &quot;The last question had to do with COVID and what&#x27;s happening in Ukraine and what else is happening in the world. Do we see that changing our strategy, changing the things we do. Basically not because we really believe we have as the healthy strategy, the right strategy based on global trends that are in society. And this tendency that we should all be more sustainable, and we should be more responsible consumers.&quot;]</td><td>[&quot;great thing happen novozyme like reflect war citizen deep empathy human strategy unfold right naturally hope end soon possible&quot;, &quot;program call inspire long term initiative employee mobilize globally help inspire brainstorm plan act way support refugee&quot;, … &quot;question covid happen happen world change strategy change thing basically believe healthy strategy right strategy base global trend society tendency sustainable responsible consumer&quot;]</td></tr><tr><td>13375815</td><td>0</td><td>0</td><td>0</td><td>[&quot;So all very strong.&quot;, &quot;There are emerging markets, which are doing very well, like India, the Middle East, Russia. And so all the -- overall, EMEA is again, strong engines of growth that is being built over this year and now in the post-COVID acceleration, is proving its role of building strong engines of growth.&quot;]</td><td>[&quot;strong&quot;, &quot;emerge market like india middle east overall emea strong engine growth build year post covid acceleration prove role building strong engine growth&quot;]</td></tr><tr><td>&hellip;</td><td>&hellip;</td><td>&hellip;</td><td>&hellip;</td><td>&hellip;</td><td>&hellip;</td></tr><tr><td>15561213</td><td>0</td><td>0</td><td>0</td><td>[&quot;When excluding EDP Russia, like-for-like was up plus 11.1%, supported by plus 10.1% price, mostly made of carryover from last year, where we also posted a positive contribution from volume/mix up plus 1.1%.&quot;, &quot;Finally, moving on to the Rest of the World zone on Page #12, which since the exclusion of Latin America consists of Africa, Middle East, Asia as well as our Russian and CIS platforms.&quot;, … &quot;And on the review, look, I mean both reviews, you were mentioning, the one on Russia, one organic milk in the U.S. are large projects. They take time.&quot;]</td><td>[&quot;exclude edp like like plus 11.1 support plus 10.1 price carryover year post positive contribution volume mix plus 1.1&quot;, &quot;finally move rest world zone page exclusion latin america consist africa middle east asia cis platform&quot;, … &quot;review look mean review mention organic milk u.s. large project time&quot;]</td></tr><tr><td>15561241</td><td>0</td><td>0</td><td>0</td><td>[&quot;Our growth in this quarter has been extremely strong, coming in at 34.5% as reported and at 17.5% on a like-for-like basis, on the back of the recovery of activity following Q1 2022, if you can remember that saw the invasion of Ukraine by Russia, sudden disruptions in the supply chain that led to a significant fall in production particularly in Europe in Q1 2022.&quot;, &quot;On the back of the combination of the three crises that I mentioned earlier: the war in Ukraine, lockdowns in China and the semiconductor shortages.&quot;, &quot;And so if the first semester of the year is strong on the basis of the fact that the first semester of 2022 was also disturbed by a certain number of exogenous events like the war in Ukraine, like the COVID shutdowns, et cetera, and the supply chain difficulties, then it does make sense. The second semester will be a bit slower.&quot;]</td><td>[&quot;growth quarter extremely strong come 34.5 report 17.5 like like basis recovery activity follow q1 remember see invasion sudden disruption supply chain lead significant fall production particularly europe q1&quot;, &quot;combination crise mention early war lockdown china semiconductor shortage&quot;, &quot;semester year strong basis fact semester disturb certain number exogenous event like war like covid shutdown et cetera supply chain difficulty sense second semester bit slow&quot;]</td></tr><tr><td>15561253</td><td>0</td><td>0</td><td>0</td><td>[&quot;As we entered the financial year &#x27;23 in the beginning of &#x27;23, it was set to be a year of recovery, leaving behind the after effects of COVID, Russia-Ukraine war, while on one hand supply chain disruptions were unwinding, synchronous tightening of monetary policy by most central banks, resulting increase in the interest rate and thereby controlling effects of elevated inflation.&quot;]</td><td>[&quot;enter financial year beginning set year recovery leave effect covid war hand supply chain disruption unwind synchronous tightening monetary policy central bank result increase interest rate control effect elevate inflation&quot;]</td></tr><tr><td>15561335</td><td>0</td><td>0</td><td>0</td><td>[&quot;This was mainly due to the fact that throughout 2022, we benefited from electricity supply conditions in Austria from before the Ukraine crisis.&quot;, &quot;This was mainly due to the Belorussian ruble, which in the first quarter of the last year depreciated massively against the euro due to the conflict in Ukraine.&quot;]</td><td>[&quot;mainly fact benefit electricity supply condition austria crisis&quot;, &quot;mainly ruble quarter year depreciate massively euro conflict&quot;]</td></tr><tr><td>15562118</td><td>1</td><td>0</td><td>0</td><td>[&quot;As the first quarter of 2022 was characterized by strong inflation and supply disruptions exacerbated at the end of the quarter by the conflict in Ukraine. On the other hand, in 2023 as supply chain has improved, we have observed that the distributors tend to reduce the inventory and overall selling market tendency were below sell-out market.&quot;, &quot;The termination of our operation in Russia as of March 15, 2022, accounted for around 25% of our total volume decline during the first quarter of 2023.&quot;, … &quot;As I said, in the passenger car entire segment, the effect of Russia accounts for 1/3 of the volume effect. It was 25% for one quarter or the whole group, it&#x27;s 1/3 for the first segment. And regarding the volumes, I was commenting that we have also decided to focus on high-value segments. And now in 18-inch and above represented 58% of our Michelin original equipment and replacement sales for the first quarter five points above the third quarter of 2022.&quot;]</td><td>[&quot;quarter characterize strong inflation supply disruption exacerbate end quarter conflict hand supply chain improve observe distributor tend reduce inventory overall sell market tendency sell market&quot;, &quot;termination operation march account total volume decline quarter&quot;, … &quot;say passenger car entire segment effect account 1/3 volume effect quarter group 1/3 segment volume commenting decide focus high value segment inch represent michelin original equipment replacement sale quarter point quarter&quot;]</td></tr><tr><td>15563447</td><td>0</td><td>0</td><td>0</td><td>[&quot;You can see on this chart, all these currency impact is broken down on sales with a strong positive contribution from the Russian ruble and the U.S. dollar and on the far extreme of the chart, negative contributions, mainly coming from emerging countries with fluctuating currencies in Colombia, in Turkey and Egypt and also a negative impact coming from the Chinese Ren.&quot;, &quot;We see the market recovering in Ukraine, and that is leveraging group&#x27;s strong historical leadership positions and still gaining share.&quot;]</td><td>[&quot;chart currency impact break sale strong positive contribution ruble u.s. dollar far extreme chart negative contribution mainly come emerge country fluctuating currency colombia turkey egypt negative impact come chinese ren&quot;, &quot;market recover leverage group strong historical leadership position gain share&quot;]</td></tr><tr><td>15563450</td><td>0</td><td>0</td><td>0</td><td>[&quot;So your second question on Russia, let me come back on the broader situation. First, we firmly condemn this war, and we have done so from the very beginning. We have, as well, immediately provided substantial assistance to Ukrainians via international relief programs, but as well directly to our local teams in many different ways. So activity in Russia is not business as usual. Not only do we fully comply with all international sanctions, but we go beyond them, as we have stopped market investments and we have significantly reduced the number of brands imported.&quot;]</td><td>[&quot;second question let come broad situation firmly condemn war beginning immediately provide substantial assistance ukrainian international relief program directly local team different way activity business usual fully comply international sanction stop market investment significantly reduce number brand import&quot;]</td></tr><tr><td>15563568</td><td>0</td><td>0</td><td>0</td><td>[&quot;But it&#x27;s worth noting that those results are again saw relatively weak Q1 last year, and now that Europe was impacted by outbreaks of COVID and the beginning of the war in Ukraine.&quot;]</td><td>[&quot;worth note result see relatively weak q1 year europe impact outbreak covid beginning war&quot;]</td></tr><tr><td>15564198</td><td>2</td><td>0</td><td>1</td><td>[&quot;There are no adjustments this quarter only in the comparables in the last year, where SEK 25 million was reserved for the exit from the Russian market.&quot;, &quot;For Chassis Springs, and I hope to say this for the last time, the negative growth was driven by the exit from the Russian market 1 year ago. Apart from that, we saw an increased demand evolving during the quarter. We started off with continued inventory level reductions of customers but improved as the spring high season approach. Adjusted operating profit improved to SEK 194 million. And here, the adjustment is only in the comparables where SEK 25 million was reserved last year for the Russian business.&quot;, … &quot;The change in adjusted operating profit is small compared to last year, but do keep in mind that Q1 last year still has some profits from -- that we originated in Russia. Next slide, please. And now to some of the key financial ratios. As you can see in the report, we have made some changes.&quot;]</td><td>[&quot;adjustment quarter comparable year sek million reserve exit market&quot;, &quot;chassis springs hope time negative growth drive exit market year ago apart see increase demand evolve quarter start continue inventory level reduction customer improve spring high season approach adjust operate profit improve sek million adjustment comparable sek million reserve year business&quot;, … &quot;change adjust operate profit small compare year mind q1 year profit originate slide key financial ratio report change&quot;]</td></tr><tr><td>15564887</td><td>1</td><td>0</td><td>0</td><td>[&quot;This is supported by a 6.3% point tailwind in relation to FX due to the weakness in sterling relative to last year and also our targeted M&amp;A strategy that Mark has just referred to, added 0.7 percentage points to reported growth and actually stripping out the impact of the disposal of our business in Russia last year, the contribution was 1%.&quot;, &quot;We had the same later with the challenge we faced following the Russian invasion in Ukraine. So as he moves on, I&#x27;d say he leaves us in better financially and better shape strategically. So John, thank you very much. Thank you for your contribution.&quot;]</td><td>[&quot;support 6.3 point tailwind relation fx weakness sterling relative year target m&amp;a strategy mark refer add 0.7 percentage point report growth actually stripping impact disposal business year contribution&quot;, &quot;late challenge face follow invasion move leave good financially good shape strategically john thank thank contribution&quot;]</td></tr><tr><td>15566554</td><td>0</td><td>0</td><td>0</td><td>[&quot;We have Russian Ozon, we have Russian Wildberries. We have some smaller local players. So they have been on the market. They have been announcing -- and also the local players try to repeat our success.&quot;]</td><td>[&quot;ozon wildberry small local player market announce local player try repeat success&quot;]</td></tr><tr><td>15567495</td><td>0</td><td>0</td><td>0</td><td>[&quot;Q3, we booked up with the, I think when Russia announces the mobilization and Q4, same story has been reallocated to the region where the risk has been unwritten.&quot;, &quot;If you look at this Page 9, you can see that in Q3, this is where we have booked up the reserve on Russia.&quot;, … &quot;Then in Q3, I think the 29th of September, you might have recollect that Russia has announced the partial mobilization.&quot;]</td><td>[&quot;q3 book think announce mobilization q4 story reallocate region risk unwritten&quot;, &quot;look page q3 book reserve&quot;, … &quot;q3 think 29th september recollect announce partial mobilization&quot;]</td></tr></tbody></table></div>"
      ],
      "text/plain": [
       "shape: (11_731, 6)\n",
       "┌──────────┬───────────────┬───────────────┬──────────────────┬──────────────────┬─────────────────┐\n",
       "│ id       ┆ exit_strategy ┆ stay_strategy ┆ adaptation_strat ┆ text             ┆ processed_text  │\n",
       "│ ---      ┆ ---           ┆ ---           ┆ egy              ┆ ---              ┆ ---             │\n",
       "│ i64      ┆ u32           ┆ u32           ┆ ---              ┆ list[str]        ┆ list[str]       │\n",
       "│          ┆               ┆               ┆ u32              ┆                  ┆                 │\n",
       "╞══════════╪═══════════════╪═══════════════╪══════════════════╪══════════════════╪═════════════════╡\n",
       "│ 5402278  ┆ 0             ┆ 0             ┆ 0                ┆ [\"Thank you to   ┆ [\"thank team    │\n",
       "│          ┆               ┆               ┆                  ┆ our teams who    ┆ select look     │\n",
       "│          ┆               ┆               ┆                  ┆ hav…             ┆ talent …        │\n",
       "│ 5413503  ┆ 0             ┆ 0             ┆ 0                ┆ [\"Poland has     ┆ [\"poland think  │\n",
       "│          ┆               ┆               ┆                  ┆ done really very ┆ sit door give   │\n",
       "│          ┆               ┆               ┆                  ┆ we…              ┆ hap…            │\n",
       "│ 5489134  ┆ 0             ┆ 0             ┆ 0                ┆ [\"This, combined ┆ [\"combine       │\n",
       "│          ┆               ┆               ┆                  ┆ with the geopol… ┆ geopolitics     │\n",
       "│          ┆               ┆               ┆                  ┆                  ┆ rely china…     │\n",
       "│ 5565265  ┆ 0             ┆ 0             ┆ 0                ┆ [\"How this will  ┆ [\"ultimately    │\n",
       "│          ┆               ┆               ┆                  ┆ ultimately       ┆ impact long     │\n",
       "│          ┆               ┆               ┆                  ┆ impac…           ┆ term de…        │\n",
       "│ …        ┆ …             ┆ …             ┆ …                ┆ …                ┆ …               │\n",
       "│ 15564198 ┆ 2             ┆ 0             ┆ 1                ┆ [\"There are no   ┆ [\"adjustment    │\n",
       "│          ┆               ┆               ┆                  ┆ adjustments this ┆ quarter         │\n",
       "│          ┆               ┆               ┆                  ┆ …                ┆ comparable …    │\n",
       "│ 15564887 ┆ 1             ┆ 0             ┆ 0                ┆ [\"This is        ┆ [\"support 6.3   │\n",
       "│          ┆               ┆               ┆                  ┆ supported by a   ┆ point tailwind  │\n",
       "│          ┆               ┆               ┆                  ┆ 6.3% po…         ┆ rel…            │\n",
       "│ 15566554 ┆ 0             ┆ 0             ┆ 0                ┆ [\"We have        ┆ [\"ozon          │\n",
       "│          ┆               ┆               ┆                  ┆ Russian Ozon, we ┆ wildberry small │\n",
       "│          ┆               ┆               ┆                  ┆ have …           ┆ local pla…      │\n",
       "│ 15567495 ┆ 0             ┆ 0             ┆ 0                ┆ [\"Q3, we booked  ┆ [\"q3 book think │\n",
       "│          ┆               ┆               ┆                  ┆ up with the, I   ┆ announce        │\n",
       "│          ┆               ┆               ┆                  ┆ t…               ┆ mobiliz…        │\n",
       "└──────────┴───────────────┴───────────────┴──────────────────┴──────────────────┴─────────────────┘"
      ]
     },
     "execution_count": 7,
     "metadata": {},
     "output_type": "execute_result"
    }
   ],
   "source": [
    "corpus_window_3_join_df = process_text.get_strategies(dataframe=corpus_window_3_join_df)\n",
    "corpus_window_3_join_df.groupby('id').agg(pl.col('exit_strategy', 'stay_strategy', 'adaptation_strategy').sum(), pl.col('text', 'processed_text')).sort('id')"
   ]
  },
  {
   "cell_type": "code",
   "execution_count": 59,
   "metadata": {},
   "outputs": [
    {
     "data": {
      "text/plain": [
       "1449"
      ]
     },
     "execution_count": 59,
     "metadata": {},
     "output_type": "execute_result"
    }
   ],
   "source": [
    "sum(corpus_window_0_df['exit_strategy'])"
   ]
  },
  {
   "cell_type": "markdown",
   "metadata": {},
   "source": [
    "### Analyse corpus"
   ]
  },
  {
   "cell_type": "code",
   "execution_count": 31,
   "metadata": {},
   "outputs": [
    {
     "data": {
      "text/plain": [
       "4893"
      ]
     },
     "execution_count": 31,
     "metadata": {},
     "output_type": "execute_result"
    }
   ],
   "source": [
    "lengths = [len(doc) for doc in corpus_window_0_df['processed_text'].to_list()]\n",
    "np.argmax(np.array(lengths))"
   ]
  },
  {
   "cell_type": "code",
   "execution_count": 32,
   "metadata": {},
   "outputs": [
    {
     "data": {
      "text/plain": [
       "<seaborn.axisgrid.FacetGrid at 0x202e44df0>"
      ]
     },
     "execution_count": 32,
     "metadata": {},
     "output_type": "execute_result"
    },
    {
     "data": {
      "image/png": "[encoded data removed]",
      "text/plain": [
       "<Figure size 500x500 with 1 Axes>"
      ]
     },
     "metadata": {},
     "output_type": "display_data"
    }
   ],
   "source": [
    "sns.displot(np.array(lengths))"
   ]
  },
  {
   "cell_type": "markdown",
   "metadata": {},
   "source": [
    "## Extract topics"
   ]
  },
  {
   "cell_type": "code",
   "execution_count": 9,
   "metadata": {},
   "outputs": [
    {
     "name": "stdout",
     "output_type": "stream",
     "text": [
      "no\n"
     ]
    }
   ],
   "source": [
    "remove_additionl_words = [\"this\", \"that\"]\n",
    "if remove_additionl_words is True:\n",
    "    print(\"yes\")\n",
    "else: print(\"no\")"
   ]
  },
  {
   "cell_type": "code",
   "execution_count": 4,
   "metadata": {},
   "outputs": [
    {
     "data": {
      "application/vnd.jupyter.widget-view+json": {
       "model_id": "eb6e52b7835448dbb458e6d98570d856",
       "version_major": 2,
       "version_minor": 0
      },
      "text/plain": [
       "Downloading (…)a8e1d/.gitattributes:   0%|          | 0.00/1.18k [00:00<?, ?B/s]"
      ]
     },
     "metadata": {},
     "output_type": "display_data"
    },
    {
     "data": {
      "application/vnd.jupyter.widget-view+json": {
       "model_id": "f1fa917546874164b5836d4caff21d89",
       "version_major": 2,
       "version_minor": 0
      },
      "text/plain": [
       "Downloading (…)_Pooling/config.json:   0%|          | 0.00/190 [00:00<?, ?B/s]"
      ]
     },
     "metadata": {},
     "output_type": "display_data"
    },
    {
     "data": {
      "application/vnd.jupyter.widget-view+json": {
       "model_id": "6dbd95e3777e496a8fbae54e79393acf",
       "version_major": 2,
       "version_minor": 0
      },
      "text/plain": [
       "Downloading (…)b20bca8e1d/README.md:   0%|          | 0.00/10.6k [00:00<?, ?B/s]"
      ]
     },
     "metadata": {},
     "output_type": "display_data"
    },
    {
     "data": {
      "application/vnd.jupyter.widget-view+json": {
       "model_id": "d875527dd404429cb9cfb3dafb28cefb",
       "version_major": 2,
       "version_minor": 0
      },
      "text/plain": [
       "Downloading (…)0bca8e1d/config.json:   0%|          | 0.00/571 [00:00<?, ?B/s]"
      ]
     },
     "metadata": {},
     "output_type": "display_data"
    },
    {
     "data": {
      "application/vnd.jupyter.widget-view+json": {
       "model_id": "6639144ea74349b8b1803f279518b8eb",
       "version_major": 2,
       "version_minor": 0
      },
      "text/plain": [
       "Downloading (…)ce_transformers.json:   0%|          | 0.00/116 [00:00<?, ?B/s]"
      ]
     },
     "metadata": {},
     "output_type": "display_data"
    },
    {
     "data": {
      "application/vnd.jupyter.widget-view+json": {
       "model_id": "535297d29a6549f7ac1ea2ea837dc699",
       "version_major": 2,
       "version_minor": 0
      },
      "text/plain": [
       "Downloading (…)e1d/data_config.json:   0%|          | 0.00/39.3k [00:00<?, ?B/s]"
      ]
     },
     "metadata": {},
     "output_type": "display_data"
    },
    {
     "data": {
      "application/vnd.jupyter.widget-view+json": {
       "model_id": "e39b19b6988846ff82f7978d7f98c6f4",
       "version_major": 2,
       "version_minor": 0
      },
      "text/plain": [
       "Downloading pytorch_model.bin:   0%|          | 0.00/438M [00:00<?, ?B/s]"
      ]
     },
     "metadata": {},
     "output_type": "display_data"
    },
    {
     "data": {
      "application/vnd.jupyter.widget-view+json": {
       "model_id": "570392ef542b432baf17ee6647881b49",
       "version_major": 2,
       "version_minor": 0
      },
      "text/plain": [
       "Downloading (…)nce_bert_config.json:   0%|          | 0.00/53.0 [00:00<?, ?B/s]"
      ]
     },
     "metadata": {},
     "output_type": "display_data"
    },
    {
     "data": {
      "application/vnd.jupyter.widget-view+json": {
       "model_id": "e3d3d6a871e247dcbe0f75b0780815bf",
       "version_major": 2,
       "version_minor": 0
      },
      "text/plain": [
       "Downloading (…)cial_tokens_map.json:   0%|          | 0.00/239 [00:00<?, ?B/s]"
      ]
     },
     "metadata": {},
     "output_type": "display_data"
    },
    {
     "data": {
      "application/vnd.jupyter.widget-view+json": {
       "model_id": "a3c6cd7b26e241478f1691e3b040598a",
       "version_major": 2,
       "version_minor": 0
      },
      "text/plain": [
       "Downloading (…)a8e1d/tokenizer.json:   0%|          | 0.00/466k [00:00<?, ?B/s]"
      ]
     },
     "metadata": {},
     "output_type": "display_data"
    },
    {
     "data": {
      "application/vnd.jupyter.widget-view+json": {
       "model_id": "6bc5c7b086f84476bfc8584d4820875e",
       "version_major": 2,
       "version_minor": 0
      },
      "text/plain": [
       "Downloading (…)okenizer_config.json:   0%|          | 0.00/363 [00:00<?, ?B/s]"
      ]
     },
     "metadata": {},
     "output_type": "display_data"
    },
    {
     "data": {
      "application/vnd.jupyter.widget-view+json": {
       "model_id": "3ee12e66da8945a39c33e790383a3841",
       "version_major": 2,
       "version_minor": 0
      },
      "text/plain": [
       "Downloading (…)8e1d/train_script.py:   0%|          | 0.00/13.1k [00:00<?, ?B/s]"
      ]
     },
     "metadata": {},
     "output_type": "display_data"
    },
    {
     "data": {
      "application/vnd.jupyter.widget-view+json": {
       "model_id": "13fef6b0712c48f9931ef67dec5a5f36",
       "version_major": 2,
       "version_minor": 0
      },
      "text/plain": [
       "Downloading (…)b20bca8e1d/vocab.txt:   0%|          | 0.00/232k [00:00<?, ?B/s]"
      ]
     },
     "metadata": {},
     "output_type": "display_data"
    },
    {
     "data": {
      "application/vnd.jupyter.widget-view+json": {
       "model_id": "a5dd74065ef44346ae3738c527ec384e",
       "version_major": 2,
       "version_minor": 0
      },
      "text/plain": [
       "Downloading (…)bca8e1d/modules.json:   0%|          | 0.00/349 [00:00<?, ?B/s]"
      ]
     },
     "metadata": {},
     "output_type": "display_data"
    },
    {
     "name": "stderr",
     "output_type": "stream",
     "text": [
      "2023-09-07 09:53:16 INFO: Checking for updates to resources.json in case models have been updated.  Note: this behavior can be turned off with download_method=None or download_method=DownloadMethod.REUSE_RESOURCES\n"
     ]
    },
    {
     "data": {
      "application/vnd.jupyter.widget-view+json": {
       "model_id": "064c3d5540d14c19806f6fcdf0f921b5",
       "version_major": 2,
       "version_minor": 0
      },
      "text/plain": [
       "Downloading https://raw.githubusercontent.com/stanfordnlp/stanza-resources/main/resources_1.5.0.json:   0%|   …"
      ]
     },
     "metadata": {},
     "output_type": "display_data"
    },
    {
     "name": "stderr",
     "output_type": "stream",
     "text": [
      "2023-09-07 09:53:17 INFO: Loading these models for language: en (English):\n",
      "========================\n",
      "| Processor | Package  |\n",
      "------------------------\n",
      "| tokenize  | combined |\n",
      "| pos       | combined |\n",
      "========================\n",
      "\n",
      "2023-09-07 09:53:17 WARNING: GPU requested, but is not available!\n",
      "2023-09-07 09:53:17 INFO: Using device: cpu\n",
      "2023-09-07 09:53:17 INFO: Loading: tokenize\n",
      "2023-09-07 09:53:17 INFO: Loading: pos\n",
      "2023-09-07 09:53:18 INFO: Done loading processors!\n"
     ]
    }
   ],
   "source": [
    "from bertopic.representation import KeyBERTInspired\n",
    "from bertopic.representation import PartOfSpeech\n",
    "from bertopic.representation import MaximalMarginalRelevance\n",
    "from transformers import pipeline\n",
    "from bertopic.representation import TextGeneration\n",
    "from sklearn.feature_extraction.text import CountVectorizer\n",
    "from sentence_transformers import SentenceTransformer\n",
    "\n",
    "# vectorizer_model = CountVectorizer(ngram_range=(1, 3), stop_words=\"english\", min_df=10)\n",
    "\n",
    "\n",
    "# main_representation = KeyBERTInspired()\n",
    "inspired_model = KeyBERTInspired()\n",
    "\n",
    "# sentence model\n",
    "# sentence_model = SentenceTransformer(\"all-mpnet-base-v2\")\n",
    "sentence_model_light = SentenceTransformer(\"all-MiniLM-L6-v2\")\n",
    "\n",
    "# mmr model\n",
    "mmr_model = MaximalMarginalRelevance(diversity=0.4)\n",
    "\n",
    "# pos model\n",
    "nlp_stanza_pos = spacy_stanza.load_pipeline(\"en\", processors=\"tokenize, pos\")\n",
    "pos_model = PartOfSpeech(nlp_stanza_pos)\n",
    "\n",
    "# Create a generator model\n",
    "prompt = \"I have a topic described by the following keywords: [KEYWORDS]. Based on the previous keywords, what is this topic about?\"\n",
    "generator = pipeline('text2text-generation', model='google/flan-t5-base')\n",
    "generator_model = TextGeneration(generator)\n",
    "\n",
    "# chain models\n",
    "chain_model_1 = [inspired_model, mmr_model]\n",
    "chain_model_2 = [inspired_model, mmr_model, pos_model]\n",
    "# chain_model_3 = [inspired_model, pos_model, mmr_model]\n",
    "generator_chain_model_1 = [inspired_model, mmr_model, generator_model]\n",
    "# generator_chain_model_2 = [inspired_model, mmr_model, pos_model, generator_model]\n",
    "\n",
    "\n",
    "# Add all models together to be run in a single `fit`\n",
    "representation_model = {\n",
    "   \"Main\": inspired_model,\n",
    "   # \"Pos\":  pos_model,\n",
    "   \"Chain: Inspired - MMR\":  chain_model_1,\n",
    "   \"Chain: Inspired - MMR - POS\":  chain_model_2,\n",
    "   # \"Chain: Inspired - POS - MMR\":  chain_model_3,\n",
    "   # \"Generator\": generator_model,\n",
    "   \"Generator chain: Inspired - MMR\": generator_chain_model_1,\n",
    "   # \"Generator chain: Inspired - MMR - POS\": generator_chain_model_2\n",
    "}"
   ]
  },
  {
   "cell_type": "markdown",
   "metadata": {},
   "source": [
    "1.\n",
    "* Sentence window: 0\n",
    "* No join"
   ]
  },
  {
   "cell_type": "code",
   "execution_count": 15,
   "metadata": {},
   "outputs": [
    {
     "data": {
      "application/vnd.jupyter.widget-view+json": {
       "model_id": "fd86a670798146329612ddfdfc4b3244",
       "version_major": 2,
       "version_minor": 0
      },
      "text/plain": [
       "Batches:   0%|          | 0/1411 [00:00<?, ?it/s]"
      ]
     },
     "metadata": {},
     "output_type": "display_data"
    },
    {
     "name": "stderr",
     "output_type": "stream",
     "text": [
      "2023-09-04 13:09:25,373 - BERTopic - Transformed documents to Embeddings\n",
      "2023-09-04 13:10:06,270 - BERTopic - Reduced dimensionality\n"
     ]
    },
    {
     "name": "stdout",
     "output_type": "stream",
     "text": [
      "huggingface/tokenizers: The current process just got forked, after parallelism has already been used. Disabling parallelism to avoid deadlocks...\n",
      "To disable this warning, you can either:\n",
      "\t- Avoid using `tokenizers` before the fork if possible\n",
      "\t- Explicitly set the environment variable TOKENIZERS_PARALLELISM=(true | false)\n",
      "huggingface/tokenizers: The current process just got forked, after parallelism has already been used. Disabling parallelism to avoid deadlocks...\n",
      "To disable this warning, you can either:\n",
      "\t- Avoid using `tokenizers` before the fork if possible\n",
      "\t- Explicitly set the environment variable TOKENIZERS_PARALLELISM=(true | false)\n",
      "huggingface/tokenizers: The current process just got forked, after parallelism has already been used. Disabling parallelism to avoid deadlocks...\n",
      "To disable this warning, you can either:\n",
      "\t- Avoid using `tokenizers` before the fork if possible\n",
      "\t- Explicitly set the environment variable TOKENIZERS_PARALLELISM=(true | false)\n",
      "huggingface/tokenizers: The current process just got forked, after parallelism has already been used. Disabling parallelism to avoid deadlocks...\n",
      "To disable this warning, you can either:\n",
      "\t- Avoid using `tokenizers` before the fork if possible\n",
      "\t- Explicitly set the environment variable TOKENIZERS_PARALLELISM=(true | false)\n",
      "huggingface/tokenizers: The current process just got forked, after parallelism has already been used. Disabling parallelism to avoid deadlocks...\n",
      "To disable this warning, you can either:\n",
      "\t- Avoid using `tokenizers` before the fork if possible\n",
      "\t- Explicitly set the environment variable TOKENIZERS_PARALLELISM=(true | false)\n"
     ]
    },
    {
     "name": "stderr",
     "output_type": "stream",
     "text": [
      "2023-09-04 13:16:38,424 - BERTopic - Clustered reduced embeddings\n",
      "100%|██████████| 427/427 [02:59<00:00,  2.38it/s]\n"
     ]
    }
   ],
   "source": [
    "topic_model_0, topics_0, probs_0 = topic_extractor.bert_advanced(corpus_window_0_df['processed_text'].to_list(), representation_model=representation_model, embedding_model=sentence_model_light)"
   ]
  },
  {
   "cell_type": "code",
   "execution_count": 18,
   "metadata": {},
   "outputs": [
    {
     "data": {
      "text/html": [
       "<div>\n",
       "<style scoped>\n",
       "    .dataframe tbody tr th:only-of-type {\n",
       "        vertical-align: middle;\n",
       "    }\n",
       "\n",
       "    .dataframe tbody tr th {\n",
       "        vertical-align: top;\n",
       "    }\n",
       "\n",
       "    .dataframe thead th {\n",
       "        text-align: right;\n",
       "    }\n",
       "</style>\n",
       "<table border=\"1\" class=\"dataframe\">\n",
       "  <thead>\n",
       "    <tr style=\"text-align: right;\">\n",
       "      <th></th>\n",
       "      <th>Topic</th>\n",
       "      <th>Count</th>\n",
       "      <th>Name</th>\n",
       "      <th>Representation</th>\n",
       "      <th>Chain: Inspired - MMR</th>\n",
       "      <th>Chain: Inspired - MMR - POS</th>\n",
       "      <th>Generator chain: Inspired - MMR</th>\n",
       "      <th>Representative_Docs</th>\n",
       "    </tr>\n",
       "  </thead>\n",
       "  <tbody>\n",
       "    <tr>\n",
       "      <th>0</th>\n",
       "      <td>-1</td>\n",
       "      <td>22377</td>\n",
       "      <td>-1_inflation_headwind_demand_economy</td>\n",
       "      <td>[inflation, headwind, demand, economy, market,...</td>\n",
       "      <td>[inflation, headwind, demand, economy, market,...</td>\n",
       "      <td>[year, quarter, business, impact, war, market,...</td>\n",
       "      <td>[covid pandemic, , , , , , , , , ]</td>\n",
       "      <td>[good news feel like headwind pandemic lot cha...</td>\n",
       "    </tr>\n",
       "    <tr>\n",
       "      <th>1</th>\n",
       "      <td>0</td>\n",
       "      <td>773</td>\n",
       "      <td>0_belarus_belarusian_kazakhstan_moldova</td>\n",
       "      <td>[belarus, belarusian, kazakhstan, moldova, cou...</td>\n",
       "      <td>[belarus, belarusian, kazakhstan, moldova, cou...</td>\n",
       "      <td>[belarusian, shipment, talent, activity, regio...</td>\n",
       "      <td>[belarusian company moldova, , , , , , , , , ]</td>\n",
       "      <td>[year go belarus, business belarus, belarus]</td>\n",
       "    </tr>\n",
       "    <tr>\n",
       "      <th>2</th>\n",
       "      <td>1</td>\n",
       "      <td>772</td>\n",
       "      <td>1_energy_renewable_electricity_efficiency</td>\n",
       "      <td>[energy, renewable, electricity, efficiency, d...</td>\n",
       "      <td>[energy, renewable, electricity, efficiency, d...</td>\n",
       "      <td>[energy, security, transition, electricity, re...</td>\n",
       "      <td>[renewable energy, , , , , , , , , ]</td>\n",
       "      <td>[obviously happen increase need energy securit...</td>\n",
       "    </tr>\n",
       "    <tr>\n",
       "      <th>3</th>\n",
       "      <td>2</td>\n",
       "      <td>553</td>\n",
       "      <td>2_logistics_supplier_supply_inventory</td>\n",
       "      <td>[logistics, supplier, supply, inventory, sourc...</td>\n",
       "      <td>[logistics, supplier, supply, inventory, sourc...</td>\n",
       "      <td>[chain, supply, disruption, constraint, invent...</td>\n",
       "      <td>[logistics of production, , , , , , , , , ]</td>\n",
       "      <td>[mention supply chain, u.k. war event see disr...</td>\n",
       "    </tr>\n",
       "    <tr>\n",
       "      <th>4</th>\n",
       "      <td>3</td>\n",
       "      <td>418</td>\n",
       "      <td>3_coal_market_gas_demand</td>\n",
       "      <td>[coal, market, gas, demand, coking, supply, an...</td>\n",
       "      <td>[coal, market, gas, demand, coking, supply, an...</td>\n",
       "      <td>[coal, thermal, coking, pci, ban, import, buye...</td>\n",
       "      <td>[coal tar, , , , , , , , , ]</td>\n",
       "      <td>[country continue coal, coal market, coal market]</td>\n",
       "    </tr>\n",
       "    <tr>\n",
       "      <th>...</th>\n",
       "      <td>...</td>\n",
       "      <td>...</td>\n",
       "      <td>...</td>\n",
       "      <td>...</td>\n",
       "      <td>...</td>\n",
       "      <td>...</td>\n",
       "      <td>...</td>\n",
       "      <td>...</td>\n",
       "    </tr>\n",
       "    <tr>\n",
       "      <th>422</th>\n",
       "      <td>421</td>\n",
       "      <td>10</td>\n",
       "      <td>421_export_exporting_exporter_europe</td>\n",
       "      <td>[export, exporting, exporter, europe, european...</td>\n",
       "      <td>[export, exporting, exporter, europe, european...</td>\n",
       "      <td>[gnp, export, paper, memory, quote, unlikely, ...</td>\n",
       "      <td>[exporting to europe, , , , , , , , , ]</td>\n",
       "      <td>[absolutely right paper export anymore europea...</td>\n",
       "    </tr>\n",
       "    <tr>\n",
       "      <th>423</th>\n",
       "      <td>422</td>\n",
       "      <td>10</td>\n",
       "      <td>422_war_question_ask_think</td>\n",
       "      <td>[war, question, ask, think, we, point, positio...</td>\n",
       "      <td>[war, question, ask, think, we, point, positio...</td>\n",
       "      <td>[coloplast, question, matt, happy, point, turn...</td>\n",
       "      <td>[coloplast, , , , , , , , , ]</td>\n",
       "      <td>[second question war, question war think we'd ...</td>\n",
       "    </tr>\n",
       "    <tr>\n",
       "      <th>424</th>\n",
       "      <td>423</td>\n",
       "      <td>10</td>\n",
       "      <td>423_gas_market_shortage_supply</td>\n",
       "      <td>[gas, market, shortage, supply, price, cost, u...</td>\n",
       "      <td>[gas, market, shortage, supply, price, cost, u...</td>\n",
       "      <td>[gas, price, cut, european, usd, flow, bottlen...</td>\n",
       "      <td>[gas price in the european union, , , , , , , ...</td>\n",
       "      <td>[scenario course critical cut gas import price...</td>\n",
       "    </tr>\n",
       "    <tr>\n",
       "      <th>425</th>\n",
       "      <td>424</td>\n",
       "      <td>10</td>\n",
       "      <td>424_energy_food_economy_risk</td>\n",
       "      <td>[energy, food, economy, risk, crisis, geopolit...</td>\n",
       "      <td>[energy, food, economy, risk, crisis, geopolit...</td>\n",
       "      <td>[food, unjustified, downside, disconnect, comm...</td>\n",
       "      <td>[food crisis, , , , , , , , , ]</td>\n",
       "      <td>[think see difficult disconnect economy west c...</td>\n",
       "    </tr>\n",
       "    <tr>\n",
       "      <th>426</th>\n",
       "      <td>425</td>\n",
       "      <td>10</td>\n",
       "      <td>425_volume_impact_decrease_exposure</td>\n",
       "      <td>[volume, impact, decrease, exposure, effect, v...</td>\n",
       "      <td>[volume, impact, decrease, exposure, effect, v...</td>\n",
       "      <td>[volume, vis, registration, strip, reposition,...</td>\n",
       "      <td>[resize a segment, , , , , , , , , ]</td>\n",
       "      <td>[volume impact minus 8.9 point drive registrat...</td>\n",
       "    </tr>\n",
       "  </tbody>\n",
       "</table>\n",
       "<p>427 rows × 8 columns</p>\n",
       "</div>"
      ],
      "text/plain": [
       "     Topic  Count                                       Name  \\\n",
       "0       -1  22377       -1_inflation_headwind_demand_economy   \n",
       "1        0    773    0_belarus_belarusian_kazakhstan_moldova   \n",
       "2        1    772  1_energy_renewable_electricity_efficiency   \n",
       "3        2    553      2_logistics_supplier_supply_inventory   \n",
       "4        3    418                   3_coal_market_gas_demand   \n",
       "..     ...    ...                                        ...   \n",
       "422    421     10       421_export_exporting_exporter_europe   \n",
       "423    422     10                 422_war_question_ask_think   \n",
       "424    423     10             423_gas_market_shortage_supply   \n",
       "425    424     10               424_energy_food_economy_risk   \n",
       "426    425     10        425_volume_impact_decrease_exposure   \n",
       "\n",
       "                                        Representation  \\\n",
       "0    [inflation, headwind, demand, economy, market,...   \n",
       "1    [belarus, belarusian, kazakhstan, moldova, cou...   \n",
       "2    [energy, renewable, electricity, efficiency, d...   \n",
       "3    [logistics, supplier, supply, inventory, sourc...   \n",
       "4    [coal, market, gas, demand, coking, supply, an...   \n",
       "..                                                 ...   \n",
       "422  [export, exporting, exporter, europe, european...   \n",
       "423  [war, question, ask, think, we, point, positio...   \n",
       "424  [gas, market, shortage, supply, price, cost, u...   \n",
       "425  [energy, food, economy, risk, crisis, geopolit...   \n",
       "426  [volume, impact, decrease, exposure, effect, v...   \n",
       "\n",
       "                                 Chain: Inspired - MMR  \\\n",
       "0    [inflation, headwind, demand, economy, market,...   \n",
       "1    [belarus, belarusian, kazakhstan, moldova, cou...   \n",
       "2    [energy, renewable, electricity, efficiency, d...   \n",
       "3    [logistics, supplier, supply, inventory, sourc...   \n",
       "4    [coal, market, gas, demand, coking, supply, an...   \n",
       "..                                                 ...   \n",
       "422  [export, exporting, exporter, europe, european...   \n",
       "423  [war, question, ask, think, we, point, positio...   \n",
       "424  [gas, market, shortage, supply, price, cost, u...   \n",
       "425  [energy, food, economy, risk, crisis, geopolit...   \n",
       "426  [volume, impact, decrease, exposure, effect, v...   \n",
       "\n",
       "                           Chain: Inspired - MMR - POS  \\\n",
       "0    [year, quarter, business, impact, war, market,...   \n",
       "1    [belarusian, shipment, talent, activity, regio...   \n",
       "2    [energy, security, transition, electricity, re...   \n",
       "3    [chain, supply, disruption, constraint, invent...   \n",
       "4    [coal, thermal, coking, pci, ban, import, buye...   \n",
       "..                                                 ...   \n",
       "422  [gnp, export, paper, memory, quote, unlikely, ...   \n",
       "423  [coloplast, question, matt, happy, point, turn...   \n",
       "424  [gas, price, cut, european, usd, flow, bottlen...   \n",
       "425  [food, unjustified, downside, disconnect, comm...   \n",
       "426  [volume, vis, registration, strip, reposition,...   \n",
       "\n",
       "                       Generator chain: Inspired - MMR  \\\n",
       "0                   [covid pandemic, , , , , , , , , ]   \n",
       "1       [belarusian company moldova, , , , , , , , , ]   \n",
       "2                 [renewable energy, , , , , , , , , ]   \n",
       "3          [logistics of production, , , , , , , , , ]   \n",
       "4                         [coal tar, , , , , , , , , ]   \n",
       "..                                                 ...   \n",
       "422            [exporting to europe, , , , , , , , , ]   \n",
       "423                      [coloplast, , , , , , , , , ]   \n",
       "424  [gas price in the european union, , , , , , , ...   \n",
       "425                    [food crisis, , , , , , , , , ]   \n",
       "426               [resize a segment, , , , , , , , , ]   \n",
       "\n",
       "                                   Representative_Docs  \n",
       "0    [good news feel like headwind pandemic lot cha...  \n",
       "1         [year go belarus, business belarus, belarus]  \n",
       "2    [obviously happen increase need energy securit...  \n",
       "3    [mention supply chain, u.k. war event see disr...  \n",
       "4    [country continue coal, coal market, coal market]  \n",
       "..                                                 ...  \n",
       "422  [absolutely right paper export anymore europea...  \n",
       "423  [second question war, question war think we'd ...  \n",
       "424  [scenario course critical cut gas import price...  \n",
       "425  [think see difficult disconnect economy west c...  \n",
       "426  [volume impact minus 8.9 point drive registrat...  \n",
       "\n",
       "[427 rows x 8 columns]"
      ]
     },
     "execution_count": 18,
     "metadata": {},
     "output_type": "execute_result"
    }
   ],
   "source": [
    "topic_model_0.get_topic_info()"
   ]
  },
  {
   "cell_type": "code",
   "execution_count": 43,
   "metadata": {},
   "outputs": [
    {
     "name": "stderr",
     "output_type": "stream",
     "text": [
      "100%|██████████| 425/425 [01:41<00:00,  4.21it/s]\n"
     ]
    }
   ],
   "source": [
    "hierarchical_topics = topic_model_0.hierarchical_topics(corpus_window_0_df['processed_text'].to_list())"
   ]
  },
  {
   "cell_type": "markdown",
   "metadata": {},
   "source": [
    "Hierarchische Gliederung der Themen"
   ]
  },
  {
   "cell_type": "code",
   "execution_count": 46,
   "metadata": {},
   "outputs": [
    {
     "data": {
      "application/vnd.plotly.v1+json": {
       "config": {
        "plotlyServerURL": "https://plot.ly"
       },
       "data": [
        {
         "hoverinfo": "text",
         "marker": {
          "color": "rgb(61,153,112)"
         },
         "mode": "lines",
         "text": [
          "energy_food_economy_risk_crisis",
          "",
          "",
          "foodtech_food_hunger_agricultural_gmo"
         ],
         "type": "scatter",
         "x": [
          0,
          0.5902094187010447,
          0.5902094187010447,
          0
         ],
         "xaxis": "x",
         "y": [
          -5,
          -5,
          -15,
          -15
         ],
         "yaxis": "y"
        },
        {
         "hoverinfo": "text",
         "marker": {
          "color": "rgb(255,65,54)"
         },
         "mode": "lines",
         "text": [
          "war_economy_gdp_economic_affect",
          "",
          "",
          "invasion_economic_economy_impact_sanction"
         ],
         "type": "scatter",
         "x": [
          0,
          0.7700016273477062,
          0.7700016273477062,
          0
         ],
         "xaxis": "x",
         "y": [
          -45,
          -45,
          -55,
          -55
         ],
         "yaxis": "y"
        },
        {
         "hoverinfo": "text",
         "marker": {
          "color": "rgb(255,65,54)"
         },
         "mode": "lines",
         "text": [
          "macroeconomic_economic_economy_impact_consequence",
          "",
          "",
          "war_economy_economic_gdp_affect"
         ],
         "type": "scatter",
         "x": [
          0,
          0.8579022895498486,
          0.8579022895498486,
          0.7700016273477062
         ],
         "xaxis": "x",
         "y": [
          -35,
          -35,
          -50,
          -50
         ],
         "yaxis": "y"
        },
        {
         "hoverinfo": "text",
         "marker": {
          "color": "rgb(255,65,54)"
         },
         "mode": "lines",
         "text": [
          "war_euro_europe_eurozone_macroeconomic",
          "",
          "",
          "economy_war_economic_macroeconomic_gdp"
         ],
         "type": "scatter",
         "x": [
          0,
          0.8895431338839576,
          0.8895431338839576,
          0.8579022895498486
         ],
         "xaxis": "x",
         "y": [
          -25,
          -25,
          -42.5,
          -42.5
         ],
         "yaxis": "y"
        },
        {
         "hoverinfo": "text",
         "marker": {
          "color": "rgb(35,205,205)"
         },
         "mode": "lines",
         "text": [
          "pandemic_crisis_illness_war_viral",
          "",
          "",
          "inflation_pandemic_recession_macroeconomic_monetary"
         ],
         "type": "scatter",
         "x": [
          0,
          0.6876276414921998,
          0.6876276414921998,
          0
         ],
         "xaxis": "x",
         "y": [
          -75,
          -75,
          -85,
          -85
         ],
         "yaxis": "y"
        },
        {
         "hoverinfo": "text",
         "marker": {
          "color": "rgb(35,205,205)"
         },
         "mode": "lines",
         "text": [
          "macroeconomic_economic_pandemic_market_economy",
          "",
          "",
          "pandemic_illness_war_crisis_viral"
         ],
         "type": "scatter",
         "x": [
          0,
          0.8545393928163039,
          0.8545393928163039,
          0.6876276414921998
         ],
         "xaxis": "x",
         "y": [
          -65,
          -65,
          -80,
          -80
         ],
         "yaxis": "y"
        },
        {
         "hoverinfo": "text",
         "marker": {
          "color": "rgb(0,116,217)"
         },
         "mode": "lines",
         "text": [
          "economy_war_economic_macroeconomic_gdp",
          "",
          "",
          "pandemic_covid_illness_war_crisis"
         ],
         "type": "scatter",
         "x": [
          0.8895431338839576,
          1.140370863476728,
          1.140370863476728,
          0.8545393928163039
         ],
         "xaxis": "x",
         "y": [
          -33.75,
          -33.75,
          -72.5,
          -72.5
         ],
         "yaxis": "y"
        },
        {
         "hoverinfo": "text",
         "marker": {
          "color": "rgb(0,116,217)"
         },
         "mode": "lines",
         "text": [
          "foodtech_food_hunger_agricultural_gmo",
          "",
          "",
          "pandemic_crisis_war_coronavirus_recession"
         ],
         "type": "scatter",
         "x": [
          0.5902094187010447,
          1.2247592844582258,
          1.2247592844582258,
          1.140370863476728
         ],
         "xaxis": "x",
         "y": [
          -10,
          -10,
          -53.125,
          -53.125
         ],
         "yaxis": "y"
        },
        {
         "hoverinfo": "text",
         "marker": {
          "color": "rgb(133,20,75)"
         },
         "mode": "lines",
         "text": [
          "geopolitical_geopolitically_geopolitics_sociopolitical_diplomatic",
          "",
          "",
          "geopolitical_uncertainty_crisis_economic_forecast"
         ],
         "type": "scatter",
         "x": [
          0,
          0.648724674776218,
          0.648724674776218,
          0
         ],
         "xaxis": "x",
         "y": [
          -95,
          -95,
          -105,
          -105
         ],
         "yaxis": "y"
        },
        {
         "hoverinfo": "text",
         "marker": {
          "color": "rgb(255,220,0)"
         },
         "mode": "lines",
         "text": [
          "uncertainty_uncertain_unpredictable_conflict_unpredictability",
          "",
          "",
          "uncertainty_uncertain_war_wartime_optimistic"
         ],
         "type": "scatter",
         "x": [
          0,
          0.5193628515075772,
          0.5193628515075772,
          0
         ],
         "xaxis": "x",
         "y": [
          -115,
          -115,
          -125,
          -125
         ],
         "yaxis": "y"
        },
        {
         "hoverinfo": "text",
         "marker": {
          "color": "rgb(0,116,217)"
         },
         "mode": "lines",
         "text": [
          "geopolitical_geopolitically_geopolitics_sociopolitical_diplomatic",
          "",
          "",
          "uncertainty_uncertain_hesitant_confident_reliable"
         ],
         "type": "scatter",
         "x": [
          0.648724674776218,
          1.0503964953960703,
          1.0503964953960703,
          0.5193628515075772
         ],
         "xaxis": "x",
         "y": [
          -100,
          -100,
          -120,
          -120
         ],
         "yaxis": "y"
        },
        {
         "hoverinfo": "text",
         "marker": {
          "color": "rgb(40,35,35)"
         },
         "mode": "lines",
         "text": [
          "inflation_inflationary_macroeconomic_macroeconomics_recession",
          "",
          "",
          "inflation_inflationary_interest_macroeconomic_recession"
         ],
         "type": "scatter",
         "x": [
          0,
          0.5969382956150321,
          0.5969382956150321,
          0
         ],
         "xaxis": "x",
         "y": [
          -145,
          -145,
          -155,
          -155
         ],
         "yaxis": "y"
        },
        {
         "hoverinfo": "text",
         "marker": {
          "color": "rgb(40,35,35)"
         },
         "mode": "lines",
         "text": [
          "macroeconomic_debt_macro_inflation_recession",
          "",
          "",
          "inflation_inflationary_interest_macroeconomic_recession"
         ],
         "type": "scatter",
         "x": [
          0,
          0.7994551116404828,
          0.7994551116404828,
          0.5969382956150321
         ],
         "xaxis": "x",
         "y": [
          -135,
          -135,
          -150,
          -150
         ],
         "yaxis": "y"
        },
        {
         "hoverinfo": "text",
         "marker": {
          "color": "rgb(40,35,35)"
         },
         "mode": "lines",
         "text": [
          "inflation_inflationary_recession_macroeconomic_interest",
          "",
          "",
          "interest_asset_market_rate_effect"
         ],
         "type": "scatter",
         "x": [
          0.7994551116404828,
          0.875437728879516,
          0.875437728879516,
          0
         ],
         "xaxis": "x",
         "y": [
          -142.5,
          -142.5,
          -165,
          -165
         ],
         "yaxis": "y"
        },
        {
         "hoverinfo": "text",
         "marker": {
          "color": "rgb(0,116,217)"
         },
         "mode": "lines",
         "text": [
          "uncertainty_uncertain_geopolitical_geopolitically_geopolitics",
          "",
          "",
          "inflation_inflationary_interest_macroeconomic_recession"
         ],
         "type": "scatter",
         "x": [
          1.0503964953960703,
          1.124922736965156,
          1.124922736965156,
          0.875437728879516
         ],
         "xaxis": "x",
         "y": [
          -110,
          -110,
          -153.75,
          -153.75
         ],
         "yaxis": "y"
        },
        {
         "hoverinfo": "text",
         "marker": {
          "color": "rgb(0,116,217)"
         },
         "mode": "lines",
         "text": [
          "pandemic_war_crisis_hunger_inflation",
          "",
          "",
          "inflation_inflationary_recession_macroeconomic_interest"
         ],
         "type": "scatter",
         "x": [
          1.2247592844582258,
          1.325262060924619,
          1.325262060924619,
          1.124922736965156
         ],
         "xaxis": "x",
         "y": [
          -31.5625,
          -31.5625,
          -131.875,
          -131.875
         ],
         "yaxis": "y"
        },
        {
         "hoverinfo": "text",
         "marker": {
          "color": "rgb(61,153,112)"
         },
         "mode": "lines",
         "text": [
          "challenge_face_situation_decision_team",
          "",
          "",
          "inflation_inflationary_covid_shortage_supply"
         ],
         "type": "scatter",
         "x": [
          0,
          0.8121462411947189,
          0.8121462411947189,
          0
         ],
         "xaxis": "x",
         "y": [
          -175,
          -175,
          -185,
          -185
         ],
         "yaxis": "y"
        },
        {
         "hoverinfo": "text",
         "marker": {
          "color": "rgb(61,153,112)"
         },
         "mode": "lines",
         "text": [
          "covid_pandemic_coronavirus_war_crisis",
          "",
          "",
          "inflation_inflationary_covid_pandemic_recession"
         ],
         "type": "scatter",
         "x": [
          0,
          0.6650236505645091,
          0.6650236505645091,
          0
         ],
         "xaxis": "x",
         "y": [
          -195,
          -195,
          -205,
          -205
         ],
         "yaxis": "y"
        },
        {
         "hoverinfo": "text",
         "marker": {
          "color": "rgb(61,153,112)"
         },
         "mode": "lines",
         "text": [
          "challenge_struggle_supply_combat_get",
          "",
          "",
          "covid_pandemic_coronavirus_war_crisis"
         ],
         "type": "scatter",
         "x": [
          0.8121462411947189,
          0.9332249505940716,
          0.9332249505940716,
          0.6650236505645091
         ],
         "xaxis": "x",
         "y": [
          -180,
          -180,
          -200,
          -200
         ],
         "yaxis": "y"
        },
        {
         "hoverinfo": "text",
         "marker": {
          "color": "rgb(255,65,54)"
         },
         "mode": "lines",
         "text": [
          "logistics_supplier_supply_inventory_sourcing",
          "",
          "",
          "covid_pandemic_logistics_shortage_supply"
         ],
         "type": "scatter",
         "x": [
          0,
          0.4254533755445459,
          0.4254533755445459,
          0
         ],
         "xaxis": "x",
         "y": [
          -225,
          -225,
          -235,
          -235
         ],
         "yaxis": "y"
        },
        {
         "hoverinfo": "text",
         "marker": {
          "color": "rgb(255,65,54)"
         },
         "mode": "lines",
         "text": [
          "inflation_inflationary_macroeconomic_supply_shortage",
          "",
          "",
          "logistics_supplier_supply_chain_inventory"
         ],
         "type": "scatter",
         "x": [
          0,
          0.5653922623255186,
          0.5653922623255186,
          0.4254533755445459
         ],
         "xaxis": "x",
         "y": [
          -215,
          -215,
          -230,
          -230
         ],
         "yaxis": "y"
        },
        {
         "hoverinfo": "text",
         "marker": {
          "color": "rgb(255,65,54)"
         },
         "mode": "lines",
         "text": [
          "logistics_supply_supplier_shortage_inventory",
          "",
          "",
          "inflation_inflationary_geopolitical_economy_economic"
         ],
         "type": "scatter",
         "x": [
          0.5653922623255186,
          0.8297765656830104,
          0.8297765656830104,
          0
         ],
         "xaxis": "x",
         "y": [
          -222.5,
          -222.5,
          -245,
          -245
         ],
         "yaxis": "y"
        },
        {
         "hoverinfo": "text",
         "marker": {
          "color": "rgb(0,116,217)"
         },
         "mode": "lines",
         "text": [
          "covid_pandemic_coronavirus_war_crisis",
          "",
          "",
          "logistics_shortage_supply_disruption_chain"
         ],
         "type": "scatter",
         "x": [
          0.9332249505940716,
          1.0186603181160907,
          1.0186603181160907,
          0.8297765656830104
         ],
         "xaxis": "x",
         "y": [
          -190,
          -190,
          -233.75,
          -233.75
         ],
         "yaxis": "y"
        },
        {
         "hoverinfo": "text",
         "marker": {
          "color": "rgb(35,205,205)"
         },
         "mode": "lines",
         "text": [
          "inflation_inflationary_inflationist_pressure_war",
          "",
          "",
          "inflation_inflationary_macroeconomic_economy_economic"
         ],
         "type": "scatter",
         "x": [
          0,
          0.5976456844997594,
          0.5976456844997594,
          0
         ],
         "xaxis": "x",
         "y": [
          -265,
          -265,
          -275,
          -275
         ],
         "yaxis": "y"
        },
        {
         "hoverinfo": "text",
         "marker": {
          "color": "rgb(35,205,205)"
         },
         "mode": "lines",
         "text": [
          "inflation_inflationary_inflationist_macroeconomic_economic",
          "",
          "",
          "inflation_austerity_economic_energy_europe"
         ],
         "type": "scatter",
         "x": [
          0.5976456844997594,
          0.773973900575057,
          0.773973900575057,
          0
         ],
         "xaxis": "x",
         "y": [
          -270,
          -270,
          -285,
          -285
         ],
         "yaxis": "y"
        },
        {
         "hoverinfo": "text",
         "marker": {
          "color": "rgb(35,205,205)"
         },
         "mode": "lines",
         "text": [
          "inflation_europe_euro_economic_european",
          "",
          "",
          "inflation_inflationary_economy_austerity_economic"
         ],
         "type": "scatter",
         "x": [
          0,
          0.8392905272245075,
          0.8392905272245075,
          0.773973900575057
         ],
         "xaxis": "x",
         "y": [
          -255,
          -255,
          -277.5,
          -277.5
         ],
         "yaxis": "y"
        },
        {
         "hoverinfo": "text",
         "marker": {
          "color": "rgb(61,153,112)"
         },
         "mode": "lines",
         "text": [
          "inflation_inflationary_demand_consumer_consumption",
          "",
          "",
          "consumer_sentiment_postwar_demand_economy"
         ],
         "type": "scatter",
         "x": [
          0,
          0.5707985914486613,
          0.5707985914486613,
          0
         ],
         "xaxis": "x",
         "y": [
          -295,
          -295,
          -305,
          -305
         ],
         "yaxis": "y"
        },
        {
         "hoverinfo": "text",
         "marker": {
          "color": "rgb(0,116,217)"
         },
         "mode": "lines",
         "text": [
          "inflation_inflationary_economic_economy_dollar",
          "",
          "",
          "consumer_sentiment_postwar_economy_demand"
         ],
         "type": "scatter",
         "x": [
          0.8392905272245075,
          1.0856216301008643,
          1.0856216301008643,
          0.5707985914486613
         ],
         "xaxis": "x",
         "y": [
          -266.25,
          -266.25,
          -300,
          -300
         ],
         "yaxis": "y"
        },
        {
         "hoverinfo": "text",
         "marker": {
          "color": "rgb(0,116,217)"
         },
         "mode": "lines",
         "text": [
          "logistics_supplier_chain_supply_inventory",
          "",
          "",
          "consumer_sentiment_demand_war_austerity"
         ],
         "type": "scatter",
         "x": [
          1.0186603181160907,
          1.2456754931385008,
          1.2456754931385008,
          1.0856216301008643
         ],
         "xaxis": "x",
         "y": [
          -211.875,
          -211.875,
          -283.125,
          -283.125
         ],
         "yaxis": "y"
        },
        {
         "hoverinfo": "text",
         "marker": {
          "color": "rgb(0,116,217)"
         },
         "mode": "lines",
         "text": [
          "inflation_inflationary_macroeconomic_recession_interest",
          "",
          "",
          "inflation_supply_inflationary_shortage_logistics"
         ],
         "type": "scatter",
         "x": [
          1.325262060924619,
          1.3466979174655205,
          1.3466979174655205,
          1.2456754931385008
         ],
         "xaxis": "x",
         "y": [
          -81.71875,
          -81.71875,
          -247.5,
          -247.5
         ],
         "yaxis": "y"
        },
        {
         "hoverinfo": "text",
         "marker": {
          "color": "rgb(255,65,54)"
         },
         "mode": "lines",
         "text": [
          "covid_china_shanghai_pandemic_chinese",
          "",
          "",
          "covid_china_logistics_shortage_chinese"
         ],
         "type": "scatter",
         "x": [
          0,
          0.4126310142400629,
          0.4126310142400629,
          0
         ],
         "xaxis": "x",
         "y": [
          -325,
          -325,
          -335,
          -335
         ],
         "yaxis": "y"
        },
        {
         "hoverinfo": "text",
         "marker": {
          "color": "rgb(255,65,54)"
         },
         "mode": "lines",
         "text": [
          "inflation_inflationary_macroeconomic_recession_shanghai",
          "",
          "",
          "covid_china_shanghai_pandemic_chinese"
         ],
         "type": "scatter",
         "x": [
          0,
          0.45734105853639445,
          0.45734105853639445,
          0.4126310142400629
         ],
         "xaxis": "x",
         "y": [
          -315,
          -315,
          -330,
          -330
         ],
         "yaxis": "y"
        },
        {
         "hoverinfo": "text",
         "marker": {
          "color": "rgb(255,65,54)"
         },
         "mode": "lines",
         "text": [
          "lockdown_china_shanghai_chain_shortage",
          "",
          "",
          "shanghai_lockdown_china_chinese_lock"
         ],
         "type": "scatter",
         "x": [
          0,
          0.5260362260992018,
          0.5260362260992018,
          0
         ],
         "xaxis": "x",
         "y": [
          -345,
          -345,
          -355,
          -355
         ],
         "yaxis": "y"
        },
        {
         "hoverinfo": "text",
         "marker": {
          "color": "rgb(255,65,54)"
         },
         "mode": "lines",
         "text": [
          "covid_china_shanghai_inflation_chinese",
          "",
          "",
          "lockdown_china_shanghai_chinese_lock"
         ],
         "type": "scatter",
         "x": [
          0.45734105853639445,
          0.6362505373526506,
          0.6362505373526506,
          0.5260362260992018
         ],
         "xaxis": "x",
         "y": [
          -322.5,
          -322.5,
          -350,
          -350
         ],
         "yaxis": "y"
        },
        {
         "hoverinfo": "text",
         "marker": {
          "color": "rgb(0,116,217)"
         },
         "mode": "lines",
         "text": [
          "inflation_macroeconomic_inflationary_recession_market",
          "",
          "",
          "china_lockdown_shanghai_chinese_taiwan"
         ],
         "type": "scatter",
         "x": [
          1.3466979174655205,
          1.5302157514422623,
          1.5302157514422623,
          0.6362505373526506
         ],
         "xaxis": "x",
         "y": [
          -164.609375,
          -164.609375,
          -336.25,
          -336.25
         ],
         "yaxis": "y"
        },
        {
         "hoverinfo": "text",
         "marker": {
          "color": "rgb(35,205,205)"
         },
         "mode": "lines",
         "text": [
          "client_customer_business_service_developer",
          "",
          "",
          "exposure_client_asset_customer_market"
         ],
         "type": "scatter",
         "x": [
          0,
          0.3192812965088495,
          0.3192812965088495,
          0
         ],
         "xaxis": "x",
         "y": [
          -365,
          -365,
          -375,
          -375
         ],
         "yaxis": "y"
        },
        {
         "hoverinfo": "text",
         "marker": {
          "color": "rgb(133,20,75)"
         },
         "mode": "lines",
         "text": [
          "exposure_visibility_transparency_opaque_imagery",
          "",
          "",
          "belarus_exposure_polish_eurazeo_euronext"
         ],
         "type": "scatter",
         "x": [
          0,
          0.4637068938533905,
          0.4637068938533905,
          0
         ],
         "xaxis": "x",
         "y": [
          -395,
          -395,
          -405,
          -405
         ],
         "yaxis": "y"
        },
        {
         "hoverinfo": "text",
         "marker": {
          "color": "rgb(133,20,75)"
         },
         "mode": "lines",
         "text": [
          "exposure_europe_indirect_continent_geography",
          "",
          "",
          "exposure_visibility_transparency_imagery_clear"
         ],
         "type": "scatter",
         "x": [
          0,
          0.5909720687344477,
          0.5909720687344477,
          0.4637068938533905
         ],
         "xaxis": "x",
         "y": [
          -385,
          -385,
          -400,
          -400
         ],
         "yaxis": "y"
        },
        {
         "hoverinfo": "text",
         "marker": {
          "color": "rgb(133,20,75)"
         },
         "mode": "lines",
         "text": [
          "exposure_visibility_transparency_imagery_clear",
          "",
          "",
          "exposure_industry_business_company_market"
         ],
         "type": "scatter",
         "x": [
          0.5909720687344477,
          0.7351544559578062,
          0.7351544559578062,
          0
         ],
         "xaxis": "x",
         "y": [
          -392.5,
          -392.5,
          -415,
          -415
         ],
         "yaxis": "y"
        },
        {
         "hoverinfo": "text",
         "marker": {
          "color": "rgb(0,116,217)"
         },
         "mode": "lines",
         "text": [
          "client_customer_developer_service_business",
          "",
          "",
          "exposure_visibility_transparency_imagery_clear"
         ],
         "type": "scatter",
         "x": [
          0.3192812965088495,
          1.234902388749213,
          1.234902388749213,
          0.7351544559578062
         ],
         "xaxis": "x",
         "y": [
          -370,
          -370,
          -403.75,
          -403.75
         ],
         "yaxis": "y"
        },
        {
         "hoverinfo": "text",
         "marker": {
          "color": "rgb(255,220,0)"
         },
         "mode": "lines",
         "text": [
          "risk_riskmatics_scenario_leverage_management",
          "",
          "",
          "risk_gdp_investment_cost_rupee"
         ],
         "type": "scatter",
         "x": [
          0,
          0.74248564259549,
          0.74248564259549,
          0
         ],
         "xaxis": "x",
         "y": [
          -435,
          -435,
          -445,
          -445
         ],
         "yaxis": "y"
        },
        {
         "hoverinfo": "text",
         "marker": {
          "color": "rgb(255,220,0)"
         },
         "mode": "lines",
         "text": [
          "risk_escalation_war_insurance_mitigation",
          "",
          "",
          "risk_riskmatics_afraid_scenario_hazard"
         ],
         "type": "scatter",
         "x": [
          0,
          0.8058101366153719,
          0.8058101366153719,
          0.74248564259549
         ],
         "xaxis": "x",
         "y": [
          -425,
          -425,
          -440,
          -440
         ],
         "yaxis": "y"
        },
        {
         "hoverinfo": "text",
         "marker": {
          "color": "rgb(40,35,35)"
         },
         "mode": "lines",
         "text": [
          "risk_overlay_cost_basis_profitability",
          "",
          "",
          "provision_provisioning_equity_accrue_commencing"
         ],
         "type": "scatter",
         "x": [
          0,
          0.6608352036410984,
          0.6608352036410984,
          0
         ],
         "xaxis": "x",
         "y": [
          -455,
          -455,
          -465,
          -465
         ],
         "yaxis": "y"
        },
        {
         "hoverinfo": "text",
         "marker": {
          "color": "rgb(0,116,217)"
         },
         "mode": "lines",
         "text": [
          "risk_riskmatics_scenario_hazard_leverage",
          "",
          "",
          "provision_provisioning_overlay_risk_equity"
         ],
         "type": "scatter",
         "x": [
          0.8058101366153719,
          1.0464951843800143,
          1.0464951843800143,
          0.6608352036410984
         ],
         "xaxis": "x",
         "y": [
          -432.5,
          -432.5,
          -460,
          -460
         ],
         "yaxis": "y"
        },
        {
         "hoverinfo": "text",
         "marker": {
          "color": "rgb(61,153,112)"
         },
         "mode": "lines",
         "text": [
          "loan_loans_lender_financing_lend",
          "",
          "",
          "loan_loans_financial_loss_million"
         ],
         "type": "scatter",
         "x": [
          0,
          0.5482447110444286,
          0.5482447110444286,
          0
         ],
         "xaxis": "x",
         "y": [
          -475,
          -475,
          -485,
          -485
         ],
         "yaxis": "y"
        },
        {
         "hoverinfo": "text",
         "marker": {
          "color": "rgb(255,65,54)"
         },
         "mode": "lines",
         "text": [
          "credit_loss_loans_financial_provision",
          "",
          "",
          "credit_finance_valuation_risk_rating"
         ],
         "type": "scatter",
         "x": [
          0,
          0.5195772059900104,
          0.5195772059900104,
          0
         ],
         "xaxis": "x",
         "y": [
          -495,
          -495,
          -505,
          -505
         ],
         "yaxis": "y"
        },
        {
         "hoverinfo": "text",
         "marker": {
          "color": "rgb(0,116,217)"
         },
         "mode": "lines",
         "text": [
          "loan_loans_financing_lender_lend",
          "",
          "",
          "credit_loss_finance_mortgage_loans"
         ],
         "type": "scatter",
         "x": [
          0.5482447110444286,
          1.0796775272648247,
          1.0796775272648247,
          0.5195772059900104
         ],
         "xaxis": "x",
         "y": [
          -480,
          -480,
          -500,
          -500
         ],
         "yaxis": "y"
        },
        {
         "hoverinfo": "text",
         "marker": {
          "color": "rgb(35,205,205)"
         },
         "mode": "lines",
         "text": [
          "reserve_book_eur_gdp_europe",
          "",
          "",
          "ratio_combine_consolidate_percentage_loss"
         ],
         "type": "scatter",
         "x": [
          0,
          0.8093674366125577,
          0.8093674366125577,
          0
         ],
         "xaxis": "x",
         "y": [
          -525,
          -525,
          -535,
          -535
         ],
         "yaxis": "y"
        },
        {
         "hoverinfo": "text",
         "marker": {
          "color": "rgb(35,205,205)"
         },
         "mode": "lines",
         "text": [
          "ratio_consolidate_combine_percentage_loss",
          "",
          "",
          "loss_war_shareholder_earnings_marine"
         ],
         "type": "scatter",
         "x": [
          0.8093674366125577,
          0.912909873288948,
          0.912909873288948,
          0
         ],
         "xaxis": "x",
         "y": [
          -530,
          -530,
          -545,
          -545
         ],
         "yaxis": "y"
        },
        {
         "hoverinfo": "text",
         "marker": {
          "color": "rgb(35,205,205)"
         },
         "mode": "lines",
         "text": [
          "reinsurance_insurer_reinsurer_insurance_noninsurance",
          "",
          "",
          "ratio_consolidate_combine_percentage_loss"
         ],
         "type": "scatter",
         "x": [
          0,
          0.9605605342750456,
          0.9605605342750456,
          0.912909873288948
         ],
         "xaxis": "x",
         "y": [
          -515,
          -515,
          -537.5,
          -537.5
         ],
         "yaxis": "y"
        },
        {
         "hoverinfo": "text",
         "marker": {
          "color": "rgb(0,116,217)"
         },
         "mode": "lines",
         "text": [
          "loan_loans_financing_lender_lend",
          "",
          "",
          "insurer_reinsurer_ratio_reinsurance_insurance"
         ],
         "type": "scatter",
         "x": [
          1.0796775272648247,
          1.2187269770452913,
          1.2187269770452913,
          0.9605605342750456
         ],
         "xaxis": "x",
         "y": [
          -490,
          -490,
          -526.25,
          -526.25
         ],
         "yaxis": "y"
        },
        {
         "hoverinfo": "text",
         "marker": {
          "color": "rgb(0,116,217)"
         },
         "mode": "lines",
         "text": [
          "risk_riskmatics_cost_leverage_hazard",
          "",
          "",
          "financing_insurer_finance_insurance_loan"
         ],
         "type": "scatter",
         "x": [
          1.0464951843800143,
          1.2730716913385358,
          1.2730716913385358,
          1.2187269770452913
         ],
         "xaxis": "x",
         "y": [
          -446.25,
          -446.25,
          -508.125,
          -508.125
         ],
         "yaxis": "y"
        },
        {
         "hoverinfo": "text",
         "marker": {
          "color": "rgb(61,153,112)"
         },
         "mode": "lines",
         "text": [
          "impairment_impaired_asset_industrial_exceptional",
          "",
          "",
          "earnings_impairment_accounting_income_tax"
         ],
         "type": "scatter",
         "x": [
          0,
          0.5777512346951443,
          0.5777512346951443,
          0
         ],
         "xaxis": "x",
         "y": [
          -575,
          -575,
          -585,
          -585
         ],
         "yaxis": "y"
        },
        {
         "hoverinfo": "text",
         "marker": {
          "color": "rgb(61,153,112)"
         },
         "mode": "lines",
         "text": [
          "goodwill_accounting_depreciation_impairment_asset",
          "",
          "",
          "impairment_impaired_expense_income_asset"
         ],
         "type": "scatter",
         "x": [
          0,
          0.7724119694250585,
          0.7724119694250585,
          0.5777512346951443
         ],
         "xaxis": "x",
         "y": [
          -565,
          -565,
          -580,
          -580
         ],
         "yaxis": "y"
        },
        {
         "hoverinfo": "text",
         "marker": {
          "color": "rgb(61,153,112)"
         },
         "mode": "lines",
         "text": [
          "bond_treasury_bailout_rbi_impairment",
          "",
          "",
          "impairment_impaired_expense_accounting_income"
         ],
         "type": "scatter",
         "x": [
          0,
          0.9469407611244278,
          0.9469407611244278,
          0.7724119694250585
         ],
         "xaxis": "x",
         "y": [
          -555,
          -555,
          -572.5,
          -572.5
         ],
         "yaxis": "y"
        },
        {
         "hoverinfo": "text",
         "marker": {
          "color": "rgb(255,65,54)"
         },
         "mode": "lines",
         "text": [
          "chf_quarterly_equity_financing_million",
          "",
          "",
          "sale_million_sell_chf_amount"
         ],
         "type": "scatter",
         "x": [
          0,
          0.5866667622276855,
          0.5866667622276855,
          0
         ],
         "xaxis": "x",
         "y": [
          -595,
          -595,
          -605,
          -605
         ],
         "yaxis": "y"
        },
        {
         "hoverinfo": "text",
         "marker": {
          "color": "rgb(35,205,205)"
         },
         "mode": "lines",
         "text": [
          "million_business_dollar_number_year",
          "",
          "",
          "sek_sek1_billion_sek5_million"
         ],
         "type": "scatter",
         "x": [
          0,
          0.9047061189854518,
          0.9047061189854518,
          0
         ],
         "xaxis": "x",
         "y": [
          -615,
          -615,
          -625,
          -625
         ],
         "yaxis": "y"
        },
        {
         "hoverinfo": "text",
         "marker": {
          "color": "rgb(35,205,205)"
         },
         "mode": "lines",
         "text": [
          "billion_exposure_million_eur_amount",
          "",
          "",
          "billion_million_euro_eur_eu"
         ],
         "type": "scatter",
         "x": [
          0,
          0.6774257523842325,
          0.6774257523842325,
          0
         ],
         "xaxis": "x",
         "y": [
          -645,
          -645,
          -655,
          -655
         ],
         "yaxis": "y"
        },
        {
         "hoverinfo": "text",
         "marker": {
          "color": "rgb(35,205,205)"
         },
         "mode": "lines",
         "text": [
          "income_billion_banking_provision_provisioning",
          "",
          "",
          "billion_eur_exposure_million_amount"
         ],
         "type": "scatter",
         "x": [
          0,
          0.7603326597629644,
          0.7603326597629644,
          0.6774257523842325
         ],
         "xaxis": "x",
         "y": [
          -635,
          -635,
          -650,
          -650
         ],
         "yaxis": "y"
        },
        {
         "hoverinfo": "text",
         "marker": {
          "color": "rgb(35,205,205)"
         },
         "mode": "lines",
         "text": [
          "income_billion_amount_eur_million",
          "",
          "",
          "revenue_million_billion_profit_eur"
         ],
         "type": "scatter",
         "x": [
          0.7603326597629644,
          0.8047257173533572,
          0.8047257173533572,
          0
         ],
         "xaxis": "x",
         "y": [
          -642.5,
          -642.5,
          -665,
          -665
         ],
         "yaxis": "y"
        },
        {
         "hoverinfo": "text",
         "marker": {
          "color": "rgb(35,205,205)"
         },
         "mode": "lines",
         "text": [
          "sek_sek1_billion_sek5_million",
          "",
          "",
          "billion_income_million_revenue_eur"
         ],
         "type": "scatter",
         "x": [
          0.9047061189854518,
          0.9635301507597599,
          0.9635301507597599,
          0.8047257173533572
         ],
         "xaxis": "x",
         "y": [
          -620,
          -620,
          -653.75,
          -653.75
         ],
         "yaxis": "y"
        },
        {
         "hoverinfo": "text",
         "marker": {
          "color": "rgb(133,20,75)"
         },
         "mode": "lines",
         "text": [
          "asset_million_equity_billion_euro",
          "",
          "",
          "asset_investment_item_equipment_engine"
         ],
         "type": "scatter",
         "x": [
          0,
          0.6530177949216771,
          0.6530177949216771,
          0
         ],
         "xaxis": "x",
         "y": [
          -675,
          -675,
          -685,
          -685
         ],
         "yaxis": "y"
        },
        {
         "hoverinfo": "text",
         "marker": {
          "color": "rgb(0,116,217)"
         },
         "mode": "lines",
         "text": [
          "sek_billion_sek5_million_revenue",
          "",
          "",
          "asset_investment_estate_property_value"
         ],
         "type": "scatter",
         "x": [
          0.9635301507597599,
          1.0891451216448491,
          1.0891451216448491,
          0.6530177949216771
         ],
         "xaxis": "x",
         "y": [
          -636.875,
          -636.875,
          -680,
          -680
         ],
         "yaxis": "y"
        },
        {
         "hoverinfo": "text",
         "marker": {
          "color": "rgb(0,116,217)"
         },
         "mode": "lines",
         "text": [
          "chf_million_financing_billion_quarterly",
          "",
          "",
          "billion_income_revenue_million_amount"
         ],
         "type": "scatter",
         "x": [
          0.5866667622276855,
          1.146621706442578,
          1.146621706442578,
          1.0891451216448491
         ],
         "xaxis": "x",
         "y": [
          -600,
          -600,
          -658.4375,
          -658.4375
         ],
         "yaxis": "y"
        },
        {
         "hoverinfo": "text",
         "marker": {
          "color": "rgb(0,116,217)"
         },
         "mode": "lines",
         "text": [
          "impairment_impaired_expense_accounting_income",
          "",
          "",
          "billion_income_million_equity_amount"
         ],
         "type": "scatter",
         "x": [
          0.9469407611244278,
          1.2543074944396913,
          1.2543074944396913,
          1.146621706442578
         ],
         "xaxis": "x",
         "y": [
          -563.75,
          -563.75,
          -629.21875,
          -629.21875
         ],
         "yaxis": "y"
        },
        {
         "hoverinfo": "text",
         "marker": {
          "color": "rgb(255,220,0)"
         },
         "mode": "lines",
         "text": [
          "airline_lease_leasing_airplane_aircraft",
          "",
          "",
          "leasing_lease_depreciation_revenue_rent"
         ],
         "type": "scatter",
         "x": [
          0,
          0.469116376552013,
          0.469116376552013,
          0
         ],
         "xaxis": "x",
         "y": [
          -705,
          -705,
          -715,
          -715
         ],
         "yaxis": "y"
        },
        {
         "hoverinfo": "text",
         "marker": {
          "color": "rgb(255,220,0)"
         },
         "mode": "lines",
         "text": [
          "aircraft_million_billion_value_asset",
          "",
          "",
          "airline_lease_leasing_aircraft_carrier"
         ],
         "type": "scatter",
         "x": [
          0,
          0.715620478955235,
          0.715620478955235,
          0.469116376552013
         ],
         "xaxis": "x",
         "y": [
          -695,
          -695,
          -710,
          -710
         ],
         "yaxis": "y"
        },
        {
         "hoverinfo": "text",
         "marker": {
          "color": "rgb(0,116,217)"
         },
         "mode": "lines",
         "text": [
          "impairment_impaired_asset_bailout_bond",
          "",
          "",
          "lease_airline_leasing_aircraft_rent"
         ],
         "type": "scatter",
         "x": [
          1.2543074944396913,
          1.4301802948189484,
          1.4301802948189484,
          0.715620478955235
         ],
         "xaxis": "x",
         "y": [
          -596.484375,
          -596.484375,
          -702.5,
          -702.5
         ],
         "yaxis": "y"
        },
        {
         "hoverinfo": "text",
         "marker": {
          "color": "rgb(0,116,217)"
         },
         "mode": "lines",
         "text": [
          "financing_loan_loans_bank_mortgage",
          "",
          "",
          "impairment_impaired_asset_depreciation_valuation"
         ],
         "type": "scatter",
         "x": [
          1.2730716913385358,
          1.468731446230655,
          1.468731446230655,
          1.4301802948189484
         ],
         "xaxis": "x",
         "y": [
          -477.1875,
          -477.1875,
          -649.4921875,
          -649.4921875
         ],
         "yaxis": "y"
        },
        {
         "hoverinfo": "text",
         "marker": {
          "color": "rgb(0,116,217)"
         },
         "mode": "lines",
         "text": [
          "exposure_visibility_transparency_imagery_clear",
          "",
          "",
          "impairment_impaired_income_asset_insurance"
         ],
         "type": "scatter",
         "x": [
          1.234902388749213,
          1.67044085126682,
          1.67044085126682,
          1.468731446230655
         ],
         "xaxis": "x",
         "y": [
          -386.875,
          -386.875,
          -563.33984375,
          -563.33984375
         ],
         "yaxis": "y"
        },
        {
         "hoverinfo": "text",
         "marker": {
          "color": "rgb(40,35,35)"
         },
         "mode": "lines",
         "text": [
          "profitability_revenue_wind_profitable_windstorm",
          "",
          "",
          "wind_unwind_business_decision_operation"
         ],
         "type": "scatter",
         "x": [
          0,
          0.47238878641332804,
          0.47238878641332804,
          0
         ],
         "xaxis": "x",
         "y": [
          -725,
          -725,
          -735,
          -735
         ],
         "yaxis": "y"
        },
        {
         "hoverinfo": "text",
         "marker": {
          "color": "rgb(40,35,35)"
         },
         "mode": "lines",
         "text": [
          "wind_windstorm_unwind_profitability_profitable",
          "",
          "",
          "tk_mining_cost_wind_ebitda"
         ],
         "type": "scatter",
         "x": [
          0.47238878641332804,
          0.7700956915119905,
          0.7700956915119905,
          0
         ],
         "xaxis": "x",
         "y": [
          -730,
          -730,
          -745,
          -745
         ],
         "yaxis": "y"
        },
        {
         "hoverinfo": "text",
         "marker": {
          "color": "rgb(61,153,112)"
         },
         "mode": "lines",
         "text": [
          "gbp_revenue_million_sale_business",
          "",
          "",
          "disposal_acquisition_acquire_accumulate_profit"
         ],
         "type": "scatter",
         "x": [
          0,
          0.5908491871534111,
          0.5908491871534111,
          0
         ],
         "xaxis": "x",
         "y": [
          -755,
          -755,
          -765,
          -765
         ],
         "yaxis": "y"
        },
        {
         "hoverinfo": "text",
         "marker": {
          "color": "rgb(255,65,54)"
         },
         "mode": "lines",
         "text": [
          "restructuring_expense_amortization_accounting_acquisition",
          "",
          "",
          "gaap_earnings_adjustment_q3_amortization"
         ],
         "type": "scatter",
         "x": [
          0,
          0.7188695941747754,
          0.7188695941747754,
          0
         ],
         "xaxis": "x",
         "y": [
          -785,
          -785,
          -795,
          -795
         ],
         "yaxis": "y"
        },
        {
         "hoverinfo": "text",
         "marker": {
          "color": "rgb(255,65,54)"
         },
         "mode": "lines",
         "text": [
          "gaap_earnings_accounting_amortization_adjustment",
          "",
          "",
          "revenue_expense_income_profitability_growth"
         ],
         "type": "scatter",
         "x": [
          0.7188695941747754,
          0.803463919839384,
          0.803463919839384,
          0
         ],
         "xaxis": "x",
         "y": [
          -790,
          -790,
          -805,
          -805
         ],
         "yaxis": "y"
        },
        {
         "hoverinfo": "text",
         "marker": {
          "color": "rgb(255,65,54)"
         },
         "mode": "lines",
         "text": [
          "eps_earnings_currency_estimate_adjust",
          "",
          "",
          "gaap_earnings_accounting_amortization_adjustment"
         ],
         "type": "scatter",
         "x": [
          0,
          0.8464729132053495,
          0.8464729132053495,
          0.803463919839384
         ],
         "xaxis": "x",
         "y": [
          -775,
          -775,
          -797.5,
          -797.5
         ],
         "yaxis": "y"
        },
        {
         "hoverinfo": "text",
         "marker": {
          "color": "rgb(35,205,205)"
         },
         "mode": "lines",
         "text": [
          "revenue_acquisition_impact_profit_rocketpower",
          "",
          "",
          "fiscal_growth_revenue_earnings_impact"
         ],
         "type": "scatter",
         "x": [
          0,
          0.6501598768783203,
          0.6501598768783203,
          0
         ],
         "xaxis": "x",
         "y": [
          -815,
          -815,
          -825,
          -825
         ],
         "yaxis": "y"
        },
        {
         "hoverinfo": "text",
         "marker": {
          "color": "rgb(61,153,112)"
         },
         "mode": "lines",
         "text": [
          "ebitda_ebit_ebita_margin_expense",
          "",
          "",
          "margin_margins_income_decrease_decline"
         ],
         "type": "scatter",
         "x": [
          0,
          0.6762402245250496,
          0.6762402245250496,
          0
         ],
         "xaxis": "x",
         "y": [
          -835,
          -835,
          -845,
          -845
         ],
         "yaxis": "y"
        },
        {
         "hoverinfo": "text",
         "marker": {
          "color": "rgb(0,116,217)"
         },
         "mode": "lines",
         "text": [
          "revenue_impact_acquisition_profit_rocketpower",
          "",
          "",
          "ebitda_ebit_ebita_leverage_margins"
         ],
         "type": "scatter",
         "x": [
          0.6501598768783203,
          1.0315007358678585,
          1.0315007358678585,
          0.6762402245250496
         ],
         "xaxis": "x",
         "y": [
          -820,
          -820,
          -840,
          -840
         ],
         "yaxis": "y"
        },
        {
         "hoverinfo": "text",
         "marker": {
          "color": "rgb(0,116,217)"
         },
         "mode": "lines",
         "text": [
          "gaap_earnings_accounting_amortization_adjustment",
          "",
          "",
          "ebitda_ebit_ebita_margins_margin"
         ],
         "type": "scatter",
         "x": [
          0.8464729132053495,
          1.1359452075024083,
          1.1359452075024083,
          1.0315007358678585
         ],
         "xaxis": "x",
         "y": [
          -786.25,
          -786.25,
          -830,
          -830
         ],
         "yaxis": "y"
        },
        {
         "hoverinfo": "text",
         "marker": {
          "color": "rgb(0,116,217)"
         },
         "mode": "lines",
         "text": [
          "disposal_gbp_acquire_acquisition_profit",
          "",
          "",
          "ebitda_ebit_ebita_amortization_earnings"
         ],
         "type": "scatter",
         "x": [
          0.5908491871534111,
          1.2566591711536457,
          1.2566591711536457,
          1.1359452075024083
         ],
         "xaxis": "x",
         "y": [
          -760,
          -760,
          -808.125,
          -808.125
         ],
         "yaxis": "y"
        },
        {
         "hoverinfo": "text",
         "marker": {
          "color": "rgb(255,65,54)"
         },
         "mode": "lines",
         "text": [
          "filtration_expense_suspension_acquisition_separation",
          "",
          "",
          "suspension_suspend_ramping_revenue_curtailment"
         ],
         "type": "scatter",
         "x": [
          0,
          0.7982646153438381,
          0.7982646153438381,
          0
         ],
         "xaxis": "x",
         "y": [
          -855,
          -855,
          -865,
          -865
         ],
         "yaxis": "y"
        },
        {
         "hoverinfo": "text",
         "marker": {
          "color": "rgb(35,205,205)"
         },
         "mode": "lines",
         "text": [
          "outlook_impact_exchange_prevail_macro",
          "",
          "",
          "outlook_distributor_revise_future_remove"
         ],
         "type": "scatter",
         "x": [
          0,
          0.7317124486193443,
          0.7317124486193443,
          0
         ],
         "xaxis": "x",
         "y": [
          -875,
          -875,
          -885,
          -885
         ],
         "yaxis": "y"
        },
        {
         "hoverinfo": "text",
         "marker": {
          "color": "rgb(0,116,217)"
         },
         "mode": "lines",
         "text": [
          "filtration_expense_suspension_separation_cost",
          "",
          "",
          "outlook_sale_distributor_revise_business"
         ],
         "type": "scatter",
         "x": [
          0.7982646153438381,
          1.0809952833305783,
          1.0809952833305783,
          0.7317124486193443
         ],
         "xaxis": "x",
         "y": [
          -860,
          -860,
          -880,
          -880
         ],
         "yaxis": "y"
        },
        {
         "hoverinfo": "text",
         "marker": {
          "color": "rgb(133,20,75)"
         },
         "mode": "lines",
         "text": [
          "quarter_minute_impact_rounding_effect",
          "",
          "",
          "quarter_war_military_coinciding_halve"
         ],
         "type": "scatter",
         "x": [
          0,
          0.7377544948244963,
          0.7377544948244963,
          0
         ],
         "xaxis": "x",
         "y": [
          -905,
          -905,
          -915,
          -915
         ],
         "yaxis": "y"
        },
        {
         "hoverinfo": "text",
         "marker": {
          "color": "rgb(133,20,75)"
         },
         "mode": "lines",
         "text": [
          "remember_forget_critical_take_right",
          "",
          "",
          "quarter_impact_minute_offense_war"
         ],
         "type": "scatter",
         "x": [
          0,
          0.9177140975557645,
          0.9177140975557645,
          0.7377544948244963
         ],
         "xaxis": "x",
         "y": [
          -895,
          -895,
          -910,
          -910
         ],
         "yaxis": "y"
        },
        {
         "hoverinfo": "text",
         "marker": {
          "color": "rgb(255,220,0)"
         },
         "mode": "lines",
         "text": [
          "business_year_annual_trend_era",
          "",
          "",
          "year_january_september_nation_pariah"
         ],
         "type": "scatter",
         "x": [
          0,
          0.8499425813068051,
          0.8499425813068051,
          0
         ],
         "xaxis": "x",
         "y": [
          -925,
          -925,
          -935,
          -935
         ],
         "yaxis": "y"
        },
        {
         "hoverinfo": "text",
         "marker": {
          "color": "rgb(255,220,0)"
         },
         "mode": "lines",
         "text": [
          "sorting_sort_order_suggest_tend",
          "",
          "",
          "expectation_line_expect_impact_war"
         ],
         "type": "scatter",
         "x": [
          0,
          0.8958942011026875,
          0.8958942011026875,
          0
         ],
         "xaxis": "x",
         "y": [
          -945,
          -945,
          -955,
          -955
         ],
         "yaxis": "y"
        },
        {
         "hoverinfo": "text",
         "marker": {
          "color": "rgb(255,220,0)"
         },
         "mode": "lines",
         "text": [
          "year_era_january_nation_pariah",
          "",
          "",
          "sorting_sort_order_seasonality_guide"
         ],
         "type": "scatter",
         "x": [
          0.8499425813068051,
          0.9685841631363538,
          0.9685841631363538,
          0.8958942011026875
         ],
         "xaxis": "x",
         "y": [
          -930,
          -930,
          -950,
          -950
         ],
         "yaxis": "y"
        },
        {
         "hoverinfo": "text",
         "marker": {
          "color": "rgb(40,35,35)"
         },
         "mode": "lines",
         "text": [
          "offset_impact_adjustment_effect_rebound",
          "",
          "",
          "deterioration_loss_earnings_assessment_revenue"
         ],
         "type": "scatter",
         "x": [
          0,
          0.9451113203996276,
          0.9451113203996276,
          0
         ],
         "xaxis": "x",
         "y": [
          -965,
          -965,
          -975,
          -975
         ],
         "yaxis": "y"
        },
        {
         "hoverinfo": "text",
         "marker": {
          "color": "rgb(61,153,112)"
         },
         "mode": "lines",
         "text": [
          "guidance_guide_advice_include_direct",
          "",
          "",
          "guidance_policy_backlog_exclude_eu"
         ],
         "type": "scatter",
         "x": [
          0,
          0.8587184616217184,
          0.8587184616217184,
          0
         ],
         "xaxis": "x",
         "y": [
          -985,
          -985,
          -995,
          -995
         ],
         "yaxis": "y"
        },
        {
         "hoverinfo": "text",
         "marker": {
          "color": "rgb(0,116,217)"
         },
         "mode": "lines",
         "text": [
          "offset_impact_adjustment_effect_rebound",
          "",
          "",
          "guidance_guide_advice_include_direct"
         ],
         "type": "scatter",
         "x": [
          0.9451113203996276,
          1.0082609715954711,
          1.0082609715954711,
          0.8587184616217184
         ],
         "xaxis": "x",
         "y": [
          -970,
          -970,
          -990,
          -990
         ],
         "yaxis": "y"
        },
        {
         "hoverinfo": "text",
         "marker": {
          "color": "rgb(0,116,217)"
         },
         "mode": "lines",
         "text": [
          "sorting_sort_order_number_7th",
          "",
          "",
          "offset_guidance_negative_lower_advice"
         ],
         "type": "scatter",
         "x": [
          0.9685841631363538,
          1.0321114522913852,
          1.0321114522913852,
          1.0082609715954711
         ],
         "xaxis": "x",
         "y": [
          -940,
          -940,
          -980,
          -980
         ],
         "yaxis": "y"
        },
        {
         "hoverinfo": "text",
         "marker": {
          "color": "rgb(0,116,217)"
         },
         "mode": "lines",
         "text": [
          "quarter_remember_forget_minute_war",
          "",
          "",
          "sorting_sort_order_guide_17th"
         ],
         "type": "scatter",
         "x": [
          0.9177140975557645,
          1.1193507664604392,
          1.1193507664604392,
          1.0321114522913852
         ],
         "xaxis": "x",
         "y": [
          -902.5,
          -902.5,
          -960,
          -960
         ],
         "yaxis": "y"
        },
        {
         "hoverinfo": "text",
         "marker": {
          "color": "rgb(255,65,54)"
         },
         "mode": "lines",
         "text": [
          "q4_q3_q2_q1_h1",
          "",
          "",
          "q3_q2_q4_invasion_q1"
         ],
         "type": "scatter",
         "x": [
          0,
          0.6261292416987017,
          0.6261292416987017,
          0
         ],
         "xaxis": "x",
         "y": [
          -1005,
          -1005,
          -1015,
          -1015
         ],
         "yaxis": "y"
        },
        {
         "hoverinfo": "text",
         "marker": {
          "color": "rgb(0,116,217)"
         },
         "mode": "lines",
         "text": [
          "sorting_sort_order_number_mention",
          "",
          "",
          "q2_q1_q3_q4_qsr"
         ],
         "type": "scatter",
         "x": [
          1.1193507664604392,
          1.174651116856773,
          1.174651116856773,
          0.6261292416987017
         ],
         "xaxis": "x",
         "y": [
          -931.25,
          -931.25,
          -1010,
          -1010
         ],
         "yaxis": "y"
        },
        {
         "hoverinfo": "text",
         "marker": {
          "color": "rgb(0,116,217)"
         },
         "mode": "lines",
         "text": [
          "filtration_expense_suspension_separation_cost",
          "",
          "",
          "sort_order_offset_line_number"
         ],
         "type": "scatter",
         "x": [
          1.0809952833305783,
          1.1853666888676084,
          1.1853666888676084,
          1.174651116856773
         ],
         "xaxis": "x",
         "y": [
          -870,
          -870,
          -970.625,
          -970.625
         ],
         "yaxis": "y"
        },
        {
         "hoverinfo": "text",
         "marker": {
          "color": "rgb(35,205,205)"
         },
         "mode": "lines",
         "text": [
          "expect_forecast_incremental_growth_rise",
          "",
          "",
          "expectation_expect_earnings_revenue_profit"
         ],
         "type": "scatter",
         "x": [
          0,
          0.7700103161220572,
          0.7700103161220572,
          0
         ],
         "xaxis": "x",
         "y": [
          -1025,
          -1025,
          -1035,
          -1035
         ],
         "yaxis": "y"
        },
        {
         "hoverinfo": "text",
         "marker": {
          "color": "rgb(35,205,205)"
         },
         "mode": "lines",
         "text": [
          "expectation_expect_earnings_revenue_profit",
          "",
          "",
          "expect_expectation_loss_event_alert"
         ],
         "type": "scatter",
         "x": [
          0.7700103161220572,
          0.7772609324810026,
          0.7772609324810026,
          0
         ],
         "xaxis": "x",
         "y": [
          -1030,
          -1030,
          -1045,
          -1045
         ],
         "yaxis": "y"
        },
        {
         "hoverinfo": "text",
         "marker": {
          "color": "rgb(35,205,205)"
         },
         "mode": "lines",
         "text": [
          "expect_expectation_forecast_profit_earnings",
          "",
          "",
          "war_expect_attack_rise_peace"
         ],
         "type": "scatter",
         "x": [
          0.7772609324810026,
          0.8677617160247864,
          0.8677617160247864,
          0
         ],
         "xaxis": "x",
         "y": [
          -1037.5,
          -1037.5,
          -1055,
          -1055
         ],
         "yaxis": "y"
        },
        {
         "hoverinfo": "text",
         "marker": {
          "color": "rgb(0,116,217)"
         },
         "mode": "lines",
         "text": [
          "filtration_suspension_separation_operation_business",
          "",
          "",
          "expect_expectation_forecast_start_profit"
         ],
         "type": "scatter",
         "x": [
          1.1853666888676084,
          1.2052508308387693,
          1.2052508308387693,
          0.8677617160247864
         ],
         "xaxis": "x",
         "y": [
          -920.3125,
          -920.3125,
          -1046.25,
          -1046.25
         ],
         "yaxis": "y"
        },
        {
         "hoverinfo": "text",
         "marker": {
          "color": "rgb(0,116,217)"
         },
         "mode": "lines",
         "text": [
          "ebitda_ebit_ebita_adjustment_earnings",
          "",
          "",
          "suspension_filtration_separation_operation_revenue"
         ],
         "type": "scatter",
         "x": [
          1.2566591711536457,
          1.3570687212862609,
          1.3570687212862609,
          1.2052508308387693
         ],
         "xaxis": "x",
         "y": [
          -784.0625,
          -784.0625,
          -983.28125,
          -983.28125
         ],
         "yaxis": "y"
        },
        {
         "hoverinfo": "text",
         "marker": {
          "color": "rgb(0,116,217)"
         },
         "mode": "lines",
         "text": [
          "wind_windstorm_unwind_profitability_business",
          "",
          "",
          "ebitda_ebit_earnings_revenue_income"
         ],
         "type": "scatter",
         "x": [
          0.7700956915119905,
          1.4257492451087763,
          1.4257492451087763,
          1.3570687212862609
         ],
         "xaxis": "x",
         "y": [
          -737.5,
          -737.5,
          -883.671875,
          -883.671875
         ],
         "yaxis": "y"
        },
        {
         "hoverinfo": "text",
         "marker": {
          "color": "rgb(61,153,112)"
         },
         "mode": "lines",
         "text": [
          "revenue_business_fiscal_advertising_million",
          "",
          "",
          "revenue_exposure_profit_financial_impacting"
         ],
         "type": "scatter",
         "x": [
          0,
          0.5704934552048699,
          0.5704934552048699,
          0
         ],
         "xaxis": "x",
         "y": [
          -1075,
          -1075,
          -1085,
          -1085
         ],
         "yaxis": "y"
        },
        {
         "hoverinfo": "text",
         "marker": {
          "color": "rgb(61,153,112)"
         },
         "mode": "lines",
         "text": [
          "revenue_earnings_growth_incentive_ppt",
          "",
          "",
          "revenue_profit_financial_advertising_million"
         ],
         "type": "scatter",
         "x": [
          0,
          0.7479379565819352,
          0.7479379565819352,
          0.5704934552048699
         ],
         "xaxis": "x",
         "y": [
          -1065,
          -1065,
          -1080,
          -1080
         ],
         "yaxis": "y"
        },
        {
         "hoverinfo": "text",
         "marker": {
          "color": "rgb(61,153,112)"
         },
         "mode": "lines",
         "text": [
          "revenue_group_profit_company_total",
          "",
          "",
          "sale_sell_buy_buyout_total"
         ],
         "type": "scatter",
         "x": [
          0,
          0.6977978978754866,
          0.6977978978754866,
          0
         ],
         "xaxis": "x",
         "y": [
          -1095,
          -1095,
          -1105,
          -1105
         ],
         "yaxis": "y"
        },
        {
         "hoverinfo": "text",
         "marker": {
          "color": "rgb(61,153,112)"
         },
         "mode": "lines",
         "text": [
          "revenue_profit_advertising_growth_million",
          "",
          "",
          "sale_sell_buy_buyout_profit"
         ],
         "type": "scatter",
         "x": [
          0.7479379565819352,
          0.9211555060622217,
          0.9211555060622217,
          0.6977978978754866
         ],
         "xaxis": "x",
         "y": [
          -1072.5,
          -1072.5,
          -1100,
          -1100
         ],
         "yaxis": "y"
        },
        {
         "hoverinfo": "text",
         "marker": {
          "color": "rgb(0,116,217)"
         },
         "mode": "lines",
         "text": [
          "ebitda_ebit_ebita_earnings_amortization",
          "",
          "",
          "revenue_profit_income_business_sale"
         ],
         "type": "scatter",
         "x": [
          1.4257492451087763,
          1.4444514742101608,
          1.4444514742101608,
          0.9211555060622217
         ],
         "xaxis": "x",
         "y": [
          -810.5859375,
          -810.5859375,
          -1086.25,
          -1086.25
         ],
         "yaxis": "y"
        },
        {
         "hoverinfo": "text",
         "marker": {
          "color": "rgb(255,65,54)"
         },
         "mode": "lines",
         "text": [
          "volume_decrease_decline_drain_mute",
          "",
          "",
          "decline_decrease_volume_market_sale"
         ],
         "type": "scatter",
         "x": [
          0,
          0.5334210156882457,
          0.5334210156882457,
          0
         ],
         "xaxis": "x",
         "y": [
          -1125,
          -1125,
          -1135,
          -1135
         ],
         "yaxis": "y"
        },
        {
         "hoverinfo": "text",
         "marker": {
          "color": "rgb(255,65,54)"
         },
         "mode": "lines",
         "text": [
          "volume_impact_decrease_exposure_effect",
          "",
          "",
          "volume_decrease_decline_drain_mute"
         ],
         "type": "scatter",
         "x": [
          0,
          0.7624660517230648,
          0.7624660517230648,
          0.5334210156882457
         ],
         "xaxis": "x",
         "y": [
          -1115,
          -1115,
          -1130,
          -1130
         ],
         "yaxis": "y"
        },
        {
         "hoverinfo": "text",
         "marker": {
          "color": "rgb(35,205,205)"
         },
         "mode": "lines",
         "text": [
          "decline_sale_decrease_suspension_distributor",
          "",
          "",
          "emea_growth_revenue_decline_negatively"
         ],
         "type": "scatter",
         "x": [
          0,
          0.6179806091719643,
          0.6179806091719643,
          0
         ],
         "xaxis": "x",
         "y": [
          -1145,
          -1145,
          -1155,
          -1155
         ],
         "yaxis": "y"
        },
        {
         "hoverinfo": "text",
         "marker": {
          "color": "rgb(133,20,75)"
         },
         "mode": "lines",
         "text": [
          "growth_europe_asia_digit_spain",
          "",
          "",
          "growth_china_decline_q2_grow"
         ],
         "type": "scatter",
         "x": [
          0,
          0.7283186388340843,
          0.7283186388340843,
          0
         ],
         "xaxis": "x",
         "y": [
          -1165,
          -1165,
          -1175,
          -1175
         ],
         "yaxis": "y"
        },
        {
         "hoverinfo": "text",
         "marker": {
          "color": "rgb(133,20,75)"
         },
         "mode": "lines",
         "text": [
          "organic_organically_growth_exclude_grow",
          "",
          "",
          "growth_normalize_negligible_positive_significant"
         ],
         "type": "scatter",
         "x": [
          0,
          0.8548754391064347,
          0.8548754391064347,
          0
         ],
         "xaxis": "x",
         "y": [
          -1185,
          -1185,
          -1195,
          -1195
         ],
         "yaxis": "y"
        },
        {
         "hoverinfo": "text",
         "marker": {
          "color": "rgb(133,20,75)"
         },
         "mode": "lines",
         "text": [
          "digit_growth_europe_china_belgium",
          "",
          "",
          "organic_organically_growth_exclude_grow"
         ],
         "type": "scatter",
         "x": [
          0.7283186388340843,
          0.8906816480489597,
          0.8906816480489597,
          0.8548754391064347
         ],
         "xaxis": "x",
         "y": [
          -1170,
          -1170,
          -1190,
          -1190
         ],
         "yaxis": "y"
        },
        {
         "hoverinfo": "text",
         "marker": {
          "color": "rgb(0,116,217)"
         },
         "mode": "lines",
         "text": [
          "decline_sale_emea_wholesale_distributor",
          "",
          "",
          "organic_growth_organically_revenue_exclude"
         ],
         "type": "scatter",
         "x": [
          0.6179806091719643,
          1.0033996504588,
          1.0033996504588,
          0.8906816480489597
         ],
         "xaxis": "x",
         "y": [
          -1150,
          -1150,
          -1180,
          -1180
         ],
         "yaxis": "y"
        },
        {
         "hoverinfo": "text",
         "marker": {
          "color": "rgb(0,116,217)"
         },
         "mode": "lines",
         "text": [
          "volume_decrease_decline_drop_reduction",
          "",
          "",
          "organic_growth_organically_revenue_exclude"
         ],
         "type": "scatter",
         "x": [
          0.7624660517230648,
          1.2410548921695435,
          1.2410548921695435,
          1.0033996504588
         ],
         "xaxis": "x",
         "y": [
          -1122.5,
          -1122.5,
          -1165,
          -1165
         ],
         "yaxis": "y"
        },
        {
         "hoverinfo": "text",
         "marker": {
          "color": "rgb(255,220,0)"
         },
         "mode": "lines",
         "text": [
          "currency_macroeconomic_consumption_decline_monetary",
          "",
          "",
          "currency_growth_revenue_business_organic"
         ],
         "type": "scatter",
         "x": [
          0,
          0.6133883222828298,
          0.6133883222828298,
          0
         ],
         "xaxis": "x",
         "y": [
          -1215,
          -1215,
          -1225,
          -1225
         ],
         "yaxis": "y"
        },
        {
         "hoverinfo": "text",
         "marker": {
          "color": "rgb(255,220,0)"
         },
         "mode": "lines",
         "text": [
          "currency_consumption_pricing_growth_revenue",
          "",
          "",
          "payment_china_fiscal_internationally_dollar"
         ],
         "type": "scatter",
         "x": [
          0.6133883222828298,
          0.7887948249282226,
          0.7887948249282226,
          0
         ],
         "xaxis": "x",
         "y": [
          -1220,
          -1220,
          -1235,
          -1235
         ],
         "yaxis": "y"
        },
        {
         "hoverinfo": "text",
         "marker": {
          "color": "rgb(255,220,0)"
         },
         "mode": "lines",
         "text": [
          "currency_sale_increase_eur_growth",
          "",
          "",
          "currency_consumption_growth_revenue_pricing"
         ],
         "type": "scatter",
         "x": [
          0,
          0.9324051447959423,
          0.9324051447959423,
          0.7887948249282226
         ],
         "xaxis": "x",
         "y": [
          -1205,
          -1205,
          -1227.5,
          -1227.5
         ],
         "yaxis": "y"
        },
        {
         "hoverinfo": "text",
         "marker": {
          "color": "rgb(255,220,0)"
         },
         "mode": "lines",
         "text": [
          "currency_consumption_growth_revenue_pricing",
          "",
          "",
          "arr_growth_nrr_exiting_exit"
         ],
         "type": "scatter",
         "x": [
          0.9324051447959423,
          0.9447119043074738,
          0.9447119043074738,
          0
         ],
         "xaxis": "x",
         "y": [
          -1216.25,
          -1216.25,
          -1245,
          -1245
         ],
         "yaxis": "y"
        },
        {
         "hoverinfo": "text",
         "marker": {
          "color": "rgb(0,116,217)"
         },
         "mode": "lines",
         "text": [
          "organic_organically_growth_exclude_grow",
          "",
          "",
          "arr_growth_currency_fiscal_revenue"
         ],
         "type": "scatter",
         "x": [
          1.2410548921695435,
          1.2569257824086695,
          1.2569257824086695,
          0.9447119043074738
         ],
         "xaxis": "x",
         "y": [
          -1143.75,
          -1143.75,
          -1230.625,
          -1230.625
         ],
         "yaxis": "y"
        },
        {
         "hoverinfo": "text",
         "marker": {
          "color": "rgb(0,116,217)"
         },
         "mode": "lines",
         "text": [
          "ebitda_ebit_ebita_earnings_revenue",
          "",
          "",
          "growth_organic_organically_revenue_exclude"
         ],
         "type": "scatter",
         "x": [
          1.4444514742101608,
          1.5221267995001475,
          1.5221267995001475,
          1.2569257824086695
         ],
         "xaxis": "x",
         "y": [
          -948.41796875,
          -948.41796875,
          -1187.1875,
          -1187.1875
         ],
         "yaxis": "y"
        },
        {
         "hoverinfo": "text",
         "marker": {
          "color": "rgb(40,35,35)"
         },
         "mode": "lines",
         "text": [
          "fx_fxn_currency_euro_fluctuate",
          "",
          "",
          "headwind_tailwind_fx_impact_wind"
         ],
         "type": "scatter",
         "x": [
          0,
          0.4272032592540528,
          0.4272032592540528,
          0
         ],
         "xaxis": "x",
         "y": [
          -1255,
          -1255,
          -1265,
          -1265
         ],
         "yaxis": "y"
        },
        {
         "hoverinfo": "text",
         "marker": {
          "color": "rgb(61,153,112)"
         },
         "mode": "lines",
         "text": [
          "headwind_inflation_inflationary_tailwind_macroeconomic",
          "",
          "",
          "headwind_tailwind_headcount_momentum_overcome"
         ],
         "type": "scatter",
         "x": [
          0,
          0.5199934355825633,
          0.5199934355825633,
          0
         ],
         "xaxis": "x",
         "y": [
          -1275,
          -1275,
          -1285,
          -1285
         ],
         "yaxis": "y"
        },
        {
         "hoverinfo": "text",
         "marker": {
          "color": "rgb(61,153,112)"
         },
         "mode": "lines",
         "text": [
          "headwind_china_wind_unwind_covid",
          "",
          "",
          "covid_growth_china_headwind_inflationary"
         ],
         "type": "scatter",
         "x": [
          0,
          0.5768821484825271,
          0.5768821484825271,
          0
         ],
         "xaxis": "x",
         "y": [
          -1295,
          -1295,
          -1305,
          -1305
         ],
         "yaxis": "y"
        },
        {
         "hoverinfo": "text",
         "marker": {
          "color": "rgb(61,153,112)"
         },
         "mode": "lines",
         "text": [
          "headwind_tailwind_congestion_conflict_instability",
          "",
          "",
          "covid_china_headwind_growth_estimate"
         ],
         "type": "scatter",
         "x": [
          0.5199934355825633,
          0.7521314477254483,
          0.7521314477254483,
          0.5768821484825271
         ],
         "xaxis": "x",
         "y": [
          -1280,
          -1280,
          -1300,
          -1300
         ],
         "yaxis": "y"
        },
        {
         "hoverinfo": "text",
         "marker": {
          "color": "rgb(0,116,217)"
         },
         "mode": "lines",
         "text": [
          "fx_fxn_currency_impact_euro",
          "",
          "",
          "headwind_tailwind_congestion_atmosphere_conflict"
         ],
         "type": "scatter",
         "x": [
          0.4272032592540528,
          1.030093999390833,
          1.030093999390833,
          0.7521314477254483
         ],
         "xaxis": "x",
         "y": [
          -1260,
          -1260,
          -1290,
          -1290
         ],
         "yaxis": "y"
        },
        {
         "hoverinfo": "text",
         "marker": {
          "color": "rgb(0,116,217)"
         },
         "mode": "lines",
         "text": [
          "revenue_earnings_ebitda_ebit_income",
          "",
          "",
          "headwind_fx_tailwind_impact_exchange"
         ],
         "type": "scatter",
         "x": [
          1.5221267995001475,
          1.6330654849257527,
          1.6330654849257527,
          1.030093999390833
         ],
         "xaxis": "x",
         "y": [
          -1067.802734375,
          -1067.802734375,
          -1275,
          -1275
         ],
         "yaxis": "y"
        },
        {
         "hoverinfo": "text",
         "marker": {
          "color": "rgb(0,116,217)"
         },
         "mode": "lines",
         "text": [
          "exposure_asset_investment_impairment_risk",
          "",
          "",
          "earnings_revenue_ebit_decline_growth"
         ],
         "type": "scatter",
         "x": [
          1.67044085126682,
          1.885147283756457,
          1.885147283756457,
          1.6330654849257527
         ],
         "xaxis": "x",
         "y": [
          -475.107421875,
          -475.107421875,
          -1171.4013671875,
          -1171.4013671875
         ],
         "yaxis": "y"
        },
        {
         "hoverinfo": "text",
         "marker": {
          "color": "rgb(255,65,54)"
         },
         "mode": "lines",
         "text": [
          "japan_revenue_profit_india_profitability",
          "",
          "",
          "asia_egypt_india_africa_europe"
         ],
         "type": "scatter",
         "x": [
          0,
          0.48249492778640146,
          0.48249492778640146,
          0
         ],
         "xaxis": "x",
         "y": [
          -1315,
          -1315,
          -1325,
          -1325
         ],
         "yaxis": "y"
        },
        {
         "hoverinfo": "text",
         "marker": {
          "color": "rgb(255,65,54)"
         },
         "mode": "lines",
         "text": [
          "asia_japan_revenue_india_profit",
          "",
          "",
          "asia_revenue_growth_foreign_caspian"
         ],
         "type": "scatter",
         "x": [
          0.48249492778640146,
          0.640417054225322,
          0.640417054225322,
          0
         ],
         "xaxis": "x",
         "y": [
          -1320,
          -1320,
          -1335,
          -1335
         ],
         "yaxis": "y"
        },
        {
         "hoverinfo": "text",
         "marker": {
          "color": "rgb(35,205,205)"
         },
         "mode": "lines",
         "text": [
          "crack_cracker_shortage_refining_petroleum",
          "",
          "",
          "diesel_petrol_fuel_refinery_gasoline"
         ],
         "type": "scatter",
         "x": [
          0,
          0.7356127789577247,
          0.7356127789577247,
          0
         ],
         "xaxis": "x",
         "y": [
          -1345,
          -1345,
          -1355,
          -1355
         ],
         "yaxis": "y"
        },
        {
         "hoverinfo": "text",
         "marker": {
          "color": "rgb(35,205,205)"
         },
         "mode": "lines",
         "text": [
          "diesel_petrol_fuel_petroleum_gasoline",
          "",
          "",
          "oil_europe_petrol_eu_diesel"
         ],
         "type": "scatter",
         "x": [
          0.7356127789577247,
          0.89492625667315,
          0.89492625667315,
          0
         ],
         "xaxis": "x",
         "y": [
          -1350,
          -1350,
          -1365,
          -1365
         ],
         "yaxis": "y"
        },
        {
         "hoverinfo": "text",
         "marker": {
          "color": "rgb(61,153,112)"
         },
         "mode": "lines",
         "text": [
          "crude_petroleum_refinery_oil_bitumen",
          "",
          "",
          "refinery_asia_oil_china_india"
         ],
         "type": "scatter",
         "x": [
          0,
          0.5428700016860011,
          0.5428700016860011,
          0
         ],
         "xaxis": "x",
         "y": [
          -1385,
          -1385,
          -1395,
          -1395
         ],
         "yaxis": "y"
        },
        {
         "hoverinfo": "text",
         "marker": {
          "color": "rgb(61,153,112)"
         },
         "mode": "lines",
         "text": [
          "petroleum_refinery_crude_oil_diesel",
          "",
          "",
          "oil_petroleum_refiner_import_europe"
         ],
         "type": "scatter",
         "x": [
          0.5428700016860011,
          0.6243157908569366,
          0.6243157908569366,
          0
         ],
         "xaxis": "x",
         "y": [
          -1390,
          -1390,
          -1405,
          -1405
         ],
         "yaxis": "y"
        },
        {
         "hoverinfo": "text",
         "marker": {
          "color": "rgb(61,153,112)"
         },
         "mode": "lines",
         "text": [
          "oil_petroleum_geopolitical_opec_gasoline",
          "",
          "",
          "petroleum_refinery_crude_oil_refiner"
         ],
         "type": "scatter",
         "x": [
          0,
          0.6676076018831808,
          0.6676076018831808,
          0.6243157908569366
         ],
         "xaxis": "x",
         "y": [
          -1375,
          -1375,
          -1397.5,
          -1397.5
         ],
         "yaxis": "y"
        },
        {
         "hoverinfo": "text",
         "marker": {
          "color": "rgb(255,65,54)"
         },
         "mode": "lines",
         "text": [
          "barrel_500000_million_100000_announce",
          "",
          "",
          "discount_sale_market_buy_sell"
         ],
         "type": "scatter",
         "x": [
          0,
          0.6310885882212893,
          0.6310885882212893,
          0
         ],
         "xaxis": "x",
         "y": [
          -1415,
          -1415,
          -1425,
          -1425
         ],
         "yaxis": "y"
        },
        {
         "hoverinfo": "text",
         "marker": {
          "color": "rgb(0,116,217)"
         },
         "mode": "lines",
         "text": [
          "oil_petroleum_refinery_gasoline_fuel",
          "",
          "",
          "barrel_production_announce_500000_million"
         ],
         "type": "scatter",
         "x": [
          0.6676076018831808,
          1.0711429313900152,
          1.0711429313900152,
          0.6310885882212893
         ],
         "xaxis": "x",
         "y": [
          -1386.25,
          -1386.25,
          -1420,
          -1420
         ],
         "yaxis": "y"
        },
        {
         "hoverinfo": "text",
         "marker": {
          "color": "rgb(0,116,217)"
         },
         "mode": "lines",
         "text": [
          "diesel_petrol_fuel_petroleum_gasoline",
          "",
          "",
          "petroleum_oil_refinery_opec_crude"
         ],
         "type": "scatter",
         "x": [
          0.89492625667315,
          1.1939245940522432,
          1.1939245940522432,
          1.0711429313900152
         ],
         "xaxis": "x",
         "y": [
          -1357.5,
          -1357.5,
          -1403.125,
          -1403.125
         ],
         "yaxis": "y"
        },
        {
         "hoverinfo": "text",
         "marker": {
          "color": "rgb(0,116,217)"
         },
         "mode": "lines",
         "text": [
          "asia_japan_india_revenue_africa",
          "",
          "",
          "petroleum_diesel_oil_crude_refinery"
         ],
         "type": "scatter",
         "x": [
          0.640417054225322,
          1.4138064198012807,
          1.4138064198012807,
          1.1939245940522432
         ],
         "xaxis": "x",
         "y": [
          -1327.5,
          -1327.5,
          -1380.3125,
          -1380.3125
         ],
         "yaxis": "y"
        },
        {
         "hoverinfo": "text",
         "marker": {
          "color": "rgb(35,205,205)"
         },
         "mode": "lines",
         "text": [
          "sale_sell_wholesale_buyer_business",
          "",
          "",
          "decision_exit_evaluation_leave_consideration"
         ],
         "type": "scatter",
         "x": [
          0,
          0.8392593158510155,
          0.8392593158510155,
          0
         ],
         "xaxis": "x",
         "y": [
          -1435,
          -1435,
          -1445,
          -1445
         ],
         "yaxis": "y"
        },
        {
         "hoverinfo": "text",
         "marker": {
          "color": "rgb(35,205,205)"
         },
         "mode": "lines",
         "text": [
          "exit_exiting_exited_business_market",
          "",
          "",
          "exit_exiting_exited_end_leave"
         ],
         "type": "scatter",
         "x": [
          0,
          0.41264334758912435,
          0.41264334758912435,
          0
         ],
         "xaxis": "x",
         "y": [
          -1455,
          -1455,
          -1465,
          -1465
         ],
         "yaxis": "y"
        },
        {
         "hoverinfo": "text",
         "marker": {
          "color": "rgb(35,205,205)"
         },
         "mode": "lines",
         "text": [
          "process_sale_sell_enterprise_operation",
          "",
          "",
          "exit_exiting_exited_terminating_leave"
         ],
         "type": "scatter",
         "x": [
          0.8392593158510155,
          0.9586963090263751,
          0.9586963090263751,
          0.41264334758912435
         ],
         "xaxis": "x",
         "y": [
          -1440,
          -1440,
          -1460,
          -1460
         ],
         "yaxis": "y"
        },
        {
         "hoverinfo": "text",
         "marker": {
          "color": "rgb(133,20,75)"
         },
         "mode": "lines",
         "text": [
          "suspending_suspend_revenue_suspension_billing",
          "",
          "",
          "suspend_suspending_suspension_pause_halt"
         ],
         "type": "scatter",
         "x": [
          0,
          0.4757596870725421,
          0.4757596870725421,
          0
         ],
         "xaxis": "x",
         "y": [
          -1475,
          -1475,
          -1485,
          -1485
         ],
         "yaxis": "y"
        },
        {
         "hoverinfo": "text",
         "marker": {
          "color": "rgb(255,220,0)"
         },
         "mode": "lines",
         "text": [
          "shipment_suspending_delivery_suspend_logistics",
          "",
          "",
          "shipment_delivery_ship_shipping_deliver"
         ],
         "type": "scatter",
         "x": [
          0,
          0.6014652343880331,
          0.6014652343880331,
          0
         ],
         "xaxis": "x",
         "y": [
          -1495,
          -1495,
          -1505,
          -1505
         ],
         "yaxis": "y"
        },
        {
         "hoverinfo": "text",
         "marker": {
          "color": "rgb(0,116,217)"
         },
         "mode": "lines",
         "text": [
          "suspend_suspending_suspension_pause_halt",
          "",
          "",
          "shipment_ship_shipping_delivery_deliver"
         ],
         "type": "scatter",
         "x": [
          0.4757596870725421,
          1.0260334170843708,
          1.0260334170843708,
          0.6014652343880331
         ],
         "xaxis": "x",
         "y": [
          -1480,
          -1480,
          -1500,
          -1500
         ],
         "yaxis": "y"
        },
        {
         "hoverinfo": "text",
         "marker": {
          "color": "rgb(0,116,217)"
         },
         "mode": "lines",
         "text": [
          "exit_exiting_exited_leave_discontinue",
          "",
          "",
          "suspend_suspending_suspension_pause_halt"
         ],
         "type": "scatter",
         "x": [
          0.9586963090263751,
          1.3326469723843495,
          1.3326469723843495,
          1.0260334170843708
         ],
         "xaxis": "x",
         "y": [
          -1450,
          -1450,
          -1490,
          -1490
         ],
         "yaxis": "y"
        },
        {
         "hoverinfo": "text",
         "marker": {
          "color": "rgb(40,35,35)"
         },
         "mode": "lines",
         "text": [
          "exporting_export_business_economy_market",
          "",
          "",
          "export_exporter_external_make_supplies"
         ],
         "type": "scatter",
         "x": [
          0,
          0.6279265034722449,
          0.6279265034722449,
          0
         ],
         "xaxis": "x",
         "y": [
          -1525,
          -1525,
          -1535,
          -1535
         ],
         "yaxis": "y"
        },
        {
         "hoverinfo": "text",
         "marker": {
          "color": "rgb(40,35,35)"
         },
         "mode": "lines",
         "text": [
          "export_exporting_exporter_external_make",
          "",
          "",
          "export_exporting_exporter_europe_european"
         ],
         "type": "scatter",
         "x": [
          0.6279265034722449,
          0.737653259454457,
          0.737653259454457,
          0
         ],
         "xaxis": "x",
         "y": [
          -1530,
          -1530,
          -1545,
          -1545
         ],
         "yaxis": "y"
        },
        {
         "hoverinfo": "text",
         "marker": {
          "color": "rgb(40,35,35)"
         },
         "mode": "lines",
         "text": [
          "exporting_export_cargo_production_shipment",
          "",
          "",
          "export_exporting_exporter_external_send"
         ],
         "type": "scatter",
         "x": [
          0,
          0.7759809559588515,
          0.7759809559588515,
          0.737653259454457
         ],
         "xaxis": "x",
         "y": [
          -1515,
          -1515,
          -1537.5,
          -1537.5
         ],
         "yaxis": "y"
        },
        {
         "hoverinfo": "text",
         "marker": {
          "color": "rgb(0,116,217)"
         },
         "mode": "lines",
         "text": [
          "suspending_suspend_suspension_pause_halt",
          "",
          "",
          "export_exporting_exporter_production_cargo"
         ],
         "type": "scatter",
         "x": [
          1.3326469723843495,
          1.4781027938777458,
          1.4781027938777458,
          0.7759809559588515
         ],
         "xaxis": "x",
         "y": [
          -1470,
          -1470,
          -1526.25,
          -1526.25
         ],
         "yaxis": "y"
        },
        {
         "hoverinfo": "text",
         "marker": {
          "color": "rgb(61,153,112)"
         },
         "mode": "lines",
         "text": [
          "turnover_drop_business_percentage_mention",
          "",
          "",
          "freight_rail_turnover_railroad_railcar"
         ],
         "type": "scatter",
         "x": [
          0,
          0.7747744101754477,
          0.7747744101754477,
          0
         ],
         "xaxis": "x",
         "y": [
          -1555,
          -1555,
          -1565,
          -1565
         ],
         "yaxis": "y"
        },
        {
         "hoverinfo": "text",
         "marker": {
          "color": "rgb(255,65,54)"
         },
         "mode": "lines",
         "text": [
          "port_vessel_ship_sea_shipyard",
          "",
          "",
          "seafarer_fleet_ship_crew_sea"
         ],
         "type": "scatter",
         "x": [
          0,
          0.7751821923931623,
          0.7751821923931623,
          0
         ],
         "xaxis": "x",
         "y": [
          -1575,
          -1575,
          -1585,
          -1585
         ],
         "yaxis": "y"
        },
        {
         "hoverinfo": "text",
         "marker": {
          "color": "rgb(0,116,217)"
         },
         "mode": "lines",
         "text": [
          "freight_rail_turnover_railcar_railroad",
          "",
          "",
          "port_harbor_vessel_ship_sea"
         ],
         "type": "scatter",
         "x": [
          0.7747744101754477,
          1.0854901732476112,
          1.0854901732476112,
          0.7751821923931623
         ],
         "xaxis": "x",
         "y": [
          -1560,
          -1560,
          -1580,
          -1580
         ],
         "yaxis": "y"
        },
        {
         "hoverinfo": "text",
         "marker": {
          "color": "rgb(35,205,205)"
         },
         "mode": "lines",
         "text": [
          "grain_logistical_bulk_season_barge",
          "",
          "",
          "grain_sea_seaborne_exporting_export"
         ],
         "type": "scatter",
         "x": [
          0,
          0.49088291998627587,
          0.49088291998627587,
          0
         ],
         "xaxis": "x",
         "y": [
          -1595,
          -1595,
          -1605,
          -1605
         ],
         "yaxis": "y"
        },
        {
         "hoverinfo": "text",
         "marker": {
          "color": "rgb(61,153,112)"
         },
         "mode": "lines",
         "text": [
          "carbon_europe_supplier_black_supply",
          "",
          "",
          "tire_tyre_supply_distributor_rubber"
         ],
         "type": "scatter",
         "x": [
          0,
          0.8324317353135129,
          0.8324317353135129,
          0
         ],
         "xaxis": "x",
         "y": [
          -1615,
          -1615,
          -1625,
          -1625
         ],
         "yaxis": "y"
        },
        {
         "hoverinfo": "text",
         "marker": {
          "color": "rgb(0,116,217)"
         },
         "mode": "lines",
         "text": [
          "grain_sea_barge_trading_exporter",
          "",
          "",
          "tire_tyre_supplier_supply_carbon"
         ],
         "type": "scatter",
         "x": [
          0.49088291998627587,
          1.1219938007877222,
          1.1219938007877222,
          0.8324317353135129
         ],
         "xaxis": "x",
         "y": [
          -1600,
          -1600,
          -1620,
          -1620
         ],
         "yaxis": "y"
        },
        {
         "hoverinfo": "text",
         "marker": {
          "color": "rgb(0,116,217)"
         },
         "mode": "lines",
         "text": [
          "freight_rail_railroad_railcar_railway",
          "",
          "",
          "grain_exporter_trading_market_sea"
         ],
         "type": "scatter",
         "x": [
          1.0854901732476112,
          1.1693552899638282,
          1.1693552899638282,
          1.1219938007877222
         ],
         "xaxis": "x",
         "y": [
          -1570,
          -1570,
          -1610,
          -1610
         ],
         "yaxis": "y"
        },
        {
         "hoverinfo": "text",
         "marker": {
          "color": "rgb(255,65,54)"
         },
         "mode": "lines",
         "text": [
          "turkish_turkey_sale_revenue_pricing",
          "",
          "",
          "turkey_turkish_istanbul_meat_cook"
         ],
         "type": "scatter",
         "x": [
          0,
          0.5751842881768484,
          0.5751842881768484,
          0
         ],
         "xaxis": "x",
         "y": [
          -1635,
          -1635,
          -1645,
          -1645
         ],
         "yaxis": "y"
        },
        {
         "hoverinfo": "text",
         "marker": {
          "color": "rgb(35,205,205)"
         },
         "mode": "lines",
         "text": [
          "aviation_airline_aircraft_airplane_plane",
          "",
          "",
          "fly_flight_airline_aircraft_route"
         ],
         "type": "scatter",
         "x": [
          0,
          0.7316428800228285,
          0.7316428800228285,
          0
         ],
         "xaxis": "x",
         "y": [
          -1655,
          -1655,
          -1665,
          -1665
         ],
         "yaxis": "y"
        },
        {
         "hoverinfo": "text",
         "marker": {
          "color": "rgb(133,20,75)"
         },
         "mode": "lines",
         "text": [
          "airspace_closure_overflight_interfere_flight",
          "",
          "",
          "flight_inflation_inflationary_covid_disruption"
         ],
         "type": "scatter",
         "x": [
          0,
          0.8092148362176,
          0.8092148362176,
          0
         ],
         "xaxis": "x",
         "y": [
          -1675,
          -1675,
          -1685,
          -1685
         ],
         "yaxis": "y"
        },
        {
         "hoverinfo": "text",
         "marker": {
          "color": "rgb(133,20,75)"
         },
         "mode": "lines",
         "text": [
          "airspace_closure_overflight_interfere_flight",
          "",
          "",
          "disruption_disrupt_impact_transition_availability"
         ],
         "type": "scatter",
         "x": [
          0.8092148362176,
          0.9811812511231554,
          0.9811812511231554,
          0
         ],
         "xaxis": "x",
         "y": [
          -1680,
          -1680,
          -1695,
          -1695
         ],
         "yaxis": "y"
        },
        {
         "hoverinfo": "text",
         "marker": {
          "color": "rgb(0,116,217)"
         },
         "mode": "lines",
         "text": [
          "flight_fly_airline_airplane_plane",
          "",
          "",
          "airspace_closure_overflight_interfere_flight"
         ],
         "type": "scatter",
         "x": [
          0.7316428800228285,
          1.0352860963095227,
          1.0352860963095227,
          0.9811812511231554
         ],
         "xaxis": "x",
         "y": [
          -1660,
          -1660,
          -1687.5,
          -1687.5
         ],
         "yaxis": "y"
        },
        {
         "hoverinfo": "text",
         "marker": {
          "color": "rgb(0,116,217)"
         },
         "mode": "lines",
         "text": [
          "turkey_turkish_istanbul_meat_azerbaijan",
          "",
          "",
          "airspace_closure_overflight_flight_airline"
         ],
         "type": "scatter",
         "x": [
          0.5751842881768484,
          1.2259516273755913,
          1.2259516273755913,
          1.0352860963095227
         ],
         "xaxis": "x",
         "y": [
          -1640,
          -1640,
          -1673.75,
          -1673.75
         ],
         "yaxis": "y"
        },
        {
         "hoverinfo": "text",
         "marker": {
          "color": "rgb(255,220,0)"
         },
         "mode": "lines",
         "text": [
          "covid_easter_news_holiday_christmas",
          "",
          "",
          "easter_holiday_christmas_omicron_april"
         ],
         "type": "scatter",
         "x": [
          0,
          0.6109632614791015,
          0.6109632614791015,
          0
         ],
         "xaxis": "x",
         "y": [
          -1705,
          -1705,
          -1715,
          -1715
         ],
         "yaxis": "y"
        },
        {
         "hoverinfo": "text",
         "marker": {
          "color": "rgb(255,220,0)"
         },
         "mode": "lines",
         "text": [
          "easter_holiday_christmas_omicron_december",
          "",
          "",
          "omicron_invasion_occur_predict_progress"
         ],
         "type": "scatter",
         "x": [
          0.6109632614791015,
          0.908835019851846,
          0.908835019851846,
          0
         ],
         "xaxis": "x",
         "y": [
          -1710,
          -1710,
          -1725,
          -1725
         ],
         "yaxis": "y"
        },
        {
         "hoverinfo": "text",
         "marker": {
          "color": "rgb(0,116,217)"
         },
         "mode": "lines",
         "text": [
          "airspace_overflight_airline_flight_closure",
          "",
          "",
          "omicron_easter_holiday_christmas_october"
         ],
         "type": "scatter",
         "x": [
          1.2259516273755913,
          1.3034444201785829,
          1.3034444201785829,
          0.908835019851846
         ],
         "xaxis": "x",
         "y": [
          -1656.875,
          -1656.875,
          -1717.5,
          -1717.5
         ],
         "yaxis": "y"
        },
        {
         "hoverinfo": "text",
         "marker": {
          "color": "rgb(0,116,217)"
         },
         "mode": "lines",
         "text": [
          "sea_seaborne_seafarer_freight_ship",
          "",
          "",
          "airspace_closure_overflight_flight_airline"
         ],
         "type": "scatter",
         "x": [
          1.1693552899638282,
          1.3270324837161092,
          1.3270324837161092,
          1.3034444201785829
         ],
         "xaxis": "x",
         "y": [
          -1590,
          -1590,
          -1687.1875,
          -1687.1875
         ],
         "yaxis": "y"
        },
        {
         "hoverinfo": "text",
         "marker": {
          "color": "rgb(40,35,35)"
         },
         "mode": "lines",
         "text": [
          "bank_exposure_deposit_nedbank_wealth",
          "",
          "",
          "bank_banking_sberbank_banknote_raiffeisenbank"
         ],
         "type": "scatter",
         "x": [
          0,
          0.6388722442424422,
          0.6388722442424422,
          0
         ],
         "xaxis": "x",
         "y": [
          -1735,
          -1735,
          -1745,
          -1745
         ],
         "yaxis": "y"
        },
        {
         "hoverinfo": "text",
         "marker": {
          "color": "rgb(61,153,112)"
         },
         "mode": "lines",
         "text": [
          "sanction_sanctioning_compliance_consequence_sanctioned",
          "",
          "",
          "sanction_eu_sanctioned_enforce_regulation"
         ],
         "type": "scatter",
         "x": [
          0,
          0.6095095329708218,
          0.6095095329708218,
          0
         ],
         "xaxis": "x",
         "y": [
          -1755,
          -1755,
          -1765,
          -1765
         ],
         "yaxis": "y"
        },
        {
         "hoverinfo": "text",
         "marker": {
          "color": "rgb(0,116,217)"
         },
         "mode": "lines",
         "text": [
          "bank_banking_banknote_sberbank_financial",
          "",
          "",
          "sanction_sanctioning_compliance_sanctioned_regulation"
         ],
         "type": "scatter",
         "x": [
          0.6388722442424422,
          1.146285126723065,
          1.146285126723065,
          0.6095095329708218
         ],
         "xaxis": "x",
         "y": [
          -1740,
          -1740,
          -1760,
          -1760
         ],
         "yaxis": "y"
        },
        {
         "hoverinfo": "text",
         "marker": {
          "color": "rgb(255,65,54)"
         },
         "mode": "lines",
         "text": [
          "transfer_ownership_transaction_buyer_shareholder",
          "",
          "",
          "franchisee_restaurant_franchisor_franchise_kfc"
         ],
         "type": "scatter",
         "x": [
          0,
          0.7745441638133633,
          0.7745441638133633,
          0
         ],
         "xaxis": "x",
         "y": [
          -1785,
          -1785,
          -1795,
          -1795
         ],
         "yaxis": "y"
        },
        {
         "hoverinfo": "text",
         "marker": {
          "color": "rgb(255,65,54)"
         },
         "mode": "lines",
         "text": [
          "remittance_remit_transfer_influx_migrant",
          "",
          "",
          "kfc_franchise_franchisee_gaap_transfer"
         ],
         "type": "scatter",
         "x": [
          0,
          0.9893963889739623,
          0.9893963889739623,
          0.7745441638133633
         ],
         "xaxis": "x",
         "y": [
          -1775,
          -1775,
          -1790,
          -1790
         ],
         "yaxis": "y"
        },
        {
         "hoverinfo": "text",
         "marker": {
          "color": "rgb(35,205,205)"
         },
         "mode": "lines",
         "text": [
          "approval_approve_regulatory_commission_authority",
          "",
          "",
          "divestment_divest_divesting_dive_divestiture"
         ],
         "type": "scatter",
         "x": [
          0,
          0.8833532671588129,
          0.8833532671588129,
          0
         ],
         "xaxis": "x",
         "y": [
          -1805,
          -1805,
          -1815,
          -1815
         ],
         "yaxis": "y"
        },
        {
         "hoverinfo": "text",
         "marker": {
          "color": "rgb(35,205,205)"
         },
         "mode": "lines",
         "text": [
          "divestment_divest_divesting_dive_divestiture",
          "",
          "",
          "packaging_goods_shipment_product_profitability"
         ],
         "type": "scatter",
         "x": [
          0.8833532671588129,
          0.9598639450626917,
          0.9598639450626917,
          0
         ],
         "xaxis": "x",
         "y": [
          -1810,
          -1810,
          -1825,
          -1825
         ],
         "yaxis": "y"
        },
        {
         "hoverinfo": "text",
         "marker": {
          "color": "rgb(35,205,205)"
         },
         "mode": "lines",
         "text": [
          "divestment_divest_divesting_divestiture_dive",
          "",
          "",
          "strategic_strategical_business_acquisition_option"
         ],
         "type": "scatter",
         "x": [
          0.9598639450626917,
          0.9641523966812909,
          0.9641523966812909,
          0
         ],
         "xaxis": "x",
         "y": [
          -1817.5,
          -1817.5,
          -1835,
          -1835
         ],
         "yaxis": "y"
        },
        {
         "hoverinfo": "text",
         "marker": {
          "color": "rgb(61,153,112)"
         },
         "mode": "lines",
         "text": [
          "portfolio_asset_trading_strategy_company",
          "",
          "",
          "uniper_curtailment_unipro_curtail_gas"
         ],
         "type": "scatter",
         "x": [
          0,
          0.944875348314948,
          0.944875348314948,
          0
         ],
         "xaxis": "x",
         "y": [
          -1845,
          -1845,
          -1855,
          -1855
         ],
         "yaxis": "y"
        },
        {
         "hoverinfo": "text",
         "marker": {
          "color": "rgb(61,153,112)"
         },
         "mode": "lines",
         "text": [
          "subsidiary_multinational_company_corporate_supplier",
          "",
          "",
          "regional_geographically_region_subsidiary_business"
         ],
         "type": "scatter",
         "x": [
          0,
          0.9189940003707069,
          0.9189940003707069,
          0
         ],
         "xaxis": "x",
         "y": [
          -1865,
          -1865,
          -1875,
          -1875
         ],
         "yaxis": "y"
        },
        {
         "hoverinfo": "text",
         "marker": {
          "color": "rgb(61,153,112)"
         },
         "mode": "lines",
         "text": [
          "uniper_curtailment_gas_unipro_divestment",
          "",
          "",
          "subsidiary_multinational_company_corporate_shareholder"
         ],
         "type": "scatter",
         "x": [
          0.944875348314948,
          0.992725366205488,
          0.992725366205488,
          0.9189940003707069
         ],
         "xaxis": "x",
         "y": [
          -1850,
          -1850,
          -1870,
          -1870
         ],
         "yaxis": "y"
        },
        {
         "hoverinfo": "text",
         "marker": {
          "color": "rgb(255,65,54)"
         },
         "mode": "lines",
         "text": [
          "uncertainty_risk_information_pandemic_statement",
          "",
          "",
          "belarus_belarusian_kazakhstan_moldova_country"
         ],
         "type": "scatter",
         "x": [
          0,
          0.908788590713665,
          0.908788590713665,
          0
         ],
         "xaxis": "x",
         "y": [
          -1895,
          -1895,
          -1905,
          -1905
         ],
         "yaxis": "y"
        },
        {
         "hoverinfo": "text",
         "marker": {
          "color": "rgb(255,65,54)"
         },
         "mode": "lines",
         "text": [
          "belarus_belarusian_country_company_region",
          "",
          "",
          "customer_consumer_service_company_merchant"
         ],
         "type": "scatter",
         "x": [
          0.908788590713665,
          0.9324192369135175,
          0.9324192369135175,
          0
         ],
         "xaxis": "x",
         "y": [
          -1900,
          -1900,
          -1915,
          -1915
         ],
         "yaxis": "y"
        },
        {
         "hoverinfo": "text",
         "marker": {
          "color": "rgb(255,65,54)"
         },
         "mode": "lines",
         "text": [
          "datum_privacy_estate_geographically_exchange",
          "",
          "",
          "belarus_belarusian_country_region_company"
         ],
         "type": "scatter",
         "x": [
          0,
          0.9811422095414292,
          0.9811422095414292,
          0.9324192369135175
         ],
         "xaxis": "x",
         "y": [
          -1885,
          -1885,
          -1907.5,
          -1907.5
         ],
         "yaxis": "y"
        },
        {
         "hoverinfo": "text",
         "marker": {
          "color": "rgb(0,116,217)"
         },
         "mode": "lines",
         "text": [
          "uniper_unipro_curtailment_divestment_gas",
          "",
          "",
          "belarus_belarusian_sale_country_region"
         ],
         "type": "scatter",
         "x": [
          0.992725366205488,
          1.0262725500712935,
          1.0262725500712935,
          0.9811422095414292
         ],
         "xaxis": "x",
         "y": [
          -1860,
          -1860,
          -1896.25,
          -1896.25
         ],
         "yaxis": "y"
        },
        {
         "hoverinfo": "text",
         "marker": {
          "color": "rgb(0,116,217)"
         },
         "mode": "lines",
         "text": [
          "divestment_divest_divestiture_divesting_dive",
          "",
          "",
          "belarus_belarusian_subsidiary_region_covid"
         ],
         "type": "scatter",
         "x": [
          0.9641523966812909,
          1.0467345956548098,
          1.0467345956548098,
          1.0262725500712935
         ],
         "xaxis": "x",
         "y": [
          -1826.25,
          -1826.25,
          -1878.125,
          -1878.125
         ],
         "yaxis": "y"
        },
        {
         "hoverinfo": "text",
         "marker": {
          "color": "rgb(0,116,217)"
         },
         "mode": "lines",
         "text": [
          "kfc_franchise_franchisee_gaap_transfer",
          "",
          "",
          "belarus_belarusian_subsidiary_region_acquire"
         ],
         "type": "scatter",
         "x": [
          0.9893963889739623,
          1.1339695481732963,
          1.1339695481732963,
          1.0467345956548098
         ],
         "xaxis": "x",
         "y": [
          -1782.5,
          -1782.5,
          -1852.1875,
          -1852.1875
         ],
         "yaxis": "y"
        },
        {
         "hoverinfo": "text",
         "marker": {
          "color": "rgb(35,205,205)"
         },
         "mode": "lines",
         "text": [
          "cash_debit_payment_liquidity_money",
          "",
          "",
          "capital_capitalized_cap_financing_management"
         ],
         "type": "scatter",
         "x": [
          0,
          0.8703595084214703,
          0.8703595084214703,
          0
         ],
         "xaxis": "x",
         "y": [
          -1935,
          -1935,
          -1945,
          -1945
         ],
         "yaxis": "y"
        },
        {
         "hoverinfo": "text",
         "marker": {
          "color": "rgb(35,205,205)"
         },
         "mode": "lines",
         "text": [
          "balance_sheet_inventory_earnings_asset",
          "",
          "",
          "cash_debit_payment_invest_asset"
         ],
         "type": "scatter",
         "x": [
          0,
          0.9572976337904906,
          0.9572976337904906,
          0.8703595084214703
         ],
         "xaxis": "x",
         "y": [
          -1925,
          -1925,
          -1940,
          -1940
         ],
         "yaxis": "y"
        },
        {
         "hoverinfo": "text",
         "marker": {
          "color": "rgb(133,20,75)"
         },
         "mode": "lines",
         "text": [
          "dividend_shareholding_divide_earnings_shareholder",
          "",
          "",
          "debt_loans_finance_leverage_indebtedness"
         ],
         "type": "scatter",
         "x": [
          0,
          0.9011608953709154,
          0.9011608953709154,
          0
         ],
         "xaxis": "x",
         "y": [
          -1955,
          -1955,
          -1965,
          -1965
         ],
         "yaxis": "y"
        },
        {
         "hoverinfo": "text",
         "marker": {
          "color": "rgb(133,20,75)"
         },
         "mode": "lines",
         "text": [
          "dividend_divide_finance_shareholder_debt",
          "",
          "",
          "ruble_rubel_rub_rub5_rub100"
         ],
         "type": "scatter",
         "x": [
          0.9011608953709154,
          0.9425088745067554,
          0.9425088745067554,
          0
         ],
         "xaxis": "x",
         "y": [
          -1960,
          -1960,
          -1975,
          -1975
         ],
         "yaxis": "y"
        },
        {
         "hoverinfo": "text",
         "marker": {
          "color": "rgb(0,116,217)"
         },
         "mode": "lines",
         "text": [
          "cash_payment_invest_asset_liquidity",
          "",
          "",
          "dividend_ruble_divide_depreciation_shareholder"
         ],
         "type": "scatter",
         "x": [
          0.9572976337904906,
          1.0068159983211977,
          1.0068159983211977,
          0.9425088745067554
         ],
         "xaxis": "x",
         "y": [
          -1932.5,
          -1932.5,
          -1967.5,
          -1967.5
         ],
         "yaxis": "y"
        },
        {
         "hoverinfo": "text",
         "marker": {
          "color": "rgb(0,116,217)"
         },
         "mode": "lines",
         "text": [
          "belarus_belarusian_subsidiary_acquire_sale",
          "",
          "",
          "dividend_payment_depreciation_debt_cash"
         ],
         "type": "scatter",
         "x": [
          1.1339695481732963,
          1.162600144103542,
          1.162600144103542,
          1.0068159983211977
         ],
         "xaxis": "x",
         "y": [
          -1817.34375,
          -1817.34375,
          -1950,
          -1950
         ],
         "yaxis": "y"
        },
        {
         "hoverinfo": "text",
         "marker": {
          "color": "rgb(0,116,217)"
         },
         "mode": "lines",
         "text": [
          "sanction_banking_bank_regulatory_regulation",
          "",
          "",
          "belarus_belarusian_subsidiary_asset_region"
         ],
         "type": "scatter",
         "x": [
          1.146285126723065,
          1.194643295284046,
          1.194643295284046,
          1.162600144103542
         ],
         "xaxis": "x",
         "y": [
          -1750,
          -1750,
          -1883.671875,
          -1883.671875
         ],
         "yaxis": "y"
        },
        {
         "hoverinfo": "text",
         "marker": {
          "color": "rgb(255,220,0)"
         },
         "mode": "lines",
         "text": [
          "war_fight_conflict_speak_talk",
          "",
          "",
          "talk_conversation_speak_chat_communication"
         ],
         "type": "scatter",
         "x": [
          0,
          0.6702991935926859,
          0.6702991935926859,
          0
         ],
         "xaxis": "x",
         "y": [
          -1995,
          -1995,
          -2005,
          -2005
         ],
         "yaxis": "y"
        },
        {
         "hoverinfo": "text",
         "marker": {
          "color": "rgb(255,220,0)"
         },
         "mode": "lines",
         "text": [
          "speak____",
          "",
          "",
          "talk_conversation_speak_discuss_chat"
         ],
         "type": "scatter",
         "x": [
          0,
          0.9269766275731128,
          0.9269766275731128,
          0.6702991935926859
         ],
         "xaxis": "x",
         "y": [
          -1985,
          -1985,
          -2000,
          -2000
         ],
         "yaxis": "y"
        },
        {
         "hoverinfo": "text",
         "marker": {
          "color": "rgb(40,35,35)"
         },
         "mode": "lines",
         "text": [
          "pricing_price_cost_increase_dollar",
          "",
          "",
          "pricing_cost_price_increase_surge"
         ],
         "type": "scatter",
         "x": [
          0,
          0.8698039977332315,
          0.8698039977332315,
          0
         ],
         "xaxis": "x",
         "y": [
          -2025,
          -2025,
          -2035,
          -2035
         ],
         "yaxis": "y"
        },
        {
         "hoverinfo": "text",
         "marker": {
          "color": "rgb(40,35,35)"
         },
         "mode": "lines",
         "text": [
          "____",
          "",
          "",
          "pricing_cost_increase_price_dollar"
         ],
         "type": "scatter",
         "x": [
          0,
          0.9813158513032311,
          0.9813158513032311,
          0.8698039977332315
         ],
         "xaxis": "x",
         "y": [
          -2015,
          -2015,
          -2030,
          -2030
         ],
         "yaxis": "y"
        },
        {
         "hoverinfo": "text",
         "marker": {
          "color": "rgb(61,153,112)"
         },
         "mode": "lines",
         "text": [
          "surcharge_fuel_gasoline_increase_cost",
          "",
          "",
          "outbreak_war_crisis_conflict_contagion"
         ],
         "type": "scatter",
         "x": [
          0,
          0.8795296386997385,
          0.8795296386997385,
          0
         ],
         "xaxis": "x",
         "y": [
          -2045,
          -2045,
          -2055,
          -2055
         ],
         "yaxis": "y"
        },
        {
         "hoverinfo": "text",
         "marker": {
          "color": "rgb(255,65,54)"
         },
         "mode": "lines",
         "text": [
          "advertising_advertiser_demand_economic_revenue",
          "",
          "",
          "gmv_marketplace_automotive_retailer_logistics"
         ],
         "type": "scatter",
         "x": [
          0,
          0.927088588417234,
          0.927088588417234,
          0
         ],
         "xaxis": "x",
         "y": [
          -2065,
          -2065,
          -2075,
          -2075
         ],
         "yaxis": "y"
        },
        {
         "hoverinfo": "text",
         "marker": {
          "color": "rgb(0,116,217)"
         },
         "mode": "lines",
         "text": [
          "outbreak_war_fuel_cost_escalation",
          "",
          "",
          "gmv_marketplace_retailer_advertising_consumer"
         ],
         "type": "scatter",
         "x": [
          0.8795296386997385,
          1.01744152088449,
          1.01744152088449,
          0.927088588417234
         ],
         "xaxis": "x",
         "y": [
          -2050,
          -2050,
          -2070,
          -2070
         ],
         "yaxis": "y"
        },
        {
         "hoverinfo": "text",
         "marker": {
          "color": "rgb(0,116,217)"
         },
         "mode": "lines",
         "text": [
          "pricing_cost_increase_price_dollar",
          "",
          "",
          "gmv_marketplace_advertising_consumer_revenue"
         ],
         "type": "scatter",
         "x": [
          0.9813158513032311,
          1.0449241330875536,
          1.0449241330875536,
          1.01744152088449
         ],
         "xaxis": "x",
         "y": [
          -2022.5,
          -2022.5,
          -2060,
          -2060
         ],
         "yaxis": "y"
        },
        {
         "hoverinfo": "text",
         "marker": {
          "color": "rgb(35,205,205)"
         },
         "mode": "lines",
         "text": [
          "supplier_vendor_supply_supplies_outsource",
          "",
          "",
          "titanium_supplier_engineer_aluminum_purchase"
         ],
         "type": "scatter",
         "x": [
          0,
          0.9067847084252276,
          0.9067847084252276,
          0
         ],
         "xaxis": "x",
         "y": [
          -2085,
          -2085,
          -2095,
          -2095
         ],
         "yaxis": "y"
        },
        {
         "hoverinfo": "text",
         "marker": {
          "color": "rgb(61,153,112)"
         },
         "mode": "lines",
         "text": [
          "volatility_market_volatile_increase_macroeconomic",
          "",
          "",
          "market_war_procurement_fiscal_volatility"
         ],
         "type": "scatter",
         "x": [
          0,
          0.8318823561901079,
          0.8318823561901079,
          0
         ],
         "xaxis": "x",
         "y": [
          -2105,
          -2105,
          -2115,
          -2115
         ],
         "yaxis": "y"
        },
        {
         "hoverinfo": "text",
         "marker": {
          "color": "rgb(61,153,112)"
         },
         "mode": "lines",
         "text": [
          "volatility_market_volatile_increase_war",
          "",
          "",
          "lady_gentleman_war_militarily_general"
         ],
         "type": "scatter",
         "x": [
          0.8318823561901079,
          0.9562341765228031,
          0.9562341765228031,
          0
         ],
         "xaxis": "x",
         "y": [
          -2110,
          -2110,
          -2125,
          -2125
         ],
         "yaxis": "y"
        },
        {
         "hoverinfo": "text",
         "marker": {
          "color": "rgb(0,116,217)"
         },
         "mode": "lines",
         "text": [
          "titanium_supplier_vendor_supply_engineer",
          "",
          "",
          "lady_gentleman_war_militarily_military"
         ],
         "type": "scatter",
         "x": [
          0.9067847084252276,
          1.0572369365834182,
          1.0572369365834182,
          0.9562341765228031
         ],
         "xaxis": "x",
         "y": [
          -2090,
          -2090,
          -2117.5,
          -2117.5
         ],
         "yaxis": "y"
        },
        {
         "hoverinfo": "text",
         "marker": {
          "color": "rgb(0,116,217)"
         },
         "mode": "lines",
         "text": [
          "gmv_marketplace_advertising_revenue_retail",
          "",
          "",
          "titanium_supplier_vendor_procurement_feedstock"
         ],
         "type": "scatter",
         "x": [
          1.0449241330875536,
          1.095935497481734,
          1.095935497481734,
          1.0572369365834182
         ],
         "xaxis": "x",
         "y": [
          -2041.25,
          -2041.25,
          -2103.75,
          -2103.75
         ],
         "yaxis": "y"
        },
        {
         "hoverinfo": "text",
         "marker": {
          "color": "rgb(255,65,54)"
         },
         "mode": "lines",
         "text": [
          "demand_economic_geopolitical_war_commodity",
          "",
          "",
          "demand_market_economy_retail_fms"
         ],
         "type": "scatter",
         "x": [
          0,
          0.7761269919174762,
          0.7761269919174762,
          0
         ],
         "xaxis": "x",
         "y": [
          -2135,
          -2135,
          -2145,
          -2145
         ],
         "yaxis": "y"
        },
        {
         "hoverinfo": "text",
         "marker": {
          "color": "rgb(0,116,217)"
         },
         "mode": "lines",
         "text": [
          "titanium_supplier_breakout_buy_pricing",
          "",
          "",
          "demand_retail_fms_imbalance_excess"
         ],
         "type": "scatter",
         "x": [
          1.095935497481734,
          1.11859551538981,
          1.11859551538981,
          0.7761269919174762
         ],
         "xaxis": "x",
         "y": [
          -2072.5,
          -2072.5,
          -2140,
          -2140
         ],
         "yaxis": "y"
        },
        {
         "hoverinfo": "text",
         "marker": {
          "color": "rgb(35,205,205)"
         },
         "mode": "lines",
         "text": [
          "china_chinese_satellite_trader_semiconductor",
          "",
          "",
          "china_korea_india_chinese_indonesia"
         ],
         "type": "scatter",
         "x": [
          0,
          0.8229128740482359,
          0.8229128740482359,
          0
         ],
         "xaxis": "x",
         "y": [
          -2155,
          -2155,
          -2165,
          -2165
         ],
         "yaxis": "y"
        },
        {
         "hoverinfo": "text",
         "marker": {
          "color": "rgb(133,20,75)"
         },
         "mode": "lines",
         "text": [
          "alumina_refinery_alrosa_production_exporting",
          "",
          "",
          "rest_business_corporate_mena_placement"
         ],
         "type": "scatter",
         "x": [
          0,
          0.9477135229472718,
          0.9477135229472718,
          0
         ],
         "xaxis": "x",
         "y": [
          -2175,
          -2175,
          -2185,
          -2185
         ],
         "yaxis": "y"
        },
        {
         "hoverinfo": "text",
         "marker": {
          "color": "rgb(255,220,0)"
         },
         "mode": "lines",
         "text": [
          "market_europe_european_business_economics",
          "",
          "",
          "western_west_market_industry_sell"
         ],
         "type": "scatter",
         "x": [
          0,
          0.9277334244554719,
          0.9277334244554719,
          0
         ],
         "xaxis": "x",
         "y": [
          -2195,
          -2195,
          -2205,
          -2205
         ],
         "yaxis": "y"
        },
        {
         "hoverinfo": "text",
         "marker": {
          "color": "rgb(255,220,0)"
         },
         "mode": "lines",
         "text": [
          "western_west_market_economics_east",
          "",
          "",
          "plant_planting_produce_production_species"
         ],
         "type": "scatter",
         "x": [
          0.9277334244554719,
          0.9620390408390681,
          0.9620390408390681,
          0
         ],
         "xaxis": "x",
         "y": [
          -2200,
          -2200,
          -2215,
          -2215
         ],
         "yaxis": "y"
        },
        {
         "hoverinfo": "text",
         "marker": {
          "color": "rgb(0,116,217)"
         },
         "mode": "lines",
         "text": [
          "alumina_alrosa_production_exporting_export",
          "",
          "",
          "plant_planting_verallia_species_production"
         ],
         "type": "scatter",
         "x": [
          0.9477135229472718,
          1.005523315312406,
          1.005523315312406,
          0.9620390408390681
         ],
         "xaxis": "x",
         "y": [
          -2180,
          -2180,
          -2207.5,
          -2207.5
         ],
         "yaxis": "y"
        },
        {
         "hoverinfo": "text",
         "marker": {
          "color": "rgb(40,35,35)"
         },
         "mode": "lines",
         "text": [
          "kazakhstan_kazakhstanian_kazakh_uzbekistan_turkmenistan",
          "",
          "",
          "gold_sale_sell_silver_buyer"
         ],
         "type": "scatter",
         "x": [
          0,
          0.9114598200446339,
          0.9114598200446339,
          0
         ],
         "xaxis": "x",
         "y": [
          -2225,
          -2225,
          -2235,
          -2235
         ],
         "yaxis": "y"
        },
        {
         "hoverinfo": "text",
         "marker": {
          "color": "rgb(0,116,217)"
         },
         "mode": "lines",
         "text": [
          "alumina_production_alrosa_market_exporting",
          "",
          "",
          "gold_kazakhstan_sell_silver_kazakhstanian"
         ],
         "type": "scatter",
         "x": [
          1.005523315312406,
          1.05028965845416,
          1.05028965845416,
          0.9114598200446339
         ],
         "xaxis": "x",
         "y": [
          -2193.75,
          -2193.75,
          -2230,
          -2230
         ],
         "yaxis": "y"
        },
        {
         "hoverinfo": "text",
         "marker": {
          "color": "rgb(0,116,217)"
         },
         "mode": "lines",
         "text": [
          "china_korea_india_chinese_africa",
          "",
          "",
          "gold_sell_market_silver_ship"
         ],
         "type": "scatter",
         "x": [
          0.8229128740482359,
          1.068896969667437,
          1.068896969667437,
          1.05028965845416
         ],
         "xaxis": "x",
         "y": [
          -2160,
          -2160,
          -2211.875,
          -2211.875
         ],
         "yaxis": "y"
        },
        {
         "hoverinfo": "text",
         "marker": {
          "color": "rgb(61,153,112)"
         },
         "mode": "lines",
         "text": [
          "border_country_kazakhstan_kilometer_migrant",
          "",
          "",
          "finland_finnish_nordic_export_economy"
         ],
         "type": "scatter",
         "x": [
          0,
          0.9210540726687203,
          0.9210540726687203,
          0
         ],
         "xaxis": "x",
         "y": [
          -2245,
          -2245,
          -2255,
          -2255
         ],
         "yaxis": "y"
        },
        {
         "hoverinfo": "text",
         "marker": {
          "color": "rgb(255,65,54)"
         },
         "mode": "lines",
         "text": [
          "wood_lumber_timber_birch_hardwood",
          "",
          "",
          "logistics_inventory_supply_shortage_ship"
         ],
         "type": "scatter",
         "x": [
          0,
          0.8295737368543586,
          0.8295737368543586,
          0
         ],
         "xaxis": "x",
         "y": [
          -2265,
          -2265,
          -2275,
          -2275
         ],
         "yaxis": "y"
        },
        {
         "hoverinfo": "text",
         "marker": {
          "color": "rgb(0,116,217)"
         },
         "mode": "lines",
         "text": [
          "finland_finnish_nordic_export_kilometer",
          "",
          "",
          "wood_lumber_timber_sawmill_firewood"
         ],
         "type": "scatter",
         "x": [
          0.9210540726687203,
          1.0218812117839753,
          1.0218812117839753,
          0.8295737368543586
         ],
         "xaxis": "x",
         "y": [
          -2250,
          -2250,
          -2270,
          -2270
         ],
         "yaxis": "y"
        },
        {
         "hoverinfo": "text",
         "marker": {
          "color": "rgb(35,205,205)"
         },
         "mode": "lines",
         "text": [
          "coal_market_gas_demand_coking",
          "",
          "",
          "ton_tonne_million_15000_250000"
         ],
         "type": "scatter",
         "x": [
          0,
          0.8779224218836476,
          0.8779224218836476,
          0
         ],
         "xaxis": "x",
         "y": [
          -2295,
          -2295,
          -2305,
          -2305
         ],
         "yaxis": "y"
        },
        {
         "hoverinfo": "text",
         "marker": {
          "color": "rgb(35,205,205)"
         },
         "mode": "lines",
         "text": [
          "import_importer_tariff_marketplace_commerce",
          "",
          "",
          "coal_market_demand_gas_pricing"
         ],
         "type": "scatter",
         "x": [
          0,
          0.9167901616701002,
          0.9167901616701002,
          0.8779224218836476
         ],
         "xaxis": "x",
         "y": [
          -2285,
          -2285,
          -2300,
          -2300
         ],
         "yaxis": "y"
        },
        {
         "hoverinfo": "text",
         "marker": {
          "color": "rgb(61,153,112)"
         },
         "mode": "lines",
         "text": [
          "tanker_fleet_oilfield_gulfstream_suezmax",
          "",
          "",
          "dislocation_damage_slide_injury_occur"
         ],
         "type": "scatter",
         "x": [
          0,
          0.9503144595218083,
          0.9503144595218083,
          0
         ],
         "xaxis": "x",
         "y": [
          -2315,
          -2315,
          -2325,
          -2325
         ],
         "yaxis": "y"
        },
        {
         "hoverinfo": "text",
         "marker": {
          "color": "rgb(0,116,217)"
         },
         "mode": "lines",
         "text": [
          "coal_demand_coking_gas_pricing",
          "",
          "",
          "tanker_fleet_oilfield_gulfstream_suezmax"
         ],
         "type": "scatter",
         "x": [
          0.9167901616701002,
          1.015675825109929,
          1.015675825109929,
          0.9503144595218083
         ],
         "xaxis": "x",
         "y": [
          -2292.5,
          -2292.5,
          -2320,
          -2320
         ],
         "yaxis": "y"
        },
        {
         "hoverinfo": "text",
         "marker": {
          "color": "rgb(0,116,217)"
         },
         "mode": "lines",
         "text": [
          "wood_lumber_timber_birch_hardwood",
          "",
          "",
          "coal_market_pricing_demand_gas"
         ],
         "type": "scatter",
         "x": [
          1.0218812117839753,
          1.074988535865718,
          1.074988535865718,
          1.015675825109929
         ],
         "xaxis": "x",
         "y": [
          -2260,
          -2260,
          -2306.25,
          -2306.25
         ],
         "yaxis": "y"
        },
        {
         "hoverinfo": "text",
         "marker": {
          "color": "rgb(0,116,217)"
         },
         "mode": "lines",
         "text": [
          "sell_gold_market_kazakhstan_silver",
          "",
          "",
          "coal_market_demand_gas_sourcing"
         ],
         "type": "scatter",
         "x": [
          1.068896969667437,
          1.0869041334832383,
          1.0869041334832383,
          1.074988535865718
         ],
         "xaxis": "x",
         "y": [
          -2185.9375,
          -2185.9375,
          -2283.125,
          -2283.125
         ],
         "yaxis": "y"
        },
        {
         "hoverinfo": "text",
         "marker": {
          "color": "rgb(255,65,54)"
         },
         "mode": "lines",
         "text": [
          "fertilizer_soil_produce_agriculture_agricultural",
          "",
          "",
          "fertilizer_ammonia_nitrogen_nitrate_ammonium"
         ],
         "type": "scatter",
         "x": [
          0,
          0.7516446189771182,
          0.7516446189771182,
          0
         ],
         "xaxis": "x",
         "y": [
          -2335,
          -2335,
          -2345,
          -2345
         ],
         "yaxis": "y"
        },
        {
         "hoverinfo": "text",
         "marker": {
          "color": "rgb(35,205,205)"
         },
         "mode": "lines",
         "text": [
          "wheat_maize_agriculture_agricultural_corn",
          "",
          "",
          "sunflower_oilseed_oil_wheat_sun"
         ],
         "type": "scatter",
         "x": [
          0,
          0.8650648394637939,
          0.8650648394637939,
          0
         ],
         "xaxis": "x",
         "y": [
          -2355,
          -2355,
          -2365,
          -2365
         ],
         "yaxis": "y"
        },
        {
         "hoverinfo": "text",
         "marker": {
          "color": "rgb(0,116,217)"
         },
         "mode": "lines",
         "text": [
          "fertilizer_nutrient_produce_agriculture_nitrogen",
          "",
          "",
          "wheat_maize_agriculture_agricultural_corn"
         ],
         "type": "scatter",
         "x": [
          0.7516446189771182,
          1.067716501249596,
          1.067716501249596,
          0.8650648394637939
         ],
         "xaxis": "x",
         "y": [
          -2340,
          -2340,
          -2360,
          -2360
         ],
         "yaxis": "y"
        },
        {
         "hoverinfo": "text",
         "marker": {
          "color": "rgb(0,116,217)"
         },
         "mode": "lines",
         "text": [
          "coal_demand_market_export_supply",
          "",
          "",
          "wheat_maize_corn_agricultural_agriculture"
         ],
         "type": "scatter",
         "x": [
          1.0869041334832383,
          1.1536525594434752,
          1.1536525594434752,
          1.067716501249596
         ],
         "xaxis": "x",
         "y": [
          -2234.53125,
          -2234.53125,
          -2350,
          -2350
         ],
         "yaxis": "y"
        },
        {
         "hoverinfo": "text",
         "marker": {
          "color": "rgb(0,116,217)"
         },
         "mode": "lines",
         "text": [
          "titanium_supplier_demand_market_buy",
          "",
          "",
          "coal_demand_market_gas_supply"
         ],
         "type": "scatter",
         "x": [
          1.11859551538981,
          1.1948128323281304,
          1.1948128323281304,
          1.1536525594434752
         ],
         "xaxis": "x",
         "y": [
          -2106.25,
          -2106.25,
          -2292.265625,
          -2292.265625
         ],
         "yaxis": "y"
        },
        {
         "hoverinfo": "text",
         "marker": {
          "color": "rgb(133,20,75)"
         },
         "mode": "lines",
         "text": [
          "facility_locate_city_center_lab",
          "",
          "",
          "factory_manufacturing_manufacture_production_manufacturer"
         ],
         "type": "scatter",
         "x": [
          0,
          0.6907410002396892,
          0.6907410002396892,
          0
         ],
         "xaxis": "x",
         "y": [
          -2375,
          -2375,
          -2385,
          -2385
         ],
         "yaxis": "y"
        },
        {
         "hoverinfo": "text",
         "marker": {
          "color": "rgb(255,220,0)"
         },
         "mode": "lines",
         "text": [
          "brazil_argentina_chile_mexico_paraguay",
          "",
          "",
          "fda_pharma_japan_regulatory_australia"
         ],
         "type": "scatter",
         "x": [
          0,
          0.6790717221154539,
          0.6790717221154539,
          0
         ],
         "xaxis": "x",
         "y": [
          -2395,
          -2395,
          -2405,
          -2405
         ],
         "yaxis": "y"
        },
        {
         "hoverinfo": "text",
         "marker": {
          "color": "rgb(0,116,217)"
         },
         "mode": "lines",
         "text": [
          "facility_manufacturing_production_warehouse_manufacture",
          "",
          "",
          "brazil_fda_pharma_japan_argentina"
         ],
         "type": "scatter",
         "x": [
          0.6907410002396892,
          1.1843738908815455,
          1.1843738908815455,
          0.6790717221154539
         ],
         "xaxis": "x",
         "y": [
          -2380,
          -2380,
          -2400,
          -2400
         ],
         "yaxis": "y"
        },
        {
         "hoverinfo": "text",
         "marker": {
          "color": "rgb(40,35,35)"
         },
         "mode": "lines",
         "text": [
          "market_brand_marketing_commercialization_ryaltris",
          "",
          "",
          "revenue_business_heritage_retail_consumer"
         ],
         "type": "scatter",
         "x": [
          0,
          0.8163052927166086,
          0.8163052927166086,
          0
         ],
         "xaxis": "x",
         "y": [
          -2425,
          -2425,
          -2435,
          -2435
         ],
         "yaxis": "y"
        },
        {
         "hoverinfo": "text",
         "marker": {
          "color": "rgb(40,35,35)"
         },
         "mode": "lines",
         "text": [
          "chocolate_confectionery_market_fat_foodservice",
          "",
          "",
          "revenue_business_heritage_retail_commercialization"
         ],
         "type": "scatter",
         "x": [
          0,
          0.9823156306989638,
          0.9823156306989638,
          0.8163052927166086
         ],
         "xaxis": "x",
         "y": [
          -2415,
          -2415,
          -2430,
          -2430
         ],
         "yaxis": "y"
        },
        {
         "hoverinfo": "text",
         "marker": {
          "color": "rgb(61,153,112)"
         },
         "mode": "lines",
         "text": [
          "carlsberg_shareholder_production_profit_brand",
          "",
          "",
          "leave_stay_continue_let_course"
         ],
         "type": "scatter",
         "x": [
          0,
          0.8550646891269804,
          0.8550646891269804,
          0
         ],
         "xaxis": "x",
         "y": [
          -2445,
          -2445,
          -2455,
          -2455
         ],
         "yaxis": "y"
        },
        {
         "hoverinfo": "text",
         "marker": {
          "color": "rgb(0,116,217)"
         },
         "mode": "lines",
         "text": [
          "revenue_heritage_retail_commercialization_marketing",
          "",
          "",
          "carlsberg_shareholder_leave_production_profit"
         ],
         "type": "scatter",
         "x": [
          0.9823156306989638,
          1.0983040517202485,
          1.0983040517202485,
          0.8550646891269804
         ],
         "xaxis": "x",
         "y": [
          -2422.5,
          -2422.5,
          -2450,
          -2450
         ],
         "yaxis": "y"
        },
        {
         "hoverinfo": "text",
         "marker": {
          "color": "rgb(255,65,54)"
         },
         "mode": "lines",
         "text": [
          "topic_discuss_topical_talk_situation",
          "",
          "",
          "war_implication_broad_threat_wärtsilä"
         ],
         "type": "scatter",
         "x": [
          0,
          0.794737416808464,
          0.794737416808464,
          0
         ],
         "xaxis": "x",
         "y": [
          -2475,
          -2475,
          -2485,
          -2485
         ],
         "yaxis": "y"
        },
        {
         "hoverinfo": "text",
         "marker": {
          "color": "rgb(255,65,54)"
         },
         "mode": "lines",
         "text": [
          "cobalt_buy_supply_supplier_receive",
          "",
          "",
          "topic_discuss_topical_war_idea"
         ],
         "type": "scatter",
         "x": [
          0,
          0.9708684599494513,
          0.9708684599494513,
          0.794737416808464
         ],
         "xaxis": "x",
         "y": [
          -2465,
          -2465,
          -2480,
          -2480
         ],
         "yaxis": "y"
        },
        {
         "hoverinfo": "text",
         "marker": {
          "color": "rgb(35,205,205)"
         },
         "mode": "lines",
         "text": [
          "expose_public_directly_eavesdroppe_business",
          "",
          "",
          "consequence_war_conflict_sanction_calamity"
         ],
         "type": "scatter",
         "x": [
          0,
          0.9237205853563014,
          0.9237205853563014,
          0
         ],
         "xaxis": "x",
         "y": [
          -2495,
          -2495,
          -2505,
          -2505
         ],
         "yaxis": "y"
        },
        {
         "hoverinfo": "text",
         "marker": {
          "color": "rgb(61,153,112)"
         },
         "mode": "lines",
         "text": [
          "recession_crisis_growth_consequence_impact",
          "",
          "",
          "think_imagine_behavior_sentence_relevance"
         ],
         "type": "scatter",
         "x": [
          0,
          0.9570394873294612,
          0.9570394873294612,
          0
         ],
         "xaxis": "x",
         "y": [
          -2515,
          -2515,
          -2525,
          -2525
         ],
         "yaxis": "y"
        },
        {
         "hoverinfo": "text",
         "marker": {
          "color": "rgb(61,153,112)"
         },
         "mode": "lines",
         "text": [
          "country_number_australia_region_loss",
          "",
          "",
          "number_mathematical_calculation_probability_result"
         ],
         "type": "scatter",
         "x": [
          0,
          0.912618773904718,
          0.912618773904718,
          0
         ],
         "xaxis": "x",
         "y": [
          -2535,
          -2535,
          -2545,
          -2545
         ],
         "yaxis": "y"
        },
        {
         "hoverinfo": "text",
         "marker": {
          "color": "rgb(61,153,112)"
         },
         "mode": "lines",
         "text": [
          "recession_crisis_revenue_war_comparison",
          "",
          "",
          "number_mathematical_calculation_count_probability"
         ],
         "type": "scatter",
         "x": [
          0.9570394873294612,
          0.9948938895169671,
          0.9948938895169671,
          0.912618773904718
         ],
         "xaxis": "x",
         "y": [
          -2520,
          -2520,
          -2540,
          -2540
         ],
         "yaxis": "y"
        },
        {
         "hoverinfo": "text",
         "marker": {
          "color": "rgb(255,65,54)"
         },
         "mode": "lines",
         "text": [
          "come_way_go_let_new",
          "",
          "",
          "maybe_obviously_anybody_murray_"
         ],
         "type": "scatter",
         "x": [
          0,
          0.9347584329372092,
          0.9347584329372092,
          0
         ],
         "xaxis": "x",
         "y": [
          -2555,
          -2555,
          -2565,
          -2565
         ],
         "yaxis": "y"
        },
        {
         "hoverinfo": "text",
         "marker": {
          "color": "rgb(0,116,217)"
         },
         "mode": "lines",
         "text": [
          "number_recession_mathematical_count_calculation",
          "",
          "",
          "come_get_way_go_let"
         ],
         "type": "scatter",
         "x": [
          0.9948938895169671,
          1.0310850502126325,
          1.0310850502126325,
          0.9347584329372092
         ],
         "xaxis": "x",
         "y": [
          -2530,
          -2530,
          -2560,
          -2560
         ],
         "yaxis": "y"
        },
        {
         "hoverinfo": "text",
         "marker": {
          "color": "rgb(0,116,217)"
         },
         "mode": "lines",
         "text": [
          "expose_public_directly_eavesdroppe_allow",
          "",
          "",
          "number_recession_mathematical_count_calculation"
         ],
         "type": "scatter",
         "x": [
          0.9237205853563014,
          1.0503753928269095,
          1.0503753928269095,
          1.0310850502126325
         ],
         "xaxis": "x",
         "y": [
          -2500,
          -2500,
          -2545,
          -2545
         ],
         "yaxis": "y"
        },
        {
         "hoverinfo": "text",
         "marker": {
          "color": "rgb(35,205,205)"
         },
         "mode": "lines",
         "text": [
          "touch_hand_bit_let_sensitivity",
          "",
          "",
          "development_develop_build_capability_work"
         ],
         "type": "scatter",
         "x": [
          0,
          0.8863086478140932,
          0.8863086478140932,
          0
         ],
         "xaxis": "x",
         "y": [
          -2575,
          -2575,
          -2585,
          -2585
         ],
         "yaxis": "y"
        },
        {
         "hoverinfo": "text",
         "marker": {
          "color": "rgb(0,116,217)"
         },
         "mode": "lines",
         "text": [
          "expose_eavesdroppe_physically_scope_extent",
          "",
          "",
          "touch_hand_bit_let_sensitivity"
         ],
         "type": "scatter",
         "x": [
          1.0503753928269095,
          1.0628017924306545,
          1.0628017924306545,
          0.8863086478140932
         ],
         "xaxis": "x",
         "y": [
          -2522.5,
          -2522.5,
          -2580,
          -2580
         ],
         "yaxis": "y"
        },
        {
         "hoverinfo": "text",
         "marker": {
          "color": "rgb(133,20,75)"
         },
         "mode": "lines",
         "text": [
          "backlog_log_amount_historical_prediction",
          "",
          "",
          "build_project_building_newbuilding_development"
         ],
         "type": "scatter",
         "x": [
          0,
          0.8871907902789026,
          0.8871907902789026,
          0
         ],
         "xaxis": "x",
         "y": [
          -2595,
          -2595,
          -2605,
          -2605
         ],
         "yaxis": "y"
        },
        {
         "hoverinfo": "text",
         "marker": {
          "color": "rgb(255,220,0)"
         },
         "mode": "lines",
         "text": [
          "utilization_demand_maintain_capacity_resource",
          "",
          "",
          "capacity_utilization_throughput_limitation_reallocate"
         ],
         "type": "scatter",
         "x": [
          0,
          0.8490778347140008,
          0.8490778347140008,
          0
         ],
         "xaxis": "x",
         "y": [
          -2615,
          -2615,
          -2625,
          -2625
         ],
         "yaxis": "y"
        },
        {
         "hoverinfo": "text",
         "marker": {
          "color": "rgb(0,116,217)"
         },
         "mode": "lines",
         "text": [
          "backlog_forward_amount_prediction_roughly",
          "",
          "",
          "capacity_utilization_throughput_limitation_resource"
         ],
         "type": "scatter",
         "x": [
          0.8871907902789026,
          1.0658994620499818,
          1.0658994620499818,
          0.8490778347140008
         ],
         "xaxis": "x",
         "y": [
          -2600,
          -2600,
          -2620,
          -2620
         ],
         "yaxis": "y"
        },
        {
         "hoverinfo": "text",
         "marker": {
          "color": "rgb(40,35,35)"
         },
         "mode": "lines",
         "text": [
          "lviv_odessa_kyiv_moscow_moldovan",
          "",
          "",
          "moscow_petersburg_st_facility_saint"
         ],
         "type": "scatter",
         "x": [
          0,
          0.9265321790230098,
          0.9265321790230098,
          0
         ],
         "xaxis": "x",
         "y": [
          -2645,
          -2645,
          -2655,
          -2655
         ],
         "yaxis": "y"
        },
        {
         "hoverinfo": "text",
         "marker": {
          "color": "rgb(40,35,35)"
         },
         "mode": "lines",
         "text": [
          "brewery_brew_brewing_beer_brewer",
          "",
          "",
          "moscow_petersburg_st_odessa_kyiv"
         ],
         "type": "scatter",
         "x": [
          0,
          0.9857934688837352,
          0.9857934688837352,
          0.9265321790230098
         ],
         "xaxis": "x",
         "y": [
          -2635,
          -2635,
          -2650,
          -2650
         ],
         "yaxis": "y"
        },
        {
         "hoverinfo": "text",
         "marker": {
          "color": "rgb(61,153,112)"
         },
         "mode": "lines",
         "text": [
          "presence_effect_self_contain_situation",
          "",
          "",
          "highlight_address_cover_event_specifically"
         ],
         "type": "scatter",
         "x": [
          0,
          0.9292001775753518,
          0.9292001775753518,
          0
         ],
         "xaxis": "x",
         "y": [
          -2665,
          -2665,
          -2675,
          -2675
         ],
         "yaxis": "y"
        },
        {
         "hoverinfo": "text",
         "marker": {
          "color": "rgb(0,116,217)"
         },
         "mode": "lines",
         "text": [
          "petersburg_moscow_kyiv_st_odessa",
          "",
          "",
          "presence_experience_operational_effect_self"
         ],
         "type": "scatter",
         "x": [
          0.9857934688837352,
          1.0400734362741413,
          1.0400734362741413,
          0.9292001775753518
         ],
         "xaxis": "x",
         "y": [
          -2642.5,
          -2642.5,
          -2670,
          -2670
         ],
         "yaxis": "y"
        },
        {
         "hoverinfo": "text",
         "marker": {
          "color": "rgb(255,65,54)"
         },
         "mode": "lines",
         "text": [
          "taiwan_asia_geopolitical_china_geopolitically",
          "",
          "",
          "news_journalist_reuters_headline_media"
         ],
         "type": "scatter",
         "x": [
          0,
          0.9609833724190374,
          0.9609833724190374,
          0
         ],
         "xaxis": "x",
         "y": [
          -2695,
          -2695,
          -2705,
          -2705
         ],
         "yaxis": "y"
        },
        {
         "hoverinfo": "text",
         "marker": {
          "color": "rgb(255,65,54)"
         },
         "mode": "lines",
         "text": [
          "taiwan_china_nato_neutrality_perpetrating",
          "",
          "",
          "concern_concerned_aware_worried_situation"
         ],
         "type": "scatter",
         "x": [
          0.9609833724190374,
          0.9758769420269776,
          0.9758769420269776,
          0
         ],
         "xaxis": "x",
         "y": [
          -2700,
          -2700,
          -2715,
          -2715
         ],
         "yaxis": "y"
        },
        {
         "hoverinfo": "text",
         "marker": {
          "color": "rgb(255,65,54)"
         },
         "mode": "lines",
         "text": [
          "putin_litvinenko_invade_vladimir_soviet",
          "",
          "",
          "taiwan_china_nato_concern_neutrality"
         ],
         "type": "scatter",
         "x": [
          0,
          0.9854252879619658,
          0.9854252879619658,
          0.9758769420269776
         ],
         "xaxis": "x",
         "y": [
          -2685,
          -2685,
          -2707.5,
          -2707.5
         ],
         "yaxis": "y"
        },
        {
         "hoverinfo": "text",
         "marker": {
          "color": "rgb(35,205,205)"
         },
         "mode": "lines",
         "text": [
          "corona_war_market_impact_crisis",
          "",
          "",
          "rebuild_reconstruction_redevelopment_restoration_maintain"
         ],
         "type": "scatter",
         "x": [
          0,
          0.9497502624560376,
          0.9497502624560376,
          0
         ],
         "xaxis": "x",
         "y": [
          -2725,
          -2725,
          -2735,
          -2735
         ],
         "yaxis": "y"
        },
        {
         "hoverinfo": "text",
         "marker": {
          "color": "rgb(0,116,217)"
         },
         "mode": "lines",
         "text": [
          "putin_litvinenko_vladimir_invade_ussr",
          "",
          "",
          "rebuild_reconstruction_redevelopment_iraq_restoration"
         ],
         "type": "scatter",
         "x": [
          0.9854252879619658,
          1.0199768176667938,
          1.0199768176667938,
          0.9497502624560376
         ],
         "xaxis": "x",
         "y": [
          -2696.25,
          -2696.25,
          -2730,
          -2730
         ],
         "yaxis": "y"
        },
        {
         "hoverinfo": "text",
         "marker": {
          "color": "rgb(61,153,112)"
         },
         "mode": "lines",
         "text": [
          "capex_capexe_expenditure_budget_investment",
          "",
          "",
          "rwa_exposure_risk_growth_reduce"
         ],
         "type": "scatter",
         "x": [
          0,
          0.9889305256929452,
          0.9889305256929452,
          0
         ],
         "xaxis": "x",
         "y": [
          -2755,
          -2755,
          -2765,
          -2765
         ],
         "yaxis": "y"
        },
        {
         "hoverinfo": "text",
         "marker": {
          "color": "rgb(61,153,112)"
         },
         "mode": "lines",
         "text": [
          "capex_capexe_expenditure_investment_capital",
          "",
          "",
          "intake_order_appetite_increase_production"
         ],
         "type": "scatter",
         "x": [
          0.9889305256929452,
          0.9932990726334493,
          0.9932990726334493,
          0
         ],
         "xaxis": "x",
         "y": [
          -2760,
          -2760,
          -2775,
          -2775
         ],
         "yaxis": "y"
        },
        {
         "hoverinfo": "text",
         "marker": {
          "color": "rgb(61,153,112)"
         },
         "mode": "lines",
         "text": [
          "respirator_headwind_disposable_exit_falloff",
          "",
          "",
          "capex_capexe_investment_nca_capital"
         ],
         "type": "scatter",
         "x": [
          0,
          0.9964153178269085,
          0.9964153178269085,
          0.9932990726334493
         ],
         "xaxis": "x",
         "y": [
          -2745,
          -2745,
          -2767.5,
          -2767.5
         ],
         "yaxis": "y"
        },
        {
         "hoverinfo": "text",
         "marker": {
          "color": "rgb(255,65,54)"
         },
         "mode": "lines",
         "text": [
          "vaccinate_vaccination_vaccine_smallpox_antiviral",
          "",
          "",
          "dairy_farm_farming_milk_production"
         ],
         "type": "scatter",
         "x": [
          0,
          0.9923382604701115,
          0.9923382604701115,
          0
         ],
         "xaxis": "x",
         "y": [
          -2785,
          -2785,
          -2795,
          -2795
         ],
         "yaxis": "y"
        },
        {
         "hoverinfo": "text",
         "marker": {
          "color": "rgb(255,65,54)"
         },
         "mode": "lines",
         "text": [
          "contractor_employee_construction_engineer_customer",
          "",
          "",
          "qatar_qataris_arabia_saudi_yemen"
         ],
         "type": "scatter",
         "x": [
          0,
          0.9955081549864552,
          0.9955081549864552,
          0
         ],
         "xaxis": "x",
         "y": [
          -2805,
          -2805,
          -2815,
          -2815
         ],
         "yaxis": "y"
        },
        {
         "hoverinfo": "text",
         "marker": {
          "color": "rgb(255,65,54)"
         },
         "mode": "lines",
         "text": [
          "qatar_qataris_arabia_saudi_yemen",
          "",
          "",
          "diamond_retailer_supply_inventory_demand"
         ],
         "type": "scatter",
         "x": [
          0.9955081549864552,
          0.9967153271820692,
          0.9967153271820692,
          0
         ],
         "xaxis": "x",
         "y": [
          -2810,
          -2810,
          -2825,
          -2825
         ],
         "yaxis": "y"
        },
        {
         "hoverinfo": "text",
         "marker": {
          "color": "rgb(255,65,54)"
         },
         "mode": "lines",
         "text": [
          "dairy_farm_farming_milk_produce",
          "",
          "",
          "diamond_retailer_produce_purchase_purchaser"
         ],
         "type": "scatter",
         "x": [
          0.9923382604701115,
          0.9983674852510849,
          0.9983674852510849,
          0.9967153271820692
         ],
         "xaxis": "x",
         "y": [
          -2790,
          -2790,
          -2817.5,
          -2817.5
         ],
         "yaxis": "y"
        },
        {
         "hoverinfo": "text",
         "marker": {
          "color": "rgb(0,116,217)"
         },
         "mode": "lines",
         "text": [
          "capex_capexe_respirator_investment_headwind",
          "",
          "",
          "diamond_retailer_produce_purchaser_buy"
         ],
         "type": "scatter",
         "x": [
          0.9964153178269085,
          1.0048300274777717,
          1.0048300274777717,
          0.9983674852510849
         ],
         "xaxis": "x",
         "y": [
          -2756.25,
          -2756.25,
          -2803.75,
          -2803.75
         ],
         "yaxis": "y"
        },
        {
         "hoverinfo": "text",
         "marker": {
          "color": "rgb(35,205,205)"
         },
         "mode": "lines",
         "text": [
          "moment_event_operation_continue_crisis",
          "",
          "",
          "yes_yeah_oh_right_"
         ],
         "type": "scatter",
         "x": [
          0,
          0.9459653862687286,
          0.9459653862687286,
          0
         ],
         "xaxis": "x",
         "y": [
          -2835,
          -2835,
          -2845,
          -2845
         ],
         "yaxis": "y"
        },
        {
         "hoverinfo": "text",
         "marker": {
          "color": "rgb(0,116,217)"
         },
         "mode": "lines",
         "text": [
          "capex_capexe_respirator_investment_headwind",
          "",
          "",
          "moment_event_operation_continue_crisis"
         ],
         "type": "scatter",
         "x": [
          1.0048300274777717,
          1.0269040855615956,
          1.0269040855615956,
          0.9459653862687286
         ],
         "xaxis": "x",
         "y": [
          -2780,
          -2780,
          -2840,
          -2840
         ],
         "yaxis": "y"
        },
        {
         "hoverinfo": "text",
         "marker": {
          "color": "rgb(133,20,75)"
         },
         "mode": "lines",
         "text": [
          "traffic_outbound_inbound_passenger_revenue",
          "",
          "",
          "kiev_ukrainian_roma_relocate_country"
         ],
         "type": "scatter",
         "x": [
          0,
          0.9393188274024731,
          0.9393188274024731,
          0
         ],
         "xaxis": "x",
         "y": [
          -2855,
          -2855,
          -2865,
          -2865
         ],
         "yaxis": "y"
        },
        {
         "hoverinfo": "text",
         "marker": {
          "color": "rgb(0,116,217)"
         },
         "mode": "lines",
         "text": [
          "capex_capexe_respirator_investment_headwind",
          "",
          "",
          "kiev_ukrainian_traffic_geography_border"
         ],
         "type": "scatter",
         "x": [
          1.0269040855615956,
          1.0354369340879412,
          1.0354369340879412,
          0.9393188274024731
         ],
         "xaxis": "x",
         "y": [
          -2810,
          -2810,
          -2860,
          -2860
         ],
         "yaxis": "y"
        },
        {
         "hoverinfo": "text",
         "marker": {
          "color": "rgb(0,116,217)"
         },
         "mode": "lines",
         "text": [
          "putin_litvinenko_vladimir_invade_ussr",
          "",
          "",
          "capex_capexe_investment_accounting_maintenance"
         ],
         "type": "scatter",
         "x": [
          1.0199768176667938,
          1.0459011210116362,
          1.0459011210116362,
          1.0354369340879412
         ],
         "xaxis": "x",
         "y": [
          -2713.125,
          -2713.125,
          -2835,
          -2835
         ],
         "yaxis": "y"
        },
        {
         "hoverinfo": "text",
         "marker": {
          "color": "rgb(255,220,0)"
         },
         "mode": "lines",
         "text": [
          "operation_operator_operationally_surgeon_product",
          "",
          "",
          "recall_inventory_enterprise_recover_revenue"
         ],
         "type": "scatter",
         "x": [
          0,
          0.915848790719441,
          0.915848790719441,
          0
         ],
         "xaxis": "x",
         "y": [
          -2875,
          -2875,
          -2885,
          -2885
         ],
         "yaxis": "y"
        },
        {
         "hoverinfo": "text",
         "marker": {
          "color": "rgb(40,35,35)"
         },
         "mode": "lines",
         "text": [
          "withdraw_withdrawal_leave_abandon_terminate",
          "",
          "",
          "wintershall_dea_facility_production_winter"
         ],
         "type": "scatter",
         "x": [
          0,
          0.9694342703458818,
          0.9694342703458818,
          0
         ],
         "xaxis": "x",
         "y": [
          -2895,
          -2895,
          -2905,
          -2905
         ],
         "yaxis": "y"
        },
        {
         "hoverinfo": "text",
         "marker": {
          "color": "rgb(0,116,217)"
         },
         "mode": "lines",
         "text": [
          "recall_remember_inventory_enterprise_recover",
          "",
          "",
          "withdraw_withdrawal_dea_abandon_terminate"
         ],
         "type": "scatter",
         "x": [
          0.915848790719441,
          1.0141372929555237,
          1.0141372929555237,
          0.9694342703458818
         ],
         "xaxis": "x",
         "y": [
          -2880,
          -2880,
          -2900,
          -2900
         ],
         "yaxis": "y"
        },
        {
         "hoverinfo": "text",
         "marker": {
          "color": "rgb(0,116,217)"
         },
         "mode": "lines",
         "text": [
          "capex_respirator_headwind_investment_disposable",
          "",
          "",
          "withdraw_withdrawal_abandon_dea_operation"
         ],
         "type": "scatter",
         "x": [
          1.0459011210116362,
          1.0572301972440983,
          1.0572301972440983,
          1.0141372929555237
         ],
         "xaxis": "x",
         "y": [
          -2774.0625,
          -2774.0625,
          -2890,
          -2890
         ],
         "yaxis": "y"
        },
        {
         "hoverinfo": "text",
         "marker": {
          "color": "rgb(0,116,217)"
         },
         "mode": "lines",
         "text": [
          "presence_facility_away_location_quiet",
          "",
          "",
          "withdraw_withdrawal_operation_putin_exit"
         ],
         "type": "scatter",
         "x": [
          1.0400734362741413,
          1.0663369811797285,
          1.0663369811797285,
          1.0572301972440983
         ],
         "xaxis": "x",
         "y": [
          -2656.25,
          -2656.25,
          -2832.03125,
          -2832.03125
         ],
         "yaxis": "y"
        },
        {
         "hoverinfo": "text",
         "marker": {
          "color": "rgb(61,153,112)"
         },
         "mode": "lines",
         "text": [
          "distract_headline_time_inhibition_forward",
          "",
          "",
          "move_position_positioning_location_direction"
         ],
         "type": "scatter",
         "x": [
          0,
          0.8749438979095011,
          0.8749438979095011,
          0
         ],
         "xaxis": "x",
         "y": [
          -2915,
          -2915,
          -2925,
          -2925
         ],
         "yaxis": "y"
        },
        {
         "hoverinfo": "text",
         "marker": {
          "color": "rgb(0,116,217)"
         },
         "mode": "lines",
         "text": [
          "withdraw_operation_invade_withdrawal_putin",
          "",
          "",
          "position_move_positioning_location_direction"
         ],
         "type": "scatter",
         "x": [
          1.0663369811797285,
          1.0724382260361764,
          1.0724382260361764,
          0.8749438979095011
         ],
         "xaxis": "x",
         "y": [
          -2744.140625,
          -2744.140625,
          -2920,
          -2920
         ],
         "yaxis": "y"
        },
        {
         "hoverinfo": "text",
         "marker": {
          "color": "rgb(0,116,217)"
         },
         "mode": "lines",
         "text": [
          "backlog_backup_utilization_amount_prediction",
          "",
          "",
          "withdraw_withdrawal_exit_operation_dea"
         ],
         "type": "scatter",
         "x": [
          1.0658994620499818,
          1.0991255834338536,
          1.0991255834338536,
          1.0724382260361764
         ],
         "xaxis": "x",
         "y": [
          -2610,
          -2610,
          -2832.0703125,
          -2832.0703125
         ],
         "yaxis": "y"
        },
        {
         "hoverinfo": "text",
         "marker": {
          "color": "rgb(0,116,217)"
         },
         "mode": "lines",
         "text": [
          "touch_hand_sensitivity_number_david",
          "",
          "",
          "backlog_mention_decline_rebuild_say"
         ],
         "type": "scatter",
         "x": [
          1.0628017924306545,
          1.1169621206745868,
          1.1169621206745868,
          1.0991255834338536
         ],
         "xaxis": "x",
         "y": [
          -2551.25,
          -2551.25,
          -2721.03515625,
          -2721.03515625
         ],
         "yaxis": "y"
        },
        {
         "hoverinfo": "text",
         "marker": {
          "color": "rgb(255,65,54)"
         },
         "mode": "lines",
         "text": [
          "poultry_chicken_livestock_meat_beef",
          "",
          "",
          "mhp_operational_environment_financial_cfo"
         ],
         "type": "scatter",
         "x": [
          0,
          0.8179329344651175,
          0.8179329344651175,
          0
         ],
         "xaxis": "x",
         "y": [
          -2935,
          -2935,
          -2945,
          -2945
         ],
         "yaxis": "y"
        },
        {
         "hoverinfo": "text",
         "marker": {
          "color": "rgb(0,116,217)"
         },
         "mode": "lines",
         "text": [
          "backlog_invade_consequence_putin_mention",
          "",
          "",
          "mhp_poultry_livestock_utilization_logistics"
         ],
         "type": "scatter",
         "x": [
          1.1169621206745868,
          1.1310064508704907,
          1.1310064508704907,
          0.8179329344651175
         ],
         "xaxis": "x",
         "y": [
          -2636.142578125,
          -2636.142578125,
          -2940,
          -2940
         ],
         "yaxis": "y"
        },
        {
         "hoverinfo": "text",
         "marker": {
          "color": "rgb(0,116,217)"
         },
         "mode": "lines",
         "text": [
          "cobalt_buy_total_nordion_get",
          "",
          "",
          "backlog_recession_roughly_utilization_rebuild"
         ],
         "type": "scatter",
         "x": [
          0.9708684599494513,
          1.1360868553545145,
          1.1360868553545145,
          1.1310064508704907
         ],
         "xaxis": "x",
         "y": [
          -2472.5,
          -2472.5,
          -2788.0712890625,
          -2788.0712890625
         ],
         "yaxis": "y"
        },
        {
         "hoverinfo": "text",
         "marker": {
          "color": "rgb(35,205,205)"
         },
         "mode": "lines",
         "text": [
          "trauma_injury_patient_hemodialysis_treatment",
          "",
          "",
          "clinical_trial_patient_medical_treatment"
         ],
         "type": "scatter",
         "x": [
          0,
          0.7977333628440272,
          0.7977333628440272,
          0
         ],
         "xaxis": "x",
         "y": [
          -2955,
          -2955,
          -2965,
          -2965
         ],
         "yaxis": "y"
        },
        {
         "hoverinfo": "text",
         "marker": {
          "color": "rgb(0,116,217)"
         },
         "mode": "lines",
         "text": [
          "backlog_recession_decline_utilization_mention",
          "",
          "",
          "patient_clinical_medical_doctor_medicine"
         ],
         "type": "scatter",
         "x": [
          1.1360868553545145,
          1.1431191565007277,
          1.1431191565007277,
          0.7977333628440272
         ],
         "xaxis": "x",
         "y": [
          -2630.28564453125,
          -2630.28564453125,
          -2960,
          -2960
         ],
         "yaxis": "y"
        },
        {
         "hoverinfo": "text",
         "marker": {
          "color": "rgb(0,116,217)"
         },
         "mode": "lines",
         "text": [
          "revenue_commercialization_retail_brand_marketing",
          "",
          "",
          "clinical_patient_trial_treatment_study"
         ],
         "type": "scatter",
         "x": [
          1.0983040517202485,
          1.1649062335877152,
          1.1649062335877152,
          1.1431191565007277
         ],
         "xaxis": "x",
         "y": [
          -2436.25,
          -2436.25,
          -2795.142822265625,
          -2795.142822265625
         ],
         "yaxis": "y"
        },
        {
         "hoverinfo": "text",
         "marker": {
          "color": "rgb(61,153,112)"
         },
         "mode": "lines",
         "text": [
          "developer_development_engineer_industry_engineering",
          "",
          "",
          "team_corporate_leadership_united_talent"
         ],
         "type": "scatter",
         "x": [
          0,
          0.8202747364964844,
          0.8202747364964844,
          0
         ],
         "xaxis": "x",
         "y": [
          -2975,
          -2975,
          -2985,
          -2985
         ],
         "yaxis": "y"
        },
        {
         "hoverinfo": "text",
         "marker": {
          "color": "rgb(255,65,54)"
         },
         "mode": "lines",
         "text": [
          "solidarity_people_group_support_organization",
          "",
          "",
          "stand_support_turn_continue_basis"
         ],
         "type": "scatter",
         "x": [
          0,
          0.9000369405895157,
          0.9000369405895157,
          0
         ],
         "xaxis": "x",
         "y": [
          -3005,
          -3005,
          -3015,
          -3015
         ],
         "yaxis": "y"
        },
        {
         "hoverinfo": "text",
         "marker": {
          "color": "rgb(255,65,54)"
         },
         "mode": "lines",
         "text": [
          "support_supportive_respects_continue_provide",
          "",
          "",
          "stand_support_group_continue_people"
         ],
         "type": "scatter",
         "x": [
          0,
          0.9150387819292598,
          0.9150387819292598,
          0.9000369405895157
         ],
         "xaxis": "x",
         "y": [
          -2995,
          -2995,
          -3010,
          -3010
         ],
         "yaxis": "y"
        },
        {
         "hoverinfo": "text",
         "marker": {
          "color": "rgb(0,116,217)"
         },
         "mode": "lines",
         "text": [
          "team_corporate_leadership_united_talent",
          "",
          "",
          "stand_support_stance_rallying_continue"
         ],
         "type": "scatter",
         "x": [
          0.8202747364964844,
          1.0593844812269733,
          1.0593844812269733,
          0.9150387819292598
         ],
         "xaxis": "x",
         "y": [
          -2980,
          -2980,
          -3002.5,
          -3002.5
         ],
         "yaxis": "y"
        },
        {
         "hoverinfo": "text",
         "marker": {
          "color": "rgb(0,116,217)"
         },
         "mode": "lines",
         "text": [
          "patient_clinical_treatment_trial_surgeon",
          "",
          "",
          "stand_solidarity_support_rallying_people"
         ],
         "type": "scatter",
         "x": [
          1.1649062335877152,
          1.190425098425558,
          1.190425098425558,
          1.0593844812269733
         ],
         "xaxis": "x",
         "y": [
          -2615.6964111328125,
          -2615.6964111328125,
          -2991.25,
          -2991.25
         ],
         "yaxis": "y"
        },
        {
         "hoverinfo": "text",
         "marker": {
          "color": "rgb(0,116,217)"
         },
         "mode": "lines",
         "text": [
          "manufacturing_facility_manufacturer_factory_production",
          "",
          "",
          "clinical_patient_study_treatment_trial"
         ],
         "type": "scatter",
         "x": [
          1.1843738908815455,
          1.230716949764252,
          1.230716949764252,
          1.190425098425558
         ],
         "xaxis": "x",
         "y": [
          -2390,
          -2390,
          -2803.4732055664062,
          -2803.4732055664062
         ],
         "yaxis": "y"
        },
        {
         "hoverinfo": "text",
         "marker": {
          "color": "rgb(0,116,217)"
         },
         "mode": "lines",
         "text": [
          "coal_supply_tanker_oil_demand",
          "",
          "",
          "trial_clinical_patient_treatment_fda"
         ],
         "type": "scatter",
         "x": [
          1.1948128323281304,
          1.2461178849481969,
          1.2461178849481969,
          1.230716949764252
         ],
         "xaxis": "x",
         "y": [
          -2199.2578125,
          -2199.2578125,
          -2596.736602783203,
          -2596.736602783203
         ],
         "yaxis": "y"
        },
        {
         "hoverinfo": "text",
         "marker": {
          "color": "rgb(0,116,217)"
         },
         "mode": "lines",
         "text": [
          "speak_talk_conversation_speaker_communication",
          "",
          "",
          "coal_china_supplier_demand_production"
         ],
         "type": "scatter",
         "x": [
          0.9269766275731128,
          1.2579293120663337,
          1.2579293120663337,
          1.2461178849481969
         ],
         "xaxis": "x",
         "y": [
          -1992.5,
          -1992.5,
          -2397.9972076416016,
          -2397.9972076416016
         ],
         "yaxis": "y"
        },
        {
         "hoverinfo": "text",
         "marker": {
          "color": "rgb(35,205,205)"
         },
         "mode": "lines",
         "text": [
          "store_retailer_shop_retail_shopping",
          "",
          "",
          "coverage_store_optimizing_focus_market"
         ],
         "type": "scatter",
         "x": [
          0,
          0.5487638222912481,
          0.5487638222912481,
          0
         ],
         "xaxis": "x",
         "y": [
          -3025,
          -3025,
          -3035,
          -3035
         ],
         "yaxis": "y"
        },
        {
         "hoverinfo": "text",
         "marker": {
          "color": "rgb(0,116,217)"
         },
         "mode": "lines",
         "text": [
          "coal_demand_supply_supplier_market",
          "",
          "",
          "store_retailer_shop_retail_shopping"
         ],
         "type": "scatter",
         "x": [
          1.2579293120663337,
          1.2860992551805233,
          1.2860992551805233,
          0.5487638222912481
         ],
         "xaxis": "x",
         "y": [
          -2195.248603820801,
          -2195.248603820801,
          -3030,
          -3030
         ],
         "yaxis": "y"
        },
        {
         "hoverinfo": "text",
         "marker": {
          "color": "rgb(0,116,217)"
         },
         "mode": "lines",
         "text": [
          "belarus_belarusian_subsidiary_country_company",
          "",
          "",
          "coal_demand_tanker_increase_supply"
         ],
         "type": "scatter",
         "x": [
          1.194643295284046,
          1.3010349354222708,
          1.3010349354222708,
          1.2860992551805233
         ],
         "xaxis": "x",
         "y": [
          -1816.8359375,
          -1816.8359375,
          -2612.6243019104004,
          -2612.6243019104004
         ],
         "yaxis": "y"
        },
        {
         "hoverinfo": "text",
         "marker": {
          "color": "rgb(133,20,75)"
         },
         "mode": "lines",
         "text": [
          "invest_investment_investor_international_business",
          "",
          "",
          "investment_invest_investor_investable_market"
         ],
         "type": "scatter",
         "x": [
          0,
          0.5842923185571725,
          0.5842923185571725,
          0
         ],
         "xaxis": "x",
         "y": [
          -3045,
          -3045,
          -3055,
          -3055
         ],
         "yaxis": "y"
        },
        {
         "hoverinfo": "text",
         "marker": {
          "color": "rgb(255,220,0)"
         },
         "mode": "lines",
         "text": [
          "romania_romanian_production_produce_supplier",
          "",
          "",
          "bulgaria_romania_international_romanian_germany"
         ],
         "type": "scatter",
         "x": [
          0,
          0.513384695058424,
          0.513384695058424,
          0
         ],
         "xaxis": "x",
         "y": [
          -3065,
          -3065,
          -3075,
          -3075
         ],
         "yaxis": "y"
        },
        {
         "hoverinfo": "text",
         "marker": {
          "color": "rgb(0,116,217)"
         },
         "mode": "lines",
         "text": [
          "invest_investment_investor_investable_share",
          "",
          "",
          "romania_romanian_bulgaria_hungary_international"
         ],
         "type": "scatter",
         "x": [
          0.5842923185571725,
          1.2270246917191567,
          1.2270246917191567,
          0.513384695058424
         ],
         "xaxis": "x",
         "y": [
          -3050,
          -3050,
          -3070,
          -3070
         ],
         "yaxis": "y"
        },
        {
         "hoverinfo": "text",
         "marker": {
          "color": "rgb(0,116,217)"
         },
         "mode": "lines",
         "text": [
          "belarus_belarusian_kazakhstan_putin_finland",
          "",
          "",
          "romania_romanian_bulgaria_international_poland"
         ],
         "type": "scatter",
         "x": [
          1.3010349354222708,
          1.325684312793509,
          1.325684312793509,
          1.2270246917191567
         ],
         "xaxis": "x",
         "y": [
          -2214.7301197052,
          -2214.7301197052,
          -3060,
          -3060
         ],
         "yaxis": "y"
        },
        {
         "hoverinfo": "text",
         "marker": {
          "color": "rgb(0,116,217)"
         },
         "mode": "lines",
         "text": [
          "airspace_airline_flight_closure_asia",
          "",
          "",
          "belarus_belarusian_coal_kazakhstan_supplier"
         ],
         "type": "scatter",
         "x": [
          1.3270324837161092,
          1.3570775989149026,
          1.3570775989149026,
          1.325684312793509
         ],
         "xaxis": "x",
         "y": [
          -1638.59375,
          -1638.59375,
          -2637.3650598526,
          -2637.3650598526
         ],
         "yaxis": "y"
        },
        {
         "hoverinfo": "text",
         "marker": {
          "color": "rgb(40,35,35)"
         },
         "mode": "lines",
         "text": [
          "nato_allied_alliance_military_ally",
          "",
          "",
          "militarization_deterrence_nato_spending_threat"
         ],
         "type": "scatter",
         "x": [
          0,
          0.7219864667334396,
          0.7219864667334396,
          0
         ],
         "xaxis": "x",
         "y": [
          -3085,
          -3085,
          -3095,
          -3095
         ],
         "yaxis": "y"
        },
        {
         "hoverinfo": "text",
         "marker": {
          "color": "rgb(61,153,112)"
         },
         "mode": "lines",
         "text": [
          "drone_unmanned_uavs_aerial_fly",
          "",
          "",
          "missile_artillery_tactical_rocket_javelin"
         ],
         "type": "scatter",
         "x": [
          0,
          0.9095291429384824,
          0.9095291429384824,
          0
         ],
         "xaxis": "x",
         "y": [
          -3105,
          -3105,
          -3115,
          -3115
         ],
         "yaxis": "y"
        },
        {
         "hoverinfo": "text",
         "marker": {
          "color": "rgb(255,65,54)"
         },
         "mode": "lines",
         "text": [
          "cybersecurity_cyberwarfare_cybercrime_cyberattack_cyber",
          "",
          "",
          "attack_threat_shocked_impact_aggression"
         ],
         "type": "scatter",
         "x": [
          0,
          0.8256917625536696,
          0.8256917625536696,
          0
         ],
         "xaxis": "x",
         "y": [
          -3125,
          -3125,
          -3135,
          -3135
         ],
         "yaxis": "y"
        },
        {
         "hoverinfo": "text",
         "marker": {
          "color": "rgb(0,116,217)"
         },
         "mode": "lines",
         "text": [
          "drone_aerial_helicopter_missile_airstrike",
          "",
          "",
          "cybersecurity_cyberwarfare_cyberattack_cybercrime_cyber"
         ],
         "type": "scatter",
         "x": [
          0.9095291429384824,
          1.0390859678762323,
          1.0390859678762323,
          0.8256917625536696
         ],
         "xaxis": "x",
         "y": [
          -3110,
          -3110,
          -3130,
          -3130
         ],
         "yaxis": "y"
        },
        {
         "hoverinfo": "text",
         "marker": {
          "color": "rgb(0,116,217)"
         },
         "mode": "lines",
         "text": [
          "militarization_nato_threat_defense_military",
          "",
          "",
          "cybersecurity_cybercrime_cyberattack_cyber_security"
         ],
         "type": "scatter",
         "x": [
          0.7219864667334396,
          1.0844212713048376,
          1.0844212713048376,
          1.0390859678762323
         ],
         "xaxis": "x",
         "y": [
          -3090,
          -3090,
          -3120,
          -3120
         ],
         "yaxis": "y"
        },
        {
         "hoverinfo": "text",
         "marker": {
          "color": "rgb(35,205,205)"
         },
         "mode": "lines",
         "text": [
          "aggression_violence_aggressive_condemn_denounce",
          "",
          "",
          "invasion_condemn_denounce_defend_condemnation"
         ],
         "type": "scatter",
         "x": [
          0,
          0.4533099396000845,
          0.4533099396000845,
          0
         ],
         "xaxis": "x",
         "y": [
          -3145,
          -3145,
          -3155,
          -3155
         ],
         "yaxis": "y"
        },
        {
         "hoverinfo": "text",
         "marker": {
          "color": "rgb(0,116,217)"
         },
         "mode": "lines",
         "text": [
          "cybersecurity_cybercrime_cyberattack_security_cyber",
          "",
          "",
          "condemn_denounce_invasion_condemnation_defend"
         ],
         "type": "scatter",
         "x": [
          1.0844212713048376,
          1.227226029818952,
          1.227226029818952,
          0.4533099396000845
         ],
         "xaxis": "x",
         "y": [
          -3105,
          -3105,
          -3150,
          -3150
         ],
         "yaxis": "y"
        },
        {
         "hoverinfo": "text",
         "marker": {
          "color": "rgb(61,153,112)"
         },
         "mode": "lines",
         "text": [
          "invasion_invade_investment_business_subsidiary",
          "",
          "",
          "invasion_invade_troops_occupy_territory"
         ],
         "type": "scatter",
         "x": [
          0,
          0.5536361408014743,
          0.5536361408014743,
          0
         ],
         "xaxis": "x",
         "y": [
          -3165,
          -3165,
          -3175,
          -3175
         ],
         "yaxis": "y"
        },
        {
         "hoverinfo": "text",
         "marker": {
          "color": "rgb(61,153,112)"
         },
         "mode": "lines",
         "text": [
          "invasion_invade_occupy_violence_devastating",
          "",
          "",
          "market_investor_invade_invasion_stock"
         ],
         "type": "scatter",
         "x": [
          0.5536361408014743,
          0.7553939629407924,
          0.7553939629407924,
          0
         ],
         "xaxis": "x",
         "y": [
          -3170,
          -3170,
          -3185,
          -3185
         ],
         "yaxis": "y"
        },
        {
         "hoverinfo": "text",
         "marker": {
          "color": "rgb(255,65,54)"
         },
         "mode": "lines",
         "text": [
          "invasion_invade_pricing_market_demand",
          "",
          "",
          "uranium_reactor_nuclear_enrichment_supply"
         ],
         "type": "scatter",
         "x": [
          0,
          0.8159766942946556,
          0.8159766942946556,
          0
         ],
         "xaxis": "x",
         "y": [
          -3195,
          -3195,
          -3205,
          -3205
         ],
         "yaxis": "y"
        },
        {
         "hoverinfo": "text",
         "marker": {
          "color": "rgb(0,116,217)"
         },
         "mode": "lines",
         "text": [
          "invasion_invade_occupy_violence_aggressively",
          "",
          "",
          "uranium_reactor_nuclear_enrichment_isotope"
         ],
         "type": "scatter",
         "x": [
          0.7553939629407924,
          1.0289226952700905,
          1.0289226952700905,
          0.8159766942946556
         ],
         "xaxis": "x",
         "y": [
          -3177.5,
          -3177.5,
          -3200,
          -3200
         ],
         "yaxis": "y"
        },
        {
         "hoverinfo": "text",
         "marker": {
          "color": "rgb(0,116,217)"
         },
         "mode": "lines",
         "text": [
          "aggression_threat_condemn_violence_denounce",
          "",
          "",
          "uranium_nuclear_reactor_enrichment_isotope"
         ],
         "type": "scatter",
         "x": [
          1.227226029818952,
          1.3390121253908571,
          1.3390121253908571,
          1.0289226952700905
         ],
         "xaxis": "x",
         "y": [
          -3127.5,
          -3127.5,
          -3188.75,
          -3188.75
         ],
         "yaxis": "y"
        },
        {
         "hoverinfo": "text",
         "marker": {
          "color": "rgb(0,116,217)"
         },
         "mode": "lines",
         "text": [
          "coal_supplier_tanker_production_demand",
          "",
          "",
          "uranium_nuclear_reactor_enrichment_fuel"
         ],
         "type": "scatter",
         "x": [
          1.3570775989149026,
          1.4002511665859931,
          1.4002511665859931,
          1.3390121253908571
         ],
         "xaxis": "x",
         "y": [
          -2137.9794049263,
          -2137.9794049263,
          -3158.125,
          -3158.125
         ],
         "yaxis": "y"
        },
        {
         "hoverinfo": "text",
         "marker": {
          "color": "rgb(0,116,217)"
         },
         "mode": "lines",
         "text": [
          "suspend_suspending_suspension_pause_halt",
          "",
          "",
          "belarus_belarusian_export_kazakhstan_production"
         ],
         "type": "scatter",
         "x": [
          1.4781027938777458,
          1.5358904479748914,
          1.5358904479748914,
          1.4002511665859931
         ],
         "xaxis": "x",
         "y": [
          -1498.125,
          -1498.125,
          -2648.05220246315,
          -2648.05220246315
         ],
         "yaxis": "y"
        },
        {
         "hoverinfo": "text",
         "marker": {
          "color": "rgb(35,205,205)"
         },
         "mode": "lines",
         "text": [
          "europe_european_asia_geographically_scandinavia",
          "",
          "",
          "europe_eu_european_eurasia_war"
         ],
         "type": "scatter",
         "x": [
          0,
          0.5207269522374824,
          0.5207269522374824,
          0
         ],
         "xaxis": "x",
         "y": [
          -3225,
          -3225,
          -3235,
          -3235
         ],
         "yaxis": "y"
        },
        {
         "hoverinfo": "text",
         "marker": {
          "color": "rgb(35,205,205)"
         },
         "mode": "lines",
         "text": [
          "europe_european_euro_business_switzerland",
          "",
          "",
          "europe_eurasia_european_eu_asia"
         ],
         "type": "scatter",
         "x": [
          0,
          0.6543059353716102,
          0.6543059353716102,
          0.5207269522374824
         ],
         "xaxis": "x",
         "y": [
          -3215,
          -3215,
          -3230,
          -3230
         ],
         "yaxis": "y"
        },
        {
         "hoverinfo": "text",
         "marker": {
          "color": "rgb(133,20,75)"
         },
         "mode": "lines",
         "text": [
          "energy_renewable_electricity_efficiency_demand",
          "",
          "",
          "fueling_fuel_repowereu_fossil_eu"
         ],
         "type": "scatter",
         "x": [
          0,
          0.6761483402032555,
          0.6761483402032555,
          0
         ],
         "xaxis": "x",
         "y": [
          -3255,
          -3255,
          -3265,
          -3265
         ],
         "yaxis": "y"
        },
        {
         "hoverinfo": "text",
         "marker": {
          "color": "rgb(133,20,75)"
         },
         "mode": "lines",
         "text": [
          "heating_heater_heat_electricity_industrial",
          "",
          "",
          "energy_renewable_electricity_europe_demand"
         ],
         "type": "scatter",
         "x": [
          0,
          0.9719794279147812,
          0.9719794279147812,
          0.6761483402032555
         ],
         "xaxis": "x",
         "y": [
          -3245,
          -3245,
          -3260,
          -3260
         ],
         "yaxis": "y"
        },
        {
         "hoverinfo": "text",
         "marker": {
          "color": "rgb(255,220,0)"
         },
         "mode": "lines",
         "text": [
          "gas_europe_eu_belgium_germany",
          "",
          "",
          "gas_supply_supplies_shortage_flow"
         ],
         "type": "scatter",
         "x": [
          0,
          0.4674369491235709,
          0.4674369491235709,
          0
         ],
         "xaxis": "x",
         "y": [
          -3275,
          -3275,
          -3285,
          -3285
         ],
         "yaxis": "y"
        },
        {
         "hoverinfo": "text",
         "marker": {
          "color": "rgb(255,220,0)"
         },
         "mode": "lines",
         "text": [
          "gas_fuel_supply_supplies_chemical",
          "",
          "",
          "gas_market_shortage_supply_price"
         ],
         "type": "scatter",
         "x": [
          0.4674369491235709,
          0.8081450813665076,
          0.8081450813665076,
          0
         ],
         "xaxis": "x",
         "y": [
          -3280,
          -3280,
          -3295,
          -3295
         ],
         "yaxis": "y"
        },
        {
         "hoverinfo": "text",
         "marker": {
          "color": "rgb(0,116,217)"
         },
         "mode": "lines",
         "text": [
          "energy_renewable_electricity_power_infrastructure",
          "",
          "",
          "gas_fuel_supply_natural_supplies"
         ],
         "type": "scatter",
         "x": [
          0.9719794279147812,
          1.0500576529110734,
          1.0500576529110734,
          0.8081450813665076
         ],
         "xaxis": "x",
         "y": [
          -3252.5,
          -3252.5,
          -3287.5,
          -3287.5
         ],
         "yaxis": "y"
        },
        {
         "hoverinfo": "text",
         "marker": {
          "color": "rgb(40,35,35)"
         },
         "mode": "lines",
         "text": [
          "pipeline_lng_pipe_europe_pipelife",
          "",
          "",
          "lng_lngs_sourcing_import_infrastructure"
         ],
         "type": "scatter",
         "x": [
          0,
          0.6333565011516917,
          0.6333565011516917,
          0
         ],
         "xaxis": "x",
         "y": [
          -3305,
          -3305,
          -3315,
          -3315
         ],
         "yaxis": "y"
        },
        {
         "hoverinfo": "text",
         "marker": {
          "color": "rgb(0,116,217)"
         },
         "mode": "lines",
         "text": [
          "gas_fuel_energy_europe_cost",
          "",
          "",
          "pipeline_lng_pipe_piping_pipelife"
         ],
         "type": "scatter",
         "x": [
          1.0500576529110734,
          1.1502720065982655,
          1.1502720065982655,
          0.6333565011516917
         ],
         "xaxis": "x",
         "y": [
          -3270,
          -3270,
          -3310,
          -3310
         ],
         "yaxis": "y"
        },
        {
         "hoverinfo": "text",
         "marker": {
          "color": "rgb(0,116,217)"
         },
         "mode": "lines",
         "text": [
          "europe_eu_european_eurasia_germany",
          "",
          "",
          "gas_fuel_demand_europe_lng"
         ],
         "type": "scatter",
         "x": [
          0.6543059353716102,
          1.3149692377670188,
          1.3149692377670188,
          1.1502720065982655
         ],
         "xaxis": "x",
         "y": [
          -3222.5,
          -3222.5,
          -3290,
          -3290
         ],
         "yaxis": "y"
        },
        {
         "hoverinfo": "text",
         "marker": {
          "color": "rgb(61,153,112)"
         },
         "mode": "lines",
         "text": [
          "shortage_covid_china_supply_scarcity",
          "",
          "",
          "shortage_semiconductor_chip_chipset_hardware"
         ],
         "type": "scatter",
         "x": [
          0,
          0.3824938838357125,
          0.3824938838357125,
          0
         ],
         "xaxis": "x",
         "y": [
          -3325,
          -3325,
          -3335,
          -3335
         ],
         "yaxis": "y"
        },
        {
         "hoverinfo": "text",
         "marker": {
          "color": "rgb(255,65,54)"
         },
         "mode": "lines",
         "text": [
          "wiring_harness_wire_electrical_automaker",
          "",
          "",
          "neon_gas_production_produce_automotive"
         ],
         "type": "scatter",
         "x": [
          0,
          0.8422966284986779,
          0.8422966284986779,
          0
         ],
         "xaxis": "x",
         "y": [
          -3345,
          -3345,
          -3355,
          -3355
         ],
         "yaxis": "y"
        },
        {
         "hoverinfo": "text",
         "marker": {
          "color": "rgb(0,116,217)"
         },
         "mode": "lines",
         "text": [
          "shortage_semiconductor_automotive_manufacturing_chipset",
          "",
          "",
          "wiring_harness_wire_electrical_cable"
         ],
         "type": "scatter",
         "x": [
          0.3824938838357125,
          1.0664094500022967,
          1.0664094500022967,
          0.8422966284986779
         ],
         "xaxis": "x",
         "y": [
          -3330,
          -3330,
          -3350,
          -3350
         ],
         "yaxis": "y"
        },
        {
         "hoverinfo": "text",
         "marker": {
          "color": "rgb(35,205,205)"
         },
         "mode": "lines",
         "text": [
          "palladium_nickel_aluminum_concrete_platinum",
          "",
          "",
          "nickel_demand_market_supply_mined"
         ],
         "type": "scatter",
         "x": [
          0,
          0.49246249822669075,
          0.49246249822669075,
          0
         ],
         "xaxis": "x",
         "y": [
          -3365,
          -3365,
          -3375,
          -3375
         ],
         "yaxis": "y"
        },
        {
         "hoverinfo": "text",
         "marker": {
          "color": "rgb(61,153,112)"
         },
         "mode": "lines",
         "text": [
          "metal_metallurgical_steel_copper_aluminum",
          "",
          "",
          "aluminium_aluminum_alumina_al_alcoa"
         ],
         "type": "scatter",
         "x": [
          0,
          0.7969867683075907,
          0.7969867683075907,
          0
         ],
         "xaxis": "x",
         "y": [
          -3385,
          -3385,
          -3395,
          -3395
         ],
         "yaxis": "y"
        },
        {
         "hoverinfo": "text",
         "marker": {
          "color": "rgb(0,116,217)"
         },
         "mode": "lines",
         "text": [
          "nickel_palladium_aluminum_concrete_metal",
          "",
          "",
          "aluminium_aluminum_alumina_al_alcoa"
         ],
         "type": "scatter",
         "x": [
          0.49246249822669075,
          1.1277272813705415,
          1.1277272813705415,
          0.7969867683075907
         ],
         "xaxis": "x",
         "y": [
          -3370,
          -3370,
          -3390,
          -3390
         ],
         "yaxis": "y"
        },
        {
         "hoverinfo": "text",
         "marker": {
          "color": "rgb(0,116,217)"
         },
         "mode": "lines",
         "text": [
          "wiring_harness_wire_electrical_automaker",
          "",
          "",
          "aluminium_aluminum_alumina_al_copper"
         ],
         "type": "scatter",
         "x": [
          1.0664094500022967,
          1.2995359435646399,
          1.2995359435646399,
          1.1277272813705415
         ],
         "xaxis": "x",
         "y": [
          -3340,
          -3340,
          -3380,
          -3380
         ],
         "yaxis": "y"
        },
        {
         "hoverinfo": "text",
         "marker": {
          "color": "rgb(255,65,54)"
         },
         "mode": "lines",
         "text": [
          "steel_pricing_demand_market_alloy",
          "",
          "",
          "steelmaking_manganese_steel_alloy_aluminum"
         ],
         "type": "scatter",
         "x": [
          0,
          0.39785464562381423,
          0.39785464562381423,
          0
         ],
         "xaxis": "x",
         "y": [
          -3405,
          -3405,
          -3415,
          -3415
         ],
         "yaxis": "y"
        },
        {
         "hoverinfo": "text",
         "marker": {
          "color": "rgb(35,205,205)"
         },
         "mode": "lines",
         "text": [
          "iron_steel_supply_produce_market",
          "",
          "",
          "pig_iron_ferrous_steel_steelmaker"
         ],
         "type": "scatter",
         "x": [
          0,
          0.6260871245536304,
          0.6260871245536304,
          0
         ],
         "xaxis": "x",
         "y": [
          -3425,
          -3425,
          -3435,
          -3435
         ],
         "yaxis": "y"
        },
        {
         "hoverinfo": "text",
         "marker": {
          "color": "rgb(0,116,217)"
         },
         "mode": "lines",
         "text": [
          "steelmaking_steel_production_alloy_aluminum",
          "",
          "",
          "pig_iron_ferrous_steel_steelmaker"
         ],
         "type": "scatter",
         "x": [
          0.39785464562381423,
          1.187213927090412,
          1.187213927090412,
          0.6260871245536304
         ],
         "xaxis": "x",
         "y": [
          -3410,
          -3410,
          -3430,
          -3430
         ],
         "yaxis": "y"
        },
        {
         "hoverinfo": "text",
         "marker": {
          "color": "rgb(0,116,217)"
         },
         "mode": "lines",
         "text": [
          "wiring_harness_wire_electrical_automaker",
          "",
          "",
          "pig_iron_ferrous_steelmaking_steel"
         ],
         "type": "scatter",
         "x": [
          1.2995359435646399,
          1.3290936168404601,
          1.3290936168404601,
          1.187213927090412
         ],
         "xaxis": "x",
         "y": [
          -3360,
          -3360,
          -3420,
          -3420
         ],
         "yaxis": "y"
        },
        {
         "hoverinfo": "text",
         "marker": {
          "color": "rgb(133,20,75)"
         },
         "mode": "lines",
         "text": [
          "raw_material_tissue_synthetic_packaging",
          "",
          "",
          "commodity_cost_pricing_raw_material"
         ],
         "type": "scatter",
         "x": [
          0,
          0.34183419339611165,
          0.34183419339611165,
          0
         ],
         "xaxis": "x",
         "y": [
          -3445,
          -3445,
          -3455,
          -3455
         ],
         "yaxis": "y"
        },
        {
         "hoverinfo": "text",
         "marker": {
          "color": "rgb(133,20,75)"
         },
         "mode": "lines",
         "text": [
          "raw_material_commodity_tissue_recycled",
          "",
          "",
          "commodity_energy_market_cost_freight"
         ],
         "type": "scatter",
         "x": [
          0.34183419339611165,
          0.6152445666386624,
          0.6152445666386624,
          0
         ],
         "xaxis": "x",
         "y": [
          -3450,
          -3450,
          -3465,
          -3465
         ],
         "yaxis": "y"
        },
        {
         "hoverinfo": "text",
         "marker": {
          "color": "rgb(0,116,217)"
         },
         "mode": "lines",
         "text": [
          "wiring_harness_wire_manufacturing_supplier",
          "",
          "",
          "raw_commodity_material_sourcing_resin"
         ],
         "type": "scatter",
         "x": [
          1.3290936168404601,
          1.416076803417792,
          1.416076803417792,
          0.6152445666386624
         ],
         "xaxis": "x",
         "y": [
          -3390,
          -3390,
          -3457.5,
          -3457.5
         ],
         "yaxis": "y"
        },
        {
         "hoverinfo": "text",
         "marker": {
          "color": "rgb(0,116,217)"
         },
         "mode": "lines",
         "text": [
          "europe_eu_european_germany_netherlands",
          "",
          "",
          "steel_alloy_manufacturing_raw_factory"
         ],
         "type": "scatter",
         "x": [
          1.3149692377670188,
          1.5343689342871385,
          1.5343689342871385,
          1.416076803417792
         ],
         "xaxis": "x",
         "y": [
          -3256.25,
          -3256.25,
          -3423.75,
          -3423.75
         ],
         "yaxis": "y"
        },
        {
         "hoverinfo": "text",
         "marker": {
          "color": "rgb(0,116,217)"
         },
         "mode": "lines",
         "text": [
          "belarus_demand_belarusian_market_production",
          "",
          "",
          "europe_fuel_gas_eu_demand"
         ],
         "type": "scatter",
         "x": [
          1.5358904479748914,
          1.565970784898258,
          1.565970784898258,
          1.5343689342871385
         ],
         "xaxis": "x",
         "y": [
          -2073.088601231575,
          -2073.088601231575,
          -3340,
          -3340
         ],
         "yaxis": "y"
        },
        {
         "hoverinfo": "text",
         "marker": {
          "color": "rgb(255,220,0)"
         },
         "mode": "lines",
         "text": [
          "case_war___",
          "",
          "",
          "amend_situation_change_moratorium_q1"
         ],
         "type": "scatter",
         "x": [
          0,
          0.9031829076300761,
          0.9031829076300761,
          0
         ],
         "xaxis": "x",
         "y": [
          -3485,
          -3485,
          -3495,
          -3495
         ],
         "yaxis": "y"
        },
        {
         "hoverinfo": "text",
         "marker": {
          "color": "rgb(255,220,0)"
         },
         "mode": "lines",
         "text": [
          "inaudible_listen_notwithstand_music_expect",
          "",
          "",
          "case_situation_consider_circumstance_war"
         ],
         "type": "scatter",
         "x": [
          0,
          0.9665580159663452,
          0.9665580159663452,
          0.9031829076300761
         ],
         "xaxis": "x",
         "y": [
          -3475,
          -3475,
          -3490,
          -3490
         ],
         "yaxis": "y"
        },
        {
         "hoverinfo": "text",
         "marker": {
          "color": "rgb(40,35,35)"
         },
         "mode": "lines",
         "text": [
          "situation_relationship_life_basically_depend",
          "",
          "",
          "situation_horrible_circumstance_terrible_awful"
         ],
         "type": "scatter",
         "x": [
          0,
          0.8351237029120848,
          0.8351237029120848,
          0
         ],
         "xaxis": "x",
         "y": [
          -3505,
          -3505,
          -3515,
          -3515
         ],
         "yaxis": "y"
        },
        {
         "hoverinfo": "text",
         "marker": {
          "color": "rgb(0,116,217)"
         },
         "mode": "lines",
         "text": [
          "inaudible_notwithstand_listen_moratorium_music",
          "",
          "",
          "situation_circumstance_relationship_happen_difficult"
         ],
         "type": "scatter",
         "x": [
          0.9665580159663452,
          1.0241067182539259,
          1.0241067182539259,
          0.8351237029120848
         ],
         "xaxis": "x",
         "y": [
          -3482.5,
          -3482.5,
          -3510,
          -3510
         ],
         "yaxis": "y"
        },
        {
         "hoverinfo": "text",
         "marker": {
          "color": "rgb(61,153,112)"
         },
         "mode": "lines",
         "text": [
          "watch_event_witness_closely_scenario",
          "",
          "",
          "look_glance_view_think_change"
         ],
         "type": "scatter",
         "x": [
          0,
          0.8664609850684317,
          0.8664609850684317,
          0
         ],
         "xaxis": "x",
         "y": [
          -3535,
          -3535,
          -3545,
          -3545
         ],
         "yaxis": "y"
        },
        {
         "hoverinfo": "text",
         "marker": {
          "color": "rgb(61,153,112)"
         },
         "mode": "lines",
         "text": [
          "monitoring_monitor_watch_continue_assess",
          "",
          "",
          "watch_event_witness_unfold_scenario"
         ],
         "type": "scatter",
         "x": [
          0,
          0.9175746526424463,
          0.9175746526424463,
          0.8664609850684317
         ],
         "xaxis": "x",
         "y": [
          -3525,
          -3525,
          -3540,
          -3540
         ],
         "yaxis": "y"
        },
        {
         "hoverinfo": "text",
         "marker": {
          "color": "rgb(255,65,54)"
         },
         "mode": "lines",
         "text": [
          "market_inning_crisis_forecasting_early",
          "",
          "",
          "crisis_impact_risk_upset_plunge"
         ],
         "type": "scatter",
         "x": [
          0,
          0.8158918236265446,
          0.8158918236265446,
          0
         ],
         "xaxis": "x",
         "y": [
          -3555,
          -3555,
          -3565,
          -3565
         ],
         "yaxis": "y"
        },
        {
         "hoverinfo": "text",
         "marker": {
          "color": "rgb(255,65,54)"
         },
         "mode": "lines",
         "text": [
          "crisis_impact_turmoil_risk_dramatically",
          "",
          "",
          "event_occasion_impact_effect_view"
         ],
         "type": "scatter",
         "x": [
          0.8158918236265446,
          0.9550192904790704,
          0.9550192904790704,
          0
         ],
         "xaxis": "x",
         "y": [
          -3560,
          -3560,
          -3575,
          -3575
         ],
         "yaxis": "y"
        },
        {
         "hoverinfo": "text",
         "marker": {
          "color": "rgb(0,116,217)"
         },
         "mode": "lines",
         "text": [
          "monitoring_monitor_watch_continue_assess",
          "",
          "",
          "crisis_impact_turmoil_risk_dramatically"
         ],
         "type": "scatter",
         "x": [
          0.9175746526424463,
          1.006377576285857,
          1.006377576285857,
          0.9550192904790704
         ],
         "xaxis": "x",
         "y": [
          -3532.5,
          -3532.5,
          -3567.5,
          -3567.5
         ],
         "yaxis": "y"
        },
        {
         "hoverinfo": "text",
         "marker": {
          "color": "rgb(0,116,217)"
         },
         "mode": "lines",
         "text": [
          "inaudible_notwithstand_listen_awake_troubling",
          "",
          "",
          "crisis_impact_scenario_situation_event"
         ],
         "type": "scatter",
         "x": [
          1.0241067182539259,
          1.1161017102315913,
          1.1161017102315913,
          1.006377576285857
         ],
         "xaxis": "x",
         "y": [
          -3496.25,
          -3496.25,
          -3550,
          -3550
         ],
         "yaxis": "y"
        },
        {
         "hoverinfo": "text",
         "marker": {
          "color": "rgb(35,205,205)"
         },
         "mode": "lines",
         "text": [
          "activity_terminate_dispose_halt_cease",
          "",
          "",
          "activity_operational_achieve_presence_performance"
         ],
         "type": "scatter",
         "x": [
          0,
          0.7593644328191391,
          0.7593644328191391,
          0
         ],
         "xaxis": "x",
         "y": [
          -3585,
          -3585,
          -3595,
          -3595
         ],
         "yaxis": "y"
        },
        {
         "hoverinfo": "text",
         "marker": {
          "color": "rgb(61,153,112)"
         },
         "mode": "lines",
         "text": [
          "business_market_marketplace_financial_opportunity",
          "",
          "",
          "business_continue_operate_discontinue_activity"
         ],
         "type": "scatter",
         "x": [
          0,
          0.875491653738129,
          0.875491653738129,
          0
         ],
         "xaxis": "x",
         "y": [
          -3605,
          -3605,
          -3615,
          -3615
         ],
         "yaxis": "y"
        },
        {
         "hoverinfo": "text",
         "marker": {
          "color": "rgb(61,153,112)"
         },
         "mode": "lines",
         "text": [
          "war_wars_business_impact_bombing",
          "",
          "",
          "impact_business_effect_productivity_entrepreneur"
         ],
         "type": "scatter",
         "x": [
          0,
          0.7831549171950011,
          0.7831549171950011,
          0
         ],
         "xaxis": "x",
         "y": [
          -3625,
          -3625,
          -3635,
          -3635
         ],
         "yaxis": "y"
        },
        {
         "hoverinfo": "text",
         "marker": {
          "color": "rgb(61,153,112)"
         },
         "mode": "lines",
         "text": [
          "impact_business_effect_affect_industry",
          "",
          "",
          "business_entrepreneur_financial_toyota_operate"
         ],
         "type": "scatter",
         "x": [
          0.7831549171950011,
          0.8342672714681625,
          0.8342672714681625,
          0
         ],
         "xaxis": "x",
         "y": [
          -3630,
          -3630,
          -3645,
          -3645
         ],
         "yaxis": "y"
        },
        {
         "hoverinfo": "text",
         "marker": {
          "color": "rgb(61,153,112)"
         },
         "mode": "lines",
         "text": [
          "business_marketplace_opportunity_sell_operate",
          "",
          "",
          "impact_business_effect_affect_industry"
         ],
         "type": "scatter",
         "x": [
          0.875491653738129,
          0.9504999685772799,
          0.9504999685772799,
          0.8342672714681625
         ],
         "xaxis": "x",
         "y": [
          -3610,
          -3610,
          -3637.5,
          -3637.5
         ],
         "yaxis": "y"
        },
        {
         "hoverinfo": "text",
         "marker": {
          "color": "rgb(255,65,54)"
         },
         "mode": "lines",
         "text": [
          "market_capital_war_spread_trading",
          "",
          "",
          "market_marketplace_sell_opportunity_profitable"
         ],
         "type": "scatter",
         "x": [
          0,
          0.795646951786647,
          0.795646951786647,
          0
         ],
         "xaxis": "x",
         "y": [
          -3655,
          -3655,
          -3665,
          -3665
         ],
         "yaxis": "y"
        },
        {
         "hoverinfo": "text",
         "marker": {
          "color": "rgb(255,65,54)"
         },
         "mode": "lines",
         "text": [
          "impact_effect_damage_hit_drop",
          "",
          "",
          "impact_impacting_war_hit_mitigating"
         ],
         "type": "scatter",
         "x": [
          0,
          0.7432026515040135,
          0.7432026515040135,
          0
         ],
         "xaxis": "x",
         "y": [
          -3675,
          -3675,
          -3685,
          -3685
         ],
         "yaxis": "y"
        },
        {
         "hoverinfo": "text",
         "marker": {
          "color": "rgb(255,65,54)"
         },
         "mode": "lines",
         "text": [
          "market_marketplace_industry_stock_sell",
          "",
          "",
          "impact_impacting_effect_hit_drop"
         ],
         "type": "scatter",
         "x": [
          0.795646951786647,
          0.9695614174709534,
          0.9695614174709534,
          0.7432026515040135
         ],
         "xaxis": "x",
         "y": [
          -3660,
          -3660,
          -3680,
          -3680
         ],
         "yaxis": "y"
        },
        {
         "hoverinfo": "text",
         "marker": {
          "color": "rgb(35,205,205)"
         },
         "mode": "lines",
         "text": [
          "impact_sale_customer_business_sell",
          "",
          "",
          "buy_purchase_sell_buyer_sale"
         ],
         "type": "scatter",
         "x": [
          0,
          0.8414899779718346,
          0.8414899779718346,
          0
         ],
         "xaxis": "x",
         "y": [
          -3695,
          -3695,
          -3705,
          -3705
         ],
         "yaxis": "y"
        },
        {
         "hoverinfo": "text",
         "marker": {
          "color": "rgb(0,116,217)"
         },
         "mode": "lines",
         "text": [
          "market_marketplace_opportunity_capital_product",
          "",
          "",
          "buy_purchase_sell_buyer_sale"
         ],
         "type": "scatter",
         "x": [
          0.9695614174709534,
          1.0466713022717975,
          1.0466713022717975,
          0.8414899779718346
         ],
         "xaxis": "x",
         "y": [
          -3670,
          -3670,
          -3700,
          -3700
         ],
         "yaxis": "y"
        },
        {
         "hoverinfo": "text",
         "marker": {
          "color": "rgb(0,116,217)"
         },
         "mode": "lines",
         "text": [
          "business_impact_industry_effect_war",
          "",
          "",
          "market_marketplace_sell_sale_buy"
         ],
         "type": "scatter",
         "x": [
          0.9504999685772799,
          1.094877824222231,
          1.094877824222231,
          1.0466713022717975
         ],
         "xaxis": "x",
         "y": [
          -3623.75,
          -3623.75,
          -3685,
          -3685
         ],
         "yaxis": "y"
        },
        {
         "hoverinfo": "text",
         "marker": {
          "color": "rgb(0,116,217)"
         },
         "mode": "lines",
         "text": [
          "activity_active_operate_project_maintenance",
          "",
          "",
          "impact_impacting_effect_war_affect"
         ],
         "type": "scatter",
         "x": [
          0.7593644328191391,
          1.150367251441125,
          1.150367251441125,
          1.094877824222231
         ],
         "xaxis": "x",
         "y": [
          -3590,
          -3590,
          -3654.375,
          -3654.375
         ],
         "yaxis": "y"
        },
        {
         "hoverinfo": "text",
         "marker": {
          "color": "rgb(133,20,75)"
         },
         "mode": "lines",
         "text": [
          "exam_marketing_destocking_depreciation_economics",
          "",
          "",
          "conflict_situation_scenario_involve_guidance"
         ],
         "type": "scatter",
         "x": [
          0,
          0.7650629318224741,
          0.7650629318224741,
          0
         ],
         "xaxis": "x",
         "y": [
          -3715,
          -3715,
          -3725,
          -3725
         ],
         "yaxis": "y"
        },
        {
         "hoverinfo": "text",
         "marker": {
          "color": "rgb(255,220,0)"
         },
         "mode": "lines",
         "text": [
          "conflict_issue_competitor_arm_opportunity",
          "",
          "",
          "conflict_impact_business_development_consequence"
         ],
         "type": "scatter",
         "x": [
          0,
          0.7334230896932972,
          0.7334230896932972,
          0
         ],
         "xaxis": "x",
         "y": [
          -3745,
          -3745,
          -3755,
          -3755
         ],
         "yaxis": "y"
        },
        {
         "hoverinfo": "text",
         "marker": {
          "color": "rgb(255,220,0)"
         },
         "mode": "lines",
         "text": [
          "conflict_confliction_impact_development_opposeng",
          "",
          "",
          "conflict_complication_discussion_issue_ongoing"
         ],
         "type": "scatter",
         "x": [
          0,
          0.7566532596578682,
          0.7566532596578682,
          0.7334230896932972
         ],
         "xaxis": "x",
         "y": [
          -3735,
          -3735,
          -3750,
          -3750
         ],
         "yaxis": "y"
        },
        {
         "hoverinfo": "text",
         "marker": {
          "color": "rgb(255,220,0)"
         },
         "mode": "lines",
         "text": [
          "conflict_confliction_opposeng_issue_attacker",
          "",
          "",
          "competitor_market_demand_marketing_disruption"
         ],
         "type": "scatter",
         "x": [
          0.7566532596578682,
          0.8802312392437698,
          0.8802312392437698,
          0
         ],
         "xaxis": "x",
         "y": [
          -3742.5,
          -3742.5,
          -3765,
          -3765
         ],
         "yaxis": "y"
        },
        {
         "hoverinfo": "text",
         "marker": {
          "color": "rgb(0,116,217)"
         },
         "mode": "lines",
         "text": [
          "conflict_course_exam_assignment_situation",
          "",
          "",
          "conflict_confliction_competitor_ongoing_attacker"
         ],
         "type": "scatter",
         "x": [
          0.7650629318224741,
          1.065093465743889,
          1.065093465743889,
          0.8802312392437698
         ],
         "xaxis": "x",
         "y": [
          -3720,
          -3720,
          -3753.75,
          -3753.75
         ],
         "yaxis": "y"
        },
        {
         "hoverinfo": "text",
         "marker": {
          "color": "rgb(0,116,217)"
         },
         "mode": "lines",
         "text": [
          "impact_impacting_effect_affect_business",
          "",
          "",
          "conflict_confliction_situation_issue_competitor"
         ],
         "type": "scatter",
         "x": [
          1.150367251441125,
          1.2028842190108107,
          1.2028842190108107,
          1.065093465743889
         ],
         "xaxis": "x",
         "y": [
          -3622.1875,
          -3622.1875,
          -3736.875,
          -3736.875
         ],
         "yaxis": "y"
        },
        {
         "hoverinfo": "text",
         "marker": {
          "color": "rgb(40,35,35)"
         },
         "mode": "lines",
         "text": [
          "business_small_company_wholesale_corporation",
          "",
          "",
          "small_tiny_large_little_big"
         ],
         "type": "scatter",
         "x": [
          0,
          0.5576349826865337,
          0.5576349826865337,
          0
         ],
         "xaxis": "x",
         "y": [
          -3775,
          -3775,
          -3785,
          -3785
         ],
         "yaxis": "y"
        },
        {
         "hoverinfo": "text",
         "marker": {
          "color": "rgb(0,116,217)"
         },
         "mode": "lines",
         "text": [
          "impact_effect_affect_conflict_war",
          "",
          "",
          "small_tiny_little_size_large"
         ],
         "type": "scatter",
         "x": [
          1.2028842190108107,
          1.2413798578943152,
          1.2413798578943152,
          0.5576349826865337
         ],
         "xaxis": "x",
         "y": [
          -3679.53125,
          -3679.53125,
          -3780,
          -3780
         ],
         "yaxis": "y"
        },
        {
         "hoverinfo": "text",
         "marker": {
          "color": "rgb(0,116,217)"
         },
         "mode": "lines",
         "text": [
          "crisis_impact_scenario_affect_situation",
          "",
          "",
          "business_industry_company_market_impact"
         ],
         "type": "scatter",
         "x": [
          1.1161017102315913,
          1.2642790496902387,
          1.2642790496902387,
          1.2413798578943152
         ],
         "xaxis": "x",
         "y": [
          -3523.125,
          -3523.125,
          -3729.765625,
          -3729.765625
         ],
         "yaxis": "y"
        },
        {
         "hoverinfo": "text",
         "marker": {
          "color": "rgb(61,153,112)"
         },
         "mode": "lines",
         "text": [
          "answer_question_problem_issue_currently",
          "",
          "",
          "respect_currency_mean_range_question"
         ],
         "type": "scatter",
         "x": [
          0,
          0.8361698097517477,
          0.8361698097517477,
          0
         ],
         "xaxis": "x",
         "y": [
          -3805,
          -3805,
          -3815,
          -3815
         ],
         "yaxis": "y"
        },
        {
         "hoverinfo": "text",
         "marker": {
          "color": "rgb(61,153,112)"
         },
         "mode": "lines",
         "text": [
          "supply_supplies_receive_sell_regards",
          "",
          "",
          "respect_currency_mean_range_problem"
         ],
         "type": "scatter",
         "x": [
          0,
          0.9066599462338054,
          0.9066599462338054,
          0.8361698097517477
         ],
         "xaxis": "x",
         "y": [
          -3795,
          -3795,
          -3810,
          -3810
         ],
         "yaxis": "y"
        },
        {
         "hoverinfo": "text",
         "marker": {
          "color": "rgb(255,65,54)"
         },
         "mode": "lines",
         "text": [
          "think_thought_question_ask_answer",
          "",
          "",
          "question_answer_assume_thing_"
         ],
         "type": "scatter",
         "x": [
          0,
          0.6058423688981938,
          0.6058423688981938,
          0
         ],
         "xaxis": "x",
         "y": [
          -3825,
          -3825,
          -3835,
          -3835
         ],
         "yaxis": "y"
        },
        {
         "hoverinfo": "text",
         "marker": {
          "color": "rgb(255,65,54)"
         },
         "mode": "lines",
         "text": [
          "question_think_thought_answer_ask",
          "",
          "",
          "war_question_ask_think_we"
         ],
         "type": "scatter",
         "x": [
          0.6058423688981938,
          0.7472481863178365,
          0.7472481863178365,
          0
         ],
         "xaxis": "x",
         "y": [
          -3830,
          -3830,
          -3845,
          -3845
         ],
         "yaxis": "y"
        },
        {
         "hoverinfo": "text",
         "marker": {
          "color": "rgb(0,116,217)"
         },
         "mode": "lines",
         "text": [
          "respect_regards_currency_mean_business",
          "",
          "",
          "question_think_thought_answer_ask"
         ],
         "type": "scatter",
         "x": [
          0.9066599462338054,
          1.1334303971635766,
          1.1334303971635766,
          0.7472481863178365
         ],
         "xaxis": "x",
         "y": [
          -3802.5,
          -3802.5,
          -3837.5,
          -3837.5
         ],
         "yaxis": "y"
        },
        {
         "hoverinfo": "text",
         "marker": {
          "color": "rgb(35,205,205)"
         },
         "mode": "lines",
         "text": [
          "situation_brief_briefly_let_address",
          "",
          "",
          "war_comment_commenting_conflict_discuss"
         ],
         "type": "scatter",
         "x": [
          0,
          0.4387286661276093,
          0.4387286661276093,
          0
         ],
         "xaxis": "x",
         "y": [
          -3855,
          -3855,
          -3865,
          -3865
         ],
         "yaxis": "y"
        },
        {
         "hoverinfo": "text",
         "marker": {
          "color": "rgb(61,153,112)"
         },
         "mode": "lines",
         "text": [
          "war_start_begin_continue_stop",
          "",
          "",
          "start_starting_begin_beginning_want"
         ],
         "type": "scatter",
         "x": [
          0,
          0.6748662977222304,
          0.6748662977222304,
          0
         ],
         "xaxis": "x",
         "y": [
          -3875,
          -3875,
          -3885,
          -3885
         ],
         "yaxis": "y"
        },
        {
         "hoverinfo": "text",
         "marker": {
          "color": "rgb(61,153,112)"
         },
         "mode": "lines",
         "text": [
          "start_starting_begin_beginning_continue",
          "",
          "",
          "february_war_march_tuesday_january"
         ],
         "type": "scatter",
         "x": [
          0.6748662977222304,
          0.8055019424794452,
          0.8055019424794452,
          0
         ],
         "xaxis": "x",
         "y": [
          -3880,
          -3880,
          -3895,
          -3895
         ],
         "yaxis": "y"
        },
        {
         "hoverinfo": "text",
         "marker": {
          "color": "rgb(255,65,54)"
         },
         "mode": "lines",
         "text": [
          "war_wars_fight_bombing_shake",
          "",
          "",
          "war_continue_peace_end_ongoing"
         ],
         "type": "scatter",
         "x": [
          0,
          0.8972308755343937,
          0.8972308755343937,
          0
         ],
         "xaxis": "x",
         "y": [
          -3905,
          -3905,
          -3915,
          -3915
         ],
         "yaxis": "y"
        },
        {
         "hoverinfo": "text",
         "marker": {
          "color": "rgb(35,205,205)"
         },
         "mode": "lines",
         "text": [
          "happen_go_know_come_situation",
          "",
          "",
          "war_go_strike_know_gofore"
         ],
         "type": "scatter",
         "x": [
          0,
          0.694526951990176,
          0.694526951990176,
          0
         ],
         "xaxis": "x",
         "y": [
          -3925,
          -3925,
          -3935,
          -3935
         ],
         "yaxis": "y"
        },
        {
         "hoverinfo": "text",
         "marker": {
          "color": "rgb(0,116,217)"
         },
         "mode": "lines",
         "text": [
          "war_wars_fight_peace_bombing",
          "",
          "",
          "happen_go_know_gofore_come"
         ],
         "type": "scatter",
         "x": [
          0.8972308755343937,
          1.010227559887438,
          1.010227559887438,
          0.694526951990176
         ],
         "xaxis": "x",
         "y": [
          -3910,
          -3910,
          -3930,
          -3930
         ],
         "yaxis": "y"
        },
        {
         "hoverinfo": "text",
         "marker": {
          "color": "rgb(0,116,217)"
         },
         "mode": "lines",
         "text": [
          "war_start_beginning_begin_starting",
          "",
          "",
          "happen_go_know_gofore_think"
         ],
         "type": "scatter",
         "x": [
          0.8055019424794452,
          1.1922766409547374,
          1.1922766409547374,
          1.010227559887438
         ],
         "xaxis": "x",
         "y": [
          -3887.5,
          -3887.5,
          -3920,
          -3920
         ],
         "yaxis": "y"
        },
        {
         "hoverinfo": "text",
         "marker": {
          "color": "rgb(0,116,217)"
         },
         "mode": "lines",
         "text": [
          "situation_briefly_scenario_comment_brief",
          "",
          "",
          "war_wars_start_beginning_begin"
         ],
         "type": "scatter",
         "x": [
          0.4387286661276093,
          1.2432872454025115,
          1.2432872454025115,
          1.1922766409547374
         ],
         "xaxis": "x",
         "y": [
          -3860,
          -3860,
          -3903.75,
          -3903.75
         ],
         "yaxis": "y"
        },
        {
         "hoverinfo": "text",
         "marker": {
          "color": "rgb(0,116,217)"
         },
         "mode": "lines",
         "text": [
          "question_think_thought_answer_ask",
          "",
          "",
          "war_start_beginning_begin_starting"
         ],
         "type": "scatter",
         "x": [
          1.1334303971635766,
          1.348902551538416,
          1.348902551538416,
          1.2432872454025115
         ],
         "xaxis": "x",
         "y": [
          -3820,
          -3820,
          -3881.875,
          -3881.875
         ],
         "yaxis": "y"
        },
        {
         "hoverinfo": "text",
         "marker": {
          "color": "rgb(133,20,75)"
         },
         "mode": "lines",
         "text": [
          "review_rerating_guidance_follow_force",
          "",
          "",
          "update_operation_recent_want_let"
         ],
         "type": "scatter",
         "x": [
          0,
          0.7411501363550108,
          0.7411501363550108,
          0
         ],
         "xaxis": "x",
         "y": [
          -3945,
          -3945,
          -3955,
          -3955
         ],
         "yaxis": "y"
        },
        {
         "hoverinfo": "text",
         "marker": {
          "color": "rgb(133,20,75)"
         },
         "mode": "lines",
         "text": [
          "update_operation_want_announce_review",
          "",
          "",
          "turn_let_flip_pull_roll"
         ],
         "type": "scatter",
         "x": [
          0.7411501363550108,
          0.9506463409811798,
          0.9506463409811798,
          0
         ],
         "xaxis": "x",
         "y": [
          -3950,
          -3950,
          -3965,
          -3965
         ],
         "yaxis": "y"
        },
        {
         "hoverinfo": "text",
         "marker": {
          "color": "rgb(255,220,0)"
         },
         "mode": "lines",
         "text": [
          "slide_presentation_pull_effect_subsequent",
          "",
          "",
          "slide_exposure_show_figure_detail"
         ],
         "type": "scatter",
         "x": [
          0,
          0.2788455602965707,
          0.2788455602965707,
          0
         ],
         "xaxis": "x",
         "y": [
          -3975,
          -3975,
          -3985,
          -3985
         ],
         "yaxis": "y"
        },
        {
         "hoverinfo": "text",
         "marker": {
          "color": "rgb(0,116,217)"
         },
         "mode": "lines",
         "text": [
          "update_operation_business_announce_review",
          "",
          "",
          "slide_presentation_pull_effect_flow"
         ],
         "type": "scatter",
         "x": [
          0.9506463409811798,
          1.1362509961769711,
          1.1362509961769711,
          0.2788455602965707
         ],
         "xaxis": "x",
         "y": [
          -3957.5,
          -3957.5,
          -3980,
          -3980
         ],
         "yaxis": "y"
        },
        {
         "hoverinfo": "text",
         "marker": {
          "color": "rgb(0,116,217)"
         },
         "mode": "lines",
         "text": [
          "war_start_beginning_begin_starting",
          "",
          "",
          "slide_presentation_flip_update_pull"
         ],
         "type": "scatter",
         "x": [
          1.348902551538416,
          1.4137695949479054,
          1.4137695949479054,
          1.1362509961769711
         ],
         "xaxis": "x",
         "y": [
          -3850.9375,
          -3850.9375,
          -3968.75,
          -3968.75
         ],
         "yaxis": "y"
        },
        {
         "hoverinfo": "text",
         "marker": {
          "color": "rgb(0,116,217)"
         },
         "mode": "lines",
         "text": [
          "impact_conflict_effect_affect_crisis",
          "",
          "",
          "slide_presentation_turn_pull_conference"
         ],
         "type": "scatter",
         "x": [
          1.2642790496902387,
          1.4507020332823441,
          1.4507020332823441,
          1.4137695949479054
         ],
         "xaxis": "x",
         "y": [
          -3626.4453125,
          -3626.4453125,
          -3909.84375,
          -3909.84375
         ],
         "yaxis": "y"
        },
        {
         "hoverinfo": "text",
         "marker": {
          "color": "rgb(0,116,217)"
         },
         "mode": "lines",
         "text": [
          "coal_demand_pipeline_supply_supplier",
          "",
          "",
          "slide_presentation_turn_update_let"
         ],
         "type": "scatter",
         "x": [
          1.565970784898258,
          1.5991525087073073,
          1.5991525087073073,
          1.4507020332823441
         ],
         "xaxis": "x",
         "y": [
          -2706.5443006157875,
          -2706.5443006157875,
          -3768.14453125,
          -3768.14453125
         ],
         "yaxis": "y"
        },
        {
         "hoverinfo": "text",
         "marker": {
          "color": "rgb(0,116,217)"
         },
         "mode": "lines",
         "text": [
          "petroleum_refinery_oil_diesel_crude",
          "",
          "",
          "coal_demand_crisis_fuel_gas"
         ],
         "type": "scatter",
         "x": [
          1.4138064198012807,
          1.8105974413244836,
          1.8105974413244836,
          1.5991525087073073
         ],
         "xaxis": "x",
         "y": [
          -1353.90625,
          -1353.90625,
          -3237.3444159328938,
          -3237.3444159328938
         ],
         "yaxis": "y"
        },
        {
         "hoverinfo": "text",
         "marker": {
          "color": "rgb(40,35,35)"
         },
         "mode": "lines",
         "text": [
          "ukrainian_crimea_kiev_donetsk_diplomacy",
          "",
          "",
          "ukrainian_kazakh_humanitarian_oleg_hostility"
         ],
         "type": "scatter",
         "x": [
          0,
          0.5926432629696554,
          0.5926432629696554,
          0
         ],
         "xaxis": "x",
         "y": [
          -4005,
          -4005,
          -4015,
          -4015
         ],
         "yaxis": "y"
        },
        {
         "hoverinfo": "text",
         "marker": {
          "color": "rgb(40,35,35)"
         },
         "mode": "lines",
         "text": [
          "kyivstar_kyiv_ukrainian_servicing_infrastructure",
          "",
          "",
          "ukrainian_crimea_war_conflict_crisis"
         ],
         "type": "scatter",
         "x": [
          0,
          0.7376892688826713,
          0.7376892688826713,
          0.5926432629696554
         ],
         "xaxis": "x",
         "y": [
          -3995,
          -3995,
          -4010,
          -4010
         ],
         "yaxis": "y"
        },
        {
         "hoverinfo": "text",
         "marker": {
          "color": "rgb(61,153,112)"
         },
         "mode": "lines",
         "text": [
          "ukrainian_kiev_refugee_accommodation_support",
          "",
          "",
          "safety_employee_priority_colleague_prioritize"
         ],
         "type": "scatter",
         "x": [
          0,
          0.5687504692810931,
          0.5687504692810931,
          0
         ],
         "xaxis": "x",
         "y": [
          -4025,
          -4025,
          -4035,
          -4035
         ],
         "yaxis": "y"
        },
        {
         "hoverinfo": "text",
         "marker": {
          "color": "rgb(61,153,112)"
         },
         "mode": "lines",
         "text": [
          "employee_employer_personnel_employ_staff",
          "",
          "",
          "relocate_relocation_employee_employ_employment"
         ],
         "type": "scatter",
         "x": [
          0,
          0.7474516139354068,
          0.7474516139354068,
          0
         ],
         "xaxis": "x",
         "y": [
          -4055,
          -4055,
          -4065,
          -4065
         ],
         "yaxis": "y"
        },
        {
         "hoverinfo": "text",
         "marker": {
          "color": "rgb(61,153,112)"
         },
         "mode": "lines",
         "text": [
          "workforce_employee_employ_people_staff",
          "",
          "",
          "employee_employer_employment_employ_personnel"
         ],
         "type": "scatter",
         "x": [
          0,
          0.8140569931263733,
          0.8140569931263733,
          0.7474516139354068
         ],
         "xaxis": "x",
         "y": [
          -4045,
          -4045,
          -4060,
          -4060
         ],
         "yaxis": "y"
        },
        {
         "hoverinfo": "text",
         "marker": {
          "color": "rgb(61,153,112)"
         },
         "mode": "lines",
         "text": [
          "employee_employer_employment_personnel_employ",
          "",
          "",
          "salary_compensation_wage_payroll_employee"
         ],
         "type": "scatter",
         "x": [
          0.8140569931263733,
          0.9133842818381134,
          0.9133842818381134,
          0
         ],
         "xaxis": "x",
         "y": [
          -4052.5,
          -4052.5,
          -4075,
          -4075
         ],
         "yaxis": "y"
        },
        {
         "hoverinfo": "text",
         "marker": {
          "color": "rgb(61,153,112)"
         },
         "mode": "lines",
         "text": [
          "safety_colleague_safeguard_employee_focus",
          "",
          "",
          "employee_employer_personnel_colleague_employment"
         ],
         "type": "scatter",
         "x": [
          0.5687504692810931,
          0.9979979900539128,
          0.9979979900539128,
          0.9133842818381134
         ],
         "xaxis": "x",
         "y": [
          -4030,
          -4030,
          -4063.75,
          -4063.75
         ],
         "yaxis": "y"
        },
        {
         "hoverinfo": "text",
         "marker": {
          "color": "rgb(0,116,217)"
         },
         "mode": "lines",
         "text": [
          "ukrainian_crimea_kyivstar_conflict_invasion",
          "",
          "",
          "safety_employee_priority_personnel_colleague"
         ],
         "type": "scatter",
         "x": [
          0.7376892688826713,
          1.2874698853734543,
          1.2874698853734543,
          0.9979979900539128
         ],
         "xaxis": "x",
         "y": [
          -4002.5,
          -4002.5,
          -4046.875,
          -4046.875
         ],
         "yaxis": "y"
        },
        {
         "hoverinfo": "text",
         "marker": {
          "color": "rgb(255,65,54)"
         },
         "mode": "lines",
         "text": [
          "humanitarian_refugees_refugee_unicef_aid",
          "",
          "",
          "refugee_refugees_migrant_asylum_support"
         ],
         "type": "scatter",
         "x": [
          0,
          0.5039665807805159,
          0.5039665807805159,
          0
         ],
         "xaxis": "x",
         "y": [
          -4095,
          -4095,
          -4105,
          -4105
         ],
         "yaxis": "y"
        },
        {
         "hoverinfo": "text",
         "marker": {
          "color": "rgb(255,65,54)"
         },
         "mode": "lines",
         "text": [
          "charity_donation_aid_charitable_humanitarian",
          "",
          "",
          "refugee_refugees_humanitarian_migrant_asylum"
         ],
         "type": "scatter",
         "x": [
          0,
          0.7724864940427489,
          0.7724864940427489,
          0.5039665807805159
         ],
         "xaxis": "x",
         "y": [
          -4085,
          -4085,
          -4100,
          -4100
         ],
         "yaxis": "y"
        },
        {
         "hoverinfo": "text",
         "marker": {
          "color": "rgb(35,205,205)"
         },
         "mode": "lines",
         "text": [
          "refugee_poland_ukrainian_polish_humanitarian",
          "",
          "",
          "poland_warsaw_romania_hungary_gdansk"
         ],
         "type": "scatter",
         "x": [
          0,
          0.6523697635990153,
          0.6523697635990153,
          0
         ],
         "xaxis": "x",
         "y": [
          -4115,
          -4115,
          -4125,
          -4125
         ],
         "yaxis": "y"
        },
        {
         "hoverinfo": "text",
         "marker": {
          "color": "rgb(35,205,205)"
         },
         "mode": "lines",
         "text": [
          "poland_romania_warsaw_hungary_slovakia",
          "",
          "",
          "polish_poland_warsaw_refugee_slovakia"
         ],
         "type": "scatter",
         "x": [
          0.6523697635990153,
          0.7006479794788543,
          0.7006479794788543,
          0
         ],
         "xaxis": "x",
         "y": [
          -4120,
          -4120,
          -4135,
          -4135
         ],
         "yaxis": "y"
        },
        {
         "hoverinfo": "text",
         "marker": {
          "color": "rgb(0,116,217)"
         },
         "mode": "lines",
         "text": [
          "donation_charity_donate_humanitarian_charitable",
          "",
          "",
          "poland_warsaw_romania_hungary_slovakia"
         ],
         "type": "scatter",
         "x": [
          0.7724864940427489,
          1.1154338348551722,
          1.1154338348551722,
          0.7006479794788543
         ],
         "xaxis": "x",
         "y": [
          -4092.5,
          -4092.5,
          -4127.5,
          -4127.5
         ],
         "yaxis": "y"
        },
        {
         "hoverinfo": "text",
         "marker": {
          "color": "rgb(0,116,217)"
         },
         "mode": "lines",
         "text": [
          "safety_priority_family_colleague_responsibility",
          "",
          "",
          "donation_charity_donate_aid_humanitarian"
         ],
         "type": "scatter",
         "x": [
          1.2874698853734543,
          1.40003822518366,
          1.40003822518366,
          1.1154338348551722
         ],
         "xaxis": "x",
         "y": [
          -4024.6875,
          -4024.6875,
          -4110,
          -4110
         ],
         "yaxis": "y"
        },
        {
         "hoverinfo": "text",
         "marker": {
          "color": "rgb(61,153,112)"
         },
         "mode": "lines",
         "text": [
          "invasion_humanitarian_disaster_crisis_catastrophic",
          "",
          "",
          "humanitarian_crisis_disaster_catastrophe_peace"
         ],
         "type": "scatter",
         "x": [
          0,
          0.6941905048546245,
          0.6941905048546245,
          0
         ],
         "xaxis": "x",
         "y": [
          -4145,
          -4145,
          -4155,
          -4155
         ],
         "yaxis": "y"
        },
        {
         "hoverinfo": "text",
         "marker": {
          "color": "rgb(255,65,54)"
         },
         "mode": "lines",
         "text": [
          "tragedy_tragic_occur_event_sadden",
          "",
          "",
          "war_tragedy_peace_inhumanity_devastation"
         ],
         "type": "scatter",
         "x": [
          0,
          0.5733316422990051,
          0.5733316422990051,
          0
         ],
         "xaxis": "x",
         "y": [
          -4165,
          -4165,
          -4175,
          -4175
         ],
         "yaxis": "y"
        },
        {
         "hoverinfo": "text",
         "marker": {
          "color": "rgb(255,65,54)"
         },
         "mode": "lines",
         "text": [
          "tragedy_tragic_devastation_tragically_occur",
          "",
          "",
          "sympathy_empathy_compassion_tragedy_sorrow"
         ],
         "type": "scatter",
         "x": [
          0.5733316422990051,
          0.874747826217269,
          0.874747826217269,
          0
         ],
         "xaxis": "x",
         "y": [
          -4170,
          -4170,
          -4185,
          -4185
         ],
         "yaxis": "y"
        },
        {
         "hoverinfo": "text",
         "marker": {
          "color": "rgb(0,116,217)"
         },
         "mode": "lines",
         "text": [
          "humanitarian_crisis_disaster_catastrophe_peacefully",
          "",
          "",
          "tragedy_tragic_devastation_occur_tragically"
         ],
         "type": "scatter",
         "x": [
          0.6941905048546245,
          1.0294825163434924,
          1.0294825163434924,
          0.874747826217269
         ],
         "xaxis": "x",
         "y": [
          -4150,
          -4150,
          -4177.5,
          -4177.5
         ],
         "yaxis": "y"
        },
        {
         "hoverinfo": "text",
         "marker": {
          "color": "rgb(35,205,205)"
         },
         "mode": "lines",
         "text": [
          "situation_hope_hopefully_resolve_hopeful",
          "",
          "",
          "peace_peaceful_peacefully_ceasefire_wish"
         ],
         "type": "scatter",
         "x": [
          0,
          0.6427197652514345,
          0.6427197652514345,
          0
         ],
         "xaxis": "x",
         "y": [
          -4195,
          -4195,
          -4205,
          -4205
         ],
         "yaxis": "y"
        },
        {
         "hoverinfo": "text",
         "marker": {
          "color": "rgb(0,116,217)"
         },
         "mode": "lines",
         "text": [
          "tragedy_catastrophe_humanitarian_crisis_disaster",
          "",
          "",
          "peace_peacefully_peaceful_ceasefire_hopeful"
         ],
         "type": "scatter",
         "x": [
          1.0294825163434924,
          1.1355827858595076,
          1.1355827858595076,
          0.6427197652514345
         ],
         "xaxis": "x",
         "y": [
          -4163.75,
          -4163.75,
          -4200,
          -4200
         ],
         "yaxis": "y"
        },
        {
         "hoverinfo": "text",
         "marker": {
          "color": "rgb(133,20,75)"
         },
         "mode": "lines",
         "text": [
          "thought_think_people_anybody_imagination",
          "",
          "",
          "affect_suffer_crisis_effect_think"
         ],
         "type": "scatter",
         "x": [
          0,
          0.5924144546513787,
          0.5924144546513787,
          0
         ],
         "xaxis": "x",
         "y": [
          -4225,
          -4225,
          -4235,
          -4235
         ],
         "yaxis": "y"
        },
        {
         "hoverinfo": "text",
         "marker": {
          "color": "rgb(133,20,75)"
         },
         "mode": "lines",
         "text": [
          "prayer_prayerful_pray_thought_peace",
          "",
          "",
          "thought_think_people_opinion_anybody"
         ],
         "type": "scatter",
         "x": [
          0,
          0.7654472014640886,
          0.7654472014640886,
          0.5924144546513787
         ],
         "xaxis": "x",
         "y": [
          -4215,
          -4215,
          -4230,
          -4230
         ],
         "yaxis": "y"
        },
        {
         "hoverinfo": "text",
         "marker": {
          "color": "rgb(0,116,217)"
         },
         "mode": "lines",
         "text": [
          "humanitarian_tragedy_disaster_crisis_catastrophe",
          "",
          "",
          "prayer_prayerful_pray_belief_thought"
         ],
         "type": "scatter",
         "x": [
          1.1355827858595076,
          1.1878555671703175,
          1.1878555671703175,
          0.7654472014640886
         ],
         "xaxis": "x",
         "y": [
          -4181.875,
          -4181.875,
          -4222.5,
          -4222.5
         ],
         "yaxis": "y"
        },
        {
         "hoverinfo": "text",
         "marker": {
          "color": "rgb(255,220,0)"
         },
         "mode": "lines",
         "text": [
          "heart_conflict_impact_affect_sympathy",
          "",
          "",
          "heart_people_everybody_life_tankers"
         ],
         "type": "scatter",
         "x": [
          0,
          0.1828817122341746,
          0.1828817122341746,
          0
         ],
         "xaxis": "x",
         "y": [
          -4245,
          -4245,
          -4255,
          -4255
         ],
         "yaxis": "y"
        },
        {
         "hoverinfo": "text",
         "marker": {
          "color": "rgb(0,116,217)"
         },
         "mode": "lines",
         "text": [
          "prayer_humanitarian_pray_peace_compassion",
          "",
          "",
          "heart_people_everybody_sympathy_life"
         ],
         "type": "scatter",
         "x": [
          1.1878555671703175,
          1.313427518653206,
          1.313427518653206,
          0.1828817122341746
         ],
         "xaxis": "x",
         "y": [
          -4202.1875,
          -4202.1875,
          -4250,
          -4250
         ],
         "yaxis": "y"
        },
        {
         "hoverinfo": "text",
         "marker": {
          "color": "rgb(0,116,217)"
         },
         "mode": "lines",
         "text": [
          "safety_employee_colleague_priority_protect",
          "",
          "",
          "prayer_pray_compassion_peace_thought"
         ],
         "type": "scatter",
         "x": [
          1.40003822518366,
          1.6389793849795729,
          1.6389793849795729,
          1.313427518653206
         ],
         "xaxis": "x",
         "y": [
          -4067.34375,
          -4067.34375,
          -4226.09375,
          -4226.09375
         ],
         "yaxis": "y"
        },
        {
         "hoverinfo": "text",
         "marker": {
          "color": "rgb(0,116,217)"
         },
         "mode": "lines",
         "text": [
          "coal_demand_oil_diesel_supply",
          "",
          "",
          "family_colleague_employee_staff_organization"
         ],
         "type": "scatter",
         "x": [
          1.8105974413244836,
          1.936319212662763,
          1.936319212662763,
          1.6389793849795729
         ],
         "xaxis": "x",
         "y": [
          -2295.625332966447,
          -2295.625332966447,
          -4146.71875,
          -4146.71875
         ],
         "yaxis": "y"
        },
        {
         "hoverinfo": "text",
         "marker": {
          "color": "rgb(0,116,217)"
         },
         "mode": "lines",
         "text": [
          "income_revenue_billion_million_expense",
          "",
          "",
          "coal_fuel_demand_oil_gas"
         ],
         "type": "scatter",
         "x": [
          1.885147283756457,
          2.2174336074795544,
          2.2174336074795544,
          1.936319212662763
         ],
         "xaxis": "x",
         "y": [
          -823.25439453125,
          -823.25439453125,
          -3221.1720414832234,
          -3221.1720414832234
         ],
         "yaxis": "y"
        },
        {
         "hoverinfo": "text",
         "marker": {
          "color": "rgb(0,116,217)"
         },
         "mode": "lines",
         "text": [
          "inflation_china_shanghai_inflationary_covid",
          "",
          "",
          "market_coal_crisis_gas_revenue"
         ],
         "type": "scatter",
         "x": [
          1.5302157514422623,
          2.3093063858762806,
          2.3093063858762806,
          2.2174336074795544
         ],
         "xaxis": "x",
         "y": [
          -250.4296875,
          -250.4296875,
          -2022.2132180072367,
          -2022.2132180072367
         ],
         "yaxis": "y"
        },
        {
         "hoverinfo": "text",
         "hovertext": [
          "economy_war_economic_macroeconomic_gdp",
          "foodtech_food_hunger_agricultural_gmo",
          "geopolitical_geopolitically_geopolitics_sociopolitical_diplomatic",
          "inflation_inflationary_recession_macroeconomic_interest",
          "uncertainty_uncertain_geopolitical_geopolitically_geopolitics",
          "pandemic_war_crisis_hunger_inflation",
          "challenge_struggle_supply_combat_get",
          "logistics_supply_supplier_shortage_inventory",
          "covid_pandemic_coronavirus_war_crisis",
          "inflation_inflationary_inflationist_macroeconomic_economic",
          "inflation_inflationary_economic_economy_dollar",
          "logistics_supplier_chain_supply_inventory",
          "inflation_inflationary_macroeconomic_recession_interest",
          "covid_china_shanghai_inflation_chinese",
          "inflation_macroeconomic_inflationary_recession_market",
          "exposure_visibility_transparency_imagery_clear",
          "client_customer_developer_service_business",
          "risk_riskmatics_scenario_hazard_leverage",
          "loan_loans_financing_lender_lend",
          "ratio_consolidate_combine_percentage_loss",
          "loan_loans_financing_lender_lend",
          "risk_riskmatics_cost_leverage_hazard",
          "income_billion_amount_eur_million",
          "sek_sek1_billion_sek5_million",
          "sek_billion_sek5_million_revenue",
          "chf_million_financing_billion_quarterly",
          "impairment_impaired_expense_accounting_income",
          "impairment_impaired_asset_bailout_bond",
          "financing_loan_loans_bank_mortgage",
          "exposure_visibility_transparency_imagery_clear",
          "wind_windstorm_unwind_profitability_profitable",
          "gaap_earnings_accounting_amortization_adjustment",
          "revenue_impact_acquisition_profit_rocketpower",
          "gaap_earnings_accounting_amortization_adjustment",
          "disposal_gbp_acquire_acquisition_profit",
          "filtration_expense_suspension_separation_cost",
          "year_era_january_nation_pariah",
          "offset_impact_adjustment_effect_rebound",
          "sorting_sort_order_number_7th",
          "quarter_remember_forget_minute_war",
          "sorting_sort_order_number_mention",
          "filtration_expense_suspension_separation_cost",
          "expectation_expect_earnings_revenue_profit",
          "expect_expectation_forecast_profit_earnings",
          "filtration_suspension_separation_operation_business",
          "ebitda_ebit_ebita_adjustment_earnings",
          "wind_windstorm_unwind_profitability_business",
          "revenue_profit_advertising_growth_million",
          "ebitda_ebit_ebita_earnings_amortization",
          "digit_growth_europe_china_belgium",
          "decline_sale_emea_wholesale_distributor",
          "volume_decrease_decline_drop_reduction",
          "currency_consumption_pricing_growth_revenue",
          "currency_consumption_growth_revenue_pricing",
          "organic_organically_growth_exclude_grow",
          "ebitda_ebit_ebita_earnings_revenue",
          "headwind_tailwind_congestion_conflict_instability",
          "fx_fxn_currency_impact_euro",
          "revenue_earnings_ebitda_ebit_income",
          "exposure_asset_investment_impairment_risk",
          "asia_japan_revenue_india_profit",
          "diesel_petrol_fuel_petroleum_gasoline",
          "petroleum_refinery_crude_oil_diesel",
          "oil_petroleum_refinery_gasoline_fuel",
          "diesel_petrol_fuel_petroleum_gasoline",
          "asia_japan_india_revenue_africa",
          "process_sale_sell_enterprise_operation",
          "suspend_suspending_suspension_pause_halt",
          "exit_exiting_exited_leave_discontinue",
          "export_exporting_exporter_external_make",
          "suspending_suspend_suspension_pause_halt",
          "freight_rail_turnover_railcar_railroad",
          "grain_sea_barge_trading_exporter",
          "freight_rail_railroad_railcar_railway",
          "airspace_closure_overflight_interfere_flight",
          "flight_fly_airline_airplane_plane",
          "turkey_turkish_istanbul_meat_azerbaijan",
          "easter_holiday_christmas_omicron_december",
          "airspace_overflight_airline_flight_closure",
          "sea_seaborne_seafarer_freight_ship",
          "bank_banking_banknote_sberbank_financial",
          "divestment_divest_divesting_dive_divestiture",
          "divestment_divest_divesting_divestiture_dive",
          "uniper_curtailment_gas_unipro_divestment",
          "belarus_belarusian_country_company_region",
          "uniper_unipro_curtailment_divestment_gas",
          "divestment_divest_divestiture_divesting_dive",
          "kfc_franchise_franchisee_gaap_transfer",
          "dividend_divide_finance_shareholder_debt",
          "cash_payment_invest_asset_liquidity",
          "belarus_belarusian_subsidiary_acquire_sale",
          "sanction_banking_bank_regulatory_regulation",
          "outbreak_war_fuel_cost_escalation",
          "pricing_cost_increase_price_dollar",
          "volatility_market_volatile_increase_war",
          "titanium_supplier_vendor_supply_engineer",
          "gmv_marketplace_advertising_revenue_retail",
          "titanium_supplier_breakout_buy_pricing",
          "western_west_market_economics_east",
          "alumina_alrosa_production_exporting_export",
          "alumina_production_alrosa_market_exporting",
          "china_korea_india_chinese_africa",
          "finland_finnish_nordic_export_kilometer",
          "coal_demand_coking_gas_pricing",
          "wood_lumber_timber_birch_hardwood",
          "sell_gold_market_kazakhstan_silver",
          "fertilizer_nutrient_produce_agriculture_nitrogen",
          "coal_demand_market_export_supply",
          "titanium_supplier_demand_market_buy",
          "facility_manufacturing_production_warehouse_manufacture",
          "revenue_heritage_retail_commercialization_marketing",
          "recession_crisis_revenue_war_comparison",
          "number_recession_mathematical_count_calculation",
          "expose_public_directly_eavesdroppe_allow",
          "expose_eavesdroppe_physically_scope_extent",
          "backlog_forward_amount_prediction_roughly",
          "petersburg_moscow_kyiv_st_odessa",
          "taiwan_china_nato_neutrality_perpetrating",
          "putin_litvinenko_vladimir_invade_ussr",
          "capex_capexe_expenditure_investment_capital",
          "qatar_qataris_arabia_saudi_yemen",
          "dairy_farm_farming_milk_produce",
          "capex_capexe_respirator_investment_headwind",
          "capex_capexe_respirator_investment_headwind",
          "capex_capexe_respirator_investment_headwind",
          "putin_litvinenko_vladimir_invade_ussr",
          "recall_remember_inventory_enterprise_recover",
          "capex_respirator_headwind_investment_disposable",
          "presence_facility_away_location_quiet",
          "withdraw_operation_invade_withdrawal_putin",
          "backlog_backup_utilization_amount_prediction",
          "touch_hand_sensitivity_number_david",
          "backlog_invade_consequence_putin_mention",
          "cobalt_buy_total_nordion_get",
          "backlog_recession_decline_utilization_mention",
          "revenue_commercialization_retail_brand_marketing",
          "team_corporate_leadership_united_talent",
          "patient_clinical_treatment_trial_surgeon",
          "manufacturing_facility_manufacturer_factory_production",
          "coal_supply_tanker_oil_demand",
          "speak_talk_conversation_speaker_communication",
          "coal_demand_supply_supplier_market",
          "belarus_belarusian_subsidiary_country_company",
          "invest_investment_investor_investable_share",
          "belarus_belarusian_kazakhstan_putin_finland",
          "airspace_airline_flight_closure_asia",
          "drone_aerial_helicopter_missile_airstrike",
          "militarization_nato_threat_defense_military",
          "cybersecurity_cybercrime_cyberattack_security_cyber",
          "invasion_invade_occupy_violence_devastating",
          "invasion_invade_occupy_violence_aggressively",
          "aggression_threat_condemn_violence_denounce",
          "coal_supplier_tanker_production_demand",
          "suspend_suspending_suspension_pause_halt",
          "gas_fuel_supply_supplies_chemical",
          "energy_renewable_electricity_power_infrastructure",
          "gas_fuel_energy_europe_cost",
          "europe_eu_european_eurasia_germany",
          "shortage_semiconductor_automotive_manufacturing_chipset",
          "nickel_palladium_aluminum_concrete_metal",
          "wiring_harness_wire_electrical_automaker",
          "steelmaking_steel_production_alloy_aluminum",
          "wiring_harness_wire_electrical_automaker",
          "raw_material_commodity_tissue_recycled",
          "wiring_harness_wire_manufacturing_supplier",
          "europe_eu_european_germany_netherlands",
          "belarus_demand_belarusian_market_production",
          "inaudible_notwithstand_listen_moratorium_music",
          "crisis_impact_turmoil_risk_dramatically",
          "monitoring_monitor_watch_continue_assess",
          "inaudible_notwithstand_listen_awake_troubling",
          "impact_business_effect_affect_industry",
          "business_marketplace_opportunity_sell_operate",
          "market_marketplace_industry_stock_sell",
          "market_marketplace_opportunity_capital_product",
          "business_impact_industry_effect_war",
          "activity_active_operate_project_maintenance",
          "conflict_confliction_opposeng_issue_attacker",
          "conflict_course_exam_assignment_situation",
          "impact_impacting_effect_affect_business",
          "impact_effect_affect_conflict_war",
          "crisis_impact_scenario_affect_situation",
          "question_think_thought_answer_ask",
          "respect_regards_currency_mean_business",
          "start_starting_begin_beginning_continue",
          "war_wars_fight_peace_bombing",
          "war_start_beginning_begin_starting",
          "situation_briefly_scenario_comment_brief",
          "question_think_thought_answer_ask",
          "update_operation_want_announce_review",
          "update_operation_business_announce_review",
          "war_start_beginning_begin_starting",
          "impact_conflict_effect_affect_crisis",
          "coal_demand_pipeline_supply_supplier",
          "petroleum_refinery_oil_diesel_crude",
          "employee_employer_employment_personnel_employ",
          "safety_colleague_safeguard_employee_focus",
          "ukrainian_crimea_kyivstar_conflict_invasion",
          "poland_romania_warsaw_hungary_slovakia",
          "donation_charity_donate_humanitarian_charitable",
          "safety_priority_family_colleague_responsibility",
          "tragedy_tragic_devastation_tragically_occur",
          "humanitarian_crisis_disaster_catastrophe_peacefully",
          "tragedy_catastrophe_humanitarian_crisis_disaster",
          "humanitarian_tragedy_disaster_crisis_catastrophe",
          "prayer_humanitarian_pray_peace_compassion",
          "safety_employee_colleague_priority_protect",
          "coal_demand_oil_diesel_supply",
          "income_revenue_billion_million_expense",
          "inflation_china_shanghai_inflationary_covid"
         ],
         "marker": {
          "color": "black"
         },
         "mode": "markers",
         "showlegend": false,
         "type": "scatter",
         "x": [
          0.8895431338839576,
          0.5902094187010447,
          0.648724674776218,
          0.7994551116404828,
          1.0503964953960703,
          1.2247592844582258,
          0.8121462411947189,
          0.5653922623255186,
          0.9332249505940716,
          0.5976456844997594,
          0.8392905272245075,
          1.0186603181160907,
          1.325262060924619,
          0.45734105853639445,
          1.3466979174655205,
          0.5909720687344477,
          0.3192812965088495,
          0.8058101366153719,
          0.5482447110444286,
          0.8093674366125577,
          1.0796775272648247,
          1.0464951843800143,
          0.7603326597629644,
          0.9047061189854518,
          0.9635301507597599,
          0.5866667622276855,
          0.9469407611244278,
          1.2543074944396913,
          1.2730716913385358,
          1.234902388749213,
          0.47238878641332804,
          0.7188695941747754,
          0.6501598768783203,
          0.8464729132053495,
          0.5908491871534111,
          0.7982646153438381,
          0.8499425813068051,
          0.9451113203996276,
          0.9685841631363538,
          0.9177140975557645,
          1.1193507664604392,
          1.0809952833305783,
          0.7700103161220572,
          0.7772609324810026,
          1.1853666888676084,
          1.2566591711536457,
          0.7700956915119905,
          0.7479379565819352,
          1.4257492451087763,
          0.7283186388340843,
          0.6179806091719643,
          0.7624660517230648,
          0.6133883222828298,
          0.9324051447959423,
          1.2410548921695435,
          1.4444514742101608,
          0.5199934355825633,
          0.4272032592540528,
          1.5221267995001475,
          1.67044085126682,
          0.48249492778640146,
          0.7356127789577247,
          0.5428700016860011,
          0.6676076018831808,
          0.89492625667315,
          0.640417054225322,
          0.8392593158510155,
          0.4757596870725421,
          0.9586963090263751,
          0.6279265034722449,
          1.3326469723843495,
          0.7747744101754477,
          0.49088291998627587,
          1.0854901732476112,
          0.8092148362176,
          0.7316428800228285,
          0.5751842881768484,
          0.6109632614791015,
          1.2259516273755913,
          1.1693552899638282,
          0.6388722442424422,
          0.8833532671588129,
          0.9598639450626917,
          0.944875348314948,
          0.908788590713665,
          0.992725366205488,
          0.9641523966812909,
          0.9893963889739623,
          0.9011608953709154,
          0.9572976337904906,
          1.1339695481732963,
          1.146285126723065,
          0.8795296386997385,
          0.9813158513032311,
          0.8318823561901079,
          0.9067847084252276,
          1.0449241330875536,
          1.095935497481734,
          0.9277334244554719,
          0.9477135229472718,
          1.005523315312406,
          0.8229128740482359,
          0.9210540726687203,
          0.9167901616701002,
          1.0218812117839753,
          1.068896969667437,
          0.7516446189771182,
          1.0869041334832383,
          1.11859551538981,
          0.6907410002396892,
          0.9823156306989638,
          0.9570394873294612,
          0.9948938895169671,
          0.9237205853563014,
          1.0503753928269095,
          0.8871907902789026,
          0.9857934688837352,
          0.9609833724190374,
          0.9854252879619658,
          0.9889305256929452,
          0.9955081549864552,
          0.9923382604701115,
          0.9964153178269085,
          1.0048300274777717,
          1.0269040855615956,
          1.0199768176667938,
          0.915848790719441,
          1.0459011210116362,
          1.0400734362741413,
          1.0663369811797285,
          1.0658994620499818,
          1.0628017924306545,
          1.1169621206745868,
          0.9708684599494513,
          1.1360868553545145,
          1.0983040517202485,
          0.8202747364964844,
          1.1649062335877152,
          1.1843738908815455,
          1.1948128323281304,
          0.9269766275731128,
          1.2579293120663337,
          1.194643295284046,
          0.5842923185571725,
          1.3010349354222708,
          1.3270324837161092,
          0.9095291429384824,
          0.7219864667334396,
          1.0844212713048376,
          0.5536361408014743,
          0.7553939629407924,
          1.227226029818952,
          1.3570775989149026,
          1.4781027938777458,
          0.4674369491235709,
          0.9719794279147812,
          1.0500576529110734,
          0.6543059353716102,
          0.3824938838357125,
          0.49246249822669075,
          1.0664094500022967,
          0.39785464562381423,
          1.2995359435646399,
          0.34183419339611165,
          1.3290936168404601,
          1.3149692377670188,
          1.5358904479748914,
          0.9665580159663452,
          0.8158918236265446,
          0.9175746526424463,
          1.0241067182539259,
          0.7831549171950011,
          0.875491653738129,
          0.795646951786647,
          0.9695614174709534,
          0.9504999685772799,
          0.7593644328191391,
          0.7566532596578682,
          0.7650629318224741,
          1.150367251441125,
          1.2028842190108107,
          1.1161017102315913,
          0.6058423688981938,
          0.9066599462338054,
          0.6748662977222304,
          0.8972308755343937,
          0.8055019424794452,
          0.4387286661276093,
          1.1334303971635766,
          0.7411501363550108,
          0.9506463409811798,
          1.348902551538416,
          1.2642790496902387,
          1.565970784898258,
          1.4138064198012807,
          0.8140569931263733,
          0.5687504692810931,
          0.7376892688826713,
          0.6523697635990153,
          0.7724864940427489,
          1.2874698853734543,
          0.5733316422990051,
          0.6941905048546245,
          1.0294825163434924,
          1.1355827858595076,
          1.1878555671703175,
          1.40003822518366,
          1.8105974413244836,
          1.885147283756457,
          1.5302157514422623
         ],
         "y": [
          -33.75,
          -10,
          -100,
          -142.5,
          -110,
          -31.5625,
          -180,
          -222.5,
          -190,
          -270,
          -266.25,
          -211.875,
          -81.71875,
          -322.5,
          -164.609375,
          -392.5,
          -370,
          -432.5,
          -480,
          -530,
          -490,
          -446.25,
          -642.5,
          -620,
          -636.875,
          -600,
          -563.75,
          -596.484375,
          -477.1875,
          -386.875,
          -730,
          -790,
          -820,
          -786.25,
          -760,
          -860,
          -930,
          -970,
          -940,
          -902.5,
          -931.25,
          -870,
          -1030,
          -1037.5,
          -920.3125,
          -784.0625,
          -737.5,
          -1072.5,
          -810.5859375,
          -1170,
          -1150,
          -1122.5,
          -1220,
          -1216.25,
          -1143.75,
          -948.41796875,
          -1280,
          -1260,
          -1067.802734375,
          -475.107421875,
          -1320,
          -1350,
          -1390,
          -1386.25,
          -1357.5,
          -1327.5,
          -1440,
          -1480,
          -1450,
          -1530,
          -1470,
          -1560,
          -1600,
          -1570,
          -1680,
          -1660,
          -1640,
          -1710,
          -1656.875,
          -1590,
          -1740,
          -1810,
          -1817.5,
          -1850,
          -1900,
          -1860,
          -1826.25,
          -1782.5,
          -1960,
          -1932.5,
          -1817.34375,
          -1750,
          -2050,
          -2022.5,
          -2110,
          -2090,
          -2041.25,
          -2072.5,
          -2200,
          -2180,
          -2193.75,
          -2160,
          -2250,
          -2292.5,
          -2260,
          -2185.9375,
          -2340,
          -2234.53125,
          -2106.25,
          -2380,
          -2422.5,
          -2520,
          -2530,
          -2500,
          -2522.5,
          -2600,
          -2642.5,
          -2700,
          -2696.25,
          -2760,
          -2810,
          -2790,
          -2756.25,
          -2780,
          -2810,
          -2713.125,
          -2880,
          -2774.0625,
          -2656.25,
          -2744.140625,
          -2610,
          -2551.25,
          -2636.142578125,
          -2472.5,
          -2630.28564453125,
          -2436.25,
          -2980,
          -2615.6964111328125,
          -2390,
          -2199.2578125,
          -1992.5,
          -2195.248603820801,
          -1816.8359375,
          -3050,
          -2214.7301197052,
          -1638.59375,
          -3110,
          -3090,
          -3105,
          -3170,
          -3177.5,
          -3127.5,
          -2137.9794049263,
          -1498.125,
          -3280,
          -3252.5,
          -3270,
          -3222.5,
          -3330,
          -3370,
          -3340,
          -3410,
          -3360,
          -3450,
          -3390,
          -3256.25,
          -2073.088601231575,
          -3482.5,
          -3560,
          -3532.5,
          -3496.25,
          -3630,
          -3610,
          -3660,
          -3670,
          -3623.75,
          -3590,
          -3742.5,
          -3720,
          -3622.1875,
          -3679.53125,
          -3523.125,
          -3830,
          -3802.5,
          -3880,
          -3910,
          -3887.5,
          -3860,
          -3820,
          -3950,
          -3957.5,
          -3850.9375,
          -3626.4453125,
          -2706.5443006157875,
          -1353.90625,
          -4052.5,
          -4030,
          -4002.5,
          -4120,
          -4092.5,
          -4024.6875,
          -4170,
          -4150,
          -4163.75,
          -4181.875,
          -4202.1875,
          -4067.34375,
          -2295.625332966447,
          -823.25439453125,
          -250.4296875
         ]
        },
        {
         "hoverinfo": "text",
         "hovertext": [
          "war_economy_economic_gdp_affect",
          "economy_war_economic_macroeconomic_gdp",
          "pandemic_illness_war_crisis_viral",
          "pandemic_covid_illness_war_crisis",
          "pandemic_crisis_war_coronavirus_recession",
          "uncertainty_uncertain_hesitant_confident_reliable",
          "inflation_inflationary_interest_macroeconomic_recession",
          "inflation_inflationary_interest_macroeconomic_recession",
          "inflation_inflationary_recession_macroeconomic_interest",
          "covid_pandemic_coronavirus_war_crisis",
          "logistics_supplier_supply_chain_inventory",
          "logistics_shortage_supply_disruption_chain",
          "inflation_inflationary_economy_austerity_economic",
          "consumer_sentiment_postwar_economy_demand",
          "consumer_sentiment_demand_war_austerity",
          "inflation_supply_inflationary_shortage_logistics",
          "covid_china_shanghai_pandemic_chinese",
          "lockdown_china_shanghai_chinese_lock",
          "china_lockdown_shanghai_chinese_taiwan",
          "exposure_visibility_transparency_imagery_clear",
          "exposure_visibility_transparency_imagery_clear",
          "risk_riskmatics_afraid_scenario_hazard",
          "provision_provisioning_overlay_risk_equity",
          "credit_loss_finance_mortgage_loans",
          "ratio_consolidate_combine_percentage_loss",
          "insurer_reinsurer_ratio_reinsurance_insurance",
          "financing_insurer_finance_insurance_loan",
          "impairment_impaired_expense_income_asset",
          "impairment_impaired_expense_accounting_income",
          "billion_eur_exposure_million_amount",
          "billion_income_million_revenue_eur",
          "asset_investment_estate_property_value",
          "billion_income_revenue_million_amount",
          "billion_income_million_equity_amount",
          "airline_lease_leasing_aircraft_carrier",
          "lease_airline_leasing_aircraft_rent",
          "impairment_impaired_asset_depreciation_valuation",
          "impairment_impaired_income_asset_insurance",
          "gaap_earnings_accounting_amortization_adjustment",
          "ebitda_ebit_ebita_leverage_margins",
          "ebitda_ebit_ebita_margins_margin",
          "ebitda_ebit_ebita_amortization_earnings",
          "outlook_sale_distributor_revise_business",
          "quarter_impact_minute_offense_war",
          "sorting_sort_order_seasonality_guide",
          "guidance_guide_advice_include_direct",
          "offset_guidance_negative_lower_advice",
          "sorting_sort_order_guide_17th",
          "q2_q1_q3_q4_qsr",
          "sort_order_offset_line_number",
          "expect_expectation_forecast_start_profit",
          "suspension_filtration_separation_operation_revenue",
          "ebitda_ebit_earnings_revenue_income",
          "revenue_profit_financial_advertising_million",
          "sale_sell_buy_buyout_profit",
          "revenue_profit_income_business_sale",
          "volume_decrease_decline_drain_mute",
          "organic_organically_growth_exclude_grow",
          "organic_growth_organically_revenue_exclude",
          "organic_growth_organically_revenue_exclude",
          "currency_consumption_growth_revenue_pricing",
          "arr_growth_currency_fiscal_revenue",
          "growth_organic_organically_revenue_exclude",
          "covid_china_headwind_growth_estimate",
          "headwind_tailwind_congestion_atmosphere_conflict",
          "headwind_fx_tailwind_impact_exchange",
          "earnings_revenue_ebit_decline_growth",
          "petroleum_refinery_crude_oil_refiner",
          "barrel_production_announce_500000_million",
          "petroleum_oil_refinery_opec_crude",
          "petroleum_diesel_oil_crude_refinery",
          "exit_exiting_exited_terminating_leave",
          "shipment_ship_shipping_delivery_deliver",
          "suspend_suspending_suspension_pause_halt",
          "export_exporting_exporter_external_send",
          "export_exporting_exporter_production_cargo",
          "port_harbor_vessel_ship_sea",
          "tire_tyre_supplier_supply_carbon",
          "grain_exporter_trading_market_sea",
          "airspace_closure_overflight_interfere_flight",
          "airspace_closure_overflight_flight_airline",
          "omicron_easter_holiday_christmas_october",
          "airspace_closure_overflight_flight_airline",
          "sanction_sanctioning_compliance_sanctioned_regulation",
          "kfc_franchise_franchisee_gaap_transfer",
          "subsidiary_multinational_company_corporate_shareholder",
          "belarus_belarusian_country_region_company",
          "belarus_belarusian_sale_country_region",
          "belarus_belarusian_subsidiary_region_covid",
          "belarus_belarusian_subsidiary_region_acquire",
          "cash_debit_payment_invest_asset",
          "dividend_ruble_divide_depreciation_shareholder",
          "dividend_payment_depreciation_debt_cash",
          "belarus_belarusian_subsidiary_asset_region",
          "talk_conversation_speak_discuss_chat",
          "pricing_cost_increase_price_dollar",
          "gmv_marketplace_retailer_advertising_consumer",
          "gmv_marketplace_advertising_consumer_revenue",
          "lady_gentleman_war_militarily_military",
          "titanium_supplier_vendor_procurement_feedstock",
          "demand_retail_fms_imbalance_excess",
          "plant_planting_verallia_species_production",
          "gold_kazakhstan_sell_silver_kazakhstanian",
          "gold_sell_market_silver_ship",
          "wood_lumber_timber_sawmill_firewood",
          "coal_market_demand_gas_pricing",
          "tanker_fleet_oilfield_gulfstream_suezmax",
          "coal_market_pricing_demand_gas",
          "coal_market_demand_gas_sourcing",
          "wheat_maize_agriculture_agricultural_corn",
          "wheat_maize_corn_agricultural_agriculture",
          "coal_demand_market_gas_supply",
          "brazil_fda_pharma_japan_argentina",
          "revenue_business_heritage_retail_commercialization",
          "carlsberg_shareholder_leave_production_profit",
          "topic_discuss_topical_war_idea",
          "number_mathematical_calculation_count_probability",
          "come_get_way_go_let",
          "number_recession_mathematical_count_calculation",
          "touch_hand_bit_let_sensitivity",
          "capacity_utilization_throughput_limitation_resource",
          "moscow_petersburg_st_odessa_kyiv",
          "presence_experience_operational_effect_self",
          "taiwan_china_nato_concern_neutrality",
          "rebuild_reconstruction_redevelopment_iraq_restoration",
          "capex_capexe_investment_nca_capital",
          "diamond_retailer_produce_purchase_purchaser",
          "diamond_retailer_produce_purchaser_buy",
          "moment_event_operation_continue_crisis",
          "kiev_ukrainian_traffic_geography_border",
          "capex_capexe_investment_accounting_maintenance",
          "withdraw_withdrawal_dea_abandon_terminate",
          "withdraw_withdrawal_abandon_dea_operation",
          "withdraw_withdrawal_operation_putin_exit",
          "position_move_positioning_location_direction",
          "withdraw_withdrawal_exit_operation_dea",
          "backlog_mention_decline_rebuild_say",
          "mhp_poultry_livestock_utilization_logistics",
          "backlog_recession_roughly_utilization_rebuild",
          "patient_clinical_medical_doctor_medicine",
          "clinical_patient_trial_treatment_study",
          "stand_support_group_continue_people",
          "stand_support_stance_rallying_continue",
          "stand_solidarity_support_rallying_people",
          "clinical_patient_study_treatment_trial",
          "trial_clinical_patient_treatment_fda",
          "coal_china_supplier_demand_production",
          "store_retailer_shop_retail_shopping",
          "coal_demand_tanker_increase_supply",
          "romania_romanian_bulgaria_hungary_international",
          "romania_romanian_bulgaria_international_poland",
          "belarus_belarusian_coal_kazakhstan_supplier",
          "cybersecurity_cyberwarfare_cyberattack_cybercrime_cyber",
          "cybersecurity_cybercrime_cyberattack_cyber_security",
          "condemn_denounce_invasion_condemnation_defend",
          "uranium_reactor_nuclear_enrichment_isotope",
          "uranium_nuclear_reactor_enrichment_isotope",
          "uranium_nuclear_reactor_enrichment_fuel",
          "belarus_belarusian_export_kazakhstan_production",
          "europe_eurasia_european_eu_asia",
          "energy_renewable_electricity_europe_demand",
          "gas_fuel_supply_natural_supplies",
          "pipeline_lng_pipe_piping_pipelife",
          "gas_fuel_demand_europe_lng",
          "wiring_harness_wire_electrical_cable",
          "aluminium_aluminum_alumina_al_alcoa",
          "aluminium_aluminum_alumina_al_copper",
          "pig_iron_ferrous_steel_steelmaker",
          "pig_iron_ferrous_steelmaking_steel",
          "raw_commodity_material_sourcing_resin",
          "steel_alloy_manufacturing_raw_factory",
          "europe_fuel_gas_eu_demand",
          "case_situation_consider_circumstance_war",
          "situation_circumstance_relationship_happen_difficult",
          "watch_event_witness_unfold_scenario",
          "crisis_impact_turmoil_risk_dramatically",
          "crisis_impact_scenario_situation_event",
          "impact_business_effect_affect_industry",
          "impact_impacting_effect_hit_drop",
          "buy_purchase_sell_buyer_sale",
          "market_marketplace_sell_sale_buy",
          "impact_impacting_effect_war_affect",
          "conflict_complication_discussion_issue_ongoing",
          "conflict_confliction_competitor_ongoing_attacker",
          "conflict_confliction_situation_issue_competitor",
          "small_tiny_little_size_large",
          "business_industry_company_market_impact",
          "respect_currency_mean_range_problem",
          "question_think_thought_answer_ask",
          "happen_go_know_gofore_come",
          "happen_go_know_gofore_think",
          "war_wars_start_beginning_begin",
          "war_start_beginning_begin_starting",
          "slide_presentation_pull_effect_flow",
          "slide_presentation_flip_update_pull",
          "slide_presentation_turn_pull_conference",
          "slide_presentation_turn_update_let",
          "coal_demand_crisis_fuel_gas",
          "ukrainian_crimea_war_conflict_crisis",
          "employee_employer_employment_employ_personnel",
          "employee_employer_personnel_colleague_employment",
          "safety_employee_priority_personnel_colleague",
          "refugee_refugees_humanitarian_migrant_asylum",
          "poland_warsaw_romania_hungary_slovakia",
          "donation_charity_donate_aid_humanitarian",
          "tragedy_tragic_devastation_occur_tragically",
          "peace_peacefully_peaceful_ceasefire_hopeful",
          "thought_think_people_opinion_anybody",
          "prayer_prayerful_pray_belief_thought",
          "heart_people_everybody_sympathy_life",
          "prayer_pray_compassion_peace_thought",
          "family_colleague_employee_staff_organization",
          "coal_fuel_demand_oil_gas",
          "market_coal_crisis_gas_revenue"
         ],
         "marker": {
          "color": "black"
         },
         "mode": "markers",
         "showlegend": false,
         "type": "scatter",
         "x": [
          0.7700016273477062,
          0.8579022895498486,
          0.6876276414921998,
          0.8545393928163039,
          1.140370863476728,
          0.5193628515075772,
          0.5969382956150321,
          0.875437728879516,
          1.124922736965156,
          0.6650236505645091,
          0.4254533755445459,
          0.8297765656830104,
          0.773973900575057,
          0.5707985914486613,
          1.0856216301008643,
          1.2456754931385008,
          0.4126310142400629,
          0.5260362260992018,
          0.6362505373526506,
          0.4637068938533905,
          0.7351544559578062,
          0.74248564259549,
          0.6608352036410984,
          0.5195772059900104,
          0.912909873288948,
          0.9605605342750456,
          1.2187269770452913,
          0.5777512346951443,
          0.7724119694250585,
          0.6774257523842325,
          0.8047257173533572,
          0.6530177949216771,
          1.0891451216448491,
          1.146621706442578,
          0.469116376552013,
          0.715620478955235,
          1.4301802948189484,
          1.468731446230655,
          0.803463919839384,
          0.6762402245250496,
          1.0315007358678585,
          1.1359452075024083,
          0.7317124486193443,
          0.7377544948244963,
          0.8958942011026875,
          0.8587184616217184,
          1.0082609715954711,
          1.0321114522913852,
          0.6261292416987017,
          1.174651116856773,
          0.8677617160247864,
          1.2052508308387693,
          1.3570687212862609,
          0.5704934552048699,
          0.6977978978754866,
          0.9211555060622217,
          0.5334210156882457,
          0.8548754391064347,
          0.8906816480489597,
          1.0033996504588,
          0.7887948249282226,
          0.9447119043074738,
          1.2569257824086695,
          0.5768821484825271,
          0.7521314477254483,
          1.030093999390833,
          1.6330654849257527,
          0.6243157908569366,
          0.6310885882212893,
          1.0711429313900152,
          1.1939245940522432,
          0.41264334758912435,
          0.6014652343880331,
          1.0260334170843708,
          0.737653259454457,
          0.7759809559588515,
          0.7751821923931623,
          0.8324317353135129,
          1.1219938007877222,
          0.9811812511231554,
          1.0352860963095227,
          0.908835019851846,
          1.3034444201785829,
          0.6095095329708218,
          0.7745441638133633,
          0.9189940003707069,
          0.9324192369135175,
          0.9811422095414292,
          1.0262725500712935,
          1.0467345956548098,
          0.8703595084214703,
          0.9425088745067554,
          1.0068159983211977,
          1.162600144103542,
          0.6702991935926859,
          0.8698039977332315,
          0.927088588417234,
          1.01744152088449,
          0.9562341765228031,
          1.0572369365834182,
          0.7761269919174762,
          0.9620390408390681,
          0.9114598200446339,
          1.05028965845416,
          0.8295737368543586,
          0.8779224218836476,
          0.9503144595218083,
          1.015675825109929,
          1.074988535865718,
          0.8650648394637939,
          1.067716501249596,
          1.1536525594434752,
          0.6790717221154539,
          0.8163052927166086,
          0.8550646891269804,
          0.794737416808464,
          0.912618773904718,
          0.9347584329372092,
          1.0310850502126325,
          0.8863086478140932,
          0.8490778347140008,
          0.9265321790230098,
          0.9292001775753518,
          0.9758769420269776,
          0.9497502624560376,
          0.9932990726334493,
          0.9967153271820692,
          0.9983674852510849,
          0.9459653862687286,
          0.9393188274024731,
          1.0354369340879412,
          0.9694342703458818,
          1.0141372929555237,
          1.0572301972440983,
          0.8749438979095011,
          1.0724382260361764,
          1.0991255834338536,
          0.8179329344651175,
          1.1310064508704907,
          0.7977333628440272,
          1.1431191565007277,
          0.9000369405895157,
          0.9150387819292598,
          1.0593844812269733,
          1.190425098425558,
          1.230716949764252,
          1.2461178849481969,
          0.5487638222912481,
          1.2860992551805233,
          0.513384695058424,
          1.2270246917191567,
          1.325684312793509,
          0.8256917625536696,
          1.0390859678762323,
          0.4533099396000845,
          0.8159766942946556,
          1.0289226952700905,
          1.3390121253908571,
          1.4002511665859931,
          0.5207269522374824,
          0.6761483402032555,
          0.8081450813665076,
          0.6333565011516917,
          1.1502720065982655,
          0.8422966284986779,
          0.7969867683075907,
          1.1277272813705415,
          0.6260871245536304,
          1.187213927090412,
          0.6152445666386624,
          1.416076803417792,
          1.5343689342871385,
          0.9031829076300761,
          0.8351237029120848,
          0.8664609850684317,
          0.9550192904790704,
          1.006377576285857,
          0.8342672714681625,
          0.7432026515040135,
          0.8414899779718346,
          1.0466713022717975,
          1.094877824222231,
          0.7334230896932972,
          0.8802312392437698,
          1.065093465743889,
          0.5576349826865337,
          1.2413798578943152,
          0.8361698097517477,
          0.7472481863178365,
          0.694526951990176,
          1.010227559887438,
          1.1922766409547374,
          1.2432872454025115,
          0.2788455602965707,
          1.1362509961769711,
          1.4137695949479054,
          1.4507020332823441,
          1.5991525087073073,
          0.5926432629696554,
          0.7474516139354068,
          0.9133842818381134,
          0.9979979900539128,
          0.5039665807805159,
          0.7006479794788543,
          1.1154338348551722,
          0.874747826217269,
          0.6427197652514345,
          0.5924144546513787,
          0.7654472014640886,
          0.1828817122341746,
          1.313427518653206,
          1.6389793849795729,
          1.936319212662763,
          2.2174336074795544
         ],
         "y": [
          -50,
          -42.5,
          -80,
          -72.5,
          -53.125,
          -120,
          -150,
          -153.75,
          -131.875,
          -200,
          -230,
          -233.75,
          -277.5,
          -300,
          -283.125,
          -247.5,
          -330,
          -350,
          -336.25,
          -400,
          -403.75,
          -440,
          -460,
          -500,
          -537.5,
          -526.25,
          -508.125,
          -580,
          -572.5,
          -650,
          -653.75,
          -680,
          -658.4375,
          -629.21875,
          -710,
          -702.5,
          -649.4921875,
          -563.33984375,
          -797.5,
          -840,
          -830,
          -808.125,
          -880,
          -910,
          -950,
          -990,
          -980,
          -960,
          -1010,
          -970.625,
          -1046.25,
          -983.28125,
          -883.671875,
          -1080,
          -1100,
          -1086.25,
          -1130,
          -1190,
          -1180,
          -1165,
          -1227.5,
          -1230.625,
          -1187.1875,
          -1300,
          -1290,
          -1275,
          -1171.4013671875,
          -1397.5,
          -1420,
          -1403.125,
          -1380.3125,
          -1460,
          -1500,
          -1490,
          -1537.5,
          -1526.25,
          -1580,
          -1620,
          -1610,
          -1687.5,
          -1673.75,
          -1717.5,
          -1687.1875,
          -1760,
          -1790,
          -1870,
          -1907.5,
          -1896.25,
          -1878.125,
          -1852.1875,
          -1940,
          -1967.5,
          -1950,
          -1883.671875,
          -2000,
          -2030,
          -2070,
          -2060,
          -2117.5,
          -2103.75,
          -2140,
          -2207.5,
          -2230,
          -2211.875,
          -2270,
          -2300,
          -2320,
          -2306.25,
          -2283.125,
          -2360,
          -2350,
          -2292.265625,
          -2400,
          -2430,
          -2450,
          -2480,
          -2540,
          -2560,
          -2545,
          -2580,
          -2620,
          -2650,
          -2670,
          -2707.5,
          -2730,
          -2767.5,
          -2817.5,
          -2803.75,
          -2840,
          -2860,
          -2835,
          -2900,
          -2890,
          -2832.03125,
          -2920,
          -2832.0703125,
          -2721.03515625,
          -2940,
          -2788.0712890625,
          -2960,
          -2795.142822265625,
          -3010,
          -3002.5,
          -2991.25,
          -2803.4732055664062,
          -2596.736602783203,
          -2397.9972076416016,
          -3030,
          -2612.6243019104004,
          -3070,
          -3060,
          -2637.3650598526,
          -3130,
          -3120,
          -3150,
          -3200,
          -3188.75,
          -3158.125,
          -2648.05220246315,
          -3230,
          -3260,
          -3287.5,
          -3310,
          -3290,
          -3350,
          -3390,
          -3380,
          -3430,
          -3420,
          -3457.5,
          -3423.75,
          -3340,
          -3490,
          -3510,
          -3540,
          -3567.5,
          -3550,
          -3637.5,
          -3680,
          -3700,
          -3685,
          -3654.375,
          -3750,
          -3753.75,
          -3736.875,
          -3780,
          -3729.765625,
          -3810,
          -3837.5,
          -3930,
          -3920,
          -3903.75,
          -3881.875,
          -3980,
          -3968.75,
          -3909.84375,
          -3768.14453125,
          -3237.3444159328938,
          -4010,
          -4060,
          -4063.75,
          -4046.875,
          -4100,
          -4127.5,
          -4110,
          -4177.5,
          -4200,
          -4230,
          -4222.5,
          -4250,
          -4226.09375,
          -4146.71875,
          -3221.1720414832234,
          -2022.2132180072367
         ]
        }
       ],
       "layout": {
        "autosize": false,
        "height": 6590,
        "hoverlabel": {
         "bgcolor": "white",
         "font": {
          "family": "Rockwell",
          "size": 16
         }
        },
        "hovermode": "closest",
        "plot_bgcolor": "#ECEFF1",
        "showlegend": false,
        "template": {
         "data": {
          "bar": [
           {
            "error_x": {
             "color": "#2a3f5f"
            },
            "error_y": {
             "color": "#2a3f5f"
            },
            "marker": {
             "line": {
              "color": "white",
              "width": 0.5
             },
             "pattern": {
              "fillmode": "overlay",
              "size": 10,
              "solidity": 0.2
             }
            },
            "type": "bar"
           }
          ],
          "barpolar": [
           {
            "marker": {
             "line": {
              "color": "white",
              "width": 0.5
             },
             "pattern": {
              "fillmode": "overlay",
              "size": 10,
              "solidity": 0.2
             }
            },
            "type": "barpolar"
           }
          ],
          "carpet": [
           {
            "aaxis": {
             "endlinecolor": "#2a3f5f",
             "gridcolor": "#C8D4E3",
             "linecolor": "#C8D4E3",
             "minorgridcolor": "#C8D4E3",
             "startlinecolor": "#2a3f5f"
            },
            "baxis": {
             "endlinecolor": "#2a3f5f",
             "gridcolor": "#C8D4E3",
             "linecolor": "#C8D4E3",
             "minorgridcolor": "#C8D4E3",
             "startlinecolor": "#2a3f5f"
            },
            "type": "carpet"
           }
          ],
          "choropleth": [
           {
            "colorbar": {
             "outlinewidth": 0,
             "ticks": ""
            },
            "type": "choropleth"
           }
          ],
          "contour": [
           {
            "colorbar": {
             "outlinewidth": 0,
             "ticks": ""
            },
            "colorscale": [
             [
              0,
              "#0d0887"
             ],
             [
              0.1111111111111111,
              "#46039f"
             ],
             [
              0.2222222222222222,
              "#7201a8"
             ],
             [
              0.3333333333333333,
              "#9c179e"
             ],
             [
              0.4444444444444444,
              "#bd3786"
             ],
             [
              0.5555555555555556,
              "#d8576b"
             ],
             [
              0.6666666666666666,
              "#ed7953"
             ],
             [
              0.7777777777777778,
              "#fb9f3a"
             ],
             [
              0.8888888888888888,
              "#fdca26"
             ],
             [
              1,
              "#f0f921"
             ]
            ],
            "type": "contour"
           }
          ],
          "contourcarpet": [
           {
            "colorbar": {
             "outlinewidth": 0,
             "ticks": ""
            },
            "type": "contourcarpet"
           }
          ],
          "heatmap": [
           {
            "colorbar": {
             "outlinewidth": 0,
             "ticks": ""
            },
            "colorscale": [
             [
              0,
              "#0d0887"
             ],
             [
              0.1111111111111111,
              "#46039f"
             ],
             [
              0.2222222222222222,
              "#7201a8"
             ],
             [
              0.3333333333333333,
              "#9c179e"
             ],
             [
              0.4444444444444444,
              "#bd3786"
             ],
             [
              0.5555555555555556,
              "#d8576b"
             ],
             [
              0.6666666666666666,
              "#ed7953"
             ],
             [
              0.7777777777777778,
              "#fb9f3a"
             ],
             [
              0.8888888888888888,
              "#fdca26"
             ],
             [
              1,
              "#f0f921"
             ]
            ],
            "type": "heatmap"
           }
          ],
          "heatmapgl": [
           {
            "colorbar": {
             "outlinewidth": 0,
             "ticks": ""
            },
            "colorscale": [
             [
              0,
              "#0d0887"
             ],
             [
              0.1111111111111111,
              "#46039f"
             ],
             [
              0.2222222222222222,
              "#7201a8"
             ],
             [
              0.3333333333333333,
              "#9c179e"
             ],
             [
              0.4444444444444444,
              "#bd3786"
             ],
             [
              0.5555555555555556,
              "#d8576b"
             ],
             [
              0.6666666666666666,
              "#ed7953"
             ],
             [
              0.7777777777777778,
              "#fb9f3a"
             ],
             [
              0.8888888888888888,
              "#fdca26"
             ],
             [
              1,
              "#f0f921"
             ]
            ],
            "type": "heatmapgl"
           }
          ],
          "histogram": [
           {
            "marker": {
             "pattern": {
              "fillmode": "overlay",
              "size": 10,
              "solidity": 0.2
             }
            },
            "type": "histogram"
           }
          ],
          "histogram2d": [
           {
            "colorbar": {
             "outlinewidth": 0,
             "ticks": ""
            },
            "colorscale": [
             [
              0,
              "#0d0887"
             ],
             [
              0.1111111111111111,
              "#46039f"
             ],
             [
              0.2222222222222222,
              "#7201a8"
             ],
             [
              0.3333333333333333,
              "#9c179e"
             ],
             [
              0.4444444444444444,
              "#bd3786"
             ],
             [
              0.5555555555555556,
              "#d8576b"
             ],
             [
              0.6666666666666666,
              "#ed7953"
             ],
             [
              0.7777777777777778,
              "#fb9f3a"
             ],
             [
              0.8888888888888888,
              "#fdca26"
             ],
             [
              1,
              "#f0f921"
             ]
            ],
            "type": "histogram2d"
           }
          ],
          "histogram2dcontour": [
           {
            "colorbar": {
             "outlinewidth": 0,
             "ticks": ""
            },
            "colorscale": [
             [
              0,
              "#0d0887"
             ],
             [
              0.1111111111111111,
              "#46039f"
             ],
             [
              0.2222222222222222,
              "#7201a8"
             ],
             [
              0.3333333333333333,
              "#9c179e"
             ],
             [
              0.4444444444444444,
              "#bd3786"
             ],
             [
              0.5555555555555556,
              "#d8576b"
             ],
             [
              0.6666666666666666,
              "#ed7953"
             ],
             [
              0.7777777777777778,
              "#fb9f3a"
             ],
             [
              0.8888888888888888,
              "#fdca26"
             ],
             [
              1,
              "#f0f921"
             ]
            ],
            "type": "histogram2dcontour"
           }
          ],
          "mesh3d": [
           {
            "colorbar": {
             "outlinewidth": 0,
             "ticks": ""
            },
            "type": "mesh3d"
           }
          ],
          "parcoords": [
           {
            "line": {
             "colorbar": {
              "outlinewidth": 0,
              "ticks": ""
             }
            },
            "type": "parcoords"
           }
          ],
          "pie": [
           {
            "automargin": true,
            "type": "pie"
           }
          ],
          "scatter": [
           {
            "fillpattern": {
             "fillmode": "overlay",
             "size": 10,
             "solidity": 0.2
            },
            "type": "scatter"
           }
          ],
          "scatter3d": [
           {
            "line": {
             "colorbar": {
              "outlinewidth": 0,
              "ticks": ""
             }
            },
            "marker": {
             "colorbar": {
              "outlinewidth": 0,
              "ticks": ""
             }
            },
            "type": "scatter3d"
           }
          ],
          "scattercarpet": [
           {
            "marker": {
             "colorbar": {
              "outlinewidth": 0,
              "ticks": ""
             }
            },
            "type": "scattercarpet"
           }
          ],
          "scattergeo": [
           {
            "marker": {
             "colorbar": {
              "outlinewidth": 0,
              "ticks": ""
             }
            },
            "type": "scattergeo"
           }
          ],
          "scattergl": [
           {
            "marker": {
             "colorbar": {
              "outlinewidth": 0,
              "ticks": ""
             }
            },
            "type": "scattergl"
           }
          ],
          "scattermapbox": [
           {
            "marker": {
             "colorbar": {
              "outlinewidth": 0,
              "ticks": ""
             }
            },
            "type": "scattermapbox"
           }
          ],
          "scatterpolar": [
           {
            "marker": {
             "colorbar": {
              "outlinewidth": 0,
              "ticks": ""
             }
            },
            "type": "scatterpolar"
           }
          ],
          "scatterpolargl": [
           {
            "marker": {
             "colorbar": {
              "outlinewidth": 0,
              "ticks": ""
             }
            },
            "type": "scatterpolargl"
           }
          ],
          "scatterternary": [
           {
            "marker": {
             "colorbar": {
              "outlinewidth": 0,
              "ticks": ""
             }
            },
            "type": "scatterternary"
           }
          ],
          "surface": [
           {
            "colorbar": {
             "outlinewidth": 0,
             "ticks": ""
            },
            "colorscale": [
             [
              0,
              "#0d0887"
             ],
             [
              0.1111111111111111,
              "#46039f"
             ],
             [
              0.2222222222222222,
              "#7201a8"
             ],
             [
              0.3333333333333333,
              "#9c179e"
             ],
             [
              0.4444444444444444,
              "#bd3786"
             ],
             [
              0.5555555555555556,
              "#d8576b"
             ],
             [
              0.6666666666666666,
              "#ed7953"
             ],
             [
              0.7777777777777778,
              "#fb9f3a"
             ],
             [
              0.8888888888888888,
              "#fdca26"
             ],
             [
              1,
              "#f0f921"
             ]
            ],
            "type": "surface"
           }
          ],
          "table": [
           {
            "cells": {
             "fill": {
              "color": "#EBF0F8"
             },
             "line": {
              "color": "white"
             }
            },
            "header": {
             "fill": {
              "color": "#C8D4E3"
             },
             "line": {
              "color": "white"
             }
            },
            "type": "table"
           }
          ]
         },
         "layout": {
          "annotationdefaults": {
           "arrowcolor": "#2a3f5f",
           "arrowhead": 0,
           "arrowwidth": 1
          },
          "autotypenumbers": "strict",
          "coloraxis": {
           "colorbar": {
            "outlinewidth": 0,
            "ticks": ""
           }
          },
          "colorscale": {
           "diverging": [
            [
             0,
             "#8e0152"
            ],
            [
             0.1,
             "#c51b7d"
            ],
            [
             0.2,
             "#de77ae"
            ],
            [
             0.3,
             "#f1b6da"
            ],
            [
             0.4,
             "#fde0ef"
            ],
            [
             0.5,
             "#f7f7f7"
            ],
            [
             0.6,
             "#e6f5d0"
            ],
            [
             0.7,
             "#b8e186"
            ],
            [
             0.8,
             "#7fbc41"
            ],
            [
             0.9,
             "#4d9221"
            ],
            [
             1,
             "#276419"
            ]
           ],
           "sequential": [
            [
             0,
             "#0d0887"
            ],
            [
             0.1111111111111111,
             "#46039f"
            ],
            [
             0.2222222222222222,
             "#7201a8"
            ],
            [
             0.3333333333333333,
             "#9c179e"
            ],
            [
             0.4444444444444444,
             "#bd3786"
            ],
            [
             0.5555555555555556,
             "#d8576b"
            ],
            [
             0.6666666666666666,
             "#ed7953"
            ],
            [
             0.7777777777777778,
             "#fb9f3a"
            ],
            [
             0.8888888888888888,
             "#fdca26"
            ],
            [
             1,
             "#f0f921"
            ]
           ],
           "sequentialminus": [
            [
             0,
             "#0d0887"
            ],
            [
             0.1111111111111111,
             "#46039f"
            ],
            [
             0.2222222222222222,
             "#7201a8"
            ],
            [
             0.3333333333333333,
             "#9c179e"
            ],
            [
             0.4444444444444444,
             "#bd3786"
            ],
            [
             0.5555555555555556,
             "#d8576b"
            ],
            [
             0.6666666666666666,
             "#ed7953"
            ],
            [
             0.7777777777777778,
             "#fb9f3a"
            ],
            [
             0.8888888888888888,
             "#fdca26"
            ],
            [
             1,
             "#f0f921"
            ]
           ]
          },
          "colorway": [
           "#636efa",
           "#EF553B",
           "#00cc96",
           "#ab63fa",
           "#FFA15A",
           "#19d3f3",
           "#FF6692",
           "#B6E880",
           "#FF97FF",
           "#FECB52"
          ],
          "font": {
           "color": "#2a3f5f"
          },
          "geo": {
           "bgcolor": "white",
           "lakecolor": "white",
           "landcolor": "white",
           "showlakes": true,
           "showland": true,
           "subunitcolor": "#C8D4E3"
          },
          "hoverlabel": {
           "align": "left"
          },
          "hovermode": "closest",
          "mapbox": {
           "style": "light"
          },
          "paper_bgcolor": "white",
          "plot_bgcolor": "white",
          "polar": {
           "angularaxis": {
            "gridcolor": "#EBF0F8",
            "linecolor": "#EBF0F8",
            "ticks": ""
           },
           "bgcolor": "white",
           "radialaxis": {
            "gridcolor": "#EBF0F8",
            "linecolor": "#EBF0F8",
            "ticks": ""
           }
          },
          "scene": {
           "xaxis": {
            "backgroundcolor": "white",
            "gridcolor": "#DFE8F3",
            "gridwidth": 2,
            "linecolor": "#EBF0F8",
            "showbackground": true,
            "ticks": "",
            "zerolinecolor": "#EBF0F8"
           },
           "yaxis": {
            "backgroundcolor": "white",
            "gridcolor": "#DFE8F3",
            "gridwidth": 2,
            "linecolor": "#EBF0F8",
            "showbackground": true,
            "ticks": "",
            "zerolinecolor": "#EBF0F8"
           },
           "zaxis": {
            "backgroundcolor": "white",
            "gridcolor": "#DFE8F3",
            "gridwidth": 2,
            "linecolor": "#EBF0F8",
            "showbackground": true,
            "ticks": "",
            "zerolinecolor": "#EBF0F8"
           }
          },
          "shapedefaults": {
           "line": {
            "color": "#2a3f5f"
           }
          },
          "ternary": {
           "aaxis": {
            "gridcolor": "#DFE8F3",
            "linecolor": "#A2B1C6",
            "ticks": ""
           },
           "baxis": {
            "gridcolor": "#DFE8F3",
            "linecolor": "#A2B1C6",
            "ticks": ""
           },
           "bgcolor": "white",
           "caxis": {
            "gridcolor": "#DFE8F3",
            "linecolor": "#A2B1C6",
            "ticks": ""
           }
          },
          "title": {
           "x": 0.05
          },
          "xaxis": {
           "automargin": true,
           "gridcolor": "#EBF0F8",
           "linecolor": "#EBF0F8",
           "ticks": "",
           "title": {
            "standoff": 15
           },
           "zerolinecolor": "#EBF0F8",
           "zerolinewidth": 2
          },
          "yaxis": {
           "automargin": true,
           "gridcolor": "#EBF0F8",
           "linecolor": "#EBF0F8",
           "ticks": "",
           "title": {
            "standoff": 15
           },
           "zerolinecolor": "#EBF0F8",
           "zerolinewidth": 2
          }
         }
        },
        "title": {
         "font": {
          "color": "Black",
          "size": 22
         },
         "text": "<b>Hierarchical Clustering</b>",
         "x": 0.5,
         "xanchor": "center",
         "yanchor": "top"
        },
        "width": 1000,
        "xaxis": {
         "mirror": "allticks",
         "rangemode": "tozero",
         "showgrid": false,
         "showline": true,
         "showticklabels": true,
         "ticks": "outside",
         "type": "linear",
         "zeroline": false
        },
        "yaxis": {
         "mirror": "allticks",
         "range": [
          -4260,
          0
         ],
         "rangemode": "tozero",
         "showgrid": false,
         "showline": true,
         "showticklabels": true,
         "tickmode": "array",
         "ticks": "outside",
         "ticktext": [
          "424_energy_food_economy",
          "148_foodtech_food_hunger",
          "240_war_euro_europe",
          "414_macroeconomic_economic_...",
          "113_war_economy_gdp",
          "399_invasion_economic_economy",
          "397_macroeconomic_economic_...",
          "55_pandemic_crisis_illness",
          "320_inflation_pandemic_rece...",
          "47_geopolitical_geopolitica...",
          "410_geopolitical_uncertaint...",
          "73_uncertainty_uncertain_un...",
          "92_uncertainty_uncertain_war",
          "319_macroeconomic_debt_macro",
          "96_inflation_inflationary_m...",
          "17_inflation_inflationary_i...",
          "281_interest_asset_market",
          "235_challenge_face_situation",
          "332_inflation_inflationary_...",
          "28_covid_pandemic_coronavirus",
          "122_inflation_inflationary_...",
          "80_inflation_inflationary_m...",
          "2_logistics_supplier_supply",
          "30_covid_pandemic_logistics",
          "398_inflation_inflationary_...",
          "336_inflation_europe_euro",
          "93_inflation_inflationary_i...",
          "19_inflation_inflationary_m...",
          "292_inflation_austerity_eco...",
          "326_inflation_inflationary_...",
          "50_consumer_sentiment_postwar",
          "25_inflation_inflationary_m...",
          "34_covid_china_shanghai",
          "57_covid_china_logistics",
          "107_lockdown_china_shanghai",
          "42_shanghai_lockdown_china",
          "163_client_customer_business",
          "340_exposure_client_asset",
          "187_exposure_europe_indirect",
          "10_exposure_visibility_tran...",
          "137_belarus_exposure_polish",
          "236_exposure_industry_busin...",
          "353_risk_escalation_war",
          "75_risk_riskmatics_scenario",
          "356_risk_gdp_investment",
          "341_risk_overlay_cost",
          "251_provision_provisioning_...",
          "83_loan_loans_lender",
          "367_loan_loans_financial",
          "370_credit_loss_loans",
          "192_credit_finance_valuation",
          "91_reinsurance_insurer_rein...",
          "262_reserve_book_eur",
          "162_ratio_combine_consolidate",
          "392_loss_war_shareholder",
          "110_bond_treasury_bailout",
          "229_goodwill_accounting_dep...",
          "31_impairment_impaired_asset",
          "331_earnings_impairment_acc...",
          "358_chf_quarterly_equity",
          "152_sale_million_sell",
          "158_million_business_dollar",
          "123_sek_sek1_billion",
          "243_income_billion_banking",
          "109_billion_exposure_million",
          "359_billion_million_euro",
          "387_revenue_million_billion",
          "261_asset_million_equity",
          "121_asset_investment_item",
          "238_aircraft_million_billion",
          "104_airline_lease_leasing",
          "228_leasing_lease_depreciat...",
          "394_profitability_revenue_w...",
          "180_wind_unwind_business",
          "418_tk_mining_cost",
          "395_gbp_revenue_million",
          "339_disposal_acquisition_ac...",
          "134_eps_earnings_currency",
          "112_restructuring_expense_a...",
          "178_gaap_earnings_adjustment",
          "335_revenue_expense_income",
          "150_revenue_acquisition_imp...",
          "314_fiscal_growth_revenue",
          "13_ebitda_ebit_ebita",
          "70_margin_margins_income",
          "308_filtration_expense_susp...",
          "135_suspension_suspend_ramp...",
          "346_outlook_impact_exchange",
          "244_outlook_distributor_rev...",
          "407_remember_forget_critical",
          "99_quarter_minute_impact",
          "223_quarter_war_military",
          "345_business_year_annual",
          "74_year_january_september",
          "89_sorting_sort_order",
          "296_expectation_line_expect",
          "259_offset_impact_adjustment",
          "419_deterioration_loss_earn...",
          "194_guidance_guide_advice",
          "401_guidance_policy_backlog",
          "357_q4_q3_q2",
          "185_q3_q2_q4",
          "338_expect_forecast_increme...",
          "128_expectation_expect_earn...",
          "202_expect_expectation_loss",
          "239_war_expect_attack",
          "125_revenue_earnings_growth",
          "51_revenue_business_fiscal",
          "147_revenue_exposure_profit",
          "405_revenue_group_profit",
          "44_sale_sell_buy",
          "425_volume_impact_decrease",
          "68_volume_decrease_decline",
          "362_decline_decrease_volume",
          "117_decline_sale_decrease",
          "333_emea_growth_revenue",
          "241_growth_europe_asia",
          "129_growth_china_decline",
          "32_organic_organically_growth",
          "283_growth_normalize_neglig...",
          "361_currency_sale_increase",
          "295_currency_macroeconomic_...",
          "268_currency_growth_revenue",
          "381_payment_china_fiscal",
          "216_arr_growth_nrr",
          "43_fx_fxn_currency",
          "90_headwind_tailwind_fx",
          "142_headwind_inflation_infl...",
          "101_headwind_tailwind_headc...",
          "237_headwind_china_wind",
          "400_covid_growth_china",
          "344_japan_revenue_profit",
          "298_asia_egypt_india",
          "221_asia_revenue_growth",
          "189_crack_cracker_shortage",
          "108_diesel_petrol_fuel",
          "366_oil_europe_petrol",
          "5_oil_petroleum_geopolitical",
          "65_crude_petroleum_refinery",
          "186_refinery_asia_oil",
          "66_oil_petroleum_refiner",
          "385_barrel_500000_million",
          "374_discount_sale_market",
          "136_sale_sell_wholesale",
          "310_decision_exit_evaluation",
          "64_exit_exiting_exited",
          "138_exit_exiting_exited",
          "230_suspending_suspend_reve...",
          "29_suspend_suspending_suspe...",
          "415_shipment_suspending_del...",
          "39_shipment_delivery_ship",
          "275_exporting_export_cargo",
          "337_exporting_export_business",
          "159_export_exporter_external",
          "421_export_exporting_exporter",
          "330_turnover_drop_business",
          "60_freight_rail_turnover",
          "41_port_vessel_ship",
          "304_seafarer_fleet_ship",
          "167_grain_logistical_bulk",
          "290_grain_sea_seaborne",
          "256_carbon_europe_supplier",
          "233_tire_tyre_supply",
          "315_turkish_turkey_sale",
          "199_turkey_turkish_istanbul",
          "250_aviation_airline_aircraft",
          "420_fly_flight_airline",
          "45_airspace_closure_overfli...",
          "291_flight_inflation_inflat...",
          "403_disruption_disrupt_impact",
          "318_covid_easter_news",
          "307_easter_holiday_christmas",
          "176_omicron_invasion_occur",
          "388_bank_exposure_deposit",
          "14_bank_banking_sberbank",
          "6_sanction_sanctioning_comp...",
          "156_sanction_eu_sanctioned",
          "360_remittance_remit_transfer",
          "215_transfer_ownership_tran...",
          "169_franchisee_restaurant_f...",
          "184_approval_approve_regula...",
          "38_divestment_divest_divest...",
          "234_packaging_goods_shipment",
          "255_strategic_strategical_b...",
          "193_portfolio_asset_trading",
          "157_uniper_curtailment_unipro",
          "276_subsidiary_multinationa...",
          "334_regional_geographically...",
          "404_datum_privacy_estate",
          "56_uncertainty_risk_informa...",
          "0_belarus_belarusian_kazakh...",
          "118_customer_consumer_service",
          "225_balance_sheet_inventory",
          "46_cash_debit_payment",
          "197_capital_capitalized_cap",
          "62_dividend_shareholding_di...",
          "175_debt_loans_finance",
          "37_ruble_rubel_rub",
          "133_speak__",
          "299_war_fight_conflict",
          "81_talk_conversation_speak",
          "36___",
          "188_pricing_price_cost",
          "246_pricing_cost_price",
          "354_surcharge_fuel_gasoline",
          "284_outbreak_war_crisis",
          "253_advertising_advertiser_...",
          "372_gmv_marketplace_automot...",
          "95_supplier_vendor_supply",
          "140_titanium_supplier_engin...",
          "71_volatility_market_volatile",
          "267_market_war_procurement",
          "278_lady_gentleman_war",
          "288_demand_economic_geopoli...",
          "245_demand_market_economy",
          "289_china_chinese_satellite",
          "79_china_korea_india",
          "211_alumina_refinery_alrosa",
          "153_rest_business_corporate",
          "376_market_europe_european",
          "220_western_west_market",
          "132_plant_planting_produce",
          "54_kazakhstan_kazakhstanian...",
          "116_gold_sale_sell",
          "355_border_country_kazakhstan",
          "208_finland_finnish_nordic",
          "18_wood_lumber_timber",
          "386_logistics_inventory_sup...",
          "191_import_importer_tariff",
          "3_coal_market_gas",
          "53_ton_tonne_million",
          "111_tanker_fleet_oilfield",
          "274_dislocation_damage_slide",
          "86_fertilizer_soil_produce",
          "82_fertilizer_ammonia_nitro...",
          "16_wheat_maize_agriculture",
          "248_sunflower_oilseed_oil",
          "363_facility_locate_city",
          "119_factory_manufacturing_m...",
          "224_brazil_argentina_chile",
          "328_fda_pharma_japan",
          "391_chocolate_confectionery...",
          "384_market_brand_marketing",
          "375_revenue_business_heritage",
          "280_carlsberg_shareholder_p...",
          "378_leave_stay_continue",
          "181_cobalt_buy_supply",
          "408_topic_discuss_topical",
          "94_war_implication_broad",
          "350_expose_public_directly",
          "316_consequence_war_conflict",
          "349_recession_crisis_growth",
          "416_think_imagine_behavior",
          "312_country_number_australia",
          "205_number_mathematical_cal...",
          "232_come_way_go",
          "411_maybe_obviously_anybody",
          "311_touch_hand_bit",
          "313_development_develop_build",
          "100_backlog_log_amount",
          "279_build_project_building",
          "347_utilization_demand_main...",
          "200_capacity_utilization_th...",
          "195_brewery_brew_brewing",
          "282_lviv_odessa_kyiv",
          "306_moscow_petersburg_st",
          "210_presence_effect_self",
          "351_highlight_address_cover",
          "155_putin_litvinenko_invade",
          "277_taiwan_asia_geopolitical",
          "170_news_journalist_reuters",
          "263_concern_concerned_aware",
          "412_corona_war_market",
          "294_rebuild_reconstruction_...",
          "305_respirator_headwind_dis...",
          "203_capex_capexe_expenditure",
          "272_rwa_exposure_risk",
          "254_intake_order_appetite",
          "402_vaccinate_vaccination_v...",
          "348_dairy_farm_farming",
          "413_contractor_employee_con...",
          "260_qatar_qataris_arabia",
          "327_diamond_retailer_supply",
          "322_moment_event_operation",
          "321_yes_yeah_oh",
          "324_traffic_outbound_inbound",
          "371_kiev_ukrainian_roma",
          "131_operation_operator_oper...",
          "352_recall_inventory_enterp...",
          "149_withdraw_withdrawal_leave",
          "270_wintershall_dea_facility",
          "271_distract_headline_time",
          "242_move_position_positioning",
          "190_poultry_chicken_livestock",
          "409_mhp_operational_environ...",
          "369_trauma_injury_patient",
          "15_clinical_trial_patient",
          "286_developer_development_e...",
          "201_team_corporate_leadership",
          "165_support_supportive_resp...",
          "389_solidarity_people_group",
          "273_stand_support_turn",
          "146_store_retailer_shop",
          "377_coverage_store_optimizing",
          "217_invest_investment_inves...",
          "379_investment_invest_inves...",
          "342_romania_romanian_produc...",
          "266_bulgaria_romania_intern...",
          "207_nato_allied_alliance",
          "84_militarization_deterrenc...",
          "196_drone_unmanned_uavs",
          "124_missile_artillery_tacti...",
          "40_cybersecurity_cyberwarfa...",
          "213_attack_threat_shocked",
          "85_aggression_violence_aggr...",
          "183_invasion_condemn_denounce",
          "103_invasion_invade_investm...",
          "4_invasion_invade_troops",
          "164_market_investor_invade",
          "329_invasion_invade_pricing",
          "20_uranium_reactor_nuclear",
          "173_europe_european_euro",
          "52_europe_european_asia",
          "9_europe_eu_european",
          "390_heating_heater_heat",
          "1_energy_renewable_electric...",
          "102_fueling_fuel_repowereu",
          "8_gas_europe_eu",
          "24_gas_supply_supplies",
          "423_gas_market_shortage",
          "23_pipeline_lng_pipe",
          "325_lng_lngs_sourcing",
          "368_shortage_covid_china",
          "61_shortage_semiconductor_c...",
          "67_wiring_harness_wire",
          "285_neon_gas_production",
          "168_palladium_nickel_aluminum",
          "383_nickel_demand_market",
          "174_metal_metallurgical_steel",
          "114_aluminium_aluminum_alum...",
          "130_steel_pricing_demand",
          "198_steelmaking_manganese_s...",
          "373_iron_steel_supply",
          "160_pig_iron_ferrous",
          "49_raw_material_tissue",
          "126_commodity_cost_pricing",
          "139_commodity_energy_market",
          "303_inaudible_listen_notwit...",
          "393_case_war_",
          "365_amend_situation_change",
          "127_situation_relationship_...",
          "264_situation_horrible_circ...",
          "145_monitoring_monitor_watch",
          "309_watch_event_witness",
          "182_look_glance_view",
          "212_market_inning_crisis",
          "27_crisis_impact_risk",
          "247_event_occasion_impact",
          "249_activity_terminate_disp...",
          "265_activity_operational_ac...",
          "323_business_market_marketp...",
          "317_business_continue_operate",
          "26_war_wars_business",
          "72_impact_business_effect",
          "78_business_entrepreneur_fi...",
          "98_market_capital_war",
          "22_market_marketplace_sell",
          "11_impact_effect_damage",
          "59_impact_impacting_war",
          "269_impact_sale_customer",
          "106_buy_purchase_sell",
          "161_exam_marketing_destocking",
          "204_conflict_situation_scen...",
          "120_conflict_confliction_im...",
          "69_conflict_issue_competitor",
          "87_conflict_impact_business",
          "179_competitor_market_demand",
          "166_business_small_company",
          "231_small_tiny_large",
          "382_supply_supplies_receive",
          "343_answer_question_problem",
          "380_respect_currency_mean",
          "226_think_thought_question",
          "287_question_answer_assume",
          "422_war_question_ask",
          "214_situation_brief_briefly",
          "219_war_comment_commenting",
          "258_war_start_begin",
          "154_start_starting_begin",
          "58_february_war_march",
          "97_war_wars_fight",
          "151_war_continue_peace",
          "143_happen_go_know",
          "206_war_go_strike",
          "218_review_rerating_guidance",
          "364_update_operation_recent",
          "293_turn_let_flip",
          "77_slide_presentation_pull",
          "396_slide_exposure_show",
          "257_kyivstar_kyiv_ukrainian",
          "48_ukrainian_crimea_kiev",
          "144_ukrainian_kazakh_humani...",
          "172_ukrainian_kiev_refugee",
          "7_safety_employee_priority",
          "141_workforce_employee_employ",
          "76_employee_employer_person...",
          "105_relocate_relocation_emp...",
          "252_salary_compensation_wage",
          "12_charity_donation_aid",
          "301_humanitarian_refugees_r...",
          "115_refugee_refugees_migrant",
          "297_refugee_poland_ukrainian",
          "21_poland_warsaw_romania",
          "417_polish_poland_warsaw",
          "406_invasion_humanitarian_d...",
          "33_humanitarian_crisis_disa...",
          "35_tragedy_tragic_occur",
          "63_war_tragedy_peace",
          "209_sympathy_empathy_compas...",
          "222_situation_hope_hopefully",
          "171_peace_peaceful_peacefully",
          "88_prayer_prayerful_pray",
          "302_thought_think_people",
          "227_affect_suffer_crisis",
          "177_heart_conflict_impact",
          "300_heart_people_everybody"
         ],
         "tickvals": [
          -5,
          -15,
          -25,
          -35,
          -45,
          -55,
          -65,
          -75,
          -85,
          -95,
          -105,
          -115,
          -125,
          -135,
          -145,
          -155,
          -165,
          -175,
          -185,
          -195,
          -205,
          -215,
          -225,
          -235,
          -245,
          -255,
          -265,
          -275,
          -285,
          -295,
          -305,
          -315,
          -325,
          -335,
          -345,
          -355,
          -365,
          -375,
          -385,
          -395,
          -405,
          -415,
          -425,
          -435,
          -445,
          -455,
          -465,
          -475,
          -485,
          -495,
          -505,
          -515,
          -525,
          -535,
          -545,
          -555,
          -565,
          -575,
          -585,
          -595,
          -605,
          -615,
          -625,
          -635,
          -645,
          -655,
          -665,
          -675,
          -685,
          -695,
          -705,
          -715,
          -725,
          -735,
          -745,
          -755,
          -765,
          -775,
          -785,
          -795,
          -805,
          -815,
          -825,
          -835,
          -845,
          -855,
          -865,
          -875,
          -885,
          -895,
          -905,
          -915,
          -925,
          -935,
          -945,
          -955,
          -965,
          -975,
          -985,
          -995,
          -1005,
          -1015,
          -1025,
          -1035,
          -1045,
          -1055,
          -1065,
          -1075,
          -1085,
          -1095,
          -1105,
          -1115,
          -1125,
          -1135,
          -1145,
          -1155,
          -1165,
          -1175,
          -1185,
          -1195,
          -1205,
          -1215,
          -1225,
          -1235,
          -1245,
          -1255,
          -1265,
          -1275,
          -1285,
          -1295,
          -1305,
          -1315,
          -1325,
          -1335,
          -1345,
          -1355,
          -1365,
          -1375,
          -1385,
          -1395,
          -1405,
          -1415,
          -1425,
          -1435,
          -1445,
          -1455,
          -1465,
          -1475,
          -1485,
          -1495,
          -1505,
          -1515,
          -1525,
          -1535,
          -1545,
          -1555,
          -1565,
          -1575,
          -1585,
          -1595,
          -1605,
          -1615,
          -1625,
          -1635,
          -1645,
          -1655,
          -1665,
          -1675,
          -1685,
          -1695,
          -1705,
          -1715,
          -1725,
          -1735,
          -1745,
          -1755,
          -1765,
          -1775,
          -1785,
          -1795,
          -1805,
          -1815,
          -1825,
          -1835,
          -1845,
          -1855,
          -1865,
          -1875,
          -1885,
          -1895,
          -1905,
          -1915,
          -1925,
          -1935,
          -1945,
          -1955,
          -1965,
          -1975,
          -1985,
          -1995,
          -2005,
          -2015,
          -2025,
          -2035,
          -2045,
          -2055,
          -2065,
          -2075,
          -2085,
          -2095,
          -2105,
          -2115,
          -2125,
          -2135,
          -2145,
          -2155,
          -2165,
          -2175,
          -2185,
          -2195,
          -2205,
          -2215,
          -2225,
          -2235,
          -2245,
          -2255,
          -2265,
          -2275,
          -2285,
          -2295,
          -2305,
          -2315,
          -2325,
          -2335,
          -2345,
          -2355,
          -2365,
          -2375,
          -2385,
          -2395,
          -2405,
          -2415,
          -2425,
          -2435,
          -2445,
          -2455,
          -2465,
          -2475,
          -2485,
          -2495,
          -2505,
          -2515,
          -2525,
          -2535,
          -2545,
          -2555,
          -2565,
          -2575,
          -2585,
          -2595,
          -2605,
          -2615,
          -2625,
          -2635,
          -2645,
          -2655,
          -2665,
          -2675,
          -2685,
          -2695,
          -2705,
          -2715,
          -2725,
          -2735,
          -2745,
          -2755,
          -2765,
          -2775,
          -2785,
          -2795,
          -2805,
          -2815,
          -2825,
          -2835,
          -2845,
          -2855,
          -2865,
          -2875,
          -2885,
          -2895,
          -2905,
          -2915,
          -2925,
          -2935,
          -2945,
          -2955,
          -2965,
          -2975,
          -2985,
          -2995,
          -3005,
          -3015,
          -3025,
          -3035,
          -3045,
          -3055,
          -3065,
          -3075,
          -3085,
          -3095,
          -3105,
          -3115,
          -3125,
          -3135,
          -3145,
          -3155,
          -3165,
          -3175,
          -3185,
          -3195,
          -3205,
          -3215,
          -3225,
          -3235,
          -3245,
          -3255,
          -3265,
          -3275,
          -3285,
          -3295,
          -3305,
          -3315,
          -3325,
          -3335,
          -3345,
          -3355,
          -3365,
          -3375,
          -3385,
          -3395,
          -3405,
          -3415,
          -3425,
          -3435,
          -3445,
          -3455,
          -3465,
          -3475,
          -3485,
          -3495,
          -3505,
          -3515,
          -3525,
          -3535,
          -3545,
          -3555,
          -3565,
          -3575,
          -3585,
          -3595,
          -3605,
          -3615,
          -3625,
          -3635,
          -3645,
          -3655,
          -3665,
          -3675,
          -3685,
          -3695,
          -3705,
          -3715,
          -3725,
          -3735,
          -3745,
          -3755,
          -3765,
          -3775,
          -3785,
          -3795,
          -3805,
          -3815,
          -3825,
          -3835,
          -3845,
          -3855,
          -3865,
          -3875,
          -3885,
          -3895,
          -3905,
          -3915,
          -3925,
          -3935,
          -3945,
          -3955,
          -3965,
          -3975,
          -3985,
          -3995,
          -4005,
          -4015,
          -4025,
          -4035,
          -4045,
          -4055,
          -4065,
          -4075,
          -4085,
          -4095,
          -4105,
          -4115,
          -4125,
          -4135,
          -4145,
          -4155,
          -4165,
          -4175,
          -4185,
          -4195,
          -4205,
          -4215,
          -4225,
          -4235,
          -4245,
          -4255
         ],
         "type": "linear",
         "zeroline": false
        }
       }
      }
     },
     "metadata": {},
     "output_type": "display_data"
    }
   ],
   "source": [
    "topic_model_0.visualize_hierarchy(hierarchical_topics=hierarchical_topics)"
   ]
  },
  {
   "cell_type": "markdown",
   "metadata": {},
   "source": [
    "2.\n",
    "* Sentence window: 0\n",
    "* Join sentences"
   ]
  },
  {
   "cell_type": "code",
   "execution_count": 17,
   "metadata": {},
   "outputs": [
    {
     "data": {
      "application/vnd.jupyter.widget-view+json": {
       "model_id": "17ac63fa88fa43f5a117b815cc64d277",
       "version_major": 2,
       "version_minor": 0
      },
      "text/plain": [
       "Batches:   0%|          | 0/1226 [00:00<?, ?it/s]"
      ]
     },
     "metadata": {},
     "output_type": "display_data"
    },
    {
     "name": "stderr",
     "output_type": "stream",
     "text": [
      "2023-09-04 13:46:31,496 - BERTopic - Transformed documents to Embeddings\n",
      "2023-09-04 13:46:51,379 - BERTopic - Reduced dimensionality\n"
     ]
    },
    {
     "name": "stdout",
     "output_type": "stream",
     "text": [
      "huggingface/tokenizers: The current process just got forked, after parallelism has already been used. Disabling parallelism to avoid deadlocks...\n",
      "To disable this warning, you can either:\n",
      "\t- Avoid using `tokenizers` before the fork if possible\n",
      "\t- Explicitly set the environment variable TOKENIZERS_PARALLELISM=(true | false)\n",
      "huggingface/tokenizers: The current process just got forked, after parallelism has already been used. Disabling parallelism to avoid deadlocks...\n",
      "To disable this warning, you can either:\n",
      "\t- Avoid using `tokenizers` before the fork if possible\n",
      "\t- Explicitly set the environment variable TOKENIZERS_PARALLELISM=(true | false)\n",
      "huggingface/tokenizers: The current process just got forked, after parallelism has already been used. Disabling parallelism to avoid deadlocks...\n",
      "To disable this warning, you can either:\n",
      "\t- Avoid using `tokenizers` before the fork if possible\n",
      "\t- Explicitly set the environment variable TOKENIZERS_PARALLELISM=(true | false)\n",
      "huggingface/tokenizers: The current process just got forked, after parallelism has already been used. Disabling parallelism to avoid deadlocks...\n",
      "To disable this warning, you can either:\n",
      "\t- Avoid using `tokenizers` before the fork if possible\n",
      "\t- Explicitly set the environment variable TOKENIZERS_PARALLELISM=(true | false)\n"
     ]
    },
    {
     "name": "stderr",
     "output_type": "stream",
     "text": [
      "2023-09-04 13:51:25,827 - BERTopic - Clustered reduced embeddings\n",
      "100%|██████████| 359/359 [02:33<00:00,  2.35it/s]\n"
     ]
    }
   ],
   "source": [
    "topic_model_0_join, topics_0_join, probs_0_join = topic_extractor.bert_advanced(corpus_window_0_join_df['processed_text'].to_list(), representation_model=representation_model, embedding_model=sentence_model_light)"
   ]
  },
  {
   "cell_type": "code",
   "execution_count": 20,
   "metadata": {},
   "outputs": [
    {
     "data": {
      "text/html": [
       "<div>\n",
       "<style scoped>\n",
       "    .dataframe tbody tr th:only-of-type {\n",
       "        vertical-align: middle;\n",
       "    }\n",
       "\n",
       "    .dataframe tbody tr th {\n",
       "        vertical-align: top;\n",
       "    }\n",
       "\n",
       "    .dataframe thead th {\n",
       "        text-align: right;\n",
       "    }\n",
       "</style>\n",
       "<table border=\"1\" class=\"dataframe\">\n",
       "  <thead>\n",
       "    <tr style=\"text-align: right;\">\n",
       "      <th></th>\n",
       "      <th>Topic</th>\n",
       "      <th>Count</th>\n",
       "      <th>Name</th>\n",
       "      <th>Representation</th>\n",
       "      <th>Chain: Inspired - MMR</th>\n",
       "      <th>Chain: Inspired - MMR - POS</th>\n",
       "      <th>Generator chain: Inspired - MMR</th>\n",
       "      <th>Representative_Docs</th>\n",
       "    </tr>\n",
       "  </thead>\n",
       "  <tbody>\n",
       "    <tr>\n",
       "      <th>0</th>\n",
       "      <td>-1</td>\n",
       "      <td>20314</td>\n",
       "      <td>-1_inflation_demand_economy_economic</td>\n",
       "      <td>[inflation, demand, economy, economic, crisis,...</td>\n",
       "      <td>[inflation, demand, economy, economic, crisis,...</td>\n",
       "      <td>[market, war, gas, business, impact, energy, q...</td>\n",
       "      <td>[inflation and market volatility, , , , , , , ...</td>\n",
       "      <td>[mean know war lot uncertainty come especially...</td>\n",
       "    </tr>\n",
       "    <tr>\n",
       "      <th>1</th>\n",
       "      <td>0</td>\n",
       "      <td>790</td>\n",
       "      <td>0_belarus_belarusian_kazakhstan_moldova</td>\n",
       "      <td>[belarus, belarusian, kazakhstan, moldova, cou...</td>\n",
       "      <td>[belarus, belarusian, kazakhstan, moldova, cou...</td>\n",
       "      <td>[belarus, belarusian, revenue, shipment, talen...</td>\n",
       "      <td>[belarusian kazakhstan and moldova are the cou...</td>\n",
       "      <td>[year go belarus, 2.5 sale belarus, belarus ma...</td>\n",
       "    </tr>\n",
       "    <tr>\n",
       "      <th>2</th>\n",
       "      <td>1</td>\n",
       "      <td>765</td>\n",
       "      <td>1_supplier_supply_logistics_inventory</td>\n",
       "      <td>[supplier, supply, logistics, inventory, sourc...</td>\n",
       "      <td>[supplier, supply, logistics, inventory, sourc...</td>\n",
       "      <td>[chain, supply, supplier, disruption, inventor...</td>\n",
       "      <td>[sourcing, , , , , , , , , ]</td>\n",
       "      <td>[war war pressure supply chain, clearly war di...</td>\n",
       "    </tr>\n",
       "    <tr>\n",
       "      <th>3</th>\n",
       "      <td>2</td>\n",
       "      <td>371</td>\n",
       "      <td>2_invasion_invade_attack_violence</td>\n",
       "      <td>[invasion, invade, attack, violence, aggressiv...</td>\n",
       "      <td>[invasion, invade, attack, violence, aggressiv...</td>\n",
       "      <td>[invasion, invade, day, course, start, morning...</td>\n",
       "      <td>[afghanistan invasion, , , , , , , , , ]</td>\n",
       "      <td>[impact situation invasion, invasion, invasion]</td>\n",
       "    </tr>\n",
       "    <tr>\n",
       "      <th>4</th>\n",
       "      <td>3</td>\n",
       "      <td>366</td>\n",
       "      <td>3_coal_demand_market_gas</td>\n",
       "      <td>[coal, demand, market, gas, pricing, supply, e...</td>\n",
       "      <td>[coal, demand, market, gas, pricing, supply, e...</td>\n",
       "      <td>[coal, thermal, coking, ban, meet, import, ton...</td>\n",
       "      <td>[coal and coking, , , , , , , , , ]</td>\n",
       "      <td>[europe need replace coal volume result price ...</td>\n",
       "    </tr>\n",
       "    <tr>\n",
       "      <th>...</th>\n",
       "      <td>...</td>\n",
       "      <td>...</td>\n",
       "      <td>...</td>\n",
       "      <td>...</td>\n",
       "      <td>...</td>\n",
       "      <td>...</td>\n",
       "      <td>...</td>\n",
       "      <td>...</td>\n",
       "    </tr>\n",
       "    <tr>\n",
       "      <th>354</th>\n",
       "      <td>353</td>\n",
       "      <td>10</td>\n",
       "      <td>353_healthcare_medical_clinical_hospital</td>\n",
       "      <td>[healthcare, medical, clinical, hospital, pati...</td>\n",
       "      <td>[healthcare, medical, clinical, hospital, pati...</td>\n",
       "      <td>[patient, clinical, continuity, care, surgery,...</td>\n",
       "      <td>[enrolment in healthcare services for patients...</td>\n",
       "      <td>[healthcare business sector overall clinical s...</td>\n",
       "    </tr>\n",
       "    <tr>\n",
       "      <th>355</th>\n",
       "      <td>354</td>\n",
       "      <td>10</td>\n",
       "      <td>354_kiev_ukrainian_relocate_shortage</td>\n",
       "      <td>[kiev, ukrainian, relocate, shortage, territor...</td>\n",
       "      <td>[kiev, ukrainian, relocate, shortage, territor...</td>\n",
       "      <td>[demographical, ukrainian, bleak, mobilization...</td>\n",
       "      <td>[ukraine ukraine ukraine ukraine ukrain, , , ,...</td>\n",
       "      <td>[actually new new helicopter kiev, kiev, fortu...</td>\n",
       "    </tr>\n",
       "    <tr>\n",
       "      <th>356</th>\n",
       "      <td>355</td>\n",
       "      <td>10</td>\n",
       "      <td>355_stay_leave_continue_long</td>\n",
       "      <td>[stay, leave, continue, long, say, course, opt...</td>\n",
       "      <td>[stay, leave, continue, long, say, course, opt...</td>\n",
       "      <td>[stay, option, decision, question, course, , ,...</td>\n",
       "      <td>[i want to stay on course if i want to confirm...</td>\n",
       "      <td>[stay, oh yes yes leave, oh yes yes leave]</td>\n",
       "    </tr>\n",
       "    <tr>\n",
       "      <th>357</th>\n",
       "      <td>356</td>\n",
       "      <td>10</td>\n",
       "      <td>356_capacity_monopoly_limited_production</td>\n",
       "      <td>[capacity, monopoly, limited, production, euro...</td>\n",
       "      <td>[capacity, monopoly, limited, production, euro...</td>\n",
       "      <td>[capacity, monopoly, cann, malt, optical, outs...</td>\n",
       "      <td>[monopoly of european market, , , , , , , , , ]</td>\n",
       "      <td>[italy get capability produce optical componen...</td>\n",
       "    </tr>\n",
       "    <tr>\n",
       "      <th>358</th>\n",
       "      <td>357</td>\n",
       "      <td>10</td>\n",
       "      <td>357_sale_war_sanction_suspend</td>\n",
       "      <td>[sale, war, sanction, suspend, contract, suspe...</td>\n",
       "      <td>[sale, war, sanction, suspend, contract, suspe...</td>\n",
       "      <td>[suspend, commence, volaris, triumph, 24th, sa...</td>\n",
       "      <td>[iran vs iraq war suspension business, , , , ,...</td>\n",
       "      <td>[previously communicate sale suspend 24th febr...</td>\n",
       "    </tr>\n",
       "  </tbody>\n",
       "</table>\n",
       "<p>359 rows × 8 columns</p>\n",
       "</div>"
      ],
      "text/plain": [
       "     Topic  Count                                      Name  \\\n",
       "0       -1  20314      -1_inflation_demand_economy_economic   \n",
       "1        0    790   0_belarus_belarusian_kazakhstan_moldova   \n",
       "2        1    765     1_supplier_supply_logistics_inventory   \n",
       "3        2    371         2_invasion_invade_attack_violence   \n",
       "4        3    366                  3_coal_demand_market_gas   \n",
       "..     ...    ...                                       ...   \n",
       "354    353     10  353_healthcare_medical_clinical_hospital   \n",
       "355    354     10      354_kiev_ukrainian_relocate_shortage   \n",
       "356    355     10              355_stay_leave_continue_long   \n",
       "357    356     10  356_capacity_monopoly_limited_production   \n",
       "358    357     10             357_sale_war_sanction_suspend   \n",
       "\n",
       "                                        Representation  \\\n",
       "0    [inflation, demand, economy, economic, crisis,...   \n",
       "1    [belarus, belarusian, kazakhstan, moldova, cou...   \n",
       "2    [supplier, supply, logistics, inventory, sourc...   \n",
       "3    [invasion, invade, attack, violence, aggressiv...   \n",
       "4    [coal, demand, market, gas, pricing, supply, e...   \n",
       "..                                                 ...   \n",
       "354  [healthcare, medical, clinical, hospital, pati...   \n",
       "355  [kiev, ukrainian, relocate, shortage, territor...   \n",
       "356  [stay, leave, continue, long, say, course, opt...   \n",
       "357  [capacity, monopoly, limited, production, euro...   \n",
       "358  [sale, war, sanction, suspend, contract, suspe...   \n",
       "\n",
       "                                 Chain: Inspired - MMR  \\\n",
       "0    [inflation, demand, economy, economic, crisis,...   \n",
       "1    [belarus, belarusian, kazakhstan, moldova, cou...   \n",
       "2    [supplier, supply, logistics, inventory, sourc...   \n",
       "3    [invasion, invade, attack, violence, aggressiv...   \n",
       "4    [coal, demand, market, gas, pricing, supply, e...   \n",
       "..                                                 ...   \n",
       "354  [healthcare, medical, clinical, hospital, pati...   \n",
       "355  [kiev, ukrainian, relocate, shortage, territor...   \n",
       "356  [stay, leave, continue, long, say, course, opt...   \n",
       "357  [capacity, monopoly, limited, production, euro...   \n",
       "358  [sale, war, sanction, suspend, contract, suspe...   \n",
       "\n",
       "                           Chain: Inspired - MMR - POS  \\\n",
       "0    [market, war, gas, business, impact, energy, q...   \n",
       "1    [belarus, belarusian, revenue, shipment, talen...   \n",
       "2    [chain, supply, supplier, disruption, inventor...   \n",
       "3    [invasion, invade, day, course, start, morning...   \n",
       "4    [coal, thermal, coking, ban, meet, import, ton...   \n",
       "..                                                 ...   \n",
       "354  [patient, clinical, continuity, care, surgery,...   \n",
       "355  [demographical, ukrainian, bleak, mobilization...   \n",
       "356  [stay, option, decision, question, course, , ,...   \n",
       "357  [capacity, monopoly, cann, malt, optical, outs...   \n",
       "358  [suspend, commence, volaris, triumph, 24th, sa...   \n",
       "\n",
       "                       Generator chain: Inspired - MMR  \\\n",
       "0    [inflation and market volatility, , , , , , , ...   \n",
       "1    [belarusian kazakhstan and moldova are the cou...   \n",
       "2                         [sourcing, , , , , , , , , ]   \n",
       "3             [afghanistan invasion, , , , , , , , , ]   \n",
       "4                  [coal and coking, , , , , , , , , ]   \n",
       "..                                                 ...   \n",
       "354  [enrolment in healthcare services for patients...   \n",
       "355  [ukraine ukraine ukraine ukraine ukrain, , , ,...   \n",
       "356  [i want to stay on course if i want to confirm...   \n",
       "357    [monopoly of european market, , , , , , , , , ]   \n",
       "358  [iran vs iraq war suspension business, , , , ,...   \n",
       "\n",
       "                                   Representative_Docs  \n",
       "0    [mean know war lot uncertainty come especially...  \n",
       "1    [year go belarus, 2.5 sale belarus, belarus ma...  \n",
       "2    [war war pressure supply chain, clearly war di...  \n",
       "3      [impact situation invasion, invasion, invasion]  \n",
       "4    [europe need replace coal volume result price ...  \n",
       "..                                                 ...  \n",
       "354  [healthcare business sector overall clinical s...  \n",
       "355  [actually new new helicopter kiev, kiev, fortu...  \n",
       "356         [stay, oh yes yes leave, oh yes yes leave]  \n",
       "357  [italy get capability produce optical componen...  \n",
       "358  [previously communicate sale suspend 24th febr...  \n",
       "\n",
       "[359 rows x 8 columns]"
      ]
     },
     "execution_count": 20,
     "metadata": {},
     "output_type": "execute_result"
    }
   ],
   "source": [
    "topic_model_0_join.get_topic_info()"
   ]
  },
  {
   "cell_type": "code",
   "execution_count": 38,
   "metadata": {},
   "outputs": [],
   "source": [
    "corpus_window_0_join_df_company = corpus_window_0_join_df.with_columns(pl.Series('topics', topics_0_join)).groupby('id').agg(pl.col('topics','text', 'processed_text')).sort('id')\n",
    "topics = list(corpus_window_0_join_df_company['topics'])"
   ]
  },
  {
   "cell_type": "code",
   "execution_count": 42,
   "metadata": {},
   "outputs": [],
   "source": [
    "set_list = []\n",
    "for i,topic in enumerate(topics):\n",
    "    set_list.append(list(set(topic)))"
   ]
  },
  {
   "cell_type": "code",
   "execution_count": 40,
   "metadata": {},
   "outputs": [
    {
     "data": {
      "text/plain": [
       "[[82, 20, -1],\n",
       " [-1],\n",
       " [-1],\n",
       " [-1],\n",
       " [35, -1],\n",
       " [0, -1],\n",
       " [45, -1],\n",
       " [-1],\n",
       " [72, 9, -1],\n",
       " [-1],\n",
       " [0, 26, -1],\n",
       " [-1],\n",
       " [193, 6, 7, 8, 11, 12, 13, 114, 275, 117, 215, 122, 157, -1],\n",
       " [72, 9, -1],\n",
       " [82, -1],\n",
       " [78, 85, -1, 41],\n",
       " [288, -1, 167],\n",
       " [128, 102, 41, 170, 27, 28, -1],\n",
       " [32, -1],\n",
       " [-1],\n",
       " [-1],\n",
       " [25, 11, 12, -1],\n",
       " [91, 190],\n",
       " [-1],\n",
       " [96, 20, -1],\n",
       " [34, -1],\n",
       " [27, 45],\n",
       " [-1],\n",
       " [46, -1],\n",
       " [123, 45, 15],\n",
       " [106, -1, 23],\n",
       " [24, -1],\n",
       " [1, -1],\n",
       " [-1],\n",
       " [-1],\n",
       " [0, 209, 45, -1],\n",
       " [312, -1, 151],\n",
       " [-1, 63],\n",
       " [1, 9, 109, 48, 80, 117, 309, 89, 124, -1],\n",
       " [49, 50, 19, 20, -1],\n",
       " [291, -1, 30],\n",
       " [291],\n",
       " [320, 2, 12, 209, -1],\n",
       " [-1],\n",
       " [2, 167, 40, 41, 143, 343, -1, 63],\n",
       " [148, 46],\n",
       " [62, 102, 111],\n",
       " [90],\n",
       " [90],\n",
       " [-1],\n",
       " [78],\n",
       " [102, 236, 148, 343, 26, -1],\n",
       " [156, -1],\n",
       " [123, 12, -1],\n",
       " [152, -1],\n",
       " [322, 67, 38, 138, 45, 16, 145, 28, -1],\n",
       " [322, 4, 170, 21, 312, -1],\n",
       " [-1],\n",
       " [298],\n",
       " [-1],\n",
       " [-1],\n",
       " [101, 38, 103, 39, 170, 303, 20, 21, -1],\n",
       " [9, 138, 53, -1],\n",
       " [9, 11, 21, -1],\n",
       " [0, 262, 109, 82, 51, 280, 121, 122, -1],\n",
       " [46, 10, 43, -1],\n",
       " [0, 2, 43, 15, 151, -1],\n",
       " [213, -1],\n",
       " [-1],\n",
       " [-1],\n",
       " [-1],\n",
       " [170, 117, -1],\n",
       " [-1],\n",
       " [8],\n",
       " [320, 2, 109, -1],\n",
       " [1, -1, 7],\n",
       " [0, 1, 40, 13, 243, 85, 58, -1],\n",
       " [-1],\n",
       " [40, 16, -1],\n",
       " [0, 96, 40, 16, -1, 57, 27, 94],\n",
       " [193, 232, 13, -1, 191],\n",
       " [0, 1, 2, 5, 12, 16, 20, 24, 53, 64, 67, 72, 80, 95, 99, 102, 105, 240, -1],\n",
       " [1, 4, 206, 213, -1],\n",
       " [0, 24, 87],\n",
       " [32, 1, 37, 7, 14, 17, 50, 215, -1, 127],\n",
       " [33, -1],\n",
       " [17, 101, -1, 31],\n",
       " [94, 50, 90, -1],\n",
       " [105, 5, -1],\n",
       " [0, 226, 13, 238, 49, 24, -1],\n",
       " [43, -1, 22],\n",
       " [94, -1],\n",
       " [41, 52, -1],\n",
       " [56, -1],\n",
       " [38, -1],\n",
       " [56],\n",
       " [12, -1],\n",
       " [33, 292, 102, 16, -1],\n",
       " [24, -1],\n",
       " [117, -1],\n",
       " [16, -1],\n",
       " [8, -1],\n",
       " [-1],\n",
       " [82, 158, -1],\n",
       " [-1],\n",
       " [89, 52, -1, 1],\n",
       " [12],\n",
       " [2, 209, 81, 248, 28, -1],\n",
       " [197, 38, 9, 46, -1],\n",
       " [89, 38, 40, 46, 48, 115, 345, -1],\n",
       " [-1],\n",
       " [99, 11, 236, 77, 19, 342, 121, -1],\n",
       " [-1, 15],\n",
       " [0, 1, 34, 39, 45, 77, 273, 56, -1],\n",
       " [50],\n",
       " [291, -1],\n",
       " [32, 37, 27, 59, -1],\n",
       " [225, 170],\n",
       " [1, 170, -1, 33],\n",
       " [187],\n",
       " [291, -1],\n",
       " [13, -1, 247],\n",
       " [208, 154, -1],\n",
       " [4, 13, -1],\n",
       " [60],\n",
       " [90, -1],\n",
       " [3, 4, -1],\n",
       " [98, 35, 3, 72, 8, 56, 122, -1],\n",
       " [49, 3, 101, -1],\n",
       " [0, 2, -1, 151],\n",
       " [299, 215, 25, 27, -1],\n",
       " [68, 61, -1],\n",
       " [2, 98, 72, 232, 185, -1],\n",
       " [1, -1],\n",
       " [101, 109, 82, 26, -1],\n",
       " [12, -1],\n",
       " [105, 107, 12, -1],\n",
       " [63],\n",
       " [1, 99, 36, 101, -1],\n",
       " [116],\n",
       " [33, -1, 6],\n",
       " [1, 34, 6, 8, 9, -1, 25, 318],\n",
       " [64, 353, 2, 99, 0, 3, 262, 1, 75, 12, 47, 80, 20, 52, 122, 28, -1],\n",
       " [122, 109, -1],\n",
       " [6, 49, 22, 122, -1],\n",
       " [-1],\n",
       " [56, 122, 64, -1],\n",
       " [326, 82, 61, -1],\n",
       " [-1, 95],\n",
       " [1, 68, -1, 15],\n",
       " [-1],\n",
       " [-1],\n",
       " [4, -1],\n",
       " [99, 355, 103, 9, 16, 24, 62, 121, -1],\n",
       " [153, -1],\n",
       " [213, -1],\n",
       " [98, 35, 8, 267, -1],\n",
       " [2, 101, 70, 6, 168, 18, 25, 157, -1, 63],\n",
       " [51, -1],\n",
       " [36, -1],\n",
       " [0, 12, 13, 142, 48, 53, 22, 219, -1],\n",
       " [2, 4, -1],\n",
       " [-1, 31],\n",
       " [85],\n",
       " [36, 181, 94],\n",
       " [-1],\n",
       " [9, 91, -1],\n",
       " [-1],\n",
       " [-1],\n",
       " [1, 15],\n",
       " [98, 22, -1, 15],\n",
       " [-1, 15],\n",
       " [28, 23],\n",
       " [-1],\n",
       " [49, -1, 63],\n",
       " [114, 20, -1, 22],\n",
       " [-1],\n",
       " [86, -1],\n",
       " [0, 4, 310, 158, -1, 31],\n",
       " [4, 310, -1],\n",
       " [-1, 61, 310, 31],\n",
       " [310, -1, 31],\n",
       " [-1],\n",
       " [-1],\n",
       " [64, 2, 19, 116, 183, 88, -1],\n",
       " [26, -1],\n",
       " [131, 99, 12, 28, -1],\n",
       " [-1],\n",
       " [226, 43, 78, 56, 124, -1],\n",
       " [1, 2, 197, 84, -1],\n",
       " [98, -1],\n",
       " [51, -1],\n",
       " [1, 29, -1],\n",
       " [124, -1, 343],\n",
       " [25, 2, -1, 78],\n",
       " [14],\n",
       " [56],\n",
       " [240, 20, -1],\n",
       " [72, 51],\n",
       " [25, -1, 33],\n",
       " [116, 91, 12, -1],\n",
       " [0, 12, 239, 27, -1],\n",
       " [0, 34, -1],\n",
       " [19, 221, -1],\n",
       " [17],\n",
       " [-1],\n",
       " [26, 76, -1],\n",
       " [76, -1],\n",
       " [98],\n",
       " [0, -1],\n",
       " [96],\n",
       " [35, -1, 30],\n",
       " [174, -1],\n",
       " [0, 34, -1],\n",
       " [1],\n",
       " [85],\n",
       " [11],\n",
       " [34, 102, 207, 83, 181, 118, 151, 125, -1],\n",
       " [143, 9, 326, -1],\n",
       " [204, 76, -1, 183],\n",
       " [19, 67, -1],\n",
       " [98, 103, 9, 109, 78, 61, 89, 29, -1],\n",
       " [65, 37, -1],\n",
       " [-1],\n",
       " [-1],\n",
       " [1, 240, 210, 20, -1],\n",
       " [-1],\n",
       " [-1],\n",
       " [26, -1],\n",
       " [0, 150, -1],\n",
       " [-1],\n",
       " [81],\n",
       " [152, -1],\n",
       " [322],\n",
       " [38, 145, 118, 347, 28, -1],\n",
       " [129, 70, 9, 124, -1, 223],\n",
       " [-1],\n",
       " [64, 1, 3, 39, -1],\n",
       " [-1],\n",
       " [-1, 15],\n",
       " [-1],\n",
       " [64, 96, 11, 52, 185, 26, -1],\n",
       " [91],\n",
       " [290, 124],\n",
       " [-1],\n",
       " [-1],\n",
       " [132, 21, 118, 85, -1],\n",
       " [105, -1, 57],\n",
       " [68, 37, -1],\n",
       " [1, 68, 109, -1],\n",
       " [26, -1],\n",
       " [298, -1],\n",
       " [-1],\n",
       " [168, 203, 49, 154, -1],\n",
       " [3, 168, 270, 16, 49, 154, -1],\n",
       " [166, 168, 16, 49, -1],\n",
       " [0, 32, 9, 148, 61, -1, 63],\n",
       " [-1],\n",
       " [0, -1],\n",
       " [153, 26],\n",
       " [57],\n",
       " [0, 101, -1, 127],\n",
       " [249, 252, -1],\n",
       " [-1],\n",
       " [-1],\n",
       " [2, 170, 332, 276, -1],\n",
       " [2, 73, 170, 332, -1],\n",
       " [1, 50, 51, 60],\n",
       " [-1],\n",
       " [37, -1],\n",
       " [25, -1],\n",
       " [17, 12, 77],\n",
       " [3, 23],\n",
       " [-1],\n",
       " [6, -1],\n",
       " [163, 7, 8, 105, 81, 114, 314, -1],\n",
       " [1, 163, -1, 314, 62],\n",
       " [314, -1, 22],\n",
       " [193, 1, 98, 101, 262, 7, 232, 75, 44, 16, 49, 117, 30, 25, -1],\n",
       " [0, -1],\n",
       " [68, 72, 338, 279, -1],\n",
       " [4, 43, 273, 19, -1],\n",
       " [0, 154, 19, 215, 58, 157, -1],\n",
       " [240, 77, -1],\n",
       " [12],\n",
       " [4, 101, 16, 81, 149, 56, -1],\n",
       " [58, 20, -1, 22],\n",
       " [65, 58, -1],\n",
       " [-1],\n",
       " [12, 45, -1],\n",
       " [44, 149, -1],\n",
       " [104, 80, -1],\n",
       " [-1],\n",
       " [107, -1],\n",
       " [46],\n",
       " [1, 262, 304, 240, 50, -1],\n",
       " [101, 41, 172, 304, 240, 80, 85, 123, 60, -1],\n",
       " [-1],\n",
       " [217, 58, -1],\n",
       " [-1],\n",
       " [2],\n",
       " [33],\n",
       " [-1],\n",
       " [-1],\n",
       " [0, 33, 38, 72, 11, 43, 48, 21, 150, -1],\n",
       " [0, 227, 259, 38, 138, 11, 190, 143, 211, 21, 24, 188, -1],\n",
       " [0,\n",
       "  197,\n",
       "  38,\n",
       "  231,\n",
       "  102,\n",
       "  9,\n",
       "  170,\n",
       "  203,\n",
       "  47,\n",
       "  143,\n",
       "  81,\n",
       "  53,\n",
       "  117,\n",
       "  21,\n",
       "  150,\n",
       "  24,\n",
       "  220,\n",
       "  -1],\n",
       " [0,\n",
       "  65,\n",
       "  226,\n",
       "  38,\n",
       "  231,\n",
       "  9,\n",
       "  170,\n",
       "  138,\n",
       "  45,\n",
       "  334,\n",
       "  81,\n",
       "  145,\n",
       "  19,\n",
       "  148,\n",
       "  341,\n",
       "  220,\n",
       "  222,\n",
       "  -1],\n",
       " [101, 262, 72, 265, 110, 82, 211, 21, 121, -1],\n",
       " [21],\n",
       " [78],\n",
       " [4, 169, 20, 25, 188, -1],\n",
       " [28, 52],\n",
       " [136, 110, 53, 22, -1],\n",
       " [227, 74, 11, 12, 211, 20, 21, 22, 183, 153, 29, -1],\n",
       " [1, 11, 44, 47, 239, 84, 53, 87, 127, -1, 319],\n",
       " [73, 81, 53, 87, 59, -1],\n",
       " [133],\n",
       " [2, 139, 304, 209, 82, 23, -1],\n",
       " [12],\n",
       " [108, 213, -1, 36],\n",
       " [83, 117, -1],\n",
       " [-1],\n",
       " [0, 1, -1, 55],\n",
       " [144, 352, -1],\n",
       " [32],\n",
       " [68],\n",
       " [2, 35, 202, 75, -1],\n",
       " [-1],\n",
       " [37, 45, 49, 122, 59, -1],\n",
       " [44],\n",
       " [10, 158, -1],\n",
       " [-1],\n",
       " [1, 58, -1],\n",
       " [103, 9, 301, 81, 245, -1],\n",
       " [44, 213, -1],\n",
       " [12],\n",
       " [123, 150, -1, 47],\n",
       " [68, -1],\n",
       " [16, -1],\n",
       " [70, -1],\n",
       " [-1],\n",
       " [-1],\n",
       " [49, 133, 334],\n",
       " [3, -1],\n",
       " [33],\n",
       " [0, 1, 83, 25, -1, 223],\n",
       " [65],\n",
       " [122, 39],\n",
       " [0],\n",
       " [209, -1],\n",
       " [72, -1],\n",
       " [26, 122, -1, 6],\n",
       " [-1],\n",
       " [128, 12, -1],\n",
       " [-1],\n",
       " [1, 205, 50, 23, 25, 126, -1],\n",
       " [152, 1, -1],\n",
       " [37, -1],\n",
       " [88, 17, 4, -1],\n",
       " [101, -1, 238],\n",
       " [4, -1],\n",
       " [98, 2, 356, 4, 60, 85, 28, 61, -1],\n",
       " [46, 10, -1],\n",
       " [268],\n",
       " [-1],\n",
       " [8],\n",
       " [43, 24, 27, 28, -1],\n",
       " [1, 99, 28, -1],\n",
       " [224, 0, 2, 197, 47, 243, 117, 23, 248, -1],\n",
       " [224, -1],\n",
       " [288, 15, 178, 23, -1],\n",
       " [26, 23],\n",
       " [34, 9, 203, 89, 189, -1],\n",
       " [1, 51, -1],\n",
       " [37],\n",
       " [-1],\n",
       " [0, 64],\n",
       " [-1],\n",
       " [9, -1],\n",
       " [48, -1],\n",
       " [20, 117, -1],\n",
       " [24, 284, -1],\n",
       " [56, 4, 28, -1],\n",
       " [44, 238, -1],\n",
       " [57, -1],\n",
       " [93, -1],\n",
       " [93],\n",
       " [34, 102, 111, 118, 61, -1],\n",
       " [-1],\n",
       " [0, 51, -1],\n",
       " [0, 2, 19, -1],\n",
       " [0, 103, 12, 240, 21, -1, 126],\n",
       " [0, 43, 28, -1],\n",
       " [-1],\n",
       " [-1],\n",
       " [12],\n",
       " [47],\n",
       " [-1],\n",
       " [17],\n",
       " [-1],\n",
       " [37],\n",
       " [57, 10, -1],\n",
       " [-1],\n",
       " [177, -1],\n",
       " [147, 252, -1],\n",
       " [44, -1],\n",
       " [-1],\n",
       " [257, 35, 12, 20, 248, -1],\n",
       " [-1],\n",
       " [7],\n",
       " [5, 219, 21, -1],\n",
       " [118, -1, 127],\n",
       " [82, 12, -1],\n",
       " [-1],\n",
       " [159, 1, 38, 136, 123, 203, 45, 173, 307, 53, 87, 347, 29, -1, 31],\n",
       " [228, 138, 170, 173, 143, 81, 247, -1, 31],\n",
       " [-1],\n",
       " [-1],\n",
       " [177, -1, 6],\n",
       " [-1],\n",
       " [2],\n",
       " [-1],\n",
       " [2],\n",
       " [64, 2, 28, -1],\n",
       " [0, 1, 13, 174, 17, 23, 61, -1],\n",
       " [256, 1, 4, 47, 87, -1],\n",
       " [1, 4, 174, 208, 17, 58, -1],\n",
       " [1, 35, 141, 25, -1],\n",
       " [182],\n",
       " [-1],\n",
       " [141, 16, 17, 216, -1],\n",
       " [141, 103],\n",
       " [33, 61, -1],\n",
       " [33, 61],\n",
       " [234],\n",
       " [320, -1],\n",
       " [-1],\n",
       " [-1],\n",
       " [1],\n",
       " [-1],\n",
       " [-1],\n",
       " [251, -1],\n",
       " [236, -1],\n",
       " [56, 35, -1],\n",
       " [11, -1],\n",
       " [152, 25, 45, -1],\n",
       " [1, 41, 109, 209, 248, -1],\n",
       " [-1],\n",
       " [0, 54, -1, 7],\n",
       " [33],\n",
       " [183],\n",
       " [8, -1],\n",
       " [8, -1],\n",
       " [-1, 31],\n",
       " [-1],\n",
       " [121, 11, 109, -1],\n",
       " [10, -1],\n",
       " [0, 105, 43, -1],\n",
       " [232, 93],\n",
       " [-1],\n",
       " [0, 105, 5, -1],\n",
       " [-1],\n",
       " [304, 100, 5, 84],\n",
       " [-1],\n",
       " [301],\n",
       " [110, 309, -1, 95],\n",
       " [32, 38, 10, -1],\n",
       " [-1],\n",
       " [-1],\n",
       " [88],\n",
       " [91, -1],\n",
       " [-1],\n",
       " [144, 27, -1],\n",
       " [132],\n",
       " [0, 224, 3, 8, 85, 60, -1],\n",
       " [217, 59, 1],\n",
       " [71],\n",
       " [50, -1],\n",
       " [-1],\n",
       " [1, 188],\n",
       " [136, 1],\n",
       " [141, -1],\n",
       " [-1],\n",
       " [-1, 191],\n",
       " [-1],\n",
       " [78, -1],\n",
       " [20, -1],\n",
       " [-1],\n",
       " [43],\n",
       " [146],\n",
       " [-1],\n",
       " [1, 43, -1],\n",
       " [-1],\n",
       " [178],\n",
       " [77],\n",
       " [68],\n",
       " [1, -1, 15],\n",
       " [-1, 15],\n",
       " [-1],\n",
       " [267, -1],\n",
       " [43, 22],\n",
       " [-1],\n",
       " [1, 30, -1, 6],\n",
       " [-1],\n",
       " [116],\n",
       " [5, -1],\n",
       " [45, -1],\n",
       " [41, -1],\n",
       " [20, 28, -1],\n",
       " [4, 47, 29, 61, -1],\n",
       " [45, -1],\n",
       " [28, 4, 13, -1],\n",
       " [97, -1],\n",
       " [232, 64, -1],\n",
       " [232],\n",
       " [48],\n",
       " [0, 1, 41, 74, 43, 14, 207, 48, 337, 307, 55, 126, 285, -1],\n",
       " [16, -1],\n",
       " [88, -1],\n",
       " [130, -1],\n",
       " [178],\n",
       " [-1, 119],\n",
       " [88],\n",
       " [74, -1, 47],\n",
       " [-1],\n",
       " [74, 19, 213, -1],\n",
       " [-1],\n",
       " [1, 12],\n",
       " [-1],\n",
       " [33, 213, -1],\n",
       " [123, -1],\n",
       " [34, -1, 271],\n",
       " [96],\n",
       " [-1],\n",
       " [49, -1],\n",
       " [238, -1],\n",
       " [96, 17],\n",
       " [17, -1],\n",
       " [16, 322, -1],\n",
       " [322, -1],\n",
       " [16, 322, 4, -1],\n",
       " [1, 59, -1],\n",
       " [48, 25, -1],\n",
       " [84, -1],\n",
       " [158, -1],\n",
       " [77, -1],\n",
       " [-1],\n",
       " [-1],\n",
       " [75, -1],\n",
       " [32],\n",
       " [221, -1],\n",
       " [-1],\n",
       " [-1],\n",
       " [154, 11, -1],\n",
       " [276, -1, 47],\n",
       " [226, 28, -1],\n",
       " [116, -1],\n",
       " [-1],\n",
       " [276],\n",
       " [150],\n",
       " [123, -1],\n",
       " [27],\n",
       " [-1],\n",
       " [25],\n",
       " [101],\n",
       " [99, 42, 76, 78, 82, -1],\n",
       " [83],\n",
       " [19],\n",
       " [40, -1],\n",
       " [40, -1],\n",
       " [11, 43, 235, 52, -1],\n",
       " [40, 159],\n",
       " [5, 253, -1],\n",
       " [253],\n",
       " [-1],\n",
       " [88],\n",
       " [12, -1],\n",
       " [-1],\n",
       " [186],\n",
       " [-1],\n",
       " [42, -1, 159],\n",
       " [-1],\n",
       " [-1],\n",
       " [-1],\n",
       " [-1],\n",
       " [17],\n",
       " [-1],\n",
       " [268],\n",
       " [-1],\n",
       " [110, 243, -1],\n",
       " [197, 165, 273, 49, 243, -1, 22, 310, 62],\n",
       " [38, 140, 52, 153, -1],\n",
       " [241, 153, 43, -1],\n",
       " [-1],\n",
       " [10, -1],\n",
       " [-1],\n",
       " [8, -1],\n",
       " [-1],\n",
       " [-1],\n",
       " [-1],\n",
       " [-1],\n",
       " [15],\n",
       " [-1],\n",
       " [1, 193, 11, 19, 21, -1, 63],\n",
       " [37, -1],\n",
       " [-1],\n",
       " [53, -1],\n",
       " [28, -1],\n",
       " [0, 1, 49, 27, -1],\n",
       " [155, 45, -1],\n",
       " [72],\n",
       " [51, -1],\n",
       " [-1],\n",
       " [-1],\n",
       " [2, -1],\n",
       " [59, 30, -1],\n",
       " [45, -1, 63],\n",
       " [48, 142],\n",
       " [-1],\n",
       " [3, 4, 41, 10, 14, 21, 344, -1],\n",
       " [-1],\n",
       " [10],\n",
       " [1, -1],\n",
       " [30],\n",
       " [49, -1],\n",
       " [49],\n",
       " [1, 13, 112, 16, -1, 190],\n",
       " [13, -1],\n",
       " [8, 261, -1],\n",
       " [15],\n",
       " [-1],\n",
       " [10, 101, -1],\n",
       " [144, 54, -1],\n",
       " [278],\n",
       " [19],\n",
       " [1, 80, 156, 20, 121, 28, -1, 57],\n",
       " [30],\n",
       " [-1],\n",
       " [9, 82, -1],\n",
       " [-1],\n",
       " [64, 43, 27, -1],\n",
       " [-1],\n",
       " [37, -1],\n",
       " [-1],\n",
       " [-1],\n",
       " [71],\n",
       " [0, 56, 37, -1],\n",
       " [-1],\n",
       " [-1],\n",
       " [-1],\n",
       " [249],\n",
       " [57, 61],\n",
       " [36],\n",
       " [155],\n",
       " [36],\n",
       " [-1],\n",
       " [128, 82, 42, -1],\n",
       " [112, 83, 87, -1, 159],\n",
       " [357, -1, 31],\n",
       " [-1],\n",
       " [9, -1, 265],\n",
       " [55],\n",
       " [-1],\n",
       " [249],\n",
       " [46],\n",
       " [-1],\n",
       " [101, 10, 45, 17, 19, 84, 28, -1],\n",
       " [113, 182, -1],\n",
       " [35],\n",
       " [115, 4],\n",
       " [-1],\n",
       " [1, -1],\n",
       " [-1],\n",
       " [75],\n",
       " [-1],\n",
       " [0, -1],\n",
       " [0, -1],\n",
       " [-1],\n",
       " [112, 2, -1],\n",
       " [-1],\n",
       " [146],\n",
       " [79],\n",
       " [0, 1, 105, 43, 93, -1],\n",
       " [0, 74, 43, 11, 22, 93, -1],\n",
       " [0, 1, 93, -1],\n",
       " [70],\n",
       " [8, -1],\n",
       " [-1],\n",
       " [-1],\n",
       " [83, 84, -1],\n",
       " [8, 68, -1],\n",
       " [-1],\n",
       " [152, 33, -1],\n",
       " [-1],\n",
       " [-1],\n",
       " [1, 18, -1],\n",
       " [-1, 30],\n",
       " [-1],\n",
       " [213, -1],\n",
       " [-1],\n",
       " [1, 2, 19, -1],\n",
       " [-1],\n",
       " [1],\n",
       " [-1],\n",
       " [100],\n",
       " [-1],\n",
       " [16, 1, -1],\n",
       " [1, -1, 6],\n",
       " [-1],\n",
       " [218, -1],\n",
       " [42, 37, -1],\n",
       " [106, 4, -1],\n",
       " [127, 133, -1, 351],\n",
       " [-1],\n",
       " [-1],\n",
       " [70],\n",
       " [1, 5, 74, 13, 147, 29, -1],\n",
       " [22, -1],\n",
       " [56, 74, 13, -1],\n",
       " [-1],\n",
       " [211, -1],\n",
       " [2, -1, 14],\n",
       " [-1],\n",
       " [-1],\n",
       " [174, -1],\n",
       " [120],\n",
       " [9, 203, -1, 62, 63],\n",
       " [1, -1, 119],\n",
       " [-1],\n",
       " [28, -1],\n",
       " [134],\n",
       " [224, -1],\n",
       " [-1],\n",
       " [88, -1],\n",
       " [-1],\n",
       " [-1],\n",
       " [46, -1],\n",
       " [21],\n",
       " [-1],\n",
       " [153, -1],\n",
       " [-1],\n",
       " [-1],\n",
       " [171, -1],\n",
       " [1, -1, 41],\n",
       " [92, -1],\n",
       " [-1],\n",
       " [-1],\n",
       " [247, 188, -1, 287],\n",
       " [36, 136, 155, 44, 27, -1],\n",
       " [48, -1, 183],\n",
       " [178, 60, -1],\n",
       " [-1],\n",
       " [2],\n",
       " [6],\n",
       " [346, 4, -1],\n",
       " [338, 56, 120, 253, -1],\n",
       " [160, 270, -1, 6],\n",
       " [226, -1],\n",
       " [-1],\n",
       " [128, 257, 12, 44, -1],\n",
       " [9, -1],\n",
       " [129],\n",
       " [142],\n",
       " [5, -1],\n",
       " [5, -1],\n",
       " [145, 5, -1],\n",
       " [98, 34, 3, 5, 135, 8, 30, 28, -1],\n",
       " [0, 98],\n",
       " [299, -1],\n",
       " [28, -1],\n",
       " [67, 53, -1],\n",
       " [-1],\n",
       " [82, 125, 5, -1],\n",
       " [11, -1],\n",
       " [17, -1],\n",
       " [-1],\n",
       " [-1],\n",
       " [58, 134, -1],\n",
       " [-1],\n",
       " [-1],\n",
       " [113, -1, 255],\n",
       " [-1],\n",
       " [1, 154, 99, -1],\n",
       " [1, 42, 236, 81, 254, 153, -1],\n",
       " [24],\n",
       " [-1],\n",
       " [266, 92, -1, 119],\n",
       " [15],\n",
       " [-1],\n",
       " [233, 342],\n",
       " [-1],\n",
       " [2, 12],\n",
       " [-1],\n",
       " [291],\n",
       " [-1],\n",
       " [249],\n",
       " [-1],\n",
       " [19, 221],\n",
       " [-1],\n",
       " [-1],\n",
       " [-1],\n",
       " [-1],\n",
       " [-1],\n",
       " [142, -1],\n",
       " [-1],\n",
       " [-1],\n",
       " [-1],\n",
       " [89, 19, -1],\n",
       " [160, 1, 4, 261, 104, 9, 275, 212, 117, 22, 29, -1],\n",
       " [160, 1, -1],\n",
       " [160, 1, -1],\n",
       " [-1, 55],\n",
       " [219],\n",
       " [5, -1],\n",
       " [-1],\n",
       " [-1],\n",
       " [47],\n",
       " [224, 7, 11, 43, 110, 145, 118, -1],\n",
       " [-1, 7],\n",
       " [7, 8, 41, 114, -1],\n",
       " [-1],\n",
       " [38, 10, 11, 54, -1],\n",
       " [2, 130, 6, 8, 330, 46, 30, 62, 153, 26, -1],\n",
       " [147, 4, -1, 31],\n",
       " [128, -1],\n",
       " [-1],\n",
       " [112],\n",
       " [-1],\n",
       " [112],\n",
       " [-1],\n",
       " [-1],\n",
       " [-1],\n",
       " [-1],\n",
       " [9, 106, -1],\n",
       " [-1],\n",
       " [-1],\n",
       " [50, 11, -1],\n",
       " [106, 11, 4, -1],\n",
       " [-1],\n",
       " [41, 22, -1],\n",
       " [6],\n",
       " [1, 130, -1],\n",
       " [-1],\n",
       " [0, -1],\n",
       " [0],\n",
       " [0],\n",
       " [-1],\n",
       " [25, 28, 237],\n",
       " [44, -1],\n",
       " [19, -1],\n",
       " [-1],\n",
       " [-1],\n",
       " [187],\n",
       " [24, 40, 188, -1],\n",
       " [10],\n",
       " [253],\n",
       " [93],\n",
       " [-1],\n",
       " [19, 61],\n",
       " [-1],\n",
       " [-1],\n",
       " [-1],\n",
       " [-1],\n",
       " [72, 0, -1],\n",
       " [92],\n",
       " [47],\n",
       " [-1],\n",
       " [-1],\n",
       " [121, -1],\n",
       " [-1],\n",
       " [210],\n",
       " [88, 19, 61, -1],\n",
       " [207],\n",
       " [201, 299, -1, 22],\n",
       " [1, 340, -1],\n",
       " [-1],\n",
       " [128, 150, 205, -1],\n",
       " [-1],\n",
       " [-1],\n",
       " [24, 77],\n",
       " [-1],\n",
       " [-1],\n",
       " [98, 26, 82, -1],\n",
       " [98, 334, 26, 156, -1],\n",
       " [133, -1],\n",
       " [10, -1, 30],\n",
       " [-1],\n",
       " [0],\n",
       " [-1],\n",
       " [2, -1],\n",
       " [285, -1],\n",
       " [-1],\n",
       " [139, -1],\n",
       " [177],\n",
       " [261, -1, 63],\n",
       " [246, -1],\n",
       " [-1],\n",
       " [-1],\n",
       " [-1],\n",
       " [181],\n",
       " [-1],\n",
       " [-1],\n",
       " [-1],\n",
       " [134],\n",
       " [8, 300],\n",
       " [34],\n",
       " [-1],\n",
       " [44, -1],\n",
       " [9],\n",
       " [147],\n",
       " [355, 6, 327, 11, 46, 311, 152, -1],\n",
       " [92],\n",
       " [-1],\n",
       " [82, -1],\n",
       " [1, 67, 235, 12, 108, 47, 82, 19, 20, 21, 54, 182, 244, 25, 28, -1],\n",
       " [64, 99, 5, 235, 173, 19, 180, 87, 28, -1],\n",
       " [4, 104, 137, 235, 180, 53, 24, 89, -1],\n",
       " [42, 173, -1, 295],\n",
       " [40, 82, 77, -1],\n",
       " [9, 13, 63],\n",
       " [110],\n",
       " [27],\n",
       " [-1],\n",
       " [67, 24, 92, -1, 63],\n",
       " [-1],\n",
       " [-1],\n",
       " [219, -1],\n",
       " [-1],\n",
       " [112, -1, 47],\n",
       " [-1],\n",
       " [-1],\n",
       " [-1],\n",
       " [244, -1, 22],\n",
       " [-1],\n",
       " [75, -1],\n",
       " [-1],\n",
       " [128, -1],\n",
       " [-1],\n",
       " [48, 49],\n",
       " [109],\n",
       " [-1],\n",
       " [105],\n",
       " [-1],\n",
       " [309, 219, 325, -1],\n",
       " [249],\n",
       " [227, 6, 106, 76, 117, 56, -1],\n",
       " [-1],\n",
       " [106, 43, -1, 6],\n",
       " [106, 117, -1],\n",
       " [41, 115, -1],\n",
       " [-1],\n",
       " [50, -1],\n",
       " [259, 189, -1],\n",
       " [350],\n",
       " [-1],\n",
       " [-1],\n",
       " [257, -1],\n",
       " [190],\n",
       " [32, -1],\n",
       " [0, 121, 13, -1],\n",
       " [273],\n",
       " [-1],\n",
       " [56, -1, 23],\n",
       " [-1],\n",
       " [6],\n",
       " [-1],\n",
       " [-1],\n",
       " [172],\n",
       " [-1],\n",
       " [91],\n",
       " [2, 98, 19, 153, -1],\n",
       " [80, -1],\n",
       " [-1, 30],\n",
       " [152, 1, 154, -1],\n",
       " [89, 22, -1],\n",
       " [1, -1],\n",
       " [256, 1, 38, 72, 11, 81, 53, 21, 149, 120, -1],\n",
       " [12],\n",
       " [-1],\n",
       " [91, -1],\n",
       " [-1],\n",
       " [106, -1],\n",
       " [-1],\n",
       " [15],\n",
       " [51],\n",
       " [-1],\n",
       " [-1],\n",
       " [-1],\n",
       " [89],\n",
       " [-1],\n",
       " [-1],\n",
       " [46, 11, 179, -1],\n",
       " [-1],\n",
       " [5, 134],\n",
       " [-1],\n",
       " [25, -1, 6, 30],\n",
       " [75],\n",
       " [118],\n",
       " [1, 98, -1],\n",
       " ...]"
      ]
     },
     "execution_count": 40,
     "metadata": {},
     "output_type": "execute_result"
    }
   ],
   "source": [
    "set_list"
   ]
  },
  {
   "cell_type": "markdown",
   "metadata": {},
   "source": [
    "Reduced to 50 topics"
   ]
  },
  {
   "cell_type": "code",
   "execution_count": 22,
   "metadata": {},
   "outputs": [
    {
     "data": {
      "application/vnd.jupyter.widget-view+json": {
       "model_id": "a68a85b71b544c77bd47140197c855a6",
       "version_major": 2,
       "version_minor": 0
      },
      "text/plain": [
       "Batches:   0%|          | 0/1226 [00:00<?, ?it/s]"
      ]
     },
     "metadata": {},
     "output_type": "display_data"
    },
    {
     "name": "stderr",
     "output_type": "stream",
     "text": [
      "2023-09-04 14:15:38,930 - BERTopic - Transformed documents to Embeddings\n",
      "2023-09-04 14:15:59,230 - BERTopic - Reduced dimensionality\n"
     ]
    },
    {
     "name": "stdout",
     "output_type": "stream",
     "text": [
      "huggingface/tokenizers: The current process just got forked, after parallelism has already been used. Disabling parallelism to avoid deadlocks...\n",
      "To disable this warning, you can either:\n",
      "\t- Avoid using `tokenizers` before the fork if possible\n",
      "\t- Explicitly set the environment variable TOKENIZERS_PARALLELISM=(true | false)\n",
      "huggingface/tokenizers: The current process just got forked, after parallelism has already been used. Disabling parallelism to avoid deadlocks...\n",
      "To disable this warning, you can either:\n",
      "\t- Avoid using `tokenizers` before the fork if possible\n",
      "\t- Explicitly set the environment variable TOKENIZERS_PARALLELISM=(true | false)\n",
      "huggingface/tokenizers: The current process just got forked, after parallelism has already been used. Disabling parallelism to avoid deadlocks...\n",
      "To disable this warning, you can either:\n",
      "\t- Avoid using `tokenizers` before the fork if possible\n",
      "\t- Explicitly set the environment variable TOKENIZERS_PARALLELISM=(true | false)\n",
      "huggingface/tokenizers: The current process just got forked, after parallelism has already been used. Disabling parallelism to avoid deadlocks...\n",
      "To disable this warning, you can either:\n",
      "\t- Avoid using `tokenizers` before the fork if possible\n",
      "\t- Explicitly set the environment variable TOKENIZERS_PARALLELISM=(true | false)\n"
     ]
    },
    {
     "name": "stderr",
     "output_type": "stream",
     "text": [
      "2023-09-04 14:19:35,767 - BERTopic - Clustered reduced embeddings\n",
      "100%|██████████| 356/356 [02:49<00:00,  2.10it/s]\n",
      "100%|██████████| 50/50 [00:28<00:00,  1.78it/s]\n",
      "2023-09-04 14:37:13,247 - BERTopic - Reduced number of topics from 356 to 50\n"
     ]
    }
   ],
   "source": [
    "topic_model_0_join_50, topics_0_join_50, probs_0_join_50 = topic_extractor.bert_advanced(corpus_window_0_join_df['processed_text'].to_list(), representation_model=representation_model, embedding_model=sentence_model_light, nr_topics=50)"
   ]
  },
  {
   "cell_type": "code",
   "execution_count": 23,
   "metadata": {},
   "outputs": [
    {
     "data": {
      "text/html": [
       "<div>\n",
       "<style scoped>\n",
       "    .dataframe tbody tr th:only-of-type {\n",
       "        vertical-align: middle;\n",
       "    }\n",
       "\n",
       "    .dataframe tbody tr th {\n",
       "        vertical-align: top;\n",
       "    }\n",
       "\n",
       "    .dataframe thead th {\n",
       "        text-align: right;\n",
       "    }\n",
       "</style>\n",
       "<table border=\"1\" class=\"dataframe\">\n",
       "  <thead>\n",
       "    <tr style=\"text-align: right;\">\n",
       "      <th></th>\n",
       "      <th>Topic</th>\n",
       "      <th>Count</th>\n",
       "      <th>Name</th>\n",
       "      <th>Representation</th>\n",
       "      <th>Chain: Inspired - MMR</th>\n",
       "      <th>Chain: Inspired - MMR - POS</th>\n",
       "      <th>Generator chain: Inspired - MMR</th>\n",
       "      <th>Representative_Docs</th>\n",
       "    </tr>\n",
       "  </thead>\n",
       "  <tbody>\n",
       "    <tr>\n",
       "      <th>0</th>\n",
       "      <td>-1</td>\n",
       "      <td>20552</td>\n",
       "      <td>-1_impact_economic_demand_effect</td>\n",
       "      <td>[impact, economic, demand, effect, inflation, ...</td>\n",
       "      <td>[impact, economic, demand, effect, inflation, ...</td>\n",
       "      <td>[war, impact, year, business, market, quarter,...</td>\n",
       "      <td>[economics, , , , , , , , , ]</td>\n",
       "      <td>[ongoing event include covid mitigation effort...</td>\n",
       "    </tr>\n",
       "    <tr>\n",
       "      <th>1</th>\n",
       "      <td>0</td>\n",
       "      <td>6643</td>\n",
       "      <td>0_inflation_demand_war_shortage</td>\n",
       "      <td>[inflation, demand, war, shortage, supply, gas...</td>\n",
       "      <td>[inflation, demand, war, shortage, supply, gas...</td>\n",
       "      <td>[supply, gas, war, chain, inflation, price, ma...</td>\n",
       "      <td>[oil, , , , , , , , , ]</td>\n",
       "      <td>[concerned ongoing global logistics constraint...</td>\n",
       "    </tr>\n",
       "    <tr>\n",
       "      <th>2</th>\n",
       "      <td>1</td>\n",
       "      <td>3037</td>\n",
       "      <td>1_earnings_revenue_million_billion</td>\n",
       "      <td>[earnings, revenue, million, billion, investme...</td>\n",
       "      <td>[earnings, revenue, million, billion, investme...</td>\n",
       "      <td>[business, exposure, eur, impairment, revenue,...</td>\n",
       "      <td>[ebitda, , , , , , , , , ]</td>\n",
       "      <td>[talk net exposure eur million, combination co...</td>\n",
       "    </tr>\n",
       "    <tr>\n",
       "      <th>3</th>\n",
       "      <td>2</td>\n",
       "      <td>1602</td>\n",
       "      <td>2_war_military_conflict_peace</td>\n",
       "      <td>[war, military, conflict, peace, crisis, invas...</td>\n",
       "      <td>[war, military, conflict, peace, crisis, invas...</td>\n",
       "      <td>[war, conflict, geopolitical, people, uncertai...</td>\n",
       "      <td>[war, conflict, peace, business, , , , , , , ,...</td>\n",
       "      <td>[war, war, war]</td>\n",
       "    </tr>\n",
       "    <tr>\n",
       "      <th>4</th>\n",
       "      <td>3</td>\n",
       "      <td>1402</td>\n",
       "      <td>3_belarus_belarusian_kazakhstan_poland</td>\n",
       "      <td>[belarus, belarusian, kazakhstan, poland, ukra...</td>\n",
       "      <td>[belarus, belarusian, kazakhstan, poland, ukra...</td>\n",
       "      <td>[ukrainian, business, country, people, belarus...</td>\n",
       "      <td>[belarus, , , , , , , , , ]</td>\n",
       "      <td>[belarus material, year go belarus, belarus]</td>\n",
       "    </tr>\n",
       "    <tr>\n",
       "      <th>5</th>\n",
       "      <td>4</td>\n",
       "      <td>567</td>\n",
       "      <td>4_invasion_invade_attack_war</td>\n",
       "      <td>[invasion, invade, attack, war, warfare, impac...</td>\n",
       "      <td>[invasion, invade, attack, war, warfare, impac...</td>\n",
       "      <td>[invasion, defense, drone, cyber, invade, atta...</td>\n",
       "      <td>[invasion of iraq, , , , , , , , , ]</td>\n",
       "      <td>[impact invasion business, invasion, year inva...</td>\n",
       "    </tr>\n",
       "    <tr>\n",
       "      <th>6</th>\n",
       "      <td>5</td>\n",
       "      <td>531</td>\n",
       "      <td>5_patient_clinical_trial_hospital</td>\n",
       "      <td>[patient, clinical, trial, hospital, fda, medi...</td>\n",
       "      <td>[patient, clinical, trial, hospital, fda, medi...</td>\n",
       "      <td>[patient, trial, humanitarian, support, study,...</td>\n",
       "      <td>[fda - a clinical trial of a drug called a ste...</td>\n",
       "      <td>[look patient patient, development start new c...</td>\n",
       "    </tr>\n",
       "    <tr>\n",
       "      <th>7</th>\n",
       "      <td>6</td>\n",
       "      <td>479</td>\n",
       "      <td>6_export_exporting_exporter_import</td>\n",
       "      <td>[export, exporting, exporter, import, ship, sh...</td>\n",
       "      <td>[export, exporting, exporter, import, ship, sh...</td>\n",
       "      <td>[export, port, import, shipment, sea, ship, ca...</td>\n",
       "      <td>[import &amp; export of cargo from port, , , , , ,...</td>\n",
       "      <td>[export, export, export]</td>\n",
       "    </tr>\n",
       "    <tr>\n",
       "      <th>8</th>\n",
       "      <td>7</td>\n",
       "      <td>412</td>\n",
       "      <td>7_impact_impacting_effect_damage</td>\n",
       "      <td>[impact, impacting, effect, damage, hit, invas...</td>\n",
       "      <td>[impact, impacting, effect, damage, hit, invas...</td>\n",
       "      <td>[impact, omicron, quarter, easter, q1, damage,...</td>\n",
       "      <td>[impact of hurricane katrina, , , , , , , , , ]</td>\n",
       "      <td>[impact, ahead pre-covid number summer recover...</td>\n",
       "    </tr>\n",
       "    <tr>\n",
       "      <th>9</th>\n",
       "      <td>8</td>\n",
       "      <td>412</td>\n",
       "      <td>8_employee_colleague_employ_payroll</td>\n",
       "      <td>[employee, colleague, employ, payroll, office,...</td>\n",
       "      <td>[employee, colleague, employ, payroll, office,...</td>\n",
       "      <td>[employee, colleague, family, safety, people, ...</td>\n",
       "      <td>[employee of a company employing a colleague o...</td>\n",
       "      <td>[employee, employee business consequence emplo...</td>\n",
       "    </tr>\n",
       "    <tr>\n",
       "      <th>10</th>\n",
       "      <td>9</td>\n",
       "      <td>408</td>\n",
       "      <td>9_sanction_compliance_regulation_impact</td>\n",
       "      <td>[sanction, compliance, regulation, impact, reg...</td>\n",
       "      <td>[sanction, compliance, regulation, impact, reg...</td>\n",
       "      <td>[sanction, aircraft, lease, government, uniper...</td>\n",
       "      <td>[impose sanctions on government, , , , , , , ,...</td>\n",
       "      <td>[conflict lead sanction impose government u.s....</td>\n",
       "    </tr>\n",
       "    <tr>\n",
       "      <th>11</th>\n",
       "      <td>10</td>\n",
       "      <td>350</td>\n",
       "      <td>10_currency_fx_forex_euro</td>\n",
       "      <td>[currency, fx, forex, euro, yen, yuan, dollar,...</td>\n",
       "      <td>[currency, fx, forex, euro, yen, yuan, dollar,...</td>\n",
       "      <td>[ruble, fx, currency, arr, growth, dollar, eps...</td>\n",
       "      <td>[forex currency, , , , , , , , , ]</td>\n",
       "      <td>[yes mention factor fx effect fx exit business...</td>\n",
       "    </tr>\n",
       "    <tr>\n",
       "      <th>12</th>\n",
       "      <td>11</td>\n",
       "      <td>221</td>\n",
       "      <td>11_exposure_photography_visibility_expose</td>\n",
       "      <td>[exposure, photography, visibility, expose, tr...</td>\n",
       "      <td>[exposure, photography, visibility, expose, tr...</td>\n",
       "      <td>[exposure, direct, small, visibility, little, ...</td>\n",
       "      <td>[photography exposure, , , , , , , , , ]</td>\n",
       "      <td>[exposure, exposure, exposure]</td>\n",
       "    </tr>\n",
       "    <tr>\n",
       "      <th>13</th>\n",
       "      <td>12</td>\n",
       "      <td>204</td>\n",
       "      <td>12_exit_exiting_exited_leave</td>\n",
       "      <td>[exit, exiting, exited, leave, end, withdraw, ...</td>\n",
       "      <td>[exit, exiting, exited, leave, end, withdraw, ...</td>\n",
       "      <td>[exit, decision, business, leave, process, mar...</td>\n",
       "      <td>[exiting, , , , , , , , , ]</td>\n",
       "      <td>[exit, exit, exit]</td>\n",
       "    </tr>\n",
       "    <tr>\n",
       "      <th>14</th>\n",
       "      <td>13</td>\n",
       "      <td>196</td>\n",
       "      <td>13_china_taiwan_shanghai_japan</td>\n",
       "      <td>[china, taiwan, shanghai, japan, chinese, kore...</td>\n",
       "      <td>[china, taiwan, shanghai, japan, chinese, kore...</td>\n",
       "      <td>[china, country, decline, chinese, big, market...</td>\n",
       "      <td>[thailand, , , , , , , , , ]</td>\n",
       "      <td>[term country geopolitical risk issue see taiw...</td>\n",
       "    </tr>\n",
       "    <tr>\n",
       "      <th>15</th>\n",
       "      <td>14</td>\n",
       "      <td>148</td>\n",
       "      <td>14_go_happen_situation_know</td>\n",
       "      <td>[go, happen, situation, know, come, wait, play...</td>\n",
       "      <td>[go, happen, situation, know, come, wait, play...</td>\n",
       "      <td>[situation, happen, special, uptick, due, bot,...</td>\n",
       "      <td>[oh come on, come on, come on, come on, come o...</td>\n",
       "      <td>[obviously know go happen situation play, obvi...</td>\n",
       "    </tr>\n",
       "    <tr>\n",
       "      <th>16</th>\n",
       "      <td>15</td>\n",
       "      <td>148</td>\n",
       "      <td>15_volume_decrease_impact_decline</td>\n",
       "      <td>[volume, decrease, impact, decline, extent, re...</td>\n",
       "      <td>[volume, decrease, impact, decline, extent, re...</td>\n",
       "      <td>[volume, decline, consolidation, tolling, meth...</td>\n",
       "      <td>[tolling, , , , , , , , , ]</td>\n",
       "      <td>[include volume decline, impact volume, volume]</td>\n",
       "    </tr>\n",
       "    <tr>\n",
       "      <th>17</th>\n",
       "      <td>16</td>\n",
       "      <td>140</td>\n",
       "      <td>16_capex_capexe_investment_invest</td>\n",
       "      <td>[capex, capexe, investment, invest, investor, ...</td>\n",
       "      <td>[capex, capexe, investment, invest, investor, ...</td>\n",
       "      <td>[capex, asset, investment, capital, fund, port...</td>\n",
       "      <td>[investment fund capex, , , , , , , , , ]</td>\n",
       "      <td>[investment hold capex probably low end range,...</td>\n",
       "    </tr>\n",
       "    <tr>\n",
       "      <th>18</th>\n",
       "      <td>17</td>\n",
       "      <td>126</td>\n",
       "      <td>17_airspace_overflight_closure_flight</td>\n",
       "      <td>[airspace, overflight, closure, flight, airlin...</td>\n",
       "      <td>[airspace, overflight, closure, flight, airlin...</td>\n",
       "      <td>[airspace, fly, closure, asia, flight, air, sp...</td>\n",
       "      <td>[airline flies overflights, , , , , , , , , ]</td>\n",
       "      <td>[obviously year closure airspace have signific...</td>\n",
       "    </tr>\n",
       "    <tr>\n",
       "      <th>19</th>\n",
       "      <td>18</td>\n",
       "      <td>123</td>\n",
       "      <td>18_pig_iron_supply_gold</td>\n",
       "      <td>[pig, iron, supply, gold, bank, cobalt, suppli...</td>\n",
       "      <td>[pig, iron, supply, gold, bank, cobalt, suppli...</td>\n",
       "      <td>[gold, iron, pig, diamond, cobalt, buy, nordio...</td>\n",
       "      <td>[cobalt is a metallic source of iron and cobal...</td>\n",
       "      <td>[far pig iron production discontinue american ...</td>\n",
       "    </tr>\n",
       "    <tr>\n",
       "      <th>20</th>\n",
       "      <td>19</td>\n",
       "      <td>123</td>\n",
       "      <td>19_speak_talk_speech_conversation</td>\n",
       "      <td>[speak, talk, speech, conversation, speaker, c...</td>\n",
       "      <td>[speak, talk, speech, conversation, speaker, c...</td>\n",
       "      <td>[speak, talk, question, conversation, way, mus...</td>\n",
       "      <td>[english speaking speaker, , , , , , , , , ]</td>\n",
       "      <td>[speak, speak, speak]</td>\n",
       "    </tr>\n",
       "    <tr>\n",
       "      <th>21</th>\n",
       "      <td>20</td>\n",
       "      <td>114</td>\n",
       "      <td>20_expect_expectation_forecast_earnings</td>\n",
       "      <td>[expect, expectation, forecast, earnings, grow...</td>\n",
       "      <td>[expect, expectation, forecast, earnings, grow...</td>\n",
       "      <td>[expect, expectation, year, sale, growth, impa...</td>\n",
       "      <td>[adrian mcdonald expects earnings growth, , , ...</td>\n",
       "      <td>[continue expect second half fiscal like like ...</td>\n",
       "    </tr>\n",
       "    <tr>\n",
       "      <th>22</th>\n",
       "      <td>21</td>\n",
       "      <td>114</td>\n",
       "      <td>21_course_study_guidance_decline</td>\n",
       "      <td>[course, study, guidance, decline, situation, ...</td>\n",
       "      <td>[course, study, guidance, decline, situation, ...</td>\n",
       "      <td>[course, guidance, development, sale, situatio...</td>\n",
       "      <td>[a guide to developing a career in education, ...</td>\n",
       "      <td>[mention course, course conflict, course situa...</td>\n",
       "    </tr>\n",
       "    <tr>\n",
       "      <th>23</th>\n",
       "      <td>22</td>\n",
       "      <td>99</td>\n",
       "      <td>22_reserve_mhp_operational_financial</td>\n",
       "      <td>[reserve, mhp, operational, financial, environ...</td>\n",
       "      <td>[reserve, mhp, operational, financial, environ...</td>\n",
       "      <td>[reserve, capacity, rest, mhp, book, operation...</td>\n",
       "      <td>[mhp, , , , , , , , , ]</td>\n",
       "      <td>[today viktoria kapelyushnaya cfo mhp discuss ...</td>\n",
       "    </tr>\n",
       "    <tr>\n",
       "      <th>24</th>\n",
       "      <td>23</td>\n",
       "      <td>98</td>\n",
       "      <td>23_news_journalist_reuters_newsletter</td>\n",
       "      <td>[news, journalist, reuters, newsletter, headli...</td>\n",
       "      <td>[news, journalist, reuters, newsletter, headli...</td>\n",
       "      <td>[news, event, journalist, image, day, acknowle...</td>\n",
       "      <td>[cnn cnn news reuters daily newsletter, , , , ...</td>\n",
       "      <td>[thought like news sure continue follow day, n...</td>\n",
       "    </tr>\n",
       "    <tr>\n",
       "      <th>25</th>\n",
       "      <td>24</td>\n",
       "      <td>83</td>\n",
       "      <td>24_operation_operate_operational_operator</td>\n",
       "      <td>[operation, operate, operational, operator, op...</td>\n",
       "      <td>[operation, operate, operational, operator, op...</td>\n",
       "      <td>[operation, activity, performance, bit, today,...</td>\n",
       "      <td>[operation and control of medical equipment, ,...</td>\n",
       "      <td>[operation, operation, operation]</td>\n",
       "    </tr>\n",
       "    <tr>\n",
       "      <th>26</th>\n",
       "      <td>25</td>\n",
       "      <td>81</td>\n",
       "      <td>25_wiring_harness_wire_electrical</td>\n",
       "      <td>[wiring, harness, wire, electrical, europe, ca...</td>\n",
       "      <td>[wiring, harness, wire, electrical, europe, ca...</td>\n",
       "      <td>[harness, wiring, wire, cable, production, aut...</td>\n",
       "      <td>[wiring harness for a tv plant in europe, , , ...</td>\n",
       "      <td>[wiring harness european plant come country, w...</td>\n",
       "    </tr>\n",
       "    <tr>\n",
       "      <th>27</th>\n",
       "      <td>26</td>\n",
       "      <td>80</td>\n",
       "      <td>26____</td>\n",
       "      <td>[, , , , , , , , , ]</td>\n",
       "      <td>[, , , , , , , , , ]</td>\n",
       "      <td>[, , , , , , , , , ]</td>\n",
       "      <td>[a sailor 's hat, , , , , , , , , ]</td>\n",
       "      <td>[ex, yeah, delighted front]</td>\n",
       "    </tr>\n",
       "    <tr>\n",
       "      <th>28</th>\n",
       "      <td>27</td>\n",
       "      <td>76</td>\n",
       "      <td>27_think_thought_opinion_question</td>\n",
       "      <td>[think, thought, opinion, question, answer, in...</td>\n",
       "      <td>[think, thought, opinion, question, answer, in...</td>\n",
       "      <td>[think, question, people, situation, thing, me...</td>\n",
       "      <td>[rethinking, , , , , , , , , ]</td>\n",
       "      <td>[think question thought, think think, think]</td>\n",
       "    </tr>\n",
       "    <tr>\n",
       "      <th>29</th>\n",
       "      <td>28</td>\n",
       "      <td>73</td>\n",
       "      <td>28_relocate_relocation_migrate_move</td>\n",
       "      <td>[relocate, relocation, migrate, move, employee...</td>\n",
       "      <td>[relocate, relocation, migrate, move, employee...</td>\n",
       "      <td>[relocate, remittance, employee, georgia, relo...</td>\n",
       "      <td>[migrant workers relocate to new locations, , ...</td>\n",
       "      <td>[employee want relocate relocate majority popu...</td>\n",
       "    </tr>\n",
       "    <tr>\n",
       "      <th>30</th>\n",
       "      <td>29</td>\n",
       "      <td>62</td>\n",
       "      <td>29_slide_presentation_move_effect</td>\n",
       "      <td>[slide, presentation, move, effect, op, update...</td>\n",
       "      <td>[slide, presentation, move, effect, op, update...</td>\n",
       "      <td>[slide, update, look, presentation, bit, busin...</td>\n",
       "      <td>[slide show dislocation, , , , , , , , , ]</td>\n",
       "      <td>[slide come slide look market versus performan...</td>\n",
       "    </tr>\n",
       "    <tr>\n",
       "      <th>31</th>\n",
       "      <td>30</td>\n",
       "      <td>61</td>\n",
       "      <td>30_ton_tonne_million_500000</td>\n",
       "      <td>[ton, tonne, million, 500000, production, 1500...</td>\n",
       "      <td>[ton, tonne, million, 500000, production, 1500...</td>\n",
       "      <td>[tonne, ton, barrel, day, come, reserve, chart...</td>\n",
       "      <td>[tonne, , , , , , , , , ]</td>\n",
       "      <td>[country account world corn trade flow million...</td>\n",
       "    </tr>\n",
       "    <tr>\n",
       "      <th>32</th>\n",
       "      <td>31</td>\n",
       "      <td>52</td>\n",
       "      <td>31_titanium_supplier_steelmaking_manufacturing</td>\n",
       "      <td>[titanium, supplier, steelmaking, manufacturin...</td>\n",
       "      <td>[titanium, supplier, steelmaking, manufacturin...</td>\n",
       "      <td>[titanium, neon, source, supplier, come, aeros...</td>\n",
       "      <td>[titanium is a manufacturer of stainless steel...</td>\n",
       "      <td>[opportunity increase share titanium business ...</td>\n",
       "    </tr>\n",
       "    <tr>\n",
       "      <th>33</th>\n",
       "      <td>32</td>\n",
       "      <td>48</td>\n",
       "      <td>32_sorting_sort_tend_seasonality</td>\n",
       "      <td>[sorting, sort, tend, seasonality, forecast, m...</td>\n",
       "      <td>[sorting, sort, tend, seasonality, forecast, m...</td>\n",
       "      <td>[sort, try, time, pick, position, season, pina...</td>\n",
       "      <td>[a forecast for the market, , , , , , , , , ]</td>\n",
       "      <td>[trial pretty continue sort normally obviously...</td>\n",
       "    </tr>\n",
       "    <tr>\n",
       "      <th>34</th>\n",
       "      <td>33</td>\n",
       "      <td>47</td>\n",
       "      <td>33_backlog_year_billion_million</td>\n",
       "      <td>[backlog, year, billion, million, project, amo...</td>\n",
       "      <td>[backlog, year, billion, million, project, amo...</td>\n",
       "      <td>[backlog, project, nonconsolidated, eur, cance...</td>\n",
       "      <td>[a billion dollar project, , , , , , , , , ]</td>\n",
       "      <td>[roughly close million backlog, quarter backlo...</td>\n",
       "    </tr>\n",
       "    <tr>\n",
       "      <th>35</th>\n",
       "      <td>34</td>\n",
       "      <td>41</td>\n",
       "      <td>34_year_annual_era_trend</td>\n",
       "      <td>[year, annual, era, trend, recently, business,...</td>\n",
       "      <td>[year, annual, era, trend, recently, business,...</td>\n",
       "      <td>[year, start, business, kind, good, sirona, in...</td>\n",
       "      <td>[adolescent era, , , , , , , , , ]</td>\n",
       "      <td>[year think, year, year]</td>\n",
       "    </tr>\n",
       "    <tr>\n",
       "      <th>36</th>\n",
       "      <td>35</td>\n",
       "      <td>34</td>\n",
       "      <td>35_start_starting_begin_beginning</td>\n",
       "      <td>[start, starting, begin, beginning, stop, want...</td>\n",
       "      <td>[start, starting, begin, beginning, stop, want...</td>\n",
       "      <td>[start, question, answer, welcoming, complemen...</td>\n",
       "      <td>[hire a car hire company to start a new job, ,...</td>\n",
       "      <td>[start, start, start]</td>\n",
       "    </tr>\n",
       "    <tr>\n",
       "      <th>37</th>\n",
       "      <td>36</td>\n",
       "      <td>31</td>\n",
       "      <td>36_store_retailer_shop_retail</td>\n",
       "      <td>[store, retailer, shop, retail, sell, stock, o...</td>\n",
       "      <td>[store, retailer, shop, retail, sell, stock, o...</td>\n",
       "      <td>[store, coverage, focus, close, open, exist, e...</td>\n",
       "      <td>[retail outlet : retail outlet : retail outlet...</td>\n",
       "      <td>[include store, mention early store store, store]</td>\n",
       "    </tr>\n",
       "    <tr>\n",
       "      <th>38</th>\n",
       "      <td>37</td>\n",
       "      <td>23</td>\n",
       "      <td>37_plant_production_facility_environmental</td>\n",
       "      <td>[plant, production, facility, environmental, v...</td>\n",
       "      <td>[plant, production, facility, environmental, v...</td>\n",
       "      <td>[plant, run, season, m5, mattress, available, ...</td>\n",
       "      <td>[plant for the production of verallia, , , , ,...</td>\n",
       "      <td>[plan sell plant, plant, plant continue operate]</td>\n",
       "    </tr>\n",
       "    <tr>\n",
       "      <th>39</th>\n",
       "      <td>38</td>\n",
       "      <td>23</td>\n",
       "      <td>38_number_digit_calculation_factor</td>\n",
       "      <td>[number, digit, calculation, factor, result, i...</td>\n",
       "      <td>[number, digit, calculation, factor, result, i...</td>\n",
       "      <td>[number, falcon, digit, single, color, knob, t...</td>\n",
       "      <td>[digits in a quarter are a factor in how many ...</td>\n",
       "      <td>[number result, number, number impacting number]</td>\n",
       "    </tr>\n",
       "    <tr>\n",
       "      <th>40</th>\n",
       "      <td>39</td>\n",
       "      <td>20</td>\n",
       "      <td>39_carbon_black_europe_european</td>\n",
       "      <td>[carbon, black, europe, european, supply, comm...</td>\n",
       "      <td>[carbon, black, europe, european, supply, comm...</td>\n",
       "      <td>[carbon, black, rubber, synthetic, ingredient,...</td>\n",
       "      <td>[european carbon inventory, , , , , , , , , ]</td>\n",
       "      <td>[yves say black carbon carbon black mainly com...</td>\n",
       "    </tr>\n",
       "    <tr>\n",
       "      <th>41</th>\n",
       "      <td>40</td>\n",
       "      <td>20</td>\n",
       "      <td>40_freight_rail_turnover_railcar</td>\n",
       "      <td>[freight, rail, turnover, railcar, railroad, t...</td>\n",
       "      <td>[freight, rail, turnover, railcar, railroad, t...</td>\n",
       "      <td>[rail, turnover, freight, railroad, railcar, t...</td>\n",
       "      <td>[freight traffic on the railroad, , , , , , , ...</td>\n",
       "      <td>[freight rail turnover go time high, note over...</td>\n",
       "    </tr>\n",
       "    <tr>\n",
       "      <th>42</th>\n",
       "      <td>41</td>\n",
       "      <td>17</td>\n",
       "      <td>41_lady_gentleman_war_mr</td>\n",
       "      <td>[lady, gentleman, war, mr, general, mind, peac...</td>\n",
       "      <td>[lady, gentleman, war, mr, general, mind, peac...</td>\n",
       "      <td>[gentleman, lady, dear, board, supervisory, mi...</td>\n",
       "      <td>[lady in war, , , , , , , , , ]</td>\n",
       "      <td>[lady gentleman aware war turn point, lady gen...</td>\n",
       "    </tr>\n",
       "    <tr>\n",
       "      <th>43</th>\n",
       "      <td>42</td>\n",
       "      <td>17</td>\n",
       "      <td>42_client_business_service_developer</td>\n",
       "      <td>[client, business, service, developer, develop...</td>\n",
       "      <td>[client, business, service, developer, develop...</td>\n",
       "      <td>[client, blo, service, link, situate, business...</td>\n",
       "      <td>[developer manages new business, , , , , , , ,...</td>\n",
       "      <td>[say new business client, new business client,...</td>\n",
       "    </tr>\n",
       "    <tr>\n",
       "      <th>44</th>\n",
       "      <td>43</td>\n",
       "      <td>17</td>\n",
       "      <td>43_presence_meaningful_environment_inside</td>\n",
       "      <td>[presence, meaningful, environment, inside, si...</td>\n",
       "      <td>[presence, meaningful, environment, inside, si...</td>\n",
       "      <td>[presence, thoughtful, significant, small, res...</td>\n",
       "      <td>[location of a place of significance, , , , , ...</td>\n",
       "      <td>[presence, presence, presence]</td>\n",
       "    </tr>\n",
       "    <tr>\n",
       "      <th>45</th>\n",
       "      <td>44</td>\n",
       "      <td>14</td>\n",
       "      <td>44_border_kilometer_kazakhstan_distance</td>\n",
       "      <td>[border, kilometer, kazakhstan, distance, geog...</td>\n",
       "      <td>[border, kilometer, kazakhstan, distance, geog...</td>\n",
       "      <td>[border, kilometer, turkish, cross, maritime, ...</td>\n",
       "      <td>[kazakhstan border - kilometer, , , , , , , , , ]</td>\n",
       "      <td>[thing geographically raise comment kilometer ...</td>\n",
       "    </tr>\n",
       "    <tr>\n",
       "      <th>46</th>\n",
       "      <td>45</td>\n",
       "      <td>13</td>\n",
       "      <td>45_people_group_public_pay</td>\n",
       "      <td>[people, group, public, pay, support, , , , , ]</td>\n",
       "      <td>[people, group, public, pay, support, , , , , ]</td>\n",
       "      <td>[people, stand, public, group, support, , , , , ]</td>\n",
       "      <td>[a group of people pay a visit to a mosque to ...</td>\n",
       "      <td>[people, people, people]</td>\n",
       "    </tr>\n",
       "    <tr>\n",
       "      <th>47</th>\n",
       "      <td>46</td>\n",
       "      <td>13</td>\n",
       "      <td>46_respect_situation_currency_strategy</td>\n",
       "      <td>[respect, situation, currency, strategy, range...</td>\n",
       "      <td>[respect, situation, currency, strategy, range...</td>\n",
       "      <td>[respect, question, answer, control, range, cu...</td>\n",
       "      <td>[currency control, , , , , , , , , ]</td>\n",
       "      <td>[respect sorry respect absolutely change strat...</td>\n",
       "    </tr>\n",
       "    <tr>\n",
       "      <th>48</th>\n",
       "      <td>47</td>\n",
       "      <td>12</td>\n",
       "      <td>47_qatar_qataris_saudi_arabia</td>\n",
       "      <td>[qatar, qataris, saudi, arabia, yemen, iran, m...</td>\n",
       "      <td>[qatar, qataris, saudi, arabia, yemen, iran, m...</td>\n",
       "      <td>[compete, camel, exchange, country, saudi, con...</td>\n",
       "      <td>[qatar, , , , , , , , , ]</td>\n",
       "      <td>[qatar world unfortunately situation price hig...</td>\n",
       "    </tr>\n",
       "    <tr>\n",
       "      <th>49</th>\n",
       "      <td>48</td>\n",
       "      <td>10</td>\n",
       "      <td>48_challenge_face_benefit_get</td>\n",
       "      <td>[challenge, face, benefit, get, cost, talk, re...</td>\n",
       "      <td>[challenge, face, benefit, get, cost, talk, re...</td>\n",
       "      <td>[challenge, right, talk, corona, emerge, prese...</td>\n",
       "      <td>[comparing cost and benefits of a challenge to...</td>\n",
       "      <td>[challenge cost, challenge tell challenge talk...</td>\n",
       "    </tr>\n",
       "  </tbody>\n",
       "</table>\n",
       "</div>"
      ],
      "text/plain": [
       "    Topic  Count                                            Name  \\\n",
       "0      -1  20552                -1_impact_economic_demand_effect   \n",
       "1       0   6643                 0_inflation_demand_war_shortage   \n",
       "2       1   3037              1_earnings_revenue_million_billion   \n",
       "3       2   1602                   2_war_military_conflict_peace   \n",
       "4       3   1402          3_belarus_belarusian_kazakhstan_poland   \n",
       "5       4    567                    4_invasion_invade_attack_war   \n",
       "6       5    531               5_patient_clinical_trial_hospital   \n",
       "7       6    479              6_export_exporting_exporter_import   \n",
       "8       7    412                7_impact_impacting_effect_damage   \n",
       "9       8    412             8_employee_colleague_employ_payroll   \n",
       "10      9    408         9_sanction_compliance_regulation_impact   \n",
       "11     10    350                       10_currency_fx_forex_euro   \n",
       "12     11    221       11_exposure_photography_visibility_expose   \n",
       "13     12    204                    12_exit_exiting_exited_leave   \n",
       "14     13    196                  13_china_taiwan_shanghai_japan   \n",
       "15     14    148                     14_go_happen_situation_know   \n",
       "16     15    148               15_volume_decrease_impact_decline   \n",
       "17     16    140               16_capex_capexe_investment_invest   \n",
       "18     17    126           17_airspace_overflight_closure_flight   \n",
       "19     18    123                         18_pig_iron_supply_gold   \n",
       "20     19    123               19_speak_talk_speech_conversation   \n",
       "21     20    114         20_expect_expectation_forecast_earnings   \n",
       "22     21    114                21_course_study_guidance_decline   \n",
       "23     22     99            22_reserve_mhp_operational_financial   \n",
       "24     23     98           23_news_journalist_reuters_newsletter   \n",
       "25     24     83       24_operation_operate_operational_operator   \n",
       "26     25     81               25_wiring_harness_wire_electrical   \n",
       "27     26     80                                          26____   \n",
       "28     27     76               27_think_thought_opinion_question   \n",
       "29     28     73             28_relocate_relocation_migrate_move   \n",
       "30     29     62               29_slide_presentation_move_effect   \n",
       "31     30     61                     30_ton_tonne_million_500000   \n",
       "32     31     52  31_titanium_supplier_steelmaking_manufacturing   \n",
       "33     32     48                32_sorting_sort_tend_seasonality   \n",
       "34     33     47                 33_backlog_year_billion_million   \n",
       "35     34     41                        34_year_annual_era_trend   \n",
       "36     35     34               35_start_starting_begin_beginning   \n",
       "37     36     31                   36_store_retailer_shop_retail   \n",
       "38     37     23      37_plant_production_facility_environmental   \n",
       "39     38     23              38_number_digit_calculation_factor   \n",
       "40     39     20                 39_carbon_black_europe_european   \n",
       "41     40     20                40_freight_rail_turnover_railcar   \n",
       "42     41     17                        41_lady_gentleman_war_mr   \n",
       "43     42     17            42_client_business_service_developer   \n",
       "44     43     17       43_presence_meaningful_environment_inside   \n",
       "45     44     14         44_border_kilometer_kazakhstan_distance   \n",
       "46     45     13                      45_people_group_public_pay   \n",
       "47     46     13          46_respect_situation_currency_strategy   \n",
       "48     47     12                   47_qatar_qataris_saudi_arabia   \n",
       "49     48     10                   48_challenge_face_benefit_get   \n",
       "\n",
       "                                       Representation  \\\n",
       "0   [impact, economic, demand, effect, inflation, ...   \n",
       "1   [inflation, demand, war, shortage, supply, gas...   \n",
       "2   [earnings, revenue, million, billion, investme...   \n",
       "3   [war, military, conflict, peace, crisis, invas...   \n",
       "4   [belarus, belarusian, kazakhstan, poland, ukra...   \n",
       "5   [invasion, invade, attack, war, warfare, impac...   \n",
       "6   [patient, clinical, trial, hospital, fda, medi...   \n",
       "7   [export, exporting, exporter, import, ship, sh...   \n",
       "8   [impact, impacting, effect, damage, hit, invas...   \n",
       "9   [employee, colleague, employ, payroll, office,...   \n",
       "10  [sanction, compliance, regulation, impact, reg...   \n",
       "11  [currency, fx, forex, euro, yen, yuan, dollar,...   \n",
       "12  [exposure, photography, visibility, expose, tr...   \n",
       "13  [exit, exiting, exited, leave, end, withdraw, ...   \n",
       "14  [china, taiwan, shanghai, japan, chinese, kore...   \n",
       "15  [go, happen, situation, know, come, wait, play...   \n",
       "16  [volume, decrease, impact, decline, extent, re...   \n",
       "17  [capex, capexe, investment, invest, investor, ...   \n",
       "18  [airspace, overflight, closure, flight, airlin...   \n",
       "19  [pig, iron, supply, gold, bank, cobalt, suppli...   \n",
       "20  [speak, talk, speech, conversation, speaker, c...   \n",
       "21  [expect, expectation, forecast, earnings, grow...   \n",
       "22  [course, study, guidance, decline, situation, ...   \n",
       "23  [reserve, mhp, operational, financial, environ...   \n",
       "24  [news, journalist, reuters, newsletter, headli...   \n",
       "25  [operation, operate, operational, operator, op...   \n",
       "26  [wiring, harness, wire, electrical, europe, ca...   \n",
       "27                               [, , , , , , , , , ]   \n",
       "28  [think, thought, opinion, question, answer, in...   \n",
       "29  [relocate, relocation, migrate, move, employee...   \n",
       "30  [slide, presentation, move, effect, op, update...   \n",
       "31  [ton, tonne, million, 500000, production, 1500...   \n",
       "32  [titanium, supplier, steelmaking, manufacturin...   \n",
       "33  [sorting, sort, tend, seasonality, forecast, m...   \n",
       "34  [backlog, year, billion, million, project, amo...   \n",
       "35  [year, annual, era, trend, recently, business,...   \n",
       "36  [start, starting, begin, beginning, stop, want...   \n",
       "37  [store, retailer, shop, retail, sell, stock, o...   \n",
       "38  [plant, production, facility, environmental, v...   \n",
       "39  [number, digit, calculation, factor, result, i...   \n",
       "40  [carbon, black, europe, european, supply, comm...   \n",
       "41  [freight, rail, turnover, railcar, railroad, t...   \n",
       "42  [lady, gentleman, war, mr, general, mind, peac...   \n",
       "43  [client, business, service, developer, develop...   \n",
       "44  [presence, meaningful, environment, inside, si...   \n",
       "45  [border, kilometer, kazakhstan, distance, geog...   \n",
       "46    [people, group, public, pay, support, , , , , ]   \n",
       "47  [respect, situation, currency, strategy, range...   \n",
       "48  [qatar, qataris, saudi, arabia, yemen, iran, m...   \n",
       "49  [challenge, face, benefit, get, cost, talk, re...   \n",
       "\n",
       "                                Chain: Inspired - MMR  \\\n",
       "0   [impact, economic, demand, effect, inflation, ...   \n",
       "1   [inflation, demand, war, shortage, supply, gas...   \n",
       "2   [earnings, revenue, million, billion, investme...   \n",
       "3   [war, military, conflict, peace, crisis, invas...   \n",
       "4   [belarus, belarusian, kazakhstan, poland, ukra...   \n",
       "5   [invasion, invade, attack, war, warfare, impac...   \n",
       "6   [patient, clinical, trial, hospital, fda, medi...   \n",
       "7   [export, exporting, exporter, import, ship, sh...   \n",
       "8   [impact, impacting, effect, damage, hit, invas...   \n",
       "9   [employee, colleague, employ, payroll, office,...   \n",
       "10  [sanction, compliance, regulation, impact, reg...   \n",
       "11  [currency, fx, forex, euro, yen, yuan, dollar,...   \n",
       "12  [exposure, photography, visibility, expose, tr...   \n",
       "13  [exit, exiting, exited, leave, end, withdraw, ...   \n",
       "14  [china, taiwan, shanghai, japan, chinese, kore...   \n",
       "15  [go, happen, situation, know, come, wait, play...   \n",
       "16  [volume, decrease, impact, decline, extent, re...   \n",
       "17  [capex, capexe, investment, invest, investor, ...   \n",
       "18  [airspace, overflight, closure, flight, airlin...   \n",
       "19  [pig, iron, supply, gold, bank, cobalt, suppli...   \n",
       "20  [speak, talk, speech, conversation, speaker, c...   \n",
       "21  [expect, expectation, forecast, earnings, grow...   \n",
       "22  [course, study, guidance, decline, situation, ...   \n",
       "23  [reserve, mhp, operational, financial, environ...   \n",
       "24  [news, journalist, reuters, newsletter, headli...   \n",
       "25  [operation, operate, operational, operator, op...   \n",
       "26  [wiring, harness, wire, electrical, europe, ca...   \n",
       "27                               [, , , , , , , , , ]   \n",
       "28  [think, thought, opinion, question, answer, in...   \n",
       "29  [relocate, relocation, migrate, move, employee...   \n",
       "30  [slide, presentation, move, effect, op, update...   \n",
       "31  [ton, tonne, million, 500000, production, 1500...   \n",
       "32  [titanium, supplier, steelmaking, manufacturin...   \n",
       "33  [sorting, sort, tend, seasonality, forecast, m...   \n",
       "34  [backlog, year, billion, million, project, amo...   \n",
       "35  [year, annual, era, trend, recently, business,...   \n",
       "36  [start, starting, begin, beginning, stop, want...   \n",
       "37  [store, retailer, shop, retail, sell, stock, o...   \n",
       "38  [plant, production, facility, environmental, v...   \n",
       "39  [number, digit, calculation, factor, result, i...   \n",
       "40  [carbon, black, europe, european, supply, comm...   \n",
       "41  [freight, rail, turnover, railcar, railroad, t...   \n",
       "42  [lady, gentleman, war, mr, general, mind, peac...   \n",
       "43  [client, business, service, developer, develop...   \n",
       "44  [presence, meaningful, environment, inside, si...   \n",
       "45  [border, kilometer, kazakhstan, distance, geog...   \n",
       "46    [people, group, public, pay, support, , , , , ]   \n",
       "47  [respect, situation, currency, strategy, range...   \n",
       "48  [qatar, qataris, saudi, arabia, yemen, iran, m...   \n",
       "49  [challenge, face, benefit, get, cost, talk, re...   \n",
       "\n",
       "                          Chain: Inspired - MMR - POS  \\\n",
       "0   [war, impact, year, business, market, quarter,...   \n",
       "1   [supply, gas, war, chain, inflation, price, ma...   \n",
       "2   [business, exposure, eur, impairment, revenue,...   \n",
       "3   [war, conflict, geopolitical, people, uncertai...   \n",
       "4   [ukrainian, business, country, people, belarus...   \n",
       "5   [invasion, defense, drone, cyber, invade, atta...   \n",
       "6   [patient, trial, humanitarian, support, study,...   \n",
       "7   [export, port, import, shipment, sea, ship, ca...   \n",
       "8   [impact, omicron, quarter, easter, q1, damage,...   \n",
       "9   [employee, colleague, family, safety, people, ...   \n",
       "10  [sanction, aircraft, lease, government, uniper...   \n",
       "11  [ruble, fx, currency, arr, growth, dollar, eps...   \n",
       "12  [exposure, direct, small, visibility, little, ...   \n",
       "13  [exit, decision, business, leave, process, mar...   \n",
       "14  [china, country, decline, chinese, big, market...   \n",
       "15  [situation, happen, special, uptick, due, bot,...   \n",
       "16  [volume, decline, consolidation, tolling, meth...   \n",
       "17  [capex, asset, investment, capital, fund, port...   \n",
       "18  [airspace, fly, closure, asia, flight, air, sp...   \n",
       "19  [gold, iron, pig, diamond, cobalt, buy, nordio...   \n",
       "20  [speak, talk, question, conversation, way, mus...   \n",
       "21  [expect, expectation, year, sale, growth, impa...   \n",
       "22  [course, guidance, development, sale, situatio...   \n",
       "23  [reserve, capacity, rest, mhp, book, operation...   \n",
       "24  [news, event, journalist, image, day, acknowle...   \n",
       "25  [operation, activity, performance, bit, today,...   \n",
       "26  [harness, wiring, wire, cable, production, aut...   \n",
       "27                               [, , , , , , , , , ]   \n",
       "28  [think, question, people, situation, thing, me...   \n",
       "29  [relocate, remittance, employee, georgia, relo...   \n",
       "30  [slide, update, look, presentation, bit, busin...   \n",
       "31  [tonne, ton, barrel, day, come, reserve, chart...   \n",
       "32  [titanium, neon, source, supplier, come, aeros...   \n",
       "33  [sort, try, time, pick, position, season, pina...   \n",
       "34  [backlog, project, nonconsolidated, eur, cance...   \n",
       "35  [year, start, business, kind, good, sirona, in...   \n",
       "36  [start, question, answer, welcoming, complemen...   \n",
       "37  [store, coverage, focus, close, open, exist, e...   \n",
       "38  [plant, run, season, m5, mattress, available, ...   \n",
       "39  [number, falcon, digit, single, color, knob, t...   \n",
       "40  [carbon, black, rubber, synthetic, ingredient,...   \n",
       "41  [rail, turnover, freight, railroad, railcar, t...   \n",
       "42  [gentleman, lady, dear, board, supervisory, mi...   \n",
       "43  [client, blo, service, link, situate, business...   \n",
       "44  [presence, thoughtful, significant, small, res...   \n",
       "45  [border, kilometer, turkish, cross, maritime, ...   \n",
       "46  [people, stand, public, group, support, , , , , ]   \n",
       "47  [respect, question, answer, control, range, cu...   \n",
       "48  [compete, camel, exchange, country, saudi, con...   \n",
       "49  [challenge, right, talk, corona, emerge, prese...   \n",
       "\n",
       "                      Generator chain: Inspired - MMR  \\\n",
       "0                       [economics, , , , , , , , , ]   \n",
       "1                             [oil, , , , , , , , , ]   \n",
       "2                          [ebitda, , , , , , , , , ]   \n",
       "3   [war, conflict, peace, business, , , , , , , ,...   \n",
       "4                         [belarus, , , , , , , , , ]   \n",
       "5                [invasion of iraq, , , , , , , , , ]   \n",
       "6   [fda - a clinical trial of a drug called a ste...   \n",
       "7   [import & export of cargo from port, , , , , ,...   \n",
       "8     [impact of hurricane katrina, , , , , , , , , ]   \n",
       "9   [employee of a company employing a colleague o...   \n",
       "10  [impose sanctions on government, , , , , , , ,...   \n",
       "11                 [forex currency, , , , , , , , , ]   \n",
       "12           [photography exposure, , , , , , , , , ]   \n",
       "13                        [exiting, , , , , , , , , ]   \n",
       "14                       [thailand, , , , , , , , , ]   \n",
       "15  [oh come on, come on, come on, come on, come o...   \n",
       "16                        [tolling, , , , , , , , , ]   \n",
       "17          [investment fund capex, , , , , , , , , ]   \n",
       "18      [airline flies overflights, , , , , , , , , ]   \n",
       "19  [cobalt is a metallic source of iron and cobal...   \n",
       "20       [english speaking speaker, , , , , , , , , ]   \n",
       "21  [adrian mcdonald expects earnings growth, , , ...   \n",
       "22  [a guide to developing a career in education, ...   \n",
       "23                            [mhp, , , , , , , , , ]   \n",
       "24  [cnn cnn news reuters daily newsletter, , , , ...   \n",
       "25  [operation and control of medical equipment, ,...   \n",
       "26  [wiring harness for a tv plant in europe, , , ...   \n",
       "27                [a sailor 's hat, , , , , , , , , ]   \n",
       "28                     [rethinking, , , , , , , , , ]   \n",
       "29  [migrant workers relocate to new locations, , ...   \n",
       "30         [slide show dislocation, , , , , , , , , ]   \n",
       "31                          [tonne, , , , , , , , , ]   \n",
       "32  [titanium is a manufacturer of stainless steel...   \n",
       "33      [a forecast for the market, , , , , , , , , ]   \n",
       "34       [a billion dollar project, , , , , , , , , ]   \n",
       "35                 [adolescent era, , , , , , , , , ]   \n",
       "36  [hire a car hire company to start a new job, ,...   \n",
       "37  [retail outlet : retail outlet : retail outlet...   \n",
       "38  [plant for the production of verallia, , , , ,...   \n",
       "39  [digits in a quarter are a factor in how many ...   \n",
       "40      [european carbon inventory, , , , , , , , , ]   \n",
       "41  [freight traffic on the railroad, , , , , , , ...   \n",
       "42                    [lady in war, , , , , , , , , ]   \n",
       "43  [developer manages new business, , , , , , , ,...   \n",
       "44  [location of a place of significance, , , , , ...   \n",
       "45  [kazakhstan border - kilometer, , , , , , , , , ]   \n",
       "46  [a group of people pay a visit to a mosque to ...   \n",
       "47               [currency control, , , , , , , , , ]   \n",
       "48                          [qatar, , , , , , , , , ]   \n",
       "49  [comparing cost and benefits of a challenge to...   \n",
       "\n",
       "                                  Representative_Docs  \n",
       "0   [ongoing event include covid mitigation effort...  \n",
       "1   [concerned ongoing global logistics constraint...  \n",
       "2   [talk net exposure eur million, combination co...  \n",
       "3                                     [war, war, war]  \n",
       "4        [belarus material, year go belarus, belarus]  \n",
       "5   [impact invasion business, invasion, year inva...  \n",
       "6   [look patient patient, development start new c...  \n",
       "7                            [export, export, export]  \n",
       "8   [impact, ahead pre-covid number summer recover...  \n",
       "9   [employee, employee business consequence emplo...  \n",
       "10  [conflict lead sanction impose government u.s....  \n",
       "11  [yes mention factor fx effect fx exit business...  \n",
       "12                     [exposure, exposure, exposure]  \n",
       "13                                 [exit, exit, exit]  \n",
       "14  [term country geopolitical risk issue see taiw...  \n",
       "15  [obviously know go happen situation play, obvi...  \n",
       "16    [include volume decline, impact volume, volume]  \n",
       "17  [investment hold capex probably low end range,...  \n",
       "18  [obviously year closure airspace have signific...  \n",
       "19  [far pig iron production discontinue american ...  \n",
       "20                              [speak, speak, speak]  \n",
       "21  [continue expect second half fiscal like like ...  \n",
       "22  [mention course, course conflict, course situa...  \n",
       "23  [today viktoria kapelyushnaya cfo mhp discuss ...  \n",
       "24  [thought like news sure continue follow day, n...  \n",
       "25                  [operation, operation, operation]  \n",
       "26  [wiring harness european plant come country, w...  \n",
       "27                        [ex, yeah, delighted front]  \n",
       "28       [think question thought, think think, think]  \n",
       "29  [employee want relocate relocate majority popu...  \n",
       "30  [slide come slide look market versus performan...  \n",
       "31  [country account world corn trade flow million...  \n",
       "32  [opportunity increase share titanium business ...  \n",
       "33  [trial pretty continue sort normally obviously...  \n",
       "34  [roughly close million backlog, quarter backlo...  \n",
       "35                           [year think, year, year]  \n",
       "36                              [start, start, start]  \n",
       "37  [include store, mention early store store, store]  \n",
       "38   [plan sell plant, plant, plant continue operate]  \n",
       "39   [number result, number, number impacting number]  \n",
       "40  [yves say black carbon carbon black mainly com...  \n",
       "41  [freight rail turnover go time high, note over...  \n",
       "42  [lady gentleman aware war turn point, lady gen...  \n",
       "43  [say new business client, new business client,...  \n",
       "44                     [presence, presence, presence]  \n",
       "45  [thing geographically raise comment kilometer ...  \n",
       "46                           [people, people, people]  \n",
       "47  [respect sorry respect absolutely change strat...  \n",
       "48  [qatar world unfortunately situation price hig...  \n",
       "49  [challenge cost, challenge tell challenge talk...  "
      ]
     },
     "execution_count": 23,
     "metadata": {},
     "output_type": "execute_result"
    }
   ],
   "source": [
    "topic_model_0_join_50.get_topic_info()"
   ]
  },
  {
   "cell_type": "markdown",
   "metadata": {},
   "source": [
    "3.\n",
    "* Sentence window: 3\n",
    "* Join sentences  "
   ]
  },
  {
   "cell_type": "code",
   "execution_count": 21,
   "metadata": {},
   "outputs": [
    {
     "ename": "TypeError",
     "evalue": "bert_inspired() missing 1 required positional argument: 'representation_model'",
     "output_type": "error",
     "traceback": [
      "\u001b[0;31m---------------------------------------------------------------------------\u001b[0m",
      "\u001b[0;31mTypeError\u001b[0m                                 Traceback (most recent call last)",
      "Cell \u001b[0;32mIn[21], line 1\u001b[0m\n\u001b[0;32m----> 1\u001b[0m topic_model_3_join, topics_3_join, probs_3_join \u001b[39m=\u001b[39m topic_extractor\u001b[39m.\u001b[39;49mbert_inspired(corpus_window_0_join_df[\u001b[39m'\u001b[39;49m\u001b[39mprocessed_text\u001b[39;49m\u001b[39m'\u001b[39;49m]\u001b[39m.\u001b[39;49mto_list(), nr_topics\u001b[39m=\u001b[39;49m\u001b[39m50\u001b[39;49m)\n",
      "\u001b[0;31mTypeError\u001b[0m: bert_inspired() missing 1 required positional argument: 'representation_model'"
     ]
    }
   ],
   "source": [
    "topic_model_3_join, topics_3_join, probs_3_join = topic_extractor.bert_advanced(corpus_window_3_join_df['processed_text'].to_list(), representation_model=representation_model, embedding_model=sentence_model_light)"
   ]
  },
  {
   "cell_type": "code",
   "execution_count": 21,
   "metadata": {},
   "outputs": [],
   "source": [
    "topic_model_3_join.get_topic_info().to_csv(\"topic_model_3_join.csv\")"
   ]
  },
  {
   "cell_type": "markdown",
   "metadata": {},
   "source": [
    "4.\n",
    "* Sentence window: 5\n",
    "* Join sentences\n"
   ]
  },
  {
   "cell_type": "code",
   "execution_count": 14,
   "metadata": {},
   "outputs": [
    {
     "data": {
      "application/vnd.jupyter.widget-view+json": {
       "model_id": "7cf5a45b15944aeab67a3eb3ede865cd",
       "version_major": 2,
       "version_minor": 0
      },
      "text/plain": [
       "Batches:   0%|          | 0/1208 [00:00<?, ?it/s]"
      ]
     },
     "metadata": {},
     "output_type": "display_data"
    },
    {
     "name": "stderr",
     "output_type": "stream",
     "text": [
      "2023-08-31 15:06:31,375 - BERTopic - Transformed documents to Embeddings\n",
      "2023-08-31 15:06:51,024 - BERTopic - Reduced dimensionality\n"
     ]
    },
    {
     "name": "stdout",
     "output_type": "stream",
     "text": [
      "huggingface/tokenizers: The current process just got forked, after parallelism has already been used. Disabling parallelism to avoid deadlocks...\n",
      "To disable this warning, you can either:\n",
      "\t- Avoid using `tokenizers` before the fork if possible\n",
      "\t- Explicitly set the environment variable TOKENIZERS_PARALLELISM=(true | false)\n",
      "huggingface/tokenizers: The current process just got forked, after parallelism has already been used. Disabling parallelism to avoid deadlocks...\n",
      "To disable this warning, you can either:\n",
      "\t- Avoid using `tokenizers` before the fork if possible\n",
      "\t- Explicitly set the environment variable TOKENIZERS_PARALLELISM=(true | false)\n",
      "huggingface/tokenizers: The current process just got forked, after parallelism has already been used. Disabling parallelism to avoid deadlocks...\n",
      "To disable this warning, you can either:\n",
      "\t- Avoid using `tokenizers` before the fork if possible\n",
      "\t- Explicitly set the environment variable TOKENIZERS_PARALLELISM=(true | false)\n",
      "huggingface/tokenizers: The current process just got forked, after parallelism has already been used. Disabling parallelism to avoid deadlocks...\n",
      "To disable this warning, you can either:\n",
      "\t- Avoid using `tokenizers` before the fork if possible\n",
      "\t- Explicitly set the environment variable TOKENIZERS_PARALLELISM=(true | false)\n"
     ]
    },
    {
     "name": "stderr",
     "output_type": "stream",
     "text": [
      "2023-08-31 15:09:00,223 - BERTopic - Clustered reduced embeddings\n"
     ]
    }
   ],
   "source": [
    "topic_model_5_join, topics_5_join, probs_5_join = topic_extractor.bert_inspired(corpus_window_5_join_df['processed_text'].to_list())"
   ]
  },
  {
   "cell_type": "code",
   "execution_count": 24,
   "metadata": {},
   "outputs": [],
   "source": [
    "topic_model_5_join.get_topic_info().to_csv(\"topic_model_5_join.csv\")"
   ]
  },
  {
   "cell_type": "markdown",
   "metadata": {},
   "source": [
    "5.\n",
    "* Sentence window: whole paragraph\n",
    "* Join sentences"
   ]
  },
  {
   "cell_type": "code",
   "execution_count": 15,
   "metadata": {},
   "outputs": [
    {
     "data": {
      "application/vnd.jupyter.widget-view+json": {
       "model_id": "4586b57c4ef8437ba48b516379f0f964",
       "version_major": 2,
       "version_minor": 0
      },
      "text/plain": [
       "Batches:   0%|          | 0/1215 [00:00<?, ?it/s]"
      ]
     },
     "metadata": {},
     "output_type": "display_data"
    },
    {
     "name": "stderr",
     "output_type": "stream",
     "text": [
      "2023-08-31 15:15:23,146 - BERTopic - Transformed documents to Embeddings\n",
      "2023-08-31 15:15:42,651 - BERTopic - Reduced dimensionality\n"
     ]
    },
    {
     "name": "stdout",
     "output_type": "stream",
     "text": [
      "huggingface/tokenizers: The current process just got forked, after parallelism has already been used. Disabling parallelism to avoid deadlocks...\n",
      "To disable this warning, you can either:\n",
      "\t- Avoid using `tokenizers` before the fork if possible\n",
      "\t- Explicitly set the environment variable TOKENIZERS_PARALLELISM=(true | false)\n",
      "huggingface/tokenizers: The current process just got forked, after parallelism has already been used. Disabling parallelism to avoid deadlocks...\n",
      "To disable this warning, you can either:\n",
      "\t- Avoid using `tokenizers` before the fork if possible\n",
      "\t- Explicitly set the environment variable TOKENIZERS_PARALLELISM=(true | false)\n",
      "huggingface/tokenizers: The current process just got forked, after parallelism has already been used. Disabling parallelism to avoid deadlocks...\n",
      "To disable this warning, you can either:\n",
      "\t- Avoid using `tokenizers` before the fork if possible\n",
      "\t- Explicitly set the environment variable TOKENIZERS_PARALLELISM=(true | false)\n",
      "huggingface/tokenizers: The current process just got forked, after parallelism has already been used. Disabling parallelism to avoid deadlocks...\n",
      "To disable this warning, you can either:\n",
      "\t- Avoid using `tokenizers` before the fork if possible\n",
      "\t- Explicitly set the environment variable TOKENIZERS_PARALLELISM=(true | false)\n"
     ]
    },
    {
     "name": "stderr",
     "output_type": "stream",
     "text": [
      "2023-08-31 15:17:37,673 - BERTopic - Clustered reduced embeddings\n"
     ]
    }
   ],
   "source": [
    "topic_model_whole_join, topics_whole_join, probs_whole_join = topic_extractor.bert_inspired(corpus_window_whole_join_df['processed_text'].to_list())"
   ]
  },
  {
   "cell_type": "code",
   "execution_count": 25,
   "metadata": {},
   "outputs": [],
   "source": [
    "topic_model_whole_join.get_topic_info().to_csv(\"topic_model_whole_join.csv\")"
   ]
  },
  {
   "cell_type": "code",
   "execution_count": 31,
   "metadata": {},
   "outputs": [
    {
     "data": {
      "text/plain": [
       "38868"
      ]
     },
     "execution_count": 31,
     "metadata": {},
     "output_type": "execute_result"
    }
   ],
   "source": []
  },
  {
   "cell_type": "code",
   "execution_count": null,
   "metadata": {},
   "outputs": [],
   "source": []
  },
  {
   "cell_type": "code",
   "execution_count": 356,
   "metadata": {},
   "outputs": [
    {
     "data": {
      "text/plain": [
       "array([0.02466603, 0.032443  , 0.0426969 , 0.02744634, 0.02321597,\n",
       "       0.0192848 , 0.0492035 , 0.01937474, 0.04401463, 0.04043768,\n",
       "       0.04437236, 0.02610516, 0.02285282, 0.02287447, 0.0305101 ])"
      ]
     },
     "execution_count": 356,
     "metadata": {},
     "output_type": "execute_result"
    }
   ],
   "source": [
    "probs[1]"
   ]
  },
  {
   "cell_type": "code",
   "execution_count": 49,
   "metadata": {},
   "outputs": [
    {
     "data": {
      "text/html": [
       "<div>\n",
       "<style scoped>\n",
       "    .dataframe tbody tr th:only-of-type {\n",
       "        vertical-align: middle;\n",
       "    }\n",
       "\n",
       "    .dataframe tbody tr th {\n",
       "        vertical-align: top;\n",
       "    }\n",
       "\n",
       "    .dataframe thead th {\n",
       "        text-align: right;\n",
       "    }\n",
       "</style>\n",
       "<table border=\"1\" class=\"dataframe\">\n",
       "  <thead>\n",
       "    <tr style=\"text-align: right;\">\n",
       "      <th></th>\n",
       "      <th>Topic</th>\n",
       "      <th>Count</th>\n",
       "      <th>Name</th>\n",
       "      <th>Representation</th>\n",
       "      <th>Representative_Docs</th>\n",
       "    </tr>\n",
       "  </thead>\n",
       "  <tbody>\n",
       "    <tr>\n",
       "      <th>0</th>\n",
       "      <td>-1</td>\n",
       "      <td>19059</td>\n",
       "      <td>-1_inflation_crisis_pandemic_economic</td>\n",
       "      <td>[inflation, crisis, pandemic, economic, demand...</td>\n",
       "      <td>[market forecast market base current visibilit...</td>\n",
       "    </tr>\n",
       "    <tr>\n",
       "      <th>1</th>\n",
       "      <td>0</td>\n",
       "      <td>4650</td>\n",
       "      <td>0_demand_market_business_guidance</td>\n",
       "      <td>[demand, market, business, guidance, portfolio...</td>\n",
       "      <td>[yes typically provide update midway quarter o...</td>\n",
       "    </tr>\n",
       "    <tr>\n",
       "      <th>2</th>\n",
       "      <td>1</td>\n",
       "      <td>820</td>\n",
       "      <td>1_refugee_humanitarian_charity_donation</td>\n",
       "      <td>[refugee, humanitarian, charity, donation, uni...</td>\n",
       "      <td>[support people refugee, support refugee emplo...</td>\n",
       "    </tr>\n",
       "    <tr>\n",
       "      <th>3</th>\n",
       "      <td>2</td>\n",
       "      <td>660</td>\n",
       "      <td>2_belarus_belarusian_kazakhstan_russian</td>\n",
       "      <td>[belarus, belarusian, kazakhstan, russian, cou...</td>\n",
       "      <td>[sale belarus, year go belarus, belarus]</td>\n",
       "    </tr>\n",
       "    <tr>\n",
       "      <th>4</th>\n",
       "      <td>3</td>\n",
       "      <td>535</td>\n",
       "      <td>3_wheat_corn_agriculture_agricultural</td>\n",
       "      <td>[wheat, corn, agriculture, agricultural, grain...</td>\n",
       "      <td>[corn wheat come big way, know difficulty asso...</td>\n",
       "    </tr>\n",
       "    <tr>\n",
       "      <th>...</th>\n",
       "      <td>...</td>\n",
       "      <td>...</td>\n",
       "      <td>...</td>\n",
       "      <td>...</td>\n",
       "      <td>...</td>\n",
       "    </tr>\n",
       "    <tr>\n",
       "      <th>301</th>\n",
       "      <td>300</td>\n",
       "      <td>10</td>\n",
       "      <td>300_revenue_growth_year_offset</td>\n",
       "      <td>[revenue, growth, year, offset, contractual, t...</td>\n",
       "      <td>[emea year year growth quarter negatively affe...</td>\n",
       "    </tr>\n",
       "    <tr>\n",
       "      <th>302</th>\n",
       "      <td>301</td>\n",
       "      <td>10</td>\n",
       "      <td>301_freight_turnover_rail_railway</td>\n",
       "      <td>[freight, turnover, rail, railway, railroad, t...</td>\n",
       "      <td>[look month year freight rail turnover overall...</td>\n",
       "    </tr>\n",
       "    <tr>\n",
       "      <th>303</th>\n",
       "      <td>302</td>\n",
       "      <td>10</td>\n",
       "      <td>302_expect_expectation_demand_profitability</td>\n",
       "      <td>[expect, expectation, demand, profitability, f...</td>\n",
       "      <td>[yes start contract manufacturing know get gen...</td>\n",
       "    </tr>\n",
       "    <tr>\n",
       "      <th>304</th>\n",
       "      <td>303</td>\n",
       "      <td>10</td>\n",
       "      <td>303_decline_maintenance_service_growth</td>\n",
       "      <td>[decline, maintenance, service, growth, offsho...</td>\n",
       "      <td>[service growth america menac strong oil gas o...</td>\n",
       "    </tr>\n",
       "    <tr>\n",
       "      <th>305</th>\n",
       "      <td>304</td>\n",
       "      <td>10</td>\n",
       "      <td>304_business_retail_sourcing_sell</td>\n",
       "      <td>[business, retail, sourcing, sell, consumer, c...</td>\n",
       "      <td>[sure sale small portion portfolio small team ...</td>\n",
       "    </tr>\n",
       "  </tbody>\n",
       "</table>\n",
       "<p>306 rows × 5 columns</p>\n",
       "</div>"
      ],
      "text/plain": [
       "     Topic  Count                                         Name  \\\n",
       "0       -1  19059        -1_inflation_crisis_pandemic_economic   \n",
       "1        0   4650            0_demand_market_business_guidance   \n",
       "2        1    820      1_refugee_humanitarian_charity_donation   \n",
       "3        2    660      2_belarus_belarusian_kazakhstan_russian   \n",
       "4        3    535        3_wheat_corn_agriculture_agricultural   \n",
       "..     ...    ...                                          ...   \n",
       "301    300     10               300_revenue_growth_year_offset   \n",
       "302    301     10            301_freight_turnover_rail_railway   \n",
       "303    302     10  302_expect_expectation_demand_profitability   \n",
       "304    303     10       303_decline_maintenance_service_growth   \n",
       "305    304     10            304_business_retail_sourcing_sell   \n",
       "\n",
       "                                        Representation  \\\n",
       "0    [inflation, crisis, pandemic, economic, demand...   \n",
       "1    [demand, market, business, guidance, portfolio...   \n",
       "2    [refugee, humanitarian, charity, donation, uni...   \n",
       "3    [belarus, belarusian, kazakhstan, russian, cou...   \n",
       "4    [wheat, corn, agriculture, agricultural, grain...   \n",
       "..                                                 ...   \n",
       "301  [revenue, growth, year, offset, contractual, t...   \n",
       "302  [freight, turnover, rail, railway, railroad, t...   \n",
       "303  [expect, expectation, demand, profitability, f...   \n",
       "304  [decline, maintenance, service, growth, offsho...   \n",
       "305  [business, retail, sourcing, sell, consumer, c...   \n",
       "\n",
       "                                   Representative_Docs  \n",
       "0    [market forecast market base current visibilit...  \n",
       "1    [yes typically provide update midway quarter o...  \n",
       "2    [support people refugee, support refugee emplo...  \n",
       "3             [sale belarus, year go belarus, belarus]  \n",
       "4    [corn wheat come big way, know difficulty asso...  \n",
       "..                                                 ...  \n",
       "301  [emea year year growth quarter negatively affe...  \n",
       "302  [look month year freight rail turnover overall...  \n",
       "303  [yes start contract manufacturing know get gen...  \n",
       "304  [service growth america menac strong oil gas o...  \n",
       "305  [sure sale small portion portfolio small team ...  \n",
       "\n",
       "[306 rows x 5 columns]"
      ]
     },
     "execution_count": 49,
     "metadata": {},
     "output_type": "execute_result"
    }
   ],
   "source": [
    "topic_model.get_topic_info()"
   ]
  },
  {
   "cell_type": "code",
   "execution_count": 358,
   "metadata": {},
   "outputs": [
    {
     "name": "stderr",
     "output_type": "stream",
     "text": [
      "100%|██████████| 1/1 [00:00<00:00,  3.15it/s]\n"
     ]
    }
   ],
   "source": [
    "# Calculate the topic distributions on a token-level\n",
    "topic_distr, topic_token_distr = topic_model.approximate_distribution(corpus_window_0_join_df['processed_text'].to_list(), calculate_tokens=True)"
   ]
  },
  {
   "cell_type": "code",
   "execution_count": 359,
   "metadata": {},
   "outputs": [
    {
     "data": {
      "text/plain": [
       "933"
      ]
     },
     "execution_count": 359,
     "metadata": {},
     "output_type": "execute_result"
    }
   ],
   "source": [
    "len(topic_distr)"
   ]
  },
  {
   "cell_type": "code",
   "execution_count": 363,
   "metadata": {},
   "outputs": [
    {
     "data": {
      "text/plain": [
       "array([0.27688306, 0.        , 0.        , 0.        , 0.15484435,\n",
       "       0.15860631, 0.32902648, 0.        , 0.        , 0.08063981,\n",
       "       0.        , 0.        , 0.        , 0.        , 0.        ])"
      ]
     },
     "execution_count": 363,
     "metadata": {},
     "output_type": "execute_result"
    }
   ],
   "source": [
    "topic_distr[1]"
   ]
  },
  {
   "cell_type": "code",
   "execution_count": 361,
   "metadata": {},
   "outputs": [
    {
     "data": {
      "application/vnd.plotly.v1+json": {
       "config": {
        "plotlyServerURL": "https://plot.ly"
       },
       "data": [
        {
         "marker": {
          "color": "#C8D2D7",
          "line": {
           "color": "#6E8484",
           "width": 1
          }
         },
         "orientation": "h",
         "type": "bar",
         "x": [
          0.2768830561375222,
          0.1548443494398415,
          0.15860630731574105,
          0.3290264810161918,
          0.08063980609070347
         ],
         "y": [
          "<b>Topic 0</b>: demand_production_indust...",
          "<b>Topic 4</b>: macroeconomic_inflation_...",
          "<b>Topic 5</b>: revenue_business_profit_...",
          "<b>Topic 6</b>: energy_demand_heating_wa...",
          "<b>Topic 9</b>: grain_foodtech_harvest_s..."
         ]
        }
       ],
       "layout": {
        "height": 600,
        "hoverlabel": {
         "bgcolor": "white",
         "font": {
          "family": "Rockwell",
          "size": 16
         }
        },
        "template": {
         "data": {
          "bar": [
           {
            "error_x": {
             "color": "rgb(36,36,36)"
            },
            "error_y": {
             "color": "rgb(36,36,36)"
            },
            "marker": {
             "line": {
              "color": "white",
              "width": 0.5
             },
             "pattern": {
              "fillmode": "overlay",
              "size": 10,
              "solidity": 0.2
             }
            },
            "type": "bar"
           }
          ],
          "barpolar": [
           {
            "marker": {
             "line": {
              "color": "white",
              "width": 0.5
             },
             "pattern": {
              "fillmode": "overlay",
              "size": 10,
              "solidity": 0.2
             }
            },
            "type": "barpolar"
           }
          ],
          "carpet": [
           {
            "aaxis": {
             "endlinecolor": "rgb(36,36,36)",
             "gridcolor": "white",
             "linecolor": "white",
             "minorgridcolor": "white",
             "startlinecolor": "rgb(36,36,36)"
            },
            "baxis": {
             "endlinecolor": "rgb(36,36,36)",
             "gridcolor": "white",
             "linecolor": "white",
             "minorgridcolor": "white",
             "startlinecolor": "rgb(36,36,36)"
            },
            "type": "carpet"
           }
          ],
          "choropleth": [
           {
            "colorbar": {
             "outlinewidth": 1,
             "tickcolor": "rgb(36,36,36)",
             "ticks": "outside"
            },
            "type": "choropleth"
           }
          ],
          "contour": [
           {
            "colorbar": {
             "outlinewidth": 1,
             "tickcolor": "rgb(36,36,36)",
             "ticks": "outside"
            },
            "colorscale": [
             [
              0,
              "#440154"
             ],
             [
              0.1111111111111111,
              "#482878"
             ],
             [
              0.2222222222222222,
              "#3e4989"
             ],
             [
              0.3333333333333333,
              "#31688e"
             ],
             [
              0.4444444444444444,
              "#26828e"
             ],
             [
              0.5555555555555556,
              "#1f9e89"
             ],
             [
              0.6666666666666666,
              "#35b779"
             ],
             [
              0.7777777777777778,
              "#6ece58"
             ],
             [
              0.8888888888888888,
              "#b5de2b"
             ],
             [
              1,
              "#fde725"
             ]
            ],
            "type": "contour"
           }
          ],
          "contourcarpet": [
           {
            "colorbar": {
             "outlinewidth": 1,
             "tickcolor": "rgb(36,36,36)",
             "ticks": "outside"
            },
            "type": "contourcarpet"
           }
          ],
          "heatmap": [
           {
            "colorbar": {
             "outlinewidth": 1,
             "tickcolor": "rgb(36,36,36)",
             "ticks": "outside"
            },
            "colorscale": [
             [
              0,
              "#440154"
             ],
             [
              0.1111111111111111,
              "#482878"
             ],
             [
              0.2222222222222222,
              "#3e4989"
             ],
             [
              0.3333333333333333,
              "#31688e"
             ],
             [
              0.4444444444444444,
              "#26828e"
             ],
             [
              0.5555555555555556,
              "#1f9e89"
             ],
             [
              0.6666666666666666,
              "#35b779"
             ],
             [
              0.7777777777777778,
              "#6ece58"
             ],
             [
              0.8888888888888888,
              "#b5de2b"
             ],
             [
              1,
              "#fde725"
             ]
            ],
            "type": "heatmap"
           }
          ],
          "heatmapgl": [
           {
            "colorbar": {
             "outlinewidth": 1,
             "tickcolor": "rgb(36,36,36)",
             "ticks": "outside"
            },
            "colorscale": [
             [
              0,
              "#440154"
             ],
             [
              0.1111111111111111,
              "#482878"
             ],
             [
              0.2222222222222222,
              "#3e4989"
             ],
             [
              0.3333333333333333,
              "#31688e"
             ],
             [
              0.4444444444444444,
              "#26828e"
             ],
             [
              0.5555555555555556,
              "#1f9e89"
             ],
             [
              0.6666666666666666,
              "#35b779"
             ],
             [
              0.7777777777777778,
              "#6ece58"
             ],
             [
              0.8888888888888888,
              "#b5de2b"
             ],
             [
              1,
              "#fde725"
             ]
            ],
            "type": "heatmapgl"
           }
          ],
          "histogram": [
           {
            "marker": {
             "line": {
              "color": "white",
              "width": 0.6
             }
            },
            "type": "histogram"
           }
          ],
          "histogram2d": [
           {
            "colorbar": {
             "outlinewidth": 1,
             "tickcolor": "rgb(36,36,36)",
             "ticks": "outside"
            },
            "colorscale": [
             [
              0,
              "#440154"
             ],
             [
              0.1111111111111111,
              "#482878"
             ],
             [
              0.2222222222222222,
              "#3e4989"
             ],
             [
              0.3333333333333333,
              "#31688e"
             ],
             [
              0.4444444444444444,
              "#26828e"
             ],
             [
              0.5555555555555556,
              "#1f9e89"
             ],
             [
              0.6666666666666666,
              "#35b779"
             ],
             [
              0.7777777777777778,
              "#6ece58"
             ],
             [
              0.8888888888888888,
              "#b5de2b"
             ],
             [
              1,
              "#fde725"
             ]
            ],
            "type": "histogram2d"
           }
          ],
          "histogram2dcontour": [
           {
            "colorbar": {
             "outlinewidth": 1,
             "tickcolor": "rgb(36,36,36)",
             "ticks": "outside"
            },
            "colorscale": [
             [
              0,
              "#440154"
             ],
             [
              0.1111111111111111,
              "#482878"
             ],
             [
              0.2222222222222222,
              "#3e4989"
             ],
             [
              0.3333333333333333,
              "#31688e"
             ],
             [
              0.4444444444444444,
              "#26828e"
             ],
             [
              0.5555555555555556,
              "#1f9e89"
             ],
             [
              0.6666666666666666,
              "#35b779"
             ],
             [
              0.7777777777777778,
              "#6ece58"
             ],
             [
              0.8888888888888888,
              "#b5de2b"
             ],
             [
              1,
              "#fde725"
             ]
            ],
            "type": "histogram2dcontour"
           }
          ],
          "mesh3d": [
           {
            "colorbar": {
             "outlinewidth": 1,
             "tickcolor": "rgb(36,36,36)",
             "ticks": "outside"
            },
            "type": "mesh3d"
           }
          ],
          "parcoords": [
           {
            "line": {
             "colorbar": {
              "outlinewidth": 1,
              "tickcolor": "rgb(36,36,36)",
              "ticks": "outside"
             }
            },
            "type": "parcoords"
           }
          ],
          "pie": [
           {
            "automargin": true,
            "type": "pie"
           }
          ],
          "scatter": [
           {
            "fillpattern": {
             "fillmode": "overlay",
             "size": 10,
             "solidity": 0.2
            },
            "type": "scatter"
           }
          ],
          "scatter3d": [
           {
            "line": {
             "colorbar": {
              "outlinewidth": 1,
              "tickcolor": "rgb(36,36,36)",
              "ticks": "outside"
             }
            },
            "marker": {
             "colorbar": {
              "outlinewidth": 1,
              "tickcolor": "rgb(36,36,36)",
              "ticks": "outside"
             }
            },
            "type": "scatter3d"
           }
          ],
          "scattercarpet": [
           {
            "marker": {
             "colorbar": {
              "outlinewidth": 1,
              "tickcolor": "rgb(36,36,36)",
              "ticks": "outside"
             }
            },
            "type": "scattercarpet"
           }
          ],
          "scattergeo": [
           {
            "marker": {
             "colorbar": {
              "outlinewidth": 1,
              "tickcolor": "rgb(36,36,36)",
              "ticks": "outside"
             }
            },
            "type": "scattergeo"
           }
          ],
          "scattergl": [
           {
            "marker": {
             "colorbar": {
              "outlinewidth": 1,
              "tickcolor": "rgb(36,36,36)",
              "ticks": "outside"
             }
            },
            "type": "scattergl"
           }
          ],
          "scattermapbox": [
           {
            "marker": {
             "colorbar": {
              "outlinewidth": 1,
              "tickcolor": "rgb(36,36,36)",
              "ticks": "outside"
             }
            },
            "type": "scattermapbox"
           }
          ],
          "scatterpolar": [
           {
            "marker": {
             "colorbar": {
              "outlinewidth": 1,
              "tickcolor": "rgb(36,36,36)",
              "ticks": "outside"
             }
            },
            "type": "scatterpolar"
           }
          ],
          "scatterpolargl": [
           {
            "marker": {
             "colorbar": {
              "outlinewidth": 1,
              "tickcolor": "rgb(36,36,36)",
              "ticks": "outside"
             }
            },
            "type": "scatterpolargl"
           }
          ],
          "scatterternary": [
           {
            "marker": {
             "colorbar": {
              "outlinewidth": 1,
              "tickcolor": "rgb(36,36,36)",
              "ticks": "outside"
             }
            },
            "type": "scatterternary"
           }
          ],
          "surface": [
           {
            "colorbar": {
             "outlinewidth": 1,
             "tickcolor": "rgb(36,36,36)",
             "ticks": "outside"
            },
            "colorscale": [
             [
              0,
              "#440154"
             ],
             [
              0.1111111111111111,
              "#482878"
             ],
             [
              0.2222222222222222,
              "#3e4989"
             ],
             [
              0.3333333333333333,
              "#31688e"
             ],
             [
              0.4444444444444444,
              "#26828e"
             ],
             [
              0.5555555555555556,
              "#1f9e89"
             ],
             [
              0.6666666666666666,
              "#35b779"
             ],
             [
              0.7777777777777778,
              "#6ece58"
             ],
             [
              0.8888888888888888,
              "#b5de2b"
             ],
             [
              1,
              "#fde725"
             ]
            ],
            "type": "surface"
           }
          ],
          "table": [
           {
            "cells": {
             "fill": {
              "color": "rgb(237,237,237)"
             },
             "line": {
              "color": "white"
             }
            },
            "header": {
             "fill": {
              "color": "rgb(217,217,217)"
             },
             "line": {
              "color": "white"
             }
            },
            "type": "table"
           }
          ]
         },
         "layout": {
          "annotationdefaults": {
           "arrowhead": 0,
           "arrowwidth": 1
          },
          "autotypenumbers": "strict",
          "coloraxis": {
           "colorbar": {
            "outlinewidth": 1,
            "tickcolor": "rgb(36,36,36)",
            "ticks": "outside"
           }
          },
          "colorscale": {
           "diverging": [
            [
             0,
             "rgb(103,0,31)"
            ],
            [
             0.1,
             "rgb(178,24,43)"
            ],
            [
             0.2,
             "rgb(214,96,77)"
            ],
            [
             0.3,
             "rgb(244,165,130)"
            ],
            [
             0.4,
             "rgb(253,219,199)"
            ],
            [
             0.5,
             "rgb(247,247,247)"
            ],
            [
             0.6,
             "rgb(209,229,240)"
            ],
            [
             0.7,
             "rgb(146,197,222)"
            ],
            [
             0.8,
             "rgb(67,147,195)"
            ],
            [
             0.9,
             "rgb(33,102,172)"
            ],
            [
             1,
             "rgb(5,48,97)"
            ]
           ],
           "sequential": [
            [
             0,
             "#440154"
            ],
            [
             0.1111111111111111,
             "#482878"
            ],
            [
             0.2222222222222222,
             "#3e4989"
            ],
            [
             0.3333333333333333,
             "#31688e"
            ],
            [
             0.4444444444444444,
             "#26828e"
            ],
            [
             0.5555555555555556,
             "#1f9e89"
            ],
            [
             0.6666666666666666,
             "#35b779"
            ],
            [
             0.7777777777777778,
             "#6ece58"
            ],
            [
             0.8888888888888888,
             "#b5de2b"
            ],
            [
             1,
             "#fde725"
            ]
           ],
           "sequentialminus": [
            [
             0,
             "#440154"
            ],
            [
             0.1111111111111111,
             "#482878"
            ],
            [
             0.2222222222222222,
             "#3e4989"
            ],
            [
             0.3333333333333333,
             "#31688e"
            ],
            [
             0.4444444444444444,
             "#26828e"
            ],
            [
             0.5555555555555556,
             "#1f9e89"
            ],
            [
             0.6666666666666666,
             "#35b779"
            ],
            [
             0.7777777777777778,
             "#6ece58"
            ],
            [
             0.8888888888888888,
             "#b5de2b"
            ],
            [
             1,
             "#fde725"
            ]
           ]
          },
          "colorway": [
           "#1F77B4",
           "#FF7F0E",
           "#2CA02C",
           "#D62728",
           "#9467BD",
           "#8C564B",
           "#E377C2",
           "#7F7F7F",
           "#BCBD22",
           "#17BECF"
          ],
          "font": {
           "color": "rgb(36,36,36)"
          },
          "geo": {
           "bgcolor": "white",
           "lakecolor": "white",
           "landcolor": "white",
           "showlakes": true,
           "showland": true,
           "subunitcolor": "white"
          },
          "hoverlabel": {
           "align": "left"
          },
          "hovermode": "closest",
          "mapbox": {
           "style": "light"
          },
          "paper_bgcolor": "white",
          "plot_bgcolor": "white",
          "polar": {
           "angularaxis": {
            "gridcolor": "rgb(232,232,232)",
            "linecolor": "rgb(36,36,36)",
            "showgrid": false,
            "showline": true,
            "ticks": "outside"
           },
           "bgcolor": "white",
           "radialaxis": {
            "gridcolor": "rgb(232,232,232)",
            "linecolor": "rgb(36,36,36)",
            "showgrid": false,
            "showline": true,
            "ticks": "outside"
           }
          },
          "scene": {
           "xaxis": {
            "backgroundcolor": "white",
            "gridcolor": "rgb(232,232,232)",
            "gridwidth": 2,
            "linecolor": "rgb(36,36,36)",
            "showbackground": true,
            "showgrid": false,
            "showline": true,
            "ticks": "outside",
            "zeroline": false,
            "zerolinecolor": "rgb(36,36,36)"
           },
           "yaxis": {
            "backgroundcolor": "white",
            "gridcolor": "rgb(232,232,232)",
            "gridwidth": 2,
            "linecolor": "rgb(36,36,36)",
            "showbackground": true,
            "showgrid": false,
            "showline": true,
            "ticks": "outside",
            "zeroline": false,
            "zerolinecolor": "rgb(36,36,36)"
           },
           "zaxis": {
            "backgroundcolor": "white",
            "gridcolor": "rgb(232,232,232)",
            "gridwidth": 2,
            "linecolor": "rgb(36,36,36)",
            "showbackground": true,
            "showgrid": false,
            "showline": true,
            "ticks": "outside",
            "zeroline": false,
            "zerolinecolor": "rgb(36,36,36)"
           }
          },
          "shapedefaults": {
           "fillcolor": "black",
           "line": {
            "width": 0
           },
           "opacity": 0.3
          },
          "ternary": {
           "aaxis": {
            "gridcolor": "rgb(232,232,232)",
            "linecolor": "rgb(36,36,36)",
            "showgrid": false,
            "showline": true,
            "ticks": "outside"
           },
           "baxis": {
            "gridcolor": "rgb(232,232,232)",
            "linecolor": "rgb(36,36,36)",
            "showgrid": false,
            "showline": true,
            "ticks": "outside"
           },
           "bgcolor": "white",
           "caxis": {
            "gridcolor": "rgb(232,232,232)",
            "linecolor": "rgb(36,36,36)",
            "showgrid": false,
            "showline": true,
            "ticks": "outside"
           }
          },
          "title": {
           "x": 0.05
          },
          "xaxis": {
           "automargin": true,
           "gridcolor": "rgb(232,232,232)",
           "linecolor": "rgb(36,36,36)",
           "showgrid": false,
           "showline": true,
           "ticks": "outside",
           "title": {
            "standoff": 15
           },
           "zeroline": false,
           "zerolinecolor": "rgb(36,36,36)"
          },
          "yaxis": {
           "automargin": true,
           "gridcolor": "rgb(232,232,232)",
           "linecolor": "rgb(36,36,36)",
           "showgrid": false,
           "showline": true,
           "ticks": "outside",
           "title": {
            "standoff": 15
           },
           "zeroline": false,
           "zerolinecolor": "rgb(36,36,36)"
          }
         }
        },
        "title": {
         "font": {
          "color": "Black",
          "size": 22
         },
         "text": "<b>Topic Probability Distribution</b>",
         "x": 0.5,
         "xanchor": "center",
         "y": 0.95,
         "yanchor": "top"
        },
        "width": 800,
        "xaxis": {
         "title": {
          "text": "Probability"
         }
        }
       }
      }
     },
     "metadata": {},
     "output_type": "display_data"
    }
   ],
   "source": [
    "# topic distribution of a certain document\n",
    "topic_model.visualize_distribution(topic_distr[1])"
   ]
  },
  {
   "cell_type": "code",
   "execution_count": 365,
   "metadata": {},
   "outputs": [
    {
     "data": {
      "text/html": [
       "<style type=\"text/css\">\n",
       "#T_9baa2_row0_col0, #T_9baa2_row0_col1, #T_9baa2_row0_col2, #T_9baa2_row0_col3, #T_9baa2_row0_col4, #T_9baa2_row0_col5, #T_9baa2_row0_col6, #T_9baa2_row0_col7, #T_9baa2_row0_col14, #T_9baa2_row0_col15, #T_9baa2_row0_col16, #T_9baa2_row0_col17, #T_9baa2_row0_col18, #T_9baa2_row0_col19, #T_9baa2_row0_col20, #T_9baa2_row0_col21, #T_9baa2_row1_col0, #T_9baa2_row1_col1, #T_9baa2_row1_col2, #T_9baa2_row1_col3, #T_9baa2_row1_col4, #T_9baa2_row1_col5, #T_9baa2_row1_col6, #T_9baa2_row1_col7, #T_9baa2_row1_col8, #T_9baa2_row1_col9, #T_9baa2_row1_col10, #T_9baa2_row1_col18, #T_9baa2_row1_col19, #T_9baa2_row1_col20, #T_9baa2_row1_col21, #T_9baa2_row2_col0, #T_9baa2_row2_col1, #T_9baa2_row2_col2, #T_9baa2_row2_col3, #T_9baa2_row2_col4, #T_9baa2_row2_col5, #T_9baa2_row2_col11, #T_9baa2_row2_col12, #T_9baa2_row2_col13, #T_9baa2_row2_col14, #T_9baa2_row2_col15, #T_9baa2_row2_col16, #T_9baa2_row2_col17, #T_9baa2_row2_col18, #T_9baa2_row2_col19, #T_9baa2_row2_col20, #T_9baa2_row2_col21, #T_9baa2_row3_col0, #T_9baa2_row3_col6, #T_9baa2_row3_col7, #T_9baa2_row3_col8, #T_9baa2_row3_col9, #T_9baa2_row3_col10, #T_9baa2_row3_col11, #T_9baa2_row3_col12, #T_9baa2_row3_col13, #T_9baa2_row3_col14, #T_9baa2_row3_col20, #T_9baa2_row3_col21, #T_9baa2_row4_col0, #T_9baa2_row4_col1, #T_9baa2_row4_col2, #T_9baa2_row4_col3, #T_9baa2_row4_col4, #T_9baa2_row4_col5, #T_9baa2_row4_col6, #T_9baa2_row4_col7, #T_9baa2_row4_col8, #T_9baa2_row4_col9, #T_9baa2_row4_col10, #T_9baa2_row4_col11, #T_9baa2_row4_col12, #T_9baa2_row4_col13, #T_9baa2_row4_col14, #T_9baa2_row4_col15, #T_9baa2_row4_col20, #T_9baa2_row4_col21 {\n",
       "  background-color: #f7fbff;\n",
       "  color: #000000;\n",
       "  color: white;\n",
       "  background-color: white;\n",
       "}\n",
       "#T_9baa2_row0_col8, #T_9baa2_row3_col19, #T_9baa2_row4_col16, #T_9baa2_row4_col17, #T_9baa2_row4_col18, #T_9baa2_row4_col19 {\n",
       "  background-color: #b9d6ea;\n",
       "  color: #000000;\n",
       "  color: black;\n",
       "}\n",
       "#T_9baa2_row0_col9 {\n",
       "  background-color: #3d8dc4;\n",
       "  color: #f1f1f1;\n",
       "  color: black;\n",
       "}\n",
       "#T_9baa2_row0_col10, #T_9baa2_row0_col11 {\n",
       "  background-color: #08306b;\n",
       "  color: #f1f1f1;\n",
       "  color: black;\n",
       "}\n",
       "#T_9baa2_row0_col12 {\n",
       "  background-color: #2c7cba;\n",
       "  color: #f1f1f1;\n",
       "  color: black;\n",
       "}\n",
       "#T_9baa2_row0_col13 {\n",
       "  background-color: #a4cce3;\n",
       "  color: #000000;\n",
       "  color: black;\n",
       "}\n",
       "#T_9baa2_row1_col11, #T_9baa2_row1_col12, #T_9baa2_row1_col13, #T_9baa2_row1_col15, #T_9baa2_row1_col16, #T_9baa2_row1_col17 {\n",
       "  background-color: #bdd7ec;\n",
       "  color: #000000;\n",
       "  color: black;\n",
       "}\n",
       "#T_9baa2_row1_col14 {\n",
       "  background-color: #57a0ce;\n",
       "  color: #f1f1f1;\n",
       "  color: black;\n",
       "}\n",
       "#T_9baa2_row2_col6 {\n",
       "  background-color: #bed8ec;\n",
       "  color: #000000;\n",
       "  color: black;\n",
       "}\n",
       "#T_9baa2_row2_col7, #T_9baa2_row2_col8, #T_9baa2_row2_col9 {\n",
       "  background-color: #539ecd;\n",
       "  color: #f1f1f1;\n",
       "  color: black;\n",
       "}\n",
       "#T_9baa2_row2_col10, #T_9baa2_row3_col5 {\n",
       "  background-color: #b8d5ea;\n",
       "  color: #000000;\n",
       "  color: black;\n",
       "}\n",
       "#T_9baa2_row3_col1 {\n",
       "  background-color: #b2d2e8;\n",
       "  color: #000000;\n",
       "  color: black;\n",
       "}\n",
       "#T_9baa2_row3_col2, #T_9baa2_row3_col3, #T_9baa2_row3_col4 {\n",
       "  background-color: #4695c8;\n",
       "  color: #f1f1f1;\n",
       "  color: black;\n",
       "}\n",
       "#T_9baa2_row3_col15 {\n",
       "  background-color: #bad6eb;\n",
       "  color: #000000;\n",
       "  color: black;\n",
       "}\n",
       "#T_9baa2_row3_col16, #T_9baa2_row3_col17, #T_9baa2_row3_col18 {\n",
       "  background-color: #529dcc;\n",
       "  color: #f1f1f1;\n",
       "  color: black;\n",
       "}\n",
       "</style>\n",
       "<table id=\"T_9baa2\">\n",
       "  <thead>\n",
       "    <tr>\n",
       "      <th class=\"blank level0\" >&nbsp;</th>\n",
       "      <th id=\"T_9baa2_level0_col0\" class=\"col_heading level0 col0\" >conversely</th>\n",
       "      <th id=\"T_9baa2_level0_col1\" class=\"col_heading level0 col1\" >get </th>\n",
       "      <th id=\"T_9baa2_level0_col2\" class=\"col_heading level0 col2\" >europe  </th>\n",
       "      <th id=\"T_9baa2_level0_col3\" class=\"col_heading level0 col3\" >north   </th>\n",
       "      <th id=\"T_9baa2_level0_col4\" class=\"col_heading level0 col4\" >america    </th>\n",
       "      <th id=\"T_9baa2_level0_col5\" class=\"col_heading level0 col5\" >look     </th>\n",
       "      <th id=\"T_9baa2_level0_col6\" class=\"col_heading level0 col6\" >geopolitical      </th>\n",
       "      <th id=\"T_9baa2_level0_col7\" class=\"col_heading level0 col7\" >risk       </th>\n",
       "      <th id=\"T_9baa2_level0_col8\" class=\"col_heading level0 col8\" >particularly        </th>\n",
       "      <th id=\"T_9baa2_level0_col9\" class=\"col_heading level0 col9\" >associate         </th>\n",
       "      <th id=\"T_9baa2_level0_col10\" class=\"col_heading level0 col10\" >go          </th>\n",
       "      <th id=\"T_9baa2_level0_col11\" class=\"col_heading level0 col11\" >look           </th>\n",
       "      <th id=\"T_9baa2_level0_col12\" class=\"col_heading level0 col12\" >maybe            </th>\n",
       "      <th id=\"T_9baa2_level0_col13\" class=\"col_heading level0 col13\" >derisk             </th>\n",
       "      <th id=\"T_9baa2_level0_col14\" class=\"col_heading level0 col14\" >global              </th>\n",
       "      <th id=\"T_9baa2_level0_col15\" class=\"col_heading level0 col15\" >basis               </th>\n",
       "      <th id=\"T_9baa2_level0_col16\" class=\"col_heading level0 col16\" >move                </th>\n",
       "      <th id=\"T_9baa2_level0_col17\" class=\"col_heading level0 col17\" >little                 </th>\n",
       "      <th id=\"T_9baa2_level0_col18\" class=\"col_heading level0 col18\" >bit                  </th>\n",
       "      <th id=\"T_9baa2_level0_col19\" class=\"col_heading level0 col19\" >close                   </th>\n",
       "      <th id=\"T_9baa2_level0_col20\" class=\"col_heading level0 col20\" >headquarters                    </th>\n",
       "      <th id=\"T_9baa2_level0_col21\" class=\"col_heading level0 col21\" >operation                     </th>\n",
       "    </tr>\n",
       "  </thead>\n",
       "  <tbody>\n",
       "    <tr>\n",
       "      <th id=\"T_9baa2_level0_row0\" class=\"row_heading level0 row0\" >0_demand_production_industry_market</th>\n",
       "      <td id=\"T_9baa2_row0_col0\" class=\"data row0 col0\" >0.000</td>\n",
       "      <td id=\"T_9baa2_row0_col1\" class=\"data row0 col1\" >0.000</td>\n",
       "      <td id=\"T_9baa2_row0_col2\" class=\"data row0 col2\" >0.000</td>\n",
       "      <td id=\"T_9baa2_row0_col3\" class=\"data row0 col3\" >0.000</td>\n",
       "      <td id=\"T_9baa2_row0_col4\" class=\"data row0 col4\" >0.000</td>\n",
       "      <td id=\"T_9baa2_row0_col5\" class=\"data row0 col5\" >0.000</td>\n",
       "      <td id=\"T_9baa2_row0_col6\" class=\"data row0 col6\" >0.000</td>\n",
       "      <td id=\"T_9baa2_row0_col7\" class=\"data row0 col7\" >0.000</td>\n",
       "      <td id=\"T_9baa2_row0_col8\" class=\"data row0 col8\" >0.106</td>\n",
       "      <td id=\"T_9baa2_row0_col9\" class=\"data row0 col9\" >0.235</td>\n",
       "      <td id=\"T_9baa2_row0_col10\" class=\"data row0 col10\" >0.365</td>\n",
       "      <td id=\"T_9baa2_row0_col11\" class=\"data row0 col11\" >0.365</td>\n",
       "      <td id=\"T_9baa2_row0_col12\" class=\"data row0 col12\" >0.259</td>\n",
       "      <td id=\"T_9baa2_row0_col13\" class=\"data row0 col13\" >0.130</td>\n",
       "      <td id=\"T_9baa2_row0_col14\" class=\"data row0 col14\" >0.000</td>\n",
       "      <td id=\"T_9baa2_row0_col15\" class=\"data row0 col15\" >0.000</td>\n",
       "      <td id=\"T_9baa2_row0_col16\" class=\"data row0 col16\" >0.000</td>\n",
       "      <td id=\"T_9baa2_row0_col17\" class=\"data row0 col17\" >0.000</td>\n",
       "      <td id=\"T_9baa2_row0_col18\" class=\"data row0 col18\" >0.000</td>\n",
       "      <td id=\"T_9baa2_row0_col19\" class=\"data row0 col19\" >0.000</td>\n",
       "      <td id=\"T_9baa2_row0_col20\" class=\"data row0 col20\" >0.000</td>\n",
       "      <td id=\"T_9baa2_row0_col21\" class=\"data row0 col21\" >0.000</td>\n",
       "    </tr>\n",
       "    <tr>\n",
       "      <th id=\"T_9baa2_level0_row1\" class=\"row_heading level0 row1\" >4_macroeconomic_inflation_inflationary_economy</th>\n",
       "      <td id=\"T_9baa2_row1_col0\" class=\"data row1 col0\" >0.000</td>\n",
       "      <td id=\"T_9baa2_row1_col1\" class=\"data row1 col1\" >0.000</td>\n",
       "      <td id=\"T_9baa2_row1_col2\" class=\"data row1 col2\" >0.000</td>\n",
       "      <td id=\"T_9baa2_row1_col3\" class=\"data row1 col3\" >0.000</td>\n",
       "      <td id=\"T_9baa2_row1_col4\" class=\"data row1 col4\" >0.000</td>\n",
       "      <td id=\"T_9baa2_row1_col5\" class=\"data row1 col5\" >0.000</td>\n",
       "      <td id=\"T_9baa2_row1_col6\" class=\"data row1 col6\" >0.000</td>\n",
       "      <td id=\"T_9baa2_row1_col7\" class=\"data row1 col7\" >0.000</td>\n",
       "      <td id=\"T_9baa2_row1_col8\" class=\"data row1 col8\" >0.000</td>\n",
       "      <td id=\"T_9baa2_row1_col9\" class=\"data row1 col9\" >0.000</td>\n",
       "      <td id=\"T_9baa2_row1_col10\" class=\"data row1 col10\" >0.000</td>\n",
       "      <td id=\"T_9baa2_row1_col11\" class=\"data row1 col11\" >0.102</td>\n",
       "      <td id=\"T_9baa2_row1_col12\" class=\"data row1 col12\" >0.102</td>\n",
       "      <td id=\"T_9baa2_row1_col13\" class=\"data row1 col13\" >0.102</td>\n",
       "      <td id=\"T_9baa2_row1_col14\" class=\"data row1 col14\" >0.204</td>\n",
       "      <td id=\"T_9baa2_row1_col15\" class=\"data row1 col15\" >0.102</td>\n",
       "      <td id=\"T_9baa2_row1_col16\" class=\"data row1 col16\" >0.102</td>\n",
       "      <td id=\"T_9baa2_row1_col17\" class=\"data row1 col17\" >0.102</td>\n",
       "      <td id=\"T_9baa2_row1_col18\" class=\"data row1 col18\" >0.000</td>\n",
       "      <td id=\"T_9baa2_row1_col19\" class=\"data row1 col19\" >0.000</td>\n",
       "      <td id=\"T_9baa2_row1_col20\" class=\"data row1 col20\" >0.000</td>\n",
       "      <td id=\"T_9baa2_row1_col21\" class=\"data row1 col21\" >0.000</td>\n",
       "    </tr>\n",
       "    <tr>\n",
       "      <th id=\"T_9baa2_level0_row2\" class=\"row_heading level0 row2\" >5_revenue_business_profit_investment</th>\n",
       "      <td id=\"T_9baa2_row2_col0\" class=\"data row2 col0\" >0.000</td>\n",
       "      <td id=\"T_9baa2_row2_col1\" class=\"data row2 col1\" >0.000</td>\n",
       "      <td id=\"T_9baa2_row2_col2\" class=\"data row2 col2\" >0.000</td>\n",
       "      <td id=\"T_9baa2_row2_col3\" class=\"data row2 col3\" >0.000</td>\n",
       "      <td id=\"T_9baa2_row2_col4\" class=\"data row2 col4\" >0.000</td>\n",
       "      <td id=\"T_9baa2_row2_col5\" class=\"data row2 col5\" >0.000</td>\n",
       "      <td id=\"T_9baa2_row2_col6\" class=\"data row2 col6\" >0.101</td>\n",
       "      <td id=\"T_9baa2_row2_col7\" class=\"data row2 col7\" >0.209</td>\n",
       "      <td id=\"T_9baa2_row2_col8\" class=\"data row2 col8\" >0.209</td>\n",
       "      <td id=\"T_9baa2_row2_col9\" class=\"data row2 col9\" >0.209</td>\n",
       "      <td id=\"T_9baa2_row2_col10\" class=\"data row2 col10\" >0.108</td>\n",
       "      <td id=\"T_9baa2_row2_col11\" class=\"data row2 col11\" >0.000</td>\n",
       "      <td id=\"T_9baa2_row2_col12\" class=\"data row2 col12\" >0.000</td>\n",
       "      <td id=\"T_9baa2_row2_col13\" class=\"data row2 col13\" >0.000</td>\n",
       "      <td id=\"T_9baa2_row2_col14\" class=\"data row2 col14\" >0.000</td>\n",
       "      <td id=\"T_9baa2_row2_col15\" class=\"data row2 col15\" >0.000</td>\n",
       "      <td id=\"T_9baa2_row2_col16\" class=\"data row2 col16\" >0.000</td>\n",
       "      <td id=\"T_9baa2_row2_col17\" class=\"data row2 col17\" >0.000</td>\n",
       "      <td id=\"T_9baa2_row2_col18\" class=\"data row2 col18\" >0.000</td>\n",
       "      <td id=\"T_9baa2_row2_col19\" class=\"data row2 col19\" >0.000</td>\n",
       "      <td id=\"T_9baa2_row2_col20\" class=\"data row2 col20\" >0.000</td>\n",
       "      <td id=\"T_9baa2_row2_col21\" class=\"data row2 col21\" >0.000</td>\n",
       "    </tr>\n",
       "    <tr>\n",
       "      <th id=\"T_9baa2_level0_row3\" class=\"row_heading level0 row3\" >6_energy_demand_heating_war</th>\n",
       "      <td id=\"T_9baa2_row3_col0\" class=\"data row3 col0\" >0.000</td>\n",
       "      <td id=\"T_9baa2_row3_col1\" class=\"data row3 col1\" >0.115</td>\n",
       "      <td id=\"T_9baa2_row3_col2\" class=\"data row3 col2\" >0.223</td>\n",
       "      <td id=\"T_9baa2_row3_col3\" class=\"data row3 col3\" >0.223</td>\n",
       "      <td id=\"T_9baa2_row3_col4\" class=\"data row3 col4\" >0.223</td>\n",
       "      <td id=\"T_9baa2_row3_col5\" class=\"data row3 col5\" >0.108</td>\n",
       "      <td id=\"T_9baa2_row3_col6\" class=\"data row3 col6\" >0.000</td>\n",
       "      <td id=\"T_9baa2_row3_col7\" class=\"data row3 col7\" >0.000</td>\n",
       "      <td id=\"T_9baa2_row3_col8\" class=\"data row3 col8\" >0.000</td>\n",
       "      <td id=\"T_9baa2_row3_col9\" class=\"data row3 col9\" >0.000</td>\n",
       "      <td id=\"T_9baa2_row3_col10\" class=\"data row3 col10\" >0.000</td>\n",
       "      <td id=\"T_9baa2_row3_col11\" class=\"data row3 col11\" >0.000</td>\n",
       "      <td id=\"T_9baa2_row3_col12\" class=\"data row3 col12\" >0.000</td>\n",
       "      <td id=\"T_9baa2_row3_col13\" class=\"data row3 col13\" >0.000</td>\n",
       "      <td id=\"T_9baa2_row3_col14\" class=\"data row3 col14\" >0.000</td>\n",
       "      <td id=\"T_9baa2_row3_col15\" class=\"data row3 col15\" >0.105</td>\n",
       "      <td id=\"T_9baa2_row3_col16\" class=\"data row3 col16\" >0.211</td>\n",
       "      <td id=\"T_9baa2_row3_col17\" class=\"data row3 col17\" >0.211</td>\n",
       "      <td id=\"T_9baa2_row3_col18\" class=\"data row3 col18\" >0.211</td>\n",
       "      <td id=\"T_9baa2_row3_col19\" class=\"data row3 col19\" >0.106</td>\n",
       "      <td id=\"T_9baa2_row3_col20\" class=\"data row3 col20\" >0.000</td>\n",
       "      <td id=\"T_9baa2_row3_col21\" class=\"data row3 col21\" >0.000</td>\n",
       "    </tr>\n",
       "    <tr>\n",
       "      <th id=\"T_9baa2_level0_row4\" class=\"row_heading level0 row4\" >9_grain_foodtech_harvest_soybean</th>\n",
       "      <td id=\"T_9baa2_row4_col0\" class=\"data row4 col0\" >0.000</td>\n",
       "      <td id=\"T_9baa2_row4_col1\" class=\"data row4 col1\" >0.000</td>\n",
       "      <td id=\"T_9baa2_row4_col2\" class=\"data row4 col2\" >0.000</td>\n",
       "      <td id=\"T_9baa2_row4_col3\" class=\"data row4 col3\" >0.000</td>\n",
       "      <td id=\"T_9baa2_row4_col4\" class=\"data row4 col4\" >0.000</td>\n",
       "      <td id=\"T_9baa2_row4_col5\" class=\"data row4 col5\" >0.000</td>\n",
       "      <td id=\"T_9baa2_row4_col6\" class=\"data row4 col6\" >0.000</td>\n",
       "      <td id=\"T_9baa2_row4_col7\" class=\"data row4 col7\" >0.000</td>\n",
       "      <td id=\"T_9baa2_row4_col8\" class=\"data row4 col8\" >0.000</td>\n",
       "      <td id=\"T_9baa2_row4_col9\" class=\"data row4 col9\" >0.000</td>\n",
       "      <td id=\"T_9baa2_row4_col10\" class=\"data row4 col10\" >0.000</td>\n",
       "      <td id=\"T_9baa2_row4_col11\" class=\"data row4 col11\" >0.000</td>\n",
       "      <td id=\"T_9baa2_row4_col12\" class=\"data row4 col12\" >0.000</td>\n",
       "      <td id=\"T_9baa2_row4_col13\" class=\"data row4 col13\" >0.000</td>\n",
       "      <td id=\"T_9baa2_row4_col14\" class=\"data row4 col14\" >0.000</td>\n",
       "      <td id=\"T_9baa2_row4_col15\" class=\"data row4 col15\" >0.000</td>\n",
       "      <td id=\"T_9baa2_row4_col16\" class=\"data row4 col16\" >0.106</td>\n",
       "      <td id=\"T_9baa2_row4_col17\" class=\"data row4 col17\" >0.106</td>\n",
       "      <td id=\"T_9baa2_row4_col18\" class=\"data row4 col18\" >0.106</td>\n",
       "      <td id=\"T_9baa2_row4_col19\" class=\"data row4 col19\" >0.106</td>\n",
       "      <td id=\"T_9baa2_row4_col20\" class=\"data row4 col20\" >0.000</td>\n",
       "      <td id=\"T_9baa2_row4_col21\" class=\"data row4 col21\" >0.000</td>\n",
       "    </tr>\n",
       "  </tbody>\n",
       "</table>\n"
      ],
      "text/plain": [
       "<pandas.io.formats.style.Styler at 0x19166dc00>"
      ]
     },
     "execution_count": 365,
     "metadata": {},
     "output_type": "execute_result"
    }
   ],
   "source": [
    "# Visualize the token-level distributions\n",
    "df = topic_model.visualize_approximate_distribution(corpus_window_0_join_df['processed_text'].to_list()[1], topic_token_distr[1])\n",
    "df"
   ]
  },
  {
   "cell_type": "code",
   "execution_count": 372,
   "metadata": {},
   "outputs": [
    {
     "data": {
      "text/plain": [
       "[('refinery', 0.48095948),\n",
       " ('refiner', 0.4155772),\n",
       " ('import', 0.4111076),\n",
       " ('oil', 0.3860207),\n",
       " ('europe', 0.3736658),\n",
       " ('diesel', 0.36351082),\n",
       " ('fuel', 0.35027352),\n",
       " ('eu', 0.3479474),\n",
       " ('supply', 0.34047055),\n",
       " ('russian', 0.33826613)]"
      ]
     },
     "execution_count": 372,
     "metadata": {},
     "output_type": "execute_result"
    }
   ],
   "source": [
    "# values for individual topics\n",
    "topic_model.get_topic(1)"
   ]
  },
  {
   "cell_type": "code",
   "execution_count": null,
   "metadata": {},
   "outputs": [],
   "source": [
    "from sentence_transformers.cross_encoder import CrossEncoder"
   ]
  },
  {
   "cell_type": "code",
   "execution_count": null,
   "metadata": {},
   "outputs": [],
   "source": [
    "from sentence_transformers import SentenceTransformer, util\n",
    "model = SentenceTransformer('paraphrase-distilroberta-base-v1')\n",
    "sentence1 = \"Now this slide talks more about the immediate impact where the combination of sanctions and also business destruction in Ukraine leads or may lead to supply chain disruptions.\"\n",
    "sentence2 = \"We obviously intensively evaluate all the potential impacts, created a task force that meets almost daily to follow on these topics and basically do preventive measures as to limit the potential impact on CEZ.\"\n",
    "\n",
    "doc1 = nlp(sentence1)\n",
    "doc2 = nlp(sentence2)\n",
    "similarity = doc1.similarity(doc2)\n",
    "\n",
    "sentences_ = [sentence1, sentence2]\n",
    "sentence_embeddings = model.encode(sentences_)\n",
    "\n",
    "print(\"Cosine Similarity: \" + str(util.pytorch_cos_sim(sentence_embeddings[0], sentence_embeddings[1]).item()))\n",
    "print(\"similiarity: \" + str(similarity))"
   ]
  },
  {
   "cell_type": "code",
   "execution_count": null,
   "metadata": {},
   "outputs": [],
   "source": [
    "# import dill as pickle\n",
    "# pickle.dump(events_russia, open('../output/pickled/events_russia.pkl', 'wb'))\n",
    "# pickle.dump(events, open('../output/pickled/events.pkl', 'wb'))"
   ]
  },
  {
   "cell_type": "code",
   "execution_count": null,
   "metadata": {},
   "outputs": [],
   "source": [
    "docs = [event['presentation_collapsed'] + \"\\n\" + event['qa_collapsed'] for event in events_russia]"
   ]
  },
  {
   "cell_type": "code",
   "execution_count": null,
   "metadata": {},
   "outputs": [],
   "source": [
    "df.to_csv('../output/data/overview.csv', index=False)"
   ]
  },
  {
   "cell_type": "code",
   "execution_count": null,
   "metadata": {},
   "outputs": [],
   "source": [
    "#  df[['company', 'ticker', 'ticker_new', 'date', 'russia', 'russia_count', 'sanction_count']].to_csv('../output/data/overview_jakob.csv', index=False)\n",
    "# with open('../output/data/overview_jakob.csv', 'rb') as f_in:\n",
    "#     with gzip.open('../output/data/overview_jakob.csv.gz', 'wb') as f_out:\n",
    "#         shutil.copyfileobj(f_in, f_out)"
   ]
  },
  {
   "attachments": {},
   "cell_type": "markdown",
   "metadata": {},
   "source": [
    "Create 15 samples for each category: russia and election and save it in the\n",
    "corresponding directory."
   ]
  },
  {
   "cell_type": "code",
   "execution_count": null,
   "metadata": {},
   "outputs": [],
   "source": [
    "if len(df[df['russia'] == 'russia & sanctions']) >0:sample_files_russia = df[df['russia'] == 'russia'].sample(8)['file'].tolist() + df[df['russia'] == 'russia & sanctions'].sample(7)['file'].tolist()\n",
    "if len(df[df['election'] == 'presidential election']) >0: sample_files_election = df[df['election'] == 'presidential election'].sample(15)['file'].tolist()"
   ]
  },
  {
   "cell_type": "code",
   "execution_count": null,
   "metadata": {},
   "outputs": [],
   "source": [
    "# delete all files in folder\n",
    "if 'sample_files_russia' in locals() or 'sample_files_russia' in globals():\n",
    "    folder = '../output/sample transcripts/russia/'\n",
    "    files = os.listdir(folder)\n",
    "    for f in files:\n",
    "        os.remove(folder + f)\n",
    "    # copy sample files to folder\n",
    "    for file in sample_files_russia:\n",
    "        shutil.copy(file, folder)"
   ]
  },
  {
   "cell_type": "code",
   "execution_count": null,
   "metadata": {},
   "outputs": [],
   "source": [
    "# delete all files in folder\n",
    "if 'sample_files_election' in locals() or sample_files_election in globals():\n",
    "    folder = '../output/sample transcripts/election/'\n",
    "    files = os.listdir(folder)\n",
    "    for f in files:\n",
    "        os.remove(folder + f)\n",
    "    # copy sample files to folder\n",
    "    for file in sample_files_election:\n",
    "        shutil.copy(file, folder)"
   ]
  },
  {
   "attachments": {},
   "cell_type": "markdown",
   "metadata": {},
   "source": [
    "Polars"
   ]
  },
  {
   "cell_type": "code",
   "execution_count": null,
   "metadata": {},
   "outputs": [],
   "source": [
    "keys_to_keep = ['file', 'body_orig']"
   ]
  },
  {
   "cell_type": "code",
   "execution_count": null,
   "metadata": {},
   "outputs": [],
   "source": [
    "events_new_trimmed = [{key: event[key] for key in keys_to_keep} for event in events_new]"
   ]
  },
  {
   "cell_type": "code",
   "execution_count": null,
   "metadata": {},
   "outputs": [],
   "source": [
    "eventsDF = pl.from_dicts(events_new_trimmed)"
   ]
  },
  {
   "cell_type": "code",
   "execution_count": null,
   "metadata": {},
   "outputs": [],
   "source": [
    "eventsDF = eventsDF.with_columns(pl.col(\"body_orig\").str.count_match('(E|e)lections').alias(\"elections_count\"))\n",
    "eventsDF = eventsDF.with_columns(pl.col(\"body_orig\").str.count_match('(S|s)anctions').alias(\"sanctions_count\"))\n",
    "eventsDF = eventsDF.with_columns(pl.col(\"body_orig\").str.count_match('(R|r)ussia').alias(\"russia_count\"))"
   ]
  },
  {
   "cell_type": "code",
   "execution_count": null,
   "metadata": {},
   "outputs": [],
   "source": [
    "len(eventsDF.filter(pl.col(\"elections_count\") > 0))"
   ]
  },
  {
   "cell_type": "code",
   "execution_count": null,
   "metadata": {},
   "outputs": [],
   "source": [
    "len(eventsDF.filter((pl.col(\"sanctions_count\") > 0) & (pl.col(\"russia_count\") > 0)))"
   ]
  }
 ],
 "metadata": {
  "kernelspec": {
   "display_name": "infineac",
   "language": "python",
   "name": "infineac"
  },
  "language_info": {
   "codemirror_mode": {
    "name": "ipython",
    "version": 3
   },
   "file_extension": ".py",
   "mimetype": "text/x-python",
   "name": "python",
   "nbconvert_exporter": "python",
   "pygments_lexer": "ipython3",
   "version": "3.10.12"
  },
  "orig_nbformat": 4
 },
 "nbformat": 4,
 "nbformat_minor": 2
}
