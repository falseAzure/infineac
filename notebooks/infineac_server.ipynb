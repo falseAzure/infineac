{
 "cells": [
  {
   "cell_type": "code",
   "execution_count": 3,
   "metadata": {},
   "outputs": [
    {
     "name": "stderr",
     "output_type": "stream",
     "text": [
      "c:\\Users\\fgabelbe\\AppData\\Local\\miniconda3\\envs\\infineac\\lib\\site-packages\\umap\\distances.py:1063: NumbaDeprecationWarning: \u001b[1mThe 'nopython' keyword argument was not supplied to the 'numba.jit' decorator. The implicit default value for this argument is currently False, but it will be changed to True in Numba 0.59.0. See https://numba.readthedocs.io/en/stable/reference/deprecation.html#deprecation-of-object-mode-fall-back-behaviour-when-using-jit for details.\u001b[0m\n",
      "  @numba.jit()\n",
      "c:\\Users\\fgabelbe\\AppData\\Local\\miniconda3\\envs\\infineac\\lib\\site-packages\\umap\\distances.py:1071: NumbaDeprecationWarning: \u001b[1mThe 'nopython' keyword argument was not supplied to the 'numba.jit' decorator. The implicit default value for this argument is currently False, but it will be changed to True in Numba 0.59.0. See https://numba.readthedocs.io/en/stable/reference/deprecation.html#deprecation-of-object-mode-fall-back-behaviour-when-using-jit for details.\u001b[0m\n",
      "  @numba.jit()\n",
      "c:\\Users\\fgabelbe\\AppData\\Local\\miniconda3\\envs\\infineac\\lib\\site-packages\\umap\\distances.py:1086: NumbaDeprecationWarning: \u001b[1mThe 'nopython' keyword argument was not supplied to the 'numba.jit' decorator. The implicit default value for this argument is currently False, but it will be changed to True in Numba 0.59.0. See https://numba.readthedocs.io/en/stable/reference/deprecation.html#deprecation-of-object-mode-fall-back-behaviour-when-using-jit for details.\u001b[0m\n",
      "  @numba.jit()\n",
      "c:\\Users\\fgabelbe\\AppData\\Local\\miniconda3\\envs\\infineac\\lib\\site-packages\\umap\\umap_.py:660: NumbaDeprecationWarning: \u001b[1mThe 'nopython' keyword argument was not supplied to the 'numba.jit' decorator. The implicit default value for this argument is currently False, but it will be changed to True in Numba 0.59.0. See https://numba.readthedocs.io/en/stable/reference/deprecation.html#deprecation-of-object-mode-fall-back-behaviour-when-using-jit for details.\u001b[0m\n",
      "  @numba.jit()\n"
     ]
    }
   ],
   "source": [
    "import os\n",
    "from pathlib import Path\n",
    "import polars as pl\n",
    "import re\n",
    "import random\n",
    "import shutil\n",
    "import numpy as np\n",
    "import pandas as pd\n",
    "import seaborn as sns\n",
    "import matplotlib.pyplot as plt\n",
    "import matplotlib.dates as mdates\n",
    "\n",
    "import infineac.file_loader as file_loader\n",
    "import infineac.helper as helper\n",
    "import infineac.process_event as process_event\n",
    "import infineac.topic_extractor as topic_extractor\n",
    "import infineac.process_text as process_text\n",
    "\n",
    "%load_ext autoreload\n",
    "%autoreload 2\n",
    "\n",
    "PATH_DIR = \"../data/transcripts/\"\n",
    "random.seed(111)"
   ]
  },
  {
   "cell_type": "markdown",
   "metadata": {},
   "source": [
    "## Load NLP model"
   ]
  },
  {
   "cell_type": "code",
   "execution_count": 1,
   "metadata": {},
   "outputs": [
    {
     "name": "stderr",
     "output_type": "stream",
     "text": [
      "c:\\Users\\fgabelbe\\AppData\\Local\\miniconda3\\envs\\infineac\\lib\\site-packages\\tqdm\\auto.py:21: TqdmWarning: IProgress not found. Please update jupyter and ipywidgets. See https://ipywidgets.readthedocs.io/en/stable/user_install.html\n",
      "  from .autonotebook import tqdm as notebook_tqdm\n",
      "2023-09-18 20:58:05 INFO: Checking for updates to resources.json in case models have been updated.  Note: this behavior can be turned off with download_method=None or download_method=DownloadMethod.REUSE_RESOURCES\n",
      "Downloading https://raw.githubusercontent.com/stanfordnlp/stanza-resources/main/resources_1.5.0.json: 216kB [00:00, 109MB/s]                     \n",
      "2023-09-18 20:58:07 INFO: Loading these models for language: en (English):\n",
      "========================\n",
      "| Processor | Package  |\n",
      "------------------------\n",
      "| tokenize  | combined |\n",
      "| lemma     | combined |\n",
      "========================\n",
      "\n",
      "2023-09-18 20:58:07 WARNING: GPU requested, but is not available!\n",
      "2023-09-18 20:58:07 INFO: Using device: cpu\n",
      "2023-09-18 20:58:07 INFO: Loading: tokenize\n",
      "2023-09-18 20:58:07 INFO: Loading: lemma\n",
      "2023-09-18 20:58:08 INFO: Done loading processors!\n"
     ]
    },
    {
     "data": {
      "text/plain": [
       "<spacy.pipeline.sentencizer.Sentencizer at 0x1f474decdc0>"
      ]
     },
     "execution_count": 1,
     "metadata": {},
     "output_type": "execute_result"
    }
   ],
   "source": [
    "import spacy_stanza\n",
    "nlp_stanza = spacy_stanza.load_pipeline(\"en\", processors=\"tokenize, lemma\")\n",
    "nlp_stanza.add_pipe('sentencizer')"
   ]
  },
  {
   "attachments": {},
   "cell_type": "markdown",
   "metadata": {},
   "source": [
    "## Load Files"
   ]
  },
  {
   "attachments": {},
   "cell_type": "markdown",
   "metadata": {},
   "source": [
    "Load all xml files from the given directory and return a list of corresponding events."
   ]
  },
  {
   "cell_type": "code",
   "execution_count": 5,
   "metadata": {},
   "outputs": [
    {
     "name": "stderr",
     "output_type": "stream",
     "text": [
      "Files: 100%|██████████| 189501/189501 [1:58:12<00:00, 26.72it/s]  \n"
     ]
    }
   ],
   "source": [
    "# files = [Path(\"../data/transcripts/2022/15203138_T.xml\")]\n",
    "files = list(Path(PATH_DIR).rglob(\"*.xml\"))\n",
    "events = file_loader.load_files_from_xml(files)"
   ]
  },
  {
   "cell_type": "markdown",
   "metadata": {},
   "source": [
    "Check if all positions are valid"
   ]
  },
  {
   "cell_type": "code",
   "execution_count": 6,
   "metadata": {},
   "outputs": [],
   "source": [
    "process_event.test_positions(events)"
   ]
  },
  {
   "cell_type": "markdown",
   "metadata": {},
   "source": [
    "## Filter data"
   ]
  },
  {
   "attachments": {},
   "cell_type": "markdown",
   "metadata": {},
   "source": [
    "Filter out all events that are not in the given time range and do not include the given keywords."
   ]
  },
  {
   "cell_type": "code",
   "execution_count": 12,
   "metadata": {},
   "outputs": [
    {
     "name": "stdout",
     "output_type": "stream",
     "text": [
      "Filtering events\n"
     ]
    },
    {
     "name": "stderr",
     "output_type": "stream",
     "text": [
      "Events: 100%|██████████| 189501/189501 [01:12<00:00, 2611.10it/s]\n"
     ]
    },
    {
     "name": "stdout",
     "output_type": "stream",
     "text": [
      "Filtering events\n"
     ]
    },
    {
     "name": "stderr",
     "output_type": "stream",
     "text": [
      "Events: 100%|██████████| 189501/189501 [17:14<00:00, 183.23it/s] \n"
     ]
    },
    {
     "data": {
      "text/plain": [
       "19909"
      ]
     },
     "execution_count": 12,
     "metadata": {},
     "output_type": "execute_result"
    }
   ],
   "source": [
    "events_filt_all = process_event.filter_events(events, year = 2019, keywords = {\"russia\":1, \"ukraine\":1}, modifier_words=[])\n",
    "events_filt = process_event.filter_events(events, year = 2019, keywords = {\"russia\":1, \"ukraine\":1})\n",
    "len(events_filt)"
   ]
  },
  {
   "cell_type": "code",
   "execution_count": 11,
   "metadata": {},
   "outputs": [],
   "source": [
    "helper.save_data(events, \"data/events\", compression=\"lz4\")"
   ]
  },
  {
   "cell_type": "code",
   "execution_count": 13,
   "metadata": {},
   "outputs": [],
   "source": [
    "helper.save_data(events_filt, \"data/events_filt\", compression=\"lz4\")"
   ]
  },
  {
   "cell_type": "markdown",
   "metadata": {},
   "source": [
    "List all events, that are filtered out due to modifier words preceding the keywords."
   ]
  },
  {
   "cell_type": "code",
   "execution_count": 14,
   "metadata": {},
   "outputs": [
    {
     "name": "stdout",
     "output_type": "stream",
     "text": [
      "16\n",
      "Extracting passages from events\n"
     ]
    },
    {
     "name": "stderr",
     "output_type": "stream",
     "text": [
      "Events: 100%|██████████| 16/16 [00:01<00:00, 13.69it/s]\n"
     ]
    },
    {
     "data": {
      "text/plain": [
       "[[[[['However, in June, year-over-year volume growth in all countries, except Russia, driven by strong demand recovery and share gains in key countries, resulted in year-over-year net sales growth and positive EBIT in the month.']]],\n",
       "  []],\n",
       " [[[['As for automotive glass, in addition to depreciation of euro, demand declines in areas except Russia.']]],\n",
       "  []],\n",
       " [[[['Napo EU, which will be a private company, will have an exclusive license to crofelemer, our novel, proprietary drug for the indications of inflammatory diarrhea and the current approved indication of crofelemer, Mytesi in the United States HIV-related diarrhea, and this is the exclusive license in Europe, excluding Russia.']]],\n",
       "  []],\n",
       " [[[['Napo EU is currently a wholly-owned European subsidiary of Napo Pharmaceuticals, Inc. in Italy with an exclusive European, excluding Russia, license to crofelemer technology from Jaguar.'],\n",
       "    [\"Napo Pharma's wholly-owned subsidiary, Napo EU, has executed a license agreement with Jaguar granting Napo EU the right to study, develop and commercialize crofelemer in Europe, excluding Russia.\"]]],\n",
       "  []],\n",
       " [[],\n",
       "  [[['Now we finally have begun that journey with the Finaro acquisition, and there will be others in order to support what I think is one of the best justifications for international expansion possible, which is the subscription billing sexy tech platform that has opportunities literally in every part of the world, except Russia and China.']]]],\n",
       " [[[['In addition, there will still be significant opportunity for expansion beyond this as these 70-plus countries represent less than 60% of broadband homes globally, excluding Russia and China.']]],\n",
       "  []],\n",
       " [[],\n",
       "  [[['So you see that there is no change on our guidance either for H1, 6% to 8%, excluding Russia, of full year. We confirm the 6% to 8% growth, excluding Russia.']],\n",
       "   [['And the performance of the division was 7% like-for-like, excluding Russia.']]]],\n",
       " [[[['European growth would have been 7% on a year-to-date basis in local currency, excluding Russia.']]],\n",
       "  []],\n",
       " [[[['Against a challenging backdrop, sales in the period at constant currency and excluding Russia, declined 7% with a deterioration since P1 largely due to the impact of our profitability initiatives.']]],\n",
       "  []],\n",
       " [[[['International revenues were up 11% or 14% excluding Russia. Europe saw 6% growth, excluding Russia, with most markets growing including our largest markets of France, the U.K. and Germany returning to growth.']],\n",
       "   [['Europe returned to growth with net revenues up 6%, excluding Russia, on top of 21% growth in the prior year, driven by our DTC business.']]],\n",
       "  [[[\"I think we said this in the prepared remarks, that's up 6% excluding Russia, sequentially improving versus last quarter, again, driven by the strength of DTC, which was up 16%, excluding Russia.\"]]]],\n",
       " [[[['The market demand in Europe continued to decline throughout the first quarter and was down 10%, excluding Russia.']]],\n",
       "  []],\n",
       " [[],\n",
       "  [[[\"I think this is going to be a massive success in this very strong area or (inaudible) already strong which is mascaras, but we are seeing more or less the same thing behind women in U.K. with 3 (inaudible) and Max Factor that's having a 30% [TGL] growth, excluding Russia, which is really unprecedented for this brand.\"]]]],\n",
       " [[[['Our Q3 core revenue grew 15% like-for-like, excluding Russia, bringing our fiscal year-to-date core business revenue growth to 10% like-for-like ahead of our original 6% to 8% like-for-like growth guidance.'],\n",
       "    [\"In the third quarter, we updated our total fiscal year '23 like-for-like CAGR, excluding Russia, to 9% to 10%, reflecting a significant increase from our original outlook of 6% to 8% core like-for-like growth, excluding Russia.\"]]],\n",
       "  []],\n",
       " [[],\n",
       "  [[[\"And maybe the last thing I'd say in emerging markets, while I'd say China and India are very important to us in those markets, great business in Southeast Asia, Middle East, Africa, excluding Russia, Central Eastern Europe is a good business.\"]]]],\n",
       " [[[['Our international business also remained strong, growing 8% or 10%, excluding Russia, led by continued momentum in Asia and Latin America.']],\n",
       "   [['Europe again grew, excluding Russia, up 1% on top of a 15% increase last year due to broad-based DTC growth across all countries. DTC, excluding Russia, was up 14% on top of more than 60% growth last year.']]],\n",
       "  [[['Excluding Russia, as you heard in the prepared remarks, Europe was up 2%.'],\n",
       "    ['Our DTC business was -- excluding Russia, it was up double digits.']]]],\n",
       " [[[['Market demand in Europe continued to decline throughout the second quarter and was down by 12%, excluding Russia.']]],\n",
       "  []]]"
      ]
     },
     "execution_count": 14,
     "metadata": {},
     "output_type": "execute_result"
    }
   ],
   "source": [
    "events_filtered_filter_words = []\n",
    "ids_filtered_events = []\n",
    "for i, event in enumerate(events_filt):\n",
    "    ids_filtered_events.append(event['id'])\n",
    "for event in events_filt_all:\n",
    "    if event['id'] not in ids_filtered_events:\n",
    "        events_filtered_filter_words.append(event)\n",
    "print(len(events_filtered_filter_words))\n",
    "process_event.extract_passages_from_events(events_filtered_filter_words, keywords=[\"russia\", \"ukraine\"], modifier_words=[], nlp_model=nlp_stanza)"
   ]
  },
  {
   "cell_type": "markdown",
   "metadata": {},
   "source": [
    "## Exploration"
   ]
  },
  {
   "cell_type": "code",
   "execution_count": 49,
   "metadata": {},
   "outputs": [],
   "source": [
    "file = [event['file'] for event in events_filt]\n",
    "id = [event['id'] for event in events_filt]\n",
    "year_upload = [event['year_upload'] for event in events_filt]\n",
    "company = [event['company_name'] for event in events_filt]\n",
    "ticker = [event['company_ticker'] if \"company_ticker\"!=\"\\n\" else \"NA\" for event in events_filt]\n",
    "ticker_new = [re.sub('\\\\..*', '', t) for t in ticker]\n",
    "dates = [event['date'] for event in events_filt if \"date\" in event.keys()]\n",
    "numeric_values = mdates.date2num(dates)\n",
    "\n",
    "russia_and_sanction = [process_text.get_russia_and_sanction(event['qa_collapsed'] + event['presentation_collapsed']) for event in events_filt]\n",
    "election = [process_text.get_elections(event['qa_collapsed'] + event['presentation_collapsed']) for event in events_filt]\n",
    "russia_count = [str(event['qa_collapsed'] + event['presentation_collapsed']).lower().count('russia') for event in events_filt]\n",
    "sanction_count = [str(event['qa_collapsed'] + event['presentation_collapsed']).lower().count('sanction') for event in events_filt]"
   ]
  },
  {
   "cell_type": "code",
   "execution_count": 77,
   "metadata": {},
   "outputs": [],
   "source": [
    "ticker = [event['company_ticker'] if event[\"company_ticker\"]!=\"\\n  \" else \"NA\" for event in events_filt]\n",
    "ticker_new = [re.sub('\\\\..*', '', t) for t in ticker]"
   ]
  },
  {
   "cell_type": "markdown",
   "metadata": {},
   "source": [
    "Create a DataFrame with the following columns:"
   ]
  },
  {
   "cell_type": "code",
   "execution_count": 93,
   "metadata": {},
   "outputs": [],
   "source": [
    "df = pd.DataFrame({'file': file,\n",
    "                   'year_upload': year_upload,\n",
    "                   'company': company,\n",
    "                   'ticker':ticker,\n",
    "                   'ticker_new': ticker_new,\n",
    "                   'date': dates,\n",
    "                   'dates_num' : numeric_values,\n",
    "                   'russia': russia_and_sanction,\n",
    "                   'russia_count': russia_count,\n",
    "                   'sanction_count': sanction_count,\n",
    "                   'election': election})"
   ]
  },
  {
   "cell_type": "markdown",
   "metadata": {},
   "source": [
    "Count the number of occasions where the word \"russia\" (and \"sanction\") appears in the earnings call."
   ]
  },
  {
   "cell_type": "code",
   "execution_count": 17,
   "metadata": {},
   "outputs": [
    {
     "data": {
      "image/png": "[encoded data removed]",
      "text/plain": [
       "<Figure size 640x480 with 1 Axes>"
      ]
     },
     "metadata": {},
     "output_type": "display_data"
    }
   ],
   "source": [
    "sns.histplot(df[df['russia_count']>=1], x='russia_count', hue=\"russia\", bins=50, stat=\"percent\", common_norm=True, multiple=\"stack\")\n",
    "plt.xlabel('Count of corresponding terms in the earnings calls')\n",
    "plt.ylabel('Percent')\n",
    "plt.title('Term count')\n",
    "plt.show()"
   ]
  },
  {
   "cell_type": "markdown",
   "metadata": {},
   "source": [
    "Average mentions of \"russia\" per earnings call."
   ]
  },
  {
   "cell_type": "code",
   "execution_count": 18,
   "metadata": {},
   "outputs": [
    {
     "data": {
      "text/plain": [
       "2.8327389622783667"
      ]
     },
     "execution_count": 18,
     "metadata": {},
     "output_type": "execute_result"
    }
   ],
   "source": [
    "np.array(russia_count).mean()"
   ]
  },
  {
   "cell_type": "markdown",
   "metadata": {},
   "source": [
    "Average mentions of \"russia\" per earnings call if \"russia\" is mentioned at\n",
    "least once."
   ]
  },
  {
   "cell_type": "code",
   "execution_count": 19,
   "metadata": {},
   "outputs": [
    {
     "data": {
      "text/plain": [
       "3.6488742236024843"
      ]
     },
     "execution_count": 19,
     "metadata": {},
     "output_type": "execute_result"
    }
   ],
   "source": [
    "np.array([el for el in russia_count if el > 0]).mean()"
   ]
  },
  {
   "cell_type": "markdown",
   "metadata": {},
   "source": [
    "Average mentions of \"sanction\" per earnings call."
   ]
  },
  {
   "cell_type": "code",
   "execution_count": 20,
   "metadata": {},
   "outputs": [
    {
     "data": {
      "text/plain": [
       "2.442906574394464"
      ]
     },
     "execution_count": 20,
     "metadata": {},
     "output_type": "execute_result"
    }
   ],
   "source": [
    "np.array([el for el in sanction_count if el > 0]).mean()"
   ]
  },
  {
   "cell_type": "markdown",
   "metadata": {},
   "source": [
    "Event distribution over time highlighting the different categories."
   ]
  },
  {
   "cell_type": "code",
   "execution_count": 21,
   "metadata": {},
   "outputs": [
    {
     "data": {
      "image/png": "[encoded data removed]",
      "text/plain": [
       "<Figure size 669.5x500 with 1 Axes>"
      ]
     },
     "metadata": {},
     "output_type": "display_data"
    }
   ],
   "source": [
    "# plt.hist(numeric_values, bins=50)\n",
    "# sns.histplot(numeric_values, bins=50)\n",
    "sns.displot(df, x=\"dates_num\", hue=\"russia\", bins=50, stat=\"percent\", common_norm=True, multiple=\"stack\")\n",
    "# plt.plot_date(dates, numeric_values, '-o')  # '-o' adds markers on the data points\n",
    "plt.xlabel('Dates')\n",
    "plt.ylabel('Probability')\n",
    "plt.title('Event Distribution')\n",
    "\n",
    "# Add x-axis ticks and labels\n",
    "plt.gca().xaxis.set_major_locator(mdates.AutoDateLocator())\n",
    "plt.gca().xaxis.set_major_formatter(mdates.DateFormatter('%Y-%m-%d'))  # Customize date format as needed\n",
    "\n",
    "plt.gcf().autofmt_xdate()  # Adjusts the date labels rotation for better visibility\n",
    "\n",
    "plt.show()"
   ]
  },
  {
   "cell_type": "markdown",
   "metadata": {},
   "source": [
    "Event proportion over time highlighting the different categories."
   ]
  },
  {
   "cell_type": "code",
   "execution_count": 22,
   "metadata": {},
   "outputs": [
    {
     "data": {
      "image/png": "[encoded data removed]",
      "text/plain": [
       "<Figure size 669.5x500 with 1 Axes>"
      ]
     },
     "metadata": {},
     "output_type": "display_data"
    }
   ],
   "source": [
    "# plt.hist(numeric_values, bins=50)\n",
    "# sns.histplot(numeric_values, bins=50)\n",
    "sns.displot(df, x=\"dates_num\", hue=\"russia\", bins=50, stat=\"proportion\", common_norm=True, multiple=\"fill\")\n",
    "# plt.plot_date(dates, numeric_values, '-o')  # '-o' adds markers on the data points\n",
    "plt.xlabel('Dates')\n",
    "plt.ylabel('Propotion')\n",
    "plt.title('Event Propotion')\n",
    "\n",
    "# Add x-axis ticks and labels\n",
    "plt.gca().xaxis.set_major_locator(mdates.AutoDateLocator())\n",
    "plt.gca().xaxis.set_major_formatter(mdates.DateFormatter('%Y-%m-%d'))  # Customize date format as needed\n",
    "\n",
    "plt.gcf().autofmt_xdate()  # Adjusts the date labels rotation for better visibility\n",
    "\n",
    "plt.show()"
   ]
  },
  {
   "cell_type": "markdown",
   "metadata": {},
   "source": [
    "## Preprocess and extract corpus"
   ]
  },
  {
   "cell_type": "code",
   "execution_count": 67,
   "metadata": {},
   "outputs": [],
   "source": [
    "events_filt = helper.load_data(\"data/events_filt.lz4\")"
   ]
  },
  {
   "cell_type": "markdown",
   "metadata": {},
   "source": [
    "Create different types of corpora:\n",
    "1. Corpus with a window of 1 sentence and not joining adjacent sentences.\n",
    "2. Corpus with a window of 1 sentence and joining adjacent sentences.\n",
    "3. Corpus with a window of 3 sentences and joining adjacent sentences.\n",
    "4. Corpus with a window of 5 sentences and joining adjacent sentences.\n",
    "5. Corpus with a window that includes the whole paragraph from the keywords on."
   ]
  },
  {
   "cell_type": "code",
   "execution_count": 23,
   "metadata": {},
   "outputs": [
    {
     "name": "stdout",
     "output_type": "stream",
     "text": [
      "Extracting passages from events\n"
     ]
    },
    {
     "name": "stderr",
     "output_type": "stream",
     "text": [
      "Events: 100%|██████████| 19909/19909 [40:57<00:00,  8.10it/s]  \n"
     ]
    },
    {
     "name": "stdout",
     "output_type": "stream",
     "text": [
      "Processing corpus with spaCy-pipeline\n"
     ]
    },
    {
     "name": "stderr",
     "output_type": "stream",
     "text": [
      "Documents: 100%|██████████| 70658/70658 [22:04<00:00, 53.34it/s] \n"
     ]
    },
    {
     "data": {
      "text/html": [
       "<div><style>\n",
       ".dataframe > thead > tr > th,\n",
       ".dataframe > tbody > tr > td {\n",
       "  text-align: right;\n",
       "}\n",
       "</style>\n",
       "<small>shape: (5, 11)</small><table border=\"1\" class=\"dataframe\"><thead><tr><th>event_idx</th><th>presentation_and_qa_idx</th><th>part_idx</th><th>paragraph_idx</th><th>sentence_idx</th><th>text</th><th>processed_text</th><th>id</th><th>years_upload</th><th>date</th><th>company_name</th></tr><tr><td>i64</td><td>i64</td><td>i64</td><td>i64</td><td>i64</td><td>str</td><td>str</td><td>i64</td><td>i64</td><td>datetime[μs]</td><td>str</td></tr></thead><tbody><tr><td>0</td><td>0</td><td>0</td><td>0</td><td>0</td><td>&quot;And in Decembe…</td><td>&quot;december board…</td><td>10603777</td><td>2019</td><td>2019-05-29 08:00:00</td><td>&quot;Total SA&quot;</td></tr><tr><td>0</td><td>1</td><td>0</td><td>0</td><td>0</td><td>&quot;Yes, about Rus…</td><td>&quot;yes&quot;</td><td>10603777</td><td>2019</td><td>2019-05-29 08:00:00</td><td>&quot;Total SA&quot;</td></tr><tr><td>0</td><td>1</td><td>0</td><td>0</td><td>1</td><td>&quot;And it goes to…</td><td>&quot;go germany cru…</td><td>10603777</td><td>2019</td><td>2019-05-29 08:00:00</td><td>&quot;Total SA&quot;</td></tr><tr><td>0</td><td>1</td><td>0</td><td>0</td><td>2</td><td>&quot;The Russian au…</td><td>&quot;authority talk…</td><td>10603777</td><td>2019</td><td>2019-05-29 08:00:00</td><td>&quot;Total SA&quot;</td></tr><tr><td>0</td><td>1</td><td>0</td><td>0</td><td>3</td><td>&quot;So it is -- in…</td><td>&quot;germany access…</td><td>10603777</td><td>2019</td><td>2019-05-29 08:00:00</td><td>&quot;Total SA&quot;</td></tr></tbody></table></div>"
      ],
      "text/plain": [
       "shape: (5, 11)\n",
       "┌───────────┬────────────┬──────────┬────────────┬───┬──────────┬────────────┬────────┬────────────┐\n",
       "│ event_idx ┆ presentati ┆ part_idx ┆ paragraph_ ┆ … ┆ id       ┆ years_uplo ┆ date   ┆ company_na │\n",
       "│ ---       ┆ on_and_qa_ ┆ ---      ┆ idx        ┆   ┆ ---      ┆ ad         ┆ ---    ┆ me         │\n",
       "│ i64       ┆ idx        ┆ i64      ┆ ---        ┆   ┆ i64      ┆ ---        ┆ dateti ┆ ---        │\n",
       "│           ┆ ---        ┆          ┆ i64        ┆   ┆          ┆ i64        ┆ me[μs] ┆ str        │\n",
       "│           ┆ i64        ┆          ┆            ┆   ┆          ┆            ┆        ┆            │\n",
       "╞═══════════╪════════════╪══════════╪════════════╪═══╪══════════╪════════════╪════════╪════════════╡\n",
       "│ 0         ┆ 0          ┆ 0        ┆ 0          ┆ … ┆ 10603777 ┆ 2019       ┆ 2019-0 ┆ Total SA   │\n",
       "│           ┆            ┆          ┆            ┆   ┆          ┆            ┆ 5-29   ┆            │\n",
       "│           ┆            ┆          ┆            ┆   ┆          ┆            ┆ 08:00: ┆            │\n",
       "│           ┆            ┆          ┆            ┆   ┆          ┆            ┆ 00     ┆            │\n",
       "│ 0         ┆ 1          ┆ 0        ┆ 0          ┆ … ┆ 10603777 ┆ 2019       ┆ 2019-0 ┆ Total SA   │\n",
       "│           ┆            ┆          ┆            ┆   ┆          ┆            ┆ 5-29   ┆            │\n",
       "│           ┆            ┆          ┆            ┆   ┆          ┆            ┆ 08:00: ┆            │\n",
       "│           ┆            ┆          ┆            ┆   ┆          ┆            ┆ 00     ┆            │\n",
       "│ 0         ┆ 1          ┆ 0        ┆ 0          ┆ … ┆ 10603777 ┆ 2019       ┆ 2019-0 ┆ Total SA   │\n",
       "│           ┆            ┆          ┆            ┆   ┆          ┆            ┆ 5-29   ┆            │\n",
       "│           ┆            ┆          ┆            ┆   ┆          ┆            ┆ 08:00: ┆            │\n",
       "│           ┆            ┆          ┆            ┆   ┆          ┆            ┆ 00     ┆            │\n",
       "│ 0         ┆ 1          ┆ 0        ┆ 0          ┆ … ┆ 10603777 ┆ 2019       ┆ 2019-0 ┆ Total SA   │\n",
       "│           ┆            ┆          ┆            ┆   ┆          ┆            ┆ 5-29   ┆            │\n",
       "│           ┆            ┆          ┆            ┆   ┆          ┆            ┆ 08:00: ┆            │\n",
       "│           ┆            ┆          ┆            ┆   ┆          ┆            ┆ 00     ┆            │\n",
       "│ 0         ┆ 1          ┆ 0        ┆ 0          ┆ … ┆ 10603777 ┆ 2019       ┆ 2019-0 ┆ Total SA   │\n",
       "│           ┆            ┆          ┆            ┆   ┆          ┆            ┆ 5-29   ┆            │\n",
       "│           ┆            ┆          ┆            ┆   ┆          ┆            ┆ 08:00: ┆            │\n",
       "│           ┆            ┆          ┆            ┆   ┆          ┆            ┆ 00     ┆            │\n",
       "└───────────┴────────────┴──────────┴────────────┴───┴──────────┴────────────┴────────┴────────────┘"
      ]
     },
     "execution_count": 23,
     "metadata": {},
     "output_type": "execute_result"
    }
   ],
   "source": [
    "corpus_window_0_df = process_event.events_to_corpus(\n",
    "    events=events_filt,\n",
    "    keywords={\"russia\": 1, \"ukraine\": 1},\n",
    "    context_window_sentence=0,\n",
    "    subsequent_paragraphs=0,\n",
    "    join_adjacent_sentences=False,\n",
    "    extract_answers=False,\n",
    "    nlp_model=nlp_stanza,\n",
    ")\n",
    "corpus_window_0_df.head()"
   ]
  },
  {
   "cell_type": "code",
   "execution_count": 26,
   "metadata": {},
   "outputs": [
    {
     "name": "stdout",
     "output_type": "stream",
     "text": [
      "Extracting passages from events\n"
     ]
    },
    {
     "name": "stderr",
     "output_type": "stream",
     "text": [
      "Events: 100%|██████████| 19909/19909 [40:07<00:00,  8.27it/s]  \n"
     ]
    },
    {
     "name": "stdout",
     "output_type": "stream",
     "text": [
      "Processing corpus with spaCy-pipeline\n"
     ]
    },
    {
     "name": "stderr",
     "output_type": "stream",
     "text": [
      "Documents: 100%|██████████| 62081/62081 [20:49<00:00, 49.70it/s]  \n"
     ]
    },
    {
     "data": {
      "text/html": [
       "<div><style>\n",
       ".dataframe > thead > tr > th,\n",
       ".dataframe > tbody > tr > td {\n",
       "  text-align: right;\n",
       "}\n",
       "</style>\n",
       "<small>shape: (5, 11)</small><table border=\"1\" class=\"dataframe\"><thead><tr><th>event_idx</th><th>presentation_and_qa_idx</th><th>part_idx</th><th>paragraph_idx</th><th>sentence_idx</th><th>text</th><th>processed_text</th><th>id</th><th>years_upload</th><th>date</th><th>company_name</th></tr><tr><td>i64</td><td>i64</td><td>i64</td><td>i64</td><td>i64</td><td>str</td><td>str</td><td>i64</td><td>i64</td><td>datetime[μs]</td><td>str</td></tr></thead><tbody><tr><td>0</td><td>0</td><td>0</td><td>0</td><td>0</td><td>&quot;And in Decembe…</td><td>&quot;december board…</td><td>10603777</td><td>2019</td><td>2019-05-29 08:00:00</td><td>&quot;Total SA&quot;</td></tr><tr><td>0</td><td>1</td><td>0</td><td>0</td><td>0</td><td>&quot;Yes, about Rus…</td><td>&quot;yes&quot;</td><td>10603777</td><td>2019</td><td>2019-05-29 08:00:00</td><td>&quot;Total SA&quot;</td></tr><tr><td>0</td><td>1</td><td>0</td><td>0</td><td>1</td><td>&quot;And it goes to…</td><td>&quot;go germany cru…</td><td>10603777</td><td>2019</td><td>2019-05-29 08:00:00</td><td>&quot;Total SA&quot;</td></tr><tr><td>0</td><td>1</td><td>0</td><td>0</td><td>2</td><td>&quot;The Russian au…</td><td>&quot;authority talk…</td><td>10603777</td><td>2019</td><td>2019-05-29 08:00:00</td><td>&quot;Total SA&quot;</td></tr><tr><td>0</td><td>1</td><td>0</td><td>0</td><td>3</td><td>&quot;So it is -- in…</td><td>&quot;germany access…</td><td>10603777</td><td>2019</td><td>2019-05-29 08:00:00</td><td>&quot;Total SA&quot;</td></tr></tbody></table></div>"
      ],
      "text/plain": [
       "shape: (5, 11)\n",
       "┌───────────┬────────────┬──────────┬────────────┬───┬──────────┬────────────┬────────┬────────────┐\n",
       "│ event_idx ┆ presentati ┆ part_idx ┆ paragraph_ ┆ … ┆ id       ┆ years_uplo ┆ date   ┆ company_na │\n",
       "│ ---       ┆ on_and_qa_ ┆ ---      ┆ idx        ┆   ┆ ---      ┆ ad         ┆ ---    ┆ me         │\n",
       "│ i64       ┆ idx        ┆ i64      ┆ ---        ┆   ┆ i64      ┆ ---        ┆ dateti ┆ ---        │\n",
       "│           ┆ ---        ┆          ┆ i64        ┆   ┆          ┆ i64        ┆ me[μs] ┆ str        │\n",
       "│           ┆ i64        ┆          ┆            ┆   ┆          ┆            ┆        ┆            │\n",
       "╞═══════════╪════════════╪══════════╪════════════╪═══╪══════════╪════════════╪════════╪════════════╡\n",
       "│ 0         ┆ 0          ┆ 0        ┆ 0          ┆ … ┆ 10603777 ┆ 2019       ┆ 2019-0 ┆ Total SA   │\n",
       "│           ┆            ┆          ┆            ┆   ┆          ┆            ┆ 5-29   ┆            │\n",
       "│           ┆            ┆          ┆            ┆   ┆          ┆            ┆ 08:00: ┆            │\n",
       "│           ┆            ┆          ┆            ┆   ┆          ┆            ┆ 00     ┆            │\n",
       "│ 0         ┆ 1          ┆ 0        ┆ 0          ┆ … ┆ 10603777 ┆ 2019       ┆ 2019-0 ┆ Total SA   │\n",
       "│           ┆            ┆          ┆            ┆   ┆          ┆            ┆ 5-29   ┆            │\n",
       "│           ┆            ┆          ┆            ┆   ┆          ┆            ┆ 08:00: ┆            │\n",
       "│           ┆            ┆          ┆            ┆   ┆          ┆            ┆ 00     ┆            │\n",
       "│ 0         ┆ 1          ┆ 0        ┆ 0          ┆ … ┆ 10603777 ┆ 2019       ┆ 2019-0 ┆ Total SA   │\n",
       "│           ┆            ┆          ┆            ┆   ┆          ┆            ┆ 5-29   ┆            │\n",
       "│           ┆            ┆          ┆            ┆   ┆          ┆            ┆ 08:00: ┆            │\n",
       "│           ┆            ┆          ┆            ┆   ┆          ┆            ┆ 00     ┆            │\n",
       "│ 0         ┆ 1          ┆ 0        ┆ 0          ┆ … ┆ 10603777 ┆ 2019       ┆ 2019-0 ┆ Total SA   │\n",
       "│           ┆            ┆          ┆            ┆   ┆          ┆            ┆ 5-29   ┆            │\n",
       "│           ┆            ┆          ┆            ┆   ┆          ┆            ┆ 08:00: ┆            │\n",
       "│           ┆            ┆          ┆            ┆   ┆          ┆            ┆ 00     ┆            │\n",
       "│ 0         ┆ 1          ┆ 0        ┆ 0          ┆ … ┆ 10603777 ┆ 2019       ┆ 2019-0 ┆ Total SA   │\n",
       "│           ┆            ┆          ┆            ┆   ┆          ┆            ┆ 5-29   ┆            │\n",
       "│           ┆            ┆          ┆            ┆   ┆          ┆            ┆ 08:00: ┆            │\n",
       "│           ┆            ┆          ┆            ┆   ┆          ┆            ┆ 00     ┆            │\n",
       "└───────────┴────────────┴──────────┴────────────┴───┴──────────┴────────────┴────────┴────────────┘"
      ]
     },
     "execution_count": 26,
     "metadata": {},
     "output_type": "execute_result"
    }
   ],
   "source": [
    "corpus_window_0_join_df = process_event.events_to_corpus(\n",
    "    events=events_filt,\n",
    "    keywords={\"russia\": 1, \"ukraine\": 1},\n",
    "    context_window_sentence=0,\n",
    "    subsequent_paragraphs=0,\n",
    "    join_adjacent_sentences=True,\n",
    "    extract_answers=False,\n",
    "    nlp_model=nlp_stanza,\n",
    ")\n",
    "corpus_window_0_join_df.head()"
   ]
  },
  {
   "cell_type": "code",
   "execution_count": 27,
   "metadata": {},
   "outputs": [
    {
     "name": "stdout",
     "output_type": "stream",
     "text": [
      "Extracting passages from events\n"
     ]
    },
    {
     "name": "stderr",
     "output_type": "stream",
     "text": [
      "Events: 100%|██████████| 19909/19909 [40:06<00:00,  8.27it/s]  \n"
     ]
    },
    {
     "name": "stdout",
     "output_type": "stream",
     "text": [
      "Processing corpus with spaCy-pipeline\n"
     ]
    },
    {
     "name": "stderr",
     "output_type": "stream",
     "text": [
      "Documents: 100%|██████████| 58090/58090 [25:39<00:00, 37.73it/s]  \n"
     ]
    },
    {
     "data": {
      "text/html": [
       "<div><style>\n",
       ".dataframe > thead > tr > th,\n",
       ".dataframe > tbody > tr > td {\n",
       "  text-align: right;\n",
       "}\n",
       "</style>\n",
       "<small>shape: (5, 11)</small><table border=\"1\" class=\"dataframe\"><thead><tr><th>event_idx</th><th>presentation_and_qa_idx</th><th>part_idx</th><th>paragraph_idx</th><th>sentence_idx</th><th>text</th><th>processed_text</th><th>id</th><th>years_upload</th><th>date</th><th>company_name</th></tr><tr><td>i64</td><td>i64</td><td>i64</td><td>i64</td><td>i64</td><td>str</td><td>str</td><td>i64</td><td>i64</td><td>datetime[μs]</td><td>str</td></tr></thead><tbody><tr><td>0</td><td>0</td><td>0</td><td>0</td><td>0</td><td>&quot;And in Decembe…</td><td>&quot;december board…</td><td>10603777</td><td>2019</td><td>2019-05-29 08:00:00</td><td>&quot;Total SA&quot;</td></tr><tr><td>0</td><td>1</td><td>0</td><td>0</td><td>0</td><td>&quot;Yes, about Rus…</td><td>&quot;yes pipe druzh…</td><td>10603777</td><td>2019</td><td>2019-05-29 08:00:00</td><td>&quot;Total SA&quot;</td></tr><tr><td>0</td><td>1</td><td>0</td><td>1</td><td>0</td><td>&quot;And I had the …</td><td>&quot;opportunity mi…</td><td>10603777</td><td>2019</td><td>2019-05-29 08:00:00</td><td>&quot;Total SA&quot;</td></tr><tr><td>1</td><td>0</td><td>0</td><td>0</td><td>0</td><td>&quot;This year, we …</td><td>&quot;part book line…</td><td>11055903</td><td>2019</td><td>2019-02-06 07:00:00</td><td>&quot;Orkla ASA&quot;</td></tr><tr><td>1</td><td>1</td><td>0</td><td>0</td><td>0</td><td>&quot;And the sum of…</td><td>&quot;sum income exp…</td><td>11055903</td><td>2019</td><td>2019-02-06 07:00:00</td><td>&quot;Orkla ASA&quot;</td></tr></tbody></table></div>"
      ],
      "text/plain": [
       "shape: (5, 11)\n",
       "┌───────────┬────────────┬──────────┬────────────┬───┬──────────┬────────────┬────────┬────────────┐\n",
       "│ event_idx ┆ presentati ┆ part_idx ┆ paragraph_ ┆ … ┆ id       ┆ years_uplo ┆ date   ┆ company_na │\n",
       "│ ---       ┆ on_and_qa_ ┆ ---      ┆ idx        ┆   ┆ ---      ┆ ad         ┆ ---    ┆ me         │\n",
       "│ i64       ┆ idx        ┆ i64      ┆ ---        ┆   ┆ i64      ┆ ---        ┆ dateti ┆ ---        │\n",
       "│           ┆ ---        ┆          ┆ i64        ┆   ┆          ┆ i64        ┆ me[μs] ┆ str        │\n",
       "│           ┆ i64        ┆          ┆            ┆   ┆          ┆            ┆        ┆            │\n",
       "╞═══════════╪════════════╪══════════╪════════════╪═══╪══════════╪════════════╪════════╪════════════╡\n",
       "│ 0         ┆ 0          ┆ 0        ┆ 0          ┆ … ┆ 10603777 ┆ 2019       ┆ 2019-0 ┆ Total SA   │\n",
       "│           ┆            ┆          ┆            ┆   ┆          ┆            ┆ 5-29   ┆            │\n",
       "│           ┆            ┆          ┆            ┆   ┆          ┆            ┆ 08:00: ┆            │\n",
       "│           ┆            ┆          ┆            ┆   ┆          ┆            ┆ 00     ┆            │\n",
       "│ 0         ┆ 1          ┆ 0        ┆ 0          ┆ … ┆ 10603777 ┆ 2019       ┆ 2019-0 ┆ Total SA   │\n",
       "│           ┆            ┆          ┆            ┆   ┆          ┆            ┆ 5-29   ┆            │\n",
       "│           ┆            ┆          ┆            ┆   ┆          ┆            ┆ 08:00: ┆            │\n",
       "│           ┆            ┆          ┆            ┆   ┆          ┆            ┆ 00     ┆            │\n",
       "│ 0         ┆ 1          ┆ 0        ┆ 1          ┆ … ┆ 10603777 ┆ 2019       ┆ 2019-0 ┆ Total SA   │\n",
       "│           ┆            ┆          ┆            ┆   ┆          ┆            ┆ 5-29   ┆            │\n",
       "│           ┆            ┆          ┆            ┆   ┆          ┆            ┆ 08:00: ┆            │\n",
       "│           ┆            ┆          ┆            ┆   ┆          ┆            ┆ 00     ┆            │\n",
       "│ 1         ┆ 0          ┆ 0        ┆ 0          ┆ … ┆ 11055903 ┆ 2019       ┆ 2019-0 ┆ Orkla ASA  │\n",
       "│           ┆            ┆          ┆            ┆   ┆          ┆            ┆ 2-06   ┆            │\n",
       "│           ┆            ┆          ┆            ┆   ┆          ┆            ┆ 07:00: ┆            │\n",
       "│           ┆            ┆          ┆            ┆   ┆          ┆            ┆ 00     ┆            │\n",
       "│ 1         ┆ 1          ┆ 0        ┆ 0          ┆ … ┆ 11055903 ┆ 2019       ┆ 2019-0 ┆ Orkla ASA  │\n",
       "│           ┆            ┆          ┆            ┆   ┆          ┆            ┆ 2-06   ┆            │\n",
       "│           ┆            ┆          ┆            ┆   ┆          ┆            ┆ 07:00: ┆            │\n",
       "│           ┆            ┆          ┆            ┆   ┆          ┆            ┆ 00     ┆            │\n",
       "└───────────┴────────────┴──────────┴────────────┴───┴──────────┴────────────┴────────┴────────────┘"
      ]
     },
     "execution_count": 27,
     "metadata": {},
     "output_type": "execute_result"
    }
   ],
   "source": [
    "corpus_window_3_df = process_event.events_to_corpus(\n",
    "    events=events_filt,\n",
    "    keywords={\"russia\": 1, \"ukraine\": 1},\n",
    "    context_window_sentence=[0,2],\n",
    "    subsequent_paragraphs=0,\n",
    "    join_adjacent_sentences=True,\n",
    "    extract_answers=False,\n",
    "    nlp_model=nlp_stanza,\n",
    ")\n",
    "corpus_window_3_df.head()"
   ]
  },
  {
   "cell_type": "code",
   "execution_count": 28,
   "metadata": {},
   "outputs": [
    {
     "name": "stdout",
     "output_type": "stream",
     "text": [
      "Extracting passages from events\n"
     ]
    },
    {
     "name": "stderr",
     "output_type": "stream",
     "text": [
      "Events: 100%|██████████| 19909/19909 [40:00<00:00,  8.29it/s]  \n"
     ]
    },
    {
     "name": "stdout",
     "output_type": "stream",
     "text": [
      "Processing corpus with spaCy-pipeline\n"
     ]
    },
    {
     "name": "stderr",
     "output_type": "stream",
     "text": [
      "Documents: 100%|██████████| 57086/57086 [26:53<00:00, 35.38it/s]  \n"
     ]
    },
    {
     "data": {
      "text/html": [
       "<div><style>\n",
       ".dataframe > thead > tr > th,\n",
       ".dataframe > tbody > tr > td {\n",
       "  text-align: right;\n",
       "}\n",
       "</style>\n",
       "<small>shape: (5, 11)</small><table border=\"1\" class=\"dataframe\"><thead><tr><th>event_idx</th><th>presentation_and_qa_idx</th><th>part_idx</th><th>paragraph_idx</th><th>sentence_idx</th><th>text</th><th>processed_text</th><th>id</th><th>years_upload</th><th>date</th><th>company_name</th></tr><tr><td>i64</td><td>i64</td><td>i64</td><td>i64</td><td>i64</td><td>str</td><td>str</td><td>i64</td><td>i64</td><td>datetime[μs]</td><td>str</td></tr></thead><tbody><tr><td>0</td><td>0</td><td>0</td><td>0</td><td>0</td><td>&quot;And in Decembe…</td><td>&quot;december board…</td><td>10603777</td><td>2019</td><td>2019-05-29 08:00:00</td><td>&quot;Total SA&quot;</td></tr><tr><td>0</td><td>1</td><td>0</td><td>0</td><td>0</td><td>&quot;Yes, about Rus…</td><td>&quot;yes pipe druzh…</td><td>10603777</td><td>2019</td><td>2019-05-29 08:00:00</td><td>&quot;Total SA&quot;</td></tr><tr><td>0</td><td>1</td><td>0</td><td>1</td><td>0</td><td>&quot;And I had the …</td><td>&quot;opportunity mi…</td><td>10603777</td><td>2019</td><td>2019-05-29 08:00:00</td><td>&quot;Total SA&quot;</td></tr><tr><td>1</td><td>0</td><td>0</td><td>0</td><td>0</td><td>&quot;This year, we …</td><td>&quot;part book line…</td><td>11055903</td><td>2019</td><td>2019-02-06 07:00:00</td><td>&quot;Orkla ASA&quot;</td></tr><tr><td>1</td><td>1</td><td>0</td><td>0</td><td>0</td><td>&quot;We entered int…</td><td>&quot;enter sale agr…</td><td>11055903</td><td>2019</td><td>2019-02-06 07:00:00</td><td>&quot;Orkla ASA&quot;</td></tr></tbody></table></div>"
      ],
      "text/plain": [
       "shape: (5, 11)\n",
       "┌───────────┬────────────┬──────────┬────────────┬───┬──────────┬────────────┬────────┬────────────┐\n",
       "│ event_idx ┆ presentati ┆ part_idx ┆ paragraph_ ┆ … ┆ id       ┆ years_uplo ┆ date   ┆ company_na │\n",
       "│ ---       ┆ on_and_qa_ ┆ ---      ┆ idx        ┆   ┆ ---      ┆ ad         ┆ ---    ┆ me         │\n",
       "│ i64       ┆ idx        ┆ i64      ┆ ---        ┆   ┆ i64      ┆ ---        ┆ dateti ┆ ---        │\n",
       "│           ┆ ---        ┆          ┆ i64        ┆   ┆          ┆ i64        ┆ me[μs] ┆ str        │\n",
       "│           ┆ i64        ┆          ┆            ┆   ┆          ┆            ┆        ┆            │\n",
       "╞═══════════╪════════════╪══════════╪════════════╪═══╪══════════╪════════════╪════════╪════════════╡\n",
       "│ 0         ┆ 0          ┆ 0        ┆ 0          ┆ … ┆ 10603777 ┆ 2019       ┆ 2019-0 ┆ Total SA   │\n",
       "│           ┆            ┆          ┆            ┆   ┆          ┆            ┆ 5-29   ┆            │\n",
       "│           ┆            ┆          ┆            ┆   ┆          ┆            ┆ 08:00: ┆            │\n",
       "│           ┆            ┆          ┆            ┆   ┆          ┆            ┆ 00     ┆            │\n",
       "│ 0         ┆ 1          ┆ 0        ┆ 0          ┆ … ┆ 10603777 ┆ 2019       ┆ 2019-0 ┆ Total SA   │\n",
       "│           ┆            ┆          ┆            ┆   ┆          ┆            ┆ 5-29   ┆            │\n",
       "│           ┆            ┆          ┆            ┆   ┆          ┆            ┆ 08:00: ┆            │\n",
       "│           ┆            ┆          ┆            ┆   ┆          ┆            ┆ 00     ┆            │\n",
       "│ 0         ┆ 1          ┆ 0        ┆ 1          ┆ … ┆ 10603777 ┆ 2019       ┆ 2019-0 ┆ Total SA   │\n",
       "│           ┆            ┆          ┆            ┆   ┆          ┆            ┆ 5-29   ┆            │\n",
       "│           ┆            ┆          ┆            ┆   ┆          ┆            ┆ 08:00: ┆            │\n",
       "│           ┆            ┆          ┆            ┆   ┆          ┆            ┆ 00     ┆            │\n",
       "│ 1         ┆ 0          ┆ 0        ┆ 0          ┆ … ┆ 11055903 ┆ 2019       ┆ 2019-0 ┆ Orkla ASA  │\n",
       "│           ┆            ┆          ┆            ┆   ┆          ┆            ┆ 2-06   ┆            │\n",
       "│           ┆            ┆          ┆            ┆   ┆          ┆            ┆ 07:00: ┆            │\n",
       "│           ┆            ┆          ┆            ┆   ┆          ┆            ┆ 00     ┆            │\n",
       "│ 1         ┆ 1          ┆ 0        ┆ 0          ┆ … ┆ 11055903 ┆ 2019       ┆ 2019-0 ┆ Orkla ASA  │\n",
       "│           ┆            ┆          ┆            ┆   ┆          ┆            ┆ 2-06   ┆            │\n",
       "│           ┆            ┆          ┆            ┆   ┆          ┆            ┆ 07:00: ┆            │\n",
       "│           ┆            ┆          ┆            ┆   ┆          ┆            ┆ 00     ┆            │\n",
       "└───────────┴────────────┴──────────┴────────────┴───┴──────────┴────────────┴────────┴────────────┘"
      ]
     },
     "execution_count": 28,
     "metadata": {},
     "output_type": "execute_result"
    }
   ],
   "source": [
    "corpus_window_5_df = process_event.events_to_corpus(\n",
    "    events=events_filt,\n",
    "    keywords={\"russia\": 1, \"ukraine\": 1},\n",
    "    context_window_sentence=[0,4],\n",
    "    subsequent_paragraphs=0,\n",
    "    join_adjacent_sentences=True,\n",
    "    extract_answers=False,\n",
    "    nlp_model=nlp_stanza,\n",
    ")\n",
    "corpus_window_5_df.head()"
   ]
  },
  {
   "cell_type": "code",
   "execution_count": 29,
   "metadata": {},
   "outputs": [
    {
     "name": "stdout",
     "output_type": "stream",
     "text": [
      "Extracting passages from events\n"
     ]
    },
    {
     "name": "stderr",
     "output_type": "stream",
     "text": [
      "Events: 100%|██████████| 19909/19909 [39:56<00:00,  8.31it/s]  \n"
     ]
    },
    {
     "name": "stdout",
     "output_type": "stream",
     "text": [
      "Processing corpus with spaCy-pipeline\n"
     ]
    },
    {
     "name": "stderr",
     "output_type": "stream",
     "text": [
      "Documents: 100%|██████████| 57114/57114 [32:07<00:00, 29.63it/s]  \n"
     ]
    },
    {
     "data": {
      "text/html": [
       "<div><style>\n",
       ".dataframe > thead > tr > th,\n",
       ".dataframe > tbody > tr > td {\n",
       "  text-align: right;\n",
       "}\n",
       "</style>\n",
       "<small>shape: (5, 11)</small><table border=\"1\" class=\"dataframe\"><thead><tr><th>event_idx</th><th>presentation_and_qa_idx</th><th>part_idx</th><th>paragraph_idx</th><th>sentence_idx</th><th>text</th><th>processed_text</th><th>id</th><th>years_upload</th><th>date</th><th>company_name</th></tr><tr><td>i64</td><td>i64</td><td>i64</td><td>i64</td><td>i64</td><td>str</td><td>str</td><td>i64</td><td>i64</td><td>datetime[μs]</td><td>str</td></tr></thead><tbody><tr><td>0</td><td>0</td><td>0</td><td>0</td><td>0</td><td>&quot;And in Decembe…</td><td>&quot;december board…</td><td>10603777</td><td>2019</td><td>2019-05-29 08:00:00</td><td>&quot;Total SA&quot;</td></tr><tr><td>0</td><td>1</td><td>0</td><td>0</td><td>0</td><td>&quot;Yes, about Rus…</td><td>&quot;yes pipe druzh…</td><td>10603777</td><td>2019</td><td>2019-05-29 08:00:00</td><td>&quot;Total SA&quot;</td></tr><tr><td>0</td><td>1</td><td>0</td><td>1</td><td>0</td><td>&quot;And I had the …</td><td>&quot;opportunity mi…</td><td>10603777</td><td>2019</td><td>2019-05-29 08:00:00</td><td>&quot;Total SA&quot;</td></tr><tr><td>1</td><td>0</td><td>0</td><td>0</td><td>0</td><td>&quot;This year, we …</td><td>&quot;part book line…</td><td>11055903</td><td>2019</td><td>2019-02-06 07:00:00</td><td>&quot;Orkla ASA&quot;</td></tr><tr><td>1</td><td>1</td><td>0</td><td>0</td><td>0</td><td>&quot;We entered int…</td><td>&quot;enter sale agr…</td><td>11055903</td><td>2019</td><td>2019-02-06 07:00:00</td><td>&quot;Orkla ASA&quot;</td></tr></tbody></table></div>"
      ],
      "text/plain": [
       "shape: (5, 11)\n",
       "┌───────────┬────────────┬──────────┬────────────┬───┬──────────┬────────────┬────────┬────────────┐\n",
       "│ event_idx ┆ presentati ┆ part_idx ┆ paragraph_ ┆ … ┆ id       ┆ years_uplo ┆ date   ┆ company_na │\n",
       "│ ---       ┆ on_and_qa_ ┆ ---      ┆ idx        ┆   ┆ ---      ┆ ad         ┆ ---    ┆ me         │\n",
       "│ i64       ┆ idx        ┆ i64      ┆ ---        ┆   ┆ i64      ┆ ---        ┆ dateti ┆ ---        │\n",
       "│           ┆ ---        ┆          ┆ i64        ┆   ┆          ┆ i64        ┆ me[μs] ┆ str        │\n",
       "│           ┆ i64        ┆          ┆            ┆   ┆          ┆            ┆        ┆            │\n",
       "╞═══════════╪════════════╪══════════╪════════════╪═══╪══════════╪════════════╪════════╪════════════╡\n",
       "│ 0         ┆ 0          ┆ 0        ┆ 0          ┆ … ┆ 10603777 ┆ 2019       ┆ 2019-0 ┆ Total SA   │\n",
       "│           ┆            ┆          ┆            ┆   ┆          ┆            ┆ 5-29   ┆            │\n",
       "│           ┆            ┆          ┆            ┆   ┆          ┆            ┆ 08:00: ┆            │\n",
       "│           ┆            ┆          ┆            ┆   ┆          ┆            ┆ 00     ┆            │\n",
       "│ 0         ┆ 1          ┆ 0        ┆ 0          ┆ … ┆ 10603777 ┆ 2019       ┆ 2019-0 ┆ Total SA   │\n",
       "│           ┆            ┆          ┆            ┆   ┆          ┆            ┆ 5-29   ┆            │\n",
       "│           ┆            ┆          ┆            ┆   ┆          ┆            ┆ 08:00: ┆            │\n",
       "│           ┆            ┆          ┆            ┆   ┆          ┆            ┆ 00     ┆            │\n",
       "│ 0         ┆ 1          ┆ 0        ┆ 1          ┆ … ┆ 10603777 ┆ 2019       ┆ 2019-0 ┆ Total SA   │\n",
       "│           ┆            ┆          ┆            ┆   ┆          ┆            ┆ 5-29   ┆            │\n",
       "│           ┆            ┆          ┆            ┆   ┆          ┆            ┆ 08:00: ┆            │\n",
       "│           ┆            ┆          ┆            ┆   ┆          ┆            ┆ 00     ┆            │\n",
       "│ 1         ┆ 0          ┆ 0        ┆ 0          ┆ … ┆ 11055903 ┆ 2019       ┆ 2019-0 ┆ Orkla ASA  │\n",
       "│           ┆            ┆          ┆            ┆   ┆          ┆            ┆ 2-06   ┆            │\n",
       "│           ┆            ┆          ┆            ┆   ┆          ┆            ┆ 07:00: ┆            │\n",
       "│           ┆            ┆          ┆            ┆   ┆          ┆            ┆ 00     ┆            │\n",
       "│ 1         ┆ 1          ┆ 0        ┆ 0          ┆ … ┆ 11055903 ┆ 2019       ┆ 2019-0 ┆ Orkla ASA  │\n",
       "│           ┆            ┆          ┆            ┆   ┆          ┆            ┆ 2-06   ┆            │\n",
       "│           ┆            ┆          ┆            ┆   ┆          ┆            ┆ 07:00: ┆            │\n",
       "│           ┆            ┆          ┆            ┆   ┆          ┆            ┆ 00     ┆            │\n",
       "└───────────┴────────────┴──────────┴────────────┴───┴──────────┴────────────┴────────┴────────────┘"
      ]
     },
     "execution_count": 29,
     "metadata": {},
     "output_type": "execute_result"
    }
   ],
   "source": [
    "corpus_window_whole_df = process_event.events_to_corpus(\n",
    "    events=events_filt,\n",
    "    keywords={\"russia\": 1, \"ukraine\": 1},\n",
    "    context_window_sentence=[0,-1],\n",
    "    subsequent_paragraphs=0,\n",
    "    join_adjacent_sentences=True,\n",
    "    extract_answers=False,\n",
    "    nlp_model=nlp_stanza,\n",
    ")\n",
    "corpus_window_whole_df.head()"
   ]
  },
  {
   "cell_type": "markdown",
   "metadata": {},
   "source": [
    "Save and load data"
   ]
  },
  {
   "cell_type": "code",
   "execution_count": 31,
   "metadata": {},
   "outputs": [],
   "source": [
    "helper.save_data(corpus_window_0_df, \"data/corpus_window_0_df_no_answer\", compression=\"lz4\")\n",
    "helper.save_data(corpus_window_0_join_df, \"data/corpus_window_0_join_df_no_answer\", compression=\"lz4\")\n",
    "helper.save_data(corpus_window_3_df, \"data/corpus_window_3_join_df_no_answer\", compression=\"lz4\")\n",
    "helper.save_data(corpus_window_5_df, \"data/corpus_window_5_join_df_no_answer\", compression=\"lz4\")\n",
    "helper.save_data(corpus_window_whole_df, \"data/corpus_window_whole_join_df_no_answer\", compression=\"lz4\")"
   ]
  },
  {
   "cell_type": "code",
   "execution_count": 7,
   "metadata": {},
   "outputs": [],
   "source": [
    "corpus_window_0_df = helper.load_data(\"data/corpus_window_0_df_no_answer.lz4\")\n",
    "corpus_window_0_join_df = helper.load_data(\"data/corpus_window_0_join_df_no_answer.lz4\")\n",
    "corpus_window_3_df = helper.load_data(\"data/corpus_window_3_join_df_no_answer.lz4\")\n",
    "corpus_window_5_df = helper.load_data(\"data/corpus_window_5_join_df_no_answer.lz4\")\n",
    "corpus_window_whole_df = helper.load_data(\"data/corpus_window_whole_join_df_no_answer.lz4\")"
   ]
  },
  {
   "cell_type": "markdown",
   "metadata": {},
   "source": [
    "## Extract Strategies"
   ]
  },
  {
   "cell_type": "code",
   "execution_count": 9,
   "metadata": {},
   "outputs": [
    {
     "name": "stderr",
     "output_type": "stream",
     "text": [
      "Strategies: 100%|██████████| 3/3 [00:31<00:00, 10.49s/it]\n",
      "Strategies: 100%|██████████| 3/3 [00:33<00:00, 11.29s/it]\n",
      "Strategies: 100%|██████████| 3/3 [00:44<00:00, 14.77s/it]\n",
      "Strategies: 100%|██████████| 3/3 [00:41<00:00, 13.87s/it]\n",
      "Strategies: 100%|██████████| 3/3 [00:54<00:00, 18.20s/it]\n"
     ]
    }
   ],
   "source": [
    "corpus_window_0_df = process_text.get_strategies(dataframe=corpus_window_0_df)\n",
    "corpus_window_0_join_df = process_text.get_strategies(dataframe=corpus_window_0_join_df)\n",
    "corpus_window_3_df = process_text.get_strategies(dataframe=corpus_window_3_df)\n",
    "corpus_window_5_df = process_text.get_strategies(dataframe=corpus_window_5_df)\n",
    "corpus_window_whole_df = process_text.get_strategies(dataframe=corpus_window_whole_df)"
   ]
  },
  {
   "cell_type": "code",
   "execution_count": 10,
   "metadata": {},
   "outputs": [
    {
     "data": {
      "text/plain": [
       "4694"
      ]
     },
     "execution_count": 10,
     "metadata": {},
     "output_type": "execute_result"
    }
   ],
   "source": [
    "sum(corpus_window_0_df['exit_strategy'])"
   ]
  },
  {
   "cell_type": "markdown",
   "metadata": {},
   "source": [
    "### Analyse corpus"
   ]
  },
  {
   "cell_type": "code",
   "execution_count": 11,
   "metadata": {},
   "outputs": [
    {
     "data": {
      "text/plain": [
       "63972"
      ]
     },
     "execution_count": 11,
     "metadata": {},
     "output_type": "execute_result"
    }
   ],
   "source": [
    "lengths = [len(doc) for doc in corpus_window_0_df['processed_text'].to_list()]\n",
    "np.argmax(np.array(lengths))"
   ]
  },
  {
   "cell_type": "code",
   "execution_count": 12,
   "metadata": {},
   "outputs": [
    {
     "data": {
      "text/plain": [
       "<seaborn.axisgrid.FacetGrid at 0x1f47b46c520>"
      ]
     },
     "execution_count": 12,
     "metadata": {},
     "output_type": "execute_result"
    },
    {
     "data": {
      "image/png": "[encoded data removed]",
      "text/plain": [
       "<Figure size 500x500 with 1 Axes>"
      ]
     },
     "metadata": {},
     "output_type": "display_data"
    }
   ],
   "source": [
    "sns.displot(np.array(lengths))"
   ]
  },
  {
   "cell_type": "markdown",
   "metadata": {},
   "source": [
    "## Extract topics"
   ]
  },
  {
   "cell_type": "code",
   "execution_count": 13,
   "metadata": {},
   "outputs": [
    {
     "name": "stderr",
     "output_type": "stream",
     "text": [
      "Downloading (…)e9125/.gitattributes: 100%|██████████| 1.18k/1.18k [00:00<?, ?B/s]\n",
      "Downloading (…)_Pooling/config.json: 100%|██████████| 190/190 [00:00<?, ?B/s] \n",
      "Downloading (…)7e55de9125/README.md: 100%|██████████| 10.6k/10.6k [00:00<00:00, 5.33MB/s]\n",
      "Downloading (…)55de9125/config.json: 100%|██████████| 612/612 [00:00<?, ?B/s] \n",
      "Downloading (…)ce_transformers.json: 100%|██████████| 116/116 [00:00<?, ?B/s] \n",
      "Downloading (…)125/data_config.json: 100%|██████████| 39.3k/39.3k [00:00<00:00, 19.7MB/s]\n",
      "Downloading pytorch_model.bin: 100%|██████████| 90.9M/90.9M [00:00<00:00, 102MB/s] \n",
      "Downloading (…)nce_bert_config.json: 100%|██████████| 53.0/53.0 [00:00<00:00, 53.2kB/s]\n",
      "Downloading (…)cial_tokens_map.json: 100%|██████████| 112/112 [00:00<?, ?B/s] \n",
      "Downloading (…)e9125/tokenizer.json: 100%|██████████| 466k/466k [00:00<00:00, 13.0MB/s]\n",
      "Downloading (…)okenizer_config.json: 100%|██████████| 350/350 [00:00<00:00, 351kB/s]\n",
      "Downloading (…)9125/train_script.py: 100%|██████████| 13.2k/13.2k [00:00<00:00, 13.2MB/s]\n",
      "Downloading (…)7e55de9125/vocab.txt: 100%|██████████| 232k/232k [00:00<00:00, 116MB/s]\n",
      "Downloading (…)5de9125/modules.json: 100%|██████████| 349/349 [00:00<?, ?B/s] \n"
     ]
    }
   ],
   "source": [
    "from bertopic.representation import KeyBERTInspired\n",
    "# from bertopic.representation import PartOfSpeech\n",
    "from bertopic.representation import MaximalMarginalRelevance\n",
    "from transformers import pipeline\n",
    "# from bertopic.representation import TextGeneration\n",
    "# from sklearn.feature_extraction.text import CountVectorizer\n",
    "from sentence_transformers import SentenceTransformer\n",
    "\n",
    "# vectorizer_model = CountVectorizer(ngram_range=(1, 3), stop_words=\"english\", min_df=10)\n",
    "\n",
    "\n",
    "# main_representation = KeyBERTInspired()\n",
    "inspired_model = KeyBERTInspired()\n",
    "\n",
    "# sentence model\n",
    "# sentence_model = SentenceTransformer(\"all-mpnet-base-v2\")\n",
    "sentence_model_light = SentenceTransformer(\"all-MiniLM-L6-v2\")\n",
    "\n",
    "# mmr model\n",
    "mmr_model = MaximalMarginalRelevance(diversity=0.4)\n",
    "\n",
    "# pos model\n",
    "# nlp_stanza_pos = spacy_stanza.load_pipeline(\"en\", processors=\"tokenize, pos\")\n",
    "# pos_model = PartOfSpeech(nlp_stanza_pos)\n",
    "\n",
    "# Create a generator model\n",
    "# prompt = \"I have a topic described by the following keywords: [KEYWORDS]. Based on the previous keywords, what is this topic about?\"\n",
    "# generator = pipeline('text2text-generation', model='google/flan-t5-base')\n",
    "# generator_model = TextGeneration(generator)\n",
    "\n",
    "# chain models\n",
    "chain_model_1 = [inspired_model, mmr_model]\n",
    "# chain_model_2 = [inspired_model, mmr_model, pos_model]\n",
    "# chain_model_3 = [inspired_model, pos_model, mmr_model]\n",
    "# generator_chain_model_1 = [inspired_model, mmr_model, generator_model]\n",
    "# generator_chain_model_2 = [inspired_model, mmr_model, pos_model, generator_model]\n",
    "\n",
    "\n",
    "# Add all models together to be run in a single `fit`\n",
    "representation_model = {\n",
    "   \"Main\": inspired_model,\n",
    "   # \"Pos\":  pos_model,\n",
    "   \"Chain: Inspired - MMR\":  chain_model_1,\n",
    "   # \"Chain: Inspired - MMR - POS\":  chain_model_2,\n",
    "   # \"Chain: Inspired - POS - MMR\":  chain_model_3,\n",
    "   # \"Generator\": generator_model,\n",
    "   # \"Generator chain: Inspired - MMR\": generator_chain_model_1,\n",
    "   # \"Generator chain: Inspired - MMR - POS\": generator_chain_model_2\n",
    "}"
   ]
  },
  {
   "cell_type": "markdown",
   "metadata": {},
   "source": [
    "### 1 - Only sentence\n",
    "* Sentence window: 0\n",
    "* No join"
   ]
  },
  {
   "cell_type": "code",
   "execution_count": 14,
   "metadata": {},
   "outputs": [
    {
     "name": "stderr",
     "output_type": "stream",
     "text": [
      "Batches: 100%|██████████| 2155/2155 [2:05:12<00:00,  3.49s/it]  \n",
      "2023-09-18 23:16:19,802 - BERTopic - Transformed documents to Embeddings\n",
      "2023-09-18 23:19:44,928 - BERTopic - Reduced dimensionality\n",
      "2023-09-19 00:58:14,420 - BERTopic - Clustered reduced embeddings\n"
     ]
    }
   ],
   "source": [
    "corpus, bridge = process_text.remove_sentences_under_threshold(corpus_window_0_df['processed_text'].to_list())\n",
    "topic_model_0, topics_0, probs_0 = topic_extractor.bert_advanced(corpus, representation_model=representation_model, embedding_model=sentence_model_light)"
   ]
  },
  {
   "cell_type": "markdown",
   "metadata": {},
   "source": [
    "Group the topics according to the predefined categories."
   ]
  },
  {
   "cell_type": "code",
   "execution_count": 15,
   "metadata": {},
   "outputs": [
    {
     "data": {
      "text/html": [
       "<div><style>\n",
       ".dataframe > thead > tr > th,\n",
       ".dataframe > tbody > tr > td {\n",
       "  text-align: right;\n",
       "}\n",
       "</style>\n",
       "<small>shape: (16, 2)</small><table border=\"1\" class=\"dataframe\"><thead><tr><th>category</th><th>Count</th></tr><tr><td>str</td><td>i64</td></tr></thead><tbody><tr><td>&quot;commodity&quot;</td><td>6525</td></tr><tr><td>&quot;finance&quot;</td><td>5638</td></tr><tr><td>&quot;macro demand&quot;</td><td>5365</td></tr><tr><td>&quot;indirect geogr…</td><td>4925</td></tr><tr><td>&quot;other&quot;</td><td>2687</td></tr><tr><td>&quot;macro inflatio…</td><td>2028</td></tr><tr><td>&quot;energy&quot;</td><td>1516</td></tr><tr><td>&quot;supply chain&quot;</td><td>1363</td></tr><tr><td>&quot;compliance&quot;</td><td>1309</td></tr><tr><td>&quot;humanitarian&quot;</td><td>1249</td></tr><tr><td>&quot;transport&quot;</td><td>1181</td></tr><tr><td>&quot;human ressourc…</td><td>1000</td></tr><tr><td>&quot;exchage rate&quot;</td><td>967</td></tr><tr><td>&quot;export&quot;</td><td>533</td></tr><tr><td>&quot;cybersecurity&quot;</td><td>415</td></tr><tr><td>&quot;military&quot;</td><td>209</td></tr></tbody></table></div>"
      ],
      "text/plain": [
       "shape: (16, 2)\n",
       "┌─────────────────────┬───────┐\n",
       "│ category            ┆ Count │\n",
       "│ ---                 ┆ ---   │\n",
       "│ str                 ┆ i64   │\n",
       "╞═════════════════════╪═══════╡\n",
       "│ commodity           ┆ 6525  │\n",
       "│ finance             ┆ 5638  │\n",
       "│ macro demand        ┆ 5365  │\n",
       "│ indirect geographic ┆ 4925  │\n",
       "│ …                   ┆ …     │\n",
       "│ exchage rate        ┆ 967   │\n",
       "│ export              ┆ 533   │\n",
       "│ cybersecurity       ┆ 415   │\n",
       "│ military            ┆ 209   │\n",
       "└─────────────────────┴───────┘"
      ]
     },
     "execution_count": 15,
     "metadata": {},
     "output_type": "execute_result"
    }
   ],
   "source": [
    "topics_0_filled = helper.fill_list_from_mapping(topics_0, bridge, -2)\n",
    "groups_0 = topic_extractor.categorize_topics(topic_model_0.get_topic_info()['Chain: Inspired - MMR'].to_list())\n",
    "groups_0 = groups_0.hstack(pl.DataFrame(topic_model_0.get_topic_info())[['Count', 'Name', \"Representative_Docs\"]])\n",
    "topics_df = topic_extractor.map_topics_to_categories(topics_0_filled, groups_0)\n",
    "groups_0.filter(pl.col(\"n\")!=-1).groupby((\"category\")).agg(pl.col(\"Count\").sum()).sort(\"Count\", descending=True)"
   ]
  },
  {
   "cell_type": "code",
   "execution_count": 16,
   "metadata": {},
   "outputs": [],
   "source": [
    "# corpus_window_0_df = corpus_window_0_df.drop(columns=['topic', \"year\", \"category\", \"keywords\", \"Count\", \"Name\", \"Representative_Docs\"])\n",
    "corpus_window_0_df = corpus_window_0_df.with_columns(pl.Series('year', corpus_window_0_df['date'].dt.year()))\n",
    "corpus_window_0_df = corpus_window_0_df.hstack(topics_df)\n",
    "helper.save_data(corpus_window_0_df, \"data/corpus_window_0_df_topics\", compression=\"lz4\")"
   ]
  },
  {
   "cell_type": "code",
   "execution_count": 17,
   "metadata": {},
   "outputs": [
    {
     "data": {
      "text/plain": [
       "<xlsxwriter.workbook.Workbook at 0x1f484766e60>"
      ]
     },
     "execution_count": 17,
     "metadata": {},
     "output_type": "execute_result"
    }
   ],
   "source": [
    "corpus_window_0_df_agg = topic_extractor.get_topics_per_company(corpus_window_0_df)\n",
    "corpus_window_0_df_agg[[\"company_name\", \"year\", \"exit_strategy\", \"stay_strategy\", \"adaptation_strategy\", \"topic\", \"category\"]].write_excel(\"data/topics_comp_0.xlsx\")"
   ]
  },
  {
   "cell_type": "markdown",
   "metadata": {},
   "source": [
    "#### Hierarchical clustering"
   ]
  },
  {
   "cell_type": "code",
   "execution_count": null,
   "metadata": {},
   "outputs": [],
   "source": [
    "hierarchical_topics = topic_model_0.hierarchical_topics(corpus_window_0_df['processed_text'].to_list())\n",
    "topics_grouped = topic_extractor.get_groups_from_hierarchy(hierarchical_topics, 10)"
   ]
  },
  {
   "cell_type": "code",
   "execution_count": null,
   "metadata": {},
   "outputs": [
    {
     "data": {
      "application/vnd.plotly.v1+json": {
       "config": {
        "plotlyServerURL": "https://plot.ly"
       },
       "data": [
        {
         "hoverinfo": "text",
         "marker": {
          "color": "rgb(61,153,112)"
         },
         "mode": "lines",
         "text": [
          "employee_staff_office_hire_operate",
          "",
          "",
          "relocation_employee_employment_employ_workforce"
         ],
         "type": "scatter",
         "x": [
          0,
          0.7150135038368136,
          0.7150135038368136,
          0
         ],
         "xaxis": "x",
         "y": [
          -15,
          -15,
          -25,
          -25
         ],
         "yaxis": "y"
        },
        {
         "hoverinfo": "text",
         "marker": {
          "color": "rgb(61,153,112)"
         },
         "mode": "lines",
         "text": [
          "salary_payroll_employee_wage_compensation",
          "",
          "",
          "employee_employment_employ_occupation_staff"
         ],
         "type": "scatter",
         "x": [
          0,
          0.8538207183563059,
          0.8538207183563059,
          0.7150135038368136
         ],
         "xaxis": "x",
         "y": [
          -5,
          -5,
          -20,
          -20
         ],
         "yaxis": "y"
        },
        {
         "hoverinfo": "text",
         "marker": {
          "color": "rgb(255,65,54)"
         },
         "mode": "lines",
         "text": [
          "employ_workforce_employment_employee_freelancer",
          "",
          "",
          "people_person_volunteering_itera_travel"
         ],
         "type": "scatter",
         "x": [
          0,
          0.9223638194820878,
          0.9223638194820878,
          0
         ],
         "xaxis": "x",
         "y": [
          -35,
          -35,
          -45,
          -45
         ],
         "yaxis": "y"
        },
        {
         "hoverinfo": "text",
         "marker": {
          "color": "rgb(255,65,54)"
         },
         "mode": "lines",
         "text": [
          "customer_partner_employee_dnv_contractor",
          "",
          "",
          "stand_support_group_basis_proudly"
         ],
         "type": "scatter",
         "x": [
          0,
          0.8362109690932449,
          0.8362109690932449,
          0
         ],
         "xaxis": "x",
         "y": [
          -55,
          -55,
          -65,
          -65
         ],
         "yaxis": "y"
        },
        {
         "hoverinfo": "text",
         "marker": {
          "color": "rgb(255,65,54)"
         },
         "mode": "lines",
         "text": [
          "people_person_job_staff_city",
          "",
          "",
          "stand_support_adjust_group_away"
         ],
         "type": "scatter",
         "x": [
          0.9223638194820878,
          0.9926286469840743,
          0.9926286469840743,
          0.8362109690932449
         ],
         "xaxis": "x",
         "y": [
          -40,
          -40,
          -60,
          -60
         ],
         "yaxis": "y"
        },
        {
         "hoverinfo": "text",
         "marker": {
          "color": "rgb(35,205,205)"
         },
         "mode": "lines",
         "text": [
          "support_rallying_rally_supportive_redbubble",
          "",
          "",
          "refugee_humanitarian_donation_charity_donate"
         ],
         "type": "scatter",
         "x": [
          0,
          0.8279578710481219,
          0.8279578710481219,
          0
         ],
         "xaxis": "x",
         "y": [
          -75,
          -75,
          -85,
          -85
         ],
         "yaxis": "y"
        },
        {
         "hoverinfo": "text",
         "marker": {
          "color": "rgb(35,205,205)"
         },
         "mode": "lines",
         "text": [
          "refugee_humanitarian_donation_charity_donate",
          "",
          "",
          "ukrainian_kiev_crimea_ukranian_kyiv"
         ],
         "type": "scatter",
         "x": [
          0.8279578710481219,
          0.866874161070164,
          0.866874161070164,
          0
         ],
         "xaxis": "x",
         "y": [
          -80,
          -80,
          -95,
          -95
         ],
         "yaxis": "y"
        },
        {
         "hoverinfo": "text",
         "marker": {
          "color": "rgb(35,205,205)"
         },
         "mode": "lines",
         "text": [
          "colleague_family_relative_teammate_employee",
          "",
          "",
          "safety_priority_safeguard_employee_prioritize"
         ],
         "type": "scatter",
         "x": [
          0,
          0.6700319734877175,
          0.6700319734877175,
          0
         ],
         "xaxis": "x",
         "y": [
          -105,
          -105,
          -115,
          -115
         ],
         "yaxis": "y"
        },
        {
         "hoverinfo": "text",
         "marker": {
          "color": "rgb(35,205,205)"
         },
         "mode": "lines",
         "text": [
          "humanitarian_donation_charity_charitable_aid",
          "",
          "",
          "safety_priority_safeguard_employee_prioritize"
         ],
         "type": "scatter",
         "x": [
          0.866874161070164,
          0.9348824683274796,
          0.9348824683274796,
          0.6700319734877175
         ],
         "xaxis": "x",
         "y": [
          -87.5,
          -87.5,
          -110,
          -110
         ],
         "yaxis": "y"
        },
        {
         "hoverinfo": "text",
         "marker": {
          "color": "rgb(35,205,205)"
         },
         "mode": "lines",
         "text": [
          "charity_donation_humanitarian_aid_charitable",
          "",
          "",
          "team_leadership_leader_role_member"
         ],
         "type": "scatter",
         "x": [
          0.9348824683274796,
          0.9475915243835954,
          0.9475915243835954,
          0
         ],
         "xaxis": "x",
         "y": [
          -98.75,
          -98.75,
          -125,
          -125
         ],
         "yaxis": "y"
        },
        {
         "hoverinfo": "text",
         "marker": {
          "color": "rgb(0,116,217)"
         },
         "mode": "lines",
         "text": [
          "stand_support_employee_customer_duty",
          "",
          "",
          "humanitarian_refugee_aid_ukrainian_charity"
         ],
         "type": "scatter",
         "x": [
          0.9926286469840743,
          1.1152828659965321,
          1.1152828659965321,
          0.9475915243835954
         ],
         "xaxis": "x",
         "y": [
          -50,
          -50,
          -111.875,
          -111.875
         ],
         "yaxis": "y"
        },
        {
         "hoverinfo": "text",
         "marker": {
          "color": "rgb(0,116,217)"
         },
         "mode": "lines",
         "text": [
          "employee_employment_employ_occupation_staff",
          "",
          "",
          "humanitarian_refugee_charity_donation_charitable"
         ],
         "type": "scatter",
         "x": [
          0.8538207183563059,
          1.1543623704346408,
          1.1543623704346408,
          1.1152828659965321
         ],
         "xaxis": "x",
         "y": [
          -12.5,
          -12.5,
          -80.9375,
          -80.9375
         ],
         "yaxis": "y"
        },
        {
         "hoverinfo": "text",
         "marker": {
          "color": "rgb(133,20,75)"
         },
         "mode": "lines",
         "text": [
          "condemn_mean_strongly_concerned_clear",
          "",
          "",
          "aggression_hostility_aggressive_violence_violent"
         ],
         "type": "scatter",
         "x": [
          0,
          0.5775279993312703,
          0.5775279993312703,
          0
         ],
         "xaxis": "x",
         "y": [
          -135,
          -135,
          -145,
          -145
         ],
         "yaxis": "y"
        },
        {
         "hoverinfo": "text",
         "marker": {
          "color": "rgb(255,220,0)"
         },
         "mode": "lines",
         "text": [
          "peace_peaceful_peacefully_ceasefire_truce",
          "",
          "",
          "hope_resolve_hopefully_situation_promise"
         ],
         "type": "scatter",
         "x": [
          0,
          0.6422799114140751,
          0.6422799114140751,
          0
         ],
         "xaxis": "x",
         "y": [
          -155,
          -155,
          -165,
          -165
         ],
         "yaxis": "y"
        },
        {
         "hoverinfo": "text",
         "marker": {
          "color": "rgb(40,35,35)"
         },
         "mode": "lines",
         "text": [
          "tragedy_tragic_devastation_devastating_horrific",
          "",
          "",
          "humanitarian_disaster_catastrophe_tragedy_devastation"
         ],
         "type": "scatter",
         "x": [
          0,
          0.627048408466216,
          0.627048408466216,
          0
         ],
         "xaxis": "x",
         "y": [
          -175,
          -175,
          -185,
          -185
         ],
         "yaxis": "y"
        },
        {
         "hoverinfo": "text",
         "marker": {
          "color": "rgb(61,153,112)"
         },
         "mode": "lines",
         "text": [
          "concerned_concern_worried_worry_alarmed",
          "",
          "",
          "sympathy_empathy_grief_compassion_sorrow"
         ],
         "type": "scatter",
         "x": [
          0,
          0.8588681838539797,
          0.8588681838539797,
          0
         ],
         "xaxis": "x",
         "y": [
          -195,
          -195,
          -205,
          -205
         ],
         "yaxis": "y"
        },
        {
         "hoverinfo": "text",
         "marker": {
          "color": "rgb(61,153,112)"
         },
         "mode": "lines",
         "text": [
          "sympathy_empathy_grief_compassion_sorrow",
          "",
          "",
          "solidarity_people_support_organization_word"
         ],
         "type": "scatter",
         "x": [
          0.8588681838539797,
          0.9342016186540062,
          0.9342016186540062,
          0
         ],
         "xaxis": "x",
         "y": [
          -200,
          -200,
          -215,
          -215
         ],
         "yaxis": "y"
        },
        {
         "hoverinfo": "text",
         "marker": {
          "color": "rgb(0,116,217)"
         },
         "mode": "lines",
         "text": [
          "tragedy_catastrophe_disaster_tragic_devastation",
          "",
          "",
          "sympathy_empathy_grief_compassion_sorrow"
         ],
         "type": "scatter",
         "x": [
          0.627048408466216,
          1.0389223431279524,
          1.0389223431279524,
          0.9342016186540062
         ],
         "xaxis": "x",
         "y": [
          -180,
          -180,
          -207.5,
          -207.5
         ],
         "yaxis": "y"
        },
        {
         "hoverinfo": "text",
         "marker": {
          "color": "rgb(0,116,217)"
         },
         "mode": "lines",
         "text": [
          "peace_peacefully_ceasefire_peaceful_hope",
          "",
          "",
          "tragedy_catastrophe_disaster_humanitarian_sympathy"
         ],
         "type": "scatter",
         "x": [
          0.6422799114140751,
          1.1713870128105695,
          1.1713870128105695,
          1.0389223431279524
         ],
         "xaxis": "x",
         "y": [
          -160,
          -160,
          -193.75,
          -193.75
         ],
         "yaxis": "y"
        },
        {
         "hoverinfo": "text",
         "marker": {
          "color": "rgb(0,116,217)"
         },
         "mode": "lines",
         "text": [
          "condemn_aggression_condemned_hostility_violence",
          "",
          "",
          "tragedy_catastrophe_disaster_tragic_sympathy"
         ],
         "type": "scatter",
         "x": [
          0.5775279993312703,
          1.213073684423729,
          1.213073684423729,
          1.1713870128105695
         ],
         "xaxis": "x",
         "y": [
          -140,
          -140,
          -176.875,
          -176.875
         ],
         "yaxis": "y"
        },
        {
         "hoverinfo": "text",
         "marker": {
          "color": "rgb(255,65,54)"
         },
         "mode": "lines",
         "text": [
          "moment_present_let_bit_period",
          "",
          "",
          "moment_business_opportunity_distraction_revenue"
         ],
         "type": "scatter",
         "x": [
          0,
          0.5174404273909485,
          0.5174404273909485,
          0
         ],
         "xaxis": "x",
         "y": [
          -225,
          -225,
          -235,
          -235
         ],
         "yaxis": "y"
        },
        {
         "hoverinfo": "text",
         "marker": {
          "color": "rgb(0,116,217)"
         },
         "mode": "lines",
         "text": [
          "tragedy_catastrophe_disaster_devastation_sympathy",
          "",
          "",
          "moment_business_mean_applicable_release"
         ],
         "type": "scatter",
         "x": [
          1.213073684423729,
          1.2483680711637308,
          1.2483680711637308,
          0.5174404273909485
         ],
         "xaxis": "x",
         "y": [
          -158.4375,
          -158.4375,
          -230,
          -230
         ],
         "yaxis": "y"
        },
        {
         "hoverinfo": "text",
         "marker": {
          "color": "rgb(35,205,205)"
         },
         "mode": "lines",
         "text": [
          "affect_think_perception_thought_sentiment",
          "",
          "",
          "thought_people_right_today_"
         ],
         "type": "scatter",
         "x": [
          0,
          0.5333868062751139,
          0.5333868062751139,
          0
         ],
         "xaxis": "x",
         "y": [
          -245,
          -245,
          -255,
          -255
         ],
         "yaxis": "y"
        },
        {
         "hoverinfo": "text",
         "marker": {
          "color": "rgb(35,205,205)"
         },
         "mode": "lines",
         "text": [
          "impact_effect_think_affect_thought",
          "",
          "",
          "think_thought_see_comment_take"
         ],
         "type": "scatter",
         "x": [
          0,
          0.69262119291799,
          0.69262119291799,
          0
         ],
         "xaxis": "x",
         "y": [
          -265,
          -265,
          -275,
          -275
         ],
         "yaxis": "y"
        },
        {
         "hoverinfo": "text",
         "marker": {
          "color": "rgb(35,205,205)"
         },
         "mode": "lines",
         "text": [
          "thought_think_people_everybody_reason",
          "",
          "",
          "think_thought_impact_mind_idea"
         ],
         "type": "scatter",
         "x": [
          0.5333868062751139,
          0.865759812191324,
          0.865759812191324,
          0.69262119291799
         ],
         "xaxis": "x",
         "y": [
          -250,
          -250,
          -270,
          -270
         ],
         "yaxis": "y"
        },
        {
         "hoverinfo": "text",
         "marker": {
          "color": "rgb(0,116,217)"
         },
         "mode": "lines",
         "text": [
          "tragedy_catastrophe_disaster_devastation_humanitarian",
          "",
          "",
          "thought_think_mind_idea_people"
         ],
         "type": "scatter",
         "x": [
          1.2483680711637308,
          1.3876439542307626,
          1.3876439542307626,
          0.865759812191324
         ],
         "xaxis": "x",
         "y": [
          -194.21875,
          -194.21875,
          -260,
          -260
         ],
         "yaxis": "y"
        },
        {
         "hoverinfo": "text",
         "marker": {
          "color": "rgb(0,116,217)"
         },
         "mode": "lines",
         "text": [
          "humanitarian_charity_charitable_unicef_donation",
          "",
          "",
          "tragedy_catastrophe_disaster_humanitarian_sympathy"
         ],
         "type": "scatter",
         "x": [
          1.1543623704346408,
          1.4316096065320734,
          1.4316096065320734,
          1.3876439542307626
         ],
         "xaxis": "x",
         "y": [
          -46.71875,
          -46.71875,
          -227.109375,
          -227.109375
         ],
         "yaxis": "y"
        },
        {
         "hoverinfo": "text",
         "marker": {
          "color": "rgb(61,153,112)"
         },
         "mode": "lines",
         "text": [
          "leasing_lease_rental_rent_depreciation",
          "",
          "",
          "lease_leasing_airline_aircraft_rent"
         ],
         "type": "scatter",
         "x": [
          0,
          0.47840159416933725,
          0.47840159416933725,
          0
         ],
         "xaxis": "x",
         "y": [
          -285,
          -285,
          -295,
          -295
         ],
         "yaxis": "y"
        },
        {
         "hoverinfo": "text",
         "marker": {
          "color": "rgb(61,153,112)"
         },
         "mode": "lines",
         "text": [
          "lease_leasing_airline_aircraft_tenant",
          "",
          "",
          "aircraft_airplane_plane_airline_aviation"
         ],
         "type": "scatter",
         "x": [
          0.47840159416933725,
          0.8613599403965747,
          0.8613599403965747,
          0
         ],
         "xaxis": "x",
         "y": [
          -290,
          -290,
          -305,
          -305
         ],
         "yaxis": "y"
        },
        {
         "hoverinfo": "text",
         "marker": {
          "color": "rgb(255,65,54)"
         },
         "mode": "lines",
         "text": [
          "gaap_earnings_compensation_amortization_adjustment",
          "",
          "",
          "tax_rate_deductible_income_expense"
         ],
         "type": "scatter",
         "x": [
          0,
          0.7766385376774222,
          0.7766385376774222,
          0
         ],
         "xaxis": "x",
         "y": [
          -315,
          -315,
          -325,
          -325
         ],
         "yaxis": "y"
        },
        {
         "hoverinfo": "text",
         "marker": {
          "color": "rgb(255,65,54)"
         },
         "mode": "lines",
         "text": [
          "gaap_earnings_accounting_amortization_adjustment",
          "",
          "",
          "profit_revenue_earnings_reclass_income"
         ],
         "type": "scatter",
         "x": [
          0.7766385376774222,
          0.9315379708649852,
          0.9315379708649852,
          0
         ],
         "xaxis": "x",
         "y": [
          -320,
          -320,
          -335,
          -335
         ],
         "yaxis": "y"
        },
        {
         "hoverinfo": "text",
         "marker": {
          "color": "rgb(35,205,205)"
         },
         "mode": "lines",
         "text": [
          "eur_eur2_eur15_ifrs_zar",
          "",
          "",
          "impairment_impaired_expense_income_assessment"
         ],
         "type": "scatter",
         "x": [
          0,
          0.72581315658957,
          0.72581315658957,
          0
         ],
         "xaxis": "x",
         "y": [
          -355,
          -355,
          -365,
          -365
         ],
         "yaxis": "y"
        },
        {
         "hoverinfo": "text",
         "marker": {
          "color": "rgb(35,205,205)"
         },
         "mode": "lines",
         "text": [
          "eur_eur15_ifrs_zar_asset",
          "",
          "",
          "asset_attribute_investor_ownership_equipment"
         ],
         "type": "scatter",
         "x": [
          0.72581315658957,
          0.8639737516034239,
          0.8639737516034239,
          0
         ],
         "xaxis": "x",
         "y": [
          -360,
          -360,
          -375,
          -375
         ],
         "yaxis": "y"
        },
        {
         "hoverinfo": "text",
         "marker": {
          "color": "rgb(35,205,205)"
         },
         "mode": "lines",
         "text": [
          "bond_sovereign_eur_equity_valuation",
          "",
          "",
          "eur_impairment_asset_impaired_ifrs"
         ],
         "type": "scatter",
         "x": [
          0,
          0.9538713842910815,
          0.9538713842910815,
          0.8639737516034239
         ],
         "xaxis": "x",
         "y": [
          -345,
          -345,
          -367.5,
          -367.5
         ],
         "yaxis": "y"
        },
        {
         "hoverinfo": "text",
         "marker": {
          "color": "rgb(0,116,217)"
         },
         "mode": "lines",
         "text": [
          "gaap_earnings_adjustment_compensation_amortization",
          "",
          "",
          "eur_asset_ifrs_financial_zar"
         ],
         "type": "scatter",
         "x": [
          0.9315379708649852,
          1.0239108749308439,
          1.0239108749308439,
          0.9538713842910815
         ],
         "xaxis": "x",
         "y": [
          -327.5,
          -327.5,
          -356.25,
          -356.25
         ],
         "yaxis": "y"
        },
        {
         "hoverinfo": "text",
         "marker": {
          "color": "rgb(133,20,75)"
         },
         "mode": "lines",
         "text": [
          "dividend_shareholding_divide_shareholder_etf",
          "",
          "",
          "cash_debit_payment_income_ebitda"
         ],
         "type": "scatter",
         "x": [
          0,
          0.9053371469035563,
          0.9053371469035563,
          0
         ],
         "xaxis": "x",
         "y": [
          -385,
          -385,
          -395,
          -395
         ],
         "yaxis": "y"
        },
        {
         "hoverinfo": "text",
         "marker": {
          "color": "rgb(255,220,0)"
         },
         "mode": "lines",
         "text": [
          "balance_sheet_asset_inventory_liquidity",
          "",
          "",
          "position_direction_play_decision_far"
         ],
         "type": "scatter",
         "x": [
          0,
          0.9576682068273101,
          0.9576682068273101,
          0
         ],
         "xaxis": "x",
         "y": [
          -405,
          -405,
          -415,
          -415
         ],
         "yaxis": "y"
        },
        {
         "hoverinfo": "text",
         "marker": {
          "color": "rgb(0,116,217)"
         },
         "mode": "lines",
         "text": [
          "dividend_cash_debit_payment_fund",
          "",
          "",
          "balance_sheet_asset_inventory_liquidity"
         ],
         "type": "scatter",
         "x": [
          0.9053371469035563,
          1.0160230169681919,
          1.0160230169681919,
          0.9576682068273101
         ],
         "xaxis": "x",
         "y": [
          -390,
          -390,
          -410,
          -410
         ],
         "yaxis": "y"
        },
        {
         "hoverinfo": "text",
         "marker": {
          "color": "rgb(40,35,35)"
         },
         "mode": "lines",
         "text": [
          "capital_capitalized_leverage_corporate_employ",
          "",
          "",
          "cet1_capital_equity_ratio_eur"
         ],
         "type": "scatter",
         "x": [
          0,
          0.7422729148293497,
          0.7422729148293497,
          0
         ],
         "xaxis": "x",
         "y": [
          -425,
          -425,
          -435,
          -435
         ],
         "yaxis": "y"
        },
        {
         "hoverinfo": "text",
         "marker": {
          "color": "rgb(40,35,35)"
         },
         "mode": "lines",
         "text": [
          "capital_capitalized_portfolio_equity_corporate",
          "",
          "",
          "rwa_reduce_decrease_reduction_increase"
         ],
         "type": "scatter",
         "x": [
          0.7422729148293497,
          0.9558285320363146,
          0.9558285320363146,
          0
         ],
         "xaxis": "x",
         "y": [
          -430,
          -430,
          -445,
          -445
         ],
         "yaxis": "y"
        },
        {
         "hoverinfo": "text",
         "marker": {
          "color": "rgb(0,116,217)"
         },
         "mode": "lines",
         "text": [
          "dividend_cash_payment_payout_income",
          "",
          "",
          "rwa_cet1_ce_eur_growth"
         ],
         "type": "scatter",
         "x": [
          1.0160230169681919,
          1.0520369307046267,
          1.0520369307046267,
          0.9558285320363146
         ],
         "xaxis": "x",
         "y": [
          -400,
          -400,
          -437.5,
          -437.5
         ],
         "yaxis": "y"
        },
        {
         "hoverinfo": "text",
         "marker": {
          "color": "rgb(61,153,112)"
         },
         "mode": "lines",
         "text": [
          "loss_lose_estimate_reserve_portion",
          "",
          "",
          "ratio_combine_consolidate_loss_percentage"
         ],
         "type": "scatter",
         "x": [
          0,
          0.7956069752656214,
          0.7956069752656214,
          0
         ],
         "xaxis": "x",
         "y": [
          -465,
          -465,
          -475,
          -475
         ],
         "yaxis": "y"
        },
        {
         "hoverinfo": "text",
         "marker": {
          "color": "rgb(61,153,112)"
         },
         "mode": "lines",
         "text": [
          "insurer_reinsurance_reinsurer_insurance_noninsurance",
          "",
          "",
          "ratio_combine_consolidate_loss_storm"
         ],
         "type": "scatter",
         "x": [
          0,
          0.9063119549204598,
          0.9063119549204598,
          0.7956069752656214
         ],
         "xaxis": "x",
         "y": [
          -455,
          -455,
          -470,
          -470
         ],
         "yaxis": "y"
        },
        {
         "hoverinfo": "text",
         "marker": {
          "color": "rgb(61,153,112)"
         },
         "mode": "lines",
         "text": [
          "reinsurance_insurer_reinsurer_insurance_noninsurance",
          "",
          "",
          "chf_loss_impact_financing_equity"
         ],
         "type": "scatter",
         "x": [
          0.9063119549204598,
          0.9731480077982114,
          0.9731480077982114,
          0
         ],
         "xaxis": "x",
         "y": [
          -462.5,
          -462.5,
          -485,
          -485
         ],
         "yaxis": "y"
        },
        {
         "hoverinfo": "text",
         "marker": {
          "color": "rgb(255,65,54)"
         },
         "mode": "lines",
         "text": [
          "credit_debt_bankruptcy_loans_borrower",
          "",
          "",
          "reserve_impairment_stable_eur_europe"
         ],
         "type": "scatter",
         "x": [
          0,
          0.813170290923832,
          0.813170290923832,
          0
         ],
         "xaxis": "x",
         "y": [
          -495,
          -495,
          -505,
          -505
         ],
         "yaxis": "y"
        },
        {
         "hoverinfo": "text",
         "marker": {
          "color": "rgb(0,116,217)"
         },
         "mode": "lines",
         "text": [
          "insurer_reinsurer_reinsurance_insurance_noninsurance",
          "",
          "",
          "reserve_credit_debt_bankruptcy_loans"
         ],
         "type": "scatter",
         "x": [
          0.9731480077982114,
          1.0148593627204328,
          1.0148593627204328,
          0.813170290923832
         ],
         "xaxis": "x",
         "y": [
          -473.75,
          -473.75,
          -500,
          -500
         ],
         "yaxis": "y"
        },
        {
         "hoverinfo": "text",
         "marker": {
          "color": "rgb(0,116,217)"
         },
         "mode": "lines",
         "text": [
          "dividend_cash_bank_payment_shareholder",
          "",
          "",
          "chf_insurer_noninsurance_loss_insurance"
         ],
         "type": "scatter",
         "x": [
          1.0520369307046267,
          1.1885531064945143,
          1.1885531064945143,
          1.0148593627204328
         ],
         "xaxis": "x",
         "y": [
          -418.75,
          -418.75,
          -486.875,
          -486.875
         ],
         "yaxis": "y"
        },
        {
         "hoverinfo": "text",
         "marker": {
          "color": "rgb(0,116,217)"
         },
         "mode": "lines",
         "text": [
          "eur_impairment_ifrs_asset_income",
          "",
          "",
          "dividend_balance_cash_consolidate_collateral"
         ],
         "type": "scatter",
         "x": [
          1.0239108749308439,
          1.249490944939126,
          1.249490944939126,
          1.1885531064945143
         ],
         "xaxis": "x",
         "y": [
          -341.875,
          -341.875,
          -452.8125,
          -452.8125
         ],
         "yaxis": "y"
        },
        {
         "hoverinfo": "text",
         "marker": {
          "color": "rgb(35,205,205)"
         },
         "mode": "lines",
         "text": [
          "sek_order_report_balance_impact",
          "",
          "",
          "sek_sek14_sek13_sek10_sek133"
         ],
         "type": "scatter",
         "x": [
          0,
          0.4612843834096698,
          0.4612843834096698,
          0
         ],
         "xaxis": "x",
         "y": [
          -515,
          -515,
          -525,
          -525
         ],
         "yaxis": "y"
        },
        {
         "hoverinfo": "text",
         "marker": {
          "color": "rgb(0,116,217)"
         },
         "mode": "lines",
         "text": [
          "eur_ifrs_impairment_income_asset",
          "",
          "",
          "sek_sek14_sek13_sek10_sek133"
         ],
         "type": "scatter",
         "x": [
          1.249490944939126,
          1.2907846345603675,
          1.2907846345603675,
          0.4612843834096698
         ],
         "xaxis": "x",
         "y": [
          -397.34375,
          -397.34375,
          -520,
          -520
         ],
         "yaxis": "y"
        },
        {
         "hoverinfo": "text",
         "marker": {
          "color": "rgb(0,116,217)"
         },
         "mode": "lines",
         "text": [
          "lease_leasing_airline_aircraft_aviation",
          "",
          "",
          "eur_impairment_asset_income_equity"
         ],
         "type": "scatter",
         "x": [
          0.8613599403965747,
          1.3846797943531892,
          1.3846797943531892,
          1.2907846345603675
         ],
         "xaxis": "x",
         "y": [
          -297.5,
          -297.5,
          -458.671875,
          -458.671875
         ],
         "yaxis": "y"
        },
        {
         "hoverinfo": "text",
         "marker": {
          "color": "rgb(61,153,112)"
         },
         "mode": "lines",
         "text": [
          "enrollment_recruiting_availability_study_participate",
          "",
          "",
          "trial_clinical_fda_efficacy_patient"
         ],
         "type": "scatter",
         "x": [
          0,
          0.6755029020165051,
          0.6755029020165051,
          0
         ],
         "xaxis": "x",
         "y": [
          -545,
          -545,
          -555,
          -555
         ],
         "yaxis": "y"
        },
        {
         "hoverinfo": "text",
         "marker": {
          "color": "rgb(61,153,112)"
         },
         "mode": "lines",
         "text": [
          "site_company_se_production_world",
          "",
          "",
          "trial_clinical_fda_patient_enrollment"
         ],
         "type": "scatter",
         "x": [
          0,
          0.8000418721569771,
          0.8000418721569771,
          0.6755029020165051
         ],
         "xaxis": "x",
         "y": [
          -535,
          -535,
          -550,
          -550
         ],
         "yaxis": "y"
        },
        {
         "hoverinfo": "text",
         "marker": {
          "color": "rgb(255,65,54)"
         },
         "mode": "lines",
         "text": [
          "pharma_appointment_medical_patient_medicine",
          "",
          "",
          "vascular_wound_trauma_hemodialysis_arterial"
         ],
         "type": "scatter",
         "x": [
          0,
          0.8648282934321921,
          0.8648282934321921,
          0
         ],
         "xaxis": "x",
         "y": [
          -565,
          -565,
          -575,
          -575
         ],
         "yaxis": "y"
        },
        {
         "hoverinfo": "text",
         "marker": {
          "color": "rgb(0,116,217)"
         },
         "mode": "lines",
         "text": [
          "trial_clinical_fda_patient_enrollment",
          "",
          "",
          "vascular_appointment_hemodialysis_surgeon_arterial"
         ],
         "type": "scatter",
         "x": [
          0.8000418721569771,
          1.0263952990568557,
          1.0263952990568557,
          0.8648282934321921
         ],
         "xaxis": "x",
         "y": [
          -542.5,
          -542.5,
          -570,
          -570
         ],
         "yaxis": "y"
        },
        {
         "hoverinfo": "text",
         "marker": {
          "color": "rgb(35,205,205)"
         },
         "mode": "lines",
         "text": [
          "news_newsflash_newspaper_reuters_headline",
          "",
          "",
          "wake_morning_news_turn_suddenly"
         ],
         "type": "scatter",
         "x": [
          0,
          0.8883001832902944,
          0.8883001832902944,
          0
         ],
         "xaxis": "x",
         "y": [
          -585,
          -585,
          -595,
          -595
         ],
         "yaxis": "y"
        },
        {
         "hoverinfo": "text",
         "marker": {
          "color": "rgb(133,20,75)"
         },
         "mode": "lines",
         "text": [
          "attack_change_strategy_new_confront",
          "",
          "",
          "diplomatic_peace_peaceful_europe_hostility"
         ],
         "type": "scatter",
         "x": [
          0,
          0.8364468870850148,
          0.8364468870850148,
          0
         ],
         "xaxis": "x",
         "y": [
          -605,
          -605,
          -615,
          -615
         ],
         "yaxis": "y"
        },
        {
         "hoverinfo": "text",
         "marker": {
          "color": "rgb(133,20,75)"
         },
         "mode": "lines",
         "text": [
          "attack_defend_change_threaten_assault",
          "",
          "",
          "tension_stress_distressing_unrest_turmoil"
         ],
         "type": "scatter",
         "x": [
          0.8364468870850148,
          0.9271486890405355,
          0.9271486890405355,
          0
         ],
         "xaxis": "x",
         "y": [
          -610,
          -610,
          -625,
          -625
         ],
         "yaxis": "y"
        },
        {
         "hoverinfo": "text",
         "marker": {
          "color": "rgb(0,116,217)"
         },
         "mode": "lines",
         "text": [
          "news_newsflash_newspaper_headline_wake",
          "",
          "",
          "tension_distressing_shock_turmoil_unrest"
         ],
         "type": "scatter",
         "x": [
          0.8883001832902944,
          1.021198785609892,
          1.021198785609892,
          0.9271486890405355
         ],
         "xaxis": "x",
         "y": [
          -590,
          -590,
          -617.5,
          -617.5
         ],
         "yaxis": "y"
        },
        {
         "hoverinfo": "text",
         "marker": {
          "color": "rgb(255,220,0)"
         },
         "mode": "lines",
         "text": [
          "think_belief_mind_read_opinion",
          "",
          "",
          "food_agriculture_security_agricultural_hunger"
         ],
         "type": "scatter",
         "x": [
          0,
          0.9236881039406768,
          0.9236881039406768,
          0
         ],
         "xaxis": "x",
         "y": [
          -635,
          -635,
          -645,
          -645
         ],
         "yaxis": "y"
        },
        {
         "hoverinfo": "text",
         "marker": {
          "color": "rgb(255,220,0)"
         },
         "mode": "lines",
         "text": [
          "network_connectivity_security_mobile_secure",
          "",
          "",
          "cybersecurity_cyberwarfare_cybercrime_cyberattack_cyber"
         ],
         "type": "scatter",
         "x": [
          0,
          0.845672069301144,
          0.845672069301144,
          0
         ],
         "xaxis": "x",
         "y": [
          -655,
          -655,
          -665,
          -665
         ],
         "yaxis": "y"
        },
        {
         "hoverinfo": "text",
         "marker": {
          "color": "rgb(255,220,0)"
         },
         "mode": "lines",
         "text": [
          "food_agriculture_security_agricultural_hunger",
          "",
          "",
          "cybersecurity_cyberwarfare_cyber_cyberattack_cybercrime"
         ],
         "type": "scatter",
         "x": [
          0.9236881039406768,
          0.9975614383247711,
          0.9975614383247711,
          0.845672069301144
         ],
         "xaxis": "x",
         "y": [
          -640,
          -640,
          -660,
          -660
         ],
         "yaxis": "y"
        },
        {
         "hoverinfo": "text",
         "marker": {
          "color": "rgb(40,35,35)"
         },
         "mode": "lines",
         "text": [
          "rebuild_reconstruction_infrastructure_restoration_iraq",
          "",
          "",
          "missile_artillery_javelin_tactical_radar"
         ],
         "type": "scatter",
         "x": [
          0,
          0.9408303251276235,
          0.9408303251276235,
          0
         ],
         "xaxis": "x",
         "y": [
          -675,
          -675,
          -685,
          -685
         ],
         "yaxis": "y"
        },
        {
         "hoverinfo": "text",
         "marker": {
          "color": "rgb(40,35,35)"
         },
         "mode": "lines",
         "text": [
          "missile_artillery_javelin_tactical_radar",
          "",
          "",
          "drone_unmanned_aerial_uavs_fly"
         ],
         "type": "scatter",
         "x": [
          0.9408303251276235,
          0.9632886659174472,
          0.9632886659174472,
          0
         ],
         "xaxis": "x",
         "y": [
          -680,
          -680,
          -695,
          -695
         ],
         "yaxis": "y"
        },
        {
         "hoverinfo": "text",
         "marker": {
          "color": "rgb(0,116,217)"
         },
         "mode": "lines",
         "text": [
          "cybersecurity_cyberwarfare_cyber_cyberattack_cybercrime",
          "",
          "",
          "missile_radar_tactical_artillery_military"
         ],
         "type": "scatter",
         "x": [
          0.9975614383247711,
          1.0253245284728578,
          1.0253245284728578,
          0.9632886659174472
         ],
         "xaxis": "x",
         "y": [
          -650,
          -650,
          -687.5,
          -687.5
         ],
         "yaxis": "y"
        },
        {
         "hoverinfo": "text",
         "marker": {
          "color": "rgb(0,116,217)"
         },
         "mode": "lines",
         "text": [
          "news_newsflash_newspaper_reuters_headline",
          "",
          "",
          "cybersecurity_cyber_cyberattack_cybercrime_attack"
         ],
         "type": "scatter",
         "x": [
          1.021198785609892,
          1.0826802705934537,
          1.0826802705934537,
          1.0253245284728578
         ],
         "xaxis": "x",
         "y": [
          -603.75,
          -603.75,
          -668.75,
          -668.75
         ],
         "yaxis": "y"
        },
        {
         "hoverinfo": "text",
         "marker": {
          "color": "rgb(61,153,112)"
         },
         "mode": "lines",
         "text": [
          "budget_spending_funding_dod_defense",
          "",
          "",
          "nato_allied_alliance_ally_military"
         ],
         "type": "scatter",
         "x": [
          0,
          0.654738836578153,
          0.654738836578153,
          0
         ],
         "xaxis": "x",
         "y": [
          -705,
          -705,
          -715,
          -715
         ],
         "yaxis": "y"
        },
        {
         "hoverinfo": "text",
         "marker": {
          "color": "rgb(0,116,217)"
         },
         "mode": "lines",
         "text": [
          "cybersecurity_cyber_cyberattack_security_attack",
          "",
          "",
          "defence_defense_spending_budget_funding"
         ],
         "type": "scatter",
         "x": [
          1.0826802705934537,
          1.170471547445495,
          1.170471547445495,
          0.654738836578153
         ],
         "xaxis": "x",
         "y": [
          -636.25,
          -636.25,
          -710,
          -710
         ],
         "yaxis": "y"
        },
        {
         "hoverinfo": "text",
         "marker": {
          "color": "rgb(255,65,54)"
         },
         "mode": "lines",
         "text": [
          "gold_silver_price_discount_bank",
          "",
          "",
          "kazakhstan_kazakh_uzbekistan_mongolia_mongolian"
         ],
         "type": "scatter",
         "x": [
          0,
          0.8857095365138448,
          0.8857095365138448,
          0
         ],
         "xaxis": "x",
         "y": [
          -725,
          -725,
          -735,
          -735
         ],
         "yaxis": "y"
        },
        {
         "hoverinfo": "text",
         "marker": {
          "color": "rgb(255,65,54)"
         },
         "mode": "lines",
         "text": [
          "bank_banking_sberbank_privatbank_financial",
          "",
          "",
          "loan_loans_lender_lend_financing"
         ],
         "type": "scatter",
         "x": [
          0,
          0.8425410964798188,
          0.8425410964798188,
          0
         ],
         "xaxis": "x",
         "y": [
          -745,
          -745,
          -755,
          -755
         ],
         "yaxis": "y"
        },
        {
         "hoverinfo": "text",
         "marker": {
          "color": "rgb(255,65,54)"
         },
         "mode": "lines",
         "text": [
          "gold_silver_kazakhstan_bullion_bank",
          "",
          "",
          "bank_banking_sberbank_loan_mortgage"
         ],
         "type": "scatter",
         "x": [
          0.8857095365138448,
          0.9886091995546384,
          0.9886091995546384,
          0.8425410964798188
         ],
         "xaxis": "x",
         "y": [
          -730,
          -730,
          -750,
          -750
         ],
         "yaxis": "y"
        },
        {
         "hoverinfo": "text",
         "marker": {
          "color": "rgb(35,205,205)"
         },
         "mode": "lines",
         "text": [
          "subsidiary_germany_france_supplier_europe",
          "",
          "",
          "subsidiary_multinational_company_supplier_shareholder"
         ],
         "type": "scatter",
         "x": [
          0,
          0.8500938531928234,
          0.8500938531928234,
          0
         ],
         "xaxis": "x",
         "y": [
          -765,
          -765,
          -775,
          -775
         ],
         "yaxis": "y"
        },
        {
         "hoverinfo": "text",
         "marker": {
          "color": "rgb(61,153,112)"
         },
         "mode": "lines",
         "text": [
          "acquisition_transfer_ownership_subsidiary_contract",
          "",
          "",
          "franchisee_franchisor_franchise_restaurant_kfc"
         ],
         "type": "scatter",
         "x": [
          0,
          0.8001787383087122,
          0.8001787383087122,
          0
         ],
         "xaxis": "x",
         "y": [
          -785,
          -785,
          -795,
          -795
         ],
         "yaxis": "y"
        },
        {
         "hoverinfo": "text",
         "marker": {
          "color": "rgb(0,116,217)"
         },
         "mode": "lines",
         "text": [
          "subsidiary_multinational_company_supplier_shareholder",
          "",
          "",
          "franchisee_franchisor_franchise_restaurant_kfc"
         ],
         "type": "scatter",
         "x": [
          0.8500938531928234,
          1.0659998866507765,
          1.0659998866507765,
          0.8001787383087122
         ],
         "xaxis": "x",
         "y": [
          -770,
          -770,
          -790,
          -790
         ],
         "yaxis": "y"
        },
        {
         "hoverinfo": "text",
         "marker": {
          "color": "rgb(0,116,217)"
         },
         "mode": "lines",
         "text": [
          "bank_banking_sberbank_financial_loan",
          "",
          "",
          "franchisee_franchisor_franchise_restaurant_kfc"
         ],
         "type": "scatter",
         "x": [
          0.9886091995546384,
          1.127469994611429,
          1.127469994611429,
          1.0659998866507765
         ],
         "xaxis": "x",
         "y": [
          -740,
          -740,
          -780,
          -780
         ],
         "yaxis": "y"
        },
        {
         "hoverinfo": "text",
         "marker": {
          "color": "rgb(255,65,54)"
         },
         "mode": "lines",
         "text": [
          "legislation_regulation_regulatory_compliance_international",
          "",
          "",
          "compliance_comply_regulation_regulatory_operate"
         ],
         "type": "scatter",
         "x": [
          0,
          0.8297755477570421,
          0.8297755477570421,
          0
         ],
         "xaxis": "x",
         "y": [
          -815,
          -815,
          -825,
          -825
         ],
         "yaxis": "y"
        },
        {
         "hoverinfo": "text",
         "marker": {
          "color": "rgb(255,65,54)"
         },
         "mode": "lines",
         "text": [
          "approval_approve_legislation_regulatory_authority",
          "",
          "",
          "compliance_comply_compliant_regulation_regulatory"
         ],
         "type": "scatter",
         "x": [
          0,
          0.9193078768077815,
          0.9193078768077815,
          0.8297755477570421
         ],
         "xaxis": "x",
         "y": [
          -805,
          -805,
          -820,
          -820
         ],
         "yaxis": "y"
        },
        {
         "hoverinfo": "text",
         "marker": {
          "color": "rgb(0,116,217)"
         },
         "mode": "lines",
         "text": [
          "bank_banking_sberbank_raiffeisenbank_lender",
          "",
          "",
          "compliance_regulatory_regulation_comply_compliant"
         ],
         "type": "scatter",
         "x": [
          1.127469994611429,
          1.1492921041975703,
          1.1492921041975703,
          0.9193078768077815
         ],
         "xaxis": "x",
         "y": [
          -760,
          -760,
          -812.5,
          -812.5
         ],
         "yaxis": "y"
        },
        {
         "hoverinfo": "text",
         "marker": {
          "color": "rgb(35,205,205)"
         },
         "mode": "lines",
         "text": [
          "shareholder_investor_company_invest_business",
          "",
          "",
          "stakeholder_shareholder_company_responsible_interest"
         ],
         "type": "scatter",
         "x": [
          0,
          0.8534971800818462,
          0.8534971800818462,
          0
         ],
         "xaxis": "x",
         "y": [
          -835,
          -835,
          -845,
          -845
         ],
         "yaxis": "y"
        },
        {
         "hoverinfo": "text",
         "marker": {
          "color": "rgb(133,20,75)"
         },
         "mode": "lines",
         "text": [
          "contingency_plan_anticipation_circumstance_dependence",
          "",
          "",
          "business_strategy_regret_company_financial"
         ],
         "type": "scatter",
         "x": [
          0,
          0.8607643765141381,
          0.8607643765141381,
          0
         ],
         "xaxis": "x",
         "y": [
          -855,
          -855,
          -865,
          -865
         ],
         "yaxis": "y"
        },
        {
         "hoverinfo": "text",
         "marker": {
          "color": "rgb(0,116,217)"
         },
         "mode": "lines",
         "text": [
          "shareholder_stakeholder_investor_company_creditor",
          "",
          "",
          "contingency_orderly_consideration_anticipation_decision"
         ],
         "type": "scatter",
         "x": [
          0.8534971800818462,
          1.0285828242672654,
          1.0285828242672654,
          0.8607643765141381
         ],
         "xaxis": "x",
         "y": [
          -840,
          -840,
          -860,
          -860
         ],
         "yaxis": "y"
        },
        {
         "hoverinfo": "text",
         "marker": {
          "color": "rgb(255,220,0)"
         },
         "mode": "lines",
         "text": [
          "business_vianor_marketing_company_brand",
          "",
          "",
          "business_profitable_work_media_situation"
         ],
         "type": "scatter",
         "x": [
          0,
          0.8260937592911445,
          0.8260937592911445,
          0
         ],
         "xaxis": "x",
         "y": [
          -875,
          -875,
          -885,
          -885
         ],
         "yaxis": "y"
        },
        {
         "hoverinfo": "text",
         "marker": {
          "color": "rgb(40,35,35)"
         },
         "mode": "lines",
         "text": [
          "respect_consideration_mean_understand_situation",
          "",
          "",
          "include_consider_class_project_profile"
         ],
         "type": "scatter",
         "x": [
          0,
          0.8743089528716909,
          0.8743089528716909,
          0
         ],
         "xaxis": "x",
         "y": [
          -895,
          -895,
          -905,
          -905
         ],
         "yaxis": "y"
        },
        {
         "hoverinfo": "text",
         "marker": {
          "color": "rgb(0,116,217)"
         },
         "mode": "lines",
         "text": [
          "business_marketing_company_profitable_service",
          "",
          "",
          "respect_consideration_mean_understand_situation"
         ],
         "type": "scatter",
         "x": [
          0.8260937592911445,
          1.083095261832959,
          1.083095261832959,
          0.8743089528716909
         ],
         "xaxis": "x",
         "y": [
          -880,
          -880,
          -900,
          -900
         ],
         "yaxis": "y"
        },
        {
         "hoverinfo": "text",
         "marker": {
          "color": "rgb(0,116,217)"
         },
         "mode": "lines",
         "text": [
          "shareholder_stakeholder_company_interest_creditor",
          "",
          "",
          "respect_business_consideration_marketing_mean"
         ],
         "type": "scatter",
         "x": [
          1.0285828242672654,
          1.1188653660220105,
          1.1188653660220105,
          1.083095261832959
         ],
         "xaxis": "x",
         "y": [
          -850,
          -850,
          -890,
          -890
         ],
         "yaxis": "y"
        },
        {
         "hoverinfo": "text",
         "marker": {
          "color": "rgb(61,153,112)"
         },
         "mode": "lines",
         "text": [
          "arctic_shipyard_eur_icebreaker_lng",
          "",
          "",
          "build_building_gtt_construction_project"
         ],
         "type": "scatter",
         "x": [
          0,
          0.7754462160187938,
          0.7754462160187938,
          0
         ],
         "xaxis": "x",
         "y": [
          -915,
          -915,
          -925,
          -925
         ],
         "yaxis": "y"
        },
        {
         "hoverinfo": "text",
         "marker": {
          "color": "rgb(0,116,217)"
         },
         "mode": "lines",
         "text": [
          "stakeholder_shareholder_company_interest_consideration",
          "",
          "",
          "building_build_arctic_construction_project"
         ],
         "type": "scatter",
         "x": [
          1.1188653660220105,
          1.1426217525695965,
          1.1426217525695965,
          0.7754462160187938
         ],
         "xaxis": "x",
         "y": [
          -870,
          -870,
          -920,
          -920
         ],
         "yaxis": "y"
        },
        {
         "hoverinfo": "text",
         "marker": {
          "color": "rgb(255,65,54)"
         },
         "mode": "lines",
         "text": [
          "limited_specific_term__",
          "",
          "",
          "direct_directly___"
         ],
         "type": "scatter",
         "x": [
          0,
          0.8439939392827623,
          0.8439939392827623,
          0
         ],
         "xaxis": "x",
         "y": [
          -935,
          -935,
          -945,
          -945
         ],
         "yaxis": "y"
        },
        {
         "hoverinfo": "text",
         "marker": {
          "color": "rgb(35,205,205)"
         },
         "mode": "lines",
         "text": [
          "materiality_materialize_material_marketing_nonmaterial",
          "",
          "",
          "presence_effect_face_material_peer"
         ],
         "type": "scatter",
         "x": [
          0,
          0.8878899059235087,
          0.8878899059235087,
          0
         ],
         "xaxis": "x",
         "y": [
          -955,
          -955,
          -965,
          -965
         ],
         "yaxis": "y"
        },
        {
         "hoverinfo": "text",
         "marker": {
          "color": "rgb(61,153,112)"
         },
         "mode": "lines",
         "text": [
          "highlight_operational_event_recognize_support",
          "",
          "",
          "address_ip_want_result_directly"
         ],
         "type": "scatter",
         "x": [
          0,
          0.885346060264,
          0.885346060264,
          0
         ],
         "xaxis": "x",
         "y": [
          -975,
          -975,
          -985,
          -985
         ],
         "yaxis": "y"
        },
        {
         "hoverinfo": "text",
         "marker": {
          "color": "rgb(0,116,217)"
         },
         "mode": "lines",
         "text": [
          "presence_effect_materiality_quality_situation",
          "",
          "",
          "address_ip_want_result_open"
         ],
         "type": "scatter",
         "x": [
          0.8878899059235087,
          1.0600865971298545,
          1.0600865971298545,
          0.885346060264
         ],
         "xaxis": "x",
         "y": [
          -960,
          -960,
          -980,
          -980
         ],
         "yaxis": "y"
        },
        {
         "hoverinfo": "text",
         "marker": {
          "color": "rgb(0,116,217)"
         },
         "mode": "lines",
         "text": [
          "limited_specific_lot_term_",
          "",
          "",
          "address_ip_want_result_open"
         ],
         "type": "scatter",
         "x": [
          0.8439939392827623,
          1.0791676516291404,
          1.0791676516291404,
          1.0600865971298545
         ],
         "xaxis": "x",
         "y": [
          -940,
          -940,
          -970,
          -970
         ],
         "yaxis": "y"
        },
        {
         "hoverinfo": "text",
         "marker": {
          "color": "rgb(255,65,54)"
         },
         "mode": "lines",
         "text": [
          "topic_subject_topical_aspect_content",
          "",
          "",
          "focus_lens_attention_achieve_context"
         ],
         "type": "scatter",
         "x": [
          0,
          0.910512213869016,
          0.910512213869016,
          0
         ],
         "xaxis": "x",
         "y": [
          -995,
          -995,
          -1005,
          -1005
         ],
         "yaxis": "y"
        },
        {
         "hoverinfo": "text",
         "marker": {
          "color": "rgb(35,205,205)"
         },
         "mode": "lines",
         "text": [
          "reduce_reduction_downscale_exclude_shrink",
          "",
          "",
          "number_mathematical_calculate_calculation_result"
         ],
         "type": "scatter",
         "x": [
          0,
          0.9541233058621695,
          0.9541233058621695,
          0
         ],
         "xaxis": "x",
         "y": [
          -1015,
          -1015,
          -1025,
          -1025
         ],
         "yaxis": "y"
        },
        {
         "hoverinfo": "text",
         "marker": {
          "color": "rgb(35,205,205)"
         },
         "mode": "lines",
         "text": [
          "country_canada_australia_territory_afghanistan",
          "",
          "",
          "cobalt_nordion_buy_sourcing_acquire"
         ],
         "type": "scatter",
         "x": [
          0,
          0.9479955232896854,
          0.9479955232896854,
          0
         ],
         "xaxis": "x",
         "y": [
          -1035,
          -1035,
          -1045,
          -1045
         ],
         "yaxis": "y"
        },
        {
         "hoverinfo": "text",
         "marker": {
          "color": "rgb(35,205,205)"
         },
         "mode": "lines",
         "text": [
          "number_mathematical_calculate_calculation_zero",
          "",
          "",
          "cobalt_nordion_buy_argentina_canada"
         ],
         "type": "scatter",
         "x": [
          0.9541233058621695,
          0.9924331932150087,
          0.9924331932150087,
          0.9479955232896854
         ],
         "xaxis": "x",
         "y": [
          -1020,
          -1020,
          -1040,
          -1040
         ],
         "yaxis": "y"
        },
        {
         "hoverinfo": "text",
         "marker": {
          "color": "rgb(133,20,75)"
         },
         "mode": "lines",
         "text": [
          "second_secondly_firstly__",
          "",
          "",
          "reminder_remind_sale_reserving_return"
         ],
         "type": "scatter",
         "x": [
          0,
          0.979659062866522,
          0.979659062866522,
          0
         ],
         "xaxis": "x",
         "y": [
          -1055,
          -1055,
          -1065,
          -1065
         ],
         "yaxis": "y"
        },
        {
         "hoverinfo": "text",
         "marker": {
          "color": "rgb(133,20,75)"
         },
         "mode": "lines",
         "text": [
          "wind_windstorm_windfall_unwind_profitability",
          "",
          "",
          "operation_operationally_surgeon_process_product"
         ],
         "type": "scatter",
         "x": [
          0,
          0.9276656852125762,
          0.9276656852125762,
          0
         ],
         "xaxis": "x",
         "y": [
          -1075,
          -1075,
          -1085,
          -1085
         ],
         "yaxis": "y"
        },
        {
         "hoverinfo": "text",
         "marker": {
          "color": "rgb(133,20,75)"
         },
         "mode": "lines",
         "text": [
          "wind_windstorm_windfall_unwind_cost",
          "",
          "",
          "brewery_brewer_brewing_beer_brew"
         ],
         "type": "scatter",
         "x": [
          0.9276656852125762,
          0.9792169083939787,
          0.9792169083939787,
          0
         ],
         "xaxis": "x",
         "y": [
          -1080,
          -1080,
          -1095,
          -1095
         ],
         "yaxis": "y"
        },
        {
         "hoverinfo": "text",
         "marker": {
          "color": "rgb(133,20,75)"
         },
         "mode": "lines",
         "text": [
          "reminder_remind_sale_reserving_return",
          "",
          "",
          "wind_windstorm_windfall_unwind_cost"
         ],
         "type": "scatter",
         "x": [
          0.979659062866522,
          0.9995660351144725,
          0.9995660351144725,
          0.9792169083939787
         ],
         "xaxis": "x",
         "y": [
          -1060,
          -1060,
          -1087.5,
          -1087.5
         ],
         "yaxis": "y"
        },
        {
         "hoverinfo": "text",
         "marker": {
          "color": "rgb(0,116,217)"
         },
         "mode": "lines",
         "text": [
          "cobalt_nordion_buy_argentina_canada",
          "",
          "",
          "wind_unwind_cost_business_mining"
         ],
         "type": "scatter",
         "x": [
          0.9924331932150087,
          1.0241590568297694,
          1.0241590568297694,
          0.9995660351144725
         ],
         "xaxis": "x",
         "y": [
          -1030,
          -1030,
          -1073.75,
          -1073.75
         ],
         "yaxis": "y"
        },
        {
         "hoverinfo": "text",
         "marker": {
          "color": "rgb(255,220,0)"
         },
         "mode": "lines",
         "text": [
          "backlog_contractual_roughly_prediction_forward",
          "",
          "",
          "intake_order_stock_follow_month"
         ],
         "type": "scatter",
         "x": [
          0,
          0.9509530948149183,
          0.9509530948149183,
          0
         ],
         "xaxis": "x",
         "y": [
          -1105,
          -1105,
          -1115,
          -1115
         ],
         "yaxis": "y"
        },
        {
         "hoverinfo": "text",
         "marker": {
          "color": "rgb(0,116,217)"
         },
         "mode": "lines",
         "text": [
          "wind_unwind_operation_mining_business",
          "",
          "",
          "backlog_order_contractual_reverse_prediction"
         ],
         "type": "scatter",
         "x": [
          1.0241590568297694,
          1.0255070685008199,
          1.0255070685008199,
          0.9509530948149183
         ],
         "xaxis": "x",
         "y": [
          -1051.875,
          -1051.875,
          -1110,
          -1110
         ],
         "yaxis": "y"
        },
        {
         "hoverinfo": "text",
         "marker": {
          "color": "rgb(0,116,217)"
         },
         "mode": "lines",
         "text": [
          "topic_subject_topical_aspect_context",
          "",
          "",
          "backlog_wind_order_decision_business"
         ],
         "type": "scatter",
         "x": [
          0.910512213869016,
          1.0464423086891421,
          1.0464423086891421,
          1.0255070685008199
         ],
         "xaxis": "x",
         "y": [
          -1000,
          -1000,
          -1080.9375,
          -1080.9375
         ],
         "yaxis": "y"
        },
        {
         "hoverinfo": "text",
         "marker": {
          "color": "rgb(40,35,35)"
         },
         "mode": "lines",
         "text": [
          "buyback_repurchase_stock_share_trading",
          "",
          "",
          "capex_investment_budget_expenditure_spend"
         ],
         "type": "scatter",
         "x": [
          0,
          0.9481011140583997,
          0.9481011140583997,
          0
         ],
         "xaxis": "x",
         "y": [
          -1125,
          -1125,
          -1135,
          -1135
         ],
         "yaxis": "y"
        },
        {
         "hoverinfo": "text",
         "marker": {
          "color": "rgb(61,153,112)"
         },
         "mode": "lines",
         "text": [
          "cover_let_detail_pass_business",
          "",
          "",
          "cost_expense_expensive_management_restructuring"
         ],
         "type": "scatter",
         "x": [
          0,
          0.9177792173864234,
          0.9177792173864234,
          0
         ],
         "xaxis": "x",
         "y": [
          -1145,
          -1145,
          -1155,
          -1155
         ],
         "yaxis": "y"
        },
        {
         "hoverinfo": "text",
         "marker": {
          "color": "rgb(255,65,54)"
         },
         "mode": "lines",
         "text": [
          "portfolio_asset_investment_framework_company",
          "",
          "",
          "investment_invest_investor_investable_fund"
         ],
         "type": "scatter",
         "x": [
          0,
          0.9267858969834912,
          0.9267858969834912,
          0
         ],
         "xaxis": "x",
         "y": [
          -1165,
          -1165,
          -1175,
          -1175
         ],
         "yaxis": "y"
        },
        {
         "hoverinfo": "text",
         "marker": {
          "color": "rgb(255,65,54)"
         },
         "mode": "lines",
         "text": [
          "investment_invest_investor_investable_portfolio",
          "",
          "",
          "packaging_goods_profitability_product_business"
         ],
         "type": "scatter",
         "x": [
          0.9267858969834912,
          0.9697184993179679,
          0.9697184993179679,
          0
         ],
         "xaxis": "x",
         "y": [
          -1170,
          -1170,
          -1185,
          -1185
         ],
         "yaxis": "y"
        },
        {
         "hoverinfo": "text",
         "marker": {
          "color": "rgb(0,116,217)"
         },
         "mode": "lines",
         "text": [
          "cover_expense_let_cost_pass",
          "",
          "",
          "investment_invest_investor_investable_portfolio"
         ],
         "type": "scatter",
         "x": [
          0.9177792173864234,
          1.0130865528325037,
          1.0130865528325037,
          0.9697184993179679
         ],
         "xaxis": "x",
         "y": [
          -1150,
          -1150,
          -1177.5,
          -1177.5
         ],
         "yaxis": "y"
        },
        {
         "hoverinfo": "text",
         "marker": {
          "color": "rgb(0,116,217)"
         },
         "mode": "lines",
         "text": [
          "capex_investment_expenditure_spend_capital",
          "",
          "",
          "investment_invest_investor_investable_portfolio"
         ],
         "type": "scatter",
         "x": [
          0.9481011140583997,
          1.0202736877371759,
          1.0202736877371759,
          1.0130865528325037
         ],
         "xaxis": "x",
         "y": [
          -1130,
          -1130,
          -1163.75,
          -1163.75
         ],
         "yaxis": "y"
        },
        {
         "hoverinfo": "text",
         "marker": {
          "color": "rgb(35,205,205)"
         },
         "mode": "lines",
         "text": [
          "majority_fact_largely_predominantly_vast",
          "",
          "",
          "advertising_advertiser_macroeconomic_economic_ad"
         ],
         "type": "scatter",
         "x": [
          0,
          0.8907493117937635,
          0.8907493117937635,
          0
         ],
         "xaxis": "x",
         "y": [
          -1195,
          -1195,
          -1205,
          -1205
         ],
         "yaxis": "y"
        },
        {
         "hoverinfo": "text",
         "marker": {
          "color": "rgb(0,116,217)"
         },
         "mode": "lines",
         "text": [
          "capex_investment_portfolio_invest_investor",
          "",
          "",
          "advertising_advertiser_ad_commercial_revenue"
         ],
         "type": "scatter",
         "x": [
          1.0202736877371759,
          1.0515558647279695,
          1.0515558647279695,
          0.8907493117937635
         ],
         "xaxis": "x",
         "y": [
          -1146.875,
          -1146.875,
          -1200,
          -1200
         ],
         "yaxis": "y"
        },
        {
         "hoverinfo": "text",
         "marker": {
          "color": "rgb(0,116,217)"
         },
         "mode": "lines",
         "text": [
          "wind_backlog_cost_business_dkk",
          "",
          "",
          "investment_invest_investor_fund_capex"
         ],
         "type": "scatter",
         "x": [
          1.0464423086891421,
          1.0636935714130402,
          1.0636935714130402,
          1.0515558647279695
         ],
         "xaxis": "x",
         "y": [
          -1040.46875,
          -1040.46875,
          -1173.4375,
          -1173.4375
         ],
         "yaxis": "y"
        },
        {
         "hoverinfo": "text",
         "marker": {
          "color": "rgb(61,153,112)"
         },
         "mode": "lines",
         "text": [
          "globally_global_globalism_business_overseas",
          "",
          "",
          "heart_people_everybody_support_life"
         ],
         "type": "scatter",
         "x": [
          0,
          0.9076485207019493,
          0.9076485207019493,
          0
         ],
         "xaxis": "x",
         "y": [
          -1215,
          -1215,
          -1225,
          -1225
         ],
         "yaxis": "y"
        },
        {
         "hoverinfo": "text",
         "marker": {
          "color": "rgb(255,65,54)"
         },
         "mode": "lines",
         "text": [
          "event_occasion_occur_timing_historic",
          "",
          "",
          "note_impact_write_effect_markdown"
         ],
         "type": "scatter",
         "x": [
          0,
          0.8822173545170466,
          0.8822173545170466,
          0
         ],
         "xaxis": "x",
         "y": [
          -1235,
          -1235,
          -1245,
          -1245
         ],
         "yaxis": "y"
        },
        {
         "hoverinfo": "text",
         "marker": {
          "color": "rgb(35,205,205)"
         },
         "mode": "lines",
         "text": [
          "customer_consumer_business_service_company",
          "",
          "",
          "hand_touch_thumb_situation_control"
         ],
         "type": "scatter",
         "x": [
          0,
          0.9570972407211396,
          0.9570972407211396,
          0
         ],
         "xaxis": "x",
         "y": [
          -1255,
          -1255,
          -1265,
          -1265
         ],
         "yaxis": "y"
        },
        {
         "hoverinfo": "text",
         "marker": {
          "color": "rgb(133,20,75)"
         },
         "mode": "lines",
         "text": [
          "sorting_sort_order_number_position",
          "",
          "",
          "thing_currently_decent__"
         ],
         "type": "scatter",
         "x": [
          0,
          0.9430091183375293,
          0.9430091183375293,
          0
         ],
         "xaxis": "x",
         "y": [
          -1285,
          -1285,
          -1295,
          -1295
         ],
         "yaxis": "y"
        },
        {
         "hoverinfo": "text",
         "marker": {
          "color": "rgb(133,20,75)"
         },
         "mode": "lines",
         "text": [
          "datum_exchange_estate_region_geographically",
          "",
          "",
          "sorting_sort_order_number_position"
         ],
         "type": "scatter",
         "x": [
          0,
          0.9797685006099354,
          0.9797685006099354,
          0.9430091183375293
         ],
         "xaxis": "x",
         "y": [
          -1275,
          -1275,
          -1290,
          -1290
         ],
         "yaxis": "y"
        },
        {
         "hoverinfo": "text",
         "marker": {
          "color": "rgb(0,116,217)"
         },
         "mode": "lines",
         "text": [
          "hand_touch_thumb_situation_touchstone",
          "",
          "",
          "sorting_sort_order_suggest_position"
         ],
         "type": "scatter",
         "x": [
          0.9570972407211396,
          1.0089097044434694,
          1.0089097044434694,
          0.9797685006099354
         ],
         "xaxis": "x",
         "y": [
          -1260,
          -1260,
          -1282.5,
          -1282.5
         ],
         "yaxis": "y"
        },
        {
         "hoverinfo": "text",
         "marker": {
          "color": "rgb(0,116,217)"
         },
         "mode": "lines",
         "text": [
          "event_occasion_occur_timing_trigger",
          "",
          "",
          "sorting_sort_order_mention_suggest"
         ],
         "type": "scatter",
         "x": [
          0.8822173545170466,
          1.0387125172156113,
          1.0387125172156113,
          1.0089097044434694
         ],
         "xaxis": "x",
         "y": [
          -1240,
          -1240,
          -1271.25,
          -1271.25
         ],
         "yaxis": "y"
        },
        {
         "hoverinfo": "text",
         "marker": {
          "color": "rgb(0,116,217)"
         },
         "mode": "lines",
         "text": [
          "heart_people_everybody_support_life",
          "",
          "",
          "sorting_sort_order_mention_suggest"
         ],
         "type": "scatter",
         "x": [
          0.9076485207019493,
          1.0563699278422585,
          1.0563699278422585,
          1.0387125172156113
         ],
         "xaxis": "x",
         "y": [
          -1220,
          -1220,
          -1255.625,
          -1255.625
         ],
         "yaxis": "y"
        },
        {
         "hoverinfo": "text",
         "marker": {
          "color": "rgb(255,220,0)"
         },
         "mode": "lines",
         "text": [
          "pressure_input_cost_require_fill",
          "",
          "",
          "accelerate_accelerator_process_matter_course"
         ],
         "type": "scatter",
         "x": [
          0,
          0.9272670642015298,
          0.9272670642015298,
          0
         ],
         "xaxis": "x",
         "y": [
          -1315,
          -1315,
          -1325,
          -1325
         ],
         "yaxis": "y"
        },
        {
         "hoverinfo": "text",
         "marker": {
          "color": "rgb(255,220,0)"
         },
         "mode": "lines",
         "text": [
          "recession_macroeconomic_economic_impact_market",
          "",
          "",
          "accelerate_pressure_accelerator_rapid_intensified"
         ],
         "type": "scatter",
         "x": [
          0,
          0.9635231553706997,
          0.9635231553706997,
          0.9272670642015298
         ],
         "xaxis": "x",
         "y": [
          -1305,
          -1305,
          -1320,
          -1320
         ],
         "yaxis": "y"
        },
        {
         "hoverinfo": "text",
         "marker": {
          "color": "rgb(40,35,35)"
         },
         "mode": "lines",
         "text": [
          "winter_wintertime_seasonality_wintershall_energy",
          "",
          "",
          "case____"
         ],
         "type": "scatter",
         "x": [
          0,
          0.9438073305433083,
          0.9438073305433083,
          0
         ],
         "xaxis": "x",
         "y": [
          -1345,
          -1345,
          -1355,
          -1355
         ],
         "yaxis": "y"
        },
        {
         "hoverinfo": "text",
         "marker": {
          "color": "rgb(40,35,35)"
         },
         "mode": "lines",
         "text": [
          "remittance_remit_transfer_migrant_income",
          "",
          "",
          "winter_wintertime_seasonality_wintershall_energy"
         ],
         "type": "scatter",
         "x": [
          0,
          0.9857222273663577,
          0.9857222273663577,
          0.9438073305433083
         ],
         "xaxis": "x",
         "y": [
          -1335,
          -1335,
          -1350,
          -1350
         ],
         "yaxis": "y"
        },
        {
         "hoverinfo": "text",
         "marker": {
          "color": "rgb(61,153,112)"
         },
         "mode": "lines",
         "text": [
          "easter_holiday_christmas_damage_recover",
          "",
          "",
          "putin_vladimir_ussr_nuclear_disaster"
         ],
         "type": "scatter",
         "x": [
          0,
          0.9345685528473058,
          0.9345685528473058,
          0
         ],
         "xaxis": "x",
         "y": [
          -1365,
          -1365,
          -1375,
          -1375
         ],
         "yaxis": "y"
        },
        {
         "hoverinfo": "text",
         "marker": {
          "color": "rgb(61,153,112)"
         },
         "mode": "lines",
         "text": [
          "escalation_escalating_escalate_threat_threaten",
          "",
          "",
          "shanghai_beijing_chinese_mainland_city"
         ],
         "type": "scatter",
         "x": [
          0,
          0.9548004385336588,
          0.9548004385336588,
          0
         ],
         "xaxis": "x",
         "y": [
          -1385,
          -1385,
          -1395,
          -1395
         ],
         "yaxis": "y"
        },
        {
         "hoverinfo": "text",
         "marker": {
          "color": "rgb(61,153,112)"
         },
         "mode": "lines",
         "text": [
          "easter_holiday_damage_christmas_april",
          "",
          "",
          "shanghai_beijing_chinese_mainland_city"
         ],
         "type": "scatter",
         "x": [
          0.9345685528473058,
          0.9970136072436666,
          0.9970136072436666,
          0.9548004385336588
         ],
         "xaxis": "x",
         "y": [
          -1370,
          -1370,
          -1390,
          -1390
         ],
         "yaxis": "y"
        },
        {
         "hoverinfo": "text",
         "marker": {
          "color": "rgb(0,116,217)"
         },
         "mode": "lines",
         "text": [
          "remittance_remit_transfer_migrant_income",
          "",
          "",
          "easter_holiday_christmas_damage_february"
         ],
         "type": "scatter",
         "x": [
          0.9857222273663577,
          1.0336754881707513,
          1.0336754881707513,
          0.9970136072436666
         ],
         "xaxis": "x",
         "y": [
          -1342.5,
          -1342.5,
          -1380,
          -1380
         ],
         "yaxis": "y"
        },
        {
         "hoverinfo": "text",
         "marker": {
          "color": "rgb(0,116,217)"
         },
         "mode": "lines",
         "text": [
          "____",
          "",
          "",
          "____"
         ],
         "type": "scatter",
         "x": [
          0,
          1,
          1,
          0
         ],
         "xaxis": "x",
         "y": [
          -1405,
          -1405,
          -1415,
          -1415
         ],
         "yaxis": "y"
        },
        {
         "hoverinfo": "text",
         "marker": {
          "color": "rgb(255,65,54)"
         },
         "mode": "lines",
         "text": [
          "gbp_gbs_revenue_gbs1_profit",
          "",
          "",
          "dislocation_damage_occur_effect_shock"
         ],
         "type": "scatter",
         "x": [
          0,
          0.9924840441919666,
          0.9924840441919666,
          0
         ],
         "xaxis": "x",
         "y": [
          -1425,
          -1425,
          -1435,
          -1435
         ],
         "yaxis": "y"
        },
        {
         "hoverinfo": "text",
         "marker": {
          "color": "rgb(255,65,54)"
         },
         "mode": "lines",
         "text": [
          "outbreak_ebola_infection_flu_threat",
          "",
          "",
          "backdrop_background_focus_sector_material"
         ],
         "type": "scatter",
         "x": [
          0,
          0.9754953057484947,
          0.9754953057484947,
          0
         ],
         "xaxis": "x",
         "y": [
          -1445,
          -1445,
          -1455,
          -1455
         ],
         "yaxis": "y"
        },
        {
         "hoverinfo": "text",
         "marker": {
          "color": "rgb(255,65,54)"
         },
         "mode": "lines",
         "text": [
          "gbp_gbs_revenue_gbs1_profit",
          "",
          "",
          "outbreak_ebola_infection_flu_threat"
         ],
         "type": "scatter",
         "x": [
          0.9924840441919666,
          0.9980369628247305,
          0.9980369628247305,
          0.9754953057484947
         ],
         "xaxis": "x",
         "y": [
          -1430,
          -1430,
          -1450,
          -1450
         ],
         "yaxis": "y"
        },
        {
         "hoverinfo": "text",
         "marker": {
          "color": "rgb(0,116,217)"
         },
         "mode": "lines",
         "text": [
          "____",
          "",
          "",
          "gbp_gbs_profit_gbs1_lpp"
         ],
         "type": "scatter",
         "x": [
          1,
          1.0111555355668744,
          1.0111555355668744,
          0.9980369628247305
         ],
         "xaxis": "x",
         "y": [
          -1410,
          -1410,
          -1440,
          -1440
         ],
         "yaxis": "y"
        },
        {
         "hoverinfo": "text",
         "marker": {
          "color": "rgb(35,205,205)"
         },
         "mode": "lines",
         "text": [
          "bayer_humanitarian_antibiotic_aid_company",
          "",
          "",
          "dairy_farming_farm_agriculture_milk"
         ],
         "type": "scatter",
         "x": [
          0,
          0.955426723148031,
          0.955426723148031,
          0
         ],
         "xaxis": "x",
         "y": [
          -1465,
          -1465,
          -1475,
          -1475
         ],
         "yaxis": "y"
        },
        {
         "hoverinfo": "text",
         "marker": {
          "color": "rgb(0,116,217)"
         },
         "mode": "lines",
         "text": [
          "gbp_gbs_gbs1_profit_lpp",
          "",
          "",
          "dairy_farming_farm_agriculture_milk"
         ],
         "type": "scatter",
         "x": [
          1.0111555355668744,
          1.0283320415012134,
          1.0283320415012134,
          0.955426723148031
         ],
         "xaxis": "x",
         "y": [
          -1425,
          -1425,
          -1470,
          -1470
         ],
         "yaxis": "y"
        },
        {
         "hoverinfo": "text",
         "marker": {
          "color": "rgb(0,116,217)"
         },
         "mode": "lines",
         "text": [
          "easter_holiday_damage_christmas_wintertime",
          "",
          "",
          "gbp_outbreak_gbs_gbs1_profit"
         ],
         "type": "scatter",
         "x": [
          1.0336754881707513,
          1.0446702525214926,
          1.0446702525214926,
          1.0283320415012134
         ],
         "xaxis": "x",
         "y": [
          -1361.25,
          -1361.25,
          -1447.5,
          -1447.5
         ],
         "yaxis": "y"
        },
        {
         "hoverinfo": "text",
         "marker": {
          "color": "rgb(0,116,217)"
         },
         "mode": "lines",
         "text": [
          "recession_economic_cost_pressure_substantially",
          "",
          "",
          "gbp_gbs_profit_retail_pbt"
         ],
         "type": "scatter",
         "x": [
          0.9635231553706997,
          1.0502736832839747,
          1.0502736832839747,
          1.0446702525214926
         ],
         "xaxis": "x",
         "y": [
          -1312.5,
          -1312.5,
          -1404.375,
          -1404.375
         ],
         "yaxis": "y"
        },
        {
         "hoverinfo": "text",
         "marker": {
          "color": "rgb(0,116,217)"
         },
         "mode": "lines",
         "text": [
          "sort_order_mention_suggest_recent",
          "",
          "",
          "gbp_gbs_profit_pbt_retail"
         ],
         "type": "scatter",
         "x": [
          1.0563699278422585,
          1.0731957734325246,
          1.0731957734325246,
          1.0502736832839747
         ],
         "xaxis": "x",
         "y": [
          -1237.8125,
          -1237.8125,
          -1358.4375,
          -1358.4375
         ],
         "yaxis": "y"
        },
        {
         "hoverinfo": "text",
         "marker": {
          "color": "rgb(0,116,217)"
         },
         "mode": "lines",
         "text": [
          "backlog_wind_buyback_business_investment",
          "",
          "",
          "sort_order_say_recent_see"
         ],
         "type": "scatter",
         "x": [
          1.0636935714130402,
          1.0981163341689835,
          1.0981163341689835,
          1.0731957734325246
         ],
         "xaxis": "x",
         "y": [
          -1106.953125,
          -1106.953125,
          -1298.125,
          -1298.125
         ],
         "yaxis": "y"
        },
        {
         "hoverinfo": "text",
         "marker": {
          "color": "rgb(61,153,112)"
         },
         "mode": "lines",
         "text": [
          "review_business_strategic_operational_assess",
          "",
          "",
          "strategic_strategical_option_business_decision"
         ],
         "type": "scatter",
         "x": [
          0,
          0.8758685667124236,
          0.8758685667124236,
          0
         ],
         "xaxis": "x",
         "y": [
          -1485,
          -1485,
          -1495,
          -1495
         ],
         "yaxis": "y"
        },
        {
         "hoverinfo": "text",
         "marker": {
          "color": "rgb(255,65,54)"
         },
         "mode": "lines",
         "text": [
          "moscow_petersburg_st_arctic_paris",
          "",
          "",
          "office_work_stagwell_country_process"
         ],
         "type": "scatter",
         "x": [
          0,
          0.8886166247644027,
          0.8886166247644027,
          0
         ],
         "xaxis": "x",
         "y": [
          -1505,
          -1505,
          -1515,
          -1515
         ],
         "yaxis": "y"
        },
        {
         "hoverinfo": "text",
         "marker": {
          "color": "rgb(0,116,217)"
         },
         "mode": "lines",
         "text": [
          "strategic_strategical_assess_review_decision",
          "",
          "",
          "moscow_petersburg_st_arctic_paris"
         ],
         "type": "scatter",
         "x": [
          0.8758685667124236,
          1.066563283263515,
          1.066563283263515,
          0.8886166247644027
         ],
         "xaxis": "x",
         "y": [
          -1490,
          -1490,
          -1510,
          -1510
         ],
         "yaxis": "y"
        },
        {
         "hoverinfo": "text",
         "marker": {
          "color": "rgb(0,116,217)"
         },
         "mode": "lines",
         "text": [
          "backlog_wind_sort_order_business",
          "",
          "",
          "moscow_strategic_strategical_petersburg_business"
         ],
         "type": "scatter",
         "x": [
          1.0981163341689835,
          1.1040420269929574,
          1.1040420269929574,
          1.066563283263515
         ],
         "xaxis": "x",
         "y": [
          -1202.5390625,
          -1202.5390625,
          -1500,
          -1500
         ],
         "yaxis": "y"
        },
        {
         "hoverinfo": "text",
         "marker": {
          "color": "rgb(35,205,205)"
         },
         "mode": "lines",
         "text": [
          "ask_say_look_matt_compliment",
          "",
          "",
          "wrinkle_look_overshadow_say_wrap"
         ],
         "type": "scatter",
         "x": [
          0,
          0.8543742585360756,
          0.8543742585360756,
          0
         ],
         "xaxis": "x",
         "y": [
          -1525,
          -1525,
          -1535,
          -1535
         ],
         "yaxis": "y"
        },
        {
         "hoverinfo": "text",
         "marker": {
          "color": "rgb(133,20,75)"
         },
         "mode": "lines",
         "text": [
          "outside_inside_change_answer_",
          "",
          "",
          "expansion_prolong_expand_assumption_response"
         ],
         "type": "scatter",
         "x": [
          0,
          0.8845035152130798,
          0.8845035152130798,
          0
         ],
         "xaxis": "x",
         "y": [
          -1545,
          -1545,
          -1555,
          -1555
         ],
         "yaxis": "y"
        },
        {
         "hoverinfo": "text",
         "marker": {
          "color": "rgb(0,116,217)"
         },
         "mode": "lines",
         "text": [
          "look_think_want__",
          "",
          "",
          "expansion_prolong_assumption_expand_residual"
         ],
         "type": "scatter",
         "x": [
          0.8543742585360756,
          1.0557902100565613,
          1.0557902100565613,
          0.8845035152130798
         ],
         "xaxis": "x",
         "y": [
          -1530,
          -1530,
          -1550,
          -1550
         ],
         "yaxis": "y"
        },
        {
         "hoverinfo": "text",
         "marker": {
          "color": "rgb(255,220,0)"
         },
         "mode": "lines",
         "text": [
          "multinational_subsidiary_foreign_provider_telecom",
          "",
          "",
          "client_consulting_business_developer_corporate"
         ],
         "type": "scatter",
         "x": [
          0,
          0.797585993242892,
          0.797585993242892,
          0
         ],
         "xaxis": "x",
         "y": [
          -1565,
          -1565,
          -1575,
          -1575
         ],
         "yaxis": "y"
        },
        {
         "hoverinfo": "text",
         "marker": {
          "color": "rgb(0,116,217)"
         },
         "mode": "lines",
         "text": [
          "expansion_prolong_assumption_expand_residual",
          "",
          "",
          "client_consulting_provider_business_service"
         ],
         "type": "scatter",
         "x": [
          1.0557902100565613,
          1.1048408347645413,
          1.1048408347645413,
          0.797585993242892
         ],
         "xaxis": "x",
         "y": [
          -1540,
          -1540,
          -1570,
          -1570
         ],
         "yaxis": "y"
        },
        {
         "hoverinfo": "text",
         "marker": {
          "color": "rgb(40,35,35)"
         },
         "mode": "lines",
         "text": [
          "shortage_supply_inventory_sourcing_marketplace",
          "",
          "",
          "taiwan_asia_myanmar_korea_japan"
         ],
         "type": "scatter",
         "x": [
          0,
          0.9006205826251756,
          0.9006205826251756,
          0
         ],
         "xaxis": "x",
         "y": [
          -1595,
          -1595,
          -1605,
          -1605
         ],
         "yaxis": "y"
        },
        {
         "hoverinfo": "text",
         "marker": {
          "color": "rgb(40,35,35)"
         },
         "mode": "lines",
         "text": [
          "move_push_away_action_take",
          "",
          "",
          "taiwan_asia_myanmar_korea_japan"
         ],
         "type": "scatter",
         "x": [
          0,
          0.9690756789530505,
          0.9690756789530505,
          0.9006205826251756
         ],
         "xaxis": "x",
         "y": [
          -1585,
          -1585,
          -1600,
          -1600
         ],
         "yaxis": "y"
        },
        {
         "hoverinfo": "text",
         "marker": {
          "color": "rgb(61,153,112)"
         },
         "mode": "lines",
         "text": [
          "bit_little_area_moment_mean",
          "",
          "",
          "delay_timing_pause_shift_situation"
         ],
         "type": "scatter",
         "x": [
          0,
          0.9150652298829092,
          0.9150652298829092,
          0
         ],
         "xaxis": "x",
         "y": [
          -1625,
          -1625,
          -1635,
          -1635
         ],
         "yaxis": "y"
        },
        {
         "hoverinfo": "text",
         "marker": {
          "color": "rgb(61,153,112)"
         },
         "mode": "lines",
         "text": [
          "clear_visibility_transparency_transparent_let",
          "",
          "",
          "delay_timing_pause_shift_situation"
         ],
         "type": "scatter",
         "x": [
          0,
          0.9614786647452859,
          0.9614786647452859,
          0.9150652298829092
         ],
         "xaxis": "x",
         "y": [
          -1615,
          -1615,
          -1630,
          -1630
         ],
         "yaxis": "y"
        },
        {
         "hoverinfo": "text",
         "marker": {
          "color": "rgb(61,153,112)"
         },
         "mode": "lines",
         "text": [
          "early_time_late_soon_timely",
          "",
          "",
          "prolong_time_phase_slow_protract"
         ],
         "type": "scatter",
         "x": [
          0,
          0.8819131868982978,
          0.8819131868982978,
          0
         ],
         "xaxis": "x",
         "y": [
          -1645,
          -1645,
          -1655,
          -1655
         ],
         "yaxis": "y"
        },
        {
         "hoverinfo": "text",
         "marker": {
          "color": "rgb(61,153,112)"
         },
         "mode": "lines",
         "text": [
          "clear_visibility_transparent_transparency_let",
          "",
          "",
          "time_early_late_happen_timely"
         ],
         "type": "scatter",
         "x": [
          0.9614786647452859,
          0.9971594125914016,
          0.9971594125914016,
          0.8819131868982978
         ],
         "xaxis": "x",
         "y": [
          -1622.5,
          -1622.5,
          -1650,
          -1650
         ],
         "yaxis": "y"
        },
        {
         "hoverinfo": "text",
         "marker": {
          "color": "rgb(0,116,217)"
         },
         "mode": "lines",
         "text": [
          "taiwan_asia_myanmar_korea_japan",
          "",
          "",
          "clear_visibility_transparent_transparency_calm"
         ],
         "type": "scatter",
         "x": [
          0.9690756789530505,
          1.0406572453766374,
          1.0406572453766374,
          0.9971594125914016
         ],
         "xaxis": "x",
         "y": [
          -1592.5,
          -1592.5,
          -1636.25,
          -1636.25
         ],
         "yaxis": "y"
        },
        {
         "hoverinfo": "text",
         "marker": {
          "color": "rgb(255,65,54)"
         },
         "mode": "lines",
         "text": [
          "rest_restructure_group_mena_business",
          "",
          "",
          "rounding_approximately_425_total_gp"
         ],
         "type": "scatter",
         "x": [
          0,
          0.8704299499733122,
          0.8704299499733122,
          0
         ],
         "xaxis": "x",
         "y": [
          -1665,
          -1665,
          -1675,
          -1675
         ],
         "yaxis": "y"
        },
        {
         "hoverinfo": "text",
         "marker": {
          "color": "rgb(0,116,217)"
         },
         "mode": "lines",
         "text": [
          "taiwan_myanmar_korea_japan_thailand",
          "",
          "",
          "rest_restructure_mena_group_release"
         ],
         "type": "scatter",
         "x": [
          1.0406572453766374,
          1.0907379774876456,
          1.0907379774876456,
          0.8704299499733122
         ],
         "xaxis": "x",
         "y": [
          -1614.375,
          -1614.375,
          -1670,
          -1670
         ],
         "yaxis": "y"
        },
        {
         "hoverinfo": "text",
         "marker": {
          "color": "rgb(35,205,205)"
         },
         "mode": "lines",
         "text": [
          "pricing_itinerary_baltic_premium_voyage",
          "",
          "",
          "demand_itinerary_go_downdraft_balance"
         ],
         "type": "scatter",
         "x": [
          0,
          0.817529637511829,
          0.817529637511829,
          0
         ],
         "xaxis": "x",
         "y": [
          -1685,
          -1685,
          -1695,
          -1695
         ],
         "yaxis": "y"
        },
        {
         "hoverinfo": "text",
         "marker": {
          "color": "rgb(61,153,112)"
         },
         "mode": "lines",
         "text": [
          "exacerbate_jeopardizing_situation_effect_exasperate",
          "",
          "",
          "turbulence_turbulent_exacerbate_effect_smooth"
         ],
         "type": "scatter",
         "x": [
          0,
          0.9311102483322623,
          0.9311102483322623,
          0
         ],
         "xaxis": "x",
         "y": [
          -1705,
          -1705,
          -1715,
          -1715
         ],
         "yaxis": "y"
        },
        {
         "hoverinfo": "text",
         "marker": {
          "color": "rgb(0,116,217)"
         },
         "mode": "lines",
         "text": [
          "pricing_itinerary_premium_baltic_demand",
          "",
          "",
          "exacerbate_jeopardizing_turbulence_turbulent_effect"
         ],
         "type": "scatter",
         "x": [
          0.817529637511829,
          1.0413435020553097,
          1.0413435020553097,
          0.9311102483322623
         ],
         "xaxis": "x",
         "y": [
          -1690,
          -1690,
          -1710,
          -1710
         ],
         "yaxis": "y"
        },
        {
         "hoverinfo": "text",
         "marker": {
          "color": "rgb(0,116,217)"
         },
         "mode": "lines",
         "text": [
          "taiwan_myanmar_korea_pacific_thailand",
          "",
          "",
          "exacerbate_jeopardizing_turbulence_turbulent_situation"
         ],
         "type": "scatter",
         "x": [
          1.0907379774876456,
          1.1188103147387456,
          1.1188103147387456,
          1.0413435020553097
         ],
         "xaxis": "x",
         "y": [
          -1642.1875,
          -1642.1875,
          -1700,
          -1700
         ],
         "yaxis": "y"
        },
        {
         "hoverinfo": "text",
         "marker": {
          "color": "rgb(0,116,217)"
         },
         "mode": "lines",
         "text": [
          "client_consulting_provider_service_contractor",
          "",
          "",
          "taiwan_korea_pacific_turbulent_thailand"
         ],
         "type": "scatter",
         "x": [
          1.1048408347645413,
          1.1329954050537026,
          1.1329954050537026,
          1.1188103147387456
         ],
         "xaxis": "x",
         "y": [
          -1555,
          -1555,
          -1671.09375,
          -1671.09375
         ],
         "yaxis": "y"
        },
        {
         "hoverinfo": "text",
         "marker": {
          "color": "rgb(0,116,217)"
         },
         "mode": "lines",
         "text": [
          "sort_order_consider_stock_operation",
          "",
          "",
          "client_provider_service_corporate_develop"
         ],
         "type": "scatter",
         "x": [
          1.1040420269929574,
          1.1402678789502356,
          1.1402678789502356,
          1.1329954050537026
         ],
         "xaxis": "x",
         "y": [
          -1351.26953125,
          -1351.26953125,
          -1613.046875,
          -1613.046875
         ],
         "yaxis": "y"
        },
        {
         "hoverinfo": "text",
         "marker": {
          "color": "rgb(0,116,217)"
         },
         "mode": "lines",
         "text": [
          "address_ip_want_open_lyondellbasell",
          "",
          "",
          "client_wind_cost_business_sort"
         ],
         "type": "scatter",
         "x": [
          1.0791676516291404,
          1.1560943457400705,
          1.1560943457400705,
          1.1402678789502356
         ],
         "xaxis": "x",
         "y": [
          -955,
          -955,
          -1482.158203125,
          -1482.158203125
         ],
         "yaxis": "y"
        },
        {
         "hoverinfo": "text",
         "marker": {
          "color": "rgb(255,65,54)"
         },
         "mode": "lines",
         "text": [
          "freight_export_supply_log_demand",
          "",
          "",
          "wood_woodwork_lumber_timber_wooden"
         ],
         "type": "scatter",
         "x": [
          0,
          0.8111466419348052,
          0.8111466419348052,
          0
         ],
         "xaxis": "x",
         "y": [
          -1735,
          -1735,
          -1745,
          -1745
         ],
         "yaxis": "y"
        },
        {
         "hoverinfo": "text",
         "marker": {
          "color": "rgb(255,65,54)"
         },
         "mode": "lines",
         "text": [
          "alumina_refinery_aluminum_production_produce",
          "",
          "",
          "wood_woodwork_lumber_timber_wooden"
         ],
         "type": "scatter",
         "x": [
          0,
          0.9819770686732181,
          0.9819770686732181,
          0.8111466419348052
         ],
         "xaxis": "x",
         "y": [
          -1725,
          -1725,
          -1740,
          -1740
         ],
         "yaxis": "y"
        },
        {
         "hoverinfo": "text",
         "marker": {
          "color": "rgb(35,205,205)"
         },
         "mode": "lines",
         "text": [
          "finland_finnish_nordic_nordics_sweden",
          "",
          "",
          "border_geographically_kilometer_geography_country"
         ],
         "type": "scatter",
         "x": [
          0,
          0.9222486050230652,
          0.9222486050230652,
          0
         ],
         "xaxis": "x",
         "y": [
          -1755,
          -1755,
          -1765,
          -1765
         ],
         "yaxis": "y"
        },
        {
         "hoverinfo": "text",
         "marker": {
          "color": "rgb(0,116,217)"
         },
         "mode": "lines",
         "text": [
          "wood_lumber_timber_birch_sawmill",
          "",
          "",
          "finland_finnish_nordic_nordics_sweden"
         ],
         "type": "scatter",
         "x": [
          0.9819770686732181,
          1.043390112083798,
          1.043390112083798,
          0.9222486050230652
         ],
         "xaxis": "x",
         "y": [
          -1732.5,
          -1732.5,
          -1760,
          -1760
         ],
         "yaxis": "y"
        },
        {
         "hoverinfo": "text",
         "marker": {
          "color": "rgb(133,20,75)"
         },
         "mode": "lines",
         "text": [
          "nuclear_reactor_uranium_fukushima_chernobyl",
          "",
          "",
          "uranium_enrichment_reactor_nuclear_capacity"
         ],
         "type": "scatter",
         "x": [
          0,
          0.7998251351014657,
          0.7998251351014657,
          0
         ],
         "xaxis": "x",
         "y": [
          -1775,
          -1775,
          -1785,
          -1785
         ],
         "yaxis": "y"
        },
        {
         "hoverinfo": "text",
         "marker": {
          "color": "rgb(255,220,0)"
         },
         "mode": "lines",
         "text": [
          "utilization_capacity_demand_resource_throughput",
          "",
          "",
          "capacity_utilization_consumption_limited_exceed"
         ],
         "type": "scatter",
         "x": [
          0,
          0.8952276688253334,
          0.8952276688253334,
          0
         ],
         "xaxis": "x",
         "y": [
          -1795,
          -1795,
          -1805,
          -1805
         ],
         "yaxis": "y"
        },
        {
         "hoverinfo": "text",
         "marker": {
          "color": "rgb(255,220,0)"
         },
         "mode": "lines",
         "text": [
          "utilization_capacity_consumption_throughput_resource",
          "",
          "",
          "poultry_chicken_mhp_meat_production"
         ],
         "type": "scatter",
         "x": [
          0.8952276688253334,
          0.9399569121022663,
          0.9399569121022663,
          0
         ],
         "xaxis": "x",
         "y": [
          -1800,
          -1800,
          -1815,
          -1815
         ],
         "yaxis": "y"
        },
        {
         "hoverinfo": "text",
         "marker": {
          "color": "rgb(0,116,217)"
         },
         "mode": "lines",
         "text": [
          "uranium_nuclear_reactor_plutonium_enrichment",
          "",
          "",
          "poultry_chicken_mhp_meat_production"
         ],
         "type": "scatter",
         "x": [
          0.7998251351014657,
          1.0935190547119762,
          1.0935190547119762,
          0.9399569121022663
         ],
         "xaxis": "x",
         "y": [
          -1780,
          -1780,
          -1807.5,
          -1807.5
         ],
         "yaxis": "y"
        },
        {
         "hoverinfo": "text",
         "marker": {
          "color": "rgb(0,116,217)"
         },
         "mode": "lines",
         "text": [
          "wood_lumber_timber_hardwood_birch",
          "",
          "",
          "uranium_reactor_nuclear_enrichment_isotope"
         ],
         "type": "scatter",
         "x": [
          1.043390112083798,
          1.1415863243068622,
          1.1415863243068622,
          1.0935190547119762
         ],
         "xaxis": "x",
         "y": [
          -1746.25,
          -1746.25,
          -1793.75,
          -1793.75
         ],
         "yaxis": "y"
        },
        {
         "hoverinfo": "text",
         "marker": {
          "color": "rgb(0,116,217)"
         },
         "mode": "lines",
         "text": [
          "sort_order_customer_client_delay",
          "",
          "",
          "supply_uranium_supplier_birch_lumber"
         ],
         "type": "scatter",
         "x": [
          1.1560943457400705,
          1.1797260851108138,
          1.1797260851108138,
          1.1415863243068622
         ],
         "xaxis": "x",
         "y": [
          -1218.5791015625,
          -1218.5791015625,
          -1770,
          -1770
         ],
         "yaxis": "y"
        },
        {
         "hoverinfo": "text",
         "marker": {
          "color": "rgb(0,116,217)"
         },
         "mode": "lines",
         "text": [
          "shareholder_stakeholder_company_arctic_business",
          "",
          "",
          "uranium_enrichment_lumber_utilization_reactor"
         ],
         "type": "scatter",
         "x": [
          1.1426217525695965,
          1.1856071261791647,
          1.1856071261791647,
          1.1797260851108138
         ],
         "xaxis": "x",
         "y": [
          -895,
          -895,
          -1494.28955078125,
          -1494.28955078125
         ],
         "yaxis": "y"
        },
        {
         "hoverinfo": "text",
         "marker": {
          "color": "rgb(0,116,217)"
         },
         "mode": "lines",
         "text": [
          "bank_banking_sberbank_raiffeisenbank_lender",
          "",
          "",
          "wood_lumber_birch_uranium_hardwood"
         ],
         "type": "scatter",
         "x": [
          1.1492921041975703,
          1.229127795237479,
          1.229127795237479,
          1.1856071261791647
         ],
         "xaxis": "x",
         "y": [
          -786.25,
          -786.25,
          -1194.644775390625,
          -1194.644775390625
         ],
         "yaxis": "y"
        },
        {
         "hoverinfo": "text",
         "marker": {
          "color": "rgb(40,35,35)"
         },
         "mode": "lines",
         "text": [
          "cetera_et_include_business_mention",
          "",
          "",
          "inflation_inflationary_flight_disruption_travel"
         ],
         "type": "scatter",
         "x": [
          0,
          0.6747919629997841,
          0.6747919629997841,
          0
         ],
         "xaxis": "x",
         "y": [
          -1825,
          -1825,
          -1835,
          -1835
         ],
         "yaxis": "y"
        },
        {
         "hoverinfo": "text",
         "marker": {
          "color": "rgb(61,153,112)"
         },
         "mode": "lines",
         "text": [
          "carbon_black_supplier_supply_europe",
          "",
          "",
          "tire_tyre_rubber_supply_distributor"
         ],
         "type": "scatter",
         "x": [
          0,
          0.8336230821470456,
          0.8336230821470456,
          0
         ],
         "xaxis": "x",
         "y": [
          -1845,
          -1845,
          -1855,
          -1855
         ],
         "yaxis": "y"
        },
        {
         "hoverinfo": "text",
         "marker": {
          "color": "rgb(255,65,54)"
         },
         "mode": "lines",
         "text": [
          "traffic_congestion_transit_lane_network",
          "",
          "",
          "passenger_cargo_airline_departure_travel"
         ],
         "type": "scatter",
         "x": [
          0,
          0.8374777708889845,
          0.8374777708889845,
          0
         ],
         "xaxis": "x",
         "y": [
          -1875,
          -1875,
          -1885,
          -1885
         ],
         "yaxis": "y"
        },
        {
         "hoverinfo": "text",
         "marker": {
          "color": "rgb(255,65,54)"
         },
         "mode": "lines",
         "text": [
          "passenger_traffic_airline_departure_travel",
          "",
          "",
          "airspace_overflight_airline_flight_closure"
         ],
         "type": "scatter",
         "x": [
          0.8374777708889845,
          0.9168280244577797,
          0.9168280244577797,
          0
         ],
         "xaxis": "x",
         "y": [
          -1880,
          -1880,
          -1895,
          -1895
         ],
         "yaxis": "y"
        },
        {
         "hoverinfo": "text",
         "marker": {
          "color": "rgb(255,65,54)"
         },
         "mode": "lines",
         "text": [
          "tourist_tourism_visitor_visit_travel",
          "",
          "",
          "airspace_airline_flight_closure_traffic"
         ],
         "type": "scatter",
         "x": [
          0,
          0.9771951658198534,
          0.9771951658198534,
          0.9168280244577797
         ],
         "xaxis": "x",
         "y": [
          -1865,
          -1865,
          -1887.5,
          -1887.5
         ],
         "yaxis": "y"
        },
        {
         "hoverinfo": "text",
         "marker": {
          "color": "rgb(0,116,217)"
         },
         "mode": "lines",
         "text": [
          "carbon_supplier_black_supply_tire",
          "",
          "",
          "airspace_airline_flight_closure_traffic"
         ],
         "type": "scatter",
         "x": [
          0.8336230821470456,
          1.1140486678804866,
          1.1140486678804866,
          0.9771951658198534
         ],
         "xaxis": "x",
         "y": [
          -1850,
          -1850,
          -1876.25,
          -1876.25
         ],
         "yaxis": "y"
        },
        {
         "hoverinfo": "text",
         "marker": {
          "color": "rgb(35,205,205)"
         },
         "mode": "lines",
         "text": [
          "port_freighter_naval_sea_vessel",
          "",
          "",
          "route_rerouting_reroute_shifting_network"
         ],
         "type": "scatter",
         "x": [
          0,
          0.8675666748976544,
          0.8675666748976544,
          0
         ],
         "xaxis": "x",
         "y": [
          -1915,
          -1915,
          -1925,
          -1925
         ],
         "yaxis": "y"
        },
        {
         "hoverinfo": "text",
         "marker": {
          "color": "rgb(35,205,205)"
         },
         "mode": "lines",
         "text": [
          "tanker_market_fleet_gulfstream_cargo",
          "",
          "",
          "port_freighter_naval_sea_vessel"
         ],
         "type": "scatter",
         "x": [
          0,
          0.9318719933559336,
          0.9318719933559336,
          0.8675666748976544
         ],
         "xaxis": "x",
         "y": [
          -1905,
          -1905,
          -1920,
          -1920
         ],
         "yaxis": "y"
        },
        {
         "hoverinfo": "text",
         "marker": {
          "color": "rgb(61,153,112)"
         },
         "mode": "lines",
         "text": [
          "freight_rail_railroad_railway_railcar",
          "",
          "",
          "turnover_percentage_overall_total_contribute"
         ],
         "type": "scatter",
         "x": [
          0,
          0.8236379353819626,
          0.8236379353819626,
          0
         ],
         "xaxis": "x",
         "y": [
          -1935,
          -1935,
          -1945,
          -1945
         ],
         "yaxis": "y"
        },
        {
         "hoverinfo": "text",
         "marker": {
          "color": "rgb(0,116,217)"
         },
         "mode": "lines",
         "text": [
          "tanker_port_freighter_fleet_ship",
          "",
          "",
          "freight_rail_turnover_railcar_railroad"
         ],
         "type": "scatter",
         "x": [
          0.9318719933559336,
          1.088922486477128,
          1.088922486477128,
          0.8236379353819626
         ],
         "xaxis": "x",
         "y": [
          -1912.5,
          -1912.5,
          -1940,
          -1940
         ],
         "yaxis": "y"
        },
        {
         "hoverinfo": "text",
         "marker": {
          "color": "rgb(0,116,217)"
         },
         "mode": "lines",
         "text": [
          "airspace_closure_traffic_airline_flight",
          "",
          "",
          "tanker_freighter_freight_ship_fleet"
         ],
         "type": "scatter",
         "x": [
          1.1140486678804866,
          1.1568249650719942,
          1.1568249650719942,
          1.088922486477128
         ],
         "xaxis": "x",
         "y": [
          -1863.125,
          -1863.125,
          -1926.25,
          -1926.25
         ],
         "yaxis": "y"
        },
        {
         "hoverinfo": "text",
         "marker": {
          "color": "rgb(0,116,217)"
         },
         "mode": "lines",
         "text": [
          "inflation_inflationary_flight_disruption_air",
          "",
          "",
          "airspace_airline_flight_airport_traffic"
         ],
         "type": "scatter",
         "x": [
          0.6747919629997841,
          1.2109149966493062,
          1.2109149966493062,
          1.1568249650719942
         ],
         "xaxis": "x",
         "y": [
          -1830,
          -1830,
          -1894.6875,
          -1894.6875
         ],
         "yaxis": "y"
        },
        {
         "hoverinfo": "text",
         "marker": {
          "color": "rgb(0,116,217)"
         },
         "mode": "lines",
         "text": [
          "wood_lumber_process_uranium_operate",
          "",
          "",
          "airspace_airline_flight_traffic_aerospace"
         ],
         "type": "scatter",
         "x": [
          1.229127795237479,
          1.2438562888142912,
          1.2438562888142912,
          1.2109149966493062
         ],
         "xaxis": "x",
         "y": [
          -990.4473876953125,
          -990.4473876953125,
          -1862.34375,
          -1862.34375
         ],
         "yaxis": "y"
        },
        {
         "hoverinfo": "text",
         "marker": {
          "color": "rgb(0,116,217)"
         },
         "mode": "lines",
         "text": [
          "cybersecurity_cyberattack_cyber_attack_infrastructure",
          "",
          "",
          "uranium_kazakhstan_nuclear_asia_enrichment"
         ],
         "type": "scatter",
         "x": [
          1.170471547445495,
          1.286018243975702,
          1.286018243975702,
          1.2438562888142912
         ],
         "xaxis": "x",
         "y": [
          -673.125,
          -673.125,
          -1426.3955688476562,
          -1426.3955688476562
         ],
         "yaxis": "y"
        },
        {
         "hoverinfo": "text",
         "marker": {
          "color": "rgb(255,65,54)"
         },
         "mode": "lines",
         "text": [
          "turkey_turkish_turkcell_meat_saudi",
          "",
          "",
          "turkish_turkey_sale_pricing_euro"
         ],
         "type": "scatter",
         "x": [
          0,
          0.4693828686835767,
          0.4693828686835767,
          0
         ],
         "xaxis": "x",
         "y": [
          -1955,
          -1955,
          -1965,
          -1965
         ],
         "yaxis": "y"
        },
        {
         "hoverinfo": "text",
         "marker": {
          "color": "rgb(35,205,205)"
         },
         "mode": "lines",
         "text": [
          "australia_zealand_partnership_asia_brazil",
          "",
          "",
          "brazil_uruguay_argentina_portuguese_chile"
         ],
         "type": "scatter",
         "x": [
          0,
          0.7536108771108971,
          0.7536108771108971,
          0
         ],
         "xaxis": "x",
         "y": [
          -1975,
          -1975,
          -1985,
          -1985
         ],
         "yaxis": "y"
        },
        {
         "hoverinfo": "text",
         "marker": {
          "color": "rgb(35,205,205)"
         },
         "mode": "lines",
         "text": [
          "brazil_uruguay_argentina_portuguese_ecuador",
          "",
          "",
          "revenue_profit_asia_japan_profitability"
         ],
         "type": "scatter",
         "x": [
          0.7536108771108971,
          0.9224707946420457,
          0.9224707946420457,
          0
         ],
         "xaxis": "x",
         "y": [
          -1980,
          -1980,
          -1995,
          -1995
         ],
         "yaxis": "y"
        },
        {
         "hoverinfo": "text",
         "marker": {
          "color": "rgb(133,20,75)"
         },
         "mode": "lines",
         "text": [
          "ammonia_fertilizer_nitrogen_nitrate_ammonium",
          "",
          "",
          "fertilizer_soil_produce_agriculture_planting"
         ],
         "type": "scatter",
         "x": [
          0,
          0.7899792200081364,
          0.7899792200081364,
          0
         ],
         "xaxis": "x",
         "y": [
          -2005,
          -2005,
          -2015,
          -2015
         ],
         "yaxis": "y"
        },
        {
         "hoverinfo": "text",
         "marker": {
          "color": "rgb(255,220,0)"
         },
         "mode": "lines",
         "text": [
          "agriculture_agricultural_crop_cropp_planting",
          "",
          "",
          "wheat_maize_corn_barley_agricultural"
         ],
         "type": "scatter",
         "x": [
          0,
          0.8403940793122893,
          0.8403940793122893,
          0
         ],
         "xaxis": "x",
         "y": [
          -2025,
          -2025,
          -2035,
          -2035
         ],
         "yaxis": "y"
        },
        {
         "hoverinfo": "text",
         "marker": {
          "color": "rgb(255,220,0)"
         },
         "mode": "lines",
         "text": [
          "wheat_maize_corn_agricultural_agriculture",
          "",
          "",
          "sunflower_oil_wheat_sunseed_sun"
         ],
         "type": "scatter",
         "x": [
          0.8403940793122893,
          0.9149934639589399,
          0.9149934639589399,
          0
         ],
         "xaxis": "x",
         "y": [
          -2030,
          -2030,
          -2045,
          -2045
         ],
         "yaxis": "y"
        },
        {
         "hoverinfo": "text",
         "marker": {
          "color": "rgb(0,116,217)"
         },
         "mode": "lines",
         "text": [
          "fertilizer_produce_agriculture_nitrogen_agricultural",
          "",
          "",
          "wheat_maize_corn_agriculture_agricultural"
         ],
         "type": "scatter",
         "x": [
          0.7899792200081364,
          1.0917842269082358,
          1.0917842269082358,
          0.9149934639589399
         ],
         "xaxis": "x",
         "y": [
          -2010,
          -2010,
          -2037.5,
          -2037.5
         ],
         "yaxis": "y"
        },
        {
         "hoverinfo": "text",
         "marker": {
          "color": "rgb(0,116,217)"
         },
         "mode": "lines",
         "text": [
          "brazil_uruguay_argentina_chile_peru",
          "",
          "",
          "wheat_maize_agriculture_corn_agricultural"
         ],
         "type": "scatter",
         "x": [
          0.9224707946420457,
          1.1819276923797695,
          1.1819276923797695,
          1.0917842269082358
         ],
         "xaxis": "x",
         "y": [
          -1987.5,
          -1987.5,
          -2023.75,
          -2023.75
         ],
         "yaxis": "y"
        },
        {
         "hoverinfo": "text",
         "marker": {
          "color": "rgb(40,35,35)"
         },
         "mode": "lines",
         "text": [
          "facility_location_locate_operational_housing",
          "",
          "",
          "manufacturing_manufacture_production_factory_assembly"
         ],
         "type": "scatter",
         "x": [
          0,
          0.7208623570798303,
          0.7208623570798303,
          0
         ],
         "xaxis": "x",
         "y": [
          -2055,
          -2055,
          -2065,
          -2065
         ],
         "yaxis": "y"
        },
        {
         "hoverinfo": "text",
         "marker": {
          "color": "rgb(61,153,112)"
         },
         "mode": "lines",
         "text": [
          "romania_romanian_produce_facility_production",
          "",
          "",
          "poland_gdansk_polish_krakow_hungary"
         ],
         "type": "scatter",
         "x": [
          0,
          0.7845304284529084,
          0.7845304284529084,
          0
         ],
         "xaxis": "x",
         "y": [
          -2085,
          -2085,
          -2095,
          -2095
         ],
         "yaxis": "y"
        },
        {
         "hoverinfo": "text",
         "marker": {
          "color": "rgb(61,153,112)"
         },
         "mode": "lines",
         "text": [
          "plant_produce_production_environmental_base",
          "",
          "",
          "poland_gdansk_polish_krakow_lithuania"
         ],
         "type": "scatter",
         "x": [
          0,
          0.954813217816093,
          0.954813217816093,
          0.7845304284529084
         ],
         "xaxis": "x",
         "y": [
          -2075,
          -2075,
          -2090,
          -2090
         ],
         "yaxis": "y"
        },
        {
         "hoverinfo": "text",
         "marker": {
          "color": "rgb(0,116,217)"
         },
         "mode": "lines",
         "text": [
          "facility_manufacturing_production_manufacture_factory",
          "",
          "",
          "poland_polish_krakow_slovakia_hungary"
         ],
         "type": "scatter",
         "x": [
          0.7208623570798303,
          1.1059618923054493,
          1.1059618923054493,
          0.954813217816093
         ],
         "xaxis": "x",
         "y": [
          -2060,
          -2060,
          -2082.5,
          -2082.5
         ],
         "yaxis": "y"
        },
        {
         "hoverinfo": "text",
         "marker": {
          "color": "rgb(255,65,54)"
         },
         "mode": "lines",
         "text": [
          "supplier_vendor_manufacturer_supply_company",
          "",
          "",
          "titanium_supplier_tikkurila_mineral_aluminum"
         ],
         "type": "scatter",
         "x": [
          0,
          0.8949951578360652,
          0.8949951578360652,
          0
         ],
         "xaxis": "x",
         "y": [
          -2115,
          -2115,
          -2125,
          -2125
         ],
         "yaxis": "y"
        },
        {
         "hoverinfo": "text",
         "marker": {
          "color": "rgb(255,65,54)"
         },
         "mode": "lines",
         "text": [
          "trucking_truck_trailer_automotive_vehicle",
          "",
          "",
          "titanium_supplier_vendor_manufacturer_factory"
         ],
         "type": "scatter",
         "x": [
          0,
          0.971852299944925,
          0.971852299944925,
          0.8949951578360652
         ],
         "xaxis": "x",
         "y": [
          -2105,
          -2105,
          -2120,
          -2120
         ],
         "yaxis": "y"
        },
        {
         "hoverinfo": "text",
         "marker": {
          "color": "rgb(35,205,205)"
         },
         "mode": "lines",
         "text": [
          "nickel_alloy_mined_metal_aluminum",
          "",
          "",
          "neon_gas_production_produce_automotive"
         ],
         "type": "scatter",
         "x": [
          0,
          0.9314512421978696,
          0.9314512421978696,
          0
         ],
         "xaxis": "x",
         "y": [
          -2135,
          -2135,
          -2145,
          -2145
         ],
         "yaxis": "y"
        },
        {
         "hoverinfo": "text",
         "marker": {
          "color": "rgb(0,116,217)"
         },
         "mode": "lines",
         "text": [
          "titanium_supplier_vendor_manufacturer_supply",
          "",
          "",
          "nickel_alloy_mined_aluminum_palladium"
         ],
         "type": "scatter",
         "x": [
          0.971852299944925,
          1.028904504788964,
          1.028904504788964,
          0.9314512421978696
         ],
         "xaxis": "x",
         "y": [
          -2112.5,
          -2112.5,
          -2140,
          -2140
         ],
         "yaxis": "y"
        },
        {
         "hoverinfo": "text",
         "marker": {
          "color": "rgb(61,153,112)"
         },
         "mode": "lines",
         "text": [
          "wiring_harness_wire_electrical_cable",
          "",
          "",
          "harness_cable_shortage_supplier_supply"
         ],
         "type": "scatter",
         "x": [
          0,
          0.6882840187466192,
          0.6882840187466192,
          0
         ],
         "xaxis": "x",
         "y": [
          -2155,
          -2155,
          -2165,
          -2165
         ],
         "yaxis": "y"
        },
        {
         "hoverinfo": "text",
         "marker": {
          "color": "rgb(0,116,217)"
         },
         "mode": "lines",
         "text": [
          "titanium_supplier_vendor_steelmaking_manufacturer",
          "",
          "",
          "wiring_harness_wire_electrical_cable"
         ],
         "type": "scatter",
         "x": [
          1.028904504788964,
          1.0842604448013748,
          1.0842604448013748,
          0.6882840187466192
         ],
         "xaxis": "x",
         "y": [
          -2126.25,
          -2126.25,
          -2160,
          -2160
         ],
         "yaxis": "y"
        },
        {
         "hoverinfo": "text",
         "marker": {
          "color": "rgb(0,116,217)"
         },
         "mode": "lines",
         "text": [
          "poland_polish_krakow_hungary_slovakia",
          "",
          "",
          "wiring_harness_wire_supplier_automaker"
         ],
         "type": "scatter",
         "x": [
          1.1059618923054493,
          1.2029941984460395,
          1.2029941984460395,
          1.0842604448013748
         ],
         "xaxis": "x",
         "y": [
          -2071.25,
          -2071.25,
          -2143.125,
          -2143.125
         ],
         "yaxis": "y"
        },
        {
         "hoverinfo": "text",
         "marker": {
          "color": "rgb(0,116,217)"
         },
         "mode": "lines",
         "text": [
          "wheat_agriculture_agricultural_maize_barley",
          "",
          "",
          "poland_hungary_romania_slovakia_krakow"
         ],
         "type": "scatter",
         "x": [
          1.1819276923797695,
          1.2459895383588169,
          1.2459895383588169,
          1.2029941984460395
         ],
         "xaxis": "x",
         "y": [
          -2005.625,
          -2005.625,
          -2107.1875,
          -2107.1875
         ],
         "yaxis": "y"
        },
        {
         "hoverinfo": "text",
         "marker": {
          "color": "rgb(0,116,217)"
         },
         "mode": "lines",
         "text": [
          "turkey_turkish_turkcell_egypt_meat",
          "",
          "",
          "wheat_agricultural_corn_crop_produce"
         ],
         "type": "scatter",
         "x": [
          0.4693828686835767,
          1.3006418134557718,
          1.3006418134557718,
          1.2459895383588169
         ],
         "xaxis": "x",
         "y": [
          -1960,
          -1960,
          -2056.40625,
          -2056.40625
         ],
         "yaxis": "y"
        },
        {
         "hoverinfo": "text",
         "marker": {
          "color": "rgb(0,116,217)"
         },
         "mode": "lines",
         "text": [
          "lumber_wood_uranium_bank_enrichment",
          "",
          "",
          "fertilizer_wheat_produce_corn_planting"
         ],
         "type": "scatter",
         "x": [
          1.286018243975702,
          1.3159219324131992,
          1.3159219324131992,
          1.3006418134557718
         ],
         "xaxis": "x",
         "y": [
          -1049.7602844238281,
          -1049.7602844238281,
          -2008.203125,
          -2008.203125
         ],
         "yaxis": "y"
        },
        {
         "hoverinfo": "text",
         "marker": {
          "color": "rgb(255,65,54)"
         },
         "mode": "lines",
         "text": [
          "business_activity_company_operate_customer",
          "",
          "",
          "activity_project_active_busy_manifesting"
         ],
         "type": "scatter",
         "x": [
          0,
          0.7177115550926492,
          0.7177115550926492,
          0
         ],
         "xaxis": "x",
         "y": [
          -2175,
          -2175,
          -2185,
          -2185
         ],
         "yaxis": "y"
        },
        {
         "hoverinfo": "text",
         "marker": {
          "color": "rgb(35,205,205)"
         },
         "mode": "lines",
         "text": [
          "announce_announcement_march_april_february",
          "",
          "",
          "march_business_retail_announce_delivery"
         ],
         "type": "scatter",
         "x": [
          0,
          0.7121096852209869,
          0.7121096852209869,
          0
         ],
         "xaxis": "x",
         "y": [
          -2195,
          -2195,
          -2205,
          -2205
         ],
         "yaxis": "y"
        },
        {
         "hoverinfo": "text",
         "marker": {
          "color": "rgb(35,205,205)"
         },
         "mode": "lines",
         "text": [
          "shipment_shipping_ship_arrive_delivery",
          "",
          "",
          "belarus_belarusian_kazakhstan_moldova_country"
         ],
         "type": "scatter",
         "x": [
          0,
          0.870150655358624,
          0.870150655358624,
          0
         ],
         "xaxis": "x",
         "y": [
          -2215,
          -2215,
          -2225,
          -2225
         ],
         "yaxis": "y"
        },
        {
         "hoverinfo": "text",
         "marker": {
          "color": "rgb(35,205,205)"
         },
         "mode": "lines",
         "text": [
          "announce_announcement_march_april_june",
          "",
          "",
          "belarus_belarusian_kazakhstan_moldova_country"
         ],
         "type": "scatter",
         "x": [
          0.7121096852209869,
          0.9471994264315224,
          0.9471994264315224,
          0.870150655358624
         ],
         "xaxis": "x",
         "y": [
          -2200,
          -2200,
          -2220,
          -2220
         ],
         "yaxis": "y"
        },
        {
         "hoverinfo": "text",
         "marker": {
          "color": "rgb(0,116,217)"
         },
         "mode": "lines",
         "text": [
          "activity_business_operate_active_busy",
          "",
          "",
          "belarus_belarusian_kazakhstan_moldova_country"
         ],
         "type": "scatter",
         "x": [
          0.7177115550926492,
          1.1214238217173433,
          1.1214238217173433,
          0.9471994264315224
         ],
         "xaxis": "x",
         "y": [
          -2180,
          -2180,
          -2210,
          -2210
         ],
         "yaxis": "y"
        },
        {
         "hoverinfo": "text",
         "marker": {
          "color": "rgb(133,20,75)"
         },
         "mode": "lines",
         "text": [
          "store_retailer_retail_distributor_marketplace",
          "",
          "",
          "coverage_optimizing_store_focus_market"
         ],
         "type": "scatter",
         "x": [
          0,
          0.5483152987599438,
          0.5483152987599438,
          0
         ],
         "xaxis": "x",
         "y": [
          -2235,
          -2235,
          -2245,
          -2245
         ],
         "yaxis": "y"
        },
        {
         "hoverinfo": "text",
         "marker": {
          "color": "rgb(0,116,217)"
         },
         "mode": "lines",
         "text": [
          "belarus_belarusian_kazakhstan_moldova_business",
          "",
          "",
          "store_retailer_retail_distributor_marketplace"
         ],
         "type": "scatter",
         "x": [
          1.1214238217173433,
          1.2404088762297387,
          1.2404088762297387,
          0.5483152987599438
         ],
         "xaxis": "x",
         "y": [
          -2195,
          -2195,
          -2240,
          -2240
         ],
         "yaxis": "y"
        },
        {
         "hoverinfo": "text",
         "marker": {
          "color": "rgb(0,116,217)"
         },
         "mode": "lines",
         "text": [
          "supplier_production_bank_fertilizer_subsidiary",
          "",
          "",
          "belarus_belarusian_kazakhstan_moldova_revenue"
         ],
         "type": "scatter",
         "x": [
          1.3159219324131992,
          1.3355912771656016,
          1.3355912771656016,
          1.2404088762297387
         ],
         "xaxis": "x",
         "y": [
          -1528.981704711914,
          -1528.981704711914,
          -2217.5,
          -2217.5
         ],
         "yaxis": "y"
        },
        {
         "hoverinfo": "text",
         "marker": {
          "color": "rgb(0,116,217)"
         },
         "mode": "lines",
         "text": [
          "trial_clinical_fda_patient_enrollment",
          "",
          "",
          "belarus_belarusian_kazakhstan_subsidiary_poland"
         ],
         "type": "scatter",
         "x": [
          1.0263952990568557,
          1.4190574758014234,
          1.4190574758014234,
          1.3355912771656016
         ],
         "xaxis": "x",
         "y": [
          -556.25,
          -556.25,
          -1873.240852355957,
          -1873.240852355957
         ],
         "yaxis": "y"
        },
        {
         "hoverinfo": "text",
         "marker": {
          "color": "rgb(255,220,0)"
         },
         "mode": "lines",
         "text": [
          "revenue_fx_earnings_aggregate_currency",
          "",
          "",
          "fx_impact_talk_order_effect"
         ],
         "type": "scatter",
         "x": [
          0,
          0.416498865756597,
          0.416498865756597,
          0
         ],
         "xaxis": "x",
         "y": [
          -2255,
          -2255,
          -2265,
          -2265
         ],
         "yaxis": "y"
        },
        {
         "hoverinfo": "text",
         "marker": {
          "color": "rgb(40,35,35)"
         },
         "mode": "lines",
         "text": [
          "talk_conversation_communicate_hear_say",
          "",
          "",
          "speech_talk_channel_minute_wording"
         ],
         "type": "scatter",
         "x": [
          0,
          0.4340318345119226,
          0.4340318345119226,
          0
         ],
         "xaxis": "x",
         "y": [
          -2275,
          -2275,
          -2285,
          -2285
         ],
         "yaxis": "y"
        },
        {
         "hoverinfo": "text",
         "marker": {
          "color": "rgb(0,116,217)"
         },
         "mode": "lines",
         "text": [
          "fx_revenue_currency_earnings_impact",
          "",
          "",
          "talk_conversation_communicate_speech_hear"
         ],
         "type": "scatter",
         "x": [
          0.416498865756597,
          1.232392334461719,
          1.232392334461719,
          0.4340318345119226
         ],
         "xaxis": "x",
         "y": [
          -2260,
          -2260,
          -2280,
          -2280
         ],
         "yaxis": "y"
        },
        {
         "hoverinfo": "text",
         "marker": {
          "color": "rgb(61,153,112)"
         },
         "mode": "lines",
         "text": [
          "let____",
          "",
          "",
          "start_starting_begin_beginning_commence"
         ],
         "type": "scatter",
         "x": [
          0,
          0.7536013029934185,
          0.7536013029934185,
          0
         ],
         "xaxis": "x",
         "y": [
          -2305,
          -2305,
          -2315,
          -2315
         ],
         "yaxis": "y"
        },
        {
         "hoverinfo": "text",
         "marker": {
          "color": "rgb(61,153,112)"
         },
         "mode": "lines",
         "text": [
          "start_begin_starting_beginning_let",
          "",
          "",
          "week_start_thursday_day_february"
         ],
         "type": "scatter",
         "x": [
          0.7536013029934185,
          0.8768806288254697,
          0.8768806288254697,
          0
         ],
         "xaxis": "x",
         "y": [
          -2310,
          -2310,
          -2325,
          -2325
         ],
         "yaxis": "y"
        },
        {
         "hoverinfo": "text",
         "marker": {
          "color": "rgb(61,153,112)"
         },
         "mode": "lines",
         "text": [
          "turn_let_reverse_flip_pull",
          "",
          "",
          "start_begin_starting_beginning_let"
         ],
         "type": "scatter",
         "x": [
          0,
          0.9197591401065007,
          0.9197591401065007,
          0.8768806288254697
         ],
         "xaxis": "x",
         "y": [
          -2295,
          -2295,
          -2317.5,
          -2317.5
         ],
         "yaxis": "y"
        },
        {
         "hoverinfo": "text",
         "marker": {
          "color": "rgb(255,65,54)"
         },
         "mode": "lines",
         "text": [
          "february_march_june_april_january",
          "",
          "",
          "march_february_forecast_january_announcement"
         ],
         "type": "scatter",
         "x": [
          0,
          0.6264492209280879,
          0.6264492209280879,
          0
         ],
         "xaxis": "x",
         "y": [
          -2335,
          -2335,
          -2345,
          -2345
         ],
         "yaxis": "y"
        },
        {
         "hoverinfo": "text",
         "marker": {
          "color": "rgb(0,116,217)"
         },
         "mode": "lines",
         "text": [
          "turn_let_reverse_flip_decide",
          "",
          "",
          "february_march_june_april_january"
         ],
         "type": "scatter",
         "x": [
          0.9197591401065007,
          1.1557342449347057,
          1.1557342449347057,
          0.6264492209280879
         ],
         "xaxis": "x",
         "y": [
          -2306.25,
          -2306.25,
          -2340,
          -2340
         ],
         "yaxis": "y"
        },
        {
         "hoverinfo": "text",
         "marker": {
          "color": "rgb(0,116,217)"
         },
         "mode": "lines",
         "text": [
          "talk_conversation_fx_impact_speech",
          "",
          "",
          "february_march_june_april_january"
         ],
         "type": "scatter",
         "x": [
          1.232392334461719,
          1.3472287364085087,
          1.3472287364085087,
          1.1557342449347057
         ],
         "xaxis": "x",
         "y": [
          -2270,
          -2270,
          -2323.125,
          -2323.125
         ],
         "yaxis": "y"
        },
        {
         "hoverinfo": "text",
         "marker": {
          "color": "rgb(35,205,205)"
         },
         "mode": "lines",
         "text": [
          "business_update_announce_status_acquire",
          "",
          "",
          "update_operation_provide_disclose_let"
         ],
         "type": "scatter",
         "x": [
          0,
          0.3239067364133207,
          0.3239067364133207,
          0
         ],
         "xaxis": "x",
         "y": [
          -2365,
          -2365,
          -2375,
          -2375
         ],
         "yaxis": "y"
        },
        {
         "hoverinfo": "text",
         "marker": {
          "color": "rgb(35,205,205)"
         },
         "mode": "lines",
         "text": [
          "relate_related_regard_breakdown_link",
          "",
          "",
          "update_announce_provide_status_operation"
         ],
         "type": "scatter",
         "x": [
          0,
          0.8304242642418145,
          0.8304242642418145,
          0.3239067364133207
         ],
         "xaxis": "x",
         "y": [
          -2355,
          -2355,
          -2370,
          -2370
         ],
         "yaxis": "y"
        },
        {
         "hoverinfo": "text",
         "marker": {
          "color": "rgb(61,153,112)"
         },
         "mode": "lines",
         "text": [
          "impact_comment_commenting_segment_report",
          "",
          "",
          "comment_commenting_remark_respond_response"
         ],
         "type": "scatter",
         "x": [
          0,
          0.3861470103243879,
          0.3861470103243879,
          0
         ],
         "xaxis": "x",
         "y": [
          -2385,
          -2385,
          -2395,
          -2395
         ],
         "yaxis": "y"
        },
        {
         "hoverinfo": "text",
         "marker": {
          "color": "rgb(0,116,217)"
         },
         "mode": "lines",
         "text": [
          "update_status_new_previously_link",
          "",
          "",
          "comment_commenting_remark_respond_response"
         ],
         "type": "scatter",
         "x": [
          0.8304242642418145,
          1.2998390921800098,
          1.2998390921800098,
          0.3861470103243879
         ],
         "xaxis": "x",
         "y": [
          -2362.5,
          -2362.5,
          -2390,
          -2390
         ],
         "yaxis": "y"
        },
        {
         "hoverinfo": "text",
         "marker": {
          "color": "rgb(0,116,217)"
         },
         "mode": "lines",
         "text": [
          "february_march_june_april_january",
          "",
          "",
          "comment_commenting_respond_remark_response"
         ],
         "type": "scatter",
         "x": [
          1.3472287364085087,
          1.407401931276995,
          1.407401931276995,
          1.2998390921800098
         ],
         "xaxis": "x",
         "y": [
          -2296.5625,
          -2296.5625,
          -2376.25,
          -2376.25
         ],
         "yaxis": "y"
        },
        {
         "hoverinfo": "text",
         "marker": {
          "color": "rgb(255,65,54)"
         },
         "mode": "lines",
         "text": [
          "course_study_pursue_concern_guide",
          "",
          "",
          "course_yes___"
         ],
         "type": "scatter",
         "x": [
          0,
          0.6010091101409804,
          0.6010091101409804,
          0
         ],
         "xaxis": "x",
         "y": [
          -2415,
          -2415,
          -2425,
          -2425
         ],
         "yaxis": "y"
        },
        {
         "hoverinfo": "text",
         "marker": {
          "color": "rgb(255,65,54)"
         },
         "mode": "lines",
         "text": [
          "impact_economics_industry_learning_development",
          "",
          "",
          "course_currently_shall_aware_secondly"
         ],
         "type": "scatter",
         "x": [
          0,
          0.647710689412125,
          0.647710689412125,
          0.6010091101409804
         ],
         "xaxis": "x",
         "y": [
          -2405,
          -2405,
          -2420,
          -2420
         ],
         "yaxis": "y"
        },
        {
         "hoverinfo": "text",
         "marker": {
          "color": "rgb(35,205,205)"
         },
         "mode": "lines",
         "text": [
          "affect_raging_mood_illustrate_zumtobel",
          "",
          "",
          "effect_affect_course_mood_bit"
         ],
         "type": "scatter",
         "x": [
          0,
          0.7363383685998268,
          0.7363383685998268,
          0
         ],
         "xaxis": "x",
         "y": [
          -2435,
          -2435,
          -2445,
          -2445
         ],
         "yaxis": "y"
        },
        {
         "hoverinfo": "text",
         "marker": {
          "color": "rgb(133,20,75)"
         },
         "mode": "lines",
         "text": [
          "effect_affect_let_knock_reflection",
          "",
          "",
          "come_knock_happen_shut_stop"
         ],
         "type": "scatter",
         "x": [
          0,
          0.8729535347794344,
          0.8729535347794344,
          0
         ],
         "xaxis": "x",
         "y": [
          -2455,
          -2455,
          -2465,
          -2465
         ],
         "yaxis": "y"
        },
        {
         "hoverinfo": "text",
         "marker": {
          "color": "rgb(0,116,217)"
         },
         "mode": "lines",
         "text": [
          "affect_effect_mood_raging_situation",
          "",
          "",
          "effect_affect_knock_reflection_turn"
         ],
         "type": "scatter",
         "x": [
          0.7363383685998268,
          1.0149274487540774,
          1.0149274487540774,
          0.8729535347794344
         ],
         "xaxis": "x",
         "y": [
          -2440,
          -2440,
          -2460,
          -2460
         ],
         "yaxis": "y"
        },
        {
         "hoverinfo": "text",
         "marker": {
          "color": "rgb(0,116,217)"
         },
         "mode": "lines",
         "text": [
          "course_definitely_currently_shall_aware",
          "",
          "",
          "effect_affect_illustrate_subject_reflection"
         ],
         "type": "scatter",
         "x": [
          0.647710689412125,
          1.1706929933011427,
          1.1706929933011427,
          1.0149274487540774
         ],
         "xaxis": "x",
         "y": [
          -2412.5,
          -2412.5,
          -2450,
          -2450
         ],
         "yaxis": "y"
        },
        {
         "hoverinfo": "text",
         "marker": {
          "color": "rgb(255,220,0)"
         },
         "mode": "lines",
         "text": [
          "happen_know_come_obviously_clearly",
          "",
          "",
          "happen_go_know_come_situation"
         ],
         "type": "scatter",
         "x": [
          0,
          0.5614966458550212,
          0.5614966458550212,
          0
         ],
         "xaxis": "x",
         "y": [
          -2475,
          -2475,
          -2485,
          -2485
         ],
         "yaxis": "y"
        },
        {
         "hoverinfo": "text",
         "marker": {
          "color": "rgb(40,35,35)"
         },
         "mode": "lines",
         "text": [
          "end_finish_final_outcome_stop",
          "",
          "",
          "problem_issue_solution_help_solve"
         ],
         "type": "scatter",
         "x": [
          0,
          0.888878226334843,
          0.888878226334843,
          0
         ],
         "xaxis": "x",
         "y": [
          -2495,
          -2495,
          -2505,
          -2505
         ],
         "yaxis": "y"
        },
        {
         "hoverinfo": "text",
         "marker": {
          "color": "rgb(61,153,112)"
         },
         "mode": "lines",
         "text": [
          "situation_scenario_complication_case_relationship",
          "",
          "",
          "situation_horrible_terrible_awful_circumstance"
         ],
         "type": "scatter",
         "x": [
          0,
          0.8153616864851361,
          0.8153616864851361,
          0
         ],
         "xaxis": "x",
         "y": [
          -2515,
          -2515,
          -2525,
          -2525
         ],
         "yaxis": "y"
        },
        {
         "hoverinfo": "text",
         "marker": {
          "color": "rgb(61,153,112)"
         },
         "mode": "lines",
         "text": [
          "situation_scenario_circumstance_complication_case",
          "",
          "",
          "drive_driver_crucial_situation_prepare"
         ],
         "type": "scatter",
         "x": [
          0.8153616864851361,
          0.9523003317726437,
          0.9523003317726437,
          0
         ],
         "xaxis": "x",
         "y": [
          -2520,
          -2520,
          -2535,
          -2535
         ],
         "yaxis": "y"
        },
        {
         "hoverinfo": "text",
         "marker": {
          "color": "rgb(0,116,217)"
         },
         "mode": "lines",
         "text": [
          "problem_issue_solution_get_receive",
          "",
          "",
          "situation_scenario_circumstance_complication_case"
         ],
         "type": "scatter",
         "x": [
          0.888878226334843,
          1.0145757852169213,
          1.0145757852169213,
          0.9523003317726437
         ],
         "xaxis": "x",
         "y": [
          -2500,
          -2500,
          -2527.5,
          -2527.5
         ],
         "yaxis": "y"
        },
        {
         "hoverinfo": "text",
         "marker": {
          "color": "rgb(255,65,54)"
         },
         "mode": "lines",
         "text": [
          "situation_scenario_circumstance_dilemma_word",
          "",
          "",
          "word_term_english_glory_"
         ],
         "type": "scatter",
         "x": [
          0,
          0.6711364730973823,
          0.6711364730973823,
          0
         ],
         "xaxis": "x",
         "y": [
          -2545,
          -2545,
          -2555,
          -2555
         ],
         "yaxis": "y"
        },
        {
         "hoverinfo": "text",
         "marker": {
          "color": "rgb(0,116,217)"
         },
         "mode": "lines",
         "text": [
          "situation_scenario_problem_issue_complication",
          "",
          "",
          "word_situation_scenario_task_circumstance"
         ],
         "type": "scatter",
         "x": [
          1.0145757852169213,
          1.1042870659526478,
          1.1042870659526478,
          0.6711364730973823
         ],
         "xaxis": "x",
         "y": [
          -2513.75,
          -2513.75,
          -2550,
          -2550
         ],
         "yaxis": "y"
        },
        {
         "hoverinfo": "text",
         "marker": {
          "color": "rgb(0,116,217)"
         },
         "mode": "lines",
         "text": [
          "happen_go_know_come_situation",
          "",
          "",
          "word_situation_english_answer_scenario"
         ],
         "type": "scatter",
         "x": [
          0.5614966458550212,
          1.2033333191342703,
          1.2033333191342703,
          1.1042870659526478
         ],
         "xaxis": "x",
         "y": [
          -2480,
          -2480,
          -2531.875,
          -2531.875
         ],
         "yaxis": "y"
        },
        {
         "hoverinfo": "text",
         "marker": {
          "color": "rgb(35,205,205)"
         },
         "mode": "lines",
         "text": [
          "disruption_disrupt_disruptive_interruption_disturb",
          "",
          "",
          "minimal_minimum_fourth_small_direct"
         ],
         "type": "scatter",
         "x": [
          0,
          0.9021641657836469,
          0.9021641657836469,
          0
         ],
         "xaxis": "x",
         "y": [
          -2565,
          -2565,
          -2575,
          -2575
         ],
         "yaxis": "y"
        },
        {
         "hoverinfo": "text",
         "marker": {
          "color": "rgb(61,153,112)"
         },
         "mode": "lines",
         "text": [
          "impact_impacting_effect_damage_hit",
          "",
          "",
          "impact_business_effect_affect_industry"
         ],
         "type": "scatter",
         "x": [
          0,
          0.6917364450472951,
          0.6917364450472951,
          0
         ],
         "xaxis": "x",
         "y": [
          -2585,
          -2585,
          -2595,
          -2595
         ],
         "yaxis": "y"
        },
        {
         "hoverinfo": "text",
         "marker": {
          "color": "rgb(61,153,112)"
         },
         "mode": "lines",
         "text": [
          "impact_impacting_effect_damage_affect",
          "",
          "",
          "consequence_implication_circumstance_repercussion_sentence"
         ],
         "type": "scatter",
         "x": [
          0.6917364450472951,
          0.9355039469368814,
          0.9355039469368814,
          0
         ],
         "xaxis": "x",
         "y": [
          -2590,
          -2590,
          -2605,
          -2605
         ],
         "yaxis": "y"
        },
        {
         "hoverinfo": "text",
         "marker": {
          "color": "rgb(0,116,217)"
         },
         "mode": "lines",
         "text": [
          "disruption_minimal_minimum_disruptive_disrupt",
          "",
          "",
          "impact_impacting_effect_damage_affect"
         ],
         "type": "scatter",
         "x": [
          0.9021641657836469,
          1.0234121787310955,
          1.0234121787310955,
          0.9355039469368814
         ],
         "xaxis": "x",
         "y": [
          -2570,
          -2570,
          -2597.5,
          -2597.5
         ],
         "yaxis": "y"
        },
        {
         "hoverinfo": "text",
         "marker": {
          "color": "rgb(255,65,54)"
         },
         "mode": "lines",
         "text": [
          "business_perspective_bigcommerce_market_customer",
          "",
          "",
          "mean_meaningful_interpretation_basically_say"
         ],
         "type": "scatter",
         "x": [
          0,
          0.7964885812759914,
          0.7964885812759914,
          0
         ],
         "xaxis": "x",
         "y": [
          -2615,
          -2615,
          -2625,
          -2625
         ],
         "yaxis": "y"
        },
        {
         "hoverinfo": "text",
         "marker": {
          "color": "rgb(0,116,217)"
         },
         "mode": "lines",
         "text": [
          "impact_impacting_effect_damage_affect",
          "",
          "",
          "mean_business_perspective_interpretation_meaningful"
         ],
         "type": "scatter",
         "x": [
          1.0234121787310955,
          1.0490268325712822,
          1.0490268325712822,
          0.7964885812759914
         ],
         "xaxis": "x",
         "y": [
          -2583.75,
          -2583.75,
          -2620,
          -2620
         ],
         "yaxis": "y"
        },
        {
         "hoverinfo": "text",
         "marker": {
          "color": "rgb(35,205,205)"
         },
         "mode": "lines",
         "text": [
          "diamond_market_impacting_decline_disruption",
          "",
          "",
          "market_opportunity_media_strategically_cartel"
         ],
         "type": "scatter",
         "x": [
          0,
          0.7911969499315152,
          0.7911969499315152,
          0
         ],
         "xaxis": "x",
         "y": [
          -2635,
          -2635,
          -2645,
          -2645
         ],
         "yaxis": "y"
        },
        {
         "hoverinfo": "text",
         "marker": {
          "color": "rgb(35,205,205)"
         },
         "mode": "lines",
         "text": [
          "market_opportunity_media_cartel_application",
          "",
          "",
          "market_europe_foundation_financial_european"
         ],
         "type": "scatter",
         "x": [
          0.7911969499315152,
          0.9357480055058917,
          0.9357480055058917,
          0
         ],
         "xaxis": "x",
         "y": [
          -2640,
          -2640,
          -2655,
          -2655
         ],
         "yaxis": "y"
        },
        {
         "hoverinfo": "text",
         "marker": {
          "color": "rgb(0,116,217)"
         },
         "mode": "lines",
         "text": [
          "impact_impacting_effect_damage_affect",
          "",
          "",
          "market_opportunity_media_cartel_application"
         ],
         "type": "scatter",
         "x": [
          1.0490268325712822,
          1.054110700516163,
          1.054110700516163,
          0.9357480055058917
         ],
         "xaxis": "x",
         "y": [
          -2601.875,
          -2601.875,
          -2647.5,
          -2647.5
         ],
         "yaxis": "y"
        },
        {
         "hoverinfo": "text",
         "marker": {
          "color": "rgb(133,20,75)"
         },
         "mode": "lines",
         "text": [
          "factor_factore_number_contribute_effect",
          "",
          "",
          "evolution_evolve_emergence_emerge_environment"
         ],
         "type": "scatter",
         "x": [
          0,
          0.8915197571196195,
          0.8915197571196195,
          0
         ],
         "xaxis": "x",
         "y": [
          -2665,
          -2665,
          -2675,
          -2675
         ],
         "yaxis": "y"
        },
        {
         "hoverinfo": "text",
         "marker": {
          "color": "rgb(133,20,75)"
         },
         "mode": "lines",
         "text": [
          "macro_impact_consequence_operation_dynamic",
          "",
          "",
          "environment_environmental_aerovironment_volatile_sustainability"
         ],
         "type": "scatter",
         "x": [
          0,
          0.8629494822445232,
          0.8629494822445232,
          0
         ],
         "xaxis": "x",
         "y": [
          -2685,
          -2685,
          -2695,
          -2695
         ],
         "yaxis": "y"
        },
        {
         "hoverinfo": "text",
         "marker": {
          "color": "rgb(133,20,75)"
         },
         "mode": "lines",
         "text": [
          "evolution_evolve_emergence_emerge_variety",
          "",
          "",
          "macro_disrupt_relevance_overview_aerovironment"
         ],
         "type": "scatter",
         "x": [
          0.8915197571196195,
          0.9929334498680579,
          0.9929334498680579,
          0.8629494822445232
         ],
         "xaxis": "x",
         "y": [
          -2670,
          -2670,
          -2690,
          -2690
         ],
         "yaxis": "y"
        },
        {
         "hoverinfo": "text",
         "marker": {
          "color": "rgb(0,116,217)"
         },
         "mode": "lines",
         "text": [
          "impact_impacting_effect_damage_affect",
          "",
          "",
          "macro_macroeconomy_evolve_evolution_emergence"
         ],
         "type": "scatter",
         "x": [
          1.054110700516163,
          1.1189358734979147,
          1.1189358734979147,
          0.9929334498680579
         ],
         "xaxis": "x",
         "y": [
          -2624.6875,
          -2624.6875,
          -2680,
          -2680
         ],
         "yaxis": "y"
        },
        {
         "hoverinfo": "text",
         "marker": {
          "color": "rgb(255,220,0)"
         },
         "mode": "lines",
         "text": [
          "monitoring_monitor_development_examine_analyze",
          "",
          "",
          "development_develop_create_education_outline"
         ],
         "type": "scatter",
         "x": [
          0,
          0.7212893735057219,
          0.7212893735057219,
          0
         ],
         "xaxis": "x",
         "y": [
          -2705,
          -2705,
          -2715,
          -2715
         ],
         "yaxis": "y"
        },
        {
         "hoverinfo": "text",
         "marker": {
          "color": "rgb(40,35,35)"
         },
         "mode": "lines",
         "text": [
          "watch_observing_event_mention_scenario",
          "",
          "",
          "predict_prediction_speculate_think_go"
         ],
         "type": "scatter",
         "x": [
          0,
          0.9221385826449096,
          0.9221385826449096,
          0
         ],
         "xaxis": "x",
         "y": [
          -2725,
          -2725,
          -2735,
          -2735
         ],
         "yaxis": "y"
        },
        {
         "hoverinfo": "text",
         "marker": {
          "color": "rgb(40,35,35)"
         },
         "mode": "lines",
         "text": [
          "predict_prediction_scenario_speculate_say",
          "",
          "",
          "forecast_forecasting_predict_tomorrow_unpredictable"
         ],
         "type": "scatter",
         "x": [
          0.9221385826449096,
          0.9658889313017314,
          0.9658889313017314,
          0
         ],
         "xaxis": "x",
         "y": [
          -2730,
          -2730,
          -2745,
          -2745
         ],
         "yaxis": "y"
        },
        {
         "hoverinfo": "text",
         "marker": {
          "color": "rgb(0,116,217)"
         },
         "mode": "lines",
         "text": [
          "monitoring_monitor_development_assess_develop",
          "",
          "",
          "forecast_forecasting_predict_prediction_unpredictable"
         ],
         "type": "scatter",
         "x": [
          0.7212893735057219,
          1.0288749726721982,
          1.0288749726721982,
          0.9658889313017314
         ],
         "xaxis": "x",
         "y": [
          -2710,
          -2710,
          -2737.5,
          -2737.5
         ],
         "yaxis": "y"
        },
        {
         "hoverinfo": "text",
         "marker": {
          "color": "rgb(0,116,217)"
         },
         "mode": "lines",
         "text": [
          "impact_impacting_effect_damage_affect",
          "",
          "",
          "monitoring_monitor_development_assess_develop"
         ],
         "type": "scatter",
         "x": [
          1.1189358734979147,
          1.1883415907983366,
          1.1883415907983366,
          1.0288749726721982
         ],
         "xaxis": "x",
         "y": [
          -2652.34375,
          -2652.34375,
          -2723.75,
          -2723.75
         ],
         "yaxis": "y"
        },
        {
         "hoverinfo": "text",
         "marker": {
          "color": "rgb(0,116,217)"
         },
         "mode": "lines",
         "text": [
          "word_situation_scenario_english_circumstance",
          "",
          "",
          "monitoring_development_develop_impacting_mitigation"
         ],
         "type": "scatter",
         "x": [
          1.2033333191342703,
          1.2477502990805125,
          1.2477502990805125,
          1.1883415907983366
         ],
         "xaxis": "x",
         "y": [
          -2505.9375,
          -2505.9375,
          -2688.046875,
          -2688.046875
         ],
         "yaxis": "y"
        },
        {
         "hoverinfo": "text",
         "marker": {
          "color": "rgb(61,153,112)"
         },
         "mode": "lines",
         "text": [
          "business_small_tiny_company_wholesale",
          "",
          "",
          "small_tiny_large_little_big"
         ],
         "type": "scatter",
         "x": [
          0,
          0.44587150816305465,
          0.44587150816305465,
          0
         ],
         "xaxis": "x",
         "y": [
          -2755,
          -2755,
          -2765,
          -2765
         ],
         "yaxis": "y"
        },
        {
         "hoverinfo": "text",
         "marker": {
          "color": "rgb(0,116,217)"
         },
         "mode": "lines",
         "text": [
          "monitoring_forecast_impact_development_predict",
          "",
          "",
          "business_small_tiny_company_wholesale"
         ],
         "type": "scatter",
         "x": [
          1.2477502990805125,
          1.3030920515094027,
          1.3030920515094027,
          0.44587150816305465
         ],
         "xaxis": "x",
         "y": [
          -2596.9921875,
          -2596.9921875,
          -2760,
          -2760
         ],
         "yaxis": "y"
        },
        {
         "hoverinfo": "text",
         "marker": {
          "color": "rgb(0,116,217)"
         },
         "mode": "lines",
         "text": [
          "course_definitely_currently_shall_secondly",
          "",
          "",
          "monitoring_situation_monitor_watch_disruption"
         ],
         "type": "scatter",
         "x": [
          1.1706929933011427,
          1.3739365604828033,
          1.3739365604828033,
          1.3030920515094027
         ],
         "xaxis": "x",
         "y": [
          -2431.25,
          -2431.25,
          -2678.49609375,
          -2678.49609375
         ],
         "yaxis": "y"
        },
        {
         "hoverinfo": "text",
         "marker": {
          "color": "rgb(0,116,217)"
         },
         "mode": "lines",
         "text": [
          "comment_commenting_respond_response_answer",
          "",
          "",
          "course_certainly_impact_situation_clearly"
         ],
         "type": "scatter",
         "x": [
          1.407401931276995,
          1.4732822524484273,
          1.4732822524484273,
          1.3739365604828033
         ],
         "xaxis": "x",
         "y": [
          -2336.40625,
          -2336.40625,
          -2554.873046875,
          -2554.873046875
         ],
         "yaxis": "y"
        },
        {
         "hoverinfo": "text",
         "marker": {
          "color": "rgb(0,116,217)"
         },
         "mode": "lines",
         "text": [
          "belarus_belarusian_kazakhstan_poland_romania",
          "",
          "",
          "impact_effect_situation_business_affect"
         ],
         "type": "scatter",
         "x": [
          1.4190574758014234,
          1.4994442029078578,
          1.4994442029078578,
          1.4732822524484273
         ],
         "xaxis": "x",
         "y": [
          -1214.7454261779785,
          -1214.7454261779785,
          -2445.6396484375,
          -2445.6396484375
         ],
         "yaxis": "y"
        },
        {
         "hoverinfo": "text",
         "marker": {
          "color": "rgb(0,116,217)"
         },
         "mode": "lines",
         "text": [
          "eur_impairment_asset_expense_income",
          "",
          "",
          "belarus_belarusian_kazakhstan_poland_impact"
         ],
         "type": "scatter",
         "x": [
          1.3846797943531892,
          1.5716068528070657,
          1.5716068528070657,
          1.4994442029078578
         ],
         "xaxis": "x",
         "y": [
          -378.0859375,
          -378.0859375,
          -1830.1925373077393,
          -1830.1925373077393
         ],
         "yaxis": "y"
        },
        {
         "hoverinfo": "text",
         "marker": {
          "color": "rgb(255,65,54)"
         },
         "mode": "lines",
         "text": [
          "pricing_raw_cost_aluminium_price",
          "",
          "",
          "raw_material_tissue_ceramic_recycled"
         ],
         "type": "scatter",
         "x": [
          0,
          0.2966193912448174,
          0.2966193912448174,
          0
         ],
         "xaxis": "x",
         "y": [
          -2785,
          -2785,
          -2795,
          -2795
         ],
         "yaxis": "y"
        },
        {
         "hoverinfo": "text",
         "marker": {
          "color": "rgb(255,65,54)"
         },
         "mode": "lines",
         "text": [
          "forecast_energy_scarcity_regionally_raw",
          "",
          "",
          "raw_material_tissue_packaging_recycled"
         ],
         "type": "scatter",
         "x": [
          0,
          0.4666354485688935,
          0.4666354485688935,
          0.2966193912448174
         ],
         "xaxis": "x",
         "y": [
          -2775,
          -2775,
          -2790,
          -2790
         ],
         "yaxis": "y"
        },
        {
         "hoverinfo": "text",
         "marker": {
          "color": "rgb(35,205,205)"
         },
         "mode": "lines",
         "text": [
          "iron_steel_supply_production_produce",
          "",
          "",
          "pig_iron_ferrous_steel_steelmaker"
         ],
         "type": "scatter",
         "x": [
          0,
          0.6314101211051074,
          0.6314101211051074,
          0
         ],
         "xaxis": "x",
         "y": [
          -2805,
          -2805,
          -2815,
          -2815
         ],
         "yaxis": "y"
        },
        {
         "hoverinfo": "text",
         "marker": {
          "color": "rgb(61,153,112)"
         },
         "mode": "lines",
         "text": [
          "metal_alloy_copper_steel_aluminum",
          "",
          "",
          "steel_pricing_demand_market_alloy"
         ],
         "type": "scatter",
         "x": [
          0,
          0.5761513326414354,
          0.5761513326414354,
          0
         ],
         "xaxis": "x",
         "y": [
          -2825,
          -2825,
          -2835,
          -2835
         ],
         "yaxis": "y"
        },
        {
         "hoverinfo": "text",
         "marker": {
          "color": "rgb(61,153,112)"
         },
         "mode": "lines",
         "text": [
          "steel_alloy_aluminum_production_metal",
          "",
          "",
          "aluminium_aluminum_alumina_al_supplier"
         ],
         "type": "scatter",
         "x": [
          0.5761513326414354,
          0.8383399277430148,
          0.8383399277430148,
          0
         ],
         "xaxis": "x",
         "y": [
          -2830,
          -2830,
          -2845,
          -2845
         ],
         "yaxis": "y"
        },
        {
         "hoverinfo": "text",
         "marker": {
          "color": "rgb(0,116,217)"
         },
         "mode": "lines",
         "text": [
          "pig_iron_ferrous_steel_steelmaker",
          "",
          "",
          "steel_alloy_aluminium_aluminum_stainless"
         ],
         "type": "scatter",
         "x": [
          0.6314101211051074,
          1.2422081579731277,
          1.2422081579731277,
          0.8383399277430148
         ],
         "xaxis": "x",
         "y": [
          -2810,
          -2810,
          -2837.5,
          -2837.5
         ],
         "yaxis": "y"
        },
        {
         "hoverinfo": "text",
         "marker": {
          "color": "rgb(255,65,54)"
         },
         "mode": "lines",
         "text": [
          "diesel_petrol_petroleum_refinery_fuel",
          "",
          "",
          "crack_shortage_cracker_demand_supply"
         ],
         "type": "scatter",
         "x": [
          0,
          0.7783423250161186,
          0.7783423250161186,
          0
         ],
         "xaxis": "x",
         "y": [
          -2855,
          -2855,
          -2865,
          -2865
         ],
         "yaxis": "y"
        },
        {
         "hoverinfo": "text",
         "marker": {
          "color": "rgb(35,205,205)"
         },
         "mode": "lines",
         "text": [
          "barrel_flow_crude_steep_volume",
          "",
          "",
          "petroleum_crude_oil_refinery_fuel"
         ],
         "type": "scatter",
         "x": [
          0,
          0.7021238002999143,
          0.7021238002999143,
          0
         ],
         "xaxis": "x",
         "y": [
          -2885,
          -2885,
          -2895,
          -2895
         ],
         "yaxis": "y"
        },
        {
         "hoverinfo": "text",
         "marker": {
          "color": "rgb(35,205,205)"
         },
         "mode": "lines",
         "text": [
          "consolidation_production_barrel_demand_increase",
          "",
          "",
          "oil_petroleum_crude_refinery_fuel"
         ],
         "type": "scatter",
         "x": [
          0,
          0.7912987642936851,
          0.7912987642936851,
          0.7021238002999143
         ],
         "xaxis": "x",
         "y": [
          -2875,
          -2875,
          -2890,
          -2890
         ],
         "yaxis": "y"
        },
        {
         "hoverinfo": "text",
         "marker": {
          "color": "rgb(0,116,217)"
         },
         "mode": "lines",
         "text": [
          "diesel_shortage_petrol_crack_petroleum",
          "",
          "",
          "oil_petroleum_refinery_export_crude"
         ],
         "type": "scatter",
         "x": [
          0.7783423250161186,
          1.0985616156094649,
          1.0985616156094649,
          0.7912987642936851
         ],
         "xaxis": "x",
         "y": [
          -2860,
          -2860,
          -2882.5,
          -2882.5
         ],
         "yaxis": "y"
        },
        {
         "hoverinfo": "text",
         "marker": {
          "color": "rgb(133,20,75)"
         },
         "mode": "lines",
         "text": [
          "coal_gas_market_shortage_demand",
          "",
          "",
          "export_exporting_exporter_import_production"
         ],
         "type": "scatter",
         "x": [
          0,
          0.8439448600288073,
          0.8439448600288073,
          0
         ],
         "xaxis": "x",
         "y": [
          -2905,
          -2905,
          -2915,
          -2915
         ],
         "yaxis": "y"
        },
        {
         "hoverinfo": "text",
         "marker": {
          "color": "rgb(133,20,75)"
         },
         "mode": "lines",
         "text": [
          "tonnage_tonne_ton_lpg_hydrocarbon",
          "",
          "",
          "freight_ton_transport_increase_demand"
         ],
         "type": "scatter",
         "x": [
          0,
          0.7827592650012066,
          0.7827592650012066,
          0
         ],
         "xaxis": "x",
         "y": [
          -2925,
          -2925,
          -2935,
          -2935
         ],
         "yaxis": "y"
        },
        {
         "hoverinfo": "text",
         "marker": {
          "color": "rgb(133,20,75)"
         },
         "mode": "lines",
         "text": [
          "coal_gas_market_supply_demand",
          "",
          "",
          "tonnage_tonne_ton_lpg_demand"
         ],
         "type": "scatter",
         "x": [
          0.8439448600288073,
          0.9187192771472908,
          0.9187192771472908,
          0.7827592650012066
         ],
         "xaxis": "x",
         "y": [
          -2910,
          -2910,
          -2930,
          -2930
         ],
         "yaxis": "y"
        },
        {
         "hoverinfo": "text",
         "marker": {
          "color": "rgb(255,220,0)"
         },
         "mode": "lines",
         "text": [
          "grain_sea_exporting_export_seaborne",
          "",
          "",
          "grain_wheat_production_food_market"
         ],
         "type": "scatter",
         "x": [
          0,
          0.5812462407082327,
          0.5812462407082327,
          0
         ],
         "xaxis": "x",
         "y": [
          -2945,
          -2945,
          -2955,
          -2955
         ],
         "yaxis": "y"
        },
        {
         "hoverinfo": "text",
         "marker": {
          "color": "rgb(0,116,217)"
         },
         "mode": "lines",
         "text": [
          "coal_market_demand_gas_supply",
          "",
          "",
          "grain_ton_sea_food_market"
         ],
         "type": "scatter",
         "x": [
          0.9187192771472908,
          1.0668161382227364,
          1.0668161382227364,
          0.5812462407082327
         ],
         "xaxis": "x",
         "y": [
          -2920,
          -2920,
          -2950,
          -2950
         ],
         "yaxis": "y"
        },
        {
         "hoverinfo": "text",
         "marker": {
          "color": "rgb(0,116,217)"
         },
         "mode": "lines",
         "text": [
          "oil_petroleum_refinery_crude_gasoline",
          "",
          "",
          "coal_market_demand_gas_supply"
         ],
         "type": "scatter",
         "x": [
          1.0985616156094649,
          1.3149502690149675,
          1.3149502690149675,
          1.0668161382227364
         ],
         "xaxis": "x",
         "y": [
          -2871.25,
          -2871.25,
          -2935,
          -2935
         ],
         "yaxis": "y"
        },
        {
         "hoverinfo": "text",
         "marker": {
          "color": "rgb(0,116,217)"
         },
         "mode": "lines",
         "text": [
          "pig_iron_ferrous_supplier_steel",
          "",
          "",
          "petroleum_refinery_coal_oil_diesel"
         ],
         "type": "scatter",
         "x": [
          1.2422081579731277,
          1.3655782106227234,
          1.3655782106227234,
          1.3149502690149675
         ],
         "xaxis": "x",
         "y": [
          -2823.75,
          -2823.75,
          -2903.125,
          -2903.125
         ],
         "yaxis": "y"
        },
        {
         "hoverinfo": "text",
         "marker": {
          "color": "rgb(40,35,35)"
         },
         "mode": "lines",
         "text": [
          "energy_electricity_renewable_demand_fuel",
          "",
          "",
          "fuel_renewable_eu_repowereu_co2"
         ],
         "type": "scatter",
         "x": [
          0,
          0.5939925081640112,
          0.5939925081640112,
          0
         ],
         "xaxis": "x",
         "y": [
          -2975,
          -2975,
          -2985,
          -2985
         ],
         "yaxis": "y"
        },
        {
         "hoverinfo": "text",
         "marker": {
          "color": "rgb(40,35,35)"
         },
         "mode": "lines",
         "text": [
          "oil_gas_co2_climate_sourcing",
          "",
          "",
          "energy_electricity_renewable_power_fuel"
         ],
         "type": "scatter",
         "x": [
          0,
          0.8038476304663515,
          0.8038476304663515,
          0.5939925081640112
         ],
         "xaxis": "x",
         "y": [
          -2965,
          -2965,
          -2980,
          -2980
         ],
         "yaxis": "y"
        },
        {
         "hoverinfo": "text",
         "marker": {
          "color": "rgb(61,153,112)"
         },
         "mode": "lines",
         "text": [
          "gas_supply_explosion_natural_supplies",
          "",
          "",
          "gas_europe_eu_belgium_germany"
         ],
         "type": "scatter",
         "x": [
          0,
          0.4135817677947854,
          0.4135817677947854,
          0
         ],
         "xaxis": "x",
         "y": [
          -3005,
          -3005,
          -3015,
          -3015
         ],
         "yaxis": "y"
        },
        {
         "hoverinfo": "text",
         "marker": {
          "color": "rgb(61,153,112)"
         },
         "mode": "lines",
         "text": [
          "gas_supply_chemical_natural_supplies",
          "",
          "",
          "gas_demand_market_commodity_supply"
         ],
         "type": "scatter",
         "x": [
          0.4135817677947854,
          0.8378480679326457,
          0.8378480679326457,
          0
         ],
         "xaxis": "x",
         "y": [
          -3010,
          -3010,
          -3025,
          -3025
         ],
         "yaxis": "y"
        },
        {
         "hoverinfo": "text",
         "marker": {
          "color": "rgb(61,153,112)"
         },
         "mode": "lines",
         "text": [
          "pipeline_pipe_gas_lng_demand",
          "",
          "",
          "gas_supply_natural_chemical_shortage"
         ],
         "type": "scatter",
         "x": [
          0,
          0.8799547789107239,
          0.8799547789107239,
          0.8378480679326457
         ],
         "xaxis": "x",
         "y": [
          -2995,
          -2995,
          -3017.5,
          -3017.5
         ],
         "yaxis": "y"
        },
        {
         "hoverinfo": "text",
         "marker": {
          "color": "rgb(61,153,112)"
         },
         "mode": "lines",
         "text": [
          "gas_supply_pipe_pipeline_supplies",
          "",
          "",
          "uniper_gas_unipro_curtailment_subsidiary"
         ],
         "type": "scatter",
         "x": [
          0.8799547789107239,
          0.9447176224521096,
          0.9447176224521096,
          0
         ],
         "xaxis": "x",
         "y": [
          -3006.25,
          -3006.25,
          -3035,
          -3035
         ],
         "yaxis": "y"
        },
        {
         "hoverinfo": "text",
         "marker": {
          "color": "rgb(0,116,217)"
         },
         "mode": "lines",
         "text": [
          "energy_renewable_electricity_fuel_power",
          "",
          "",
          "gas_pipeline_pipe_supply_lng"
         ],
         "type": "scatter",
         "x": [
          0.8038476304663515,
          1.0580972795031107,
          1.0580972795031107,
          0.9447176224521096
         ],
         "xaxis": "x",
         "y": [
          -2972.5,
          -2972.5,
          -3020.625,
          -3020.625
         ],
         "yaxis": "y"
        },
        {
         "hoverinfo": "text",
         "marker": {
          "color": "rgb(0,116,217)"
         },
         "mode": "lines",
         "text": [
          "coal_refinery_petroleum_diesel_oil",
          "",
          "",
          "gas_fuel_pipeline_supply_supplies"
         ],
         "type": "scatter",
         "x": [
          1.3655782106227234,
          1.4669267187171073,
          1.4669267187171073,
          1.0580972795031107
         ],
         "xaxis": "x",
         "y": [
          -2863.4375,
          -2863.4375,
          -2996.5625,
          -2996.5625
         ],
         "yaxis": "y"
        },
        {
         "hoverinfo": "text",
         "marker": {
          "color": "rgb(0,116,217)"
         },
         "mode": "lines",
         "text": [
          "raw_material_resin_tissue_aluminum",
          "",
          "",
          "refinery_pipeline_coal_diesel_demand"
         ],
         "type": "scatter",
         "x": [
          0.4666354485688935,
          1.5174804134046411,
          1.5174804134046411,
          1.4669267187171073
         ],
         "xaxis": "x",
         "y": [
          -2782.5,
          -2782.5,
          -2930,
          -2930
         ],
         "yaxis": "y"
        },
        {
         "hoverinfo": "text",
         "marker": {
          "color": "rgb(0,116,217)"
         },
         "mode": "lines",
         "text": [
          "belarus_impact_kazakhstan_poland_eur",
          "",
          "",
          "coal_fuel_renewable_diesel_oil"
         ],
         "type": "scatter",
         "x": [
          1.5716068528070657,
          1.6819626178840505,
          1.6819626178840505,
          1.5174804134046411
         ],
         "xaxis": "x",
         "y": [
          -1104.1392374038696,
          -1104.1392374038696,
          -2856.25,
          -2856.25
         ],
         "yaxis": "y"
        },
        {
         "hoverinfo": "text",
         "marker": {
          "color": "rgb(0,116,217)"
         },
         "mode": "lines",
         "text": [
          "humanitarian_charity_donation_unicef_aid",
          "",
          "",
          "belarus_export_europe_kazakhstan_eur"
         ],
         "type": "scatter",
         "x": [
          1.4316096065320734,
          1.7143610228306028,
          1.7143610228306028,
          1.6819626178840505
         ],
         "xaxis": "x",
         "y": [
          -136.9140625,
          -136.9140625,
          -1980.1946187019348,
          -1980.1946187019348
         ],
         "yaxis": "y"
        },
        {
         "hoverinfo": "text",
         "marker": {
          "color": "rgb(255,65,54)"
         },
         "mode": "lines",
         "text": [
          "inflation_inflationary_headwind_macroeconomic_recession",
          "",
          "",
          "headwind_tailwind_hat_branch_hurricane"
         ],
         "type": "scatter",
         "x": [
          0,
          0.4433197045754388,
          0.4433197045754388,
          0
         ],
         "xaxis": "x",
         "y": [
          -3055,
          -3055,
          -3065,
          -3065
         ],
         "yaxis": "y"
        },
        {
         "hoverinfo": "text",
         "marker": {
          "color": "rgb(255,65,54)"
         },
         "mode": "lines",
         "text": [
          "headwind_tailwind_hat_congestion_unsteady",
          "",
          "",
          "headwind_forex_fx_coin_currency"
         ],
         "type": "scatter",
         "x": [
          0.4433197045754388,
          0.49451299645731445,
          0.49451299645731445,
          0
         ],
         "xaxis": "x",
         "y": [
          -3060,
          -3060,
          -3075,
          -3075
         ],
         "yaxis": "y"
        },
        {
         "hoverinfo": "text",
         "marker": {
          "color": "rgb(255,65,54)"
         },
         "mode": "lines",
         "text": [
          "headwind_sale_revenue_decrease_profitability",
          "",
          "",
          "headwind_tailwind_momentum_unsteady_congestion"
         ],
         "type": "scatter",
         "x": [
          0,
          0.6221070986939156,
          0.6221070986939156,
          0.49451299645731445
         ],
         "xaxis": "x",
         "y": [
          -3045,
          -3045,
          -3067.5,
          -3067.5
         ],
         "yaxis": "y"
        },
        {
         "hoverinfo": "text",
         "marker": {
          "color": "rgb(35,205,205)"
         },
         "mode": "lines",
         "text": [
          "consumer_confidence_market_decline_effect",
          "",
          "",
          "inflation_inflationary_consumer_recessionary_demand"
         ],
         "type": "scatter",
         "x": [
          0,
          0.38562079998889476,
          0.38562079998889476,
          0
         ],
         "xaxis": "x",
         "y": [
          -3085,
          -3085,
          -3095,
          -3095
         ],
         "yaxis": "y"
        },
        {
         "hoverinfo": "text",
         "marker": {
          "color": "rgb(35,205,205)"
         },
         "mode": "lines",
         "text": [
          "consumer_confidence_inflation_inflationary_demand",
          "",
          "",
          "sentiment_consumer_demand_decline_affect"
         ],
         "type": "scatter",
         "x": [
          0.38562079998889476,
          0.6064729461355871,
          0.6064729461355871,
          0
         ],
         "xaxis": "x",
         "y": [
          -3090,
          -3090,
          -3105,
          -3105
         ],
         "yaxis": "y"
        },
        {
         "hoverinfo": "text",
         "marker": {
          "color": "rgb(61,153,112)"
         },
         "mode": "lines",
         "text": [
          "demand_utility_inventory_fms_increase",
          "",
          "",
          "demand_euro_eu_tariff_currency"
         ],
         "type": "scatter",
         "x": [
          0,
          0.7291186193738106,
          0.7291186193738106,
          0
         ],
         "xaxis": "x",
         "y": [
          -3125,
          -3125,
          -3135,
          -3135
         ],
         "yaxis": "y"
        },
        {
         "hoverinfo": "text",
         "marker": {
          "color": "rgb(61,153,112)"
         },
         "mode": "lines",
         "text": [
          "demand_supply_logistics_freight_imbalance",
          "",
          "",
          "demand_tariff_utility_increase_industrial"
         ],
         "type": "scatter",
         "x": [
          0,
          0.8203249910923441,
          0.8203249910923441,
          0.7291186193738106
         ],
         "xaxis": "x",
         "y": [
          -3115,
          -3115,
          -3130,
          -3130
         ],
         "yaxis": "y"
        },
        {
         "hoverinfo": "text",
         "marker": {
          "color": "rgb(255,65,54)"
         },
         "mode": "lines",
         "text": [
          "macroeconomic_macroeconomics_economic_economy_economically",
          "",
          "",
          "inflation_macroeconomic_monetary_recessionary_economy"
         ],
         "type": "scatter",
         "x": [
          0,
          0.7259889424015671,
          0.7259889424015671,
          0
         ],
         "xaxis": "x",
         "y": [
          -3145,
          -3145,
          -3155,
          -3155
         ],
         "yaxis": "y"
        },
        {
         "hoverinfo": "text",
         "marker": {
          "color": "rgb(255,65,54)"
         },
         "mode": "lines",
         "text": [
          "inflation_inflationary_inflationist_pressure_demand",
          "",
          "",
          "inflation_inflationary_monetary_cpi_austerity"
         ],
         "type": "scatter",
         "x": [
          0,
          0.5878747635200093,
          0.5878747635200093,
          0
         ],
         "xaxis": "x",
         "y": [
          -3165,
          -3165,
          -3175,
          -3175
         ],
         "yaxis": "y"
        },
        {
         "hoverinfo": "text",
         "marker": {
          "color": "rgb(255,65,54)"
         },
         "mode": "lines",
         "text": [
          "inflation_inflationary_monetary_demand_pressure",
          "",
          "",
          "inflation_inflationary_macroeconomic_economy_economic"
         ],
         "type": "scatter",
         "x": [
          0.5878747635200093,
          0.7812225044696121,
          0.7812225044696121,
          0
         ],
         "xaxis": "x",
         "y": [
          -3170,
          -3170,
          -3185,
          -3185
         ],
         "yaxis": "y"
        },
        {
         "hoverinfo": "text",
         "marker": {
          "color": "rgb(255,65,54)"
         },
         "mode": "lines",
         "text": [
          "macroeconomic_macroeconomics_economy_economic_economically",
          "",
          "",
          "inflation_inflationary_monetary_demand_dollar"
         ],
         "type": "scatter",
         "x": [
          0.7259889424015671,
          0.8946046054354626,
          0.8946046054354626,
          0.7812225044696121
         ],
         "xaxis": "x",
         "y": [
          -3150,
          -3150,
          -3177.5,
          -3177.5
         ],
         "yaxis": "y"
        },
        {
         "hoverinfo": "text",
         "marker": {
          "color": "rgb(35,205,205)"
         },
         "mode": "lines",
         "text": [
          "commodity_macroeconomics_economical_market_pricing",
          "",
          "",
          "fuel_petrol_pricing_increase_cost"
         ],
         "type": "scatter",
         "x": [
          0,
          0.7812552363543747,
          0.7812552363543747,
          0
         ],
         "xaxis": "x",
         "y": [
          -3195,
          -3195,
          -3205,
          -3205
         ],
         "yaxis": "y"
        },
        {
         "hoverinfo": "text",
         "marker": {
          "color": "rgb(35,205,205)"
         },
         "mode": "lines",
         "text": [
          "pricing_increase_cost_price_steep",
          "",
          "",
          "cost_pricing_price_input_increase"
         ],
         "type": "scatter",
         "x": [
          0,
          0.8529985101460975,
          0.8529985101460975,
          0
         ],
         "xaxis": "x",
         "y": [
          -3215,
          -3215,
          -3225,
          -3225
         ],
         "yaxis": "y"
        },
        {
         "hoverinfo": "text",
         "marker": {
          "color": "rgb(35,205,205)"
         },
         "mode": "lines",
         "text": [
          "commodity_macroeconomics_economical_market_pricing",
          "",
          "",
          "pricing_increase_cost_additional_price"
         ],
         "type": "scatter",
         "x": [
          0.7812552363543747,
          0.9326810857455105,
          0.9326810857455105,
          0.8529985101460975
         ],
         "xaxis": "x",
         "y": [
          -3200,
          -3200,
          -3220,
          -3220
         ],
         "yaxis": "y"
        },
        {
         "hoverinfo": "text",
         "marker": {
          "color": "rgb(0,116,217)"
         },
         "mode": "lines",
         "text": [
          "inflation_inflationary_macroeconomic_monetary_economy",
          "",
          "",
          "commodity_pricing_market_price_cost"
         ],
         "type": "scatter",
         "x": [
          0.8946046054354626,
          1.1647395881570561,
          1.1647395881570561,
          0.9326810857455105
         ],
         "xaxis": "x",
         "y": [
          -3163.75,
          -3163.75,
          -3210,
          -3210
         ],
         "yaxis": "y"
        },
        {
         "hoverinfo": "text",
         "marker": {
          "color": "rgb(0,116,217)"
         },
         "mode": "lines",
         "text": [
          "demand_supply_increase_inventory_utility",
          "",
          "",
          "inflation_inflationary_macroeconomic_monetary_economic"
         ],
         "type": "scatter",
         "x": [
          0.8203249910923441,
          1.2084435543222432,
          1.2084435543222432,
          1.1647395881570561
         ],
         "xaxis": "x",
         "y": [
          -3122.5,
          -3122.5,
          -3186.875,
          -3186.875
         ],
         "yaxis": "y"
        },
        {
         "hoverinfo": "text",
         "marker": {
          "color": "rgb(133,20,75)"
         },
         "mode": "lines",
         "text": [
          "shortage_semiconductor_automotive_production_manufacturing",
          "",
          "",
          "shortage_logistics_demand_economic_supply"
         ],
         "type": "scatter",
         "x": [
          0,
          0.8477512445464825,
          0.8477512445464825,
          0
         ],
         "xaxis": "x",
         "y": [
          -3235,
          -3235,
          -3245,
          -3245
         ],
         "yaxis": "y"
        },
        {
         "hoverinfo": "text",
         "marker": {
          "color": "rgb(133,20,75)"
         },
         "mode": "lines",
         "text": [
          "inflation_inflationary_macroeconomic_supply_shortage",
          "",
          "",
          "impact_impacting_disruption_chain_supply"
         ],
         "type": "scatter",
         "x": [
          0,
          0.3760231388289217,
          0.3760231388289217,
          0
         ],
         "xaxis": "x",
         "y": [
          -3255,
          -3255,
          -3265,
          -3265
         ],
         "yaxis": "y"
        },
        {
         "hoverinfo": "text",
         "marker": {
          "color": "rgb(133,20,75)"
         },
         "mode": "lines",
         "text": [
          "inflation_inflationary_supply_logistics_shortage",
          "",
          "",
          "constraint_supplier_inventory_supply_chain"
         ],
         "type": "scatter",
         "x": [
          0.3760231388289217,
          0.8255195531082813,
          0.8255195531082813,
          0
         ],
         "xaxis": "x",
         "y": [
          -3260,
          -3260,
          -3275,
          -3275
         ],
         "yaxis": "y"
        },
        {
         "hoverinfo": "text",
         "marker": {
          "color": "rgb(133,20,75)"
         },
         "mode": "lines",
         "text": [
          "shortage_semiconductor_automotive_production_manufacturing",
          "",
          "",
          "disruption_logistics_impacting_impact_chain"
         ],
         "type": "scatter",
         "x": [
          0.8477512445464825,
          0.91054395825645,
          0.91054395825645,
          0.8255195531082813
         ],
         "xaxis": "x",
         "y": [
          -3240,
          -3240,
          -3267.5,
          -3267.5
         ],
         "yaxis": "y"
        },
        {
         "hoverinfo": "text",
         "marker": {
          "color": "rgb(255,220,0)"
         },
         "mode": "lines",
         "text": [
          "challenge_challenging_showdown_difficulty_face",
          "",
          "",
          "logistics_logistical_freight_sourcing_challenge"
         ],
         "type": "scatter",
         "x": [
          0,
          0.7651882670406682,
          0.7651882670406682,
          0
         ],
         "xaxis": "x",
         "y": [
          -3285,
          -3285,
          -3295,
          -3295
         ],
         "yaxis": "y"
        },
        {
         "hoverinfo": "text",
         "marker": {
          "color": "rgb(0,116,217)"
         },
         "mode": "lines",
         "text": [
          "shortage_supply_logistics_chain_demand",
          "",
          "",
          "challenge_challenging_difficulty_showdown_difficult"
         ],
         "type": "scatter",
         "x": [
          0.91054395825645,
          1.0153954211730893,
          1.0153954211730893,
          0.7651882670406682
         ],
         "xaxis": "x",
         "y": [
          -3253.75,
          -3253.75,
          -3290,
          -3290
         ],
         "yaxis": "y"
        },
        {
         "hoverinfo": "text",
         "marker": {
          "color": "rgb(0,116,217)"
         },
         "mode": "lines",
         "text": [
          "inflation_inflationary_macroeconomic_monetary_economic",
          "",
          "",
          "disruption_logistics_chain_impacting_impact"
         ],
         "type": "scatter",
         "x": [
          1.2084435543222432,
          1.2832215972794465,
          1.2832215972794465,
          1.0153954211730893
         ],
         "xaxis": "x",
         "y": [
          -3154.6875,
          -3154.6875,
          -3271.875,
          -3271.875
         ],
         "yaxis": "y"
        },
        {
         "hoverinfo": "text",
         "marker": {
          "color": "rgb(40,35,35)"
         },
         "mode": "lines",
         "text": [
          "inflation_inflationary_recession_macroeconomic_interest",
          "",
          "",
          "inflation_inflationary_macroeconomic_recession_economy"
         ],
         "type": "scatter",
         "x": [
          0,
          0.3885111126331491,
          0.3885111126331491,
          0
         ],
         "xaxis": "x",
         "y": [
          -3315,
          -3315,
          -3325,
          -3325
         ],
         "yaxis": "y"
        },
        {
         "hoverinfo": "text",
         "marker": {
          "color": "rgb(40,35,35)"
         },
         "mode": "lines",
         "text": [
          "interest_rate_loans_market_turbulent",
          "",
          "",
          "inflation_inflationary_recession_macroeconomic_interest"
         ],
         "type": "scatter",
         "x": [
          0,
          0.6213650267895753,
          0.6213650267895753,
          0.3885111126331491
         ],
         "xaxis": "x",
         "y": [
          -3305,
          -3305,
          -3320,
          -3320
         ],
         "yaxis": "y"
        },
        {
         "hoverinfo": "text",
         "marker": {
          "color": "rgb(40,35,35)"
         },
         "mode": "lines",
         "text": [
          "inflation_inflationary_macroeconomic_recession_interest",
          "",
          "",
          "interest_market_asset_current_related"
         ],
         "type": "scatter",
         "x": [
          0.6213650267895753,
          0.74568790640817,
          0.74568790640817,
          0
         ],
         "xaxis": "x",
         "y": [
          -3312.5,
          -3312.5,
          -3335,
          -3335
         ],
         "yaxis": "y"
        },
        {
         "hoverinfo": "text",
         "marker": {
          "color": "rgb(0,116,217)"
         },
         "mode": "lines",
         "text": [
          "inflation_inflationary_shortage_demand_logistics",
          "",
          "",
          "inflation_inflationary_macroeconomic_recession_interest"
         ],
         "type": "scatter",
         "x": [
          1.2832215972794465,
          1.4664995449730505,
          1.4664995449730505,
          0.74568790640817
         ],
         "xaxis": "x",
         "y": [
          -3213.28125,
          -3213.28125,
          -3323.75,
          -3323.75
         ],
         "yaxis": "y"
        },
        {
         "hoverinfo": "text",
         "marker": {
          "color": "rgb(0,116,217)"
         },
         "mode": "lines",
         "text": [
          "consumer_inflation_sentiment_decline_inflationary",
          "",
          "",
          "inflation_inflationary_macroeconomic_shortage_recession"
         ],
         "type": "scatter",
         "x": [
          0.6064729461355871,
          1.505870374030693,
          1.505870374030693,
          1.4664995449730505
         ],
         "xaxis": "x",
         "y": [
          -3097.5,
          -3097.5,
          -3268.515625,
          -3268.515625
         ],
         "yaxis": "y"
        },
        {
         "hoverinfo": "text",
         "marker": {
          "color": "rgb(0,116,217)"
         },
         "mode": "lines",
         "text": [
          "headwind_tailwind_congestion_momentum_currency",
          "",
          "",
          "inflation_inflationary_macroeconomic_recession_monetary"
         ],
         "type": "scatter",
         "x": [
          0.6221070986939156,
          1.5882929975391828,
          1.5882929975391828,
          1.505870374030693
         ],
         "xaxis": "x",
         "y": [
          -3056.25,
          -3056.25,
          -3183.0078125,
          -3183.0078125
         ],
         "yaxis": "y"
        },
        {
         "hoverinfo": "text",
         "marker": {
          "color": "rgb(61,153,112)"
         },
         "mode": "lines",
         "text": [
          "europe_european_economic_economy_euro",
          "",
          "",
          "europe_impact_eu_european_france"
         ],
         "type": "scatter",
         "x": [
          0,
          0.7013042379805889,
          0.7013042379805889,
          0
         ],
         "xaxis": "x",
         "y": [
          -3345,
          -3345,
          -3355,
          -3355
         ],
         "yaxis": "y"
        },
        {
         "hoverinfo": "text",
         "marker": {
          "color": "rgb(61,153,112)"
         },
         "mode": "lines",
         "text": [
          "europe_european_regional_decline_east",
          "",
          "",
          "europe_european_geographically_asia_east"
         ],
         "type": "scatter",
         "x": [
          0,
          0.5559201033039407,
          0.5559201033039407,
          0
         ],
         "xaxis": "x",
         "y": [
          -3365,
          -3365,
          -3375,
          -3375
         ],
         "yaxis": "y"
        },
        {
         "hoverinfo": "text",
         "marker": {
          "color": "rgb(61,153,112)"
         },
         "mode": "lines",
         "text": [
          "europe_european_geographically_asia_east",
          "",
          "",
          "europe_business_european_company_vienna"
         ],
         "type": "scatter",
         "x": [
          0.5559201033039407,
          0.7640015450845579,
          0.7640015450845579,
          0
         ],
         "xaxis": "x",
         "y": [
          -3370,
          -3370,
          -3385,
          -3385
         ],
         "yaxis": "y"
        },
        {
         "hoverinfo": "text",
         "marker": {
          "color": "rgb(61,153,112)"
         },
         "mode": "lines",
         "text": [
          "europe_eu_european_impact_france",
          "",
          "",
          "europe_european_geographically_asia_east"
         ],
         "type": "scatter",
         "x": [
          0.7013042379805889,
          0.8339998562981267,
          0.8339998562981267,
          0.7640015450845579
         ],
         "xaxis": "x",
         "y": [
          -3350,
          -3350,
          -3377.5,
          -3377.5
         ],
         "yaxis": "y"
        },
        {
         "hoverinfo": "text",
         "marker": {
          "color": "rgb(255,65,54)"
         },
         "mode": "lines",
         "text": [
          "revenue_region_regional_area_geography",
          "",
          "",
          "geographically_geography_regional_continent_business"
         ],
         "type": "scatter",
         "x": [
          0,
          0.7163720224115272,
          0.7163720224115272,
          0
         ],
         "xaxis": "x",
         "y": [
          -3405,
          -3405,
          -3415,
          -3415
         ],
         "yaxis": "y"
        },
        {
         "hoverinfo": "text",
         "marker": {
          "color": "rgb(255,65,54)"
         },
         "mode": "lines",
         "text": [
          "core_region_eu_canada_jurisdiction",
          "",
          "",
          "regional_geographically_region_subsidiary_geography"
         ],
         "type": "scatter",
         "x": [
          0,
          0.8130577404149626,
          0.8130577404149626,
          0.7163720224115272
         ],
         "xaxis": "x",
         "y": [
          -3395,
          -3395,
          -3410,
          -3410
         ],
         "yaxis": "y"
        },
        {
         "hoverinfo": "text",
         "marker": {
          "color": "rgb(35,205,205)"
         },
         "mode": "lines",
         "text": [
          "revenue_impact_earning_recur_annualize",
          "",
          "",
          "revenue_profit_business_financial_earn"
         ],
         "type": "scatter",
         "x": [
          0,
          0.5293631580668763,
          0.5293631580668763,
          0
         ],
         "xaxis": "x",
         "y": [
          -3425,
          -3425,
          -3435,
          -3435
         ],
         "yaxis": "y"
        },
        {
         "hoverinfo": "text",
         "marker": {
          "color": "rgb(35,205,205)"
         },
         "mode": "lines",
         "text": [
          "revenue_profit_financial_earn_annually",
          "",
          "",
          "revenue_customer_ramp_profit_service"
         ],
         "type": "scatter",
         "x": [
          0.5293631580668763,
          0.7000343322495186,
          0.7000343322495186,
          0
         ],
         "xaxis": "x",
         "y": [
          -3430,
          -3430,
          -3445,
          -3445
         ],
         "yaxis": "y"
        },
        {
         "hoverinfo": "text",
         "marker": {
          "color": "rgb(0,116,217)"
         },
         "mode": "lines",
         "text": [
          "region_regional_geographically_continent_subsidiary",
          "",
          "",
          "revenue_profit_business_financial_earn"
         ],
         "type": "scatter",
         "x": [
          0.8130577404149626,
          1.2277824387806549,
          1.2277824387806549,
          0.7000343322495186
         ],
         "xaxis": "x",
         "y": [
          -3402.5,
          -3402.5,
          -3437.5,
          -3437.5
         ],
         "yaxis": "y"
        },
        {
         "hoverinfo": "text",
         "marker": {
          "color": "rgb(61,153,112)"
         },
         "mode": "lines",
         "text": [
          "sale_buyer_europe_european_scandinavia",
          "",
          "",
          "decline_decrease_sale_market_distributor"
         ],
         "type": "scatter",
         "x": [
          0,
          0.7526873600368733,
          0.7526873600368733,
          0
         ],
         "xaxis": "x",
         "y": [
          -3455,
          -3455,
          -3465,
          -3465
         ],
         "yaxis": "y"
        },
        {
         "hoverinfo": "text",
         "marker": {
          "color": "rgb(61,153,112)"
         },
         "mode": "lines",
         "text": [
          "decline_sale_decrease_distributor_wholesale",
          "",
          "",
          "emea_impact_growth_infrastructure_decline"
         ],
         "type": "scatter",
         "x": [
          0.7526873600368733,
          0.8340924504275313,
          0.8340924504275313,
          0
         ],
         "xaxis": "x",
         "y": [
          -3460,
          -3460,
          -3475,
          -3475
         ],
         "yaxis": "y"
        },
        {
         "hoverinfo": "text",
         "marker": {
          "color": "rgb(61,153,112)"
         },
         "mode": "lines",
         "text": [
          "emea_impact_europe_scandinavia_growth",
          "",
          "",
          "investment_growth_apac_market_gain"
         ],
         "type": "scatter",
         "x": [
          0.8340924504275313,
          0.880113436692495,
          0.880113436692495,
          0
         ],
         "xaxis": "x",
         "y": [
          -3467.5,
          -3467.5,
          -3485,
          -3485
         ],
         "yaxis": "y"
        },
        {
         "hoverinfo": "text",
         "marker": {
          "color": "rgb(255,65,54)"
         },
         "mode": "lines",
         "text": [
          "growth_europe_asia_geography_grow",
          "",
          "",
          "revenue_growth_income_digit_business"
         ],
         "type": "scatter",
         "x": [
          0,
          0.49566320232373406,
          0.49566320232373406,
          0
         ],
         "xaxis": "x",
         "y": [
          -3495,
          -3495,
          -3505,
          -3505
         ],
         "yaxis": "y"
        },
        {
         "hoverinfo": "text",
         "marker": {
          "color": "rgb(0,116,217)"
         },
         "mode": "lines",
         "text": [
          "emea_impact_europe_scandinavia_growth",
          "",
          "",
          "growth_digit_europe_number_conversion"
         ],
         "type": "scatter",
         "x": [
          0.880113436692495,
          1.1038980976726411,
          1.1038980976726411,
          0.49566320232373406
         ],
         "xaxis": "x",
         "y": [
          -3476.25,
          -3476.25,
          -3500,
          -3500
         ],
         "yaxis": "y"
        },
        {
         "hoverinfo": "text",
         "marker": {
          "color": "rgb(35,205,205)"
         },
         "mode": "lines",
         "text": [
          "expense_filtration_separation_ebitda_exclude",
          "",
          "",
          "suspension_ramping_revenue_incentive_renewal"
         ],
         "type": "scatter",
         "x": [
          0,
          0.8016779326563879,
          0.8016779326563879,
          0
         ],
         "xaxis": "x",
         "y": [
          -3515,
          -3515,
          -3525,
          -3525
         ],
         "yaxis": "y"
        },
        {
         "hoverinfo": "text",
         "marker": {
          "color": "rgb(133,20,75)"
         },
         "mode": "lines",
         "text": [
          "offset_adjustment_impact_effect_deceleration",
          "",
          "",
          "impact_negatively_business_effect_profitability"
         ],
         "type": "scatter",
         "x": [
          0,
          0.8698431623157734,
          0.8698431623157734,
          0
         ],
         "xaxis": "x",
         "y": [
          -3535,
          -3535,
          -3545,
          -3545
         ],
         "yaxis": "y"
        },
        {
         "hoverinfo": "text",
         "marker": {
          "color": "rgb(255,220,0)"
         },
         "mode": "lines",
         "text": [
          "fiscal_fiscally_impact_deterioration_growth",
          "",
          "",
          "expect_expectation_future_forecast_typical"
         ],
         "type": "scatter",
         "x": [
          0,
          0.8198973933438235,
          0.8198973933438235,
          0
         ],
         "xaxis": "x",
         "y": [
          -3565,
          -3565,
          -3575,
          -3575
         ],
         "yaxis": "y"
        },
        {
         "hoverinfo": "text",
         "marker": {
          "color": "rgb(255,220,0)"
         },
         "mode": "lines",
         "text": [
          "expect_expectation_assume_line_forecast",
          "",
          "",
          "statement_imply_condition_forward_indicate"
         ],
         "type": "scatter",
         "x": [
          0.8198973933438235,
          0.8858435229319531,
          0.8858435229319531,
          0
         ],
         "xaxis": "x",
         "y": [
          -3570,
          -3570,
          -3585,
          -3585
         ],
         "yaxis": "y"
        },
        {
         "hoverinfo": "text",
         "marker": {
          "color": "rgb(255,220,0)"
         },
         "mode": "lines",
         "text": [
          "outlook_future_eco_revise_business",
          "",
          "",
          "statement_imply_condition_earnings_assumption"
         ],
         "type": "scatter",
         "x": [
          0,
          0.9004781961634547,
          0.9004781961634547,
          0.8858435229319531
         ],
         "xaxis": "x",
         "y": [
          -3555,
          -3555,
          -3577.5,
          -3577.5
         ],
         "yaxis": "y"
        },
        {
         "hoverinfo": "text",
         "marker": {
          "color": "rgb(40,35,35)"
         },
         "mode": "lines",
         "text": [
          "eps_earnings_forex_currency_impact",
          "",
          "",
          "earnings_profitable_announce_business_pay"
         ],
         "type": "scatter",
         "x": [
          0,
          0.7627587412674578,
          0.7627587412674578,
          0
         ],
         "xaxis": "x",
         "y": [
          -3595,
          -3595,
          -3605,
          -3605
         ],
         "yaxis": "y"
        },
        {
         "hoverinfo": "text",
         "marker": {
          "color": "rgb(0,116,217)"
         },
         "mode": "lines",
         "text": [
          "statement_imply_earnings_condition_forward",
          "",
          "",
          "earnings_earning_eps_impact_currency"
         ],
         "type": "scatter",
         "x": [
          0.9004781961634547,
          1.0052540646700663,
          1.0052540646700663,
          0.7627587412674578
         ],
         "xaxis": "x",
         "y": [
          -3566.25,
          -3566.25,
          -3600,
          -3600
         ],
         "yaxis": "y"
        },
        {
         "hoverinfo": "text",
         "marker": {
          "color": "rgb(0,116,217)"
         },
         "mode": "lines",
         "text": [
          "offset_adjustment_impact_effect_deceleration",
          "",
          "",
          "expect_imply_earnings_statement_impact"
         ],
         "type": "scatter",
         "x": [
          0.8698431623157734,
          1.04256671561859,
          1.04256671561859,
          1.0052540646700663
         ],
         "xaxis": "x",
         "y": [
          -3540,
          -3540,
          -3583.125,
          -3583.125
         ],
         "yaxis": "y"
        },
        {
         "hoverinfo": "text",
         "marker": {
          "color": "rgb(0,116,217)"
         },
         "mode": "lines",
         "text": [
          "suspension_revenue_filtration_ramping_expense",
          "",
          "",
          "statement_imply_earnings_condition_forward"
         ],
         "type": "scatter",
         "x": [
          0.8016779326563879,
          1.1124599514213442,
          1.1124599514213442,
          1.04256671561859
         ],
         "xaxis": "x",
         "y": [
          -3520,
          -3520,
          -3561.5625,
          -3561.5625
         ],
         "yaxis": "y"
        },
        {
         "hoverinfo": "text",
         "marker": {
          "color": "rgb(61,153,112)"
         },
         "mode": "lines",
         "text": [
          "exclude_include_minus_mention_sense",
          "",
          "",
          "growth_economic_sector_europe_geography"
         ],
         "type": "scatter",
         "x": [
          0,
          0.8741902865053899,
          0.8741902865053899,
          0
         ],
         "xaxis": "x",
         "y": [
          -3625,
          -3625,
          -3635,
          -3635
         ],
         "yaxis": "y"
        },
        {
         "hoverinfo": "text",
         "marker": {
          "color": "rgb(61,153,112)"
         },
         "mode": "lines",
         "text": [
          "volume_extent_reallocate_mute_decrease",
          "",
          "",
          "exclude_minus_remove_negatively_decrease"
         ],
         "type": "scatter",
         "x": [
          0,
          0.907647766407557,
          0.907647766407557,
          0.8741902865053899
         ],
         "xaxis": "x",
         "y": [
          -3615,
          -3615,
          -3630,
          -3630
         ],
         "yaxis": "y"
        },
        {
         "hoverinfo": "text",
         "marker": {
          "color": "rgb(61,153,112)"
         },
         "mode": "lines",
         "text": [
          "growth_grow_maturity_adjust_estimate",
          "",
          "",
          "growth_organic_organically_grow_raise"
         ],
         "type": "scatter",
         "x": [
          0,
          0.8294252522756165,
          0.8294252522756165,
          0
         ],
         "xaxis": "x",
         "y": [
          -3645,
          -3645,
          -3655,
          -3655
         ],
         "yaxis": "y"
        },
        {
         "hoverinfo": "text",
         "marker": {
          "color": "rgb(61,153,112)"
         },
         "mode": "lines",
         "text": [
          "volume_impact_growth_extent_decrease",
          "",
          "",
          "organic_growth_organically_grow_raise"
         ],
         "type": "scatter",
         "x": [
          0.907647766407557,
          0.9359804700775146,
          0.9359804700775146,
          0.8294252522756165
         ],
         "xaxis": "x",
         "y": [
          -3622.5,
          -3622.5,
          -3650,
          -3650
         ],
         "yaxis": "y"
        },
        {
         "hoverinfo": "text",
         "marker": {
          "color": "rgb(255,65,54)"
         },
         "mode": "lines",
         "text": [
          "ebitda_ebit_ebitdaal_ebita_offset",
          "",
          "",
          "margin_margins_leverage_business_income"
         ],
         "type": "scatter",
         "x": [
          0,
          0.7807681920520291,
          0.7807681920520291,
          0
         ],
         "xaxis": "x",
         "y": [
          -3665,
          -3665,
          -3675,
          -3675
         ],
         "yaxis": "y"
        },
        {
         "hoverinfo": "text",
         "marker": {
          "color": "rgb(255,65,54)"
         },
         "mode": "lines",
         "text": [
          "ebitda_ebit_ebita_margins_margin",
          "",
          "",
          "basis_impact_point_position_hit"
         ],
         "type": "scatter",
         "x": [
          0.7807681920520291,
          0.9414621311894724,
          0.9414621311894724,
          0
         ],
         "xaxis": "x",
         "y": [
          -3670,
          -3670,
          -3685,
          -3685
         ],
         "yaxis": "y"
        },
        {
         "hoverinfo": "text",
         "marker": {
          "color": "rgb(0,116,217)"
         },
         "mode": "lines",
         "text": [
          "organic_organically_growth_grow_yield",
          "",
          "",
          "ebitda_ebit_ebita_margins_leverage"
         ],
         "type": "scatter",
         "x": [
          0.9359804700775146,
          1.0395506976940443,
          1.0395506976940443,
          0.9414621311894724
         ],
         "xaxis": "x",
         "y": [
          -3636.25,
          -3636.25,
          -3677.5,
          -3677.5
         ],
         "yaxis": "y"
        },
        {
         "hoverinfo": "text",
         "marker": {
          "color": "rgb(0,116,217)"
         },
         "mode": "lines",
         "text": [
          "expect_expectation_earnings_imply_statement",
          "",
          "",
          "growth_organic_organically_decrease_impact"
         ],
         "type": "scatter",
         "x": [
          1.1124599514213442,
          1.1355426639136,
          1.1355426639136,
          1.0395506976940443
         ],
         "xaxis": "x",
         "y": [
          -3540.78125,
          -3540.78125,
          -3656.875,
          -3656.875
         ],
         "yaxis": "y"
        },
        {
         "hoverinfo": "text",
         "marker": {
          "color": "rgb(35,205,205)"
         },
         "mode": "lines",
         "text": [
          "currency_forex_fluctuation_euro_exchange",
          "",
          "",
          "currency_growth_revenue_dollar_rate"
         ],
         "type": "scatter",
         "x": [
          0,
          0.7078655290806863,
          0.7078655290806863,
          0
         ],
         "xaxis": "x",
         "y": [
          -3705,
          -3705,
          -3715,
          -3715
         ],
         "yaxis": "y"
        },
        {
         "hoverinfo": "text",
         "marker": {
          "color": "rgb(35,205,205)"
         },
         "mode": "lines",
         "text": [
          "ruble_rubel_rub5_rub_rub100",
          "",
          "",
          "currency_euro_fluctuation_dollar_impact"
         ],
         "type": "scatter",
         "x": [
          0,
          0.9290938577103042,
          0.9290938577103042,
          0.7078655290806863
         ],
         "xaxis": "x",
         "y": [
          -3695,
          -3695,
          -3710,
          -3710
         ],
         "yaxis": "y"
        },
        {
         "hoverinfo": "text",
         "marker": {
          "color": "rgb(35,205,205)"
         },
         "mode": "lines",
         "text": [
          "currency_ruble_usd_euro_depreciation",
          "",
          "",
          "arr_growth_nrr_ar_rate"
         ],
         "type": "scatter",
         "x": [
          0.9290938577103042,
          0.9719300937951685,
          0.9719300937951685,
          0
         ],
         "xaxis": "x",
         "y": [
          -3702.5,
          -3702.5,
          -3725,
          -3725
         ],
         "yaxis": "y"
        },
        {
         "hoverinfo": "text",
         "marker": {
          "color": "rgb(0,116,217)"
         },
         "mode": "lines",
         "text": [
          "ebitda_ebit_earnings_offset_decrease",
          "",
          "",
          "ruble_currency_usd_euro_dollar"
         ],
         "type": "scatter",
         "x": [
          1.1355426639136,
          1.169556990000051,
          1.169556990000051,
          0.9719300937951685
         ],
         "xaxis": "x",
         "y": [
          -3598.828125,
          -3598.828125,
          -3713.75,
          -3713.75
         ],
         "yaxis": "y"
        },
        {
         "hoverinfo": "text",
         "marker": {
          "color": "rgb(0,116,217)"
         },
         "mode": "lines",
         "text": [
          "emea_impact_europe_scandinavia_growth",
          "",
          "",
          "revenue_earnings_growth_ebitda_ebit"
         ],
         "type": "scatter",
         "x": [
          1.1038980976726411,
          1.2776152796535571,
          1.2776152796535571,
          1.169556990000051
         ],
         "xaxis": "x",
         "y": [
          -3488.125,
          -3488.125,
          -3656.2890625,
          -3656.2890625
         ],
         "yaxis": "y"
        },
        {
         "hoverinfo": "text",
         "marker": {
          "color": "rgb(0,116,217)"
         },
         "mode": "lines",
         "text": [
          "revenue_profit_business_financial_earn",
          "",
          "",
          "revenue_ebit_ebitda_earnings_growth"
         ],
         "type": "scatter",
         "x": [
          1.2277824387806549,
          1.3788833676944448,
          1.3788833676944448,
          1.2776152796535571
         ],
         "xaxis": "x",
         "y": [
          -3420,
          -3420,
          -3572.20703125,
          -3572.20703125
         ],
         "yaxis": "y"
        },
        {
         "hoverinfo": "text",
         "marker": {
          "color": "rgb(61,153,112)"
         },
         "mode": "lines",
         "text": [
          "sale_supplier_global_production_internationally",
          "",
          "",
          "sale_total_profit_amount_trading"
         ],
         "type": "scatter",
         "x": [
          0,
          0.6536507096489872,
          0.6536507096489872,
          0
         ],
         "xaxis": "x",
         "y": [
          -3735,
          -3735,
          -3745,
          -3745
         ],
         "yaxis": "y"
        },
        {
         "hoverinfo": "text",
         "marker": {
          "color": "rgb(61,153,112)"
         },
         "mode": "lines",
         "text": [
          "impact_sale_effect_business_purchase",
          "",
          "",
          "sale_buyer_business_buyout_operation"
         ],
         "type": "scatter",
         "x": [
          0,
          0.7489516969408173,
          0.7489516969408173,
          0
         ],
         "xaxis": "x",
         "y": [
          -3755,
          -3755,
          -3765,
          -3765
         ],
         "yaxis": "y"
        },
        {
         "hoverinfo": "text",
         "marker": {
          "color": "rgb(61,153,112)"
         },
         "mode": "lines",
         "text": [
          "sale_business_buyout_purchase_impact",
          "",
          "",
          "buy_purchase_sale_deal_auction"
         ],
         "type": "scatter",
         "x": [
          0.7489516969408173,
          0.8128590393803803,
          0.8128590393803803,
          0
         ],
         "xaxis": "x",
         "y": [
          -3760,
          -3760,
          -3775,
          -3775
         ],
         "yaxis": "y"
        },
        {
         "hoverinfo": "text",
         "marker": {
          "color": "rgb(61,153,112)"
         },
         "mode": "lines",
         "text": [
          "sale_total_amount_trading_percentage",
          "",
          "",
          "sale_purchase_buy_auction_shopping"
         ],
         "type": "scatter",
         "x": [
          0.6536507096489872,
          0.8612010385333906,
          0.8612010385333906,
          0.8128590393803803
         ],
         "xaxis": "x",
         "y": [
          -3740,
          -3740,
          -3767.5,
          -3767.5
         ],
         "yaxis": "y"
        },
        {
         "hoverinfo": "text",
         "marker": {
          "color": "rgb(0,116,217)"
         },
         "mode": "lines",
         "text": [
          "revenue_growth_earnings_organic_ebit",
          "",
          "",
          "sale_purchase_buy_auction_deal"
         ],
         "type": "scatter",
         "x": [
          1.3788833676944448,
          1.44830299210671,
          1.44830299210671,
          0.8612010385333906
         ],
         "xaxis": "x",
         "y": [
          -3496.103515625,
          -3496.103515625,
          -3753.75,
          -3753.75
         ],
         "yaxis": "y"
        },
        {
         "hoverinfo": "text",
         "marker": {
          "color": "rgb(0,116,217)"
         },
         "mode": "lines",
         "text": [
          "europe_european_eu_asia_eastern",
          "",
          "",
          "ebitda_ebit_revenue_earnings_decrease"
         ],
         "type": "scatter",
         "x": [
          0.8339998562981267,
          1.5416604988918816,
          1.5416604988918816,
          1.44830299210671
         ],
         "xaxis": "x",
         "y": [
          -3363.75,
          -3363.75,
          -3624.9267578125,
          -3624.9267578125
         ],
         "yaxis": "y"
        },
        {
         "hoverinfo": "text",
         "marker": {
          "color": "rgb(0,116,217)"
         },
         "mode": "lines",
         "text": [
          "inflation_inflationary_macroeconomic_recession_economy",
          "",
          "",
          "growth_revenue_organic_earnings_organically"
         ],
         "type": "scatter",
         "x": [
          1.5882929975391828,
          1.8401281954061817,
          1.8401281954061817,
          1.5416604988918816
         ],
         "xaxis": "x",
         "y": [
          -3119.62890625,
          -3119.62890625,
          -3494.33837890625,
          -3494.33837890625
         ],
         "yaxis": "y"
        },
        {
         "hoverinfo": "text",
         "marker": {
          "color": "rgb(0,116,217)"
         },
         "mode": "lines",
         "text": [
          "production_coal_energy_oil_gas",
          "",
          "",
          "inflation_inflationary_macroeconomic_growth_revenue"
         ],
         "type": "scatter",
         "x": [
          1.7143610228306028,
          2.0361962119974235,
          2.0361962119974235,
          1.8401281954061817
         ],
         "xaxis": "x",
         "y": [
          -1058.5543406009674,
          -1058.5543406009674,
          -3306.983642578125,
          -3306.983642578125
         ],
         "yaxis": "y"
        },
        {
         "hoverinfo": "text",
         "hovertext": [
          "people_person_job_staff_city",
          "refugee_humanitarian_donation_charity_donate",
          "humanitarian_donation_charity_charitable_aid",
          "charity_donation_humanitarian_aid_charitable",
          "stand_support_employee_customer_duty",
          "employee_employment_employ_occupation_staff",
          "sympathy_empathy_grief_compassion_sorrow",
          "tragedy_catastrophe_disaster_tragic_devastation",
          "peace_peacefully_ceasefire_peaceful_hope",
          "condemn_aggression_condemned_hostility_violence",
          "tragedy_catastrophe_disaster_devastation_sympathy",
          "thought_think_people_everybody_reason",
          "tragedy_catastrophe_disaster_devastation_humanitarian",
          "humanitarian_charity_charitable_unicef_donation",
          "lease_leasing_airline_aircraft_tenant",
          "gaap_earnings_accounting_amortization_adjustment",
          "eur_eur15_ifrs_zar_asset",
          "gaap_earnings_adjustment_compensation_amortization",
          "dividend_cash_debit_payment_fund",
          "capital_capitalized_portfolio_equity_corporate",
          "dividend_cash_payment_payout_income",
          "reinsurance_insurer_reinsurer_insurance_noninsurance",
          "insurer_reinsurer_reinsurance_insurance_noninsurance",
          "dividend_cash_bank_payment_shareholder",
          "eur_impairment_ifrs_asset_income",
          "eur_ifrs_impairment_income_asset",
          "lease_leasing_airline_aircraft_aviation",
          "trial_clinical_fda_patient_enrollment",
          "attack_defend_change_threaten_assault",
          "news_newsflash_newspaper_headline_wake",
          "food_agriculture_security_agricultural_hunger",
          "missile_artillery_javelin_tactical_radar",
          "cybersecurity_cyberwarfare_cyber_cyberattack_cybercrime",
          "news_newsflash_newspaper_reuters_headline",
          "cybersecurity_cyber_cyberattack_security_attack",
          "gold_silver_kazakhstan_bullion_bank",
          "subsidiary_multinational_company_supplier_shareholder",
          "bank_banking_sberbank_financial_loan",
          "bank_banking_sberbank_raiffeisenbank_lender",
          "shareholder_stakeholder_investor_company_creditor",
          "business_marketing_company_profitable_service",
          "shareholder_stakeholder_company_interest_creditor",
          "stakeholder_shareholder_company_interest_consideration",
          "presence_effect_materiality_quality_situation",
          "limited_specific_lot_term_",
          "number_mathematical_calculate_calculation_zero",
          "wind_windstorm_windfall_unwind_cost",
          "reminder_remind_sale_reserving_return",
          "cobalt_nordion_buy_argentina_canada",
          "wind_unwind_operation_mining_business",
          "topic_subject_topical_aspect_context",
          "investment_invest_investor_investable_portfolio",
          "cover_expense_let_cost_pass",
          "capex_investment_expenditure_spend_capital",
          "capex_investment_portfolio_invest_investor",
          "wind_backlog_cost_business_dkk",
          "hand_touch_thumb_situation_touchstone",
          "event_occasion_occur_timing_trigger",
          "heart_people_everybody_support_life",
          "easter_holiday_damage_christmas_april",
          "remittance_remit_transfer_migrant_income",
          "gbp_gbs_revenue_gbs1_profit",
          "____",
          "gbp_gbs_gbs1_profit_lpp",
          "easter_holiday_damage_christmas_wintertime",
          "recession_economic_cost_pressure_substantially",
          "sort_order_mention_suggest_recent",
          "backlog_wind_buyback_business_investment",
          "strategic_strategical_assess_review_decision",
          "backlog_wind_sort_order_business",
          "look_think_want__",
          "expansion_prolong_assumption_expand_residual",
          "clear_visibility_transparent_transparency_let",
          "taiwan_asia_myanmar_korea_japan",
          "taiwan_myanmar_korea_japan_thailand",
          "pricing_itinerary_premium_baltic_demand",
          "taiwan_myanmar_korea_pacific_thailand",
          "client_consulting_provider_service_contractor",
          "sort_order_consider_stock_operation",
          "address_ip_want_open_lyondellbasell",
          "wood_lumber_timber_birch_sawmill",
          "utilization_capacity_consumption_throughput_resource",
          "uranium_nuclear_reactor_plutonium_enrichment",
          "wood_lumber_timber_hardwood_birch",
          "sort_order_customer_client_delay",
          "shareholder_stakeholder_company_arctic_business",
          "bank_banking_sberbank_raiffeisenbank_lender",
          "passenger_traffic_airline_departure_travel",
          "carbon_supplier_black_supply_tire",
          "tanker_port_freighter_fleet_ship",
          "airspace_closure_traffic_airline_flight",
          "inflation_inflationary_flight_disruption_air",
          "wood_lumber_process_uranium_operate",
          "cybersecurity_cyberattack_cyber_attack_infrastructure",
          "brazil_uruguay_argentina_portuguese_ecuador",
          "wheat_maize_corn_agricultural_agriculture",
          "fertilizer_produce_agriculture_nitrogen_agricultural",
          "brazil_uruguay_argentina_chile_peru",
          "facility_manufacturing_production_manufacture_factory",
          "titanium_supplier_vendor_manufacturer_supply",
          "titanium_supplier_vendor_steelmaking_manufacturer",
          "poland_polish_krakow_hungary_slovakia",
          "wheat_agriculture_agricultural_maize_barley",
          "turkey_turkish_turkcell_egypt_meat",
          "lumber_wood_uranium_bank_enrichment",
          "announce_announcement_march_april_june",
          "activity_business_operate_active_busy",
          "belarus_belarusian_kazakhstan_moldova_business",
          "supplier_production_bank_fertilizer_subsidiary",
          "trial_clinical_fda_patient_enrollment",
          "fx_revenue_currency_earnings_impact",
          "start_begin_starting_beginning_let",
          "turn_let_reverse_flip_decide",
          "talk_conversation_fx_impact_speech",
          "update_status_new_previously_link",
          "february_march_june_april_january",
          "affect_effect_mood_raging_situation",
          "course_definitely_currently_shall_aware",
          "situation_scenario_circumstance_complication_case",
          "problem_issue_solution_get_receive",
          "situation_scenario_problem_issue_complication",
          "happen_go_know_come_situation",
          "impact_impacting_effect_damage_affect",
          "disruption_minimal_minimum_disruptive_disrupt",
          "impact_impacting_effect_damage_affect",
          "market_opportunity_media_cartel_application",
          "impact_impacting_effect_damage_affect",
          "evolution_evolve_emergence_emerge_variety",
          "impact_impacting_effect_damage_affect",
          "predict_prediction_scenario_speculate_say",
          "monitoring_monitor_development_assess_develop",
          "impact_impacting_effect_damage_affect",
          "word_situation_scenario_english_circumstance",
          "monitoring_forecast_impact_development_predict",
          "course_definitely_currently_shall_secondly",
          "comment_commenting_respond_response_answer",
          "belarus_belarusian_kazakhstan_poland_romania",
          "eur_impairment_asset_expense_income",
          "steel_alloy_aluminum_production_metal",
          "pig_iron_ferrous_steel_steelmaker",
          "diesel_shortage_petrol_crack_petroleum",
          "coal_gas_market_supply_demand",
          "coal_market_demand_gas_supply",
          "oil_petroleum_refinery_crude_gasoline",
          "pig_iron_ferrous_supplier_steel",
          "gas_supply_chemical_natural_supplies",
          "gas_supply_pipe_pipeline_supplies",
          "energy_renewable_electricity_fuel_power",
          "coal_refinery_petroleum_diesel_oil",
          "raw_material_resin_tissue_aluminum",
          "belarus_impact_kazakhstan_poland_eur",
          "humanitarian_charity_donation_unicef_aid",
          "headwind_tailwind_hat_congestion_unsteady",
          "consumer_confidence_inflation_inflationary_demand",
          "inflation_inflationary_monetary_demand_pressure",
          "macroeconomic_macroeconomics_economy_economic_economically",
          "commodity_macroeconomics_economical_market_pricing",
          "inflation_inflationary_macroeconomic_monetary_economy",
          "demand_supply_increase_inventory_utility",
          "inflation_inflationary_supply_logistics_shortage",
          "shortage_semiconductor_automotive_production_manufacturing",
          "shortage_supply_logistics_chain_demand",
          "inflation_inflationary_macroeconomic_monetary_economic",
          "inflation_inflationary_macroeconomic_recession_interest",
          "inflation_inflationary_shortage_demand_logistics",
          "consumer_inflation_sentiment_decline_inflationary",
          "headwind_tailwind_congestion_momentum_currency",
          "europe_european_geographically_asia_east",
          "europe_eu_european_impact_france",
          "revenue_profit_financial_earn_annually",
          "region_regional_geographically_continent_subsidiary",
          "decline_sale_decrease_distributor_wholesale",
          "emea_impact_europe_scandinavia_growth",
          "emea_impact_europe_scandinavia_growth",
          "expect_expectation_assume_line_forecast",
          "statement_imply_earnings_condition_forward",
          "offset_adjustment_impact_effect_deceleration",
          "suspension_revenue_filtration_ramping_expense",
          "volume_impact_growth_extent_decrease",
          "ebitda_ebit_ebita_margins_margin",
          "organic_organically_growth_grow_yield",
          "expect_expectation_earnings_imply_statement",
          "currency_ruble_usd_euro_depreciation",
          "ebitda_ebit_earnings_offset_decrease",
          "emea_impact_europe_scandinavia_growth",
          "revenue_profit_business_financial_earn",
          "sale_business_buyout_purchase_impact",
          "sale_total_amount_trading_percentage",
          "revenue_growth_earnings_organic_ebit",
          "europe_european_eu_asia_eastern",
          "inflation_inflationary_macroeconomic_recession_economy",
          "production_coal_energy_oil_gas"
         ],
         "marker": {
          "color": "black"
         },
         "mode": "markers",
         "showlegend": false,
         "type": "scatter",
         "x": [
          0.9223638194820878,
          0.8279578710481219,
          0.866874161070164,
          0.9348824683274796,
          0.9926286469840743,
          0.8538207183563059,
          0.8588681838539797,
          0.627048408466216,
          0.6422799114140751,
          0.5775279993312703,
          1.213073684423729,
          0.5333868062751139,
          1.2483680711637308,
          1.1543623704346408,
          0.47840159416933725,
          0.7766385376774222,
          0.72581315658957,
          0.9315379708649852,
          0.9053371469035563,
          0.7422729148293497,
          1.0160230169681919,
          0.9063119549204598,
          0.9731480077982114,
          1.0520369307046267,
          1.0239108749308439,
          1.249490944939126,
          0.8613599403965747,
          0.8000418721569771,
          0.8364468870850148,
          0.8883001832902944,
          0.9236881039406768,
          0.9408303251276235,
          0.9975614383247711,
          1.021198785609892,
          1.0826802705934537,
          0.8857095365138448,
          0.8500938531928234,
          0.9886091995546384,
          1.127469994611429,
          0.8534971800818462,
          0.8260937592911445,
          1.0285828242672654,
          1.1188653660220105,
          0.8878899059235087,
          0.8439939392827623,
          0.9541233058621695,
          0.9276656852125762,
          0.979659062866522,
          0.9924331932150087,
          1.0241590568297694,
          0.910512213869016,
          0.9267858969834912,
          0.9177792173864234,
          0.9481011140583997,
          1.0202736877371759,
          1.0464423086891421,
          0.9570972407211396,
          0.8822173545170466,
          0.9076485207019493,
          0.9345685528473058,
          0.9857222273663577,
          0.9924840441919666,
          1,
          1.0111555355668744,
          1.0336754881707513,
          0.9635231553706997,
          1.0563699278422585,
          1.0636935714130402,
          0.8758685667124236,
          1.0981163341689835,
          0.8543742585360756,
          1.0557902100565613,
          0.9614786647452859,
          0.9690756789530505,
          1.0406572453766374,
          0.817529637511829,
          1.0907379774876456,
          1.1048408347645413,
          1.1040420269929574,
          1.0791676516291404,
          0.9819770686732181,
          0.8952276688253334,
          0.7998251351014657,
          1.043390112083798,
          1.1560943457400705,
          1.1426217525695965,
          1.1492921041975703,
          0.8374777708889845,
          0.8336230821470456,
          0.9318719933559336,
          1.1140486678804866,
          0.6747919629997841,
          1.229127795237479,
          1.170471547445495,
          0.7536108771108971,
          0.8403940793122893,
          0.7899792200081364,
          0.9224707946420457,
          0.7208623570798303,
          0.971852299944925,
          1.028904504788964,
          1.1059618923054493,
          1.1819276923797695,
          0.4693828686835767,
          1.286018243975702,
          0.7121096852209869,
          0.7177115550926492,
          1.1214238217173433,
          1.3159219324131992,
          1.0263952990568557,
          0.416498865756597,
          0.7536013029934185,
          0.9197591401065007,
          1.232392334461719,
          0.8304242642418145,
          1.3472287364085087,
          0.7363383685998268,
          0.647710689412125,
          0.8153616864851361,
          0.888878226334843,
          1.0145757852169213,
          0.5614966458550212,
          0.6917364450472951,
          0.9021641657836469,
          1.0234121787310955,
          0.7911969499315152,
          1.0490268325712822,
          0.8915197571196195,
          1.054110700516163,
          0.9221385826449096,
          0.7212893735057219,
          1.1189358734979147,
          1.2033333191342703,
          1.2477502990805125,
          1.1706929933011427,
          1.407401931276995,
          1.4190574758014234,
          1.3846797943531892,
          0.5761513326414354,
          0.6314101211051074,
          0.7783423250161186,
          0.8439448600288073,
          0.9187192771472908,
          1.0985616156094649,
          1.2422081579731277,
          0.4135817677947854,
          0.8799547789107239,
          0.8038476304663515,
          1.3655782106227234,
          0.4666354485688935,
          1.5716068528070657,
          1.4316096065320734,
          0.4433197045754388,
          0.38562079998889476,
          0.5878747635200093,
          0.7259889424015671,
          0.7812552363543747,
          0.8946046054354626,
          0.8203249910923441,
          0.3760231388289217,
          0.8477512445464825,
          0.91054395825645,
          1.2084435543222432,
          0.6213650267895753,
          1.2832215972794465,
          0.6064729461355871,
          0.6221070986939156,
          0.5559201033039407,
          0.7013042379805889,
          0.5293631580668763,
          0.8130577404149626,
          0.7526873600368733,
          0.8340924504275313,
          0.880113436692495,
          0.8198973933438235,
          0.9004781961634547,
          0.8698431623157734,
          0.8016779326563879,
          0.907647766407557,
          0.7807681920520291,
          0.9359804700775146,
          1.1124599514213442,
          0.9290938577103042,
          1.1355426639136,
          1.1038980976726411,
          1.2277824387806549,
          0.7489516969408173,
          0.6536507096489872,
          1.3788833676944448,
          0.8339998562981267,
          1.5882929975391828,
          1.7143610228306028
         ],
         "y": [
          -40,
          -80,
          -87.5,
          -98.75,
          -50,
          -12.5,
          -200,
          -180,
          -160,
          -140,
          -158.4375,
          -250,
          -194.21875,
          -46.71875,
          -290,
          -320,
          -360,
          -327.5,
          -390,
          -430,
          -400,
          -462.5,
          -473.75,
          -418.75,
          -341.875,
          -397.34375,
          -297.5,
          -542.5,
          -610,
          -590,
          -640,
          -680,
          -650,
          -603.75,
          -636.25,
          -730,
          -770,
          -740,
          -760,
          -840,
          -880,
          -850,
          -870,
          -960,
          -940,
          -1020,
          -1080,
          -1060,
          -1030,
          -1051.875,
          -1000,
          -1170,
          -1150,
          -1130,
          -1146.875,
          -1040.46875,
          -1260,
          -1240,
          -1220,
          -1370,
          -1342.5,
          -1430,
          -1410,
          -1425,
          -1361.25,
          -1312.5,
          -1237.8125,
          -1106.953125,
          -1490,
          -1202.5390625,
          -1530,
          -1540,
          -1622.5,
          -1592.5,
          -1614.375,
          -1690,
          -1642.1875,
          -1555,
          -1351.26953125,
          -955,
          -1732.5,
          -1800,
          -1780,
          -1746.25,
          -1218.5791015625,
          -895,
          -786.25,
          -1880,
          -1850,
          -1912.5,
          -1863.125,
          -1830,
          -990.4473876953125,
          -673.125,
          -1980,
          -2030,
          -2010,
          -1987.5,
          -2060,
          -2112.5,
          -2126.25,
          -2071.25,
          -2005.625,
          -1960,
          -1049.7602844238281,
          -2200,
          -2180,
          -2195,
          -1528.981704711914,
          -556.25,
          -2260,
          -2310,
          -2306.25,
          -2270,
          -2362.5,
          -2296.5625,
          -2440,
          -2412.5,
          -2520,
          -2500,
          -2513.75,
          -2480,
          -2590,
          -2570,
          -2583.75,
          -2640,
          -2601.875,
          -2670,
          -2624.6875,
          -2730,
          -2710,
          -2652.34375,
          -2505.9375,
          -2596.9921875,
          -2431.25,
          -2336.40625,
          -1214.7454261779785,
          -378.0859375,
          -2830,
          -2810,
          -2860,
          -2910,
          -2920,
          -2871.25,
          -2823.75,
          -3010,
          -3006.25,
          -2972.5,
          -2863.4375,
          -2782.5,
          -1104.1392374038696,
          -136.9140625,
          -3060,
          -3090,
          -3170,
          -3150,
          -3200,
          -3163.75,
          -3122.5,
          -3260,
          -3240,
          -3253.75,
          -3154.6875,
          -3312.5,
          -3213.28125,
          -3097.5,
          -3056.25,
          -3370,
          -3350,
          -3430,
          -3402.5,
          -3460,
          -3467.5,
          -3476.25,
          -3570,
          -3566.25,
          -3540,
          -3520,
          -3622.5,
          -3670,
          -3636.25,
          -3540.78125,
          -3702.5,
          -3598.828125,
          -3488.125,
          -3420,
          -3760,
          -3740,
          -3496.103515625,
          -3363.75,
          -3119.62890625,
          -1058.5543406009674
         ]
        },
        {
         "hoverinfo": "text",
         "hovertext": [
          "employee_employment_employ_occupation_staff",
          "stand_support_adjust_group_away",
          "safety_priority_safeguard_employee_prioritize",
          "humanitarian_refugee_aid_ukrainian_charity",
          "humanitarian_refugee_charity_donation_charitable",
          "sympathy_empathy_grief_compassion_sorrow",
          "tragedy_catastrophe_disaster_humanitarian_sympathy",
          "tragedy_catastrophe_disaster_tragic_sympathy",
          "moment_business_mean_applicable_release",
          "think_thought_impact_mind_idea",
          "thought_think_mind_idea_people",
          "tragedy_catastrophe_disaster_humanitarian_sympathy",
          "eur_impairment_asset_impaired_ifrs",
          "eur_asset_ifrs_financial_zar",
          "balance_sheet_asset_inventory_liquidity",
          "rwa_cet1_ce_eur_growth",
          "ratio_combine_consolidate_loss_storm",
          "reserve_credit_debt_bankruptcy_loans",
          "chf_insurer_noninsurance_loss_insurance",
          "dividend_balance_cash_consolidate_collateral",
          "sek_sek14_sek13_sek10_sek133",
          "eur_impairment_asset_income_equity",
          "trial_clinical_fda_patient_enrollment",
          "vascular_appointment_hemodialysis_surgeon_arterial",
          "tension_distressing_shock_turmoil_unrest",
          "cybersecurity_cyberwarfare_cyber_cyberattack_cybercrime",
          "missile_radar_tactical_artillery_military",
          "cybersecurity_cyber_cyberattack_cybercrime_attack",
          "defence_defense_spending_budget_funding",
          "bank_banking_sberbank_loan_mortgage",
          "franchisee_franchisor_franchise_restaurant_kfc",
          "franchisee_franchisor_franchise_restaurant_kfc",
          "compliance_comply_compliant_regulation_regulatory",
          "compliance_regulatory_regulation_comply_compliant",
          "contingency_orderly_consideration_anticipation_decision",
          "respect_consideration_mean_understand_situation",
          "respect_business_consideration_marketing_mean",
          "building_build_arctic_construction_project",
          "address_ip_want_result_open",
          "address_ip_want_result_open",
          "cobalt_nordion_buy_argentina_canada",
          "wind_windstorm_windfall_unwind_cost",
          "wind_unwind_cost_business_mining",
          "backlog_order_contractual_reverse_prediction",
          "backlog_wind_order_decision_business",
          "investment_invest_investor_investable_portfolio",
          "investment_invest_investor_investable_portfolio",
          "advertising_advertiser_ad_commercial_revenue",
          "investment_invest_investor_fund_capex",
          "sorting_sort_order_number_position",
          "sorting_sort_order_suggest_position",
          "sorting_sort_order_mention_suggest",
          "sorting_sort_order_mention_suggest",
          "accelerate_pressure_accelerator_rapid_intensified",
          "winter_wintertime_seasonality_wintershall_energy",
          "shanghai_beijing_chinese_mainland_city",
          "easter_holiday_christmas_damage_february",
          "outbreak_ebola_infection_flu_threat",
          "gbp_gbs_profit_gbs1_lpp",
          "dairy_farming_farm_agriculture_milk",
          "gbp_outbreak_gbs_gbs1_profit",
          "gbp_gbs_profit_retail_pbt",
          "gbp_gbs_profit_pbt_retail",
          "sort_order_say_recent_see",
          "moscow_petersburg_st_arctic_paris",
          "moscow_strategic_strategical_petersburg_business",
          "expansion_prolong_assumption_expand_residual",
          "client_consulting_provider_business_service",
          "taiwan_asia_myanmar_korea_japan",
          "delay_timing_pause_shift_situation",
          "time_early_late_happen_timely",
          "clear_visibility_transparent_transparency_calm",
          "rest_restructure_mena_group_release",
          "exacerbate_jeopardizing_turbulence_turbulent_effect",
          "exacerbate_jeopardizing_turbulence_turbulent_situation",
          "taiwan_korea_pacific_turbulent_thailand",
          "client_provider_service_corporate_develop",
          "client_wind_cost_business_sort",
          "wood_woodwork_lumber_timber_wooden",
          "finland_finnish_nordic_nordics_sweden",
          "poultry_chicken_mhp_meat_production",
          "uranium_reactor_nuclear_enrichment_isotope",
          "supply_uranium_supplier_birch_lumber",
          "uranium_enrichment_lumber_utilization_reactor",
          "wood_lumber_birch_uranium_hardwood",
          "airspace_airline_flight_closure_traffic",
          "airspace_airline_flight_closure_traffic",
          "port_freighter_naval_sea_vessel",
          "freight_rail_turnover_railcar_railroad",
          "tanker_freighter_freight_ship_fleet",
          "airspace_airline_flight_airport_traffic",
          "airspace_airline_flight_traffic_aerospace",
          "uranium_kazakhstan_nuclear_asia_enrichment",
          "wheat_maize_corn_agriculture_agricultural",
          "wheat_maize_agriculture_corn_agricultural",
          "poland_gdansk_polish_krakow_lithuania",
          "poland_polish_krakow_slovakia_hungary",
          "titanium_supplier_vendor_manufacturer_factory",
          "nickel_alloy_mined_aluminum_palladium",
          "wiring_harness_wire_electrical_cable",
          "wiring_harness_wire_supplier_automaker",
          "poland_hungary_romania_slovakia_krakow",
          "wheat_agricultural_corn_crop_produce",
          "fertilizer_wheat_produce_corn_planting",
          "belarus_belarusian_kazakhstan_moldova_country",
          "belarus_belarusian_kazakhstan_moldova_country",
          "store_retailer_retail_distributor_marketplace",
          "belarus_belarusian_kazakhstan_moldova_revenue",
          "belarus_belarusian_kazakhstan_subsidiary_poland",
          "talk_conversation_communicate_speech_hear",
          "start_begin_starting_beginning_let",
          "february_march_june_april_january",
          "february_march_june_april_january",
          "update_announce_provide_status_operation",
          "comment_commenting_remark_respond_response",
          "comment_commenting_respond_remark_response",
          "course_currently_shall_aware_secondly",
          "effect_affect_knock_reflection_turn",
          "effect_affect_illustrate_subject_reflection",
          "situation_scenario_circumstance_complication_case",
          "word_situation_scenario_task_circumstance",
          "word_situation_english_answer_scenario",
          "impact_impacting_effect_damage_affect",
          "mean_business_perspective_interpretation_meaningful",
          "market_opportunity_media_cartel_application",
          "macro_disrupt_relevance_overview_aerovironment",
          "macro_macroeconomy_evolve_evolution_emergence",
          "forecast_forecasting_predict_prediction_unpredictable",
          "monitoring_monitor_development_assess_develop",
          "monitoring_development_develop_impacting_mitigation",
          "business_small_tiny_company_wholesale",
          "monitoring_situation_monitor_watch_disruption",
          "course_certainly_impact_situation_clearly",
          "impact_effect_situation_business_affect",
          "belarus_belarusian_kazakhstan_poland_impact",
          "raw_material_tissue_packaging_recycled",
          "steel_alloy_aluminium_aluminum_stainless",
          "oil_petroleum_crude_refinery_fuel",
          "oil_petroleum_refinery_export_crude",
          "tonnage_tonne_ton_lpg_demand",
          "grain_ton_sea_food_market",
          "coal_market_demand_gas_supply",
          "petroleum_refinery_coal_oil_diesel",
          "energy_electricity_renewable_power_fuel",
          "gas_supply_natural_chemical_shortage",
          "gas_pipeline_pipe_supply_lng",
          "gas_fuel_pipeline_supply_supplies",
          "refinery_pipeline_coal_diesel_demand",
          "coal_fuel_renewable_diesel_oil",
          "belarus_export_europe_kazakhstan_eur",
          "headwind_tailwind_momentum_unsteady_congestion",
          "demand_tariff_utility_increase_industrial",
          "inflation_inflationary_monetary_demand_dollar",
          "pricing_increase_cost_additional_price",
          "commodity_pricing_market_price_cost",
          "inflation_inflationary_macroeconomic_monetary_economic",
          "disruption_logistics_impacting_impact_chain",
          "challenge_challenging_difficulty_showdown_difficult",
          "disruption_logistics_chain_impacting_impact",
          "inflation_inflationary_recession_macroeconomic_interest",
          "inflation_inflationary_macroeconomic_recession_interest",
          "inflation_inflationary_macroeconomic_shortage_recession",
          "inflation_inflationary_macroeconomic_recession_monetary",
          "europe_european_geographically_asia_east",
          "regional_geographically_region_subsidiary_geography",
          "revenue_profit_business_financial_earn",
          "growth_digit_europe_number_conversion",
          "statement_imply_condition_earnings_assumption",
          "earnings_earning_eps_impact_currency",
          "expect_imply_earnings_statement_impact",
          "statement_imply_earnings_condition_forward",
          "exclude_minus_remove_negatively_decrease",
          "organic_growth_organically_grow_raise",
          "ebitda_ebit_ebita_margins_leverage",
          "growth_organic_organically_decrease_impact",
          "currency_euro_fluctuation_dollar_impact",
          "ruble_currency_usd_euro_dollar",
          "revenue_earnings_growth_ebitda_ebit",
          "revenue_ebit_ebitda_earnings_growth",
          "sale_purchase_buy_auction_shopping",
          "sale_purchase_buy_auction_deal",
          "ebitda_ebit_revenue_earnings_decrease",
          "growth_revenue_organic_earnings_organically",
          "inflation_inflationary_macroeconomic_growth_revenue"
         ],
         "marker": {
          "color": "black"
         },
         "mode": "markers",
         "showlegend": false,
         "type": "scatter",
         "x": [
          0.7150135038368136,
          0.8362109690932449,
          0.6700319734877175,
          0.9475915243835954,
          1.1152828659965321,
          0.9342016186540062,
          1.0389223431279524,
          1.1713870128105695,
          0.5174404273909485,
          0.69262119291799,
          0.865759812191324,
          1.3876439542307626,
          0.8639737516034239,
          0.9538713842910815,
          0.9576682068273101,
          0.9558285320363146,
          0.7956069752656214,
          0.813170290923832,
          1.0148593627204328,
          1.1885531064945143,
          0.4612843834096698,
          1.2907846345603675,
          0.6755029020165051,
          0.8648282934321921,
          0.9271486890405355,
          0.845672069301144,
          0.9632886659174472,
          1.0253245284728578,
          0.654738836578153,
          0.8425410964798188,
          0.8001787383087122,
          1.0659998866507765,
          0.8297755477570421,
          0.9193078768077815,
          0.8607643765141381,
          0.8743089528716909,
          1.083095261832959,
          0.7754462160187938,
          0.885346060264,
          1.0600865971298545,
          0.9479955232896854,
          0.9792169083939787,
          0.9995660351144725,
          0.9509530948149183,
          1.0255070685008199,
          0.9697184993179679,
          1.0130865528325037,
          0.8907493117937635,
          1.0515558647279695,
          0.9430091183375293,
          0.9797685006099354,
          1.0089097044434694,
          1.0387125172156113,
          0.9272670642015298,
          0.9438073305433083,
          0.9548004385336588,
          0.9970136072436666,
          0.9754953057484947,
          0.9980369628247305,
          0.955426723148031,
          1.0283320415012134,
          1.0446702525214926,
          1.0502736832839747,
          1.0731957734325246,
          0.8886166247644027,
          1.066563283263515,
          0.8845035152130798,
          0.797585993242892,
          0.9006205826251756,
          0.9150652298829092,
          0.8819131868982978,
          0.9971594125914016,
          0.8704299499733122,
          0.9311102483322623,
          1.0413435020553097,
          1.1188103147387456,
          1.1329954050537026,
          1.1402678789502356,
          0.8111466419348052,
          0.9222486050230652,
          0.9399569121022663,
          1.0935190547119762,
          1.1415863243068622,
          1.1797260851108138,
          1.1856071261791647,
          0.9168280244577797,
          0.9771951658198534,
          0.8675666748976544,
          0.8236379353819626,
          1.088922486477128,
          1.1568249650719942,
          1.2109149966493062,
          1.2438562888142912,
          0.9149934639589399,
          1.0917842269082358,
          0.7845304284529084,
          0.954813217816093,
          0.8949951578360652,
          0.9314512421978696,
          0.6882840187466192,
          1.0842604448013748,
          1.2029941984460395,
          1.2459895383588169,
          1.3006418134557718,
          0.870150655358624,
          0.9471994264315224,
          0.5483152987599438,
          1.2404088762297387,
          1.3355912771656016,
          0.4340318345119226,
          0.8768806288254697,
          0.6264492209280879,
          1.1557342449347057,
          0.3239067364133207,
          0.3861470103243879,
          1.2998390921800098,
          0.6010091101409804,
          0.8729535347794344,
          1.0149274487540774,
          0.9523003317726437,
          0.6711364730973823,
          1.1042870659526478,
          0.9355039469368814,
          0.7964885812759914,
          0.9357480055058917,
          0.8629494822445232,
          0.9929334498680579,
          0.9658889313017314,
          1.0288749726721982,
          1.1883415907983366,
          0.44587150816305465,
          1.3030920515094027,
          1.3739365604828033,
          1.4732822524484273,
          1.4994442029078578,
          0.2966193912448174,
          0.8383399277430148,
          0.7021238002999143,
          0.7912987642936851,
          0.7827592650012066,
          0.5812462407082327,
          1.0668161382227364,
          1.3149502690149675,
          0.5939925081640112,
          0.8378480679326457,
          0.9447176224521096,
          1.0580972795031107,
          1.4669267187171073,
          1.5174804134046411,
          1.6819626178840505,
          0.49451299645731445,
          0.7291186193738106,
          0.7812225044696121,
          0.8529985101460975,
          0.9326810857455105,
          1.1647395881570561,
          0.8255195531082813,
          0.7651882670406682,
          1.0153954211730893,
          0.3885111126331491,
          0.74568790640817,
          1.4664995449730505,
          1.505870374030693,
          0.7640015450845579,
          0.7163720224115272,
          0.7000343322495186,
          0.49566320232373406,
          0.8858435229319531,
          0.7627587412674578,
          1.0052540646700663,
          1.04256671561859,
          0.8741902865053899,
          0.8294252522756165,
          0.9414621311894724,
          1.0395506976940443,
          0.7078655290806863,
          0.9719300937951685,
          1.169556990000051,
          1.2776152796535571,
          0.8128590393803803,
          0.8612010385333906,
          1.44830299210671,
          1.5416604988918816,
          1.8401281954061817
         ],
         "y": [
          -20,
          -60,
          -110,
          -111.875,
          -80.9375,
          -207.5,
          -193.75,
          -176.875,
          -230,
          -270,
          -260,
          -227.109375,
          -367.5,
          -356.25,
          -410,
          -437.5,
          -470,
          -500,
          -486.875,
          -452.8125,
          -520,
          -458.671875,
          -550,
          -570,
          -617.5,
          -660,
          -687.5,
          -668.75,
          -710,
          -750,
          -790,
          -780,
          -820,
          -812.5,
          -860,
          -900,
          -890,
          -920,
          -980,
          -970,
          -1040,
          -1087.5,
          -1073.75,
          -1110,
          -1080.9375,
          -1177.5,
          -1163.75,
          -1200,
          -1173.4375,
          -1290,
          -1282.5,
          -1271.25,
          -1255.625,
          -1320,
          -1350,
          -1390,
          -1380,
          -1450,
          -1440,
          -1470,
          -1447.5,
          -1404.375,
          -1358.4375,
          -1298.125,
          -1510,
          -1500,
          -1550,
          -1570,
          -1600,
          -1630,
          -1650,
          -1636.25,
          -1670,
          -1710,
          -1700,
          -1671.09375,
          -1613.046875,
          -1482.158203125,
          -1740,
          -1760,
          -1807.5,
          -1793.75,
          -1770,
          -1494.28955078125,
          -1194.644775390625,
          -1887.5,
          -1876.25,
          -1920,
          -1940,
          -1926.25,
          -1894.6875,
          -1862.34375,
          -1426.3955688476562,
          -2037.5,
          -2023.75,
          -2090,
          -2082.5,
          -2120,
          -2140,
          -2160,
          -2143.125,
          -2107.1875,
          -2056.40625,
          -2008.203125,
          -2220,
          -2210,
          -2240,
          -2217.5,
          -1873.240852355957,
          -2280,
          -2317.5,
          -2340,
          -2323.125,
          -2370,
          -2390,
          -2376.25,
          -2420,
          -2460,
          -2450,
          -2527.5,
          -2550,
          -2531.875,
          -2597.5,
          -2620,
          -2647.5,
          -2690,
          -2680,
          -2737.5,
          -2723.75,
          -2688.046875,
          -2760,
          -2678.49609375,
          -2554.873046875,
          -2445.6396484375,
          -1830.1925373077393,
          -2790,
          -2837.5,
          -2890,
          -2882.5,
          -2930,
          -2950,
          -2935,
          -2903.125,
          -2980,
          -3017.5,
          -3020.625,
          -2996.5625,
          -2930,
          -2856.25,
          -1980.1946187019348,
          -3067.5,
          -3130,
          -3177.5,
          -3220,
          -3210,
          -3186.875,
          -3267.5,
          -3290,
          -3271.875,
          -3320,
          -3323.75,
          -3268.515625,
          -3183.0078125,
          -3377.5,
          -3410,
          -3437.5,
          -3500,
          -3577.5,
          -3600,
          -3583.125,
          -3561.5625,
          -3630,
          -3650,
          -3677.5,
          -3656.875,
          -3710,
          -3713.75,
          -3656.2890625,
          -3572.20703125,
          -3767.5,
          -3753.75,
          -3624.9267578125,
          -3494.33837890625,
          -3306.983642578125
         ]
        }
       ],
       "layout": {
        "autosize": false,
        "height": 5870,
        "hoverlabel": {
         "bgcolor": "white",
         "font": {
          "family": "Rockwell",
          "size": 16
         }
        },
        "hovermode": "closest",
        "plot_bgcolor": "#ECEFF1",
        "showlegend": false,
        "template": {
         "data": {
          "bar": [
           {
            "error_x": {
             "color": "#2a3f5f"
            },
            "error_y": {
             "color": "#2a3f5f"
            },
            "marker": {
             "line": {
              "color": "white",
              "width": 0.5
             },
             "pattern": {
              "fillmode": "overlay",
              "size": 10,
              "solidity": 0.2
             }
            },
            "type": "bar"
           }
          ],
          "barpolar": [
           {
            "marker": {
             "line": {
              "color": "white",
              "width": 0.5
             },
             "pattern": {
              "fillmode": "overlay",
              "size": 10,
              "solidity": 0.2
             }
            },
            "type": "barpolar"
           }
          ],
          "carpet": [
           {
            "aaxis": {
             "endlinecolor": "#2a3f5f",
             "gridcolor": "#C8D4E3",
             "linecolor": "#C8D4E3",
             "minorgridcolor": "#C8D4E3",
             "startlinecolor": "#2a3f5f"
            },
            "baxis": {
             "endlinecolor": "#2a3f5f",
             "gridcolor": "#C8D4E3",
             "linecolor": "#C8D4E3",
             "minorgridcolor": "#C8D4E3",
             "startlinecolor": "#2a3f5f"
            },
            "type": "carpet"
           }
          ],
          "choropleth": [
           {
            "colorbar": {
             "outlinewidth": 0,
             "ticks": ""
            },
            "type": "choropleth"
           }
          ],
          "contour": [
           {
            "colorbar": {
             "outlinewidth": 0,
             "ticks": ""
            },
            "colorscale": [
             [
              0,
              "#0d0887"
             ],
             [
              0.1111111111111111,
              "#46039f"
             ],
             [
              0.2222222222222222,
              "#7201a8"
             ],
             [
              0.3333333333333333,
              "#9c179e"
             ],
             [
              0.4444444444444444,
              "#bd3786"
             ],
             [
              0.5555555555555556,
              "#d8576b"
             ],
             [
              0.6666666666666666,
              "#ed7953"
             ],
             [
              0.7777777777777778,
              "#fb9f3a"
             ],
             [
              0.8888888888888888,
              "#fdca26"
             ],
             [
              1,
              "#f0f921"
             ]
            ],
            "type": "contour"
           }
          ],
          "contourcarpet": [
           {
            "colorbar": {
             "outlinewidth": 0,
             "ticks": ""
            },
            "type": "contourcarpet"
           }
          ],
          "heatmap": [
           {
            "colorbar": {
             "outlinewidth": 0,
             "ticks": ""
            },
            "colorscale": [
             [
              0,
              "#0d0887"
             ],
             [
              0.1111111111111111,
              "#46039f"
             ],
             [
              0.2222222222222222,
              "#7201a8"
             ],
             [
              0.3333333333333333,
              "#9c179e"
             ],
             [
              0.4444444444444444,
              "#bd3786"
             ],
             [
              0.5555555555555556,
              "#d8576b"
             ],
             [
              0.6666666666666666,
              "#ed7953"
             ],
             [
              0.7777777777777778,
              "#fb9f3a"
             ],
             [
              0.8888888888888888,
              "#fdca26"
             ],
             [
              1,
              "#f0f921"
             ]
            ],
            "type": "heatmap"
           }
          ],
          "heatmapgl": [
           {
            "colorbar": {
             "outlinewidth": 0,
             "ticks": ""
            },
            "colorscale": [
             [
              0,
              "#0d0887"
             ],
             [
              0.1111111111111111,
              "#46039f"
             ],
             [
              0.2222222222222222,
              "#7201a8"
             ],
             [
              0.3333333333333333,
              "#9c179e"
             ],
             [
              0.4444444444444444,
              "#bd3786"
             ],
             [
              0.5555555555555556,
              "#d8576b"
             ],
             [
              0.6666666666666666,
              "#ed7953"
             ],
             [
              0.7777777777777778,
              "#fb9f3a"
             ],
             [
              0.8888888888888888,
              "#fdca26"
             ],
             [
              1,
              "#f0f921"
             ]
            ],
            "type": "heatmapgl"
           }
          ],
          "histogram": [
           {
            "marker": {
             "pattern": {
              "fillmode": "overlay",
              "size": 10,
              "solidity": 0.2
             }
            },
            "type": "histogram"
           }
          ],
          "histogram2d": [
           {
            "colorbar": {
             "outlinewidth": 0,
             "ticks": ""
            },
            "colorscale": [
             [
              0,
              "#0d0887"
             ],
             [
              0.1111111111111111,
              "#46039f"
             ],
             [
              0.2222222222222222,
              "#7201a8"
             ],
             [
              0.3333333333333333,
              "#9c179e"
             ],
             [
              0.4444444444444444,
              "#bd3786"
             ],
             [
              0.5555555555555556,
              "#d8576b"
             ],
             [
              0.6666666666666666,
              "#ed7953"
             ],
             [
              0.7777777777777778,
              "#fb9f3a"
             ],
             [
              0.8888888888888888,
              "#fdca26"
             ],
             [
              1,
              "#f0f921"
             ]
            ],
            "type": "histogram2d"
           }
          ],
          "histogram2dcontour": [
           {
            "colorbar": {
             "outlinewidth": 0,
             "ticks": ""
            },
            "colorscale": [
             [
              0,
              "#0d0887"
             ],
             [
              0.1111111111111111,
              "#46039f"
             ],
             [
              0.2222222222222222,
              "#7201a8"
             ],
             [
              0.3333333333333333,
              "#9c179e"
             ],
             [
              0.4444444444444444,
              "#bd3786"
             ],
             [
              0.5555555555555556,
              "#d8576b"
             ],
             [
              0.6666666666666666,
              "#ed7953"
             ],
             [
              0.7777777777777778,
              "#fb9f3a"
             ],
             [
              0.8888888888888888,
              "#fdca26"
             ],
             [
              1,
              "#f0f921"
             ]
            ],
            "type": "histogram2dcontour"
           }
          ],
          "mesh3d": [
           {
            "colorbar": {
             "outlinewidth": 0,
             "ticks": ""
            },
            "type": "mesh3d"
           }
          ],
          "parcoords": [
           {
            "line": {
             "colorbar": {
              "outlinewidth": 0,
              "ticks": ""
             }
            },
            "type": "parcoords"
           }
          ],
          "pie": [
           {
            "automargin": true,
            "type": "pie"
           }
          ],
          "scatter": [
           {
            "fillpattern": {
             "fillmode": "overlay",
             "size": 10,
             "solidity": 0.2
            },
            "type": "scatter"
           }
          ],
          "scatter3d": [
           {
            "line": {
             "colorbar": {
              "outlinewidth": 0,
              "ticks": ""
             }
            },
            "marker": {
             "colorbar": {
              "outlinewidth": 0,
              "ticks": ""
             }
            },
            "type": "scatter3d"
           }
          ],
          "scattercarpet": [
           {
            "marker": {
             "colorbar": {
              "outlinewidth": 0,
              "ticks": ""
             }
            },
            "type": "scattercarpet"
           }
          ],
          "scattergeo": [
           {
            "marker": {
             "colorbar": {
              "outlinewidth": 0,
              "ticks": ""
             }
            },
            "type": "scattergeo"
           }
          ],
          "scattergl": [
           {
            "marker": {
             "colorbar": {
              "outlinewidth": 0,
              "ticks": ""
             }
            },
            "type": "scattergl"
           }
          ],
          "scattermapbox": [
           {
            "marker": {
             "colorbar": {
              "outlinewidth": 0,
              "ticks": ""
             }
            },
            "type": "scattermapbox"
           }
          ],
          "scatterpolar": [
           {
            "marker": {
             "colorbar": {
              "outlinewidth": 0,
              "ticks": ""
             }
            },
            "type": "scatterpolar"
           }
          ],
          "scatterpolargl": [
           {
            "marker": {
             "colorbar": {
              "outlinewidth": 0,
              "ticks": ""
             }
            },
            "type": "scatterpolargl"
           }
          ],
          "scatterternary": [
           {
            "marker": {
             "colorbar": {
              "outlinewidth": 0,
              "ticks": ""
             }
            },
            "type": "scatterternary"
           }
          ],
          "surface": [
           {
            "colorbar": {
             "outlinewidth": 0,
             "ticks": ""
            },
            "colorscale": [
             [
              0,
              "#0d0887"
             ],
             [
              0.1111111111111111,
              "#46039f"
             ],
             [
              0.2222222222222222,
              "#7201a8"
             ],
             [
              0.3333333333333333,
              "#9c179e"
             ],
             [
              0.4444444444444444,
              "#bd3786"
             ],
             [
              0.5555555555555556,
              "#d8576b"
             ],
             [
              0.6666666666666666,
              "#ed7953"
             ],
             [
              0.7777777777777778,
              "#fb9f3a"
             ],
             [
              0.8888888888888888,
              "#fdca26"
             ],
             [
              1,
              "#f0f921"
             ]
            ],
            "type": "surface"
           }
          ],
          "table": [
           {
            "cells": {
             "fill": {
              "color": "#EBF0F8"
             },
             "line": {
              "color": "white"
             }
            },
            "header": {
             "fill": {
              "color": "#C8D4E3"
             },
             "line": {
              "color": "white"
             }
            },
            "type": "table"
           }
          ]
         },
         "layout": {
          "annotationdefaults": {
           "arrowcolor": "#2a3f5f",
           "arrowhead": 0,
           "arrowwidth": 1
          },
          "autotypenumbers": "strict",
          "coloraxis": {
           "colorbar": {
            "outlinewidth": 0,
            "ticks": ""
           }
          },
          "colorscale": {
           "diverging": [
            [
             0,
             "#8e0152"
            ],
            [
             0.1,
             "#c51b7d"
            ],
            [
             0.2,
             "#de77ae"
            ],
            [
             0.3,
             "#f1b6da"
            ],
            [
             0.4,
             "#fde0ef"
            ],
            [
             0.5,
             "#f7f7f7"
            ],
            [
             0.6,
             "#e6f5d0"
            ],
            [
             0.7,
             "#b8e186"
            ],
            [
             0.8,
             "#7fbc41"
            ],
            [
             0.9,
             "#4d9221"
            ],
            [
             1,
             "#276419"
            ]
           ],
           "sequential": [
            [
             0,
             "#0d0887"
            ],
            [
             0.1111111111111111,
             "#46039f"
            ],
            [
             0.2222222222222222,
             "#7201a8"
            ],
            [
             0.3333333333333333,
             "#9c179e"
            ],
            [
             0.4444444444444444,
             "#bd3786"
            ],
            [
             0.5555555555555556,
             "#d8576b"
            ],
            [
             0.6666666666666666,
             "#ed7953"
            ],
            [
             0.7777777777777778,
             "#fb9f3a"
            ],
            [
             0.8888888888888888,
             "#fdca26"
            ],
            [
             1,
             "#f0f921"
            ]
           ],
           "sequentialminus": [
            [
             0,
             "#0d0887"
            ],
            [
             0.1111111111111111,
             "#46039f"
            ],
            [
             0.2222222222222222,
             "#7201a8"
            ],
            [
             0.3333333333333333,
             "#9c179e"
            ],
            [
             0.4444444444444444,
             "#bd3786"
            ],
            [
             0.5555555555555556,
             "#d8576b"
            ],
            [
             0.6666666666666666,
             "#ed7953"
            ],
            [
             0.7777777777777778,
             "#fb9f3a"
            ],
            [
             0.8888888888888888,
             "#fdca26"
            ],
            [
             1,
             "#f0f921"
            ]
           ]
          },
          "colorway": [
           "#636efa",
           "#EF553B",
           "#00cc96",
           "#ab63fa",
           "#FFA15A",
           "#19d3f3",
           "#FF6692",
           "#B6E880",
           "#FF97FF",
           "#FECB52"
          ],
          "font": {
           "color": "#2a3f5f"
          },
          "geo": {
           "bgcolor": "white",
           "lakecolor": "white",
           "landcolor": "white",
           "showlakes": true,
           "showland": true,
           "subunitcolor": "#C8D4E3"
          },
          "hoverlabel": {
           "align": "left"
          },
          "hovermode": "closest",
          "mapbox": {
           "style": "light"
          },
          "paper_bgcolor": "white",
          "plot_bgcolor": "white",
          "polar": {
           "angularaxis": {
            "gridcolor": "#EBF0F8",
            "linecolor": "#EBF0F8",
            "ticks": ""
           },
           "bgcolor": "white",
           "radialaxis": {
            "gridcolor": "#EBF0F8",
            "linecolor": "#EBF0F8",
            "ticks": ""
           }
          },
          "scene": {
           "xaxis": {
            "backgroundcolor": "white",
            "gridcolor": "#DFE8F3",
            "gridwidth": 2,
            "linecolor": "#EBF0F8",
            "showbackground": true,
            "ticks": "",
            "zerolinecolor": "#EBF0F8"
           },
           "yaxis": {
            "backgroundcolor": "white",
            "gridcolor": "#DFE8F3",
            "gridwidth": 2,
            "linecolor": "#EBF0F8",
            "showbackground": true,
            "ticks": "",
            "zerolinecolor": "#EBF0F8"
           },
           "zaxis": {
            "backgroundcolor": "white",
            "gridcolor": "#DFE8F3",
            "gridwidth": 2,
            "linecolor": "#EBF0F8",
            "showbackground": true,
            "ticks": "",
            "zerolinecolor": "#EBF0F8"
           }
          },
          "shapedefaults": {
           "line": {
            "color": "#2a3f5f"
           }
          },
          "ternary": {
           "aaxis": {
            "gridcolor": "#DFE8F3",
            "linecolor": "#A2B1C6",
            "ticks": ""
           },
           "baxis": {
            "gridcolor": "#DFE8F3",
            "linecolor": "#A2B1C6",
            "ticks": ""
           },
           "bgcolor": "white",
           "caxis": {
            "gridcolor": "#DFE8F3",
            "linecolor": "#A2B1C6",
            "ticks": ""
           }
          },
          "title": {
           "x": 0.05
          },
          "xaxis": {
           "automargin": true,
           "gridcolor": "#EBF0F8",
           "linecolor": "#EBF0F8",
           "ticks": "",
           "title": {
            "standoff": 15
           },
           "zerolinecolor": "#EBF0F8",
           "zerolinewidth": 2
          },
          "yaxis": {
           "automargin": true,
           "gridcolor": "#EBF0F8",
           "linecolor": "#EBF0F8",
           "ticks": "",
           "title": {
            "standoff": 15
           },
           "zerolinecolor": "#EBF0F8",
           "zerolinewidth": 2
          }
         }
        },
        "title": {
         "font": {
          "color": "Black",
          "size": 22
         },
         "text": "<b>Hierarchical Clustering</b>",
         "x": 0.5,
         "xanchor": "center",
         "yanchor": "top"
        },
        "width": 1000,
        "xaxis": {
         "mirror": "allticks",
         "rangemode": "tozero",
         "showgrid": false,
         "showline": true,
         "showticklabels": true,
         "ticks": "outside",
         "type": "linear",
         "zeroline": false
        },
        "yaxis": {
         "mirror": "allticks",
         "range": [
          -3780,
          0
         ],
         "rangemode": "tozero",
         "showgrid": false,
         "showline": true,
         "showticklabels": true,
         "tickmode": "array",
         "ticks": "outside",
         "ticktext": [
          "299_salary_payroll_employee",
          "82_employee_staff_office",
          "240_relocation_employee_emp...",
          "188_employ_workforce_employ...",
          "303_people_person_volunteer...",
          "373_customer_partner_employee",
          "245_stand_support_group",
          "143_support_rallying_rally",
          "2_refugee_humanitarian_dona...",
          "4_ukrainian_kiev_crimea",
          "49_colleague_family_relative",
          "25_safety_priority_safeguard",
          "99_team_leadership_leader",
          "264_condemn_mean_strongly",
          "39_aggression_hostility_agg...",
          "68_peace_peaceful_peacefully",
          "177_hope_resolve_hopefully",
          "22_tragedy_tragic_devastation",
          "31_humanitarian_disaster_ca...",
          "144_concerned_concern_worried",
          "117_sympathy_empathy_grief",
          "333_solidarity_people_support",
          "113_moment_present_let",
          "327_moment_business_opportu...",
          "294_affect_think_perception",
          "276_thought_people_right",
          "153_impact_effect_think",
          "146_think_thought_see",
          "170_leasing_lease_rental",
          "138_lease_leasing_airline",
          "229_aircraft_airplane_plane",
          "241_gaap_earnings_compensat...",
          "193_tax_rate_deductible",
          "267_profit_revenue_earnings",
          "291_bond_sovereign_eur",
          "9_eur_eur2_eur15",
          "26_impairment_impaired_expe...",
          "71_asset_attribute_investor",
          "91_dividend_shareholding_di...",
          "42_cash_debit_payment",
          "189_balance_sheet_asset",
          "360_position_direction_play",
          "126_capital_capitalized_lev...",
          "336_cet1_capital_equity",
          "224_rwa_reduce_decrease",
          "53_insurer_reinsurance_rein...",
          "155_loss_lose_estimate",
          "211_ratio_combine_consolidate",
          "246_chf_loss_impact",
          "122_credit_debt_bankruptcy",
          "268_reserve_impairment_stable",
          "337_sek_order_report",
          "88_sek_sek14_sek13",
          "358_site_company_se",
          "247_enrollment_recruiting_a...",
          "51_trial_clinical_fda",
          "257_pharma_appointment_medi...",
          "375_vascular_wound_trauma",
          "105_news_newsflash_newspaper",
          "198_wake_morning_news",
          "104_attack_change_strategy",
          "165_diplomatic_peace_peaceful",
          "124_tension_stress_distress...",
          "252_think_belief_mind",
          "202_food_agriculture_security",
          "288_network_connectivity_se...",
          "48_cybersecurity_cyberwarfa...",
          "145_rebuild_reconstruction_...",
          "131_missile_artillery_javelin",
          "297_drone_unmanned_aerial",
          "84_budget_spending_funding",
          "212_nato_allied_alliance",
          "164_gold_silver_price",
          "66_kazakhstan_kazakh_uzbeki...",
          "18_bank_banking_sberbank",
          "21_loan_loans_lender",
          "355_subsidiary_germany_france",
          "207_subsidiary_multinationa...",
          "208_acquisition_transfer_ow...",
          "187_franchisee_franchisor_f...",
          "218_approval_approve_legisl...",
          "249_legislation_regulation_...",
          "190_compliance_comply_regul...",
          "347_shareholder_investor_co...",
          "351_stakeholder_shareholder...",
          "214_contingency_plan_antici...",
          "273_business_strategy_regret",
          "137_business_vianor_marketing",
          "101_business_profitable_work",
          "323_respect_consideration_m...",
          "357_include_consider_class",
          "322_arctic_shipyard_eur",
          "216_build_building_gtt",
          "301_limited_specific_term",
          "295_direct_directly_",
          "339_materiality_materialize...",
          "206_presence_effect_face",
          "269_highlight_operational_e...",
          "102_address_ip_want",
          "228_topic_subject_topical",
          "258_focus_lens_attention",
          "309_reduce_reduction_downsc...",
          "219_number_mathematical_cal...",
          "116_country_canada_australia",
          "181_cobalt_nordion_buy",
          "307_second_secondly_firstly",
          "160_reminder_remind_sale",
          "54_wind_windstorm_windfall",
          "79_operation_operationally_...",
          "196_brewery_brewer_brewing",
          "106_backlog_contractual_rou...",
          "223_intake_order_stock",
          "313_buyback_repurchase_stock",
          "179_capex_investment_budget",
          "349_cover_let_detail",
          "163_cost_expense_expensive",
          "115_portfolio_asset_investm...",
          "44_investment_invest_investor",
          "220_packaging_goods_profita...",
          "173_majority_fact_largely",
          "238_advertising_advertiser_...",
          "325_globally_global_globalism",
          "118_heart_people_everybody",
          "97_event_occasion_occur",
          "260_note_impact_write",
          "161_customer_consumer_busin...",
          "166_hand_touch_thumb",
          "293_datum_exchange_estate",
          "43_sorting_sort_order",
          "371_thing_currently_decent",
          "271_recession_macroeconomic...",
          "152_pressure_input_cost",
          "324_accelerate_accelerator_...",
          "235_remittance_remit_transfer",
          "234_winter_wintertime_seaso...",
          "354_case__",
          "185_easter_holiday_christmas",
          "195_putin_vladimir_ussr",
          "225_escalation_escalating_e...",
          "184_shanghai_beijing_chinese",
          "12___",
          "330___",
          "132_gbp_gbs_revenue",
          "259_dislocation_damage_occur",
          "76_outbreak_ebola_infection",
          "305_backdrop_background_focus",
          "365_bayer_humanitarian_anti...",
          "326_dairy_farming_farm",
          "203_review_business_strategic",
          "251_strategic_strategical_o...",
          "253_moscow_petersburg_st",
          "266_office_work_stagwell",
          "296_ask_say_look",
          "290_wrinkle_look_overshadow",
          "344_outside_inside_change",
          "109_expansion_prolong_expand",
          "250_multinational_subsidiar...",
          "62_client_consulting_business",
          "287_move_push_away",
          "192_shortage_supply_inventory",
          "197_taiwan_asia_myanmar",
          "135_clear_visibility_transp...",
          "308_bit_little_area",
          "284_delay_timing_pause",
          "162_early_time_late",
          "367_prolong_time_phase",
          "154_rest_restructure_group",
          "281_rounding_approximately_...",
          "311_pricing_itinerary_baltic",
          "289_demand_itinerary_go",
          "213_exacerbate_jeopardizing...",
          "283_turbulence_turbulent_ex...",
          "304_alumina_refinery_aluminum",
          "274_freight_export_supply",
          "28_wood_woodwork_lumber",
          "133_finland_finnish_nordic",
          "210_border_geographically_k...",
          "128_nuclear_reactor_uranium",
          "73_uranium_enrichment_reactor",
          "356_utilization_capacity_de...",
          "167_capacity_utilization_co...",
          "233_poultry_chicken_mhp",
          "372_cetera_et_include",
          "200_inflation_inflationary_...",
          "221_carbon_black_supplier",
          "255_tire_tyre_rubber",
          "320_tourist_tourism_visitor",
          "317_traffic_congestion_tran...",
          "341_passenger_cargo_airline",
          "61_airspace_overflight_airl...",
          "107_tanker_market_fleet",
          "38_port_freighter_naval",
          "368_route_rerouting_reroute",
          "100_freight_rail_railroad",
          "369_turnover_percentage_ove...",
          "205_turkey_turkish_turkcell",
          "256_turkish_turkey_sale",
          "376_australia_zealand_partn...",
          "127_brazil_uruguay_argentina",
          "243_revenue_profit_asia",
          "103_ammonia_fertilizer_nitr...",
          "83_fertilizer_soil_produce",
          "139_agriculture_agricultura...",
          "40_wheat_maize_corn",
          "236_sunflower_oil_wheat",
          "353_facility_location_locate",
          "140_manufacturing_manufactu...",
          "217_plant_produce_production",
          "328_romania_romanian_produce",
          "17_poland_gdansk_polish",
          "306_trucking_truck_trailer",
          "37_supplier_vendor_manufact...",
          "129_titanium_supplier_tikku...",
          "90_nickel_alloy_mined",
          "263_neon_gas_production",
          "110_wiring_harness_wire",
          "366_harness_cable_shortage",
          "285_business_activity_company",
          "237_activity_project_active",
          "52_announce_announcement_ma...",
          "231_march_business_retail",
          "35_shipment_shipping_ship",
          "0_belarus_belarusian_kazakh...",
          "119_store_retailer_retail",
          "364_coverage_optimizing_store",
          "159_revenue_fx_earnings",
          "302_fx_impact_talk",
          "98_talk_conversation_commun...",
          "300_speech_talk_channel",
          "204_turn_let_reverse",
          "362_let__",
          "58_start_starting_begin",
          "272_week_start_thursday",
          "46_february_march_june",
          "312_march_february_forecast",
          "191_relate_related_regard",
          "227_business_update_announce",
          "343_update_operation_provide",
          "279_impact_comment_commenting",
          "69_comment_commenting_remark",
          "75_impact_economics_industry",
          "81_course_study_pursue",
          "331_course_yes_",
          "348_affect_raging_mood",
          "363_effect_affect_course",
          "215_effect_affect_let",
          "174_come_knock_happen",
          "248_happen_know_come",
          "94_happen_go_know",
          "157_end_finish_final",
          "60_problem_issue_solution",
          "121_situation_scenario_comp...",
          "310_situation_horrible_terr...",
          "359_drive_driver_crucial",
          "78_situation_scenario_circu...",
          "278_word_term_english",
          "55_disruption_disrupt_disru...",
          "321_minimal_minimum_fourth",
          "5_impact_impacting_effect",
          "20_impact_business_effect",
          "96_consequence_implication_...",
          "261_business_perspective_bi...",
          "111_mean_meaningful_interpr...",
          "108_diamond_market_impacting",
          "27_market_opportunity_media",
          "222_market_europe_foundation",
          "178_factor_factore_number",
          "199_evolution_evolve_emerge...",
          "172_macro_impact_consequence",
          "168_environment_environment...",
          "80_monitoring_monitor_devel...",
          "77_development_develop_create",
          "350_watch_observing_event",
          "230_predict_prediction_spec...",
          "156_forecast_forecasting_pr...",
          "141_business_small_tiny",
          "171_small_tiny_large",
          "114_forecast_energy_scarcity",
          "65_pricing_raw_cost",
          "45_raw_material_tissue",
          "318_iron_steel_supply",
          "176_pig_iron_ferrous",
          "89_metal_alloy_copper",
          "120_steel_pricing_demand",
          "175_aluminium_aluminum_alum...",
          "186_diesel_petrol_petroleum",
          "209_crack_shortage_cracker",
          "298_consolidation_productio...",
          "244_barrel_flow_crude",
          "3_petroleum_crude_oil",
          "6_coal_gas_market",
          "10_export_exporting_exporter",
          "57_tonnage_tonne_ton",
          "286_freight_ton_transport",
          "361_grain_sea_exporting",
          "242_grain_wheat_production",
          "340_oil_gas_co2",
          "1_energy_electricity_renewa...",
          "50_fuel_renewable_eu",
          "15_pipeline_pipe_gas",
          "23_gas_supply_explosion",
          "7_gas_europe_eu",
          "345_gas_demand_market",
          "92_uniper_gas_unipro",
          "282_headwind_sale_revenue",
          "74_inflation_inflationary_h...",
          "56_headwind_tailwind_hat",
          "64_headwind_forex_fx",
          "332_consumer_confidence_mar...",
          "151_inflation_inflationary_...",
          "338_sentiment_consumer_demand",
          "232_demand_supply_logistics",
          "87_demand_utility_inventory",
          "277_demand_euro_eu",
          "13_macroeconomic_macroecono...",
          "180_inflation_macroeconomic...",
          "34_inflation_inflationary_i...",
          "19_inflation_inflationary_m...",
          "239_inflation_inflationary_...",
          "59_commodity_macroeconomics...",
          "125_fuel_petrol_pricing",
          "72_pricing_increase_cost",
          "316_cost_pricing_price",
          "33_shortage_semiconductor_a...",
          "329_shortage_logistics_demand",
          "14_inflation_inflationary_m...",
          "11_impact_impacting_disrupt...",
          "226_constraint_supplier_inv...",
          "63_challenge_challenging_sh...",
          "194_logistics_logistical_fr...",
          "377_interest_rate_loans",
          "36_inflation_inflationary_r...",
          "315_inflation_inflationary_...",
          "275_interest_market_asset",
          "148_europe_european_economic",
          "30_europe_impact_eu",
          "374_europe_european_regional",
          "123_europe_european_geograp...",
          "265_europe_business_european",
          "352_core_region_eu",
          "346_revenue_region_regional",
          "270_geographically_geograph...",
          "130_revenue_impact_earning",
          "16_revenue_profit_business",
          "134_revenue_customer_ramp",
          "169_sale_buyer_europe",
          "112_decline_decrease_sale",
          "150_emea_impact_growth",
          "370_investment_growth_apac",
          "292_growth_europe_asia",
          "335_revenue_growth_income",
          "342_expense_filtration_sepa...",
          "95_suspension_ramping_revenue",
          "201_offset_adjustment_impact",
          "254_impact_negatively_busin...",
          "47_outlook_future_eco",
          "182_fiscal_fiscally_impact",
          "8_expect_expectation_future",
          "67_statement_imply_condition",
          "136_eps_earnings_forex",
          "183_earnings_profitable_ann...",
          "29_volume_extent_reallocate",
          "319_exclude_include_minus",
          "334_growth_economic_sector",
          "142_growth_grow_maturity",
          "32_growth_organic_organically",
          "24_ebitda_ebit_ebitdaal",
          "85_margin_margins_leverage",
          "280_basis_impact_point",
          "41_ruble_rubel_rub5",
          "86_currency_forex_fluctuation",
          "262_currency_growth_revenue",
          "147_arr_growth_nrr",
          "314_sale_supplier_global",
          "93_sale_total_profit",
          "149_impact_sale_effect",
          "70_sale_buyer_business",
          "158_buy_purchase_sale"
         ],
         "tickvals": [
          -5,
          -15,
          -25,
          -35,
          -45,
          -55,
          -65,
          -75,
          -85,
          -95,
          -105,
          -115,
          -125,
          -135,
          -145,
          -155,
          -165,
          -175,
          -185,
          -195,
          -205,
          -215,
          -225,
          -235,
          -245,
          -255,
          -265,
          -275,
          -285,
          -295,
          -305,
          -315,
          -325,
          -335,
          -345,
          -355,
          -365,
          -375,
          -385,
          -395,
          -405,
          -415,
          -425,
          -435,
          -445,
          -455,
          -465,
          -475,
          -485,
          -495,
          -505,
          -515,
          -525,
          -535,
          -545,
          -555,
          -565,
          -575,
          -585,
          -595,
          -605,
          -615,
          -625,
          -635,
          -645,
          -655,
          -665,
          -675,
          -685,
          -695,
          -705,
          -715,
          -725,
          -735,
          -745,
          -755,
          -765,
          -775,
          -785,
          -795,
          -805,
          -815,
          -825,
          -835,
          -845,
          -855,
          -865,
          -875,
          -885,
          -895,
          -905,
          -915,
          -925,
          -935,
          -945,
          -955,
          -965,
          -975,
          -985,
          -995,
          -1005,
          -1015,
          -1025,
          -1035,
          -1045,
          -1055,
          -1065,
          -1075,
          -1085,
          -1095,
          -1105,
          -1115,
          -1125,
          -1135,
          -1145,
          -1155,
          -1165,
          -1175,
          -1185,
          -1195,
          -1205,
          -1215,
          -1225,
          -1235,
          -1245,
          -1255,
          -1265,
          -1275,
          -1285,
          -1295,
          -1305,
          -1315,
          -1325,
          -1335,
          -1345,
          -1355,
          -1365,
          -1375,
          -1385,
          -1395,
          -1405,
          -1415,
          -1425,
          -1435,
          -1445,
          -1455,
          -1465,
          -1475,
          -1485,
          -1495,
          -1505,
          -1515,
          -1525,
          -1535,
          -1545,
          -1555,
          -1565,
          -1575,
          -1585,
          -1595,
          -1605,
          -1615,
          -1625,
          -1635,
          -1645,
          -1655,
          -1665,
          -1675,
          -1685,
          -1695,
          -1705,
          -1715,
          -1725,
          -1735,
          -1745,
          -1755,
          -1765,
          -1775,
          -1785,
          -1795,
          -1805,
          -1815,
          -1825,
          -1835,
          -1845,
          -1855,
          -1865,
          -1875,
          -1885,
          -1895,
          -1905,
          -1915,
          -1925,
          -1935,
          -1945,
          -1955,
          -1965,
          -1975,
          -1985,
          -1995,
          -2005,
          -2015,
          -2025,
          -2035,
          -2045,
          -2055,
          -2065,
          -2075,
          -2085,
          -2095,
          -2105,
          -2115,
          -2125,
          -2135,
          -2145,
          -2155,
          -2165,
          -2175,
          -2185,
          -2195,
          -2205,
          -2215,
          -2225,
          -2235,
          -2245,
          -2255,
          -2265,
          -2275,
          -2285,
          -2295,
          -2305,
          -2315,
          -2325,
          -2335,
          -2345,
          -2355,
          -2365,
          -2375,
          -2385,
          -2395,
          -2405,
          -2415,
          -2425,
          -2435,
          -2445,
          -2455,
          -2465,
          -2475,
          -2485,
          -2495,
          -2505,
          -2515,
          -2525,
          -2535,
          -2545,
          -2555,
          -2565,
          -2575,
          -2585,
          -2595,
          -2605,
          -2615,
          -2625,
          -2635,
          -2645,
          -2655,
          -2665,
          -2675,
          -2685,
          -2695,
          -2705,
          -2715,
          -2725,
          -2735,
          -2745,
          -2755,
          -2765,
          -2775,
          -2785,
          -2795,
          -2805,
          -2815,
          -2825,
          -2835,
          -2845,
          -2855,
          -2865,
          -2875,
          -2885,
          -2895,
          -2905,
          -2915,
          -2925,
          -2935,
          -2945,
          -2955,
          -2965,
          -2975,
          -2985,
          -2995,
          -3005,
          -3015,
          -3025,
          -3035,
          -3045,
          -3055,
          -3065,
          -3075,
          -3085,
          -3095,
          -3105,
          -3115,
          -3125,
          -3135,
          -3145,
          -3155,
          -3165,
          -3175,
          -3185,
          -3195,
          -3205,
          -3215,
          -3225,
          -3235,
          -3245,
          -3255,
          -3265,
          -3275,
          -3285,
          -3295,
          -3305,
          -3315,
          -3325,
          -3335,
          -3345,
          -3355,
          -3365,
          -3375,
          -3385,
          -3395,
          -3405,
          -3415,
          -3425,
          -3435,
          -3445,
          -3455,
          -3465,
          -3475,
          -3485,
          -3495,
          -3505,
          -3515,
          -3525,
          -3535,
          -3545,
          -3555,
          -3565,
          -3575,
          -3585,
          -3595,
          -3605,
          -3615,
          -3625,
          -3635,
          -3645,
          -3655,
          -3665,
          -3675,
          -3685,
          -3695,
          -3705,
          -3715,
          -3725,
          -3735,
          -3745,
          -3755,
          -3765,
          -3775
         ],
         "type": "linear",
         "zeroline": false
        }
       }
      }
     },
     "metadata": {},
     "output_type": "display_data"
    }
   ],
   "source": [
    "topic_model_0.visualize_hierarchy(hierarchical_topics=hierarchical_topics)"
   ]
  },
  {
   "cell_type": "markdown",
   "metadata": {},
   "source": [
    "### 2 - Only sentence - join\n",
    "* Sentence window: 0\n",
    "* Join sentences"
   ]
  },
  {
   "cell_type": "code",
   "execution_count": 19,
   "metadata": {},
   "outputs": [
    {
     "name": "stderr",
     "output_type": "stream",
     "text": [
      "Batches: 100%|██████████| 1903/1903 [1:56:20<00:00,  3.67s/it] \n",
      "2023-09-19 11:50:27,513 - BERTopic - Transformed documents to Embeddings\n",
      "2023-09-19 11:52:29,484 - BERTopic - Reduced dimensionality\n",
      "2023-09-19 12:48:48,754 - BERTopic - Clustered reduced embeddings\n"
     ]
    }
   ],
   "source": [
    "corpus, bridge = process_text.remove_sentences_under_threshold(corpus_window_0_join_df['processed_text'].to_list())\n",
    "topic_model_0_join, topics_0_join, probs_0_join = topic_extractor.bert_advanced(corpus, representation_model=representation_model, embedding_model=sentence_model_light)"
   ]
  },
  {
   "cell_type": "markdown",
   "metadata": {},
   "source": [
    "Group the topics according to the predefined categories."
   ]
  },
  {
   "cell_type": "code",
   "execution_count": 23,
   "metadata": {},
   "outputs": [
    {
     "data": {
      "text/html": [
       "<div><style>\n",
       ".dataframe > thead > tr > th,\n",
       ".dataframe > tbody > tr > td {\n",
       "  text-align: right;\n",
       "}\n",
       "</style>\n",
       "<small>shape: (16, 2)</small><table border=\"1\" class=\"dataframe\"><thead><tr><th>category</th><th>Count</th></tr><tr><td>str</td><td>i64</td></tr></thead><tbody><tr><td>&quot;commodity&quot;</td><td>4996</td></tr><tr><td>&quot;indirect geogr…</td><td>4787</td></tr><tr><td>&quot;finance&quot;</td><td>4786</td></tr><tr><td>&quot;macro demand&quot;</td><td>4549</td></tr><tr><td>&quot;macro inflatio…</td><td>2305</td></tr><tr><td>&quot;supply chain&quot;</td><td>1897</td></tr><tr><td>&quot;other&quot;</td><td>1621</td></tr><tr><td>&quot;human ressourc…</td><td>1016</td></tr><tr><td>&quot;transport&quot;</td><td>922</td></tr><tr><td>&quot;humanitarian&quot;</td><td>869</td></tr><tr><td>&quot;export&quot;</td><td>855</td></tr><tr><td>&quot;exchage rate&quot;</td><td>734</td></tr><tr><td>&quot;energy&quot;</td><td>672</td></tr><tr><td>&quot;compliance&quot;</td><td>655</td></tr><tr><td>&quot;cybersecurity&quot;</td><td>343</td></tr><tr><td>&quot;military&quot;</td><td>302</td></tr></tbody></table></div>"
      ],
      "text/plain": [
       "shape: (16, 2)\n",
       "┌─────────────────────┬───────┐\n",
       "│ category            ┆ Count │\n",
       "│ ---                 ┆ ---   │\n",
       "│ str                 ┆ i64   │\n",
       "╞═════════════════════╪═══════╡\n",
       "│ commodity           ┆ 4996  │\n",
       "│ indirect geographic ┆ 4787  │\n",
       "│ finance             ┆ 4786  │\n",
       "│ macro demand        ┆ 4549  │\n",
       "│ …                   ┆ …     │\n",
       "│ energy              ┆ 672   │\n",
       "│ compliance          ┆ 655   │\n",
       "│ cybersecurity       ┆ 343   │\n",
       "│ military            ┆ 302   │\n",
       "└─────────────────────┴───────┘"
      ]
     },
     "execution_count": 23,
     "metadata": {},
     "output_type": "execute_result"
    }
   ],
   "source": [
    "topics_0_join_filled = helper.fill_list_from_mapping(topics_0_join, bridge, -2)\n",
    "groups_0_join = topic_extractor.categorize_topics(topic_model_0_join.get_topic_info()['Chain: Inspired - MMR'].to_list())\n",
    "groups_0_join = groups_0_join.hstack(pl.DataFrame(topic_model_0_join.get_topic_info())[['Count', 'Name', \"Representative_Docs\"]])\n",
    "topics_df = topic_extractor.map_topics_to_categories(topics_0_join_filled, groups_0_join)\n",
    "groups_0_join.filter(pl.col(\"n\")!=-1).groupby((\"category\")).agg(pl.col(\"Count\").sum()).sort(\"Count\", descending=True)"
   ]
  },
  {
   "cell_type": "code",
   "execution_count": 24,
   "metadata": {},
   "outputs": [],
   "source": [
    "# corpus_window_0_join_df = corpus_window_0_df.drop(columns=['topic', \"year\", \"group\", \"keywords\"])\n",
    "corpus_window_0_join_df = corpus_window_0_join_df.with_columns(pl.Series('year', corpus_window_0_join_df['date'].dt.year()))\n",
    "corpus_window_0_join_df = corpus_window_0_join_df.hstack(topics_df)\n",
    "helper.save_data(corpus_window_0_join_df, \"data/corpus_window_0_join_df_topics\", compression=\"lz4\")"
   ]
  },
  {
   "cell_type": "code",
   "execution_count": 25,
   "metadata": {},
   "outputs": [
    {
     "data": {
      "text/plain": [
       "<xlsxwriter.workbook.Workbook at 0x1f49acebbb0>"
      ]
     },
     "execution_count": 25,
     "metadata": {},
     "output_type": "execute_result"
    }
   ],
   "source": [
    "corpus_window_0_join_df_agg = topic_extractor.get_topics_per_company(corpus_window_0_join_df)\n",
    "corpus_window_0_join_df_agg[[\"company_name\", \"year\", \"exit_strategy\", \"stay_strategy\", \"adaptation_strategy\", \"topic\", \"category\"]].write_excel(\"data/topics_comp_0_join.xlsx\")"
   ]
  },
  {
   "cell_type": "markdown",
   "metadata": {},
   "source": [
    "### 3 - 3 sentences - join\n",
    "* Sentence window: 3\n",
    "* Join sentences  "
   ]
  },
  {
   "cell_type": "code",
   "execution_count": 26,
   "metadata": {},
   "outputs": [
    {
     "name": "stderr",
     "output_type": "stream",
     "text": [
      "Batches: 100%|██████████| 1802/1802 [2:28:39<00:00,  4.95s/it]  \n",
      "2023-09-19 16:50:19,874 - BERTopic - Transformed documents to Embeddings\n",
      "2023-09-19 16:52:20,714 - BERTopic - Reduced dimensionality\n",
      "2023-09-19 17:16:13,190 - BERTopic - Clustered reduced embeddings\n"
     ]
    }
   ],
   "source": [
    "corpus, bridge = process_text.remove_sentences_under_threshold(corpus_window_3_df['processed_text'].to_list())\n",
    "topic_model_3, topics_3, probs_3 = topic_extractor.bert_advanced(corpus, representation_model=representation_model, embedding_model=sentence_model_light)"
   ]
  },
  {
   "cell_type": "markdown",
   "metadata": {},
   "source": [
    "Group the topics according to the predefined categories."
   ]
  },
  {
   "cell_type": "code",
   "execution_count": 27,
   "metadata": {},
   "outputs": [
    {
     "data": {
      "text/html": [
       "<div><style>\n",
       ".dataframe > thead > tr > th,\n",
       ".dataframe > tbody > tr > td {\n",
       "  text-align: right;\n",
       "}\n",
       "</style>\n",
       "<small>shape: (16, 2)</small><table border=\"1\" class=\"dataframe\"><thead><tr><th>category</th><th>Count</th></tr><tr><td>str</td><td>i64</td></tr></thead><tbody><tr><td>&quot;commodity&quot;</td><td>4435</td></tr><tr><td>&quot;indirect geogr…</td><td>3920</td></tr><tr><td>&quot;finance&quot;</td><td>3503</td></tr><tr><td>&quot;macro demand&quot;</td><td>3396</td></tr><tr><td>&quot;humanitarian&quot;</td><td>2183</td></tr><tr><td>&quot;macro inflatio…</td><td>1747</td></tr><tr><td>&quot;supply chain&quot;</td><td>1686</td></tr><tr><td>&quot;transport&quot;</td><td>800</td></tr><tr><td>&quot;other&quot;</td><td>746</td></tr><tr><td>&quot;energy&quot;</td><td>695</td></tr><tr><td>&quot;exchage rate&quot;</td><td>635</td></tr><tr><td>&quot;compliance&quot;</td><td>466</td></tr><tr><td>&quot;military&quot;</td><td>377</td></tr><tr><td>&quot;export&quot;</td><td>357</td></tr><tr><td>&quot;human ressourc…</td><td>269</td></tr><tr><td>&quot;cybersecurity&quot;</td><td>167</td></tr></tbody></table></div>"
      ],
      "text/plain": [
       "shape: (16, 2)\n",
       "┌─────────────────────┬───────┐\n",
       "│ category            ┆ Count │\n",
       "│ ---                 ┆ ---   │\n",
       "│ str                 ┆ i64   │\n",
       "╞═════════════════════╪═══════╡\n",
       "│ commodity           ┆ 4435  │\n",
       "│ indirect geographic ┆ 3920  │\n",
       "│ finance             ┆ 3503  │\n",
       "│ macro demand        ┆ 3396  │\n",
       "│ …                   ┆ …     │\n",
       "│ military            ┆ 377   │\n",
       "│ export              ┆ 357   │\n",
       "│ human ressource     ┆ 269   │\n",
       "│ cybersecurity       ┆ 167   │\n",
       "└─────────────────────┴───────┘"
      ]
     },
     "execution_count": 27,
     "metadata": {},
     "output_type": "execute_result"
    }
   ],
   "source": [
    "topics_3_filled = helper.fill_list_from_mapping(topics_3, bridge, -2)\n",
    "groups_3 = topic_extractor.categorize_topics(topic_model_3.get_topic_info()['Chain: Inspired - MMR'].to_list())\n",
    "groups_3 = groups_3.hstack(pl.DataFrame(topic_model_3.get_topic_info())[['Count', 'Name', \"Representative_Docs\"]])\n",
    "topics_df = topic_extractor.map_topics_to_categories(topics_3_filled, groups_3)\n",
    "groups_3.filter(pl.col(\"n\")!=-1).groupby((\"category\")).agg(pl.col(\"Count\").sum()).sort(\"Count\", descending=True)"
   ]
  },
  {
   "cell_type": "code",
   "execution_count": 28,
   "metadata": {},
   "outputs": [],
   "source": [
    "# corpus_window_3_df = corpus_window_0_df.drop(columns=['topic', \"year\", \"group\", \"keywords\"])\n",
    "corpus_window_3_df = corpus_window_3_df.with_columns(pl.Series('year', corpus_window_3_df['date'].dt.year()))\n",
    "corpus_window_3_df = corpus_window_3_df.hstack(topics_df)\n",
    "helper.save_data(corpus_window_3_df, \"data/corpus_window_3_df_topics\", compression=\"lz4\")"
   ]
  },
  {
   "cell_type": "code",
   "execution_count": 29,
   "metadata": {},
   "outputs": [
    {
     "data": {
      "text/plain": [
       "<xlsxwriter.workbook.Workbook at 0x1f486147970>"
      ]
     },
     "execution_count": 29,
     "metadata": {},
     "output_type": "execute_result"
    }
   ],
   "source": [
    "corpus_window_3_df_agg = topic_extractor.get_topics_per_company(corpus_window_3_df)\n",
    "corpus_window_3_df_agg[[\"company_name\", \"year\", \"exit_strategy\", \"stay_strategy\", \"adaptation_strategy\", \"topic\", \"category\"]].write_excel(\"data/topics_comp_3.xlsx\")"
   ]
  },
  {
   "cell_type": "markdown",
   "metadata": {},
   "source": [
    "### 4. 5 sentences - join\n",
    "* Sentence window: 5\n",
    "* Join sentences"
   ]
  },
  {
   "cell_type": "code",
   "execution_count": 30,
   "metadata": {},
   "outputs": [
    {
     "name": "stderr",
     "output_type": "stream",
     "text": [
      "Batches: 100%|██████████| 1772/1772 [2:33:51<00:00,  5.21s/it]  \n",
      "2023-09-19 21:01:09,173 - BERTopic - Transformed documents to Embeddings\n",
      "2023-09-19 21:03:05,229 - BERTopic - Reduced dimensionality\n",
      "2023-09-19 21:32:31,594 - BERTopic - Clustered reduced embeddings\n"
     ]
    }
   ],
   "source": [
    "corpus, bridge = process_text.remove_sentences_under_threshold(corpus_window_5_df['processed_text'].to_list())\n",
    "topic_model_5, topics_5, probs_5 = topic_extractor.bert_advanced(corpus, representation_model=representation_model, embedding_model=sentence_model_light)"
   ]
  },
  {
   "cell_type": "markdown",
   "metadata": {},
   "source": [
    "Group the topics according to the predefined categories."
   ]
  },
  {
   "cell_type": "code",
   "execution_count": 31,
   "metadata": {},
   "outputs": [
    {
     "data": {
      "text/html": [
       "<div><style>\n",
       ".dataframe > thead > tr > th,\n",
       ".dataframe > tbody > tr > td {\n",
       "  text-align: right;\n",
       "}\n",
       "</style>\n",
       "<small>shape: (16, 2)</small><table border=\"1\" class=\"dataframe\"><thead><tr><th>category</th><th>Count</th></tr><tr><td>str</td><td>i64</td></tr></thead><tbody><tr><td>&quot;commodity&quot;</td><td>3871</td></tr><tr><td>&quot;indirect geogr…</td><td>3776</td></tr><tr><td>&quot;finance&quot;</td><td>3621</td></tr><tr><td>&quot;macro demand&quot;</td><td>3476</td></tr><tr><td>&quot;supply chain&quot;</td><td>1727</td></tr><tr><td>&quot;other&quot;</td><td>1148</td></tr><tr><td>&quot;macro inflatio…</td><td>1097</td></tr><tr><td>&quot;transport&quot;</td><td>1074</td></tr><tr><td>&quot;humanitarian&quot;</td><td>741</td></tr><tr><td>&quot;export&quot;</td><td>707</td></tr><tr><td>&quot;exchage rate&quot;</td><td>654</td></tr><tr><td>&quot;human ressourc…</td><td>569</td></tr><tr><td>&quot;energy&quot;</td><td>503</td></tr><tr><td>&quot;compliance&quot;</td><td>419</td></tr><tr><td>&quot;military&quot;</td><td>376</td></tr><tr><td>&quot;cybersecurity&quot;</td><td>218</td></tr></tbody></table></div>"
      ],
      "text/plain": [
       "shape: (16, 2)\n",
       "┌─────────────────────┬───────┐\n",
       "│ category            ┆ Count │\n",
       "│ ---                 ┆ ---   │\n",
       "│ str                 ┆ i64   │\n",
       "╞═════════════════════╪═══════╡\n",
       "│ commodity           ┆ 3871  │\n",
       "│ indirect geographic ┆ 3776  │\n",
       "│ finance             ┆ 3621  │\n",
       "│ macro demand        ┆ 3476  │\n",
       "│ …                   ┆ …     │\n",
       "│ energy              ┆ 503   │\n",
       "│ compliance          ┆ 419   │\n",
       "│ military            ┆ 376   │\n",
       "│ cybersecurity       ┆ 218   │\n",
       "└─────────────────────┴───────┘"
      ]
     },
     "execution_count": 31,
     "metadata": {},
     "output_type": "execute_result"
    }
   ],
   "source": [
    "topics_5_filled = helper.fill_list_from_mapping(topics_5, bridge, -2)\n",
    "groups_5 = topic_extractor.categorize_topics(topic_model_5.get_topic_info()['Chain: Inspired - MMR'].to_list())\n",
    "groups_5 = groups_5.hstack(pl.DataFrame(topic_model_5.get_topic_info())[['Count', 'Name', \"Representative_Docs\"]])\n",
    "topics_df = topic_extractor.map_topics_to_categories(topics_5_filled, groups_5)\n",
    "groups_5.filter(pl.col(\"n\")!=-1).groupby((\"category\")).agg(pl.col(\"Count\").sum()).sort(\"Count\", descending=True)"
   ]
  },
  {
   "cell_type": "code",
   "execution_count": 32,
   "metadata": {},
   "outputs": [],
   "source": [
    "# corpus_window_5_df = corpus_window_0_df.drop(columns=['topic', \"year\", \"group\", \"keywords\"])\n",
    "corpus_window_5_df = corpus_window_5_df.with_columns(pl.Series('year', corpus_window_5_df['date'].dt.year()))\n",
    "corpus_window_5_df = corpus_window_5_df.hstack(topics_df)\n",
    "helper.save_data(corpus_window_5_df, \"data/corpus_window_5_df_topics\", compression=\"lz4\")"
   ]
  },
  {
   "cell_type": "code",
   "execution_count": 33,
   "metadata": {},
   "outputs": [
    {
     "data": {
      "text/plain": [
       "<xlsxwriter.workbook.Workbook at 0x1f4ced96b00>"
      ]
     },
     "execution_count": 33,
     "metadata": {},
     "output_type": "execute_result"
    }
   ],
   "source": [
    "corpus_window_5_df_agg = topic_extractor.get_topics_per_company(corpus_window_5_df)\n",
    "corpus_window_5_df_agg[[\"company_name\", \"year\", \"exit_strategy\", \"stay_strategy\", \"adaptation_strategy\", \"topic\", \"category\"]].write_excel(\"data/topics_comp_5.xlsx\")"
   ]
  },
  {
   "cell_type": "markdown",
   "metadata": {},
   "source": [
    "### 5. Whole paragraph - join\n",
    "* Sentence window: whole paragraph\n",
    "* Join sentences"
   ]
  },
  {
   "cell_type": "code",
   "execution_count": 34,
   "metadata": {},
   "outputs": [
    {
     "name": "stderr",
     "output_type": "stream",
     "text": [
      "Batches: 100%|██████████| 1778/1778 [3:09:50<00:00,  6.41s/it]  \n",
      "2023-09-20 01:55:30,266 - BERTopic - Transformed documents to Embeddings\n",
      "2023-09-20 01:57:23,631 - BERTopic - Reduced dimensionality\n",
      "2023-09-20 02:14:15,019 - BERTopic - Clustered reduced embeddings\n"
     ]
    }
   ],
   "source": [
    "corpus, bridge = process_text.remove_sentences_under_threshold(corpus_window_whole_df['processed_text'].to_list())\n",
    "topic_model_whole, topics_whole, probs_whole = topic_extractor.bert_advanced(corpus, representation_model=representation_model, embedding_model=sentence_model_light)"
   ]
  },
  {
   "cell_type": "markdown",
   "metadata": {},
   "source": [
    "Group the topics according to the predefined categories."
   ]
  },
  {
   "cell_type": "code",
   "execution_count": 35,
   "metadata": {},
   "outputs": [
    {
     "data": {
      "text/html": [
       "<div><style>\n",
       ".dataframe > thead > tr > th,\n",
       ".dataframe > tbody > tr > td {\n",
       "  text-align: right;\n",
       "}\n",
       "</style>\n",
       "<small>shape: (16, 2)</small><table border=\"1\" class=\"dataframe\"><thead><tr><th>category</th><th>Count</th></tr><tr><td>str</td><td>i64</td></tr></thead><tbody><tr><td>&quot;commodity&quot;</td><td>3932</td></tr><tr><td>&quot;macro demand&quot;</td><td>3413</td></tr><tr><td>&quot;indirect geogr…</td><td>3119</td></tr><tr><td>&quot;finance&quot;</td><td>2987</td></tr><tr><td>&quot;supply chain&quot;</td><td>1408</td></tr><tr><td>&quot;transport&quot;</td><td>1127</td></tr><tr><td>&quot;macro inflatio…</td><td>901</td></tr><tr><td>&quot;exchage rate&quot;</td><td>866</td></tr><tr><td>&quot;humanitarian&quot;</td><td>766</td></tr><tr><td>&quot;human ressourc…</td><td>662</td></tr><tr><td>&quot;other&quot;</td><td>608</td></tr><tr><td>&quot;energy&quot;</td><td>594</td></tr><tr><td>&quot;compliance&quot;</td><td>526</td></tr><tr><td>&quot;military&quot;</td><td>253</td></tr><tr><td>&quot;export&quot;</td><td>238</td></tr><tr><td>&quot;cybersecurity&quot;</td><td>187</td></tr></tbody></table></div>"
      ],
      "text/plain": [
       "shape: (16, 2)\n",
       "┌─────────────────────┬───────┐\n",
       "│ category            ┆ Count │\n",
       "│ ---                 ┆ ---   │\n",
       "│ str                 ┆ i64   │\n",
       "╞═════════════════════╪═══════╡\n",
       "│ commodity           ┆ 3932  │\n",
       "│ macro demand        ┆ 3413  │\n",
       "│ indirect geographic ┆ 3119  │\n",
       "│ finance             ┆ 2987  │\n",
       "│ …                   ┆ …     │\n",
       "│ compliance          ┆ 526   │\n",
       "│ military            ┆ 253   │\n",
       "│ export              ┆ 238   │\n",
       "│ cybersecurity       ┆ 187   │\n",
       "└─────────────────────┴───────┘"
      ]
     },
     "execution_count": 35,
     "metadata": {},
     "output_type": "execute_result"
    }
   ],
   "source": [
    "topics_whole_filled = helper.fill_list_from_mapping(topics_whole, bridge, -2)\n",
    "groups_whole = topic_extractor.categorize_topics(topic_model_whole.get_topic_info()['Chain: Inspired - MMR'].to_list())\n",
    "groups_whole = groups_whole.hstack(pl.DataFrame(topic_model_whole.get_topic_info())[['Count', 'Name', \"Representative_Docs\"]])\n",
    "topics_df = topic_extractor.map_topics_to_categories(topics_whole_filled, groups_whole)\n",
    "groups_whole.filter(pl.col(\"n\")!=-1).groupby((\"category\")).agg(pl.col(\"Count\").sum()).sort(\"Count\", descending=True)"
   ]
  },
  {
   "cell_type": "code",
   "execution_count": 36,
   "metadata": {},
   "outputs": [],
   "source": [
    "# corpus_window_whole_df = corpus_window_0_df.drop(columns=['topic', \"year\", \"group\", \"keywords\"])\n",
    "corpus_window_whole_df = corpus_window_whole_df.with_columns(pl.Series('year', corpus_window_whole_df['date'].dt.year()))\n",
    "corpus_window_whole_df = corpus_window_whole_df.hstack(topics_df)\n",
    "helper.save_data(corpus_window_whole_df, \"data/corpus_window_whole_df_topics\", compression=\"lz4\")"
   ]
  },
  {
   "cell_type": "code",
   "execution_count": 37,
   "metadata": {},
   "outputs": [
    {
     "data": {
      "text/plain": [
       "<xlsxwriter.workbook.Workbook at 0x1f483d0f1f0>"
      ]
     },
     "execution_count": 37,
     "metadata": {},
     "output_type": "execute_result"
    }
   ],
   "source": [
    "corpus_window_whole_df_agg = topic_extractor.get_topics_per_company(corpus_window_whole_df)\n",
    "corpus_window_whole_df_agg[[\"company_name\", \"year\", \"exit_strategy\", \"stay_strategy\", \"adaptation_strategy\", \"topic\", \"category\"]].write_excel(\"data/topics_comp_whole.xlsx\")"
   ]
  },
  {
   "cell_type": "code",
   "execution_count": null,
   "metadata": {},
   "outputs": [],
   "source": []
  }
 ],
 "metadata": {
  "kernelspec": {
   "display_name": "Python 3",
   "language": "python",
   "name": "python3"
  },
  "language_info": {
   "codemirror_mode": {
    "name": "ipython",
    "version": 3
   },
   "file_extension": ".py",
   "mimetype": "text/x-python",
   "name": "python",
   "nbconvert_exporter": "python",
   "pygments_lexer": "ipython3",
   "version": "3.10.13"
  },
  "orig_nbformat": 4
 },
 "nbformat": 4,
 "nbformat_minor": 2
}
