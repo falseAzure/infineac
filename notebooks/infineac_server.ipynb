{
 "cells": [
  {
   "cell_type": "code",
   "execution_count": 3,
   "metadata": {},
   "outputs": [
    {
     "name": "stderr",
     "output_type": "stream",
     "text": [
      "c:\\Users\\fgabelbe\\AppData\\Local\\miniconda3\\envs\\infineac\\lib\\site-packages\\umap\\distances.py:1063: NumbaDeprecationWarning: \u001b[1mThe 'nopython' keyword argument was not supplied to the 'numba.jit' decorator. The implicit default value for this argument is currently False, but it will be changed to True in Numba 0.59.0. See https://numba.readthedocs.io/en/stable/reference/deprecation.html#deprecation-of-object-mode-fall-back-behaviour-when-using-jit for details.\u001b[0m\n",
      "  @numba.jit()\n",
      "c:\\Users\\fgabelbe\\AppData\\Local\\miniconda3\\envs\\infineac\\lib\\site-packages\\umap\\distances.py:1071: NumbaDeprecationWarning: \u001b[1mThe 'nopython' keyword argument was not supplied to the 'numba.jit' decorator. The implicit default value for this argument is currently False, but it will be changed to True in Numba 0.59.0. See https://numba.readthedocs.io/en/stable/reference/deprecation.html#deprecation-of-object-mode-fall-back-behaviour-when-using-jit for details.\u001b[0m\n",
      "  @numba.jit()\n",
      "c:\\Users\\fgabelbe\\AppData\\Local\\miniconda3\\envs\\infineac\\lib\\site-packages\\umap\\distances.py:1086: NumbaDeprecationWarning: \u001b[1mThe 'nopython' keyword argument was not supplied to the 'numba.jit' decorator. The implicit default value for this argument is currently False, but it will be changed to True in Numba 0.59.0. See https://numba.readthedocs.io/en/stable/reference/deprecation.html#deprecation-of-object-mode-fall-back-behaviour-when-using-jit for details.\u001b[0m\n",
      "  @numba.jit()\n",
      "c:\\Users\\fgabelbe\\AppData\\Local\\miniconda3\\envs\\infineac\\lib\\site-packages\\umap\\umap_.py:660: NumbaDeprecationWarning: \u001b[1mThe 'nopython' keyword argument was not supplied to the 'numba.jit' decorator. The implicit default value for this argument is currently False, but it will be changed to True in Numba 0.59.0. See https://numba.readthedocs.io/en/stable/reference/deprecation.html#deprecation-of-object-mode-fall-back-behaviour-when-using-jit for details.\u001b[0m\n",
      "  @numba.jit()\n"
     ]
    }
   ],
   "source": [
    "import os\n",
    "import glob\n",
    "from pathlib import Path\n",
    "import polars as pl\n",
    "import re\n",
    "import gzip\n",
    "import sys\n",
    "import random\n",
    "import shutil\n",
    "import numpy as np\n",
    "import pandas as pd\n",
    "import seaborn as sns\n",
    "import matplotlib.pyplot as plt\n",
    "import matplotlib.dates as mdates\n",
    "from lxml import etree, objectify\n",
    "from rapidfuzz import fuzz\n",
    "from spacy import displacy\n",
    "\n",
    "import infineac.file_loader as file_loader\n",
    "import infineac.helper as helper\n",
    "import infineac.process_event as process_event\n",
    "import infineac.topic_extractor as topic_extractor\n",
    "import infineac.process_text as process_text\n",
    "\n",
    "%load_ext autoreload\n",
    "%autoreload 2\n",
    "\n",
    "PATH_DIR = \"../data/transcripts/\"\n",
    "random.seed(111)"
   ]
  },
  {
   "cell_type": "markdown",
   "metadata": {},
   "source": [
    "## Load NLP model"
   ]
  },
  {
   "cell_type": "code",
   "execution_count": 1,
   "metadata": {},
   "outputs": [
    {
     "name": "stderr",
     "output_type": "stream",
     "text": [
      "c:\\Users\\fgabelbe\\AppData\\Local\\miniconda3\\envs\\infineac\\lib\\site-packages\\tqdm\\auto.py:21: TqdmWarning: IProgress not found. Please update jupyter and ipywidgets. See https://ipywidgets.readthedocs.io/en/stable/user_install.html\n",
      "  from .autonotebook import tqdm as notebook_tqdm\n",
      "2023-09-14 07:47:21 INFO: Checking for updates to resources.json in case models have been updated.  Note: this behavior can be turned off with download_method=None or download_method=DownloadMethod.REUSE_RESOURCES\n",
      "Downloading https://raw.githubusercontent.com/stanfordnlp/stanza-resources/main/resources_1.5.0.json: 216kB [00:00, 2.53MB/s]                    \n",
      "Downloading https://huggingface.co/stanfordnlp/stanza-en/resolve/v1.5.0/models/tokenize/combined.pt: 100%|██████████| 647k/647k [00:00<00:00, 11.4MB/s]\n",
      "Downloading https://huggingface.co/stanfordnlp/stanza-en/resolve/v1.5.0/models/lemma/combined.pt: 100%|██████████| 4.17M/4.17M [00:00<00:00, 36.1MB/s]\n",
      "2023-09-14 07:47:26 INFO: Loading these models for language: en (English):\n",
      "========================\n",
      "| Processor | Package  |\n",
      "------------------------\n",
      "| tokenize  | combined |\n",
      "| lemma     | combined |\n",
      "========================\n",
      "\n",
      "2023-09-14 07:47:26 WARNING: GPU requested, but is not available!\n",
      "2023-09-14 07:47:26 INFO: Using device: cpu\n",
      "2023-09-14 07:47:26 INFO: Loading: tokenize\n",
      "2023-09-14 07:47:26 INFO: Loading: lemma\n",
      "2023-09-14 07:47:26 INFO: Done loading processors!\n"
     ]
    },
    {
     "data": {
      "text/plain": [
       "<spacy.pipeline.sentencizer.Sentencizer at 0x21d1c9bec80>"
      ]
     },
     "execution_count": 1,
     "metadata": {},
     "output_type": "execute_result"
    }
   ],
   "source": [
    "import spacy_stanza\n",
    "nlp_stanza = spacy_stanza.load_pipeline(\"en\", processors=\"tokenize, lemma\")\n",
    "nlp_stanza.add_pipe('sentencizer')"
   ]
  },
  {
   "attachments": {},
   "cell_type": "markdown",
   "metadata": {},
   "source": [
    "## Load Files"
   ]
  },
  {
   "attachments": {},
   "cell_type": "markdown",
   "metadata": {},
   "source": [
    "Load all xml files from the given directory and return a list of corresponding events."
   ]
  },
  {
   "cell_type": "code",
   "execution_count": 5,
   "metadata": {},
   "outputs": [
    {
     "name": "stderr",
     "output_type": "stream",
     "text": [
      "Files: 100%|██████████| 189501/189501 [1:58:12<00:00, 26.72it/s]  \n"
     ]
    }
   ],
   "source": [
    "# files = [Path(\"../data/transcripts/2022/15203138_T.xml\")]\n",
    "files = list(Path(PATH_DIR).rglob(\"*.xml\"))\n",
    "events = file_loader.load_files_from_xml(files)"
   ]
  },
  {
   "cell_type": "markdown",
   "metadata": {},
   "source": [
    "Check if all positions are valid"
   ]
  },
  {
   "cell_type": "code",
   "execution_count": 6,
   "metadata": {},
   "outputs": [],
   "source": [
    "process_event.test_positions(events)"
   ]
  },
  {
   "cell_type": "markdown",
   "metadata": {},
   "source": [
    "## Filter data"
   ]
  },
  {
   "attachments": {},
   "cell_type": "markdown",
   "metadata": {},
   "source": [
    "Filter out all events that are not in the given time range and do not include the given keywords."
   ]
  },
  {
   "cell_type": "code",
   "execution_count": 12,
   "metadata": {},
   "outputs": [
    {
     "name": "stdout",
     "output_type": "stream",
     "text": [
      "Filtering events\n"
     ]
    },
    {
     "name": "stderr",
     "output_type": "stream",
     "text": [
      "Events: 100%|██████████| 189501/189501 [01:12<00:00, 2611.10it/s]\n"
     ]
    },
    {
     "name": "stdout",
     "output_type": "stream",
     "text": [
      "Filtering events\n"
     ]
    },
    {
     "name": "stderr",
     "output_type": "stream",
     "text": [
      "Events: 100%|██████████| 189501/189501 [17:14<00:00, 183.23it/s] \n"
     ]
    },
    {
     "data": {
      "text/plain": [
       "19909"
      ]
     },
     "execution_count": 12,
     "metadata": {},
     "output_type": "execute_result"
    }
   ],
   "source": [
    "events_filt_all = process_event.filter_events(events, year = 2019, keywords = {\"russia\":1, \"ukraine\":1}, modifier_words=[])\n",
    "events_filt = process_event.filter_events(events, year = 2019, keywords = {\"russia\":1, \"ukraine\":1})\n",
    "len(events_filt)"
   ]
  },
  {
   "cell_type": "code",
   "execution_count": 11,
   "metadata": {},
   "outputs": [],
   "source": [
    "helper.save_data(events, \"data/events\", compression=\"lz4\")"
   ]
  },
  {
   "cell_type": "code",
   "execution_count": 13,
   "metadata": {},
   "outputs": [],
   "source": [
    "helper.save_data(events_filt, \"data/events_filt\", compression=\"lz4\")"
   ]
  },
  {
   "cell_type": "markdown",
   "metadata": {},
   "source": [
    "List all events, that are filtered out due to modifier words preceding the keywords."
   ]
  },
  {
   "cell_type": "code",
   "execution_count": 14,
   "metadata": {},
   "outputs": [
    {
     "name": "stdout",
     "output_type": "stream",
     "text": [
      "16\n",
      "Extracting passages from events\n"
     ]
    },
    {
     "name": "stderr",
     "output_type": "stream",
     "text": [
      "Events: 100%|██████████| 16/16 [00:01<00:00, 13.69it/s]\n"
     ]
    },
    {
     "data": {
      "text/plain": [
       "[[[[['However, in June, year-over-year volume growth in all countries, except Russia, driven by strong demand recovery and share gains in key countries, resulted in year-over-year net sales growth and positive EBIT in the month.']]],\n",
       "  []],\n",
       " [[[['As for automotive glass, in addition to depreciation of euro, demand declines in areas except Russia.']]],\n",
       "  []],\n",
       " [[[['Napo EU, which will be a private company, will have an exclusive license to crofelemer, our novel, proprietary drug for the indications of inflammatory diarrhea and the current approved indication of crofelemer, Mytesi in the United States HIV-related diarrhea, and this is the exclusive license in Europe, excluding Russia.']]],\n",
       "  []],\n",
       " [[[['Napo EU is currently a wholly-owned European subsidiary of Napo Pharmaceuticals, Inc. in Italy with an exclusive European, excluding Russia, license to crofelemer technology from Jaguar.'],\n",
       "    [\"Napo Pharma's wholly-owned subsidiary, Napo EU, has executed a license agreement with Jaguar granting Napo EU the right to study, develop and commercialize crofelemer in Europe, excluding Russia.\"]]],\n",
       "  []],\n",
       " [[],\n",
       "  [[['Now we finally have begun that journey with the Finaro acquisition, and there will be others in order to support what I think is one of the best justifications for international expansion possible, which is the subscription billing sexy tech platform that has opportunities literally in every part of the world, except Russia and China.']]]],\n",
       " [[[['In addition, there will still be significant opportunity for expansion beyond this as these 70-plus countries represent less than 60% of broadband homes globally, excluding Russia and China.']]],\n",
       "  []],\n",
       " [[],\n",
       "  [[['So you see that there is no change on our guidance either for H1, 6% to 8%, excluding Russia, of full year. We confirm the 6% to 8% growth, excluding Russia.']],\n",
       "   [['And the performance of the division was 7% like-for-like, excluding Russia.']]]],\n",
       " [[[['European growth would have been 7% on a year-to-date basis in local currency, excluding Russia.']]],\n",
       "  []],\n",
       " [[[['Against a challenging backdrop, sales in the period at constant currency and excluding Russia, declined 7% with a deterioration since P1 largely due to the impact of our profitability initiatives.']]],\n",
       "  []],\n",
       " [[[['International revenues were up 11% or 14% excluding Russia. Europe saw 6% growth, excluding Russia, with most markets growing including our largest markets of France, the U.K. and Germany returning to growth.']],\n",
       "   [['Europe returned to growth with net revenues up 6%, excluding Russia, on top of 21% growth in the prior year, driven by our DTC business.']]],\n",
       "  [[[\"I think we said this in the prepared remarks, that's up 6% excluding Russia, sequentially improving versus last quarter, again, driven by the strength of DTC, which was up 16%, excluding Russia.\"]]]],\n",
       " [[[['The market demand in Europe continued to decline throughout the first quarter and was down 10%, excluding Russia.']]],\n",
       "  []],\n",
       " [[],\n",
       "  [[[\"I think this is going to be a massive success in this very strong area or (inaudible) already strong which is mascaras, but we are seeing more or less the same thing behind women in U.K. with 3 (inaudible) and Max Factor that's having a 30% [TGL] growth, excluding Russia, which is really unprecedented for this brand.\"]]]],\n",
       " [[[['Our Q3 core revenue grew 15% like-for-like, excluding Russia, bringing our fiscal year-to-date core business revenue growth to 10% like-for-like ahead of our original 6% to 8% like-for-like growth guidance.'],\n",
       "    [\"In the third quarter, we updated our total fiscal year '23 like-for-like CAGR, excluding Russia, to 9% to 10%, reflecting a significant increase from our original outlook of 6% to 8% core like-for-like growth, excluding Russia.\"]]],\n",
       "  []],\n",
       " [[],\n",
       "  [[[\"And maybe the last thing I'd say in emerging markets, while I'd say China and India are very important to us in those markets, great business in Southeast Asia, Middle East, Africa, excluding Russia, Central Eastern Europe is a good business.\"]]]],\n",
       " [[[['Our international business also remained strong, growing 8% or 10%, excluding Russia, led by continued momentum in Asia and Latin America.']],\n",
       "   [['Europe again grew, excluding Russia, up 1% on top of a 15% increase last year due to broad-based DTC growth across all countries. DTC, excluding Russia, was up 14% on top of more than 60% growth last year.']]],\n",
       "  [[['Excluding Russia, as you heard in the prepared remarks, Europe was up 2%.'],\n",
       "    ['Our DTC business was -- excluding Russia, it was up double digits.']]]],\n",
       " [[[['Market demand in Europe continued to decline throughout the second quarter and was down by 12%, excluding Russia.']]],\n",
       "  []]]"
      ]
     },
     "execution_count": 14,
     "metadata": {},
     "output_type": "execute_result"
    }
   ],
   "source": [
    "events_filtered_filter_words = []\n",
    "ids_filtered_events = []\n",
    "for i, event in enumerate(events_filt):\n",
    "    ids_filtered_events.append(event['id'])\n",
    "for event in events_filt_all:\n",
    "    if event['id'] not in ids_filtered_events:\n",
    "        events_filtered_filter_words.append(event)\n",
    "print(len(events_filtered_filter_words))\n",
    "process_event.extract_passages_from_events(events_filtered_filter_words, keywords=[\"russia\", \"ukraine\"], modifier_words=[], nlp_model=nlp_stanza)"
   ]
  },
  {
   "cell_type": "markdown",
   "metadata": {},
   "source": [
    "## Exploration"
   ]
  },
  {
   "cell_type": "code",
   "execution_count": 15,
   "metadata": {},
   "outputs": [],
   "source": [
    "file = [event['file'] for event in events_filt]\n",
    "id = [event['id'] for event in events_filt]\n",
    "year_upload = [event['year_upload'] for event in events_filt]\n",
    "company = [event['company_name'] for event in events_filt]\n",
    "ticker = [event['company_ticker'] for event in events_filt]\n",
    "ticker_new = [re.sub('\\\\..*', '', t) for t in ticker]\n",
    "dates = [event['date'] for event in events_filt if \"date\" in event.keys()]\n",
    "numeric_values = mdates.date2num(dates)\n",
    "\n",
    "russia_and_sanction = [process_text.get_russia_and_sanction(event['qa_collapsed'] + event['presentation_collapsed']) for event in events_filt]\n",
    "election = [process_text.get_elections(event['qa_collapsed'] + event['presentation_collapsed']) for event in events_filt]\n",
    "russia_count = [str(event['qa_collapsed'] + event['presentation_collapsed']).lower().count('russia') for event in events_filt]\n",
    "sanction_count = [str(event['qa_collapsed'] + event['presentation_collapsed']).lower().count('sanction') for event in events_filt]"
   ]
  },
  {
   "cell_type": "markdown",
   "metadata": {},
   "source": [
    "Create a DataFrame with the following columns:"
   ]
  },
  {
   "cell_type": "code",
   "execution_count": 16,
   "metadata": {},
   "outputs": [],
   "source": [
    "df = pd.DataFrame({'file': file,\n",
    "                   'year_upload': year_upload,\n",
    "                   'company': company,\n",
    "                   'ticker':ticker,\n",
    "                   'ticker_new': ticker_new,\n",
    "                   'date': dates,\n",
    "                   'dates_num' : numeric_values,\n",
    "                   'russia': russia_and_sanction,\n",
    "                   'russia_count': russia_count,\n",
    "                   'sanction_count': sanction_count,\n",
    "                   'election': election})"
   ]
  },
  {
   "cell_type": "markdown",
   "metadata": {},
   "source": [
    "Count the number of occasions where the word \"russia\" (and \"sanction\") appears in the earnings call."
   ]
  },
  {
   "cell_type": "code",
   "execution_count": 17,
   "metadata": {},
   "outputs": [
    {
     "data": {
      "image/png": "[encoded data removed]",
      "text/plain": [
       "<Figure size 640x480 with 1 Axes>"
      ]
     },
     "metadata": {},
     "output_type": "display_data"
    }
   ],
   "source": [
    "sns.histplot(df[df['russia_count']>=1], x='russia_count', hue=\"russia\", bins=50, stat=\"percent\", common_norm=True, multiple=\"stack\")\n",
    "plt.xlabel('Count of corresponding terms in the earnings calls')\n",
    "plt.ylabel('Percent')\n",
    "plt.title('Term count')\n",
    "plt.show()"
   ]
  },
  {
   "cell_type": "markdown",
   "metadata": {},
   "source": [
    "Average mentions of \"russia\" per earnings call."
   ]
  },
  {
   "cell_type": "code",
   "execution_count": 18,
   "metadata": {},
   "outputs": [
    {
     "data": {
      "text/plain": [
       "2.8327389622783667"
      ]
     },
     "execution_count": 18,
     "metadata": {},
     "output_type": "execute_result"
    }
   ],
   "source": [
    "np.array(russia_count).mean()"
   ]
  },
  {
   "cell_type": "markdown",
   "metadata": {},
   "source": [
    "Average mentions of \"russia\" per earnings call if \"russia\" is mentioned at\n",
    "least once."
   ]
  },
  {
   "cell_type": "code",
   "execution_count": 19,
   "metadata": {},
   "outputs": [
    {
     "data": {
      "text/plain": [
       "3.6488742236024843"
      ]
     },
     "execution_count": 19,
     "metadata": {},
     "output_type": "execute_result"
    }
   ],
   "source": [
    "np.array([el for el in russia_count if el > 0]).mean()"
   ]
  },
  {
   "cell_type": "markdown",
   "metadata": {},
   "source": [
    "Average mentions of \"sanction\" per earnings call."
   ]
  },
  {
   "cell_type": "code",
   "execution_count": 20,
   "metadata": {},
   "outputs": [
    {
     "data": {
      "text/plain": [
       "2.442906574394464"
      ]
     },
     "execution_count": 20,
     "metadata": {},
     "output_type": "execute_result"
    }
   ],
   "source": [
    "np.array([el for el in sanction_count if el > 0]).mean()"
   ]
  },
  {
   "cell_type": "markdown",
   "metadata": {},
   "source": [
    "Event distribution over time highlighting the different categories."
   ]
  },
  {
   "cell_type": "code",
   "execution_count": 21,
   "metadata": {},
   "outputs": [
    {
     "data": {
      "image/png": "[encoded data removed]",
      "text/plain": [
       "<Figure size 669.5x500 with 1 Axes>"
      ]
     },
     "metadata": {},
     "output_type": "display_data"
    }
   ],
   "source": [
    "# plt.hist(numeric_values, bins=50)\n",
    "# sns.histplot(numeric_values, bins=50)\n",
    "sns.displot(df, x=\"dates_num\", hue=\"russia\", bins=50, stat=\"percent\", common_norm=True, multiple=\"stack\")\n",
    "# plt.plot_date(dates, numeric_values, '-o')  # '-o' adds markers on the data points\n",
    "plt.xlabel('Dates')\n",
    "plt.ylabel('Probability')\n",
    "plt.title('Event Distribution')\n",
    "\n",
    "# Add x-axis ticks and labels\n",
    "plt.gca().xaxis.set_major_locator(mdates.AutoDateLocator())\n",
    "plt.gca().xaxis.set_major_formatter(mdates.DateFormatter('%Y-%m-%d'))  # Customize date format as needed\n",
    "\n",
    "plt.gcf().autofmt_xdate()  # Adjusts the date labels rotation for better visibility\n",
    "\n",
    "plt.show()"
   ]
  },
  {
   "cell_type": "markdown",
   "metadata": {},
   "source": [
    "Event proportion over time highlighting the different categories."
   ]
  },
  {
   "cell_type": "code",
   "execution_count": 22,
   "metadata": {},
   "outputs": [
    {
     "data": {
      "image/png": "[encoded data removed]",
      "text/plain": [
       "<Figure size 669.5x500 with 1 Axes>"
      ]
     },
     "metadata": {},
     "output_type": "display_data"
    }
   ],
   "source": [
    "# plt.hist(numeric_values, bins=50)\n",
    "# sns.histplot(numeric_values, bins=50)\n",
    "sns.displot(df, x=\"dates_num\", hue=\"russia\", bins=50, stat=\"proportion\", common_norm=True, multiple=\"fill\")\n",
    "# plt.plot_date(dates, numeric_values, '-o')  # '-o' adds markers on the data points\n",
    "plt.xlabel('Dates')\n",
    "plt.ylabel('Propotion')\n",
    "plt.title('Event Propotion')\n",
    "\n",
    "# Add x-axis ticks and labels\n",
    "plt.gca().xaxis.set_major_locator(mdates.AutoDateLocator())\n",
    "plt.gca().xaxis.set_major_formatter(mdates.DateFormatter('%Y-%m-%d'))  # Customize date format as needed\n",
    "\n",
    "plt.gcf().autofmt_xdate()  # Adjusts the date labels rotation for better visibility\n",
    "\n",
    "plt.show()"
   ]
  },
  {
   "cell_type": "markdown",
   "metadata": {},
   "source": [
    "## Preprocess and extract corpus"
   ]
  },
  {
   "cell_type": "code",
   "execution_count": 67,
   "metadata": {},
   "outputs": [],
   "source": [
    "events_filt = helper.load_data(\"data/events_filt.lz4\")"
   ]
  },
  {
   "cell_type": "markdown",
   "metadata": {},
   "source": [
    "Create different types of corpora:\n",
    "1. Corpus with a window of 1 sentence and not joining adjacent sentences.\n",
    "2. Corpus with a window of 1 sentence and joining adjacent sentences.\n",
    "3. Corpus with a window of 3 sentences and joining adjacent sentences.\n",
    "4. Corpus with a window of 5 sentences and joining adjacent sentences.\n",
    "5. Corpus with a window that includes the whole paragraph from the keywords on."
   ]
  },
  {
   "cell_type": "code",
   "execution_count": 23,
   "metadata": {},
   "outputs": [
    {
     "name": "stdout",
     "output_type": "stream",
     "text": [
      "Extracting passages from events\n"
     ]
    },
    {
     "name": "stderr",
     "output_type": "stream",
     "text": [
      "Events: 100%|██████████| 19909/19909 [40:57<00:00,  8.10it/s]  \n"
     ]
    },
    {
     "name": "stdout",
     "output_type": "stream",
     "text": [
      "Processing corpus with spaCy-pipeline\n"
     ]
    },
    {
     "name": "stderr",
     "output_type": "stream",
     "text": [
      "Documents: 100%|██████████| 70658/70658 [22:04<00:00, 53.34it/s] \n"
     ]
    },
    {
     "data": {
      "text/html": [
       "<div><style>\n",
       ".dataframe > thead > tr > th,\n",
       ".dataframe > tbody > tr > td {\n",
       "  text-align: right;\n",
       "}\n",
       "</style>\n",
       "<small>shape: (5, 11)</small><table border=\"1\" class=\"dataframe\"><thead><tr><th>event_idx</th><th>presentation_and_qa_idx</th><th>part_idx</th><th>paragraph_idx</th><th>sentence_idx</th><th>text</th><th>processed_text</th><th>id</th><th>years_upload</th><th>date</th><th>company_name</th></tr><tr><td>i64</td><td>i64</td><td>i64</td><td>i64</td><td>i64</td><td>str</td><td>str</td><td>i64</td><td>i64</td><td>datetime[μs]</td><td>str</td></tr></thead><tbody><tr><td>0</td><td>0</td><td>0</td><td>0</td><td>0</td><td>&quot;And in Decembe…</td><td>&quot;december board…</td><td>10603777</td><td>2019</td><td>2019-05-29 08:00:00</td><td>&quot;Total SA&quot;</td></tr><tr><td>0</td><td>1</td><td>0</td><td>0</td><td>0</td><td>&quot;Yes, about Rus…</td><td>&quot;yes&quot;</td><td>10603777</td><td>2019</td><td>2019-05-29 08:00:00</td><td>&quot;Total SA&quot;</td></tr><tr><td>0</td><td>1</td><td>0</td><td>0</td><td>1</td><td>&quot;And it goes to…</td><td>&quot;go germany cru…</td><td>10603777</td><td>2019</td><td>2019-05-29 08:00:00</td><td>&quot;Total SA&quot;</td></tr><tr><td>0</td><td>1</td><td>0</td><td>0</td><td>2</td><td>&quot;The Russian au…</td><td>&quot;authority talk…</td><td>10603777</td><td>2019</td><td>2019-05-29 08:00:00</td><td>&quot;Total SA&quot;</td></tr><tr><td>0</td><td>1</td><td>0</td><td>0</td><td>3</td><td>&quot;So it is -- in…</td><td>&quot;germany access…</td><td>10603777</td><td>2019</td><td>2019-05-29 08:00:00</td><td>&quot;Total SA&quot;</td></tr></tbody></table></div>"
      ],
      "text/plain": [
       "shape: (5, 11)\n",
       "┌───────────┬────────────┬──────────┬────────────┬───┬──────────┬────────────┬────────┬────────────┐\n",
       "│ event_idx ┆ presentati ┆ part_idx ┆ paragraph_ ┆ … ┆ id       ┆ years_uplo ┆ date   ┆ company_na │\n",
       "│ ---       ┆ on_and_qa_ ┆ ---      ┆ idx        ┆   ┆ ---      ┆ ad         ┆ ---    ┆ me         │\n",
       "│ i64       ┆ idx        ┆ i64      ┆ ---        ┆   ┆ i64      ┆ ---        ┆ dateti ┆ ---        │\n",
       "│           ┆ ---        ┆          ┆ i64        ┆   ┆          ┆ i64        ┆ me[μs] ┆ str        │\n",
       "│           ┆ i64        ┆          ┆            ┆   ┆          ┆            ┆        ┆            │\n",
       "╞═══════════╪════════════╪══════════╪════════════╪═══╪══════════╪════════════╪════════╪════════════╡\n",
       "│ 0         ┆ 0          ┆ 0        ┆ 0          ┆ … ┆ 10603777 ┆ 2019       ┆ 2019-0 ┆ Total SA   │\n",
       "│           ┆            ┆          ┆            ┆   ┆          ┆            ┆ 5-29   ┆            │\n",
       "│           ┆            ┆          ┆            ┆   ┆          ┆            ┆ 08:00: ┆            │\n",
       "│           ┆            ┆          ┆            ┆   ┆          ┆            ┆ 00     ┆            │\n",
       "│ 0         ┆ 1          ┆ 0        ┆ 0          ┆ … ┆ 10603777 ┆ 2019       ┆ 2019-0 ┆ Total SA   │\n",
       "│           ┆            ┆          ┆            ┆   ┆          ┆            ┆ 5-29   ┆            │\n",
       "│           ┆            ┆          ┆            ┆   ┆          ┆            ┆ 08:00: ┆            │\n",
       "│           ┆            ┆          ┆            ┆   ┆          ┆            ┆ 00     ┆            │\n",
       "│ 0         ┆ 1          ┆ 0        ┆ 0          ┆ … ┆ 10603777 ┆ 2019       ┆ 2019-0 ┆ Total SA   │\n",
       "│           ┆            ┆          ┆            ┆   ┆          ┆            ┆ 5-29   ┆            │\n",
       "│           ┆            ┆          ┆            ┆   ┆          ┆            ┆ 08:00: ┆            │\n",
       "│           ┆            ┆          ┆            ┆   ┆          ┆            ┆ 00     ┆            │\n",
       "│ 0         ┆ 1          ┆ 0        ┆ 0          ┆ … ┆ 10603777 ┆ 2019       ┆ 2019-0 ┆ Total SA   │\n",
       "│           ┆            ┆          ┆            ┆   ┆          ┆            ┆ 5-29   ┆            │\n",
       "│           ┆            ┆          ┆            ┆   ┆          ┆            ┆ 08:00: ┆            │\n",
       "│           ┆            ┆          ┆            ┆   ┆          ┆            ┆ 00     ┆            │\n",
       "│ 0         ┆ 1          ┆ 0        ┆ 0          ┆ … ┆ 10603777 ┆ 2019       ┆ 2019-0 ┆ Total SA   │\n",
       "│           ┆            ┆          ┆            ┆   ┆          ┆            ┆ 5-29   ┆            │\n",
       "│           ┆            ┆          ┆            ┆   ┆          ┆            ┆ 08:00: ┆            │\n",
       "│           ┆            ┆          ┆            ┆   ┆          ┆            ┆ 00     ┆            │\n",
       "└───────────┴────────────┴──────────┴────────────┴───┴──────────┴────────────┴────────┴────────────┘"
      ]
     },
     "execution_count": 23,
     "metadata": {},
     "output_type": "execute_result"
    }
   ],
   "source": [
    "corpus_window_0_df = process_event.events_to_corpus(\n",
    "    events=events_filt,\n",
    "    keywords={\"russia\": 1, \"ukraine\": 1},\n",
    "    context_window_sentence=0,\n",
    "    subsequent_paragraphs=0,\n",
    "    join_adjacent_sentences=False,\n",
    "    extract_answers=False,\n",
    "    nlp_model=nlp_stanza,\n",
    ")\n",
    "corpus_window_0_df.head()"
   ]
  },
  {
   "cell_type": "code",
   "execution_count": 26,
   "metadata": {},
   "outputs": [
    {
     "name": "stdout",
     "output_type": "stream",
     "text": [
      "Extracting passages from events\n"
     ]
    },
    {
     "name": "stderr",
     "output_type": "stream",
     "text": [
      "Events: 100%|██████████| 19909/19909 [40:07<00:00,  8.27it/s]  \n"
     ]
    },
    {
     "name": "stdout",
     "output_type": "stream",
     "text": [
      "Processing corpus with spaCy-pipeline\n"
     ]
    },
    {
     "name": "stderr",
     "output_type": "stream",
     "text": [
      "Documents: 100%|██████████| 62081/62081 [20:49<00:00, 49.70it/s]  \n"
     ]
    },
    {
     "data": {
      "text/html": [
       "<div><style>\n",
       ".dataframe > thead > tr > th,\n",
       ".dataframe > tbody > tr > td {\n",
       "  text-align: right;\n",
       "}\n",
       "</style>\n",
       "<small>shape: (5, 11)</small><table border=\"1\" class=\"dataframe\"><thead><tr><th>event_idx</th><th>presentation_and_qa_idx</th><th>part_idx</th><th>paragraph_idx</th><th>sentence_idx</th><th>text</th><th>processed_text</th><th>id</th><th>years_upload</th><th>date</th><th>company_name</th></tr><tr><td>i64</td><td>i64</td><td>i64</td><td>i64</td><td>i64</td><td>str</td><td>str</td><td>i64</td><td>i64</td><td>datetime[μs]</td><td>str</td></tr></thead><tbody><tr><td>0</td><td>0</td><td>0</td><td>0</td><td>0</td><td>&quot;And in Decembe…</td><td>&quot;december board…</td><td>10603777</td><td>2019</td><td>2019-05-29 08:00:00</td><td>&quot;Total SA&quot;</td></tr><tr><td>0</td><td>1</td><td>0</td><td>0</td><td>0</td><td>&quot;Yes, about Rus…</td><td>&quot;yes&quot;</td><td>10603777</td><td>2019</td><td>2019-05-29 08:00:00</td><td>&quot;Total SA&quot;</td></tr><tr><td>0</td><td>1</td><td>0</td><td>0</td><td>1</td><td>&quot;And it goes to…</td><td>&quot;go germany cru…</td><td>10603777</td><td>2019</td><td>2019-05-29 08:00:00</td><td>&quot;Total SA&quot;</td></tr><tr><td>0</td><td>1</td><td>0</td><td>0</td><td>2</td><td>&quot;The Russian au…</td><td>&quot;authority talk…</td><td>10603777</td><td>2019</td><td>2019-05-29 08:00:00</td><td>&quot;Total SA&quot;</td></tr><tr><td>0</td><td>1</td><td>0</td><td>0</td><td>3</td><td>&quot;So it is -- in…</td><td>&quot;germany access…</td><td>10603777</td><td>2019</td><td>2019-05-29 08:00:00</td><td>&quot;Total SA&quot;</td></tr></tbody></table></div>"
      ],
      "text/plain": [
       "shape: (5, 11)\n",
       "┌───────────┬────────────┬──────────┬────────────┬───┬──────────┬────────────┬────────┬────────────┐\n",
       "│ event_idx ┆ presentati ┆ part_idx ┆ paragraph_ ┆ … ┆ id       ┆ years_uplo ┆ date   ┆ company_na │\n",
       "│ ---       ┆ on_and_qa_ ┆ ---      ┆ idx        ┆   ┆ ---      ┆ ad         ┆ ---    ┆ me         │\n",
       "│ i64       ┆ idx        ┆ i64      ┆ ---        ┆   ┆ i64      ┆ ---        ┆ dateti ┆ ---        │\n",
       "│           ┆ ---        ┆          ┆ i64        ┆   ┆          ┆ i64        ┆ me[μs] ┆ str        │\n",
       "│           ┆ i64        ┆          ┆            ┆   ┆          ┆            ┆        ┆            │\n",
       "╞═══════════╪════════════╪══════════╪════════════╪═══╪══════════╪════════════╪════════╪════════════╡\n",
       "│ 0         ┆ 0          ┆ 0        ┆ 0          ┆ … ┆ 10603777 ┆ 2019       ┆ 2019-0 ┆ Total SA   │\n",
       "│           ┆            ┆          ┆            ┆   ┆          ┆            ┆ 5-29   ┆            │\n",
       "│           ┆            ┆          ┆            ┆   ┆          ┆            ┆ 08:00: ┆            │\n",
       "│           ┆            ┆          ┆            ┆   ┆          ┆            ┆ 00     ┆            │\n",
       "│ 0         ┆ 1          ┆ 0        ┆ 0          ┆ … ┆ 10603777 ┆ 2019       ┆ 2019-0 ┆ Total SA   │\n",
       "│           ┆            ┆          ┆            ┆   ┆          ┆            ┆ 5-29   ┆            │\n",
       "│           ┆            ┆          ┆            ┆   ┆          ┆            ┆ 08:00: ┆            │\n",
       "│           ┆            ┆          ┆            ┆   ┆          ┆            ┆ 00     ┆            │\n",
       "│ 0         ┆ 1          ┆ 0        ┆ 0          ┆ … ┆ 10603777 ┆ 2019       ┆ 2019-0 ┆ Total SA   │\n",
       "│           ┆            ┆          ┆            ┆   ┆          ┆            ┆ 5-29   ┆            │\n",
       "│           ┆            ┆          ┆            ┆   ┆          ┆            ┆ 08:00: ┆            │\n",
       "│           ┆            ┆          ┆            ┆   ┆          ┆            ┆ 00     ┆            │\n",
       "│ 0         ┆ 1          ┆ 0        ┆ 0          ┆ … ┆ 10603777 ┆ 2019       ┆ 2019-0 ┆ Total SA   │\n",
       "│           ┆            ┆          ┆            ┆   ┆          ┆            ┆ 5-29   ┆            │\n",
       "│           ┆            ┆          ┆            ┆   ┆          ┆            ┆ 08:00: ┆            │\n",
       "│           ┆            ┆          ┆            ┆   ┆          ┆            ┆ 00     ┆            │\n",
       "│ 0         ┆ 1          ┆ 0        ┆ 0          ┆ … ┆ 10603777 ┆ 2019       ┆ 2019-0 ┆ Total SA   │\n",
       "│           ┆            ┆          ┆            ┆   ┆          ┆            ┆ 5-29   ┆            │\n",
       "│           ┆            ┆          ┆            ┆   ┆          ┆            ┆ 08:00: ┆            │\n",
       "│           ┆            ┆          ┆            ┆   ┆          ┆            ┆ 00     ┆            │\n",
       "└───────────┴────────────┴──────────┴────────────┴───┴──────────┴────────────┴────────┴────────────┘"
      ]
     },
     "execution_count": 26,
     "metadata": {},
     "output_type": "execute_result"
    }
   ],
   "source": [
    "corpus_window_0_join_df = process_event.events_to_corpus(\n",
    "    events=events_filt,\n",
    "    keywords={\"russia\": 1, \"ukraine\": 1},\n",
    "    context_window_sentence=0,\n",
    "    subsequent_paragraphs=0,\n",
    "    join_adjacent_sentences=True,\n",
    "    extract_answers=False,\n",
    "    nlp_model=nlp_stanza,\n",
    ")\n",
    "corpus_window_0_join_df.head()"
   ]
  },
  {
   "cell_type": "code",
   "execution_count": 27,
   "metadata": {},
   "outputs": [
    {
     "name": "stdout",
     "output_type": "stream",
     "text": [
      "Extracting passages from events\n"
     ]
    },
    {
     "name": "stderr",
     "output_type": "stream",
     "text": [
      "Events: 100%|██████████| 19909/19909 [40:06<00:00,  8.27it/s]  \n"
     ]
    },
    {
     "name": "stdout",
     "output_type": "stream",
     "text": [
      "Processing corpus with spaCy-pipeline\n"
     ]
    },
    {
     "name": "stderr",
     "output_type": "stream",
     "text": [
      "Documents: 100%|██████████| 58090/58090 [25:39<00:00, 37.73it/s]  \n"
     ]
    },
    {
     "data": {
      "text/html": [
       "<div><style>\n",
       ".dataframe > thead > tr > th,\n",
       ".dataframe > tbody > tr > td {\n",
       "  text-align: right;\n",
       "}\n",
       "</style>\n",
       "<small>shape: (5, 11)</small><table border=\"1\" class=\"dataframe\"><thead><tr><th>event_idx</th><th>presentation_and_qa_idx</th><th>part_idx</th><th>paragraph_idx</th><th>sentence_idx</th><th>text</th><th>processed_text</th><th>id</th><th>years_upload</th><th>date</th><th>company_name</th></tr><tr><td>i64</td><td>i64</td><td>i64</td><td>i64</td><td>i64</td><td>str</td><td>str</td><td>i64</td><td>i64</td><td>datetime[μs]</td><td>str</td></tr></thead><tbody><tr><td>0</td><td>0</td><td>0</td><td>0</td><td>0</td><td>&quot;And in Decembe…</td><td>&quot;december board…</td><td>10603777</td><td>2019</td><td>2019-05-29 08:00:00</td><td>&quot;Total SA&quot;</td></tr><tr><td>0</td><td>1</td><td>0</td><td>0</td><td>0</td><td>&quot;Yes, about Rus…</td><td>&quot;yes pipe druzh…</td><td>10603777</td><td>2019</td><td>2019-05-29 08:00:00</td><td>&quot;Total SA&quot;</td></tr><tr><td>0</td><td>1</td><td>0</td><td>1</td><td>0</td><td>&quot;And I had the …</td><td>&quot;opportunity mi…</td><td>10603777</td><td>2019</td><td>2019-05-29 08:00:00</td><td>&quot;Total SA&quot;</td></tr><tr><td>1</td><td>0</td><td>0</td><td>0</td><td>0</td><td>&quot;This year, we …</td><td>&quot;part book line…</td><td>11055903</td><td>2019</td><td>2019-02-06 07:00:00</td><td>&quot;Orkla ASA&quot;</td></tr><tr><td>1</td><td>1</td><td>0</td><td>0</td><td>0</td><td>&quot;And the sum of…</td><td>&quot;sum income exp…</td><td>11055903</td><td>2019</td><td>2019-02-06 07:00:00</td><td>&quot;Orkla ASA&quot;</td></tr></tbody></table></div>"
      ],
      "text/plain": [
       "shape: (5, 11)\n",
       "┌───────────┬────────────┬──────────┬────────────┬───┬──────────┬────────────┬────────┬────────────┐\n",
       "│ event_idx ┆ presentati ┆ part_idx ┆ paragraph_ ┆ … ┆ id       ┆ years_uplo ┆ date   ┆ company_na │\n",
       "│ ---       ┆ on_and_qa_ ┆ ---      ┆ idx        ┆   ┆ ---      ┆ ad         ┆ ---    ┆ me         │\n",
       "│ i64       ┆ idx        ┆ i64      ┆ ---        ┆   ┆ i64      ┆ ---        ┆ dateti ┆ ---        │\n",
       "│           ┆ ---        ┆          ┆ i64        ┆   ┆          ┆ i64        ┆ me[μs] ┆ str        │\n",
       "│           ┆ i64        ┆          ┆            ┆   ┆          ┆            ┆        ┆            │\n",
       "╞═══════════╪════════════╪══════════╪════════════╪═══╪══════════╪════════════╪════════╪════════════╡\n",
       "│ 0         ┆ 0          ┆ 0        ┆ 0          ┆ … ┆ 10603777 ┆ 2019       ┆ 2019-0 ┆ Total SA   │\n",
       "│           ┆            ┆          ┆            ┆   ┆          ┆            ┆ 5-29   ┆            │\n",
       "│           ┆            ┆          ┆            ┆   ┆          ┆            ┆ 08:00: ┆            │\n",
       "│           ┆            ┆          ┆            ┆   ┆          ┆            ┆ 00     ┆            │\n",
       "│ 0         ┆ 1          ┆ 0        ┆ 0          ┆ … ┆ 10603777 ┆ 2019       ┆ 2019-0 ┆ Total SA   │\n",
       "│           ┆            ┆          ┆            ┆   ┆          ┆            ┆ 5-29   ┆            │\n",
       "│           ┆            ┆          ┆            ┆   ┆          ┆            ┆ 08:00: ┆            │\n",
       "│           ┆            ┆          ┆            ┆   ┆          ┆            ┆ 00     ┆            │\n",
       "│ 0         ┆ 1          ┆ 0        ┆ 1          ┆ … ┆ 10603777 ┆ 2019       ┆ 2019-0 ┆ Total SA   │\n",
       "│           ┆            ┆          ┆            ┆   ┆          ┆            ┆ 5-29   ┆            │\n",
       "│           ┆            ┆          ┆            ┆   ┆          ┆            ┆ 08:00: ┆            │\n",
       "│           ┆            ┆          ┆            ┆   ┆          ┆            ┆ 00     ┆            │\n",
       "│ 1         ┆ 0          ┆ 0        ┆ 0          ┆ … ┆ 11055903 ┆ 2019       ┆ 2019-0 ┆ Orkla ASA  │\n",
       "│           ┆            ┆          ┆            ┆   ┆          ┆            ┆ 2-06   ┆            │\n",
       "│           ┆            ┆          ┆            ┆   ┆          ┆            ┆ 07:00: ┆            │\n",
       "│           ┆            ┆          ┆            ┆   ┆          ┆            ┆ 00     ┆            │\n",
       "│ 1         ┆ 1          ┆ 0        ┆ 0          ┆ … ┆ 11055903 ┆ 2019       ┆ 2019-0 ┆ Orkla ASA  │\n",
       "│           ┆            ┆          ┆            ┆   ┆          ┆            ┆ 2-06   ┆            │\n",
       "│           ┆            ┆          ┆            ┆   ┆          ┆            ┆ 07:00: ┆            │\n",
       "│           ┆            ┆          ┆            ┆   ┆          ┆            ┆ 00     ┆            │\n",
       "└───────────┴────────────┴──────────┴────────────┴───┴──────────┴────────────┴────────┴────────────┘"
      ]
     },
     "execution_count": 27,
     "metadata": {},
     "output_type": "execute_result"
    }
   ],
   "source": [
    "corpus_window_3_join_df = process_event.events_to_corpus(\n",
    "    events=events_filt,\n",
    "    keywords={\"russia\": 1, \"ukraine\": 1},\n",
    "    context_window_sentence=[0,2],\n",
    "    subsequent_paragraphs=0,\n",
    "    join_adjacent_sentences=True,\n",
    "    extract_answers=False,\n",
    "    nlp_model=nlp_stanza,\n",
    ")\n",
    "corpus_window_3_join_df.head()"
   ]
  },
  {
   "cell_type": "code",
   "execution_count": 28,
   "metadata": {},
   "outputs": [
    {
     "name": "stdout",
     "output_type": "stream",
     "text": [
      "Extracting passages from events\n"
     ]
    },
    {
     "name": "stderr",
     "output_type": "stream",
     "text": [
      "Events: 100%|██████████| 19909/19909 [40:00<00:00,  8.29it/s]  \n"
     ]
    },
    {
     "name": "stdout",
     "output_type": "stream",
     "text": [
      "Processing corpus with spaCy-pipeline\n"
     ]
    },
    {
     "name": "stderr",
     "output_type": "stream",
     "text": [
      "Documents: 100%|██████████| 57086/57086 [26:53<00:00, 35.38it/s]  \n"
     ]
    },
    {
     "data": {
      "text/html": [
       "<div><style>\n",
       ".dataframe > thead > tr > th,\n",
       ".dataframe > tbody > tr > td {\n",
       "  text-align: right;\n",
       "}\n",
       "</style>\n",
       "<small>shape: (5, 11)</small><table border=\"1\" class=\"dataframe\"><thead><tr><th>event_idx</th><th>presentation_and_qa_idx</th><th>part_idx</th><th>paragraph_idx</th><th>sentence_idx</th><th>text</th><th>processed_text</th><th>id</th><th>years_upload</th><th>date</th><th>company_name</th></tr><tr><td>i64</td><td>i64</td><td>i64</td><td>i64</td><td>i64</td><td>str</td><td>str</td><td>i64</td><td>i64</td><td>datetime[μs]</td><td>str</td></tr></thead><tbody><tr><td>0</td><td>0</td><td>0</td><td>0</td><td>0</td><td>&quot;And in Decembe…</td><td>&quot;december board…</td><td>10603777</td><td>2019</td><td>2019-05-29 08:00:00</td><td>&quot;Total SA&quot;</td></tr><tr><td>0</td><td>1</td><td>0</td><td>0</td><td>0</td><td>&quot;Yes, about Rus…</td><td>&quot;yes pipe druzh…</td><td>10603777</td><td>2019</td><td>2019-05-29 08:00:00</td><td>&quot;Total SA&quot;</td></tr><tr><td>0</td><td>1</td><td>0</td><td>1</td><td>0</td><td>&quot;And I had the …</td><td>&quot;opportunity mi…</td><td>10603777</td><td>2019</td><td>2019-05-29 08:00:00</td><td>&quot;Total SA&quot;</td></tr><tr><td>1</td><td>0</td><td>0</td><td>0</td><td>0</td><td>&quot;This year, we …</td><td>&quot;part book line…</td><td>11055903</td><td>2019</td><td>2019-02-06 07:00:00</td><td>&quot;Orkla ASA&quot;</td></tr><tr><td>1</td><td>1</td><td>0</td><td>0</td><td>0</td><td>&quot;We entered int…</td><td>&quot;enter sale agr…</td><td>11055903</td><td>2019</td><td>2019-02-06 07:00:00</td><td>&quot;Orkla ASA&quot;</td></tr></tbody></table></div>"
      ],
      "text/plain": [
       "shape: (5, 11)\n",
       "┌───────────┬────────────┬──────────┬────────────┬───┬──────────┬────────────┬────────┬────────────┐\n",
       "│ event_idx ┆ presentati ┆ part_idx ┆ paragraph_ ┆ … ┆ id       ┆ years_uplo ┆ date   ┆ company_na │\n",
       "│ ---       ┆ on_and_qa_ ┆ ---      ┆ idx        ┆   ┆ ---      ┆ ad         ┆ ---    ┆ me         │\n",
       "│ i64       ┆ idx        ┆ i64      ┆ ---        ┆   ┆ i64      ┆ ---        ┆ dateti ┆ ---        │\n",
       "│           ┆ ---        ┆          ┆ i64        ┆   ┆          ┆ i64        ┆ me[μs] ┆ str        │\n",
       "│           ┆ i64        ┆          ┆            ┆   ┆          ┆            ┆        ┆            │\n",
       "╞═══════════╪════════════╪══════════╪════════════╪═══╪══════════╪════════════╪════════╪════════════╡\n",
       "│ 0         ┆ 0          ┆ 0        ┆ 0          ┆ … ┆ 10603777 ┆ 2019       ┆ 2019-0 ┆ Total SA   │\n",
       "│           ┆            ┆          ┆            ┆   ┆          ┆            ┆ 5-29   ┆            │\n",
       "│           ┆            ┆          ┆            ┆   ┆          ┆            ┆ 08:00: ┆            │\n",
       "│           ┆            ┆          ┆            ┆   ┆          ┆            ┆ 00     ┆            │\n",
       "│ 0         ┆ 1          ┆ 0        ┆ 0          ┆ … ┆ 10603777 ┆ 2019       ┆ 2019-0 ┆ Total SA   │\n",
       "│           ┆            ┆          ┆            ┆   ┆          ┆            ┆ 5-29   ┆            │\n",
       "│           ┆            ┆          ┆            ┆   ┆          ┆            ┆ 08:00: ┆            │\n",
       "│           ┆            ┆          ┆            ┆   ┆          ┆            ┆ 00     ┆            │\n",
       "│ 0         ┆ 1          ┆ 0        ┆ 1          ┆ … ┆ 10603777 ┆ 2019       ┆ 2019-0 ┆ Total SA   │\n",
       "│           ┆            ┆          ┆            ┆   ┆          ┆            ┆ 5-29   ┆            │\n",
       "│           ┆            ┆          ┆            ┆   ┆          ┆            ┆ 08:00: ┆            │\n",
       "│           ┆            ┆          ┆            ┆   ┆          ┆            ┆ 00     ┆            │\n",
       "│ 1         ┆ 0          ┆ 0        ┆ 0          ┆ … ┆ 11055903 ┆ 2019       ┆ 2019-0 ┆ Orkla ASA  │\n",
       "│           ┆            ┆          ┆            ┆   ┆          ┆            ┆ 2-06   ┆            │\n",
       "│           ┆            ┆          ┆            ┆   ┆          ┆            ┆ 07:00: ┆            │\n",
       "│           ┆            ┆          ┆            ┆   ┆          ┆            ┆ 00     ┆            │\n",
       "│ 1         ┆ 1          ┆ 0        ┆ 0          ┆ … ┆ 11055903 ┆ 2019       ┆ 2019-0 ┆ Orkla ASA  │\n",
       "│           ┆            ┆          ┆            ┆   ┆          ┆            ┆ 2-06   ┆            │\n",
       "│           ┆            ┆          ┆            ┆   ┆          ┆            ┆ 07:00: ┆            │\n",
       "│           ┆            ┆          ┆            ┆   ┆          ┆            ┆ 00     ┆            │\n",
       "└───────────┴────────────┴──────────┴────────────┴───┴──────────┴────────────┴────────┴────────────┘"
      ]
     },
     "execution_count": 28,
     "metadata": {},
     "output_type": "execute_result"
    }
   ],
   "source": [
    "corpus_window_5_join_df = process_event.events_to_corpus(\n",
    "    events=events_filt,\n",
    "    keywords={\"russia\": 1, \"ukraine\": 1},\n",
    "    context_window_sentence=[0,4],\n",
    "    subsequent_paragraphs=0,\n",
    "    join_adjacent_sentences=True,\n",
    "    extract_answers=False,\n",
    "    nlp_model=nlp_stanza,\n",
    ")\n",
    "corpus_window_5_join_df.head()"
   ]
  },
  {
   "cell_type": "code",
   "execution_count": 29,
   "metadata": {},
   "outputs": [
    {
     "name": "stdout",
     "output_type": "stream",
     "text": [
      "Extracting passages from events\n"
     ]
    },
    {
     "name": "stderr",
     "output_type": "stream",
     "text": [
      "Events: 100%|██████████| 19909/19909 [39:56<00:00,  8.31it/s]  \n"
     ]
    },
    {
     "name": "stdout",
     "output_type": "stream",
     "text": [
      "Processing corpus with spaCy-pipeline\n"
     ]
    },
    {
     "name": "stderr",
     "output_type": "stream",
     "text": [
      "Documents: 100%|██████████| 57114/57114 [32:07<00:00, 29.63it/s]  \n"
     ]
    },
    {
     "data": {
      "text/html": [
       "<div><style>\n",
       ".dataframe > thead > tr > th,\n",
       ".dataframe > tbody > tr > td {\n",
       "  text-align: right;\n",
       "}\n",
       "</style>\n",
       "<small>shape: (5, 11)</small><table border=\"1\" class=\"dataframe\"><thead><tr><th>event_idx</th><th>presentation_and_qa_idx</th><th>part_idx</th><th>paragraph_idx</th><th>sentence_idx</th><th>text</th><th>processed_text</th><th>id</th><th>years_upload</th><th>date</th><th>company_name</th></tr><tr><td>i64</td><td>i64</td><td>i64</td><td>i64</td><td>i64</td><td>str</td><td>str</td><td>i64</td><td>i64</td><td>datetime[μs]</td><td>str</td></tr></thead><tbody><tr><td>0</td><td>0</td><td>0</td><td>0</td><td>0</td><td>&quot;And in Decembe…</td><td>&quot;december board…</td><td>10603777</td><td>2019</td><td>2019-05-29 08:00:00</td><td>&quot;Total SA&quot;</td></tr><tr><td>0</td><td>1</td><td>0</td><td>0</td><td>0</td><td>&quot;Yes, about Rus…</td><td>&quot;yes pipe druzh…</td><td>10603777</td><td>2019</td><td>2019-05-29 08:00:00</td><td>&quot;Total SA&quot;</td></tr><tr><td>0</td><td>1</td><td>0</td><td>1</td><td>0</td><td>&quot;And I had the …</td><td>&quot;opportunity mi…</td><td>10603777</td><td>2019</td><td>2019-05-29 08:00:00</td><td>&quot;Total SA&quot;</td></tr><tr><td>1</td><td>0</td><td>0</td><td>0</td><td>0</td><td>&quot;This year, we …</td><td>&quot;part book line…</td><td>11055903</td><td>2019</td><td>2019-02-06 07:00:00</td><td>&quot;Orkla ASA&quot;</td></tr><tr><td>1</td><td>1</td><td>0</td><td>0</td><td>0</td><td>&quot;We entered int…</td><td>&quot;enter sale agr…</td><td>11055903</td><td>2019</td><td>2019-02-06 07:00:00</td><td>&quot;Orkla ASA&quot;</td></tr></tbody></table></div>"
      ],
      "text/plain": [
       "shape: (5, 11)\n",
       "┌───────────┬────────────┬──────────┬────────────┬───┬──────────┬────────────┬────────┬────────────┐\n",
       "│ event_idx ┆ presentati ┆ part_idx ┆ paragraph_ ┆ … ┆ id       ┆ years_uplo ┆ date   ┆ company_na │\n",
       "│ ---       ┆ on_and_qa_ ┆ ---      ┆ idx        ┆   ┆ ---      ┆ ad         ┆ ---    ┆ me         │\n",
       "│ i64       ┆ idx        ┆ i64      ┆ ---        ┆   ┆ i64      ┆ ---        ┆ dateti ┆ ---        │\n",
       "│           ┆ ---        ┆          ┆ i64        ┆   ┆          ┆ i64        ┆ me[μs] ┆ str        │\n",
       "│           ┆ i64        ┆          ┆            ┆   ┆          ┆            ┆        ┆            │\n",
       "╞═══════════╪════════════╪══════════╪════════════╪═══╪══════════╪════════════╪════════╪════════════╡\n",
       "│ 0         ┆ 0          ┆ 0        ┆ 0          ┆ … ┆ 10603777 ┆ 2019       ┆ 2019-0 ┆ Total SA   │\n",
       "│           ┆            ┆          ┆            ┆   ┆          ┆            ┆ 5-29   ┆            │\n",
       "│           ┆            ┆          ┆            ┆   ┆          ┆            ┆ 08:00: ┆            │\n",
       "│           ┆            ┆          ┆            ┆   ┆          ┆            ┆ 00     ┆            │\n",
       "│ 0         ┆ 1          ┆ 0        ┆ 0          ┆ … ┆ 10603777 ┆ 2019       ┆ 2019-0 ┆ Total SA   │\n",
       "│           ┆            ┆          ┆            ┆   ┆          ┆            ┆ 5-29   ┆            │\n",
       "│           ┆            ┆          ┆            ┆   ┆          ┆            ┆ 08:00: ┆            │\n",
       "│           ┆            ┆          ┆            ┆   ┆          ┆            ┆ 00     ┆            │\n",
       "│ 0         ┆ 1          ┆ 0        ┆ 1          ┆ … ┆ 10603777 ┆ 2019       ┆ 2019-0 ┆ Total SA   │\n",
       "│           ┆            ┆          ┆            ┆   ┆          ┆            ┆ 5-29   ┆            │\n",
       "│           ┆            ┆          ┆            ┆   ┆          ┆            ┆ 08:00: ┆            │\n",
       "│           ┆            ┆          ┆            ┆   ┆          ┆            ┆ 00     ┆            │\n",
       "│ 1         ┆ 0          ┆ 0        ┆ 0          ┆ … ┆ 11055903 ┆ 2019       ┆ 2019-0 ┆ Orkla ASA  │\n",
       "│           ┆            ┆          ┆            ┆   ┆          ┆            ┆ 2-06   ┆            │\n",
       "│           ┆            ┆          ┆            ┆   ┆          ┆            ┆ 07:00: ┆            │\n",
       "│           ┆            ┆          ┆            ┆   ┆          ┆            ┆ 00     ┆            │\n",
       "│ 1         ┆ 1          ┆ 0        ┆ 0          ┆ … ┆ 11055903 ┆ 2019       ┆ 2019-0 ┆ Orkla ASA  │\n",
       "│           ┆            ┆          ┆            ┆   ┆          ┆            ┆ 2-06   ┆            │\n",
       "│           ┆            ┆          ┆            ┆   ┆          ┆            ┆ 07:00: ┆            │\n",
       "│           ┆            ┆          ┆            ┆   ┆          ┆            ┆ 00     ┆            │\n",
       "└───────────┴────────────┴──────────┴────────────┴───┴──────────┴────────────┴────────┴────────────┘"
      ]
     },
     "execution_count": 29,
     "metadata": {},
     "output_type": "execute_result"
    }
   ],
   "source": [
    "corpus_window_whole_join_df = process_event.events_to_corpus(\n",
    "    events=events_filt,\n",
    "    keywords={\"russia\": 1, \"ukraine\": 1},\n",
    "    context_window_sentence=[0,-1],\n",
    "    subsequent_paragraphs=0,\n",
    "    join_adjacent_sentences=True,\n",
    "    extract_answers=False,\n",
    "    nlp_model=nlp_stanza,\n",
    ")\n",
    "corpus_window_whole_join_df.head()"
   ]
  },
  {
   "cell_type": "markdown",
   "metadata": {},
   "source": [
    "Save and load data"
   ]
  },
  {
   "cell_type": "code",
   "execution_count": 31,
   "metadata": {},
   "outputs": [],
   "source": [
    "helper.save_data(corpus_window_0_df, \"data/corpus_window_0_df_no_answer\", compression=\"lz4\")\n",
    "helper.save_data(corpus_window_0_join_df, \"data/corpus_window_0_join_df_no_answer\", compression=\"lz4\")\n",
    "helper.save_data(corpus_window_3_join_df, \"data/corpus_window_3_join_df_no_answer\", compression=\"lz4\")\n",
    "helper.save_data(corpus_window_5_join_df, \"data/corpus_window_5_join_df_no_answer\", compression=\"lz4\")\n",
    "helper.save_data(corpus_window_whole_join_df, \"data/corpus_window_whole_join_df_no_answer\", compression=\"lz4\")"
   ]
  },
  {
   "cell_type": "code",
   "execution_count": 55,
   "metadata": {},
   "outputs": [],
   "source": [
    "corpus_window_0_df = helper.load_data(\"data/corpus_window_0_df_no_answer.lz4\")\n",
    "# corpus_window_0_join_df = helper.load_data(\"corpus_window_0_join_df_no_answer.lz4\")\n",
    "# corpus_window_3_join_df = helper.load_data(\"corpus_window_3_join_df_no_answer.lz4\")\n",
    "# corpus_window_5_join_df = helper.load_data(\"corpus_window_5_join_df_no_answer.lz4\")\n",
    "# corpus_window_whole_join_df = helper.load_data(\"corpus_window_whole_join_df_no_answer.lz4\")"
   ]
  },
  {
   "cell_type": "markdown",
   "metadata": {},
   "source": [
    "## Extract Strategies"
   ]
  },
  {
   "cell_type": "code",
   "execution_count": 56,
   "metadata": {},
   "outputs": [
    {
     "data": {
      "text/html": [
       "<div><style>\n",
       ".dataframe > thead > tr > th,\n",
       ".dataframe > tbody > tr > td {\n",
       "  text-align: right;\n",
       "}\n",
       "</style>\n",
       "<small>shape: (5, 14)</small><table border=\"1\" class=\"dataframe\"><thead><tr><th>event_idx</th><th>presentation_and_qa_idx</th><th>part_idx</th><th>paragraph_idx</th><th>sentence_idx</th><th>text</th><th>processed_text</th><th>id</th><th>year</th><th>date</th><th>company_name</th><th>exit_strategy</th><th>stay_strategy</th><th>adaptation_strategy</th></tr><tr><td>i64</td><td>i64</td><td>i64</td><td>i64</td><td>i64</td><td>str</td><td>str</td><td>i64</td><td>i64</td><td>datetime[μs]</td><td>str</td><td>bool</td><td>bool</td><td>bool</td></tr></thead><tbody><tr><td>0</td><td>0</td><td>0</td><td>0</td><td>0</td><td>&quot;I want to begi…</td><td>&quot;want begin rem…</td><td>14973682</td><td>2022</td><td>2022-04-27 13:00:00</td><td>&quot;CGI Inc&quot;</td><td>false</td><td>false</td><td>false</td></tr><tr><td>0</td><td>0</td><td>0</td><td>0</td><td>1</td><td>&quot;CGI does not h…</td><td>&quot;cgi client pro…</td><td>14973682</td><td>2022</td><td>2022-04-27 13:00:00</td><td>&quot;CGI Inc&quot;</td><td>false</td><td>false</td><td>false</td></tr><tr><td>0</td><td>0</td><td>0</td><td>0</td><td>2</td><td>&quot;However, we do…</td><td>&quot;employee famil…</td><td>14973682</td><td>2022</td><td>2022-04-27 13:00:00</td><td>&quot;CGI Inc&quot;</td><td>false</td><td>false</td><td>false</td></tr><tr><td>0</td><td>1</td><td>0</td><td>0</td><td>0</td><td>&quot;Conversely, yo…</td><td>&quot;conversely get…</td><td>14973682</td><td>2022</td><td>2022-04-27 13:00:00</td><td>&quot;CGI Inc&quot;</td><td>true</td><td>false</td><td>false</td></tr><tr><td>1</td><td>0</td><td>0</td><td>0</td><td>0</td><td>&quot;We have inflat…</td><td>&quot;inflationary e…</td><td>15228018</td><td>2022</td><td>2022-05-24 10:00:00</td><td>&quot;Schneider Elec…</td><td>false</td><td>false</td><td>false</td></tr></tbody></table></div>"
      ],
      "text/plain": [
       "shape: (5, 14)\n",
       "┌───────────┬────────────┬──────────┬────────────┬───┬────────────┬────────────┬────────────┬────────────┐\n",
       "│ event_idx ┆ presentati ┆ part_idx ┆ paragraph_ ┆ … ┆ company_na ┆ exit_strat ┆ stay_strat ┆ adaptation │\n",
       "│ ---       ┆ on_and_qa_ ┆ ---      ┆ idx        ┆   ┆ me         ┆ egy        ┆ egy        ┆ _strategy  │\n",
       "│ i64       ┆ idx        ┆ i64      ┆ ---        ┆   ┆ ---        ┆ ---        ┆ ---        ┆ ---        │\n",
       "│           ┆ ---        ┆          ┆ i64        ┆   ┆ str        ┆ bool       ┆ bool       ┆ bool       │\n",
       "│           ┆ i64        ┆          ┆            ┆   ┆            ┆            ┆            ┆            │\n",
       "╞═══════════╪════════════╪══════════╪════════════╪═══╪════════════╪════════════╪════════════╪════════════╡\n",
       "│ 0         ┆ 0          ┆ 0        ┆ 0          ┆ … ┆ CGI Inc    ┆ false      ┆ false      ┆ false      │\n",
       "│ 0         ┆ 0          ┆ 0        ┆ 0          ┆ … ┆ CGI Inc    ┆ false      ┆ false      ┆ false      │\n",
       "│ 0         ┆ 0          ┆ 0        ┆ 0          ┆ … ┆ CGI Inc    ┆ false      ┆ false      ┆ false      │\n",
       "│ 0         ┆ 1          ┆ 0        ┆ 0          ┆ … ┆ CGI Inc    ┆ true       ┆ false      ┆ false      │\n",
       "│ 1         ┆ 0          ┆ 0        ┆ 0          ┆ … ┆ Schneider  ┆ false      ┆ false      ┆ false      │\n",
       "│           ┆            ┆          ┆            ┆   ┆ Electric   ┆            ┆            ┆            │\n",
       "│           ┆            ┆          ┆            ┆   ┆ Infrastruc ┆            ┆            ┆            │\n",
       "│           ┆            ┆          ┆            ┆   ┆ tur…       ┆            ┆            ┆            │\n",
       "└───────────┴────────────┴──────────┴────────────┴───┴────────────┴────────────┴────────────┴────────────┘"
      ]
     },
     "execution_count": 56,
     "metadata": {},
     "output_type": "execute_result"
    }
   ],
   "source": [
    "corpus_window_0_df = process_text.get_strategies(dataframe=corpus_window_0_df)\n",
    "# corpus_window_0_df.groupby('id').agg(pl.col('exit_strategy', 'stay_strategy', 'adaptation_strategy').sum(), pl.col('text', 'processed_text')).sort('id')\n",
    "corpus_window_0_df.head()"
   ]
  },
  {
   "cell_type": "code",
   "execution_count": 57,
   "metadata": {},
   "outputs": [
    {
     "data": {
      "text/plain": [
       "3399"
      ]
     },
     "execution_count": 57,
     "metadata": {},
     "output_type": "execute_result"
    }
   ],
   "source": [
    "sum(corpus_window_0_df['exit_strategy'])"
   ]
  },
  {
   "cell_type": "markdown",
   "metadata": {},
   "source": [
    "### Analyse corpus"
   ]
  },
  {
   "cell_type": "code",
   "execution_count": 31,
   "metadata": {},
   "outputs": [
    {
     "data": {
      "text/plain": [
       "4893"
      ]
     },
     "execution_count": 31,
     "metadata": {},
     "output_type": "execute_result"
    }
   ],
   "source": [
    "lengths = [len(doc) for doc in corpus_window_0_df['processed_text'].to_list()]\n",
    "np.argmax(np.array(lengths))"
   ]
  },
  {
   "cell_type": "code",
   "execution_count": 32,
   "metadata": {},
   "outputs": [
    {
     "data": {
      "text/plain": [
       "<seaborn.axisgrid.FacetGrid at 0x202e44df0>"
      ]
     },
     "execution_count": 32,
     "metadata": {},
     "output_type": "execute_result"
    },
    {
     "data": {
      "image/png": "[encoded data removed]",
      "text/plain": [
       "<Figure size 500x500 with 1 Axes>"
      ]
     },
     "metadata": {},
     "output_type": "display_data"
    }
   ],
   "source": [
    "sns.displot(np.array(lengths))"
   ]
  },
  {
   "cell_type": "markdown",
   "metadata": {},
   "source": [
    "## Extract topics"
   ]
  },
  {
   "cell_type": "code",
   "execution_count": 58,
   "metadata": {},
   "outputs": [
    {
     "name": "stderr",
     "output_type": "stream",
     "text": [
      "2023-09-12 13:40:02 INFO: Checking for updates to resources.json in case models have been updated.  Note: this behavior can be turned off with download_method=None or download_method=DownloadMethod.REUSE_RESOURCES\n"
     ]
    },
    {
     "data": {
      "application/vnd.jupyter.widget-view+json": {
       "model_id": "1336148448c14d0b9bfe8d735c1a9941",
       "version_major": 2,
       "version_minor": 0
      },
      "text/plain": [
       "Downloading https://raw.githubusercontent.com/stanfordnlp/stanza-resources/main/resources_1.5.0.json:   0%|   …"
      ]
     },
     "metadata": {},
     "output_type": "display_data"
    },
    {
     "name": "stderr",
     "output_type": "stream",
     "text": [
      "2023-09-12 13:40:03 INFO: Loading these models for language: en (English):\n",
      "========================\n",
      "| Processor | Package  |\n",
      "------------------------\n",
      "| tokenize  | combined |\n",
      "| pos       | combined |\n",
      "========================\n",
      "\n",
      "2023-09-12 13:40:03 WARNING: GPU requested, but is not available!\n",
      "2023-09-12 13:40:03 INFO: Using device: cpu\n",
      "2023-09-12 13:40:03 INFO: Loading: tokenize\n",
      "2023-09-12 13:40:03 INFO: Loading: pos\n",
      "2023-09-12 13:40:04 INFO: Done loading processors!\n"
     ]
    }
   ],
   "source": [
    "from bertopic.representation import KeyBERTInspired\n",
    "from bertopic.representation import PartOfSpeech\n",
    "from bertopic.representation import MaximalMarginalRelevance\n",
    "from transformers import pipeline\n",
    "from bertopic.representation import TextGeneration\n",
    "# from sklearn.feature_extraction.text import CountVectorizer\n",
    "from sentence_transformers import SentenceTransformer\n",
    "\n",
    "# vectorizer_model = CountVectorizer(ngram_range=(1, 3), stop_words=\"english\", min_df=10)\n",
    "\n",
    "\n",
    "# main_representation = KeyBERTInspired()\n",
    "inspired_model = KeyBERTInspired()\n",
    "\n",
    "# sentence model\n",
    "# sentence_model = SentenceTransformer(\"all-mpnet-base-v2\")\n",
    "sentence_model_light = SentenceTransformer(\"all-MiniLM-L6-v2\")\n",
    "\n",
    "# mmr model\n",
    "mmr_model = MaximalMarginalRelevance(diversity=0.4)\n",
    "\n",
    "# pos model\n",
    "nlp_stanza_pos = spacy_stanza.load_pipeline(\"en\", processors=\"tokenize, pos\")\n",
    "pos_model = PartOfSpeech(nlp_stanza_pos)\n",
    "\n",
    "# Create a generator model\n",
    "prompt = \"I have a topic described by the following keywords: [KEYWORDS]. Based on the previous keywords, what is this topic about?\"\n",
    "generator = pipeline('text2text-generation', model='google/flan-t5-base')\n",
    "generator_model = TextGeneration(generator)\n",
    "\n",
    "# chain models\n",
    "chain_model_1 = [inspired_model, mmr_model]\n",
    "chain_model_2 = [inspired_model, mmr_model, pos_model]\n",
    "# chain_model_3 = [inspired_model, pos_model, mmr_model]\n",
    "generator_chain_model_1 = [inspired_model, mmr_model, generator_model]\n",
    "# generator_chain_model_2 = [inspired_model, mmr_model, pos_model, generator_model]\n",
    "\n",
    "\n",
    "# Add all models together to be run in a single `fit`\n",
    "representation_model = {\n",
    "   \"Main\": inspired_model,\n",
    "   # \"Pos\":  pos_model,\n",
    "   \"Chain: Inspired - MMR\":  chain_model_1,\n",
    "   # \"Chain: Inspired - MMR - POS\":  chain_model_2,\n",
    "   # \"Chain: Inspired - POS - MMR\":  chain_model_3,\n",
    "   # \"Generator\": generator_model,\n",
    "   # \"Generator chain: Inspired - MMR\": generator_chain_model_1,\n",
    "   # \"Generator chain: Inspired - MMR - POS\": generator_chain_model_2\n",
    "}"
   ]
  },
  {
   "cell_type": "markdown",
   "metadata": {},
   "source": [
    "1.\n",
    "* Sentence window: 0\n",
    "* No join"
   ]
  },
  {
   "cell_type": "code",
   "execution_count": null,
   "metadata": {},
   "outputs": [
    {
     "data": {
      "application/vnd.jupyter.widget-view+json": {
       "model_id": "81ec7a270088459b99a38b67912b36dc",
       "version_major": 2,
       "version_minor": 0
      },
      "text/plain": [
       "Batches:   0%|          | 0/1411 [00:00<?, ?it/s]"
      ]
     },
     "metadata": {},
     "output_type": "display_data"
    }
   ],
   "source": [
    "topic_model_0, topics_0, probs_0 = topic_extractor.bert_advanced(corpus_window_0_df['processed_text'].to_list(), representation_model=representation_model, embedding_model=sentence_model_light)"
   ]
  },
  {
   "cell_type": "code",
   "execution_count": 63,
   "metadata": {},
   "outputs": [
    {
     "data": {
      "application/vnd.jupyter.widget-view+json": {
       "model_id": "81ec7a270088459b99a38b67912b36dc",
       "version_major": 2,
       "version_minor": 0
      },
      "text/plain": [
       "Batches:   0%|          | 0/1411 [00:00<?, ?it/s]"
      ]
     },
     "metadata": {},
     "output_type": "display_data"
    },
    {
     "name": "stderr",
     "output_type": "stream",
     "text": [
      "2023-09-12 14:08:20,844 - BERTopic - Transformed documents to Embeddings\n",
      "2023-09-12 14:08:43,950 - BERTopic - Reduced dimensionality\n"
     ]
    },
    {
     "name": "stdout",
     "output_type": "stream",
     "text": [
      "huggingface/tokenizers: The current process just got forked, after parallelism has already been used. Disabling parallelism to avoid deadlocks...\n",
      "To disable this warning, you can either:\n",
      "\t- Avoid using `tokenizers` before the fork if possible\n",
      "\t- Explicitly set the environment variable TOKENIZERS_PARALLELISM=(true | false)\n",
      "huggingface/tokenizers: The current process just got forked, after parallelism has already been used. Disabling parallelism to avoid deadlocks...\n",
      "To disable this warning, you can either:\n",
      "\t- Avoid using `tokenizers` before the fork if possible\n",
      "\t- Explicitly set the environment variable TOKENIZERS_PARALLELISM=(true | false)\n",
      "huggingface/tokenizers: The current process just got forked, after parallelism has already been used. Disabling parallelism to avoid deadlocks...\n",
      "To disable this warning, you can either:\n",
      "\t- Avoid using `tokenizers` before the fork if possible\n",
      "\t- Explicitly set the environment variable TOKENIZERS_PARALLELISM=(true | false)\n",
      "huggingface/tokenizers: The current process just got forked, after parallelism has already been used. Disabling parallelism to avoid deadlocks...\n",
      "To disable this warning, you can either:\n",
      "\t- Avoid using `tokenizers` before the fork if possible\n",
      "\t- Explicitly set the environment variable TOKENIZERS_PARALLELISM=(true | false)\n"
     ]
    },
    {
     "name": "stderr",
     "output_type": "stream",
     "text": [
      "2023-09-12 14:13:52,881 - BERTopic - Clustered reduced embeddings\n",
      "2023-09-12 14:14:42,539 - BERTopic - Reduced number of topics from 415 to 18\n"
     ]
    }
   ],
   "source": [
    "topic_model_0_red, topics_0_red, probs_0_red = topic_extractor.bert_advanced(corpus_window_0_df['processed_text'].to_list(), representation_model=representation_model, embedding_model=sentence_model_light, nr_topics=18)"
   ]
  },
  {
   "cell_type": "code",
   "execution_count": 60,
   "metadata": {},
   "outputs": [
    {
     "data": {
      "text/html": [
       "<div>\n",
       "<style scoped>\n",
       "    .dataframe tbody tr th:only-of-type {\n",
       "        vertical-align: middle;\n",
       "    }\n",
       "\n",
       "    .dataframe tbody tr th {\n",
       "        vertical-align: top;\n",
       "    }\n",
       "\n",
       "    .dataframe thead th {\n",
       "        text-align: right;\n",
       "    }\n",
       "</style>\n",
       "<table border=\"1\" class=\"dataframe\">\n",
       "  <thead>\n",
       "    <tr style=\"text-align: right;\">\n",
       "      <th></th>\n",
       "      <th>Topic</th>\n",
       "      <th>Count</th>\n",
       "      <th>Name</th>\n",
       "      <th>Representation</th>\n",
       "      <th>Chain: Inspired - MMR</th>\n",
       "      <th>Representative_Docs</th>\n",
       "    </tr>\n",
       "  </thead>\n",
       "  <tbody>\n",
       "    <tr>\n",
       "      <th>0</th>\n",
       "      <td>-1</td>\n",
       "      <td>22245</td>\n",
       "      <td>-1_inflation_demand_growth_economic</td>\n",
       "      <td>[inflation, demand, growth, economic, revenue,...</td>\n",
       "      <td>[inflation, demand, growth, economic, revenue,...</td>\n",
       "      <td>[predict long term effect war ongoing covid pa...</td>\n",
       "    </tr>\n",
       "    <tr>\n",
       "      <th>1</th>\n",
       "      <td>0</td>\n",
       "      <td>852</td>\n",
       "      <td>0_belarus_belarusian_kazakhstan_moldova</td>\n",
       "      <td>[belarus, belarusian, kazakhstan, moldova, sal...</td>\n",
       "      <td>[belarus, belarusian, kazakhstan, moldova, sal...</td>\n",
       "      <td>[belarus material, belarus market, 2.5 sale be...</td>\n",
       "    </tr>\n",
       "    <tr>\n",
       "      <th>2</th>\n",
       "      <td>1</td>\n",
       "      <td>707</td>\n",
       "      <td>1_energy_renewable_electricity_demand</td>\n",
       "      <td>[energy, renewable, electricity, demand, megaw...</td>\n",
       "      <td>[energy, renewable, electricity, demand, megaw...</td>\n",
       "      <td>[short term focus clearly energy security end ...</td>\n",
       "    </tr>\n",
       "    <tr>\n",
       "      <th>3</th>\n",
       "      <td>2</td>\n",
       "      <td>594</td>\n",
       "      <td>2_logistics_disruption_sourcing_shortage</td>\n",
       "      <td>[logistics, disruption, sourcing, shortage, in...</td>\n",
       "      <td>[logistics, disruption, sourcing, shortage, in...</td>\n",
       "      <td>[clearly war disruption supply chain, recent p...</td>\n",
       "    </tr>\n",
       "    <tr>\n",
       "      <th>4</th>\n",
       "      <td>3</td>\n",
       "      <td>470</td>\n",
       "      <td>3_europe_eu_european_geopolitical</td>\n",
       "      <td>[europe, eu, european, geopolitical, asia, ger...</td>\n",
       "      <td>[europe, eu, european, geopolitical, asia, ger...</td>\n",
       "      <td>[course right crisis eastern europe invasion, ...</td>\n",
       "    </tr>\n",
       "    <tr>\n",
       "      <th>...</th>\n",
       "      <td>...</td>\n",
       "      <td>...</td>\n",
       "      <td>...</td>\n",
       "      <td>...</td>\n",
       "      <td>...</td>\n",
       "      <td>...</td>\n",
       "    </tr>\n",
       "    <tr>\n",
       "      <th>402</th>\n",
       "      <td>401</td>\n",
       "      <td>10</td>\n",
       "      <td>401_respect_currency_range_strategy</td>\n",
       "      <td>[respect, currency, range, strategy, understan...</td>\n",
       "      <td>[respect, currency, range, strategy, understan...</td>\n",
       "      <td>[obviously mention answer question respect ran...</td>\n",
       "    </tr>\n",
       "    <tr>\n",
       "      <th>403</th>\n",
       "      <td>402</td>\n",
       "      <td>10</td>\n",
       "      <td>402_exposure_gtt_provisioned_impact</td>\n",
       "      <td>[exposure, gtt, provisioned, impact, update, i...</td>\n",
       "      <td>[exposure, gtt, provisioned, impact, update, i...</td>\n",
       "      <td>[let update gtt exposure project dedicated, le...</td>\n",
       "    </tr>\n",
       "    <tr>\n",
       "      <th>404</th>\n",
       "      <td>403</td>\n",
       "      <td>10</td>\n",
       "      <td>403_year_impact_september_influence</td>\n",
       "      <td>[year, impact, september, influence, significa...</td>\n",
       "      <td>[year, impact, september, influence, significa...</td>\n",
       "      <td>[yes impact look calibrating year, give specif...</td>\n",
       "    </tr>\n",
       "    <tr>\n",
       "      <th>405</th>\n",
       "      <td>404</td>\n",
       "      <td>10</td>\n",
       "      <td>404_developer_development_engineer_company</td>\n",
       "      <td>[developer, development, engineer, company, ta...</td>\n",
       "      <td>[developer, development, engineer, company, ta...</td>\n",
       "      <td>[developer base company, additionally strong i...</td>\n",
       "    </tr>\n",
       "    <tr>\n",
       "      <th>406</th>\n",
       "      <td>405</td>\n",
       "      <td>10</td>\n",
       "      <td>405_translation_speak_translate_simultaneous</td>\n",
       "      <td>[translation, speak, translate, simultaneous, ...</td>\n",
       "      <td>[translation, speak, translate, simultaneous, ...</td>\n",
       "      <td>[attempt relevant speak audience provide simul...</td>\n",
       "    </tr>\n",
       "  </tbody>\n",
       "</table>\n",
       "<p>407 rows × 6 columns</p>\n",
       "</div>"
      ],
      "text/plain": [
       "     Topic  Count                                          Name  \\\n",
       "0       -1  22245           -1_inflation_demand_growth_economic   \n",
       "1        0    852       0_belarus_belarusian_kazakhstan_moldova   \n",
       "2        1    707         1_energy_renewable_electricity_demand   \n",
       "3        2    594      2_logistics_disruption_sourcing_shortage   \n",
       "4        3    470             3_europe_eu_european_geopolitical   \n",
       "..     ...    ...                                           ...   \n",
       "402    401     10           401_respect_currency_range_strategy   \n",
       "403    402     10           402_exposure_gtt_provisioned_impact   \n",
       "404    403     10           403_year_impact_september_influence   \n",
       "405    404     10    404_developer_development_engineer_company   \n",
       "406    405     10  405_translation_speak_translate_simultaneous   \n",
       "\n",
       "                                        Representation  \\\n",
       "0    [inflation, demand, growth, economic, revenue,...   \n",
       "1    [belarus, belarusian, kazakhstan, moldova, sal...   \n",
       "2    [energy, renewable, electricity, demand, megaw...   \n",
       "3    [logistics, disruption, sourcing, shortage, in...   \n",
       "4    [europe, eu, european, geopolitical, asia, ger...   \n",
       "..                                                 ...   \n",
       "402  [respect, currency, range, strategy, understan...   \n",
       "403  [exposure, gtt, provisioned, impact, update, i...   \n",
       "404  [year, impact, september, influence, significa...   \n",
       "405  [developer, development, engineer, company, ta...   \n",
       "406  [translation, speak, translate, simultaneous, ...   \n",
       "\n",
       "                                 Chain: Inspired - MMR  \\\n",
       "0    [inflation, demand, growth, economic, revenue,...   \n",
       "1    [belarus, belarusian, kazakhstan, moldova, sal...   \n",
       "2    [energy, renewable, electricity, demand, megaw...   \n",
       "3    [logistics, disruption, sourcing, shortage, in...   \n",
       "4    [europe, eu, european, geopolitical, asia, ger...   \n",
       "..                                                 ...   \n",
       "402  [respect, currency, range, strategy, understan...   \n",
       "403  [exposure, gtt, provisioned, impact, update, i...   \n",
       "404  [year, impact, september, influence, significa...   \n",
       "405  [developer, development, engineer, company, ta...   \n",
       "406  [translation, speak, translate, simultaneous, ...   \n",
       "\n",
       "                                   Representative_Docs  \n",
       "0    [predict long term effect war ongoing covid pa...  \n",
       "1    [belarus material, belarus market, 2.5 sale be...  \n",
       "2    [short term focus clearly energy security end ...  \n",
       "3    [clearly war disruption supply chain, recent p...  \n",
       "4    [course right crisis eastern europe invasion, ...  \n",
       "..                                                 ...  \n",
       "402  [obviously mention answer question respect ran...  \n",
       "403  [let update gtt exposure project dedicated, le...  \n",
       "404  [yes impact look calibrating year, give specif...  \n",
       "405  [developer base company, additionally strong i...  \n",
       "406  [attempt relevant speak audience provide simul...  \n",
       "\n",
       "[407 rows x 6 columns]"
      ]
     },
     "execution_count": 60,
     "metadata": {},
     "output_type": "execute_result"
    }
   ],
   "source": [
    "topic_model_0.get_topic_info()"
   ]
  },
  {
   "cell_type": "code",
   "execution_count": 64,
   "metadata": {},
   "outputs": [
    {
     "data": {
      "text/html": [
       "<div>\n",
       "<style scoped>\n",
       "    .dataframe tbody tr th:only-of-type {\n",
       "        vertical-align: middle;\n",
       "    }\n",
       "\n",
       "    .dataframe tbody tr th {\n",
       "        vertical-align: top;\n",
       "    }\n",
       "\n",
       "    .dataframe thead th {\n",
       "        text-align: right;\n",
       "    }\n",
       "</style>\n",
       "<table border=\"1\" class=\"dataframe\">\n",
       "  <thead>\n",
       "    <tr style=\"text-align: right;\">\n",
       "      <th></th>\n",
       "      <th>Topic</th>\n",
       "      <th>Count</th>\n",
       "      <th>Name</th>\n",
       "      <th>Representation</th>\n",
       "      <th>Chain: Inspired - MMR</th>\n",
       "      <th>Representative_Docs</th>\n",
       "    </tr>\n",
       "  </thead>\n",
       "  <tbody>\n",
       "    <tr>\n",
       "      <th>0</th>\n",
       "      <td>-1</td>\n",
       "      <td>21858</td>\n",
       "      <td>-1_inflation_demand_economic_uncertainty</td>\n",
       "      <td>[inflation, demand, economic, uncertainty, cri...</td>\n",
       "      <td>[inflation, demand, economic, uncertainty, cri...</td>\n",
       "      <td>[war continue challenging market environment g...</td>\n",
       "    </tr>\n",
       "    <tr>\n",
       "      <th>1</th>\n",
       "      <td>0</td>\n",
       "      <td>7385</td>\n",
       "      <td>0_war_inflation_economy_crisis</td>\n",
       "      <td>[war, inflation, economy, crisis, economic, co...</td>\n",
       "      <td>[war, inflation, economy, crisis, economic, co...</td>\n",
       "      <td>[report challenging year everybody know war co...</td>\n",
       "    </tr>\n",
       "    <tr>\n",
       "      <th>2</th>\n",
       "      <td>1</td>\n",
       "      <td>5909</td>\n",
       "      <td>1_impact_million_revenue_billion</td>\n",
       "      <td>[impact, million, revenue, billion, business, ...</td>\n",
       "      <td>[impact, million, revenue, billion, business, ...</td>\n",
       "      <td>[business overall million million business kin...</td>\n",
       "    </tr>\n",
       "    <tr>\n",
       "      <th>3</th>\n",
       "      <td>2</td>\n",
       "      <td>4192</td>\n",
       "      <td>2_coal_gas_oil_export</td>\n",
       "      <td>[coal, gas, oil, export, fuel, diesel, demand,...</td>\n",
       "      <td>[coal, gas, oil, export, fuel, diesel, demand,...</td>\n",
       "      <td>[oil gas export europe reduce course, gas mark...</td>\n",
       "    </tr>\n",
       "    <tr>\n",
       "      <th>4</th>\n",
       "      <td>3</td>\n",
       "      <td>2018</td>\n",
       "      <td>3_belarus_belarusian_kazakhstan_poland</td>\n",
       "      <td>[belarus, belarusian, kazakhstan, poland, ukra...</td>\n",
       "      <td>[belarus, belarusian, kazakhstan, poland, ukra...</td>\n",
       "      <td>[talk belarus, obviously operation belarus, bu...</td>\n",
       "    </tr>\n",
       "    <tr>\n",
       "      <th>5</th>\n",
       "      <td>4</td>\n",
       "      <td>1000</td>\n",
       "      <td>4_humanitarian_aid_charity_donation</td>\n",
       "      <td>[humanitarian, aid, charity, donation, unicef,...</td>\n",
       "      <td>[humanitarian, aid, charity, donation, unicef,...</td>\n",
       "      <td>[addition provide financial support humanitari...</td>\n",
       "    </tr>\n",
       "    <tr>\n",
       "      <th>6</th>\n",
       "      <td>5</td>\n",
       "      <td>758</td>\n",
       "      <td>5_slide_presentation_update_move</td>\n",
       "      <td>[slide, presentation, update, move, activity, ...</td>\n",
       "      <td>[slide, presentation, update, move, activity, ...</td>\n",
       "      <td>[move slide second update, slide update, slide...</td>\n",
       "    </tr>\n",
       "    <tr>\n",
       "      <th>7</th>\n",
       "      <td>6</td>\n",
       "      <td>668</td>\n",
       "      <td>6_think_discuss_speak_discussion</td>\n",
       "      <td>[think, discuss, speak, discussion, question, ...</td>\n",
       "      <td>[think, discuss, speak, discussion, question, ...</td>\n",
       "      <td>[think come question, question think, talk que...</td>\n",
       "    </tr>\n",
       "    <tr>\n",
       "      <th>8</th>\n",
       "      <td>7</td>\n",
       "      <td>418</td>\n",
       "      <td>7_exposure_visibility_expose_clear</td>\n",
       "      <td>[exposure, visibility, expose, clear, asset, i...</td>\n",
       "      <td>[exposure, visibility, expose, clear, asset, i...</td>\n",
       "      <td>[exposure, exposure, exposure]</td>\n",
       "    </tr>\n",
       "    <tr>\n",
       "      <th>9</th>\n",
       "      <td>8</td>\n",
       "      <td>388</td>\n",
       "      <td>8_lease_airline_leasing_aircraft</td>\n",
       "      <td>[lease, airline, leasing, aircraft, airplane, ...</td>\n",
       "      <td>[lease, airline, leasing, aircraft, airplane, ...</td>\n",
       "      <td>[lease rental income drop 1.8 billion impact t...</td>\n",
       "    </tr>\n",
       "    <tr>\n",
       "      <th>10</th>\n",
       "      <td>9</td>\n",
       "      <td>267</td>\n",
       "      <td>9_patient_clinical_medical_medicine</td>\n",
       "      <td>[patient, clinical, medical, medicine, treatme...</td>\n",
       "      <td>[patient, clinical, medical, medicine, treatme...</td>\n",
       "      <td>[patient patient, development start new clinic...</td>\n",
       "    </tr>\n",
       "    <tr>\n",
       "      <th>11</th>\n",
       "      <td>10</td>\n",
       "      <td>153</td>\n",
       "      <td>10_employee_employer_personnel_employ</td>\n",
       "      <td>[employee, employer, personnel, employ, staff,...</td>\n",
       "      <td>[employee, employer, personnel, employ, staff,...</td>\n",
       "      <td>[employee, employee, employee]</td>\n",
       "    </tr>\n",
       "    <tr>\n",
       "      <th>12</th>\n",
       "      <td>11</td>\n",
       "      <td>40</td>\n",
       "      <td>11_number_calculation_range_decide</td>\n",
       "      <td>[number, calculation, range, decide, impacting...</td>\n",
       "      <td>[number, calculation, range, decide, impacting...</td>\n",
       "      <td>[number impacting number, number situation, nu...</td>\n",
       "    </tr>\n",
       "    <tr>\n",
       "      <th>13</th>\n",
       "      <td>12</td>\n",
       "      <td>21</td>\n",
       "      <td>12_dislocation_damage_supply_impact</td>\n",
       "      <td>[dislocation, damage, supply, impact, injury, ...</td>\n",
       "      <td>[dislocation, damage, supply, impact, injury, ...</td>\n",
       "      <td>[course dislocation conflict go carry go forwa...</td>\n",
       "    </tr>\n",
       "    <tr>\n",
       "      <th>14</th>\n",
       "      <td>13</td>\n",
       "      <td>17</td>\n",
       "      <td>13_lady_gentleman_war_militarily</td>\n",
       "      <td>[lady, gentleman, war, militarily, general, mi...</td>\n",
       "      <td>[lady, gentleman, war, militarily, general, mi...</td>\n",
       "      <td>[lady gentleman continue topic concern war, la...</td>\n",
       "    </tr>\n",
       "    <tr>\n",
       "      <th>15</th>\n",
       "      <td>14</td>\n",
       "      <td>12</td>\n",
       "      <td>14_provision_provisioning_additional_business</td>\n",
       "      <td>[provision, provisioning, additional, business...</td>\n",
       "      <td>[provision, provisioning, additional, business...</td>\n",
       "      <td>[provision mention relate business, provision ...</td>\n",
       "    </tr>\n",
       "    <tr>\n",
       "      <th>16</th>\n",
       "      <td>15</td>\n",
       "      <td>11</td>\n",
       "      <td>15_route_reroute_road_rail</td>\n",
       "      <td>[route, reroute, road, rail, go, alternate, co...</td>\n",
       "      <td>[route, reroute, road, rail, go, alternate, co...</td>\n",
       "      <td>[want use route, couple route pretty poor rout...</td>\n",
       "    </tr>\n",
       "    <tr>\n",
       "      <th>17</th>\n",
       "      <td>16</td>\n",
       "      <td>11</td>\n",
       "      <td>16_datum_privacy_private_law</td>\n",
       "      <td>[datum, privacy, private, law, sanction, estat...</td>\n",
       "      <td>[datum, privacy, private, law, sanction, estat...</td>\n",
       "      <td>[datum privacy law strict require business seg...</td>\n",
       "    </tr>\n",
       "  </tbody>\n",
       "</table>\n",
       "</div>"
      ],
      "text/plain": [
       "    Topic  Count                                           Name  \\\n",
       "0      -1  21858       -1_inflation_demand_economic_uncertainty   \n",
       "1       0   7385                 0_war_inflation_economy_crisis   \n",
       "2       1   5909               1_impact_million_revenue_billion   \n",
       "3       2   4192                          2_coal_gas_oil_export   \n",
       "4       3   2018         3_belarus_belarusian_kazakhstan_poland   \n",
       "5       4   1000            4_humanitarian_aid_charity_donation   \n",
       "6       5    758               5_slide_presentation_update_move   \n",
       "7       6    668               6_think_discuss_speak_discussion   \n",
       "8       7    418             7_exposure_visibility_expose_clear   \n",
       "9       8    388               8_lease_airline_leasing_aircraft   \n",
       "10      9    267            9_patient_clinical_medical_medicine   \n",
       "11     10    153          10_employee_employer_personnel_employ   \n",
       "12     11     40             11_number_calculation_range_decide   \n",
       "13     12     21            12_dislocation_damage_supply_impact   \n",
       "14     13     17               13_lady_gentleman_war_militarily   \n",
       "15     14     12  14_provision_provisioning_additional_business   \n",
       "16     15     11                     15_route_reroute_road_rail   \n",
       "17     16     11                   16_datum_privacy_private_law   \n",
       "\n",
       "                                       Representation  \\\n",
       "0   [inflation, demand, economic, uncertainty, cri...   \n",
       "1   [war, inflation, economy, crisis, economic, co...   \n",
       "2   [impact, million, revenue, billion, business, ...   \n",
       "3   [coal, gas, oil, export, fuel, diesel, demand,...   \n",
       "4   [belarus, belarusian, kazakhstan, poland, ukra...   \n",
       "5   [humanitarian, aid, charity, donation, unicef,...   \n",
       "6   [slide, presentation, update, move, activity, ...   \n",
       "7   [think, discuss, speak, discussion, question, ...   \n",
       "8   [exposure, visibility, expose, clear, asset, i...   \n",
       "9   [lease, airline, leasing, aircraft, airplane, ...   \n",
       "10  [patient, clinical, medical, medicine, treatme...   \n",
       "11  [employee, employer, personnel, employ, staff,...   \n",
       "12  [number, calculation, range, decide, impacting...   \n",
       "13  [dislocation, damage, supply, impact, injury, ...   \n",
       "14  [lady, gentleman, war, militarily, general, mi...   \n",
       "15  [provision, provisioning, additional, business...   \n",
       "16  [route, reroute, road, rail, go, alternate, co...   \n",
       "17  [datum, privacy, private, law, sanction, estat...   \n",
       "\n",
       "                                Chain: Inspired - MMR  \\\n",
       "0   [inflation, demand, economic, uncertainty, cri...   \n",
       "1   [war, inflation, economy, crisis, economic, co...   \n",
       "2   [impact, million, revenue, billion, business, ...   \n",
       "3   [coal, gas, oil, export, fuel, diesel, demand,...   \n",
       "4   [belarus, belarusian, kazakhstan, poland, ukra...   \n",
       "5   [humanitarian, aid, charity, donation, unicef,...   \n",
       "6   [slide, presentation, update, move, activity, ...   \n",
       "7   [think, discuss, speak, discussion, question, ...   \n",
       "8   [exposure, visibility, expose, clear, asset, i...   \n",
       "9   [lease, airline, leasing, aircraft, airplane, ...   \n",
       "10  [patient, clinical, medical, medicine, treatme...   \n",
       "11  [employee, employer, personnel, employ, staff,...   \n",
       "12  [number, calculation, range, decide, impacting...   \n",
       "13  [dislocation, damage, supply, impact, injury, ...   \n",
       "14  [lady, gentleman, war, militarily, general, mi...   \n",
       "15  [provision, provisioning, additional, business...   \n",
       "16  [route, reroute, road, rail, go, alternate, co...   \n",
       "17  [datum, privacy, private, law, sanction, estat...   \n",
       "\n",
       "                                  Representative_Docs  \n",
       "0   [war continue challenging market environment g...  \n",
       "1   [report challenging year everybody know war co...  \n",
       "2   [business overall million million business kin...  \n",
       "3   [oil gas export europe reduce course, gas mark...  \n",
       "4   [talk belarus, obviously operation belarus, bu...  \n",
       "5   [addition provide financial support humanitari...  \n",
       "6   [move slide second update, slide update, slide...  \n",
       "7   [think come question, question think, talk que...  \n",
       "8                      [exposure, exposure, exposure]  \n",
       "9   [lease rental income drop 1.8 billion impact t...  \n",
       "10  [patient patient, development start new clinic...  \n",
       "11                     [employee, employee, employee]  \n",
       "12  [number impacting number, number situation, nu...  \n",
       "13  [course dislocation conflict go carry go forwa...  \n",
       "14  [lady gentleman continue topic concern war, la...  \n",
       "15  [provision mention relate business, provision ...  \n",
       "16  [want use route, couple route pretty poor rout...  \n",
       "17  [datum privacy law strict require business seg...  "
      ]
     },
     "execution_count": 64,
     "metadata": {},
     "output_type": "execute_result"
    }
   ],
   "source": [
    "topic_model_0_red.get_topic_info()"
   ]
  },
  {
   "cell_type": "code",
   "execution_count": 61,
   "metadata": {},
   "outputs": [
    {
     "name": "stderr",
     "output_type": "stream",
     "text": [
      "100%|██████████| 405/405 [01:19<00:00,  5.06it/s]\n"
     ]
    }
   ],
   "source": [
    "hierarchical_topics = topic_model_0.hierarchical_topics(corpus_window_0_df['processed_text'].to_list())"
   ]
  },
  {
   "cell_type": "markdown",
   "metadata": {},
   "source": [
    "Hierarchical clustering"
   ]
  },
  {
   "cell_type": "code",
   "execution_count": 62,
   "metadata": {},
   "outputs": [
    {
     "data": {
      "application/vnd.plotly.v1+json": {
       "config": {
        "plotlyServerURL": "https://plot.ly"
       },
       "data": [
        {
         "hoverinfo": "text",
         "marker": {
          "color": "rgb(61,153,112)"
         },
         "mode": "lines",
         "text": [
          "interest_asset_market_effect_focus",
          "",
          "",
          "inflation_inflationary_interest_recession_macroeconomic"
         ],
         "type": "scatter",
         "x": [
          0,
          0.617309980621878,
          0.617309980621878,
          0
         ],
         "xaxis": "x",
         "y": [
          -5,
          -5,
          -15,
          -15
         ],
         "yaxis": "y"
        },
        {
         "hoverinfo": "text",
         "marker": {
          "color": "rgb(255,65,54)"
         },
         "mode": "lines",
         "text": [
          "inflation_inflationary_monetary_macroeconomic_economy",
          "",
          "",
          "inflation_inflationary_inflationist_pressure_war"
         ],
         "type": "scatter",
         "x": [
          0,
          0.6024710433742665,
          0.6024710433742665,
          0
         ],
         "xaxis": "x",
         "y": [
          -35,
          -35,
          -45,
          -45
         ],
         "yaxis": "y"
        },
        {
         "hoverinfo": "text",
         "marker": {
          "color": "rgb(255,65,54)"
         },
         "mode": "lines",
         "text": [
          "inflation_austerity_demand_crisis_energy",
          "",
          "",
          "inflation_inflationary_inflationist_monetary_economy"
         ],
         "type": "scatter",
         "x": [
          0,
          0.8097300918785535,
          0.8097300918785535,
          0.6024710433742665
         ],
         "xaxis": "x",
         "y": [
          -25,
          -25,
          -40,
          -40
         ],
         "yaxis": "y"
        },
        {
         "hoverinfo": "text",
         "marker": {
          "color": "rgb(255,65,54)"
         },
         "mode": "lines",
         "text": [
          "inflation_inflationary_demand_consumer_consumption",
          "",
          "",
          "consumer_sentiment_postwar_demand_economy"
         ],
         "type": "scatter",
         "x": [
          0,
          0.5463315360448371,
          0.5463315360448371,
          0
         ],
         "xaxis": "x",
         "y": [
          -55,
          -55,
          -65,
          -65
         ],
         "yaxis": "y"
        },
        {
         "hoverinfo": "text",
         "marker": {
          "color": "rgb(255,65,54)"
         },
         "mode": "lines",
         "text": [
          "inflation_inflationary_monetary_economy_recession",
          "",
          "",
          "consumer_sentiment_postwar_consumption_demand"
         ],
         "type": "scatter",
         "x": [
          0.8097300918785535,
          0.961362076147636,
          0.961362076147636,
          0.5463315360448371
         ],
         "xaxis": "x",
         "y": [
          -32.5,
          -32.5,
          -60,
          -60
         ],
         "yaxis": "y"
        },
        {
         "hoverinfo": "text",
         "marker": {
          "color": "rgb(0,116,217)"
         },
         "mode": "lines",
         "text": [
          "inflation_interest_inflationary_macroeconomic_recession",
          "",
          "",
          "sentiment_consumer_inflation_austerity_war"
         ],
         "type": "scatter",
         "x": [
          0.617309980621878,
          1.1443869319599218,
          1.1443869319599218,
          0.961362076147636
         ],
         "xaxis": "x",
         "y": [
          -10,
          -10,
          -46.25,
          -46.25
         ],
         "yaxis": "y"
        },
        {
         "hoverinfo": "text",
         "marker": {
          "color": "rgb(35,205,205)"
         },
         "mode": "lines",
         "text": [
          "inflation_inflationary_covid_shortage_covids",
          "",
          "",
          "inflation_inflationary_shortage_supply_macroeconomic"
         ],
         "type": "scatter",
         "x": [
          0,
          0.5379380793504402,
          0.5379380793504402,
          0
         ],
         "xaxis": "x",
         "y": [
          -85,
          -85,
          -95,
          -95
         ],
         "yaxis": "y"
        },
        {
         "hoverinfo": "text",
         "marker": {
          "color": "rgb(35,205,205)"
         },
         "mode": "lines",
         "text": [
          "logistics_disruption_sourcing_shortage_inventory",
          "",
          "",
          "covid_pandemic_logistics_shortage_supply"
         ],
         "type": "scatter",
         "x": [
          0,
          0.4132138146488462,
          0.4132138146488462,
          0
         ],
         "xaxis": "x",
         "y": [
          -105,
          -105,
          -115,
          -115
         ],
         "yaxis": "y"
        },
        {
         "hoverinfo": "text",
         "marker": {
          "color": "rgb(35,205,205)"
         },
         "mode": "lines",
         "text": [
          "inflation_inflationary_shortage_supply_macroeconomic",
          "",
          "",
          "logistics_supply_shortage_supplier_inventory"
         ],
         "type": "scatter",
         "x": [
          0.5379380793504402,
          0.59045019176666,
          0.59045019176666,
          0.4132138146488462
         ],
         "xaxis": "x",
         "y": [
          -90,
          -90,
          -110,
          -110
         ],
         "yaxis": "y"
        },
        {
         "hoverinfo": "text",
         "marker": {
          "color": "rgb(35,205,205)"
         },
         "mode": "lines",
         "text": [
          "inflation_inflationary_geopolitical_economy_economic",
          "",
          "",
          "logistics_supply_supplier_inventory_shortage"
         ],
         "type": "scatter",
         "x": [
          0,
          0.8219576981833222,
          0.8219576981833222,
          0.59045019176666
         ],
         "xaxis": "x",
         "y": [
          -75,
          -75,
          -100,
          -100
         ],
         "yaxis": "y"
        },
        {
         "hoverinfo": "text",
         "marker": {
          "color": "rgb(133,20,75)"
         },
         "mode": "lines",
         "text": [
          "covid_pandemic_coronavirus_conflict_war",
          "",
          "",
          "inflation_inflationary_covid_pandemic_recession"
         ],
         "type": "scatter",
         "x": [
          0,
          0.6302635061151203,
          0.6302635061151203,
          0
         ],
         "xaxis": "x",
         "y": [
          -125,
          -125,
          -135,
          -135
         ],
         "yaxis": "y"
        },
        {
         "hoverinfo": "text",
         "marker": {
          "color": "rgb(133,20,75)"
         },
         "mode": "lines",
         "text": [
          "pandemic_illness_crisis_war_viral",
          "",
          "",
          "pandemic_crisis_risk_war_climate"
         ],
         "type": "scatter",
         "x": [
          0,
          0.6664048956437602,
          0.6664048956437602,
          0
         ],
         "xaxis": "x",
         "y": [
          -155,
          -155,
          -165,
          -165
         ],
         "yaxis": "y"
        },
        {
         "hoverinfo": "text",
         "marker": {
          "color": "rgb(133,20,75)"
         },
         "mode": "lines",
         "text": [
          "inflation_pandemic_macroeconomic_recession_monetary",
          "",
          "",
          "pandemic_illness_wars_crisis_war"
         ],
         "type": "scatter",
         "x": [
          0,
          0.7665219991691801,
          0.7665219991691801,
          0.6664048956437602
         ],
         "xaxis": "x",
         "y": [
          -145,
          -145,
          -160,
          -160
         ],
         "yaxis": "y"
        },
        {
         "hoverinfo": "text",
         "marker": {
          "color": "rgb(133,20,75)"
         },
         "mode": "lines",
         "text": [
          "covid_pandemic_coronavirus_conflict_war",
          "",
          "",
          "pandemic_illness_crisis_viral_war"
         ],
         "type": "scatter",
         "x": [
          0.6302635061151203,
          0.9333331139187502,
          0.9333331139187502,
          0.7665219991691801
         ],
         "xaxis": "x",
         "y": [
          -130,
          -130,
          -152.5,
          -152.5
         ],
         "yaxis": "y"
        },
        {
         "hoverinfo": "text",
         "marker": {
          "color": "rgb(0,116,217)"
         },
         "mode": "lines",
         "text": [
          "logistics_shortage_supply_supplier_inventory",
          "",
          "",
          "pandemic_covid_war_coronavirus_crisis"
         ],
         "type": "scatter",
         "x": [
          0.8219576981833222,
          1.1957309580774214,
          1.1957309580774214,
          0.9333331139187502
         ],
         "xaxis": "x",
         "y": [
          -87.5,
          -87.5,
          -141.25,
          -141.25
         ],
         "yaxis": "y"
        },
        {
         "hoverinfo": "text",
         "marker": {
          "color": "rgb(0,116,217)"
         },
         "mode": "lines",
         "text": [
          "inflation_inflationary_macroeconomic_recession_interest",
          "",
          "",
          "pandemic_logistics_shortage_supply_covid"
         ],
         "type": "scatter",
         "x": [
          1.1443869319599218,
          1.2916921561343573,
          1.2916921561343573,
          1.1957309580774214
         ],
         "xaxis": "x",
         "y": [
          -28.125,
          -28.125,
          -114.375,
          -114.375
         ],
         "yaxis": "y"
        },
        {
         "hoverinfo": "text",
         "marker": {
          "color": "rgb(255,220,0)"
         },
         "mode": "lines",
         "text": [
          "headwind_inflation_inflationary_macroeconomic_economic",
          "",
          "",
          "headwind_tailwind_wind_headcount_head"
         ],
         "type": "scatter",
         "x": [
          0,
          0.4728940323093124,
          0.4728940323093124,
          0
         ],
         "xaxis": "x",
         "y": [
          -175,
          -175,
          -185,
          -185
         ],
         "yaxis": "y"
        },
        {
         "hoverinfo": "text",
         "marker": {
          "color": "rgb(255,220,0)"
         },
         "mode": "lines",
         "text": [
          "headwind_wind_china_unwind_hurricane",
          "",
          "",
          "covid_growth_china_macroeconomic_headwind"
         ],
         "type": "scatter",
         "x": [
          0,
          0.634638174142157,
          0.634638174142157,
          0
         ],
         "xaxis": "x",
         "y": [
          -195,
          -195,
          -205,
          -205
         ],
         "yaxis": "y"
        },
        {
         "hoverinfo": "text",
         "marker": {
          "color": "rgb(255,220,0)"
         },
         "mode": "lines",
         "text": [
          "headwind_tailwind_wind_head_headcount",
          "",
          "",
          "covid_china_headwind_growth_revenue"
         ],
         "type": "scatter",
         "x": [
          0.4728940323093124,
          0.6806242712383357,
          0.6806242712383357,
          0.634638174142157
         ],
         "xaxis": "x",
         "y": [
          -180,
          -180,
          -200,
          -200
         ],
         "yaxis": "y"
        },
        {
         "hoverinfo": "text",
         "marker": {
          "color": "rgb(40,35,35)"
         },
         "mode": "lines",
         "text": [
          "inflation_inflationary_macroeconomic_recession_shanghai",
          "",
          "",
          "covid_china_beijing_shanghai_pandemic"
         ],
         "type": "scatter",
         "x": [
          0,
          0.4169054688055036,
          0.4169054688055036,
          0
         ],
         "xaxis": "x",
         "y": [
          -215,
          -215,
          -225,
          -225
         ],
         "yaxis": "y"
        },
        {
         "hoverinfo": "text",
         "marker": {
          "color": "rgb(40,35,35)"
         },
         "mode": "lines",
         "text": [
          "inflation_beijing_covid_china_inflationary",
          "",
          "",
          "covid_china_shortage_logistics_supply"
         ],
         "type": "scatter",
         "x": [
          0.4169054688055036,
          0.44794775803259085,
          0.44794775803259085,
          0
         ],
         "xaxis": "x",
         "y": [
          -220,
          -220,
          -235,
          -235
         ],
         "yaxis": "y"
        },
        {
         "hoverinfo": "text",
         "marker": {
          "color": "rgb(40,35,35)"
         },
         "mode": "lines",
         "text": [
          "lockdown_logistics_china_shanghai_chain",
          "",
          "",
          "shanghai_lockdown_china_chinese_lock"
         ],
         "type": "scatter",
         "x": [
          0,
          0.5030586752070967,
          0.5030586752070967,
          0
         ],
         "xaxis": "x",
         "y": [
          -245,
          -245,
          -255,
          -255
         ],
         "yaxis": "y"
        },
        {
         "hoverinfo": "text",
         "marker": {
          "color": "rgb(40,35,35)"
         },
         "mode": "lines",
         "text": [
          "inflation_inflationary_china_shanghai_covid",
          "",
          "",
          "lockdown_china_shanghai_chinese_disruption"
         ],
         "type": "scatter",
         "x": [
          0.44794775803259085,
          0.6078615833528598,
          0.6078615833528598,
          0.5030586752070967
         ],
         "xaxis": "x",
         "y": [
          -227.5,
          -227.5,
          -250,
          -250
         ],
         "yaxis": "y"
        },
        {
         "hoverinfo": "text",
         "marker": {
          "color": "rgb(0,116,217)"
         },
         "mode": "lines",
         "text": [
          "headwind_tailwind_head_wind_headcount",
          "",
          "",
          "china_shanghai_lockdown_chinese_geopolitical"
         ],
         "type": "scatter",
         "x": [
          0.6806242712383357,
          1.4141628041168937,
          1.4141628041168937,
          0.6078615833528598
         ],
         "xaxis": "x",
         "y": [
          -190,
          -190,
          -238.75,
          -238.75
         ],
         "yaxis": "y"
        },
        {
         "hoverinfo": "text",
         "marker": {
          "color": "rgb(0,116,217)"
         },
         "mode": "lines",
         "text": [
          "supply_inflation_logistics_shortage_macroeconomic",
          "",
          "",
          "china_shanghai_lockdown_inflation_chinese"
         ],
         "type": "scatter",
         "x": [
          1.2916921561343573,
          1.5419727930864489,
          1.5419727930864489,
          1.4141628041168937
         ],
         "xaxis": "x",
         "y": [
          -71.25,
          -71.25,
          -214.375,
          -214.375
         ],
         "yaxis": "y"
        },
        {
         "hoverinfo": "text",
         "marker": {
          "color": "rgb(61,153,112)"
         },
         "mode": "lines",
         "text": [
          "airline_lease_leasing_aircraft_carrier",
          "",
          "",
          "leasing_lease_rental_depreciation_rent"
         ],
         "type": "scatter",
         "x": [
          0,
          0.48467764408616254,
          0.48467764408616254,
          0
         ],
         "xaxis": "x",
         "y": [
          -275,
          -275,
          -285,
          -285
         ],
         "yaxis": "y"
        },
        {
         "hoverinfo": "text",
         "marker": {
          "color": "rgb(61,153,112)"
         },
         "mode": "lines",
         "text": [
          "aircraft_million_billion_value_asset",
          "",
          "",
          "airline_lease_leasing_aircraft_carrier"
         ],
         "type": "scatter",
         "x": [
          0,
          0.7298483770873089,
          0.7298483770873089,
          0.48467764408616254
         ],
         "xaxis": "x",
         "y": [
          -265,
          -265,
          -280,
          -280
         ],
         "yaxis": "y"
        },
        {
         "hoverinfo": "text",
         "marker": {
          "color": "rgb(255,65,54)"
         },
         "mode": "lines",
         "text": [
          "restructuring_expense_amortization_acquisition_accounting",
          "",
          "",
          "impairment_impaired_expense_income_accounting"
         ],
         "type": "scatter",
         "x": [
          0,
          0.6831758528455871,
          0.6831758528455871,
          0
         ],
         "xaxis": "x",
         "y": [
          -305,
          -305,
          -315,
          -315
         ],
         "yaxis": "y"
        },
        {
         "hoverinfo": "text",
         "marker": {
          "color": "rgb(255,65,54)"
         },
         "mode": "lines",
         "text": [
          "sek_sek5_depreciation_billion_equity",
          "",
          "",
          "impairment_impaired_expense_income_accounting"
         ],
         "type": "scatter",
         "x": [
          0,
          0.9006299542247072,
          0.9006299542247072,
          0.6831758528455871
         ],
         "xaxis": "x",
         "y": [
          -295,
          -295,
          -310,
          -310
         ],
         "yaxis": "y"
        },
        {
         "hoverinfo": "text",
         "marker": {
          "color": "rgb(35,205,205)"
         },
         "mode": "lines",
         "text": [
          "asset_investor_investment_item_equipment",
          "",
          "",
          "asset_million_euro_billion_amount"
         ],
         "type": "scatter",
         "x": [
          0,
          0.6377780577168533,
          0.6377780577168533,
          0
         ],
         "xaxis": "x",
         "y": [
          -325,
          -325,
          -335,
          -335
         ],
         "yaxis": "y"
        },
        {
         "hoverinfo": "text",
         "marker": {
          "color": "rgb(0,116,217)"
         },
         "mode": "lines",
         "text": [
          "impairment_impaired_expense_accounting_business",
          "",
          "",
          "asset_investor_investment_estate_property"
         ],
         "type": "scatter",
         "x": [
          0.9006299542247072,
          1.080681100527829,
          1.080681100527829,
          0.6377780577168533
         ],
         "xaxis": "x",
         "y": [
          -302.5,
          -302.5,
          -330,
          -330
         ],
         "yaxis": "y"
        },
        {
         "hoverinfo": "text",
         "marker": {
          "color": "rgb(61,153,112)"
         },
         "mode": "lines",
         "text": [
          "billion_million_eur_euro_dollar",
          "",
          "",
          "exposure_billion_million_eur_risk"
         ],
         "type": "scatter",
         "x": [
          0,
          0.6475436499456819,
          0.6475436499456819,
          0
         ],
         "xaxis": "x",
         "y": [
          -345,
          -345,
          -355,
          -355
         ],
         "yaxis": "y"
        },
        {
         "hoverinfo": "text",
         "marker": {
          "color": "rgb(61,153,112)"
         },
         "mode": "lines",
         "text": [
          "billion_exposure_million_eur_amount",
          "",
          "",
          "income_earnings_billion_banking_provision"
         ],
         "type": "scatter",
         "x": [
          0.6475436499456819,
          0.7314951736425418,
          0.7314951736425418,
          0
         ],
         "xaxis": "x",
         "y": [
          -350,
          -350,
          -365,
          -365
         ],
         "yaxis": "y"
        },
        {
         "hoverinfo": "text",
         "marker": {
          "color": "rgb(61,153,112)"
         },
         "mode": "lines",
         "text": [
          "chf_quarterly_equity_financing_loss",
          "",
          "",
          "sale_million_sell_amount_billion"
         ],
         "type": "scatter",
         "x": [
          0,
          0.7208749195550269,
          0.7208749195550269,
          0
         ],
         "xaxis": "x",
         "y": [
          -375,
          -375,
          -385,
          -385
         ],
         "yaxis": "y"
        },
        {
         "hoverinfo": "text",
         "marker": {
          "color": "rgb(61,153,112)"
         },
         "mode": "lines",
         "text": [
          "chf_million_equity_financing_billion",
          "",
          "",
          "million_billion_business_55000_65000"
         ],
         "type": "scatter",
         "x": [
          0.7208749195550269,
          0.9328896316015048,
          0.9328896316015048,
          0
         ],
         "xaxis": "x",
         "y": [
          -380,
          -380,
          -395,
          -395
         ],
         "yaxis": "y"
        },
        {
         "hoverinfo": "text",
         "marker": {
          "color": "rgb(61,153,112)"
         },
         "mode": "lines",
         "text": [
          "billion_income_million_eur_amount",
          "",
          "",
          "chf_million_financing_billion_amount"
         ],
         "type": "scatter",
         "x": [
          0.7314951736425418,
          0.9544574149759351,
          0.9544574149759351,
          0.9328896316015048
         ],
         "xaxis": "x",
         "y": [
          -357.5,
          -357.5,
          -387.5,
          -387.5
         ],
         "yaxis": "y"
        },
        {
         "hoverinfo": "text",
         "marker": {
          "color": "rgb(0,116,217)"
         },
         "mode": "lines",
         "text": [
          "impairment_impaired_business_expense_accounting",
          "",
          "",
          "billion_income_million_eur_amount"
         ],
         "type": "scatter",
         "x": [
          1.080681100527829,
          1.1565963893519962,
          1.1565963893519962,
          0.9544574149759351
         ],
         "xaxis": "x",
         "y": [
          -316.25,
          -316.25,
          -372.5,
          -372.5
         ],
         "yaxis": "y"
        },
        {
         "hoverinfo": "text",
         "marker": {
          "color": "rgb(255,65,54)"
         },
         "mode": "lines",
         "text": [
          "credit_finance_loans_valuation_disclosure",
          "",
          "",
          "credit_loss_loans_financial_provision"
         ],
         "type": "scatter",
         "x": [
          0,
          0.5227663237665681,
          0.5227663237665681,
          0
         ],
         "xaxis": "x",
         "y": [
          -405,
          -405,
          -415,
          -415
         ],
         "yaxis": "y"
        },
        {
         "hoverinfo": "text",
         "marker": {
          "color": "rgb(35,205,205)"
         },
         "mode": "lines",
         "text": [
          "loan_loans_financial_loss_owing",
          "",
          "",
          "loans_loan_lender_financing_lend"
         ],
         "type": "scatter",
         "x": [
          0,
          0.5660190449375853,
          0.5660190449375853,
          0
         ],
         "xaxis": "x",
         "y": [
          -425,
          -425,
          -435,
          -435
         ],
         "yaxis": "y"
        },
        {
         "hoverinfo": "text",
         "marker": {
          "color": "rgb(0,116,217)"
         },
         "mode": "lines",
         "text": [
          "credit_loss_finance_financial_loans",
          "",
          "",
          "loan_loans_lender_financing_lend"
         ],
         "type": "scatter",
         "x": [
          0.5227663237665681,
          1.0499409848176016,
          1.0499409848176016,
          0.5660190449375853
         ],
         "xaxis": "x",
         "y": [
          -410,
          -410,
          -430,
          -430
         ],
         "yaxis": "y"
        },
        {
         "hoverinfo": "text",
         "marker": {
          "color": "rgb(133,20,75)"
         },
         "mode": "lines",
         "text": [
          "reserve_q4_eur_million_gdp",
          "",
          "",
          "ratio_combine_consolidate_percentage_loss"
         ],
         "type": "scatter",
         "x": [
          0,
          0.7888698361071373,
          0.7888698361071373,
          0
         ],
         "xaxis": "x",
         "y": [
          -445,
          -445,
          -455,
          -455
         ],
         "yaxis": "y"
        },
        {
         "hoverinfo": "text",
         "marker": {
          "color": "rgb(133,20,75)"
         },
         "mode": "lines",
         "text": [
          "loss_war_earnings_marine_risk",
          "",
          "",
          "reinsurance_insurer_reinsurer_insurance_noninsurance"
         ],
         "type": "scatter",
         "x": [
          0,
          0.8783773905550883,
          0.8783773905550883,
          0
         ],
         "xaxis": "x",
         "y": [
          -465,
          -465,
          -475,
          -475
         ],
         "yaxis": "y"
        },
        {
         "hoverinfo": "text",
         "marker": {
          "color": "rgb(133,20,75)"
         },
         "mode": "lines",
         "text": [
          "ratio_consolidate_combine_percentage_loss",
          "",
          "",
          "reinsurance_insurer_reinsurer_insurance_noninsurance"
         ],
         "type": "scatter",
         "x": [
          0.7888698361071373,
          0.9724164890498648,
          0.9724164890498648,
          0.8783773905550883
         ],
         "xaxis": "x",
         "y": [
          -450,
          -450,
          -470,
          -470
         ],
         "yaxis": "y"
        },
        {
         "hoverinfo": "text",
         "marker": {
          "color": "rgb(0,116,217)"
         },
         "mode": "lines",
         "text": [
          "loan_loans_lender_financing_lend",
          "",
          "",
          "reinsurance_reinsurer_insurer_insurance_ratio"
         ],
         "type": "scatter",
         "x": [
          1.0499409848176016,
          1.2332747712244803,
          1.2332747712244803,
          0.9724164890498648
         ],
         "xaxis": "x",
         "y": [
          -420,
          -420,
          -460,
          -460
         ],
         "yaxis": "y"
        },
        {
         "hoverinfo": "text",
         "marker": {
          "color": "rgb(0,116,217)"
         },
         "mode": "lines",
         "text": [
          "impairment_impaired_expense_asset_accounting",
          "",
          "",
          "insurer_reinsurer_reinsurance_financing_insurance"
         ],
         "type": "scatter",
         "x": [
          1.1565963893519962,
          1.349023439823677,
          1.349023439823677,
          1.2332747712244803
         ],
         "xaxis": "x",
         "y": [
          -344.375,
          -344.375,
          -440,
          -440
         ],
         "yaxis": "y"
        },
        {
         "hoverinfo": "text",
         "marker": {
          "color": "rgb(0,116,217)"
         },
         "mode": "lines",
         "text": [
          "airline_lease_leasing_aircraft_carrier",
          "",
          "",
          "impairment_income_expense_accounting_asset"
         ],
         "type": "scatter",
         "x": [
          0.7298483770873089,
          1.415135607148821,
          1.415135607148821,
          1.349023439823677
         ],
         "xaxis": "x",
         "y": [
          -272.5,
          -272.5,
          -392.1875,
          -392.1875
         ],
         "yaxis": "y"
        },
        {
         "hoverinfo": "text",
         "marker": {
          "color": "rgb(255,220,0)"
         },
         "mode": "lines",
         "text": [
          "client_business_service_developer_partner",
          "",
          "",
          "exposure_client_market_portfolio_impact"
         ],
         "type": "scatter",
         "x": [
          0,
          0.3881752326486769,
          0.3881752326486769,
          0
         ],
         "xaxis": "x",
         "y": [
          -485,
          -485,
          -495,
          -495
         ],
         "yaxis": "y"
        },
        {
         "hoverinfo": "text",
         "marker": {
          "color": "rgb(40,35,35)"
         },
         "mode": "lines",
         "text": [
          "exposure_europe_indirect_geography_continent",
          "",
          "",
          "exposure_visibility_overhead_clear_scene"
         ],
         "type": "scatter",
         "x": [
          0,
          0.4369168748917205,
          0.4369168748917205,
          0
         ],
         "xaxis": "x",
         "y": [
          -505,
          -505,
          -515,
          -515
         ],
         "yaxis": "y"
        },
        {
         "hoverinfo": "text",
         "marker": {
          "color": "rgb(40,35,35)"
         },
         "mode": "lines",
         "text": [
          "exposure_visibility_clear_context_detail",
          "",
          "",
          "exposure_business_industry_company_market"
         ],
         "type": "scatter",
         "x": [
          0.4369168748917205,
          0.6703199342258395,
          0.6703199342258395,
          0
         ],
         "xaxis": "x",
         "y": [
          -510,
          -510,
          -525,
          -525
         ],
         "yaxis": "y"
        },
        {
         "hoverinfo": "text",
         "marker": {
          "color": "rgb(0,116,217)"
         },
         "mode": "lines",
         "text": [
          "client_developer_business_exposure_partner",
          "",
          "",
          "exposure_visibility_clear_context_detail"
         ],
         "type": "scatter",
         "x": [
          0.3881752326486769,
          1.1266227574838468,
          1.1266227574838468,
          0.6703199342258395
         ],
         "xaxis": "x",
         "y": [
          -490,
          -490,
          -517.5,
          -517.5
         ],
         "yaxis": "y"
        },
        {
         "hoverinfo": "text",
         "marker": {
          "color": "rgb(61,153,112)"
         },
         "mode": "lines",
         "text": [
          "revenue_profit_business_financial_fiscal",
          "",
          "",
          "revenue_exposure_profit_financial_impacting"
         ],
         "type": "scatter",
         "x": [
          0,
          0.541276143891551,
          0.541276143891551,
          0
         ],
         "xaxis": "x",
         "y": [
          -555,
          -555,
          -565,
          -565
         ],
         "yaxis": "y"
        },
        {
         "hoverinfo": "text",
         "marker": {
          "color": "rgb(61,153,112)"
         },
         "mode": "lines",
         "text": [
          "revenue_profit_growth_incentive_deficit",
          "",
          "",
          "revenue_profit_business_financial_advertising"
         ],
         "type": "scatter",
         "x": [
          0,
          0.7304010384289814,
          0.7304010384289814,
          0.541276143891551
         ],
         "xaxis": "x",
         "y": [
          -545,
          -545,
          -560,
          -560
         ],
         "yaxis": "y"
        },
        {
         "hoverinfo": "text",
         "marker": {
          "color": "rgb(61,153,112)"
         },
         "mode": "lines",
         "text": [
          "revenue_million_billion_profit_eur",
          "",
          "",
          "revenue_profit_business_financial_earn"
         ],
         "type": "scatter",
         "x": [
          0,
          0.826463496839678,
          0.826463496839678,
          0.7304010384289814
         ],
         "xaxis": "x",
         "y": [
          -535,
          -535,
          -552.5,
          -552.5
         ],
         "yaxis": "y"
        },
        {
         "hoverinfo": "text",
         "marker": {
          "color": "rgb(255,65,54)"
         },
         "mode": "lines",
         "text": [
          "business_small_company_wholesale_corporation",
          "",
          "",
          "small_tiny_large_little_big"
         ],
         "type": "scatter",
         "x": [
          0,
          0.5238985560783815,
          0.5238985560783815,
          0
         ],
         "xaxis": "x",
         "y": [
          -575,
          -575,
          -585,
          -585
         ],
         "yaxis": "y"
        },
        {
         "hoverinfo": "text",
         "marker": {
          "color": "rgb(0,116,217)"
         },
         "mode": "lines",
         "text": [
          "revenue_profit_business_financial_earn",
          "",
          "",
          "small_tiny_little_size_large"
         ],
         "type": "scatter",
         "x": [
          0.826463496839678,
          1.235264240507132,
          1.235264240507132,
          0.5238985560783815
         ],
         "xaxis": "x",
         "y": [
          -543.75,
          -543.75,
          -580,
          -580
         ],
         "yaxis": "y"
        },
        {
         "hoverinfo": "text",
         "marker": {
          "color": "rgb(0,116,217)"
         },
         "mode": "lines",
         "text": [
          "exposure_visibility_clear_debris_detail",
          "",
          "",
          "revenue_profit_business_financial_earn"
         ],
         "type": "scatter",
         "x": [
          1.1266227574838468,
          1.4229750946234447,
          1.4229750946234447,
          1.235264240507132
         ],
         "xaxis": "x",
         "y": [
          -503.75,
          -503.75,
          -561.875,
          -561.875
         ],
         "yaxis": "y"
        },
        {
         "hoverinfo": "text",
         "marker": {
          "color": "rgb(0,116,217)"
         },
         "mode": "lines",
         "text": [
          "impairment_impaired_accounting_expense_income",
          "",
          "",
          "exposure_visibility_clear_revenue_incentive"
         ],
         "type": "scatter",
         "x": [
          1.415135607148821,
          1.6076162142288044,
          1.6076162142288044,
          1.4229750946234447
         ],
         "xaxis": "x",
         "y": [
          -332.34375,
          -332.34375,
          -532.8125,
          -532.8125
         ],
         "yaxis": "y"
        },
        {
         "hoverinfo": "text",
         "marker": {
          "color": "rgb(35,205,205)"
         },
         "mode": "lines",
         "text": [
          "currency_growth_revenue_constant_market",
          "",
          "",
          "macroeconomic_currency_consumption_monetary_pricing"
         ],
         "type": "scatter",
         "x": [
          0,
          0.6602548260837571,
          0.6602548260837571,
          0
         ],
         "xaxis": "x",
         "y": [
          -615,
          -615,
          -625,
          -625
         ],
         "yaxis": "y"
        },
        {
         "hoverinfo": "text",
         "marker": {
          "color": "rgb(35,205,205)"
         },
         "mode": "lines",
         "text": [
          "payment_china_fiscal_internationally_dollar",
          "",
          "",
          "currency_monetary_consumption_pricing_growth"
         ],
         "type": "scatter",
         "x": [
          0,
          0.7953317601282228,
          0.7953317601282228,
          0.6602548260837571
         ],
         "xaxis": "x",
         "y": [
          -605,
          -605,
          -620,
          -620
         ],
         "yaxis": "y"
        },
        {
         "hoverinfo": "text",
         "marker": {
          "color": "rgb(35,205,205)"
         },
         "mode": "lines",
         "text": [
          "currency_consumption_pricing_growth_sale",
          "",
          "",
          "currency_sale_increase_eur_growth"
         ],
         "type": "scatter",
         "x": [
          0.7953317601282228,
          0.91657046516456,
          0.91657046516456,
          0
         ],
         "xaxis": "x",
         "y": [
          -612.5,
          -612.5,
          -635,
          -635
         ],
         "yaxis": "y"
        },
        {
         "hoverinfo": "text",
         "marker": {
          "color": "rgb(35,205,205)"
         },
         "mode": "lines",
         "text": [
          "arr_growth_nrr_exiting_exit",
          "",
          "",
          "currency_consumption_growth_pricing_monetization"
         ],
         "type": "scatter",
         "x": [
          0,
          0.9484928930465936,
          0.9484928930465936,
          0.91657046516456
         ],
         "xaxis": "x",
         "y": [
          -595,
          -595,
          -623.75,
          -623.75
         ],
         "yaxis": "y"
        },
        {
         "hoverinfo": "text",
         "marker": {
          "color": "rgb(61,153,112)"
         },
         "mode": "lines",
         "text": [
          "fx_fxn_currency_euro_devaluation",
          "",
          "",
          "earnings_revenue_impact_currency_quarter"
         ],
         "type": "scatter",
         "x": [
          0,
          0.8270967476298221,
          0.8270967476298221,
          0
         ],
         "xaxis": "x",
         "y": [
          -645,
          -645,
          -655,
          -655
         ],
         "yaxis": "y"
        },
        {
         "hoverinfo": "text",
         "marker": {
          "color": "rgb(61,153,112)"
         },
         "mode": "lines",
         "text": [
          "gaap_earnings_accounting_adjustment_q3",
          "",
          "",
          "eps_earnings_forex_currency_estimate"
         ],
         "type": "scatter",
         "x": [
          0,
          0.7221657457438699,
          0.7221657457438699,
          0
         ],
         "xaxis": "x",
         "y": [
          -665,
          -665,
          -675,
          -675
         ],
         "yaxis": "y"
        },
        {
         "hoverinfo": "text",
         "marker": {
          "color": "rgb(61,153,112)"
         },
         "mode": "lines",
         "text": [
          "fx_fxn_currency_euro_devaluation",
          "",
          "",
          "gaap_earnings_adjustment_expense_expenditure"
         ],
         "type": "scatter",
         "x": [
          0.8270967476298221,
          0.8819926649847833,
          0.8819926649847833,
          0.7221657457438699
         ],
         "xaxis": "x",
         "y": [
          -650,
          -650,
          -670,
          -670
         ],
         "yaxis": "y"
        },
        {
         "hoverinfo": "text",
         "marker": {
          "color": "rgb(0,116,217)"
         },
         "mode": "lines",
         "text": [
          "arr_growth_nrr_rate_retention",
          "",
          "",
          "fx_earnings_currency_euro_adjustment"
         ],
         "type": "scatter",
         "x": [
          0.9484928930465936,
          1.1749618086091012,
          1.1749618086091012,
          0.8819926649847833
         ],
         "xaxis": "x",
         "y": [
          -609.375,
          -609.375,
          -660,
          -660
         ],
         "yaxis": "y"
        },
        {
         "hoverinfo": "text",
         "marker": {
          "color": "rgb(255,65,54)"
         },
         "mode": "lines",
         "text": [
          "outlook_impact_macro_prevail_exchange",
          "",
          "",
          "outlook_distributor_revise_sale_remove"
         ],
         "type": "scatter",
         "x": [
          0,
          0.7391031265956041,
          0.7391031265956041,
          0
         ],
         "xaxis": "x",
         "y": [
          -685,
          -685,
          -695,
          -695
         ],
         "yaxis": "y"
        },
        {
         "hoverinfo": "text",
         "marker": {
          "color": "rgb(35,205,205)"
         },
         "mode": "lines",
         "text": [
          "suspension_suspending_ramping_cancellation_revenue",
          "",
          "",
          "decline_sale_decrease_pricing_lower"
         ],
         "type": "scatter",
         "x": [
          0,
          0.7691069928579426,
          0.7691069928579426,
          0
         ],
         "xaxis": "x",
         "y": [
          -715,
          -715,
          -725,
          -725
         ],
         "yaxis": "y"
        },
        {
         "hoverinfo": "text",
         "marker": {
          "color": "rgb(35,205,205)"
         },
         "mode": "lines",
         "text": [
          "filtration_expense_suspension_acquisition_separation",
          "",
          "",
          "suspension_decline_revenue_cancellation_curtailment"
         ],
         "type": "scatter",
         "x": [
          0,
          0.8984162332729375,
          0.8984162332729375,
          0.7691069928579426
         ],
         "xaxis": "x",
         "y": [
          -705,
          -705,
          -720,
          -720
         ],
         "yaxis": "y"
        },
        {
         "hoverinfo": "text",
         "marker": {
          "color": "rgb(133,20,75)"
         },
         "mode": "lines",
         "text": [
          "offset_impact_adjustment_effect_rebound",
          "",
          "",
          "disposal_accumulate_acquire_acquisition_profit"
         ],
         "type": "scatter",
         "x": [
          0,
          0.9120667191532366,
          0.9120667191532366,
          0
         ],
         "xaxis": "x",
         "y": [
          -735,
          -735,
          -745,
          -745
         ],
         "yaxis": "y"
        },
        {
         "hoverinfo": "text",
         "marker": {
          "color": "rgb(0,116,217)"
         },
         "mode": "lines",
         "text": [
          "suspension_filtration_expense_separation_acquisition",
          "",
          "",
          "disposal_accumulate_acquire_acquisition_exchange"
         ],
         "type": "scatter",
         "x": [
          0.8984162332729375,
          1.053351361476965,
          1.053351361476965,
          0.9120667191532366
         ],
         "xaxis": "x",
         "y": [
          -712.5,
          -712.5,
          -740,
          -740
         ],
         "yaxis": "y"
        },
        {
         "hoverinfo": "text",
         "marker": {
          "color": "rgb(0,116,217)"
         },
         "mode": "lines",
         "text": [
          "outlook_sale_distributor_impact_business",
          "",
          "",
          "suspension_filtration_expense_separation_acquisition"
         ],
         "type": "scatter",
         "x": [
          0.7391031265956041,
          1.078637928915291,
          1.078637928915291,
          1.053351361476965
         ],
         "xaxis": "x",
         "y": [
          -690,
          -690,
          -726.25,
          -726.25
         ],
         "yaxis": "y"
        },
        {
         "hoverinfo": "text",
         "marker": {
          "color": "rgb(255,220,0)"
         },
         "mode": "lines",
         "text": [
          "decline_beijing_china_growth_annualizing",
          "",
          "",
          "organic_organically_growth_exclude_grow"
         ],
         "type": "scatter",
         "x": [
          0,
          0.6993262251460828,
          0.6993262251460828,
          0
         ],
         "xaxis": "x",
         "y": [
          -765,
          -765,
          -775,
          -775
         ],
         "yaxis": "y"
        },
        {
         "hoverinfo": "text",
         "marker": {
          "color": "rgb(255,220,0)"
         },
         "mode": "lines",
         "text": [
          "growth_europe_asia_digit_india",
          "",
          "",
          "organic_organically_growth_revenue_impact"
         ],
         "type": "scatter",
         "x": [
          0,
          0.784085410760396,
          0.784085410760396,
          0.6993262251460828
         ],
         "xaxis": "x",
         "y": [
          -755,
          -755,
          -770,
          -770
         ],
         "yaxis": "y"
        },
        {
         "hoverinfo": "text",
         "marker": {
          "color": "rgb(40,35,35)"
         },
         "mode": "lines",
         "text": [
          "margin_margins_leverage_decrease_income",
          "",
          "",
          "ebitda_ebit_ebita_margin_adjust"
         ],
         "type": "scatter",
         "x": [
          0,
          0.7527579856462845,
          0.7527579856462845,
          0
         ],
         "xaxis": "x",
         "y": [
          -785,
          -785,
          -795,
          -795
         ],
         "yaxis": "y"
        },
        {
         "hoverinfo": "text",
         "marker": {
          "color": "rgb(40,35,35)"
         },
         "mode": "lines",
         "text": [
          "fiscal_growth_impact_forex_revenue",
          "",
          "",
          "revenue_earnings_profit_investment_growth"
         ],
         "type": "scatter",
         "x": [
          0,
          0.8834048970201079,
          0.8834048970201079,
          0
         ],
         "xaxis": "x",
         "y": [
          -805,
          -805,
          -815,
          -815
         ],
         "yaxis": "y"
        },
        {
         "hoverinfo": "text",
         "marker": {
          "color": "rgb(40,35,35)"
         },
         "mode": "lines",
         "text": [
          "d2c_subscriber_growth_seasonality_forecast",
          "",
          "",
          "expectation_line_expect_impact_impacting"
         ],
         "type": "scatter",
         "x": [
          0,
          0.8019534766890193,
          0.8019534766890193,
          0
         ],
         "xaxis": "x",
         "y": [
          -825,
          -825,
          -835,
          -835
         ],
         "yaxis": "y"
        },
        {
         "hoverinfo": "text",
         "marker": {
          "color": "rgb(40,35,35)"
         },
         "mode": "lines",
         "text": [
          "fiscal_growth_impact_forex_revenue",
          "",
          "",
          "expectation_expect_impact_forecast_line"
         ],
         "type": "scatter",
         "x": [
          0.8834048970201079,
          0.9328470546049951,
          0.9328470546049951,
          0.8019534766890193
         ],
         "xaxis": "x",
         "y": [
          -810,
          -810,
          -830,
          -830
         ],
         "yaxis": "y"
        },
        {
         "hoverinfo": "text",
         "marker": {
          "color": "rgb(40,35,35)"
         },
         "mode": "lines",
         "text": [
          "ebitda_ebit_ebita_expense_margins",
          "",
          "",
          "impact_fiscal_growth_forecast_revenue"
         ],
         "type": "scatter",
         "x": [
          0.7527579856462845,
          0.9901345910063917,
          0.9901345910063917,
          0.9328470546049951
         ],
         "xaxis": "x",
         "y": [
          -790,
          -790,
          -820,
          -820
         ],
         "yaxis": "y"
        },
        {
         "hoverinfo": "text",
         "marker": {
          "color": "rgb(0,116,217)"
         },
         "mode": "lines",
         "text": [
          "growth_organic_organically_exclude_grow",
          "",
          "",
          "ebitda_ebit_ebita_margins_margin"
         ],
         "type": "scatter",
         "x": [
          0.784085410760396,
          1.1284870217284104,
          1.1284870217284104,
          0.9901345910063917
         ],
         "xaxis": "x",
         "y": [
          -762.5,
          -762.5,
          -805,
          -805
         ],
         "yaxis": "y"
        },
        {
         "hoverinfo": "text",
         "marker": {
          "color": "rgb(0,116,217)"
         },
         "mode": "lines",
         "text": [
          "suspension_filtration_expense_separation_acquisition",
          "",
          "",
          "growth_organic_organically_ebitda_revenue"
         ],
         "type": "scatter",
         "x": [
          1.078637928915291,
          1.1500111493593648,
          1.1500111493593648,
          1.1284870217284104
         ],
         "xaxis": "x",
         "y": [
          -708.125,
          -708.125,
          -783.75,
          -783.75
         ],
         "yaxis": "y"
        },
        {
         "hoverinfo": "text",
         "marker": {
          "color": "rgb(61,153,112)"
         },
         "mode": "lines",
         "text": [
          "war_expect_attack_wish_beginning",
          "",
          "",
          "expect_expectation_moment_provision_event"
         ],
         "type": "scatter",
         "x": [
          0,
          0.7808558304040454,
          0.7808558304040454,
          0
         ],
         "xaxis": "x",
         "y": [
          -845,
          -845,
          -855,
          -855
         ],
         "yaxis": "y"
        },
        {
         "hoverinfo": "text",
         "marker": {
          "color": "rgb(61,153,112)"
         },
         "mode": "lines",
         "text": [
          "expect_war_expectation_beginning_forecast",
          "",
          "",
          "expect_forecast_demand_market_production"
         ],
         "type": "scatter",
         "x": [
          0.7808558304040454,
          0.8091444228775188,
          0.8091444228775188,
          0
         ],
         "xaxis": "x",
         "y": [
          -850,
          -850,
          -865,
          -865
         ],
         "yaxis": "y"
        },
        {
         "hoverinfo": "text",
         "marker": {
          "color": "rgb(0,116,217)"
         },
         "mode": "lines",
         "text": [
          "ebitda_revenue_growth_ebit_organic",
          "",
          "",
          "expect_war_expectation_forecast_wish"
         ],
         "type": "scatter",
         "x": [
          1.1500111493593648,
          1.232207728971281,
          1.232207728971281,
          0.8091444228775188
         ],
         "xaxis": "x",
         "y": [
          -745.9375,
          -745.9375,
          -857.5,
          -857.5
         ],
         "yaxis": "y"
        },
        {
         "hoverinfo": "text",
         "marker": {
          "color": "rgb(0,116,217)"
         },
         "mode": "lines",
         "text": [
          "currency_fx_growth_expenditure_decrease",
          "",
          "",
          "ebitda_growth_ebit_decrease_organic"
         ],
         "type": "scatter",
         "x": [
          1.1749618086091012,
          1.3246916376838151,
          1.3246916376838151,
          1.232207728971281
         ],
         "xaxis": "x",
         "y": [
          -634.6875,
          -634.6875,
          -801.71875,
          -801.71875
         ],
         "yaxis": "y"
        },
        {
         "hoverinfo": "text",
         "marker": {
          "color": "rgb(255,65,54)"
         },
         "mode": "lines",
         "text": [
          "decline_volume_decrease_market_macroeconomic",
          "",
          "",
          "volume_decrease_decline_drain_mute"
         ],
         "type": "scatter",
         "x": [
          0,
          0.5302734542284788,
          0.5302734542284788,
          0
         ],
         "xaxis": "x",
         "y": [
          -875,
          -875,
          -885,
          -885
         ],
         "yaxis": "y"
        },
        {
         "hoverinfo": "text",
         "marker": {
          "color": "rgb(255,65,54)"
         },
         "mode": "lines",
         "text": [
          "volume_decrease_decline_drain_mute",
          "",
          "",
          "volume_impact_decrease_effect_reduce"
         ],
         "type": "scatter",
         "x": [
          0.5302734542284788,
          0.7151338939513747,
          0.7151338939513747,
          0
         ],
         "xaxis": "x",
         "y": [
          -880,
          -880,
          -895,
          -895
         ],
         "yaxis": "y"
        },
        {
         "hoverinfo": "text",
         "marker": {
          "color": "rgb(0,116,217)"
         },
         "mode": "lines",
         "text": [
          "ebit_ebitda_earnings_revenue_currency",
          "",
          "",
          "volume_decrease_decline_drop_reduction"
         ],
         "type": "scatter",
         "x": [
          1.3246916376838151,
          1.3648627179362247,
          1.3648627179362247,
          0.7151338939513747
         ],
         "xaxis": "x",
         "y": [
          -718.203125,
          -718.203125,
          -887.5,
          -887.5
         ],
         "yaxis": "y"
        },
        {
         "hoverinfo": "text",
         "marker": {
          "color": "rgb(0,116,217)"
         },
         "mode": "lines",
         "text": [
          "income_impairment_revenue_expense_tax",
          "",
          "",
          "ebitda_ebit_earnings_revenue_currency"
         ],
         "type": "scatter",
         "x": [
          1.6076162142288044,
          1.7923321023007481,
          1.7923321023007481,
          1.3648627179362247
         ],
         "xaxis": "x",
         "y": [
          -432.578125,
          -432.578125,
          -802.8515625,
          -802.8515625
         ],
         "yaxis": "y"
        },
        {
         "hoverinfo": "text",
         "marker": {
          "color": "rgb(35,205,205)"
         },
         "mode": "lines",
         "text": [
          "barrel_market_sell_buy_sale",
          "",
          "",
          "brent_oil_demand_barrel_crude"
         ],
         "type": "scatter",
         "x": [
          0,
          0.7692698882103557,
          0.7692698882103557,
          0
         ],
         "xaxis": "x",
         "y": [
          -915,
          -915,
          -925,
          -925
         ],
         "yaxis": "y"
        },
        {
         "hoverinfo": "text",
         "marker": {
          "color": "rgb(35,205,205)"
         },
         "mode": "lines",
         "text": [
          "consolidation_production_decrease_increase_reduction",
          "",
          "",
          "brent_barrel_oil_demand_crude"
         ],
         "type": "scatter",
         "x": [
          0,
          0.9709523833069152,
          0.9709523833069152,
          0.7692698882103557
         ],
         "xaxis": "x",
         "y": [
          -905,
          -905,
          -920,
          -920
         ],
         "yaxis": "y"
        },
        {
         "hoverinfo": "text",
         "marker": {
          "color": "rgb(61,153,112)"
         },
         "mode": "lines",
         "text": [
          "crude_refinery_petroleum_oil_diesel",
          "",
          "",
          "refinery_asia_india_oil_china"
         ],
         "type": "scatter",
         "x": [
          0,
          0.5423859276209202,
          0.5423859276209202,
          0
         ],
         "xaxis": "x",
         "y": [
          -945,
          -945,
          -955,
          -955
         ],
         "yaxis": "y"
        },
        {
         "hoverinfo": "text",
         "marker": {
          "color": "rgb(61,153,112)"
         },
         "mode": "lines",
         "text": [
          "oil_europe_refiner_gulf_tanker",
          "",
          "",
          "refinery_petroleum_crude_oil_diesel"
         ],
         "type": "scatter",
         "x": [
          0,
          0.6378060918108172,
          0.6378060918108172,
          0.5423859276209202
         ],
         "xaxis": "x",
         "y": [
          -935,
          -935,
          -950,
          -950
         ],
         "yaxis": "y"
        },
        {
         "hoverinfo": "text",
         "marker": {
          "color": "rgb(61,153,112)"
         },
         "mode": "lines",
         "text": [
          "oil_opec_geopolitical_crisis_demand",
          "",
          "",
          "opec_oil_petroleum_opex_cap"
         ],
         "type": "scatter",
         "x": [
          0,
          0.6891085964701089,
          0.6891085964701089,
          0
         ],
         "xaxis": "x",
         "y": [
          -965,
          -965,
          -975,
          -975
         ],
         "yaxis": "y"
        },
        {
         "hoverinfo": "text",
         "marker": {
          "color": "rgb(61,153,112)"
         },
         "mode": "lines",
         "text": [
          "petroleum_refinery_oil_crude_diesel",
          "",
          "",
          "opec_oil_petroleum_market_demand"
         ],
         "type": "scatter",
         "x": [
          0.6378060918108172,
          0.8956125762777878,
          0.8956125762777878,
          0.6891085964701089
         ],
         "xaxis": "x",
         "y": [
          -942.5,
          -942.5,
          -970,
          -970
         ],
         "yaxis": "y"
        },
        {
         "hoverinfo": "text",
         "marker": {
          "color": "rgb(0,116,217)"
         },
         "mode": "lines",
         "text": [
          "barrel_demand_oil_brent_crude",
          "",
          "",
          "oil_petroleum_crude_refinery_diesel"
         ],
         "type": "scatter",
         "x": [
          0.9709523833069152,
          1.0853012490964413,
          1.0853012490964413,
          0.8956125762777878
         ],
         "xaxis": "x",
         "y": [
          -912.5,
          -912.5,
          -956.25,
          -956.25
         ],
         "yaxis": "y"
        },
        {
         "hoverinfo": "text",
         "marker": {
          "color": "rgb(255,65,54)"
         },
         "mode": "lines",
         "text": [
          "commodity_pricing_cost_raw_price",
          "",
          "",
          "raw_material_tissue_synthetic_recycled"
         ],
         "type": "scatter",
         "x": [
          0,
          0.32620702621769737,
          0.32620702621769737,
          0
         ],
         "xaxis": "x",
         "y": [
          -995,
          -995,
          -1005,
          -1005
         ],
         "yaxis": "y"
        },
        {
         "hoverinfo": "text",
         "marker": {
          "color": "rgb(255,65,54)"
         },
         "mode": "lines",
         "text": [
          "energy_scarcity_cost_freight_price",
          "",
          "",
          "raw_material_commodity_plastics_tissue"
         ],
         "type": "scatter",
         "x": [
          0,
          0.5127860706046163,
          0.5127860706046163,
          0.32620702621769737
         ],
         "xaxis": "x",
         "y": [
          -985,
          -985,
          -1000,
          -1000
         ],
         "yaxis": "y"
        },
        {
         "hoverinfo": "text",
         "marker": {
          "color": "rgb(35,205,205)"
         },
         "mode": "lines",
         "text": [
          "revenue_business_heritage_retail_consumer",
          "",
          "",
          "market_brand_marketing_commercialization_ryaltris"
         ],
         "type": "scatter",
         "x": [
          0,
          0.7924970093951438,
          0.7924970093951438,
          0
         ],
         "xaxis": "x",
         "y": [
          -1015,
          -1015,
          -1025,
          -1025
         ],
         "yaxis": "y"
        },
        {
         "hoverinfo": "text",
         "marker": {
          "color": "rgb(133,20,75)"
         },
         "mode": "lines",
         "text": [
          "fda_pharma_japan_regulatory_australia",
          "",
          "",
          "brazil_chile_chilean_argentina_paraguay"
         ],
         "type": "scatter",
         "x": [
          0,
          0.6337346733011086,
          0.6337346733011086,
          0
         ],
         "xaxis": "x",
         "y": [
          -1035,
          -1035,
          -1045,
          -1045
         ],
         "yaxis": "y"
        },
        {
         "hoverinfo": "text",
         "marker": {
          "color": "rgb(0,116,217)"
         },
         "mode": "lines",
         "text": [
          "revenue_business_heritage_retail_commercialization",
          "",
          "",
          "brazil_paraguay_japan_chile_australia"
         ],
         "type": "scatter",
         "x": [
          0.7924970093951438,
          1.1143725901521042,
          1.1143725901521042,
          0.6337346733011086
         ],
         "xaxis": "x",
         "y": [
          -1020,
          -1020,
          -1040,
          -1040
         ],
         "yaxis": "y"
        },
        {
         "hoverinfo": "text",
         "marker": {
          "color": "rgb(255,220,0)"
         },
         "mode": "lines",
         "text": [
          "japan_revenue_profit_india_profitability",
          "",
          "",
          "qatar_qataris_arabia_saudi_yemen"
         ],
         "type": "scatter",
         "x": [
          0,
          0.6386312353672693,
          0.6386312353672693,
          0
         ],
         "xaxis": "x",
         "y": [
          -1065,
          -1065,
          -1075,
          -1075
         ],
         "yaxis": "y"
        },
        {
         "hoverinfo": "text",
         "marker": {
          "color": "rgb(255,220,0)"
         },
         "mode": "lines",
         "text": [
          "asia_revenue_growth_foreign_caspian",
          "",
          "",
          "revenue_profit_india_investment_japan"
         ],
         "type": "scatter",
         "x": [
          0,
          0.6891227010242507,
          0.6891227010242507,
          0.6386312353672693
         ],
         "xaxis": "x",
         "y": [
          -1055,
          -1055,
          -1070,
          -1070
         ],
         "yaxis": "y"
        },
        {
         "hoverinfo": "text",
         "marker": {
          "color": "rgb(0,116,217)"
         },
         "mode": "lines",
         "text": [
          "revenue_heritage_retail_commercialization_marketing",
          "",
          "",
          "asia_india_saudi_japan_arabia"
         ],
         "type": "scatter",
         "x": [
          1.1143725901521042,
          1.2103816392487248,
          1.2103816392487248,
          0.6891227010242507
         ],
         "xaxis": "x",
         "y": [
          -1030,
          -1030,
          -1062.5,
          -1062.5
         ],
         "yaxis": "y"
        },
        {
         "hoverinfo": "text",
         "marker": {
          "color": "rgb(40,35,35)"
         },
         "mode": "lines",
         "text": [
          "seafarer_fleet_ship_crew_vessel",
          "",
          "",
          "fleet_ship_tankers_vessel_freight"
         ],
         "type": "scatter",
         "x": [
          0,
          0.7486104547365822,
          0.7486104547365822,
          0
         ],
         "xaxis": "x",
         "y": [
          -1085,
          -1085,
          -1095,
          -1095
         ],
         "yaxis": "y"
        },
        {
         "hoverinfo": "text",
         "marker": {
          "color": "rgb(40,35,35)"
         },
         "mode": "lines",
         "text": [
          "crew_ship_fleet_seafarer_aboard",
          "",
          "",
          "port_seaport_dock_vessel_harbor"
         ],
         "type": "scatter",
         "x": [
          0.7486104547365822,
          0.8138345228165028,
          0.8138345228165028,
          0
         ],
         "xaxis": "x",
         "y": [
          -1090,
          -1090,
          -1105,
          -1105
         ],
         "yaxis": "y"
        },
        {
         "hoverinfo": "text",
         "marker": {
          "color": "rgb(61,153,112)"
         },
         "mode": "lines",
         "text": [
          "grain_harvest_planting_farmland_production",
          "",
          "",
          "grain_sea_commodity_seaborne_exporting"
         ],
         "type": "scatter",
         "x": [
          0,
          0.4827767600513082,
          0.4827767600513082,
          0
         ],
         "xaxis": "x",
         "y": [
          -1115,
          -1115,
          -1125,
          -1125
         ],
         "yaxis": "y"
        },
        {
         "hoverinfo": "text",
         "marker": {
          "color": "rgb(255,65,54)"
         },
         "mode": "lines",
         "text": [
          "carbon_europe_supplier_black_supply",
          "",
          "",
          "tire_tyre_supply_rubber_distributor"
         ],
         "type": "scatter",
         "x": [
          0,
          0.8344416987959432,
          0.8344416987959432,
          0
         ],
         "xaxis": "x",
         "y": [
          -1135,
          -1135,
          -1145,
          -1145
         ],
         "yaxis": "y"
        },
        {
         "hoverinfo": "text",
         "marker": {
          "color": "rgb(0,116,217)"
         },
         "mode": "lines",
         "text": [
          "grain_commodity_fertilizer_planting_cornstarch",
          "",
          "",
          "tire_tyre_carbon_black_supplier"
         ],
         "type": "scatter",
         "x": [
          0.4827767600513082,
          1.1238464005889302,
          1.1238464005889302,
          0.8344416987959432
         ],
         "xaxis": "x",
         "y": [
          -1120,
          -1120,
          -1140,
          -1140
         ],
         "yaxis": "y"
        },
        {
         "hoverinfo": "text",
         "marker": {
          "color": "rgb(0,116,217)"
         },
         "mode": "lines",
         "text": [
          "port_seaport_ship_seafarer_fleet",
          "",
          "",
          "grain_produce_farmland_ton_inventory"
         ],
         "type": "scatter",
         "x": [
          0.8138345228165028,
          1.205323834211732,
          1.205323834211732,
          1.1238464005889302
         ],
         "xaxis": "x",
         "y": [
          -1097.5,
          -1097.5,
          -1130,
          -1130
         ],
         "yaxis": "y"
        },
        {
         "hoverinfo": "text",
         "marker": {
          "color": "rgb(35,205,205)"
         },
         "mode": "lines",
         "text": [
          "sunflower_oilseed_oil_wheat_sun",
          "",
          "",
          "wheat_maize_corn_agricultural_agriculture"
         ],
         "type": "scatter",
         "x": [
          0,
          0.8277894055574953,
          0.8277894055574953,
          0
         ],
         "xaxis": "x",
         "y": [
          -1155,
          -1155,
          -1165,
          -1165
         ],
         "yaxis": "y"
        },
        {
         "hoverinfo": "text",
         "marker": {
          "color": "rgb(61,153,112)"
         },
         "mode": "lines",
         "text": [
          "fertilizer_soil_produce_agriculture_planting",
          "",
          "",
          "ammonia_nitrogen_fertilizer_nitrate_ammonium"
         ],
         "type": "scatter",
         "x": [
          0,
          0.7767485476707481,
          0.7767485476707481,
          0
         ],
         "xaxis": "x",
         "y": [
          -1175,
          -1175,
          -1185,
          -1185
         ],
         "yaxis": "y"
        },
        {
         "hoverinfo": "text",
         "marker": {
          "color": "rgb(0,116,217)"
         },
         "mode": "lines",
         "text": [
          "wheat_maize_corn_agricultural_agriculture",
          "",
          "",
          "fertilizer_produce_agriculture_phosphorus_planting"
         ],
         "type": "scatter",
         "x": [
          0.8277894055574953,
          1.067354828124089,
          1.067354828124089,
          0.7767485476707481
         ],
         "xaxis": "x",
         "y": [
          -1160,
          -1160,
          -1180,
          -1180
         ],
         "yaxis": "y"
        },
        {
         "hoverinfo": "text",
         "marker": {
          "color": "rgb(255,65,54)"
         },
         "mode": "lines",
         "text": [
          "logistics_freight_transport_transportation_trucking",
          "",
          "",
          "tanker_refinery_fleet_freight_oilfield"
         ],
         "type": "scatter",
         "x": [
          0,
          0.8898354540087831,
          0.8898354540087831,
          0
         ],
         "xaxis": "x",
         "y": [
          -1195,
          -1195,
          -1205,
          -1205
         ],
         "yaxis": "y"
        },
        {
         "hoverinfo": "text",
         "marker": {
          "color": "rgb(35,205,205)"
         },
         "mode": "lines",
         "text": [
          "export_exporting_exporter_import_importer",
          "",
          "",
          "pipeline_pipe_pipelife_gas_demand"
         ],
         "type": "scatter",
         "x": [
          0,
          0.838345187764449,
          0.838345187764449,
          0
         ],
         "xaxis": "x",
         "y": [
          -1235,
          -1235,
          -1245,
          -1245
         ],
         "yaxis": "y"
        },
        {
         "hoverinfo": "text",
         "marker": {
          "color": "rgb(35,205,205)"
         },
         "mode": "lines",
         "text": [
          "coal_gas_oil_demand_market",
          "",
          "",
          "pipeline_pipe_lng_demand_supply"
         ],
         "type": "scatter",
         "x": [
          0,
          0.8789284233523529,
          0.8789284233523529,
          0.838345187764449
         ],
         "xaxis": "x",
         "y": [
          -1225,
          -1225,
          -1240,
          -1240
         ],
         "yaxis": "y"
        },
        {
         "hoverinfo": "text",
         "marker": {
          "color": "rgb(35,205,205)"
         },
         "mode": "lines",
         "text": [
          "ton_tonne_million_15000_250000",
          "",
          "",
          "coal_demand_eu_europe_gas"
         ],
         "type": "scatter",
         "x": [
          0,
          0.8880318030969,
          0.8880318030969,
          0.8789284233523529
         ],
         "xaxis": "x",
         "y": [
          -1215,
          -1215,
          -1232.5,
          -1232.5
         ],
         "yaxis": "y"
        },
        {
         "hoverinfo": "text",
         "marker": {
          "color": "rgb(35,205,205)"
         },
         "mode": "lines",
         "text": [
          "coal_market_demand_gas_supply",
          "",
          "",
          "alumina_refinery_alrosa_exporting_export"
         ],
         "type": "scatter",
         "x": [
          0.8880318030969,
          0.9696791878428596,
          0.9696791878428596,
          0
         ],
         "xaxis": "x",
         "y": [
          -1223.75,
          -1223.75,
          -1255,
          -1255
         ],
         "yaxis": "y"
        },
        {
         "hoverinfo": "text",
         "marker": {
          "color": "rgb(0,116,217)"
         },
         "mode": "lines",
         "text": [
          "tanker_fleet_freight_oilfield_gulfstream",
          "",
          "",
          "coal_market_demand_europe_gas"
         ],
         "type": "scatter",
         "x": [
          0.8898354540087831,
          1.0305495256428654,
          1.0305495256428654,
          0.9696791878428596
         ],
         "xaxis": "x",
         "y": [
          -1200,
          -1200,
          -1239.375,
          -1239.375
         ],
         "yaxis": "y"
        },
        {
         "hoverinfo": "text",
         "marker": {
          "color": "rgb(133,20,75)"
         },
         "mode": "lines",
         "text": [
          "wood_lumber_timber_birch_hardwood",
          "",
          "",
          "finland_finnish_nordic_baltic_sweden"
         ],
         "type": "scatter",
         "x": [
          0,
          0.8522624117868146,
          0.8522624117868146,
          0
         ],
         "xaxis": "x",
         "y": [
          -1265,
          -1265,
          -1275,
          -1275
         ],
         "yaxis": "y"
        },
        {
         "hoverinfo": "text",
         "marker": {
          "color": "rgb(0,116,217)"
         },
         "mode": "lines",
         "text": [
          "coal_demand_gas_supply_coking",
          "",
          "",
          "wood_lumber_timber_birch_hardwood"
         ],
         "type": "scatter",
         "x": [
          1.0305495256428654,
          1.0642364225147751,
          1.0642364225147751,
          0.8522624117868146
         ],
         "xaxis": "x",
         "y": [
          -1219.6875,
          -1219.6875,
          -1270,
          -1270
         ],
         "yaxis": "y"
        },
        {
         "hoverinfo": "text",
         "marker": {
          "color": "rgb(0,116,217)"
         },
         "mode": "lines",
         "text": [
          "wheat_agriculture_maize_agricultural_corn",
          "",
          "",
          "coal_pipeline_sourcing_supply_demand"
         ],
         "type": "scatter",
         "x": [
          1.067354828124089,
          1.1435411119773442,
          1.1435411119773442,
          1.0642364225147751
         ],
         "xaxis": "x",
         "y": [
          -1170,
          -1170,
          -1244.84375,
          -1244.84375
         ],
         "yaxis": "y"
        },
        {
         "hoverinfo": "text",
         "marker": {
          "color": "rgb(255,220,0)"
         },
         "mode": "lines",
         "text": [
          "diesel_petrol_fuel_refinery_gasoline",
          "",
          "",
          "crack_cracker_shortage_diesel_petroleum"
         ],
         "type": "scatter",
         "x": [
          0,
          0.7234993704548995,
          0.7234993704548995,
          0
         ],
         "xaxis": "x",
         "y": [
          -1285,
          -1285,
          -1295,
          -1295
         ],
         "yaxis": "y"
        },
        {
         "hoverinfo": "text",
         "marker": {
          "color": "rgb(0,116,217)"
         },
         "mode": "lines",
         "text": [
          "coal_oil_gas_tanker_demand",
          "",
          "",
          "diesel_petrol_fuel_petroleum_gasoline"
         ],
         "type": "scatter",
         "x": [
          1.1435411119773442,
          1.1636548609016273,
          1.1636548609016273,
          0.7234993704548995
         ],
         "xaxis": "x",
         "y": [
          -1207.421875,
          -1207.421875,
          -1290,
          -1290
         ],
         "yaxis": "y"
        },
        {
         "hoverinfo": "text",
         "marker": {
          "color": "rgb(0,116,217)"
         },
         "mode": "lines",
         "text": [
          "grain_sea_offshore_exporter_barge",
          "",
          "",
          "coal_eu_europe_diesel_shortage"
         ],
         "type": "scatter",
         "x": [
          1.205323834211732,
          1.2561306636681926,
          1.2561306636681926,
          1.1636548609016273
         ],
         "xaxis": "x",
         "y": [
          -1113.75,
          -1113.75,
          -1248.7109375,
          -1248.7109375
         ],
         "yaxis": "y"
        },
        {
         "hoverinfo": "text",
         "marker": {
          "color": "rgb(40,35,35)"
         },
         "mode": "lines",
         "text": [
          "shortage_covid_supply_china_semiconductor",
          "",
          "",
          "shortage_semiconductor_chip_chipset_hardware"
         ],
         "type": "scatter",
         "x": [
          0,
          0.38169019925661074,
          0.38169019925661074,
          0
         ],
         "xaxis": "x",
         "y": [
          -1305,
          -1305,
          -1315,
          -1315
         ],
         "yaxis": "y"
        },
        {
         "hoverinfo": "text",
         "marker": {
          "color": "rgb(61,153,112)"
         },
         "mode": "lines",
         "text": [
          "neon_gas_production_produce_automotive",
          "",
          "",
          "wiring_harness_wire_electrical_automaker"
         ],
         "type": "scatter",
         "x": [
          0,
          0.8453149375926223,
          0.8453149375926223,
          0
         ],
         "xaxis": "x",
         "y": [
          -1325,
          -1325,
          -1335,
          -1335
         ],
         "yaxis": "y"
        },
        {
         "hoverinfo": "text",
         "marker": {
          "color": "rgb(61,153,112)"
         },
         "mode": "lines",
         "text": [
          "wiring_harness_wire_electrical_cable",
          "",
          "",
          "demand_economy_fms_retail_global"
         ],
         "type": "scatter",
         "x": [
          0.8453149375926223,
          0.9284579437222296,
          0.9284579437222296,
          0
         ],
         "xaxis": "x",
         "y": [
          -1330,
          -1330,
          -1345,
          -1345
         ],
         "yaxis": "y"
        },
        {
         "hoverinfo": "text",
         "marker": {
          "color": "rgb(0,116,217)"
         },
         "mode": "lines",
         "text": [
          "shortage_automotive_manufacturing_chip_production",
          "",
          "",
          "wiring_harness_wire_electrical_cable"
         ],
         "type": "scatter",
         "x": [
          0.38169019925661074,
          1.1209385550376114,
          1.1209385550376114,
          0.9284579437222296
         ],
         "xaxis": "x",
         "y": [
          -1310,
          -1310,
          -1337.5,
          -1337.5
         ],
         "yaxis": "y"
        },
        {
         "hoverinfo": "text",
         "marker": {
          "color": "rgb(255,65,54)"
         },
         "mode": "lines",
         "text": [
          "palladium_nickel_aluminum_rhodium_hydrogen",
          "",
          "",
          "nickel_demand_market_mined_price"
         ],
         "type": "scatter",
         "x": [
          0,
          0.5326421342229629,
          0.5326421342229629,
          0
         ],
         "xaxis": "x",
         "y": [
          -1355,
          -1355,
          -1365,
          -1365
         ],
         "yaxis": "y"
        },
        {
         "hoverinfo": "text",
         "marker": {
          "color": "rgb(35,205,205)"
         },
         "mode": "lines",
         "text": [
          "metal_metallurgical_steel_copper_aluminum",
          "",
          "",
          "aluminium_aluminum_al_alcoa_pricing"
         ],
         "type": "scatter",
         "x": [
          0,
          0.7965666579723425,
          0.7965666579723425,
          0
         ],
         "xaxis": "x",
         "y": [
          -1375,
          -1375,
          -1385,
          -1385
         ],
         "yaxis": "y"
        },
        {
         "hoverinfo": "text",
         "marker": {
          "color": "rgb(0,116,217)"
         },
         "mode": "lines",
         "text": [
          "nickel_palladium_aluminum_concrete_metal",
          "",
          "",
          "aluminium_aluminum_alumina_al_alcoa"
         ],
         "type": "scatter",
         "x": [
          0.5326421342229629,
          1.0887152094615387,
          1.0887152094615387,
          0.7965666579723425
         ],
         "xaxis": "x",
         "y": [
          -1360,
          -1360,
          -1380,
          -1380
         ],
         "yaxis": "y"
        },
        {
         "hoverinfo": "text",
         "marker": {
          "color": "rgb(0,116,217)"
         },
         "mode": "lines",
         "text": [
          "wiring_harness_wire_electrical_cable",
          "",
          "",
          "aluminium_aluminum_copper_steel_metal"
         ],
         "type": "scatter",
         "x": [
          1.1209385550376114,
          1.2920380024312152,
          1.2920380024312152,
          1.0887152094615387
         ],
         "xaxis": "x",
         "y": [
          -1323.75,
          -1323.75,
          -1370,
          -1370
         ],
         "yaxis": "y"
        },
        {
         "hoverinfo": "text",
         "marker": {
          "color": "rgb(61,153,112)"
         },
         "mode": "lines",
         "text": [
          "steel_demand_market_pricing_alloy",
          "",
          "",
          "steelmaking_manganese_steel_alloy_production"
         ],
         "type": "scatter",
         "x": [
          0,
          0.4368381802256408,
          0.4368381802256408,
          0
         ],
         "xaxis": "x",
         "y": [
          -1395,
          -1395,
          -1405,
          -1405
         ],
         "yaxis": "y"
        },
        {
         "hoverinfo": "text",
         "marker": {
          "color": "rgb(255,65,54)"
         },
         "mode": "lines",
         "text": [
          "iron_steel_supply_produce_market",
          "",
          "",
          "pig_iron_ferrous_steel_steelmaker"
         ],
         "type": "scatter",
         "x": [
          0,
          0.6246869574245879,
          0.6246869574245879,
          0
         ],
         "xaxis": "x",
         "y": [
          -1415,
          -1415,
          -1425,
          -1425
         ],
         "yaxis": "y"
        },
        {
         "hoverinfo": "text",
         "marker": {
          "color": "rgb(0,116,217)"
         },
         "mode": "lines",
         "text": [
          "steelmaking_steel_alloy_aluminum_market",
          "",
          "",
          "pig_iron_ferrous_steel_steelmaker"
         ],
         "type": "scatter",
         "x": [
          0.4368381802256408,
          1.1666468723924899,
          1.1666468723924899,
          0.6246869574245879
         ],
         "xaxis": "x",
         "y": [
          -1400,
          -1400,
          -1420,
          -1420
         ],
         "yaxis": "y"
        },
        {
         "hoverinfo": "text",
         "marker": {
          "color": "rgb(0,116,217)"
         },
         "mode": "lines",
         "text": [
          "wiring_harness_wire_cable_electrical",
          "",
          "",
          "pig_iron_ferrous_steelmaking_steel"
         ],
         "type": "scatter",
         "x": [
          1.2920380024312152,
          1.3425316878305058,
          1.3425316878305058,
          1.1666468723924899
         ],
         "xaxis": "x",
         "y": [
          -1346.875,
          -1346.875,
          -1410,
          -1410
         ],
         "yaxis": "y"
        },
        {
         "hoverinfo": "text",
         "marker": {
          "color": "rgb(0,116,217)"
         },
         "mode": "lines",
         "text": [
          "coal_market_demand_carbon_diesel",
          "",
          "",
          "wiring_wire_european_harness_aluminium"
         ],
         "type": "scatter",
         "x": [
          1.2561306636681926,
          1.4091956003527957,
          1.4091956003527957,
          1.3425316878305058
         ],
         "xaxis": "x",
         "y": [
          -1181.23046875,
          -1181.23046875,
          -1378.4375,
          -1378.4375
         ],
         "yaxis": "y"
        },
        {
         "hoverinfo": "text",
         "marker": {
          "color": "rgb(0,116,217)"
         },
         "mode": "lines",
         "text": [
          "japan_asia_india_revenue_europe",
          "",
          "",
          "coal_diesel_export_supplier_exporting"
         ],
         "type": "scatter",
         "x": [
          1.2103816392487248,
          1.452369135117733,
          1.452369135117733,
          1.4091956003527957
         ],
         "xaxis": "x",
         "y": [
          -1046.25,
          -1046.25,
          -1279.833984375,
          -1279.833984375
         ],
         "yaxis": "y"
        },
        {
         "hoverinfo": "text",
         "marker": {
          "color": "rgb(35,205,205)"
         },
         "mode": "lines",
         "text": [
          "gas_europe_eu_european_netherlands",
          "",
          "",
          "gas_supplies_supply_shortage_delivery"
         ],
         "type": "scatter",
         "x": [
          0,
          0.5410415466705941,
          0.5410415466705941,
          0
         ],
         "xaxis": "x",
         "y": [
          -1445,
          -1445,
          -1455,
          -1455
         ],
         "yaxis": "y"
        },
        {
         "hoverinfo": "text",
         "marker": {
          "color": "rgb(35,205,205)"
         },
         "mode": "lines",
         "text": [
          "gas_germany_german_poland_austria",
          "",
          "",
          "gas_europe_supply_eu_european"
         ],
         "type": "scatter",
         "x": [
          0,
          0.7163718157952162,
          0.7163718157952162,
          0.5410415466705941
         ],
         "xaxis": "x",
         "y": [
          -1435,
          -1435,
          -1450,
          -1450
         ],
         "yaxis": "y"
        },
        {
         "hoverinfo": "text",
         "marker": {
          "color": "rgb(35,205,205)"
         },
         "mode": "lines",
         "text": [
          "gas_gasoline_demand_fuel_oil",
          "",
          "",
          "gas_oil_sourcing_commodity_production"
         ],
         "type": "scatter",
         "x": [
          0,
          0.8516848137672723,
          0.8516848137672723,
          0
         ],
         "xaxis": "x",
         "y": [
          -1465,
          -1465,
          -1475,
          -1475
         ],
         "yaxis": "y"
        },
        {
         "hoverinfo": "text",
         "marker": {
          "color": "rgb(35,205,205)"
         },
         "mode": "lines",
         "text": [
          "gas_europe_eu_european_supply",
          "",
          "",
          "gas_oil_gasoline_commodity_market"
         ],
         "type": "scatter",
         "x": [
          0.7163718157952162,
          0.9090966472397407,
          0.9090966472397407,
          0.8516848137672723
         ],
         "xaxis": "x",
         "y": [
          -1442.5,
          -1442.5,
          -1470,
          -1470
         ],
         "yaxis": "y"
        },
        {
         "hoverinfo": "text",
         "marker": {
          "color": "rgb(133,20,75)"
         },
         "mode": "lines",
         "text": [
          "energy_renewable_electricity_demand_megawatt",
          "",
          "",
          "hydrogen_fuel_renewable_gas_carbon"
         ],
         "type": "scatter",
         "x": [
          0,
          0.6965771785710093,
          0.6965771785710093,
          0
         ],
         "xaxis": "x",
         "y": [
          -1495,
          -1495,
          -1505,
          -1505
         ],
         "yaxis": "y"
        },
        {
         "hoverinfo": "text",
         "marker": {
          "color": "rgb(133,20,75)"
         },
         "mode": "lines",
         "text": [
          "foodtech_food_agriculture_hunger_agricultural",
          "",
          "",
          "energy_renewable_electricity_demand_europe"
         ],
         "type": "scatter",
         "x": [
          0,
          0.922194119425961,
          0.922194119425961,
          0.6965771785710093
         ],
         "xaxis": "x",
         "y": [
          -1485,
          -1485,
          -1500,
          -1500
         ],
         "yaxis": "y"
        },
        {
         "hoverinfo": "text",
         "marker": {
          "color": "rgb(133,20,75)"
         },
         "mode": "lines",
         "text": [
          "fueling_fuel_fossil_renewable_repowereu",
          "",
          "",
          "surcharge_fuel_gasoline_increase_petrol"
         ],
         "type": "scatter",
         "x": [
          0,
          0.847410990314768,
          0.847410990314768,
          0
         ],
         "xaxis": "x",
         "y": [
          -1515,
          -1515,
          -1525,
          -1525
         ],
         "yaxis": "y"
        },
        {
         "hoverinfo": "text",
         "marker": {
          "color": "rgb(133,20,75)"
         },
         "mode": "lines",
         "text": [
          "energy_renewable_demand_fuel_food",
          "",
          "",
          "fueling_fuel_petrol_gasoline_fossil"
         ],
         "type": "scatter",
         "x": [
          0.922194119425961,
          0.9959360309865863,
          0.9959360309865863,
          0.847410990314768
         ],
         "xaxis": "x",
         "y": [
          -1492.5,
          -1492.5,
          -1520,
          -1520
         ],
         "yaxis": "y"
        },
        {
         "hoverinfo": "text",
         "marker": {
          "color": "rgb(255,220,0)"
         },
         "mode": "lines",
         "text": [
          "nuclear_reactor_fuel_uranium_fukushima",
          "",
          "",
          "uranium_enrichment_reactor_nuclear_isotope"
         ],
         "type": "scatter",
         "x": [
          0,
          0.7397317102049535,
          0.7397317102049535,
          0
         ],
         "xaxis": "x",
         "y": [
          -1535,
          -1535,
          -1545,
          -1545
         ],
         "yaxis": "y"
        },
        {
         "hoverinfo": "text",
         "marker": {
          "color": "rgb(0,116,217)"
         },
         "mode": "lines",
         "text": [
          "energy_renewable_electricity_demand_infrastructure",
          "",
          "",
          "uranium_nuclear_reactor_enrichment_isotope"
         ],
         "type": "scatter",
         "x": [
          0.9959360309865863,
          1.0986894760908712,
          1.0986894760908712,
          0.7397317102049535
         ],
         "xaxis": "x",
         "y": [
          -1506.25,
          -1506.25,
          -1540,
          -1540
         ],
         "yaxis": "y"
        },
        {
         "hoverinfo": "text",
         "marker": {
          "color": "rgb(0,116,217)"
         },
         "mode": "lines",
         "text": [
          "gas_europe_eu_oil_germany",
          "",
          "",
          "uranium_reactor_nuclear_enrichment_supply"
         ],
         "type": "scatter",
         "x": [
          0.9090966472397407,
          1.2422156659277213,
          1.2422156659277213,
          1.0986894760908712
         ],
         "xaxis": "x",
         "y": [
          -1456.25,
          -1456.25,
          -1523.125,
          -1523.125
         ],
         "yaxis": "y"
        },
        {
         "hoverinfo": "text",
         "marker": {
          "color": "rgb(0,116,217)"
         },
         "mode": "lines",
         "text": [
          "coal_demand_market_diesel_supply",
          "",
          "",
          "nuclear_uranium_reactor_enrichment_energy"
         ],
         "type": "scatter",
         "x": [
          1.452369135117733,
          1.4823355893484844,
          1.4823355893484844,
          1.2422156659277213
         ],
         "xaxis": "x",
         "y": [
          -1163.0419921875,
          -1163.0419921875,
          -1489.6875,
          -1489.6875
         ],
         "yaxis": "y"
        },
        {
         "hoverinfo": "text",
         "marker": {
          "color": "rgb(0,116,217)"
         },
         "mode": "lines",
         "text": [
          "raw_material_commodity_plastics_resin",
          "",
          "",
          "coal_pipeline_demand_gas_shortage"
         ],
         "type": "scatter",
         "x": [
          0.5127860706046163,
          1.5055017189389288,
          1.5055017189389288,
          1.4823355893484844
         ],
         "xaxis": "x",
         "y": [
          -992.5,
          -992.5,
          -1326.36474609375,
          -1326.36474609375
         ],
         "yaxis": "y"
        },
        {
         "hoverinfo": "text",
         "marker": {
          "color": "rgb(0,116,217)"
         },
         "mode": "lines",
         "text": [
          "petroleum_crude_refinery_oil_refiner",
          "",
          "",
          "coal_export_diesel_production_exporter"
         ],
         "type": "scatter",
         "x": [
          1.0853012490964413,
          1.5962251019140021,
          1.5962251019140021,
          1.5055017189389288
         ],
         "xaxis": "x",
         "y": [
          -934.375,
          -934.375,
          -1159.432373046875,
          -1159.432373046875
         ],
         "yaxis": "y"
        },
        {
         "hoverinfo": "text",
         "marker": {
          "color": "rgb(40,35,35)"
         },
         "mode": "lines",
         "text": [
          "risk_scenario_leverage_management_afraid",
          "",
          "",
          "risk_cost_overlay_profitability_basis"
         ],
         "type": "scatter",
         "x": [
          0,
          0.6494903671378044,
          0.6494903671378044,
          0
         ],
         "xaxis": "x",
         "y": [
          -1565,
          -1565,
          -1575,
          -1575
         ],
         "yaxis": "y"
        },
        {
         "hoverinfo": "text",
         "marker": {
          "color": "rgb(40,35,35)"
         },
         "mode": "lines",
         "text": [
          "risk_mitigation_escalation_insurance_war",
          "",
          "",
          "risk_protect_cost_leverage_hazard"
         ],
         "type": "scatter",
         "x": [
          0,
          0.7823623180843072,
          0.7823623180843072,
          0.6494903671378044
         ],
         "xaxis": "x",
         "y": [
          -1555,
          -1555,
          -1570,
          -1570
         ],
         "yaxis": "y"
        },
        {
         "hoverinfo": "text",
         "marker": {
          "color": "rgb(61,153,112)"
         },
         "mode": "lines",
         "text": [
          "uncertainty_uncertain_war_turmoil_military",
          "",
          "",
          "uncertainty_uncertain_unpredictable_consistent_contingency"
         ],
         "type": "scatter",
         "x": [
          0,
          0.48792796213979883,
          0.48792796213979883,
          0
         ],
         "xaxis": "x",
         "y": [
          -1595,
          -1595,
          -1605,
          -1605
         ],
         "yaxis": "y"
        },
        {
         "hoverinfo": "text",
         "marker": {
          "color": "rgb(61,153,112)"
         },
         "mode": "lines",
         "text": [
          "inflation_inflationary_recession_monetary_economic",
          "",
          "",
          "uncertainty_uncertain_risk_confident_war"
         ],
         "type": "scatter",
         "x": [
          0,
          0.7617357721570361,
          0.7617357721570361,
          0.48792796213979883
         ],
         "xaxis": "x",
         "y": [
          -1585,
          -1585,
          -1600,
          -1600
         ],
         "yaxis": "y"
        },
        {
         "hoverinfo": "text",
         "marker": {
          "color": "rgb(255,65,54)"
         },
         "mode": "lines",
         "text": [
          "geopolitical_geopolitically_geopolitics_sociopolitical_war",
          "",
          "",
          "geopolitical_macroeconomic_economic_economy_crisis"
         ],
         "type": "scatter",
         "x": [
          0,
          0.5869140097611456,
          0.5869140097611456,
          0
         ],
         "xaxis": "x",
         "y": [
          -1615,
          -1615,
          -1625,
          -1625
         ],
         "yaxis": "y"
        },
        {
         "hoverinfo": "text",
         "marker": {
          "color": "rgb(35,205,205)"
         },
         "mode": "lines",
         "text": [
          "war_economy_economic_gdp_affect",
          "",
          "",
          "invasion_economy_economic_impact_sanction"
         ],
         "type": "scatter",
         "x": [
          0,
          0.7420944054054782,
          0.7420944054054782,
          0
         ],
         "xaxis": "x",
         "y": [
          -1635,
          -1635,
          -1645,
          -1645
         ],
         "yaxis": "y"
        },
        {
         "hoverinfo": "text",
         "marker": {
          "color": "rgb(35,205,205)"
         },
         "mode": "lines",
         "text": [
          "war_economy_economic_gdp_affect",
          "",
          "",
          "war_wars_fight_bombing_shake"
         ],
         "type": "scatter",
         "x": [
          0.7420944054054782,
          0.9539657332145971,
          0.9539657332145971,
          0
         ],
         "xaxis": "x",
         "y": [
          -1640,
          -1640,
          -1655,
          -1655
         ],
         "yaxis": "y"
        },
        {
         "hoverinfo": "text",
         "marker": {
          "color": "rgb(0,116,217)"
         },
         "mode": "lines",
         "text": [
          "geopolitical_geopolitically_geopolitics_sociopolitical_war",
          "",
          "",
          "war_wars_economy_economic_gdp"
         ],
         "type": "scatter",
         "x": [
          0.5869140097611456,
          1.0878740086458298,
          1.0878740086458298,
          0.9539657332145971
         ],
         "xaxis": "x",
         "y": [
          -1620,
          -1620,
          -1647.5,
          -1647.5
         ],
         "yaxis": "y"
        },
        {
         "hoverinfo": "text",
         "marker": {
          "color": "rgb(0,116,217)"
         },
         "mode": "lines",
         "text": [
          "uncertainty_uncertain_risk_confident_war",
          "",
          "",
          "geopolitical_geopolitically_geopolitics_sociopolitical_war"
         ],
         "type": "scatter",
         "x": [
          0.7617357721570361,
          1.2380658029277665,
          1.2380658029277665,
          1.0878740086458298
         ],
         "xaxis": "x",
         "y": [
          -1592.5,
          -1592.5,
          -1633.75,
          -1633.75
         ],
         "yaxis": "y"
        },
        {
         "hoverinfo": "text",
         "marker": {
          "color": "rgb(0,116,217)"
         },
         "mode": "lines",
         "text": [
          "risk_cost_leverage_hazard_mitigation",
          "",
          "",
          "geopolitical_geopolitically_geopolitics_war_crisis"
         ],
         "type": "scatter",
         "x": [
          0.7823623180843072,
          1.2801788165921717,
          1.2801788165921717,
          1.2380658029277665
         ],
         "xaxis": "x",
         "y": [
          -1562.5,
          -1562.5,
          -1613.125,
          -1613.125
         ],
         "yaxis": "y"
        },
        {
         "hoverinfo": "text",
         "marker": {
          "color": "rgb(61,153,112)"
         },
         "mode": "lines",
         "text": [
          "exam_supplies_marketing_student_destocking",
          "",
          "",
          "conflict_course_involve_situation_pursue"
         ],
         "type": "scatter",
         "x": [
          0,
          0.7561808242356975,
          0.7561808242356975,
          0
         ],
         "xaxis": "x",
         "y": [
          -1675,
          -1675,
          -1685,
          -1685
         ],
         "yaxis": "y"
        },
        {
         "hoverinfo": "text",
         "marker": {
          "color": "rgb(61,153,112)"
         },
         "mode": "lines",
         "text": [
          "war_effect_affect_conflict_consequence",
          "",
          "",
          "student_conflict_course_exam_assignment"
         ],
         "type": "scatter",
         "x": [
          0,
          0.8783402015809045,
          0.8783402015809045,
          0.7561808242356975
         ],
         "xaxis": "x",
         "y": [
          -1665,
          -1665,
          -1680,
          -1680
         ],
         "yaxis": "y"
        },
        {
         "hoverinfo": "text",
         "marker": {
          "color": "rgb(255,65,54)"
         },
         "mode": "lines",
         "text": [
          "market_marketplace_sell_buy_opportunity",
          "",
          "",
          "market_liquidity_war_turbulence_fluctuate"
         ],
         "type": "scatter",
         "x": [
          0,
          0.7823189832350559,
          0.7823189832350559,
          0
         ],
         "xaxis": "x",
         "y": [
          -1705,
          -1705,
          -1715,
          -1715
         ],
         "yaxis": "y"
        },
        {
         "hoverinfo": "text",
         "marker": {
          "color": "rgb(255,65,54)"
         },
         "mode": "lines",
         "text": [
          "competitor_market_demand_marketing_disruption",
          "",
          "",
          "market_marketplace_trading_stock_sell"
         ],
         "type": "scatter",
         "x": [
          0,
          0.883890721277447,
          0.883890721277447,
          0.7823189832350559
         ],
         "xaxis": "x",
         "y": [
          -1695,
          -1695,
          -1710,
          -1710
         ],
         "yaxis": "y"
        },
        {
         "hoverinfo": "text",
         "marker": {
          "color": "rgb(255,65,54)"
         },
         "mode": "lines",
         "text": [
          "market_inning_forecasting_crisis_demand",
          "",
          "",
          "crisis_impact_risk_strategy_management"
         ],
         "type": "scatter",
         "x": [
          0,
          0.8635430977056477,
          0.8635430977056477,
          0
         ],
         "xaxis": "x",
         "y": [
          -1725,
          -1725,
          -1735,
          -1735
         ],
         "yaxis": "y"
        },
        {
         "hoverinfo": "text",
         "marker": {
          "color": "rgb(255,65,54)"
         },
         "mode": "lines",
         "text": [
          "market_marketing_marketplace_trading_stock",
          "",
          "",
          "crisis_impact_turmoil_risk_dramatically"
         ],
         "type": "scatter",
         "x": [
          0.883890721277447,
          0.9657121289768332,
          0.9657121289768332,
          0.8635430977056477
         ],
         "xaxis": "x",
         "y": [
          -1702.5,
          -1702.5,
          -1730,
          -1730
         ],
         "yaxis": "y"
        },
        {
         "hoverinfo": "text",
         "marker": {
          "color": "rgb(35,205,205)"
         },
         "mode": "lines",
         "text": [
          "business_entrepreneur_management_marketplace_organization",
          "",
          "",
          "impact_business_effect_productivity_entrepreneur"
         ],
         "type": "scatter",
         "x": [
          0,
          0.7425652293765945,
          0.7425652293765945,
          0
         ],
         "xaxis": "x",
         "y": [
          -1745,
          -1745,
          -1755,
          -1755
         ],
         "yaxis": "y"
        },
        {
         "hoverinfo": "text",
         "marker": {
          "color": "rgb(35,205,205)"
         },
         "mode": "lines",
         "text": [
          "business_entrepreneur_management_service_customer",
          "",
          "",
          "war_wars_business_impact_economic"
         ],
         "type": "scatter",
         "x": [
          0.7425652293765945,
          0.7936504452824722,
          0.7936504452824722,
          0
         ],
         "xaxis": "x",
         "y": [
          -1750,
          -1750,
          -1765,
          -1765
         ],
         "yaxis": "y"
        },
        {
         "hoverinfo": "text",
         "marker": {
          "color": "rgb(35,205,205)"
         },
         "mode": "lines",
         "text": [
          "impact_impacting_war_skirmish_hit",
          "",
          "",
          "impact_damage_hit_significantly_drop"
         ],
         "type": "scatter",
         "x": [
          0,
          0.7375889859899563,
          0.7375889859899563,
          0
         ],
         "xaxis": "x",
         "y": [
          -1775,
          -1775,
          -1785,
          -1785
         ],
         "yaxis": "y"
        },
        {
         "hoverinfo": "text",
         "marker": {
          "color": "rgb(35,205,205)"
         },
         "mode": "lines",
         "text": [
          "impact_impacting_hit_drop_magnitude",
          "",
          "",
          "event_occasion_impact_moment_effect"
         ],
         "type": "scatter",
         "x": [
          0.7375889859899563,
          0.9537141186763207,
          0.9537141186763207,
          0
         ],
         "xaxis": "x",
         "y": [
          -1780,
          -1780,
          -1795,
          -1795
         ],
         "yaxis": "y"
        },
        {
         "hoverinfo": "text",
         "marker": {
          "color": "rgb(35,205,205)"
         },
         "mode": "lines",
         "text": [
          "business_impact_industry_effect_war",
          "",
          "",
          "impact_impacting_hit_unaffected_drop"
         ],
         "type": "scatter",
         "x": [
          0.7936504452824722,
          0.998254902030649,
          0.998254902030649,
          0.9537141186763207
         ],
         "xaxis": "x",
         "y": [
          -1757.5,
          -1757.5,
          -1787.5,
          -1787.5
         ],
         "yaxis": "y"
        },
        {
         "hoverinfo": "text",
         "marker": {
          "color": "rgb(0,116,217)"
         },
         "mode": "lines",
         "text": [
          "crisis_impact_shock_affect_strategy",
          "",
          "",
          "impact_impacting_war_effect_affect"
         ],
         "type": "scatter",
         "x": [
          0.9657121289768332,
          1.0820169658743402,
          1.0820169658743402,
          0.998254902030649
         ],
         "xaxis": "x",
         "y": [
          -1716.25,
          -1716.25,
          -1772.5,
          -1772.5
         ],
         "yaxis": "y"
        },
        {
         "hoverinfo": "text",
         "marker": {
          "color": "rgb(0,116,217)"
         },
         "mode": "lines",
         "text": [
          "conflict_course_student_assignment_war",
          "",
          "",
          "impact_impacting_crisis_effect_affect"
         ],
         "type": "scatter",
         "x": [
          0.8783402015809045,
          1.1098130212690656,
          1.1098130212690656,
          1.0820169658743402
         ],
         "xaxis": "x",
         "y": [
          -1672.5,
          -1672.5,
          -1744.375,
          -1744.375
         ],
         "yaxis": "y"
        },
        {
         "hoverinfo": "text",
         "marker": {
          "color": "rgb(133,20,75)"
         },
         "mode": "lines",
         "text": [
          "conflict_impact_development_consequence_business",
          "",
          "",
          "conflict_hostility_aggressor_issue_ongoing"
         ],
         "type": "scatter",
         "x": [
          0,
          0.7042198828488397,
          0.7042198828488397,
          0
         ],
         "xaxis": "x",
         "y": [
          -1805,
          -1805,
          -1815,
          -1815
         ],
         "yaxis": "y"
        },
        {
         "hoverinfo": "text",
         "marker": {
          "color": "rgb(133,20,75)"
         },
         "mode": "lines",
         "text": [
          "conflict_aggressor_discussion_issue_ongoing",
          "",
          "",
          "conflict_confliction_impact_fighting_disruption"
         ],
         "type": "scatter",
         "x": [
          0.7042198828488397,
          0.7384094680032383,
          0.7384094680032383,
          0
         ],
         "xaxis": "x",
         "y": [
          -1810,
          -1810,
          -1825,
          -1825
         ],
         "yaxis": "y"
        },
        {
         "hoverinfo": "text",
         "marker": {
          "color": "rgb(0,116,217)"
         },
         "mode": "lines",
         "text": [
          "impact_crisis_war_impacting_conflict",
          "",
          "",
          "conflict_confliction_fighting_issue_ongoing"
         ],
         "type": "scatter",
         "x": [
          1.1098130212690656,
          1.1317784492924867,
          1.1317784492924867,
          0.7384094680032383
         ],
         "xaxis": "x",
         "y": [
          -1708.4375,
          -1708.4375,
          -1817.5,
          -1817.5
         ],
         "yaxis": "y"
        },
        {
         "hoverinfo": "text",
         "marker": {
          "color": "rgb(255,220,0)"
         },
         "mode": "lines",
         "text": [
          "sanction_sanctioning_compliance_sanctioned_regulation",
          "",
          "",
          "sanction_eu_sanctioned_regulatory_legislation"
         ],
         "type": "scatter",
         "x": [
          0,
          0.6428354850664328,
          0.6428354850664328,
          0
         ],
         "xaxis": "x",
         "y": [
          -1835,
          -1835,
          -1845,
          -1845
         ],
         "yaxis": "y"
        },
        {
         "hoverinfo": "text",
         "marker": {
          "color": "rgb(40,35,35)"
         },
         "mode": "lines",
         "text": [
          "europe_european_slovenia_luxembourg_euro",
          "",
          "",
          "europe_eu_european_geopolitical_asia"
         ],
         "type": "scatter",
         "x": [
          0,
          0.5203321326493054,
          0.5203321326493054,
          0
         ],
         "xaxis": "x",
         "y": [
          -1855,
          -1855,
          -1865,
          -1865
         ],
         "yaxis": "y"
        },
        {
         "hoverinfo": "text",
         "marker": {
          "color": "rgb(40,35,35)"
         },
         "mode": "lines",
         "text": [
          "europe_eu_european_germany_asia",
          "",
          "",
          "war_euro_macroeconomic_eurozone_europe"
         ],
         "type": "scatter",
         "x": [
          0.5203321326493054,
          0.8925666730741384,
          0.8925666730741384,
          0
         ],
         "xaxis": "x",
         "y": [
          -1860,
          -1860,
          -1875,
          -1875
         ],
         "yaxis": "y"
        },
        {
         "hoverinfo": "text",
         "marker": {
          "color": "rgb(0,116,217)"
         },
         "mode": "lines",
         "text": [
          "sanction_sanctioning_compliance_sanctioned_regulation",
          "",
          "",
          "europe_european_eu_asia_continent"
         ],
         "type": "scatter",
         "x": [
          0.6428354850664328,
          1.1438912317189813,
          1.1438912317189813,
          0.8925666730741384
         ],
         "xaxis": "x",
         "y": [
          -1840,
          -1840,
          -1867.5,
          -1867.5
         ],
         "yaxis": "y"
        },
        {
         "hoverinfo": "text",
         "marker": {
          "color": "rgb(0,116,217)"
         },
         "mode": "lines",
         "text": [
          "impact_impacting_conflict_effect_business",
          "",
          "",
          "europe_sanction_european_eu_impact"
         ],
         "type": "scatter",
         "x": [
          1.1317784492924867,
          1.2035246442186778,
          1.2035246442186778,
          1.1438912317189813
         ],
         "xaxis": "x",
         "y": [
          -1762.96875,
          -1762.96875,
          -1853.75,
          -1853.75
         ],
         "yaxis": "y"
        },
        {
         "hoverinfo": "text",
         "marker": {
          "color": "rgb(0,116,217)"
         },
         "mode": "lines",
         "text": [
          "risk_geopolitical_geopolitically_uncertainty_geopolitics",
          "",
          "",
          "europe_eu_european_impact_impacting"
         ],
         "type": "scatter",
         "x": [
          1.2801788165921717,
          1.34307196138327,
          1.34307196138327,
          1.2035246442186778
         ],
         "xaxis": "x",
         "y": [
          -1587.8125,
          -1587.8125,
          -1808.359375,
          -1808.359375
         ],
         "yaxis": "y"
        },
        {
         "hoverinfo": "text",
         "marker": {
          "color": "rgb(61,153,112)"
         },
         "mode": "lines",
         "text": [
          "january_march_february_april_month",
          "",
          "",
          "february_war_march_april_january"
         ],
         "type": "scatter",
         "x": [
          0,
          0.8346912840205831,
          0.8346912840205831,
          0
         ],
         "xaxis": "x",
         "y": [
          -1885,
          -1885,
          -1895,
          -1895
         ],
         "yaxis": "y"
        },
        {
         "hoverinfo": "text",
         "marker": {
          "color": "rgb(255,65,54)"
         },
         "mode": "lines",
         "text": [
          "invade_invasion_invader_overrun_mercenary",
          "",
          "",
          "invade_market_invasion_investor_recessionary"
         ],
         "type": "scatter",
         "x": [
          0,
          0.6066451341388175,
          0.6066451341388175,
          0
         ],
         "xaxis": "x",
         "y": [
          -1915,
          -1915,
          -1925,
          -1925
         ],
         "yaxis": "y"
        },
        {
         "hoverinfo": "text",
         "marker": {
          "color": "rgb(255,65,54)"
         },
         "mode": "lines",
         "text": [
          "invasion_invade_impact_investment_influence",
          "",
          "",
          "invade_invasion_invader_overrun_mercenary"
         ],
         "type": "scatter",
         "x": [
          0,
          0.7625203130862677,
          0.7625203130862677,
          0.6066451341388175
         ],
         "xaxis": "x",
         "y": [
          -1905,
          -1905,
          -1920,
          -1920
         ],
         "yaxis": "y"
        },
        {
         "hoverinfo": "text",
         "marker": {
          "color": "rgb(0,116,217)"
         },
         "mode": "lines",
         "text": [
          "february_march_war_june_april",
          "",
          "",
          "invade_invasion_invader_campaign_aggressively"
         ],
         "type": "scatter",
         "x": [
          0.8346912840205831,
          1.051684784140136,
          1.051684784140136,
          0.7625203130862677
         ],
         "xaxis": "x",
         "y": [
          -1890,
          -1890,
          -1912.5,
          -1912.5
         ],
         "yaxis": "y"
        },
        {
         "hoverinfo": "text",
         "marker": {
          "color": "rgb(35,205,205)"
         },
         "mode": "lines",
         "text": [
          "market_procurement_volatility_war_valuation",
          "",
          "",
          "volatility_market_increase_war_equity"
         ],
         "type": "scatter",
         "x": [
          0,
          0.7903360861163978,
          0.7903360861163978,
          0
         ],
         "xaxis": "x",
         "y": [
          -1945,
          -1945,
          -1955,
          -1955
         ],
         "yaxis": "y"
        },
        {
         "hoverinfo": "text",
         "marker": {
          "color": "rgb(35,205,205)"
         },
         "mode": "lines",
         "text": [
          "lady_gentleman_war_militarily_general",
          "",
          "",
          "volatility_market_volatile_increase_war"
         ],
         "type": "scatter",
         "x": [
          0,
          0.9818118261896408,
          0.9818118261896408,
          0.7903360861163978
         ],
         "xaxis": "x",
         "y": [
          -1935,
          -1935,
          -1950,
          -1950
         ],
         "yaxis": "y"
        },
        {
         "hoverinfo": "text",
         "marker": {
          "color": "rgb(61,153,112)"
         },
         "mode": "lines",
         "text": [
          "pricing_cost_spike_increase_price",
          "",
          "",
          "invasion_invade_pricing_market_demand"
         ],
         "type": "scatter",
         "x": [
          0,
          0.8612558045271326,
          0.8612558045271326,
          0
         ],
         "xaxis": "x",
         "y": [
          -1965,
          -1965,
          -1975,
          -1975
         ],
         "yaxis": "y"
        },
        {
         "hoverinfo": "text",
         "marker": {
          "color": "rgb(61,153,112)"
         },
         "mode": "lines",
         "text": [
          "pricing_cost_demand_price_increase",
          "",
          "",
          "pricing_price_cost_increase_dollar"
         ],
         "type": "scatter",
         "x": [
          0.8612558045271326,
          0.8811890441625125,
          0.8811890441625125,
          0
         ],
         "xaxis": "x",
         "y": [
          -1970,
          -1970,
          -1985,
          -1985
         ],
         "yaxis": "y"
        },
        {
         "hoverinfo": "text",
         "marker": {
          "color": "rgb(0,116,217)"
         },
         "mode": "lines",
         "text": [
          "lady_gentleman_war_militarily_military",
          "",
          "",
          "pricing_cost_price_increase_upcoming"
         ],
         "type": "scatter",
         "x": [
          0.9818118261896408,
          1.0515107836461473,
          1.0515107836461473,
          0.8811890441625125
         ],
         "xaxis": "x",
         "y": [
          -1942.5,
          -1942.5,
          -1977.5,
          -1977.5
         ],
         "yaxis": "y"
        },
        {
         "hoverinfo": "text",
         "marker": {
          "color": "rgb(255,65,54)"
         },
         "mode": "lines",
         "text": [
          "q3_q2_q4_invasion_q1",
          "",
          "",
          "dynamism_q2_q1_positive_q3"
         ],
         "type": "scatter",
         "x": [
          0,
          0.6999257264549761,
          0.6999257264549761,
          0
         ],
         "xaxis": "x",
         "y": [
          -1995,
          -1995,
          -2005,
          -2005
         ],
         "yaxis": "y"
        },
        {
         "hoverinfo": "text",
         "marker": {
          "color": "rgb(0,116,217)"
         },
         "mode": "lines",
         "text": [
          "volatility_lady_war_market_gentleman",
          "",
          "",
          "q2_q3_q1_q4_qsr"
         ],
         "type": "scatter",
         "x": [
          1.0515107836461473,
          1.1535555062138136,
          1.1535555062138136,
          0.6999257264549761
         ],
         "xaxis": "x",
         "y": [
          -1960,
          -1960,
          -2000,
          -2000
         ],
         "yaxis": "y"
        },
        {
         "hoverinfo": "text",
         "marker": {
          "color": "rgb(0,116,217)"
         },
         "mode": "lines",
         "text": [
          "invade_invasion_troops_february_campaign",
          "",
          "",
          "volatility_lady_war_market_gentleman"
         ],
         "type": "scatter",
         "x": [
          1.051684784140136,
          1.185495074504165,
          1.185495074504165,
          1.1535555062138136
         ],
         "xaxis": "x",
         "y": [
          -1901.25,
          -1901.25,
          -1980,
          -1980
         ],
         "yaxis": "y"
        },
        {
         "hoverinfo": "text",
         "marker": {
          "color": "rgb(35,205,205)"
         },
         "mode": "lines",
         "text": [
          "business_develop_strategic_development_macroeconomic",
          "",
          "",
          "development_capability_work_guidance_briefly"
         ],
         "type": "scatter",
         "x": [
          0,
          0.8701180503600817,
          0.8701180503600817,
          0
         ],
         "xaxis": "x",
         "y": [
          -2015,
          -2015,
          -2025,
          -2025
         ],
         "yaxis": "y"
        },
        {
         "hoverinfo": "text",
         "marker": {
          "color": "rgb(133,20,75)"
         },
         "mode": "lines",
         "text": [
          "country_number_australia_region_loss",
          "",
          "",
          "number_mathematical_calculation_result_combination"
         ],
         "type": "scatter",
         "x": [
          0,
          0.9039995880084142,
          0.9039995880084142,
          0
         ],
         "xaxis": "x",
         "y": [
          -2045,
          -2045,
          -2055,
          -2055
         ],
         "yaxis": "y"
        },
        {
         "hoverinfo": "text",
         "marker": {
          "color": "rgb(133,20,75)"
         },
         "mode": "lines",
         "text": [
          "touch_hand_situation_let_sensitivity",
          "",
          "",
          "number_mathematical_calculation_count_combination"
         ],
         "type": "scatter",
         "x": [
          0,
          0.941080344441754,
          0.941080344441754,
          0.9039995880084142
         ],
         "xaxis": "x",
         "y": [
          -2035,
          -2035,
          -2050,
          -2050
         ],
         "yaxis": "y"
        },
        {
         "hoverinfo": "text",
         "marker": {
          "color": "rgb(0,116,217)"
         },
         "mode": "lines",
         "text": [
          "development_develop_creation_capability_strategic",
          "",
          "",
          "touch_hand_sensitivity_number_feedback"
         ],
         "type": "scatter",
         "x": [
          0.8701180503600817,
          1.008481703661884,
          1.008481703661884,
          0.941080344441754
         ],
         "xaxis": "x",
         "y": [
          -2020,
          -2020,
          -2042.5,
          -2042.5
         ],
         "yaxis": "y"
        },
        {
         "hoverinfo": "text",
         "marker": {
          "color": "rgb(255,220,0)"
         },
         "mode": "lines",
         "text": [
          "exclude_minus_negative_exit_include",
          "",
          "",
          "growth_grow_rate_negligible_production"
         ],
         "type": "scatter",
         "x": [
          0,
          0.8293718742039857,
          0.8293718742039857,
          0
         ],
         "xaxis": "x",
         "y": [
          -2075,
          -2075,
          -2085,
          -2085
         ],
         "yaxis": "y"
        },
        {
         "hoverinfo": "text",
         "marker": {
          "color": "rgb(255,220,0)"
         },
         "mode": "lines",
         "text": [
          "year_january_pariah_nation_past",
          "",
          "",
          "minus_negligible_exclude_negative_growth"
         ],
         "type": "scatter",
         "x": [
          0,
          0.877914710945006,
          0.877914710945006,
          0.8293718742039857
         ],
         "xaxis": "x",
         "y": [
          -2065,
          -2065,
          -2080,
          -2080
         ],
         "yaxis": "y"
        },
        {
         "hoverinfo": "text",
         "marker": {
          "color": "rgb(255,220,0)"
         },
         "mode": "lines",
         "text": [
          "impact_exclude_exit_effect_business",
          "",
          "",
          "guidance_guide_advice_attention_direct"
         ],
         "type": "scatter",
         "x": [
          0,
          0.8658047210681117,
          0.8658047210681117,
          0
         ],
         "xaxis": "x",
         "y": [
          -2095,
          -2095,
          -2105,
          -2105
         ],
         "yaxis": "y"
        },
        {
         "hoverinfo": "text",
         "marker": {
          "color": "rgb(255,220,0)"
         },
         "mode": "lines",
         "text": [
          "minus_negligible_growth_exclude_negative",
          "",
          "",
          "guidance_guide_advice_exclude_include"
         ],
         "type": "scatter",
         "x": [
          0.877914710945006,
          0.998717423899543,
          0.998717423899543,
          0.8658047210681117
         ],
         "xaxis": "x",
         "y": [
          -2072.5,
          -2072.5,
          -2100,
          -2100
         ],
         "yaxis": "y"
        },
        {
         "hoverinfo": "text",
         "marker": {
          "color": "rgb(0,116,217)"
         },
         "mode": "lines",
         "text": [
          "touch_hand_sensitivity_number_david",
          "",
          "",
          "guidance_guide_growth_advice_rate"
         ],
         "type": "scatter",
         "x": [
          1.008481703661884,
          1.1052733679402982,
          1.1052733679402982,
          0.998717423899543
         ],
         "xaxis": "x",
         "y": [
          -2031.25,
          -2031.25,
          -2086.25,
          -2086.25
         ],
         "yaxis": "y"
        },
        {
         "hoverinfo": "text",
         "marker": {
          "color": "rgb(40,35,35)"
         },
         "mode": "lines",
         "text": [
          "war_think_say_inform_alert",
          "",
          "",
          "happen_go_know_come_wait"
         ],
         "type": "scatter",
         "x": [
          0,
          0.7347993192653395,
          0.7347993192653395,
          0
         ],
         "xaxis": "x",
         "y": [
          -2115,
          -2115,
          -2125,
          -2125
         ],
         "yaxis": "y"
        },
        {
         "hoverinfo": "text",
         "marker": {
          "color": "rgb(40,35,35)"
         },
         "mode": "lines",
         "text": [
          "happen_go_know_come_wait",
          "",
          "",
          "war_go_strike_say_know"
         ],
         "type": "scatter",
         "x": [
          0.7347993192653395,
          0.842052688023261,
          0.842052688023261,
          0
         ],
         "xaxis": "x",
         "y": [
          -2120,
          -2120,
          -2135,
          -2135
         ],
         "yaxis": "y"
        },
        {
         "hoverinfo": "text",
         "marker": {
          "color": "rgb(0,116,217)"
         },
         "mode": "lines",
         "text": [
          "number_touch_hand_bit_david",
          "",
          "",
          "happen_go_know_come_gofore"
         ],
         "type": "scatter",
         "x": [
          1.1052733679402982,
          1.23536970912138,
          1.23536970912138,
          0.842052688023261
         ],
         "xaxis": "x",
         "y": [
          -2058.75,
          -2058.75,
          -2127.5,
          -2127.5
         ],
         "yaxis": "y"
        },
        {
         "hoverinfo": "text",
         "marker": {
          "color": "rgb(61,153,112)"
         },
         "mode": "lines",
         "text": [
          "quarter_war_military_coinciding_halve",
          "",
          "",
          "quarter_impact_minute_rounding_effect"
         ],
         "type": "scatter",
         "x": [
          0,
          0.7347466598419305,
          0.7347466598419305,
          0
         ],
         "xaxis": "x",
         "y": [
          -2145,
          -2145,
          -2155,
          -2155
         ],
         "yaxis": "y"
        },
        {
         "hoverinfo": "text",
         "marker": {
          "color": "rgb(61,153,112)"
         },
         "mode": "lines",
         "text": [
          "invasion_invade_quarter_impact_briefly",
          "",
          "",
          "situation_brief_briefly_let_address"
         ],
         "type": "scatter",
         "x": [
          0,
          0.7928196743945667,
          0.7928196743945667,
          0
         ],
         "xaxis": "x",
         "y": [
          -2165,
          -2165,
          -2175,
          -2175
         ],
         "yaxis": "y"
        },
        {
         "hoverinfo": "text",
         "marker": {
          "color": "rgb(61,153,112)"
         },
         "mode": "lines",
         "text": [
          "quarter_impact_minute_rounding_war",
          "",
          "",
          "briefly_situation_brief_address_let"
         ],
         "type": "scatter",
         "x": [
          0.7347466598419305,
          0.9798597687632367,
          0.9798597687632367,
          0.7928196743945667
         ],
         "xaxis": "x",
         "y": [
          -2150,
          -2150,
          -2170,
          -2170
         ],
         "yaxis": "y"
        },
        {
         "hoverinfo": "text",
         "marker": {
          "color": "rgb(255,65,54)"
         },
         "mode": "lines",
         "text": [
          "war_comment_commenting_discuss_think",
          "",
          "",
          "comment_commenting_situation_insight_like"
         ],
         "type": "scatter",
         "x": [
          0,
          0.5549532346559508,
          0.5549532346559508,
          0
         ],
         "xaxis": "x",
         "y": [
          -2185,
          -2185,
          -2195,
          -2195
         ],
         "yaxis": "y"
        },
        {
         "hoverinfo": "text",
         "marker": {
          "color": "rgb(0,116,217)"
         },
         "mode": "lines",
         "text": [
          "quarter_briefly_brief_situation_invasion",
          "",
          "",
          "commenting_comment_war_discuss_like"
         ],
         "type": "scatter",
         "x": [
          0.9798597687632367,
          1.0965299519887548,
          1.0965299519887548,
          0.5549532346559508
         ],
         "xaxis": "x",
         "y": [
          -2160,
          -2160,
          -2190,
          -2190
         ],
         "yaxis": "y"
        },
        {
         "hoverinfo": "text",
         "marker": {
          "color": "rgb(0,116,217)"
         },
         "mode": "lines",
         "text": [
          "go_happen_gofore_know_come",
          "",
          "",
          "situation_briefly_let_commenting_war"
         ],
         "type": "scatter",
         "x": [
          1.23536970912138,
          1.2555926770961605,
          1.2555926770961605,
          1.0965299519887548
         ],
         "xaxis": "x",
         "y": [
          -2093.125,
          -2093.125,
          -2175,
          -2175
         ],
         "yaxis": "y"
        },
        {
         "hoverinfo": "text",
         "marker": {
          "color": "rgb(0,116,217)"
         },
         "mode": "lines",
         "text": [
          "invasion_invade_war_intensified_launch",
          "",
          "",
          "briefly_development_situation_beginning_touch"
         ],
         "type": "scatter",
         "x": [
          1.185495074504165,
          1.3523484151613139,
          1.3523484151613139,
          1.2555926770961605
         ],
         "xaxis": "x",
         "y": [
          -1940.625,
          -1940.625,
          -2134.0625,
          -2134.0625
         ],
         "yaxis": "y"
        },
        {
         "hoverinfo": "text",
         "marker": {
          "color": "rgb(35,205,205)"
         },
         "mode": "lines",
         "text": [
          "question_answer_problem_issue_yes",
          "",
          "",
          "think_thought_question_ask_answer"
         ],
         "type": "scatter",
         "x": [
          0,
          0.6156669207526523,
          0.6156669207526523,
          0
         ],
         "xaxis": "x",
         "y": [
          -2215,
          -2215,
          -2225,
          -2225
         ],
         "yaxis": "y"
        },
        {
         "hoverinfo": "text",
         "marker": {
          "color": "rgb(35,205,205)"
         },
         "mode": "lines",
         "text": [
          "come_way_go_let_new",
          "",
          "",
          "question_think_thought_answer_ask"
         ],
         "type": "scatter",
         "x": [
          0,
          0.8861345775871041,
          0.8861345775871041,
          0.6156669207526523
         ],
         "xaxis": "x",
         "y": [
          -2205,
          -2205,
          -2220,
          -2220
         ],
         "yaxis": "y"
        },
        {
         "hoverinfo": "text",
         "marker": {
          "color": "rgb(61,153,112)"
         },
         "mode": "lines",
         "text": [
          "start_starting_begin_beginning_want",
          "",
          "",
          "war_start_begin_name_action"
         ],
         "type": "scatter",
         "x": [
          0,
          0.6408612968423788,
          0.6408612968423788,
          0
         ],
         "xaxis": "x",
         "y": [
          -2235,
          -2235,
          -2245,
          -2245
         ],
         "yaxis": "y"
        },
        {
         "hoverinfo": "text",
         "marker": {
          "color": "rgb(61,153,112)"
         },
         "mode": "lines",
         "text": [
          "start_starting_begin_beginning_want",
          "",
          "",
          "supply_supplies_sell_receive_need"
         ],
         "type": "scatter",
         "x": [
          0.6408612968423788,
          0.9532999152934263,
          0.9532999152934263,
          0
         ],
         "xaxis": "x",
         "y": [
          -2240,
          -2240,
          -2255,
          -2255
         ],
         "yaxis": "y"
        },
        {
         "hoverinfo": "text",
         "marker": {
          "color": "rgb(0,116,217)"
         },
         "mode": "lines",
         "text": [
          "question_think_come_thought_answer",
          "",
          "",
          "start_starting_begin_beginning_sell"
         ],
         "type": "scatter",
         "x": [
          0.8861345775871041,
          1.1119022009757944,
          1.1119022009757944,
          0.9532999152934263
         ],
         "xaxis": "x",
         "y": [
          -2212.5,
          -2212.5,
          -2247.5,
          -2247.5
         ],
         "yaxis": "y"
        },
        {
         "hoverinfo": "text",
         "marker": {
          "color": "rgb(0,116,217)"
         },
         "mode": "lines",
         "text": [
          "invasion_invade_war_february_march",
          "",
          "",
          "think_question_thought_ask_begin"
         ],
         "type": "scatter",
         "x": [
          1.3523484151613139,
          1.3767223897284582,
          1.3767223897284582,
          1.1119022009757944
         ],
         "xaxis": "x",
         "y": [
          -2037.34375,
          -2037.34375,
          -2230,
          -2230
         ],
         "yaxis": "y"
        },
        {
         "hoverinfo": "text",
         "marker": {
          "color": "rgb(0,116,217)"
         },
         "mode": "lines",
         "text": [
          "europe_eu_geopolitical_european_economic",
          "",
          "",
          "invasion_invade_war_year_march"
         ],
         "type": "scatter",
         "x": [
          1.34307196138327,
          1.5248359284185988,
          1.5248359284185988,
          1.3767223897284582
         ],
         "xaxis": "x",
         "y": [
          -1698.0859375,
          -1698.0859375,
          -2133.671875,
          -2133.671875
         ],
         "yaxis": "y"
        },
        {
         "hoverinfo": "text",
         "marker": {
          "color": "rgb(255,65,54)"
         },
         "mode": "lines",
         "text": [
          "slide_exposure_show_detail_current",
          "",
          "",
          "slide_presentation_pull_effect_subsequent"
         ],
         "type": "scatter",
         "x": [
          0,
          0.2942578257722638,
          0.2942578257722638,
          0
         ],
         "xaxis": "x",
         "y": [
          -2265,
          -2265,
          -2275,
          -2275
         ],
         "yaxis": "y"
        },
        {
         "hoverinfo": "text",
         "marker": {
          "color": "rgb(35,205,205)"
         },
         "mode": "lines",
         "text": [
          "bulgaria_romania_international_slovenia_albania",
          "",
          "",
          "romania_romanian_facility_produce_production"
         ],
         "type": "scatter",
         "x": [
          0,
          0.568418486673737,
          0.568418486673737,
          0
         ],
         "xaxis": "x",
         "y": [
          -2295,
          -2295,
          -2305,
          -2305
         ],
         "yaxis": "y"
        },
        {
         "hoverinfo": "text",
         "marker": {
          "color": "rgb(35,205,205)"
         },
         "mode": "lines",
         "text": [
          "poland_gdansk_polish_krakow_hungary",
          "",
          "",
          "romania_romanian_bulgaria_international_moldova"
         ],
         "type": "scatter",
         "x": [
          0,
          0.7810326200325148,
          0.7810326200325148,
          0.568418486673737
         ],
         "xaxis": "x",
         "y": [
          -2285,
          -2285,
          -2300,
          -2300
         ],
         "yaxis": "y"
        },
        {
         "hoverinfo": "text",
         "marker": {
          "color": "rgb(0,116,217)"
         },
         "mode": "lines",
         "text": [
          "slide_presentation_pull_subsequent_flow",
          "",
          "",
          "poland_romania_hungary_slovakia_gdansk"
         ],
         "type": "scatter",
         "x": [
          0.2942578257722638,
          1.3451760164004563,
          1.3451760164004563,
          0.7810326200325148
         ],
         "xaxis": "x",
         "y": [
          -2270,
          -2270,
          -2292.5,
          -2292.5
         ],
         "yaxis": "y"
        },
        {
         "hoverinfo": "text",
         "marker": {
          "color": "rgb(133,20,75)"
         },
         "mode": "lines",
         "text": [
          "impact_sale_buy_total_transaction",
          "",
          "",
          "sale_sell_buy_buyout_total"
         ],
         "type": "scatter",
         "x": [
          0,
          0.7318721938732987,
          0.7318721938732987,
          0
         ],
         "xaxis": "x",
         "y": [
          -2325,
          -2325,
          -2335,
          -2335
         ],
         "yaxis": "y"
        },
        {
         "hoverinfo": "text",
         "marker": {
          "color": "rgb(133,20,75)"
         },
         "mode": "lines",
         "text": [
          "sale_sell_buy_buyout_total",
          "",
          "",
          "sale_sell_wholesale_business_company"
         ],
         "type": "scatter",
         "x": [
          0.7318721938732987,
          0.8503352113836251,
          0.8503352113836251,
          0
         ],
         "xaxis": "x",
         "y": [
          -2330,
          -2330,
          -2345,
          -2345
         ],
         "yaxis": "y"
        },
        {
         "hoverinfo": "text",
         "marker": {
          "color": "rgb(133,20,75)"
         },
         "mode": "lines",
         "text": [
          "buy_purchase_sell_buyer_sale",
          "",
          "",
          "sale_sell_buy_buyout_total"
         ],
         "type": "scatter",
         "x": [
          0,
          0.880552364041104,
          0.880552364041104,
          0.8503352113836251
         ],
         "xaxis": "x",
         "y": [
          -2315,
          -2315,
          -2337.5,
          -2337.5
         ],
         "yaxis": "y"
        },
        {
         "hoverinfo": "text",
         "marker": {
          "color": "rgb(255,220,0)"
         },
         "mode": "lines",
         "text": [
          "turkish_turkey_sale_revenue_pricing",
          "",
          "",
          "turkey_turkish_istanbul_meat_cook"
         ],
         "type": "scatter",
         "x": [
          0,
          0.509603492688742,
          0.509603492688742,
          0
         ],
         "xaxis": "x",
         "y": [
          -2355,
          -2355,
          -2365,
          -2365
         ],
         "yaxis": "y"
        },
        {
         "hoverinfo": "text",
         "marker": {
          "color": "rgb(0,116,217)"
         },
         "mode": "lines",
         "text": [
          "sale_sell_purchase_buy_auction",
          "",
          "",
          "turkey_turkish_istanbul_osman_azerbaijan"
         ],
         "type": "scatter",
         "x": [
          0.880552364041104,
          1.26682619097218,
          1.26682619097218,
          0.509603492688742
         ],
         "xaxis": "x",
         "y": [
          -2326.25,
          -2326.25,
          -2360,
          -2360
         ],
         "yaxis": "y"
        },
        {
         "hoverinfo": "text",
         "marker": {
          "color": "rgb(40,35,35)"
         },
         "mode": "lines",
         "text": [
          "turnover_drop_business_percentage_mention",
          "",
          "",
          "freight_rail_turnover_railroad_railcar"
         ],
         "type": "scatter",
         "x": [
          0,
          0.5279666870501634,
          0.5279666870501634,
          0
         ],
         "xaxis": "x",
         "y": [
          -2375,
          -2375,
          -2385,
          -2385
         ],
         "yaxis": "y"
        },
        {
         "hoverinfo": "text",
         "marker": {
          "color": "rgb(61,153,112)"
         },
         "mode": "lines",
         "text": [
          "airspace_closure_overflight_interfere_flight",
          "",
          "",
          "flight_fly_airplane_plane_aviation"
         ],
         "type": "scatter",
         "x": [
          0,
          0.751050869759387,
          0.751050869759387,
          0
         ],
         "xaxis": "x",
         "y": [
          -2405,
          -2405,
          -2415,
          -2415
         ],
         "yaxis": "y"
        },
        {
         "hoverinfo": "text",
         "marker": {
          "color": "rgb(61,153,112)"
         },
         "mode": "lines",
         "text": [
          "traffic_road_passenger_trend_impact",
          "",
          "",
          "airspace_closure_overflight_interfere_airline"
         ],
         "type": "scatter",
         "x": [
          0,
          0.9745564987602134,
          0.9745564987602134,
          0.751050869759387
         ],
         "xaxis": "x",
         "y": [
          -2395,
          -2395,
          -2410,
          -2410
         ],
         "yaxis": "y"
        },
        {
         "hoverinfo": "text",
         "marker": {
          "color": "rgb(255,65,54)"
         },
         "mode": "lines",
         "text": [
          "flight_inflation_inflationary_covid_disruption",
          "",
          "",
          "disruption_disrupt_impact_scenario_conflict"
         ],
         "type": "scatter",
         "x": [
          0,
          0.8781663330966286,
          0.8781663330966286,
          0
         ],
         "xaxis": "x",
         "y": [
          -2425,
          -2425,
          -2435,
          -2435
         ],
         "yaxis": "y"
        },
        {
         "hoverinfo": "text",
         "marker": {
          "color": "rgb(0,116,217)"
         },
         "mode": "lines",
         "text": [
          "airspace_closure_overflight_interfere_airline",
          "",
          "",
          "flight_inflation_inflationary_covid_disruption"
         ],
         "type": "scatter",
         "x": [
          0.9745564987602134,
          1.0274670245122717,
          1.0274670245122717,
          0.8781663330966286
         ],
         "xaxis": "x",
         "y": [
          -2402.5,
          -2402.5,
          -2430,
          -2430
         ],
         "yaxis": "y"
        },
        {
         "hoverinfo": "text",
         "marker": {
          "color": "rgb(35,205,205)"
         },
         "mode": "lines",
         "text": [
          "nato_allied_alliance_ally_military",
          "",
          "",
          "defence_defense_militarization_dod_threat"
         ],
         "type": "scatter",
         "x": [
          0,
          0.7211745659519706,
          0.7211745659519706,
          0
         ],
         "xaxis": "x",
         "y": [
          -2445,
          -2445,
          -2455,
          -2455
         ],
         "yaxis": "y"
        },
        {
         "hoverinfo": "text",
         "marker": {
          "color": "rgb(61,153,112)"
         },
         "mode": "lines",
         "text": [
          "cybersecurity_cyberwarfare_cybercrime_cyberattack_cyber",
          "",
          "",
          "attack_threat_shocked_impact_affect"
         ],
         "type": "scatter",
         "x": [
          0,
          0.8300917139251572,
          0.8300917139251572,
          0
         ],
         "xaxis": "x",
         "y": [
          -2465,
          -2465,
          -2475,
          -2475
         ],
         "yaxis": "y"
        },
        {
         "hoverinfo": "text",
         "marker": {
          "color": "rgb(255,65,54)"
         },
         "mode": "lines",
         "text": [
          "missile_artillery_javelin_tactical_reconnaissance",
          "",
          "",
          "drone_unmanned_uavs_aerial_fly"
         ],
         "type": "scatter",
         "x": [
          0,
          0.8998287644435062,
          0.8998287644435062,
          0
         ],
         "xaxis": "x",
         "y": [
          -2485,
          -2485,
          -2495,
          -2495
         ],
         "yaxis": "y"
        },
        {
         "hoverinfo": "text",
         "marker": {
          "color": "rgb(0,116,217)"
         },
         "mode": "lines",
         "text": [
          "cybersecurity_cyberwarfare_cyberattack_cybercrime_cyber",
          "",
          "",
          "drone_unmanned_aerial_helicopter_deploy"
         ],
         "type": "scatter",
         "x": [
          0.8300917139251572,
          1.0370683259314981,
          1.0370683259314981,
          0.8998287644435062
         ],
         "xaxis": "x",
         "y": [
          -2470,
          -2470,
          -2490,
          -2490
         ],
         "yaxis": "y"
        },
        {
         "hoverinfo": "text",
         "marker": {
          "color": "rgb(0,116,217)"
         },
         "mode": "lines",
         "text": [
          "defence_defense_militarization_nato_dod",
          "",
          "",
          "cybersecurity_cyberattack_cybercrime_cyber_threat"
         ],
         "type": "scatter",
         "x": [
          0.7211745659519706,
          1.0925581524232217,
          1.0925581524232217,
          1.0370683259314981
         ],
         "xaxis": "x",
         "y": [
          -2450,
          -2450,
          -2480,
          -2480
         ],
         "yaxis": "y"
        },
        {
         "hoverinfo": "text",
         "marker": {
          "color": "rgb(0,116,217)"
         },
         "mode": "lines",
         "text": [
          "airspace_closure_overflight_flight_airline",
          "",
          "",
          "cybersecurity_threat_cyberattack_warfare_security"
         ],
         "type": "scatter",
         "x": [
          1.0274670245122717,
          1.2282223306912157,
          1.2282223306912157,
          1.0925581524232217
         ],
         "xaxis": "x",
         "y": [
          -2416.25,
          -2416.25,
          -2465,
          -2465
         ],
         "yaxis": "y"
        },
        {
         "hoverinfo": "text",
         "marker": {
          "color": "rgb(35,205,205)"
         },
         "mode": "lines",
         "text": [
          "facility_locate_city_center_lab",
          "",
          "",
          "factory_manufacturing_manufacture_production_manufacturer"
         ],
         "type": "scatter",
         "x": [
          0,
          0.6867250671773677,
          0.6867250671773677,
          0
         ],
         "xaxis": "x",
         "y": [
          -2505,
          -2505,
          -2515,
          -2515
         ],
         "yaxis": "y"
        },
        {
         "hoverinfo": "text",
         "marker": {
          "color": "rgb(133,20,75)"
         },
         "mode": "lines",
         "text": [
          "stand_support_turn_continue_basis",
          "",
          "",
          "solidarity_people_group_society_support"
         ],
         "type": "scatter",
         "x": [
          0,
          0.8643439691941933,
          0.8643439691941933,
          0
         ],
         "xaxis": "x",
         "y": [
          -2525,
          -2525,
          -2535,
          -2535
         ],
         "yaxis": "y"
        },
        {
         "hoverinfo": "text",
         "marker": {
          "color": "rgb(133,20,75)"
         },
         "mode": "lines",
         "text": [
          "stand_support_solidarity_group_continue",
          "",
          "",
          "team_leadership_outstanding_united_job"
         ],
         "type": "scatter",
         "x": [
          0.8643439691941933,
          0.9575420305969758,
          0.9575420305969758,
          0
         ],
         "xaxis": "x",
         "y": [
          -2530,
          -2530,
          -2545,
          -2545
         ],
         "yaxis": "y"
        },
        {
         "hoverinfo": "text",
         "marker": {
          "color": "rgb(255,220,0)"
         },
         "mode": "lines",
         "text": [
          "kyivstar_kyiv_provider_ukrainian_service",
          "",
          "",
          "customer_consumer_employee_salespeople_company"
         ],
         "type": "scatter",
         "x": [
          0,
          0.911274084340828,
          0.911274084340828,
          0
         ],
         "xaxis": "x",
         "y": [
          -2555,
          -2555,
          -2565,
          -2565
         ],
         "yaxis": "y"
        },
        {
         "hoverinfo": "text",
         "marker": {
          "color": "rgb(255,220,0)"
         },
         "mode": "lines",
         "text": [
          "developer_development_engineer_company_talent",
          "",
          "",
          "rebuild_reconstruction_redevelopment_restoration_eventually"
         ],
         "type": "scatter",
         "x": [
          0,
          0.8736731438599317,
          0.8736731438599317,
          0
         ],
         "xaxis": "x",
         "y": [
          -2575,
          -2575,
          -2585,
          -2585
         ],
         "yaxis": "y"
        },
        {
         "hoverinfo": "text",
         "marker": {
          "color": "rgb(255,220,0)"
         },
         "mode": "lines",
         "text": [
          "customer_service_company_salespeople_contract",
          "",
          "",
          "rebuild_reconstruction_redevelopment_restoration_strengthen"
         ],
         "type": "scatter",
         "x": [
          0.911274084340828,
          0.9788820665985273,
          0.9788820665985273,
          0.8736731438599317
         ],
         "xaxis": "x",
         "y": [
          -2560,
          -2560,
          -2580,
          -2580
         ],
         "yaxis": "y"
        },
        {
         "hoverinfo": "text",
         "marker": {
          "color": "rgb(0,116,217)"
         },
         "mode": "lines",
         "text": [
          "stand_support_people_solidarity_base",
          "",
          "",
          "customer_service_company_salespeople_contract"
         ],
         "type": "scatter",
         "x": [
          0.9575420305969758,
          1.0650105074979312,
          1.0650105074979312,
          0.9788820665985273
         ],
         "xaxis": "x",
         "y": [
          -2537.5,
          -2537.5,
          -2570,
          -2570
         ],
         "yaxis": "y"
        },
        {
         "hoverinfo": "text",
         "marker": {
          "color": "rgb(40,35,35)"
         },
         "mode": "lines",
         "text": [
          "project_build_building_develop_rebuild",
          "",
          "",
          "exposure_gtt_provisioned_impact_update"
         ],
         "type": "scatter",
         "x": [
          0,
          0.8626724295470629,
          0.8626724295470629,
          0
         ],
         "xaxis": "x",
         "y": [
          -2605,
          -2605,
          -2615,
          -2615
         ],
         "yaxis": "y"
        },
        {
         "hoverinfo": "text",
         "marker": {
          "color": "rgb(40,35,35)"
         },
         "mode": "lines",
         "text": [
          "backlog_log_amount_prediction_roughly",
          "",
          "",
          "project_gtt_exposure_build_ongoing"
         ],
         "type": "scatter",
         "x": [
          0,
          0.9368341054005237,
          0.9368341054005237,
          0.8626724295470629
         ],
         "xaxis": "x",
         "y": [
          -2595,
          -2595,
          -2610,
          -2610
         ],
         "yaxis": "y"
        },
        {
         "hoverinfo": "text",
         "marker": {
          "color": "rgb(61,153,112)"
         },
         "mode": "lines",
         "text": [
          "update_operational_operation_activity_recent",
          "",
          "",
          "review_rerating_assess_guidance_follow"
         ],
         "type": "scatter",
         "x": [
          0,
          0.7924024965658946,
          0.7924024965658946,
          0
         ],
         "xaxis": "x",
         "y": [
          -2635,
          -2635,
          -2645,
          -2645
         ],
         "yaxis": "y"
        },
        {
         "hoverinfo": "text",
         "marker": {
          "color": "rgb(61,153,112)"
         },
         "mode": "lines",
         "text": [
          "turn_let_flip_pull_roll",
          "",
          "",
          "update_operation_operational_activity_announce"
         ],
         "type": "scatter",
         "x": [
          0,
          0.9563091985264258,
          0.9563091985264258,
          0.7924024965658946
         ],
         "xaxis": "x",
         "y": [
          -2625,
          -2625,
          -2640,
          -2640
         ],
         "yaxis": "y"
        },
        {
         "hoverinfo": "text",
         "marker": {
          "color": "rgb(255,65,54)"
         },
         "mode": "lines",
         "text": [
          "trauma_injury_patient_hemodialysis_treatment",
          "",
          "",
          "highlight_address_cover_event_specifically"
         ],
         "type": "scatter",
         "x": [
          0,
          0.8949641866582511,
          0.8949641866582511,
          0
         ],
         "xaxis": "x",
         "y": [
          -2655,
          -2655,
          -2665,
          -2665
         ],
         "yaxis": "y"
        },
        {
         "hoverinfo": "text",
         "marker": {
          "color": "rgb(35,205,205)"
         },
         "mode": "lines",
         "text": [
          "presence_effect_passage_self_contain",
          "",
          "",
          "moscow_petersburg_st_facility_saint"
         ],
         "type": "scatter",
         "x": [
          0,
          0.9387074348044554,
          0.9387074348044554,
          0
         ],
         "xaxis": "x",
         "y": [
          -2675,
          -2675,
          -2685,
          -2685
         ],
         "yaxis": "y"
        },
        {
         "hoverinfo": "text",
         "marker": {
          "color": "rgb(0,116,217)"
         },
         "mode": "lines",
         "text": [
          "trauma_injury_patient_hemodialysis_treatment",
          "",
          "",
          "presence_facility_destination_location_regard"
         ],
         "type": "scatter",
         "x": [
          0.8949641866582511,
          1.0407724458381558,
          1.0407724458381558,
          0.9387074348044554
         ],
         "xaxis": "x",
         "y": [
          -2660,
          -2660,
          -2680,
          -2680
         ],
         "yaxis": "y"
        },
        {
         "hoverinfo": "text",
         "marker": {
          "color": "rgb(0,116,217)"
         },
         "mode": "lines",
         "text": [
          "update_operation_operational_activity_business",
          "",
          "",
          "presence_patient_injure_trauma_hemodialysis"
         ],
         "type": "scatter",
         "x": [
          0.9563091985264258,
          1.0828104238573928,
          1.0828104238573928,
          1.0407724458381558
         ],
         "xaxis": "x",
         "y": [
          -2632.5,
          -2632.5,
          -2670,
          -2670
         ],
         "yaxis": "y"
        },
        {
         "hoverinfo": "text",
         "marker": {
          "color": "rgb(0,116,217)"
         },
         "mode": "lines",
         "text": [
          "backlog_forward_amount_prediction_roughly",
          "",
          "",
          "presence_patient_conduct_operational_activity"
         ],
         "type": "scatter",
         "x": [
          0.9368341054005237,
          1.1230359858886254,
          1.1230359858886254,
          1.0828104238573928
         ],
         "xaxis": "x",
         "y": [
          -2602.5,
          -2602.5,
          -2651.25,
          -2651.25
         ],
         "yaxis": "y"
        },
        {
         "hoverinfo": "text",
         "marker": {
          "color": "rgb(61,153,112)"
         },
         "mode": "lines",
         "text": [
          "trial_clinical_patient_treatment_medical",
          "",
          "",
          "drug_medication_medicine_insulin_patient"
         ],
         "type": "scatter",
         "x": [
          0,
          0.7872874127988202,
          0.7872874127988202,
          0
         ],
         "xaxis": "x",
         "y": [
          -2695,
          -2695,
          -2705,
          -2705
         ],
         "yaxis": "y"
        },
        {
         "hoverinfo": "text",
         "marker": {
          "color": "rgb(61,153,112)"
         },
         "mode": "lines",
         "text": [
          "clinical_trial_patient_medical_treatment",
          "",
          "",
          "vaccine_vaccination_vaccinate_smallpox_viral"
         ],
         "type": "scatter",
         "x": [
          0.7872874127988202,
          0.98186614611122,
          0.98186614611122,
          0
         ],
         "xaxis": "x",
         "y": [
          -2700,
          -2700,
          -2715,
          -2715
         ],
         "yaxis": "y"
        },
        {
         "hoverinfo": "text",
         "marker": {
          "color": "rgb(0,116,217)"
         },
         "mode": "lines",
         "text": [
          "backlog_amount_rumor_project_detail",
          "",
          "",
          "trial_clinical_patient_enrollment_medical"
         ],
         "type": "scatter",
         "x": [
          1.1230359858886254,
          1.1623434319019252,
          1.1623434319019252,
          0.98186614611122
         ],
         "xaxis": "x",
         "y": [
          -2626.875,
          -2626.875,
          -2707.5,
          -2707.5
         ],
         "yaxis": "y"
        },
        {
         "hoverinfo": "text",
         "marker": {
          "color": "rgb(0,116,217)"
         },
         "mode": "lines",
         "text": [
          "stand_customer_people_support_employee",
          "",
          "",
          "patient_clinical_medicine_treatment_dr"
         ],
         "type": "scatter",
         "x": [
          1.0650105074979312,
          1.1920347555691702,
          1.1920347555691702,
          1.1623434319019252
         ],
         "xaxis": "x",
         "y": [
          -2553.75,
          -2553.75,
          -2667.1875,
          -2667.1875
         ],
         "yaxis": "y"
        },
        {
         "hoverinfo": "text",
         "marker": {
          "color": "rgb(0,116,217)"
         },
         "mode": "lines",
         "text": [
          "facility_manufacturing_production_manufacture_factory",
          "",
          "",
          "patient_clinical_medical_medicine_treatment"
         ],
         "type": "scatter",
         "x": [
          0.6867250671773677,
          1.204416446505243,
          1.204416446505243,
          1.1920347555691702
         ],
         "xaxis": "x",
         "y": [
          -2510,
          -2510,
          -2610.46875,
          -2610.46875
         ],
         "yaxis": "y"
        },
        {
         "hoverinfo": "text",
         "marker": {
          "color": "rgb(255,65,54)"
         },
         "mode": "lines",
         "text": [
          "wintershall_dea_facility_production_winter",
          "",
          "",
          "dividend_shareholding_divide_earnings_shareholder"
         ],
         "type": "scatter",
         "x": [
          0,
          0.9311229853131034,
          0.9311229853131034,
          0
         ],
         "xaxis": "x",
         "y": [
          -2725,
          -2725,
          -2735,
          -2735
         ],
         "yaxis": "y"
        },
        {
         "hoverinfo": "text",
         "marker": {
          "color": "rgb(35,205,205)"
         },
         "mode": "lines",
         "text": [
          "macro_recession_debt_inflation_inflationary",
          "",
          "",
          "debt_repay_loans_leverage_finance"
         ],
         "type": "scatter",
         "x": [
          0,
          0.8760095506130651,
          0.8760095506130651,
          0
         ],
         "xaxis": "x",
         "y": [
          -2745,
          -2745,
          -2755,
          -2755
         ],
         "yaxis": "y"
        },
        {
         "hoverinfo": "text",
         "marker": {
          "color": "rgb(133,20,75)"
         },
         "mode": "lines",
         "text": [
          "bond_treasury_rbi_sovereign_bailout",
          "",
          "",
          "ruble_rubel_rub_rub5_rub100"
         ],
         "type": "scatter",
         "x": [
          0,
          0.9430183920738584,
          0.9430183920738584,
          0
         ],
         "xaxis": "x",
         "y": [
          -2765,
          -2765,
          -2775,
          -2775
         ],
         "yaxis": "y"
        },
        {
         "hoverinfo": "text",
         "marker": {
          "color": "rgb(133,20,75)"
         },
         "mode": "lines",
         "text": [
          "ruble_rub1_rub_euro_currency",
          "",
          "",
          "balance_sheet_inventory_earnings_asset"
         ],
         "type": "scatter",
         "x": [
          0.9430183920738584,
          0.9774442378879538,
          0.9774442378879538,
          0
         ],
         "xaxis": "x",
         "y": [
          -2770,
          -2770,
          -2785,
          -2785
         ],
         "yaxis": "y"
        },
        {
         "hoverinfo": "text",
         "marker": {
          "color": "rgb(0,116,217)"
         },
         "mode": "lines",
         "text": [
          "debt_repay_leverage_finance_financial",
          "",
          "",
          "ruble_rub1_rub_euro_currency"
         ],
         "type": "scatter",
         "x": [
          0.8760095506130651,
          1.014181973008452,
          1.014181973008452,
          0.9774442378879538
         ],
         "xaxis": "x",
         "y": [
          -2750,
          -2750,
          -2777.5,
          -2777.5
         ],
         "yaxis": "y"
        },
        {
         "hoverinfo": "text",
         "marker": {
          "color": "rgb(0,116,217)"
         },
         "mode": "lines",
         "text": [
          "dividend_divide_earnings_shareholder_repayment",
          "",
          "",
          "ruble_rub1_rub_value_euro"
         ],
         "type": "scatter",
         "x": [
          0.9311229853131034,
          1.0232614378417044,
          1.0232614378417044,
          1.014181973008452
         ],
         "xaxis": "x",
         "y": [
          -2730,
          -2730,
          -2763.75,
          -2763.75
         ],
         "yaxis": "y"
        },
        {
         "hoverinfo": "text",
         "marker": {
          "color": "rgb(255,220,0)"
         },
         "mode": "lines",
         "text": [
          "commodity_market_impacting_impact_pricing",
          "",
          "",
          "gold_sale_sell_silver_buyer"
         ],
         "type": "scatter",
         "x": [
          0,
          0.9104768251658936,
          0.9104768251658936,
          0
         ],
         "xaxis": "x",
         "y": [
          -2795,
          -2795,
          -2805,
          -2805
         ],
         "yaxis": "y"
        },
        {
         "hoverinfo": "text",
         "marker": {
          "color": "rgb(255,220,0)"
         },
         "mode": "lines",
         "text": [
          "kazakhstan_kazakhstanian_kazakh_uzbekistan_mongolian",
          "",
          "",
          "bank_banking_banknote_sberbank_raiffeisenbank"
         ],
         "type": "scatter",
         "x": [
          0,
          0.8838583865718831,
          0.8838583865718831,
          0
         ],
         "xaxis": "x",
         "y": [
          -2815,
          -2815,
          -2825,
          -2825
         ],
         "yaxis": "y"
        },
        {
         "hoverinfo": "text",
         "marker": {
          "color": "rgb(255,220,0)"
         },
         "mode": "lines",
         "text": [
          "gold_commodity_sale_sell_silver",
          "",
          "",
          "bank_banking_sberbank_banknote_raiffeisenbank"
         ],
         "type": "scatter",
         "x": [
          0.9104768251658936,
          0.9899300959287971,
          0.9899300959287971,
          0.8838583865718831
         ],
         "xaxis": "x",
         "y": [
          -2800,
          -2800,
          -2820,
          -2820
         ],
         "yaxis": "y"
        },
        {
         "hoverinfo": "text",
         "marker": {
          "color": "rgb(0,116,217)"
         },
         "mode": "lines",
         "text": [
          "ruble_rub_currency_euro_depreciation",
          "",
          "",
          "bank_banking_banknote_sberbank_financial"
         ],
         "type": "scatter",
         "x": [
          1.0232614378417044,
          1.086414662126892,
          1.086414662126892,
          0.9899300959287971
         ],
         "xaxis": "x",
         "y": [
          -2746.875,
          -2746.875,
          -2810,
          -2810
         ],
         "yaxis": "y"
        },
        {
         "hoverinfo": "text",
         "marker": {
          "color": "rgb(40,35,35)"
         },
         "mode": "lines",
         "text": [
          "outbreak_war_warfare_crisis_conflict",
          "",
          "",
          "advertising_advertiser_market_economic_revenue"
         ],
         "type": "scatter",
         "x": [
          0,
          0.9151354315276918,
          0.9151354315276918,
          0
         ],
         "xaxis": "x",
         "y": [
          -2835,
          -2835,
          -2845,
          -2845
         ],
         "yaxis": "y"
        },
        {
         "hoverinfo": "text",
         "marker": {
          "color": "rgb(40,35,35)"
         },
         "mode": "lines",
         "text": [
          "advertising_advertiser_outbreak_revenue_sector",
          "",
          "",
          "gmv_marketplace_retailer_logistics_retail"
         ],
         "type": "scatter",
         "x": [
          0.9151354315276918,
          0.9734970360816871,
          0.9734970360816871,
          0
         ],
         "xaxis": "x",
         "y": [
          -2840,
          -2840,
          -2855,
          -2855
         ],
         "yaxis": "y"
        },
        {
         "hoverinfo": "text",
         "marker": {
          "color": "rgb(61,153,112)"
         },
         "mode": "lines",
         "text": [
          "poultry_chicken_livestock_meat_production",
          "",
          "",
          "dairy_farm_farming_milk_production"
         ],
         "type": "scatter",
         "x": [
          0,
          0.9410786193797134,
          0.9410786193797134,
          0
         ],
         "xaxis": "x",
         "y": [
          -2875,
          -2875,
          -2885,
          -2885
         ],
         "yaxis": "y"
        },
        {
         "hoverinfo": "text",
         "marker": {
          "color": "rgb(61,153,112)"
         },
         "mode": "lines",
         "text": [
          "respirator_headwind_disposable_exit_falloff",
          "",
          "",
          "poultry_chicken_livestock_meat_production"
         ],
         "type": "scatter",
         "x": [
          0,
          0.9894278773532277,
          0.9894278773532277,
          0.9410786193797134
         ],
         "xaxis": "x",
         "y": [
          -2865,
          -2865,
          -2880,
          -2880
         ],
         "yaxis": "y"
        },
        {
         "hoverinfo": "text",
         "marker": {
          "color": "rgb(255,65,54)"
         },
         "mode": "lines",
         "text": [
          "moment_operation_continue_correction_mean",
          "",
          "",
          "capacity_utilization_limited_limitation_reallocate"
         ],
         "type": "scatter",
         "x": [
          0,
          0.9234805569515826,
          0.9234805569515826,
          0
         ],
         "xaxis": "x",
         "y": [
          -2905,
          -2905,
          -2915,
          -2915
         ],
         "yaxis": "y"
        },
        {
         "hoverinfo": "text",
         "marker": {
          "color": "rgb(255,65,54)"
         },
         "mode": "lines",
         "text": [
          "time_headline_issue_nathalie_limit",
          "",
          "",
          "capacity_utilization_limitation_reallocate_optimize"
         ],
         "type": "scatter",
         "x": [
          0,
          0.9602119674925093,
          0.9602119674925093,
          0.9234805569515826
         ],
         "xaxis": "x",
         "y": [
          -2895,
          -2895,
          -2910,
          -2910
         ],
         "yaxis": "y"
        },
        {
         "hoverinfo": "text",
         "marker": {
          "color": "rgb(35,205,205)"
         },
         "mode": "lines",
         "text": [
          "western_west_market_asset_sell",
          "",
          "",
          "border_country_kazakhstan_kilometer_migrant"
         ],
         "type": "scatter",
         "x": [
          0,
          0.9361628855878447,
          0.9361628855878447,
          0
         ],
         "xaxis": "x",
         "y": [
          -2935,
          -2935,
          -2945,
          -2945
         ],
         "yaxis": "y"
        },
        {
         "hoverinfo": "text",
         "marker": {
          "color": "rgb(35,205,205)"
         },
         "mode": "lines",
         "text": [
          "dislocation_damage_slide_injury_occur",
          "",
          "",
          "western_west_market_mind_border"
         ],
         "type": "scatter",
         "x": [
          0,
          0.9960419200367798,
          0.9960419200367798,
          0.9361628855878447
         ],
         "xaxis": "x",
         "y": [
          -2925,
          -2925,
          -2940,
          -2940
         ],
         "yaxis": "y"
        },
        {
         "hoverinfo": "text",
         "marker": {
          "color": "rgb(61,153,112)"
         },
         "mode": "lines",
         "text": [
          "portfolio_asset_company_corporate_portion",
          "",
          "",
          "wind_windstorm_windfall_profitable_business"
         ],
         "type": "scatter",
         "x": [
          0,
          0.9506181332812402,
          0.9506181332812402,
          0
         ],
         "xaxis": "x",
         "y": [
          -2965,
          -2965,
          -2975,
          -2975
         ],
         "yaxis": "y"
        },
        {
         "hoverinfo": "text",
         "marker": {
          "color": "rgb(61,153,112)"
         },
         "mode": "lines",
         "text": [
          "brewery_brew_brewing_beer_brewer",
          "",
          "",
          "wind_windstorm_windfall_profitable_business"
         ],
         "type": "scatter",
         "x": [
          0,
          0.9821974474648374,
          0.9821974474648374,
          0.9506181332812402
         ],
         "xaxis": "x",
         "y": [
          -2955,
          -2955,
          -2970,
          -2970
         ],
         "yaxis": "y"
        },
        {
         "hoverinfo": "text",
         "marker": {
          "color": "rgb(255,65,54)"
         },
         "mode": "lines",
         "text": [
          "plant_planting_produce_production_stock",
          "",
          "",
          "withdraw_withdrawal_abandon_terminate_activity"
         ],
         "type": "scatter",
         "x": [
          0,
          0.975633609450251,
          0.975633609450251,
          0
         ],
         "xaxis": "x",
         "y": [
          -2985,
          -2985,
          -2995,
          -2995
         ],
         "yaxis": "y"
        },
        {
         "hoverinfo": "text",
         "marker": {
          "color": "rgb(0,116,217)"
         },
         "mode": "lines",
         "text": [
          "wind_windstorm_profitable_mining_business",
          "",
          "",
          "withdraw_withdrawal_abandon_terminate_activity"
         ],
         "type": "scatter",
         "x": [
          0.9821974474648374,
          1.00414373575003,
          1.00414373575003,
          0.975633609450251
         ],
         "xaxis": "x",
         "y": [
          -2962.5,
          -2962.5,
          -2990,
          -2990
         ],
         "yaxis": "y"
        },
        {
         "hoverinfo": "text",
         "marker": {
          "color": "rgb(35,205,205)"
         },
         "mode": "lines",
         "text": [
          "capex_capexe_expenditure_budget_investment",
          "",
          "",
          "delay_expect_expectation_status_wait"
         ],
         "type": "scatter",
         "x": [
          0,
          0.9756981196596778,
          0.9756981196596778,
          0
         ],
         "xaxis": "x",
         "y": [
          -3005,
          -3005,
          -3015,
          -3015
         ],
         "yaxis": "y"
        },
        {
         "hoverinfo": "text",
         "marker": {
          "color": "rgb(35,205,205)"
         },
         "mode": "lines",
         "text": [
          "capex_capexe_expenditure_budget_investment",
          "",
          "",
          "diamond_retailer_supply_inventory_demand"
         ],
         "type": "scatter",
         "x": [
          0.9756981196596778,
          0.9970536055528177,
          0.9970536055528177,
          0
         ],
         "xaxis": "x",
         "y": [
          -3010,
          -3010,
          -3025,
          -3025
         ],
         "yaxis": "y"
        },
        {
         "hoverinfo": "text",
         "marker": {
          "color": "rgb(0,116,217)"
         },
         "mode": "lines",
         "text": [
          "wind_windstorm_profitable_cost_business",
          "",
          "",
          "capex_capexe_expenditure_investment_spend"
         ],
         "type": "scatter",
         "x": [
          1.00414373575003,
          1.0163653965032597,
          1.0163653965032597,
          0.9970536055528177
         ],
         "xaxis": "x",
         "y": [
          -2976.25,
          -2976.25,
          -3017.5,
          -3017.5
         ],
         "yaxis": "y"
        },
        {
         "hoverinfo": "text",
         "marker": {
          "color": "rgb(0,116,217)"
         },
         "mode": "lines",
         "text": [
          "dislocation_slide_injury_tragic_fail",
          "",
          "",
          "wind_windstorm_profitable_investment_business"
         ],
         "type": "scatter",
         "x": [
          0.9960419200367798,
          1.027498647338559,
          1.027498647338559,
          1.0163653965032597
         ],
         "xaxis": "x",
         "y": [
          -2932.5,
          -2932.5,
          -2996.875,
          -2996.875
         ],
         "yaxis": "y"
        },
        {
         "hoverinfo": "text",
         "marker": {
          "color": "rgb(0,116,217)"
         },
         "mode": "lines",
         "text": [
          "capacity_utilization_limitation_reallocate_optimize",
          "",
          "",
          "wind_windstorm_investment_profitable_business"
         ],
         "type": "scatter",
         "x": [
          0.9602119674925093,
          1.0335722126274793,
          1.0335722126274793,
          1.027498647338559
         ],
         "xaxis": "x",
         "y": [
          -2902.5,
          -2902.5,
          -2964.6875,
          -2964.6875
         ],
         "yaxis": "y"
        },
        {
         "hoverinfo": "text",
         "marker": {
          "color": "rgb(0,116,217)"
         },
         "mode": "lines",
         "text": [
          "respirator_headwind_disposable_utilization_decline",
          "",
          "",
          "wind_windstorm_investment_business_market"
         ],
         "type": "scatter",
         "x": [
          0.9894278773532277,
          1.0464887282015527,
          1.0464887282015527,
          1.0335722126274793
         ],
         "xaxis": "x",
         "y": [
          -2872.5,
          -2872.5,
          -2933.59375,
          -2933.59375
         ],
         "yaxis": "y"
        },
        {
         "hoverinfo": "text",
         "marker": {
          "color": "rgb(133,20,75)"
         },
         "mode": "lines",
         "text": [
          "capital_capitalized_cap_financing_management",
          "",
          "",
          "oem_aftermarket_business_sale_inventory"
         ],
         "type": "scatter",
         "x": [
          0,
          0.8900757075781605,
          0.8900757075781605,
          0
         ],
         "xaxis": "x",
         "y": [
          -3045,
          -3045,
          -3055,
          -3055
         ],
         "yaxis": "y"
        },
        {
         "hoverinfo": "text",
         "marker": {
          "color": "rgb(133,20,75)"
         },
         "mode": "lines",
         "text": [
          "rwa_exposure_risk_rps_growth",
          "",
          "",
          "capital_capitalized_cap_financing_rebasing"
         ],
         "type": "scatter",
         "x": [
          0,
          0.9811325445606564,
          0.9811325445606564,
          0.8900757075781605
         ],
         "xaxis": "x",
         "y": [
          -3035,
          -3035,
          -3050,
          -3050
         ],
         "yaxis": "y"
        },
        {
         "hoverinfo": "text",
         "marker": {
          "color": "rgb(255,220,0)"
         },
         "mode": "lines",
         "text": [
          "rest_business_corporate_mena_placement",
          "",
          "",
          "regional_region_geographically_subsidiary_india"
         ],
         "type": "scatter",
         "x": [
          0,
          0.9216997041774257,
          0.9216997041774257,
          0
         ],
         "xaxis": "x",
         "y": [
          -3065,
          -3065,
          -3075,
          -3075
         ],
         "yaxis": "y"
        },
        {
         "hoverinfo": "text",
         "marker": {
          "color": "rgb(40,35,35)"
         },
         "mode": "lines",
         "text": [
          "belarus_belarusian_kazakhstan_moldova_sale",
          "",
          "",
          "shipment_shipping_ship_delivery_deliver"
         ],
         "type": "scatter",
         "x": [
          0,
          0.878116750942884,
          0.878116750942884,
          0
         ],
         "xaxis": "x",
         "y": [
          -3085,
          -3085,
          -3095,
          -3095
         ],
         "yaxis": "y"
        },
        {
         "hoverinfo": "text",
         "marker": {
          "color": "rgb(40,35,35)"
         },
         "mode": "lines",
         "text": [
          "belarus_belarusian_kazakhstan_moldova_country",
          "",
          "",
          "intake_order_appetite_production_compensating"
         ],
         "type": "scatter",
         "x": [
          0.878116750942884,
          0.9800911281749521,
          0.9800911281749521,
          0
         ],
         "xaxis": "x",
         "y": [
          -3090,
          -3090,
          -3105,
          -3105
         ],
         "yaxis": "y"
        },
        {
         "hoverinfo": "text",
         "marker": {
          "color": "rgb(0,116,217)"
         },
         "mode": "lines",
         "text": [
          "rest_business_company_entrepreneur_mena",
          "",
          "",
          "belarus_belarusian_kazakhstan_moldova_country"
         ],
         "type": "scatter",
         "x": [
          0.9216997041774257,
          1.0006555002527278,
          1.0006555002527278,
          0.9800911281749521
         ],
         "xaxis": "x",
         "y": [
          -3070,
          -3070,
          -3097.5,
          -3097.5
         ],
         "yaxis": "y"
        },
        {
         "hoverinfo": "text",
         "marker": {
          "color": "rgb(0,116,217)"
         },
         "mode": "lines",
         "text": [
          "rwa_capital_capitalized_management_rebasing",
          "",
          "",
          "belarus_belarusian_kazakhstan_moldova_country"
         ],
         "type": "scatter",
         "x": [
          0.9811325445606564,
          1.046514911779607,
          1.046514911779607,
          1.0006555002527278
         ],
         "xaxis": "x",
         "y": [
          -3042.5,
          -3042.5,
          -3083.75,
          -3083.75
         ],
         "yaxis": "y"
        },
        {
         "hoverinfo": "text",
         "marker": {
          "color": "rgb(0,116,217)"
         },
         "mode": "lines",
         "text": [
          "wind_business_profitable_investment_market",
          "",
          "",
          "belarus_belarusian_kazakhstan_sale_country"
         ],
         "type": "scatter",
         "x": [
          1.0464887282015527,
          1.0643175950890007,
          1.0643175950890007,
          1.046514911779607
         ],
         "xaxis": "x",
         "y": [
          -2903.046875,
          -2903.046875,
          -3063.125,
          -3063.125
         ],
         "yaxis": "y"
        },
        {
         "hoverinfo": "text",
         "marker": {
          "color": "rgb(61,153,112)"
         },
         "mode": "lines",
         "text": [
          "titanium_supplier_supply_aluminum_purchase",
          "",
          "",
          "supplier_vendor_supply_supplies_purchase"
         ],
         "type": "scatter",
         "x": [
          0,
          0.9058485761538253,
          0.9058485761538253,
          0
         ],
         "xaxis": "x",
         "y": [
          -3115,
          -3115,
          -3125,
          -3125
         ],
         "yaxis": "y"
        },
        {
         "hoverinfo": "text",
         "marker": {
          "color": "rgb(255,65,54)"
         },
         "mode": "lines",
         "text": [
          "expose_public_directly_eavesdroppe_business",
          "",
          "",
          "consequence_war_conflict_sanction_calamity"
         ],
         "type": "scatter",
         "x": [
          0,
          0.9265045492321278,
          0.9265045492321278,
          0
         ],
         "xaxis": "x",
         "y": [
          -3135,
          -3135,
          -3145,
          -3145
         ],
         "yaxis": "y"
        },
        {
         "hoverinfo": "text",
         "marker": {
          "color": "rgb(0,116,217)"
         },
         "mode": "lines",
         "text": [
          "titanium_supplier_vendor_supply_outsource",
          "",
          "",
          "expose_visibility_public_directly_eavesdroppe"
         ],
         "type": "scatter",
         "x": [
          0.9058485761538253,
          1.05472735258489,
          1.05472735258489,
          0.9265045492321278
         ],
         "xaxis": "x",
         "y": [
          -3120,
          -3120,
          -3140,
          -3140
         ],
         "yaxis": "y"
        },
        {
         "hoverinfo": "text",
         "marker": {
          "color": "rgb(0,116,217)"
         },
         "mode": "lines",
         "text": [
          "belarus_belarusian_kazakhstan_asset_region",
          "",
          "",
          "titanium_supplier_supply_purchase_tikkurila"
         ],
         "type": "scatter",
         "x": [
          1.0643175950890007,
          1.0717358479866872,
          1.0717358479866872,
          1.05472735258489
         ],
         "xaxis": "x",
         "y": [
          -2983.0859375,
          -2983.0859375,
          -3130,
          -3130
         ],
         "yaxis": "y"
        },
        {
         "hoverinfo": "text",
         "marker": {
          "color": "rgb(0,116,217)"
         },
         "mode": "lines",
         "text": [
          "gmv_marketplace_sector_retailer_advertising",
          "",
          "",
          "belarus_belarusian_kazakhstan_country_market"
         ],
         "type": "scatter",
         "x": [
          0.9734970360816871,
          1.0733148273801143,
          1.0733148273801143,
          1.0717358479866872
         ],
         "xaxis": "x",
         "y": [
          -2847.5,
          -2847.5,
          -3056.54296875,
          -3056.54296875
         ],
         "yaxis": "y"
        },
        {
         "hoverinfo": "text",
         "marker": {
          "color": "rgb(35,205,205)"
         },
         "mode": "lines",
         "text": [
          "sorting_sort_order_suggest_seasonality",
          "",
          "",
          "government_sudan_globally_country_foreign"
         ],
         "type": "scatter",
         "x": [
          0,
          0.8699664073515909,
          0.8699664073515909,
          0
         ],
         "xaxis": "x",
         "y": [
          -3165,
          -3165,
          -3175,
          -3175
         ],
         "yaxis": "y"
        },
        {
         "hoverinfo": "text",
         "marker": {
          "color": "rgb(35,205,205)"
         },
         "mode": "lines",
         "text": [
          "think_mindful_rethink_opinion_scenario",
          "",
          "",
          "sorting_sort_order_seasonality_guide"
         ],
         "type": "scatter",
         "x": [
          0,
          0.9431733062172382,
          0.9431733062172382,
          0.8699664073515909
         ],
         "xaxis": "x",
         "y": [
          -3155,
          -3155,
          -3170,
          -3170
         ],
         "yaxis": "y"
        },
        {
         "hoverinfo": "text",
         "marker": {
          "color": "rgb(61,153,112)"
         },
         "mode": "lines",
         "text": [
          "china_hong_chinese_market_trader",
          "",
          "",
          "china_shanghai_mainland_geographical_geography"
         ],
         "type": "scatter",
         "x": [
          0,
          0.8436023773614402,
          0.8436023773614402,
          0
         ],
         "xaxis": "x",
         "y": [
          -3185,
          -3185,
          -3195,
          -3195
         ],
         "yaxis": "y"
        },
        {
         "hoverinfo": "text",
         "marker": {
          "color": "rgb(255,65,54)"
         },
         "mode": "lines",
         "text": [
          "glance_look_lesson_think_outline",
          "",
          "",
          "move_position_positioning_location_direction"
         ],
         "type": "scatter",
         "x": [
          0,
          0.9532885931290596,
          0.9532885931290596,
          0
         ],
         "xaxis": "x",
         "y": [
          -3205,
          -3205,
          -3215,
          -3215
         ],
         "yaxis": "y"
        },
        {
         "hoverinfo": "text",
         "marker": {
          "color": "rgb(255,65,54)"
         },
         "mode": "lines",
         "text": [
          "taiwan_geopolitical_asia_geopolitically_china",
          "",
          "",
          "news_newspaper_reuters_journalist_newsletter"
         ],
         "type": "scatter",
         "x": [
          0,
          0.9587635890287608,
          0.9587635890287608,
          0
         ],
         "xaxis": "x",
         "y": [
          -3225,
          -3225,
          -3235,
          -3235
         ],
         "yaxis": "y"
        },
        {
         "hoverinfo": "text",
         "marker": {
          "color": "rgb(255,65,54)"
         },
         "mode": "lines",
         "text": [
          "move_position_leave_away_change",
          "",
          "",
          "news_reuters_newspaper_journalist_taiwan"
         ],
         "type": "scatter",
         "x": [
          0.9532885931290596,
          0.989046741451021,
          0.989046741451021,
          0.9587635890287608
         ],
         "xaxis": "x",
         "y": [
          -3210,
          -3210,
          -3230,
          -3230
         ],
         "yaxis": "y"
        },
        {
         "hoverinfo": "text",
         "marker": {
          "color": "rgb(35,205,205)"
         },
         "mode": "lines",
         "text": [
          "putin_litvinenko_invade_vladimir_soviet",
          "",
          "",
          "inaudible_disclosing_listen_ascribe_music"
         ],
         "type": "scatter",
         "x": [
          0,
          0.9737766842500201,
          0.9737766842500201,
          0
         ],
         "xaxis": "x",
         "y": [
          -3245,
          -3245,
          -3255,
          -3255
         ],
         "yaxis": "y"
        },
        {
         "hoverinfo": "text",
         "marker": {
          "color": "rgb(0,116,217)"
         },
         "mode": "lines",
         "text": [
          "taiwan_news_reuters_newspaper_journalist",
          "",
          "",
          "putin_litvinenko_vladimir_soviet_invade"
         ],
         "type": "scatter",
         "x": [
          0.989046741451021,
          1.0046293892380433,
          1.0046293892380433,
          0.9737766842500201
         ],
         "xaxis": "x",
         "y": [
          -3220,
          -3220,
          -3250,
          -3250
         ],
         "yaxis": "y"
        },
        {
         "hoverinfo": "text",
         "marker": {
          "color": "rgb(0,116,217)"
         },
         "mode": "lines",
         "text": [
          "china_chinese_hong_mainland_overseas",
          "",
          "",
          "putin_litvinenko_vladimir_invade_ussr"
         ],
         "type": "scatter",
         "x": [
          0.8436023773614402,
          1.0407991149941755,
          1.0407991149941755,
          1.0046293892380433
         ],
         "xaxis": "x",
         "y": [
          -3190,
          -3190,
          -3235,
          -3235
         ],
         "yaxis": "y"
        },
        {
         "hoverinfo": "text",
         "marker": {
          "color": "rgb(0,116,217)"
         },
         "mode": "lines",
         "text": [
          "sorting_sort_order_guide_7th",
          "",
          "",
          "putin_litvinenko_vladimir_invade_ussr"
         ],
         "type": "scatter",
         "x": [
          0.9431733062172382,
          1.0821608933935414,
          1.0821608933935414,
          1.0407991149941755
         ],
         "xaxis": "x",
         "y": [
          -3162.5,
          -3162.5,
          -3212.5,
          -3212.5
         ],
         "yaxis": "y"
        },
        {
         "hoverinfo": "text",
         "marker": {
          "color": "rgb(0,116,217)"
         },
         "mode": "lines",
         "text": [
          "belarus_belarusian_kazakhstan_business_company",
          "",
          "",
          "putin_litvinenko_invade_vladimir_ussr"
         ],
         "type": "scatter",
         "x": [
          1.0733148273801143,
          1.1089632102954439,
          1.1089632102954439,
          1.0821608933935414
         ],
         "xaxis": "x",
         "y": [
          -2952.021484375,
          -2952.021484375,
          -3187.5,
          -3187.5
         ],
         "yaxis": "y"
        },
        {
         "hoverinfo": "text",
         "marker": {
          "color": "rgb(133,20,75)"
         },
         "mode": "lines",
         "text": [
          "war_year_early_time_remember",
          "",
          "",
          "respect_currency_range_strategy_understand"
         ],
         "type": "scatter",
         "x": [
          0,
          0.8330651172038723,
          0.8330651172038723,
          0
         ],
         "xaxis": "x",
         "y": [
          -3265,
          -3265,
          -3275,
          -3275
         ],
         "yaxis": "y"
        },
        {
         "hoverinfo": "text",
         "marker": {
          "color": "rgb(255,220,0)"
         },
         "mode": "lines",
         "text": [
          "unwind_shutting_dispose_continue_operation",
          "",
          "",
          "war_continue_peace_ongoing_end"
         ],
         "type": "scatter",
         "x": [
          0,
          0.9072396637453327,
          0.9072396637453327,
          0
         ],
         "xaxis": "x",
         "y": [
          -3285,
          -3285,
          -3295,
          -3295
         ],
         "yaxis": "y"
        },
        {
         "hoverinfo": "text",
         "marker": {
          "color": "rgb(255,220,0)"
         },
         "mode": "lines",
         "text": [
          "unwind_shutting_dispose_continue_operation",
          "",
          "",
          "week_war_thursday_day_hedge"
         ],
         "type": "scatter",
         "x": [
          0.9072396637453327,
          0.9598099345244564,
          0.9598099345244564,
          0
         ],
         "xaxis": "x",
         "y": [
          -3290,
          -3290,
          -3305,
          -3305
         ],
         "yaxis": "y"
        },
        {
         "hoverinfo": "text",
         "marker": {
          "color": "rgb(40,35,35)"
         },
         "mode": "lines",
         "text": [
          "related_yes_yeah_similarly_somersby",
          "",
          "",
          "country_canada_australia_india_indonesia"
         ],
         "type": "scatter",
         "x": [
          0,
          0.9361800497289052,
          0.9361800497289052,
          0
         ],
         "xaxis": "x",
         "y": [
          -3315,
          -3315,
          -3325,
          -3325
         ],
         "yaxis": "y"
        },
        {
         "hoverinfo": "text",
         "marker": {
          "color": "rgb(0,116,217)"
         },
         "mode": "lines",
         "text": [
          "war_week_exclude_activity_rone",
          "",
          "",
          "yes_country_related_yeah_canada"
         ],
         "type": "scatter",
         "x": [
          0.9598099345244564,
          1.024012861830102,
          1.024012861830102,
          0.9361800497289052
         ],
         "xaxis": "x",
         "y": [
          -3297.5,
          -3297.5,
          -3320,
          -3320
         ],
         "yaxis": "y"
        },
        {
         "hoverinfo": "text",
         "marker": {
          "color": "rgb(61,153,112)"
         },
         "mode": "lines",
         "text": [
          "challenge_reward_face_situation_decision",
          "",
          "",
          "corona_war_market_impact_crisis"
         ],
         "type": "scatter",
         "x": [
          0,
          0.8942436749117281,
          0.8942436749117281,
          0
         ],
         "xaxis": "x",
         "y": [
          -3345,
          -3345,
          -3355,
          -3355
         ],
         "yaxis": "y"
        },
        {
         "hoverinfo": "text",
         "marker": {
          "color": "rgb(61,153,112)"
         },
         "mode": "lines",
         "text": [
          "maybe_obviously_anybody_murray_way",
          "",
          "",
          "corona_war_challenge_news_spite"
         ],
         "type": "scatter",
         "x": [
          0,
          0.9830122958957664,
          0.9830122958957664,
          0.8942436749117281
         ],
         "xaxis": "x",
         "y": [
          -3335,
          -3335,
          -3350,
          -3350
         ],
         "yaxis": "y"
        },
        {
         "hoverinfo": "text",
         "marker": {
          "color": "rgb(0,116,217)"
         },
         "mode": "lines",
         "text": [
          "war_activity_dispose_ongoing_exclude",
          "",
          "",
          "corona_war_challenge_news_spite"
         ],
         "type": "scatter",
         "x": [
          1.024012861830102,
          1.0618916989700296,
          1.0618916989700296,
          0.9830122958957664
         ],
         "xaxis": "x",
         "y": [
          -3308.75,
          -3308.75,
          -3342.5,
          -3342.5
         ],
         "yaxis": "y"
        },
        {
         "hoverinfo": "text",
         "marker": {
          "color": "rgb(0,116,217)"
         },
         "mode": "lines",
         "text": [
          "respect_mean_negotiate_war_finally",
          "",
          "",
          "corona_challenge_war_reward_spite"
         ],
         "type": "scatter",
         "x": [
          0.8330651172038723,
          1.0832542942790628,
          1.0832542942790628,
          1.0618916989700296
         ],
         "xaxis": "x",
         "y": [
          -3270,
          -3270,
          -3325.625,
          -3325.625
         ],
         "yaxis": "y"
        },
        {
         "hoverinfo": "text",
         "marker": {
          "color": "rgb(255,65,54)"
         },
         "mode": "lines",
         "text": [
          "discussion_discuss_topic_conversation_talk",
          "",
          "",
          "presentation_topic_crisis_talk_present"
         ],
         "type": "scatter",
         "x": [
          0,
          0.8723080282409731,
          0.8723080282409731,
          0
         ],
         "xaxis": "x",
         "y": [
          -3375,
          -3375,
          -3385,
          -3385
         ],
         "yaxis": "y"
        },
        {
         "hoverinfo": "text",
         "marker": {
          "color": "rgb(255,65,54)"
         },
         "mode": "lines",
         "text": [
          "cobalt_buy_supply_supplier_receive",
          "",
          "",
          "topic_discussion_discuss_presentation_conversation"
         ],
         "type": "scatter",
         "x": [
          0,
          0.9633825089449344,
          0.9633825089449344,
          0.8723080282409731
         ],
         "xaxis": "x",
         "y": [
          -3365,
          -3365,
          -3380,
          -3380
         ],
         "yaxis": "y"
        },
        {
         "hoverinfo": "text",
         "marker": {
          "color": "rgb(0,116,217)"
         },
         "mode": "lines",
         "text": [
          "corona_challenge_war_reward_negotiate",
          "",
          "",
          "cobalt_buy_receive_total_nordion"
         ],
         "type": "scatter",
         "x": [
          1.0832542942790628,
          1.1165956693284134,
          1.1165956693284134,
          0.9633825089449344
         ],
         "xaxis": "x",
         "y": [
          -3297.8125,
          -3297.8125,
          -3372.5,
          -3372.5
         ],
         "yaxis": "y"
        },
        {
         "hoverinfo": "text",
         "marker": {
          "color": "rgb(0,116,217)"
         },
         "mode": "lines",
         "text": [
          "belarus_belarusian_putin_country_china",
          "",
          "",
          "cobalt_buy_receive_nordion_total"
         ],
         "type": "scatter",
         "x": [
          1.1089632102954439,
          1.1272261405059816,
          1.1272261405059816,
          1.1165956693284134
         ],
         "xaxis": "x",
         "y": [
          -3069.7607421875,
          -3069.7607421875,
          -3335.15625,
          -3335.15625
         ],
         "yaxis": "y"
        },
        {
         "hoverinfo": "text",
         "marker": {
          "color": "rgb(0,116,217)"
         },
         "mode": "lines",
         "text": [
          "kazakhstan_bank_kazakh_uzbekistan_banking",
          "",
          "",
          "belarus_belarusian_putin_capital_country"
         ],
         "type": "scatter",
         "x": [
          1.086414662126892,
          1.1529594020336629,
          1.1529594020336629,
          1.1272261405059816
         ],
         "xaxis": "x",
         "y": [
          -2778.4375,
          -2778.4375,
          -3202.45849609375,
          -3202.45849609375
         ],
         "yaxis": "y"
        },
        {
         "hoverinfo": "text",
         "marker": {
          "color": "rgb(35,205,205)"
         },
         "mode": "lines",
         "text": [
          "situation_relationship_life_related_basically",
          "",
          "",
          "situation_horrible_circumstance_terrible_awful"
         ],
         "type": "scatter",
         "x": [
          0,
          0.8449526737811581,
          0.8449526737811581,
          0
         ],
         "xaxis": "x",
         "y": [
          -3395,
          -3395,
          -3405,
          -3405
         ],
         "yaxis": "y"
        },
        {
         "hoverinfo": "text",
         "marker": {
          "color": "rgb(35,205,205)"
         },
         "mode": "lines",
         "text": [
          "watch_event_unfold_volatile_witness",
          "",
          "",
          "monitoring_monitor_watch_continue_assess"
         ],
         "type": "scatter",
         "x": [
          0,
          0.8761873965175094,
          0.8761873965175094,
          0
         ],
         "xaxis": "x",
         "y": [
          -3415,
          -3415,
          -3425,
          -3425
         ],
         "yaxis": "y"
        },
        {
         "hoverinfo": "text",
         "marker": {
          "color": "rgb(35,205,205)"
         },
         "mode": "lines",
         "text": [
          "situation_circumstance_happen_relationship_place",
          "",
          "",
          "monitoring_monitor_watch_continue_cautiously"
         ],
         "type": "scatter",
         "x": [
          0.8449526737811581,
          0.9992794911276399,
          0.9992794911276399,
          0.8761873965175094
         ],
         "xaxis": "x",
         "y": [
          -3400,
          -3400,
          -3420,
          -3420
         ],
         "yaxis": "y"
        },
        {
         "hoverinfo": "text",
         "marker": {
          "color": "rgb(0,116,217)"
         },
         "mode": "lines",
         "text": [
          "belarus_belarusian_kazakhstan_kazakh_supplier",
          "",
          "",
          "monitoring_monitor_watch_continue_assess"
         ],
         "type": "scatter",
         "x": [
          1.1529594020336629,
          1.1766127942331424,
          1.1766127942331424,
          0.9992794911276399
         ],
         "xaxis": "x",
         "y": [
          -2990.447998046875,
          -2990.447998046875,
          -3410,
          -3410
         ],
         "yaxis": "y"
        },
        {
         "hoverinfo": "text",
         "marker": {
          "color": "rgb(0,116,217)"
         },
         "mode": "lines",
         "text": [
          "clinical_patient_trial_treatment_medicine",
          "",
          "",
          "belarus_belarusian_kazakhstan_kazakh_putin"
         ],
         "type": "scatter",
         "x": [
          1.204416446505243,
          1.2212399230882556,
          1.2212399230882556,
          1.1766127942331424
         ],
         "xaxis": "x",
         "y": [
          -2560.234375,
          -2560.234375,
          -3200.2239990234375,
          -3200.2239990234375
         ],
         "yaxis": "y"
        },
        {
         "hoverinfo": "text",
         "marker": {
          "color": "rgb(61,153,112)"
         },
         "mode": "lines",
         "text": [
          "uniper_curtailment_curtail_unipro_gas",
          "",
          "",
          "subsidiary_multinational_supplier_company_corporate"
         ],
         "type": "scatter",
         "x": [
          0,
          0.9120358802520842,
          0.9120358802520842,
          0
         ],
         "xaxis": "x",
         "y": [
          -3435,
          -3435,
          -3445,
          -3445
         ],
         "yaxis": "y"
        },
        {
         "hoverinfo": "text",
         "marker": {
          "color": "rgb(255,65,54)"
         },
         "mode": "lines",
         "text": [
          "year_impact_september_influence_significant",
          "",
          "",
          "strategic_strategical_announce_acquisition_decision"
         ],
         "type": "scatter",
         "x": [
          0,
          0.7717764288219223,
          0.7717764288219223,
          0
         ],
         "xaxis": "x",
         "y": [
          -3455,
          -3455,
          -3465,
          -3465
         ],
         "yaxis": "y"
        },
        {
         "hoverinfo": "text",
         "marker": {
          "color": "rgb(0,116,217)"
         },
         "mode": "lines",
         "text": [
          "uniper_unipro_curtailment_curtail_gas",
          "",
          "",
          "strategic_strategical_business_acquisition_option"
         ],
         "type": "scatter",
         "x": [
          0.9120358802520842,
          1.031398417040454,
          1.031398417040454,
          0.7717764288219223
         ],
         "xaxis": "x",
         "y": [
          -3440,
          -3440,
          -3460,
          -3460
         ],
         "yaxis": "y"
        },
        {
         "hoverinfo": "text",
         "marker": {
          "color": "rgb(35,205,205)"
         },
         "mode": "lines",
         "text": [
          "recall_inventory_enterprise_recover_revenue",
          "",
          "",
          "operation_operator_operationally_surgeon_process"
         ],
         "type": "scatter",
         "x": [
          0,
          0.9135892912898091,
          0.9135892912898091,
          0
         ],
         "xaxis": "x",
         "y": [
          -3475,
          -3475,
          -3485,
          -3485
         ],
         "yaxis": "y"
        },
        {
         "hoverinfo": "text",
         "marker": {
          "color": "rgb(133,20,75)"
         },
         "mode": "lines",
         "text": [
          "divestment_divest_divesting_divestiture_dive",
          "",
          "",
          "approval_approve_regulatory_commission_authority"
         ],
         "type": "scatter",
         "x": [
          0,
          0.8851359400079785,
          0.8851359400079785,
          0
         ],
         "xaxis": "x",
         "y": [
          -3505,
          -3505,
          -3515,
          -3515
         ],
         "yaxis": "y"
        },
        {
         "hoverinfo": "text",
         "marker": {
          "color": "rgb(133,20,75)"
         },
         "mode": "lines",
         "text": [
          "packaging_goods_shipment_product_profitability",
          "",
          "",
          "divestment_divest_divesting_dive_divestiture"
         ],
         "type": "scatter",
         "x": [
          0,
          0.959887949578962,
          0.959887949578962,
          0.8851359400079785
         ],
         "xaxis": "x",
         "y": [
          -3495,
          -3495,
          -3510,
          -3510
         ],
         "yaxis": "y"
        },
        {
         "hoverinfo": "text",
         "marker": {
          "color": "rgb(0,116,217)"
         },
         "mode": "lines",
         "text": [
          "recall_remember_inventory_enterprise_recover",
          "",
          "",
          "divestment_divest_divesting_divestiture_dive"
         ],
         "type": "scatter",
         "x": [
          0.9135892912898091,
          1.0312534617350595,
          1.0312534617350595,
          0.959887949578962
         ],
         "xaxis": "x",
         "y": [
          -3480,
          -3480,
          -3502.5,
          -3502.5
         ],
         "yaxis": "y"
        },
        {
         "hoverinfo": "text",
         "marker": {
          "color": "rgb(255,220,0)"
         },
         "mode": "lines",
         "text": [
          "expense_revenue_profit_financial_business",
          "",
          "",
          "uncertainty_risk_information_pandemic_statement"
         ],
         "type": "scatter",
         "x": [
          0,
          0.8604534791109733,
          0.8604534791109733,
          0
         ],
         "xaxis": "x",
         "y": [
          -3525,
          -3525,
          -3535,
          -3535
         ],
         "yaxis": "y"
        },
        {
         "hoverinfo": "text",
         "marker": {
          "color": "rgb(255,220,0)"
         },
         "mode": "lines",
         "text": [
          "uncertainty_risk_information_pandemic_statement",
          "",
          "",
          "datum_privacy_estate_geographically_exchange"
         ],
         "type": "scatter",
         "x": [
          0.8604534791109733,
          0.9866594443734067,
          0.9866594443734067,
          0
         ],
         "xaxis": "x",
         "y": [
          -3530,
          -3530,
          -3545,
          -3545
         ],
         "yaxis": "y"
        },
        {
         "hoverinfo": "text",
         "marker": {
          "color": "rgb(0,116,217)"
         },
         "mode": "lines",
         "text": [
          "divestment_divest_divesting_divestiture_dive",
          "",
          "",
          "uncertainty_risk_information_pandemic_statement"
         ],
         "type": "scatter",
         "x": [
          1.0312534617350595,
          1.047023789318359,
          1.047023789318359,
          0.9866594443734067
         ],
         "xaxis": "x",
         "y": [
          -3491.25,
          -3491.25,
          -3537.5,
          -3537.5
         ],
         "yaxis": "y"
        },
        {
         "hoverinfo": "text",
         "marker": {
          "color": "rgb(40,35,35)"
         },
         "mode": "lines",
         "text": [
          "transfer_ownership_transaction_buyer_subsidiary",
          "",
          "",
          "franchisee_restaurant_franchisor_franchise_kfc"
         ],
         "type": "scatter",
         "x": [
          0,
          0.7763028016041742,
          0.7763028016041742,
          0
         ],
         "xaxis": "x",
         "y": [
          -3555,
          -3555,
          -3565,
          -3565
         ],
         "yaxis": "y"
        },
        {
         "hoverinfo": "text",
         "marker": {
          "color": "rgb(0,116,217)"
         },
         "mode": "lines",
         "text": [
          "uncertainty_risk_pandemic_information_statement",
          "",
          "",
          "kfc_franchise_franchisee_gaap_transfer"
         ],
         "type": "scatter",
         "x": [
          1.047023789318359,
          1.095322315933621,
          1.095322315933621,
          0.7763028016041742
         ],
         "xaxis": "x",
         "y": [
          -3514.375,
          -3514.375,
          -3560,
          -3560
         ],
         "yaxis": "y"
        },
        {
         "hoverinfo": "text",
         "marker": {
          "color": "rgb(0,116,217)"
         },
         "mode": "lines",
         "text": [
          "uniper_unipro_curtailment_gas_divestment",
          "",
          "",
          "risk_pandemic_uncertainty_management_information"
         ],
         "type": "scatter",
         "x": [
          1.031398417040454,
          1.1502742634050787,
          1.1502742634050787,
          1.095322315933621
         ],
         "xaxis": "x",
         "y": [
          -3450,
          -3450,
          -3537.1875,
          -3537.1875
         ],
         "yaxis": "y"
        },
        {
         "hoverinfo": "text",
         "marker": {
          "color": "rgb(0,116,217)"
         },
         "mode": "lines",
         "text": [
          "belarus_belarusian_kazakhstan_putin_dea",
          "",
          "",
          "risk_uncertainty_pandemic_information_statement"
         ],
         "type": "scatter",
         "x": [
          1.2212399230882556,
          1.231054350757169,
          1.231054350757169,
          1.1502742634050787
         ],
         "xaxis": "x",
         "y": [
          -2880.2291870117188,
          -2880.2291870117188,
          -3493.59375,
          -3493.59375
         ],
         "yaxis": "y"
        },
        {
         "hoverinfo": "text",
         "marker": {
          "color": "rgb(0,116,217)"
         },
         "mode": "lines",
         "text": [
          "airspace_overflight_airline_flight_warfare",
          "",
          "",
          "belarus_belarusian_kazakhstan_risk_sanction"
         ],
         "type": "scatter",
         "x": [
          1.2282223306912157,
          1.2479173222021676,
          1.2479173222021676,
          1.231054350757169
         ],
         "xaxis": "x",
         "y": [
          -2440.625,
          -2440.625,
          -3186.9114685058594,
          -3186.9114685058594
         ],
         "yaxis": "y"
        },
        {
         "hoverinfo": "text",
         "marker": {
          "color": "rgb(61,153,112)"
         },
         "mode": "lines",
         "text": [
          "investment_invest_investor_investable_market",
          "",
          "",
          "invest_investment_investor_international_contribution"
         ],
         "type": "scatter",
         "x": [
          0,
          0.6294544028276713,
          0.6294544028276713,
          0
         ],
         "xaxis": "x",
         "y": [
          -3575,
          -3575,
          -3585,
          -3585
         ],
         "yaxis": "y"
        },
        {
         "hoverinfo": "text",
         "marker": {
          "color": "rgb(255,65,54)"
         },
         "mode": "lines",
         "text": [
          "translation_speak_translate_simultaneous_transcript",
          "",
          "",
          "speak____"
         ],
         "type": "scatter",
         "x": [
          0,
          0.7650816419957844,
          0.7650816419957844,
          0
         ],
         "xaxis": "x",
         "y": [
          -3595,
          -3595,
          -3605,
          -3605
         ],
         "yaxis": "y"
        },
        {
         "hoverinfo": "text",
         "marker": {
          "color": "rgb(35,205,205)"
         },
         "mode": "lines",
         "text": [
          "war_speak_fight_raging_talk",
          "",
          "",
          "talk_conversation_chat_communicate_communication"
         ],
         "type": "scatter",
         "x": [
          0,
          0.7065768274943974,
          0.7065768274943974,
          0
         ],
         "xaxis": "x",
         "y": [
          -3615,
          -3615,
          -3625,
          -3625
         ],
         "yaxis": "y"
        },
        {
         "hoverinfo": "text",
         "marker": {
          "color": "rgb(35,205,205)"
         },
         "mode": "lines",
         "text": [
          "talk_conversation_speak_discuss_chat",
          "",
          "",
          "____"
         ],
         "type": "scatter",
         "x": [
          0.7065768274943974,
          0.9685500292099549,
          0.9685500292099549,
          0
         ],
         "xaxis": "x",
         "y": [
          -3620,
          -3620,
          -3635,
          -3635
         ],
         "yaxis": "y"
        },
        {
         "hoverinfo": "text",
         "marker": {
          "color": "rgb(0,116,217)"
         },
         "mode": "lines",
         "text": [
          "speak_talk_listen_translation_english",
          "",
          "",
          "talk_speak_conversation_discuss_chat"
         ],
         "type": "scatter",
         "x": [
          0.7650816419957844,
          1.1650956060049706,
          1.1650956060049706,
          0.9685500292099549
         ],
         "xaxis": "x",
         "y": [
          -3600,
          -3600,
          -3627.5,
          -3627.5
         ],
         "yaxis": "y"
        },
        {
         "hoverinfo": "text",
         "marker": {
          "color": "rgb(0,116,217)"
         },
         "mode": "lines",
         "text": [
          "investment_invest_investor_investable_market",
          "",
          "",
          "speak_talk_conversation_communicate_communication"
         ],
         "type": "scatter",
         "x": [
          0.6294544028276713,
          1.2222556007883116,
          1.2222556007883116,
          1.1650956060049706
         ],
         "xaxis": "x",
         "y": [
          -3580,
          -3580,
          -3613.75,
          -3613.75
         ],
         "yaxis": "y"
        },
        {
         "hoverinfo": "text",
         "marker": {
          "color": "rgb(0,116,217)"
         },
         "mode": "lines",
         "text": [
          "belarus_belarusian_kazakhstan_subsidiary_putin",
          "",
          "",
          "speak_talk_conversation_chat_hearing"
         ],
         "type": "scatter",
         "x": [
          1.2479173222021676,
          1.2738470916106024,
          1.2738470916106024,
          1.2222556007883116
         ],
         "xaxis": "x",
         "y": [
          -2813.7682342529297,
          -2813.7682342529297,
          -3596.875,
          -3596.875
         ],
         "yaxis": "y"
        },
        {
         "hoverinfo": "text",
         "marker": {
          "color": "rgb(61,153,112)"
         },
         "mode": "lines",
         "text": [
          "coverage_store_optimizing_focus_market",
          "",
          "",
          "store_retailer_shop_retail_shopping"
         ],
         "type": "scatter",
         "x": [
          0,
          0.546304244094503,
          0.546304244094503,
          0
         ],
         "xaxis": "x",
         "y": [
          -3645,
          -3645,
          -3655,
          -3655
         ],
         "yaxis": "y"
        },
        {
         "hoverinfo": "text",
         "marker": {
          "color": "rgb(0,116,217)"
         },
         "mode": "lines",
         "text": [
          "belarus_belarusian_kazakhstan_putin_subsidiary",
          "",
          "",
          "store_retailer_shop_retail_shopping"
         ],
         "type": "scatter",
         "x": [
          1.2738470916106024,
          1.2880669363494552,
          1.2880669363494552,
          0.546304244094503
         ],
         "xaxis": "x",
         "y": [
          -3205.321617126465,
          -3205.321617126465,
          -3650,
          -3650
         ],
         "yaxis": "y"
        },
        {
         "hoverinfo": "text",
         "marker": {
          "color": "rgb(0,116,217)"
         },
         "mode": "lines",
         "text": [
          "turnover_freight_rail_railcar_railroad",
          "",
          "",
          "belarus_belarusian_kazakhstan_nato_subsidiary"
         ],
         "type": "scatter",
         "x": [
          0.5279666870501634,
          1.3104879700206007,
          1.3104879700206007,
          1.2880669363494552
         ],
         "xaxis": "x",
         "y": [
          -2380,
          -2380,
          -3427.6608085632324,
          -3427.6608085632324
         ],
         "yaxis": "y"
        },
        {
         "hoverinfo": "text",
         "marker": {
          "color": "rgb(255,65,54)"
         },
         "mode": "lines",
         "text": [
          "cash_bank_money_pay_profit",
          "",
          "",
          "cash_income_payment_dividend_invest"
         ],
         "type": "scatter",
         "x": [
          0,
          0.4447369973334421,
          0.4447369973334421,
          0
         ],
         "xaxis": "x",
         "y": [
          -3665,
          -3665,
          -3675,
          -3675
         ],
         "yaxis": "y"
        },
        {
         "hoverinfo": "text",
         "marker": {
          "color": "rgb(35,205,205)"
         },
         "mode": "lines",
         "text": [
          "covid_news_adverse_easter_flow",
          "",
          "",
          "easter_holiday_christmas_omicron_april"
         ],
         "type": "scatter",
         "x": [
          0,
          0.7099341556072585,
          0.7099341556072585,
          0
         ],
         "xaxis": "x",
         "y": [
          -3685,
          -3685,
          -3695,
          -3695
         ],
         "yaxis": "y"
        },
        {
         "hoverinfo": "text",
         "marker": {
          "color": "rgb(35,205,205)"
         },
         "mode": "lines",
         "text": [
          "easter_holiday_omicron_christmas_december",
          "",
          "",
          "omicron_invasion_occur_predict_progress"
         ],
         "type": "scatter",
         "x": [
          0.7099341556072585,
          0.8376090314637106,
          0.8376090314637106,
          0
         ],
         "xaxis": "x",
         "y": [
          -3690,
          -3690,
          -3705,
          -3705
         ],
         "yaxis": "y"
        },
        {
         "hoverinfo": "text",
         "marker": {
          "color": "rgb(0,116,217)"
         },
         "mode": "lines",
         "text": [
          "cash_payment_dividend_pay_invest",
          "",
          "",
          "omicron_easter_holiday_christmas_october"
         ],
         "type": "scatter",
         "x": [
          0.4447369973334421,
          1.2906176836788554,
          1.2906176836788554,
          0.8376090314637106
         ],
         "xaxis": "x",
         "y": [
          -3670,
          -3670,
          -3697.5,
          -3697.5
         ],
         "yaxis": "y"
        },
        {
         "hoverinfo": "text",
         "marker": {
          "color": "rgb(0,116,217)"
         },
         "mode": "lines",
         "text": [
          "belarus_belarusian_kazakhstan_subsidiary_putin",
          "",
          "",
          "omicron_easter_holiday_christmas_october"
         ],
         "type": "scatter",
         "x": [
          1.3104879700206007,
          1.3313261502839453,
          1.3313261502839453,
          1.2906176836788554
         ],
         "xaxis": "x",
         "y": [
          -2903.830404281616,
          -2903.830404281616,
          -3683.75,
          -3683.75
         ],
         "yaxis": "y"
        },
        {
         "hoverinfo": "text",
         "marker": {
          "color": "rgb(0,116,217)"
         },
         "mode": "lines",
         "text": [
          "turkey_istanbul_sale_turkish_sell",
          "",
          "",
          "belarus_belarusian_kazakhstan_subsidiary_business"
         ],
         "type": "scatter",
         "x": [
          1.26682619097218,
          1.3418408637473036,
          1.3418408637473036,
          1.3313261502839453
         ],
         "xaxis": "x",
         "y": [
          -2343.125,
          -2343.125,
          -3293.790202140808,
          -3293.790202140808
         ],
         "yaxis": "y"
        },
        {
         "hoverinfo": "text",
         "marker": {
          "color": "rgb(0,116,217)"
         },
         "mode": "lines",
         "text": [
          "poland_romania_hungary_slovakia_krakow",
          "",
          "",
          "belarus_belarusian_kazakhstan_nato_subsidiary"
         ],
         "type": "scatter",
         "x": [
          1.3451760164004563,
          1.3923058082538906,
          1.3923058082538906,
          1.3418408637473036
         ],
         "xaxis": "x",
         "y": [
          -2281.25,
          -2281.25,
          -2818.457601070404,
          -2818.457601070404
         ],
         "yaxis": "y"
        },
        {
         "hoverinfo": "text",
         "marker": {
          "color": "rgb(133,20,75)"
         },
         "mode": "lines",
         "text": [
          "exit_exiting_exited_leave_disappear",
          "",
          "",
          "exit_exiting_exited_terminate_business"
         ],
         "type": "scatter",
         "x": [
          0,
          0.4132239756729904,
          0.4132239756729904,
          0
         ],
         "xaxis": "x",
         "y": [
          -3715,
          -3715,
          -3725,
          -3725
         ],
         "yaxis": "y"
        },
        {
         "hoverinfo": "text",
         "marker": {
          "color": "rgb(133,20,75)"
         },
         "mode": "lines",
         "text": [
          "exit_exiting_exited_leave_disconnect",
          "",
          "",
          "exit_leave_decision_end_evaluation"
         ],
         "type": "scatter",
         "x": [
          0.4132239756729904,
          0.8321416798396839,
          0.8321416798396839,
          0
         ],
         "xaxis": "x",
         "y": [
          -3720,
          -3720,
          -3735,
          -3735
         ],
         "yaxis": "y"
        },
        {
         "hoverinfo": "text",
         "marker": {
          "color": "rgb(255,220,0)"
         },
         "mode": "lines",
         "text": [
          "suspend_suspending_suspension_halt_hibernation",
          "",
          "",
          "suspending_suspend_revenue_expense_suspension"
         ],
         "type": "scatter",
         "x": [
          0,
          0.421618895484434,
          0.421618895484434,
          0
         ],
         "xaxis": "x",
         "y": [
          -3745,
          -3745,
          -3755,
          -3755
         ],
         "yaxis": "y"
        },
        {
         "hoverinfo": "text",
         "marker": {
          "color": "rgb(0,116,217)"
         },
         "mode": "lines",
         "text": [
          "exit_exiting_exited_leave_disconnect",
          "",
          "",
          "suspend_suspending_suspension_halt_hibernation"
         ],
         "type": "scatter",
         "x": [
          0.8321416798396839,
          1.2670257830106972,
          1.2670257830106972,
          0.421618895484434
         ],
         "xaxis": "x",
         "y": [
          -3727.5,
          -3727.5,
          -3750,
          -3750
         ],
         "yaxis": "y"
        },
        {
         "hoverinfo": "text",
         "marker": {
          "color": "rgb(0,116,217)"
         },
         "mode": "lines",
         "text": [
          "belarus_belarusian_kazakhstan_poland_romania",
          "",
          "",
          "suspending_suspend_suspension_halt_temporarily"
         ],
         "type": "scatter",
         "x": [
          1.3923058082538906,
          1.423614334544529,
          1.423614334544529,
          1.2670257830106972
         ],
         "xaxis": "x",
         "y": [
          -2549.853800535202,
          -2549.853800535202,
          -3738.75,
          -3738.75
         ],
         "yaxis": "y"
        },
        {
         "hoverinfo": "text",
         "marker": {
          "color": "rgb(0,116,217)"
         },
         "mode": "lines",
         "text": [
          "invasion_invade_impact_war_europe",
          "",
          "",
          "belarus_belarusian_kazakhstan_subsidiary_poland"
         ],
         "type": "scatter",
         "x": [
          1.5248359284185988,
          1.6811561520481064,
          1.6811561520481064,
          1.423614334544529
         ],
         "xaxis": "x",
         "y": [
          -1915.87890625,
          -1915.87890625,
          -3144.301900267601,
          -3144.301900267601
         ],
         "yaxis": "y"
        },
        {
         "hoverinfo": "text",
         "marker": {
          "color": "rgb(40,35,35)"
         },
         "mode": "lines",
         "text": [
          "carlsberg_shareholder_profit_brand_cease",
          "",
          "",
          "leave_stay_continue_let_course"
         ],
         "type": "scatter",
         "x": [
          0,
          0.8926738900805992,
          0.8926738900805992,
          0
         ],
         "xaxis": "x",
         "y": [
          -3765,
          -3765,
          -3775,
          -3775
         ],
         "yaxis": "y"
        },
        {
         "hoverinfo": "text",
         "marker": {
          "color": "rgb(61,153,112)"
         },
         "mode": "lines",
         "text": [
          "relocate_relocation_abroad_expatriate_staff",
          "",
          "",
          "relocate_relocation_move_migrate_employee"
         ],
         "type": "scatter",
         "x": [
          0,
          0.7096072595124098,
          0.7096072595124098,
          0
         ],
         "xaxis": "x",
         "y": [
          -3785,
          -3785,
          -3795,
          -3795
         ],
         "yaxis": "y"
        },
        {
         "hoverinfo": "text",
         "marker": {
          "color": "rgb(0,116,217)"
         },
         "mode": "lines",
         "text": [
          "carlsberg_leave_profit_brand_merger",
          "",
          "",
          "relocate_relocation_move_employee_migrate"
         ],
         "type": "scatter",
         "x": [
          0.8926738900805992,
          1.0356200654518317,
          1.0356200654518317,
          0.7096072595124098
         ],
         "xaxis": "x",
         "y": [
          -3770,
          -3770,
          -3790,
          -3790
         ],
         "yaxis": "y"
        },
        {
         "hoverinfo": "text",
         "marker": {
          "color": "rgb(255,65,54)"
         },
         "mode": "lines",
         "text": [
          "employee_employer_personnel_employ_staff",
          "",
          "",
          "workforce_employ_employee_staff_freelancer"
         ],
         "type": "scatter",
         "x": [
          0,
          0.7687095814982782,
          0.7687095814982782,
          0
         ],
         "xaxis": "x",
         "y": [
          -3815,
          -3815,
          -3825,
          -3825
         ],
         "yaxis": "y"
        },
        {
         "hoverinfo": "text",
         "marker": {
          "color": "rgb(255,65,54)"
         },
         "mode": "lines",
         "text": [
          "salary_compensation_wage_payroll_employee",
          "",
          "",
          "employee_employer_personnel_employ_staff"
         ],
         "type": "scatter",
         "x": [
          0,
          0.8701902060845821,
          0.8701902060845821,
          0.7687095814982782
         ],
         "xaxis": "x",
         "y": [
          -3805,
          -3805,
          -3820,
          -3820
         ],
         "yaxis": "y"
        },
        {
         "hoverinfo": "text",
         "marker": {
          "color": "rgb(255,65,54)"
         },
         "mode": "lines",
         "text": [
          "safety_employee_colleague_personnel_priority",
          "",
          "",
          "ukrainian_kiev_refugee_telehealth_service"
         ],
         "type": "scatter",
         "x": [
          0,
          0.6619541930768524,
          0.6619541930768524,
          0
         ],
         "xaxis": "x",
         "y": [
          -3835,
          -3835,
          -3845,
          -3845
         ],
         "yaxis": "y"
        },
        {
         "hoverinfo": "text",
         "marker": {
          "color": "rgb(255,65,54)"
         },
         "mode": "lines",
         "text": [
          "employee_employer_personnel_colleague_employ",
          "",
          "",
          "safety_employee_priority_safeguard_colleague"
         ],
         "type": "scatter",
         "x": [
          0.8701902060845821,
          0.9647468273834566,
          0.9647468273834566,
          0.6619541930768524
         ],
         "xaxis": "x",
         "y": [
          -3812.5,
          -3812.5,
          -3840,
          -3840
         ],
         "yaxis": "y"
        },
        {
         "hoverinfo": "text",
         "marker": {
          "color": "rgb(35,205,205)"
         },
         "mode": "lines",
         "text": [
          "refugee_poland_humanitarian_ukrainian_support",
          "",
          "",
          "refugee_refugees_humanitarian_donation_charity"
         ],
         "type": "scatter",
         "x": [
          0,
          0.598031291596141,
          0.598031291596141,
          0
         ],
         "xaxis": "x",
         "y": [
          -3855,
          -3855,
          -3865,
          -3865
         ],
         "yaxis": "y"
        },
        {
         "hoverinfo": "text",
         "marker": {
          "color": "rgb(35,205,205)"
         },
         "mode": "lines",
         "text": [
          "donation_charity_donate_humanitarian_unicef",
          "",
          "",
          "support_supportive_respects_strongly_strong"
         ],
         "type": "scatter",
         "x": [
          0.598031291596141,
          0.9302813789122745,
          0.9302813789122745,
          0
         ],
         "xaxis": "x",
         "y": [
          -3860,
          -3860,
          -3875,
          -3875
         ],
         "yaxis": "y"
        },
        {
         "hoverinfo": "text",
         "marker": {
          "color": "rgb(0,116,217)"
         },
         "mode": "lines",
         "text": [
          "safety_employee_priority_colleague_prioritize",
          "",
          "",
          "refugee_humanitarian_refugees_charity_donation"
         ],
         "type": "scatter",
         "x": [
          0.9647468273834566,
          1.1125747607917218,
          1.1125747607917218,
          0.9302813789122745
         ],
         "xaxis": "x",
         "y": [
          -3826.25,
          -3826.25,
          -3867.5,
          -3867.5
         ],
         "yaxis": "y"
        },
        {
         "hoverinfo": "text",
         "marker": {
          "color": "rgb(0,116,217)"
         },
         "mode": "lines",
         "text": [
          "relocate_relocation_employee_carlsberg_migrate",
          "",
          "",
          "refugee_humanitarian_charity_donation_unicef"
         ],
         "type": "scatter",
         "x": [
          1.0356200654518317,
          1.1724868457026252,
          1.1724868457026252,
          1.1125747607917218
         ],
         "xaxis": "x",
         "y": [
          -3780,
          -3780,
          -3846.875,
          -3846.875
         ],
         "yaxis": "y"
        },
        {
         "hoverinfo": "text",
         "marker": {
          "color": "rgb(61,153,112)"
         },
         "mode": "lines",
         "text": [
          "ukrainian_tourist_travel_destination_transport",
          "",
          "",
          "ukrainian_crimea_kiev_war_donetsk"
         ],
         "type": "scatter",
         "x": [
          0,
          0.6190382168786067,
          0.6190382168786067,
          0
         ],
         "xaxis": "x",
         "y": [
          -3895,
          -3895,
          -3905,
          -3905
         ],
         "yaxis": "y"
        },
        {
         "hoverinfo": "text",
         "marker": {
          "color": "rgb(61,153,112)"
         },
         "mode": "lines",
         "text": [
          "ukrainian_crimea_kiev_donetsk_conflict",
          "",
          "",
          "kiev_ukrainian_headquarters_government_city"
         ],
         "type": "scatter",
         "x": [
          0.6190382168786067,
          0.8560465256433301,
          0.8560465256433301,
          0
         ],
         "xaxis": "x",
         "y": [
          -3900,
          -3900,
          -3915,
          -3915
         ],
         "yaxis": "y"
        },
        {
         "hoverinfo": "text",
         "marker": {
          "color": "rgb(61,153,112)"
         },
         "mode": "lines",
         "text": [
          "tourist_tourism_visitor_visit_mobility",
          "",
          "",
          "ukrainian_crimea_kiev_donetsk_diplomacy"
         ],
         "type": "scatter",
         "x": [
          0,
          0.9690481420569926,
          0.9690481420569926,
          0.8560465256433301
         ],
         "xaxis": "x",
         "y": [
          -3885,
          -3885,
          -3907.5,
          -3907.5
         ],
         "yaxis": "y"
        },
        {
         "hoverinfo": "text",
         "marker": {
          "color": "rgb(255,65,54)"
         },
         "mode": "lines",
         "text": [
          "invasion_condemn_denounce_defend_condemnation",
          "",
          "",
          "aggression_violence_aggressive_war_denounce"
         ],
         "type": "scatter",
         "x": [
          0,
          0.5978306206031698,
          0.5978306206031698,
          0
         ],
         "xaxis": "x",
         "y": [
          -3935,
          -3935,
          -3945,
          -3945
         ],
         "yaxis": "y"
        },
        {
         "hoverinfo": "text",
         "marker": {
          "color": "rgb(255,65,54)"
         },
         "mode": "lines",
         "text": [
          "ukrainian_aggression_defend_condemn_atrocity",
          "",
          "",
          "condemn_denounce_invasion_condemnation_defend"
         ],
         "type": "scatter",
         "x": [
          0,
          0.7024703331877598,
          0.7024703331877598,
          0.5978306206031698
         ],
         "xaxis": "x",
         "y": [
          -3925,
          -3925,
          -3940,
          -3940
         ],
         "yaxis": "y"
        },
        {
         "hoverinfo": "text",
         "marker": {
          "color": "rgb(0,116,217)"
         },
         "mode": "lines",
         "text": [
          "ukrainian_crimea_kiev_donetsk_diplomacy",
          "",
          "",
          "condemn_aggression_denounce_condemnation_violence"
         ],
         "type": "scatter",
         "x": [
          0.9690481420569926,
          1.2905302036295034,
          1.2905302036295034,
          0.7024703331877598
         ],
         "xaxis": "x",
         "y": [
          -3896.25,
          -3896.25,
          -3932.5,
          -3932.5
         ],
         "yaxis": "y"
        },
        {
         "hoverinfo": "text",
         "marker": {
          "color": "rgb(35,205,205)"
         },
         "mode": "lines",
         "text": [
          "invasion_humanitarian_crisis_disaster_catastrophic",
          "",
          "",
          "humanitarian_crisis_disaster_catastrophe_peace"
         ],
         "type": "scatter",
         "x": [
          0,
          0.6401056826986777,
          0.6401056826986777,
          0
         ],
         "xaxis": "x",
         "y": [
          -3955,
          -3955,
          -3965,
          -3965
         ],
         "yaxis": "y"
        },
        {
         "hoverinfo": "text",
         "marker": {
          "color": "rgb(133,20,75)"
         },
         "mode": "lines",
         "text": [
          "war_tragedy_inhumanity_peace_suffer",
          "",
          "",
          "tragedy_tragic_occur_sympathy_devastation"
         ],
         "type": "scatter",
         "x": [
          0,
          0.542469668343859,
          0.542469668343859,
          0
         ],
         "xaxis": "x",
         "y": [
          -3975,
          -3975,
          -3985,
          -3985
         ],
         "yaxis": "y"
        },
        {
         "hoverinfo": "text",
         "marker": {
          "color": "rgb(133,20,75)"
         },
         "mode": "lines",
         "text": [
          "tragedy_tragic_devastation_occur_tragically",
          "",
          "",
          "sympathy_empathy_sorrow_compassion_distress"
         ],
         "type": "scatter",
         "x": [
          0.542469668343859,
          0.9139537786100328,
          0.9139537786100328,
          0
         ],
         "xaxis": "x",
         "y": [
          -3980,
          -3980,
          -3995,
          -3995
         ],
         "yaxis": "y"
        },
        {
         "hoverinfo": "text",
         "marker": {
          "color": "rgb(0,116,217)"
         },
         "mode": "lines",
         "text": [
          "humanitarian_crisis_disaster_catastrophe_war",
          "",
          "",
          "tragedy_tragic_occur_tragically_devastation"
         ],
         "type": "scatter",
         "x": [
          0.6401056826986777,
          1.0610950677502173,
          1.0610950677502173,
          0.9139537786100328
         ],
         "xaxis": "x",
         "y": [
          -3960,
          -3960,
          -3987.5,
          -3987.5
         ],
         "yaxis": "y"
        },
        {
         "hoverinfo": "text",
         "marker": {
          "color": "rgb(255,220,0)"
         },
         "mode": "lines",
         "text": [
          "thought_think_people_anybody_imagination",
          "",
          "",
          "prayer_prayerful_pray_thought_peace"
         ],
         "type": "scatter",
         "x": [
          0,
          0.6230360525728689,
          0.6230360525728689,
          0
         ],
         "xaxis": "x",
         "y": [
          -4005,
          -4005,
          -4015,
          -4015
         ],
         "yaxis": "y"
        },
        {
         "hoverinfo": "text",
         "marker": {
          "color": "rgb(40,35,35)"
         },
         "mode": "lines",
         "text": [
          "peace_peaceful_peacefully_ceasefire_wish",
          "",
          "",
          "hope_situation_hopeful_resolve_hopefully"
         ],
         "type": "scatter",
         "x": [
          0,
          0.6154759900613627,
          0.6154759900613627,
          0
         ],
         "xaxis": "x",
         "y": [
          -4025,
          -4025,
          -4035,
          -4035
         ],
         "yaxis": "y"
        },
        {
         "hoverinfo": "text",
         "marker": {
          "color": "rgb(0,116,217)"
         },
         "mode": "lines",
         "text": [
          "prayer_prayerful_pray_thought_peace",
          "",
          "",
          "hope_peace_hopeful_peacefully_resolve"
         ],
         "type": "scatter",
         "x": [
          0.6230360525728689,
          1.0966870337179928,
          1.0966870337179928,
          0.6154759900613627
         ],
         "xaxis": "x",
         "y": [
          -4010,
          -4010,
          -4030,
          -4030
         ],
         "yaxis": "y"
        },
        {
         "hoverinfo": "text",
         "marker": {
          "color": "rgb(0,116,217)"
         },
         "mode": "lines",
         "text": [
          "tragedy_humanitarian_disaster_catastrophe_sympathy",
          "",
          "",
          "prayer_prayerful_pray_thought_peace"
         ],
         "type": "scatter",
         "x": [
          1.0610950677502173,
          1.1971151945307212,
          1.1971151945307212,
          1.0966870337179928
         ],
         "xaxis": "x",
         "y": [
          -3973.75,
          -3973.75,
          -4020,
          -4020
         ],
         "yaxis": "y"
        },
        {
         "hoverinfo": "text",
         "marker": {
          "color": "rgb(61,153,112)"
         },
         "mode": "lines",
         "text": [
          "heart_people_everybody_life_tankers",
          "",
          "",
          "heart_conflict_impact_affect_sympathy"
         ],
         "type": "scatter",
         "x": [
          0,
          0.18109775091374636,
          0.18109775091374636,
          0
         ],
         "xaxis": "x",
         "y": [
          -4045,
          -4045,
          -4055,
          -4055
         ],
         "yaxis": "y"
        },
        {
         "hoverinfo": "text",
         "marker": {
          "color": "rgb(0,116,217)"
         },
         "mode": "lines",
         "text": [
          "humanitarian_prayer_compassion_peace_sympathy",
          "",
          "",
          "heart_people_everybody_sympathy_life"
         ],
         "type": "scatter",
         "x": [
          1.1971151945307212,
          1.295354269685312,
          1.295354269685312,
          0.18109775091374636
         ],
         "xaxis": "x",
         "y": [
          -3996.875,
          -3996.875,
          -4050,
          -4050
         ],
         "yaxis": "y"
        },
        {
         "hoverinfo": "text",
         "marker": {
          "color": "rgb(0,116,217)"
         },
         "mode": "lines",
         "text": [
          "condemn_invasion_defend_aggression_denounce",
          "",
          "",
          "prayer_pray_thought_compassion_people"
         ],
         "type": "scatter",
         "x": [
          1.2905302036295034,
          1.441338967533105,
          1.441338967533105,
          1.295354269685312
         ],
         "xaxis": "x",
         "y": [
          -3914.375,
          -3914.375,
          -4023.4375,
          -4023.4375
         ],
         "yaxis": "y"
        },
        {
         "hoverinfo": "text",
         "marker": {
          "color": "rgb(0,116,217)"
         },
         "mode": "lines",
         "text": [
          "refugee_humanitarian_charity_donation_unicef",
          "",
          "",
          "prayer_humanitarian_peace_pray_sympathy"
         ],
         "type": "scatter",
         "x": [
          1.1724868457026252,
          1.5390297580998848,
          1.5390297580998848,
          1.441338967533105
         ],
         "xaxis": "x",
         "y": [
          -3813.4375,
          -3813.4375,
          -3968.90625,
          -3968.90625
         ],
         "yaxis": "y"
        },
        {
         "hoverinfo": "text",
         "marker": {
          "color": "rgb(0,116,217)"
         },
         "mode": "lines",
         "text": [
          "belarus_kazakhstan_poland_suspend_geopolitical",
          "",
          "",
          "humanitarian_charity_unicef_aid_donation"
         ],
         "type": "scatter",
         "x": [
          1.6811561520481064,
          1.7758610741823992,
          1.7758610741823992,
          1.5390297580998848
         ],
         "xaxis": "x",
         "y": [
          -2530.0904032588005,
          -2530.0904032588005,
          -3891.171875,
          -3891.171875
         ],
         "yaxis": "y"
        },
        {
         "hoverinfo": "text",
         "marker": {
          "color": "rgb(0,116,217)"
         },
         "mode": "lines",
         "text": [
          "coal_shortage_pipeline_diesel_demand",
          "",
          "",
          "risk_support_statement_crisis_impact"
         ],
         "type": "scatter",
         "x": [
          1.5962251019140021,
          1.8577874880501708,
          1.8577874880501708,
          1.7758610741823992
         ],
         "xaxis": "x",
         "y": [
          -1046.9036865234375,
          -1046.9036865234375,
          -3210.6311391294003,
          -3210.6311391294003
         ],
         "yaxis": "y"
        },
        {
         "hoverinfo": "text",
         "marker": {
          "color": "rgb(0,116,217)"
         },
         "mode": "lines",
         "text": [
          "earnings_billion_impairment_million_ebit",
          "",
          "",
          "europe_oil_demand_production_european"
         ],
         "type": "scatter",
         "x": [
          1.7923321023007481,
          2.085093248193629,
          2.085093248193629,
          1.8577874880501708
         ],
         "xaxis": "x",
         "y": [
          -617.71484375,
          -617.71484375,
          -2128.767412826419,
          -2128.767412826419
         ],
         "yaxis": "y"
        },
        {
         "hoverinfo": "text",
         "marker": {
          "color": "rgb(0,116,217)"
         },
         "mode": "lines",
         "text": [
          "inflation_macroeconomic_pandemic_covid_recession",
          "",
          "",
          "market_production_revenue_coal_business"
         ],
         "type": "scatter",
         "x": [
          1.5419727930864489,
          2.381299331669623,
          2.381299331669623,
          2.085093248193629
         ],
         "xaxis": "x",
         "y": [
          -142.8125,
          -142.8125,
          -1373.2411282882094,
          -1373.2411282882094
         ],
         "yaxis": "y"
        },
        {
         "hoverinfo": "text",
         "hovertext": [
          "inflation_inflationary_monetary_economy_recession",
          "inflation_interest_inflationary_macroeconomic_recession",
          "inflation_inflationary_shortage_supply_macroeconomic",
          "covid_pandemic_coronavirus_conflict_war",
          "logistics_shortage_supply_supplier_inventory",
          "inflation_inflationary_macroeconomic_recession_interest",
          "headwind_tailwind_wind_head_headcount",
          "inflation_beijing_covid_china_inflationary",
          "inflation_inflationary_china_shanghai_covid",
          "headwind_tailwind_head_wind_headcount",
          "supply_inflation_logistics_shortage_macroeconomic",
          "impairment_impaired_expense_accounting_business",
          "billion_exposure_million_eur_amount",
          "chf_million_equity_financing_billion",
          "billion_income_million_eur_amount",
          "impairment_impaired_business_expense_accounting",
          "credit_loss_finance_financial_loans",
          "ratio_consolidate_combine_percentage_loss",
          "loan_loans_lender_financing_lend",
          "impairment_impaired_expense_asset_accounting",
          "airline_lease_leasing_aircraft_carrier",
          "exposure_visibility_clear_context_detail",
          "client_developer_business_exposure_partner",
          "revenue_profit_business_financial_earn",
          "exposure_visibility_clear_debris_detail",
          "impairment_impaired_accounting_expense_income",
          "currency_consumption_pricing_growth_sale",
          "fx_fxn_currency_euro_devaluation",
          "arr_growth_nrr_rate_retention",
          "suspension_filtration_expense_separation_acquisition",
          "outlook_sale_distributor_impact_business",
          "fiscal_growth_impact_forex_revenue",
          "ebitda_ebit_ebita_expense_margins",
          "growth_organic_organically_exclude_grow",
          "suspension_filtration_expense_separation_acquisition",
          "expect_war_expectation_beginning_forecast",
          "ebitda_revenue_growth_ebit_organic",
          "currency_fx_growth_expenditure_decrease",
          "volume_decrease_decline_drain_mute",
          "ebit_ebitda_earnings_revenue_currency",
          "income_impairment_revenue_expense_tax",
          "petroleum_refinery_oil_crude_diesel",
          "barrel_demand_oil_brent_crude",
          "revenue_business_heritage_retail_commercialization",
          "revenue_heritage_retail_commercialization_marketing",
          "crew_ship_fleet_seafarer_aboard",
          "grain_commodity_fertilizer_planting_cornstarch",
          "port_seaport_ship_seafarer_fleet",
          "wheat_maize_corn_agricultural_agriculture",
          "coal_market_demand_gas_supply",
          "tanker_fleet_freight_oilfield_gulfstream",
          "coal_demand_gas_supply_coking",
          "wheat_agriculture_maize_agricultural_corn",
          "coal_oil_gas_tanker_demand",
          "grain_sea_offshore_exporter_barge",
          "wiring_harness_wire_electrical_cable",
          "shortage_automotive_manufacturing_chip_production",
          "nickel_palladium_aluminum_concrete_metal",
          "wiring_harness_wire_electrical_cable",
          "steelmaking_steel_alloy_aluminum_market",
          "wiring_harness_wire_cable_electrical",
          "coal_market_demand_carbon_diesel",
          "japan_asia_india_revenue_europe",
          "gas_europe_eu_european_supply",
          "energy_renewable_demand_fuel_food",
          "energy_renewable_electricity_demand_infrastructure",
          "gas_europe_eu_oil_germany",
          "coal_demand_market_diesel_supply",
          "raw_material_commodity_plastics_resin",
          "petroleum_crude_refinery_oil_refiner",
          "war_economy_economic_gdp_affect",
          "geopolitical_geopolitically_geopolitics_sociopolitical_war",
          "uncertainty_uncertain_risk_confident_war",
          "risk_cost_leverage_hazard_mitigation",
          "market_marketing_marketplace_trading_stock",
          "business_entrepreneur_management_service_customer",
          "impact_impacting_hit_drop_magnitude",
          "business_impact_industry_effect_war",
          "crisis_impact_shock_affect_strategy",
          "conflict_course_student_assignment_war",
          "conflict_aggressor_discussion_issue_ongoing",
          "impact_crisis_war_impacting_conflict",
          "europe_eu_european_germany_asia",
          "sanction_sanctioning_compliance_sanctioned_regulation",
          "impact_impacting_conflict_effect_business",
          "risk_geopolitical_geopolitically_uncertainty_geopolitics",
          "february_march_war_june_april",
          "pricing_cost_demand_price_increase",
          "lady_gentleman_war_militarily_military",
          "volatility_lady_war_market_gentleman",
          "invade_invasion_troops_february_campaign",
          "development_develop_creation_capability_strategic",
          "minus_negligible_growth_exclude_negative",
          "touch_hand_sensitivity_number_david",
          "happen_go_know_come_wait",
          "number_touch_hand_bit_david",
          "quarter_impact_minute_rounding_war",
          "quarter_briefly_brief_situation_invasion",
          "go_happen_gofore_know_come",
          "invasion_invade_war_intensified_launch",
          "start_starting_begin_beginning_want",
          "question_think_come_thought_answer",
          "invasion_invade_war_february_march",
          "europe_eu_geopolitical_european_economic",
          "slide_presentation_pull_subsequent_flow",
          "sale_sell_buy_buyout_total",
          "sale_sell_purchase_buy_auction",
          "airspace_closure_overflight_interfere_airline",
          "cybersecurity_cyberwarfare_cyberattack_cybercrime_cyber",
          "defence_defense_militarization_nato_dod",
          "airspace_closure_overflight_flight_airline",
          "stand_support_solidarity_group_continue",
          "customer_service_company_salespeople_contract",
          "stand_support_people_solidarity_base",
          "trauma_injury_patient_hemodialysis_treatment",
          "update_operation_operational_activity_business",
          "backlog_forward_amount_prediction_roughly",
          "clinical_trial_patient_medical_treatment",
          "backlog_amount_rumor_project_detail",
          "stand_customer_people_support_employee",
          "facility_manufacturing_production_manufacture_factory",
          "ruble_rub1_rub_euro_currency",
          "debt_repay_leverage_finance_financial",
          "dividend_divide_earnings_shareholder_repayment",
          "gold_commodity_sale_sell_silver",
          "ruble_rub_currency_euro_depreciation",
          "advertising_advertiser_outbreak_revenue_sector",
          "wind_windstorm_profitable_mining_business",
          "capex_capexe_expenditure_budget_investment",
          "wind_windstorm_profitable_cost_business",
          "dislocation_slide_injury_tragic_fail",
          "capacity_utilization_limitation_reallocate_optimize",
          "respirator_headwind_disposable_utilization_decline",
          "belarus_belarusian_kazakhstan_moldova_country",
          "rest_business_company_entrepreneur_mena",
          "rwa_capital_capitalized_management_rebasing",
          "wind_business_profitable_investment_market",
          "titanium_supplier_vendor_supply_outsource",
          "belarus_belarusian_kazakhstan_asset_region",
          "gmv_marketplace_sector_retailer_advertising",
          "move_position_leave_away_change",
          "taiwan_news_reuters_newspaper_journalist",
          "china_chinese_hong_mainland_overseas",
          "sorting_sort_order_guide_7th",
          "belarus_belarusian_kazakhstan_business_company",
          "unwind_shutting_dispose_continue_operation",
          "war_week_exclude_activity_rone",
          "war_activity_dispose_ongoing_exclude",
          "respect_mean_negotiate_war_finally",
          "corona_challenge_war_reward_negotiate",
          "belarus_belarusian_putin_country_china",
          "kazakhstan_bank_kazakh_uzbekistan_banking",
          "situation_circumstance_happen_relationship_place",
          "belarus_belarusian_kazakhstan_kazakh_supplier",
          "clinical_patient_trial_treatment_medicine",
          "uniper_unipro_curtailment_curtail_gas",
          "recall_remember_inventory_enterprise_recover",
          "uncertainty_risk_information_pandemic_statement",
          "divestment_divest_divesting_divestiture_dive",
          "uncertainty_risk_pandemic_information_statement",
          "uniper_unipro_curtailment_gas_divestment",
          "belarus_belarusian_kazakhstan_putin_dea",
          "airspace_overflight_airline_flight_warfare",
          "talk_conversation_speak_discuss_chat",
          "speak_talk_listen_translation_english",
          "investment_invest_investor_investable_market",
          "belarus_belarusian_kazakhstan_subsidiary_putin",
          "belarus_belarusian_kazakhstan_putin_subsidiary",
          "turnover_freight_rail_railcar_railroad",
          "easter_holiday_omicron_christmas_december",
          "cash_payment_dividend_pay_invest",
          "belarus_belarusian_kazakhstan_subsidiary_putin",
          "turkey_istanbul_sale_turkish_sell",
          "poland_romania_hungary_slovakia_krakow",
          "exit_exiting_exited_leave_disconnect",
          "exit_exiting_exited_leave_disconnect",
          "belarus_belarusian_kazakhstan_poland_romania",
          "invasion_invade_impact_war_europe",
          "carlsberg_leave_profit_brand_merger",
          "employee_employer_personnel_colleague_employ",
          "donation_charity_donate_humanitarian_unicef",
          "safety_employee_priority_colleague_prioritize",
          "relocate_relocation_employee_carlsberg_migrate",
          "ukrainian_crimea_kiev_donetsk_conflict",
          "ukrainian_crimea_kiev_donetsk_diplomacy",
          "tragedy_tragic_devastation_occur_tragically",
          "humanitarian_crisis_disaster_catastrophe_war",
          "prayer_prayerful_pray_thought_peace",
          "tragedy_humanitarian_disaster_catastrophe_sympathy",
          "humanitarian_prayer_compassion_peace_sympathy",
          "condemn_invasion_defend_aggression_denounce",
          "refugee_humanitarian_charity_donation_unicef",
          "belarus_kazakhstan_poland_suspend_geopolitical",
          "coal_shortage_pipeline_diesel_demand",
          "earnings_billion_impairment_million_ebit",
          "inflation_macroeconomic_pandemic_covid_recession"
         ],
         "marker": {
          "color": "black"
         },
         "mode": "markers",
         "showlegend": false,
         "type": "scatter",
         "x": [
          0.8097300918785535,
          0.617309980621878,
          0.5379380793504402,
          0.6302635061151203,
          0.8219576981833222,
          1.1443869319599218,
          0.4728940323093124,
          0.4169054688055036,
          0.44794775803259085,
          0.6806242712383357,
          1.2916921561343573,
          0.9006299542247072,
          0.6475436499456819,
          0.7208749195550269,
          0.7314951736425418,
          1.080681100527829,
          0.5227663237665681,
          0.7888698361071373,
          1.0499409848176016,
          1.1565963893519962,
          0.7298483770873089,
          0.4369168748917205,
          0.3881752326486769,
          0.826463496839678,
          1.1266227574838468,
          1.415135607148821,
          0.7953317601282228,
          0.8270967476298221,
          0.9484928930465936,
          0.8984162332729375,
          0.7391031265956041,
          0.8834048970201079,
          0.7527579856462845,
          0.784085410760396,
          1.078637928915291,
          0.7808558304040454,
          1.1500111493593648,
          1.1749618086091012,
          0.5302734542284788,
          1.3246916376838151,
          1.6076162142288044,
          0.6378060918108172,
          0.9709523833069152,
          0.7924970093951438,
          1.1143725901521042,
          0.7486104547365822,
          0.4827767600513082,
          0.8138345228165028,
          0.8277894055574953,
          0.8880318030969,
          0.8898354540087831,
          1.0305495256428654,
          1.067354828124089,
          1.1435411119773442,
          1.205323834211732,
          0.8453149375926223,
          0.38169019925661074,
          0.5326421342229629,
          1.1209385550376114,
          0.4368381802256408,
          1.2920380024312152,
          1.2561306636681926,
          1.2103816392487248,
          0.7163718157952162,
          0.922194119425961,
          0.9959360309865863,
          0.9090966472397407,
          1.452369135117733,
          0.5127860706046163,
          1.0853012490964413,
          0.7420944054054782,
          0.5869140097611456,
          0.7617357721570361,
          0.7823623180843072,
          0.883890721277447,
          0.7425652293765945,
          0.7375889859899563,
          0.7936504452824722,
          0.9657121289768332,
          0.8783402015809045,
          0.7042198828488397,
          1.1098130212690656,
          0.5203321326493054,
          0.6428354850664328,
          1.1317784492924867,
          1.2801788165921717,
          0.8346912840205831,
          0.8612558045271326,
          0.9818118261896408,
          1.0515107836461473,
          1.051684784140136,
          0.8701180503600817,
          0.877914710945006,
          1.008481703661884,
          0.7347993192653395,
          1.1052733679402982,
          0.7347466598419305,
          0.9798597687632367,
          1.23536970912138,
          1.185495074504165,
          0.6408612968423788,
          0.8861345775871041,
          1.3523484151613139,
          1.34307196138327,
          0.2942578257722638,
          0.7318721938732987,
          0.880552364041104,
          0.9745564987602134,
          0.8300917139251572,
          0.7211745659519706,
          1.0274670245122717,
          0.8643439691941933,
          0.911274084340828,
          0.9575420305969758,
          0.8949641866582511,
          0.9563091985264258,
          0.9368341054005237,
          0.7872874127988202,
          1.1230359858886254,
          1.0650105074979312,
          0.6867250671773677,
          0.9430183920738584,
          0.8760095506130651,
          0.9311229853131034,
          0.9104768251658936,
          1.0232614378417044,
          0.9151354315276918,
          0.9821974474648374,
          0.9756981196596778,
          1.00414373575003,
          0.9960419200367798,
          0.9602119674925093,
          0.9894278773532277,
          0.878116750942884,
          0.9216997041774257,
          0.9811325445606564,
          1.0464887282015527,
          0.9058485761538253,
          1.0643175950890007,
          0.9734970360816871,
          0.9532885931290596,
          0.989046741451021,
          0.8436023773614402,
          0.9431733062172382,
          1.0733148273801143,
          0.9072396637453327,
          0.9598099345244564,
          1.024012861830102,
          0.8330651172038723,
          1.0832542942790628,
          1.1089632102954439,
          1.086414662126892,
          0.8449526737811581,
          1.1529594020336629,
          1.204416446505243,
          0.9120358802520842,
          0.9135892912898091,
          0.8604534791109733,
          1.0312534617350595,
          1.047023789318359,
          1.031398417040454,
          1.2212399230882556,
          1.2282223306912157,
          0.7065768274943974,
          0.7650816419957844,
          0.6294544028276713,
          1.2479173222021676,
          1.2738470916106024,
          0.5279666870501634,
          0.7099341556072585,
          0.4447369973334421,
          1.3104879700206007,
          1.26682619097218,
          1.3451760164004563,
          0.4132239756729904,
          0.8321416798396839,
          1.3923058082538906,
          1.5248359284185988,
          0.8926738900805992,
          0.8701902060845821,
          0.598031291596141,
          0.9647468273834566,
          1.0356200654518317,
          0.6190382168786067,
          0.9690481420569926,
          0.542469668343859,
          0.6401056826986777,
          0.6230360525728689,
          1.0610950677502173,
          1.1971151945307212,
          1.2905302036295034,
          1.1724868457026252,
          1.6811561520481064,
          1.5962251019140021,
          1.7923321023007481,
          1.5419727930864489
         ],
         "y": [
          -32.5,
          -10,
          -90,
          -130,
          -87.5,
          -28.125,
          -180,
          -220,
          -227.5,
          -190,
          -71.25,
          -302.5,
          -350,
          -380,
          -357.5,
          -316.25,
          -410,
          -450,
          -420,
          -344.375,
          -272.5,
          -510,
          -490,
          -543.75,
          -503.75,
          -332.34375,
          -612.5,
          -650,
          -609.375,
          -712.5,
          -690,
          -810,
          -790,
          -762.5,
          -708.125,
          -850,
          -745.9375,
          -634.6875,
          -880,
          -718.203125,
          -432.578125,
          -942.5,
          -912.5,
          -1020,
          -1030,
          -1090,
          -1120,
          -1097.5,
          -1160,
          -1223.75,
          -1200,
          -1219.6875,
          -1170,
          -1207.421875,
          -1113.75,
          -1330,
          -1310,
          -1360,
          -1323.75,
          -1400,
          -1346.875,
          -1181.23046875,
          -1046.25,
          -1442.5,
          -1492.5,
          -1506.25,
          -1456.25,
          -1163.0419921875,
          -992.5,
          -934.375,
          -1640,
          -1620,
          -1592.5,
          -1562.5,
          -1702.5,
          -1750,
          -1780,
          -1757.5,
          -1716.25,
          -1672.5,
          -1810,
          -1708.4375,
          -1860,
          -1840,
          -1762.96875,
          -1587.8125,
          -1890,
          -1970,
          -1942.5,
          -1960,
          -1901.25,
          -2020,
          -2072.5,
          -2031.25,
          -2120,
          -2058.75,
          -2150,
          -2160,
          -2093.125,
          -1940.625,
          -2240,
          -2212.5,
          -2037.34375,
          -1698.0859375,
          -2270,
          -2330,
          -2326.25,
          -2402.5,
          -2470,
          -2450,
          -2416.25,
          -2530,
          -2560,
          -2537.5,
          -2660,
          -2632.5,
          -2602.5,
          -2700,
          -2626.875,
          -2553.75,
          -2510,
          -2770,
          -2750,
          -2730,
          -2800,
          -2746.875,
          -2840,
          -2962.5,
          -3010,
          -2976.25,
          -2932.5,
          -2902.5,
          -2872.5,
          -3090,
          -3070,
          -3042.5,
          -2903.046875,
          -3120,
          -2983.0859375,
          -2847.5,
          -3210,
          -3220,
          -3190,
          -3162.5,
          -2952.021484375,
          -3290,
          -3297.5,
          -3308.75,
          -3270,
          -3297.8125,
          -3069.7607421875,
          -2778.4375,
          -3400,
          -2990.447998046875,
          -2560.234375,
          -3440,
          -3480,
          -3530,
          -3491.25,
          -3514.375,
          -3450,
          -2880.2291870117188,
          -2440.625,
          -3620,
          -3600,
          -3580,
          -2813.7682342529297,
          -3205.321617126465,
          -2380,
          -3690,
          -3670,
          -2903.830404281616,
          -2343.125,
          -2281.25,
          -3720,
          -3727.5,
          -2549.853800535202,
          -1915.87890625,
          -3770,
          -3812.5,
          -3860,
          -3826.25,
          -3780,
          -3900,
          -3896.25,
          -3980,
          -3960,
          -4010,
          -3973.75,
          -3996.875,
          -3914.375,
          -3813.4375,
          -2530.0904032588005,
          -1046.9036865234375,
          -617.71484375,
          -142.8125
         ]
        },
        {
         "hoverinfo": "text",
         "hovertext": [
          "inflation_inflationary_inflationist_monetary_economy",
          "consumer_sentiment_postwar_consumption_demand",
          "sentiment_consumer_inflation_austerity_war",
          "logistics_supply_shortage_supplier_inventory",
          "logistics_supply_supplier_inventory_shortage",
          "pandemic_illness_wars_crisis_war",
          "pandemic_illness_crisis_viral_war",
          "pandemic_covid_war_coronavirus_crisis",
          "pandemic_logistics_shortage_supply_covid",
          "covid_china_headwind_growth_revenue",
          "lockdown_china_shanghai_chinese_disruption",
          "china_shanghai_lockdown_chinese_geopolitical",
          "china_shanghai_lockdown_inflation_chinese",
          "airline_lease_leasing_aircraft_carrier",
          "impairment_impaired_expense_income_accounting",
          "asset_investor_investment_estate_property",
          "chf_million_financing_billion_amount",
          "billion_income_million_eur_amount",
          "loan_loans_lender_financing_lend",
          "reinsurance_insurer_reinsurer_insurance_noninsurance",
          "reinsurance_reinsurer_insurer_insurance_ratio",
          "insurer_reinsurer_reinsurance_financing_insurance",
          "impairment_income_expense_accounting_asset",
          "exposure_visibility_clear_context_detail",
          "revenue_profit_business_financial_advertising",
          "revenue_profit_business_financial_earn",
          "small_tiny_little_size_large",
          "revenue_profit_business_financial_earn",
          "exposure_visibility_clear_revenue_incentive",
          "currency_monetary_consumption_pricing_growth",
          "currency_consumption_growth_pricing_monetization",
          "gaap_earnings_adjustment_expense_expenditure",
          "fx_earnings_currency_euro_adjustment",
          "suspension_decline_revenue_cancellation_curtailment",
          "disposal_accumulate_acquire_acquisition_exchange",
          "suspension_filtration_expense_separation_acquisition",
          "organic_organically_growth_revenue_impact",
          "expectation_expect_impact_forecast_line",
          "impact_fiscal_growth_forecast_revenue",
          "ebitda_ebit_ebita_margins_margin",
          "growth_organic_organically_ebitda_revenue",
          "expect_war_expectation_forecast_wish",
          "ebitda_growth_ebit_decrease_organic",
          "volume_decrease_decline_drop_reduction",
          "ebitda_ebit_earnings_revenue_currency",
          "brent_barrel_oil_demand_crude",
          "refinery_petroleum_crude_oil_diesel",
          "opec_oil_petroleum_market_demand",
          "oil_petroleum_crude_refinery_diesel",
          "raw_material_commodity_plastics_tissue",
          "brazil_paraguay_japan_chile_australia",
          "revenue_profit_india_investment_japan",
          "asia_india_saudi_japan_arabia",
          "tire_tyre_carbon_black_supplier",
          "grain_produce_farmland_ton_inventory",
          "fertilizer_produce_agriculture_phosphorus_planting",
          "pipeline_pipe_lng_demand_supply",
          "coal_demand_eu_europe_gas",
          "coal_market_demand_europe_gas",
          "wood_lumber_timber_birch_hardwood",
          "coal_pipeline_sourcing_supply_demand",
          "diesel_petrol_fuel_petroleum_gasoline",
          "coal_eu_europe_diesel_shortage",
          "wiring_harness_wire_electrical_cable",
          "aluminium_aluminum_alumina_al_alcoa",
          "aluminium_aluminum_copper_steel_metal",
          "pig_iron_ferrous_steel_steelmaker",
          "pig_iron_ferrous_steelmaking_steel",
          "wiring_wire_european_harness_aluminium",
          "coal_diesel_export_supplier_exporting",
          "gas_europe_supply_eu_european",
          "gas_oil_gasoline_commodity_market",
          "energy_renewable_electricity_demand_europe",
          "fueling_fuel_petrol_gasoline_fossil",
          "uranium_nuclear_reactor_enrichment_isotope",
          "uranium_reactor_nuclear_enrichment_supply",
          "nuclear_uranium_reactor_enrichment_energy",
          "coal_pipeline_demand_gas_shortage",
          "coal_export_diesel_production_exporter",
          "risk_protect_cost_leverage_hazard",
          "uncertainty_uncertain_risk_confident_war",
          "war_wars_economy_economic_gdp",
          "geopolitical_geopolitically_geopolitics_sociopolitical_war",
          "geopolitical_geopolitically_geopolitics_war_crisis",
          "student_conflict_course_exam_assignment",
          "market_marketplace_trading_stock_sell",
          "crisis_impact_turmoil_risk_dramatically",
          "impact_impacting_hit_unaffected_drop",
          "impact_impacting_war_effect_affect",
          "impact_impacting_crisis_effect_affect",
          "conflict_confliction_fighting_issue_ongoing",
          "europe_european_eu_asia_continent",
          "europe_sanction_european_eu_impact",
          "europe_eu_european_impact_impacting",
          "invade_invasion_invader_overrun_mercenary",
          "invade_invasion_invader_campaign_aggressively",
          "volatility_market_volatile_increase_war",
          "pricing_cost_price_increase_upcoming",
          "q2_q3_q1_q4_qsr",
          "volatility_lady_war_market_gentleman",
          "number_mathematical_calculation_count_combination",
          "touch_hand_sensitivity_number_feedback",
          "minus_negligible_exclude_negative_growth",
          "guidance_guide_advice_exclude_include",
          "guidance_guide_growth_advice_rate",
          "happen_go_know_come_gofore",
          "briefly_situation_brief_address_let",
          "commenting_comment_war_discuss_like",
          "situation_briefly_let_commenting_war",
          "briefly_development_situation_beginning_touch",
          "question_think_thought_answer_ask",
          "start_starting_begin_beginning_sell",
          "think_question_thought_ask_begin",
          "invasion_invade_war_year_march",
          "romania_romanian_bulgaria_international_moldova",
          "poland_romania_hungary_slovakia_gdansk",
          "sale_sell_buy_buyout_total",
          "turkey_turkish_istanbul_osman_azerbaijan",
          "airspace_closure_overflight_interfere_airline",
          "flight_inflation_inflationary_covid_disruption",
          "drone_unmanned_aerial_helicopter_deploy",
          "cybersecurity_cyberattack_cybercrime_cyber_threat",
          "cybersecurity_threat_cyberattack_warfare_security",
          "rebuild_reconstruction_redevelopment_restoration_strengthen",
          "customer_service_company_salespeople_contract",
          "project_gtt_exposure_build_ongoing",
          "update_operation_operational_activity_announce",
          "presence_facility_destination_location_regard",
          "presence_patient_injure_trauma_hemodialysis",
          "presence_patient_conduct_operational_activity",
          "trial_clinical_patient_enrollment_medical",
          "patient_clinical_medicine_treatment_dr",
          "patient_clinical_medical_medicine_treatment",
          "ruble_rub1_rub_euro_currency",
          "ruble_rub1_rub_value_euro",
          "bank_banking_sberbank_banknote_raiffeisenbank",
          "bank_banking_banknote_sberbank_financial",
          "poultry_chicken_livestock_meat_production",
          "capacity_utilization_limitation_reallocate_optimize",
          "western_west_market_mind_border",
          "wind_windstorm_windfall_profitable_business",
          "withdraw_withdrawal_abandon_terminate_activity",
          "capex_capexe_expenditure_investment_spend",
          "wind_windstorm_profitable_investment_business",
          "wind_windstorm_investment_profitable_business",
          "wind_windstorm_investment_business_market",
          "capital_capitalized_cap_financing_rebasing",
          "belarus_belarusian_kazakhstan_moldova_country",
          "belarus_belarusian_kazakhstan_moldova_country",
          "belarus_belarusian_kazakhstan_sale_country",
          "expose_visibility_public_directly_eavesdroppe",
          "titanium_supplier_supply_purchase_tikkurila",
          "belarus_belarusian_kazakhstan_country_market",
          "sorting_sort_order_seasonality_guide",
          "news_reuters_newspaper_journalist_taiwan",
          "putin_litvinenko_vladimir_soviet_invade",
          "putin_litvinenko_vladimir_invade_ussr",
          "putin_litvinenko_vladimir_invade_ussr",
          "putin_litvinenko_invade_vladimir_ussr",
          "yes_country_related_yeah_canada",
          "corona_war_challenge_news_spite",
          "corona_war_challenge_news_spite",
          "corona_challenge_war_reward_spite",
          "topic_discussion_discuss_presentation_conversation",
          "cobalt_buy_receive_total_nordion",
          "cobalt_buy_receive_nordion_total",
          "belarus_belarusian_putin_capital_country",
          "monitoring_monitor_watch_continue_cautiously",
          "monitoring_monitor_watch_continue_assess",
          "belarus_belarusian_kazakhstan_kazakh_putin",
          "strategic_strategical_business_acquisition_option",
          "divestment_divest_divesting_dive_divestiture",
          "divestment_divest_divesting_divestiture_dive",
          "uncertainty_risk_information_pandemic_statement",
          "kfc_franchise_franchisee_gaap_transfer",
          "risk_pandemic_uncertainty_management_information",
          "risk_uncertainty_pandemic_information_statement",
          "belarus_belarusian_kazakhstan_risk_sanction",
          "talk_speak_conversation_discuss_chat",
          "speak_talk_conversation_communicate_communication",
          "speak_talk_conversation_chat_hearing",
          "store_retailer_shop_retail_shopping",
          "belarus_belarusian_kazakhstan_nato_subsidiary",
          "omicron_easter_holiday_christmas_october",
          "omicron_easter_holiday_christmas_october",
          "belarus_belarusian_kazakhstan_subsidiary_business",
          "belarus_belarusian_kazakhstan_nato_subsidiary",
          "suspend_suspending_suspension_halt_hibernation",
          "suspending_suspend_suspension_halt_temporarily",
          "belarus_belarusian_kazakhstan_subsidiary_poland",
          "relocate_relocation_move_employee_migrate",
          "employee_employer_personnel_employ_staff",
          "safety_employee_priority_safeguard_colleague",
          "refugee_humanitarian_refugees_charity_donation",
          "refugee_humanitarian_charity_donation_unicef",
          "ukrainian_crimea_kiev_donetsk_diplomacy",
          "condemn_denounce_invasion_condemnation_defend",
          "condemn_aggression_denounce_condemnation_violence",
          "tragedy_tragic_occur_tragically_devastation",
          "hope_peace_hopeful_peacefully_resolve",
          "prayer_prayerful_pray_thought_peace",
          "heart_people_everybody_sympathy_life",
          "prayer_pray_thought_compassion_people",
          "prayer_humanitarian_peace_pray_sympathy",
          "humanitarian_charity_unicef_aid_donation",
          "risk_support_statement_crisis_impact",
          "europe_oil_demand_production_european",
          "market_production_revenue_coal_business"
         ],
         "marker": {
          "color": "black"
         },
         "mode": "markers",
         "showlegend": false,
         "type": "scatter",
         "x": [
          0.6024710433742665,
          0.5463315360448371,
          0.961362076147636,
          0.4132138146488462,
          0.59045019176666,
          0.6664048956437602,
          0.7665219991691801,
          0.9333331139187502,
          1.1957309580774214,
          0.634638174142157,
          0.5030586752070967,
          0.6078615833528598,
          1.4141628041168937,
          0.48467764408616254,
          0.6831758528455871,
          0.6377780577168533,
          0.9328896316015048,
          0.9544574149759351,
          0.5660190449375853,
          0.8783773905550883,
          0.9724164890498648,
          1.2332747712244803,
          1.349023439823677,
          0.6703199342258395,
          0.541276143891551,
          0.7304010384289814,
          0.5238985560783815,
          1.235264240507132,
          1.4229750946234447,
          0.6602548260837571,
          0.91657046516456,
          0.7221657457438699,
          0.8819926649847833,
          0.7691069928579426,
          0.9120667191532366,
          1.053351361476965,
          0.6993262251460828,
          0.8019534766890193,
          0.9328470546049951,
          0.9901345910063917,
          1.1284870217284104,
          0.8091444228775188,
          1.232207728971281,
          0.7151338939513747,
          1.3648627179362247,
          0.7692698882103557,
          0.5423859276209202,
          0.6891085964701089,
          0.8956125762777878,
          0.32620702621769737,
          0.6337346733011086,
          0.6386312353672693,
          0.6891227010242507,
          0.8344416987959432,
          1.1238464005889302,
          0.7767485476707481,
          0.838345187764449,
          0.8789284233523529,
          0.9696791878428596,
          0.8522624117868146,
          1.0642364225147751,
          0.7234993704548995,
          1.1636548609016273,
          0.9284579437222296,
          0.7965666579723425,
          1.0887152094615387,
          0.6246869574245879,
          1.1666468723924899,
          1.3425316878305058,
          1.4091956003527957,
          0.5410415466705941,
          0.8516848137672723,
          0.6965771785710093,
          0.847410990314768,
          0.7397317102049535,
          1.0986894760908712,
          1.2422156659277213,
          1.4823355893484844,
          1.5055017189389288,
          0.6494903671378044,
          0.48792796213979883,
          0.9539657332145971,
          1.0878740086458298,
          1.2380658029277665,
          0.7561808242356975,
          0.7823189832350559,
          0.8635430977056477,
          0.9537141186763207,
          0.998254902030649,
          1.0820169658743402,
          0.7384094680032383,
          0.8925666730741384,
          1.1438912317189813,
          1.2035246442186778,
          0.6066451341388175,
          0.7625203130862677,
          0.7903360861163978,
          0.8811890441625125,
          0.6999257264549761,
          1.1535555062138136,
          0.9039995880084142,
          0.941080344441754,
          0.8293718742039857,
          0.8658047210681117,
          0.998717423899543,
          0.842052688023261,
          0.7928196743945667,
          0.5549532346559508,
          1.0965299519887548,
          1.2555926770961605,
          0.6156669207526523,
          0.9532999152934263,
          1.1119022009757944,
          1.3767223897284582,
          0.568418486673737,
          0.7810326200325148,
          0.8503352113836251,
          0.509603492688742,
          0.751050869759387,
          0.8781663330966286,
          0.8998287644435062,
          1.0370683259314981,
          1.0925581524232217,
          0.8736731438599317,
          0.9788820665985273,
          0.8626724295470629,
          0.7924024965658946,
          0.9387074348044554,
          1.0407724458381558,
          1.0828104238573928,
          0.98186614611122,
          1.1623434319019252,
          1.1920347555691702,
          0.9774442378879538,
          1.014181973008452,
          0.8838583865718831,
          0.9899300959287971,
          0.9410786193797134,
          0.9234805569515826,
          0.9361628855878447,
          0.9506181332812402,
          0.975633609450251,
          0.9970536055528177,
          1.0163653965032597,
          1.027498647338559,
          1.0335722126274793,
          0.8900757075781605,
          0.9800911281749521,
          1.0006555002527278,
          1.046514911779607,
          0.9265045492321278,
          1.05472735258489,
          1.0717358479866872,
          0.8699664073515909,
          0.9587635890287608,
          0.9737766842500201,
          1.0046293892380433,
          1.0407991149941755,
          1.0821608933935414,
          0.9361800497289052,
          0.8942436749117281,
          0.9830122958957664,
          1.0618916989700296,
          0.8723080282409731,
          0.9633825089449344,
          1.1165956693284134,
          1.1272261405059816,
          0.8761873965175094,
          0.9992794911276399,
          1.1766127942331424,
          0.7717764288219223,
          0.8851359400079785,
          0.959887949578962,
          0.9866594443734067,
          0.7763028016041742,
          1.095322315933621,
          1.1502742634050787,
          1.231054350757169,
          0.9685500292099549,
          1.1650956060049706,
          1.2222556007883116,
          0.546304244094503,
          1.2880669363494552,
          0.8376090314637106,
          1.2906176836788554,
          1.3313261502839453,
          1.3418408637473036,
          0.421618895484434,
          1.2670257830106972,
          1.423614334544529,
          0.7096072595124098,
          0.7687095814982782,
          0.6619541930768524,
          0.9302813789122745,
          1.1125747607917218,
          0.8560465256433301,
          0.5978306206031698,
          0.7024703331877598,
          0.9139537786100328,
          0.6154759900613627,
          1.0966870337179928,
          0.18109775091374636,
          1.295354269685312,
          1.441338967533105,
          1.5390297580998848,
          1.7758610741823992,
          1.8577874880501708,
          2.085093248193629
         ],
         "y": [
          -40,
          -60,
          -46.25,
          -110,
          -100,
          -160,
          -152.5,
          -141.25,
          -114.375,
          -200,
          -250,
          -238.75,
          -214.375,
          -280,
          -310,
          -330,
          -387.5,
          -372.5,
          -430,
          -470,
          -460,
          -440,
          -392.1875,
          -517.5,
          -560,
          -552.5,
          -580,
          -561.875,
          -532.8125,
          -620,
          -623.75,
          -670,
          -660,
          -720,
          -740,
          -726.25,
          -770,
          -830,
          -820,
          -805,
          -783.75,
          -857.5,
          -801.71875,
          -887.5,
          -802.8515625,
          -920,
          -950,
          -970,
          -956.25,
          -1000,
          -1040,
          -1070,
          -1062.5,
          -1140,
          -1130,
          -1180,
          -1240,
          -1232.5,
          -1239.375,
          -1270,
          -1244.84375,
          -1290,
          -1248.7109375,
          -1337.5,
          -1380,
          -1370,
          -1420,
          -1410,
          -1378.4375,
          -1279.833984375,
          -1450,
          -1470,
          -1500,
          -1520,
          -1540,
          -1523.125,
          -1489.6875,
          -1326.36474609375,
          -1159.432373046875,
          -1570,
          -1600,
          -1647.5,
          -1633.75,
          -1613.125,
          -1680,
          -1710,
          -1730,
          -1787.5,
          -1772.5,
          -1744.375,
          -1817.5,
          -1867.5,
          -1853.75,
          -1808.359375,
          -1920,
          -1912.5,
          -1950,
          -1977.5,
          -2000,
          -1980,
          -2050,
          -2042.5,
          -2080,
          -2100,
          -2086.25,
          -2127.5,
          -2170,
          -2190,
          -2175,
          -2134.0625,
          -2220,
          -2247.5,
          -2230,
          -2133.671875,
          -2300,
          -2292.5,
          -2337.5,
          -2360,
          -2410,
          -2430,
          -2490,
          -2480,
          -2465,
          -2580,
          -2570,
          -2610,
          -2640,
          -2680,
          -2670,
          -2651.25,
          -2707.5,
          -2667.1875,
          -2610.46875,
          -2777.5,
          -2763.75,
          -2820,
          -2810,
          -2880,
          -2910,
          -2940,
          -2970,
          -2990,
          -3017.5,
          -2996.875,
          -2964.6875,
          -2933.59375,
          -3050,
          -3097.5,
          -3083.75,
          -3063.125,
          -3140,
          -3130,
          -3056.54296875,
          -3170,
          -3230,
          -3250,
          -3235,
          -3212.5,
          -3187.5,
          -3320,
          -3350,
          -3342.5,
          -3325.625,
          -3380,
          -3372.5,
          -3335.15625,
          -3202.45849609375,
          -3420,
          -3410,
          -3200.2239990234375,
          -3460,
          -3510,
          -3502.5,
          -3537.5,
          -3560,
          -3537.1875,
          -3493.59375,
          -3186.9114685058594,
          -3627.5,
          -3613.75,
          -3596.875,
          -3650,
          -3427.6608085632324,
          -3697.5,
          -3683.75,
          -3293.790202140808,
          -2818.457601070404,
          -3750,
          -3738.75,
          -3144.301900267601,
          -3790,
          -3820,
          -3840,
          -3867.5,
          -3846.875,
          -3907.5,
          -3940,
          -3932.5,
          -3987.5,
          -4030,
          -4020,
          -4050,
          -4023.4375,
          -3968.90625,
          -3891.171875,
          -3210.6311391294003,
          -2128.767412826419,
          -1373.2411282882094
         ]
        }
       ],
       "layout": {
        "autosize": false,
        "height": 6290,
        "hoverlabel": {
         "bgcolor": "white",
         "font": {
          "family": "Rockwell",
          "size": 16
         }
        },
        "hovermode": "closest",
        "plot_bgcolor": "#ECEFF1",
        "showlegend": false,
        "template": {
         "data": {
          "bar": [
           {
            "error_x": {
             "color": "#2a3f5f"
            },
            "error_y": {
             "color": "#2a3f5f"
            },
            "marker": {
             "line": {
              "color": "white",
              "width": 0.5
             },
             "pattern": {
              "fillmode": "overlay",
              "size": 10,
              "solidity": 0.2
             }
            },
            "type": "bar"
           }
          ],
          "barpolar": [
           {
            "marker": {
             "line": {
              "color": "white",
              "width": 0.5
             },
             "pattern": {
              "fillmode": "overlay",
              "size": 10,
              "solidity": 0.2
             }
            },
            "type": "barpolar"
           }
          ],
          "carpet": [
           {
            "aaxis": {
             "endlinecolor": "#2a3f5f",
             "gridcolor": "#C8D4E3",
             "linecolor": "#C8D4E3",
             "minorgridcolor": "#C8D4E3",
             "startlinecolor": "#2a3f5f"
            },
            "baxis": {
             "endlinecolor": "#2a3f5f",
             "gridcolor": "#C8D4E3",
             "linecolor": "#C8D4E3",
             "minorgridcolor": "#C8D4E3",
             "startlinecolor": "#2a3f5f"
            },
            "type": "carpet"
           }
          ],
          "choropleth": [
           {
            "colorbar": {
             "outlinewidth": 0,
             "ticks": ""
            },
            "type": "choropleth"
           }
          ],
          "contour": [
           {
            "colorbar": {
             "outlinewidth": 0,
             "ticks": ""
            },
            "colorscale": [
             [
              0,
              "#0d0887"
             ],
             [
              0.1111111111111111,
              "#46039f"
             ],
             [
              0.2222222222222222,
              "#7201a8"
             ],
             [
              0.3333333333333333,
              "#9c179e"
             ],
             [
              0.4444444444444444,
              "#bd3786"
             ],
             [
              0.5555555555555556,
              "#d8576b"
             ],
             [
              0.6666666666666666,
              "#ed7953"
             ],
             [
              0.7777777777777778,
              "#fb9f3a"
             ],
             [
              0.8888888888888888,
              "#fdca26"
             ],
             [
              1,
              "#f0f921"
             ]
            ],
            "type": "contour"
           }
          ],
          "contourcarpet": [
           {
            "colorbar": {
             "outlinewidth": 0,
             "ticks": ""
            },
            "type": "contourcarpet"
           }
          ],
          "heatmap": [
           {
            "colorbar": {
             "outlinewidth": 0,
             "ticks": ""
            },
            "colorscale": [
             [
              0,
              "#0d0887"
             ],
             [
              0.1111111111111111,
              "#46039f"
             ],
             [
              0.2222222222222222,
              "#7201a8"
             ],
             [
              0.3333333333333333,
              "#9c179e"
             ],
             [
              0.4444444444444444,
              "#bd3786"
             ],
             [
              0.5555555555555556,
              "#d8576b"
             ],
             [
              0.6666666666666666,
              "#ed7953"
             ],
             [
              0.7777777777777778,
              "#fb9f3a"
             ],
             [
              0.8888888888888888,
              "#fdca26"
             ],
             [
              1,
              "#f0f921"
             ]
            ],
            "type": "heatmap"
           }
          ],
          "heatmapgl": [
           {
            "colorbar": {
             "outlinewidth": 0,
             "ticks": ""
            },
            "colorscale": [
             [
              0,
              "#0d0887"
             ],
             [
              0.1111111111111111,
              "#46039f"
             ],
             [
              0.2222222222222222,
              "#7201a8"
             ],
             [
              0.3333333333333333,
              "#9c179e"
             ],
             [
              0.4444444444444444,
              "#bd3786"
             ],
             [
              0.5555555555555556,
              "#d8576b"
             ],
             [
              0.6666666666666666,
              "#ed7953"
             ],
             [
              0.7777777777777778,
              "#fb9f3a"
             ],
             [
              0.8888888888888888,
              "#fdca26"
             ],
             [
              1,
              "#f0f921"
             ]
            ],
            "type": "heatmapgl"
           }
          ],
          "histogram": [
           {
            "marker": {
             "pattern": {
              "fillmode": "overlay",
              "size": 10,
              "solidity": 0.2
             }
            },
            "type": "histogram"
           }
          ],
          "histogram2d": [
           {
            "colorbar": {
             "outlinewidth": 0,
             "ticks": ""
            },
            "colorscale": [
             [
              0,
              "#0d0887"
             ],
             [
              0.1111111111111111,
              "#46039f"
             ],
             [
              0.2222222222222222,
              "#7201a8"
             ],
             [
              0.3333333333333333,
              "#9c179e"
             ],
             [
              0.4444444444444444,
              "#bd3786"
             ],
             [
              0.5555555555555556,
              "#d8576b"
             ],
             [
              0.6666666666666666,
              "#ed7953"
             ],
             [
              0.7777777777777778,
              "#fb9f3a"
             ],
             [
              0.8888888888888888,
              "#fdca26"
             ],
             [
              1,
              "#f0f921"
             ]
            ],
            "type": "histogram2d"
           }
          ],
          "histogram2dcontour": [
           {
            "colorbar": {
             "outlinewidth": 0,
             "ticks": ""
            },
            "colorscale": [
             [
              0,
              "#0d0887"
             ],
             [
              0.1111111111111111,
              "#46039f"
             ],
             [
              0.2222222222222222,
              "#7201a8"
             ],
             [
              0.3333333333333333,
              "#9c179e"
             ],
             [
              0.4444444444444444,
              "#bd3786"
             ],
             [
              0.5555555555555556,
              "#d8576b"
             ],
             [
              0.6666666666666666,
              "#ed7953"
             ],
             [
              0.7777777777777778,
              "#fb9f3a"
             ],
             [
              0.8888888888888888,
              "#fdca26"
             ],
             [
              1,
              "#f0f921"
             ]
            ],
            "type": "histogram2dcontour"
           }
          ],
          "mesh3d": [
           {
            "colorbar": {
             "outlinewidth": 0,
             "ticks": ""
            },
            "type": "mesh3d"
           }
          ],
          "parcoords": [
           {
            "line": {
             "colorbar": {
              "outlinewidth": 0,
              "ticks": ""
             }
            },
            "type": "parcoords"
           }
          ],
          "pie": [
           {
            "automargin": true,
            "type": "pie"
           }
          ],
          "scatter": [
           {
            "fillpattern": {
             "fillmode": "overlay",
             "size": 10,
             "solidity": 0.2
            },
            "type": "scatter"
           }
          ],
          "scatter3d": [
           {
            "line": {
             "colorbar": {
              "outlinewidth": 0,
              "ticks": ""
             }
            },
            "marker": {
             "colorbar": {
              "outlinewidth": 0,
              "ticks": ""
             }
            },
            "type": "scatter3d"
           }
          ],
          "scattercarpet": [
           {
            "marker": {
             "colorbar": {
              "outlinewidth": 0,
              "ticks": ""
             }
            },
            "type": "scattercarpet"
           }
          ],
          "scattergeo": [
           {
            "marker": {
             "colorbar": {
              "outlinewidth": 0,
              "ticks": ""
             }
            },
            "type": "scattergeo"
           }
          ],
          "scattergl": [
           {
            "marker": {
             "colorbar": {
              "outlinewidth": 0,
              "ticks": ""
             }
            },
            "type": "scattergl"
           }
          ],
          "scattermapbox": [
           {
            "marker": {
             "colorbar": {
              "outlinewidth": 0,
              "ticks": ""
             }
            },
            "type": "scattermapbox"
           }
          ],
          "scatterpolar": [
           {
            "marker": {
             "colorbar": {
              "outlinewidth": 0,
              "ticks": ""
             }
            },
            "type": "scatterpolar"
           }
          ],
          "scatterpolargl": [
           {
            "marker": {
             "colorbar": {
              "outlinewidth": 0,
              "ticks": ""
             }
            },
            "type": "scatterpolargl"
           }
          ],
          "scatterternary": [
           {
            "marker": {
             "colorbar": {
              "outlinewidth": 0,
              "ticks": ""
             }
            },
            "type": "scatterternary"
           }
          ],
          "surface": [
           {
            "colorbar": {
             "outlinewidth": 0,
             "ticks": ""
            },
            "colorscale": [
             [
              0,
              "#0d0887"
             ],
             [
              0.1111111111111111,
              "#46039f"
             ],
             [
              0.2222222222222222,
              "#7201a8"
             ],
             [
              0.3333333333333333,
              "#9c179e"
             ],
             [
              0.4444444444444444,
              "#bd3786"
             ],
             [
              0.5555555555555556,
              "#d8576b"
             ],
             [
              0.6666666666666666,
              "#ed7953"
             ],
             [
              0.7777777777777778,
              "#fb9f3a"
             ],
             [
              0.8888888888888888,
              "#fdca26"
             ],
             [
              1,
              "#f0f921"
             ]
            ],
            "type": "surface"
           }
          ],
          "table": [
           {
            "cells": {
             "fill": {
              "color": "#EBF0F8"
             },
             "line": {
              "color": "white"
             }
            },
            "header": {
             "fill": {
              "color": "#C8D4E3"
             },
             "line": {
              "color": "white"
             }
            },
            "type": "table"
           }
          ]
         },
         "layout": {
          "annotationdefaults": {
           "arrowcolor": "#2a3f5f",
           "arrowhead": 0,
           "arrowwidth": 1
          },
          "autotypenumbers": "strict",
          "coloraxis": {
           "colorbar": {
            "outlinewidth": 0,
            "ticks": ""
           }
          },
          "colorscale": {
           "diverging": [
            [
             0,
             "#8e0152"
            ],
            [
             0.1,
             "#c51b7d"
            ],
            [
             0.2,
             "#de77ae"
            ],
            [
             0.3,
             "#f1b6da"
            ],
            [
             0.4,
             "#fde0ef"
            ],
            [
             0.5,
             "#f7f7f7"
            ],
            [
             0.6,
             "#e6f5d0"
            ],
            [
             0.7,
             "#b8e186"
            ],
            [
             0.8,
             "#7fbc41"
            ],
            [
             0.9,
             "#4d9221"
            ],
            [
             1,
             "#276419"
            ]
           ],
           "sequential": [
            [
             0,
             "#0d0887"
            ],
            [
             0.1111111111111111,
             "#46039f"
            ],
            [
             0.2222222222222222,
             "#7201a8"
            ],
            [
             0.3333333333333333,
             "#9c179e"
            ],
            [
             0.4444444444444444,
             "#bd3786"
            ],
            [
             0.5555555555555556,
             "#d8576b"
            ],
            [
             0.6666666666666666,
             "#ed7953"
            ],
            [
             0.7777777777777778,
             "#fb9f3a"
            ],
            [
             0.8888888888888888,
             "#fdca26"
            ],
            [
             1,
             "#f0f921"
            ]
           ],
           "sequentialminus": [
            [
             0,
             "#0d0887"
            ],
            [
             0.1111111111111111,
             "#46039f"
            ],
            [
             0.2222222222222222,
             "#7201a8"
            ],
            [
             0.3333333333333333,
             "#9c179e"
            ],
            [
             0.4444444444444444,
             "#bd3786"
            ],
            [
             0.5555555555555556,
             "#d8576b"
            ],
            [
             0.6666666666666666,
             "#ed7953"
            ],
            [
             0.7777777777777778,
             "#fb9f3a"
            ],
            [
             0.8888888888888888,
             "#fdca26"
            ],
            [
             1,
             "#f0f921"
            ]
           ]
          },
          "colorway": [
           "#636efa",
           "#EF553B",
           "#00cc96",
           "#ab63fa",
           "#FFA15A",
           "#19d3f3",
           "#FF6692",
           "#B6E880",
           "#FF97FF",
           "#FECB52"
          ],
          "font": {
           "color": "#2a3f5f"
          },
          "geo": {
           "bgcolor": "white",
           "lakecolor": "white",
           "landcolor": "white",
           "showlakes": true,
           "showland": true,
           "subunitcolor": "#C8D4E3"
          },
          "hoverlabel": {
           "align": "left"
          },
          "hovermode": "closest",
          "mapbox": {
           "style": "light"
          },
          "paper_bgcolor": "white",
          "plot_bgcolor": "white",
          "polar": {
           "angularaxis": {
            "gridcolor": "#EBF0F8",
            "linecolor": "#EBF0F8",
            "ticks": ""
           },
           "bgcolor": "white",
           "radialaxis": {
            "gridcolor": "#EBF0F8",
            "linecolor": "#EBF0F8",
            "ticks": ""
           }
          },
          "scene": {
           "xaxis": {
            "backgroundcolor": "white",
            "gridcolor": "#DFE8F3",
            "gridwidth": 2,
            "linecolor": "#EBF0F8",
            "showbackground": true,
            "ticks": "",
            "zerolinecolor": "#EBF0F8"
           },
           "yaxis": {
            "backgroundcolor": "white",
            "gridcolor": "#DFE8F3",
            "gridwidth": 2,
            "linecolor": "#EBF0F8",
            "showbackground": true,
            "ticks": "",
            "zerolinecolor": "#EBF0F8"
           },
           "zaxis": {
            "backgroundcolor": "white",
            "gridcolor": "#DFE8F3",
            "gridwidth": 2,
            "linecolor": "#EBF0F8",
            "showbackground": true,
            "ticks": "",
            "zerolinecolor": "#EBF0F8"
           }
          },
          "shapedefaults": {
           "line": {
            "color": "#2a3f5f"
           }
          },
          "ternary": {
           "aaxis": {
            "gridcolor": "#DFE8F3",
            "linecolor": "#A2B1C6",
            "ticks": ""
           },
           "baxis": {
            "gridcolor": "#DFE8F3",
            "linecolor": "#A2B1C6",
            "ticks": ""
           },
           "bgcolor": "white",
           "caxis": {
            "gridcolor": "#DFE8F3",
            "linecolor": "#A2B1C6",
            "ticks": ""
           }
          },
          "title": {
           "x": 0.05
          },
          "xaxis": {
           "automargin": true,
           "gridcolor": "#EBF0F8",
           "linecolor": "#EBF0F8",
           "ticks": "",
           "title": {
            "standoff": 15
           },
           "zerolinecolor": "#EBF0F8",
           "zerolinewidth": 2
          },
          "yaxis": {
           "automargin": true,
           "gridcolor": "#EBF0F8",
           "linecolor": "#EBF0F8",
           "ticks": "",
           "title": {
            "standoff": 15
           },
           "zerolinecolor": "#EBF0F8",
           "zerolinewidth": 2
          }
         }
        },
        "title": {
         "font": {
          "color": "Black",
          "size": 22
         },
         "text": "<b>Hierarchical Clustering</b>",
         "x": 0.5,
         "xanchor": "center",
         "yanchor": "top"
        },
        "width": 1000,
        "xaxis": {
         "mirror": "allticks",
         "rangemode": "tozero",
         "showgrid": false,
         "showline": true,
         "showticklabels": true,
         "ticks": "outside",
         "type": "linear",
         "zeroline": false
        },
        "yaxis": {
         "mirror": "allticks",
         "range": [
          -4060,
          0
         ],
         "rangemode": "tozero",
         "showgrid": false,
         "showline": true,
         "showticklabels": true,
         "tickmode": "array",
         "ticks": "outside",
         "ticktext": [
          "292_interest_asset_market",
          "14_inflation_inflationary_i...",
          "288_inflation_austerity_dem...",
          "22_inflation_inflationary_m...",
          "105_inflation_inflationary_...",
          "125_inflation_inflationary_...",
          "67_consumer_sentiment_postwar",
          "337_inflation_inflationary_...",
          "110_inflation_inflationary_...",
          "62_inflation_inflationary_s...",
          "2_logistics_disruption_sour...",
          "36_covid_pandemic_logistics",
          "30_covid_pandemic_coronavirus",
          "109_inflation_inflationary_...",
          "298_inflation_pandemic_macr...",
          "68_pandemic_illness_crisis",
          "390_pandemic_crisis_risk",
          "162_headwind_inflation_infl...",
          "13_headwind_tailwind_wind",
          "303_headwind_wind_china",
          "374_covid_growth_china",
          "26_inflation_inflationary_m...",
          "34_covid_china_beijing",
          "70_covid_china_shortage",
          "71_lockdown_logistics_china",
          "35_shanghai_lockdown_china",
          "239_aircraft_million_billion",
          "93_airline_lease_leasing",
          "232_leasing_lease_rental",
          "237_sek_sek5_depreciation",
          "87_restructuring_expense_am...",
          "16_impairment_impaired_expe...",
          "127_asset_investor_investment",
          "369_asset_million_euro",
          "307_billion_million_eur",
          "107_exposure_billion_million",
          "243_income_earnings_billion",
          "146_chf_quarterly_equity",
          "196_sale_million_sell",
          "129_million_billion_business",
          "190_credit_finance_loans",
          "364_credit_loss_loans",
          "327_loan_loans_financial",
          "64_loans_loan_lender",
          "234_reserve_q4_eur",
          "163_ratio_combine_consolidate",
          "375_loss_war_earnings",
          "83_reinsurance_insurer_rein...",
          "156_client_business_service",
          "319_exposure_client_market",
          "174_exposure_europe_indirect",
          "11_exposure_visibility_over...",
          "226_exposure_business_indus...",
          "371_revenue_million_billion",
          "91_revenue_profit_growth",
          "21_revenue_profit_business",
          "148_revenue_exposure_profit",
          "211_business_small_company",
          "225_small_tiny_large",
          "201_arr_growth_nrr",
          "379_payment_china_fiscal",
          "281_currency_growth_revenue",
          "341_macroeconomic_currency_...",
          "360_currency_sale_increase",
          "44_fx_fxn_currency",
          "383_earnings_revenue_impact",
          "143_gaap_earnings_accounting",
          "192_eps_earnings_forex",
          "378_outlook_impact_macro",
          "246_outlook_distributor_rev...",
          "301_filtration_expense_susp...",
          "131_suspension_suspending_r...",
          "121_decline_sale_decrease",
          "269_offset_impact_adjustment",
          "395_disposal_accumulate_acq...",
          "170_growth_europe_asia",
          "98_decline_beijing_china",
          "31_organic_organically_growth",
          "130_margin_margins_leverage",
          "23_ebitda_ebit_ebita",
          "397_fiscal_growth_impact",
          "229_revenue_earnings_profit",
          "114_d2c_subscriber_growth",
          "274_expectation_line_expect",
          "348_war_expect_attack",
          "242_expect_expectation_moment",
          "350_expect_forecast_demand",
          "385_decline_volume_decrease",
          "73_volume_decrease_decline",
          "332_volume_impact_decrease",
          "392_consolidation_productio...",
          "328_barrel_market_sell",
          "339_brent_oil_demand",
          "75_oil_europe_refiner",
          "46_crude_refinery_petroleum",
          "200_refinery_asia_india",
          "48_oil_opec_geopolitical",
          "275_opec_oil_petroleum",
          "204_energy_scarcity_cost",
          "113_commodity_pricing_cost",
          "49_raw_material_tissue",
          "352_revenue_business_heritage",
          "316_market_brand_marketing",
          "296_fda_pharma_japan",
          "185_brazil_chile_chilean",
          "251_asia_revenue_growth",
          "314_japan_revenue_profit",
          "142_qatar_qataris_arabia",
          "294_seafarer_fleet_ship",
          "287_fleet_ship_tankers",
          "108_port_seaport_dock",
          "124_grain_harvest_planting",
          "279_grain_sea_commodity",
          "254_carbon_europe_supplier",
          "236_tire_tyre_supply",
          "233_sunflower_oilseed_oil",
          "15_wheat_maize_corn",
          "81_fertilizer_soil_produce",
          "106_ammonia_nitrogen_fertil...",
          "250_logistics_freight_trans...",
          "95_tanker_refinery_fleet",
          "53_ton_tonne_million",
          "5_coal_gas_oil",
          "8_export_exporting_exporter",
          "10_pipeline_pipe_pipelife",
          "209_alumina_refinery_alrosa",
          "19_wood_lumber_timber",
          "205_finland_finnish_nordic",
          "115_diesel_petrol_fuel",
          "182_crack_cracker_shortage",
          "261_shortage_covid_supply",
          "63_shortage_semiconductor_c...",
          "273_neon_gas_production",
          "69_wiring_harness_wire",
          "235_demand_economy_fms",
          "149_palladium_nickel_aluminum",
          "363_nickel_demand_market",
          "161_metal_metallurgical_steel",
          "101_aluminium_aluminum_al",
          "123_steel_demand_market",
          "194_steelmaking_manganese_s...",
          "361_iron_steel_supply",
          "158_pig_iron_ferrous",
          "97_gas_germany_german",
          "32_gas_europe_eu",
          "27_gas_supplies_supply",
          "349_gas_gasoline_demand",
          "333_gas_oil_sourcing",
          "54_foodtech_food_agriculture",
          "1_energy_renewable_electric...",
          "351_hydrogen_fuel_renewable",
          "213_fueling_fuel_fossil",
          "265_surcharge_fuel_gasoline",
          "111_nuclear_reactor_fuel",
          "43_uranium_enrichment_reactor",
          "331_risk_mitigation_escalat...",
          "80_risk_scenario_leverage",
          "172_risk_cost_overlay",
          "262_inflation_inflationary_...",
          "89_uncertainty_uncertain_war",
          "74_uncertainty_uncertain_un...",
          "29_geopolitical_geopolitica...",
          "382_geopolitical_macroecono...",
          "136_war_economy_economic",
          "365_invasion_economy_economic",
          "94_war_wars_fight",
          "208_war_effect_affect",
          "122_exam_supplies_marketing",
          "147_conflict_course_involve",
          "183_competitor_market_demand",
          "18_market_marketplace_sell",
          "103_market_liquidity_war",
          "258_market_inning_forecasting",
          "28_crisis_impact_risk",
          "58_business_entrepreneur_ma...",
          "61_impact_business_effect",
          "38_war_wars_business",
          "51_impact_impacting_war",
          "12_impact_damage_hit",
          "184_event_occasion_impact",
          "96_conflict_impact_developm...",
          "42_conflict_hostility_aggre...",
          "84_conflict_confliction_imp...",
          "6_sanction_sanctioning_comp...",
          "195_sanction_eu_sanctioned",
          "85_europe_european_slovenia",
          "3_europe_eu_european",
          "222_war_euro_macroeconomic",
          "396_january_march_february",
          "188_february_war_march",
          "126_invasion_invade_impact",
          "9_invade_invasion_invader",
          "165_invade_market_invasion",
          "277_lady_gentleman_war",
          "168_market_procurement_vola...",
          "79_volatility_market_increase",
          "356_pricing_cost_spike",
          "358_invasion_invade_pricing",
          "145_pricing_price_cost",
          "166_q3_q2_q4",
          "284_dynamism_q2_q1",
          "317_business_develop_strate...",
          "342_development_capability_...",
          "330_touch_hand_situation",
          "313_country_number_australia",
          "191_number_mathematical_cal...",
          "99_year_january_pariah",
          "202_exclude_minus_negative",
          "216_growth_grow_rate",
          "318_impact_exclude_exit",
          "244_guidance_guide_advice",
          "312_war_think_say",
          "116_happen_go_know",
          "219_war_go_strike",
          "214_quarter_war_military",
          "86_quarter_impact_minute",
          "376_invasion_invade_quarter",
          "373_situation_brief_briefly",
          "253_war_comment_commenting",
          "344_comment_commenting_situ...",
          "241_come_way_go",
          "173_question_answer_problem",
          "224_think_thought_question",
          "133_start_starting_begin",
          "368_war_start_begin",
          "399_supply_supplies_sell",
          "394_slide_exposure_show",
          "76_slide_presentation_pull",
          "24_poland_gdansk_polish",
          "230_bulgaria_romania_intern...",
          "338_romania_romanian_facility",
          "119_buy_purchase_sell",
          "315_impact_sale_buy",
          "59_sale_sell_buy",
          "139_sale_sell_wholesale",
          "238_turkish_turkey_sale",
          "153_turkey_turkish_istanbul",
          "321_turnover_drop_business",
          "280_freight_rail_turnover",
          "381_traffic_road_passenger",
          "45_airspace_closure_overfli...",
          "245_flight_fly_airplane",
          "270_flight_inflation_inflat...",
          "357_disruption_disrupt_impact",
          "228_nato_allied_alliance",
          "77_defence_defense_militari...",
          "47_cybersecurity_cyberwarfa...",
          "203_attack_threat_shocked",
          "138_missile_artillery_javelin",
          "180_drone_unmanned_uavs",
          "355_facility_locate_city",
          "90_factory_manufacturing_ma...",
          "257_stand_support_turn",
          "308_solidarity_people_group",
          "247_team_leadership_outstan...",
          "264_kyivstar_kyiv_provider",
          "66_customer_consumer_employee",
          "404_developer_development_e...",
          "289_rebuild_reconstruction_...",
          "104_backlog_log_amount",
          "302_project_build_building",
          "402_exposure_gtt_provisioned",
          "305_turn_let_flip",
          "151_update_operational_oper...",
          "199_review_rerating_assess",
          "353_trauma_injury_patient",
          "334_highlight_address_cover",
          "206_presence_effect_passage",
          "285_moscow_petersburg_st",
          "20_trial_clinical_patient",
          "372_drug_medication_medicine",
          "389_vaccine_vaccination_vac...",
          "272_wintershall_dea_facility",
          "60_dividend_shareholding_di...",
          "387_macro_recession_debt",
          "186_debt_repay_loans",
          "118_bond_treasury_rbi",
          "39_ruble_rubel_rub",
          "227_balance_sheet_inventory",
          "176_commodity_market_impact...",
          "117_gold_sale_sell",
          "50_kazakhstan_kazakhstanian...",
          "17_bank_banking_banknote",
          "256_outbreak_war_warfare",
          "263_advertising_advertiser_...",
          "367_gmv_marketplace_retailer",
          "311_respirator_headwind_dis...",
          "177_poultry_chicken_livestock",
          "326_dairy_farm_farming",
          "335_time_headline_issue",
          "207_moment_operation_continue",
          "215_capacity_utilization_li...",
          "260_dislocation_damage_slide",
          "221_western_west_market",
          "343_border_country_kazakhstan",
          "179_brewery_brew_brewing",
          "150_portfolio_asset_company",
          "57_wind_windstorm_windfall",
          "154_plant_planting_produce",
          "159_withdraw_withdrawal_aba...",
          "210_capex_capexe_expenditure",
          "391_delay_expect_expectation",
          "323_diamond_retailer_supply",
          "267_rwa_exposure_risk",
          "189_capital_capitalized_cap",
          "248_oem_aftermarket_business",
          "152_rest_business_corporate",
          "171_regional_region_geograp...",
          "0_belarus_belarusian_kazakh...",
          "56_shipment_shipping_ship",
          "276_intake_order_appetite",
          "144_titanium_supplier_supply",
          "102_supplier_vendor_supply",
          "345_expose_public_directly",
          "300_consequence_war_conflict",
          "354_think_mindful_rethink",
          "88_sorting_sort_order",
          "393_government_sudan_globally",
          "304_china_hong_chinese",
          "82_china_shanghai_mainland",
          "370_glance_look_lesson",
          "197_move_position_positioning",
          "293_taiwan_geopolitical_asia",
          "120_news_newspaper_reuters",
          "157_putin_litvinenko_invade",
          "282_inaudible_disclosing_li...",
          "347_war_year_early",
          "401_respect_currency_range",
          "268_unwind_shutting_dispose",
          "252_war_continue_peace",
          "362_week_war_thursday",
          "377_related_yes_yeah",
          "380_country_canada_australia",
          "325_maybe_obviously_anybody",
          "220_challenge_reward_face",
          "336_corona_war_market",
          "175_cobalt_buy_supply",
          "299_discussion_discuss_topic",
          "398_presentation_topic_crisis",
          "128_situation_relationship_...",
          "286_situation_horrible_circ...",
          "259_watch_event_unfold",
          "140_monitoring_monitor_watch",
          "198_uniper_curtailment_curt...",
          "306_subsidiary_multinationa...",
          "403_year_impact_september",
          "310_strategic_strategical_a...",
          "359_recall_inventory_enterp...",
          "137_operation_operator_oper...",
          "249_packaging_goods_shipment",
          "41_divestment_divest_divest...",
          "218_approval_approve_regula...",
          "366_expense_revenue_profit",
          "55_uncertainty_risk_informa...",
          "384_datum_privacy_estate",
          "231_transfer_ownership_tran...",
          "164_franchisee_restaurant_f...",
          "340_investment_invest_inves...",
          "240_invest_investment_inves...",
          "405_translation_speak_trans...",
          "134_speak__",
          "320_war_speak_fight",
          "100_talk_conversation_chat",
          "40___",
          "346_coverage_store_optimizing",
          "135_store_retailer_shop",
          "212_cash_bank_money",
          "141_cash_income_payment",
          "309_covid_news_adverse",
          "290_easter_holiday_christmas",
          "169_omicron_invasion_occur",
          "132_exit_exiting_exited",
          "72_exit_exiting_exited",
          "324_exit_leave_decision",
          "33_suspend_suspending_suspe...",
          "278_suspending_suspend_reve...",
          "181_carlsberg_shareholder_p...",
          "322_leave_stay_continue",
          "388_relocate_relocation_abr...",
          "193_relocate_relocation_move",
          "266_salary_compensation_wage",
          "78_employee_employer_person...",
          "160_workforce_employ_employee",
          "7_safety_employee_colleague",
          "291_ukrainian_kiev_refugee",
          "217_refugee_poland_humanita...",
          "4_refugee_refugees_humanita...",
          "187_support_supportive_resp...",
          "400_tourist_tourism_visitor",
          "283_ukrainian_tourist_travel",
          "52_ukrainian_crimea_kiev",
          "329_kiev_ukrainian_headquar...",
          "271_ukrainian_aggression_de...",
          "155_invasion_condemn_denounce",
          "112_aggression_violence_agg...",
          "386_invasion_humanitarian_c...",
          "37_humanitarian_crisis_disa...",
          "65_war_tragedy_inhumanity",
          "25_tragedy_tragic_occur",
          "255_sympathy_empathy_sorrow",
          "297_thought_think_people",
          "92_prayer_prayerful_pray",
          "178_peace_peaceful_peacefully",
          "223_hope_situation_hopeful",
          "295_heart_people_everybody",
          "167_heart_conflict_impact"
         ],
         "tickvals": [
          -5,
          -15,
          -25,
          -35,
          -45,
          -55,
          -65,
          -75,
          -85,
          -95,
          -105,
          -115,
          -125,
          -135,
          -145,
          -155,
          -165,
          -175,
          -185,
          -195,
          -205,
          -215,
          -225,
          -235,
          -245,
          -255,
          -265,
          -275,
          -285,
          -295,
          -305,
          -315,
          -325,
          -335,
          -345,
          -355,
          -365,
          -375,
          -385,
          -395,
          -405,
          -415,
          -425,
          -435,
          -445,
          -455,
          -465,
          -475,
          -485,
          -495,
          -505,
          -515,
          -525,
          -535,
          -545,
          -555,
          -565,
          -575,
          -585,
          -595,
          -605,
          -615,
          -625,
          -635,
          -645,
          -655,
          -665,
          -675,
          -685,
          -695,
          -705,
          -715,
          -725,
          -735,
          -745,
          -755,
          -765,
          -775,
          -785,
          -795,
          -805,
          -815,
          -825,
          -835,
          -845,
          -855,
          -865,
          -875,
          -885,
          -895,
          -905,
          -915,
          -925,
          -935,
          -945,
          -955,
          -965,
          -975,
          -985,
          -995,
          -1005,
          -1015,
          -1025,
          -1035,
          -1045,
          -1055,
          -1065,
          -1075,
          -1085,
          -1095,
          -1105,
          -1115,
          -1125,
          -1135,
          -1145,
          -1155,
          -1165,
          -1175,
          -1185,
          -1195,
          -1205,
          -1215,
          -1225,
          -1235,
          -1245,
          -1255,
          -1265,
          -1275,
          -1285,
          -1295,
          -1305,
          -1315,
          -1325,
          -1335,
          -1345,
          -1355,
          -1365,
          -1375,
          -1385,
          -1395,
          -1405,
          -1415,
          -1425,
          -1435,
          -1445,
          -1455,
          -1465,
          -1475,
          -1485,
          -1495,
          -1505,
          -1515,
          -1525,
          -1535,
          -1545,
          -1555,
          -1565,
          -1575,
          -1585,
          -1595,
          -1605,
          -1615,
          -1625,
          -1635,
          -1645,
          -1655,
          -1665,
          -1675,
          -1685,
          -1695,
          -1705,
          -1715,
          -1725,
          -1735,
          -1745,
          -1755,
          -1765,
          -1775,
          -1785,
          -1795,
          -1805,
          -1815,
          -1825,
          -1835,
          -1845,
          -1855,
          -1865,
          -1875,
          -1885,
          -1895,
          -1905,
          -1915,
          -1925,
          -1935,
          -1945,
          -1955,
          -1965,
          -1975,
          -1985,
          -1995,
          -2005,
          -2015,
          -2025,
          -2035,
          -2045,
          -2055,
          -2065,
          -2075,
          -2085,
          -2095,
          -2105,
          -2115,
          -2125,
          -2135,
          -2145,
          -2155,
          -2165,
          -2175,
          -2185,
          -2195,
          -2205,
          -2215,
          -2225,
          -2235,
          -2245,
          -2255,
          -2265,
          -2275,
          -2285,
          -2295,
          -2305,
          -2315,
          -2325,
          -2335,
          -2345,
          -2355,
          -2365,
          -2375,
          -2385,
          -2395,
          -2405,
          -2415,
          -2425,
          -2435,
          -2445,
          -2455,
          -2465,
          -2475,
          -2485,
          -2495,
          -2505,
          -2515,
          -2525,
          -2535,
          -2545,
          -2555,
          -2565,
          -2575,
          -2585,
          -2595,
          -2605,
          -2615,
          -2625,
          -2635,
          -2645,
          -2655,
          -2665,
          -2675,
          -2685,
          -2695,
          -2705,
          -2715,
          -2725,
          -2735,
          -2745,
          -2755,
          -2765,
          -2775,
          -2785,
          -2795,
          -2805,
          -2815,
          -2825,
          -2835,
          -2845,
          -2855,
          -2865,
          -2875,
          -2885,
          -2895,
          -2905,
          -2915,
          -2925,
          -2935,
          -2945,
          -2955,
          -2965,
          -2975,
          -2985,
          -2995,
          -3005,
          -3015,
          -3025,
          -3035,
          -3045,
          -3055,
          -3065,
          -3075,
          -3085,
          -3095,
          -3105,
          -3115,
          -3125,
          -3135,
          -3145,
          -3155,
          -3165,
          -3175,
          -3185,
          -3195,
          -3205,
          -3215,
          -3225,
          -3235,
          -3245,
          -3255,
          -3265,
          -3275,
          -3285,
          -3295,
          -3305,
          -3315,
          -3325,
          -3335,
          -3345,
          -3355,
          -3365,
          -3375,
          -3385,
          -3395,
          -3405,
          -3415,
          -3425,
          -3435,
          -3445,
          -3455,
          -3465,
          -3475,
          -3485,
          -3495,
          -3505,
          -3515,
          -3525,
          -3535,
          -3545,
          -3555,
          -3565,
          -3575,
          -3585,
          -3595,
          -3605,
          -3615,
          -3625,
          -3635,
          -3645,
          -3655,
          -3665,
          -3675,
          -3685,
          -3695,
          -3705,
          -3715,
          -3725,
          -3735,
          -3745,
          -3755,
          -3765,
          -3775,
          -3785,
          -3795,
          -3805,
          -3815,
          -3825,
          -3835,
          -3845,
          -3855,
          -3865,
          -3875,
          -3885,
          -3895,
          -3905,
          -3915,
          -3925,
          -3935,
          -3945,
          -3955,
          -3965,
          -3975,
          -3985,
          -3995,
          -4005,
          -4015,
          -4025,
          -4035,
          -4045,
          -4055
         ],
         "type": "linear",
         "zeroline": false
        }
       }
      }
     },
     "metadata": {},
     "output_type": "display_data"
    }
   ],
   "source": [
    "topic_model_0.visualize_hierarchy(hierarchical_topics=hierarchical_topics)"
   ]
  },
  {
   "cell_type": "markdown",
   "metadata": {},
   "source": [
    "2.\n",
    "* Sentence window: 0\n",
    "* Join sentences"
   ]
  },
  {
   "cell_type": "code",
   "execution_count": 17,
   "metadata": {},
   "outputs": [
    {
     "data": {
      "application/vnd.jupyter.widget-view+json": {
       "model_id": "17ac63fa88fa43f5a117b815cc64d277",
       "version_major": 2,
       "version_minor": 0
      },
      "text/plain": [
       "Batches:   0%|          | 0/1226 [00:00<?, ?it/s]"
      ]
     },
     "metadata": {},
     "output_type": "display_data"
    },
    {
     "name": "stderr",
     "output_type": "stream",
     "text": [
      "2023-09-04 13:46:31,496 - BERTopic - Transformed documents to Embeddings\n",
      "2023-09-04 13:46:51,379 - BERTopic - Reduced dimensionality\n"
     ]
    },
    {
     "name": "stdout",
     "output_type": "stream",
     "text": [
      "huggingface/tokenizers: The current process just got forked, after parallelism has already been used. Disabling parallelism to avoid deadlocks...\n",
      "To disable this warning, you can either:\n",
      "\t- Avoid using `tokenizers` before the fork if possible\n",
      "\t- Explicitly set the environment variable TOKENIZERS_PARALLELISM=(true | false)\n",
      "huggingface/tokenizers: The current process just got forked, after parallelism has already been used. Disabling parallelism to avoid deadlocks...\n",
      "To disable this warning, you can either:\n",
      "\t- Avoid using `tokenizers` before the fork if possible\n",
      "\t- Explicitly set the environment variable TOKENIZERS_PARALLELISM=(true | false)\n",
      "huggingface/tokenizers: The current process just got forked, after parallelism has already been used. Disabling parallelism to avoid deadlocks...\n",
      "To disable this warning, you can either:\n",
      "\t- Avoid using `tokenizers` before the fork if possible\n",
      "\t- Explicitly set the environment variable TOKENIZERS_PARALLELISM=(true | false)\n",
      "huggingface/tokenizers: The current process just got forked, after parallelism has already been used. Disabling parallelism to avoid deadlocks...\n",
      "To disable this warning, you can either:\n",
      "\t- Avoid using `tokenizers` before the fork if possible\n",
      "\t- Explicitly set the environment variable TOKENIZERS_PARALLELISM=(true | false)\n"
     ]
    },
    {
     "name": "stderr",
     "output_type": "stream",
     "text": [
      "2023-09-04 13:51:25,827 - BERTopic - Clustered reduced embeddings\n",
      "100%|██████████| 359/359 [02:33<00:00,  2.35it/s]\n"
     ]
    }
   ],
   "source": [
    "topic_model_0_join, topics_0_join, probs_0_join = topic_extractor.bert_advanced(corpus_window_0_join_df['processed_text'].to_list(), representation_model=representation_model, embedding_model=sentence_model_light)"
   ]
  },
  {
   "cell_type": "code",
   "execution_count": 20,
   "metadata": {},
   "outputs": [
    {
     "data": {
      "text/html": [
       "<div>\n",
       "<style scoped>\n",
       "    .dataframe tbody tr th:only-of-type {\n",
       "        vertical-align: middle;\n",
       "    }\n",
       "\n",
       "    .dataframe tbody tr th {\n",
       "        vertical-align: top;\n",
       "    }\n",
       "\n",
       "    .dataframe thead th {\n",
       "        text-align: right;\n",
       "    }\n",
       "</style>\n",
       "<table border=\"1\" class=\"dataframe\">\n",
       "  <thead>\n",
       "    <tr style=\"text-align: right;\">\n",
       "      <th></th>\n",
       "      <th>Topic</th>\n",
       "      <th>Count</th>\n",
       "      <th>Name</th>\n",
       "      <th>Representation</th>\n",
       "      <th>Chain: Inspired - MMR</th>\n",
       "      <th>Chain: Inspired - MMR - POS</th>\n",
       "      <th>Generator chain: Inspired - MMR</th>\n",
       "      <th>Representative_Docs</th>\n",
       "    </tr>\n",
       "  </thead>\n",
       "  <tbody>\n",
       "    <tr>\n",
       "      <th>0</th>\n",
       "      <td>-1</td>\n",
       "      <td>20314</td>\n",
       "      <td>-1_inflation_demand_economy_economic</td>\n",
       "      <td>[inflation, demand, economy, economic, crisis,...</td>\n",
       "      <td>[inflation, demand, economy, economic, crisis,...</td>\n",
       "      <td>[market, war, gas, business, impact, energy, q...</td>\n",
       "      <td>[inflation and market volatility, , , , , , , ...</td>\n",
       "      <td>[mean know war lot uncertainty come especially...</td>\n",
       "    </tr>\n",
       "    <tr>\n",
       "      <th>1</th>\n",
       "      <td>0</td>\n",
       "      <td>790</td>\n",
       "      <td>0_belarus_belarusian_kazakhstan_moldova</td>\n",
       "      <td>[belarus, belarusian, kazakhstan, moldova, cou...</td>\n",
       "      <td>[belarus, belarusian, kazakhstan, moldova, cou...</td>\n",
       "      <td>[belarus, belarusian, revenue, shipment, talen...</td>\n",
       "      <td>[belarusian kazakhstan and moldova are the cou...</td>\n",
       "      <td>[year go belarus, 2.5 sale belarus, belarus ma...</td>\n",
       "    </tr>\n",
       "    <tr>\n",
       "      <th>2</th>\n",
       "      <td>1</td>\n",
       "      <td>765</td>\n",
       "      <td>1_supplier_supply_logistics_inventory</td>\n",
       "      <td>[supplier, supply, logistics, inventory, sourc...</td>\n",
       "      <td>[supplier, supply, logistics, inventory, sourc...</td>\n",
       "      <td>[chain, supply, supplier, disruption, inventor...</td>\n",
       "      <td>[sourcing, , , , , , , , , ]</td>\n",
       "      <td>[war war pressure supply chain, clearly war di...</td>\n",
       "    </tr>\n",
       "    <tr>\n",
       "      <th>3</th>\n",
       "      <td>2</td>\n",
       "      <td>371</td>\n",
       "      <td>2_invasion_invade_attack_violence</td>\n",
       "      <td>[invasion, invade, attack, violence, aggressiv...</td>\n",
       "      <td>[invasion, invade, attack, violence, aggressiv...</td>\n",
       "      <td>[invasion, invade, day, course, start, morning...</td>\n",
       "      <td>[afghanistan invasion, , , , , , , , , ]</td>\n",
       "      <td>[impact situation invasion, invasion, invasion]</td>\n",
       "    </tr>\n",
       "    <tr>\n",
       "      <th>4</th>\n",
       "      <td>3</td>\n",
       "      <td>366</td>\n",
       "      <td>3_coal_demand_market_gas</td>\n",
       "      <td>[coal, demand, market, gas, pricing, supply, e...</td>\n",
       "      <td>[coal, demand, market, gas, pricing, supply, e...</td>\n",
       "      <td>[coal, thermal, coking, ban, meet, import, ton...</td>\n",
       "      <td>[coal and coking, , , , , , , , , ]</td>\n",
       "      <td>[europe need replace coal volume result price ...</td>\n",
       "    </tr>\n",
       "    <tr>\n",
       "      <th>...</th>\n",
       "      <td>...</td>\n",
       "      <td>...</td>\n",
       "      <td>...</td>\n",
       "      <td>...</td>\n",
       "      <td>...</td>\n",
       "      <td>...</td>\n",
       "      <td>...</td>\n",
       "      <td>...</td>\n",
       "    </tr>\n",
       "    <tr>\n",
       "      <th>354</th>\n",
       "      <td>353</td>\n",
       "      <td>10</td>\n",
       "      <td>353_healthcare_medical_clinical_hospital</td>\n",
       "      <td>[healthcare, medical, clinical, hospital, pati...</td>\n",
       "      <td>[healthcare, medical, clinical, hospital, pati...</td>\n",
       "      <td>[patient, clinical, continuity, care, surgery,...</td>\n",
       "      <td>[enrolment in healthcare services for patients...</td>\n",
       "      <td>[healthcare business sector overall clinical s...</td>\n",
       "    </tr>\n",
       "    <tr>\n",
       "      <th>355</th>\n",
       "      <td>354</td>\n",
       "      <td>10</td>\n",
       "      <td>354_kiev_ukrainian_relocate_shortage</td>\n",
       "      <td>[kiev, ukrainian, relocate, shortage, territor...</td>\n",
       "      <td>[kiev, ukrainian, relocate, shortage, territor...</td>\n",
       "      <td>[demographical, ukrainian, bleak, mobilization...</td>\n",
       "      <td>[ukraine ukraine ukraine ukraine ukrain, , , ,...</td>\n",
       "      <td>[actually new new helicopter kiev, kiev, fortu...</td>\n",
       "    </tr>\n",
       "    <tr>\n",
       "      <th>356</th>\n",
       "      <td>355</td>\n",
       "      <td>10</td>\n",
       "      <td>355_stay_leave_continue_long</td>\n",
       "      <td>[stay, leave, continue, long, say, course, opt...</td>\n",
       "      <td>[stay, leave, continue, long, say, course, opt...</td>\n",
       "      <td>[stay, option, decision, question, course, , ,...</td>\n",
       "      <td>[i want to stay on course if i want to confirm...</td>\n",
       "      <td>[stay, oh yes yes leave, oh yes yes leave]</td>\n",
       "    </tr>\n",
       "    <tr>\n",
       "      <th>357</th>\n",
       "      <td>356</td>\n",
       "      <td>10</td>\n",
       "      <td>356_capacity_monopoly_limited_production</td>\n",
       "      <td>[capacity, monopoly, limited, production, euro...</td>\n",
       "      <td>[capacity, monopoly, limited, production, euro...</td>\n",
       "      <td>[capacity, monopoly, cann, malt, optical, outs...</td>\n",
       "      <td>[monopoly of european market, , , , , , , , , ]</td>\n",
       "      <td>[italy get capability produce optical componen...</td>\n",
       "    </tr>\n",
       "    <tr>\n",
       "      <th>358</th>\n",
       "      <td>357</td>\n",
       "      <td>10</td>\n",
       "      <td>357_sale_war_sanction_suspend</td>\n",
       "      <td>[sale, war, sanction, suspend, contract, suspe...</td>\n",
       "      <td>[sale, war, sanction, suspend, contract, suspe...</td>\n",
       "      <td>[suspend, commence, volaris, triumph, 24th, sa...</td>\n",
       "      <td>[iran vs iraq war suspension business, , , , ,...</td>\n",
       "      <td>[previously communicate sale suspend 24th febr...</td>\n",
       "    </tr>\n",
       "  </tbody>\n",
       "</table>\n",
       "<p>359 rows × 8 columns</p>\n",
       "</div>"
      ],
      "text/plain": [
       "     Topic  Count                                      Name  \\\n",
       "0       -1  20314      -1_inflation_demand_economy_economic   \n",
       "1        0    790   0_belarus_belarusian_kazakhstan_moldova   \n",
       "2        1    765     1_supplier_supply_logistics_inventory   \n",
       "3        2    371         2_invasion_invade_attack_violence   \n",
       "4        3    366                  3_coal_demand_market_gas   \n",
       "..     ...    ...                                       ...   \n",
       "354    353     10  353_healthcare_medical_clinical_hospital   \n",
       "355    354     10      354_kiev_ukrainian_relocate_shortage   \n",
       "356    355     10              355_stay_leave_continue_long   \n",
       "357    356     10  356_capacity_monopoly_limited_production   \n",
       "358    357     10             357_sale_war_sanction_suspend   \n",
       "\n",
       "                                        Representation  \\\n",
       "0    [inflation, demand, economy, economic, crisis,...   \n",
       "1    [belarus, belarusian, kazakhstan, moldova, cou...   \n",
       "2    [supplier, supply, logistics, inventory, sourc...   \n",
       "3    [invasion, invade, attack, violence, aggressiv...   \n",
       "4    [coal, demand, market, gas, pricing, supply, e...   \n",
       "..                                                 ...   \n",
       "354  [healthcare, medical, clinical, hospital, pati...   \n",
       "355  [kiev, ukrainian, relocate, shortage, territor...   \n",
       "356  [stay, leave, continue, long, say, course, opt...   \n",
       "357  [capacity, monopoly, limited, production, euro...   \n",
       "358  [sale, war, sanction, suspend, contract, suspe...   \n",
       "\n",
       "                                 Chain: Inspired - MMR  \\\n",
       "0    [inflation, demand, economy, economic, crisis,...   \n",
       "1    [belarus, belarusian, kazakhstan, moldova, cou...   \n",
       "2    [supplier, supply, logistics, inventory, sourc...   \n",
       "3    [invasion, invade, attack, violence, aggressiv...   \n",
       "4    [coal, demand, market, gas, pricing, supply, e...   \n",
       "..                                                 ...   \n",
       "354  [healthcare, medical, clinical, hospital, pati...   \n",
       "355  [kiev, ukrainian, relocate, shortage, territor...   \n",
       "356  [stay, leave, continue, long, say, course, opt...   \n",
       "357  [capacity, monopoly, limited, production, euro...   \n",
       "358  [sale, war, sanction, suspend, contract, suspe...   \n",
       "\n",
       "                           Chain: Inspired - MMR - POS  \\\n",
       "0    [market, war, gas, business, impact, energy, q...   \n",
       "1    [belarus, belarusian, revenue, shipment, talen...   \n",
       "2    [chain, supply, supplier, disruption, inventor...   \n",
       "3    [invasion, invade, day, course, start, morning...   \n",
       "4    [coal, thermal, coking, ban, meet, import, ton...   \n",
       "..                                                 ...   \n",
       "354  [patient, clinical, continuity, care, surgery,...   \n",
       "355  [demographical, ukrainian, bleak, mobilization...   \n",
       "356  [stay, option, decision, question, course, , ,...   \n",
       "357  [capacity, monopoly, cann, malt, optical, outs...   \n",
       "358  [suspend, commence, volaris, triumph, 24th, sa...   \n",
       "\n",
       "                       Generator chain: Inspired - MMR  \\\n",
       "0    [inflation and market volatility, , , , , , , ...   \n",
       "1    [belarusian kazakhstan and moldova are the cou...   \n",
       "2                         [sourcing, , , , , , , , , ]   \n",
       "3             [afghanistan invasion, , , , , , , , , ]   \n",
       "4                  [coal and coking, , , , , , , , , ]   \n",
       "..                                                 ...   \n",
       "354  [enrolment in healthcare services for patients...   \n",
       "355  [ukraine ukraine ukraine ukraine ukrain, , , ,...   \n",
       "356  [i want to stay on course if i want to confirm...   \n",
       "357    [monopoly of european market, , , , , , , , , ]   \n",
       "358  [iran vs iraq war suspension business, , , , ,...   \n",
       "\n",
       "                                   Representative_Docs  \n",
       "0    [mean know war lot uncertainty come especially...  \n",
       "1    [year go belarus, 2.5 sale belarus, belarus ma...  \n",
       "2    [war war pressure supply chain, clearly war di...  \n",
       "3      [impact situation invasion, invasion, invasion]  \n",
       "4    [europe need replace coal volume result price ...  \n",
       "..                                                 ...  \n",
       "354  [healthcare business sector overall clinical s...  \n",
       "355  [actually new new helicopter kiev, kiev, fortu...  \n",
       "356         [stay, oh yes yes leave, oh yes yes leave]  \n",
       "357  [italy get capability produce optical componen...  \n",
       "358  [previously communicate sale suspend 24th febr...  \n",
       "\n",
       "[359 rows x 8 columns]"
      ]
     },
     "execution_count": 20,
     "metadata": {},
     "output_type": "execute_result"
    }
   ],
   "source": [
    "topic_model_0_join.get_topic_info()"
   ]
  },
  {
   "cell_type": "code",
   "execution_count": 38,
   "metadata": {},
   "outputs": [],
   "source": [
    "corpus_window_0_join_df_company = corpus_window_0_join_df.with_columns(pl.Series('topics', topics_0_join)).groupby('id').agg(pl.col('topics','text', 'processed_text')).sort('id')\n",
    "topics = list(corpus_window_0_join_df_company['topics'])"
   ]
  },
  {
   "cell_type": "code",
   "execution_count": 42,
   "metadata": {},
   "outputs": [],
   "source": [
    "set_list = []\n",
    "for i,topic in enumerate(topics):\n",
    "    set_list.append(list(set(topic)))"
   ]
  },
  {
   "cell_type": "code",
   "execution_count": 40,
   "metadata": {},
   "outputs": [
    {
     "data": {
      "text/plain": [
       "[[82, 20, -1],\n",
       " [-1],\n",
       " [-1],\n",
       " [-1],\n",
       " [35, -1],\n",
       " [0, -1],\n",
       " [45, -1],\n",
       " [-1],\n",
       " [72, 9, -1],\n",
       " [-1],\n",
       " [0, 26, -1],\n",
       " [-1],\n",
       " [193, 6, 7, 8, 11, 12, 13, 114, 275, 117, 215, 122, 157, -1],\n",
       " [72, 9, -1],\n",
       " [82, -1],\n",
       " [78, 85, -1, 41],\n",
       " [288, -1, 167],\n",
       " [128, 102, 41, 170, 27, 28, -1],\n",
       " [32, -1],\n",
       " [-1],\n",
       " [-1],\n",
       " [25, 11, 12, -1],\n",
       " [91, 190],\n",
       " [-1],\n",
       " [96, 20, -1],\n",
       " [34, -1],\n",
       " [27, 45],\n",
       " [-1],\n",
       " [46, -1],\n",
       " [123, 45, 15],\n",
       " [106, -1, 23],\n",
       " [24, -1],\n",
       " [1, -1],\n",
       " [-1],\n",
       " [-1],\n",
       " [0, 209, 45, -1],\n",
       " [312, -1, 151],\n",
       " [-1, 63],\n",
       " [1, 9, 109, 48, 80, 117, 309, 89, 124, -1],\n",
       " [49, 50, 19, 20, -1],\n",
       " [291, -1, 30],\n",
       " [291],\n",
       " [320, 2, 12, 209, -1],\n",
       " [-1],\n",
       " [2, 167, 40, 41, 143, 343, -1, 63],\n",
       " [148, 46],\n",
       " [62, 102, 111],\n",
       " [90],\n",
       " [90],\n",
       " [-1],\n",
       " [78],\n",
       " [102, 236, 148, 343, 26, -1],\n",
       " [156, -1],\n",
       " [123, 12, -1],\n",
       " [152, -1],\n",
       " [322, 67, 38, 138, 45, 16, 145, 28, -1],\n",
       " [322, 4, 170, 21, 312, -1],\n",
       " [-1],\n",
       " [298],\n",
       " [-1],\n",
       " [-1],\n",
       " [101, 38, 103, 39, 170, 303, 20, 21, -1],\n",
       " [9, 138, 53, -1],\n",
       " [9, 11, 21, -1],\n",
       " [0, 262, 109, 82, 51, 280, 121, 122, -1],\n",
       " [46, 10, 43, -1],\n",
       " [0, 2, 43, 15, 151, -1],\n",
       " [213, -1],\n",
       " [-1],\n",
       " [-1],\n",
       " [-1],\n",
       " [170, 117, -1],\n",
       " [-1],\n",
       " [8],\n",
       " [320, 2, 109, -1],\n",
       " [1, -1, 7],\n",
       " [0, 1, 40, 13, 243, 85, 58, -1],\n",
       " [-1],\n",
       " [40, 16, -1],\n",
       " [0, 96, 40, 16, -1, 57, 27, 94],\n",
       " [193, 232, 13, -1, 191],\n",
       " [0, 1, 2, 5, 12, 16, 20, 24, 53, 64, 67, 72, 80, 95, 99, 102, 105, 240, -1],\n",
       " [1, 4, 206, 213, -1],\n",
       " [0, 24, 87],\n",
       " [32, 1, 37, 7, 14, 17, 50, 215, -1, 127],\n",
       " [33, -1],\n",
       " [17, 101, -1, 31],\n",
       " [94, 50, 90, -1],\n",
       " [105, 5, -1],\n",
       " [0, 226, 13, 238, 49, 24, -1],\n",
       " [43, -1, 22],\n",
       " [94, -1],\n",
       " [41, 52, -1],\n",
       " [56, -1],\n",
       " [38, -1],\n",
       " [56],\n",
       " [12, -1],\n",
       " [33, 292, 102, 16, -1],\n",
       " [24, -1],\n",
       " [117, -1],\n",
       " [16, -1],\n",
       " [8, -1],\n",
       " [-1],\n",
       " [82, 158, -1],\n",
       " [-1],\n",
       " [89, 52, -1, 1],\n",
       " [12],\n",
       " [2, 209, 81, 248, 28, -1],\n",
       " [197, 38, 9, 46, -1],\n",
       " [89, 38, 40, 46, 48, 115, 345, -1],\n",
       " [-1],\n",
       " [99, 11, 236, 77, 19, 342, 121, -1],\n",
       " [-1, 15],\n",
       " [0, 1, 34, 39, 45, 77, 273, 56, -1],\n",
       " [50],\n",
       " [291, -1],\n",
       " [32, 37, 27, 59, -1],\n",
       " [225, 170],\n",
       " [1, 170, -1, 33],\n",
       " [187],\n",
       " [291, -1],\n",
       " [13, -1, 247],\n",
       " [208, 154, -1],\n",
       " [4, 13, -1],\n",
       " [60],\n",
       " [90, -1],\n",
       " [3, 4, -1],\n",
       " [98, 35, 3, 72, 8, 56, 122, -1],\n",
       " [49, 3, 101, -1],\n",
       " [0, 2, -1, 151],\n",
       " [299, 215, 25, 27, -1],\n",
       " [68, 61, -1],\n",
       " [2, 98, 72, 232, 185, -1],\n",
       " [1, -1],\n",
       " [101, 109, 82, 26, -1],\n",
       " [12, -1],\n",
       " [105, 107, 12, -1],\n",
       " [63],\n",
       " [1, 99, 36, 101, -1],\n",
       " [116],\n",
       " [33, -1, 6],\n",
       " [1, 34, 6, 8, 9, -1, 25, 318],\n",
       " [64, 353, 2, 99, 0, 3, 262, 1, 75, 12, 47, 80, 20, 52, 122, 28, -1],\n",
       " [122, 109, -1],\n",
       " [6, 49, 22, 122, -1],\n",
       " [-1],\n",
       " [56, 122, 64, -1],\n",
       " [326, 82, 61, -1],\n",
       " [-1, 95],\n",
       " [1, 68, -1, 15],\n",
       " [-1],\n",
       " [-1],\n",
       " [4, -1],\n",
       " [99, 355, 103, 9, 16, 24, 62, 121, -1],\n",
       " [153, -1],\n",
       " [213, -1],\n",
       " [98, 35, 8, 267, -1],\n",
       " [2, 101, 70, 6, 168, 18, 25, 157, -1, 63],\n",
       " [51, -1],\n",
       " [36, -1],\n",
       " [0, 12, 13, 142, 48, 53, 22, 219, -1],\n",
       " [2, 4, -1],\n",
       " [-1, 31],\n",
       " [85],\n",
       " [36, 181, 94],\n",
       " [-1],\n",
       " [9, 91, -1],\n",
       " [-1],\n",
       " [-1],\n",
       " [1, 15],\n",
       " [98, 22, -1, 15],\n",
       " [-1, 15],\n",
       " [28, 23],\n",
       " [-1],\n",
       " [49, -1, 63],\n",
       " [114, 20, -1, 22],\n",
       " [-1],\n",
       " [86, -1],\n",
       " [0, 4, 310, 158, -1, 31],\n",
       " [4, 310, -1],\n",
       " [-1, 61, 310, 31],\n",
       " [310, -1, 31],\n",
       " [-1],\n",
       " [-1],\n",
       " [64, 2, 19, 116, 183, 88, -1],\n",
       " [26, -1],\n",
       " [131, 99, 12, 28, -1],\n",
       " [-1],\n",
       " [226, 43, 78, 56, 124, -1],\n",
       " [1, 2, 197, 84, -1],\n",
       " [98, -1],\n",
       " [51, -1],\n",
       " [1, 29, -1],\n",
       " [124, -1, 343],\n",
       " [25, 2, -1, 78],\n",
       " [14],\n",
       " [56],\n",
       " [240, 20, -1],\n",
       " [72, 51],\n",
       " [25, -1, 33],\n",
       " [116, 91, 12, -1],\n",
       " [0, 12, 239, 27, -1],\n",
       " [0, 34, -1],\n",
       " [19, 221, -1],\n",
       " [17],\n",
       " [-1],\n",
       " [26, 76, -1],\n",
       " [76, -1],\n",
       " [98],\n",
       " [0, -1],\n",
       " [96],\n",
       " [35, -1, 30],\n",
       " [174, -1],\n",
       " [0, 34, -1],\n",
       " [1],\n",
       " [85],\n",
       " [11],\n",
       " [34, 102, 207, 83, 181, 118, 151, 125, -1],\n",
       " [143, 9, 326, -1],\n",
       " [204, 76, -1, 183],\n",
       " [19, 67, -1],\n",
       " [98, 103, 9, 109, 78, 61, 89, 29, -1],\n",
       " [65, 37, -1],\n",
       " [-1],\n",
       " [-1],\n",
       " [1, 240, 210, 20, -1],\n",
       " [-1],\n",
       " [-1],\n",
       " [26, -1],\n",
       " [0, 150, -1],\n",
       " [-1],\n",
       " [81],\n",
       " [152, -1],\n",
       " [322],\n",
       " [38, 145, 118, 347, 28, -1],\n",
       " [129, 70, 9, 124, -1, 223],\n",
       " [-1],\n",
       " [64, 1, 3, 39, -1],\n",
       " [-1],\n",
       " [-1, 15],\n",
       " [-1],\n",
       " [64, 96, 11, 52, 185, 26, -1],\n",
       " [91],\n",
       " [290, 124],\n",
       " [-1],\n",
       " [-1],\n",
       " [132, 21, 118, 85, -1],\n",
       " [105, -1, 57],\n",
       " [68, 37, -1],\n",
       " [1, 68, 109, -1],\n",
       " [26, -1],\n",
       " [298, -1],\n",
       " [-1],\n",
       " [168, 203, 49, 154, -1],\n",
       " [3, 168, 270, 16, 49, 154, -1],\n",
       " [166, 168, 16, 49, -1],\n",
       " [0, 32, 9, 148, 61, -1, 63],\n",
       " [-1],\n",
       " [0, -1],\n",
       " [153, 26],\n",
       " [57],\n",
       " [0, 101, -1, 127],\n",
       " [249, 252, -1],\n",
       " [-1],\n",
       " [-1],\n",
       " [2, 170, 332, 276, -1],\n",
       " [2, 73, 170, 332, -1],\n",
       " [1, 50, 51, 60],\n",
       " [-1],\n",
       " [37, -1],\n",
       " [25, -1],\n",
       " [17, 12, 77],\n",
       " [3, 23],\n",
       " [-1],\n",
       " [6, -1],\n",
       " [163, 7, 8, 105, 81, 114, 314, -1],\n",
       " [1, 163, -1, 314, 62],\n",
       " [314, -1, 22],\n",
       " [193, 1, 98, 101, 262, 7, 232, 75, 44, 16, 49, 117, 30, 25, -1],\n",
       " [0, -1],\n",
       " [68, 72, 338, 279, -1],\n",
       " [4, 43, 273, 19, -1],\n",
       " [0, 154, 19, 215, 58, 157, -1],\n",
       " [240, 77, -1],\n",
       " [12],\n",
       " [4, 101, 16, 81, 149, 56, -1],\n",
       " [58, 20, -1, 22],\n",
       " [65, 58, -1],\n",
       " [-1],\n",
       " [12, 45, -1],\n",
       " [44, 149, -1],\n",
       " [104, 80, -1],\n",
       " [-1],\n",
       " [107, -1],\n",
       " [46],\n",
       " [1, 262, 304, 240, 50, -1],\n",
       " [101, 41, 172, 304, 240, 80, 85, 123, 60, -1],\n",
       " [-1],\n",
       " [217, 58, -1],\n",
       " [-1],\n",
       " [2],\n",
       " [33],\n",
       " [-1],\n",
       " [-1],\n",
       " [0, 33, 38, 72, 11, 43, 48, 21, 150, -1],\n",
       " [0, 227, 259, 38, 138, 11, 190, 143, 211, 21, 24, 188, -1],\n",
       " [0,\n",
       "  197,\n",
       "  38,\n",
       "  231,\n",
       "  102,\n",
       "  9,\n",
       "  170,\n",
       "  203,\n",
       "  47,\n",
       "  143,\n",
       "  81,\n",
       "  53,\n",
       "  117,\n",
       "  21,\n",
       "  150,\n",
       "  24,\n",
       "  220,\n",
       "  -1],\n",
       " [0,\n",
       "  65,\n",
       "  226,\n",
       "  38,\n",
       "  231,\n",
       "  9,\n",
       "  170,\n",
       "  138,\n",
       "  45,\n",
       "  334,\n",
       "  81,\n",
       "  145,\n",
       "  19,\n",
       "  148,\n",
       "  341,\n",
       "  220,\n",
       "  222,\n",
       "  -1],\n",
       " [101, 262, 72, 265, 110, 82, 211, 21, 121, -1],\n",
       " [21],\n",
       " [78],\n",
       " [4, 169, 20, 25, 188, -1],\n",
       " [28, 52],\n",
       " [136, 110, 53, 22, -1],\n",
       " [227, 74, 11, 12, 211, 20, 21, 22, 183, 153, 29, -1],\n",
       " [1, 11, 44, 47, 239, 84, 53, 87, 127, -1, 319],\n",
       " [73, 81, 53, 87, 59, -1],\n",
       " [133],\n",
       " [2, 139, 304, 209, 82, 23, -1],\n",
       " [12],\n",
       " [108, 213, -1, 36],\n",
       " [83, 117, -1],\n",
       " [-1],\n",
       " [0, 1, -1, 55],\n",
       " [144, 352, -1],\n",
       " [32],\n",
       " [68],\n",
       " [2, 35, 202, 75, -1],\n",
       " [-1],\n",
       " [37, 45, 49, 122, 59, -1],\n",
       " [44],\n",
       " [10, 158, -1],\n",
       " [-1],\n",
       " [1, 58, -1],\n",
       " [103, 9, 301, 81, 245, -1],\n",
       " [44, 213, -1],\n",
       " [12],\n",
       " [123, 150, -1, 47],\n",
       " [68, -1],\n",
       " [16, -1],\n",
       " [70, -1],\n",
       " [-1],\n",
       " [-1],\n",
       " [49, 133, 334],\n",
       " [3, -1],\n",
       " [33],\n",
       " [0, 1, 83, 25, -1, 223],\n",
       " [65],\n",
       " [122, 39],\n",
       " [0],\n",
       " [209, -1],\n",
       " [72, -1],\n",
       " [26, 122, -1, 6],\n",
       " [-1],\n",
       " [128, 12, -1],\n",
       " [-1],\n",
       " [1, 205, 50, 23, 25, 126, -1],\n",
       " [152, 1, -1],\n",
       " [37, -1],\n",
       " [88, 17, 4, -1],\n",
       " [101, -1, 238],\n",
       " [4, -1],\n",
       " [98, 2, 356, 4, 60, 85, 28, 61, -1],\n",
       " [46, 10, -1],\n",
       " [268],\n",
       " [-1],\n",
       " [8],\n",
       " [43, 24, 27, 28, -1],\n",
       " [1, 99, 28, -1],\n",
       " [224, 0, 2, 197, 47, 243, 117, 23, 248, -1],\n",
       " [224, -1],\n",
       " [288, 15, 178, 23, -1],\n",
       " [26, 23],\n",
       " [34, 9, 203, 89, 189, -1],\n",
       " [1, 51, -1],\n",
       " [37],\n",
       " [-1],\n",
       " [0, 64],\n",
       " [-1],\n",
       " [9, -1],\n",
       " [48, -1],\n",
       " [20, 117, -1],\n",
       " [24, 284, -1],\n",
       " [56, 4, 28, -1],\n",
       " [44, 238, -1],\n",
       " [57, -1],\n",
       " [93, -1],\n",
       " [93],\n",
       " [34, 102, 111, 118, 61, -1],\n",
       " [-1],\n",
       " [0, 51, -1],\n",
       " [0, 2, 19, -1],\n",
       " [0, 103, 12, 240, 21, -1, 126],\n",
       " [0, 43, 28, -1],\n",
       " [-1],\n",
       " [-1],\n",
       " [12],\n",
       " [47],\n",
       " [-1],\n",
       " [17],\n",
       " [-1],\n",
       " [37],\n",
       " [57, 10, -1],\n",
       " [-1],\n",
       " [177, -1],\n",
       " [147, 252, -1],\n",
       " [44, -1],\n",
       " [-1],\n",
       " [257, 35, 12, 20, 248, -1],\n",
       " [-1],\n",
       " [7],\n",
       " [5, 219, 21, -1],\n",
       " [118, -1, 127],\n",
       " [82, 12, -1],\n",
       " [-1],\n",
       " [159, 1, 38, 136, 123, 203, 45, 173, 307, 53, 87, 347, 29, -1, 31],\n",
       " [228, 138, 170, 173, 143, 81, 247, -1, 31],\n",
       " [-1],\n",
       " [-1],\n",
       " [177, -1, 6],\n",
       " [-1],\n",
       " [2],\n",
       " [-1],\n",
       " [2],\n",
       " [64, 2, 28, -1],\n",
       " [0, 1, 13, 174, 17, 23, 61, -1],\n",
       " [256, 1, 4, 47, 87, -1],\n",
       " [1, 4, 174, 208, 17, 58, -1],\n",
       " [1, 35, 141, 25, -1],\n",
       " [182],\n",
       " [-1],\n",
       " [141, 16, 17, 216, -1],\n",
       " [141, 103],\n",
       " [33, 61, -1],\n",
       " [33, 61],\n",
       " [234],\n",
       " [320, -1],\n",
       " [-1],\n",
       " [-1],\n",
       " [1],\n",
       " [-1],\n",
       " [-1],\n",
       " [251, -1],\n",
       " [236, -1],\n",
       " [56, 35, -1],\n",
       " [11, -1],\n",
       " [152, 25, 45, -1],\n",
       " [1, 41, 109, 209, 248, -1],\n",
       " [-1],\n",
       " [0, 54, -1, 7],\n",
       " [33],\n",
       " [183],\n",
       " [8, -1],\n",
       " [8, -1],\n",
       " [-1, 31],\n",
       " [-1],\n",
       " [121, 11, 109, -1],\n",
       " [10, -1],\n",
       " [0, 105, 43, -1],\n",
       " [232, 93],\n",
       " [-1],\n",
       " [0, 105, 5, -1],\n",
       " [-1],\n",
       " [304, 100, 5, 84],\n",
       " [-1],\n",
       " [301],\n",
       " [110, 309, -1, 95],\n",
       " [32, 38, 10, -1],\n",
       " [-1],\n",
       " [-1],\n",
       " [88],\n",
       " [91, -1],\n",
       " [-1],\n",
       " [144, 27, -1],\n",
       " [132],\n",
       " [0, 224, 3, 8, 85, 60, -1],\n",
       " [217, 59, 1],\n",
       " [71],\n",
       " [50, -1],\n",
       " [-1],\n",
       " [1, 188],\n",
       " [136, 1],\n",
       " [141, -1],\n",
       " [-1],\n",
       " [-1, 191],\n",
       " [-1],\n",
       " [78, -1],\n",
       " [20, -1],\n",
       " [-1],\n",
       " [43],\n",
       " [146],\n",
       " [-1],\n",
       " [1, 43, -1],\n",
       " [-1],\n",
       " [178],\n",
       " [77],\n",
       " [68],\n",
       " [1, -1, 15],\n",
       " [-1, 15],\n",
       " [-1],\n",
       " [267, -1],\n",
       " [43, 22],\n",
       " [-1],\n",
       " [1, 30, -1, 6],\n",
       " [-1],\n",
       " [116],\n",
       " [5, -1],\n",
       " [45, -1],\n",
       " [41, -1],\n",
       " [20, 28, -1],\n",
       " [4, 47, 29, 61, -1],\n",
       " [45, -1],\n",
       " [28, 4, 13, -1],\n",
       " [97, -1],\n",
       " [232, 64, -1],\n",
       " [232],\n",
       " [48],\n",
       " [0, 1, 41, 74, 43, 14, 207, 48, 337, 307, 55, 126, 285, -1],\n",
       " [16, -1],\n",
       " [88, -1],\n",
       " [130, -1],\n",
       " [178],\n",
       " [-1, 119],\n",
       " [88],\n",
       " [74, -1, 47],\n",
       " [-1],\n",
       " [74, 19, 213, -1],\n",
       " [-1],\n",
       " [1, 12],\n",
       " [-1],\n",
       " [33, 213, -1],\n",
       " [123, -1],\n",
       " [34, -1, 271],\n",
       " [96],\n",
       " [-1],\n",
       " [49, -1],\n",
       " [238, -1],\n",
       " [96, 17],\n",
       " [17, -1],\n",
       " [16, 322, -1],\n",
       " [322, -1],\n",
       " [16, 322, 4, -1],\n",
       " [1, 59, -1],\n",
       " [48, 25, -1],\n",
       " [84, -1],\n",
       " [158, -1],\n",
       " [77, -1],\n",
       " [-1],\n",
       " [-1],\n",
       " [75, -1],\n",
       " [32],\n",
       " [221, -1],\n",
       " [-1],\n",
       " [-1],\n",
       " [154, 11, -1],\n",
       " [276, -1, 47],\n",
       " [226, 28, -1],\n",
       " [116, -1],\n",
       " [-1],\n",
       " [276],\n",
       " [150],\n",
       " [123, -1],\n",
       " [27],\n",
       " [-1],\n",
       " [25],\n",
       " [101],\n",
       " [99, 42, 76, 78, 82, -1],\n",
       " [83],\n",
       " [19],\n",
       " [40, -1],\n",
       " [40, -1],\n",
       " [11, 43, 235, 52, -1],\n",
       " [40, 159],\n",
       " [5, 253, -1],\n",
       " [253],\n",
       " [-1],\n",
       " [88],\n",
       " [12, -1],\n",
       " [-1],\n",
       " [186],\n",
       " [-1],\n",
       " [42, -1, 159],\n",
       " [-1],\n",
       " [-1],\n",
       " [-1],\n",
       " [-1],\n",
       " [17],\n",
       " [-1],\n",
       " [268],\n",
       " [-1],\n",
       " [110, 243, -1],\n",
       " [197, 165, 273, 49, 243, -1, 22, 310, 62],\n",
       " [38, 140, 52, 153, -1],\n",
       " [241, 153, 43, -1],\n",
       " [-1],\n",
       " [10, -1],\n",
       " [-1],\n",
       " [8, -1],\n",
       " [-1],\n",
       " [-1],\n",
       " [-1],\n",
       " [-1],\n",
       " [15],\n",
       " [-1],\n",
       " [1, 193, 11, 19, 21, -1, 63],\n",
       " [37, -1],\n",
       " [-1],\n",
       " [53, -1],\n",
       " [28, -1],\n",
       " [0, 1, 49, 27, -1],\n",
       " [155, 45, -1],\n",
       " [72],\n",
       " [51, -1],\n",
       " [-1],\n",
       " [-1],\n",
       " [2, -1],\n",
       " [59, 30, -1],\n",
       " [45, -1, 63],\n",
       " [48, 142],\n",
       " [-1],\n",
       " [3, 4, 41, 10, 14, 21, 344, -1],\n",
       " [-1],\n",
       " [10],\n",
       " [1, -1],\n",
       " [30],\n",
       " [49, -1],\n",
       " [49],\n",
       " [1, 13, 112, 16, -1, 190],\n",
       " [13, -1],\n",
       " [8, 261, -1],\n",
       " [15],\n",
       " [-1],\n",
       " [10, 101, -1],\n",
       " [144, 54, -1],\n",
       " [278],\n",
       " [19],\n",
       " [1, 80, 156, 20, 121, 28, -1, 57],\n",
       " [30],\n",
       " [-1],\n",
       " [9, 82, -1],\n",
       " [-1],\n",
       " [64, 43, 27, -1],\n",
       " [-1],\n",
       " [37, -1],\n",
       " [-1],\n",
       " [-1],\n",
       " [71],\n",
       " [0, 56, 37, -1],\n",
       " [-1],\n",
       " [-1],\n",
       " [-1],\n",
       " [249],\n",
       " [57, 61],\n",
       " [36],\n",
       " [155],\n",
       " [36],\n",
       " [-1],\n",
       " [128, 82, 42, -1],\n",
       " [112, 83, 87, -1, 159],\n",
       " [357, -1, 31],\n",
       " [-1],\n",
       " [9, -1, 265],\n",
       " [55],\n",
       " [-1],\n",
       " [249],\n",
       " [46],\n",
       " [-1],\n",
       " [101, 10, 45, 17, 19, 84, 28, -1],\n",
       " [113, 182, -1],\n",
       " [35],\n",
       " [115, 4],\n",
       " [-1],\n",
       " [1, -1],\n",
       " [-1],\n",
       " [75],\n",
       " [-1],\n",
       " [0, -1],\n",
       " [0, -1],\n",
       " [-1],\n",
       " [112, 2, -1],\n",
       " [-1],\n",
       " [146],\n",
       " [79],\n",
       " [0, 1, 105, 43, 93, -1],\n",
       " [0, 74, 43, 11, 22, 93, -1],\n",
       " [0, 1, 93, -1],\n",
       " [70],\n",
       " [8, -1],\n",
       " [-1],\n",
       " [-1],\n",
       " [83, 84, -1],\n",
       " [8, 68, -1],\n",
       " [-1],\n",
       " [152, 33, -1],\n",
       " [-1],\n",
       " [-1],\n",
       " [1, 18, -1],\n",
       " [-1, 30],\n",
       " [-1],\n",
       " [213, -1],\n",
       " [-1],\n",
       " [1, 2, 19, -1],\n",
       " [-1],\n",
       " [1],\n",
       " [-1],\n",
       " [100],\n",
       " [-1],\n",
       " [16, 1, -1],\n",
       " [1, -1, 6],\n",
       " [-1],\n",
       " [218, -1],\n",
       " [42, 37, -1],\n",
       " [106, 4, -1],\n",
       " [127, 133, -1, 351],\n",
       " [-1],\n",
       " [-1],\n",
       " [70],\n",
       " [1, 5, 74, 13, 147, 29, -1],\n",
       " [22, -1],\n",
       " [56, 74, 13, -1],\n",
       " [-1],\n",
       " [211, -1],\n",
       " [2, -1, 14],\n",
       " [-1],\n",
       " [-1],\n",
       " [174, -1],\n",
       " [120],\n",
       " [9, 203, -1, 62, 63],\n",
       " [1, -1, 119],\n",
       " [-1],\n",
       " [28, -1],\n",
       " [134],\n",
       " [224, -1],\n",
       " [-1],\n",
       " [88, -1],\n",
       " [-1],\n",
       " [-1],\n",
       " [46, -1],\n",
       " [21],\n",
       " [-1],\n",
       " [153, -1],\n",
       " [-1],\n",
       " [-1],\n",
       " [171, -1],\n",
       " [1, -1, 41],\n",
       " [92, -1],\n",
       " [-1],\n",
       " [-1],\n",
       " [247, 188, -1, 287],\n",
       " [36, 136, 155, 44, 27, -1],\n",
       " [48, -1, 183],\n",
       " [178, 60, -1],\n",
       " [-1],\n",
       " [2],\n",
       " [6],\n",
       " [346, 4, -1],\n",
       " [338, 56, 120, 253, -1],\n",
       " [160, 270, -1, 6],\n",
       " [226, -1],\n",
       " [-1],\n",
       " [128, 257, 12, 44, -1],\n",
       " [9, -1],\n",
       " [129],\n",
       " [142],\n",
       " [5, -1],\n",
       " [5, -1],\n",
       " [145, 5, -1],\n",
       " [98, 34, 3, 5, 135, 8, 30, 28, -1],\n",
       " [0, 98],\n",
       " [299, -1],\n",
       " [28, -1],\n",
       " [67, 53, -1],\n",
       " [-1],\n",
       " [82, 125, 5, -1],\n",
       " [11, -1],\n",
       " [17, -1],\n",
       " [-1],\n",
       " [-1],\n",
       " [58, 134, -1],\n",
       " [-1],\n",
       " [-1],\n",
       " [113, -1, 255],\n",
       " [-1],\n",
       " [1, 154, 99, -1],\n",
       " [1, 42, 236, 81, 254, 153, -1],\n",
       " [24],\n",
       " [-1],\n",
       " [266, 92, -1, 119],\n",
       " [15],\n",
       " [-1],\n",
       " [233, 342],\n",
       " [-1],\n",
       " [2, 12],\n",
       " [-1],\n",
       " [291],\n",
       " [-1],\n",
       " [249],\n",
       " [-1],\n",
       " [19, 221],\n",
       " [-1],\n",
       " [-1],\n",
       " [-1],\n",
       " [-1],\n",
       " [-1],\n",
       " [142, -1],\n",
       " [-1],\n",
       " [-1],\n",
       " [-1],\n",
       " [89, 19, -1],\n",
       " [160, 1, 4, 261, 104, 9, 275, 212, 117, 22, 29, -1],\n",
       " [160, 1, -1],\n",
       " [160, 1, -1],\n",
       " [-1, 55],\n",
       " [219],\n",
       " [5, -1],\n",
       " [-1],\n",
       " [-1],\n",
       " [47],\n",
       " [224, 7, 11, 43, 110, 145, 118, -1],\n",
       " [-1, 7],\n",
       " [7, 8, 41, 114, -1],\n",
       " [-1],\n",
       " [38, 10, 11, 54, -1],\n",
       " [2, 130, 6, 8, 330, 46, 30, 62, 153, 26, -1],\n",
       " [147, 4, -1, 31],\n",
       " [128, -1],\n",
       " [-1],\n",
       " [112],\n",
       " [-1],\n",
       " [112],\n",
       " [-1],\n",
       " [-1],\n",
       " [-1],\n",
       " [-1],\n",
       " [9, 106, -1],\n",
       " [-1],\n",
       " [-1],\n",
       " [50, 11, -1],\n",
       " [106, 11, 4, -1],\n",
       " [-1],\n",
       " [41, 22, -1],\n",
       " [6],\n",
       " [1, 130, -1],\n",
       " [-1],\n",
       " [0, -1],\n",
       " [0],\n",
       " [0],\n",
       " [-1],\n",
       " [25, 28, 237],\n",
       " [44, -1],\n",
       " [19, -1],\n",
       " [-1],\n",
       " [-1],\n",
       " [187],\n",
       " [24, 40, 188, -1],\n",
       " [10],\n",
       " [253],\n",
       " [93],\n",
       " [-1],\n",
       " [19, 61],\n",
       " [-1],\n",
       " [-1],\n",
       " [-1],\n",
       " [-1],\n",
       " [72, 0, -1],\n",
       " [92],\n",
       " [47],\n",
       " [-1],\n",
       " [-1],\n",
       " [121, -1],\n",
       " [-1],\n",
       " [210],\n",
       " [88, 19, 61, -1],\n",
       " [207],\n",
       " [201, 299, -1, 22],\n",
       " [1, 340, -1],\n",
       " [-1],\n",
       " [128, 150, 205, -1],\n",
       " [-1],\n",
       " [-1],\n",
       " [24, 77],\n",
       " [-1],\n",
       " [-1],\n",
       " [98, 26, 82, -1],\n",
       " [98, 334, 26, 156, -1],\n",
       " [133, -1],\n",
       " [10, -1, 30],\n",
       " [-1],\n",
       " [0],\n",
       " [-1],\n",
       " [2, -1],\n",
       " [285, -1],\n",
       " [-1],\n",
       " [139, -1],\n",
       " [177],\n",
       " [261, -1, 63],\n",
       " [246, -1],\n",
       " [-1],\n",
       " [-1],\n",
       " [-1],\n",
       " [181],\n",
       " [-1],\n",
       " [-1],\n",
       " [-1],\n",
       " [134],\n",
       " [8, 300],\n",
       " [34],\n",
       " [-1],\n",
       " [44, -1],\n",
       " [9],\n",
       " [147],\n",
       " [355, 6, 327, 11, 46, 311, 152, -1],\n",
       " [92],\n",
       " [-1],\n",
       " [82, -1],\n",
       " [1, 67, 235, 12, 108, 47, 82, 19, 20, 21, 54, 182, 244, 25, 28, -1],\n",
       " [64, 99, 5, 235, 173, 19, 180, 87, 28, -1],\n",
       " [4, 104, 137, 235, 180, 53, 24, 89, -1],\n",
       " [42, 173, -1, 295],\n",
       " [40, 82, 77, -1],\n",
       " [9, 13, 63],\n",
       " [110],\n",
       " [27],\n",
       " [-1],\n",
       " [67, 24, 92, -1, 63],\n",
       " [-1],\n",
       " [-1],\n",
       " [219, -1],\n",
       " [-1],\n",
       " [112, -1, 47],\n",
       " [-1],\n",
       " [-1],\n",
       " [-1],\n",
       " [244, -1, 22],\n",
       " [-1],\n",
       " [75, -1],\n",
       " [-1],\n",
       " [128, -1],\n",
       " [-1],\n",
       " [48, 49],\n",
       " [109],\n",
       " [-1],\n",
       " [105],\n",
       " [-1],\n",
       " [309, 219, 325, -1],\n",
       " [249],\n",
       " [227, 6, 106, 76, 117, 56, -1],\n",
       " [-1],\n",
       " [106, 43, -1, 6],\n",
       " [106, 117, -1],\n",
       " [41, 115, -1],\n",
       " [-1],\n",
       " [50, -1],\n",
       " [259, 189, -1],\n",
       " [350],\n",
       " [-1],\n",
       " [-1],\n",
       " [257, -1],\n",
       " [190],\n",
       " [32, -1],\n",
       " [0, 121, 13, -1],\n",
       " [273],\n",
       " [-1],\n",
       " [56, -1, 23],\n",
       " [-1],\n",
       " [6],\n",
       " [-1],\n",
       " [-1],\n",
       " [172],\n",
       " [-1],\n",
       " [91],\n",
       " [2, 98, 19, 153, -1],\n",
       " [80, -1],\n",
       " [-1, 30],\n",
       " [152, 1, 154, -1],\n",
       " [89, 22, -1],\n",
       " [1, -1],\n",
       " [256, 1, 38, 72, 11, 81, 53, 21, 149, 120, -1],\n",
       " [12],\n",
       " [-1],\n",
       " [91, -1],\n",
       " [-1],\n",
       " [106, -1],\n",
       " [-1],\n",
       " [15],\n",
       " [51],\n",
       " [-1],\n",
       " [-1],\n",
       " [-1],\n",
       " [89],\n",
       " [-1],\n",
       " [-1],\n",
       " [46, 11, 179, -1],\n",
       " [-1],\n",
       " [5, 134],\n",
       " [-1],\n",
       " [25, -1, 6, 30],\n",
       " [75],\n",
       " [118],\n",
       " [1, 98, -1],\n",
       " ...]"
      ]
     },
     "execution_count": 40,
     "metadata": {},
     "output_type": "execute_result"
    }
   ],
   "source": [
    "set_list"
   ]
  },
  {
   "cell_type": "markdown",
   "metadata": {},
   "source": [
    "Reduced to 50 topics"
   ]
  },
  {
   "cell_type": "code",
   "execution_count": 22,
   "metadata": {},
   "outputs": [
    {
     "data": {
      "application/vnd.jupyter.widget-view+json": {
       "model_id": "a68a85b71b544c77bd47140197c855a6",
       "version_major": 2,
       "version_minor": 0
      },
      "text/plain": [
       "Batches:   0%|          | 0/1226 [00:00<?, ?it/s]"
      ]
     },
     "metadata": {},
     "output_type": "display_data"
    },
    {
     "name": "stderr",
     "output_type": "stream",
     "text": [
      "2023-09-04 14:15:38,930 - BERTopic - Transformed documents to Embeddings\n",
      "2023-09-04 14:15:59,230 - BERTopic - Reduced dimensionality\n"
     ]
    },
    {
     "name": "stdout",
     "output_type": "stream",
     "text": [
      "huggingface/tokenizers: The current process just got forked, after parallelism has already been used. Disabling parallelism to avoid deadlocks...\n",
      "To disable this warning, you can either:\n",
      "\t- Avoid using `tokenizers` before the fork if possible\n",
      "\t- Explicitly set the environment variable TOKENIZERS_PARALLELISM=(true | false)\n",
      "huggingface/tokenizers: The current process just got forked, after parallelism has already been used. Disabling parallelism to avoid deadlocks...\n",
      "To disable this warning, you can either:\n",
      "\t- Avoid using `tokenizers` before the fork if possible\n",
      "\t- Explicitly set the environment variable TOKENIZERS_PARALLELISM=(true | false)\n",
      "huggingface/tokenizers: The current process just got forked, after parallelism has already been used. Disabling parallelism to avoid deadlocks...\n",
      "To disable this warning, you can either:\n",
      "\t- Avoid using `tokenizers` before the fork if possible\n",
      "\t- Explicitly set the environment variable TOKENIZERS_PARALLELISM=(true | false)\n",
      "huggingface/tokenizers: The current process just got forked, after parallelism has already been used. Disabling parallelism to avoid deadlocks...\n",
      "To disable this warning, you can either:\n",
      "\t- Avoid using `tokenizers` before the fork if possible\n",
      "\t- Explicitly set the environment variable TOKENIZERS_PARALLELISM=(true | false)\n"
     ]
    },
    {
     "name": "stderr",
     "output_type": "stream",
     "text": [
      "2023-09-04 14:19:35,767 - BERTopic - Clustered reduced embeddings\n",
      "100%|██████████| 356/356 [02:49<00:00,  2.10it/s]\n",
      "100%|██████████| 50/50 [00:28<00:00,  1.78it/s]\n",
      "2023-09-04 14:37:13,247 - BERTopic - Reduced number of topics from 356 to 50\n"
     ]
    }
   ],
   "source": [
    "topic_model_0_join_50, topics_0_join_50, probs_0_join_50 = topic_extractor.bert_advanced(corpus_window_0_join_df['processed_text'].to_list(), representation_model=representation_model, embedding_model=sentence_model_light, nr_topics=50)"
   ]
  },
  {
   "cell_type": "code",
   "execution_count": 23,
   "metadata": {},
   "outputs": [
    {
     "data": {
      "text/html": [
       "<div>\n",
       "<style scoped>\n",
       "    .dataframe tbody tr th:only-of-type {\n",
       "        vertical-align: middle;\n",
       "    }\n",
       "\n",
       "    .dataframe tbody tr th {\n",
       "        vertical-align: top;\n",
       "    }\n",
       "\n",
       "    .dataframe thead th {\n",
       "        text-align: right;\n",
       "    }\n",
       "</style>\n",
       "<table border=\"1\" class=\"dataframe\">\n",
       "  <thead>\n",
       "    <tr style=\"text-align: right;\">\n",
       "      <th></th>\n",
       "      <th>Topic</th>\n",
       "      <th>Count</th>\n",
       "      <th>Name</th>\n",
       "      <th>Representation</th>\n",
       "      <th>Chain: Inspired - MMR</th>\n",
       "      <th>Chain: Inspired - MMR - POS</th>\n",
       "      <th>Generator chain: Inspired - MMR</th>\n",
       "      <th>Representative_Docs</th>\n",
       "    </tr>\n",
       "  </thead>\n",
       "  <tbody>\n",
       "    <tr>\n",
       "      <th>0</th>\n",
       "      <td>-1</td>\n",
       "      <td>20552</td>\n",
       "      <td>-1_impact_economic_demand_effect</td>\n",
       "      <td>[impact, economic, demand, effect, inflation, ...</td>\n",
       "      <td>[impact, economic, demand, effect, inflation, ...</td>\n",
       "      <td>[war, impact, year, business, market, quarter,...</td>\n",
       "      <td>[economics, , , , , , , , , ]</td>\n",
       "      <td>[ongoing event include covid mitigation effort...</td>\n",
       "    </tr>\n",
       "    <tr>\n",
       "      <th>1</th>\n",
       "      <td>0</td>\n",
       "      <td>6643</td>\n",
       "      <td>0_inflation_demand_war_shortage</td>\n",
       "      <td>[inflation, demand, war, shortage, supply, gas...</td>\n",
       "      <td>[inflation, demand, war, shortage, supply, gas...</td>\n",
       "      <td>[supply, gas, war, chain, inflation, price, ma...</td>\n",
       "      <td>[oil, , , , , , , , , ]</td>\n",
       "      <td>[concerned ongoing global logistics constraint...</td>\n",
       "    </tr>\n",
       "    <tr>\n",
       "      <th>2</th>\n",
       "      <td>1</td>\n",
       "      <td>3037</td>\n",
       "      <td>1_earnings_revenue_million_billion</td>\n",
       "      <td>[earnings, revenue, million, billion, investme...</td>\n",
       "      <td>[earnings, revenue, million, billion, investme...</td>\n",
       "      <td>[business, exposure, eur, impairment, revenue,...</td>\n",
       "      <td>[ebitda, , , , , , , , , ]</td>\n",
       "      <td>[talk net exposure eur million, combination co...</td>\n",
       "    </tr>\n",
       "    <tr>\n",
       "      <th>3</th>\n",
       "      <td>2</td>\n",
       "      <td>1602</td>\n",
       "      <td>2_war_military_conflict_peace</td>\n",
       "      <td>[war, military, conflict, peace, crisis, invas...</td>\n",
       "      <td>[war, military, conflict, peace, crisis, invas...</td>\n",
       "      <td>[war, conflict, geopolitical, people, uncertai...</td>\n",
       "      <td>[war, conflict, peace, business, , , , , , , ,...</td>\n",
       "      <td>[war, war, war]</td>\n",
       "    </tr>\n",
       "    <tr>\n",
       "      <th>4</th>\n",
       "      <td>3</td>\n",
       "      <td>1402</td>\n",
       "      <td>3_belarus_belarusian_kazakhstan_poland</td>\n",
       "      <td>[belarus, belarusian, kazakhstan, poland, ukra...</td>\n",
       "      <td>[belarus, belarusian, kazakhstan, poland, ukra...</td>\n",
       "      <td>[ukrainian, business, country, people, belarus...</td>\n",
       "      <td>[belarus, , , , , , , , , ]</td>\n",
       "      <td>[belarus material, year go belarus, belarus]</td>\n",
       "    </tr>\n",
       "    <tr>\n",
       "      <th>5</th>\n",
       "      <td>4</td>\n",
       "      <td>567</td>\n",
       "      <td>4_invasion_invade_attack_war</td>\n",
       "      <td>[invasion, invade, attack, war, warfare, impac...</td>\n",
       "      <td>[invasion, invade, attack, war, warfare, impac...</td>\n",
       "      <td>[invasion, defense, drone, cyber, invade, atta...</td>\n",
       "      <td>[invasion of iraq, , , , , , , , , ]</td>\n",
       "      <td>[impact invasion business, invasion, year inva...</td>\n",
       "    </tr>\n",
       "    <tr>\n",
       "      <th>6</th>\n",
       "      <td>5</td>\n",
       "      <td>531</td>\n",
       "      <td>5_patient_clinical_trial_hospital</td>\n",
       "      <td>[patient, clinical, trial, hospital, fda, medi...</td>\n",
       "      <td>[patient, clinical, trial, hospital, fda, medi...</td>\n",
       "      <td>[patient, trial, humanitarian, support, study,...</td>\n",
       "      <td>[fda - a clinical trial of a drug called a ste...</td>\n",
       "      <td>[look patient patient, development start new c...</td>\n",
       "    </tr>\n",
       "    <tr>\n",
       "      <th>7</th>\n",
       "      <td>6</td>\n",
       "      <td>479</td>\n",
       "      <td>6_export_exporting_exporter_import</td>\n",
       "      <td>[export, exporting, exporter, import, ship, sh...</td>\n",
       "      <td>[export, exporting, exporter, import, ship, sh...</td>\n",
       "      <td>[export, port, import, shipment, sea, ship, ca...</td>\n",
       "      <td>[import &amp; export of cargo from port, , , , , ,...</td>\n",
       "      <td>[export, export, export]</td>\n",
       "    </tr>\n",
       "    <tr>\n",
       "      <th>8</th>\n",
       "      <td>7</td>\n",
       "      <td>412</td>\n",
       "      <td>7_impact_impacting_effect_damage</td>\n",
       "      <td>[impact, impacting, effect, damage, hit, invas...</td>\n",
       "      <td>[impact, impacting, effect, damage, hit, invas...</td>\n",
       "      <td>[impact, omicron, quarter, easter, q1, damage,...</td>\n",
       "      <td>[impact of hurricane katrina, , , , , , , , , ]</td>\n",
       "      <td>[impact, ahead pre-covid number summer recover...</td>\n",
       "    </tr>\n",
       "    <tr>\n",
       "      <th>9</th>\n",
       "      <td>8</td>\n",
       "      <td>412</td>\n",
       "      <td>8_employee_colleague_employ_payroll</td>\n",
       "      <td>[employee, colleague, employ, payroll, office,...</td>\n",
       "      <td>[employee, colleague, employ, payroll, office,...</td>\n",
       "      <td>[employee, colleague, family, safety, people, ...</td>\n",
       "      <td>[employee of a company employing a colleague o...</td>\n",
       "      <td>[employee, employee business consequence emplo...</td>\n",
       "    </tr>\n",
       "    <tr>\n",
       "      <th>10</th>\n",
       "      <td>9</td>\n",
       "      <td>408</td>\n",
       "      <td>9_sanction_compliance_regulation_impact</td>\n",
       "      <td>[sanction, compliance, regulation, impact, reg...</td>\n",
       "      <td>[sanction, compliance, regulation, impact, reg...</td>\n",
       "      <td>[sanction, aircraft, lease, government, uniper...</td>\n",
       "      <td>[impose sanctions on government, , , , , , , ,...</td>\n",
       "      <td>[conflict lead sanction impose government u.s....</td>\n",
       "    </tr>\n",
       "    <tr>\n",
       "      <th>11</th>\n",
       "      <td>10</td>\n",
       "      <td>350</td>\n",
       "      <td>10_currency_fx_forex_euro</td>\n",
       "      <td>[currency, fx, forex, euro, yen, yuan, dollar,...</td>\n",
       "      <td>[currency, fx, forex, euro, yen, yuan, dollar,...</td>\n",
       "      <td>[ruble, fx, currency, arr, growth, dollar, eps...</td>\n",
       "      <td>[forex currency, , , , , , , , , ]</td>\n",
       "      <td>[yes mention factor fx effect fx exit business...</td>\n",
       "    </tr>\n",
       "    <tr>\n",
       "      <th>12</th>\n",
       "      <td>11</td>\n",
       "      <td>221</td>\n",
       "      <td>11_exposure_photography_visibility_expose</td>\n",
       "      <td>[exposure, photography, visibility, expose, tr...</td>\n",
       "      <td>[exposure, photography, visibility, expose, tr...</td>\n",
       "      <td>[exposure, direct, small, visibility, little, ...</td>\n",
       "      <td>[photography exposure, , , , , , , , , ]</td>\n",
       "      <td>[exposure, exposure, exposure]</td>\n",
       "    </tr>\n",
       "    <tr>\n",
       "      <th>13</th>\n",
       "      <td>12</td>\n",
       "      <td>204</td>\n",
       "      <td>12_exit_exiting_exited_leave</td>\n",
       "      <td>[exit, exiting, exited, leave, end, withdraw, ...</td>\n",
       "      <td>[exit, exiting, exited, leave, end, withdraw, ...</td>\n",
       "      <td>[exit, decision, business, leave, process, mar...</td>\n",
       "      <td>[exiting, , , , , , , , , ]</td>\n",
       "      <td>[exit, exit, exit]</td>\n",
       "    </tr>\n",
       "    <tr>\n",
       "      <th>14</th>\n",
       "      <td>13</td>\n",
       "      <td>196</td>\n",
       "      <td>13_china_taiwan_shanghai_japan</td>\n",
       "      <td>[china, taiwan, shanghai, japan, chinese, kore...</td>\n",
       "      <td>[china, taiwan, shanghai, japan, chinese, kore...</td>\n",
       "      <td>[china, country, decline, chinese, big, market...</td>\n",
       "      <td>[thailand, , , , , , , , , ]</td>\n",
       "      <td>[term country geopolitical risk issue see taiw...</td>\n",
       "    </tr>\n",
       "    <tr>\n",
       "      <th>15</th>\n",
       "      <td>14</td>\n",
       "      <td>148</td>\n",
       "      <td>14_go_happen_situation_know</td>\n",
       "      <td>[go, happen, situation, know, come, wait, play...</td>\n",
       "      <td>[go, happen, situation, know, come, wait, play...</td>\n",
       "      <td>[situation, happen, special, uptick, due, bot,...</td>\n",
       "      <td>[oh come on, come on, come on, come on, come o...</td>\n",
       "      <td>[obviously know go happen situation play, obvi...</td>\n",
       "    </tr>\n",
       "    <tr>\n",
       "      <th>16</th>\n",
       "      <td>15</td>\n",
       "      <td>148</td>\n",
       "      <td>15_volume_decrease_impact_decline</td>\n",
       "      <td>[volume, decrease, impact, decline, extent, re...</td>\n",
       "      <td>[volume, decrease, impact, decline, extent, re...</td>\n",
       "      <td>[volume, decline, consolidation, tolling, meth...</td>\n",
       "      <td>[tolling, , , , , , , , , ]</td>\n",
       "      <td>[include volume decline, impact volume, volume]</td>\n",
       "    </tr>\n",
       "    <tr>\n",
       "      <th>17</th>\n",
       "      <td>16</td>\n",
       "      <td>140</td>\n",
       "      <td>16_capex_capexe_investment_invest</td>\n",
       "      <td>[capex, capexe, investment, invest, investor, ...</td>\n",
       "      <td>[capex, capexe, investment, invest, investor, ...</td>\n",
       "      <td>[capex, asset, investment, capital, fund, port...</td>\n",
       "      <td>[investment fund capex, , , , , , , , , ]</td>\n",
       "      <td>[investment hold capex probably low end range,...</td>\n",
       "    </tr>\n",
       "    <tr>\n",
       "      <th>18</th>\n",
       "      <td>17</td>\n",
       "      <td>126</td>\n",
       "      <td>17_airspace_overflight_closure_flight</td>\n",
       "      <td>[airspace, overflight, closure, flight, airlin...</td>\n",
       "      <td>[airspace, overflight, closure, flight, airlin...</td>\n",
       "      <td>[airspace, fly, closure, asia, flight, air, sp...</td>\n",
       "      <td>[airline flies overflights, , , , , , , , , ]</td>\n",
       "      <td>[obviously year closure airspace have signific...</td>\n",
       "    </tr>\n",
       "    <tr>\n",
       "      <th>19</th>\n",
       "      <td>18</td>\n",
       "      <td>123</td>\n",
       "      <td>18_pig_iron_supply_gold</td>\n",
       "      <td>[pig, iron, supply, gold, bank, cobalt, suppli...</td>\n",
       "      <td>[pig, iron, supply, gold, bank, cobalt, suppli...</td>\n",
       "      <td>[gold, iron, pig, diamond, cobalt, buy, nordio...</td>\n",
       "      <td>[cobalt is a metallic source of iron and cobal...</td>\n",
       "      <td>[far pig iron production discontinue american ...</td>\n",
       "    </tr>\n",
       "    <tr>\n",
       "      <th>20</th>\n",
       "      <td>19</td>\n",
       "      <td>123</td>\n",
       "      <td>19_speak_talk_speech_conversation</td>\n",
       "      <td>[speak, talk, speech, conversation, speaker, c...</td>\n",
       "      <td>[speak, talk, speech, conversation, speaker, c...</td>\n",
       "      <td>[speak, talk, question, conversation, way, mus...</td>\n",
       "      <td>[english speaking speaker, , , , , , , , , ]</td>\n",
       "      <td>[speak, speak, speak]</td>\n",
       "    </tr>\n",
       "    <tr>\n",
       "      <th>21</th>\n",
       "      <td>20</td>\n",
       "      <td>114</td>\n",
       "      <td>20_expect_expectation_forecast_earnings</td>\n",
       "      <td>[expect, expectation, forecast, earnings, grow...</td>\n",
       "      <td>[expect, expectation, forecast, earnings, grow...</td>\n",
       "      <td>[expect, expectation, year, sale, growth, impa...</td>\n",
       "      <td>[adrian mcdonald expects earnings growth, , , ...</td>\n",
       "      <td>[continue expect second half fiscal like like ...</td>\n",
       "    </tr>\n",
       "    <tr>\n",
       "      <th>22</th>\n",
       "      <td>21</td>\n",
       "      <td>114</td>\n",
       "      <td>21_course_study_guidance_decline</td>\n",
       "      <td>[course, study, guidance, decline, situation, ...</td>\n",
       "      <td>[course, study, guidance, decline, situation, ...</td>\n",
       "      <td>[course, guidance, development, sale, situatio...</td>\n",
       "      <td>[a guide to developing a career in education, ...</td>\n",
       "      <td>[mention course, course conflict, course situa...</td>\n",
       "    </tr>\n",
       "    <tr>\n",
       "      <th>23</th>\n",
       "      <td>22</td>\n",
       "      <td>99</td>\n",
       "      <td>22_reserve_mhp_operational_financial</td>\n",
       "      <td>[reserve, mhp, operational, financial, environ...</td>\n",
       "      <td>[reserve, mhp, operational, financial, environ...</td>\n",
       "      <td>[reserve, capacity, rest, mhp, book, operation...</td>\n",
       "      <td>[mhp, , , , , , , , , ]</td>\n",
       "      <td>[today viktoria kapelyushnaya cfo mhp discuss ...</td>\n",
       "    </tr>\n",
       "    <tr>\n",
       "      <th>24</th>\n",
       "      <td>23</td>\n",
       "      <td>98</td>\n",
       "      <td>23_news_journalist_reuters_newsletter</td>\n",
       "      <td>[news, journalist, reuters, newsletter, headli...</td>\n",
       "      <td>[news, journalist, reuters, newsletter, headli...</td>\n",
       "      <td>[news, event, journalist, image, day, acknowle...</td>\n",
       "      <td>[cnn cnn news reuters daily newsletter, , , , ...</td>\n",
       "      <td>[thought like news sure continue follow day, n...</td>\n",
       "    </tr>\n",
       "    <tr>\n",
       "      <th>25</th>\n",
       "      <td>24</td>\n",
       "      <td>83</td>\n",
       "      <td>24_operation_operate_operational_operator</td>\n",
       "      <td>[operation, operate, operational, operator, op...</td>\n",
       "      <td>[operation, operate, operational, operator, op...</td>\n",
       "      <td>[operation, activity, performance, bit, today,...</td>\n",
       "      <td>[operation and control of medical equipment, ,...</td>\n",
       "      <td>[operation, operation, operation]</td>\n",
       "    </tr>\n",
       "    <tr>\n",
       "      <th>26</th>\n",
       "      <td>25</td>\n",
       "      <td>81</td>\n",
       "      <td>25_wiring_harness_wire_electrical</td>\n",
       "      <td>[wiring, harness, wire, electrical, europe, ca...</td>\n",
       "      <td>[wiring, harness, wire, electrical, europe, ca...</td>\n",
       "      <td>[harness, wiring, wire, cable, production, aut...</td>\n",
       "      <td>[wiring harness for a tv plant in europe, , , ...</td>\n",
       "      <td>[wiring harness european plant come country, w...</td>\n",
       "    </tr>\n",
       "    <tr>\n",
       "      <th>27</th>\n",
       "      <td>26</td>\n",
       "      <td>80</td>\n",
       "      <td>26____</td>\n",
       "      <td>[, , , , , , , , , ]</td>\n",
       "      <td>[, , , , , , , , , ]</td>\n",
       "      <td>[, , , , , , , , , ]</td>\n",
       "      <td>[a sailor 's hat, , , , , , , , , ]</td>\n",
       "      <td>[ex, yeah, delighted front]</td>\n",
       "    </tr>\n",
       "    <tr>\n",
       "      <th>28</th>\n",
       "      <td>27</td>\n",
       "      <td>76</td>\n",
       "      <td>27_think_thought_opinion_question</td>\n",
       "      <td>[think, thought, opinion, question, answer, in...</td>\n",
       "      <td>[think, thought, opinion, question, answer, in...</td>\n",
       "      <td>[think, question, people, situation, thing, me...</td>\n",
       "      <td>[rethinking, , , , , , , , , ]</td>\n",
       "      <td>[think question thought, think think, think]</td>\n",
       "    </tr>\n",
       "    <tr>\n",
       "      <th>29</th>\n",
       "      <td>28</td>\n",
       "      <td>73</td>\n",
       "      <td>28_relocate_relocation_migrate_move</td>\n",
       "      <td>[relocate, relocation, migrate, move, employee...</td>\n",
       "      <td>[relocate, relocation, migrate, move, employee...</td>\n",
       "      <td>[relocate, remittance, employee, georgia, relo...</td>\n",
       "      <td>[migrant workers relocate to new locations, , ...</td>\n",
       "      <td>[employee want relocate relocate majority popu...</td>\n",
       "    </tr>\n",
       "    <tr>\n",
       "      <th>30</th>\n",
       "      <td>29</td>\n",
       "      <td>62</td>\n",
       "      <td>29_slide_presentation_move_effect</td>\n",
       "      <td>[slide, presentation, move, effect, op, update...</td>\n",
       "      <td>[slide, presentation, move, effect, op, update...</td>\n",
       "      <td>[slide, update, look, presentation, bit, busin...</td>\n",
       "      <td>[slide show dislocation, , , , , , , , , ]</td>\n",
       "      <td>[slide come slide look market versus performan...</td>\n",
       "    </tr>\n",
       "    <tr>\n",
       "      <th>31</th>\n",
       "      <td>30</td>\n",
       "      <td>61</td>\n",
       "      <td>30_ton_tonne_million_500000</td>\n",
       "      <td>[ton, tonne, million, 500000, production, 1500...</td>\n",
       "      <td>[ton, tonne, million, 500000, production, 1500...</td>\n",
       "      <td>[tonne, ton, barrel, day, come, reserve, chart...</td>\n",
       "      <td>[tonne, , , , , , , , , ]</td>\n",
       "      <td>[country account world corn trade flow million...</td>\n",
       "    </tr>\n",
       "    <tr>\n",
       "      <th>32</th>\n",
       "      <td>31</td>\n",
       "      <td>52</td>\n",
       "      <td>31_titanium_supplier_steelmaking_manufacturing</td>\n",
       "      <td>[titanium, supplier, steelmaking, manufacturin...</td>\n",
       "      <td>[titanium, supplier, steelmaking, manufacturin...</td>\n",
       "      <td>[titanium, neon, source, supplier, come, aeros...</td>\n",
       "      <td>[titanium is a manufacturer of stainless steel...</td>\n",
       "      <td>[opportunity increase share titanium business ...</td>\n",
       "    </tr>\n",
       "    <tr>\n",
       "      <th>33</th>\n",
       "      <td>32</td>\n",
       "      <td>48</td>\n",
       "      <td>32_sorting_sort_tend_seasonality</td>\n",
       "      <td>[sorting, sort, tend, seasonality, forecast, m...</td>\n",
       "      <td>[sorting, sort, tend, seasonality, forecast, m...</td>\n",
       "      <td>[sort, try, time, pick, position, season, pina...</td>\n",
       "      <td>[a forecast for the market, , , , , , , , , ]</td>\n",
       "      <td>[trial pretty continue sort normally obviously...</td>\n",
       "    </tr>\n",
       "    <tr>\n",
       "      <th>34</th>\n",
       "      <td>33</td>\n",
       "      <td>47</td>\n",
       "      <td>33_backlog_year_billion_million</td>\n",
       "      <td>[backlog, year, billion, million, project, amo...</td>\n",
       "      <td>[backlog, year, billion, million, project, amo...</td>\n",
       "      <td>[backlog, project, nonconsolidated, eur, cance...</td>\n",
       "      <td>[a billion dollar project, , , , , , , , , ]</td>\n",
       "      <td>[roughly close million backlog, quarter backlo...</td>\n",
       "    </tr>\n",
       "    <tr>\n",
       "      <th>35</th>\n",
       "      <td>34</td>\n",
       "      <td>41</td>\n",
       "      <td>34_year_annual_era_trend</td>\n",
       "      <td>[year, annual, era, trend, recently, business,...</td>\n",
       "      <td>[year, annual, era, trend, recently, business,...</td>\n",
       "      <td>[year, start, business, kind, good, sirona, in...</td>\n",
       "      <td>[adolescent era, , , , , , , , , ]</td>\n",
       "      <td>[year think, year, year]</td>\n",
       "    </tr>\n",
       "    <tr>\n",
       "      <th>36</th>\n",
       "      <td>35</td>\n",
       "      <td>34</td>\n",
       "      <td>35_start_starting_begin_beginning</td>\n",
       "      <td>[start, starting, begin, beginning, stop, want...</td>\n",
       "      <td>[start, starting, begin, beginning, stop, want...</td>\n",
       "      <td>[start, question, answer, welcoming, complemen...</td>\n",
       "      <td>[hire a car hire company to start a new job, ,...</td>\n",
       "      <td>[start, start, start]</td>\n",
       "    </tr>\n",
       "    <tr>\n",
       "      <th>37</th>\n",
       "      <td>36</td>\n",
       "      <td>31</td>\n",
       "      <td>36_store_retailer_shop_retail</td>\n",
       "      <td>[store, retailer, shop, retail, sell, stock, o...</td>\n",
       "      <td>[store, retailer, shop, retail, sell, stock, o...</td>\n",
       "      <td>[store, coverage, focus, close, open, exist, e...</td>\n",
       "      <td>[retail outlet : retail outlet : retail outlet...</td>\n",
       "      <td>[include store, mention early store store, store]</td>\n",
       "    </tr>\n",
       "    <tr>\n",
       "      <th>38</th>\n",
       "      <td>37</td>\n",
       "      <td>23</td>\n",
       "      <td>37_plant_production_facility_environmental</td>\n",
       "      <td>[plant, production, facility, environmental, v...</td>\n",
       "      <td>[plant, production, facility, environmental, v...</td>\n",
       "      <td>[plant, run, season, m5, mattress, available, ...</td>\n",
       "      <td>[plant for the production of verallia, , , , ,...</td>\n",
       "      <td>[plan sell plant, plant, plant continue operate]</td>\n",
       "    </tr>\n",
       "    <tr>\n",
       "      <th>39</th>\n",
       "      <td>38</td>\n",
       "      <td>23</td>\n",
       "      <td>38_number_digit_calculation_factor</td>\n",
       "      <td>[number, digit, calculation, factor, result, i...</td>\n",
       "      <td>[number, digit, calculation, factor, result, i...</td>\n",
       "      <td>[number, falcon, digit, single, color, knob, t...</td>\n",
       "      <td>[digits in a quarter are a factor in how many ...</td>\n",
       "      <td>[number result, number, number impacting number]</td>\n",
       "    </tr>\n",
       "    <tr>\n",
       "      <th>40</th>\n",
       "      <td>39</td>\n",
       "      <td>20</td>\n",
       "      <td>39_carbon_black_europe_european</td>\n",
       "      <td>[carbon, black, europe, european, supply, comm...</td>\n",
       "      <td>[carbon, black, europe, european, supply, comm...</td>\n",
       "      <td>[carbon, black, rubber, synthetic, ingredient,...</td>\n",
       "      <td>[european carbon inventory, , , , , , , , , ]</td>\n",
       "      <td>[yves say black carbon carbon black mainly com...</td>\n",
       "    </tr>\n",
       "    <tr>\n",
       "      <th>41</th>\n",
       "      <td>40</td>\n",
       "      <td>20</td>\n",
       "      <td>40_freight_rail_turnover_railcar</td>\n",
       "      <td>[freight, rail, turnover, railcar, railroad, t...</td>\n",
       "      <td>[freight, rail, turnover, railcar, railroad, t...</td>\n",
       "      <td>[rail, turnover, freight, railroad, railcar, t...</td>\n",
       "      <td>[freight traffic on the railroad, , , , , , , ...</td>\n",
       "      <td>[freight rail turnover go time high, note over...</td>\n",
       "    </tr>\n",
       "    <tr>\n",
       "      <th>42</th>\n",
       "      <td>41</td>\n",
       "      <td>17</td>\n",
       "      <td>41_lady_gentleman_war_mr</td>\n",
       "      <td>[lady, gentleman, war, mr, general, mind, peac...</td>\n",
       "      <td>[lady, gentleman, war, mr, general, mind, peac...</td>\n",
       "      <td>[gentleman, lady, dear, board, supervisory, mi...</td>\n",
       "      <td>[lady in war, , , , , , , , , ]</td>\n",
       "      <td>[lady gentleman aware war turn point, lady gen...</td>\n",
       "    </tr>\n",
       "    <tr>\n",
       "      <th>43</th>\n",
       "      <td>42</td>\n",
       "      <td>17</td>\n",
       "      <td>42_client_business_service_developer</td>\n",
       "      <td>[client, business, service, developer, develop...</td>\n",
       "      <td>[client, business, service, developer, develop...</td>\n",
       "      <td>[client, blo, service, link, situate, business...</td>\n",
       "      <td>[developer manages new business, , , , , , , ,...</td>\n",
       "      <td>[say new business client, new business client,...</td>\n",
       "    </tr>\n",
       "    <tr>\n",
       "      <th>44</th>\n",
       "      <td>43</td>\n",
       "      <td>17</td>\n",
       "      <td>43_presence_meaningful_environment_inside</td>\n",
       "      <td>[presence, meaningful, environment, inside, si...</td>\n",
       "      <td>[presence, meaningful, environment, inside, si...</td>\n",
       "      <td>[presence, thoughtful, significant, small, res...</td>\n",
       "      <td>[location of a place of significance, , , , , ...</td>\n",
       "      <td>[presence, presence, presence]</td>\n",
       "    </tr>\n",
       "    <tr>\n",
       "      <th>45</th>\n",
       "      <td>44</td>\n",
       "      <td>14</td>\n",
       "      <td>44_border_kilometer_kazakhstan_distance</td>\n",
       "      <td>[border, kilometer, kazakhstan, distance, geog...</td>\n",
       "      <td>[border, kilometer, kazakhstan, distance, geog...</td>\n",
       "      <td>[border, kilometer, turkish, cross, maritime, ...</td>\n",
       "      <td>[kazakhstan border - kilometer, , , , , , , , , ]</td>\n",
       "      <td>[thing geographically raise comment kilometer ...</td>\n",
       "    </tr>\n",
       "    <tr>\n",
       "      <th>46</th>\n",
       "      <td>45</td>\n",
       "      <td>13</td>\n",
       "      <td>45_people_group_public_pay</td>\n",
       "      <td>[people, group, public, pay, support, , , , , ]</td>\n",
       "      <td>[people, group, public, pay, support, , , , , ]</td>\n",
       "      <td>[people, stand, public, group, support, , , , , ]</td>\n",
       "      <td>[a group of people pay a visit to a mosque to ...</td>\n",
       "      <td>[people, people, people]</td>\n",
       "    </tr>\n",
       "    <tr>\n",
       "      <th>47</th>\n",
       "      <td>46</td>\n",
       "      <td>13</td>\n",
       "      <td>46_respect_situation_currency_strategy</td>\n",
       "      <td>[respect, situation, currency, strategy, range...</td>\n",
       "      <td>[respect, situation, currency, strategy, range...</td>\n",
       "      <td>[respect, question, answer, control, range, cu...</td>\n",
       "      <td>[currency control, , , , , , , , , ]</td>\n",
       "      <td>[respect sorry respect absolutely change strat...</td>\n",
       "    </tr>\n",
       "    <tr>\n",
       "      <th>48</th>\n",
       "      <td>47</td>\n",
       "      <td>12</td>\n",
       "      <td>47_qatar_qataris_saudi_arabia</td>\n",
       "      <td>[qatar, qataris, saudi, arabia, yemen, iran, m...</td>\n",
       "      <td>[qatar, qataris, saudi, arabia, yemen, iran, m...</td>\n",
       "      <td>[compete, camel, exchange, country, saudi, con...</td>\n",
       "      <td>[qatar, , , , , , , , , ]</td>\n",
       "      <td>[qatar world unfortunately situation price hig...</td>\n",
       "    </tr>\n",
       "    <tr>\n",
       "      <th>49</th>\n",
       "      <td>48</td>\n",
       "      <td>10</td>\n",
       "      <td>48_challenge_face_benefit_get</td>\n",
       "      <td>[challenge, face, benefit, get, cost, talk, re...</td>\n",
       "      <td>[challenge, face, benefit, get, cost, talk, re...</td>\n",
       "      <td>[challenge, right, talk, corona, emerge, prese...</td>\n",
       "      <td>[comparing cost and benefits of a challenge to...</td>\n",
       "      <td>[challenge cost, challenge tell challenge talk...</td>\n",
       "    </tr>\n",
       "  </tbody>\n",
       "</table>\n",
       "</div>"
      ],
      "text/plain": [
       "    Topic  Count                                            Name  \\\n",
       "0      -1  20552                -1_impact_economic_demand_effect   \n",
       "1       0   6643                 0_inflation_demand_war_shortage   \n",
       "2       1   3037              1_earnings_revenue_million_billion   \n",
       "3       2   1602                   2_war_military_conflict_peace   \n",
       "4       3   1402          3_belarus_belarusian_kazakhstan_poland   \n",
       "5       4    567                    4_invasion_invade_attack_war   \n",
       "6       5    531               5_patient_clinical_trial_hospital   \n",
       "7       6    479              6_export_exporting_exporter_import   \n",
       "8       7    412                7_impact_impacting_effect_damage   \n",
       "9       8    412             8_employee_colleague_employ_payroll   \n",
       "10      9    408         9_sanction_compliance_regulation_impact   \n",
       "11     10    350                       10_currency_fx_forex_euro   \n",
       "12     11    221       11_exposure_photography_visibility_expose   \n",
       "13     12    204                    12_exit_exiting_exited_leave   \n",
       "14     13    196                  13_china_taiwan_shanghai_japan   \n",
       "15     14    148                     14_go_happen_situation_know   \n",
       "16     15    148               15_volume_decrease_impact_decline   \n",
       "17     16    140               16_capex_capexe_investment_invest   \n",
       "18     17    126           17_airspace_overflight_closure_flight   \n",
       "19     18    123                         18_pig_iron_supply_gold   \n",
       "20     19    123               19_speak_talk_speech_conversation   \n",
       "21     20    114         20_expect_expectation_forecast_earnings   \n",
       "22     21    114                21_course_study_guidance_decline   \n",
       "23     22     99            22_reserve_mhp_operational_financial   \n",
       "24     23     98           23_news_journalist_reuters_newsletter   \n",
       "25     24     83       24_operation_operate_operational_operator   \n",
       "26     25     81               25_wiring_harness_wire_electrical   \n",
       "27     26     80                                          26____   \n",
       "28     27     76               27_think_thought_opinion_question   \n",
       "29     28     73             28_relocate_relocation_migrate_move   \n",
       "30     29     62               29_slide_presentation_move_effect   \n",
       "31     30     61                     30_ton_tonne_million_500000   \n",
       "32     31     52  31_titanium_supplier_steelmaking_manufacturing   \n",
       "33     32     48                32_sorting_sort_tend_seasonality   \n",
       "34     33     47                 33_backlog_year_billion_million   \n",
       "35     34     41                        34_year_annual_era_trend   \n",
       "36     35     34               35_start_starting_begin_beginning   \n",
       "37     36     31                   36_store_retailer_shop_retail   \n",
       "38     37     23      37_plant_production_facility_environmental   \n",
       "39     38     23              38_number_digit_calculation_factor   \n",
       "40     39     20                 39_carbon_black_europe_european   \n",
       "41     40     20                40_freight_rail_turnover_railcar   \n",
       "42     41     17                        41_lady_gentleman_war_mr   \n",
       "43     42     17            42_client_business_service_developer   \n",
       "44     43     17       43_presence_meaningful_environment_inside   \n",
       "45     44     14         44_border_kilometer_kazakhstan_distance   \n",
       "46     45     13                      45_people_group_public_pay   \n",
       "47     46     13          46_respect_situation_currency_strategy   \n",
       "48     47     12                   47_qatar_qataris_saudi_arabia   \n",
       "49     48     10                   48_challenge_face_benefit_get   \n",
       "\n",
       "                                       Representation  \\\n",
       "0   [impact, economic, demand, effect, inflation, ...   \n",
       "1   [inflation, demand, war, shortage, supply, gas...   \n",
       "2   [earnings, revenue, million, billion, investme...   \n",
       "3   [war, military, conflict, peace, crisis, invas...   \n",
       "4   [belarus, belarusian, kazakhstan, poland, ukra...   \n",
       "5   [invasion, invade, attack, war, warfare, impac...   \n",
       "6   [patient, clinical, trial, hospital, fda, medi...   \n",
       "7   [export, exporting, exporter, import, ship, sh...   \n",
       "8   [impact, impacting, effect, damage, hit, invas...   \n",
       "9   [employee, colleague, employ, payroll, office,...   \n",
       "10  [sanction, compliance, regulation, impact, reg...   \n",
       "11  [currency, fx, forex, euro, yen, yuan, dollar,...   \n",
       "12  [exposure, photography, visibility, expose, tr...   \n",
       "13  [exit, exiting, exited, leave, end, withdraw, ...   \n",
       "14  [china, taiwan, shanghai, japan, chinese, kore...   \n",
       "15  [go, happen, situation, know, come, wait, play...   \n",
       "16  [volume, decrease, impact, decline, extent, re...   \n",
       "17  [capex, capexe, investment, invest, investor, ...   \n",
       "18  [airspace, overflight, closure, flight, airlin...   \n",
       "19  [pig, iron, supply, gold, bank, cobalt, suppli...   \n",
       "20  [speak, talk, speech, conversation, speaker, c...   \n",
       "21  [expect, expectation, forecast, earnings, grow...   \n",
       "22  [course, study, guidance, decline, situation, ...   \n",
       "23  [reserve, mhp, operational, financial, environ...   \n",
       "24  [news, journalist, reuters, newsletter, headli...   \n",
       "25  [operation, operate, operational, operator, op...   \n",
       "26  [wiring, harness, wire, electrical, europe, ca...   \n",
       "27                               [, , , , , , , , , ]   \n",
       "28  [think, thought, opinion, question, answer, in...   \n",
       "29  [relocate, relocation, migrate, move, employee...   \n",
       "30  [slide, presentation, move, effect, op, update...   \n",
       "31  [ton, tonne, million, 500000, production, 1500...   \n",
       "32  [titanium, supplier, steelmaking, manufacturin...   \n",
       "33  [sorting, sort, tend, seasonality, forecast, m...   \n",
       "34  [backlog, year, billion, million, project, amo...   \n",
       "35  [year, annual, era, trend, recently, business,...   \n",
       "36  [start, starting, begin, beginning, stop, want...   \n",
       "37  [store, retailer, shop, retail, sell, stock, o...   \n",
       "38  [plant, production, facility, environmental, v...   \n",
       "39  [number, digit, calculation, factor, result, i...   \n",
       "40  [carbon, black, europe, european, supply, comm...   \n",
       "41  [freight, rail, turnover, railcar, railroad, t...   \n",
       "42  [lady, gentleman, war, mr, general, mind, peac...   \n",
       "43  [client, business, service, developer, develop...   \n",
       "44  [presence, meaningful, environment, inside, si...   \n",
       "45  [border, kilometer, kazakhstan, distance, geog...   \n",
       "46    [people, group, public, pay, support, , , , , ]   \n",
       "47  [respect, situation, currency, strategy, range...   \n",
       "48  [qatar, qataris, saudi, arabia, yemen, iran, m...   \n",
       "49  [challenge, face, benefit, get, cost, talk, re...   \n",
       "\n",
       "                                Chain: Inspired - MMR  \\\n",
       "0   [impact, economic, demand, effect, inflation, ...   \n",
       "1   [inflation, demand, war, shortage, supply, gas...   \n",
       "2   [earnings, revenue, million, billion, investme...   \n",
       "3   [war, military, conflict, peace, crisis, invas...   \n",
       "4   [belarus, belarusian, kazakhstan, poland, ukra...   \n",
       "5   [invasion, invade, attack, war, warfare, impac...   \n",
       "6   [patient, clinical, trial, hospital, fda, medi...   \n",
       "7   [export, exporting, exporter, import, ship, sh...   \n",
       "8   [impact, impacting, effect, damage, hit, invas...   \n",
       "9   [employee, colleague, employ, payroll, office,...   \n",
       "10  [sanction, compliance, regulation, impact, reg...   \n",
       "11  [currency, fx, forex, euro, yen, yuan, dollar,...   \n",
       "12  [exposure, photography, visibility, expose, tr...   \n",
       "13  [exit, exiting, exited, leave, end, withdraw, ...   \n",
       "14  [china, taiwan, shanghai, japan, chinese, kore...   \n",
       "15  [go, happen, situation, know, come, wait, play...   \n",
       "16  [volume, decrease, impact, decline, extent, re...   \n",
       "17  [capex, capexe, investment, invest, investor, ...   \n",
       "18  [airspace, overflight, closure, flight, airlin...   \n",
       "19  [pig, iron, supply, gold, bank, cobalt, suppli...   \n",
       "20  [speak, talk, speech, conversation, speaker, c...   \n",
       "21  [expect, expectation, forecast, earnings, grow...   \n",
       "22  [course, study, guidance, decline, situation, ...   \n",
       "23  [reserve, mhp, operational, financial, environ...   \n",
       "24  [news, journalist, reuters, newsletter, headli...   \n",
       "25  [operation, operate, operational, operator, op...   \n",
       "26  [wiring, harness, wire, electrical, europe, ca...   \n",
       "27                               [, , , , , , , , , ]   \n",
       "28  [think, thought, opinion, question, answer, in...   \n",
       "29  [relocate, relocation, migrate, move, employee...   \n",
       "30  [slide, presentation, move, effect, op, update...   \n",
       "31  [ton, tonne, million, 500000, production, 1500...   \n",
       "32  [titanium, supplier, steelmaking, manufacturin...   \n",
       "33  [sorting, sort, tend, seasonality, forecast, m...   \n",
       "34  [backlog, year, billion, million, project, amo...   \n",
       "35  [year, annual, era, trend, recently, business,...   \n",
       "36  [start, starting, begin, beginning, stop, want...   \n",
       "37  [store, retailer, shop, retail, sell, stock, o...   \n",
       "38  [plant, production, facility, environmental, v...   \n",
       "39  [number, digit, calculation, factor, result, i...   \n",
       "40  [carbon, black, europe, european, supply, comm...   \n",
       "41  [freight, rail, turnover, railcar, railroad, t...   \n",
       "42  [lady, gentleman, war, mr, general, mind, peac...   \n",
       "43  [client, business, service, developer, develop...   \n",
       "44  [presence, meaningful, environment, inside, si...   \n",
       "45  [border, kilometer, kazakhstan, distance, geog...   \n",
       "46    [people, group, public, pay, support, , , , , ]   \n",
       "47  [respect, situation, currency, strategy, range...   \n",
       "48  [qatar, qataris, saudi, arabia, yemen, iran, m...   \n",
       "49  [challenge, face, benefit, get, cost, talk, re...   \n",
       "\n",
       "                          Chain: Inspired - MMR - POS  \\\n",
       "0   [war, impact, year, business, market, quarter,...   \n",
       "1   [supply, gas, war, chain, inflation, price, ma...   \n",
       "2   [business, exposure, eur, impairment, revenue,...   \n",
       "3   [war, conflict, geopolitical, people, uncertai...   \n",
       "4   [ukrainian, business, country, people, belarus...   \n",
       "5   [invasion, defense, drone, cyber, invade, atta...   \n",
       "6   [patient, trial, humanitarian, support, study,...   \n",
       "7   [export, port, import, shipment, sea, ship, ca...   \n",
       "8   [impact, omicron, quarter, easter, q1, damage,...   \n",
       "9   [employee, colleague, family, safety, people, ...   \n",
       "10  [sanction, aircraft, lease, government, uniper...   \n",
       "11  [ruble, fx, currency, arr, growth, dollar, eps...   \n",
       "12  [exposure, direct, small, visibility, little, ...   \n",
       "13  [exit, decision, business, leave, process, mar...   \n",
       "14  [china, country, decline, chinese, big, market...   \n",
       "15  [situation, happen, special, uptick, due, bot,...   \n",
       "16  [volume, decline, consolidation, tolling, meth...   \n",
       "17  [capex, asset, investment, capital, fund, port...   \n",
       "18  [airspace, fly, closure, asia, flight, air, sp...   \n",
       "19  [gold, iron, pig, diamond, cobalt, buy, nordio...   \n",
       "20  [speak, talk, question, conversation, way, mus...   \n",
       "21  [expect, expectation, year, sale, growth, impa...   \n",
       "22  [course, guidance, development, sale, situatio...   \n",
       "23  [reserve, capacity, rest, mhp, book, operation...   \n",
       "24  [news, event, journalist, image, day, acknowle...   \n",
       "25  [operation, activity, performance, bit, today,...   \n",
       "26  [harness, wiring, wire, cable, production, aut...   \n",
       "27                               [, , , , , , , , , ]   \n",
       "28  [think, question, people, situation, thing, me...   \n",
       "29  [relocate, remittance, employee, georgia, relo...   \n",
       "30  [slide, update, look, presentation, bit, busin...   \n",
       "31  [tonne, ton, barrel, day, come, reserve, chart...   \n",
       "32  [titanium, neon, source, supplier, come, aeros...   \n",
       "33  [sort, try, time, pick, position, season, pina...   \n",
       "34  [backlog, project, nonconsolidated, eur, cance...   \n",
       "35  [year, start, business, kind, good, sirona, in...   \n",
       "36  [start, question, answer, welcoming, complemen...   \n",
       "37  [store, coverage, focus, close, open, exist, e...   \n",
       "38  [plant, run, season, m5, mattress, available, ...   \n",
       "39  [number, falcon, digit, single, color, knob, t...   \n",
       "40  [carbon, black, rubber, synthetic, ingredient,...   \n",
       "41  [rail, turnover, freight, railroad, railcar, t...   \n",
       "42  [gentleman, lady, dear, board, supervisory, mi...   \n",
       "43  [client, blo, service, link, situate, business...   \n",
       "44  [presence, thoughtful, significant, small, res...   \n",
       "45  [border, kilometer, turkish, cross, maritime, ...   \n",
       "46  [people, stand, public, group, support, , , , , ]   \n",
       "47  [respect, question, answer, control, range, cu...   \n",
       "48  [compete, camel, exchange, country, saudi, con...   \n",
       "49  [challenge, right, talk, corona, emerge, prese...   \n",
       "\n",
       "                      Generator chain: Inspired - MMR  \\\n",
       "0                       [economics, , , , , , , , , ]   \n",
       "1                             [oil, , , , , , , , , ]   \n",
       "2                          [ebitda, , , , , , , , , ]   \n",
       "3   [war, conflict, peace, business, , , , , , , ,...   \n",
       "4                         [belarus, , , , , , , , , ]   \n",
       "5                [invasion of iraq, , , , , , , , , ]   \n",
       "6   [fda - a clinical trial of a drug called a ste...   \n",
       "7   [import & export of cargo from port, , , , , ,...   \n",
       "8     [impact of hurricane katrina, , , , , , , , , ]   \n",
       "9   [employee of a company employing a colleague o...   \n",
       "10  [impose sanctions on government, , , , , , , ,...   \n",
       "11                 [forex currency, , , , , , , , , ]   \n",
       "12           [photography exposure, , , , , , , , , ]   \n",
       "13                        [exiting, , , , , , , , , ]   \n",
       "14                       [thailand, , , , , , , , , ]   \n",
       "15  [oh come on, come on, come on, come on, come o...   \n",
       "16                        [tolling, , , , , , , , , ]   \n",
       "17          [investment fund capex, , , , , , , , , ]   \n",
       "18      [airline flies overflights, , , , , , , , , ]   \n",
       "19  [cobalt is a metallic source of iron and cobal...   \n",
       "20       [english speaking speaker, , , , , , , , , ]   \n",
       "21  [adrian mcdonald expects earnings growth, , , ...   \n",
       "22  [a guide to developing a career in education, ...   \n",
       "23                            [mhp, , , , , , , , , ]   \n",
       "24  [cnn cnn news reuters daily newsletter, , , , ...   \n",
       "25  [operation and control of medical equipment, ,...   \n",
       "26  [wiring harness for a tv plant in europe, , , ...   \n",
       "27                [a sailor 's hat, , , , , , , , , ]   \n",
       "28                     [rethinking, , , , , , , , , ]   \n",
       "29  [migrant workers relocate to new locations, , ...   \n",
       "30         [slide show dislocation, , , , , , , , , ]   \n",
       "31                          [tonne, , , , , , , , , ]   \n",
       "32  [titanium is a manufacturer of stainless steel...   \n",
       "33      [a forecast for the market, , , , , , , , , ]   \n",
       "34       [a billion dollar project, , , , , , , , , ]   \n",
       "35                 [adolescent era, , , , , , , , , ]   \n",
       "36  [hire a car hire company to start a new job, ,...   \n",
       "37  [retail outlet : retail outlet : retail outlet...   \n",
       "38  [plant for the production of verallia, , , , ,...   \n",
       "39  [digits in a quarter are a factor in how many ...   \n",
       "40      [european carbon inventory, , , , , , , , , ]   \n",
       "41  [freight traffic on the railroad, , , , , , , ...   \n",
       "42                    [lady in war, , , , , , , , , ]   \n",
       "43  [developer manages new business, , , , , , , ,...   \n",
       "44  [location of a place of significance, , , , , ...   \n",
       "45  [kazakhstan border - kilometer, , , , , , , , , ]   \n",
       "46  [a group of people pay a visit to a mosque to ...   \n",
       "47               [currency control, , , , , , , , , ]   \n",
       "48                          [qatar, , , , , , , , , ]   \n",
       "49  [comparing cost and benefits of a challenge to...   \n",
       "\n",
       "                                  Representative_Docs  \n",
       "0   [ongoing event include covid mitigation effort...  \n",
       "1   [concerned ongoing global logistics constraint...  \n",
       "2   [talk net exposure eur million, combination co...  \n",
       "3                                     [war, war, war]  \n",
       "4        [belarus material, year go belarus, belarus]  \n",
       "5   [impact invasion business, invasion, year inva...  \n",
       "6   [look patient patient, development start new c...  \n",
       "7                            [export, export, export]  \n",
       "8   [impact, ahead pre-covid number summer recover...  \n",
       "9   [employee, employee business consequence emplo...  \n",
       "10  [conflict lead sanction impose government u.s....  \n",
       "11  [yes mention factor fx effect fx exit business...  \n",
       "12                     [exposure, exposure, exposure]  \n",
       "13                                 [exit, exit, exit]  \n",
       "14  [term country geopolitical risk issue see taiw...  \n",
       "15  [obviously know go happen situation play, obvi...  \n",
       "16    [include volume decline, impact volume, volume]  \n",
       "17  [investment hold capex probably low end range,...  \n",
       "18  [obviously year closure airspace have signific...  \n",
       "19  [far pig iron production discontinue american ...  \n",
       "20                              [speak, speak, speak]  \n",
       "21  [continue expect second half fiscal like like ...  \n",
       "22  [mention course, course conflict, course situa...  \n",
       "23  [today viktoria kapelyushnaya cfo mhp discuss ...  \n",
       "24  [thought like news sure continue follow day, n...  \n",
       "25                  [operation, operation, operation]  \n",
       "26  [wiring harness european plant come country, w...  \n",
       "27                        [ex, yeah, delighted front]  \n",
       "28       [think question thought, think think, think]  \n",
       "29  [employee want relocate relocate majority popu...  \n",
       "30  [slide come slide look market versus performan...  \n",
       "31  [country account world corn trade flow million...  \n",
       "32  [opportunity increase share titanium business ...  \n",
       "33  [trial pretty continue sort normally obviously...  \n",
       "34  [roughly close million backlog, quarter backlo...  \n",
       "35                           [year think, year, year]  \n",
       "36                              [start, start, start]  \n",
       "37  [include store, mention early store store, store]  \n",
       "38   [plan sell plant, plant, plant continue operate]  \n",
       "39   [number result, number, number impacting number]  \n",
       "40  [yves say black carbon carbon black mainly com...  \n",
       "41  [freight rail turnover go time high, note over...  \n",
       "42  [lady gentleman aware war turn point, lady gen...  \n",
       "43  [say new business client, new business client,...  \n",
       "44                     [presence, presence, presence]  \n",
       "45  [thing geographically raise comment kilometer ...  \n",
       "46                           [people, people, people]  \n",
       "47  [respect sorry respect absolutely change strat...  \n",
       "48  [qatar world unfortunately situation price hig...  \n",
       "49  [challenge cost, challenge tell challenge talk...  "
      ]
     },
     "execution_count": 23,
     "metadata": {},
     "output_type": "execute_result"
    }
   ],
   "source": [
    "topic_model_0_join_50.get_topic_info()"
   ]
  },
  {
   "cell_type": "markdown",
   "metadata": {},
   "source": [
    "3.\n",
    "* Sentence window: 3\n",
    "* Join sentences  "
   ]
  },
  {
   "cell_type": "code",
   "execution_count": 21,
   "metadata": {},
   "outputs": [
    {
     "ename": "TypeError",
     "evalue": "bert_inspired() missing 1 required positional argument: 'representation_model'",
     "output_type": "error",
     "traceback": [
      "\u001b[0;31m---------------------------------------------------------------------------\u001b[0m",
      "\u001b[0;31mTypeError\u001b[0m                                 Traceback (most recent call last)",
      "Cell \u001b[0;32mIn[21], line 1\u001b[0m\n\u001b[0;32m----> 1\u001b[0m topic_model_3_join, topics_3_join, probs_3_join \u001b[39m=\u001b[39m topic_extractor\u001b[39m.\u001b[39;49mbert_inspired(corpus_window_0_join_df[\u001b[39m'\u001b[39;49m\u001b[39mprocessed_text\u001b[39;49m\u001b[39m'\u001b[39;49m]\u001b[39m.\u001b[39;49mto_list(), nr_topics\u001b[39m=\u001b[39;49m\u001b[39m50\u001b[39;49m)\n",
      "\u001b[0;31mTypeError\u001b[0m: bert_inspired() missing 1 required positional argument: 'representation_model'"
     ]
    }
   ],
   "source": [
    "topic_model_3_join, topics_3_join, probs_3_join = topic_extractor.bert_advanced(corpus_window_3_join_df['processed_text'].to_list(), representation_model=representation_model, embedding_model=sentence_model_light)"
   ]
  },
  {
   "cell_type": "code",
   "execution_count": 21,
   "metadata": {},
   "outputs": [],
   "source": [
    "topic_model_3_join.get_topic_info().to_csv(\"topic_model_3_join.csv\")"
   ]
  },
  {
   "cell_type": "markdown",
   "metadata": {},
   "source": [
    "4.\n",
    "* Sentence window: 5\n",
    "* Join sentences\n"
   ]
  },
  {
   "cell_type": "code",
   "execution_count": 14,
   "metadata": {},
   "outputs": [
    {
     "data": {
      "application/vnd.jupyter.widget-view+json": {
       "model_id": "7cf5a45b15944aeab67a3eb3ede865cd",
       "version_major": 2,
       "version_minor": 0
      },
      "text/plain": [
       "Batches:   0%|          | 0/1208 [00:00<?, ?it/s]"
      ]
     },
     "metadata": {},
     "output_type": "display_data"
    },
    {
     "name": "stderr",
     "output_type": "stream",
     "text": [
      "2023-08-31 15:06:31,375 - BERTopic - Transformed documents to Embeddings\n",
      "2023-08-31 15:06:51,024 - BERTopic - Reduced dimensionality\n"
     ]
    },
    {
     "name": "stdout",
     "output_type": "stream",
     "text": [
      "huggingface/tokenizers: The current process just got forked, after parallelism has already been used. Disabling parallelism to avoid deadlocks...\n",
      "To disable this warning, you can either:\n",
      "\t- Avoid using `tokenizers` before the fork if possible\n",
      "\t- Explicitly set the environment variable TOKENIZERS_PARALLELISM=(true | false)\n",
      "huggingface/tokenizers: The current process just got forked, after parallelism has already been used. Disabling parallelism to avoid deadlocks...\n",
      "To disable this warning, you can either:\n",
      "\t- Avoid using `tokenizers` before the fork if possible\n",
      "\t- Explicitly set the environment variable TOKENIZERS_PARALLELISM=(true | false)\n",
      "huggingface/tokenizers: The current process just got forked, after parallelism has already been used. Disabling parallelism to avoid deadlocks...\n",
      "To disable this warning, you can either:\n",
      "\t- Avoid using `tokenizers` before the fork if possible\n",
      "\t- Explicitly set the environment variable TOKENIZERS_PARALLELISM=(true | false)\n",
      "huggingface/tokenizers: The current process just got forked, after parallelism has already been used. Disabling parallelism to avoid deadlocks...\n",
      "To disable this warning, you can either:\n",
      "\t- Avoid using `tokenizers` before the fork if possible\n",
      "\t- Explicitly set the environment variable TOKENIZERS_PARALLELISM=(true | false)\n"
     ]
    },
    {
     "name": "stderr",
     "output_type": "stream",
     "text": [
      "2023-08-31 15:09:00,223 - BERTopic - Clustered reduced embeddings\n"
     ]
    }
   ],
   "source": [
    "topic_model_5_join, topics_5_join, probs_5_join = topic_extractor.bert_inspired(corpus_window_5_join_df['processed_text'].to_list())"
   ]
  },
  {
   "cell_type": "code",
   "execution_count": 24,
   "metadata": {},
   "outputs": [],
   "source": [
    "topic_model_5_join.get_topic_info().to_csv(\"topic_model_5_join.csv\")"
   ]
  },
  {
   "cell_type": "markdown",
   "metadata": {},
   "source": [
    "5.\n",
    "* Sentence window: whole paragraph\n",
    "* Join sentences"
   ]
  },
  {
   "cell_type": "code",
   "execution_count": 15,
   "metadata": {},
   "outputs": [
    {
     "data": {
      "application/vnd.jupyter.widget-view+json": {
       "model_id": "4586b57c4ef8437ba48b516379f0f964",
       "version_major": 2,
       "version_minor": 0
      },
      "text/plain": [
       "Batches:   0%|          | 0/1215 [00:00<?, ?it/s]"
      ]
     },
     "metadata": {},
     "output_type": "display_data"
    },
    {
     "name": "stderr",
     "output_type": "stream",
     "text": [
      "2023-08-31 15:15:23,146 - BERTopic - Transformed documents to Embeddings\n",
      "2023-08-31 15:15:42,651 - BERTopic - Reduced dimensionality\n"
     ]
    },
    {
     "name": "stdout",
     "output_type": "stream",
     "text": [
      "huggingface/tokenizers: The current process just got forked, after parallelism has already been used. Disabling parallelism to avoid deadlocks...\n",
      "To disable this warning, you can either:\n",
      "\t- Avoid using `tokenizers` before the fork if possible\n",
      "\t- Explicitly set the environment variable TOKENIZERS_PARALLELISM=(true | false)\n",
      "huggingface/tokenizers: The current process just got forked, after parallelism has already been used. Disabling parallelism to avoid deadlocks...\n",
      "To disable this warning, you can either:\n",
      "\t- Avoid using `tokenizers` before the fork if possible\n",
      "\t- Explicitly set the environment variable TOKENIZERS_PARALLELISM=(true | false)\n",
      "huggingface/tokenizers: The current process just got forked, after parallelism has already been used. Disabling parallelism to avoid deadlocks...\n",
      "To disable this warning, you can either:\n",
      "\t- Avoid using `tokenizers` before the fork if possible\n",
      "\t- Explicitly set the environment variable TOKENIZERS_PARALLELISM=(true | false)\n",
      "huggingface/tokenizers: The current process just got forked, after parallelism has already been used. Disabling parallelism to avoid deadlocks...\n",
      "To disable this warning, you can either:\n",
      "\t- Avoid using `tokenizers` before the fork if possible\n",
      "\t- Explicitly set the environment variable TOKENIZERS_PARALLELISM=(true | false)\n"
     ]
    },
    {
     "name": "stderr",
     "output_type": "stream",
     "text": [
      "2023-08-31 15:17:37,673 - BERTopic - Clustered reduced embeddings\n"
     ]
    }
   ],
   "source": [
    "topic_model_whole_join, topics_whole_join, probs_whole_join = topic_extractor.bert_inspired(corpus_window_whole_join_df['processed_text'].to_list())"
   ]
  },
  {
   "cell_type": "code",
   "execution_count": 25,
   "metadata": {},
   "outputs": [],
   "source": [
    "topic_model_whole_join.get_topic_info().to_csv(\"topic_model_whole_join.csv\")"
   ]
  },
  {
   "cell_type": "code",
   "execution_count": 31,
   "metadata": {},
   "outputs": [
    {
     "data": {
      "text/plain": [
       "38868"
      ]
     },
     "execution_count": 31,
     "metadata": {},
     "output_type": "execute_result"
    }
   ],
   "source": []
  },
  {
   "cell_type": "code",
   "execution_count": null,
   "metadata": {},
   "outputs": [],
   "source": []
  },
  {
   "cell_type": "code",
   "execution_count": 356,
   "metadata": {},
   "outputs": [
    {
     "data": {
      "text/plain": [
       "array([0.02466603, 0.032443  , 0.0426969 , 0.02744634, 0.02321597,\n",
       "       0.0192848 , 0.0492035 , 0.01937474, 0.04401463, 0.04043768,\n",
       "       0.04437236, 0.02610516, 0.02285282, 0.02287447, 0.0305101 ])"
      ]
     },
     "execution_count": 356,
     "metadata": {},
     "output_type": "execute_result"
    }
   ],
   "source": [
    "probs[1]"
   ]
  },
  {
   "cell_type": "code",
   "execution_count": 49,
   "metadata": {},
   "outputs": [
    {
     "data": {
      "text/html": [
       "<div>\n",
       "<style scoped>\n",
       "    .dataframe tbody tr th:only-of-type {\n",
       "        vertical-align: middle;\n",
       "    }\n",
       "\n",
       "    .dataframe tbody tr th {\n",
       "        vertical-align: top;\n",
       "    }\n",
       "\n",
       "    .dataframe thead th {\n",
       "        text-align: right;\n",
       "    }\n",
       "</style>\n",
       "<table border=\"1\" class=\"dataframe\">\n",
       "  <thead>\n",
       "    <tr style=\"text-align: right;\">\n",
       "      <th></th>\n",
       "      <th>Topic</th>\n",
       "      <th>Count</th>\n",
       "      <th>Name</th>\n",
       "      <th>Representation</th>\n",
       "      <th>Representative_Docs</th>\n",
       "    </tr>\n",
       "  </thead>\n",
       "  <tbody>\n",
       "    <tr>\n",
       "      <th>0</th>\n",
       "      <td>-1</td>\n",
       "      <td>19059</td>\n",
       "      <td>-1_inflation_crisis_pandemic_economic</td>\n",
       "      <td>[inflation, crisis, pandemic, economic, demand...</td>\n",
       "      <td>[market forecast market base current visibilit...</td>\n",
       "    </tr>\n",
       "    <tr>\n",
       "      <th>1</th>\n",
       "      <td>0</td>\n",
       "      <td>4650</td>\n",
       "      <td>0_demand_market_business_guidance</td>\n",
       "      <td>[demand, market, business, guidance, portfolio...</td>\n",
       "      <td>[yes typically provide update midway quarter o...</td>\n",
       "    </tr>\n",
       "    <tr>\n",
       "      <th>2</th>\n",
       "      <td>1</td>\n",
       "      <td>820</td>\n",
       "      <td>1_refugee_humanitarian_charity_donation</td>\n",
       "      <td>[refugee, humanitarian, charity, donation, uni...</td>\n",
       "      <td>[support people refugee, support refugee emplo...</td>\n",
       "    </tr>\n",
       "    <tr>\n",
       "      <th>3</th>\n",
       "      <td>2</td>\n",
       "      <td>660</td>\n",
       "      <td>2_belarus_belarusian_kazakhstan_russian</td>\n",
       "      <td>[belarus, belarusian, kazakhstan, russian, cou...</td>\n",
       "      <td>[sale belarus, year go belarus, belarus]</td>\n",
       "    </tr>\n",
       "    <tr>\n",
       "      <th>4</th>\n",
       "      <td>3</td>\n",
       "      <td>535</td>\n",
       "      <td>3_wheat_corn_agriculture_agricultural</td>\n",
       "      <td>[wheat, corn, agriculture, agricultural, grain...</td>\n",
       "      <td>[corn wheat come big way, know difficulty asso...</td>\n",
       "    </tr>\n",
       "    <tr>\n",
       "      <th>...</th>\n",
       "      <td>...</td>\n",
       "      <td>...</td>\n",
       "      <td>...</td>\n",
       "      <td>...</td>\n",
       "      <td>...</td>\n",
       "    </tr>\n",
       "    <tr>\n",
       "      <th>301</th>\n",
       "      <td>300</td>\n",
       "      <td>10</td>\n",
       "      <td>300_revenue_growth_year_offset</td>\n",
       "      <td>[revenue, growth, year, offset, contractual, t...</td>\n",
       "      <td>[emea year year growth quarter negatively affe...</td>\n",
       "    </tr>\n",
       "    <tr>\n",
       "      <th>302</th>\n",
       "      <td>301</td>\n",
       "      <td>10</td>\n",
       "      <td>301_freight_turnover_rail_railway</td>\n",
       "      <td>[freight, turnover, rail, railway, railroad, t...</td>\n",
       "      <td>[look month year freight rail turnover overall...</td>\n",
       "    </tr>\n",
       "    <tr>\n",
       "      <th>303</th>\n",
       "      <td>302</td>\n",
       "      <td>10</td>\n",
       "      <td>302_expect_expectation_demand_profitability</td>\n",
       "      <td>[expect, expectation, demand, profitability, f...</td>\n",
       "      <td>[yes start contract manufacturing know get gen...</td>\n",
       "    </tr>\n",
       "    <tr>\n",
       "      <th>304</th>\n",
       "      <td>303</td>\n",
       "      <td>10</td>\n",
       "      <td>303_decline_maintenance_service_growth</td>\n",
       "      <td>[decline, maintenance, service, growth, offsho...</td>\n",
       "      <td>[service growth america menac strong oil gas o...</td>\n",
       "    </tr>\n",
       "    <tr>\n",
       "      <th>305</th>\n",
       "      <td>304</td>\n",
       "      <td>10</td>\n",
       "      <td>304_business_retail_sourcing_sell</td>\n",
       "      <td>[business, retail, sourcing, sell, consumer, c...</td>\n",
       "      <td>[sure sale small portion portfolio small team ...</td>\n",
       "    </tr>\n",
       "  </tbody>\n",
       "</table>\n",
       "<p>306 rows × 5 columns</p>\n",
       "</div>"
      ],
      "text/plain": [
       "     Topic  Count                                         Name  \\\n",
       "0       -1  19059        -1_inflation_crisis_pandemic_economic   \n",
       "1        0   4650            0_demand_market_business_guidance   \n",
       "2        1    820      1_refugee_humanitarian_charity_donation   \n",
       "3        2    660      2_belarus_belarusian_kazakhstan_russian   \n",
       "4        3    535        3_wheat_corn_agriculture_agricultural   \n",
       "..     ...    ...                                          ...   \n",
       "301    300     10               300_revenue_growth_year_offset   \n",
       "302    301     10            301_freight_turnover_rail_railway   \n",
       "303    302     10  302_expect_expectation_demand_profitability   \n",
       "304    303     10       303_decline_maintenance_service_growth   \n",
       "305    304     10            304_business_retail_sourcing_sell   \n",
       "\n",
       "                                        Representation  \\\n",
       "0    [inflation, crisis, pandemic, economic, demand...   \n",
       "1    [demand, market, business, guidance, portfolio...   \n",
       "2    [refugee, humanitarian, charity, donation, uni...   \n",
       "3    [belarus, belarusian, kazakhstan, russian, cou...   \n",
       "4    [wheat, corn, agriculture, agricultural, grain...   \n",
       "..                                                 ...   \n",
       "301  [revenue, growth, year, offset, contractual, t...   \n",
       "302  [freight, turnover, rail, railway, railroad, t...   \n",
       "303  [expect, expectation, demand, profitability, f...   \n",
       "304  [decline, maintenance, service, growth, offsho...   \n",
       "305  [business, retail, sourcing, sell, consumer, c...   \n",
       "\n",
       "                                   Representative_Docs  \n",
       "0    [market forecast market base current visibilit...  \n",
       "1    [yes typically provide update midway quarter o...  \n",
       "2    [support people refugee, support refugee emplo...  \n",
       "3             [sale belarus, year go belarus, belarus]  \n",
       "4    [corn wheat come big way, know difficulty asso...  \n",
       "..                                                 ...  \n",
       "301  [emea year year growth quarter negatively affe...  \n",
       "302  [look month year freight rail turnover overall...  \n",
       "303  [yes start contract manufacturing know get gen...  \n",
       "304  [service growth america menac strong oil gas o...  \n",
       "305  [sure sale small portion portfolio small team ...  \n",
       "\n",
       "[306 rows x 5 columns]"
      ]
     },
     "execution_count": 49,
     "metadata": {},
     "output_type": "execute_result"
    }
   ],
   "source": [
    "topic_model.get_topic_info()"
   ]
  },
  {
   "cell_type": "code",
   "execution_count": 358,
   "metadata": {},
   "outputs": [
    {
     "name": "stderr",
     "output_type": "stream",
     "text": [
      "100%|██████████| 1/1 [00:00<00:00,  3.15it/s]\n"
     ]
    }
   ],
   "source": [
    "# Calculate the topic distributions on a token-level\n",
    "topic_distr, topic_token_distr = topic_model.approximate_distribution(corpus_window_0_join_df['processed_text'].to_list(), calculate_tokens=True)"
   ]
  },
  {
   "cell_type": "code",
   "execution_count": 359,
   "metadata": {},
   "outputs": [
    {
     "data": {
      "text/plain": [
       "933"
      ]
     },
     "execution_count": 359,
     "metadata": {},
     "output_type": "execute_result"
    }
   ],
   "source": [
    "len(topic_distr)"
   ]
  },
  {
   "cell_type": "code",
   "execution_count": 363,
   "metadata": {},
   "outputs": [
    {
     "data": {
      "text/plain": [
       "array([0.27688306, 0.        , 0.        , 0.        , 0.15484435,\n",
       "       0.15860631, 0.32902648, 0.        , 0.        , 0.08063981,\n",
       "       0.        , 0.        , 0.        , 0.        , 0.        ])"
      ]
     },
     "execution_count": 363,
     "metadata": {},
     "output_type": "execute_result"
    }
   ],
   "source": [
    "topic_distr[1]"
   ]
  },
  {
   "cell_type": "code",
   "execution_count": 361,
   "metadata": {},
   "outputs": [
    {
     "data": {
      "application/vnd.plotly.v1+json": {
       "config": {
        "plotlyServerURL": "https://plot.ly"
       },
       "data": [
        {
         "marker": {
          "color": "#C8D2D7",
          "line": {
           "color": "#6E8484",
           "width": 1
          }
         },
         "orientation": "h",
         "type": "bar",
         "x": [
          0.2768830561375222,
          0.1548443494398415,
          0.15860630731574105,
          0.3290264810161918,
          0.08063980609070347
         ],
         "y": [
          "<b>Topic 0</b>: demand_production_indust...",
          "<b>Topic 4</b>: macroeconomic_inflation_...",
          "<b>Topic 5</b>: revenue_business_profit_...",
          "<b>Topic 6</b>: energy_demand_heating_wa...",
          "<b>Topic 9</b>: grain_foodtech_harvest_s..."
         ]
        }
       ],
       "layout": {
        "height": 600,
        "hoverlabel": {
         "bgcolor": "white",
         "font": {
          "family": "Rockwell",
          "size": 16
         }
        },
        "template": {
         "data": {
          "bar": [
           {
            "error_x": {
             "color": "rgb(36,36,36)"
            },
            "error_y": {
             "color": "rgb(36,36,36)"
            },
            "marker": {
             "line": {
              "color": "white",
              "width": 0.5
             },
             "pattern": {
              "fillmode": "overlay",
              "size": 10,
              "solidity": 0.2
             }
            },
            "type": "bar"
           }
          ],
          "barpolar": [
           {
            "marker": {
             "line": {
              "color": "white",
              "width": 0.5
             },
             "pattern": {
              "fillmode": "overlay",
              "size": 10,
              "solidity": 0.2
             }
            },
            "type": "barpolar"
           }
          ],
          "carpet": [
           {
            "aaxis": {
             "endlinecolor": "rgb(36,36,36)",
             "gridcolor": "white",
             "linecolor": "white",
             "minorgridcolor": "white",
             "startlinecolor": "rgb(36,36,36)"
            },
            "baxis": {
             "endlinecolor": "rgb(36,36,36)",
             "gridcolor": "white",
             "linecolor": "white",
             "minorgridcolor": "white",
             "startlinecolor": "rgb(36,36,36)"
            },
            "type": "carpet"
           }
          ],
          "choropleth": [
           {
            "colorbar": {
             "outlinewidth": 1,
             "tickcolor": "rgb(36,36,36)",
             "ticks": "outside"
            },
            "type": "choropleth"
           }
          ],
          "contour": [
           {
            "colorbar": {
             "outlinewidth": 1,
             "tickcolor": "rgb(36,36,36)",
             "ticks": "outside"
            },
            "colorscale": [
             [
              0,
              "#440154"
             ],
             [
              0.1111111111111111,
              "#482878"
             ],
             [
              0.2222222222222222,
              "#3e4989"
             ],
             [
              0.3333333333333333,
              "#31688e"
             ],
             [
              0.4444444444444444,
              "#26828e"
             ],
             [
              0.5555555555555556,
              "#1f9e89"
             ],
             [
              0.6666666666666666,
              "#35b779"
             ],
             [
              0.7777777777777778,
              "#6ece58"
             ],
             [
              0.8888888888888888,
              "#b5de2b"
             ],
             [
              1,
              "#fde725"
             ]
            ],
            "type": "contour"
           }
          ],
          "contourcarpet": [
           {
            "colorbar": {
             "outlinewidth": 1,
             "tickcolor": "rgb(36,36,36)",
             "ticks": "outside"
            },
            "type": "contourcarpet"
           }
          ],
          "heatmap": [
           {
            "colorbar": {
             "outlinewidth": 1,
             "tickcolor": "rgb(36,36,36)",
             "ticks": "outside"
            },
            "colorscale": [
             [
              0,
              "#440154"
             ],
             [
              0.1111111111111111,
              "#482878"
             ],
             [
              0.2222222222222222,
              "#3e4989"
             ],
             [
              0.3333333333333333,
              "#31688e"
             ],
             [
              0.4444444444444444,
              "#26828e"
             ],
             [
              0.5555555555555556,
              "#1f9e89"
             ],
             [
              0.6666666666666666,
              "#35b779"
             ],
             [
              0.7777777777777778,
              "#6ece58"
             ],
             [
              0.8888888888888888,
              "#b5de2b"
             ],
             [
              1,
              "#fde725"
             ]
            ],
            "type": "heatmap"
           }
          ],
          "heatmapgl": [
           {
            "colorbar": {
             "outlinewidth": 1,
             "tickcolor": "rgb(36,36,36)",
             "ticks": "outside"
            },
            "colorscale": [
             [
              0,
              "#440154"
             ],
             [
              0.1111111111111111,
              "#482878"
             ],
             [
              0.2222222222222222,
              "#3e4989"
             ],
             [
              0.3333333333333333,
              "#31688e"
             ],
             [
              0.4444444444444444,
              "#26828e"
             ],
             [
              0.5555555555555556,
              "#1f9e89"
             ],
             [
              0.6666666666666666,
              "#35b779"
             ],
             [
              0.7777777777777778,
              "#6ece58"
             ],
             [
              0.8888888888888888,
              "#b5de2b"
             ],
             [
              1,
              "#fde725"
             ]
            ],
            "type": "heatmapgl"
           }
          ],
          "histogram": [
           {
            "marker": {
             "line": {
              "color": "white",
              "width": 0.6
             }
            },
            "type": "histogram"
           }
          ],
          "histogram2d": [
           {
            "colorbar": {
             "outlinewidth": 1,
             "tickcolor": "rgb(36,36,36)",
             "ticks": "outside"
            },
            "colorscale": [
             [
              0,
              "#440154"
             ],
             [
              0.1111111111111111,
              "#482878"
             ],
             [
              0.2222222222222222,
              "#3e4989"
             ],
             [
              0.3333333333333333,
              "#31688e"
             ],
             [
              0.4444444444444444,
              "#26828e"
             ],
             [
              0.5555555555555556,
              "#1f9e89"
             ],
             [
              0.6666666666666666,
              "#35b779"
             ],
             [
              0.7777777777777778,
              "#6ece58"
             ],
             [
              0.8888888888888888,
              "#b5de2b"
             ],
             [
              1,
              "#fde725"
             ]
            ],
            "type": "histogram2d"
           }
          ],
          "histogram2dcontour": [
           {
            "colorbar": {
             "outlinewidth": 1,
             "tickcolor": "rgb(36,36,36)",
             "ticks": "outside"
            },
            "colorscale": [
             [
              0,
              "#440154"
             ],
             [
              0.1111111111111111,
              "#482878"
             ],
             [
              0.2222222222222222,
              "#3e4989"
             ],
             [
              0.3333333333333333,
              "#31688e"
             ],
             [
              0.4444444444444444,
              "#26828e"
             ],
             [
              0.5555555555555556,
              "#1f9e89"
             ],
             [
              0.6666666666666666,
              "#35b779"
             ],
             [
              0.7777777777777778,
              "#6ece58"
             ],
             [
              0.8888888888888888,
              "#b5de2b"
             ],
             [
              1,
              "#fde725"
             ]
            ],
            "type": "histogram2dcontour"
           }
          ],
          "mesh3d": [
           {
            "colorbar": {
             "outlinewidth": 1,
             "tickcolor": "rgb(36,36,36)",
             "ticks": "outside"
            },
            "type": "mesh3d"
           }
          ],
          "parcoords": [
           {
            "line": {
             "colorbar": {
              "outlinewidth": 1,
              "tickcolor": "rgb(36,36,36)",
              "ticks": "outside"
             }
            },
            "type": "parcoords"
           }
          ],
          "pie": [
           {
            "automargin": true,
            "type": "pie"
           }
          ],
          "scatter": [
           {
            "fillpattern": {
             "fillmode": "overlay",
             "size": 10,
             "solidity": 0.2
            },
            "type": "scatter"
           }
          ],
          "scatter3d": [
           {
            "line": {
             "colorbar": {
              "outlinewidth": 1,
              "tickcolor": "rgb(36,36,36)",
              "ticks": "outside"
             }
            },
            "marker": {
             "colorbar": {
              "outlinewidth": 1,
              "tickcolor": "rgb(36,36,36)",
              "ticks": "outside"
             }
            },
            "type": "scatter3d"
           }
          ],
          "scattercarpet": [
           {
            "marker": {
             "colorbar": {
              "outlinewidth": 1,
              "tickcolor": "rgb(36,36,36)",
              "ticks": "outside"
             }
            },
            "type": "scattercarpet"
           }
          ],
          "scattergeo": [
           {
            "marker": {
             "colorbar": {
              "outlinewidth": 1,
              "tickcolor": "rgb(36,36,36)",
              "ticks": "outside"
             }
            },
            "type": "scattergeo"
           }
          ],
          "scattergl": [
           {
            "marker": {
             "colorbar": {
              "outlinewidth": 1,
              "tickcolor": "rgb(36,36,36)",
              "ticks": "outside"
             }
            },
            "type": "scattergl"
           }
          ],
          "scattermapbox": [
           {
            "marker": {
             "colorbar": {
              "outlinewidth": 1,
              "tickcolor": "rgb(36,36,36)",
              "ticks": "outside"
             }
            },
            "type": "scattermapbox"
           }
          ],
          "scatterpolar": [
           {
            "marker": {
             "colorbar": {
              "outlinewidth": 1,
              "tickcolor": "rgb(36,36,36)",
              "ticks": "outside"
             }
            },
            "type": "scatterpolar"
           }
          ],
          "scatterpolargl": [
           {
            "marker": {
             "colorbar": {
              "outlinewidth": 1,
              "tickcolor": "rgb(36,36,36)",
              "ticks": "outside"
             }
            },
            "type": "scatterpolargl"
           }
          ],
          "scatterternary": [
           {
            "marker": {
             "colorbar": {
              "outlinewidth": 1,
              "tickcolor": "rgb(36,36,36)",
              "ticks": "outside"
             }
            },
            "type": "scatterternary"
           }
          ],
          "surface": [
           {
            "colorbar": {
             "outlinewidth": 1,
             "tickcolor": "rgb(36,36,36)",
             "ticks": "outside"
            },
            "colorscale": [
             [
              0,
              "#440154"
             ],
             [
              0.1111111111111111,
              "#482878"
             ],
             [
              0.2222222222222222,
              "#3e4989"
             ],
             [
              0.3333333333333333,
              "#31688e"
             ],
             [
              0.4444444444444444,
              "#26828e"
             ],
             [
              0.5555555555555556,
              "#1f9e89"
             ],
             [
              0.6666666666666666,
              "#35b779"
             ],
             [
              0.7777777777777778,
              "#6ece58"
             ],
             [
              0.8888888888888888,
              "#b5de2b"
             ],
             [
              1,
              "#fde725"
             ]
            ],
            "type": "surface"
           }
          ],
          "table": [
           {
            "cells": {
             "fill": {
              "color": "rgb(237,237,237)"
             },
             "line": {
              "color": "white"
             }
            },
            "header": {
             "fill": {
              "color": "rgb(217,217,217)"
             },
             "line": {
              "color": "white"
             }
            },
            "type": "table"
           }
          ]
         },
         "layout": {
          "annotationdefaults": {
           "arrowhead": 0,
           "arrowwidth": 1
          },
          "autotypenumbers": "strict",
          "coloraxis": {
           "colorbar": {
            "outlinewidth": 1,
            "tickcolor": "rgb(36,36,36)",
            "ticks": "outside"
           }
          },
          "colorscale": {
           "diverging": [
            [
             0,
             "rgb(103,0,31)"
            ],
            [
             0.1,
             "rgb(178,24,43)"
            ],
            [
             0.2,
             "rgb(214,96,77)"
            ],
            [
             0.3,
             "rgb(244,165,130)"
            ],
            [
             0.4,
             "rgb(253,219,199)"
            ],
            [
             0.5,
             "rgb(247,247,247)"
            ],
            [
             0.6,
             "rgb(209,229,240)"
            ],
            [
             0.7,
             "rgb(146,197,222)"
            ],
            [
             0.8,
             "rgb(67,147,195)"
            ],
            [
             0.9,
             "rgb(33,102,172)"
            ],
            [
             1,
             "rgb(5,48,97)"
            ]
           ],
           "sequential": [
            [
             0,
             "#440154"
            ],
            [
             0.1111111111111111,
             "#482878"
            ],
            [
             0.2222222222222222,
             "#3e4989"
            ],
            [
             0.3333333333333333,
             "#31688e"
            ],
            [
             0.4444444444444444,
             "#26828e"
            ],
            [
             0.5555555555555556,
             "#1f9e89"
            ],
            [
             0.6666666666666666,
             "#35b779"
            ],
            [
             0.7777777777777778,
             "#6ece58"
            ],
            [
             0.8888888888888888,
             "#b5de2b"
            ],
            [
             1,
             "#fde725"
            ]
           ],
           "sequentialminus": [
            [
             0,
             "#440154"
            ],
            [
             0.1111111111111111,
             "#482878"
            ],
            [
             0.2222222222222222,
             "#3e4989"
            ],
            [
             0.3333333333333333,
             "#31688e"
            ],
            [
             0.4444444444444444,
             "#26828e"
            ],
            [
             0.5555555555555556,
             "#1f9e89"
            ],
            [
             0.6666666666666666,
             "#35b779"
            ],
            [
             0.7777777777777778,
             "#6ece58"
            ],
            [
             0.8888888888888888,
             "#b5de2b"
            ],
            [
             1,
             "#fde725"
            ]
           ]
          },
          "colorway": [
           "#1F77B4",
           "#FF7F0E",
           "#2CA02C",
           "#D62728",
           "#9467BD",
           "#8C564B",
           "#E377C2",
           "#7F7F7F",
           "#BCBD22",
           "#17BECF"
          ],
          "font": {
           "color": "rgb(36,36,36)"
          },
          "geo": {
           "bgcolor": "white",
           "lakecolor": "white",
           "landcolor": "white",
           "showlakes": true,
           "showland": true,
           "subunitcolor": "white"
          },
          "hoverlabel": {
           "align": "left"
          },
          "hovermode": "closest",
          "mapbox": {
           "style": "light"
          },
          "paper_bgcolor": "white",
          "plot_bgcolor": "white",
          "polar": {
           "angularaxis": {
            "gridcolor": "rgb(232,232,232)",
            "linecolor": "rgb(36,36,36)",
            "showgrid": false,
            "showline": true,
            "ticks": "outside"
           },
           "bgcolor": "white",
           "radialaxis": {
            "gridcolor": "rgb(232,232,232)",
            "linecolor": "rgb(36,36,36)",
            "showgrid": false,
            "showline": true,
            "ticks": "outside"
           }
          },
          "scene": {
           "xaxis": {
            "backgroundcolor": "white",
            "gridcolor": "rgb(232,232,232)",
            "gridwidth": 2,
            "linecolor": "rgb(36,36,36)",
            "showbackground": true,
            "showgrid": false,
            "showline": true,
            "ticks": "outside",
            "zeroline": false,
            "zerolinecolor": "rgb(36,36,36)"
           },
           "yaxis": {
            "backgroundcolor": "white",
            "gridcolor": "rgb(232,232,232)",
            "gridwidth": 2,
            "linecolor": "rgb(36,36,36)",
            "showbackground": true,
            "showgrid": false,
            "showline": true,
            "ticks": "outside",
            "zeroline": false,
            "zerolinecolor": "rgb(36,36,36)"
           },
           "zaxis": {
            "backgroundcolor": "white",
            "gridcolor": "rgb(232,232,232)",
            "gridwidth": 2,
            "linecolor": "rgb(36,36,36)",
            "showbackground": true,
            "showgrid": false,
            "showline": true,
            "ticks": "outside",
            "zeroline": false,
            "zerolinecolor": "rgb(36,36,36)"
           }
          },
          "shapedefaults": {
           "fillcolor": "black",
           "line": {
            "width": 0
           },
           "opacity": 0.3
          },
          "ternary": {
           "aaxis": {
            "gridcolor": "rgb(232,232,232)",
            "linecolor": "rgb(36,36,36)",
            "showgrid": false,
            "showline": true,
            "ticks": "outside"
           },
           "baxis": {
            "gridcolor": "rgb(232,232,232)",
            "linecolor": "rgb(36,36,36)",
            "showgrid": false,
            "showline": true,
            "ticks": "outside"
           },
           "bgcolor": "white",
           "caxis": {
            "gridcolor": "rgb(232,232,232)",
            "linecolor": "rgb(36,36,36)",
            "showgrid": false,
            "showline": true,
            "ticks": "outside"
           }
          },
          "title": {
           "x": 0.05
          },
          "xaxis": {
           "automargin": true,
           "gridcolor": "rgb(232,232,232)",
           "linecolor": "rgb(36,36,36)",
           "showgrid": false,
           "showline": true,
           "ticks": "outside",
           "title": {
            "standoff": 15
           },
           "zeroline": false,
           "zerolinecolor": "rgb(36,36,36)"
          },
          "yaxis": {
           "automargin": true,
           "gridcolor": "rgb(232,232,232)",
           "linecolor": "rgb(36,36,36)",
           "showgrid": false,
           "showline": true,
           "ticks": "outside",
           "title": {
            "standoff": 15
           },
           "zeroline": false,
           "zerolinecolor": "rgb(36,36,36)"
          }
         }
        },
        "title": {
         "font": {
          "color": "Black",
          "size": 22
         },
         "text": "<b>Topic Probability Distribution</b>",
         "x": 0.5,
         "xanchor": "center",
         "y": 0.95,
         "yanchor": "top"
        },
        "width": 800,
        "xaxis": {
         "title": {
          "text": "Probability"
         }
        }
       }
      }
     },
     "metadata": {},
     "output_type": "display_data"
    }
   ],
   "source": [
    "# topic distribution of a certain document\n",
    "topic_model.visualize_distribution(topic_distr[1])"
   ]
  },
  {
   "cell_type": "code",
   "execution_count": 365,
   "metadata": {},
   "outputs": [
    {
     "data": {
      "text/html": [
       "<style type=\"text/css\">\n",
       "#T_9baa2_row0_col0, #T_9baa2_row0_col1, #T_9baa2_row0_col2, #T_9baa2_row0_col3, #T_9baa2_row0_col4, #T_9baa2_row0_col5, #T_9baa2_row0_col6, #T_9baa2_row0_col7, #T_9baa2_row0_col14, #T_9baa2_row0_col15, #T_9baa2_row0_col16, #T_9baa2_row0_col17, #T_9baa2_row0_col18, #T_9baa2_row0_col19, #T_9baa2_row0_col20, #T_9baa2_row0_col21, #T_9baa2_row1_col0, #T_9baa2_row1_col1, #T_9baa2_row1_col2, #T_9baa2_row1_col3, #T_9baa2_row1_col4, #T_9baa2_row1_col5, #T_9baa2_row1_col6, #T_9baa2_row1_col7, #T_9baa2_row1_col8, #T_9baa2_row1_col9, #T_9baa2_row1_col10, #T_9baa2_row1_col18, #T_9baa2_row1_col19, #T_9baa2_row1_col20, #T_9baa2_row1_col21, #T_9baa2_row2_col0, #T_9baa2_row2_col1, #T_9baa2_row2_col2, #T_9baa2_row2_col3, #T_9baa2_row2_col4, #T_9baa2_row2_col5, #T_9baa2_row2_col11, #T_9baa2_row2_col12, #T_9baa2_row2_col13, #T_9baa2_row2_col14, #T_9baa2_row2_col15, #T_9baa2_row2_col16, #T_9baa2_row2_col17, #T_9baa2_row2_col18, #T_9baa2_row2_col19, #T_9baa2_row2_col20, #T_9baa2_row2_col21, #T_9baa2_row3_col0, #T_9baa2_row3_col6, #T_9baa2_row3_col7, #T_9baa2_row3_col8, #T_9baa2_row3_col9, #T_9baa2_row3_col10, #T_9baa2_row3_col11, #T_9baa2_row3_col12, #T_9baa2_row3_col13, #T_9baa2_row3_col14, #T_9baa2_row3_col20, #T_9baa2_row3_col21, #T_9baa2_row4_col0, #T_9baa2_row4_col1, #T_9baa2_row4_col2, #T_9baa2_row4_col3, #T_9baa2_row4_col4, #T_9baa2_row4_col5, #T_9baa2_row4_col6, #T_9baa2_row4_col7, #T_9baa2_row4_col8, #T_9baa2_row4_col9, #T_9baa2_row4_col10, #T_9baa2_row4_col11, #T_9baa2_row4_col12, #T_9baa2_row4_col13, #T_9baa2_row4_col14, #T_9baa2_row4_col15, #T_9baa2_row4_col20, #T_9baa2_row4_col21 {\n",
       "  background-color: #f7fbff;\n",
       "  color: #000000;\n",
       "  color: white;\n",
       "  background-color: white;\n",
       "}\n",
       "#T_9baa2_row0_col8, #T_9baa2_row3_col19, #T_9baa2_row4_col16, #T_9baa2_row4_col17, #T_9baa2_row4_col18, #T_9baa2_row4_col19 {\n",
       "  background-color: #b9d6ea;\n",
       "  color: #000000;\n",
       "  color: black;\n",
       "}\n",
       "#T_9baa2_row0_col9 {\n",
       "  background-color: #3d8dc4;\n",
       "  color: #f1f1f1;\n",
       "  color: black;\n",
       "}\n",
       "#T_9baa2_row0_col10, #T_9baa2_row0_col11 {\n",
       "  background-color: #08306b;\n",
       "  color: #f1f1f1;\n",
       "  color: black;\n",
       "}\n",
       "#T_9baa2_row0_col12 {\n",
       "  background-color: #2c7cba;\n",
       "  color: #f1f1f1;\n",
       "  color: black;\n",
       "}\n",
       "#T_9baa2_row0_col13 {\n",
       "  background-color: #a4cce3;\n",
       "  color: #000000;\n",
       "  color: black;\n",
       "}\n",
       "#T_9baa2_row1_col11, #T_9baa2_row1_col12, #T_9baa2_row1_col13, #T_9baa2_row1_col15, #T_9baa2_row1_col16, #T_9baa2_row1_col17 {\n",
       "  background-color: #bdd7ec;\n",
       "  color: #000000;\n",
       "  color: black;\n",
       "}\n",
       "#T_9baa2_row1_col14 {\n",
       "  background-color: #57a0ce;\n",
       "  color: #f1f1f1;\n",
       "  color: black;\n",
       "}\n",
       "#T_9baa2_row2_col6 {\n",
       "  background-color: #bed8ec;\n",
       "  color: #000000;\n",
       "  color: black;\n",
       "}\n",
       "#T_9baa2_row2_col7, #T_9baa2_row2_col8, #T_9baa2_row2_col9 {\n",
       "  background-color: #539ecd;\n",
       "  color: #f1f1f1;\n",
       "  color: black;\n",
       "}\n",
       "#T_9baa2_row2_col10, #T_9baa2_row3_col5 {\n",
       "  background-color: #b8d5ea;\n",
       "  color: #000000;\n",
       "  color: black;\n",
       "}\n",
       "#T_9baa2_row3_col1 {\n",
       "  background-color: #b2d2e8;\n",
       "  color: #000000;\n",
       "  color: black;\n",
       "}\n",
       "#T_9baa2_row3_col2, #T_9baa2_row3_col3, #T_9baa2_row3_col4 {\n",
       "  background-color: #4695c8;\n",
       "  color: #f1f1f1;\n",
       "  color: black;\n",
       "}\n",
       "#T_9baa2_row3_col15 {\n",
       "  background-color: #bad6eb;\n",
       "  color: #000000;\n",
       "  color: black;\n",
       "}\n",
       "#T_9baa2_row3_col16, #T_9baa2_row3_col17, #T_9baa2_row3_col18 {\n",
       "  background-color: #529dcc;\n",
       "  color: #f1f1f1;\n",
       "  color: black;\n",
       "}\n",
       "</style>\n",
       "<table id=\"T_9baa2\">\n",
       "  <thead>\n",
       "    <tr>\n",
       "      <th class=\"blank level0\" >&nbsp;</th>\n",
       "      <th id=\"T_9baa2_level0_col0\" class=\"col_heading level0 col0\" >conversely</th>\n",
       "      <th id=\"T_9baa2_level0_col1\" class=\"col_heading level0 col1\" >get </th>\n",
       "      <th id=\"T_9baa2_level0_col2\" class=\"col_heading level0 col2\" >europe  </th>\n",
       "      <th id=\"T_9baa2_level0_col3\" class=\"col_heading level0 col3\" >north   </th>\n",
       "      <th id=\"T_9baa2_level0_col4\" class=\"col_heading level0 col4\" >america    </th>\n",
       "      <th id=\"T_9baa2_level0_col5\" class=\"col_heading level0 col5\" >look     </th>\n",
       "      <th id=\"T_9baa2_level0_col6\" class=\"col_heading level0 col6\" >geopolitical      </th>\n",
       "      <th id=\"T_9baa2_level0_col7\" class=\"col_heading level0 col7\" >risk       </th>\n",
       "      <th id=\"T_9baa2_level0_col8\" class=\"col_heading level0 col8\" >particularly        </th>\n",
       "      <th id=\"T_9baa2_level0_col9\" class=\"col_heading level0 col9\" >associate         </th>\n",
       "      <th id=\"T_9baa2_level0_col10\" class=\"col_heading level0 col10\" >go          </th>\n",
       "      <th id=\"T_9baa2_level0_col11\" class=\"col_heading level0 col11\" >look           </th>\n",
       "      <th id=\"T_9baa2_level0_col12\" class=\"col_heading level0 col12\" >maybe            </th>\n",
       "      <th id=\"T_9baa2_level0_col13\" class=\"col_heading level0 col13\" >derisk             </th>\n",
       "      <th id=\"T_9baa2_level0_col14\" class=\"col_heading level0 col14\" >global              </th>\n",
       "      <th id=\"T_9baa2_level0_col15\" class=\"col_heading level0 col15\" >basis               </th>\n",
       "      <th id=\"T_9baa2_level0_col16\" class=\"col_heading level0 col16\" >move                </th>\n",
       "      <th id=\"T_9baa2_level0_col17\" class=\"col_heading level0 col17\" >little                 </th>\n",
       "      <th id=\"T_9baa2_level0_col18\" class=\"col_heading level0 col18\" >bit                  </th>\n",
       "      <th id=\"T_9baa2_level0_col19\" class=\"col_heading level0 col19\" >close                   </th>\n",
       "      <th id=\"T_9baa2_level0_col20\" class=\"col_heading level0 col20\" >headquarters                    </th>\n",
       "      <th id=\"T_9baa2_level0_col21\" class=\"col_heading level0 col21\" >operation                     </th>\n",
       "    </tr>\n",
       "  </thead>\n",
       "  <tbody>\n",
       "    <tr>\n",
       "      <th id=\"T_9baa2_level0_row0\" class=\"row_heading level0 row0\" >0_demand_production_industry_market</th>\n",
       "      <td id=\"T_9baa2_row0_col0\" class=\"data row0 col0\" >0.000</td>\n",
       "      <td id=\"T_9baa2_row0_col1\" class=\"data row0 col1\" >0.000</td>\n",
       "      <td id=\"T_9baa2_row0_col2\" class=\"data row0 col2\" >0.000</td>\n",
       "      <td id=\"T_9baa2_row0_col3\" class=\"data row0 col3\" >0.000</td>\n",
       "      <td id=\"T_9baa2_row0_col4\" class=\"data row0 col4\" >0.000</td>\n",
       "      <td id=\"T_9baa2_row0_col5\" class=\"data row0 col5\" >0.000</td>\n",
       "      <td id=\"T_9baa2_row0_col6\" class=\"data row0 col6\" >0.000</td>\n",
       "      <td id=\"T_9baa2_row0_col7\" class=\"data row0 col7\" >0.000</td>\n",
       "      <td id=\"T_9baa2_row0_col8\" class=\"data row0 col8\" >0.106</td>\n",
       "      <td id=\"T_9baa2_row0_col9\" class=\"data row0 col9\" >0.235</td>\n",
       "      <td id=\"T_9baa2_row0_col10\" class=\"data row0 col10\" >0.365</td>\n",
       "      <td id=\"T_9baa2_row0_col11\" class=\"data row0 col11\" >0.365</td>\n",
       "      <td id=\"T_9baa2_row0_col12\" class=\"data row0 col12\" >0.259</td>\n",
       "      <td id=\"T_9baa2_row0_col13\" class=\"data row0 col13\" >0.130</td>\n",
       "      <td id=\"T_9baa2_row0_col14\" class=\"data row0 col14\" >0.000</td>\n",
       "      <td id=\"T_9baa2_row0_col15\" class=\"data row0 col15\" >0.000</td>\n",
       "      <td id=\"T_9baa2_row0_col16\" class=\"data row0 col16\" >0.000</td>\n",
       "      <td id=\"T_9baa2_row0_col17\" class=\"data row0 col17\" >0.000</td>\n",
       "      <td id=\"T_9baa2_row0_col18\" class=\"data row0 col18\" >0.000</td>\n",
       "      <td id=\"T_9baa2_row0_col19\" class=\"data row0 col19\" >0.000</td>\n",
       "      <td id=\"T_9baa2_row0_col20\" class=\"data row0 col20\" >0.000</td>\n",
       "      <td id=\"T_9baa2_row0_col21\" class=\"data row0 col21\" >0.000</td>\n",
       "    </tr>\n",
       "    <tr>\n",
       "      <th id=\"T_9baa2_level0_row1\" class=\"row_heading level0 row1\" >4_macroeconomic_inflation_inflationary_economy</th>\n",
       "      <td id=\"T_9baa2_row1_col0\" class=\"data row1 col0\" >0.000</td>\n",
       "      <td id=\"T_9baa2_row1_col1\" class=\"data row1 col1\" >0.000</td>\n",
       "      <td id=\"T_9baa2_row1_col2\" class=\"data row1 col2\" >0.000</td>\n",
       "      <td id=\"T_9baa2_row1_col3\" class=\"data row1 col3\" >0.000</td>\n",
       "      <td id=\"T_9baa2_row1_col4\" class=\"data row1 col4\" >0.000</td>\n",
       "      <td id=\"T_9baa2_row1_col5\" class=\"data row1 col5\" >0.000</td>\n",
       "      <td id=\"T_9baa2_row1_col6\" class=\"data row1 col6\" >0.000</td>\n",
       "      <td id=\"T_9baa2_row1_col7\" class=\"data row1 col7\" >0.000</td>\n",
       "      <td id=\"T_9baa2_row1_col8\" class=\"data row1 col8\" >0.000</td>\n",
       "      <td id=\"T_9baa2_row1_col9\" class=\"data row1 col9\" >0.000</td>\n",
       "      <td id=\"T_9baa2_row1_col10\" class=\"data row1 col10\" >0.000</td>\n",
       "      <td id=\"T_9baa2_row1_col11\" class=\"data row1 col11\" >0.102</td>\n",
       "      <td id=\"T_9baa2_row1_col12\" class=\"data row1 col12\" >0.102</td>\n",
       "      <td id=\"T_9baa2_row1_col13\" class=\"data row1 col13\" >0.102</td>\n",
       "      <td id=\"T_9baa2_row1_col14\" class=\"data row1 col14\" >0.204</td>\n",
       "      <td id=\"T_9baa2_row1_col15\" class=\"data row1 col15\" >0.102</td>\n",
       "      <td id=\"T_9baa2_row1_col16\" class=\"data row1 col16\" >0.102</td>\n",
       "      <td id=\"T_9baa2_row1_col17\" class=\"data row1 col17\" >0.102</td>\n",
       "      <td id=\"T_9baa2_row1_col18\" class=\"data row1 col18\" >0.000</td>\n",
       "      <td id=\"T_9baa2_row1_col19\" class=\"data row1 col19\" >0.000</td>\n",
       "      <td id=\"T_9baa2_row1_col20\" class=\"data row1 col20\" >0.000</td>\n",
       "      <td id=\"T_9baa2_row1_col21\" class=\"data row1 col21\" >0.000</td>\n",
       "    </tr>\n",
       "    <tr>\n",
       "      <th id=\"T_9baa2_level0_row2\" class=\"row_heading level0 row2\" >5_revenue_business_profit_investment</th>\n",
       "      <td id=\"T_9baa2_row2_col0\" class=\"data row2 col0\" >0.000</td>\n",
       "      <td id=\"T_9baa2_row2_col1\" class=\"data row2 col1\" >0.000</td>\n",
       "      <td id=\"T_9baa2_row2_col2\" class=\"data row2 col2\" >0.000</td>\n",
       "      <td id=\"T_9baa2_row2_col3\" class=\"data row2 col3\" >0.000</td>\n",
       "      <td id=\"T_9baa2_row2_col4\" class=\"data row2 col4\" >0.000</td>\n",
       "      <td id=\"T_9baa2_row2_col5\" class=\"data row2 col5\" >0.000</td>\n",
       "      <td id=\"T_9baa2_row2_col6\" class=\"data row2 col6\" >0.101</td>\n",
       "      <td id=\"T_9baa2_row2_col7\" class=\"data row2 col7\" >0.209</td>\n",
       "      <td id=\"T_9baa2_row2_col8\" class=\"data row2 col8\" >0.209</td>\n",
       "      <td id=\"T_9baa2_row2_col9\" class=\"data row2 col9\" >0.209</td>\n",
       "      <td id=\"T_9baa2_row2_col10\" class=\"data row2 col10\" >0.108</td>\n",
       "      <td id=\"T_9baa2_row2_col11\" class=\"data row2 col11\" >0.000</td>\n",
       "      <td id=\"T_9baa2_row2_col12\" class=\"data row2 col12\" >0.000</td>\n",
       "      <td id=\"T_9baa2_row2_col13\" class=\"data row2 col13\" >0.000</td>\n",
       "      <td id=\"T_9baa2_row2_col14\" class=\"data row2 col14\" >0.000</td>\n",
       "      <td id=\"T_9baa2_row2_col15\" class=\"data row2 col15\" >0.000</td>\n",
       "      <td id=\"T_9baa2_row2_col16\" class=\"data row2 col16\" >0.000</td>\n",
       "      <td id=\"T_9baa2_row2_col17\" class=\"data row2 col17\" >0.000</td>\n",
       "      <td id=\"T_9baa2_row2_col18\" class=\"data row2 col18\" >0.000</td>\n",
       "      <td id=\"T_9baa2_row2_col19\" class=\"data row2 col19\" >0.000</td>\n",
       "      <td id=\"T_9baa2_row2_col20\" class=\"data row2 col20\" >0.000</td>\n",
       "      <td id=\"T_9baa2_row2_col21\" class=\"data row2 col21\" >0.000</td>\n",
       "    </tr>\n",
       "    <tr>\n",
       "      <th id=\"T_9baa2_level0_row3\" class=\"row_heading level0 row3\" >6_energy_demand_heating_war</th>\n",
       "      <td id=\"T_9baa2_row3_col0\" class=\"data row3 col0\" >0.000</td>\n",
       "      <td id=\"T_9baa2_row3_col1\" class=\"data row3 col1\" >0.115</td>\n",
       "      <td id=\"T_9baa2_row3_col2\" class=\"data row3 col2\" >0.223</td>\n",
       "      <td id=\"T_9baa2_row3_col3\" class=\"data row3 col3\" >0.223</td>\n",
       "      <td id=\"T_9baa2_row3_col4\" class=\"data row3 col4\" >0.223</td>\n",
       "      <td id=\"T_9baa2_row3_col5\" class=\"data row3 col5\" >0.108</td>\n",
       "      <td id=\"T_9baa2_row3_col6\" class=\"data row3 col6\" >0.000</td>\n",
       "      <td id=\"T_9baa2_row3_col7\" class=\"data row3 col7\" >0.000</td>\n",
       "      <td id=\"T_9baa2_row3_col8\" class=\"data row3 col8\" >0.000</td>\n",
       "      <td id=\"T_9baa2_row3_col9\" class=\"data row3 col9\" >0.000</td>\n",
       "      <td id=\"T_9baa2_row3_col10\" class=\"data row3 col10\" >0.000</td>\n",
       "      <td id=\"T_9baa2_row3_col11\" class=\"data row3 col11\" >0.000</td>\n",
       "      <td id=\"T_9baa2_row3_col12\" class=\"data row3 col12\" >0.000</td>\n",
       "      <td id=\"T_9baa2_row3_col13\" class=\"data row3 col13\" >0.000</td>\n",
       "      <td id=\"T_9baa2_row3_col14\" class=\"data row3 col14\" >0.000</td>\n",
       "      <td id=\"T_9baa2_row3_col15\" class=\"data row3 col15\" >0.105</td>\n",
       "      <td id=\"T_9baa2_row3_col16\" class=\"data row3 col16\" >0.211</td>\n",
       "      <td id=\"T_9baa2_row3_col17\" class=\"data row3 col17\" >0.211</td>\n",
       "      <td id=\"T_9baa2_row3_col18\" class=\"data row3 col18\" >0.211</td>\n",
       "      <td id=\"T_9baa2_row3_col19\" class=\"data row3 col19\" >0.106</td>\n",
       "      <td id=\"T_9baa2_row3_col20\" class=\"data row3 col20\" >0.000</td>\n",
       "      <td id=\"T_9baa2_row3_col21\" class=\"data row3 col21\" >0.000</td>\n",
       "    </tr>\n",
       "    <tr>\n",
       "      <th id=\"T_9baa2_level0_row4\" class=\"row_heading level0 row4\" >9_grain_foodtech_harvest_soybean</th>\n",
       "      <td id=\"T_9baa2_row4_col0\" class=\"data row4 col0\" >0.000</td>\n",
       "      <td id=\"T_9baa2_row4_col1\" class=\"data row4 col1\" >0.000</td>\n",
       "      <td id=\"T_9baa2_row4_col2\" class=\"data row4 col2\" >0.000</td>\n",
       "      <td id=\"T_9baa2_row4_col3\" class=\"data row4 col3\" >0.000</td>\n",
       "      <td id=\"T_9baa2_row4_col4\" class=\"data row4 col4\" >0.000</td>\n",
       "      <td id=\"T_9baa2_row4_col5\" class=\"data row4 col5\" >0.000</td>\n",
       "      <td id=\"T_9baa2_row4_col6\" class=\"data row4 col6\" >0.000</td>\n",
       "      <td id=\"T_9baa2_row4_col7\" class=\"data row4 col7\" >0.000</td>\n",
       "      <td id=\"T_9baa2_row4_col8\" class=\"data row4 col8\" >0.000</td>\n",
       "      <td id=\"T_9baa2_row4_col9\" class=\"data row4 col9\" >0.000</td>\n",
       "      <td id=\"T_9baa2_row4_col10\" class=\"data row4 col10\" >0.000</td>\n",
       "      <td id=\"T_9baa2_row4_col11\" class=\"data row4 col11\" >0.000</td>\n",
       "      <td id=\"T_9baa2_row4_col12\" class=\"data row4 col12\" >0.000</td>\n",
       "      <td id=\"T_9baa2_row4_col13\" class=\"data row4 col13\" >0.000</td>\n",
       "      <td id=\"T_9baa2_row4_col14\" class=\"data row4 col14\" >0.000</td>\n",
       "      <td id=\"T_9baa2_row4_col15\" class=\"data row4 col15\" >0.000</td>\n",
       "      <td id=\"T_9baa2_row4_col16\" class=\"data row4 col16\" >0.106</td>\n",
       "      <td id=\"T_9baa2_row4_col17\" class=\"data row4 col17\" >0.106</td>\n",
       "      <td id=\"T_9baa2_row4_col18\" class=\"data row4 col18\" >0.106</td>\n",
       "      <td id=\"T_9baa2_row4_col19\" class=\"data row4 col19\" >0.106</td>\n",
       "      <td id=\"T_9baa2_row4_col20\" class=\"data row4 col20\" >0.000</td>\n",
       "      <td id=\"T_9baa2_row4_col21\" class=\"data row4 col21\" >0.000</td>\n",
       "    </tr>\n",
       "  </tbody>\n",
       "</table>\n"
      ],
      "text/plain": [
       "<pandas.io.formats.style.Styler at 0x19166dc00>"
      ]
     },
     "execution_count": 365,
     "metadata": {},
     "output_type": "execute_result"
    }
   ],
   "source": [
    "# Visualize the token-level distributions\n",
    "df = topic_model.visualize_approximate_distribution(corpus_window_0_join_df['processed_text'].to_list()[1], topic_token_distr[1])\n",
    "df"
   ]
  },
  {
   "cell_type": "code",
   "execution_count": 372,
   "metadata": {},
   "outputs": [
    {
     "data": {
      "text/plain": [
       "[('refinery', 0.48095948),\n",
       " ('refiner', 0.4155772),\n",
       " ('import', 0.4111076),\n",
       " ('oil', 0.3860207),\n",
       " ('europe', 0.3736658),\n",
       " ('diesel', 0.36351082),\n",
       " ('fuel', 0.35027352),\n",
       " ('eu', 0.3479474),\n",
       " ('supply', 0.34047055),\n",
       " ('russian', 0.33826613)]"
      ]
     },
     "execution_count": 372,
     "metadata": {},
     "output_type": "execute_result"
    }
   ],
   "source": [
    "# values for individual topics\n",
    "topic_model.get_topic(1)"
   ]
  },
  {
   "cell_type": "code",
   "execution_count": null,
   "metadata": {},
   "outputs": [],
   "source": [
    "from sentence_transformers.cross_encoder import CrossEncoder"
   ]
  },
  {
   "cell_type": "code",
   "execution_count": null,
   "metadata": {},
   "outputs": [],
   "source": [
    "from sentence_transformers import SentenceTransformer, util\n",
    "model = SentenceTransformer('paraphrase-distilroberta-base-v1')\n",
    "sentence1 = \"Now this slide talks more about the immediate impact where the combination of sanctions and also business destruction in Ukraine leads or may lead to supply chain disruptions.\"\n",
    "sentence2 = \"We obviously intensively evaluate all the potential impacts, created a task force that meets almost daily to follow on these topics and basically do preventive measures as to limit the potential impact on CEZ.\"\n",
    "\n",
    "doc1 = nlp(sentence1)\n",
    "doc2 = nlp(sentence2)\n",
    "similarity = doc1.similarity(doc2)\n",
    "\n",
    "sentences_ = [sentence1, sentence2]\n",
    "sentence_embeddings = model.encode(sentences_)\n",
    "\n",
    "print(\"Cosine Similarity: \" + str(util.pytorch_cos_sim(sentence_embeddings[0], sentence_embeddings[1]).item()))\n",
    "print(\"similiarity: \" + str(similarity))"
   ]
  },
  {
   "cell_type": "code",
   "execution_count": null,
   "metadata": {},
   "outputs": [],
   "source": [
    "# import dill as pickle\n",
    "# pickle.dump(events_russia, open('../output/pickled/events_russia.pkl', 'wb'))\n",
    "# pickle.dump(events, open('../output/pickled/events.pkl', 'wb'))"
   ]
  },
  {
   "cell_type": "code",
   "execution_count": null,
   "metadata": {},
   "outputs": [],
   "source": [
    "docs = [event['presentation_collapsed'] + \"\\n\" + event['qa_collapsed'] for event in events_russia]"
   ]
  },
  {
   "cell_type": "code",
   "execution_count": null,
   "metadata": {},
   "outputs": [],
   "source": [
    "df.to_csv('../output/data/overview.csv', index=False)"
   ]
  },
  {
   "cell_type": "code",
   "execution_count": null,
   "metadata": {},
   "outputs": [],
   "source": [
    "#  df[['company', 'ticker', 'ticker_new', 'date', 'russia', 'russia_count', 'sanction_count']].to_csv('../output/data/overview_jakob.csv', index=False)\n",
    "# with open('../output/data/overview_jakob.csv', 'rb') as f_in:\n",
    "#     with gzip.open('../output/data/overview_jakob.csv.gz', 'wb') as f_out:\n",
    "#         shutil.copyfileobj(f_in, f_out)"
   ]
  },
  {
   "attachments": {},
   "cell_type": "markdown",
   "metadata": {},
   "source": [
    "Create 15 samples for each category: russia and election and save it in the\n",
    "corresponding directory."
   ]
  },
  {
   "cell_type": "code",
   "execution_count": null,
   "metadata": {},
   "outputs": [],
   "source": [
    "if len(df[df['russia'] == 'russia & sanctions']) >0:sample_files_russia = df[df['russia'] == 'russia'].sample(8)['file'].tolist() + df[df['russia'] == 'russia & sanctions'].sample(7)['file'].tolist()\n",
    "if len(df[df['election'] == 'presidential election']) >0: sample_files_election = df[df['election'] == 'presidential election'].sample(15)['file'].tolist()"
   ]
  },
  {
   "cell_type": "code",
   "execution_count": null,
   "metadata": {},
   "outputs": [],
   "source": [
    "# delete all files in folder\n",
    "if 'sample_files_russia' in locals() or 'sample_files_russia' in globals():\n",
    "    folder = '../output/sample transcripts/russia/'\n",
    "    files = os.listdir(folder)\n",
    "    for f in files:\n",
    "        os.remove(folder + f)\n",
    "    # copy sample files to folder\n",
    "    for file in sample_files_russia:\n",
    "        shutil.copy(file, folder)"
   ]
  },
  {
   "cell_type": "code",
   "execution_count": null,
   "metadata": {},
   "outputs": [],
   "source": [
    "# delete all files in folder\n",
    "if 'sample_files_election' in locals() or sample_files_election in globals():\n",
    "    folder = '../output/sample transcripts/election/'\n",
    "    files = os.listdir(folder)\n",
    "    for f in files:\n",
    "        os.remove(folder + f)\n",
    "    # copy sample files to folder\n",
    "    for file in sample_files_election:\n",
    "        shutil.copy(file, folder)"
   ]
  },
  {
   "attachments": {},
   "cell_type": "markdown",
   "metadata": {},
   "source": [
    "Polars"
   ]
  },
  {
   "cell_type": "code",
   "execution_count": null,
   "metadata": {},
   "outputs": [],
   "source": [
    "keys_to_keep = ['file', 'body_orig']"
   ]
  },
  {
   "cell_type": "code",
   "execution_count": null,
   "metadata": {},
   "outputs": [],
   "source": [
    "events_new_trimmed = [{key: event[key] for key in keys_to_keep} for event in events_new]"
   ]
  },
  {
   "cell_type": "code",
   "execution_count": null,
   "metadata": {},
   "outputs": [],
   "source": [
    "eventsDF = pl.from_dicts(events_new_trimmed)"
   ]
  },
  {
   "cell_type": "code",
   "execution_count": null,
   "metadata": {},
   "outputs": [],
   "source": [
    "eventsDF = eventsDF.with_columns(pl.col(\"body_orig\").str.count_match('(E|e)lections').alias(\"elections_count\"))\n",
    "eventsDF = eventsDF.with_columns(pl.col(\"body_orig\").str.count_match('(S|s)anctions').alias(\"sanctions_count\"))\n",
    "eventsDF = eventsDF.with_columns(pl.col(\"body_orig\").str.count_match('(R|r)ussia').alias(\"russia_count\"))"
   ]
  },
  {
   "cell_type": "code",
   "execution_count": null,
   "metadata": {},
   "outputs": [],
   "source": [
    "len(eventsDF.filter(pl.col(\"elections_count\") > 0))"
   ]
  },
  {
   "cell_type": "code",
   "execution_count": null,
   "metadata": {},
   "outputs": [],
   "source": [
    "len(eventsDF.filter((pl.col(\"sanctions_count\") > 0) & (pl.col(\"russia_count\") > 0)))"
   ]
  }
 ],
 "metadata": {
  "kernelspec": {
   "display_name": "Python 3",
   "language": "python",
   "name": "python3"
  },
  "language_info": {
   "codemirror_mode": {
    "name": "ipython",
    "version": 3
   },
   "file_extension": ".py",
   "mimetype": "text/x-python",
   "name": "python",
   "nbconvert_exporter": "python",
   "pygments_lexer": "ipython3",
   "version": "3.10.13"
  },
  "orig_nbformat": 4
 },
 "nbformat": 4,
 "nbformat_minor": 2
}
