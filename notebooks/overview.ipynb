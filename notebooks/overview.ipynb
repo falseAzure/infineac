{
 "cells": [
  {
   "cell_type": "code",
   "execution_count": 4,
   "metadata": {},
   "outputs": [
    {
     "name": "stderr",
     "output_type": "stream",
     "text": [
      "/Users/Foal/miniconda3/envs/infineac/lib/python3.11/site-packages/umap/distances.py:1063: NumbaDeprecationWarning: The 'nopython' keyword argument was not supplied to the 'numba.jit' decorator. The implicit default value for this argument is currently False, but it will be changed to True in Numba 0.59.0. See https://numba.readthedocs.io/en/stable/reference/deprecation.html#deprecation-of-object-mode-fall-back-behaviour-when-using-jit for details.\n",
      "  @numba.jit()\n",
      "/Users/Foal/miniconda3/envs/infineac/lib/python3.11/site-packages/umap/distances.py:1071: NumbaDeprecationWarning: The 'nopython' keyword argument was not supplied to the 'numba.jit' decorator. The implicit default value for this argument is currently False, but it will be changed to True in Numba 0.59.0. See https://numba.readthedocs.io/en/stable/reference/deprecation.html#deprecation-of-object-mode-fall-back-behaviour-when-using-jit for details.\n",
      "  @numba.jit()\n",
      "/Users/Foal/miniconda3/envs/infineac/lib/python3.11/site-packages/umap/distances.py:1086: NumbaDeprecationWarning: The 'nopython' keyword argument was not supplied to the 'numba.jit' decorator. The implicit default value for this argument is currently False, but it will be changed to True in Numba 0.59.0. See https://numba.readthedocs.io/en/stable/reference/deprecation.html#deprecation-of-object-mode-fall-back-behaviour-when-using-jit for details.\n",
      "  @numba.jit()\n",
      "/Users/Foal/miniconda3/envs/infineac/lib/python3.11/site-packages/tqdm/auto.py:21: TqdmWarning: IProgress not found. Please update jupyter and ipywidgets. See https://ipywidgets.readthedocs.io/en/stable/user_install.html\n",
      "  from .autonotebook import tqdm as notebook_tqdm\n",
      "/Users/Foal/miniconda3/envs/infineac/lib/python3.11/site-packages/umap/umap_.py:660: NumbaDeprecationWarning: The 'nopython' keyword argument was not supplied to the 'numba.jit' decorator. The implicit default value for this argument is currently False, but it will be changed to True in Numba 0.59.0. See https://numba.readthedocs.io/en/stable/reference/deprecation.html#deprecation-of-object-mode-fall-back-behaviour-when-using-jit for details.\n",
      "  @numba.jit()\n"
     ]
    }
   ],
   "source": [
    "import os\n",
    "import glob\n",
    "from pathlib import Path\n",
    "import polars as pl\n",
    "import re\n",
    "import gzip\n",
    "import sys\n",
    "import random\n",
    "import shutil\n",
    "import numpy as np\n",
    "import pandas as pd\n",
    "import seaborn as sns\n",
    "import matplotlib.pyplot as plt\n",
    "import matplotlib.dates as mdates\n",
    "from lxml import etree, objectify\n",
    "\n",
    "sys.path.append('../infineac/')\n",
    "import file_loader\n",
    "import helper\n",
    "\n",
    "%load_ext autoreload\n",
    "%autoreload 2\n",
    "\n",
    "PATH_DIR = \"../data/transcripts/\"\n",
    "random.seed(111)"
   ]
  },
  {
   "cell_type": "code",
   "execution_count": 2,
   "metadata": {},
   "outputs": [],
   "source": [
    "from bertopic import BERTopic"
   ]
  },
  {
   "attachments": {},
   "cell_type": "markdown",
   "metadata": {},
   "source": [
    "## Load Files"
   ]
  },
  {
   "attachments": {},
   "cell_type": "markdown",
   "metadata": {},
   "source": [
    "Load all xml files from the given directory and return a list of corresponding events."
   ]
  },
  {
   "cell_type": "code",
   "execution_count": 32,
   "metadata": {},
   "outputs": [
    {
     "name": "stdout",
     "output_type": "stream",
     "text": [
      "1000 / 1000  - Processing file:  ../data/transcripts/2022/15073915_T.xml\r"
     ]
    }
   ],
   "source": [
    "files = list(Path(PATH_DIR).rglob(\"*.xml\"))\n",
    "events = file_loader.load_files_from_xml(files[0:1000])"
   ]
  },
  {
   "attachments": {},
   "cell_type": "markdown",
   "metadata": {},
   "source": [
    "Only consider events that are held after 2022."
   ]
  },
  {
   "cell_type": "code",
   "execution_count": 33,
   "metadata": {},
   "outputs": [],
   "source": [
    "events_filt = [event for event in events if \"date\" in event.keys() and event['action'] == 'publish' and event['date'].year >= 2022 and event['version'] == \"Final\"]"
   ]
  },
  {
   "cell_type": "code",
   "execution_count": 34,
   "metadata": {},
   "outputs": [],
   "source": [
    "file = [event['file'] for event in events_filt]\n",
    "id = [event['id'] for event in events_filt]\n",
    "year_upload = [event['year_upload'] for event in events_filt]\n",
    "company = [event['company_name'] for event in events_filt]\n",
    "ticker = [event['company_ticker'] for event in events_filt]\n",
    "ticker_new = [re.sub('\\\\..*', '', t) for t in ticker]\n",
    "dates = [event['date'] for event in events_filt if \"date\" in event.keys()]\n",
    "numeric_values = mdates.date2num(dates)\n",
    "\n",
    "russia_and_sanction = [helper.get_russia_and_sanction(event['body_orig']) for event in events_filt]\n",
    "election = [helper.get_elections(event['body_orig']) for event in events_filt]\n",
    "russia_count = [event['body_orig'].lower().count('russia') for event in events_filt]\n",
    "sanction_count = [event['body_orig'].lower().count('sanction') for event in events_filt]"
   ]
  },
  {
   "cell_type": "code",
   "execution_count": 36,
   "metadata": {},
   "outputs": [
    {
     "data": {
      "text/plain": [
       "248"
      ]
     },
     "execution_count": 36,
     "metadata": {},
     "output_type": "execute_result"
    }
   ],
   "source": [
    "events_russia = [event for event in events_filt if event['body_orig'].lower().count('russia') >= 1 or event['body_orig'].lower().count('ukraine') >= 1]\n",
    "len(events_russia)"
   ]
  },
  {
   "cell_type": "code",
   "execution_count": 43,
   "metadata": {},
   "outputs": [],
   "source": [
    "events_ukr = [event for event in events_filt if event['body_orig'].lower().count('russia') == 0 and event['body_orig'].lower().count('ukraine') >= 2]"
   ]
  },
  {
   "cell_type": "code",
   "execution_count": 61,
   "metadata": {},
   "outputs": [
    {
     "data": {
      "text/plain": [
       "144"
      ]
     },
     "execution_count": 61,
     "metadata": {},
     "output_type": "execute_result"
    }
   ],
   "source": [
    "events_russia = [event for event in events_filt if event['qa_collapsed'].lower().count('russia') >= 1 or event['qa_collapsed'].lower().count('ukraine') >= 1]\n",
    "len(events_russia)"
   ]
  },
  {
   "cell_type": "code",
   "execution_count": 58,
   "metadata": {},
   "outputs": [],
   "source": [
    "import preprocess_string as ps"
   ]
  },
  {
   "cell_type": "code",
   "execution_count": 65,
   "metadata": {},
   "outputs": [
    {
     "name": "stdout",
     "output_type": "stream",
     "text": [
      " On a per active frac crew basis, our Q2 annualized revenue of 33% above that of 2018, which was the peak of the North America shale market. While our European chemical business was impacted by a supply chain disruption due to the Russia/Ukraine conflict, the overall segment still achieved 24% adjusted EBITDA margins as the offshore and deepwater markets continue to show signs of a multiyear growth cycle, supported by a forecasted 5-year high in subsea tree orders in 2022.\n",
      " The brine fluid test results from our territory well are very encouraging, with both lithium and bromine concentrations above the values used by an independent study for the exploration target report values that we announced last year.\n",
      " Overall, our second quarter revenue grew 8% from the first quarter of 2022 and 38% from the second quarter of 2021. Adjusted EBITDA of $18.7 million decreased $1.8 million sequentially and was negatively impacted by $2 million of charges, which included $1.3 million unfavorable impact because of the aforementioned European supplier declaring force majeure as a result of the Russia/Ukraine conflict and the second quarter unrealized mark-to-market losses on investments of $700,000, net of gains on investments.\n",
      " Excluding the impact from the supplier force majeure and mark-to-market losses, EBITDA for the second quarter of 2022 would have been $20.7 million. The European supplier has since resumed supplying to TETRA, but currently still at reduced volumes from normal levels. Cash from operating activities was $17.9 million, a strong improvement of $11.9 million sequentially. Our second quarter cash flow far exceeds our pre-pandemic first quarter 2020 results.\n",
      " Completion Fluids &amp; Products second quarter revenue increased 2% sequentially and from the first quarter -- from the first quarter of 2022 as the seasonal increase from our Northern Europe Industrial Chemicals business, albeit lower than normal due to the Russia/Ukraine complex, was partially offset by lower activity in the Gulf of Mexico in international markets, as we previously reported that some fluid sales from these markets were pulled forward into the first quarter.\n",
      " Adjusted EBITDA decreased $4 million sequentially and adjusted EBITDA margins were 23.7% compared to 26.1% in the first quarter. The Russia/Ukraine conflict impacted our supplier, and as a result, we saw lower production levels that resulted in underabsorption of our Kokkola, Finland plant. While the supplier has since increased production to a level above that of the second quarter, it is still not back to 100% of our normal levels.\n",
      " Also, in the second quarter, our TETRA Advanced Displacement Systems, or TADS, was awarded the 2001 E&amp;P Special Meritorious Award for Engineering Innovation for drilling fluids, stimulation category. This technology is used for a highly efficient transition from drilling muds to clear brine fluids -- clear brine completion fluids in the walk completion phase.\n",
      "\n"
     ]
    }
   ],
   "source": [
    "print(ps.extract_parts_from_presentation(events_russia[4]['presentation'], ['russia', 'ukraine']))"
   ]
  },
  {
   "cell_type": "code",
   "execution_count": 70,
   "metadata": {},
   "outputs": [
    {
     "name": "stdout",
     "output_type": "stream",
     "text": [
      "Sure. Yes, I appreciate that. Obviously, it's a pretty fluid situation. And the Ukraine/Russia conflict came up fairly suddenly and caught us all a little bit off guard as you can imagine. We're fortunate that, yes, there are other supplies. This is a commodity. But as you're probably aware, global commodities, even in today's environment, are pretty tight. So it's just not an immediate replacement.\n",
      " We were encouraged with the production volumes that they are now projected for the third quarter, but it's still not to the full levels that we need. We think ultimately, this will get solved, but we don't have perfect visibility right now into exactly when we can anticipate that.\n",
      "\n"
     ]
    }
   ],
   "source": [
    "print(ps.extract_parts_from_qa(events_russia[4]['qa'], ['russia', 'ukraine']))"
   ]
  },
  {
   "cell_type": "code",
   "execution_count": 10,
   "metadata": {},
   "outputs": [],
   "source": [
    "# import dill as pickle\n",
    "# pickle.dump(events_russia, open('../output/pickled/events_russia.pkl', 'wb'))\n",
    "# pickle.dump(events, open('../output/pickled/events.pkl', 'wb'))"
   ]
  },
  {
   "attachments": {},
   "cell_type": "markdown",
   "metadata": {},
   "source": [
    "Create a DataFrame with the following columns and save it as a csv file:"
   ]
  },
  {
   "cell_type": "code",
   "execution_count": 7,
   "metadata": {},
   "outputs": [],
   "source": [
    "df = pd.DataFrame({'file': file,\n",
    "                   'year_upload': year_upload,\n",
    "                   'company': company,\n",
    "                   'ticker':ticker,\n",
    "                   'ticker_new': ticker_new,\n",
    "                   'date': dates,\n",
    "                   'dates_num' : numeric_values,\n",
    "                   'russia': russia_and_sanction,\n",
    "                   'russia_count': russia_count,\n",
    "                   'sanction_count': sanction_count,\n",
    "                   'election': election})"
   ]
  },
  {
   "cell_type": "code",
   "execution_count": 6,
   "metadata": {},
   "outputs": [],
   "source": [
    "docs = [event['presentation_collapsed'] + \"\\n\" + event['qa_collapsed'] for event in events_russia]"
   ]
  },
  {
   "cell_type": "code",
   "execution_count": 7,
   "metadata": {},
   "outputs": [
    {
     "name": "stderr",
     "output_type": "stream",
     "text": [
      "OMP: Info #276: omp_set_nested routine deprecated, please use omp_set_max_active_levels instead.\n"
     ]
    },
    {
     "ename": "",
     "evalue": "",
     "output_type": "error",
     "traceback": [
      "\u001b[1;31mCannot execute code, session has been disposed. Please try restarting the Kernel."
     ]
    },
    {
     "ename": "",
     "evalue": "",
     "output_type": "error",
     "traceback": [
      "\u001b[1;31mThe Kernel crashed while executing code in the the current cell or a previous cell. Please review the code in the cell(s) to identify a possible cause of the failure. Click <a href='https://aka.ms/vscodeJupyterKernelCrash'>here</a> for more info. View Jupyter <a href='command:jupyter.viewOutput'>log</a> for further details."
     ]
    }
   ],
   "source": [
    "topics, probs = helper.bert_basic(docs[0:500])"
   ]
  },
  {
   "cell_type": "code",
   "execution_count": null,
   "metadata": {},
   "outputs": [],
   "source": []
  },
  {
   "cell_type": "code",
   "execution_count": 6,
   "metadata": {},
   "outputs": [],
   "source": [
    "df.to_csv('../output/data/overview.csv', index=False)"
   ]
  },
  {
   "cell_type": "code",
   "execution_count": 7,
   "metadata": {},
   "outputs": [],
   "source": [
    "#  df[['company', 'ticker', 'ticker_new', 'date', 'russia', 'russia_count', 'sanction_count']].to_csv('../output/data/overview_jakob.csv', index=False)\n",
    "# with open('../output/data/overview_jakob.csv', 'rb') as f_in:\n",
    "#     with gzip.open('../output/data/overview_jakob.csv.gz', 'wb') as f_out:\n",
    "#         shutil.copyfileobj(f_in, f_out)"
   ]
  },
  {
   "attachments": {},
   "cell_type": "markdown",
   "metadata": {},
   "source": [
    "Create 15 samples for each category: russia and election and save it in the\n",
    "corresponding directory."
   ]
  },
  {
   "cell_type": "code",
   "execution_count": 8,
   "metadata": {},
   "outputs": [],
   "source": [
    "if len(df[df['russia'] == 'russia & sanctions']) >0:sample_files_russia = df[df['russia'] == 'russia'].sample(8)['file'].tolist() + df[df['russia'] == 'russia & sanctions'].sample(7)['file'].tolist()\n",
    "if len(df[df['election'] == 'presidential election']) >0: sample_files_election = df[df['election'] == 'presidential election'].sample(15)['file'].tolist()"
   ]
  },
  {
   "cell_type": "code",
   "execution_count": 9,
   "metadata": {},
   "outputs": [],
   "source": [
    "# delete all files in folder\n",
    "if 'sample_files_russia' in locals() or 'sample_files_russia' in globals():\n",
    "    folder = '../output/sample transcripts/russia/'\n",
    "    files = os.listdir(folder)\n",
    "    for f in files:\n",
    "        os.remove(folder + f)\n",
    "    # copy sample files to folder\n",
    "    for file in sample_files_russia:\n",
    "        shutil.copy(file, folder)"
   ]
  },
  {
   "cell_type": "code",
   "execution_count": 10,
   "metadata": {},
   "outputs": [],
   "source": [
    "# delete all files in folder\n",
    "if 'sample_files_election' in locals() or sample_files_election in globals():\n",
    "    folder = '../output/sample transcripts/election/'\n",
    "    files = os.listdir(folder)\n",
    "    for f in files:\n",
    "        os.remove(folder + f)\n",
    "    # copy sample files to folder\n",
    "    for file in sample_files_election:\n",
    "        shutil.copy(file, folder)"
   ]
  },
  {
   "attachments": {},
   "cell_type": "markdown",
   "metadata": {},
   "source": [
    "## Figures"
   ]
  },
  {
   "attachments": {},
   "cell_type": "markdown",
   "metadata": {},
   "source": [
    "Count the number of occasions where the word \"russia\" (and \"sanction\") appears in the earnings call."
   ]
  },
  {
   "cell_type": "code",
   "execution_count": 11,
   "metadata": {},
   "outputs": [
    {
     "data": {
      "image/png": "[encoded data removed]",
      "text/plain": [
       "<Figure size 640x480 with 1 Axes>"
      ]
     },
     "metadata": {},
     "output_type": "display_data"
    }
   ],
   "source": [
    "sns.histplot(df[df['russia_count']>=1], x='russia_count', hue=\"russia\", bins=50, stat=\"percent\", common_norm=True, multiple=\"stack\")\n",
    "plt.xlabel('Count of corresponding terms in the earnings calls')\n",
    "plt.ylabel('Percent')\n",
    "plt.title('Term count')\n",
    "plt.show()"
   ]
  },
  {
   "attachments": {},
   "cell_type": "markdown",
   "metadata": {},
   "source": [
    "Average mentions of \"russia\" per earnings call."
   ]
  },
  {
   "cell_type": "code",
   "execution_count": 12,
   "metadata": {},
   "outputs": [
    {
     "data": {
      "text/plain": [
       "0.7839888358197221"
      ]
     },
     "execution_count": 12,
     "metadata": {},
     "output_type": "execute_result"
    }
   ],
   "source": [
    "np.array(russia_count).mean()"
   ]
  },
  {
   "attachments": {},
   "cell_type": "markdown",
   "metadata": {},
   "source": [
    "Average mentions of \"russia\" per earnings call if \"russia\" is mentioned at\n",
    "least once."
   ]
  },
  {
   "cell_type": "code",
   "execution_count": 13,
   "metadata": {},
   "outputs": [
    {
     "data": {
      "text/plain": [
       "4.389940567906669"
      ]
     },
     "execution_count": 13,
     "metadata": {},
     "output_type": "execute_result"
    }
   ],
   "source": [
    "np.array([el for el in russia_count if el > 0]).mean()"
   ]
  },
  {
   "attachments": {},
   "cell_type": "markdown",
   "metadata": {},
   "source": [
    "Average mentions of \"sanction\" per earnings call."
   ]
  },
  {
   "cell_type": "code",
   "execution_count": 14,
   "metadata": {},
   "outputs": [
    {
     "data": {
      "text/plain": [
       "0.11202293006670876"
      ]
     },
     "execution_count": 14,
     "metadata": {},
     "output_type": "execute_result"
    }
   ],
   "source": [
    "np.array([event['body_orig'].lower().count('sanction') for event in events]).mean()"
   ]
  },
  {
   "attachments": {},
   "cell_type": "markdown",
   "metadata": {},
   "source": [
    "Event distribution over time highlighting the different categories."
   ]
  },
  {
   "cell_type": "code",
   "execution_count": 15,
   "metadata": {},
   "outputs": [
    {
     "data": {
      "image/png": "[encoded data removed]",
      "text/plain": [
       "<Figure size 669.5x500 with 1 Axes>"
      ]
     },
     "metadata": {},
     "output_type": "display_data"
    }
   ],
   "source": [
    "# plt.hist(numeric_values, bins=50)\n",
    "# sns.histplot(numeric_values, bins=50)\n",
    "sns.displot(df, x=\"dates_num\", hue=\"russia\", bins=50, stat=\"percent\", common_norm=True, multiple=\"stack\")\n",
    "# plt.plot_date(dates, numeric_values, '-o')  # '-o' adds markers on the data points\n",
    "plt.xlabel('Dates')\n",
    "plt.ylabel('Probability')\n",
    "plt.title('Event Distribution')\n",
    "\n",
    "# Add x-axis ticks and labels\n",
    "plt.gca().xaxis.set_major_locator(mdates.AutoDateLocator())\n",
    "plt.gca().xaxis.set_major_formatter(mdates.DateFormatter('%Y-%m-%d'))  # Customize date format as needed\n",
    "\n",
    "plt.gcf().autofmt_xdate()  # Adjusts the date labels rotation for better visibility\n",
    "\n",
    "plt.show()"
   ]
  },
  {
   "attachments": {},
   "cell_type": "markdown",
   "metadata": {},
   "source": [
    "Event proportion over time highlighting the different categories."
   ]
  },
  {
   "cell_type": "code",
   "execution_count": 16,
   "metadata": {},
   "outputs": [
    {
     "data": {
      "image/png": "[encoded data removed]",
      "text/plain": [
       "<Figure size 669.5x500 with 1 Axes>"
      ]
     },
     "metadata": {},
     "output_type": "display_data"
    }
   ],
   "source": [
    "# plt.hist(numeric_values, bins=50)\n",
    "# sns.histplot(numeric_values, bins=50)\n",
    "sns.displot(df, x=\"dates_num\", hue=\"russia\", bins=50, stat=\"proportion\", common_norm=True, multiple=\"fill\")\n",
    "# plt.plot_date(dates, numeric_values, '-o')  # '-o' adds markers on the data points\n",
    "plt.xlabel('Dates')\n",
    "plt.ylabel('Propotion')\n",
    "plt.title('Event Propotion')\n",
    "\n",
    "# Add x-axis ticks and labels\n",
    "plt.gca().xaxis.set_major_locator(mdates.AutoDateLocator())\n",
    "plt.gca().xaxis.set_major_formatter(mdates.DateFormatter('%Y-%m-%d'))  # Customize date format as needed\n",
    "\n",
    "plt.gcf().autofmt_xdate()  # Adjusts the date labels rotation for better visibility\n",
    "\n",
    "plt.show()"
   ]
  },
  {
   "attachments": {},
   "cell_type": "markdown",
   "metadata": {},
   "source": [
    "Polars"
   ]
  },
  {
   "cell_type": "code",
   "execution_count": 5,
   "metadata": {},
   "outputs": [],
   "source": [
    "keys_to_keep = ['file', 'body_orig']"
   ]
  },
  {
   "cell_type": "code",
   "execution_count": 8,
   "metadata": {},
   "outputs": [],
   "source": [
    "events_new_trimmed = [{key: event[key] for key in keys_to_keep} for event in events_new]"
   ]
  },
  {
   "cell_type": "code",
   "execution_count": 9,
   "metadata": {},
   "outputs": [],
   "source": [
    "eventsDF = pl.from_dicts(events_new_trimmed)"
   ]
  },
  {
   "cell_type": "code",
   "execution_count": 28,
   "metadata": {},
   "outputs": [],
   "source": [
    "eventsDF = eventsDF.with_columns(pl.col(\"body_orig\").str.count_match('(E|e)lections').alias(\"elections_count\"))\n",
    "eventsDF = eventsDF.with_columns(pl.col(\"body_orig\").str.count_match('(S|s)anctions').alias(\"sanctions_count\"))\n",
    "eventsDF = eventsDF.with_columns(pl.col(\"body_orig\").str.count_match('(R|r)ussia').alias(\"russia_count\"))"
   ]
  },
  {
   "cell_type": "code",
   "execution_count": 37,
   "metadata": {},
   "outputs": [
    {
     "data": {
      "text/plain": [
       "1535"
      ]
     },
     "execution_count": 37,
     "metadata": {},
     "output_type": "execute_result"
    }
   ],
   "source": [
    "len(eventsDF.filter(pl.col(\"elections_count\") > 0))"
   ]
  },
  {
   "cell_type": "code",
   "execution_count": 36,
   "metadata": {},
   "outputs": [
    {
     "data": {
      "text/plain": [
       "1533"
      ]
     },
     "execution_count": 36,
     "metadata": {},
     "output_type": "execute_result"
    }
   ],
   "source": [
    "len(eventsDF.filter((pl.col(\"sanctions_count\") > 0) & (pl.col(\"russia_count\") > 0)))"
   ]
  },
  {
   "cell_type": "code",
   "execution_count": 7,
   "metadata": {},
   "outputs": [],
   "source": [
    "file = \"../data/Transcripts/2022/15232031_T.xml\""
   ]
  },
  {
   "cell_type": "code",
   "execution_count": 14,
   "metadata": {},
   "outputs": [],
   "source": [
    "for _, elem in etree.iterparse(file):\n",
    "            tag = elem.tag\n",
    "            if tag is not None:\n",
    "                text = elem.text\n",
    "                if tag == \"Body\":\n",
    "                    break"
   ]
  },
  {
   "cell_type": "code",
   "execution_count": 54,
   "metadata": {},
   "outputs": [
    {
     "name": "stdout",
     "output_type": "stream",
     "text": [
      "Headline\n",
      "Body\n",
      "EventStory\n",
      "eventTitle\n",
      "city\n",
      "companyName\n",
      "companyTicker\n",
      "startDate\n",
      "Event\n"
     ]
    }
   ],
   "source": [
    "for event, elem in etree.iterparse(file):\n",
    "    if elem is not None:\n",
    "        print(elem.tag)"
   ]
  }
 ],
 "metadata": {
  "kernelspec": {
   "display_name": "earningscalls",
   "language": "python",
   "name": "python3"
  },
  "language_info": {
   "codemirror_mode": {
    "name": "ipython",
    "version": 3
   },
   "file_extension": ".py",
   "mimetype": "text/x-python",
   "name": "python",
   "nbconvert_exporter": "python",
   "pygments_lexer": "ipython3",
   "version": "3.11.4"
  },
  "orig_nbformat": 4
 },
 "nbformat": 4,
 "nbformat_minor": 2
}
