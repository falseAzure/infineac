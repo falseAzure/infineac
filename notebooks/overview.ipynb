{
 "cells": [
  {
   "cell_type": "code",
   "execution_count": 16,
   "metadata": {},
   "outputs": [
    {
     "name": "stdout",
     "output_type": "stream",
     "text": [
      "The autoreload extension is already loaded. To reload it, use:\n",
      "  %reload_ext autoreload\n"
     ]
    }
   ],
   "source": [
    "import lxml\n",
    "from datetime import datetime\n",
    "import os\n",
    "import glob\n",
    "from pathlib import Path\n",
    "import polars as pl\n",
    "import re\n",
    "import sys\n",
    "from lxml import etree, objectify\n",
    "sys.path.append('../infineac/')\n",
    "import file_loader\n",
    "\n",
    "%load_ext autoreload\n",
    "%autoreload 2\n",
    "\n",
    "PATH_DIR = \"../data/2022/\""
   ]
  },
  {
   "cell_type": "code",
   "execution_count": 17,
   "metadata": {},
   "outputs": [],
   "source": [
    "files = list(Path(PATH_DIR).rglob(\"*.xml\"))"
   ]
  },
  {
   "cell_type": "code",
   "execution_count": 67,
   "metadata": {},
   "outputs": [
    {
     "name": "stdout",
     "output_type": "stream",
     "text": [
      "Warning: No speakers present at qa\n",
      "Warning: No speakers present at qa\n",
      "Warning: No speakers present at qa\n",
      "Warning: No speakers present at qa\n",
      "Warning: No speakers present at qa\n",
      "Warning: No speakers present at qa\n",
      "Warning: No speakers present at qa\n",
      "Warning: No speakers present at qa\n",
      "Warning: No speakers present at qa\n",
      "Warning: No speakers present at qa\n",
      "Warning: No speakers present at qa\n",
      "Warning: No speakers present at qa\n",
      "Warning: No speakers present at qa\n",
      "Warning: No speakers present at qa\n",
      "Warning: No speakers present at qa\n",
      "Warning: No speakers present at qa\n",
      "Warning: No speakers present at qa\n",
      "Warning: No speakers present at qa\n",
      "Warning: No speakers present at presentation\n",
      "Warning: No speakers present at qa\n",
      "Warning: No speakers present at qa\n",
      "Warning: No speakers present at qa\n",
      "Warning: No speakers present at qa\n",
      "Warning: No speakers present at qa\n",
      "Warning: No speakers present at presentation\n",
      "Warning: No speakers present at qa\n",
      "Warning: No speakers present at qa\n",
      "Warning: No speakers present at qa\n",
      "Warning: No speakers present at qa\n",
      "Warning: No speakers present at qa\n",
      "Warning: No speakers present at qa\n",
      "Warning: No speakers present at qa\n",
      "Warning: No speakers present at qa\n",
      "Warning: No speakers present at qa\n",
      "Warning: No speakers present at qa\n",
      "Warning: No speakers present at qa\n",
      "Warning: No speakers present at qa\n",
      "Warning: No speakers present at qa\n",
      "Warning: No speakers present at qa\n",
      "Warning: No speakers present at qa\n",
      "Warning: No speakers present at qa\n",
      "Warning: No speakers present at qa\n",
      "Warning: No speakers present at qa\n",
      "Warning: No speakers present at qa\n",
      "Warning: No speakers present at qa\n",
      "Warning: No speakers present at qa\n",
      "Warning: No speakers present at qa\n",
      "Warning: No speakers present at qa\n",
      "Warning: No speakers present at qa\n",
      "Warning: No speakers present at qa\n",
      "Warning: No speakers present at qa\n",
      "Warning: No speakers present at qa\n",
      "Warning: No speakers present at qa\n",
      "Warning: No speakers present at qa\n",
      "Warning: No speakers present at qa\n",
      "Warning: No speakers present at qa\n",
      "Warning: No speakers present at qa\n",
      "Warning: No speakers present at qa\n",
      "Warning: No speakers present at qa\n",
      "Warning: No speakers present at qa\n",
      "Warning: No speakers present at qa\n"
     ]
    }
   ],
   "source": [
    "events = file_loader.load_files_xml(files)\n",
    "eventsDF = pl.from_dicts(events)"
   ]
  },
  {
   "cell_type": "code",
   "execution_count": 69,
   "metadata": {},
   "outputs": [],
   "source": [
    "eventsDF.with_columns(pl.col(\"body_orig\").str.count_match('russia').alias(\"russia\"))"
   ]
  },
  {
   "cell_type": "code",
   "execution_count": 55,
   "metadata": {},
   "outputs": [],
   "source": [
    "presentation = eventsDF.filter(pl.col(\"file\")==\"577970_T\").select(\"qa\").item()"
   ]
  },
  {
   "cell_type": "code",
   "execution_count": 63,
   "metadata": {},
   "outputs": [
    {
     "data": {
      "text/html": [
       "<div><style>\n",
       ".dataframe > thead > tr > th,\n",
       ".dataframe > tbody > tr > td {\n",
       "  text-align: right;\n",
       "}\n",
       "</style>\n",
       "<small>shape: (62,)</small><table border=\"1\" class=\"dataframe\"><thead><tr><th></th></tr><tr><td>struct[4]</td></tr></thead><tbody><tr><td>{1,&quot;Operator&quot;,&quot;operator&quot;,&quot;Thank you, sir. The floor is now open for questions. If you do have a question or a comment, please press the numbers one followed by four on your touch-tone phone. If at any point your question has been answered, you may remove yourself from the queue by pressing the pound key. We do ask that while you pose your question, that you please pick up your handsets to provide optimum sound quality.\r\n",
       " Once again, ladies and gentlemen, that is one then four on your touch-tone phone at this time. Please hold while we poll for questions.\r\n",
       " Thank you. Our first question is coming from Gary Townsend of Friedman Billings. Please state your question or comment.&quot;}</td></tr><tr><td>{2,&quot;GARY TOWNSEND,  FRIEDMAN BILLINGS RAMSEY&quot;,&quot;conference&quot;,&quot;Kirk, good morning. How are you?&quot;}</td></tr><tr><td>{3,&quot;KIRK WALTERS,  CHITTENDEN CORPORATION - CHIEF FINANCIAL OFFICER&quot;,&quot;cooperation&quot;,&quot;I&#x27;m doing fine. How are you doing, Gary?&quot;}</td></tr><tr><td>{4,&quot;GARY TOWNSEND,  FRIEDMAN BILLINGS RAMSEY&quot;,&quot;conference&quot;,&quot;Doing fine, too. Thank you. Could you discuss just the economic environment in your markets and competitive environment, as well, please?&quot;}</td></tr><tr><td>{5,&quot;KIRK WALTERS,  CHITTENDEN CORPORATION - CHIEF FINANCIAL OFFICER&quot;,&quot;cooperation&quot;,&quot;Sure. From an economic standpoint, as you know, the primary markets that we&#x27;re in -- in Vermont, Massachusetts, New Hampshire and Maine -- have tended to be fairly steady markets, not markets that we&#x27;ve seen, either boom or bust type of activity.\r\n",
       " And I think we continue to see in our markets a, you know, a decent, steady activity in terms of our commercial businesses, albeit you certainly are starting to feel a little bit of the slowdown that has impacted other parts of the nation on a more dramatic basis throughout the year.\r\n",
       " So I would say, from an economic standpoint, we are continuing to see a little slowdown, but all-in-all the markets have remained pretty steady.\r\n",
       " And in particular on the residential housing sector, we tend to be in markets that have not had much in terms of inventory of the lower income housing. So those markets have probably remained stronger than some other parts in the country.\r\n",
       " From a competitive standpoint, it continues, certainly, to be a very competitive environment out there. We, of course, during the year did have some consolidations and such that occurred, and, you know, in some of our markets, which we overall benefited from.\r\n",
       " But I think, in terms of looking at our overall primary competitors, which, you know, very market-to-market and certainly in size of institution, the banking industry is still being (ph) very active out there and certainly still very competitive, particularly on the commercial lending side.&quot;}</td></tr><tr><td>{6,&quot;GARY TOWNSEND,  FRIEDMAN BILLINGS RAMSEY&quot;,&quot;conference&quot;,&quot;It strikes me you&#x27;re kind of levered to an economic recovery. How, if -- do you have a comment? Or...&quot;}</td></tr><tr><td>{7,&quot;KIRK WALTERS,  CHITTENDEN CORPORATION - CHIEF FINANCIAL OFFICER&quot;,&quot;cooperation&quot;,&quot;You cut out some there on me, Gary.&quot;}</td></tr><tr><td>{8,&quot;GARY TOWNSEND,  FRIEDMAN BILLINGS RAMSEY&quot;,&quot;conference&quot;,&quot;Well, I guess I&#x27;m just seeing -- you have -- let&#x27;s see. Are you -- how well positioned are you? It seems that you&#x27;ve positioned yourselves for an economic recovery. As that recovery begins to come through, should tend to work very well for you in terms of accelerated earnings growth. Would you agree?&quot;}</td></tr><tr><td>{9,&quot;KIRK WALTERS,  CHITTENDEN CORPORATION - CHIEF FINANCIAL OFFICER&quot;,&quot;cooperation&quot;,&quot;I would agree that we&#x27;re, overall we think we&#x27;re pretty well positioned for an economic recovery, and also riding this one out if it ends up, be a while, you know, a while in coming in terms of the recovery.\r\n",
       " Certainly, if you look at our loan-to-deposit ratio, which is around 78 percent, we do have excess core deposit funding that we would love to be in a spot of putting more and more of that into the loan part of the equation instead of our investment portfolio.\r\n",
       " And I think we have tried to be pretty thoughtful and cautious about the reserving side and also in terms of how we are underwriting loans. So arguably, you know, if we do see a recovery kick in, I think certainly we have capacity and are pretty well positioned for that.&quot;}</td></tr><tr><td>{10,&quot;GARY TOWNSEND,  FRIEDMAN BILLINGS RAMSEY&quot;,&quot;conference&quot;,&quot;I thank you very much and...&quot;}</td></tr><tr><td>{11,&quot;KIRK WALTERS,  CHITTENDEN CORPORATION - CHIEF FINANCIAL OFFICER&quot;,&quot;cooperation&quot;,&quot;You bet.&quot;}</td></tr><tr><td>{12,&quot;GARY TOWNSEND,  FRIEDMAN BILLINGS RAMSEY&quot;,&quot;conference&quot;,&quot;... congratulations on surviving such a difficult year.&quot;}</td></tr><tr><td>&hellip;</td></tr><tr><td>{51,&quot;KIRK WALTERS,  CHITTENDEN CORPORATION - CHIEF FINANCIAL OFFICER&quot;,&quot;cooperation&quot;,&quot;We really wouldn&#x27;t have any comment at this point. The dividends are normally considered in the March-April time frame when the board reviews the overall, where we&#x27;re at in terms of dividends, earnings, dividend pay-out ratios and (ph) the overall yield. So, as of this point, I&#x27;m not in a position to comment on, you know, what could occur with the dividend.&quot;}</td></tr><tr><td>{52,&quot;MEL CUTLER,  CUTLER &amp;amp; MOYNIHAN&quot;,&quot;conference&quot;,&quot;And one other question, if I may. I was...&quot;}</td></tr><tr><td>{53,&quot;KIRK WALTERS,  CHITTENDEN CORPORATION - CHIEF FINANCIAL OFFICER&quot;,&quot;cooperation&quot;,&quot;Certainly.&quot;}</td></tr><tr><td>{54,&quot;MEL CUTLER,  CUTLER &amp;amp; MOYNIHAN&quot;,&quot;conference&quot;,&quot;... distracted when you mentioned the -- I think you mentioned First Call or what the forecast was for 2002, and you made a comment on it, and I missed that. I just wondered if you&#x27;d be kind enough to repeat it...&quot;}</td></tr><tr><td>{55,&quot;KIRK WALTERS,  CHITTENDEN CORPORATION - CHIEF FINANCIAL OFFICER&quot;,&quot;cooperation&quot;,&quot;Oh, certainly, it&#x27;s at...&quot;}</td></tr><tr><td>{56,&quot;MEL CUTLER,  CUTLER &amp;amp; MOYNIHAN&quot;,&quot;conference&quot;,&quot;... as far as the earnings.&quot;}</td></tr><tr><td>{57,&quot;KIRK WALTERS,  CHITTENDEN CORPORATION - CHIEF FINANCIAL OFFICER&quot;,&quot;cooperation&quot;,&quot;Certainly. It&#x27;s $1.91 on a new GAAP basis.&quot;}</td></tr><tr><td>{58,&quot;MEL CUTLER,  CUTLER &amp;amp; MOYNIHAN&quot;,&quot;conference&quot;,&quot;OK. Thank you very much.&quot;}</td></tr><tr><td>{59,&quot;KIRK WALTERS,  CHITTENDEN CORPORATION - CHIEF FINANCIAL OFFICER&quot;,&quot;cooperation&quot;,&quot;You bet.&quot;}</td></tr><tr><td>{60,&quot;Operator&quot;,&quot;operator&quot;,&quot;Mr. Walters, there are no further questions. I&#x27;ll turn the floor back over to you for any closing remarks.&quot;}</td></tr><tr><td>{61,&quot;KIRK WALTERS,  CHITTENDEN CORPORATION - CHIEF FINANCIAL OFFICER&quot;,&quot;cooperation&quot;,&quot;Perfect. Well, thank you very much for everybody participating today, and we&#x27;ll look forward to talking to you next quarter. Thank you.&quot;}</td></tr><tr><td>{62,&quot;Operator&quot;,&quot;operator&quot;,&quot;Thank you. This does conclude today&#x27;s teleconference. You may disconnect your lines at this time, and have a lovely day.&quot;}</td></tr></tbody></table></div>"
      ],
      "text/plain": [
       "shape: (62,)\n",
       "Series: '' [struct[4]]\n",
       "[\n",
       "\t{1,\"Operator\",\"operator\",\"Thank you, sir. The floor is now open for questions. If you do have a question or a comment, please press the numbers one followed by four on your touch-tone phone. If at any point your question has been answered, you may remove yourself from the queue by pressing the pound key. We do ask that while you pose your question, that you please pick up your handsets to provide optimum sound quality.\n",
       " Once again, ladies and gentlemen, that is one then four on your touch-tone phone at this time. Please hold while we poll for questions.\n",
       " Thank you. Our first question is coming from Gary Townsend of Friedman Billings. Please state your question or comment.\"}\n",
       "\t{2,\"GARY TOWNSEND,  FRIEDMAN BILLINGS RAMSEY\",\"conference\",\"Kirk, good morning. How are you?\"}\n",
       "\t{3,\"KIRK WALTERS,  CHITTENDEN CORPORATION - CHIEF FINANCIAL OFFICER\",\"cooperation\",\"I'm doing fine. How are you doing, Gary?\"}\n",
       "\t{4,\"GARY TOWNSEND,  FRIEDMAN BILLINGS RAMSEY\",\"conference\",\"Doing fine, too. Thank you. Could you discuss just the economic environment in your markets and competitive environment, as well, please?\"}\n",
       "\t{5,\"KIRK WALTERS,  CHITTENDEN CORPORATION - CHIEF FINANCIAL OFFICER\",\"cooperation\",\"Sure. From an economic standpoint, as you know, the primary markets that we're in -- in Vermont, Massachusetts, New Hampshire and Maine -- have tended to be fairly steady markets, not markets that we've seen, either boom or bust type of activity.\n",
       " And I think we continue to see in our markets a, you know, a decent, steady activity in terms of our commercial businesses, albeit you certainly are starting to feel a little bit of the slowdown that has impacted other parts of the nation on a more dramatic basis throughout the year.\n",
       " So I would say, from an economic standpoint, we are continuing to see a little slowdown, but all-in-all the markets have remained pretty steady.\n",
       " And in particular on the residential housing sector, we tend to be in markets that have not had much in terms of inventory of the lower income housing. So those markets have probably remained stronger than some other parts in the country.\n",
       " From a competitive standpoint, it continues, certainly, to be a very competitive environment out there. We, of course, during the year did have some consolidations and such that occurred, and, you know, in some of our markets, which we overall benefited from.\n",
       " But I think, in terms of looking at our overall primary competitors, which, you know, very market-to-market and certainly in size of institution, the banking industry is still being (ph) very active out there and certainly still very competitive, particularly on the commercial lending side.\"}\n",
       "\t{6,\"GARY TOWNSEND,  FRIEDMAN BILLINGS RAMSEY\",\"conference\",\"It strikes me you're kind of levered to an economic recovery. How, if -- do you have a comment? Or...\"}\n",
       "\t{7,\"KIRK WALTERS,  CHITTENDEN CORPORATION - CHIEF FINANCIAL OFFICER\",\"cooperation\",\"You cut out some there on me, Gary.\"}\n",
       "\t{8,\"GARY TOWNSEND,  FRIEDMAN BILLINGS RAMSEY\",\"conference\",\"Well, I guess I'm just seeing -- you have -- let's see. Are you -- how well positioned are you? It seems that you've positioned yourselves for an economic recovery. As that recovery begins to come through, should tend to work very well for you in terms of accelerated earnings growth. Would you agree?\"}\n",
       "\t{9,\"KIRK WALTERS,  CHITTENDEN CORPORATION - CHIEF FINANCIAL OFFICER\",\"cooperation\",\"I would agree that we're, overall we think we're pretty well positioned for an economic recovery, and also riding this one out if it ends up, be a while, you know, a while in coming in terms of the recovery.\n",
       " Certainly, if you look at our loan-to-deposit ratio, which is around 78 percent, we do have excess core deposit funding that we would love to be in a spot of putting more and more of that into the loan part of the equation instead of our investment portfolio.\n",
       " And I think we have tried to be pretty thoughtful and cautious about the reserving side and also in terms of how we are underwriting loans. So arguably, you know, if we do see a recovery kick in, I think certainly we have capacity and are pretty well positioned for that.\"}\n",
       "\t{10,\"GARY TOWNSEND,  FRIEDMAN BILLINGS RAMSEY\",\"conference\",\"I thank you very much and...\"}\n",
       "\t{11,\"KIRK WALTERS,  CHITTENDEN CORPORATION - CHIEF FINANCIAL OFFICER\",\"cooperation\",\"You bet.\"}\n",
       "\t{12,\"GARY TOWNSEND,  FRIEDMAN BILLINGS RAMSEY\",\"conference\",\"... congratulations on surviving such a difficult year.\"}\n",
       "\t…\n",
       "\t{50,\"MEL CUTLER,  CUTLER &amp; MOYNIHAN\",\"conference\",\"My question has to do with dividend policy. In the past you've been increasing the dividend approximately 10 -- cash dividend -- approximately 10 percent a year. I wonder if you could make any comment on that?\"}\n",
       "\t{51,\"KIRK WALTERS,  CHITTENDEN CORPORATION - CHIEF FINANCIAL OFFICER\",\"cooperation\",\"We really wouldn't have any comment at this point. The dividends are normally considered in the March-April time frame when the board reviews the overall, where we're at in terms of dividends, earnings, dividend pay-out ratios and (ph) the overall yield. So, as of this point, I'm not in a position to comment on, you know, what could occur with the dividend.\"}\n",
       "\t{52,\"MEL CUTLER,  CUTLER &amp; MOYNIHAN\",\"conference\",\"And one other question, if I may. I was...\"}\n",
       "\t{53,\"KIRK WALTERS,  CHITTENDEN CORPORATION - CHIEF FINANCIAL OFFICER\",\"cooperation\",\"Certainly.\"}\n",
       "\t{54,\"MEL CUTLER,  CUTLER &amp; MOYNIHAN\",\"conference\",\"... distracted when you mentioned the -- I think you mentioned First Call or what the forecast was for 2002, and you made a comment on it, and I missed that. I just wondered if you'd be kind enough to repeat it...\"}\n",
       "\t{55,\"KIRK WALTERS,  CHITTENDEN CORPORATION - CHIEF FINANCIAL OFFICER\",\"cooperation\",\"Oh, certainly, it's at...\"}\n",
       "\t{56,\"MEL CUTLER,  CUTLER &amp; MOYNIHAN\",\"conference\",\"... as far as the earnings.\"}\n",
       "\t{57,\"KIRK WALTERS,  CHITTENDEN CORPORATION - CHIEF FINANCIAL OFFICER\",\"cooperation\",\"Certainly. It's $1.91 on a new GAAP basis.\"}\n",
       "\t{58,\"MEL CUTLER,  CUTLER &amp; MOYNIHAN\",\"conference\",\"OK. Thank you very much.\"}\n",
       "\t{59,\"KIRK WALTERS,  CHITTENDEN CORPORATION - CHIEF FINANCIAL OFFICER\",\"cooperation\",\"You bet.\"}\n",
       "\t{60,\"Operator\",\"operator\",\"Mr. Walters, there are no further questions. I'll turn the floor back over to you for any closing remarks.\"}\n",
       "\t{61,\"KIRK WALTERS,  CHITTENDEN CORPORATION - CHIEF FINANCIAL OFFICER\",\"cooperation\",\"Perfect. Well, thank you very much for everybody participating today, and we'll look forward to talking to you next quarter. Thank you.\"}\n",
       "\t{62,\"Operator\",\"operator\",\"Thank you. This does conclude today's teleconference. You may disconnect your lines at this time, and have a lovely day.\"}\n",
       "]"
      ]
     },
     "execution_count": 63,
     "metadata": {},
     "output_type": "execute_result"
    }
   ],
   "source": [
    "presentation"
   ]
  },
  {
   "cell_type": "code",
   "execution_count": 54,
   "metadata": {},
   "outputs": [
    {
     "name": "stdout",
     "output_type": "stream",
     "text": [
      "Headline\n",
      "Body\n",
      "EventStory\n",
      "eventTitle\n",
      "city\n",
      "companyName\n",
      "companyTicker\n",
      "startDate\n",
      "Event\n"
     ]
    }
   ],
   "source": [
    "for event, elem in etree.iterparse(file):\n",
    "    if elem is not None:\n",
    "        print(elem.tag)"
   ]
  },
  {
   "cell_type": "code",
   "execution_count": 10,
   "metadata": {},
   "outputs": [],
   "source": [
    "import xml.etree.ElementTree as ET\n",
    "mytree = ET.parse('data/2022/1000015_T.xml')\n",
    "myroot = mytree.getroot()"
   ]
  },
  {
   "cell_type": "code",
   "execution_count": 11,
   "metadata": {},
   "outputs": [
    {
     "data": {
      "text/plain": [
       "{'Id': '1000015',\n",
       " 'lastUpdate': 'Tuesday, May 3, 2022 at 2:53:00pm GMT',\n",
       " 'eventTypeId': '1',\n",
       " 'eventTypeName': 'Earning Conference Call/Presentation'}"
      ]
     },
     "execution_count": 11,
     "metadata": {},
     "output_type": "execute_result"
    }
   ],
   "source": [
    "## attributes\n",
    "myroot.attrib"
   ]
  },
  {
   "cell_type": "code",
   "execution_count": 33,
   "metadata": {},
   "outputs": [
    {
     "data": {
      "text/plain": [
       "'21-Jul-05 2:30pm GMT'"
      ]
     },
     "execution_count": 33,
     "metadata": {},
     "output_type": "execute_result"
    }
   ],
   "source": [
    "myroot.findall('startDate')[0].text"
   ]
  },
  {
   "cell_type": "code",
   "execution_count": 31,
   "metadata": {},
   "outputs": [
    {
     "name": "stdout",
     "output_type": "stream",
     "text": [
      "Q2 2005 Chittenden Earnings Conference Call\n",
      "21-Jul-05 2:30pm GMT\n",
      "People's United Financial Inc\n",
      "PBCT.OQ^D22\n",
      "BUFFALO\n"
     ]
    }
   ],
   "source": [
    "print(\n",
    "myroot.findall('eventTitle')[0].text,\n",
    "myroot.findall('startDate')[0].text,\n",
    "myroot.findall('companyName')[0].text,\n",
    "myroot.findall('companyTicker')[0].text,\n",
    "myroot.findall('city')[0].text,\n",
    "sep=\"\\n\")"
   ]
  }
 ],
 "metadata": {
  "kernelspec": {
   "display_name": "earningscalls",
   "language": "python",
   "name": "python3"
  },
  "language_info": {
   "codemirror_mode": {
    "name": "ipython",
    "version": 3
   },
   "file_extension": ".py",
   "mimetype": "text/x-python",
   "name": "python",
   "nbconvert_exporter": "python",
   "pygments_lexer": "ipython3",
   "version": "3.11.3"
  },
  "orig_nbformat": 4
 },
 "nbformat": 4,
 "nbformat_minor": 2
}
